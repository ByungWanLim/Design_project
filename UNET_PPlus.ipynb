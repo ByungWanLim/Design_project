{
 "cells": [
  {
   "attachments": {},
   "cell_type": "markdown",
   "id": "d73d24e3-5c9e-4ade-9e6e-ca6f46a2d914",
   "metadata": {},
   "source": [
    "## Import"
   ]
  },
  {
   "cell_type": "code",
   "execution_count": 1,
   "id": "ad9b681e-370a-4cfa-a452-dd2d7f0cd77f",
   "metadata": {},
   "outputs": [],
   "source": [
    "import os\n",
    "import cv2\n",
    "from PIL import Image\n",
    "import pandas as pd\n",
    "import numpy as np\n",
    "\n",
    "import torch\n",
    "import torch.nn as nn\n",
    "import torch.nn.functional as F\n",
    "from torch.utils.data import Dataset, DataLoader\n",
    "from torchvision import transforms\n",
    "\n",
    "from tqdm import tqdm\n",
    "import albumentations as A\n",
    "from albumentations.pytorch import ToTensorV2\n",
    "\n",
    "from torchvision import models\n",
    "from torchsummary import summary\n",
    "\n",
    "import wandb\n",
    "import random\n"
   ]
  },
  {
   "cell_type": "code",
   "execution_count": 2,
   "id": "6b60b02a",
   "metadata": {},
   "outputs": [
    {
     "name": "stdout",
     "output_type": "stream",
     "text": [
      "cuda\n",
      "2\n"
     ]
    }
   ],
   "source": [
    "# GPU 사용이 가능할 경우, GPU를 사용할 수 있게 함.'\n",
    "os.environ['CUDA_VISIBLE_DEVICES'] = '2'\n",
    "device = \"cuda\" if torch.cuda.is_available() else \"cpu\"\n",
    "device = torch.device(device)\n",
    "print(device)\n",
    "\n",
    "print(os.environ.get('CUDA_VISIBLE_DEVICES'))"
   ]
  },
  {
   "attachments": {},
   "cell_type": "markdown",
   "id": "20ff3de5-0d0e-497b-ac75-d5179a3f65d3",
   "metadata": {},
   "source": [
    "## Utils"
   ]
  },
  {
   "cell_type": "code",
   "execution_count": 3,
   "id": "838e1d83-8670-407b-82f6-bf9652f58639",
   "metadata": {},
   "outputs": [],
   "source": [
    "# RLE 인코딩 함수\n",
    "def rle_encode(mask):\n",
    "    pixels = mask.flatten()\n",
    "    pixels = np.concatenate([[0], pixels, [0]])\n",
    "    runs = np.where(pixels[1:] != pixels[:-1])[0] + 1\n",
    "    runs[1::2] -= runs[::2]\n",
    "    return ' '.join(str(x) for x in runs)"
   ]
  },
  {
   "attachments": {},
   "cell_type": "markdown",
   "id": "be76a29e-e9c2-411a-a569-04166f074184",
   "metadata": {},
   "source": [
    "## Custom Dataset"
   ]
  },
  {
   "cell_type": "code",
   "execution_count": 4,
   "id": "a8496767-2f64-4285-bec4-c6f53a1fd9d2",
   "metadata": {},
   "outputs": [],
   "source": [
    "class CustomDataset(Dataset):\n",
    "    def __init__(self, csv_file, transform=None, infer=False):\n",
    "        self.data = pd.read_csv(csv_file)\n",
    "        self.transform = transform\n",
    "        self.infer = infer\n",
    "\n",
    "    def __len__(self):\n",
    "        return len(self.data)\n",
    "\n",
    "    def __getitem__(self, idx):\n",
    "        #directory_path = \"/mnt/nas27/Dataset/Samsung_DM\"\n",
    "        img_path = self.data.iloc[idx, 1]\n",
    "        #img_path = os.path.join(directory_path, img_path[2:])\n",
    "        image = cv2.imread(img_path)\n",
    "        image = cv2.cvtColor(image, cv2.COLOR_BGR2RGB)\n",
    "        \n",
    "        if self.infer:\n",
    "            if self.transform:\n",
    "                image = self.transform(image=image)['image']\n",
    "            return image\n",
    "        \n",
    "        mask_path = self.data.iloc[idx, 2]\n",
    "        #mask_path = os.path.join(directory_path, mask_path[2:])\n",
    "        mask = cv2.imread(mask_path, cv2.IMREAD_GRAYSCALE)\n",
    "        mask[mask == 255] = 12 #배경을 픽셀값 12로 간주\n",
    "\n",
    "        if self.transform:\n",
    "            augmented = self.transform(image=image, mask=mask)\n",
    "            image = augmented['image']\n",
    "            mask = augmented['mask']\n",
    "\n",
    "        return image, mask"
   ]
  },
  {
   "attachments": {},
   "cell_type": "markdown",
   "id": "dc955893-22fd-4320-88be-7aa0d790cbd9",
   "metadata": {},
   "source": [
    "## Data Loader"
   ]
  },
  {
   "cell_type": "code",
   "execution_count": 5,
   "id": "1b708503-2ff9-4584-9d73-40990b3572f8",
   "metadata": {},
   "outputs": [],
   "source": [
    "transform = A.Compose(\n",
    "    [   \n",
    "        A.Resize(128, 128),\n",
    "        A.Normalize(),\n",
    "        ToTensorV2()\n",
    "    ]\n",
    ")\n",
    "\n",
    "# samsung label 변경한 걸로 수행\n",
    "source_dataset = CustomDataset(csv_file=\"/mnt/nas27/Dataset/2023_design_project_2/samsung/train_source_CL.csv\", transform=transform)\n",
    "source_dataloader = DataLoader(source_dataset, batch_size=64, shuffle=True, num_workers=4)\n",
    "\n",
    "unlabeled_dataset = CustomDataset(csv_file=\"/mnt/nas27/Dataset/2023_design_project_2/samsung/val_source_Pseudo_DM.csv\", transform=transform)\n",
    "unlabeled_loader = DataLoader(unlabeled_dataset, batch_size=8, shuffle=True, num_workers=4)\n",
    "\n",
    "valid_dataset = CustomDataset(csv_file=\"/mnt/nas27/Dataset/2023_design_project_2/samsung/val_source_CL.csv\", transform=transform)\n",
    "valid_dataloader = DataLoader(valid_dataset, batch_size=64, shuffle=False, num_workers=4)\n"
   ]
  },
  {
   "cell_type": "code",
   "execution_count": 6,
   "id": "1bd5cb94",
   "metadata": {},
   "outputs": [],
   "source": [
    "# for images, masks in tqdm(source_dataloader):\n",
    "#     print(masks[0].dtype)\n",
    "#     print(masks.dtype)"
   ]
  },
  {
   "cell_type": "code",
   "execution_count": 7,
   "id": "1096fe5e",
   "metadata": {},
   "outputs": [],
   "source": [
    "# 클래스(레이블) 수\n",
    "num_classes = 13\n",
    "\n",
    "# 클래스별 IoU를 계산하기 위한 함수\n",
    "def calculate_iou_per_class(y_true, y_pred, class_id):\n",
    "    intersection = np.sum((y_true == class_id) & (y_pred == class_id))\n",
    "    union = np.sum((y_true == class_id) | (y_pred == class_id))\n",
    "    iou = intersection / union if union > 0 else 0\n",
    "    return iou"
   ]
  },
  {
   "attachments": {},
   "cell_type": "markdown",
   "id": "f42501fc-b573-4893-a7c4-5e280dfdaf09",
   "metadata": {},
   "source": [
    "## Define Model"
   ]
  },
  {
   "cell_type": "code",
   "execution_count": 8,
   "id": "65960bfb-803a-4c40-b713-6f647779e4ea",
   "metadata": {},
   "outputs": [],
   "source": [
    "import os\n",
    "import cv2\n",
    "from collections import OrderedDict\n",
    "from glob import glob\n",
    "import numpy as np\n",
    "import pandas as pd\n",
    "import seaborn as sns\n",
    "import matplotlib.pyplot as plt\n",
    "import torch\n",
    "import torch.backends.cudnn as cudnn\n",
    "import torch.nn as nn\n",
    "import torch.optim as optim\n",
    "import yaml\n",
    "from albumentations.augmentations import transforms\n",
    "from albumentations.core.composition import Compose, OneOf\n",
    "from sklearn.model_selection import train_test_split\n",
    "from torch.optim import lr_scheduler\n",
    "from torch.utils.data import DataLoader\n",
    "from tqdm import tqdm\n",
    "from init_weights import init_weights\n",
    "from data_loader import Nuclie_dataset\n",
    "from utils import BCEDiceLoss, AverageMeter, count_params, iou_score\n",
    "\n",
    "\n",
    "class Unet_block(nn.Module):\n",
    "    def __init__(self, in_channels, mid_channels, out_channels):\n",
    "        super().__init__()\n",
    "        self.conv1 = nn.Conv2d(in_channels, mid_channels, kernel_size=3, stride=1, padding=1)\n",
    "        self.bn1 = nn.BatchNorm2d(mid_channels)\n",
    "        self.conv2 = nn.Conv2d(mid_channels, out_channels, kernel_size=3, stride=1, padding=1)\n",
    "        self.bn2 = nn.BatchNorm2d(out_channels)        \n",
    "        self.relu = nn.ReLU(inplace=True)\n",
    "\n",
    "    def forward(self, x):\n",
    "        out = self.conv1(x)\n",
    "        out = self.bn1(out)\n",
    "        out = self.relu(out)\n",
    "\n",
    "        out = self.conv2(out)\n",
    "        out = self.bn2(out)\n",
    "        out = self.relu(out)\n",
    "        return out\n",
    "\n",
    "\n",
    "class Nested_UNet(nn.Module):\n",
    "    def __init__(self, num_classes, input_channels=3, deep_supervision=False):\n",
    "        super().__init__()\n",
    "\n",
    "        num_filter = [32, 64, 128, 256, 512]\n",
    "        self.deep_supervision = deep_supervision\n",
    "        self.pool = nn.MaxPool2d(kernel_size=2, stride=2)\n",
    "        self.up = nn.Upsample(scale_factor=2, mode='bilinear', align_corners=True)\n",
    "        \n",
    "        # DownSampling\n",
    "        self.conv0_0 = Unet_block(input_channels, num_filter[0], num_filter[0])\n",
    "        self.conv1_0 = Unet_block(num_filter[0], num_filter[1], num_filter[1])\n",
    "        self.conv2_0 = Unet_block(num_filter[1], num_filter[2], num_filter[2])\n",
    "        self.conv3_0 = Unet_block(num_filter[2], num_filter[3], num_filter[3])\n",
    "        self.conv4_0 = Unet_block(num_filter[3], num_filter[4], num_filter[4])\n",
    "\n",
    "        # Upsampling & Dense skip\n",
    "        # N to 1 skip\n",
    "        self.conv0_1 = Unet_block(num_filter[0] + num_filter[1], num_filter[0], num_filter[0])\n",
    "        self.conv1_1 = Unet_block(num_filter[1] + num_filter[2], num_filter[1], num_filter[1])\n",
    "        self.conv2_1 = Unet_block(num_filter[2] + num_filter[3], num_filter[2], num_filter[2])\n",
    "        self.conv3_1 = Unet_block(num_filter[3] + num_filter[4], num_filter[3], num_filter[3])\n",
    "       \n",
    "        # N to 2 skip\n",
    "        self.conv0_2 = Unet_block(num_filter[0]*2 + num_filter[1], num_filter[0], num_filter[0])\n",
    "        self.conv1_2 = Unet_block(num_filter[1]*2 + num_filter[2], num_filter[1], num_filter[1])\n",
    "        self.conv2_2 = Unet_block(num_filter[2]*2 + num_filter[3], num_filter[2], num_filter[2])\n",
    "\n",
    "        # N to 3 skip\n",
    "        self.conv0_3 = Unet_block(num_filter[0]*3 + num_filter[1], num_filter[0], num_filter[0])\n",
    "        self.conv1_3 = Unet_block(num_filter[1]*3 + num_filter[2], num_filter[1], num_filter[1])\n",
    "\n",
    "        # N to 4 skip\n",
    "        self.conv0_4 = Unet_block(num_filter[0]*4 + num_filter[1], num_filter[0], num_filter[0])\n",
    "\n",
    "        if self.deep_supervision:\n",
    "            self.output1 = nn.Conv2d(num_filter[0], num_classes, kernel_size=1)\n",
    "            self.output2 = nn.Conv2d(num_filter[0], num_classes, kernel_size=1)\n",
    "            self.output3 = nn.Conv2d(num_filter[0], num_classes, kernel_size=1)\n",
    "            self.output4 = nn.Conv2d(num_filter[0], num_classes, kernel_size=1)\n",
    "\n",
    "        else:\n",
    "            self.output = nn.Conv2d(num_filter[0], num_classes, kernel_size=1)\n",
    "\n",
    "        # initialise weights\n",
    "        for m in self.modules():\n",
    "            if isinstance(m, nn.Conv2d):\n",
    "                init_weights(m, init_type='kaiming')\n",
    "            elif isinstance(m, nn.BatchNorm2d):\n",
    "                init_weights(m, init_type='kaiming')\n",
    "\n",
    "    def forward(self, x):                    # (Batch, 3, 256, 256)\n",
    "\n",
    "        x0_0 = self.conv0_0(x)               \n",
    "        x1_0 = self.conv1_0(self.pool(x0_0))\n",
    "        x0_1 = self.conv0_1(torch.cat([x0_0, self.up(x1_0)], dim=1))\n",
    "        \n",
    "        x2_0 = self.conv2_0(self.pool(x1_0))\n",
    "        x1_1 = self.conv1_1(torch.cat([x1_0, self.up(x2_0)], dim=1))\n",
    "        x0_2 = self.conv0_2(torch.cat([x0_0, x0_1, self.up(x1_1)], dim=1))\n",
    "\n",
    "        x3_0 = self.conv3_0(self.pool(x2_0))\n",
    "        x2_1 = self.conv2_1(torch.cat([x2_0, self.up(x3_0)], dim=1))\n",
    "        x1_2 = self.conv1_2(torch.cat([x1_0, x1_1, self.up(x2_1)], dim=1))\n",
    "        x0_3 = self.conv0_3(torch.cat([x0_0, x0_1, x0_2, self.up(x1_2)], dim=1))\n",
    "\n",
    "        x4_0 = self.conv4_0(self.pool(x3_0))\n",
    "        x3_1 = self.conv3_1(torch.cat([x3_0, self.up(x4_0)], dim=1))\n",
    "        x2_2 = self.conv2_2(torch.cat([x2_0, x2_1, self.up(x3_1)], dim=1))\n",
    "        x1_3 = self.conv1_3(torch.cat([x1_0, x1_1, x1_2, self.up(x2_2)], dim=1))\n",
    "        x0_4 = self.conv0_4(torch.cat([x0_0, x0_1, x0_2, x0_3, self.up(x1_3)], dim=1))\n",
    "\n",
    "        if self.deep_supervision:\n",
    "            output1 = self.output1(x0_1)\n",
    "            output2 = self.output2(x0_2)\n",
    "            output3 = self.output3(x0_3)\n",
    "            output4 = self.output4(x0_4)\n",
    "            output = (output1 + output2 + output3 + output4) / 4\n",
    "        else:\n",
    "            output = self.output(x0_4)\n",
    "\n",
    "        return output"
   ]
  },
  {
   "cell_type": "code",
   "execution_count": 9,
   "metadata": {},
   "outputs": [
    {
     "name": "stdout",
     "output_type": "stream",
     "text": [
      "----------------------------------------------------------------\n",
      "        Layer (type)               Output Shape         Param #\n",
      "================================================================\n",
      "            Conv2d-1         [16, 32, 256, 256]             896\n",
      "       BatchNorm2d-2         [16, 32, 256, 256]              64\n",
      "              ReLU-3         [16, 32, 256, 256]               0\n",
      "            Conv2d-4         [16, 32, 256, 256]           9,248\n",
      "       BatchNorm2d-5         [16, 32, 256, 256]              64\n",
      "              ReLU-6         [16, 32, 256, 256]               0\n",
      "        Unet_block-7         [16, 32, 256, 256]               0\n",
      "         MaxPool2d-8         [16, 32, 128, 128]               0\n",
      "            Conv2d-9         [16, 64, 128, 128]          18,496\n",
      "      BatchNorm2d-10         [16, 64, 128, 128]             128\n",
      "             ReLU-11         [16, 64, 128, 128]               0\n",
      "           Conv2d-12         [16, 64, 128, 128]          36,928\n",
      "      BatchNorm2d-13         [16, 64, 128, 128]             128\n",
      "             ReLU-14         [16, 64, 128, 128]               0\n",
      "       Unet_block-15         [16, 64, 128, 128]               0\n",
      "         Upsample-16         [16, 64, 256, 256]               0\n",
      "           Conv2d-17         [16, 32, 256, 256]          27,680\n",
      "      BatchNorm2d-18         [16, 32, 256, 256]              64\n",
      "             ReLU-19         [16, 32, 256, 256]               0\n",
      "           Conv2d-20         [16, 32, 256, 256]           9,248\n",
      "      BatchNorm2d-21         [16, 32, 256, 256]              64\n",
      "             ReLU-22         [16, 32, 256, 256]               0\n",
      "       Unet_block-23         [16, 32, 256, 256]               0\n",
      "        MaxPool2d-24           [16, 64, 64, 64]               0\n",
      "           Conv2d-25          [16, 128, 64, 64]          73,856\n",
      "      BatchNorm2d-26          [16, 128, 64, 64]             256\n",
      "             ReLU-27          [16, 128, 64, 64]               0\n",
      "           Conv2d-28          [16, 128, 64, 64]         147,584\n",
      "      BatchNorm2d-29          [16, 128, 64, 64]             256\n",
      "             ReLU-30          [16, 128, 64, 64]               0\n",
      "       Unet_block-31          [16, 128, 64, 64]               0\n",
      "         Upsample-32        [16, 128, 128, 128]               0\n",
      "           Conv2d-33         [16, 64, 128, 128]         110,656\n",
      "      BatchNorm2d-34         [16, 64, 128, 128]             128\n",
      "             ReLU-35         [16, 64, 128, 128]               0\n",
      "           Conv2d-36         [16, 64, 128, 128]          36,928\n",
      "      BatchNorm2d-37         [16, 64, 128, 128]             128\n",
      "             ReLU-38         [16, 64, 128, 128]               0\n",
      "       Unet_block-39         [16, 64, 128, 128]               0\n",
      "         Upsample-40         [16, 64, 256, 256]               0\n",
      "           Conv2d-41         [16, 32, 256, 256]          36,896\n",
      "      BatchNorm2d-42         [16, 32, 256, 256]              64\n",
      "             ReLU-43         [16, 32, 256, 256]               0\n",
      "           Conv2d-44         [16, 32, 256, 256]           9,248\n",
      "      BatchNorm2d-45         [16, 32, 256, 256]              64\n",
      "             ReLU-46         [16, 32, 256, 256]               0\n",
      "       Unet_block-47         [16, 32, 256, 256]               0\n",
      "        MaxPool2d-48          [16, 128, 32, 32]               0\n",
      "           Conv2d-49          [16, 256, 32, 32]         295,168\n",
      "      BatchNorm2d-50          [16, 256, 32, 32]             512\n",
      "             ReLU-51          [16, 256, 32, 32]               0\n",
      "           Conv2d-52          [16, 256, 32, 32]         590,080\n",
      "      BatchNorm2d-53          [16, 256, 32, 32]             512\n",
      "             ReLU-54          [16, 256, 32, 32]               0\n",
      "       Unet_block-55          [16, 256, 32, 32]               0\n",
      "         Upsample-56          [16, 256, 64, 64]               0\n",
      "           Conv2d-57          [16, 128, 64, 64]         442,496\n",
      "      BatchNorm2d-58          [16, 128, 64, 64]             256\n",
      "             ReLU-59          [16, 128, 64, 64]               0\n",
      "           Conv2d-60          [16, 128, 64, 64]         147,584\n",
      "      BatchNorm2d-61          [16, 128, 64, 64]             256\n",
      "             ReLU-62          [16, 128, 64, 64]               0\n",
      "       Unet_block-63          [16, 128, 64, 64]               0\n",
      "         Upsample-64        [16, 128, 128, 128]               0\n",
      "           Conv2d-65         [16, 64, 128, 128]         147,520\n",
      "      BatchNorm2d-66         [16, 64, 128, 128]             128\n",
      "             ReLU-67         [16, 64, 128, 128]               0\n",
      "           Conv2d-68         [16, 64, 128, 128]          36,928\n",
      "      BatchNorm2d-69         [16, 64, 128, 128]             128\n",
      "             ReLU-70         [16, 64, 128, 128]               0\n",
      "       Unet_block-71         [16, 64, 128, 128]               0\n",
      "         Upsample-72         [16, 64, 256, 256]               0\n",
      "           Conv2d-73         [16, 32, 256, 256]          46,112\n",
      "      BatchNorm2d-74         [16, 32, 256, 256]              64\n",
      "             ReLU-75         [16, 32, 256, 256]               0\n",
      "           Conv2d-76         [16, 32, 256, 256]           9,248\n",
      "      BatchNorm2d-77         [16, 32, 256, 256]              64\n",
      "             ReLU-78         [16, 32, 256, 256]               0\n",
      "       Unet_block-79         [16, 32, 256, 256]               0\n",
      "        MaxPool2d-80          [16, 256, 16, 16]               0\n",
      "           Conv2d-81          [16, 512, 16, 16]       1,180,160\n",
      "      BatchNorm2d-82          [16, 512, 16, 16]           1,024\n",
      "             ReLU-83          [16, 512, 16, 16]               0\n",
      "           Conv2d-84          [16, 512, 16, 16]       2,359,808\n",
      "      BatchNorm2d-85          [16, 512, 16, 16]           1,024\n",
      "             ReLU-86          [16, 512, 16, 16]               0\n",
      "       Unet_block-87          [16, 512, 16, 16]               0\n",
      "         Upsample-88          [16, 512, 32, 32]               0\n",
      "           Conv2d-89          [16, 256, 32, 32]       1,769,728\n",
      "      BatchNorm2d-90          [16, 256, 32, 32]             512\n",
      "             ReLU-91          [16, 256, 32, 32]               0\n",
      "           Conv2d-92          [16, 256, 32, 32]         590,080\n",
      "      BatchNorm2d-93          [16, 256, 32, 32]             512\n",
      "             ReLU-94          [16, 256, 32, 32]               0\n",
      "       Unet_block-95          [16, 256, 32, 32]               0\n",
      "         Upsample-96          [16, 256, 64, 64]               0\n",
      "           Conv2d-97          [16, 128, 64, 64]         589,952\n",
      "      BatchNorm2d-98          [16, 128, 64, 64]             256\n",
      "             ReLU-99          [16, 128, 64, 64]               0\n",
      "          Conv2d-100          [16, 128, 64, 64]         147,584\n",
      "     BatchNorm2d-101          [16, 128, 64, 64]             256\n",
      "            ReLU-102          [16, 128, 64, 64]               0\n",
      "      Unet_block-103          [16, 128, 64, 64]               0\n",
      "        Upsample-104        [16, 128, 128, 128]               0\n",
      "          Conv2d-105         [16, 64, 128, 128]         184,384\n",
      "     BatchNorm2d-106         [16, 64, 128, 128]             128\n",
      "            ReLU-107         [16, 64, 128, 128]               0\n",
      "          Conv2d-108         [16, 64, 128, 128]          36,928\n",
      "     BatchNorm2d-109         [16, 64, 128, 128]             128\n",
      "            ReLU-110         [16, 64, 128, 128]               0\n",
      "      Unet_block-111         [16, 64, 128, 128]               0\n",
      "        Upsample-112         [16, 64, 256, 256]               0\n",
      "          Conv2d-113         [16, 32, 256, 256]          55,328\n",
      "     BatchNorm2d-114         [16, 32, 256, 256]              64\n",
      "            ReLU-115         [16, 32, 256, 256]               0\n",
      "          Conv2d-116         [16, 32, 256, 256]           9,248\n",
      "     BatchNorm2d-117         [16, 32, 256, 256]              64\n",
      "            ReLU-118         [16, 32, 256, 256]               0\n",
      "      Unet_block-119         [16, 32, 256, 256]               0\n",
      "          Conv2d-120         [16, 13, 256, 256]             429\n",
      "================================================================\n",
      "Total params: 9,163,725\n",
      "Trainable params: 9,163,725\n",
      "Non-trainable params: 0\n",
      "----------------------------------------------------------------\n",
      "Input size (MB): 12.00\n",
      "Forward/backward pass size (MB): 17808.00\n",
      "Params size (MB): 34.96\n",
      "Estimated Total Size (MB): 17854.96\n",
      "----------------------------------------------------------------\n"
     ]
    }
   ],
   "source": [
    "# 모델 생성\n",
    "model = Nested_UNet(num_classes=13, input_channels=3, deep_supervision=False).to(device)\n",
    "\n",
    "# 입력 이미지의 크기를 지정합니다.\n",
    "input_size = (3, 256, 256)  # 예시 입력 이미지 크기\n",
    "\n",
    "# 모델의 구조를 출력합니다.\n",
    "summary(model, input_size=input_size, batch_size=16, device=str(device).lower())  "
   ]
  },
  {
   "cell_type": "code",
   "execution_count": 10,
   "id": "dd34483e",
   "metadata": {},
   "outputs": [],
   "source": [
    "# loss function과 optimizer 정의\n",
    "criterion = torch.nn.CrossEntropyLoss()\n",
    "optimizer = torch.optim.Adam(model.parameters(), lr=0.001)\n"
   ]
  },
  {
   "cell_type": "code",
   "execution_count": 11,
   "id": "0fcd5664",
   "metadata": {},
   "outputs": [
    {
     "name": "stdout",
     "output_type": "stream",
     "text": [
      "torch.Size([1, 3, 256, 256])\n",
      "torch.Size([1, 13, 256, 256])\n"
     ]
    }
   ],
   "source": [
    "dummy_input = torch.randn(1, 3, 256, 256)\n",
    "dummy_input = dummy_input.float().to(device)\n",
    "print(dummy_input.shape)\n",
    "output = model(dummy_input)\n",
    "print(output.shape)  # 결과 확인\n"
   ]
  },
  {
   "cell_type": "code",
   "execution_count": 12,
   "metadata": {},
   "outputs": [],
   "source": [
    "save_directory = \"./weight/\"\n",
    "best_val_mIoU = 0\n",
    "project_name = \"231108_pseudo_loop\"\n",
    "\n",
    "\n",
    "ALPHA = 0\n",
    "ALPHA_t = 0.0001\n",
    "\n",
    "T1 = 5\n",
    "T2 = 10"
   ]
  },
  {
   "cell_type": "code",
   "execution_count": 13,
   "metadata": {},
   "outputs": [
    {
     "name": "stderr",
     "output_type": "stream",
     "text": [
      "Failed to detect the name of this notebook, you can set it manually with the WANDB_NOTEBOOK_NAME environment variable to enable code saving.\n",
      "\u001b[34m\u001b[1mwandb\u001b[0m: Currently logged in as: \u001b[33mdibidimi\u001b[0m. Use \u001b[1m`wandb login --relogin`\u001b[0m to force relogin\n"
     ]
    },
    {
     "data": {
      "text/html": [
       "wandb version 0.16.0 is available!  To upgrade, please run:\n",
       " $ pip install wandb --upgrade"
      ],
      "text/plain": [
       "<IPython.core.display.HTML object>"
      ]
     },
     "metadata": {},
     "output_type": "display_data"
    },
    {
     "data": {
      "text/html": [
       "Tracking run with wandb version 0.15.10"
      ],
      "text/plain": [
       "<IPython.core.display.HTML object>"
      ]
     },
     "metadata": {},
     "output_type": "display_data"
    },
    {
     "data": {
      "text/html": [
       "Run data is saved locally in <code>/home/MMI24kodami/DesignProject/DaCon/wandb/run-20231108_173944-s59pmi4d</code>"
      ],
      "text/plain": [
       "<IPython.core.display.HTML object>"
      ]
     },
     "metadata": {},
     "output_type": "display_data"
    },
    {
     "data": {
      "text/html": [
       "Syncing run <strong><a href='https://wandb.ai/dibidimi/231108_pseudo_loop/runs/s59pmi4d' target=\"_blank\">pretty-snow-5</a></strong> to <a href='https://wandb.ai/dibidimi/231108_pseudo_loop' target=\"_blank\">Weights & Biases</a> (<a href='https://wandb.me/run' target=\"_blank\">docs</a>)<br/>"
      ],
      "text/plain": [
       "<IPython.core.display.HTML object>"
      ]
     },
     "metadata": {},
     "output_type": "display_data"
    },
    {
     "data": {
      "text/html": [
       " View project at <a href='https://wandb.ai/dibidimi/231108_pseudo_loop' target=\"_blank\">https://wandb.ai/dibidimi/231108_pseudo_loop</a>"
      ],
      "text/plain": [
       "<IPython.core.display.HTML object>"
      ]
     },
     "metadata": {},
     "output_type": "display_data"
    },
    {
     "data": {
      "text/html": [
       " View run at <a href='https://wandb.ai/dibidimi/231108_pseudo_loop/runs/s59pmi4d' target=\"_blank\">https://wandb.ai/dibidimi/231108_pseudo_loop/runs/s59pmi4d</a>"
      ],
      "text/plain": [
       "<IPython.core.display.HTML object>"
      ]
     },
     "metadata": {},
     "output_type": "display_data"
    },
    {
     "name": "stderr",
     "output_type": "stream",
     "text": [
      "69it [01:02,  1.11it/s]\n"
     ]
    },
    {
     "name": "stdout",
     "output_type": "stream",
     "text": [
      "Class 0 IoU: 0.1547\n",
      "Class 1 IoU: 0.2297\n",
      "Class 2 IoU: 0.3037\n",
      "Class 3 IoU: 0.3336\n",
      "Class 4 IoU: 0.3287\n",
      "Class 5 IoU: 0.3524\n",
      "Class 6 IoU: 0.3610\n",
      "Class 7 IoU: 0.3411\n",
      "Class 8 IoU: 0.3618\n",
      "Class 9 IoU: 0.3613\n",
      "Class 10 IoU: 0.3717\n",
      "Class 11 IoU: 0.3735\n",
      "Class 12 IoU: 0.3838\n"
     ]
    },
    {
     "name": "stderr",
     "output_type": "stream",
     "text": [
      "100%|██████████| 15/15 [00:13<00:00,  1.15it/s]\n"
     ]
    },
    {
     "name": "stdout",
     "output_type": "stream",
     "text": [
      "Class 0 IoU: 0.3973\n",
      "Class 1 IoU: 0.3111\n",
      "Class 2 IoU: 0.2865\n",
      "Class 3 IoU: 0.2866\n",
      "Class 4 IoU: 0.3916\n",
      "Class 5 IoU: 0.2934\n",
      "Class 6 IoU: 0.3889\n",
      "Class 7 IoU: 0.3217\n",
      "Class 8 IoU: 0.3223\n",
      "Class 9 IoU: 0.2779\n",
      "Class 10 IoU: 0.3240\n",
      "Class 11 IoU: 0.3489\n",
      "Class 12 IoU: 0.3256\n",
      "saved weights\n",
      "\n",
      "Epoch1\n",
      "Train Loss: 0.8138635551583939, Train mIoU Score: 0.3275\n",
      "Validation Loss: 0.6501286824544271, Validation mIoU Score: 0.3289\n",
      "___________________________________________________________________________________________\n",
      "\n"
     ]
    },
    {
     "name": "stderr",
     "output_type": "stream",
     "text": [
      "69it [01:02,  1.11it/s]\n"
     ]
    },
    {
     "name": "stdout",
     "output_type": "stream",
     "text": [
      "Class 0 IoU: 0.4362\n",
      "Class 1 IoU: 0.4084\n",
      "Class 2 IoU: 0.4230\n",
      "Class 3 IoU: 0.4506\n",
      "Class 4 IoU: 0.4248\n",
      "Class 5 IoU: 0.4295\n",
      "Class 6 IoU: 0.4540\n",
      "Class 7 IoU: 0.4506\n",
      "Class 8 IoU: 0.4600\n",
      "Class 9 IoU: 0.4695\n",
      "Class 10 IoU: 0.4825\n",
      "Class 11 IoU: 0.4547\n",
      "Class 12 IoU: 0.4535\n"
     ]
    },
    {
     "name": "stderr",
     "output_type": "stream",
     "text": [
      "100%|██████████| 15/15 [00:12<00:00,  1.17it/s]\n"
     ]
    },
    {
     "name": "stdout",
     "output_type": "stream",
     "text": [
      "Class 0 IoU: 0.4298\n",
      "Class 1 IoU: 0.3646\n",
      "Class 2 IoU: 0.3408\n",
      "Class 3 IoU: 0.3512\n",
      "Class 4 IoU: 0.4152\n",
      "Class 5 IoU: 0.3428\n",
      "Class 6 IoU: 0.4423\n",
      "Class 7 IoU: 0.3604\n",
      "Class 8 IoU: 0.3446\n",
      "Class 9 IoU: 0.3263\n",
      "Class 10 IoU: 0.3500\n",
      "Class 11 IoU: 0.3777\n",
      "Class 12 IoU: 0.3644\n",
      "saved weights\n",
      "\n",
      "Epoch2\n",
      "Train Loss: 0.41659670593082043, Train mIoU Score: 0.4459\n",
      "Validation Loss: 0.5300138096014658, Validation mIoU Score: 0.3700\n",
      "___________________________________________________________________________________________\n",
      "\n"
     ]
    },
    {
     "name": "stderr",
     "output_type": "stream",
     "text": [
      "69it [01:02,  1.11it/s]\n"
     ]
    },
    {
     "name": "stdout",
     "output_type": "stream",
     "text": [
      "Class 0 IoU: 0.4829\n",
      "Class 1 IoU: 0.4723\n",
      "Class 2 IoU: 0.4852\n",
      "Class 3 IoU: 0.4881\n",
      "Class 4 IoU: 0.4911\n",
      "Class 5 IoU: 0.4884\n",
      "Class 6 IoU: 0.5076\n",
      "Class 7 IoU: 0.5042\n",
      "Class 8 IoU: 0.5034\n",
      "Class 9 IoU: 0.5082\n",
      "Class 10 IoU: 0.5235\n",
      "Class 11 IoU: 0.4954\n",
      "Class 12 IoU: 0.5131\n"
     ]
    },
    {
     "name": "stderr",
     "output_type": "stream",
     "text": [
      "100%|██████████| 15/15 [00:12<00:00,  1.18it/s]\n"
     ]
    },
    {
     "name": "stdout",
     "output_type": "stream",
     "text": [
      "Class 0 IoU: 0.4657\n",
      "Class 1 IoU: 0.3821\n",
      "Class 2 IoU: 0.3574\n",
      "Class 3 IoU: 0.3797\n",
      "Class 4 IoU: 0.4450\n",
      "Class 5 IoU: 0.3477\n",
      "Class 6 IoU: 0.4671\n",
      "Class 7 IoU: 0.4064\n",
      "Class 8 IoU: 0.3856\n",
      "Class 9 IoU: 0.3494\n",
      "Class 10 IoU: 0.3924\n",
      "Class 11 IoU: 0.4008\n",
      "Class 12 IoU: 0.4040\n",
      "saved weights\n",
      "\n",
      "Epoch3\n",
      "Train Loss: 0.32772469477377075, Train mIoU Score: 0.4972\n",
      "Validation Loss: 0.4919884105523427, Validation mIoU Score: 0.3987\n",
      "___________________________________________________________________________________________\n",
      "\n"
     ]
    },
    {
     "name": "stderr",
     "output_type": "stream",
     "text": [
      "69it [01:02,  1.11it/s]\n"
     ]
    },
    {
     "name": "stdout",
     "output_type": "stream",
     "text": [
      "Class 0 IoU: 0.5231\n",
      "Class 1 IoU: 0.5172\n",
      "Class 2 IoU: 0.5251\n",
      "Class 3 IoU: 0.5482\n",
      "Class 4 IoU: 0.5334\n",
      "Class 5 IoU: 0.5218\n",
      "Class 6 IoU: 0.5462\n",
      "Class 7 IoU: 0.5224\n",
      "Class 8 IoU: 0.5524\n",
      "Class 9 IoU: 0.5295\n",
      "Class 10 IoU: 0.5615\n",
      "Class 11 IoU: 0.5227\n",
      "Class 12 IoU: 0.5539\n"
     ]
    },
    {
     "name": "stderr",
     "output_type": "stream",
     "text": [
      "100%|██████████| 15/15 [00:12<00:00,  1.17it/s]\n"
     ]
    },
    {
     "name": "stdout",
     "output_type": "stream",
     "text": [
      "Class 0 IoU: 0.4610\n",
      "Class 1 IoU: 0.3926\n",
      "Class 2 IoU: 0.3740\n",
      "Class 3 IoU: 0.3602\n",
      "Class 4 IoU: 0.4552\n",
      "Class 5 IoU: 0.3558\n",
      "Class 6 IoU: 0.4699\n",
      "Class 7 IoU: 0.3940\n",
      "Class 8 IoU: 0.3805\n",
      "Class 9 IoU: 0.3538\n",
      "Class 10 IoU: 0.3984\n",
      "Class 11 IoU: 0.4121\n",
      "Class 12 IoU: 0.4035\n",
      "saved weights\n",
      "\n",
      "Epoch4\n",
      "Train Loss: 0.27768217048783234, Train mIoU Score: 0.5352\n",
      "Validation Loss: 0.5006577690442403, Validation mIoU Score: 0.4008\n",
      "___________________________________________________________________________________________\n",
      "\n"
     ]
    },
    {
     "name": "stderr",
     "output_type": "stream",
     "text": [
      "69it [01:02,  1.10it/s]\n"
     ]
    },
    {
     "name": "stdout",
     "output_type": "stream",
     "text": [
      "Class 0 IoU: 0.5784\n",
      "Class 1 IoU: 0.5275\n",
      "Class 2 IoU: 0.5430\n",
      "Class 3 IoU: 0.5610\n",
      "Class 4 IoU: 0.5426\n",
      "Class 5 IoU: 0.5796\n",
      "Class 6 IoU: 0.5658\n",
      "Class 7 IoU: 0.5741\n",
      "Class 8 IoU: 0.5758\n",
      "Class 9 IoU: 0.5644\n",
      "Class 10 IoU: 0.5839\n",
      "Class 11 IoU: 0.5675\n",
      "Class 12 IoU: 0.5563\n"
     ]
    },
    {
     "name": "stderr",
     "output_type": "stream",
     "text": [
      "100%|██████████| 15/15 [00:12<00:00,  1.18it/s]"
     ]
    },
    {
     "name": "stdout",
     "output_type": "stream",
     "text": [
      "Class 0 IoU: 0.4556\n",
      "Class 1 IoU: 0.3644\n",
      "Class 2 IoU: 0.3472\n",
      "Class 3 IoU: 0.3351\n",
      "Class 4 IoU: 0.4172\n",
      "Class 5 IoU: 0.3322\n",
      "Class 6 IoU: 0.4609\n",
      "Class 7 IoU: 0.3914\n",
      "Class 8 IoU: 0.3789\n",
      "Class 9 IoU: 0.3276\n",
      "Class 10 IoU: 0.3621\n",
      "Class 11 IoU: 0.3821\n",
      "Class 12 IoU: 0.3974\n",
      "\n",
      "Epoch5\n",
      "Train Loss: 0.25176084689472034, Train mIoU Score: 0.5631\n",
      "Validation Loss: 0.5775321364402771, Validation mIoU Score: 0.3809\n",
      "___________________________________________________________________________________________\n",
      "\n"
     ]
    },
    {
     "name": "stderr",
     "output_type": "stream",
     "text": [
      "\n",
      "69it [01:01,  1.12it/s]\n"
     ]
    },
    {
     "name": "stdout",
     "output_type": "stream",
     "text": [
      "Class 0 IoU: 0.5829\n",
      "Class 1 IoU: 0.5714\n",
      "Class 2 IoU: 0.5652\n",
      "Class 3 IoU: 0.6020\n",
      "Class 4 IoU: 0.5755\n",
      "Class 5 IoU: 0.5999\n",
      "Class 6 IoU: 0.5721\n",
      "Class 7 IoU: 0.5646\n",
      "Class 8 IoU: 0.5801\n",
      "Class 9 IoU: 0.5761\n",
      "Class 10 IoU: 0.5823\n",
      "Class 11 IoU: 0.5662\n",
      "Class 12 IoU: 0.5880\n"
     ]
    },
    {
     "name": "stderr",
     "output_type": "stream",
     "text": [
      "100%|██████████| 15/15 [00:12<00:00,  1.17it/s]\n"
     ]
    },
    {
     "name": "stdout",
     "output_type": "stream",
     "text": [
      "Class 0 IoU: 0.4851\n",
      "Class 1 IoU: 0.4044\n",
      "Class 2 IoU: 0.3838\n",
      "Class 3 IoU: 0.3953\n",
      "Class 4 IoU: 0.4628\n",
      "Class 5 IoU: 0.3695\n",
      "Class 6 IoU: 0.4854\n",
      "Class 7 IoU: 0.4177\n",
      "Class 8 IoU: 0.3955\n",
      "Class 9 IoU: 0.3695\n",
      "Class 10 IoU: 0.4181\n",
      "Class 11 IoU: 0.4228\n",
      "Class 12 IoU: 0.4212\n",
      "saved weights\n",
      "\n",
      "Epoch6\n",
      "Train Loss: 0.23074006472808728, Train mIoU Score: 0.5789\n",
      "Validation Loss: 0.4585913876692454, Validation mIoU Score: 0.4178\n",
      "___________________________________________________________________________________________\n",
      "\n"
     ]
    },
    {
     "name": "stderr",
     "output_type": "stream",
     "text": [
      "69it [01:01,  1.13it/s]\n"
     ]
    },
    {
     "name": "stdout",
     "output_type": "stream",
     "text": [
      "Class 0 IoU: 0.6146\n",
      "Class 1 IoU: 0.6003\n",
      "Class 2 IoU: 0.5780\n",
      "Class 3 IoU: 0.6126\n",
      "Class 4 IoU: 0.5880\n",
      "Class 5 IoU: 0.5996\n",
      "Class 6 IoU: 0.6060\n",
      "Class 7 IoU: 0.5973\n",
      "Class 8 IoU: 0.5957\n",
      "Class 9 IoU: 0.6161\n",
      "Class 10 IoU: 0.6072\n",
      "Class 11 IoU: 0.5957\n",
      "Class 12 IoU: 0.5805\n"
     ]
    },
    {
     "name": "stderr",
     "output_type": "stream",
     "text": [
      "100%|██████████| 15/15 [00:12<00:00,  1.22it/s]\n"
     ]
    },
    {
     "name": "stdout",
     "output_type": "stream",
     "text": [
      "Class 0 IoU: 0.4739\n",
      "Class 1 IoU: 0.4184\n",
      "Class 2 IoU: 0.3798\n",
      "Class 3 IoU: 0.4082\n",
      "Class 4 IoU: 0.4847\n",
      "Class 5 IoU: 0.3824\n",
      "Class 6 IoU: 0.4798\n",
      "Class 7 IoU: 0.4241\n",
      "Class 8 IoU: 0.4132\n",
      "Class 9 IoU: 0.3944\n",
      "Class 10 IoU: 0.4319\n",
      "Class 11 IoU: 0.4372\n",
      "Class 12 IoU: 0.4403\n",
      "saved weights\n",
      "\n",
      "Epoch7\n",
      "Train Loss: 0.20726307665092358, Train mIoU Score: 0.5994\n",
      "Validation Loss: 0.4369560460249583, Validation mIoU Score: 0.4283\n",
      "___________________________________________________________________________________________\n",
      "\n"
     ]
    },
    {
     "name": "stderr",
     "output_type": "stream",
     "text": [
      "69it [01:01,  1.13it/s]\n"
     ]
    },
    {
     "name": "stdout",
     "output_type": "stream",
     "text": [
      "Class 0 IoU: 0.6119\n",
      "Class 1 IoU: 0.6051\n",
      "Class 2 IoU: 0.6072\n",
      "Class 3 IoU: 0.6301\n",
      "Class 4 IoU: 0.5945\n",
      "Class 5 IoU: 0.6049\n",
      "Class 6 IoU: 0.6248\n",
      "Class 7 IoU: 0.5929\n",
      "Class 8 IoU: 0.6178\n",
      "Class 9 IoU: 0.5803\n",
      "Class 10 IoU: 0.6193\n",
      "Class 11 IoU: 0.6088\n",
      "Class 12 IoU: 0.5941\n"
     ]
    },
    {
     "name": "stderr",
     "output_type": "stream",
     "text": [
      "100%|██████████| 15/15 [00:12<00:00,  1.21it/s]\n"
     ]
    },
    {
     "name": "stdout",
     "output_type": "stream",
     "text": [
      "Class 0 IoU: 0.5056\n",
      "Class 1 IoU: 0.4307\n",
      "Class 2 IoU: 0.4133\n",
      "Class 3 IoU: 0.4176\n",
      "Class 4 IoU: 0.4923\n",
      "Class 5 IoU: 0.3795\n",
      "Class 6 IoU: 0.5037\n",
      "Class 7 IoU: 0.4521\n",
      "Class 8 IoU: 0.4389\n",
      "Class 9 IoU: 0.3940\n",
      "Class 10 IoU: 0.4386\n",
      "Class 11 IoU: 0.4376\n",
      "Class 12 IoU: 0.4392\n",
      "saved weights\n",
      "\n",
      "Epoch8\n",
      "Train Loss: 0.1966897022465001, Train mIoU Score: 0.6070\n",
      "Validation Loss: 0.4131909430027008, Validation mIoU Score: 0.4418\n",
      "___________________________________________________________________________________________\n",
      "\n"
     ]
    },
    {
     "name": "stderr",
     "output_type": "stream",
     "text": [
      "69it [01:01,  1.13it/s]\n"
     ]
    },
    {
     "name": "stdout",
     "output_type": "stream",
     "text": [
      "Class 0 IoU: 0.6346\n",
      "Class 1 IoU: 0.6094\n",
      "Class 2 IoU: 0.6379\n",
      "Class 3 IoU: 0.6471\n",
      "Class 4 IoU: 0.5984\n",
      "Class 5 IoU: 0.6257\n",
      "Class 6 IoU: 0.6212\n",
      "Class 7 IoU: 0.6163\n",
      "Class 8 IoU: 0.6186\n",
      "Class 9 IoU: 0.6246\n",
      "Class 10 IoU: 0.6125\n",
      "Class 11 IoU: 0.6001\n",
      "Class 12 IoU: 0.6004\n"
     ]
    },
    {
     "name": "stderr",
     "output_type": "stream",
     "text": [
      "100%|██████████| 15/15 [00:12<00:00,  1.22it/s]"
     ]
    },
    {
     "name": "stdout",
     "output_type": "stream",
     "text": [
      "Class 0 IoU: 0.4944\n",
      "Class 1 IoU: 0.4203\n",
      "Class 2 IoU: 0.4066\n",
      "Class 3 IoU: 0.4006\n",
      "Class 4 IoU: 0.4829\n",
      "Class 5 IoU: 0.3869\n",
      "Class 6 IoU: 0.4998\n",
      "Class 7 IoU: 0.4368\n",
      "Class 8 IoU: 0.4268\n",
      "Class 9 IoU: 0.3840\n",
      "Class 10 IoU: 0.4344\n",
      "Class 11 IoU: 0.4355\n",
      "Class 12 IoU: 0.4322\n",
      "\n",
      "Epoch9\n",
      "Train Loss: 0.1854938873346301, Train mIoU Score: 0.6190\n",
      "Validation Loss: 0.424403182665507, Validation mIoU Score: 0.4339\n",
      "___________________________________________________________________________________________\n",
      "\n"
     ]
    },
    {
     "name": "stderr",
     "output_type": "stream",
     "text": [
      "\n",
      "69it [01:00,  1.13it/s]\n"
     ]
    },
    {
     "name": "stdout",
     "output_type": "stream",
     "text": [
      "Class 0 IoU: 0.6308\n",
      "Class 1 IoU: 0.6198\n",
      "Class 2 IoU: 0.6241\n",
      "Class 3 IoU: 0.6493\n",
      "Class 4 IoU: 0.6307\n",
      "Class 5 IoU: 0.6249\n",
      "Class 6 IoU: 0.6407\n",
      "Class 7 IoU: 0.6376\n",
      "Class 8 IoU: 0.6501\n",
      "Class 9 IoU: 0.6195\n",
      "Class 10 IoU: 0.6243\n",
      "Class 11 IoU: 0.6156\n",
      "Class 12 IoU: 0.6398\n"
     ]
    },
    {
     "name": "stderr",
     "output_type": "stream",
     "text": [
      "100%|██████████| 15/15 [00:12<00:00,  1.22it/s]\n"
     ]
    },
    {
     "name": "stdout",
     "output_type": "stream",
     "text": [
      "Class 0 IoU: 0.4990\n",
      "Class 1 IoU: 0.4421\n",
      "Class 2 IoU: 0.4059\n",
      "Class 3 IoU: 0.4239\n",
      "Class 4 IoU: 0.4877\n",
      "Class 5 IoU: 0.3800\n",
      "Class 6 IoU: 0.4894\n",
      "Class 7 IoU: 0.4439\n",
      "Class 8 IoU: 0.4386\n",
      "Class 9 IoU: 0.4196\n",
      "Class 10 IoU: 0.4454\n",
      "Class 11 IoU: 0.4346\n",
      "Class 12 IoU: 0.4453\n",
      "saved weights\n",
      "\n",
      "Epoch10\n",
      "Train Loss: 0.17425653424815854, Train mIoU Score: 0.6313\n",
      "Validation Loss: 0.43025390307108563, Validation mIoU Score: 0.4427\n",
      "___________________________________________________________________________________________\n",
      "\n"
     ]
    },
    {
     "name": "stderr",
     "output_type": "stream",
     "text": [
      "69it [01:00,  1.14it/s]\n"
     ]
    },
    {
     "name": "stdout",
     "output_type": "stream",
     "text": [
      "Class 0 IoU: 0.6609\n",
      "Class 1 IoU: 0.6532\n",
      "Class 2 IoU: 0.6152\n",
      "Class 3 IoU: 0.6544\n",
      "Class 4 IoU: 0.6398\n",
      "Class 5 IoU: 0.6426\n",
      "Class 6 IoU: 0.6484\n",
      "Class 7 IoU: 0.6304\n",
      "Class 8 IoU: 0.6586\n",
      "Class 9 IoU: 0.6384\n",
      "Class 10 IoU: 0.6385\n",
      "Class 11 IoU: 0.6299\n",
      "Class 12 IoU: 0.6519\n"
     ]
    },
    {
     "name": "stderr",
     "output_type": "stream",
     "text": [
      "100%|██████████| 15/15 [00:12<00:00,  1.22it/s]\n"
     ]
    },
    {
     "name": "stdout",
     "output_type": "stream",
     "text": [
      "Class 0 IoU: 0.5236\n",
      "Class 1 IoU: 0.4465\n",
      "Class 2 IoU: 0.4330\n",
      "Class 3 IoU: 0.4358\n",
      "Class 4 IoU: 0.4965\n",
      "Class 5 IoU: 0.3956\n",
      "Class 6 IoU: 0.5159\n",
      "Class 7 IoU: 0.4567\n",
      "Class 8 IoU: 0.4557\n",
      "Class 9 IoU: 0.4329\n",
      "Class 10 IoU: 0.4570\n",
      "Class 11 IoU: 0.4501\n",
      "Class 12 IoU: 0.4613\n",
      "saved weights\n",
      "\n",
      "Epoch11\n",
      "Train Loss: 0.16416071268959323, Train mIoU Score: 0.6432\n",
      "Validation Loss: 0.40480151573816936, Validation mIoU Score: 0.4585\n",
      "___________________________________________________________________________________________\n",
      "\n"
     ]
    },
    {
     "name": "stderr",
     "output_type": "stream",
     "text": [
      "69it [01:01,  1.13it/s]\n"
     ]
    },
    {
     "name": "stdout",
     "output_type": "stream",
     "text": [
      "Class 0 IoU: 0.6697\n",
      "Class 1 IoU: 0.6408\n",
      "Class 2 IoU: 0.6677\n",
      "Class 3 IoU: 0.6380\n",
      "Class 4 IoU: 0.6610\n",
      "Class 5 IoU: 0.6495\n",
      "Class 6 IoU: 0.6680\n",
      "Class 7 IoU: 0.6607\n",
      "Class 8 IoU: 0.6541\n",
      "Class 9 IoU: 0.6395\n",
      "Class 10 IoU: 0.6582\n",
      "Class 11 IoU: 0.6435\n",
      "Class 12 IoU: 0.6488\n"
     ]
    },
    {
     "name": "stderr",
     "output_type": "stream",
     "text": [
      "100%|██████████| 15/15 [00:12<00:00,  1.22it/s]"
     ]
    },
    {
     "name": "stdout",
     "output_type": "stream",
     "text": [
      "Class 0 IoU: 0.4990\n",
      "Class 1 IoU: 0.4398\n",
      "Class 2 IoU: 0.4138\n",
      "Class 3 IoU: 0.4305\n",
      "Class 4 IoU: 0.4870\n",
      "Class 5 IoU: 0.3912\n",
      "Class 6 IoU: 0.4958\n",
      "Class 7 IoU: 0.4416\n",
      "Class 8 IoU: 0.4284\n",
      "Class 9 IoU: 0.4216\n",
      "Class 10 IoU: 0.4540\n",
      "Class 11 IoU: 0.4365\n",
      "Class 12 IoU: 0.4413\n",
      "\n",
      "Epoch12\n",
      "Train Loss: 0.15604815513327502, Train mIoU Score: 0.6538\n",
      "Validation Loss: 0.4308531026045481, Validation mIoU Score: 0.4447\n",
      "___________________________________________________________________________________________\n",
      "\n"
     ]
    },
    {
     "name": "stderr",
     "output_type": "stream",
     "text": [
      "\n",
      "69it [01:01,  1.12it/s]\n"
     ]
    },
    {
     "name": "stdout",
     "output_type": "stream",
     "text": [
      "Class 0 IoU: 0.6810\n",
      "Class 1 IoU: 0.6726\n",
      "Class 2 IoU: 0.6882\n",
      "Class 3 IoU: 0.6793\n",
      "Class 4 IoU: 0.6583\n",
      "Class 5 IoU: 0.6821\n",
      "Class 6 IoU: 0.6797\n",
      "Class 7 IoU: 0.6632\n",
      "Class 8 IoU: 0.6804\n",
      "Class 9 IoU: 0.6666\n",
      "Class 10 IoU: 0.6797\n",
      "Class 11 IoU: 0.6544\n",
      "Class 12 IoU: 0.6603\n"
     ]
    },
    {
     "name": "stderr",
     "output_type": "stream",
     "text": [
      "100%|██████████| 15/15 [00:12<00:00,  1.20it/s]"
     ]
    },
    {
     "name": "stdout",
     "output_type": "stream",
     "text": [
      "Class 0 IoU: 0.5250\n",
      "Class 1 IoU: 0.4393\n",
      "Class 2 IoU: 0.4307\n",
      "Class 3 IoU: 0.4418\n",
      "Class 4 IoU: 0.4894\n",
      "Class 5 IoU: 0.3918\n",
      "Class 6 IoU: 0.5119\n",
      "Class 7 IoU: 0.4514\n",
      "Class 8 IoU: 0.4424\n",
      "Class 9 IoU: 0.4226\n",
      "Class 10 IoU: 0.4407\n",
      "Class 11 IoU: 0.4448\n",
      "Class 12 IoU: 0.4358\n",
      "\n",
      "Epoch13\n",
      "Train Loss: 0.1423568730984909, Train mIoU Score: 0.6728\n",
      "Validation Loss: 0.4311041553815206, Validation mIoU Score: 0.4513\n",
      "___________________________________________________________________________________________\n",
      "\n"
     ]
    },
    {
     "name": "stderr",
     "output_type": "stream",
     "text": [
      "\n",
      "69it [01:01,  1.12it/s]\n"
     ]
    },
    {
     "name": "stdout",
     "output_type": "stream",
     "text": [
      "Class 0 IoU: 0.6828\n",
      "Class 1 IoU: 0.6570\n",
      "Class 2 IoU: 0.6775\n",
      "Class 3 IoU: 0.7142\n",
      "Class 4 IoU: 0.6906\n",
      "Class 5 IoU: 0.6757\n",
      "Class 6 IoU: 0.6828\n",
      "Class 7 IoU: 0.6830\n",
      "Class 8 IoU: 0.6811\n",
      "Class 9 IoU: 0.6739\n",
      "Class 10 IoU: 0.6936\n",
      "Class 11 IoU: 0.6867\n",
      "Class 12 IoU: 0.6583\n"
     ]
    },
    {
     "name": "stderr",
     "output_type": "stream",
     "text": [
      "100%|██████████| 15/15 [00:12<00:00,  1.20it/s]"
     ]
    },
    {
     "name": "stdout",
     "output_type": "stream",
     "text": [
      "Class 0 IoU: 0.5014\n",
      "Class 1 IoU: 0.4387\n",
      "Class 2 IoU: 0.4163\n",
      "Class 3 IoU: 0.4239\n",
      "Class 4 IoU: 0.4979\n",
      "Class 5 IoU: 0.3934\n",
      "Class 6 IoU: 0.4916\n",
      "Class 7 IoU: 0.4385\n",
      "Class 8 IoU: 0.4350\n",
      "Class 9 IoU: 0.4217\n",
      "Class 10 IoU: 0.4497\n",
      "Class 11 IoU: 0.4443\n",
      "Class 12 IoU: 0.4411\n",
      "\n",
      "Epoch14\n",
      "Train Loss: 0.13747599612975467, Train mIoU Score: 0.6813\n",
      "Validation Loss: 0.4509414752324422, Validation mIoU Score: 0.4456\n",
      "___________________________________________________________________________________________\n",
      "\n"
     ]
    },
    {
     "name": "stderr",
     "output_type": "stream",
     "text": [
      "\n",
      "69it [01:00,  1.14it/s]\n"
     ]
    },
    {
     "name": "stdout",
     "output_type": "stream",
     "text": [
      "Class 0 IoU: 0.6856\n",
      "Class 1 IoU: 0.6898\n",
      "Class 2 IoU: 0.6977\n",
      "Class 3 IoU: 0.7026\n",
      "Class 4 IoU: 0.6801\n",
      "Class 5 IoU: 0.7052\n",
      "Class 6 IoU: 0.7038\n",
      "Class 7 IoU: 0.7129\n",
      "Class 8 IoU: 0.7099\n",
      "Class 9 IoU: 0.6820\n",
      "Class 10 IoU: 0.6877\n",
      "Class 11 IoU: 0.7040\n",
      "Class 12 IoU: 0.6726\n"
     ]
    },
    {
     "name": "stderr",
     "output_type": "stream",
     "text": [
      "100%|██████████| 15/15 [00:12<00:00,  1.22it/s]"
     ]
    },
    {
     "name": "stdout",
     "output_type": "stream",
     "text": [
      "Class 0 IoU: 0.5047\n",
      "Class 1 IoU: 0.4395\n",
      "Class 2 IoU: 0.4116\n",
      "Class 3 IoU: 0.4412\n",
      "Class 4 IoU: 0.4970\n",
      "Class 5 IoU: 0.3866\n",
      "Class 6 IoU: 0.4897\n",
      "Class 7 IoU: 0.4399\n",
      "Class 8 IoU: 0.4421\n",
      "Class 9 IoU: 0.4215\n",
      "Class 10 IoU: 0.4470\n",
      "Class 11 IoU: 0.4412\n",
      "Class 12 IoU: 0.4483\n",
      "\n",
      "Epoch15\n",
      "Train Loss: 0.13284043816552646, Train mIoU Score: 0.6949\n",
      "Validation Loss: 0.45840306480725607, Validation mIoU Score: 0.4469\n",
      "___________________________________________________________________________________________\n",
      "\n"
     ]
    },
    {
     "name": "stderr",
     "output_type": "stream",
     "text": [
      "\n",
      "69it [01:00,  1.14it/s]\n"
     ]
    },
    {
     "name": "stdout",
     "output_type": "stream",
     "text": [
      "Class 0 IoU: 0.7341\n",
      "Class 1 IoU: 0.6931\n",
      "Class 2 IoU: 0.7192\n",
      "Class 3 IoU: 0.7362\n",
      "Class 4 IoU: 0.7178\n",
      "Class 5 IoU: 0.7021\n",
      "Class 6 IoU: 0.7269\n",
      "Class 7 IoU: 0.7178\n",
      "Class 8 IoU: 0.7126\n",
      "Class 9 IoU: 0.6816\n",
      "Class 10 IoU: 0.7274\n",
      "Class 11 IoU: 0.7216\n",
      "Class 12 IoU: 0.7156\n"
     ]
    },
    {
     "name": "stderr",
     "output_type": "stream",
     "text": [
      "100%|██████████| 15/15 [00:12<00:00,  1.22it/s]"
     ]
    },
    {
     "name": "stdout",
     "output_type": "stream",
     "text": [
      "Class 0 IoU: 0.5250\n",
      "Class 1 IoU: 0.4486\n",
      "Class 2 IoU: 0.4319\n",
      "Class 3 IoU: 0.4421\n",
      "Class 4 IoU: 0.4931\n",
      "Class 5 IoU: 0.4021\n",
      "Class 6 IoU: 0.4999\n",
      "Class 7 IoU: 0.4583\n",
      "Class 8 IoU: 0.4487\n",
      "Class 9 IoU: 0.4178\n",
      "Class 10 IoU: 0.4658\n",
      "Class 11 IoU: 0.4495\n",
      "Class 12 IoU: 0.4396\n",
      "\n",
      "Epoch16\n",
      "Train Loss: 0.12596228330031686, Train mIoU Score: 0.7158\n",
      "Validation Loss: 0.4339556197325389, Validation mIoU Score: 0.4556\n",
      "___________________________________________________________________________________________\n",
      "\n"
     ]
    },
    {
     "name": "stderr",
     "output_type": "stream",
     "text": [
      "\n",
      "69it [01:01,  1.12it/s]\n"
     ]
    },
    {
     "name": "stdout",
     "output_type": "stream",
     "text": [
      "Class 0 IoU: 0.7257\n",
      "Class 1 IoU: 0.7282\n",
      "Class 2 IoU: 0.7292\n",
      "Class 3 IoU: 0.7287\n",
      "Class 4 IoU: 0.7069\n",
      "Class 5 IoU: 0.7340\n",
      "Class 6 IoU: 0.7279\n",
      "Class 7 IoU: 0.7636\n",
      "Class 8 IoU: 0.7502\n",
      "Class 9 IoU: 0.7325\n",
      "Class 10 IoU: 0.7341\n",
      "Class 11 IoU: 0.7229\n",
      "Class 12 IoU: 0.7506\n"
     ]
    },
    {
     "name": "stderr",
     "output_type": "stream",
     "text": [
      "100%|██████████| 15/15 [00:12<00:00,  1.20it/s]"
     ]
    },
    {
     "name": "stdout",
     "output_type": "stream",
     "text": [
      "Class 0 IoU: 0.5198\n",
      "Class 1 IoU: 0.4474\n",
      "Class 2 IoU: 0.4328\n",
      "Class 3 IoU: 0.4416\n",
      "Class 4 IoU: 0.5062\n",
      "Class 5 IoU: 0.4018\n",
      "Class 6 IoU: 0.5135\n",
      "Class 7 IoU: 0.4449\n",
      "Class 8 IoU: 0.4569\n",
      "Class 9 IoU: 0.4210\n",
      "Class 10 IoU: 0.4479\n",
      "Class 11 IoU: 0.4432\n",
      "Class 12 IoU: 0.4584\n",
      "\n",
      "Epoch17\n",
      "Train Loss: 0.11870791395937187, Train mIoU Score: 0.7334\n",
      "Validation Loss: 0.4311709622542063, Validation mIoU Score: 0.4566\n",
      "___________________________________________________________________________________________\n",
      "\n"
     ]
    },
    {
     "name": "stderr",
     "output_type": "stream",
     "text": [
      "\n",
      "69it [01:01,  1.13it/s]\n"
     ]
    },
    {
     "name": "stdout",
     "output_type": "stream",
     "text": [
      "Class 0 IoU: 0.7538\n",
      "Class 1 IoU: 0.7622\n",
      "Class 2 IoU: 0.7494\n",
      "Class 3 IoU: 0.7550\n",
      "Class 4 IoU: 0.7366\n",
      "Class 5 IoU: 0.7273\n",
      "Class 6 IoU: 0.7444\n",
      "Class 7 IoU: 0.7622\n",
      "Class 8 IoU: 0.7495\n",
      "Class 9 IoU: 0.7370\n",
      "Class 10 IoU: 0.7725\n",
      "Class 11 IoU: 0.7439\n",
      "Class 12 IoU: 0.7211\n"
     ]
    },
    {
     "name": "stderr",
     "output_type": "stream",
     "text": [
      "100%|██████████| 15/15 [00:12<00:00,  1.20it/s]"
     ]
    },
    {
     "name": "stdout",
     "output_type": "stream",
     "text": [
      "Class 0 IoU: 0.5118\n",
      "Class 1 IoU: 0.4387\n",
      "Class 2 IoU: 0.4178\n",
      "Class 3 IoU: 0.4272\n",
      "Class 4 IoU: 0.4962\n",
      "Class 5 IoU: 0.4002\n",
      "Class 6 IoU: 0.5046\n",
      "Class 7 IoU: 0.4507\n",
      "Class 8 IoU: 0.4344\n",
      "Class 9 IoU: 0.4116\n",
      "Class 10 IoU: 0.4566\n",
      "Class 11 IoU: 0.4358\n",
      "Class 12 IoU: 0.4333\n",
      "\n",
      "Epoch18\n",
      "Train Loss: 0.11214693992034248, Train mIoU Score: 0.7473\n",
      "Validation Loss: 0.48322638670603435, Validation mIoU Score: 0.4476\n",
      "___________________________________________________________________________________________\n",
      "\n"
     ]
    },
    {
     "name": "stderr",
     "output_type": "stream",
     "text": [
      "\n",
      "69it [01:02,  1.11it/s]\n"
     ]
    },
    {
     "name": "stdout",
     "output_type": "stream",
     "text": [
      "Class 0 IoU: 0.7685\n",
      "Class 1 IoU: 0.7507\n",
      "Class 2 IoU: 0.7654\n",
      "Class 3 IoU: 0.7791\n",
      "Class 4 IoU: 0.7468\n",
      "Class 5 IoU: 0.7490\n",
      "Class 6 IoU: 0.7584\n",
      "Class 7 IoU: 0.7399\n",
      "Class 8 IoU: 0.7562\n",
      "Class 9 IoU: 0.7584\n",
      "Class 10 IoU: 0.7743\n",
      "Class 11 IoU: 0.7191\n",
      "Class 12 IoU: 0.7203\n"
     ]
    },
    {
     "name": "stderr",
     "output_type": "stream",
     "text": [
      "100%|██████████| 15/15 [00:12<00:00,  1.20it/s]"
     ]
    },
    {
     "name": "stdout",
     "output_type": "stream",
     "text": [
      "Class 0 IoU: 0.5101\n",
      "Class 1 IoU: 0.4218\n",
      "Class 2 IoU: 0.4143\n",
      "Class 3 IoU: 0.4330\n",
      "Class 4 IoU: 0.4956\n",
      "Class 5 IoU: 0.3840\n",
      "Class 6 IoU: 0.4914\n",
      "Class 7 IoU: 0.4418\n",
      "Class 8 IoU: 0.4396\n",
      "Class 9 IoU: 0.3997\n",
      "Class 10 IoU: 0.4341\n",
      "Class 11 IoU: 0.4242\n",
      "Class 12 IoU: 0.4181\n",
      "\n",
      "Epoch19\n",
      "Train Loss: 0.11112676064173381, Train mIoU Score: 0.7528\n",
      "Validation Loss: 0.5467017471790314, Validation mIoU Score: 0.4390\n",
      "___________________________________________________________________________________________\n",
      "\n"
     ]
    },
    {
     "name": "stderr",
     "output_type": "stream",
     "text": [
      "\n",
      "69it [01:01,  1.12it/s]\n"
     ]
    },
    {
     "name": "stdout",
     "output_type": "stream",
     "text": [
      "Class 0 IoU: 0.7332\n",
      "Class 1 IoU: 0.7211\n",
      "Class 2 IoU: 0.7168\n",
      "Class 3 IoU: 0.7238\n",
      "Class 4 IoU: 0.7451\n",
      "Class 5 IoU: 0.7471\n",
      "Class 6 IoU: 0.7352\n",
      "Class 7 IoU: 0.7599\n",
      "Class 8 IoU: 0.7644\n",
      "Class 9 IoU: 0.7388\n",
      "Class 10 IoU: 0.7630\n",
      "Class 11 IoU: 0.7507\n",
      "Class 12 IoU: 0.7522\n"
     ]
    },
    {
     "name": "stderr",
     "output_type": "stream",
     "text": [
      "100%|██████████| 15/15 [00:12<00:00,  1.18it/s]"
     ]
    },
    {
     "name": "stdout",
     "output_type": "stream",
     "text": [
      "Class 0 IoU: 0.4950\n",
      "Class 1 IoU: 0.4450\n",
      "Class 2 IoU: 0.4262\n",
      "Class 3 IoU: 0.4112\n",
      "Class 4 IoU: 0.5022\n",
      "Class 5 IoU: 0.4120\n",
      "Class 6 IoU: 0.5030\n",
      "Class 7 IoU: 0.4510\n",
      "Class 8 IoU: 0.4559\n",
      "Class 9 IoU: 0.4128\n",
      "Class 10 IoU: 0.4611\n",
      "Class 11 IoU: 0.4550\n",
      "Class 12 IoU: 0.4428\n",
      "\n",
      "Epoch20\n",
      "Train Loss: 0.11946301399797633, Train mIoU Score: 0.7424\n",
      "Validation Loss: 0.46809646089871726, Validation mIoU Score: 0.4518\n",
      "___________________________________________________________________________________________\n",
      "\n"
     ]
    },
    {
     "name": "stderr",
     "output_type": "stream",
     "text": [
      "\n",
      "69it [01:03,  1.09it/s]\n"
     ]
    },
    {
     "name": "stdout",
     "output_type": "stream",
     "text": [
      "Class 0 IoU: 0.7851\n",
      "Class 1 IoU: 0.7515\n",
      "Class 2 IoU: 0.7615\n",
      "Class 3 IoU: 0.7713\n",
      "Class 4 IoU: 0.7620\n",
      "Class 5 IoU: 0.7600\n",
      "Class 6 IoU: 0.7430\n",
      "Class 7 IoU: 0.7690\n",
      "Class 8 IoU: 0.7672\n",
      "Class 9 IoU: 0.7571\n",
      "Class 10 IoU: 0.7579\n",
      "Class 11 IoU: 0.7489\n",
      "Class 12 IoU: 0.7763\n"
     ]
    },
    {
     "name": "stderr",
     "output_type": "stream",
     "text": [
      "100%|██████████| 15/15 [00:13<00:00,  1.15it/s]"
     ]
    },
    {
     "name": "stdout",
     "output_type": "stream",
     "text": [
      "Class 0 IoU: 0.5119\n",
      "Class 1 IoU: 0.4468\n",
      "Class 2 IoU: 0.4229\n",
      "Class 3 IoU: 0.4243\n",
      "Class 4 IoU: 0.4932\n",
      "Class 5 IoU: 0.3969\n",
      "Class 6 IoU: 0.4946\n",
      "Class 7 IoU: 0.4447\n",
      "Class 8 IoU: 0.4369\n",
      "Class 9 IoU: 0.4134\n",
      "Class 10 IoU: 0.4501\n",
      "Class 11 IoU: 0.4429\n",
      "Class 12 IoU: 0.4436\n",
      "\n",
      "Epoch21\n",
      "Train Loss: 0.10880511135294818, Train mIoU Score: 0.7624\n",
      "Validation Loss: 0.46496484279632566, Validation mIoU Score: 0.4479\n",
      "___________________________________________________________________________________________\n",
      "\n"
     ]
    },
    {
     "name": "stderr",
     "output_type": "stream",
     "text": [
      "\n",
      "69it [01:03,  1.09it/s]\n"
     ]
    },
    {
     "name": "stdout",
     "output_type": "stream",
     "text": [
      "Class 0 IoU: 0.7931\n",
      "Class 1 IoU: 0.7655\n",
      "Class 2 IoU: 0.7527\n",
      "Class 3 IoU: 0.7955\n",
      "Class 4 IoU: 0.7890\n",
      "Class 5 IoU: 0.7678\n",
      "Class 6 IoU: 0.7829\n",
      "Class 7 IoU: 0.7675\n",
      "Class 8 IoU: 0.7771\n",
      "Class 9 IoU: 0.7782\n",
      "Class 10 IoU: 0.7877\n",
      "Class 11 IoU: 0.7620\n",
      "Class 12 IoU: 0.7829\n"
     ]
    },
    {
     "name": "stderr",
     "output_type": "stream",
     "text": [
      "100%|██████████| 15/15 [00:13<00:00,  1.14it/s]"
     ]
    },
    {
     "name": "stdout",
     "output_type": "stream",
     "text": [
      "Class 0 IoU: 0.5161\n",
      "Class 1 IoU: 0.4399\n",
      "Class 2 IoU: 0.4342\n",
      "Class 3 IoU: 0.4263\n",
      "Class 4 IoU: 0.4976\n",
      "Class 5 IoU: 0.4026\n",
      "Class 6 IoU: 0.5088\n",
      "Class 7 IoU: 0.4382\n",
      "Class 8 IoU: 0.4415\n",
      "Class 9 IoU: 0.4197\n",
      "Class 10 IoU: 0.4601\n",
      "Class 11 IoU: 0.4464\n",
      "Class 12 IoU: 0.4501\n",
      "\n",
      "Epoch22\n",
      "Train Loss: 0.09809152727973634, Train mIoU Score: 0.7771\n",
      "Validation Loss: 0.47681776285171507, Validation mIoU Score: 0.4524\n",
      "___________________________________________________________________________________________\n",
      "\n"
     ]
    },
    {
     "name": "stderr",
     "output_type": "stream",
     "text": [
      "\n",
      "69it [01:03,  1.09it/s]\n"
     ]
    },
    {
     "name": "stdout",
     "output_type": "stream",
     "text": [
      "Class 0 IoU: 0.8035\n",
      "Class 1 IoU: 0.7904\n",
      "Class 2 IoU: 0.8042\n",
      "Class 3 IoU: 0.7900\n",
      "Class 4 IoU: 0.7933\n",
      "Class 5 IoU: 0.7743\n",
      "Class 6 IoU: 0.8012\n",
      "Class 7 IoU: 0.7863\n",
      "Class 8 IoU: 0.7892\n",
      "Class 9 IoU: 0.7774\n",
      "Class 10 IoU: 0.7850\n",
      "Class 11 IoU: 0.7738\n",
      "Class 12 IoU: 0.7892\n"
     ]
    },
    {
     "name": "stderr",
     "output_type": "stream",
     "text": [
      "100%|██████████| 15/15 [00:13<00:00,  1.14it/s]"
     ]
    },
    {
     "name": "stdout",
     "output_type": "stream",
     "text": [
      "Class 0 IoU: 0.5103\n",
      "Class 1 IoU: 0.4526\n",
      "Class 2 IoU: 0.4288\n",
      "Class 3 IoU: 0.4277\n",
      "Class 4 IoU: 0.5078\n",
      "Class 5 IoU: 0.4059\n",
      "Class 6 IoU: 0.5110\n",
      "Class 7 IoU: 0.4495\n",
      "Class 8 IoU: 0.4408\n",
      "Class 9 IoU: 0.4054\n",
      "Class 10 IoU: 0.4491\n",
      "Class 11 IoU: 0.4464\n",
      "Class 12 IoU: 0.4486\n",
      "\n",
      "Epoch23\n",
      "Train Loss: 0.09095745576896529, Train mIoU Score: 0.7891\n",
      "Validation Loss: 0.4747013529141744, Validation mIoU Score: 0.4526\n",
      "___________________________________________________________________________________________\n",
      "\n"
     ]
    },
    {
     "name": "stderr",
     "output_type": "stream",
     "text": [
      "\n",
      "69it [01:03,  1.08it/s]\n"
     ]
    },
    {
     "name": "stdout",
     "output_type": "stream",
     "text": [
      "Class 0 IoU: 0.8023\n",
      "Class 1 IoU: 0.7980\n",
      "Class 2 IoU: 0.7820\n",
      "Class 3 IoU: 0.7860\n",
      "Class 4 IoU: 0.8086\n",
      "Class 5 IoU: 0.7981\n",
      "Class 6 IoU: 0.7690\n",
      "Class 7 IoU: 0.8017\n",
      "Class 8 IoU: 0.8115\n",
      "Class 9 IoU: 0.7748\n",
      "Class 10 IoU: 0.8079\n",
      "Class 11 IoU: 0.7929\n",
      "Class 12 IoU: 0.8064\n"
     ]
    },
    {
     "name": "stderr",
     "output_type": "stream",
     "text": [
      "100%|██████████| 15/15 [00:13<00:00,  1.14it/s]\n"
     ]
    },
    {
     "name": "stdout",
     "output_type": "stream",
     "text": [
      "Class 0 IoU: 0.5147\n",
      "Class 1 IoU: 0.4544\n",
      "Class 2 IoU: 0.4284\n",
      "Class 3 IoU: 0.4436\n",
      "Class 4 IoU: 0.5146\n",
      "Class 5 IoU: 0.4003\n",
      "Class 6 IoU: 0.5119\n",
      "Class 7 IoU: 0.4530\n",
      "Class 8 IoU: 0.4520\n",
      "Class 9 IoU: 0.4305\n",
      "Class 10 IoU: 0.4611\n",
      "Class 11 IoU: 0.4473\n",
      "Class 12 IoU: 0.4672\n",
      "saved weights\n",
      "\n",
      "Epoch24\n",
      "Train Loss: 0.08718266089757283, Train mIoU Score: 0.7953\n",
      "Validation Loss: 0.4740233858426412, Validation mIoU Score: 0.4599\n",
      "___________________________________________________________________________________________\n",
      "\n"
     ]
    },
    {
     "name": "stderr",
     "output_type": "stream",
     "text": [
      "69it [01:03,  1.09it/s]\n"
     ]
    },
    {
     "name": "stdout",
     "output_type": "stream",
     "text": [
      "Class 0 IoU: 0.8226\n",
      "Class 1 IoU: 0.8121\n",
      "Class 2 IoU: 0.7952\n",
      "Class 3 IoU: 0.8206\n",
      "Class 4 IoU: 0.8237\n",
      "Class 5 IoU: 0.7821\n",
      "Class 6 IoU: 0.7882\n",
      "Class 7 IoU: 0.8032\n",
      "Class 8 IoU: 0.8188\n",
      "Class 9 IoU: 0.8074\n",
      "Class 10 IoU: 0.7977\n",
      "Class 11 IoU: 0.7909\n",
      "Class 12 IoU: 0.7936\n"
     ]
    },
    {
     "name": "stderr",
     "output_type": "stream",
     "text": [
      "100%|██████████| 15/15 [00:13<00:00,  1.15it/s]"
     ]
    },
    {
     "name": "stdout",
     "output_type": "stream",
     "text": [
      "Class 0 IoU: 0.5112\n",
      "Class 1 IoU: 0.4477\n",
      "Class 2 IoU: 0.4282\n",
      "Class 3 IoU: 0.4295\n",
      "Class 4 IoU: 0.5024\n",
      "Class 5 IoU: 0.3988\n",
      "Class 6 IoU: 0.5076\n",
      "Class 7 IoU: 0.4503\n",
      "Class 8 IoU: 0.4386\n",
      "Class 9 IoU: 0.4096\n",
      "Class 10 IoU: 0.4608\n",
      "Class 11 IoU: 0.4403\n",
      "Class 12 IoU: 0.4533\n",
      "\n",
      "Epoch25\n",
      "Train Loss: 0.08434570850669473, Train mIoU Score: 0.8043\n",
      "Validation Loss: 0.5323718190193176, Validation mIoU Score: 0.4522\n",
      "___________________________________________________________________________________________\n",
      "\n"
     ]
    },
    {
     "name": "stderr",
     "output_type": "stream",
     "text": [
      "\n",
      "69it [01:04,  1.08it/s]\n"
     ]
    },
    {
     "name": "stdout",
     "output_type": "stream",
     "text": [
      "Class 0 IoU: 0.8059\n",
      "Class 1 IoU: 0.8019\n",
      "Class 2 IoU: 0.8132\n",
      "Class 3 IoU: 0.8112\n",
      "Class 4 IoU: 0.8178\n",
      "Class 5 IoU: 0.8031\n",
      "Class 6 IoU: 0.8042\n",
      "Class 7 IoU: 0.8291\n",
      "Class 8 IoU: 0.8106\n",
      "Class 9 IoU: 0.8094\n",
      "Class 10 IoU: 0.8045\n",
      "Class 11 IoU: 0.7955\n",
      "Class 12 IoU: 0.8054\n"
     ]
    },
    {
     "name": "stderr",
     "output_type": "stream",
     "text": [
      "100%|██████████| 15/15 [00:12<00:00,  1.18it/s]\n"
     ]
    },
    {
     "name": "stdout",
     "output_type": "stream",
     "text": [
      "Class 0 IoU: 0.5236\n",
      "Class 1 IoU: 0.4574\n",
      "Class 2 IoU: 0.4368\n",
      "Class 3 IoU: 0.4349\n",
      "Class 4 IoU: 0.5136\n",
      "Class 5 IoU: 0.4116\n",
      "Class 6 IoU: 0.5128\n",
      "Class 7 IoU: 0.4616\n",
      "Class 8 IoU: 0.4600\n",
      "Class 9 IoU: 0.4242\n",
      "Class 10 IoU: 0.4723\n",
      "Class 11 IoU: 0.4506\n",
      "Class 12 IoU: 0.4642\n",
      "saved weights\n",
      "\n",
      "Epoch26\n",
      "Train Loss: 0.08113256647534993, Train mIoU Score: 0.8086\n",
      "Validation Loss: 0.4858446717262268, Validation mIoU Score: 0.4634\n",
      "___________________________________________________________________________________________\n",
      "\n"
     ]
    },
    {
     "name": "stderr",
     "output_type": "stream",
     "text": [
      "69it [01:01,  1.12it/s]\n"
     ]
    },
    {
     "name": "stdout",
     "output_type": "stream",
     "text": [
      "Class 0 IoU: 0.8295\n",
      "Class 1 IoU: 0.8206\n",
      "Class 2 IoU: 0.8192\n",
      "Class 3 IoU: 0.8141\n",
      "Class 4 IoU: 0.8199\n",
      "Class 5 IoU: 0.8171\n",
      "Class 6 IoU: 0.8228\n",
      "Class 7 IoU: 0.8356\n",
      "Class 8 IoU: 0.8237\n",
      "Class 9 IoU: 0.8108\n",
      "Class 10 IoU: 0.8019\n",
      "Class 11 IoU: 0.7964\n",
      "Class 12 IoU: 0.8217\n"
     ]
    },
    {
     "name": "stderr",
     "output_type": "stream",
     "text": [
      "100%|██████████| 15/15 [00:12<00:00,  1.19it/s]"
     ]
    },
    {
     "name": "stdout",
     "output_type": "stream",
     "text": [
      "Class 0 IoU: 0.5195\n",
      "Class 1 IoU: 0.4482\n",
      "Class 2 IoU: 0.4410\n",
      "Class 3 IoU: 0.4379\n",
      "Class 4 IoU: 0.5069\n",
      "Class 5 IoU: 0.4099\n",
      "Class 6 IoU: 0.5125\n",
      "Class 7 IoU: 0.4511\n",
      "Class 8 IoU: 0.4507\n",
      "Class 9 IoU: 0.4094\n",
      "Class 10 IoU: 0.4633\n",
      "Class 11 IoU: 0.4543\n",
      "Class 12 IoU: 0.4507\n",
      "\n",
      "Epoch27\n",
      "Train Loss: 0.07688255710662276, Train mIoU Score: 0.8179\n",
      "Validation Loss: 0.4789637128512065, Validation mIoU Score: 0.4581\n",
      "___________________________________________________________________________________________\n",
      "\n"
     ]
    },
    {
     "name": "stderr",
     "output_type": "stream",
     "text": [
      "\n",
      "69it [01:03,  1.09it/s]\n"
     ]
    },
    {
     "name": "stdout",
     "output_type": "stream",
     "text": [
      "Class 0 IoU: 0.8060\n",
      "Class 1 IoU: 0.8310\n",
      "Class 2 IoU: 0.8150\n",
      "Class 3 IoU: 0.8431\n",
      "Class 4 IoU: 0.8017\n",
      "Class 5 IoU: 0.8120\n",
      "Class 6 IoU: 0.8325\n",
      "Class 7 IoU: 0.8324\n",
      "Class 8 IoU: 0.8152\n",
      "Class 9 IoU: 0.7993\n",
      "Class 10 IoU: 0.8179\n",
      "Class 11 IoU: 0.8139\n",
      "Class 12 IoU: 0.8078\n"
     ]
    },
    {
     "name": "stderr",
     "output_type": "stream",
     "text": [
      "100%|██████████| 15/15 [00:13<00:00,  1.14it/s]"
     ]
    },
    {
     "name": "stdout",
     "output_type": "stream",
     "text": [
      "Class 0 IoU: 0.5089\n",
      "Class 1 IoU: 0.4550\n",
      "Class 2 IoU: 0.4281\n",
      "Class 3 IoU: 0.4376\n",
      "Class 4 IoU: 0.5126\n",
      "Class 5 IoU: 0.4029\n",
      "Class 6 IoU: 0.5100\n",
      "Class 7 IoU: 0.4497\n",
      "Class 8 IoU: 0.4496\n",
      "Class 9 IoU: 0.4055\n",
      "Class 10 IoU: 0.4541\n",
      "Class 11 IoU: 0.4434\n",
      "Class 12 IoU: 0.4446\n",
      "\n",
      "Epoch28\n",
      "Train Loss: 0.07541558211264403, Train mIoU Score: 0.8175\n",
      "Validation Loss: 0.5066994686921438, Validation mIoU Score: 0.4540\n",
      "___________________________________________________________________________________________\n",
      "\n"
     ]
    },
    {
     "name": "stderr",
     "output_type": "stream",
     "text": [
      "\n",
      "16it [00:16,  1.39it/s]"
     ]
    }
   ],
   "source": [
    "# start a new wandb run to track this script\n",
    "wandb.init(\n",
    "    # set the wandb project where this run will be logged\n",
    "    project= project_name,\n",
    "   \n",
    "     # track hyperparameters and run metadata\n",
    "    config={\n",
    "        \"learning_rate\": 0.001,\n",
    "        \"architecture\": \"UNet++\",\n",
    "        \"dataset\": \"Samsung\",\n",
    "        \"epochs\": 100,\n",
    "     }\n",
    ")\n",
    "\n",
    "for epoch in range(100):  # 5 에폭 동안 학습합니다.\n",
    "          \n",
    "    # 클래스별 IoU를 누적할 리스트 초기화\n",
    "    train_class_ious = []\n",
    "    \n",
    "    # 학습\n",
    "    model.train()\n",
    "    epoch_loss = 0\n",
    "    \n",
    "    for sourcedata, pseudodata in tqdm(zip(source_dataloader, unlabeled_loader)):\n",
    "\n",
    "        images, masks = sourcedata[0].float().to(device), sourcedata[1].long().to(device)\n",
    "        optimizer.zero_grad()\n",
    "        outputs = model(images)\n",
    "        # print(\"outputs size\", outputs.shape)\n",
    "\n",
    "        if ALPHA > 0 :\n",
    "            # pseudo label에 대해 학습.\n",
    "            pseudoimages = pseudodata[0].float().to(device)\n",
    "            poutputs = model(pseudoimages)\n",
    "            plabels = torch.softmax(poutputs, dim=1)\n",
    "            plabels = torch.argmax(plabels, dim=1)\n",
    "\n",
    "            # print(\"poutputs size\", poutputs.shape)\n",
    "            # print(\"plabels size\", plabels.shape)\n",
    "\n",
    "            loss = criterion(outputs, masks.squeeze(1)) + ALPHA*criterion(poutputs, plabels.squeeze(1))\n",
    "        \n",
    "        else:\n",
    "            loss = criterion(outputs, masks.squeeze(1))\n",
    "        \n",
    "        # loss = criterion(outputs, masks.squeeze(1))\n",
    "        loss.backward()\n",
    "        optimizer.step()\n",
    "\n",
    "        epoch_loss += loss.item()\n",
    "\n",
    "        # 학습 완료\n",
    "\n",
    "\n",
    "\n",
    "\n",
    "        # train 클래스별 IoU 계산\n",
    "        outputs = torch.softmax(outputs, dim=1).cpu()\n",
    "        outputs = torch.argmax(outputs, dim=1).numpy()\n",
    "        \n",
    "        \n",
    "        \n",
    "\n",
    "\n",
    "\n",
    "\n",
    "\n",
    "        for class_id in range(num_classes):\n",
    "            iou = calculate_iou_per_class(np.array(masks.cpu()), np.array(outputs), class_id)\n",
    "            train_class_ious.append(iou)\n",
    "            \n",
    "    train_class_ious = np.array(train_class_ious).reshape(-1, num_classes)\n",
    "    train_class_ious = np.mean(train_class_ious, axis=0)\n",
    "    \n",
    "    for class_id, iou in enumerate(train_class_ious):\n",
    "        print(f'Class {class_id} IoU: {iou:.4f}')\n",
    "     \n",
    "        \n",
    "    # mIoU 계산\n",
    "    train_mIoU = np.mean(train_class_ious)\n",
    "\n",
    "    # 특정 epoch이상일 때 alpha값 키우고, 모델이 pseudo image를 저장함.\n",
    "    if(epoch > T1) and (epoch < T2):\n",
    "        ALPHA = ALPHA_t*(epoch - T1)/(T2 - T1)\n",
    "        \n",
    "\n",
    "    elif epoch >= T2:\n",
    "        ALPHA = ALPHA_t\n",
    "\n",
    "    # validation\n",
    "    val_loss = 0\n",
    "    val_class_ious = []  # 클래스별 IoU를 누적할 리스트 초기화\n",
    "    with torch.no_grad():\n",
    "        model.eval()\n",
    "        for images, masks in tqdm(valid_dataloader):\n",
    "            images = images.float().to(device)\n",
    "            masks = masks.long().to(device)\n",
    "            outputs = model(images)\n",
    "\n",
    "            # validation loss 계산\n",
    "            val_loss += criterion(outputs, masks.squeeze(1)).item()\n",
    "\n",
    "            # validation 클래스별 IoU 계산\n",
    "            outputs = torch.softmax(outputs, dim=1).cpu()\n",
    "            outputs = torch.argmax(outputs, dim=1).numpy()\n",
    "\n",
    "            for class_id in range(num_classes):\n",
    "                iou = calculate_iou_per_class(np.array(masks.cpu()), np.array(outputs), class_id)\n",
    "                val_class_ious.append(iou)\n",
    "                \n",
    "    val_class_ious = np.array(val_class_ious).reshape(-1, num_classes)\n",
    "    val_class_ious = np.mean(val_class_ious, axis=0)\n",
    "    \n",
    "    for class_id, iou in enumerate(val_class_ious):\n",
    "        print(f'Class {class_id} IoU: {iou:.4f}')       \n",
    "   \n",
    "    # mIoU 계산\n",
    "    val_mIoU = np.mean(val_class_ious)\n",
    "    \n",
    "        \n",
    "    if best_val_mIoU < val_mIoU:\n",
    "        best_val_mIoU = val_mIoU\n",
    "        torch.save(model.state_dict(), save_directory + project_name + '_E' +str(epoch+1)+ \"_S\" + str(best_val_mIoU) + '.pt')\n",
    "        print(\"saved weights\")\n",
    "\n",
    "\n",
    "\n",
    "    # 에폭마다 결과 출력\n",
    "    print(f\"\\nEpoch{epoch+1}\")\n",
    "    print(f\"Train Loss: {epoch_loss/len(source_dataloader)}, Train mIoU Score: {train_mIoU:.4f}\")\n",
    "    print(f\"Validation Loss: {val_loss/len(valid_dataloader)}, Validation mIoU Score: {val_mIoU:.4f}\")\n",
    "    print(\"___________________________________________________________________________________________\\n\")\n",
    "    \n",
    "        # log metrics to wandb\n",
    "    wandb.log({\"train_acc\": train_mIoU, \"train_loss\": epoch_loss/len(source_dataloader)})\n",
    "    wandb.log({\"val_acc\": val_mIoU, \"val_loss\": val_loss/len(valid_dataloader)})\n",
    "    \n",
    "    \n",
    "# # [optional] finish the wandb run, necessary in notebooks\n",
    "wandb.finish()\n"
   ]
  },
  {
   "cell_type": "code",
   "execution_count": null,
   "metadata": {},
   "outputs": [
    {
     "name": "stdout",
     "output_type": "stream",
     "text": [
      "outputs size <built-in method size of Tensor object at 0x7fdc2716e230>\n",
      "masks size torch.Size([32, 128, 128])\n",
      "<class 'torch.Tensor'>\n",
      "poutputs size <built-in method size of Tensor object at 0x7fdc2703bc80>\n",
      "plabels size (32, 128, 128)\n",
      "<class 'numpy.ndarray'>\n"
     ]
    }
   ],
   "source": [
    "print(\"outputs size\", outputs.size)\n",
    "print(\"masks size\", masks.shape)\n",
    "print(type(masks))\n",
    "print(\"poutputs size\", poutputs.size)\n",
    "print(\"plabels size\", plabels.shape)\n",
    "print(type(plabels))"
   ]
  },
  {
   "cell_type": "code",
   "execution_count": null,
   "id": "3af68519",
   "metadata": {},
   "outputs": [],
   "source": [
    "# test_dataset = CustomDataset(csv_file=\"/mnt/nas27/Dataset/Samsung_DM/test.csv\", transform=transform, infer=True)\n",
    "# test_dataloader = DataLoader(test_dataset, batch_size=32, shuffle=False, num_workers=4)"
   ]
  },
  {
   "cell_type": "code",
   "execution_count": null,
   "id": "3480d833",
   "metadata": {},
   "outputs": [],
   "source": [
    "# with torch.no_grad():\n",
    "#     model.eval()\n",
    "#     result = []\n",
    "#     for images in tqdm(test_dataloader):\n",
    "#         images = images.float().to(device)\n",
    "#         outputs = model(images)\n",
    "#         outputs = torch.softmax(outputs, dim=1).cpu()\n",
    "#         outputs = torch.argmax(outputs, dim=1).numpy()\n",
    "#         # batch에 존재하는 각 이미지에 대해서 반복\n",
    "#         for pred in outputs:\n",
    "#             pred = pred.astype(np.uint8)\n",
    "#             pred = Image.fromarray(pred) # 이미지로 변환\n",
    "#             pred = pred.resize((960, 540), Image.NEAREST) # 960 x 540 사이즈로 변환\n",
    "#             pred = np.array(pred) # 다시 수치로 변환\n",
    "#             # class 0 ~ 11에 해당하는 경우에 마스크 형성 / 12(배경)는 제외하고 진행\n",
    "#             for class_id in range(12):\n",
    "#                 class_mask = (pred == class_id).astype(np.uint8)\n",
    "#                 if np.sum(class_mask) > 0: # 마스크가 존재하는 경우 encode\n",
    "#                     mask_rle = rle_encode(class_mask)\n",
    "#                     result.append(mask_rle)\n",
    "#                 else: # 마스크가 존재하지 않는 경우 -1\n",
    "#                     result.append(-1)"
   ]
  }
 ],
 "metadata": {
  "kernelspec": {
   "display_name": "seungyoon2",
   "language": "python",
   "name": "python3"
  },
  "language_info": {
   "codemirror_mode": {
    "name": "ipython",
    "version": 3
   },
   "file_extension": ".py",
   "mimetype": "text/x-python",
   "name": "python",
   "nbconvert_exporter": "python",
   "pygments_lexer": "ipython3",
   "version": "3.7.16"
  }
 },
 "nbformat": 4,
 "nbformat_minor": 5
}
