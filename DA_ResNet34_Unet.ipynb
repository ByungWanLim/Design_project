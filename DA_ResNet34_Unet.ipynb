{
 "cells": [
  {
   "cell_type": "code",
   "execution_count": 1,
   "metadata": {},
   "outputs": [
    {
     "name": "stderr",
     "output_type": "stream",
     "text": [
      "/home/MMI24limbyungwan/.conda/envs/byungwan_resn/lib/python3.8/site-packages/tqdm/auto.py:21: TqdmWarning: IProgress not found. Please update jupyter and ipywidgets. See https://ipywidgets.readthedocs.io/en/stable/user_install.html\n",
      "  from .autonotebook import tqdm as notebook_tqdm\n"
     ]
    }
   ],
   "source": [
    "import os\n",
    "import cv2\n",
    "from PIL import Image\n",
    "import pandas as pd\n",
    "import numpy as np\n",
    "\n",
    "import torch\n",
    "import torch.nn as nn\n",
    "import torch.nn.functional as F\n",
    "from torch.utils.data import Dataset, DataLoader\n",
    "from torchvision import transforms\n",
    "#from torch.optim.lr_scheduler import _LRScheduler\n",
    "\n",
    "from tqdm import tqdm\n",
    "import albumentations as A\n",
    "from albumentations.pytorch import ToTensorV2\n",
    "\n",
    "from torchvision import models\n",
    "from torchsummary import summary\n",
    "import torch.nn.functional as F\n"
   ]
  },
  {
   "cell_type": "code",
   "execution_count": 2,
   "metadata": {},
   "outputs": [
    {
     "name": "stdout",
     "output_type": "stream",
     "text": [
      "cuda\n",
      "3\n"
     ]
    }
   ],
   "source": [
    "\n",
    "# GPU 사용이 가능할 경우, GPU를 사용할 수 있게 함.'\n",
    "os.environ['CUDA_VISIBLE_DEVICES'] = '3'\n",
    "device = \"cuda\" if torch.cuda.is_available() else \"cpu\"\n",
    "device = torch.device(device)\n",
    "print(device)\n",
    "\n",
    "print(os.environ.get('CUDA_VISIBLE_DEVICES'))"
   ]
  },
  {
   "cell_type": "code",
   "execution_count": 3,
   "metadata": {},
   "outputs": [],
   "source": [
    "# RLE 인코딩 함수\n",
    "def rle_encode(mask):\n",
    "    pixels = mask.flatten()\n",
    "    pixels = np.concatenate([[0], pixels, [0]])\n",
    "    runs = np.where(pixels[1:] != pixels[:-1])[0] + 1\n",
    "    runs[1::2] -= runs[::2]\n",
    "    return ' '.join(str(x) for x in runs)\n",
    "\n",
    "# 클래스별 IoU를 계산하기 위한 함수\n",
    "def calculate_iou_per_class(y_true, y_pred, class_id):\n",
    "    intersection = np.sum((y_true == class_id) & (y_pred == class_id))\n",
    "    union = np.sum((y_true == class_id) | (y_pred == class_id))\n",
    "    iou = intersection / union if union > 0 else 0\n",
    "    return iou"
   ]
  },
  {
   "cell_type": "code",
   "execution_count": null,
   "metadata": {},
   "outputs": [],
   "source": []
  },
  {
   "cell_type": "code",
   "execution_count": 4,
   "metadata": {},
   "outputs": [],
   "source": [
    "class CustomDataset(Dataset):\n",
    "    def __init__(self, csv_file, transform=None, infer=False):\n",
    "        self.data = pd.read_csv(csv_file)\n",
    "        self.transform = transform\n",
    "        self.infer = infer\n",
    "\n",
    "    def __len__(self):\n",
    "        return len(self.data)\n",
    "\n",
    "    def __getitem__(self, idx):\n",
    "        #directory_path = \"/mnt/nas27/Dataset/Samsung_DM\"\n",
    "        directory_path = './data/224'\n",
    "        img_path = self.data.iloc[idx, 1]\n",
    "        img_path = os.path.join(directory_path, img_path)\n",
    "        image = cv2.imread(img_path)\n",
    "        image = cv2.cvtColor(image, cv2.COLOR_BGR2RGB)\n",
    "        #image = cv2.cvtColor(image, cv2.COLOR_BGR2GRAY)\n",
    "        \n",
    "        if self.infer:\n",
    "            if self.transform:\n",
    "                image = self.transform(image=image)['image']\n",
    "            return image\n",
    "        \n",
    "        mask_path = self.data.iloc[idx, 2]\n",
    "        mask_path = os.path.join(directory_path, mask_path)\n",
    "        mask = cv2.imread(mask_path)\n",
    "        #mask = cv2.cvtColor(mask, cv2.COLOR_BGR2RGB)\n",
    "        mask = cv2.cvtColor(mask, cv2.COLOR_BGR2GRAY)\n",
    "        mask = np.round(mask).astype(np.uint8)\n",
    "        mask[mask > 12] = 12 #배경을 픽셀값 12로 간주\n",
    "\n",
    "        if self.transform:\n",
    "            augmented = self.transform(image=image, mask=mask)\n",
    "            image = augmented['image']\n",
    "            mask = augmented['mask']\n",
    "\n",
    "        return image, mask\n",
    "\n",
    "# class CustomDataset_target(Dataset):\n",
    "#     def __init__(self, csv_file, transform=None, infer=False):\n",
    "#         self.data = pd.read_csv(csv_file)\n",
    "#         self.transform = transform\n",
    "#         self.infer = infer\n",
    "\n",
    "#     def __len__(self):\n",
    "#         return len(self.data)\n",
    "\n",
    "#     def __getitem__(self, idx):\n",
    "#         directory_path = \"/mnt/nas27/Dataset/Samsung_DM\"\n",
    "#         img_path = self.data.iloc[idx, 1]\n",
    "#         img_path = os.path.join(directory_path, img_path[2:])\n",
    "#         image = cv2.imread(img_path)\n",
    "#         image = cv2.cvtColor(image, cv2.COLOR_BGR2RGB)\n",
    "        \n",
    "#         if self.infer:\n",
    "#             if self.transform:\n",
    "#                 image = self.transform(image=image)['image']\n",
    "#             return image\n",
    "\n",
    "\n",
    "#         if self.transform:\n",
    "#             augmented = self.transform(image=image)\n",
    "#             image = augmented['image']\n",
    "            \n",
    "\n",
    "#         return image\n",
    "     \n",
    "\n",
    "transform = A.Compose(\n",
    "    [   \n",
    "        #A.Resize(224, 224),\n",
    "        #A.Resize(128, 128),\n",
    "        A.Normalize(),\n",
    "        \n",
    "        # 변형\n",
    "        # A.VerticalFlip(p=0.5),\n",
    "        # A.RandomRotate90(p=0.5),\n",
    "        # A.HueSaturationValue(p=0.2),\n",
    "        \n",
    "        ToTensorV2()\n",
    "    ]\n",
    ")"
   ]
  },
  {
   "cell_type": "code",
   "execution_count": 5,
   "metadata": {},
   "outputs": [],
   "source": [
    "class GradReverse(torch.autograd.Function):\n",
    "    @staticmethod\n",
    "    def forward(self, x):\n",
    "        return x.view_as(x)\n",
    "    @staticmethod\n",
    "    def backward(self, grad_output): # 역전파 시에 gradient에 음수를 취함\n",
    "        return grad_output * (-1)\n",
    "\n",
    "class domain_classifier(nn.Module):\n",
    "    def __init__(self):\n",
    "        super(domain_classifier, self).__init__()\n",
    "        self.fc1 = nn.Linear(224*224*64, 10)\n",
    "        self.fc2 = nn.Linear(10, 4) # source = 0, target = 1 회귀 가정\n",
    "\n",
    "    def forward(self, x):\n",
    "        x = x.view(-1, 224*224*64)\n",
    "        x = GradReverse.apply(x) # gradient reverse\n",
    "        x = F.leaky_relu(self.fc1(x))\n",
    "        x = self.fc2(x)\n",
    "        \n",
    "        #return torch.sigmoid(x)\n",
    "        return x\n",
    "\n",
    "class domain_linear(nn.Module):\n",
    "    def __init__(self):\n",
    "        super(domain_linear, self).__init__()\n",
    "        self.fc1 = nn.Linear(224*224*64, 10)\n",
    "        self.fc2 = nn.Linear(10, 1) # source = 0, target = 1 회귀 가정\n",
    "\n",
    "    def forward(self, x):\n",
    "        x = x.view(-1, 224*224*64)\n",
    "        x = GradReverse.apply(x) # gradient reverse\n",
    "        x = F.leaky_relu(self.fc1(x))\n",
    "        x = self.fc2(x)\n",
    "        \n",
    "        return torch.sigmoid(x)\n",
    "        #return x\n",
    "class IdentityBlock(nn.Module):\n",
    "    def __init__(self, in_channels, out_channels, stride=1):\n",
    "        super(IdentityBlock, self).__init__()\n",
    "        \n",
    "        # 3x3 convolution\n",
    "        self.conv1 = nn.Conv2d(in_channels, in_channels, kernel_size=3, padding=1, stride=stride, bias=False)\n",
    "        self.bn1 = nn.BatchNorm2d(in_channels)\n",
    "        self.relu1 = nn.ReLU()\n",
    "        \n",
    "        # 3x3 convolution\n",
    "        self.conv2 = nn.Conv2d(in_channels, out_channels, kernel_size=3, padding=1, bias=False)\n",
    "        self.bn2 = nn.BatchNorm2d(out_channels)\n",
    "        self.relu2 = nn.ReLU()\n",
    "        \n",
    "        # Skip connection\n",
    "        self.skip = nn.Sequential()\n",
    "        if stride != 1 or in_channels != out_channels:\n",
    "            self.skip = nn.Sequential(\n",
    "                nn.Conv2d(in_channels, out_channels, kernel_size=1, stride=stride, bias=False),\n",
    "                nn.BatchNorm2d(out_channels)\n",
    "            )\n",
    "        \n",
    "    def forward(self, x):\n",
    "        identity = x\n",
    "        \n",
    "        out = self.conv1(x)\n",
    "        out = self.bn1(out)\n",
    "        out = self.relu1(out)\n",
    "        \n",
    "        out = self.conv2(out)\n",
    "        out = self.bn2(out)\n",
    "        \n",
    "        # Adding the skip connection\n",
    "        out += self.skip(identity)\n",
    "        out = self.relu2(out)\n",
    "        \n",
    "        return out\n",
    "#인코더 블럭\n",
    "class Conv2(nn.Module):\n",
    "    def __init__(self,in_channels, out_channels):\n",
    "        super(Conv2,self).__init__() \n",
    "        self.identityblock1 = IdentityBlock(in_channels,in_channels)\n",
    "        self.identityblock2 = IdentityBlock(in_channels,in_channels)\n",
    "        self.identityblock3 = IdentityBlock(in_channels,out_channels)\n",
    "        self.maxpool = nn.MaxPool2d(kernel_size=3, stride=2,padding=1)\n",
    "    def forward(self,x):\n",
    "        x = self.identityblock1(x)\n",
    "        x = self.identityblock2(x)\n",
    "        x = self.identityblock3(x)\n",
    "        p = self.maxpool(x)\n",
    "        \n",
    "        return x , p\n",
    "class Conv3(nn.Module):\n",
    "    def __init__(self,in_channels, out_channels):\n",
    "        super(Conv3,self).__init__()         \n",
    "        self.identityblock1 = IdentityBlock(in_channels,in_channels)\n",
    "        self.identityblock2 = IdentityBlock(in_channels,in_channels)\n",
    "        self.identityblock3 = IdentityBlock(in_channels,in_channels)\n",
    "        self.identityblock4 = IdentityBlock(in_channels,out_channels)\n",
    "        self.maxpool = nn.MaxPool2d(kernel_size=3, stride=2,padding=1)\n",
    "    def forward(self,x):\n",
    "        x = self.identityblock1(x)\n",
    "        x = self.identityblock2(x)\n",
    "        x = self.identityblock3(x)\n",
    "        x = self.identityblock4(x)\n",
    "        p = self.maxpool(x)\n",
    "        \n",
    "        return x , p\n",
    "class Conv4(nn.Module):\n",
    "    def __init__(self,in_channels, out_channels):\n",
    "        super(Conv4,self).__init__()         \n",
    "        self.identityblock1 = IdentityBlock(in_channels,in_channels)\n",
    "        self.identityblock2 = IdentityBlock(in_channels,in_channels)\n",
    "        self.identityblock3 = IdentityBlock(in_channels,in_channels)\n",
    "        self.identityblock4 = IdentityBlock(in_channels,in_channels)\n",
    "        self.identityblock5 = IdentityBlock(in_channels,in_channels)\n",
    "        self.identityblock6 = IdentityBlock(in_channels,out_channels)\n",
    "        self.maxpool = nn.MaxPool2d(kernel_size=3, stride=2,padding=1)\n",
    "    def forward(self,x):\n",
    "        x = self.identityblock1(x)\n",
    "        x = self.identityblock2(x)\n",
    "        x = self.identityblock3(x)\n",
    "        x = self.identityblock4(x)\n",
    "        x = self.identityblock5(x)\n",
    "        x = self.identityblock6(x)\n",
    "        p = self.maxpool(x)\n",
    "        \n",
    "        return x , p\n",
    "class Conv5(nn.Module):\n",
    "    def __init__(self,in_channels, out_channels):\n",
    "        super(Conv5,self).__init__() \n",
    "        self.identityblock1 = IdentityBlock(in_channels,in_channels)\n",
    "        self.identityblock2 = IdentityBlock(in_channels,in_channels)\n",
    "        self.identityblock3 = IdentityBlock(in_channels,out_channels)\n",
    "        self.maxpool = nn.MaxPool2d(kernel_size=3, stride=2,padding=1)\n",
    "        \n",
    "    def forward(self,x):\n",
    "        x = self.identityblock1(x)\n",
    "        x = self.identityblock2(x)\n",
    "        x = self.identityblock3(x)\n",
    "        p = self.maxpool(x)\n",
    "        \n",
    "        return x , p\n",
    "#디코더 블럭\n",
    "class DecoderBlock(nn.Module):\n",
    "    def __init__(self, channels):\n",
    "        super(DecoderBlock, self).__init__()\n",
    "        self.upsample = nn.ConvTranspose2d(channels*2, channels, kernel_size=4, stride=2, padding=1) # output_padding 추가\n",
    "        self.convblock1 = IdentityBlock(channels*2, channels)\n",
    "\n",
    "    def forward(self, x, skip):\n",
    "        x = self.upsample(x)\n",
    "        if x.size(2) != skip.size(2) or x.size(3) != skip.size(3):\n",
    "            x = F.interpolate(x, size=(skip.size(2), skip.size(3)))\n",
    "        x = torch.cat([x, skip], dim=1)\n",
    "        x = self.convblock1(x)\n",
    "        #print(\"x\",x.shape,\"skip: \",skip.shape)\n",
    "        return x\n",
    "\n",
    "#Unet구조 middle의 xm값의 움직임에 주의\n",
    "class Resnet34_Unet(nn.Module):\n",
    "    def __init__(self,n_classes):\n",
    "        super(Resnet34_Unet,self).__init__()\n",
    "        self.fconv1 = nn.Conv2d(3, 64, kernel_size=7, stride=2, padding=3)\n",
    "        self.fbn1 = nn.BatchNorm2d(64)\n",
    "        self.frelu1 = nn.ReLU()\n",
    "        self.fmaxpooling = nn.MaxPool2d(kernel_size=3,stride=2,padding=1)\n",
    "        \n",
    "        self.conv2 = Conv2(64,128)\n",
    "        self.conv3 = Conv3(128,256)\n",
    "        self.conv4 = Conv4(256,512)\n",
    "        self.conv5 = Conv5(512,1024)\n",
    "        \n",
    "        self.middleconv = IdentityBlock(1024,2048)\n",
    "        self.dropout = nn.Dropout2d(0.1) #\n",
    "           \n",
    "        self.decoder5 = DecoderBlock(1024)\n",
    "        self.decoder4 = DecoderBlock(512)\n",
    "        self.decoder3 = DecoderBlock(256)\n",
    "        self.decoder2 = DecoderBlock(128)\n",
    "        self.decoder1 = DecoderBlock(64)\n",
    "        self.transpose = nn.ConvTranspose2d(64, 64, kernel_size=4, stride=2, padding=1) # output_padding 추가\n",
    "        \n",
    "        self.segmap = nn.Conv2d(64,n_classes, kernel_size=1)\n",
    "        self.domain_classifier = domain_classifier()\n",
    "        self.domain_linear = domain_linear()\n",
    "        \n",
    "    def forward(self,x):\n",
    "        x = self.fconv1(x)#3->64\n",
    "        x0 = self.fbn1(x)\n",
    "        x1 = self.frelu1(x)\n",
    "        p = self.fmaxpooling(x1)#첫 conv: x0([8, 64, 109, 109]) p([8, 64, 54, 54])\n",
    "        #print(\"conv1: \",x1.shape, \"maxpooling: \",p.shape)\n",
    "        x2,p = self.conv2(p)\n",
    "        #print(\"conv2: \",x2.shape, \"maxpooling: \",p.shape)\n",
    "        x3,p = self.conv3(p)\n",
    "        #print(\"conv3: \",x3.shape, \"maxpooling: \",p.shape)\n",
    "        x4,p = self.conv4(p)\n",
    "        #print(\"conv4: \",x4.shape, \"maxpooling: \",p.shape)\n",
    "        x5,p = self.conv5(p)\n",
    "        #print(\"conv5: \",x5.shape, \"maxpooling: \",p.shape)\n",
    "        \n",
    "        xm = self.middleconv(p)#xm([8, 4096, 2, 2])\n",
    "        #print(\"xm: \",xm.shape, \"maxpooling: \",p.shape)\n",
    "        xm = self.dropout(xm)\n",
    "        \n",
    "        x = self.decoder5(xm,x5)#뉴런:2048*2->2048 1\n",
    "        x = self.decoder4(x,x4)#뉴런:1024*2->1024 \n",
    "        x = self.decoder3(x,x3) #14\n",
    "        x = self.decoder2(x,x2)#28\n",
    "        x = self.decoder1(x,x1)#55\n",
    "        x = self.transpose(x)\n",
    "        \n",
    "        #print(x.shape)\n",
    "        #x = F.interpolate(x, size=(224, 224))\n",
    "        x_c = self.segmap(x)\n",
    "        x_d = self.domain_linear(x)\n",
    "        \n",
    "        return x_c,x_d"
   ]
  },
  {
   "cell_type": "code",
   "execution_count": 6,
   "metadata": {},
   "outputs": [],
   "source": [
    "# import pickle\n",
    "\n",
    "# # 저장된 class_weights를 불러옵니다.\n",
    "# class_weights_path = 'CLASS_WEIGHTS.pkl'\n",
    "\n",
    "# with open(class_weights_path, 'rb') as file:\n",
    "#     CLASS_WEIGHTS = pickle.load(file)\n",
    "\n",
    "# print(CLASS_WEIGHTS)"
   ]
  },
  {
   "cell_type": "markdown",
   "metadata": {},
   "source": [
    "## Loss Function"
   ]
  },
  {
   "cell_type": "code",
   "execution_count": 7,
   "metadata": {},
   "outputs": [],
   "source": [
    "# loss function과 optimizer 정의\n",
    "\n",
    "class DANN_Loss(nn.Module):\n",
    "    def __init__(self):\n",
    "        super(DANN_Loss, self).__init__()\n",
    "\n",
    "        self.CE = nn.CrossEntropyLoss() # 0~9 class 분류용\n",
    "        self.BCE = nn.BCELoss() # 도메인 분류용\n",
    "        \n",
    "    # result : DANN_CNN에서 반환된 값\n",
    "    # label : 숫자 0 ~ 9에 대한 라벨\n",
    "    # domain_num : 0(source) or 1(target)\n",
    "    def forward(self, result, label, domain_num, alpha = 1):\n",
    "        label_logits, domain_logits = result # DANN_CNN의 결과\n",
    "\n",
    "        batch_size = domain_logits.shape[0]\n",
    "\n",
    "        domain_target = torch.FloatTensor([domain_num] * batch_size).unsqueeze(1).to(device)\n",
    "\n",
    "        domain_loss = self.BCE(domain_logits, domain_target) # domain 분류 loss\n",
    "        target_loss = self.CE(label_logits, label) # class 분류 loss\n",
    "\n",
    "        loss = target_loss + alpha * domain_loss\n",
    "\n",
    "        return loss\n",
    "    \n",
    "\n",
    "loss_fn = DANN_Loss().to(device)\n",
    "\n",
    "#criterion =nn.CrossEntropyLoss()\n",
    "#domain_criterion = nn.BCELoss()\n",
    "#criterion = nn.CrossEntropyLoss(weight=class_weights)"
   ]
  },
  {
   "cell_type": "code",
   "execution_count": 8,
   "metadata": {},
   "outputs": [],
   "source": [
    "LR = 0.001\n",
    "EP = 20\n",
    "BATCH_SIZE = 16\n",
    "ACCMULATION_STEP = 1 \n",
    "N_CLASSES = 13 #IoU 점수측정하기 위한 클래스의 개수\n",
    "ALPHA = 0.5\n",
    "# model 초기화\n",
    "#model = Unet_resnet18(n_classes = N_CLASSES).to(device)\n",
    "#model = ResNet50(num_classes=N_CLASSES).to(device)\n",
    "model = Resnet34_Unet(n_classes = N_CLASSES).to(device)\n",
    "optimizer = torch.optim.Adam(model.parameters(), lr=LR)\n",
    "\n",
    "optimizer.zero_grad() \n",
    "\n",
    "source_dataset = CustomDataset(csv_file='./data/DA_csv/train_source.csv', transform=transform)\n",
    "source_dataloader = DataLoader(source_dataset, batch_size=BATCH_SIZE, shuffle=True)\n",
    "target_dataset = CustomDataset(csv_file='./data/DA_csv/fish_train_source.csv', transform=transform)\n",
    "target_dataloader = DataLoader(target_dataset, batch_size=BATCH_SIZE, shuffle=True)\n",
    "\n",
    "val_source_dataset = CustomDataset(csv_file='./data/DA_csv/val_source.csv', transform=transform)\n",
    "val_source_dataloader = DataLoader(val_source_dataset, batch_size=BATCH_SIZE, shuffle=False)\n",
    "val_target_dataset = CustomDataset(csv_file='./data/DA_csv/fish_val_source.csv', transform=transform)\n",
    "val_target_dataloader = DataLoader(val_target_dataset, batch_size=BATCH_SIZE, shuffle=False)\n",
    "# source_dataset = CustomDataset(csv_file=os.path.join(\"/mnt/nas27/Dataset/Samsung_DM\",'./train_source.csv'), transform=transform)#\n",
    "# source_dataloader = DataLoader(source_dataset, batch_size=BATCH_SIZE, shuffle=True, num_workers=8)\n",
    "# s_valid_dataset = CustomDataset(csv_file=os.path.join(\"/mnt/nas27/Dataset/Samsung_DM\",'./val_source.csv'), transform=transform)\n",
    "# s_valid_dataloader = DataLoader(s_valid_dataset, batch_size=BATCH_SIZE, shuffle=False, num_workers=8)\n",
    "# #target_dataset = CustomDataset_target(csv_file='./f_train_source.csv', transform=transform)\n",
    "# target_dataset = CustomDataset(csv_file=os.path.join(\"/mnt/nas27/Dataset/Samsung_DM\",'./fish_val_source.csv'), transform=transform)\n",
    "# target_dataloader = DataLoader(target_dataset, batch_size=BATCH_SIZE, shuffle=False, num_workers=8)\n",
    "\n",
    "# t_test_dataset = CustomDataset(csv_file=os.path.join(\"/mnt/nas27/Dataset/Samsung_DM\",'./test.csv'), transform=transform, infer=True)\n",
    "# t_test_dataloader = DataLoader(t_test_dataset, batch_size=BATCH_SIZE, shuffle=False, num_workers=8)"
   ]
  },
  {
   "cell_type": "code",
   "execution_count": 9,
   "metadata": {},
   "outputs": [],
   "source": [
    "# import pandas as pd\n",
    "# import os\n",
    "# import cv2\n",
    "# import matplotlib.pyplot as plt\n",
    "# a1 = pd.read_csv(\"./data/6_fish_source.csv\")\n",
    "# p = \"./data/224/\"\n",
    "# a2 = os.path.join(p, a1.iloc[3,2])\n",
    "# a3 = cv2.imread(a2)\n",
    "# a4 = cv2.cvtColor(a3, cv2.COLOR_BGR2GRAY)\n",
    "# a4 = np.round(a4).astype(np.uint8)\n",
    "# a5 = a4*20\n",
    "\n",
    "# plt.imshow(a5, cmap='gray')\n",
    "# plt.axis('off')\n",
    "# plt.show()"
   ]
  },
  {
   "cell_type": "code",
   "execution_count": 10,
   "metadata": {},
   "outputs": [
    {
     "name": "stderr",
     "output_type": "stream",
     "text": [
      "69it [01:03,  1.08it/s]\n"
     ]
    },
    {
     "name": "stdout",
     "output_type": "stream",
     "text": [
      "--IoU Scores Train--\n",
      "Class0: 0.0198 Class1: 0.0485 Class2: 0.1192 Class3: 0.1930 Class4: 0.2376 Class5: 0.2605 Class6: 0.2725 \n",
      "Class7: 0.2628 Class8: 0.2854 Class9: 0.3214 Class10: 0.3054 Class11: 0.3211 Class12: 0.3276 \n",
      "--IoU Scores Fish Train--\n",
      "Class0: 0.0842 Class1: 0.1039 Class2: 0.1481 Class3: 0.1906 Class4: 0.2183 Class5: 0.2545 Class6: 0.2755 \n",
      "Class7: 0.2657 Class8: 0.2848 Class9: 0.3154 Class10: 0.3006 Class11: 0.3154 Class12: 0.3196 \n",
      "Epoch1\n",
      "Train Loss: 50.039515688799426\n",
      "Train mIoU: 0.22883813882116838, Fish_Train_mIoU: 0.23666371214297313\n",
      "___________________________________________________________________________________________\n",
      "\n"
     ]
    },
    {
     "name": "stderr",
     "output_type": "stream",
     "text": [
      "15it [00:07,  2.01it/s]\n"
     ]
    },
    {
     "name": "stdout",
     "output_type": "stream",
     "text": [
      "--IoU Scores val--\n",
      "Class0: 0.2641 Class1: 0.2759 Class2: 0.2357 Class3: 0.2681 Class4: 0.3003 Class5: 0.2611 Class6: 0.3497 \n",
      "Class7: 0.2770 Class8: 0.2424 Class9: 0.2485 Class10: 0.3335 Class11: 0.2595 Class12: 0.3348 \n",
      "--IoU Scores Fish val--\n",
      "Class0: 0.1190 Class1: 0.1093 Class2: 0.0969 Class3: 0.1035 Class4: 0.1342 Class5: 0.1241 Class6: 0.1172 \n",
      "Class7: 0.1062 Class8: 0.1030 Class9: 0.1023 Class10: 0.1776 Class11: 0.1097 Class12: 0.1217 \n",
      "Epoch1\n",
      "val Loss: 53.26100463867188\n",
      "val mIoU: 0.28083072923083086, Fish_val_mIoU: 0.11728254275264434\n",
      "___________________________________________________________________________________________\n",
      "\n"
     ]
    },
    {
     "name": "stderr",
     "output_type": "stream",
     "text": [
      "69it [01:03,  1.09it/s]\n"
     ]
    },
    {
     "name": "stdout",
     "output_type": "stream",
     "text": [
      "--IoU Scores Train--\n",
      "Class0: 0.3311 Class1: 0.3311 Class2: 0.3356 Class3: 0.3505 Class4: 0.3171 Class5: 0.3409 Class6: 0.3539 \n",
      "Class7: 0.3320 Class8: 0.3521 Class9: 0.3624 Class10: 0.3569 Class11: 0.3660 Class12: 0.3687 \n",
      "--IoU Scores Fish Train--\n",
      "Class0: 0.3187 Class1: 0.3124 Class2: 0.3225 Class3: 0.3330 Class4: 0.3093 Class5: 0.3271 Class6: 0.3397 \n",
      "Class7: 0.3220 Class8: 0.3328 Class9: 0.3534 Class10: 0.3224 Class11: 0.3391 Class12: 0.3441 \n",
      "Epoch2\n",
      "Train Loss: 50.73763120347175\n",
      "Train mIoU: 0.3460206802734274, Fish_Train_mIoU: 0.3289602917559675\n",
      "___________________________________________________________________________________________\n",
      "\n"
     ]
    },
    {
     "name": "stderr",
     "output_type": "stream",
     "text": [
      "15it [00:07,  2.02it/s]\n"
     ]
    },
    {
     "name": "stdout",
     "output_type": "stream",
     "text": [
      "--IoU Scores val--\n",
      "Class0: 0.2880 Class1: 0.2999 Class2: 0.2477 Class3: 0.2988 Class4: 0.3175 Class5: 0.2954 Class6: 0.3723 \n",
      "Class7: 0.2969 Class8: 0.2622 Class9: 0.2616 Class10: 0.3562 Class11: 0.2719 Class12: 0.3619 \n",
      "--IoU Scores Fish val--\n",
      "Class0: 0.2042 Class1: 0.1836 Class2: 0.1613 Class3: 0.1681 Class4: 0.2233 Class5: 0.1956 Class6: 0.2185 \n",
      "Class7: 0.1755 Class8: 0.1639 Class9: 0.1665 Class10: 0.2368 Class11: 0.1698 Class12: 0.1907 \n",
      "Epoch2\n",
      "val Loss: 51.57339096069336\n",
      "val mIoU: 0.30233614098149164, Fish_val_mIoU: 0.18906880889870717\n",
      "___________________________________________________________________________________________\n",
      "\n"
     ]
    },
    {
     "name": "stderr",
     "output_type": "stream",
     "text": [
      "69it [01:03,  1.09it/s]\n"
     ]
    },
    {
     "name": "stdout",
     "output_type": "stream",
     "text": [
      "--IoU Scores Train--\n",
      "Class0: 0.3821 Class1: 0.3659 Class2: 0.3857 Class3: 0.4217 Class4: 0.3827 Class5: 0.3992 Class6: 0.4195 \n",
      "Class7: 0.4038 Class8: 0.4139 Class9: 0.4190 Class10: 0.4107 Class11: 0.4299 Class12: 0.4256 \n",
      "--IoU Scores Fish Train--\n",
      "Class0: 0.3561 Class1: 0.3327 Class2: 0.3482 Class3: 0.3730 Class4: 0.3287 Class5: 0.3599 Class6: 0.3710 \n",
      "Class7: 0.3411 Class8: 0.3559 Class9: 0.3847 Class10: 0.3572 Class11: 0.3748 Class12: 0.3578 \n",
      "Epoch3\n",
      "Train Loss: 50.6180030712183\n",
      "Train mIoU: 0.4045941013453763, Fish_Train_mIoU: 0.3570172869476613\n",
      "___________________________________________________________________________________________\n",
      "\n"
     ]
    },
    {
     "name": "stderr",
     "output_type": "stream",
     "text": [
      "15it [00:07,  2.01it/s]\n"
     ]
    },
    {
     "name": "stdout",
     "output_type": "stream",
     "text": [
      "--IoU Scores val--\n",
      "Class0: 0.2108 Class1: 0.2628 Class2: 0.2024 Class3: 0.2375 Class4: 0.2691 Class5: 0.2364 Class6: 0.2629 \n",
      "Class7: 0.2298 Class8: 0.2127 Class9: 0.2063 Class10: 0.3044 Class11: 0.2191 Class12: 0.3087 \n",
      "--IoU Scores Fish val--\n",
      "Class0: 0.2839 Class1: 0.2838 Class2: 0.2280 Class3: 0.2258 Class4: 0.2904 Class5: 0.2467 Class6: 0.3124 \n",
      "Class7: 0.2638 Class8: 0.2347 Class9: 0.2190 Class10: 0.3236 Class11: 0.2391 Class12: 0.2338 \n",
      "Epoch3\n",
      "val Loss: 51.64375432332357\n",
      "val mIoU: 0.24331387743461075, Fish_val_mIoU: 0.26038825277011995\n",
      "___________________________________________________________________________________________\n",
      "\n"
     ]
    },
    {
     "name": "stderr",
     "output_type": "stream",
     "text": [
      "69it [01:03,  1.09it/s]\n"
     ]
    },
    {
     "name": "stdout",
     "output_type": "stream",
     "text": [
      "--IoU Scores Train--\n",
      "Class0: 0.4075 Class1: 0.3937 Class2: 0.4246 Class3: 0.4391 Class4: 0.4122 Class5: 0.4255 Class6: 0.4487 \n",
      "Class7: 0.4440 Class8: 0.4545 Class9: 0.4517 Class10: 0.4552 Class11: 0.4560 Class12: 0.4613 \n",
      "--IoU Scores Fish Train--\n",
      "Class0: 0.3714 Class1: 0.3504 Class2: 0.3452 Class3: 0.3819 Class4: 0.3504 Class5: 0.3754 Class6: 0.3828 \n",
      "Class7: 0.3814 Class8: 0.3857 Class9: 0.3994 Class10: 0.3801 Class11: 0.3842 Class12: 0.3785 \n",
      "Epoch4\n",
      "Train Loss: 50.570260642231375\n",
      "Train mIoU: 0.4364544146976738, Fish_Train_mIoU: 0.3743623831660448\n",
      "___________________________________________________________________________________________\n",
      "\n"
     ]
    },
    {
     "name": "stderr",
     "output_type": "stream",
     "text": [
      "15it [00:07,  2.03it/s]\n"
     ]
    },
    {
     "name": "stdout",
     "output_type": "stream",
     "text": [
      "--IoU Scores val--\n",
      "Class0: 0.2243 Class1: 0.2793 Class2: 0.2196 Class3: 0.2680 Class4: 0.2779 Class5: 0.2528 Class6: 0.2985 \n",
      "Class7: 0.2470 Class8: 0.2256 Class9: 0.2274 Class10: 0.3161 Class11: 0.2350 Class12: 0.3285 \n",
      "--IoU Scores Fish val--\n",
      "Class0: 0.2868 Class1: 0.2767 Class2: 0.2285 Class3: 0.2226 Class4: 0.2760 Class5: 0.2622 Class6: 0.3274 \n",
      "Class7: 0.2613 Class8: 0.2430 Class9: 0.2227 Class10: 0.3139 Class11: 0.2417 Class12: 0.2649 \n",
      "Epoch4\n",
      "val Loss: 51.42314020792643\n",
      "val mIoU: 0.26153674975297214, Fish_val_mIoU: 0.26367155005925247\n",
      "___________________________________________________________________________________________\n",
      "\n"
     ]
    },
    {
     "name": "stderr",
     "output_type": "stream",
     "text": [
      "69it [01:03,  1.09it/s]\n"
     ]
    },
    {
     "name": "stdout",
     "output_type": "stream",
     "text": [
      "--IoU Scores Train--\n",
      "Class0: 0.4592 Class1: 0.4486 Class2: 0.4438 Class3: 0.4606 Class4: 0.4429 Class5: 0.4567 Class6: 0.4827 \n",
      "Class7: 0.4751 Class8: 0.4757 Class9: 0.4799 Class10: 0.4763 Class11: 0.4781 Class12: 0.4753 \n",
      "--IoU Scores Fish Train--\n",
      "Class0: 0.3990 Class1: 0.3764 Class2: 0.3869 Class3: 0.3907 Class4: 0.3626 Class5: 0.3862 Class6: 0.4205 \n",
      "Class7: 0.3911 Class8: 0.3956 Class9: 0.4159 Class10: 0.3868 Class11: 0.4111 Class12: 0.4015 \n",
      "Epoch5\n",
      "Train Loss: 50.508853304213375\n",
      "Train mIoU: 0.46576785476680993, Fish_Train_mIoU: 0.39417487773610205\n",
      "___________________________________________________________________________________________\n",
      "\n"
     ]
    },
    {
     "name": "stderr",
     "output_type": "stream",
     "text": [
      "15it [00:07,  2.01it/s]\n"
     ]
    },
    {
     "name": "stdout",
     "output_type": "stream",
     "text": [
      "--IoU Scores val--\n",
      "Class0: 0.2565 Class1: 0.2868 Class2: 0.2263 Class3: 0.2773 Class4: 0.2810 Class5: 0.2970 Class6: 0.3400 \n",
      "Class7: 0.2682 Class8: 0.2455 Class9: 0.2447 Class10: 0.3230 Class11: 0.2529 Class12: 0.3567 \n",
      "--IoU Scores Fish val--\n",
      "Class0: 0.2950 Class1: 0.2773 Class2: 0.2139 Class3: 0.2309 Class4: 0.2986 Class5: 0.2602 Class6: 0.3252 \n",
      "Class7: 0.2561 Class8: 0.2209 Class9: 0.2369 Class10: 0.3392 Class11: 0.2485 Class12: 0.2756 \n",
      "Epoch5\n",
      "val Loss: 51.47476654052734\n",
      "val mIoU: 0.2812158136679199, Fish_val_mIoU: 0.2675550111834887\n",
      "___________________________________________________________________________________________\n",
      "\n"
     ]
    },
    {
     "name": "stderr",
     "output_type": "stream",
     "text": [
      "69it [01:03,  1.09it/s]\n"
     ]
    },
    {
     "name": "stdout",
     "output_type": "stream",
     "text": [
      "--IoU Scores Train--\n",
      "Class0: 0.4889 Class1: 0.4450 Class2: 0.4825 Class3: 0.4985 Class4: 0.4565 Class5: 0.4524 Class6: 0.4807 \n",
      "Class7: 0.4486 Class8: 0.4915 Class9: 0.4815 Class10: 0.4597 Class11: 0.4854 Class12: 0.4703 \n",
      "--IoU Scores Fish Train--\n",
      "Class0: 0.4058 Class1: 0.3877 Class2: 0.4151 Class3: 0.4215 Class4: 0.4039 Class5: 0.4032 Class6: 0.4168 \n",
      "Class7: 0.3979 Class8: 0.3980 Class9: 0.4209 Class10: 0.4024 Class11: 0.4109 Class12: 0.4057 \n",
      "Epoch6\n",
      "Train Loss: 50.4898567199707\n",
      "Train mIoU: 0.47242436077625205, Fish_Train_mIoU: 0.40689727971913575\n",
      "___________________________________________________________________________________________\n",
      "\n"
     ]
    },
    {
     "name": "stderr",
     "output_type": "stream",
     "text": [
      "15it [00:07,  2.01it/s]\n"
     ]
    },
    {
     "name": "stdout",
     "output_type": "stream",
     "text": [
      "--IoU Scores val--\n",
      "Class0: 0.2290 Class1: 0.2776 Class2: 0.2155 Class3: 0.2734 Class4: 0.2616 Class5: 0.2699 Class6: 0.2944 \n",
      "Class7: 0.2425 Class8: 0.2290 Class9: 0.2308 Class10: 0.3161 Class11: 0.2385 Class12: 0.3223 \n",
      "--IoU Scores Fish val--\n",
      "Class0: 0.1729 Class1: 0.1731 Class2: 0.1431 Class3: 0.1489 Class4: 0.1860 Class5: 0.1690 Class6: 0.1800 \n",
      "Class7: 0.1505 Class8: 0.1444 Class9: 0.1537 Class10: 0.2359 Class11: 0.1505 Class12: 0.1675 \n",
      "Epoch6\n",
      "val Loss: 52.52967783610026\n",
      "val mIoU: 0.2615963652759756, Fish_val_mIoU: 0.1673668344875801\n",
      "___________________________________________________________________________________________\n",
      "\n"
     ]
    },
    {
     "name": "stderr",
     "output_type": "stream",
     "text": [
      "69it [01:03,  1.09it/s]\n"
     ]
    },
    {
     "name": "stdout",
     "output_type": "stream",
     "text": [
      "--IoU Scores Train--\n",
      "Class0: 0.4922 Class1: 0.4708 Class2: 0.4867 Class3: 0.5005 Class4: 0.4737 Class5: 0.5027 Class6: 0.5066 \n",
      "Class7: 0.4740 Class8: 0.4857 Class9: 0.4895 Class10: 0.4676 Class11: 0.4830 Class12: 0.4656 \n",
      "--IoU Scores Fish Train--\n",
      "Class0: 0.4105 Class1: 0.4019 Class2: 0.4065 Class3: 0.4366 Class4: 0.3926 Class5: 0.4104 Class6: 0.4332 \n",
      "Class7: 0.4148 Class8: 0.4227 Class9: 0.4276 Class10: 0.4183 Class11: 0.4258 Class12: 0.4233 \n",
      "Epoch7\n",
      "Train Loss: 50.45728467858356\n",
      "Train mIoU: 0.48449673010190863, Fish_Train_mIoU: 0.417249413928503\n",
      "___________________________________________________________________________________________\n",
      "\n"
     ]
    },
    {
     "name": "stderr",
     "output_type": "stream",
     "text": [
      "15it [00:07,  2.01it/s]\n"
     ]
    },
    {
     "name": "stdout",
     "output_type": "stream",
     "text": [
      "--IoU Scores val--\n",
      "Class0: 0.1604 Class1: 0.1993 Class2: 0.1569 Class3: 0.2057 Class4: 0.1654 Class5: 0.2074 Class6: 0.2184 \n",
      "Class7: 0.1669 Class8: 0.1701 Class9: 0.1750 Class10: 0.2134 Class11: 0.1704 Class12: 0.2686 \n",
      "--IoU Scores Fish val--\n",
      "Class0: 0.2448 Class1: 0.2389 Class2: 0.1868 Class3: 0.1847 Class4: 0.2107 Class5: 0.2265 Class6: 0.2666 \n",
      "Class7: 0.1994 Class8: 0.2116 Class9: 0.1900 Class10: 0.2490 Class11: 0.2036 Class12: 0.2304 \n",
      "Epoch7\n",
      "val Loss: 52.743997701009114\n",
      "val mIoU: 0.1906177765447736, Fish_val_mIoU: 0.2186829102802924\n",
      "___________________________________________________________________________________________\n",
      "\n"
     ]
    },
    {
     "name": "stderr",
     "output_type": "stream",
     "text": [
      "69it [01:03,  1.09it/s]\n"
     ]
    },
    {
     "name": "stdout",
     "output_type": "stream",
     "text": [
      "--IoU Scores Train--\n",
      "Class0: 0.4816 Class1: 0.4837 Class2: 0.4823 Class3: 0.4965 Class4: 0.4766 Class5: 0.4850 Class6: 0.5226 \n",
      "Class7: 0.4835 Class8: 0.4911 Class9: 0.5054 Class10: 0.4857 Class11: 0.4920 Class12: 0.5098 \n",
      "--IoU Scores Fish Train--\n",
      "Class0: 0.4055 Class1: 0.4001 Class2: 0.4221 Class3: 0.4459 Class4: 0.4060 Class5: 0.4184 Class6: 0.4377 \n",
      "Class7: 0.4172 Class8: 0.4191 Class9: 0.4558 Class10: 0.4146 Class11: 0.4160 Class12: 0.4311 \n",
      "Epoch8\n",
      "Train Loss: 50.439410444619\n",
      "Train mIoU: 0.4919893202812281, Fish_Train_mIoU: 0.4222722293182682\n",
      "___________________________________________________________________________________________\n",
      "\n"
     ]
    },
    {
     "name": "stderr",
     "output_type": "stream",
     "text": [
      "15it [00:07,  2.02it/s]\n"
     ]
    },
    {
     "name": "stdout",
     "output_type": "stream",
     "text": [
      "--IoU Scores val--\n",
      "Class0: 0.2676 Class1: 0.2878 Class2: 0.2346 Class3: 0.2807 Class4: 0.2636 Class5: 0.2956 Class6: 0.3493 \n",
      "Class7: 0.2590 Class8: 0.2488 Class9: 0.2397 Class10: 0.2979 Class11: 0.2467 Class12: 0.3594 \n",
      "--IoU Scores Fish val--\n",
      "Class0: 0.3197 Class1: 0.3015 Class2: 0.2567 Class3: 0.2547 Class4: 0.2969 Class5: 0.3059 Class6: 0.3734 \n",
      "Class7: 0.2727 Class8: 0.2680 Class9: 0.2632 Class10: 0.3449 Class11: 0.2788 Class12: 0.3292 \n",
      "Epoch8\n",
      "val Loss: 51.639427947998044\n",
      "val mIoU: 0.27928171510493366, Fish_val_mIoU: 0.2973424442470024\n",
      "___________________________________________________________________________________________\n",
      "\n"
     ]
    },
    {
     "name": "stderr",
     "output_type": "stream",
     "text": [
      "69it [01:03,  1.09it/s]\n"
     ]
    },
    {
     "name": "stdout",
     "output_type": "stream",
     "text": [
      "--IoU Scores Train--\n",
      "Class0: 0.5061 Class1: 0.4878 Class2: 0.4966 Class3: 0.5212 Class4: 0.4890 Class5: 0.5101 Class6: 0.5250 \n",
      "Class7: 0.5069 Class8: 0.5159 Class9: 0.5233 Class10: 0.5058 Class11: 0.5225 Class12: 0.5056 \n",
      "--IoU Scores Fish Train--\n",
      "Class0: 0.4368 Class1: 0.4140 Class2: 0.4362 Class3: 0.4298 Class4: 0.4111 Class5: 0.4286 Class6: 0.4490 \n",
      "Class7: 0.4197 Class8: 0.4430 Class9: 0.4418 Class10: 0.4286 Class11: 0.4420 Class12: 0.4399 \n",
      "Epoch9\n",
      "Train Loss: 50.412530263264976\n",
      "Train mIoU: 0.508917419384598, Fish_Train_mIoU: 0.43234756581520833\n",
      "___________________________________________________________________________________________\n",
      "\n"
     ]
    },
    {
     "name": "stderr",
     "output_type": "stream",
     "text": [
      "15it [00:07,  2.02it/s]\n"
     ]
    },
    {
     "name": "stdout",
     "output_type": "stream",
     "text": [
      "--IoU Scores val--\n",
      "Class0: 0.2187 Class1: 0.2338 Class2: 0.1976 Class3: 0.2340 Class4: 0.1977 Class5: 0.2414 Class6: 0.2808 \n",
      "Class7: 0.1991 Class8: 0.2028 Class9: 0.2098 Class10: 0.2293 Class11: 0.2009 Class12: 0.3140 \n",
      "--IoU Scores Fish val--\n",
      "Class0: 0.2993 Class1: 0.2800 Class2: 0.2424 Class3: 0.2394 Class4: 0.2465 Class5: 0.2821 Class6: 0.3790 \n",
      "Class7: 0.2463 Class8: 0.2628 Class9: 0.2412 Class10: 0.2901 Class11: 0.2583 Class12: 0.3319 \n",
      "Epoch9\n",
      "val Loss: 52.480034891764326\n",
      "val mIoU: 0.22767637139178745, Fish_val_mIoU: 0.27687571128624283\n",
      "___________________________________________________________________________________________\n",
      "\n"
     ]
    },
    {
     "name": "stderr",
     "output_type": "stream",
     "text": [
      "69it [01:03,  1.09it/s]\n"
     ]
    },
    {
     "name": "stdout",
     "output_type": "stream",
     "text": [
      "--IoU Scores Train--\n",
      "Class0: 0.5189 Class1: 0.5006 Class2: 0.5239 Class3: 0.5400 Class4: 0.5137 Class5: 0.5155 Class6: 0.5471 \n",
      "Class7: 0.5294 Class8: 0.5416 Class9: 0.5428 Class10: 0.5275 Class11: 0.5379 Class12: 0.5302 \n",
      "--IoU Scores Fish Train--\n",
      "Class0: 0.4328 Class1: 0.4073 Class2: 0.4450 Class3: 0.4561 Class4: 0.4330 Class5: 0.4418 Class6: 0.4542 \n",
      "Class7: 0.4270 Class8: 0.4594 Class9: 0.4536 Class10: 0.4351 Class11: 0.4535 Class12: 0.4425 \n",
      "Epoch10\n",
      "Train Loss: 50.384744561236836\n",
      "Train mIoU: 0.5283837000892609, Fish_Train_mIoU: 0.4416416199510198\n",
      "___________________________________________________________________________________________\n",
      "\n"
     ]
    },
    {
     "name": "stderr",
     "output_type": "stream",
     "text": [
      "15it [00:07,  2.03it/s]\n"
     ]
    },
    {
     "name": "stdout",
     "output_type": "stream",
     "text": [
      "--IoU Scores val--\n",
      "Class0: 0.3384 Class1: 0.3562 Class2: 0.3050 Class3: 0.3579 Class4: 0.3726 Class5: 0.3471 Class6: 0.4112 \n",
      "Class7: 0.3380 Class8: 0.2968 Class9: 0.3102 Class10: 0.4110 Class11: 0.3010 Class12: 0.4278 \n",
      "--IoU Scores Fish val--\n",
      "Class0: 0.2686 Class1: 0.2474 Class2: 0.2251 Class3: 0.2359 Class4: 0.2858 Class5: 0.2703 Class6: 0.2930 \n",
      "Class7: 0.2328 Class8: 0.2373 Class9: 0.2221 Class10: 0.3323 Class11: 0.2393 Class12: 0.2782 \n",
      "Epoch10\n",
      "val Loss: 51.18189010620117\n",
      "val mIoU: 0.35178060460293253, Fish_val_mIoU: 0.2590825837725524\n",
      "___________________________________________________________________________________________\n",
      "\n"
     ]
    },
    {
     "name": "stderr",
     "output_type": "stream",
     "text": [
      "69it [01:03,  1.09it/s]\n"
     ]
    },
    {
     "name": "stdout",
     "output_type": "stream",
     "text": [
      "--IoU Scores Train--\n",
      "Class0: 0.5408 Class1: 0.5353 Class2: 0.5318 Class3: 0.5437 Class4: 0.5142 Class5: 0.5440 Class6: 0.5316 \n",
      "Class7: 0.5253 Class8: 0.5322 Class9: 0.5433 Class10: 0.5386 Class11: 0.5628 Class12: 0.5430 \n",
      "--IoU Scores Fish Train--\n",
      "Class0: 0.4521 Class1: 0.4311 Class2: 0.4445 Class3: 0.4663 Class4: 0.4407 Class5: 0.4448 Class6: 0.4566 \n",
      "Class7: 0.4414 Class8: 0.4526 Class9: 0.4628 Class10: 0.4280 Class11: 0.4469 Class12: 0.4406 \n",
      "Epoch11\n",
      "Train Loss: 50.37486947101095\n",
      "Train mIoU: 0.537420110789954, Fish_Train_mIoU: 0.4468076326332448\n",
      "___________________________________________________________________________________________\n",
      "\n"
     ]
    },
    {
     "name": "stderr",
     "output_type": "stream",
     "text": [
      "15it [00:07,  2.03it/s]\n"
     ]
    },
    {
     "name": "stdout",
     "output_type": "stream",
     "text": [
      "--IoU Scores val--\n",
      "Class0: 0.3542 Class1: 0.3682 Class2: 0.3044 Class3: 0.3642 Class4: 0.3604 Class5: 0.3676 Class6: 0.4207 \n",
      "Class7: 0.3538 Class8: 0.3053 Class9: 0.3221 Class10: 0.4039 Class11: 0.3079 Class12: 0.4389 \n",
      "--IoU Scores Fish val--\n",
      "Class0: 0.3499 Class1: 0.3447 Class2: 0.2932 Class3: 0.3115 Class4: 0.3513 Class5: 0.3439 Class6: 0.4139 \n",
      "Class7: 0.3096 Class8: 0.2967 Class9: 0.2996 Class10: 0.4002 Class11: 0.3055 Class12: 0.3788 \n",
      "Epoch11\n",
      "val Loss: 50.89301096598307\n",
      "val mIoU: 0.3593636370486679, Fish_val_mIoU: 0.33837115915850774\n",
      "___________________________________________________________________________________________\n",
      "\n"
     ]
    },
    {
     "name": "stderr",
     "output_type": "stream",
     "text": [
      "69it [01:03,  1.09it/s]\n"
     ]
    },
    {
     "name": "stdout",
     "output_type": "stream",
     "text": [
      "--IoU Scores Train--\n",
      "Class0: 0.5609 Class1: 0.5479 Class2: 0.5489 Class3: 0.5498 Class4: 0.5449 Class5: 0.5493 Class6: 0.5683 \n",
      "Class7: 0.5475 Class8: 0.5587 Class9: 0.5496 Class10: 0.5511 Class11: 0.5591 Class12: 0.5661 \n",
      "--IoU Scores Fish Train--\n",
      "Class0: 0.4689 Class1: 0.4477 Class2: 0.4496 Class3: 0.4722 Class4: 0.4291 Class5: 0.4578 Class6: 0.4688 \n",
      "Class7: 0.4336 Class8: 0.4529 Class9: 0.4570 Class10: 0.4421 Class11: 0.4595 Class12: 0.4513 \n",
      "Epoch12\n",
      "Train Loss: 50.35991707400999\n",
      "Train mIoU: 0.5540141499394774, Fish_Train_mIoU: 0.45311741534079586\n",
      "___________________________________________________________________________________________\n",
      "\n"
     ]
    },
    {
     "name": "stderr",
     "output_type": "stream",
     "text": [
      "15it [00:07,  2.02it/s]\n"
     ]
    },
    {
     "name": "stdout",
     "output_type": "stream",
     "text": [
      "--IoU Scores val--\n",
      "Class0: 0.2878 Class1: 0.2987 Class2: 0.2533 Class3: 0.3173 Class4: 0.2769 Class5: 0.2903 Class6: 0.3600 \n",
      "Class7: 0.2798 Class8: 0.2630 Class9: 0.2626 Class10: 0.3203 Class11: 0.2611 Class12: 0.3786 \n",
      "--IoU Scores Fish val--\n",
      "Class0: 0.3165 Class1: 0.2933 Class2: 0.2615 Class3: 0.2551 Class4: 0.2831 Class5: 0.3148 Class6: 0.3860 \n",
      "Class7: 0.2677 Class8: 0.2877 Class9: 0.2641 Class10: 0.3394 Class11: 0.2721 Class12: 0.3243 \n",
      "Epoch12\n",
      "val Loss: 51.5302365620931\n",
      "val mIoU: 0.2961346254302806, Fish_val_mIoU: 0.29735358361410613\n",
      "___________________________________________________________________________________________\n",
      "\n"
     ]
    },
    {
     "name": "stderr",
     "output_type": "stream",
     "text": [
      "69it [01:03,  1.09it/s]\n"
     ]
    },
    {
     "name": "stdout",
     "output_type": "stream",
     "text": [
      "--IoU Scores Train--\n",
      "Class0: 0.5717 Class1: 0.5561 Class2: 0.5596 Class3: 0.5838 Class4: 0.5671 Class5: 0.5569 Class6: 0.5751 \n",
      "Class7: 0.5468 Class8: 0.5702 Class9: 0.5610 Class10: 0.5606 Class11: 0.5578 Class12: 0.5399 \n",
      "--IoU Scores Fish Train--\n",
      "Class0: 0.4535 Class1: 0.4498 Class2: 0.4530 Class3: 0.4768 Class4: 0.4397 Class5: 0.4467 Class6: 0.4703 \n",
      "Class7: 0.4470 Class8: 0.4575 Class9: 0.4783 Class10: 0.4387 Class11: 0.4513 Class12: 0.4573 \n",
      "Epoch13\n",
      "Train Loss: 50.35090316551319\n",
      "Train mIoU: 0.5620488475892421, Fish_Train_mIoU: 0.4553741062419237\n",
      "___________________________________________________________________________________________\n",
      "\n"
     ]
    },
    {
     "name": "stderr",
     "output_type": "stream",
     "text": [
      "15it [00:07,  2.02it/s]\n"
     ]
    },
    {
     "name": "stdout",
     "output_type": "stream",
     "text": [
      "--IoU Scores val--\n",
      "Class0: 0.3557 Class1: 0.3638 Class2: 0.2996 Class3: 0.3652 Class4: 0.3597 Class5: 0.3587 Class6: 0.4299 \n",
      "Class7: 0.3360 Class8: 0.3007 Class9: 0.3044 Class10: 0.4072 Class11: 0.3186 Class12: 0.4496 \n",
      "--IoU Scores Fish val--\n",
      "Class0: 0.2716 Class1: 0.2466 Class2: 0.2239 Class3: 0.2400 Class4: 0.2803 Class5: 0.2690 Class6: 0.2969 \n",
      "Class7: 0.2328 Class8: 0.2332 Class9: 0.2260 Class10: 0.3298 Class11: 0.2452 Class12: 0.2827 \n",
      "Epoch13\n",
      "val Loss: 51.25559539794922\n",
      "val mIoU: 0.3576093139707999, Fish_val_mIoU: 0.2598497141358086\n",
      "___________________________________________________________________________________________\n",
      "\n"
     ]
    },
    {
     "name": "stderr",
     "output_type": "stream",
     "text": [
      "69it [01:03,  1.09it/s]\n"
     ]
    },
    {
     "name": "stdout",
     "output_type": "stream",
     "text": [
      "--IoU Scores Train--\n",
      "Class0: 0.5737 Class1: 0.5763 Class2: 0.5643 Class3: 0.5970 Class4: 0.5437 Class5: 0.5594 Class6: 0.5944 \n",
      "Class7: 0.5549 Class8: 0.5860 Class9: 0.5638 Class10: 0.5597 Class11: 0.5695 Class12: 0.5550 \n",
      "--IoU Scores Fish Train--\n",
      "Class0: 0.4581 Class1: 0.4372 Class2: 0.4520 Class3: 0.4741 Class4: 0.4404 Class5: 0.4557 Class6: 0.4741 \n",
      "Class7: 0.4527 Class8: 0.4684 Class9: 0.4654 Class10: 0.4462 Class11: 0.4523 Class12: 0.4506 \n",
      "Epoch14\n",
      "Train Loss: 50.34713816988295\n",
      "Train mIoU: 0.569054943242894, Fish_Train_mIoU: 0.4559341890843651\n",
      "___________________________________________________________________________________________\n",
      "\n"
     ]
    },
    {
     "name": "stderr",
     "output_type": "stream",
     "text": [
      "15it [00:07,  2.03it/s]\n"
     ]
    },
    {
     "name": "stdout",
     "output_type": "stream",
     "text": [
      "--IoU Scores val--\n",
      "Class0: 0.2201 Class1: 0.2464 Class2: 0.2067 Class3: 0.2671 Class4: 0.2287 Class5: 0.2332 Class6: 0.2994 \n",
      "Class7: 0.2130 Class8: 0.2186 Class9: 0.2169 Class10: 0.2680 Class11: 0.2194 Class12: 0.3190 \n",
      "--IoU Scores Fish val--\n",
      "Class0: 0.3169 Class1: 0.3067 Class2: 0.2602 Class3: 0.2667 Class4: 0.2889 Class5: 0.2924 Class6: 0.3991 \n",
      "Class7: 0.2776 Class8: 0.2883 Class9: 0.2630 Class10: 0.3299 Class11: 0.2766 Class12: 0.3523 \n",
      "Epoch14\n",
      "val Loss: 52.48248494466146\n",
      "val mIoU: 0.24280838057986803, Fish_val_mIoU: 0.3014322543818667\n",
      "___________________________________________________________________________________________\n",
      "\n"
     ]
    },
    {
     "name": "stderr",
     "output_type": "stream",
     "text": [
      "69it [01:03,  1.09it/s]\n"
     ]
    },
    {
     "name": "stdout",
     "output_type": "stream",
     "text": [
      "--IoU Scores Train--\n",
      "Class0: 0.5687 Class1: 0.5945 Class2: 0.5754 Class3: 0.6075 Class4: 0.5561 Class5: 0.5618 Class6: 0.5905 \n",
      "Class7: 0.5795 Class8: 0.5797 Class9: 0.5976 Class10: 0.5935 Class11: 0.5982 Class12: 0.5746 \n",
      "--IoU Scores Fish Train--\n",
      "Class0: 0.4634 Class1: 0.4362 Class2: 0.4451 Class3: 0.4838 Class4: 0.4470 Class5: 0.4657 Class6: 0.4935 \n",
      "Class7: 0.4658 Class8: 0.4549 Class9: 0.4757 Class10: 0.4567 Class11: 0.4715 Class12: 0.4747 \n",
      "Epoch15\n",
      "Train Loss: 50.32816099083942\n",
      "Train mIoU: 0.5829004575412259, Fish_Train_mIoU: 0.4641617881793737\n",
      "___________________________________________________________________________________________\n",
      "\n"
     ]
    },
    {
     "name": "stderr",
     "output_type": "stream",
     "text": [
      "15it [00:07,  2.02it/s]\n"
     ]
    },
    {
     "name": "stdout",
     "output_type": "stream",
     "text": [
      "--IoU Scores val--\n",
      "Class0: 0.3039 Class1: 0.3355 Class2: 0.2812 Class3: 0.3421 Class4: 0.3387 Class5: 0.3318 Class6: 0.3925 \n",
      "Class7: 0.3090 Class8: 0.2867 Class9: 0.2970 Class10: 0.3880 Class11: 0.2796 Class12: 0.3767 \n",
      "--IoU Scores Fish val--\n",
      "Class0: 0.3619 Class1: 0.3417 Class2: 0.2823 Class3: 0.3100 Class4: 0.3590 Class5: 0.3517 Class6: 0.4318 \n",
      "Class7: 0.3167 Class8: 0.3160 Class9: 0.3079 Class10: 0.4050 Class11: 0.3127 Class12: 0.3879 \n",
      "Epoch15\n",
      "val Loss: 51.16124674479167\n",
      "val mIoU: 0.32790420547898963, Fish_val_mIoU: 0.3449674465270341\n",
      "___________________________________________________________________________________________\n",
      "\n"
     ]
    },
    {
     "name": "stderr",
     "output_type": "stream",
     "text": [
      "69it [01:03,  1.09it/s]\n"
     ]
    },
    {
     "name": "stdout",
     "output_type": "stream",
     "text": [
      "--IoU Scores Train--\n",
      "Class0: 0.6275 Class1: 0.5851 Class2: 0.5844 Class3: 0.6118 Class4: 0.5759 Class5: 0.5699 Class6: 0.5984 \n",
      "Class7: 0.6002 Class8: 0.5922 Class9: 0.5965 Class10: 0.6130 Class11: 0.6241 Class12: 0.6015 \n",
      "--IoU Scores Fish Train--\n",
      "Class0: 0.4777 Class1: 0.4654 Class2: 0.4634 Class3: 0.4864 Class4: 0.4561 Class5: 0.4621 Class6: 0.4990 \n",
      "Class7: 0.4568 Class8: 0.4737 Class9: 0.4720 Class10: 0.4766 Class11: 0.4678 Class12: 0.4717 \n",
      "Epoch16\n",
      "Train Loss: 50.30911415210669\n",
      "Train mIoU: 0.598494453363694, Fish_Train_mIoU: 0.4714360606659077\n",
      "___________________________________________________________________________________________\n",
      "\n"
     ]
    },
    {
     "name": "stderr",
     "output_type": "stream",
     "text": [
      "15it [00:07,  2.02it/s]\n"
     ]
    },
    {
     "name": "stdout",
     "output_type": "stream",
     "text": [
      "--IoU Scores val--\n",
      "Class0: 0.2846 Class1: 0.2982 Class2: 0.2577 Class3: 0.3161 Class4: 0.2863 Class5: 0.2852 Class6: 0.3531 \n",
      "Class7: 0.2780 Class8: 0.2607 Class9: 0.2739 Class10: 0.3474 Class11: 0.2669 Class12: 0.3696 \n",
      "--IoU Scores Fish val--\n",
      "Class0: 0.3473 Class1: 0.3277 Class2: 0.2811 Class3: 0.3198 Class4: 0.3347 Class5: 0.3415 Class6: 0.4377 \n",
      "Class7: 0.3113 Class8: 0.3205 Class9: 0.2973 Class10: 0.3802 Class11: 0.3074 Class12: 0.3954 \n",
      "Epoch16\n",
      "val Loss: 51.503396097819014\n",
      "val mIoU: 0.2982811497147715, Fish_val_mIoU: 0.33861404969291026\n",
      "___________________________________________________________________________________________\n",
      "\n"
     ]
    },
    {
     "name": "stderr",
     "output_type": "stream",
     "text": [
      "69it [01:03,  1.08it/s]\n"
     ]
    },
    {
     "name": "stdout",
     "output_type": "stream",
     "text": [
      "--IoU Scores Train--\n",
      "Class0: 0.6065 Class1: 0.6198 Class2: 0.6139 Class3: 0.6097 Class4: 0.5975 Class5: 0.5890 Class6: 0.6404 \n",
      "Class7: 0.6070 Class8: 0.6103 Class9: 0.6069 Class10: 0.6193 Class11: 0.5971 Class12: 0.6052 \n",
      "--IoU Scores Fish Train--\n",
      "Class0: 0.4786 Class1: 0.4623 Class2: 0.4700 Class3: 0.4829 Class4: 0.4569 Class5: 0.4764 Class6: 0.4945 \n",
      "Class7: 0.4765 Class8: 0.4739 Class9: 0.4847 Class10: 0.4611 Class11: 0.4799 Class12: 0.4756 \n",
      "Epoch17\n",
      "Train Loss: 50.301428587540336\n",
      "Train mIoU: 0.609428075022769, Fish_Train_mIoU: 0.4748708718522932\n",
      "___________________________________________________________________________________________\n",
      "\n"
     ]
    },
    {
     "name": "stderr",
     "output_type": "stream",
     "text": [
      "15it [00:07,  2.01it/s]\n"
     ]
    },
    {
     "name": "stdout",
     "output_type": "stream",
     "text": [
      "--IoU Scores val--\n",
      "Class0: 0.3282 Class1: 0.3667 Class2: 0.3043 Class3: 0.3669 Class4: 0.3690 Class5: 0.3603 Class6: 0.4277 \n",
      "Class7: 0.3374 Class8: 0.2994 Class9: 0.3234 Class10: 0.4113 Class11: 0.3119 Class12: 0.4251 \n",
      "--IoU Scores Fish val--\n",
      "Class0: 0.3660 Class1: 0.3530 Class2: 0.3018 Class3: 0.3201 Class4: 0.3679 Class5: 0.3428 Class6: 0.4498 \n",
      "Class7: 0.3353 Class8: 0.3311 Class9: 0.3031 Class10: 0.4007 Class11: 0.3144 Class12: 0.3997 \n",
      "Epoch17\n",
      "val Loss: 50.937164306640625\n",
      "val mIoU: 0.3562827105102725, Fish_val_mIoU: 0.35275512990508956\n",
      "___________________________________________________________________________________________\n",
      "\n"
     ]
    },
    {
     "name": "stderr",
     "output_type": "stream",
     "text": [
      "69it [01:03,  1.09it/s]\n"
     ]
    },
    {
     "name": "stdout",
     "output_type": "stream",
     "text": [
      "--IoU Scores Train--\n",
      "Class0: 0.6248 Class1: 0.5797 Class2: 0.5640 Class3: 0.5794 Class4: 0.5338 Class5: 0.5903 Class6: 0.6350 \n",
      "Class7: 0.5937 Class8: 0.5793 Class9: 0.6091 Class10: 0.5879 Class11: 0.6027 Class12: 0.5785 \n",
      "--IoU Scores Fish Train--\n",
      "Class0: 0.4922 Class1: 0.4634 Class2: 0.4596 Class3: 0.4762 Class4: 0.4566 Class5: 0.4470 Class6: 0.4713 \n",
      "Class7: 0.4501 Class8: 0.4678 Class9: 0.4900 Class10: 0.4597 Class11: 0.4660 Class12: 0.4679 \n",
      "Epoch18\n",
      "Train Loss: 50.33824262757232\n",
      "Train mIoU: 0.5890842797608792, Fish_Train_mIoU: 0.46674611160075574\n",
      "___________________________________________________________________________________________\n",
      "\n"
     ]
    },
    {
     "name": "stderr",
     "output_type": "stream",
     "text": [
      "15it [00:07,  2.01it/s]\n"
     ]
    },
    {
     "name": "stdout",
     "output_type": "stream",
     "text": [
      "--IoU Scores val--\n",
      "Class0: 0.2588 Class1: 0.2736 Class2: 0.2371 Class3: 0.2756 Class4: 0.2429 Class5: 0.2815 Class6: 0.3444 \n",
      "Class7: 0.2387 Class8: 0.2439 Class9: 0.2471 Class10: 0.2791 Class11: 0.2425 Class12: 0.3428 \n",
      "--IoU Scores Fish val--\n",
      "Class0: 0.2873 Class1: 0.2519 Class2: 0.2171 Class3: 0.2483 Class4: 0.2431 Class5: 0.2663 Class6: 0.3612 \n",
      "Class7: 0.2408 Class8: 0.2376 Class9: 0.2238 Class10: 0.2677 Class11: 0.2423 Class12: 0.3379 \n",
      "Epoch18\n",
      "val Loss: 52.8613032023112\n",
      "val mIoU: 0.2698442102061141, Fish_val_mIoU: 0.2634899101503725\n",
      "___________________________________________________________________________________________\n",
      "\n"
     ]
    },
    {
     "name": "stderr",
     "output_type": "stream",
     "text": [
      "69it [01:03,  1.09it/s]\n"
     ]
    },
    {
     "name": "stdout",
     "output_type": "stream",
     "text": [
      "--IoU Scores Train--\n",
      "Class0: 0.6063 Class1: 0.6048 Class2: 0.6045 Class3: 0.6462 Class4: 0.6077 Class5: 0.5966 Class6: 0.6592 \n",
      "Class7: 0.6377 Class8: 0.6144 Class9: 0.6430 Class10: 0.6238 Class11: 0.6524 Class12: 0.6309 \n",
      "--IoU Scores Fish Train--\n",
      "Class0: 0.4933 Class1: 0.4733 Class2: 0.4778 Class3: 0.5055 Class4: 0.4702 Class5: 0.4876 Class6: 0.5026 \n",
      "Class7: 0.4609 Class8: 0.4752 Class9: 0.5090 Class10: 0.4716 Class11: 0.4789 Class12: 0.4792 \n",
      "Epoch19\n",
      "Train Loss: 50.29187542459239\n",
      "Train mIoU: 0.6252048493931722, Fish_Train_mIoU: 0.4834711788986821\n",
      "___________________________________________________________________________________________\n",
      "\n"
     ]
    },
    {
     "name": "stderr",
     "output_type": "stream",
     "text": [
      "15it [00:07,  2.02it/s]\n"
     ]
    },
    {
     "name": "stdout",
     "output_type": "stream",
     "text": [
      "--IoU Scores val--\n",
      "Class0: 0.2598 Class1: 0.2971 Class2: 0.2490 Class3: 0.2962 Class4: 0.2821 Class5: 0.3079 Class6: 0.3477 \n",
      "Class7: 0.2569 Class8: 0.2662 Class9: 0.2712 Class10: 0.3418 Class11: 0.2564 Class12: 0.3460 \n",
      "--IoU Scores Fish val--\n",
      "Class0: 0.3441 Class1: 0.3285 Class2: 0.2791 Class3: 0.2828 Class4: 0.3200 Class5: 0.3239 Class6: 0.4063 \n",
      "Class7: 0.3005 Class8: 0.2992 Class9: 0.2700 Class10: 0.3788 Class11: 0.2875 Class12: 0.3675 \n",
      "Epoch19\n",
      "val Loss: 51.514044189453124\n",
      "val mIoU: 0.2906443660578557, Fish_val_mIoU: 0.32216171677479283\n",
      "___________________________________________________________________________________________\n",
      "\n"
     ]
    },
    {
     "name": "stderr",
     "output_type": "stream",
     "text": [
      "69it [01:03,  1.09it/s]\n"
     ]
    },
    {
     "name": "stdout",
     "output_type": "stream",
     "text": [
      "--IoU Scores Train--\n",
      "Class0: 0.5480 Class1: 0.5219 Class2: 0.5138 Class3: 0.5238 Class4: 0.5169 Class5: 0.5472 Class6: 0.5810 \n",
      "Class7: 0.5487 Class8: 0.5640 Class9: 0.5787 Class10: 0.5512 Class11: 0.5980 Class12: 0.5784 \n",
      "--IoU Scores Fish Train--\n",
      "Class0: 0.4469 Class1: 0.4189 Class2: 0.4249 Class3: 0.4399 Class4: 0.3997 Class5: 0.4316 Class6: 0.4681 \n",
      "Class7: 0.4357 Class8: 0.4576 Class9: 0.4690 Class10: 0.4477 Class11: 0.4673 Class12: 0.4732 \n",
      "Epoch20\n",
      "Train Loss: 50.40164405712183\n",
      "Train mIoU: 0.5516605577502226, Fish_Train_mIoU: 0.4446522853608592\n",
      "___________________________________________________________________________________________\n",
      "\n"
     ]
    },
    {
     "name": "stderr",
     "output_type": "stream",
     "text": [
      "15it [00:07,  2.01it/s]"
     ]
    },
    {
     "name": "stdout",
     "output_type": "stream",
     "text": [
      "--IoU Scores val--\n",
      "Class0: 0.3375 Class1: 0.3624 Class2: 0.2984 Class3: 0.3697 Class4: 0.3782 Class5: 0.3625 Class6: 0.4385 \n",
      "Class7: 0.3383 Class8: 0.3056 Class9: 0.3212 Class10: 0.4251 Class11: 0.3210 Class12: 0.4437 \n",
      "--IoU Scores Fish val--\n",
      "Class0: 0.2862 Class1: 0.2745 Class2: 0.2400 Class3: 0.2537 Class4: 0.2946 Class5: 0.2852 Class6: 0.3075 \n",
      "Class7: 0.2524 Class8: 0.2490 Class9: 0.2397 Class10: 0.3336 Class11: 0.2492 Class12: 0.2836 \n",
      "Epoch20\n",
      "val Loss: 51.25402272542318\n",
      "val mIoU: 0.3616982696694216, Fish_val_mIoU: 0.27301794925658945\n",
      "___________________________________________________________________________________________\n",
      "\n"
     ]
    },
    {
     "name": "stderr",
     "output_type": "stream",
     "text": [
      "\n"
     ]
    }
   ],
   "source": [
    "import random\n",
    "#torch.cuda.empty_cache()\n",
    "# import wandb\n",
    "\n",
    "\n",
    "# wandb.init(\n",
    "#     # set the wandb project where this run will be logged\n",
    "#     project=\"practice_10_19\",\n",
    "    \n",
    "#     # track hyperparameters and run metadata\n",
    "#     config={\n",
    "#     \"learning_rate\": LR,\n",
    "#     \"architecture\": \"CNN\",\n",
    "#     \"dataset\": \"Samsung\",\n",
    "#     \"epochs\": EP,\n",
    "#     }\n",
    "# )\n",
    "\n",
    "for epoch in range(EP):\n",
    "    # 클래스별 IoU를 누적할 리스트 초기화\n",
    "    train_class_ious = []\n",
    "    fish_train_class_ious = []\n",
    "    # 학습\n",
    "    model.train()\n",
    "    epoch_loss = 0\n",
    "\n",
    "    for source_data, target_data in tqdm(zip(source_dataloader, target_dataloader)):\n",
    "\n",
    "        source_images = source_data[0].float().to(device)\n",
    "        source_masks = source_data[1].long().to(device)\n",
    "        target_images = target_data[0].float().to(device)\n",
    "        target_masks = target_data[1].long().to(device)\n",
    "\n",
    "        optimizer.zero_grad()\n",
    "        source_outputs = model(source_images)\n",
    "        target_outputs = model(target_images)\n",
    "\n",
    "        source_loss = loss_fn(source_outputs, source_masks, 0, alpha = ALPHA)\n",
    "        target_loss = loss_fn(target_outputs, target_masks, 1, alpha = ALPHA)\n",
    "\n",
    "        loss = source_loss + target_loss\n",
    "\n",
    "        epoch_loss += loss.item()\n",
    "\n",
    "        optimizer.zero_grad()\n",
    "        loss.backward()\n",
    "        optimizer.step()\n",
    "        #scheduler.step()\n",
    "                # train 클래스별 IoU 계산\n",
    "        source_outputs = torch.softmax(source_outputs[0], dim=1).cpu()\n",
    "        source_outputs = torch.argmax(source_outputs, dim=1).numpy()\n",
    "\n",
    "        for class_id in range(N_CLASSES):\n",
    "            iou = calculate_iou_per_class(np.array(source_masks.cpu()), np.array(source_outputs), class_id)\n",
    "            train_class_ious.append(iou)\n",
    "\n",
    "        target_outputs = torch.softmax(target_outputs[0], dim=1).cpu()\n",
    "        target_outputs = torch.argmax(target_outputs, dim=1).numpy()\n",
    "\n",
    "        for class_id in range(N_CLASSES):\n",
    "            iou = calculate_iou_per_class(np.array(target_masks.cpu()), np.array(target_outputs), class_id)\n",
    "            fish_train_class_ious.append(iou)\n",
    "\n",
    "    train_class_ious = np.array(train_class_ious).reshape(N_CLASSES, -1)\n",
    "    train_class_ious = np.mean(train_class_ious, axis=1)\n",
    "    print(\"--IoU Scores Train--\")\n",
    "    for class_id, iou in enumerate(train_class_ious):\n",
    "        print(f'Class{class_id}: {iou:.4f}', end=\" \")\n",
    "        if (class_id+1) % 7 == 0:\n",
    "            print()\n",
    "\n",
    "    fish_train_class_ious = np.array(fish_train_class_ious).reshape(N_CLASSES, -1)\n",
    "    fish_train_class_ious = np.mean(fish_train_class_ious, axis=1)\n",
    "    print()\n",
    "    print(\"--IoU Scores Fish Train--\")\n",
    "    for class_id, iou in enumerate(fish_train_class_ious):\n",
    "        print(f'Class{class_id}: {iou:.4f}', end=\" \")\n",
    "        if (class_id+1) % 7 == 0:\n",
    "            print()\n",
    "\n",
    "    # mIoU 계산\n",
    "    train_mIoU = np.mean(train_class_ious)\n",
    "    fish_train_mIoU = np.mean(fish_train_class_ious)\n",
    "\n",
    "    # 에폭마다 결과 출력 \n",
    "    print(f\"\\nEpoch{epoch+1}\")\n",
    "    print(f\"Train Loss: {(epoch_loss/len(source_dataloader))}\")\n",
    "    print(f\"Train mIoU: {train_mIoU}, Fish_Train_mIoU: {fish_train_mIoU}\" )\n",
    "    print(\"___________________________________________________________________________________________\\n\")\n",
    "\n",
    "\n",
    "    ################################################################\n",
    "    # 클래스별 IoU를 누적할 리스트 초기화\n",
    "    val_class_ious = []\n",
    "    fish_val_class_ious = []\n",
    "    epoch_loss = 0\n",
    "    # 학습\n",
    "    with torch.no_grad():\n",
    "        model.eval()\n",
    "\n",
    "        for source_data, target_data in tqdm(zip(val_source_dataloader, val_target_dataloader)):\n",
    "\n",
    "            source_images = source_data[0].float().to(device)\n",
    "            source_masks = source_data[1].long().to(device)\n",
    "            target_images = target_data[0].float().to(device)\n",
    "            target_masks = target_data[1].long().to(device)\n",
    "\n",
    "            source_outputs = model(source_images)\n",
    "            target_outputs = model(target_images)\n",
    "\n",
    "            source_loss = loss_fn(source_outputs, source_masks, 0, alpha = ALPHA)\n",
    "            target_loss = loss_fn(target_outputs, target_masks, 1, alpha = ALPHA)\n",
    "\n",
    "            loss = source_loss + target_loss\n",
    "\n",
    "            epoch_loss += loss.item()\n",
    "\n",
    "            # train 클래스별 IoU 계산\n",
    "            source_outputs = torch.softmax(source_outputs[0], dim=1).cpu()\n",
    "            source_outputs = torch.argmax(source_outputs, dim=1).numpy()\n",
    "\n",
    "            for class_id in range(N_CLASSES):\n",
    "                iou = calculate_iou_per_class(np.array(source_masks.cpu()), np.array(source_outputs), class_id)\n",
    "                val_class_ious.append(iou)\n",
    "\n",
    "            target_outputs = torch.softmax(target_outputs[0], dim=1).cpu()\n",
    "            target_outputs = torch.argmax(target_outputs, dim=1).numpy()\n",
    "\n",
    "            for class_id in range(N_CLASSES):\n",
    "                iou = calculate_iou_per_class(np.array(target_masks.cpu()), np.array(target_outputs), class_id)\n",
    "                fish_val_class_ious.append(iou)\n",
    "\n",
    "    val_class_ious = np.array(val_class_ious).reshape(N_CLASSES, -1)\n",
    "    val_class_ious = np.mean(val_class_ious, axis=1)\n",
    "    print(\"--IoU Scores val--\")\n",
    "    for class_id, iou in enumerate(val_class_ious):\n",
    "        print(f'Class{class_id}: {iou:.4f}', end=\" \")\n",
    "        if (class_id+1) % 7 == 0:\n",
    "            print()\n",
    "\n",
    "    fish_val_class_ious = np.array(fish_val_class_ious).reshape(N_CLASSES, -1)\n",
    "    fish_val_class_ious = np.mean(fish_val_class_ious, axis=1)\n",
    "    print()\n",
    "    print(\"--IoU Scores Fish val--\")\n",
    "    for class_id, iou in enumerate(fish_val_class_ious):\n",
    "        print(f'Class{class_id}: {iou:.4f}', end=\" \")\n",
    "        if (class_id+1) % 7 == 0:\n",
    "            print()\n",
    "\n",
    "    # mIoU 계산\n",
    "    val_mIoU = np.mean(val_class_ious)\n",
    "    fish_val_mIoU = np.mean(fish_val_class_ious)\n",
    "\n",
    "    # 에폭마다 결과 출력 \n",
    "    print(f\"\\nEpoch{epoch+1}\")\n",
    "    print(f\"val Loss: {(epoch_loss/len(val_source_dataloader))}\")\n",
    "    print(f\"val mIoU: {val_mIoU}, Fish_val_mIoU: {fish_val_mIoU}\" )\n",
    "    print(\"___________________________________________________________________________________________\\n\")\n",
    "\n",
    "#     # log metrics to wandb\n",
    "#     wandb.log({\"train score\": train_mIoU, \"train score2\": fish_train_mIoU})\n",
    "#     wandb.log({\"val score\": val_mIoU, \"val score2\": fish_val_mIoU})\n",
    "    \n",
    "    \n",
    "# # [optional] finish the wandb run, necessary in notebooks\n",
    "# wandb.finish()\n"
   ]
  },
  {
   "cell_type": "code",
   "execution_count": 12,
   "metadata": {},
   "outputs": [],
   "source": [
    "torch.save(model.state_dict(), './data/DA_resnet34_1106.pth')"
   ]
  },
  {
   "cell_type": "code",
   "execution_count": 11,
   "metadata": {},
   "outputs": [],
   "source": [
    "import os\n",
    "os.environ['CUDA_LAUNCH_BLOCKING'] = '1'"
   ]
  }
 ],
 "metadata": {
  "kernelspec": {
   "display_name": "byungwan_resn",
   "language": "python",
   "name": "python3"
  },
  "language_info": {
   "codemirror_mode": {
    "name": "ipython",
    "version": 3
   },
   "file_extension": ".py",
   "mimetype": "text/x-python",
   "name": "python",
   "nbconvert_exporter": "python",
   "pygments_lexer": "ipython3",
   "version": "3.8.17"
  }
 },
 "nbformat": 4,
 "nbformat_minor": 2
}
