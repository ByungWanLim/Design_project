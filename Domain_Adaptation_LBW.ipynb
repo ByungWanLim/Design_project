{
 "cells": [
  {
   "cell_type": "code",
   "execution_count": 1,
   "metadata": {},
   "outputs": [],
   "source": [
    "import os\n",
    "import cv2\n",
    "from PIL import Image\n",
    "import pandas as pd\n",
    "import numpy as np\n",
    "\n",
    "import torch\n",
    "import torch.nn as nn\n",
    "import torch.nn.functional as F\n",
    "from torch.utils.data import Dataset, DataLoader\n",
    "from torchvision import transforms\n",
    "#from torch.optim.lr_scheduler import _LRScheduler\n",
    "\n",
    "from tqdm import tqdm\n",
    "import albumentations as A\n",
    "from albumentations.pytorch import ToTensorV2\n",
    "\n",
    "from torchvision import models\n",
    "from torchsummary import summary\n",
    "import torch.nn.functional as F\n"
   ]
  },
  {
   "cell_type": "code",
   "execution_count": 2,
   "metadata": {},
   "outputs": [
    {
     "name": "stdout",
     "output_type": "stream",
     "text": [
      "cuda\n"
     ]
    }
   ],
   "source": [
    "\n",
    "# GPU 사용이 가능할 경우, GPU를 사용할 수 있게 함.'\n",
    "#os.environ['CUDA_VISIBLE_DEVICES'] = '3'\n",
    "device = \"cuda\" if torch.cuda.is_available() else \"cpu\"\n",
    "device = torch.device(device)\n",
    "print(device)\n",
    "\n",
    "#print(os.environ.get('CUDA_VISIBLE_DEVICES'))"
   ]
  },
  {
   "cell_type": "code",
   "execution_count": 3,
   "metadata": {},
   "outputs": [],
   "source": [
    "# RLE 인코딩 함수\n",
    "def rle_encode(mask):\n",
    "    pixels = mask.flatten()\n",
    "    pixels = np.concatenate([[0], pixels, [0]])\n",
    "    runs = np.where(pixels[1:] != pixels[:-1])[0] + 1\n",
    "    runs[1::2] -= runs[::2]\n",
    "    return ' '.join(str(x) for x in runs)\n",
    "\n",
    "# 클래스별 IoU를 계산하기 위한 함수\n",
    "def calculate_iou_per_class(y_true, y_pred, class_id):\n",
    "    intersection = np.sum((y_true == class_id) & (y_pred == class_id))\n",
    "    union = np.sum((y_true == class_id) | (y_pred == class_id))\n",
    "    iou = intersection / union if union > 0 else 0\n",
    "    return iou"
   ]
  },
  {
   "cell_type": "code",
   "execution_count": null,
   "metadata": {},
   "outputs": [],
   "source": []
  },
  {
   "cell_type": "code",
   "execution_count": 4,
   "metadata": {},
   "outputs": [],
   "source": [
    "class CustomDataset(Dataset):\n",
    "    def __init__(self, csv_file, transform=None, infer=False):\n",
    "        self.data = pd.read_csv(csv_file)\n",
    "        self.transform = transform\n",
    "        self.infer = infer\n",
    "\n",
    "    def __len__(self):\n",
    "        return len(self.data)\n",
    "\n",
    "    def __getitem__(self, idx):\n",
    "        #directory_path = \"/mnt/nas27/Dataset/Samsung_DM\"\n",
    "        directory_path = './data/224'\n",
    "        img_path = self.data.iloc[idx, 1]\n",
    "        img_path = os.path.join(directory_path, img_path)\n",
    "        image = cv2.imread(img_path)\n",
    "        image = cv2.cvtColor(image, cv2.COLOR_BGR2RGB)\n",
    "        #image = cv2.cvtColor(image, cv2.COLOR_BGR2GRAY)\n",
    "        \n",
    "        if self.infer:\n",
    "            if self.transform:\n",
    "                image = self.transform(image=image)['image']\n",
    "            return image\n",
    "        \n",
    "        mask_path = self.data.iloc[idx, 2]\n",
    "        mask_path = os.path.join(directory_path, mask_path)\n",
    "        mask = cv2.imread(mask_path)\n",
    "        #mask = cv2.cvtColor(mask, cv2.COLOR_BGR2RGB)\n",
    "        mask = cv2.cvtColor(mask, cv2.COLOR_BGR2GRAY)\n",
    "        mask = np.round(mask).astype(np.uint8)\n",
    "        mask[mask > 12] = 12 #배경을 픽셀값 12로 간주\n",
    "\n",
    "        if self.transform:\n",
    "            augmented = self.transform(image=image, mask=mask)\n",
    "            image = augmented['image']\n",
    "            mask = augmented['mask']\n",
    "\n",
    "        return image, mask\n",
    "\n",
    "# class CustomDataset_target(Dataset):\n",
    "#     def __init__(self, csv_file, transform=None, infer=False):\n",
    "#         self.data = pd.read_csv(csv_file)\n",
    "#         self.transform = transform\n",
    "#         self.infer = infer\n",
    "\n",
    "#     def __len__(self):\n",
    "#         return len(self.data)\n",
    "\n",
    "#     def __getitem__(self, idx):\n",
    "#         directory_path = \"/mnt/nas27/Dataset/Samsung_DM\"\n",
    "#         img_path = self.data.iloc[idx, 1]\n",
    "#         img_path = os.path.join(directory_path, img_path[2:])\n",
    "#         image = cv2.imread(img_path)\n",
    "#         image = cv2.cvtColor(image, cv2.COLOR_BGR2RGB)\n",
    "        \n",
    "#         if self.infer:\n",
    "#             if self.transform:\n",
    "#                 image = self.transform(image=image)['image']\n",
    "#             return image\n",
    "\n",
    "\n",
    "#         if self.transform:\n",
    "#             augmented = self.transform(image=image)\n",
    "#             image = augmented['image']\n",
    "            \n",
    "\n",
    "#         return image\n",
    "     \n",
    "\n",
    "transform = A.Compose(\n",
    "    [   \n",
    "        #A.Resize(224, 224),\n",
    "        #A.Resize(128, 128),\n",
    "        A.Normalize(),\n",
    "        \n",
    "        # 변형\n",
    "        # A.VerticalFlip(p=0.5),\n",
    "        # A.RandomRotate90(p=0.5),\n",
    "        # A.HueSaturationValue(p=0.2),\n",
    "        \n",
    "        ToTensorV2()\n",
    "    ]\n",
    ")"
   ]
  },
  {
   "cell_type": "code",
   "execution_count": 5,
   "metadata": {},
   "outputs": [],
   "source": [
    "#Unet의 기본이 되는 conv블럭\n",
    "class ConvBlock(nn.Module):\n",
    "    def __init__(self, in_channels, out_channels):\n",
    "        super(ConvBlock, self).__init__()\n",
    "        self.conv1 = nn.Conv2d(in_channels, out_channels, kernel_size=3, padding=1)\n",
    "        self.bn1 = nn.BatchNorm2d(out_channels)\n",
    "        self.relu1 = nn.ReLU()\n",
    "        \n",
    "        self.conv2 = nn.Conv2d(out_channels, out_channels, kernel_size=3, padding=1)  # 여기서 in_channels는 out_channels와 동일해야 합니다.\n",
    "        self.bn2 = nn.BatchNorm2d(out_channels)\n",
    "        self.relu2 = nn.ReLU()\n",
    "\n",
    "    def forward(self, x):\n",
    "        x = self.conv1(x)\n",
    "        x = self.bn1(x)\n",
    "        x = self.relu1(x)\n",
    "        \n",
    "        x = self.conv2(x)\n",
    "        x = self.bn2(x)\n",
    "        x = self.relu2(x)\n",
    "        return x\n",
    "\n",
    "#인코더 블럭\n",
    "class EncoderBlock(nn.Module):\n",
    "    def __init__(self, in_channels, out_channels):\n",
    "        super(EncoderBlock,self).__init__()\n",
    "        self.convblock1 = ConvBlock(in_channels, out_channels)  # 첫 번째 ConvBlock의 in_channels는 입력 이미지의 채널 수와 일치해야 합니다.\n",
    "        #self.convblock2 = ConvBlock(out_channels, out_channels)  # 두 번째 ConvBlock의 in_channels는 out_channels와 일치해야 합니다.\n",
    "        self.maxpool = nn.MaxPool2d(kernel_size=2, stride=2)\n",
    "\n",
    "    def forward(self,x):\n",
    "        x = self.convblock1(x)\n",
    "        #x = self.convblock2(x)\n",
    "        p = self.maxpool(x)\n",
    "        return x , p\n",
    "#디코더 블럭\n",
    "#디코더는 업샘플링 이후 스킵연결과 붙어서 convblock을 통과해야함\n",
    "#skip보다 작은 x x먼저 업샘플링 32 -> 64 , skip과 결합 6464 \n",
    "class DecoderBlock(nn.Module):\n",
    "    def __init__(self, channels):\n",
    "        super(DecoderBlock,self).__init__()\n",
    "        self.upsample = nn.ConvTranspose2d(channels*2, channels, kernel_size=4, stride=2, padding=1)#x 업샘플링\n",
    "        self.convblock1 = ConvBlock(channels*2, channels)#차원감소\n",
    "        #self.convblock2 = ConvBlock(channels, channels)\n",
    "    def forward(self,x,skip):\n",
    "        x = self.upsample(x)\n",
    "        x = torch.cat([x, skip], dim=1)\n",
    "        x = self.convblock1(x)\n",
    "        #x = self.convblock2(x)\n",
    "        return x\n",
    "\n",
    "###########################################\n",
    "class GradReverse(torch.autograd.Function):\n",
    "    def forward(self, x):\n",
    "        return x.view_as(x)\n",
    "\n",
    "    def backward(self, grad_output): # 역전파 시에 gradient에 음수를 취함\n",
    "        return (grad_output * -1)\n",
    "\n",
    "class domain_classifier(nn.Module):\n",
    "    def __init__(self):\n",
    "        super(domain_classifier, self).__init__()\n",
    "        self.fc1 = nn.Linear(224*224*64, 10)\n",
    "        self.fc2 = nn.Linear(10, 1) # source = 0, target = 1 회귀 가정\n",
    "\n",
    "    def forward(self, x):\n",
    "        x = x.view(-1, 224*224*64)\n",
    "        x = GradReverse.apply(x) # gradient reverse\n",
    "        x = F.leaky_relu(self.fc1(x))\n",
    "        x = self.fc2(x)\n",
    "        \n",
    "        return torch.sigmoid(x)\n",
    "\n",
    "###########################################\n",
    "\n",
    "\n",
    "#Unet구조 middle의 xm값의 움직임에 주의\n",
    "class Unet(nn.Module):\n",
    "    def __init__(self,n_classes):\n",
    "        super(Unet,self).__init__()\n",
    "        self.encoder1 = EncoderBlock(3,64)\n",
    "        self.encoder2 = EncoderBlock(64,128)\n",
    "        self.encoder3 = EncoderBlock(128,256)\n",
    "        self.encoder4 = EncoderBlock(256,512)\n",
    "        \n",
    "        self.middleconv = ConvBlock(512,1024)\n",
    "        \n",
    "        \n",
    "        self.decoder4 = DecoderBlock(512)\n",
    "        self.decoder3 = DecoderBlock(256)\n",
    "        self.decoder2 = DecoderBlock(128)\n",
    "        self.decoder1 = DecoderBlock(64)\n",
    "        self.segmap = nn.Conv2d(64,n_classes, kernel_size=1)\n",
    "        \n",
    "        self.domain_classifier = domain_classifier()\n",
    "                                        \n",
    "\n",
    "    def forward(self,x):\n",
    "        x1,p = self.encoder1(x)#3->64   #P:256,256 x1 :512,512\n",
    "        x2,p = self.encoder2(p)#64->128 #P:128,128 x2:256,256\n",
    "        x3,p = self.encoder3(p)#128->256#p:64,64 x3:128,128\n",
    "        x4,p = self.encoder4(p)#256->512#p:32,32 x4:64,64\n",
    "        \n",
    "        xm = self.middleconv(p)#512->1024#32,32\n",
    "        \n",
    "        x = self.decoder4(xm,x4)#뉴런:1024->512->512 #출력tensor:64,64\n",
    "        x = self.decoder3(x,x3)#뉴런:512->256->256 #출력tensor:128,128\n",
    "        x = self.decoder2(x,x2)#뉴런:256->128->128 #출력tensor:256,256\n",
    "        x = self.decoder1(x,x1)#뉴런:128->64->64 #출력tensor:512,512\n",
    "\n",
    "        x_c = self.segmap(x)\n",
    "        x_d = self.domain_classifier(x)\n",
    "\n",
    "        return x_c, x_d"
   ]
  },
  {
   "cell_type": "code",
   "execution_count": 6,
   "metadata": {},
   "outputs": [
    {
     "name": "stdout",
     "output_type": "stream",
     "text": [
      "tensor([   6.2232,   81.0473,    5.1017,   66.2180,  170.2419,  506.2671,\n",
      "         159.9452,    6.9654,    4.3830,  907.1918, 2223.4863,   10.2576,\n",
      "           7.6339], device='cuda:0')\n"
     ]
    }
   ],
   "source": [
    "import pickle\n",
    "\n",
    "# 저장된 class_weights를 불러옵니다.\n",
    "class_weights_path = 'CLASS_WEIGHTS.pkl'\n",
    "\n",
    "with open(class_weights_path, 'rb') as file:\n",
    "    CLASS_WEIGHTS = pickle.load(file)\n",
    "\n",
    "print(CLASS_WEIGHTS)"
   ]
  },
  {
   "cell_type": "markdown",
   "metadata": {},
   "source": [
    "## Loss Function"
   ]
  },
  {
   "cell_type": "code",
   "execution_count": 7,
   "metadata": {},
   "outputs": [],
   "source": [
    "# loss function과 optimizer 정의\n",
    "\n",
    "class DANN_Loss(nn.Module):\n",
    "    def __init__(self):\n",
    "        super(DANN_Loss, self).__init__()\n",
    "\n",
    "        self.CE = nn.CrossEntropyLoss(weight=CLASS_WEIGHTS) # 0~9 class 분류용\n",
    "        self.BCE = nn.BCELoss() # 도메인 분류용\n",
    "        \n",
    "    # result : DANN_CNN에서 반환된 값\n",
    "    # label : 숫자 0 ~ 9에 대한 라벨\n",
    "    # domain_num : 0(source) or 1(target)\n",
    "    def forward(self, result, label, domain_num, alpha = 1):\n",
    "        label_logits, domain_logits = result # DANN_CNN의 결과\n",
    "\n",
    "        batch_size = domain_logits.shape[0]\n",
    "\n",
    "        domain_target = torch.FloatTensor([domain_num] * batch_size).unsqueeze(1).to(device)\n",
    "\n",
    "        domain_loss = self.BCE(domain_logits, domain_target) # domain 분류 loss\n",
    "        target_loss = self.CE(label_logits, label) # class 분류 loss\n",
    "\n",
    "        loss = target_loss + alpha * domain_loss\n",
    "\n",
    "        return loss\n",
    "    \n",
    "\n",
    "loss_fn = DANN_Loss().to(device)\n",
    "\n",
    "#criterion =nn.CrossEntropyLoss()\n",
    "#domain_criterion = nn.BCELoss()\n",
    "#criterion = nn.CrossEntropyLoss(weight=class_weights)"
   ]
  },
  {
   "cell_type": "code",
   "execution_count": null,
   "metadata": {},
   "outputs": [],
   "source": []
  },
  {
   "cell_type": "code",
   "execution_count": 8,
   "metadata": {},
   "outputs": [],
   "source": [
    "LR = 0.001\n",
    "EP = 20\n",
    "BATCH_SIZE = 4\n",
    "ACCMULATION_STEP = 1 \n",
    "N_CLASSES = 13 #IoU 점수측정하기 위한 클래스의 개수\n",
    "ALPHA = 0.5\n",
    "# model 초기화\n",
    "#model = Unet_resnet18(n_classes = N_CLASSES).to(device)\n",
    "#model = ResNet50(num_classes=N_CLASSES).to(device)\n",
    "model = Unet(n_classes = N_CLASSES).to(device)\n",
    "optimizer = torch.optim.Adam(model.parameters(), lr=LR)\n",
    "\n",
    "optimizer.zero_grad() \n",
    "\n",
    "source_dataset = CustomDataset(csv_file='./data/DA_csv/train_source.csv', transform=transform)\n",
    "source_dataloader = DataLoader(source_dataset, batch_size=BATCH_SIZE, shuffle=True)\n",
    "target_dataset = CustomDataset(csv_file='./data/DA_csv/fish_train_source.csv', transform=transform)\n",
    "target_dataloader = DataLoader(target_dataset, batch_size=BATCH_SIZE, shuffle=True)\n",
    "\n",
    "val_source_dataset = CustomDataset(csv_file='./data/DA_csv/val_source.csv', transform=transform)\n",
    "val_source_dataloader = DataLoader(val_source_dataset, batch_size=BATCH_SIZE, shuffle=False)\n",
    "val_target_dataset = CustomDataset(csv_file='./data/DA_csv/fish_val_source.csv', transform=transform)\n",
    "val_target_dataloader = DataLoader(val_target_dataset, batch_size=BATCH_SIZE, shuffle=False)\n",
    "# source_dataset = CustomDataset(csv_file=os.path.join(\"/mnt/nas27/Dataset/Samsung_DM\",'./train_source.csv'), transform=transform)#\n",
    "# source_dataloader = DataLoader(source_dataset, batch_size=BATCH_SIZE, shuffle=True, num_workers=8)\n",
    "# s_valid_dataset = CustomDataset(csv_file=os.path.join(\"/mnt/nas27/Dataset/Samsung_DM\",'./val_source.csv'), transform=transform)\n",
    "# s_valid_dataloader = DataLoader(s_valid_dataset, batch_size=BATCH_SIZE, shuffle=False, num_workers=8)\n",
    "# #target_dataset = CustomDataset_target(csv_file='./f_train_source.csv', transform=transform)\n",
    "# target_dataset = CustomDataset(csv_file=os.path.join(\"/mnt/nas27/Dataset/Samsung_DM\",'./fish_val_source.csv'), transform=transform)\n",
    "# target_dataloader = DataLoader(target_dataset, batch_size=BATCH_SIZE, shuffle=False, num_workers=8)\n",
    "\n",
    "# t_test_dataset = CustomDataset(csv_file=os.path.join(\"/mnt/nas27/Dataset/Samsung_DM\",'./test.csv'), transform=transform, infer=True)\n",
    "# t_test_dataloader = DataLoader(t_test_dataset, batch_size=BATCH_SIZE, shuffle=False, num_workers=8)"
   ]
  },
  {
   "cell_type": "code",
   "execution_count": 9,
   "metadata": {},
   "outputs": [],
   "source": [
    "# import pandas as pd\n",
    "# import os\n",
    "# import cv2\n",
    "# import matplotlib.pyplot as plt\n",
    "# a1 = pd.read_csv(\"./data/6_fish_source.csv\")\n",
    "# p = \"./data/224/\"\n",
    "# a2 = os.path.join(p, a1.iloc[3,2])\n",
    "# a3 = cv2.imread(a2)\n",
    "# a4 = cv2.cvtColor(a3, cv2.COLOR_BGR2GRAY)\n",
    "# a4 = np.round(a4).astype(np.uint8)\n",
    "# a5 = a4*20\n",
    "\n",
    "# plt.imshow(a5, cmap='gray')\n",
    "# plt.axis('off')\n",
    "# plt.show()"
   ]
  },
  {
   "cell_type": "code",
   "execution_count": 10,
   "metadata": {},
   "outputs": [
    {
     "name": "stderr",
     "output_type": "stream",
     "text": [
      "Failed to detect the name of this notebook, you can set it manually with the WANDB_NOTEBOOK_NAME environment variable to enable code saving.\n",
      "\u001b[34m\u001b[1mwandb\u001b[0m: Currently logged in as: \u001b[33mpook0612\u001b[0m (\u001b[33mlimbw\u001b[0m). Use \u001b[1m`wandb login --relogin`\u001b[0m to force relogin\n"
     ]
    },
    {
     "data": {
      "text/html": [
       "wandb version 0.15.12 is available!  To upgrade, please run:\n",
       " $ pip install wandb --upgrade"
      ],
      "text/plain": [
       "<IPython.core.display.HTML object>"
      ]
     },
     "metadata": {},
     "output_type": "display_data"
    },
    {
     "data": {
      "text/html": [
       "Tracking run with wandb version 0.15.10"
      ],
      "text/plain": [
       "<IPython.core.display.HTML object>"
      ]
     },
     "metadata": {},
     "output_type": "display_data"
    },
    {
     "data": {
      "text/html": [
       "Run data is saved locally in <code>c:\\Workspace\\Design_project\\wandb\\run-20231019_232140-n4dv6199</code>"
      ],
      "text/plain": [
       "<IPython.core.display.HTML object>"
      ]
     },
     "metadata": {},
     "output_type": "display_data"
    },
    {
     "data": {
      "text/html": [
       "Syncing run <strong><a href='https://wandb.ai/limbw/practice_10_19/runs/n4dv6199' target=\"_blank\">misty-surf-1</a></strong> to <a href='https://wandb.ai/limbw/practice_10_19' target=\"_blank\">Weights & Biases</a> (<a href='https://wandb.me/run' target=\"_blank\">docs</a>)<br/>"
      ],
      "text/plain": [
       "<IPython.core.display.HTML object>"
      ]
     },
     "metadata": {},
     "output_type": "display_data"
    },
    {
     "data": {
      "text/html": [
       " View project at <a href='https://wandb.ai/limbw/practice_10_19' target=\"_blank\">https://wandb.ai/limbw/practice_10_19</a>"
      ],
      "text/plain": [
       "<IPython.core.display.HTML object>"
      ]
     },
     "metadata": {},
     "output_type": "display_data"
    },
    {
     "data": {
      "text/html": [
       " View run at <a href='https://wandb.ai/limbw/practice_10_19/runs/n4dv6199' target=\"_blank\">https://wandb.ai/limbw/practice_10_19/runs/n4dv6199</a>"
      ],
      "text/plain": [
       "<IPython.core.display.HTML object>"
      ]
     },
     "metadata": {},
     "output_type": "display_data"
    },
    {
     "name": "stderr",
     "output_type": "stream",
     "text": [
      "275it [03:06,  1.48it/s]\n"
     ]
    },
    {
     "name": "stdout",
     "output_type": "stream",
     "text": [
      "--IoU Scores Train--\n",
      "Class0: 0.1373 Class1: 0.2171 Class2: 0.2362 Class3: 0.2431 Class4: 0.2602 Class5: 0.2839 Class6: 0.2976 \n",
      "Class7: 0.2836 Class8: 0.3082 Class9: 0.3222 Class10: 0.3108 Class11: 0.3222 Class12: 0.3202 \n",
      "--IoU Scores Fish Train--\n",
      "Class0: 0.1316 Class1: 0.2029 Class2: 0.2199 Class3: 0.2415 Class4: 0.2501 Class5: 0.2490 Class6: 0.2655 \n",
      "Class7: 0.2629 Class8: 0.2827 Class9: 0.2744 Class10: 0.2863 Class11: 0.2885 Class12: 0.2864 \n",
      "Epoch1\n",
      "Train Loss: 52.39020294362849\n",
      "Train mIoU: 0.27251332306839476, Fish_Train_mIoU: 0.24936339885715625\n",
      "___________________________________________________________________________________________\n",
      "\n"
     ]
    },
    {
     "name": "stderr",
     "output_type": "stream",
     "text": [
      "59it [00:19,  3.04it/s]\n"
     ]
    },
    {
     "name": "stdout",
     "output_type": "stream",
     "text": [
      "--IoU Scores val--\n",
      "Class0: 0.2327 Class1: 0.2775 Class2: 0.2271 Class3: 0.2419 Class4: 0.2494 Class5: 0.2623 Class6: 0.2612 \n",
      "Class7: 0.2497 Class8: 0.2512 Class9: 0.2478 Class10: 0.2513 Class11: 0.2469 Class12: 0.2754 \n",
      "--IoU Scores Fish val--\n",
      "Class0: 0.2328 Class1: 0.2462 Class2: 0.2111 Class3: 0.2381 Class4: 0.2394 Class5: 0.2422 Class6: 0.2258 \n",
      "Class7: 0.2327 Class8: 0.2209 Class9: 0.2227 Class10: 0.2224 Class11: 0.2286 Class12: 0.2361 \n",
      "Epoch1\n",
      "Train Loss: 53.215178473521085\n",
      "Train mIoU: 0.2518751732926383, Fish_Train_mIoU: 0.23069864980492852\n",
      "___________________________________________________________________________________________\n",
      "\n"
     ]
    },
    {
     "name": "stderr",
     "output_type": "stream",
     "text": [
      "275it [03:11,  1.44it/s]\n"
     ]
    },
    {
     "name": "stdout",
     "output_type": "stream",
     "text": [
      "--IoU Scores Train--\n",
      "Class0: 0.3335 Class1: 0.3371 Class2: 0.3348 Class3: 0.3370 Class4: 0.3457 Class5: 0.3484 Class6: 0.3401 \n",
      "Class7: 0.3391 Class8: 0.3730 Class9: 0.3620 Class10: 0.3564 Class11: 0.3587 Class12: 0.3593 \n",
      "--IoU Scores Fish Train--\n",
      "Class0: 0.3023 Class1: 0.3063 Class2: 0.3092 Class3: 0.3139 Class4: 0.3141 Class5: 0.3103 Class6: 0.3161 \n",
      "Class7: 0.3050 Class8: 0.3201 Class9: 0.3174 Class10: 0.3270 Class11: 0.3047 Class12: 0.3276 \n",
      "Epoch2\n",
      "Train Loss: 51.93092189442028\n",
      "Train mIoU: 0.3480831273657656, Fish_Train_mIoU: 0.31337763461785084\n",
      "___________________________________________________________________________________________\n",
      "\n"
     ]
    },
    {
     "name": "stderr",
     "output_type": "stream",
     "text": [
      "59it [00:19,  3.02it/s]\n"
     ]
    },
    {
     "name": "stdout",
     "output_type": "stream",
     "text": [
      "--IoU Scores val--\n",
      "Class0: 0.2328 Class1: 0.2674 Class2: 0.2192 Class3: 0.2349 Class4: 0.2351 Class5: 0.2654 Class6: 0.2427 \n",
      "Class7: 0.2373 Class8: 0.2484 Class9: 0.2447 Class10: 0.2377 Class11: 0.2338 Class12: 0.2511 \n",
      "--IoU Scores Fish val--\n",
      "Class0: 0.2710 Class1: 0.2945 Class2: 0.2448 Class3: 0.2721 Class4: 0.2804 Class5: 0.2804 Class6: 0.2660 \n",
      "Class7: 0.2782 Class8: 0.2594 Class9: 0.2704 Class10: 0.2620 Class11: 0.2749 Class12: 0.2637 \n",
      "Epoch2\n",
      "Train Loss: 52.830543065475204\n",
      "Train mIoU: 0.24233638427008258, Fish_Train_mIoU: 0.2705917838043278\n",
      "___________________________________________________________________________________________\n",
      "\n"
     ]
    },
    {
     "name": "stderr",
     "output_type": "stream",
     "text": [
      "275it [03:09,  1.45it/s]\n"
     ]
    },
    {
     "name": "stdout",
     "output_type": "stream",
     "text": [
      "--IoU Scores Train--\n",
      "Class0: 0.3588 Class1: 0.3768 Class2: 0.3743 Class3: 0.3855 Class4: 0.3769 Class5: 0.3800 Class6: 0.3595 \n",
      "Class7: 0.3645 Class8: 0.3851 Class9: 0.3890 Class10: 0.3887 Class11: 0.4051 Class12: 0.3932 \n",
      "--IoU Scores Fish Train--\n",
      "Class0: 0.3287 Class1: 0.3239 Class2: 0.3324 Class3: 0.3395 Class4: 0.3357 Class5: 0.3370 Class6: 0.3271 \n",
      "Class7: 0.3338 Class8: 0.3318 Class9: 0.3381 Class10: 0.3409 Class11: 0.3375 Class12: 0.3511 \n",
      "Epoch3\n",
      "Train Loss: 51.74338832508434\n",
      "Train mIoU: 0.3798017501116032, Fish_Train_mIoU: 0.3351906140317394\n",
      "___________________________________________________________________________________________\n",
      "\n"
     ]
    },
    {
     "name": "stderr",
     "output_type": "stream",
     "text": [
      "59it [00:20,  2.95it/s]\n"
     ]
    },
    {
     "name": "stdout",
     "output_type": "stream",
     "text": [
      "--IoU Scores val--\n",
      "Class0: 0.2739 Class1: 0.3068 Class2: 0.2535 Class3: 0.2670 Class4: 0.2745 Class5: 0.3070 Class6: 0.2852 \n",
      "Class7: 0.2662 Class8: 0.2779 Class9: 0.2801 Class10: 0.2750 Class11: 0.2840 Class12: 0.3003 \n",
      "--IoU Scores Fish val--\n",
      "Class0: 0.1879 Class1: 0.2269 Class2: 0.1947 Class3: 0.2024 Class4: 0.2221 Class5: 0.1975 Class6: 0.2185 \n",
      "Class7: 0.2128 Class8: 0.2103 Class9: 0.1999 Class10: 0.2061 Class11: 0.2027 Class12: 0.2147 \n",
      "Epoch3\n",
      "Train Loss: 53.49812465603069\n",
      "Train mIoU: 0.28088434591929756, Fish_Train_mIoU: 0.20744091649214946\n",
      "___________________________________________________________________________________________\n",
      "\n"
     ]
    },
    {
     "name": "stderr",
     "output_type": "stream",
     "text": [
      "275it [03:06,  1.47it/s]\n"
     ]
    },
    {
     "name": "stdout",
     "output_type": "stream",
     "text": [
      "--IoU Scores Train--\n",
      "Class0: 0.3899 Class1: 0.3941 Class2: 0.3838 Class3: 0.3962 Class4: 0.3888 Class5: 0.4069 Class6: 0.4128 \n",
      "Class7: 0.4012 Class8: 0.4080 Class9: 0.3910 Class10: 0.4050 Class11: 0.4032 Class12: 0.4200 \n",
      "--IoU Scores Fish Train--\n",
      "Class0: 0.3361 Class1: 0.3539 Class2: 0.3393 Class3: 0.3399 Class4: 0.3459 Class5: 0.3480 Class6: 0.3536 \n",
      "Class7: 0.3534 Class8: 0.3541 Class9: 0.3548 Class10: 0.3619 Class11: 0.3665 Class12: 0.3617 \n",
      "Epoch4\n",
      "Train Loss: 51.617509696266865\n",
      "Train mIoU: 0.4000567912185034, Fish_Train_mIoU: 0.35147193034019547\n",
      "___________________________________________________________________________________________\n",
      "\n"
     ]
    },
    {
     "name": "stderr",
     "output_type": "stream",
     "text": [
      "59it [00:19,  2.99it/s]\n"
     ]
    },
    {
     "name": "stdout",
     "output_type": "stream",
     "text": [
      "--IoU Scores val--\n",
      "Class0: 0.2808 Class1: 0.3219 Class2: 0.2600 Class3: 0.2821 Class4: 0.2823 Class5: 0.3172 Class6: 0.2873 \n",
      "Class7: 0.2791 Class8: 0.2905 Class9: 0.2903 Class10: 0.2897 Class11: 0.2838 Class12: 0.3084 \n",
      "--IoU Scores Fish val--\n",
      "Class0: 0.1873 Class1: 0.2263 Class2: 0.1913 Class3: 0.1973 Class4: 0.2164 Class5: 0.1945 Class6: 0.2114 \n",
      "Class7: 0.2062 Class8: 0.2048 Class9: 0.1966 Class10: 0.2052 Class11: 0.1935 Class12: 0.2050 \n",
      "Epoch4\n",
      "Train Loss: 53.15641791133557\n",
      "Train mIoU: 0.2902750397332316, Fish_Train_mIoU: 0.20274274369124987\n",
      "___________________________________________________________________________________________\n",
      "\n"
     ]
    },
    {
     "name": "stderr",
     "output_type": "stream",
     "text": [
      "275it [03:07,  1.47it/s]\n"
     ]
    },
    {
     "name": "stdout",
     "output_type": "stream",
     "text": [
      "--IoU Scores Train--\n",
      "Class0: 0.4159 Class1: 0.4169 Class2: 0.4066 Class3: 0.4166 Class4: 0.4226 Class5: 0.4132 Class6: 0.4183 \n",
      "Class7: 0.4016 Class8: 0.4132 Class9: 0.4113 Class10: 0.4344 Class11: 0.4243 Class12: 0.4119 \n",
      "--IoU Scores Fish Train--\n",
      "Class0: 0.3764 Class1: 0.3607 Class2: 0.3444 Class3: 0.3643 Class4: 0.3632 Class5: 0.3623 Class6: 0.3626 \n",
      "Class7: 0.3503 Class8: 0.3682 Class9: 0.3560 Class10: 0.3743 Class11: 0.3648 Class12: 0.3725 \n",
      "Epoch5\n",
      "Train Loss: 51.53098521839489\n",
      "Train mIoU: 0.41591538744690226, Fish_Train_mIoU: 0.36306701388229445\n",
      "___________________________________________________________________________________________\n",
      "\n"
     ]
    },
    {
     "name": "stderr",
     "output_type": "stream",
     "text": [
      "59it [00:20,  2.88it/s]\n"
     ]
    },
    {
     "name": "stdout",
     "output_type": "stream",
     "text": [
      "--IoU Scores val--\n",
      "Class0: 0.2658 Class1: 0.2988 Class2: 0.2460 Class3: 0.2570 Class4: 0.2651 Class5: 0.2947 Class6: 0.2666 \n",
      "Class7: 0.2560 Class8: 0.2797 Class9: 0.2710 Class10: 0.2624 Class11: 0.2540 Class12: 0.2702 \n",
      "--IoU Scores Fish val--\n",
      "Class0: 0.2345 Class1: 0.2615 Class2: 0.2310 Class3: 0.2562 Class4: 0.2478 Class5: 0.2485 Class6: 0.2462 \n",
      "Class7: 0.2551 Class8: 0.2390 Class9: 0.2401 Class10: 0.2302 Class11: 0.2364 Class12: 0.2502 \n",
      "Epoch5\n",
      "Train Loss: 52.83055140608448\n",
      "Train mIoU: 0.2682604785278045, Fish_Train_mIoU: 0.24435286114423116\n",
      "___________________________________________________________________________________________\n",
      "\n"
     ]
    },
    {
     "name": "stderr",
     "output_type": "stream",
     "text": [
      "275it [03:11,  1.44it/s]\n"
     ]
    },
    {
     "name": "stdout",
     "output_type": "stream",
     "text": [
      "--IoU Scores Train--\n",
      "Class0: 0.4277 Class1: 0.4386 Class2: 0.4288 Class3: 0.4312 Class4: 0.4295 Class5: 0.4254 Class6: 0.4305 \n",
      "Class7: 0.4318 Class8: 0.4273 Class9: 0.4280 Class10: 0.4366 Class11: 0.4281 Class12: 0.4256 \n",
      "--IoU Scores Fish Train--\n",
      "Class0: 0.3551 Class1: 0.3739 Class2: 0.3715 Class3: 0.3881 Class4: 0.3742 Class5: 0.3644 Class6: 0.3791 \n",
      "Class7: 0.3663 Class8: 0.3691 Class9: 0.3741 Class10: 0.3743 Class11: 0.3752 Class12: 0.3681 \n",
      "Epoch6\n",
      "Train Loss: 51.46086185802113\n",
      "Train mIoU: 0.4299277935611665, Fish_Train_mIoU: 0.37180550727134337\n",
      "___________________________________________________________________________________________\n",
      "\n"
     ]
    },
    {
     "name": "stderr",
     "output_type": "stream",
     "text": [
      "59it [00:18,  3.17it/s]\n"
     ]
    },
    {
     "name": "stdout",
     "output_type": "stream",
     "text": [
      "--IoU Scores val--\n",
      "Class0: 0.2659 Class1: 0.3095 Class2: 0.2460 Class3: 0.2546 Class4: 0.2716 Class5: 0.2950 Class6: 0.2678 \n",
      "Class7: 0.2566 Class8: 0.2771 Class9: 0.2610 Class10: 0.2652 Class11: 0.2675 Class12: 0.2861 \n",
      "--IoU Scores Fish val--\n",
      "Class0: 0.1878 Class1: 0.2217 Class2: 0.1945 Class3: 0.1966 Class4: 0.2178 Class5: 0.1936 Class6: 0.2148 \n",
      "Class7: 0.2047 Class8: 0.2095 Class9: 0.1984 Class10: 0.2095 Class11: 0.1954 Class12: 0.2042 \n",
      "Epoch6\n",
      "Train Loss: 54.00987689777956\n",
      "Train mIoU: 0.27105919967883385, Fish_Train_mIoU: 0.20372172192285512\n",
      "___________________________________________________________________________________________\n",
      "\n"
     ]
    },
    {
     "name": "stderr",
     "output_type": "stream",
     "text": [
      "275it [03:02,  1.50it/s]\n"
     ]
    },
    {
     "name": "stdout",
     "output_type": "stream",
     "text": [
      "--IoU Scores Train--\n",
      "Class0: 0.4302 Class1: 0.4415 Class2: 0.4301 Class3: 0.4383 Class4: 0.4300 Class5: 0.4338 Class6: 0.4514 \n",
      "Class7: 0.4523 Class8: 0.4415 Class9: 0.4388 Class10: 0.4532 Class11: 0.4296 Class12: 0.4475 \n",
      "--IoU Scores Fish Train--\n",
      "Class0: 0.3760 Class1: 0.3796 Class2: 0.3755 Class3: 0.3821 Class4: 0.3855 Class5: 0.3872 Class6: 0.3766 \n",
      "Class7: 0.3758 Class8: 0.3785 Class9: 0.3781 Class10: 0.3899 Class11: 0.3772 Class12: 0.3716 \n",
      "Epoch7\n",
      "Train Loss: 51.3998832841353\n",
      "Train mIoU: 0.43987325887143086, Fish_Train_mIoU: 0.3795101756246893\n",
      "___________________________________________________________________________________________\n",
      "\n"
     ]
    },
    {
     "name": "stderr",
     "output_type": "stream",
     "text": [
      "59it [00:18,  3.21it/s]\n"
     ]
    },
    {
     "name": "stdout",
     "output_type": "stream",
     "text": [
      "--IoU Scores val--\n",
      "Class0: 0.2534 Class1: 0.2934 Class2: 0.2387 Class3: 0.2537 Class4: 0.2503 Class5: 0.2945 Class6: 0.2666 \n",
      "Class7: 0.2491 Class8: 0.2690 Class9: 0.2703 Class10: 0.2661 Class11: 0.2635 Class12: 0.2667 \n",
      "--IoU Scores Fish val--\n",
      "Class0: 0.2042 Class1: 0.2450 Class2: 0.2094 Class3: 0.2171 Class4: 0.2322 Class5: 0.2231 Class6: 0.2286 \n",
      "Class7: 0.2318 Class8: 0.2237 Class9: 0.2247 Class10: 0.2202 Class11: 0.2222 Class12: 0.2232 \n",
      "Epoch7\n",
      "Train Loss: 53.05427822824252\n",
      "Train mIoU: 0.26425742674140545, Fish_Train_mIoU: 0.22348996536082966\n",
      "___________________________________________________________________________________________\n",
      "\n"
     ]
    },
    {
     "name": "stderr",
     "output_type": "stream",
     "text": [
      "275it [03:02,  1.51it/s]\n"
     ]
    },
    {
     "name": "stdout",
     "output_type": "stream",
     "text": [
      "--IoU Scores Train--\n",
      "Class0: 0.4229 Class1: 0.4534 Class2: 0.4427 Class3: 0.4383 Class4: 0.4363 Class5: 0.4424 Class6: 0.4654 \n",
      "Class7: 0.4437 Class8: 0.4508 Class9: 0.4622 Class10: 0.4653 Class11: 0.4652 Class12: 0.4525 \n",
      "--IoU Scores Fish Train--\n",
      "Class0: 0.3594 Class1: 0.3762 Class2: 0.3802 Class3: 0.3885 Class4: 0.3888 Class5: 0.3902 Class6: 0.3918 \n",
      "Class7: 0.3793 Class8: 0.3785 Class9: 0.3843 Class10: 0.4004 Class11: 0.3803 Class12: 0.4066 \n",
      "Epoch8\n",
      "Train Loss: 51.3518659695712\n",
      "Train mIoU: 0.44932582082662287, Fish_Train_mIoU: 0.38495322064231907\n",
      "___________________________________________________________________________________________\n",
      "\n"
     ]
    },
    {
     "name": "stderr",
     "output_type": "stream",
     "text": [
      "59it [00:18,  3.20it/s]\n"
     ]
    },
    {
     "name": "stdout",
     "output_type": "stream",
     "text": [
      "--IoU Scores val--\n",
      "Class0: 0.2995 Class1: 0.3349 Class2: 0.2876 Class3: 0.2815 Class4: 0.2983 Class5: 0.3326 Class6: 0.3074 \n",
      "Class7: 0.2917 Class8: 0.3044 Class9: 0.3169 Class10: 0.3001 Class11: 0.3113 Class12: 0.3270 \n",
      "--IoU Scores Fish val--\n",
      "Class0: 0.2290 Class1: 0.2627 Class2: 0.2346 Class3: 0.2271 Class4: 0.2578 Class5: 0.2482 Class6: 0.2505 \n",
      "Class7: 0.2413 Class8: 0.2433 Class9: 0.2455 Class10: 0.2539 Class11: 0.2401 Class12: 0.2316 \n",
      "Epoch8\n",
      "Train Loss: 52.94757862414344\n",
      "Train mIoU: 0.3071855405238152, Fish_Train_mIoU: 0.24350867652317223\n",
      "___________________________________________________________________________________________\n",
      "\n"
     ]
    },
    {
     "name": "stderr",
     "output_type": "stream",
     "text": [
      "275it [03:01,  1.51it/s]\n"
     ]
    },
    {
     "name": "stdout",
     "output_type": "stream",
     "text": [
      "--IoU Scores Train--\n",
      "Class0: 0.4723 Class1: 0.4679 Class2: 0.4578 Class3: 0.4570 Class4: 0.4450 Class5: 0.4538 Class6: 0.4653 \n",
      "Class7: 0.4672 Class8: 0.4512 Class9: 0.4559 Class10: 0.4590 Class11: 0.4600 Class12: 0.4733 \n",
      "--IoU Scores Fish Train--\n",
      "Class0: 0.3988 Class1: 0.3969 Class2: 0.3980 Class3: 0.3938 Class4: 0.3850 Class5: 0.3826 Class6: 0.4039 \n",
      "Class7: 0.3966 Class8: 0.3919 Class9: 0.3884 Class10: 0.3984 Class11: 0.3960 Class12: 0.4070 \n",
      "Epoch9\n",
      "Train Loss: 51.29307266235352\n",
      "Train mIoU: 0.4604530523234318, Fish_Train_mIoU: 0.39517924303839436\n",
      "___________________________________________________________________________________________\n",
      "\n"
     ]
    },
    {
     "name": "stderr",
     "output_type": "stream",
     "text": [
      "59it [00:18,  3.19it/s]\n"
     ]
    },
    {
     "name": "stdout",
     "output_type": "stream",
     "text": [
      "--IoU Scores val--\n",
      "Class0: 0.2643 Class1: 0.2941 Class2: 0.2493 Class3: 0.2498 Class4: 0.2616 Class5: 0.2909 Class6: 0.2709 \n",
      "Class7: 0.2507 Class8: 0.2742 Class9: 0.2770 Class10: 0.2659 Class11: 0.2500 Class12: 0.2792 \n",
      "--IoU Scores Fish val--\n",
      "Class0: 0.2402 Class1: 0.2815 Class2: 0.2560 Class3: 0.2501 Class4: 0.2715 Class5: 0.2572 Class6: 0.2708 \n",
      "Class7: 0.2649 Class8: 0.2609 Class9: 0.2645 Class10: 0.2659 Class11: 0.2575 Class12: 0.2575 \n",
      "Epoch9\n",
      "Train Loss: 53.098266989497816\n",
      "Train mIoU: 0.2675382381966058, Fish_Train_mIoU: 0.26142233733836684\n",
      "___________________________________________________________________________________________\n",
      "\n"
     ]
    },
    {
     "name": "stderr",
     "output_type": "stream",
     "text": [
      "275it [03:02,  1.50it/s]\n"
     ]
    },
    {
     "name": "stdout",
     "output_type": "stream",
     "text": [
      "--IoU Scores Train--\n",
      "Class0: 0.4712 Class1: 0.4757 Class2: 0.4725 Class3: 0.4733 Class4: 0.4695 Class5: 0.4723 Class6: 0.4764 \n",
      "Class7: 0.4550 Class8: 0.4748 Class9: 0.4485 Class10: 0.4604 Class11: 0.4648 Class12: 0.4784 \n",
      "--IoU Scores Fish Train--\n",
      "Class0: 0.4122 Class1: 0.4067 Class2: 0.4034 Class3: 0.4038 Class4: 0.4048 Class5: 0.4020 Class6: 0.4094 \n",
      "Class7: 0.4049 Class8: 0.4011 Class9: 0.3870 Class10: 0.3985 Class11: 0.3986 Class12: 0.4046 \n",
      "Epoch10\n",
      "Train Loss: 51.24377238880504\n",
      "Train mIoU: 0.4686754747891477, Fish_Train_mIoU: 0.40283212359648446\n",
      "___________________________________________________________________________________________\n",
      "\n"
     ]
    },
    {
     "name": "stderr",
     "output_type": "stream",
     "text": [
      "59it [00:18,  3.18it/s]\n"
     ]
    },
    {
     "name": "stdout",
     "output_type": "stream",
     "text": [
      "--IoU Scores val--\n",
      "Class0: 0.2888 Class1: 0.3351 Class2: 0.2810 Class3: 0.2761 Class4: 0.2999 Class5: 0.3327 Class6: 0.2889 \n",
      "Class7: 0.2675 Class8: 0.2982 Class9: 0.3026 Class10: 0.2985 Class11: 0.2927 Class12: 0.3122 \n",
      "--IoU Scores Fish val--\n",
      "Class0: 0.2357 Class1: 0.2843 Class2: 0.2552 Class3: 0.2508 Class4: 0.2736 Class5: 0.2601 Class6: 0.2786 \n",
      "Class7: 0.2670 Class8: 0.2671 Class9: 0.2592 Class10: 0.2705 Class11: 0.2591 Class12: 0.2632 \n",
      "Epoch10\n",
      "Train Loss: 53.014487896935414\n",
      "Train mIoU: 0.29801053447289916, Fish_Train_mIoU: 0.26340208531556286\n",
      "___________________________________________________________________________________________\n",
      "\n"
     ]
    },
    {
     "name": "stderr",
     "output_type": "stream",
     "text": [
      "275it [03:04,  1.49it/s]\n"
     ]
    },
    {
     "name": "stdout",
     "output_type": "stream",
     "text": [
      "--IoU Scores Train--\n",
      "Class0: 0.4608 Class1: 0.4710 Class2: 0.4681 Class3: 0.4678 Class4: 0.4879 Class5: 0.4753 Class6: 0.4823 \n",
      "Class7: 0.4847 Class8: 0.4680 Class9: 0.4853 Class10: 0.4883 Class11: 0.4862 Class12: 0.4824 \n",
      "--IoU Scores Fish Train--\n",
      "Class0: 0.4049 Class1: 0.4112 Class2: 0.3999 Class3: 0.4045 Class4: 0.3998 Class5: 0.4095 Class6: 0.4185 \n",
      "Class7: 0.4063 Class8: 0.4092 Class9: 0.4093 Class10: 0.3937 Class11: 0.4153 Class12: 0.4128 \n",
      "Epoch11\n",
      "Train Loss: 51.20929630626332\n",
      "Train mIoU: 0.47753604223936164, Fish_Train_mIoU: 0.40730311555278365\n",
      "___________________________________________________________________________________________\n",
      "\n"
     ]
    },
    {
     "name": "stderr",
     "output_type": "stream",
     "text": [
      "59it [00:18,  3.20it/s]\n"
     ]
    },
    {
     "name": "stdout",
     "output_type": "stream",
     "text": [
      "--IoU Scores val--\n",
      "Class0: 0.3385 Class1: 0.3730 Class2: 0.3177 Class3: 0.3223 Class4: 0.3335 Class5: 0.3705 Class6: 0.3389 \n",
      "Class7: 0.3256 Class8: 0.3366 Class9: 0.3569 Class10: 0.3263 Class11: 0.3375 Class12: 0.3612 \n",
      "--IoU Scores Fish val--\n",
      "Class0: 0.2188 Class1: 0.2618 Class2: 0.2299 Class3: 0.2378 Class4: 0.2569 Class5: 0.2366 Class6: 0.2501 \n",
      "Class7: 0.2410 Class8: 0.2399 Class9: 0.2375 Class10: 0.2399 Class11: 0.2354 Class12: 0.2424 \n",
      "Epoch11\n",
      "Train Loss: 52.61980050297107\n",
      "Train mIoU: 0.3414310652590604, Fish_Train_mIoU: 0.24062023486013343\n",
      "___________________________________________________________________________________________\n",
      "\n"
     ]
    },
    {
     "name": "stderr",
     "output_type": "stream",
     "text": [
      "275it [03:03,  1.50it/s]\n"
     ]
    },
    {
     "name": "stdout",
     "output_type": "stream",
     "text": [
      "--IoU Scores Train--\n",
      "Class0: 0.4715 Class1: 0.4889 Class2: 0.4698 Class3: 0.4970 Class4: 0.4928 Class5: 0.4960 Class6: 0.4846 \n",
      "Class7: 0.4741 Class8: 0.4766 Class9: 0.4705 Class10: 0.4579 Class11: 0.4909 Class12: 0.4865 \n",
      "--IoU Scores Fish Train--\n",
      "Class0: 0.4206 Class1: 0.4142 Class2: 0.4019 Class3: 0.4045 Class4: 0.4135 Class5: 0.4097 Class6: 0.4215 \n",
      "Class7: 0.4150 Class8: 0.4106 Class9: 0.4135 Class10: 0.4027 Class11: 0.3844 Class12: 0.4204 \n",
      "Epoch12\n",
      "Train Loss: 51.18344664140181\n",
      "Train mIoU: 0.48130501667774267, Fish_Train_mIoU: 0.41019400161668335\n",
      "___________________________________________________________________________________________\n",
      "\n"
     ]
    },
    {
     "name": "stderr",
     "output_type": "stream",
     "text": [
      "59it [00:18,  3.20it/s]\n"
     ]
    },
    {
     "name": "stdout",
     "output_type": "stream",
     "text": [
      "--IoU Scores val--\n",
      "Class0: 0.3426 Class1: 0.3920 Class2: 0.3235 Class3: 0.3347 Class4: 0.3405 Class5: 0.3918 Class6: 0.3538 \n",
      "Class7: 0.3337 Class8: 0.3369 Class9: 0.3628 Class10: 0.3290 Class11: 0.3550 Class12: 0.3684 \n",
      "--IoU Scores Fish val--\n",
      "Class0: 0.2011 Class1: 0.2403 Class2: 0.2148 Class3: 0.2005 Class4: 0.2340 Class5: 0.2246 Class6: 0.2395 \n",
      "Class7: 0.2234 Class8: 0.2240 Class9: 0.2222 Class10: 0.2429 Class11: 0.2177 Class12: 0.2211 \n",
      "Epoch12\n",
      "Train Loss: 54.056720927610236\n",
      "Train mIoU: 0.3511392280964624, Fish_Train_mIoU: 0.2235324915702161\n",
      "___________________________________________________________________________________________\n",
      "\n"
     ]
    },
    {
     "name": "stderr",
     "output_type": "stream",
     "text": [
      "275it [03:03,  1.50it/s]\n"
     ]
    },
    {
     "name": "stdout",
     "output_type": "stream",
     "text": [
      "--IoU Scores Train--\n",
      "Class0: 0.4850 Class1: 0.4776 Class2: 0.4909 Class3: 0.4955 Class4: 0.4858 Class5: 0.4951 Class6: 0.5054 \n",
      "Class7: 0.4960 Class8: 0.4815 Class9: 0.4831 Class10: 0.5057 Class11: 0.4928 Class12: 0.4931 \n",
      "--IoU Scores Fish Train--\n",
      "Class0: 0.4091 Class1: 0.4272 Class2: 0.4155 Class3: 0.4183 Class4: 0.4203 Class5: 0.4252 Class6: 0.4233 \n",
      "Class7: 0.4238 Class8: 0.4231 Class9: 0.4098 Class10: 0.4166 Class11: 0.4097 Class12: 0.4165 \n",
      "Epoch13\n",
      "Train Loss: 51.12900213068182\n",
      "Train mIoU: 0.49136003403228223, Fish_Train_mIoU: 0.4183435621765315\n",
      "___________________________________________________________________________________________\n",
      "\n"
     ]
    },
    {
     "name": "stderr",
     "output_type": "stream",
     "text": [
      "59it [00:18,  3.18it/s]\n"
     ]
    },
    {
     "name": "stdout",
     "output_type": "stream",
     "text": [
      "--IoU Scores val--\n",
      "Class0: 0.3310 Class1: 0.3688 Class2: 0.3136 Class3: 0.3195 Class4: 0.3432 Class5: 0.3730 Class6: 0.3360 \n",
      "Class7: 0.3181 Class8: 0.3333 Class9: 0.3457 Class10: 0.3184 Class11: 0.3273 Class12: 0.3515 \n",
      "--IoU Scores Fish val--\n",
      "Class0: 0.2237 Class1: 0.2794 Class2: 0.2440 Class3: 0.2529 Class4: 0.2713 Class5: 0.2481 Class6: 0.2688 \n",
      "Class7: 0.2605 Class8: 0.2594 Class9: 0.2509 Class10: 0.2580 Class11: 0.2483 Class12: 0.2653 \n",
      "Epoch13\n",
      "Train Loss: 53.95290361824682\n",
      "Train mIoU: 0.3368817059186628, Fish_Train_mIoU: 0.25620518423817135\n",
      "___________________________________________________________________________________________\n",
      "\n"
     ]
    },
    {
     "name": "stderr",
     "output_type": "stream",
     "text": [
      "275it [03:03,  1.50it/s]\n"
     ]
    },
    {
     "name": "stdout",
     "output_type": "stream",
     "text": [
      "--IoU Scores Train--\n",
      "Class0: 0.4906 Class1: 0.5032 Class2: 0.4846 Class3: 0.4928 Class4: 0.4981 Class5: 0.4920 Class6: 0.5189 \n",
      "Class7: 0.5048 Class8: 0.5029 Class9: 0.5106 Class10: 0.4897 Class11: 0.4996 Class12: 0.5104 \n",
      "--IoU Scores Fish Train--\n",
      "Class0: 0.4180 Class1: 0.4229 Class2: 0.4302 Class3: 0.4239 Class4: 0.4241 Class5: 0.4283 Class6: 0.4224 \n",
      "Class7: 0.4296 Class8: 0.4200 Class9: 0.4176 Class10: 0.4361 Class11: 0.4149 Class12: 0.3967 \n",
      "Epoch14\n",
      "Train Loss: 51.093924296985975\n",
      "Train mIoU: 0.4998587592622116, Fish_Train_mIoU: 0.4218979249557061\n",
      "___________________________________________________________________________________________\n",
      "\n"
     ]
    },
    {
     "name": "stderr",
     "output_type": "stream",
     "text": [
      "59it [00:18,  3.19it/s]\n"
     ]
    },
    {
     "name": "stdout",
     "output_type": "stream",
     "text": [
      "--IoU Scores val--\n",
      "Class0: 0.3013 Class1: 0.3354 Class2: 0.2908 Class3: 0.2838 Class4: 0.3157 Class5: 0.3324 Class6: 0.3120 \n",
      "Class7: 0.2838 Class8: 0.3080 Class9: 0.3109 Class10: 0.2970 Class11: 0.2848 Class12: 0.3170 \n",
      "--IoU Scores Fish val--\n",
      "Class0: 0.2288 Class1: 0.2695 Class2: 0.2303 Class3: 0.2297 Class4: 0.2575 Class5: 0.2367 Class6: 0.2580 \n",
      "Class7: 0.2475 Class8: 0.2462 Class9: 0.2387 Class10: 0.2626 Class11: 0.2367 Class12: 0.2417 \n",
      "Epoch14\n",
      "Train Loss: 53.066932872190314\n",
      "Train mIoU: 0.3055868013887269, Fish_Train_mIoU: 0.2449054756456615\n",
      "___________________________________________________________________________________________\n",
      "\n"
     ]
    },
    {
     "name": "stderr",
     "output_type": "stream",
     "text": [
      "275it [03:02,  1.50it/s]\n"
     ]
    },
    {
     "name": "stdout",
     "output_type": "stream",
     "text": [
      "--IoU Scores Train--\n",
      "Class0: 0.4914 Class1: 0.4963 Class2: 0.5090 Class3: 0.5072 Class4: 0.4967 Class5: 0.4931 Class6: 0.5076 \n",
      "Class7: 0.5197 Class8: 0.5165 Class9: 0.4963 Class10: 0.5189 Class11: 0.4922 Class12: 0.4790 \n",
      "--IoU Scores Fish Train--\n",
      "Class0: 0.4016 Class1: 0.4064 Class2: 0.4319 Class3: 0.4211 Class4: 0.4269 Class5: 0.4267 Class6: 0.4341 \n",
      "Class7: 0.4207 Class8: 0.4175 Class9: 0.4344 Class10: 0.4373 Class11: 0.4234 Class12: 0.4169 \n",
      "Epoch15\n",
      "Train Loss: 51.07989822387695\n",
      "Train mIoU: 0.501844188519365, Fish_Train_mIoU: 0.42298884767441264\n",
      "___________________________________________________________________________________________\n",
      "\n"
     ]
    },
    {
     "name": "stderr",
     "output_type": "stream",
     "text": [
      "59it [00:18,  3.20it/s]\n"
     ]
    },
    {
     "name": "stdout",
     "output_type": "stream",
     "text": [
      "--IoU Scores val--\n",
      "Class0: 0.3060 Class1: 0.3285 Class2: 0.2931 Class3: 0.2947 Class4: 0.3100 Class5: 0.3433 Class6: 0.3104 \n",
      "Class7: 0.3004 Class8: 0.3129 Class9: 0.3142 Class10: 0.3003 Class11: 0.3117 Class12: 0.3271 \n",
      "--IoU Scores Fish val--\n",
      "Class0: 0.3158 Class1: 0.3466 Class2: 0.3014 Class3: 0.3144 Class4: 0.3390 Class5: 0.3331 Class6: 0.3233 \n",
      "Class7: 0.3235 Class8: 0.3143 Class9: 0.3276 Class10: 0.3368 Class11: 0.3262 Class12: 0.3141 \n",
      "Epoch15\n",
      "Train Loss: 52.597362712278205\n",
      "Train mIoU: 0.31173758317361205, Fish_Train_mIoU: 0.3242978202752492\n",
      "___________________________________________________________________________________________\n",
      "\n"
     ]
    },
    {
     "name": "stderr",
     "output_type": "stream",
     "text": [
      "275it [03:09,  1.45it/s]\n"
     ]
    },
    {
     "name": "stdout",
     "output_type": "stream",
     "text": [
      "--IoU Scores Train--\n",
      "Class0: 0.4654 Class1: 0.4995 Class2: 0.4973 Class3: 0.4985 Class4: 0.5085 Class5: 0.5050 Class6: 0.4927 \n",
      "Class7: 0.4985 Class8: 0.5088 Class9: 0.4991 Class10: 0.5041 Class11: 0.5016 Class12: 0.5085 \n",
      "--IoU Scores Fish Train--\n",
      "Class0: 0.4215 Class1: 0.4214 Class2: 0.4244 Class3: 0.4390 Class4: 0.4350 Class5: 0.4350 Class6: 0.4267 \n",
      "Class7: 0.4315 Class8: 0.4157 Class9: 0.4273 Class10: 0.4372 Class11: 0.4269 Class12: 0.4209 \n",
      "Epoch16\n",
      "Train Loss: 51.06957236550071\n",
      "Train mIoU: 0.4990247596212535, Fish_Train_mIoU: 0.42790184067898923\n",
      "___________________________________________________________________________________________\n",
      "\n"
     ]
    },
    {
     "name": "stderr",
     "output_type": "stream",
     "text": [
      "59it [00:22,  2.57it/s]\n"
     ]
    },
    {
     "name": "stdout",
     "output_type": "stream",
     "text": [
      "--IoU Scores val--\n",
      "Class0: 0.3070 Class1: 0.3581 Class2: 0.3040 Class3: 0.3015 Class4: 0.3237 Class5: 0.3523 Class6: 0.3212 \n",
      "Class7: 0.3015 Class8: 0.3175 Class9: 0.3337 Class10: 0.3088 Class11: 0.3100 Class12: 0.3386 \n",
      "--IoU Scores Fish val--\n",
      "Class0: 0.2226 Class1: 0.2602 Class2: 0.2240 Class3: 0.2278 Class4: 0.2477 Class5: 0.2412 Class6: 0.2492 \n",
      "Class7: 0.2436 Class8: 0.2422 Class9: 0.2383 Class10: 0.2586 Class11: 0.2337 Class12: 0.2551 \n",
      "Epoch16\n",
      "Train Loss: 53.02373459379552\n",
      "Train mIoU: 0.32137408229773273, Fish_Train_mIoU: 0.24188120112689246\n",
      "___________________________________________________________________________________________\n",
      "\n"
     ]
    },
    {
     "name": "stderr",
     "output_type": "stream",
     "text": [
      "275it [03:33,  1.29it/s]\n"
     ]
    },
    {
     "name": "stdout",
     "output_type": "stream",
     "text": [
      "--IoU Scores Train--\n",
      "Class0: 0.5097 Class1: 0.5105 Class2: 0.5184 Class3: 0.5226 Class4: 0.5162 Class5: 0.5050 Class6: 0.5310 \n",
      "Class7: 0.5209 Class8: 0.5135 Class9: 0.5140 Class10: 0.5155 Class11: 0.5089 Class12: 0.5127 \n",
      "--IoU Scores Fish Train--\n",
      "Class0: 0.4330 Class1: 0.4273 Class2: 0.4372 Class3: 0.4325 Class4: 0.4266 Class5: 0.4263 Class6: 0.4368 \n",
      "Class7: 0.4343 Class8: 0.4400 Class9: 0.4312 Class10: 0.4440 Class11: 0.4266 Class12: 0.4328 \n",
      "Epoch17\n",
      "Train Loss: 51.00649056174538\n",
      "Train mIoU: 0.5153093614552904, Fish_Train_mIoU: 0.4329447415947855\n",
      "___________________________________________________________________________________________\n",
      "\n"
     ]
    },
    {
     "name": "stderr",
     "output_type": "stream",
     "text": [
      "59it [00:21,  2.72it/s]\n"
     ]
    },
    {
     "name": "stdout",
     "output_type": "stream",
     "text": [
      "--IoU Scores val--\n",
      "Class0: 0.3150 Class1: 0.3627 Class2: 0.3126 Class3: 0.3189 Class4: 0.3379 Class5: 0.3646 Class6: 0.3347 \n",
      "Class7: 0.3102 Class8: 0.3212 Class9: 0.3387 Class10: 0.3214 Class11: 0.3263 Class12: 0.3470 \n",
      "--IoU Scores Fish val--\n",
      "Class0: 0.2129 Class1: 0.2577 Class2: 0.2250 Class3: 0.2171 Class4: 0.2474 Class5: 0.2311 Class6: 0.2510 \n",
      "Class7: 0.2354 Class8: 0.2403 Class9: 0.2356 Class10: 0.2505 Class11: 0.2289 Class12: 0.2427 \n",
      "Epoch17\n",
      "Train Loss: 53.419336545265324\n",
      "Train mIoU: 0.3316241280277106, Fish_Train_mIoU: 0.23658422400897458\n",
      "___________________________________________________________________________________________\n",
      "\n"
     ]
    },
    {
     "name": "stderr",
     "output_type": "stream",
     "text": [
      "275it [04:09,  1.10it/s]\n"
     ]
    },
    {
     "name": "stdout",
     "output_type": "stream",
     "text": [
      "--IoU Scores Train--\n",
      "Class0: 0.5116 Class1: 0.5328 Class2: 0.5212 Class3: 0.5452 Class4: 0.5221 Class5: 0.5137 Class6: 0.5202 \n",
      "Class7: 0.5281 Class8: 0.5310 Class9: 0.5068 Class10: 0.5081 Class11: 0.5049 Class12: 0.5176 \n",
      "--IoU Scores Fish Train--\n",
      "Class0: 0.4297 Class1: 0.4508 Class2: 0.4395 Class3: 0.4374 Class4: 0.4388 Class5: 0.4371 Class6: 0.4484 \n",
      "Class7: 0.4415 Class8: 0.4354 Class9: 0.4274 Class10: 0.4405 Class11: 0.4332 Class12: 0.4373 \n",
      "Epoch18\n",
      "Train Loss: 50.97106947465377\n",
      "Train mIoU: 0.5202598565921611, Fish_Train_mIoU: 0.43822503541548385\n",
      "___________________________________________________________________________________________\n",
      "\n"
     ]
    },
    {
     "name": "stderr",
     "output_type": "stream",
     "text": [
      "59it [00:27,  2.12it/s]\n"
     ]
    },
    {
     "name": "stdout",
     "output_type": "stream",
     "text": [
      "--IoU Scores val--\n",
      "Class0: 0.3236 Class1: 0.3643 Class2: 0.3192 Class3: 0.3276 Class4: 0.3430 Class5: 0.3719 Class6: 0.3493 \n",
      "Class7: 0.3158 Class8: 0.3383 Class9: 0.3509 Class10: 0.3311 Class11: 0.3353 Class12: 0.3429 \n",
      "--IoU Scores Fish val--\n",
      "Class0: 0.2259 Class1: 0.2739 Class2: 0.2400 Class3: 0.2443 Class4: 0.2613 Class5: 0.2510 Class6: 0.2656 \n",
      "Class7: 0.2519 Class8: 0.2597 Class9: 0.2449 Class10: 0.2695 Class11: 0.2447 Class12: 0.2534 \n",
      "Epoch18\n",
      "Train Loss: 53.08125925872285\n",
      "Train mIoU: 0.3394796182269484, Fish_Train_mIoU: 0.2527740081496867\n",
      "___________________________________________________________________________________________\n",
      "\n"
     ]
    },
    {
     "name": "stderr",
     "output_type": "stream",
     "text": [
      "275it [04:31,  1.01it/s]\n"
     ]
    },
    {
     "name": "stdout",
     "output_type": "stream",
     "text": [
      "--IoU Scores Train--\n",
      "Class0: 0.5161 Class1: 0.5242 Class2: 0.5395 Class3: 0.5323 Class4: 0.5015 Class5: 0.5081 Class6: 0.5047 \n",
      "Class7: 0.5176 Class8: 0.5322 Class9: 0.5233 Class10: 0.5133 Class11: 0.5194 Class12: 0.5352 \n",
      "--IoU Scores Fish Train--\n",
      "Class0: 0.4413 Class1: 0.4386 Class2: 0.4369 Class3: 0.4361 Class4: 0.4466 Class5: 0.4353 Class6: 0.4443 \n",
      "Class7: 0.4402 Class8: 0.4391 Class9: 0.4338 Class10: 0.4475 Class11: 0.4327 Class12: 0.4364 \n",
      "Epoch19\n",
      "Train Loss: 50.96164276123047\n",
      "Train mIoU: 0.5205600540290509, Fish_Train_mIoU: 0.439137255523197\n",
      "___________________________________________________________________________________________\n",
      "\n"
     ]
    },
    {
     "name": "stderr",
     "output_type": "stream",
     "text": [
      "59it [00:28,  2.10it/s]\n"
     ]
    },
    {
     "name": "stdout",
     "output_type": "stream",
     "text": [
      "--IoU Scores val--\n",
      "Class0: 0.3192 Class1: 0.3601 Class2: 0.2964 Class3: 0.2965 Class4: 0.3180 Class5: 0.3573 Class6: 0.3231 \n",
      "Class7: 0.2946 Class8: 0.3203 Class9: 0.3435 Class10: 0.3090 Class11: 0.3157 Class12: 0.3338 \n",
      "--IoU Scores Fish val--\n",
      "Class0: 0.2084 Class1: 0.2415 Class2: 0.2169 Class3: 0.2168 Class4: 0.2386 Class5: 0.2284 Class6: 0.2415 \n",
      "Class7: 0.2288 Class8: 0.2291 Class9: 0.2212 Class10: 0.2450 Class11: 0.2233 Class12: 0.2370 \n",
      "Epoch19\n",
      "Train Loss: 53.9324626599328\n",
      "Train mIoU: 0.32212305920335904, Fish_Train_mIoU: 0.22895250693432745\n",
      "___________________________________________________________________________________________\n",
      "\n"
     ]
    },
    {
     "name": "stderr",
     "output_type": "stream",
     "text": [
      "275it [05:33,  1.21s/it]\n"
     ]
    },
    {
     "name": "stdout",
     "output_type": "stream",
     "text": [
      "--IoU Scores Train--\n",
      "Class0: 0.5298 Class1: 0.5140 Class2: 0.5225 Class3: 0.5385 Class4: 0.5118 Class5: 0.5176 Class6: 0.5040 \n",
      "Class7: 0.4979 Class8: 0.4921 Class9: 0.4733 Class10: 0.5120 Class11: 0.5183 Class12: 0.5399 \n",
      "--IoU Scores Fish Train--\n",
      "Class0: 0.4434 Class1: 0.4422 Class2: 0.4411 Class3: 0.4477 Class4: 0.4475 Class5: 0.4357 Class6: 0.4298 \n",
      "Class7: 0.4471 Class8: 0.4219 Class9: 0.4169 Class10: 0.4465 Class11: 0.4275 Class12: 0.4336 \n",
      "Epoch20\n",
      "Train Loss: 50.97485647028143\n",
      "Train mIoU: 0.5132116886276837, Fish_Train_mIoU: 0.43698688975465994\n",
      "___________________________________________________________________________________________\n",
      "\n"
     ]
    },
    {
     "name": "stderr",
     "output_type": "stream",
     "text": [
      "59it [00:41,  1.43it/s]"
     ]
    },
    {
     "name": "stdout",
     "output_type": "stream",
     "text": [
      "--IoU Scores val--\n",
      "Class0: 0.3129 Class1: 0.3516 Class2: 0.3115 Class3: 0.3080 Class4: 0.3391 Class5: 0.3609 Class6: 0.3317 \n",
      "Class7: 0.3065 Class8: 0.3315 Class9: 0.3410 Class10: 0.3183 Class11: 0.3128 Class12: 0.3338 \n",
      "--IoU Scores Fish val--\n",
      "Class0: 0.2331 Class1: 0.2725 Class2: 0.2347 Class3: 0.2425 Class4: 0.2642 Class5: 0.2509 Class6: 0.2690 \n",
      "Class7: 0.2479 Class8: 0.2579 Class9: 0.2447 Class10: 0.2631 Class11: 0.2412 Class12: 0.2627 \n",
      "Epoch20\n",
      "Train Loss: 53.02196955276748\n",
      "Train mIoU: 0.327674893842476, Fish_Train_mIoU: 0.2526441213171044\n",
      "___________________________________________________________________________________________\n",
      "\n"
     ]
    },
    {
     "name": "stderr",
     "output_type": "stream",
     "text": [
      "\n"
     ]
    },
    {
     "data": {
      "text/html": [
       "Waiting for W&B process to finish... <strong style=\"color:green\">(success).</strong>"
      ],
      "text/plain": [
       "<IPython.core.display.HTML object>"
      ]
     },
     "metadata": {},
     "output_type": "display_data"
    },
    {
     "data": {
      "text/html": [
       "<style>\n",
       "    table.wandb td:nth-child(1) { padding: 0 10px; text-align: left ; width: auto;} td:nth-child(2) {text-align: left ; width: 100%}\n",
       "    .wandb-row { display: flex; flex-direction: row; flex-wrap: wrap; justify-content: flex-start; width: 100% }\n",
       "    .wandb-col { display: flex; flex-direction: column; flex-basis: 100%; flex: 1; padding: 10px; }\n",
       "    </style>\n",
       "<div class=\"wandb-row\"><div class=\"wandb-col\"><h3>Run history:</h3><br/><table class=\"wandb\"><tr><td>train score</td><td>▁▃▄▅▅▅▆▆▆▇▇▇▇▇▇▇████</td></tr><tr><td>train score2</td><td>▁▃▄▅▅▆▆▆▆▇▇▇▇▇▇█████</td></tr><tr><td>val score</td><td>▂▁▃▄▃▃▂▅▃▅▇█▇▅▅▆▇▇▆▆</td></tr><tr><td>val score2</td><td>▃▅▁▁▃▁▂▃▄▄▃▂▄▃█▃▃▄▃▄</td></tr></table><br/></div><div class=\"wandb-col\"><h3>Run summary:</h3><br/><table class=\"wandb\"><tr><td>train score</td><td>0.51321</td></tr><tr><td>train score2</td><td>0.43699</td></tr><tr><td>val score</td><td>0.32767</td></tr><tr><td>val score2</td><td>0.25264</td></tr></table><br/></div></div>"
      ],
      "text/plain": [
       "<IPython.core.display.HTML object>"
      ]
     },
     "metadata": {},
     "output_type": "display_data"
    },
    {
     "data": {
      "text/html": [
       " View run <strong style=\"color:#cdcd00\">misty-surf-1</strong> at: <a href='https://wandb.ai/limbw/practice_10_19/runs/n4dv6199' target=\"_blank\">https://wandb.ai/limbw/practice_10_19/runs/n4dv6199</a><br/>Synced 5 W&B file(s), 0 media file(s), 0 artifact file(s) and 0 other file(s)"
      ],
      "text/plain": [
       "<IPython.core.display.HTML object>"
      ]
     },
     "metadata": {},
     "output_type": "display_data"
    },
    {
     "data": {
      "text/html": [
       "Find logs at: <code>.\\wandb\\run-20231019_232140-n4dv6199\\logs</code>"
      ],
      "text/plain": [
       "<IPython.core.display.HTML object>"
      ]
     },
     "metadata": {},
     "output_type": "display_data"
    }
   ],
   "source": [
    "import random\n",
    "#torch.cuda.empty_cache()\n",
    "import wandb\n",
    "\n",
    "\n",
    "wandb.init(\n",
    "    # set the wandb project where this run will be logged\n",
    "    project=\"practice_10_19\",\n",
    "    \n",
    "    # track hyperparameters and run metadata\n",
    "    config={\n",
    "    \"learning_rate\": LR,\n",
    "    \"architecture\": \"CNN\",\n",
    "    \"dataset\": \"Samsung\",\n",
    "    \"epochs\": EP,\n",
    "    }\n",
    ")\n",
    "\n",
    "for epoch in range(EP):\n",
    "    # 클래스별 IoU를 누적할 리스트 초기화\n",
    "    train_class_ious = []\n",
    "    fish_train_class_ious = []\n",
    "    # 학습\n",
    "    model.train()\n",
    "    epoch_loss = 0\n",
    "\n",
    "    for source_data, target_data in tqdm(zip(source_dataloader, target_dataloader)):\n",
    "\n",
    "        source_images = source_data[0].float().to(device)\n",
    "        source_masks = source_data[1].long().to(device)\n",
    "        target_images = target_data[0].float().to(device)\n",
    "        target_masks = target_data[1].long().to(device)\n",
    "\n",
    "        optimizer.zero_grad()\n",
    "        source_outputs = model(source_images)\n",
    "        target_outputs = model(target_images)\n",
    "\n",
    "        source_loss = loss_fn(source_outputs, source_masks, 0, alpha = ALPHA)\n",
    "        target_loss = loss_fn(target_outputs, target_masks, 1, alpha = ALPHA)\n",
    "\n",
    "        loss = source_loss + target_loss\n",
    "\n",
    "        epoch_loss += loss.item()\n",
    "\n",
    "        optimizer.zero_grad()\n",
    "        loss.backward()\n",
    "        optimizer.step()\n",
    "        #scheduler.step()\n",
    "                # train 클래스별 IoU 계산\n",
    "        source_outputs = torch.softmax(source_outputs[0], dim=1).cpu()\n",
    "        source_outputs = torch.argmax(source_outputs, dim=1).numpy()\n",
    "\n",
    "        for class_id in range(N_CLASSES):\n",
    "            iou = calculate_iou_per_class(np.array(source_masks.cpu()), np.array(source_outputs), class_id)\n",
    "            train_class_ious.append(iou)\n",
    "\n",
    "        target_outputs = torch.softmax(target_outputs[0], dim=1).cpu()\n",
    "        target_outputs = torch.argmax(target_outputs, dim=1).numpy()\n",
    "\n",
    "        for class_id in range(N_CLASSES):\n",
    "            iou = calculate_iou_per_class(np.array(target_masks.cpu()), np.array(target_outputs), class_id)\n",
    "            fish_train_class_ious.append(iou)\n",
    "\n",
    "    train_class_ious = np.array(train_class_ious).reshape(N_CLASSES, -1)\n",
    "    train_class_ious = np.mean(train_class_ious, axis=1)\n",
    "    print(\"--IoU Scores Train--\")\n",
    "    for class_id, iou in enumerate(train_class_ious):\n",
    "        print(f'Class{class_id}: {iou:.4f}', end=\" \")\n",
    "        if (class_id+1) % 7 == 0:\n",
    "            print()\n",
    "\n",
    "    fish_train_class_ious = np.array(fish_train_class_ious).reshape(N_CLASSES, -1)\n",
    "    fish_train_class_ious = np.mean(fish_train_class_ious, axis=1)\n",
    "    print()\n",
    "    print(\"--IoU Scores Fish Train--\")\n",
    "    for class_id, iou in enumerate(fish_train_class_ious):\n",
    "        print(f'Class{class_id}: {iou:.4f}', end=\" \")\n",
    "        if (class_id+1) % 7 == 0:\n",
    "            print()\n",
    "\n",
    "    # mIoU 계산\n",
    "    train_mIoU = np.mean(train_class_ious)\n",
    "    fish_train_mIoU = np.mean(fish_train_class_ious)\n",
    "\n",
    "    # 에폭마다 결과 출력 \n",
    "    print(f\"\\nEpoch{epoch+1}\")\n",
    "    print(f\"Train Loss: {(epoch_loss/len(source_dataloader))}\")\n",
    "    print(f\"Train mIoU: {train_mIoU}, Fish_Train_mIoU: {fish_train_mIoU}\" )\n",
    "    print(\"___________________________________________________________________________________________\\n\")\n",
    "\n",
    "\n",
    "    ################################################################\n",
    "    # 클래스별 IoU를 누적할 리스트 초기화\n",
    "    val_class_ious = []\n",
    "    fish_val_class_ious = []\n",
    "    epoch_loss = 0\n",
    "    # 학습\n",
    "    with torch.no_grad():\n",
    "        model.eval()\n",
    "\n",
    "        for source_data, target_data in tqdm(zip(val_source_dataloader, val_target_dataloader)):\n",
    "\n",
    "            source_images = source_data[0].float().to(device)\n",
    "            source_masks = source_data[1].long().to(device)\n",
    "            target_images = target_data[0].float().to(device)\n",
    "            target_masks = target_data[1].long().to(device)\n",
    "\n",
    "            source_outputs = model(source_images)\n",
    "            target_outputs = model(target_images)\n",
    "\n",
    "            source_loss = loss_fn(source_outputs, source_masks, 0, alpha = ALPHA)\n",
    "            target_loss = loss_fn(target_outputs, target_masks, 1, alpha = ALPHA)\n",
    "\n",
    "            loss = source_loss + target_loss\n",
    "\n",
    "            epoch_loss += loss.item()\n",
    "\n",
    "            # train 클래스별 IoU 계산\n",
    "            source_outputs = torch.softmax(source_outputs[0], dim=1).cpu()\n",
    "            source_outputs = torch.argmax(source_outputs, dim=1).numpy()\n",
    "\n",
    "            for class_id in range(N_CLASSES):\n",
    "                iou = calculate_iou_per_class(np.array(source_masks.cpu()), np.array(source_outputs), class_id)\n",
    "                val_class_ious.append(iou)\n",
    "\n",
    "            target_outputs = torch.softmax(target_outputs[0], dim=1).cpu()\n",
    "            target_outputs = torch.argmax(target_outputs, dim=1).numpy()\n",
    "\n",
    "            for class_id in range(N_CLASSES):\n",
    "                iou = calculate_iou_per_class(np.array(target_masks.cpu()), np.array(target_outputs), class_id)\n",
    "                fish_val_class_ious.append(iou)\n",
    "\n",
    "    val_class_ious = np.array(val_class_ious).reshape(N_CLASSES, -1)\n",
    "    val_class_ious = np.mean(val_class_ious, axis=1)\n",
    "    print(\"--IoU Scores val--\")\n",
    "    for class_id, iou in enumerate(val_class_ious):\n",
    "        print(f'Class{class_id}: {iou:.4f}', end=\" \")\n",
    "        if (class_id+1) % 7 == 0:\n",
    "            print()\n",
    "\n",
    "    fish_val_class_ious = np.array(fish_val_class_ious).reshape(N_CLASSES, -1)\n",
    "    fish_val_class_ious = np.mean(fish_val_class_ious, axis=1)\n",
    "    print()\n",
    "    print(\"--IoU Scores Fish val--\")\n",
    "    for class_id, iou in enumerate(fish_val_class_ious):\n",
    "        print(f'Class{class_id}: {iou:.4f}', end=\" \")\n",
    "        if (class_id+1) % 7 == 0:\n",
    "            print()\n",
    "\n",
    "    # mIoU 계산\n",
    "    val_mIoU = np.mean(val_class_ious)\n",
    "    fish_val_mIoU = np.mean(fish_val_class_ious)\n",
    "\n",
    "    # 에폭마다 결과 출력 \n",
    "    print(f\"\\nEpoch{epoch+1}\")\n",
    "    print(f\"Train Loss: {(epoch_loss/len(val_source_dataloader))}\")\n",
    "    print(f\"Train mIoU: {val_mIoU}, Fish_Train_mIoU: {fish_val_mIoU}\" )\n",
    "    print(\"___________________________________________________________________________________________\\n\")\n",
    "\n",
    "    # log metrics to wandb\n",
    "    wandb.log({\"train score\": train_mIoU, \"train score2\": fish_train_mIoU})\n",
    "    wandb.log({\"val score\": val_mIoU, \"val score2\": fish_val_mIoU})\n",
    "    \n",
    "    \n",
    "# [optional] finish the wandb run, necessary in notebooks\n",
    "wandb.finish()\n"
   ]
  },
  {
   "cell_type": "code",
   "execution_count": 11,
   "metadata": {},
   "outputs": [],
   "source": [
    "import os\n",
    "os.environ['CUDA_LAUNCH_BLOCKING'] = '1'"
   ]
  }
 ],
 "metadata": {
  "kernelspec": {
   "display_name": "byungwan_resn",
   "language": "python",
   "name": "python3"
  },
  "language_info": {
   "codemirror_mode": {
    "name": "ipython",
    "version": 3
   },
   "file_extension": ".py",
   "mimetype": "text/x-python",
   "name": "python",
   "nbconvert_exporter": "python",
   "pygments_lexer": "ipython3",
   "version": "3.11.4"
  }
 },
 "nbformat": 4,
 "nbformat_minor": 2
}
