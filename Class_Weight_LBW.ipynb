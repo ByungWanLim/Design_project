{
 "cells": [
  {
   "cell_type": "code",
   "execution_count": 1,
   "metadata": {},
   "outputs": [
    {
     "name": "stdout",
     "output_type": "stream",
     "text": [
      "cuda\n",
      "2\n"
     ]
    },
    {
     "name": "stderr",
     "output_type": "stream",
     "text": [
      "/home/MMI24limbyungwan/.conda/envs/byungwan_resn/lib/python3.8/site-packages/tqdm/auto.py:21: TqdmWarning: IProgress not found. Please update jupyter and ipywidgets. See https://ipywidgets.readthedocs.io/en/stable/user_install.html\n",
      "  from .autonotebook import tqdm as notebook_tqdm\n"
     ]
    }
   ],
   "source": [
    "import pickle\n",
    "import pandas as pd\n",
    "import os\n",
    "import cv2\n",
    "import torch\n",
    "\n",
    "# GPU 사용이 가능할 경우, GPU를 사용할 수 있게 함.'\n",
    "os.environ['CUDA_VISIBLE_DEVICES'] = '2'\n",
    "device = \"cuda\" if torch.cuda.is_available() else \"cpu\"\n",
    "device = torch.device(device)\n",
    "print(device)\n",
    "\n",
    "print(os.environ.get('CUDA_VISIBLE_DEVICES'))\n"
   ]
  },
  {
   "cell_type": "code",
   "execution_count": 2,
   "metadata": {},
   "outputs": [],
   "source": [
    "\n",
    "N_CLASSES = 13\n",
    "# 데이터셋을 불러옵니다.\n",
    "csv_file = os.path.join(\"/mnt/nas27/Dataset/Samsung_DM\", './train_source.csv')\n",
    "data = pd.read_csv(csv_file)\n",
    "\n",
    "# 클래스별 샘플 수를 저장할 리스트를 초기화합니다.\n",
    "class_sample_counts = [0] * N_CLASSES  # num_classes는 클래스의 총 개수입니다.\n",
    "\n",
    "# 데이터셋을 순회하면서 클래스별 샘플 수를 세고 저장합니다.\n",
    "for idx in range(len(data)):\n",
    "    mask_path = os.path.join(\"/mnt/nas27/Dataset/Samsung_DM\", data.iloc[idx, 2][2:])  # 마스크 이미지 경로\n",
    "    mask = cv2.imread(mask_path, cv2.IMREAD_GRAYSCALE)\n",
    "    mask[mask == 255] = 12  # 배경 클래스로 처리\n",
    "\n",
    "    # 각 클래스의 샘플 수를 카운트합니다.\n",
    "    for class_id in range(N_CLASSES):\n",
    "        class_sample_counts[class_id] += (mask == class_id).sum()\n",
    "\n",
    "# 클래스별 가중치를 계산합니다.\n",
    "total_samples = sum(class_sample_counts)\n",
    "class_weights = [total_samples / count for count in class_sample_counts]\n",
    "\n",
    "# 클래스별 가중치를 텐서로 변환합니다.\n",
    "class_weights = torch.tensor(class_weights).to(device)\n",
    "class_weights = class_weights.float()\n",
    "\n",
    "\n",
    "# class_weights를 저장할 파일 경로\n",
    "class_weights_path = 'class_weights.pkl'\n",
    "\n",
    "# class_weights를 파일로 저장\n",
    "with open(class_weights_path, 'wb') as file:\n",
    "    pickle.dump(class_weights, file)\n"
   ]
  },
  {
   "cell_type": "code",
   "execution_count": 3,
   "metadata": {},
   "outputs": [
    {
     "name": "stdout",
     "output_type": "stream",
     "text": [
      "tensor([   6.2232,   81.0473,    5.1017,   66.2180,  170.2419,  506.2671,\n",
      "         159.9452,    6.9654,    4.3830,  907.1918, 2223.4863,   10.2576,\n",
      "           7.6339], device='cuda:0')\n"
     ]
    }
   ],
   "source": [
    "print(class_weights)"
   ]
  }
 ],
 "metadata": {
  "kernelspec": {
   "display_name": "byungwan_resn",
   "language": "python",
   "name": "python3"
  },
  "language_info": {
   "codemirror_mode": {
    "name": "ipython",
    "version": 3
   },
   "file_extension": ".py",
   "mimetype": "text/x-python",
   "name": "python",
   "nbconvert_exporter": "python",
   "pygments_lexer": "ipython3",
   "version": "3.8.17"
  }
 },
 "nbformat": 4,
 "nbformat_minor": 2
}
