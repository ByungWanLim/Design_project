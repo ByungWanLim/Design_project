{
 "cells": [
  {
   "cell_type": "code",
   "execution_count": 2,
   "metadata": {},
   "outputs": [],
   "source": [
    "import os\n",
    "import cv2\n",
    "import pandas as pd\n"
   ]
  },
  {
   "cell_type": "code",
   "execution_count": 3,
   "metadata": {},
   "outputs": [
    {
     "ename": "IndexError",
     "evalue": "list index out of range",
     "output_type": "error",
     "traceback": [
      "\u001b[1;31m---------------------------------------------------------------------------\u001b[0m",
      "\u001b[1;31mIndexError\u001b[0m                                Traceback (most recent call last)",
      "\u001b[1;32mc:\\Workspace\\Design_project\\Image_Resize_LBW.ipynb 셀 2\u001b[0m line \u001b[0;36m2\n\u001b[0;32m     <a href='vscode-notebook-cell:/c%3A/Workspace/Design_project/Image_Resize_LBW.ipynb#W1sZmlsZQ%3D%3D?line=17'>18</a>\u001b[0m \u001b[39m# # 만약 출력 폴더가 없으면 생성\u001b[39;00m\n\u001b[0;32m     <a href='vscode-notebook-cell:/c%3A/Workspace/Design_project/Image_Resize_LBW.ipynb#W1sZmlsZQ%3D%3D?line=18'>19</a>\u001b[0m \u001b[39m# os.makedirs(output_folder, exist_ok=True)\u001b[39;00m\n\u001b[0;32m     <a href='vscode-notebook-cell:/c%3A/Workspace/Design_project/Image_Resize_LBW.ipynb#W1sZmlsZQ%3D%3D?line=20'>21</a>\u001b[0m \u001b[39mfor\u001b[39;00m i \u001b[39min\u001b[39;00m \u001b[39mrange\u001b[39m(\u001b[39m0\u001b[39m,\u001b[39m4\u001b[39m):\n\u001b[0;32m     <a href='vscode-notebook-cell:/c%3A/Workspace/Design_project/Image_Resize_LBW.ipynb#W1sZmlsZQ%3D%3D?line=21'>22</a>\u001b[0m     \u001b[39m# 입력 폴더의 모든 이미지 파일 목록을 가져오기\u001b[39;00m\n\u001b[1;32m---> <a href='vscode-notebook-cell:/c%3A/Workspace/Design_project/Image_Resize_LBW.ipynb#W1sZmlsZQ%3D%3D?line=22'>23</a>\u001b[0m     image_files \u001b[39m=\u001b[39m [f \u001b[39mfor\u001b[39;00m f \u001b[39min\u001b[39;00m os\u001b[39m.\u001b[39mlistdir(input_folder[i]) \u001b[39mif\u001b[39;00m f\u001b[39m.\u001b[39mendswith((\u001b[39m\"\u001b[39m\u001b[39m.jpg\u001b[39m\u001b[39m\"\u001b[39m, \u001b[39m\"\u001b[39m\u001b[39m.jpeg\u001b[39m\u001b[39m\"\u001b[39m, \u001b[39m\"\u001b[39m\u001b[39m.png\u001b[39m\u001b[39m\"\u001b[39m))]\n\u001b[0;32m     <a href='vscode-notebook-cell:/c%3A/Workspace/Design_project/Image_Resize_LBW.ipynb#W1sZmlsZQ%3D%3D?line=24'>25</a>\u001b[0m     \u001b[39mfor\u001b[39;00m image_file \u001b[39min\u001b[39;00m image_files:\n\u001b[0;32m     <a href='vscode-notebook-cell:/c%3A/Workspace/Design_project/Image_Resize_LBW.ipynb#W1sZmlsZQ%3D%3D?line=25'>26</a>\u001b[0m         \u001b[39m# 이미지 파일 불러오기\u001b[39;00m\n\u001b[0;32m     <a href='vscode-notebook-cell:/c%3A/Workspace/Design_project/Image_Resize_LBW.ipynb#W1sZmlsZQ%3D%3D?line=26'>27</a>\u001b[0m         image_path \u001b[39m=\u001b[39m os\u001b[39m.\u001b[39mpath\u001b[39m.\u001b[39mjoin(input_folder[i], image_file)\n",
      "\u001b[1;31mIndexError\u001b[0m: list index out of range"
     ]
    }
   ],
   "source": [
    "\n",
    "# 원본 이미지가 있는 폴더 경로\n",
    "ts_image = \"./data/val_source_image\"\n",
    "ts_gt = \"./data/val_source_gt\"\n",
    "# fs_image = \"./data/fish_source_image\"\n",
    "# fs_gt = \"./data/fish_source_gt\"\n",
    "input_folder = [ts_image, ts_gt]\n",
    "\n",
    "# 리사이즈된 이미지를 저장할 폴더 경로\n",
    "ts_image224 = \"./data//224/val_source_image\"\n",
    "ts_gt224 = \"./data/224/val_source_gt\"\n",
    "# fs_image224 = \"./data/224/fish_source_image\"\n",
    "# fs_gt224 = \"./data/224/fish_source_gt\"\n",
    "output_folder = [ts_image224, ts_gt224]\n",
    "\n",
    "# 리사이즈할 크기 (가로, 세로)\n",
    "new_size = (224, 224)\n",
    "\n",
    "# # 만약 출력 폴더가 없으면 생성\n",
    "# os.makedirs(output_folder, exist_ok=True)\n",
    "\n",
    "for i in range(0,1):\n",
    "    # 입력 폴더의 모든 이미지 파일 목록을 가져오기\n",
    "    image_files = [f for f in os.listdir(input_folder[i]) if f.endswith((\".jpg\", \".jpeg\", \".png\"))]\n",
    "\n",
    "    for image_file in image_files:\n",
    "        # 이미지 파일 불러오기\n",
    "        image_path = os.path.join(input_folder[i], image_file)\n",
    "        image = cv2.imread(image_path)\n",
    "\n",
    "        # 이미지 리사이즈\n",
    "        resized_image = cv2.resize(image, new_size)\n",
    "\n",
    "        # 리사이즈된 이미지를 저장할 경로 생성\n",
    "        output_path = os.path.join(output_folder[i], image_file)\n",
    "\n",
    "        # 리사이즈된 이미지 저장\n",
    "        cv2.imwrite(output_path, resized_image)\n",
    "\n",
    "\n",
    "\n"
   ]
  }
 ],
 "metadata": {
  "kernelspec": {
   "display_name": "UM",
   "language": "python",
   "name": "python3"
  },
  "language_info": {
   "codemirror_mode": {
    "name": "ipython",
    "version": 3
   },
   "file_extension": ".py",
   "mimetype": "text/x-python",
   "name": "python",
   "nbconvert_exporter": "python",
   "pygments_lexer": "ipython3",
   "version": "3.11.4"
  }
 },
 "nbformat": 4,
 "nbformat_minor": 2
}
