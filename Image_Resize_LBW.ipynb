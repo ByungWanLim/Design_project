{
 "cells": [
  {
   "cell_type": "code",
   "execution_count": 3,
   "metadata": {},
   "outputs": [],
   "source": [
    "import os\n",
    "import cv2\n",
    "import pandas as pd\n"
   ]
  },
  {
   "cell_type": "code",
   "execution_count": 4,
   "metadata": {},
   "outputs": [],
   "source": [
    "\n",
    "# 원본 이미지가 있는 폴더 경로\n",
    "# ts_image = \"/mnt/nas27/Dataset/Samsung_DM//val_source_image\"\n",
    "# ts_gt = \"/mnt/nas27/Dataset/Samsung_DM//val_source_gt\"\n",
    "# fs_image = \"/mnt/nas27/Dataset/Samsung_DM//train_source_image\"\n",
    "# fs_gt = \"/mnt/nas27/Dataset/Samsung_DM//train_source_gt\"\n",
    "# input_folder = [ts_image, ts_gt, fs_image, fs_gt]\n",
    "target_samsung = \"/mnt/nas27/Dataset/Samsung_DM/train_target_image\"\n",
    "input_folder = [target_samsung]\n",
    "\n",
    "# 리사이즈된 이미지를 저장할 폴더 경로\n",
    "# ts_image224 = \"./data//448/val_source_image\"\n",
    "# ts_gt224 = \"./data/448/val_source_gt\"\n",
    "# fs_image224 = \"./data/448/train_source_image\"\n",
    "# fs_gt224 = \"./data/448/train_source_gt\"\n",
    "# output_folder = [ts_image224, ts_gt224, fs_image224, fs_gt224]\n",
    "target_samsung224 = \"./data/224/train_target_image\"\n",
    "output_folder = [target_samsung224]\n",
    "\n",
    "# 리사이즈할 크기 (가로, 세로)\n",
    "size = 224\n",
    "new_size = (size, size)\n",
    "\n",
    "# # 만약 출력 폴더가 없으면 생성\n",
    "# os.makedirs(output_folder, exist_ok=True)\n",
    "\n",
    "for i in range(len(input_folder)):\n",
    "    # 입력 폴더의 모든 이미지 파일 목록을 가져오기\n",
    "    image_files = [f for f in os.listdir(input_folder[i]) if f.endswith((\".jpg\", \".jpeg\", \".png\"))]\n",
    "\n",
    "    for image_file in image_files:\n",
    "        # 이미지 파일 불러오기\n",
    "        image_path = os.path.join(input_folder[i], image_file)\n",
    "        image = cv2.imread(image_path)\n",
    "\n",
    "        # 이미지 리사이즈\n",
    "        resized_image = cv2.resize(image, new_size)\n",
    "\n",
    "        # 리사이즈된 이미지를 저장할 경로 생성\n",
    "        output_path = os.path.join(output_folder[i], image_file)\n",
    "\n",
    "        # 리사이즈된 이미지 저장\n",
    "        cv2.imwrite(output_path, resized_image)\n",
    "\n",
    "\n",
    "\n"
   ]
  }
 ],
 "metadata": {
  "kernelspec": {
   "display_name": "UM",
   "language": "python",
   "name": "python3"
  },
  "language_info": {
   "codemirror_mode": {
    "name": "ipython",
    "version": 3
   },
   "file_extension": ".py",
   "mimetype": "text/x-python",
   "name": "python",
   "nbconvert_exporter": "python",
   "pygments_lexer": "ipython3",
   "version": "3.8.17"
  }
 },
 "nbformat": 4,
 "nbformat_minor": 2
}
