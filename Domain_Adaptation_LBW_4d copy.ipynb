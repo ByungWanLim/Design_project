{
 "cells": [
  {
   "cell_type": "code",
   "execution_count": 1,
   "metadata": {},
   "outputs": [
    {
     "name": "stderr",
     "output_type": "stream",
     "text": [
      "/home/MMI24limbyungwan/.conda/envs/byungwan_resn/lib/python3.8/site-packages/tqdm/auto.py:21: TqdmWarning: IProgress not found. Please update jupyter and ipywidgets. See https://ipywidgets.readthedocs.io/en/stable/user_install.html\n",
      "  from .autonotebook import tqdm as notebook_tqdm\n"
     ]
    }
   ],
   "source": [
    "import os\n",
    "import cv2\n",
    "from PIL import Image\n",
    "import pandas as pd\n",
    "import numpy as np\n",
    "\n",
    "import torch\n",
    "import torch.nn as nn\n",
    "import torch.nn.functional as F\n",
    "from torch.utils.data import Dataset, DataLoader\n",
    "from torchvision import transforms\n",
    "#from torch.optim.lr_scheduler import _LRScheduler\n",
    "\n",
    "from tqdm import tqdm\n",
    "import albumentations as A\n",
    "from albumentations.pytorch import ToTensorV2\n",
    "\n",
    "from torchvision import models\n",
    "from torchsummary import summary\n",
    "import torch.nn.functional as F\n"
   ]
  },
  {
   "cell_type": "code",
   "execution_count": 2,
   "metadata": {},
   "outputs": [
    {
     "name": "stdout",
     "output_type": "stream",
     "text": [
      "cuda\n",
      "3\n"
     ]
    }
   ],
   "source": [
    "\n",
    "# GPU 사용이 가능할 경우, GPU를 사용할 수 있게 함.'\n",
    "os.environ['CUDA_VISIBLE_DEVICES'] = '3'\n",
    "device = \"cuda\" if torch.cuda.is_available() else \"cpu\"\n",
    "device = torch.device(device)\n",
    "print(device)\n",
    "\n",
    "print(os.environ.get('CUDA_VISIBLE_DEVICES'))"
   ]
  },
  {
   "cell_type": "code",
   "execution_count": 3,
   "metadata": {},
   "outputs": [],
   "source": [
    "# RLE 인코딩 함수\n",
    "def rle_encode(mask):\n",
    "    pixels = mask.flatten()\n",
    "    pixels = np.concatenate([[0], pixels, [0]])\n",
    "    runs = np.where(pixels[1:] != pixels[:-1])[0] + 1\n",
    "    runs[1::2] -= runs[::2]\n",
    "    return ' '.join(str(x) for x in runs)\n",
    "\n",
    "# 클래스별 IoU를 계산하기 위한 함수\n",
    "def calculate_iou_per_class(y_true, y_pred, class_id):\n",
    "    intersection = np.sum((y_true == class_id) & (y_pred == class_id))\n",
    "    union = np.sum((y_true == class_id) | (y_pred == class_id))\n",
    "    iou = intersection / union if union > 0 else 0\n",
    "    return iou\n",
    "\n",
    "\n",
    "def apply_fisheye_distortion(images, masks, label):\n",
    "    # 이미지 크기 가져오기\n",
    "    batch, channel, height, width = images.shape\n",
    "\n",
    "    # 카메라 매트릭스 생성\n",
    "    focal_length = width / 4\n",
    "    center_x = width / 2\n",
    "    center_y = height / 2\n",
    "    camera_matrix = np.array([[focal_length, 0, center_x],\n",
    "                              [0, focal_length, center_y],\n",
    "                              [0, 0, 1]], dtype=np.float32)\n",
    "\n",
    "    # 왜곡 계수 생성\n",
    "    dist_coeffs = np.array([0, 0.2 * label, 0, 0], dtype=np.float32)\n",
    "\n",
    "    # 왜곡 보정\n",
    "    undistorted_images = []\n",
    "    undistorted_masks = []\n",
    "\n",
    "    for i in range(batch):\n",
    "        image = images[i].permute(1, 2, 0).cpu().numpy()  # 텐서를 NumPy 배열로 변환\n",
    "        mask = masks[i].cpu().numpy()\n",
    "        undistorted_image = cv2.undistort(image, camera_matrix, dist_coeffs)\n",
    "        undistorted_mask = cv2.undistort(mask, camera_matrix, dist_coeffs)\n",
    "        undistorted_mask = np.round(undistorted_mask).astype(np.uint8)\n",
    "        undistorted_mask[undistorted_mask > 12] = 12\n",
    "\n",
    "        # 다시 텐서로 변환\n",
    "        undistorted_image = torch.from_numpy(undistorted_image).permute(2, 0, 1).float().to(device)\n",
    "        undistorted_mask = torch.from_numpy(undistorted_mask).long().to(device)\n",
    "\n",
    "        undistorted_images.append(undistorted_image)\n",
    "        undistorted_masks.append(undistorted_mask)\n",
    "\n",
    "    undistorted_images = torch.stack(undistorted_images, dim=0)\n",
    "    undistorted_masks = torch.stack(undistorted_masks, dim=0)\n",
    "\n",
    "    return undistorted_images, undistorted_masks"
   ]
  },
  {
   "cell_type": "code",
   "execution_count": 4,
   "metadata": {},
   "outputs": [],
   "source": [
    "import numpy as np\n",
    "import cv2\n",
    "import torch\n",
    "\n"
   ]
  },
  {
   "cell_type": "markdown",
   "metadata": {},
   "source": [
    "## 데이터셋"
   ]
  },
  {
   "cell_type": "code",
   "execution_count": 5,
   "metadata": {},
   "outputs": [],
   "source": [
    "class CustomDataset(Dataset):\n",
    "    def __init__(self, csv_file, transform=None, infer=False):\n",
    "        self.data = pd.read_csv(csv_file)\n",
    "        self.transform = transform\n",
    "        self.infer = infer\n",
    "\n",
    "    def __len__(self):\n",
    "        return len(self.data)\n",
    "\n",
    "    def __getitem__(self, idx):\n",
    "        #directory_path = \"/mnt/nas27/Dataset/Samsung_DM\"\n",
    "        directory_path = './data/224'\n",
    "        img_path = self.data.iloc[idx, 1]\n",
    "        img_path = os.path.join(directory_path, img_path)\n",
    "        image = cv2.imread(img_path)\n",
    "        image = cv2.cvtColor(image, cv2.COLOR_BGR2RGB)\n",
    "        #image = cv2.cvtColor(image, cv2.COLOR_BGR2GRAY)\n",
    "        \n",
    "        if self.infer:\n",
    "            if self.transform:\n",
    "                image = self.transform(image=image)['image']\n",
    "            return image\n",
    "        \n",
    "        mask_path = self.data.iloc[idx, 2]\n",
    "        mask_path = os.path.join(directory_path, mask_path)\n",
    "        mask = cv2.imread(mask_path)\n",
    "        #mask = cv2.cvtColor(mask, cv2.COLOR_BGR2RGB)\n",
    "        mask = cv2.cvtColor(mask, cv2.COLOR_BGR2GRAY)\n",
    "        mask = np.round(mask).astype(np.uint8)\n",
    "        mask[mask > 12] = 12 #배경을 픽셀값 12로 간주\n",
    "        mask += 1\n",
    "        mask[mask == 13] = 0\n",
    "\n",
    "        if self.transform:\n",
    "            augmented = self.transform(image=image, mask=mask)\n",
    "            image = augmented['image']\n",
    "            mask = augmented['mask']\n",
    "\n",
    "        return image, mask\n",
    "\n",
    "transform = A.Compose(\n",
    "    [   \n",
    "        A.Normalize(),\n",
    "        \n",
    "        # 변형\n",
    "        # A.VerticalFlip(p=0.5),\n",
    "        # A.RandomRotate90(p=0.5),\n",
    "        # A.HueSaturationValue(p=0.2),\n",
    "        \n",
    "        ToTensorV2()\n",
    "    ]\n",
    ")"
   ]
  },
  {
   "cell_type": "markdown",
   "metadata": {},
   "source": [
    "## 모델 선언"
   ]
  },
  {
   "cell_type": "code",
   "execution_count": 6,
   "metadata": {},
   "outputs": [],
   "source": [
    "class GradReverse(torch.autograd.Function):\n",
    "    @staticmethod\n",
    "    def forward(self, x):\n",
    "        return x.view_as(x)\n",
    "    @staticmethod\n",
    "    def backward(self, grad_output): # 역전파 시에 gradient에 음수를 취함\n",
    "        return grad_output * (-1)\n",
    "\n",
    "class domain_classifier(nn.Module):\n",
    "    def __init__(self):\n",
    "        super(domain_classifier, self).__init__()\n",
    "        self.fc1 = nn.Linear(224*224*64, 10)\n",
    "        self.fc2 = nn.Linear(10, 4) # source = 0, target = 1 회귀 가정\n",
    "\n",
    "    def forward(self, x):\n",
    "        x = x.view(-1, 224*224*64)\n",
    "        x = GradReverse.apply(x) # gradient reverse\n",
    "        x = F.leaky_relu(self.fc1(x))\n",
    "        x = self.fc2(x)\n",
    "        \n",
    "        #return torch.sigmoid(x)\n",
    "        return x\n",
    "\n",
    "class domain_linear(nn.Module):\n",
    "    def __init__(self):\n",
    "        super(domain_linear, self).__init__()\n",
    "        self.fc1 = nn.Linear(224*224*64, 10)\n",
    "        self.fc2 = nn.Linear(10, 1) # source = 0, target = 1 회귀 가정\n",
    "\n",
    "    def forward(self, x):\n",
    "        x = x.view(-1, 224*224*64)\n",
    "        x = GradReverse.apply(x) # gradient reverse\n",
    "        x = F.leaky_relu(self.fc1(x))\n",
    "        x = self.fc2(x)\n",
    "        \n",
    "        #return torch.sigmoid(x)\n",
    "        return x\n",
    "class IdentityBlock(nn.Module):\n",
    "    def __init__(self, in_channels, out_channels, stride=1):\n",
    "        super(IdentityBlock, self).__init__()\n",
    "        \n",
    "        # 3x3 convolution\n",
    "        self.conv1 = nn.Conv2d(in_channels, in_channels, kernel_size=3, padding=1, stride=stride, bias=False)\n",
    "        self.bn1 = nn.BatchNorm2d(in_channels)\n",
    "        self.relu1 = nn.ReLU()\n",
    "        \n",
    "        # 3x3 convolution\n",
    "        self.conv2 = nn.Conv2d(in_channels, out_channels, kernel_size=3, padding=1, bias=False)\n",
    "        self.bn2 = nn.BatchNorm2d(out_channels)\n",
    "        self.relu2 = nn.ReLU()\n",
    "        \n",
    "        # Skip connection\n",
    "        self.skip = nn.Sequential()\n",
    "        if stride != 1 or in_channels != out_channels:\n",
    "            self.skip = nn.Sequential(\n",
    "                nn.Conv2d(in_channels, out_channels, kernel_size=1, stride=stride, bias=False),\n",
    "                nn.BatchNorm2d(out_channels)\n",
    "            )\n",
    "        \n",
    "    def forward(self, x):\n",
    "        identity = x\n",
    "        \n",
    "        out = self.conv1(x)\n",
    "        out = self.bn1(out)\n",
    "        out = self.relu1(out)\n",
    "        \n",
    "        out = self.conv2(out)\n",
    "        out = self.bn2(out)\n",
    "        \n",
    "        # Adding the skip connection\n",
    "        out += self.skip(identity)\n",
    "        out = self.relu2(out)\n",
    "        \n",
    "        return out\n",
    "#인코더 블럭\n",
    "class Conv2(nn.Module):\n",
    "    def __init__(self,in_channels, out_channels):\n",
    "        super(Conv2,self).__init__() \n",
    "        self.identityblock1 = IdentityBlock(in_channels,in_channels)\n",
    "        self.identityblock2 = IdentityBlock(in_channels,in_channels)\n",
    "        self.identityblock3 = IdentityBlock(in_channels,out_channels)\n",
    "        self.maxpool = nn.MaxPool2d(kernel_size=3, stride=2,padding=1)\n",
    "    def forward(self,x):\n",
    "        x = self.identityblock1(x)\n",
    "        x = self.identityblock2(x)\n",
    "        x = self.identityblock3(x)\n",
    "        p = self.maxpool(x)\n",
    "        \n",
    "        return x , p\n",
    "class Conv3(nn.Module):\n",
    "    def __init__(self,in_channels, out_channels):\n",
    "        super(Conv3,self).__init__()         \n",
    "        self.identityblock1 = IdentityBlock(in_channels,in_channels)\n",
    "        self.identityblock2 = IdentityBlock(in_channels,in_channels)\n",
    "        self.identityblock3 = IdentityBlock(in_channels,in_channels)\n",
    "        self.identityblock4 = IdentityBlock(in_channels,out_channels)\n",
    "        self.maxpool = nn.MaxPool2d(kernel_size=3, stride=2,padding=1)\n",
    "    def forward(self,x):\n",
    "        x = self.identityblock1(x)\n",
    "        x = self.identityblock2(x)\n",
    "        x = self.identityblock3(x)\n",
    "        x = self.identityblock4(x)\n",
    "        p = self.maxpool(x)\n",
    "        \n",
    "        return x , p\n",
    "class Conv4(nn.Module):\n",
    "    def __init__(self,in_channels, out_channels):\n",
    "        super(Conv4,self).__init__()         \n",
    "        self.identityblock1 = IdentityBlock(in_channels,in_channels)\n",
    "        self.identityblock2 = IdentityBlock(in_channels,in_channels)\n",
    "        self.identityblock3 = IdentityBlock(in_channels,in_channels)\n",
    "        self.identityblock4 = IdentityBlock(in_channels,in_channels)\n",
    "        self.identityblock5 = IdentityBlock(in_channels,in_channels)\n",
    "        self.identityblock6 = IdentityBlock(in_channels,out_channels)\n",
    "        self.maxpool = nn.MaxPool2d(kernel_size=3, stride=2,padding=1)\n",
    "    def forward(self,x):\n",
    "        x = self.identityblock1(x)\n",
    "        x = self.identityblock2(x)\n",
    "        x = self.identityblock3(x)\n",
    "        x = self.identityblock4(x)\n",
    "        x = self.identityblock5(x)\n",
    "        x = self.identityblock6(x)\n",
    "        p = self.maxpool(x)\n",
    "        \n",
    "        return x , p\n",
    "class Conv5(nn.Module):\n",
    "    def __init__(self,in_channels, out_channels):\n",
    "        super(Conv5,self).__init__() \n",
    "        self.identityblock1 = IdentityBlock(in_channels,in_channels)\n",
    "        self.identityblock2 = IdentityBlock(in_channels,in_channels)\n",
    "        self.identityblock3 = IdentityBlock(in_channels,out_channels)\n",
    "        self.maxpool = nn.MaxPool2d(kernel_size=3, stride=2,padding=1)\n",
    "        \n",
    "    def forward(self,x):\n",
    "        x = self.identityblock1(x)\n",
    "        x = self.identityblock2(x)\n",
    "        x = self.identityblock3(x)\n",
    "        p = self.maxpool(x)\n",
    "        \n",
    "        return x , p\n",
    "#디코더 블럭\n",
    "class DecoderBlock(nn.Module):\n",
    "    def __init__(self, channels):\n",
    "        super(DecoderBlock, self).__init__()\n",
    "        self.upsample = nn.ConvTranspose2d(channels*2, channels, kernel_size=4, stride=2, padding=1) # output_padding 추가\n",
    "        self.convblock1 = IdentityBlock(channels*2, channels)\n",
    "\n",
    "    def forward(self, x, skip):\n",
    "        x = self.upsample(x)\n",
    "        if x.size(2) != skip.size(2) or x.size(3) != skip.size(3):\n",
    "            x = F.interpolate(x, size=(skip.size(2), skip.size(3)))\n",
    "        x = torch.cat([x, skip], dim=1)\n",
    "        x = self.convblock1(x)\n",
    "        #print(\"x\",x.shape,\"skip: \",skip.shape)\n",
    "        return x\n",
    "\n",
    "#Unet구조 middle의 xm값의 움직임에 주의\n",
    "class Resnet34_Unet(nn.Module):\n",
    "    def __init__(self,n_classes):\n",
    "        super(Resnet34_Unet,self).__init__()\n",
    "        self.fconv1 = nn.Conv2d(3, 64, kernel_size=7, stride=2, padding=3)\n",
    "        self.fbn1 = nn.BatchNorm2d(64)\n",
    "        self.frelu1 = nn.ReLU()\n",
    "        self.fmaxpooling = nn.MaxPool2d(kernel_size=3,stride=2,padding=1)\n",
    "        \n",
    "        self.conv2 = Conv2(64,128)\n",
    "        self.conv3 = Conv3(128,256)\n",
    "        self.conv4 = Conv4(256,512)\n",
    "        self.conv5 = Conv5(512,1024)\n",
    "        \n",
    "        self.middleconv = IdentityBlock(1024,2048)\n",
    "        self.dropout = nn.Dropout2d(0.1) #\n",
    "           \n",
    "        self.decoder5 = DecoderBlock(1024)\n",
    "        self.decoder4 = DecoderBlock(512)\n",
    "        self.decoder3 = DecoderBlock(256)\n",
    "        self.decoder2 = DecoderBlock(128)\n",
    "        self.decoder1 = DecoderBlock(64)\n",
    "        self.transpose = nn.ConvTranspose2d(64, 64, kernel_size=4, stride=2, padding=1) # output_padding 추가\n",
    "        \n",
    "        self.segmap = nn.Conv2d(64,n_classes, kernel_size=1)\n",
    "        self.domain_classifier = domain_classifier()\n",
    "        self.domain_linear = domain_linear()\n",
    "        \n",
    "    def forward(self,x):\n",
    "        x = self.fconv1(x)#3->64\n",
    "        x0 = self.fbn1(x)\n",
    "        x1 = self.frelu1(x)\n",
    "        p = self.fmaxpooling(x1)#첫 conv: x0([8, 64, 109, 109]) p([8, 64, 54, 54])\n",
    "        #print(\"conv1: \",x1.shape, \"maxpooling: \",p.shape)\n",
    "        x2,p = self.conv2(p)\n",
    "        #print(\"conv2: \",x2.shape, \"maxpooling: \",p.shape)\n",
    "        x3,p = self.conv3(p)\n",
    "        #print(\"conv3: \",x3.shape, \"maxpooling: \",p.shape)\n",
    "        x4,p = self.conv4(p)\n",
    "        #print(\"conv4: \",x4.shape, \"maxpooling: \",p.shape)\n",
    "        x5,p = self.conv5(p)\n",
    "        #print(\"conv5: \",x5.shape, \"maxpooling: \",p.shape)\n",
    "        \n",
    "        xm = self.middleconv(p)#xm([8, 4096, 2, 2])\n",
    "        #print(\"xm: \",xm.shape, \"maxpooling: \",p.shape)\n",
    "        xm = self.dropout(xm)\n",
    "        \n",
    "        x = self.decoder5(xm,x5)#뉴런:2048*2->2048 1\n",
    "        x = self.decoder4(x,x4)#뉴런:1024*2->1024 \n",
    "        x = self.decoder3(x,x3) #14\n",
    "        x = self.decoder2(x,x2)#28\n",
    "        x = self.decoder1(x,x1)#55\n",
    "        x = self.transpose(x)\n",
    "        \n",
    "        #print(x.shape)\n",
    "        #x = F.interpolate(x, size=(224, 224))\n",
    "        x_c = self.segmap(x)\n",
    "        x_d = self.domain_classifier(x)\n",
    "        \n",
    "        return x_c,x_d"
   ]
  },
  {
   "cell_type": "code",
   "execution_count": 7,
   "metadata": {},
   "outputs": [],
   "source": [
    "# import pickle\n",
    "\n",
    "# # 저장된 class_weights를 불러옵니다.\n",
    "# class_weights_path = 'CLASS_WEIGHTS.pkl'\n",
    "\n",
    "# with open(class_weights_path, 'rb') as file:\n",
    "#     CLASS_WEIGHTS = pickle.load(file)\n",
    "\n",
    "# print(CLASS_WEIGHTS)"
   ]
  },
  {
   "cell_type": "markdown",
   "metadata": {},
   "source": [
    "## Loss Function"
   ]
  },
  {
   "cell_type": "code",
   "execution_count": 8,
   "metadata": {},
   "outputs": [],
   "source": [
    "# loss function과 optimizer 정의\n",
    "\n",
    "class DANN_Loss(nn.Module):\n",
    "    def __init__(self):\n",
    "        super(DANN_Loss, self).__init__()\n",
    "\n",
    "        #self.CE = nn.CrossEntropyLoss(weight=CLASS_WEIGHTS) # 0~9 class 분류용\n",
    "        self.CE = nn.CrossEntropyLoss()\n",
    "        \n",
    "        \n",
    "    # result : DANN_CNN에서 반환된 값\n",
    "    # label : 숫자 0 ~ 9에 대한 라벨\n",
    "    # domain_num : 0(source) or 1(target)\n",
    "    def forward(self, result, label, domain_num, alpha = 1):\n",
    "        label_logits, domain_logits = result # DANN_CNN의 결과\n",
    "\n",
    "        batch_size = domain_logits.shape[0]\n",
    "\n",
    "        segment_loss = self.CE(label_logits, label) # class 분류 loss\n",
    "        \n",
    "        domain_target = torch.LongTensor([domain_num] * batch_size).to(device)\n",
    "\n",
    "        domain_loss = self.CE(domain_logits, domain_target) # domain 분류 loss\n",
    "        \n",
    "        #domain_target = torch.FloatTensor([domain_num] * batch_size).unsqueeze(1).to(device)\n",
    "        #domain_loss = self.BCE(domain_logits, domain_target) # domain 분류 loss\n",
    "        \n",
    "        loss = segment_loss + alpha * domain_loss\n",
    "        # print(\"segment_mask : \", label.shape)\n",
    "        # print(\"domain_answer : \", domain_target.shape)\n",
    "        return (loss) ,segment_loss, domain_loss\n",
    "    \n",
    "class DANN_Loss_mse(nn.Module):\n",
    "    def __init__(self):\n",
    "        super(DANN_Loss_mse, self).__init__()\n",
    "        self.CE = nn.CrossEntropyLoss()\n",
    "        self.MSE = nn.MSELoss()\n",
    "\n",
    "    def forward(self, result, label, domain_num, alpha = 1):\n",
    "        label_logits, domain_logits = result # DANN_CNN의 결과\n",
    "\n",
    "        batch_size = domain_logits.shape[0]\n",
    "\n",
    "        segment_loss = self.CE(label_logits, label) # class 분류 loss\n",
    "        \n",
    "        domain_target = torch.LongTensor([domain_num] * batch_size).unsqueeze(1).to(device).float()      \n",
    "        domain_loss = self.MSE(domain_logits, domain_target) # domain 분류 loss\n",
    "        domain_loss = torch.sqrt(domain_loss)\n",
    "        loss = segment_loss + alpha * domain_loss\n",
    "        # print(\"segment_mask : \", label.shape)\n",
    "        # print(\"domain_answer : \", domain_target.shape)\n",
    "        return loss ,segment_loss, domain_loss\n",
    "    \n",
    "\n",
    "loss_fn = DANN_Loss().to(device)\n",
    "#loss_fn = DANN_Loss_mse().to(device)\n",
    "\n",
    "#criterion =nn.CrossEntropyLoss()\n",
    "#domain_criterion = nn.BCELoss()\n",
    "#criterion = nn.CrossEntropyLoss(weight=class_weights)"
   ]
  },
  {
   "cell_type": "code",
   "execution_count": null,
   "metadata": {},
   "outputs": [],
   "source": []
  },
  {
   "cell_type": "code",
   "execution_count": 9,
   "metadata": {},
   "outputs": [],
   "source": [
    "import os\n",
    "os.environ['CUDA_LAUNCH_BLOCKING'] = '1'"
   ]
  },
  {
   "cell_type": "code",
   "execution_count": 10,
   "metadata": {},
   "outputs": [],
   "source": [
    "LR = 0.001\n",
    "EP = 35\n",
    "BATCH_SIZE = 16\n",
    "ACCMULATION_STEP = 1 \n",
    "N_CLASSES = 13\n",
    "alpha = 0.01\n",
    "N_LABELS = 4\n",
    "# model 초기화\n",
    "model = Resnet34_Unet(n_classes = N_CLASSES).to(device)\n",
    "optimizer = torch.optim.Adam(model.parameters(), lr=LR)\n",
    "\n",
    "optimizer.zero_grad() \n",
    "\n",
    "source_dataset = CustomDataset(csv_file='./data/896_csv/train_source.csv', transform=transform)\n",
    "source_dataloader = DataLoader(source_dataset, batch_size=BATCH_SIZE, shuffle=True)\n",
    "val_target_dataset = CustomDataset(csv_file='./data/896_csv/val_source.csv', transform=transform)\n",
    "val_target_dataloader = DataLoader(val_target_dataset, batch_size=BATCH_SIZE, shuffle=False)\n"
   ]
  },
  {
   "cell_type": "code",
   "execution_count": 11,
   "metadata": {},
   "outputs": [
    {
     "name": "stdout",
     "output_type": "stream",
     "text": [
      "0.0045\n"
     ]
    },
    {
     "name": "stderr",
     "output_type": "stream",
     "text": [
      "Epoch: 1: 100%|██████████| 138/138 [05:52<00:00,  2.56s/it]\n"
     ]
    },
    {
     "name": "stdout",
     "output_type": "stream",
     "text": [
      "\n",
      "Label_0: IoU Scores Train\n",
      "Class00: 0.0194 Class01: 0.0346 Class02: 0.1190 Class03: 0.1662 Class04: 0.2415 Class05: 0.2226 Class06: 0.2596 \n",
      "Class07: 0.2698 Class08: 0.2973 Class09: 0.3166 Class10: 0.3047 Class11: 0.3146 Class12: 0.3043 \n",
      "Label_1: IoU Scores Train\n",
      "Class00: 0.0233 Class01: 0.0302 Class02: 0.0597 Class03: 0.0752 Class04: 0.0917 Class05: 0.1020 Class06: 0.1113 \n",
      "Class07: 0.1038 Class08: 0.1110 Class09: 0.1147 Class10: 0.1116 Class11: 0.1133 Class12: 0.1106 \n",
      "Label_2: IoU Scores Train\n",
      "Class00: 0.0223 Class01: 0.0285 Class02: 0.0527 Class03: 0.0662 Class04: 0.0776 Class05: 0.0863 Class06: 0.0927 \n",
      "Class07: 0.0872 Class08: 0.0925 Class09: 0.0955 Class10: 0.0934 Class11: 0.0951 Class12: 0.0927 \n",
      "Label_3: IoU Scores Train\n",
      "Class00: 0.0209 Class01: 0.0274 Class02: 0.0490 Class03: 0.0614 Class04: 0.0704 Class05: 0.0778 Class06: 0.0829 \n",
      "Class07: 0.0785 Class08: 0.0831 Class09: 0.0854 Class10: 0.0835 Class11: 0.0853 Class12: 0.0833 \n",
      "Train seg Loss: 0.5946629162391891\n",
      "Train dom Loss: 18.03784279640162\n",
      "Train Loss: 0.6758332030874663\n",
      "Train mIoU: 0.11345357605451759\n"
     ]
    },
    {
     "name": "stderr",
     "output_type": "stream",
     "text": [
      "100%|██████████| 30/30 [00:35<00:00,  1.18s/it]\n"
     ]
    },
    {
     "name": "stdout",
     "output_type": "stream",
     "text": [
      "\n",
      "--IoU Scores Fish val--\n",
      "Class0: 0.3342 Class1: 0.2581 Class2: 0.3115 Class3: 0.3414 Class4: 0.2861 Class5: 0.3174 Class6: 0.3498 \n",
      "Class7: 0.2656 Class8: 0.3111 Class9: 0.3101 Class10: 0.2991 Class11: 0.2937 Class12: 0.3122 \n",
      "Epoch1\n",
      "Valid_Seg Loss: 0.2365197941660881 Valid_dom Loss: 22.81543566385905\n",
      "Valid Loss: 0.3391892502705256\n",
      "Valid mIoU: 0.30696148779697546\n",
      "___________________________________________________________________________________________\n",
      "\n",
      "0.0045\n"
     ]
    },
    {
     "name": "stderr",
     "output_type": "stream",
     "text": [
      "Epoch: 2: 100%|██████████| 138/138 [05:49<00:00,  2.53s/it]\n"
     ]
    },
    {
     "name": "stdout",
     "output_type": "stream",
     "text": [
      "\n",
      "Label_0: IoU Scores Train\n",
      "Class00: 0.3108 Class01: 0.3241 Class02: 0.3169 Class03: 0.3288 Class04: 0.3378 Class05: 0.3222 Class06: 0.0396 \n",
      "Class07: 0.0322 Class08: 0.0473 Class09: 0.0322 Class10: 0.0559 Class11: 0.0598 Class12: 0.0613 \n",
      "Label_1: IoU Scores Train\n",
      "Class00: 0.1137 Class01: 0.1159 Class02: 0.1148 Class03: 0.1144 Class04: 0.1162 Class05: 0.1120 Class06: 0.0291 \n",
      "Class07: 0.0368 Class08: 0.0448 Class09: 0.0263 Class10: 0.0314 Class11: 0.0328 Class12: 0.0337 \n",
      "Label_2: IoU Scores Train\n",
      "Class00: 0.0953 Class01: 0.0978 Class02: 0.0961 Class03: 0.0966 Class04: 0.0975 Class05: 0.0940 Class06: 0.0305 \n",
      "Class07: 0.0368 Class08: 0.0440 Class09: 0.0261 Class10: 0.0293 Class11: 0.0294 Class12: 0.0316 \n",
      "Label_3: IoU Scores Train\n",
      "Class00: 0.0857 Class01: 0.0878 Class02: 0.0865 Class03: 0.0876 Class04: 0.0882 Class05: 0.0852 Class06: 0.0272 \n",
      "Class07: 0.0363 Class08: 0.0395 Class09: 0.0225 Class10: 0.0260 Class11: 0.0269 Class12: 0.0293 \n",
      "Train seg Loss: 0.9855454135146262\n",
      "Train dom Loss: 220.42975650108306\n",
      "Train Loss: 1.977479264356088\n",
      "Train mIoU: 0.09085579739004992\n"
     ]
    },
    {
     "name": "stderr",
     "output_type": "stream",
     "text": [
      "100%|██████████| 30/30 [00:10<00:00,  2.85it/s]\n"
     ]
    },
    {
     "name": "stdout",
     "output_type": "stream",
     "text": [
      "\n",
      "--IoU Scores Fish val--\n",
      "Class0: 0.1169 Class1: 0.0942 Class2: 0.1043 Class3: 0.1163 Class4: 0.0874 Class5: 0.1064 Class6: 0.1204 \n",
      "Class7: 0.0925 Class8: 0.0996 Class9: 0.1199 Class10: 0.0880 Class11: 0.0922 Class12: 0.0998 \n",
      "Epoch2\n",
      "Valid_Seg Loss: 0.7180888652801514 Valid_dom Loss: 384.4896072387695\n",
      "Valid Loss: 2.448292013009389\n",
      "Valid mIoU: 0.10290232865901255\n",
      "___________________________________________________________________________________________\n",
      "\n",
      "0.0045\n"
     ]
    },
    {
     "name": "stderr",
     "output_type": "stream",
     "text": [
      "Epoch: 3: 100%|██████████| 138/138 [05:35<00:00,  2.43s/it]\n"
     ]
    },
    {
     "name": "stdout",
     "output_type": "stream",
     "text": [
      "\n",
      "Label_0: IoU Scores Train\n",
      "Class00: 0.0592 Class01: 0.0707 Class02: 0.0797 Class03: 0.0906 Class04: 0.0847 Class05: 0.0626 Class06: 0.0479 \n",
      "Class07: 0.0203 Class08: 0.0122 Class09: 0.0215 Class10: 0.0235 Class11: 0.0191 Class12: 0.0183 \n",
      "Label_1: IoU Scores Train\n",
      "Class00: 0.0342 Class01: 0.0388 Class02: 0.0430 Class03: 0.0520 Class04: 0.0518 Class05: 0.0378 Class06: 0.0358 \n",
      "Class07: 0.0231 Class08: 0.0210 Class09: 0.0272 Class10: 0.0286 Class11: 0.0235 Class12: 0.0235 \n",
      "Label_2: IoU Scores Train\n",
      "Class00: 0.0323 Class01: 0.0348 Class02: 0.0365 Class03: 0.0462 Class04: 0.0454 Class05: 0.0347 Class06: 0.0330 \n",
      "Class07: 0.0234 Class08: 0.0235 Class09: 0.0334 Class10: 0.0316 Class11: 0.0251 Class12: 0.0245 \n",
      "Label_3: IoU Scores Train\n",
      "Class00: 0.0289 Class01: 0.0310 Class02: 0.0339 Class03: 0.0424 Class04: 0.0382 Class05: 0.0313 Class06: 0.0340 \n",
      "Class07: 0.0215 Class08: 0.0178 Class09: 0.0274 Class10: 0.0325 Class11: 0.0225 Class12: 0.0219 \n",
      "Train seg Loss: 2.153309590574624\n",
      "Train dom Loss: 8072.1605368416685\n",
      "Train Loss: 38.47803040496681\n",
      "Train mIoU: 0.03573041597777831\n"
     ]
    },
    {
     "name": "stderr",
     "output_type": "stream",
     "text": [
      "100%|██████████| 30/30 [00:47<00:00,  1.59s/it]\n"
     ]
    },
    {
     "name": "stdout",
     "output_type": "stream",
     "text": [
      "\n",
      "--IoU Scores Fish val--\n",
      "Class0: 0.0716 Class1: 0.0475 Class2: 0.0476 Class3: 0.0713 Class4: 0.0482 Class5: 0.0474 Class6: 0.0712 \n",
      "Class7: 0.0480 Class8: 0.0478 Class9: 0.0712 Class10: 0.0475 Class11: 0.0474 Class12: 0.0477 \n",
      "Epoch3\n",
      "Valid_Seg Loss: 1.5494809865951538 Valid_dom Loss: 59.10531412760417\n",
      "Valid Loss: 1.815454884370168\n",
      "Valid mIoU: 0.0549690612011261\n",
      "___________________________________________________________________________________________\n",
      "\n",
      "0.0045\n"
     ]
    },
    {
     "name": "stderr",
     "output_type": "stream",
     "text": [
      "Epoch: 4: 100%|██████████| 138/138 [05:39<00:00,  2.46s/it]\n"
     ]
    },
    {
     "name": "stdout",
     "output_type": "stream",
     "text": [
      "\n",
      "Label_0: IoU Scores Train\n",
      "Class00: 0.0336 Class01: 0.0320 Class02: 0.0210 Class03: 0.0185 Class04: 0.0176 Class05: 0.0164 Class06: 0.0156 \n",
      "Class07: 0.0141 Class08: 0.0142 Class09: 0.0141 Class10: 0.0127 Class11: 0.0130 Class12: 0.0119 \n",
      "Label_1: IoU Scores Train\n",
      "Class00: 0.0309 Class01: 0.0303 Class02: 0.0319 Class03: 0.0231 Class04: 0.0282 Class05: 0.0260 Class06: 0.0280 \n",
      "Class07: 0.0256 Class08: 0.0251 Class09: 0.0233 Class10: 0.0220 Class11: 0.0218 Class12: 0.0209 \n",
      "Label_2: IoU Scores Train\n",
      "Class00: 0.0307 Class01: 0.0303 Class02: 0.0310 Class03: 0.0239 Class04: 0.0307 Class05: 0.0283 Class06: 0.0295 \n",
      "Class07: 0.0280 Class08: 0.0275 Class09: 0.0282 Class10: 0.0264 Class11: 0.0233 Class12: 0.0224 \n",
      "Label_3: IoU Scores Train\n",
      "Class00: 0.0314 Class01: 0.0275 Class02: 0.0267 Class03: 0.0216 Class04: 0.0221 Class05: 0.0182 Class06: 0.0217 \n",
      "Class07: 0.0178 Class08: 0.0186 Class09: 0.0176 Class10: 0.0173 Class11: 0.0150 Class12: 0.0135 \n",
      "Train seg Loss: 1.7431985377401547\n",
      "Train dom Loss: 3580.063799549634\n",
      "Train Loss: 17.85348497784656\n",
      "Train mIoU: 0.023088920099346957\n"
     ]
    },
    {
     "name": "stderr",
     "output_type": "stream",
     "text": [
      "100%|██████████| 30/30 [00:46<00:00,  1.55s/it]\n"
     ]
    },
    {
     "name": "stdout",
     "output_type": "stream",
     "text": [
      "\n",
      "--IoU Scores Fish val--\n",
      "Class0: 0.0751 Class1: 0.0501 Class2: 0.0502 Class3: 0.0751 Class4: 0.0502 Class5: 0.0503 Class6: 0.0752 \n",
      "Class7: 0.0502 Class8: 0.0503 Class9: 0.0751 Class10: 0.0501 Class11: 0.0502 Class12: 0.0502 \n",
      "Epoch4\n",
      "Valid_Seg Loss: 1.1025786399841309 Valid_dom Loss: 309.4085693359375\n",
      "Valid Loss: 2.494917138417562\n",
      "Valid mIoU: 0.05786420274225112\n",
      "___________________________________________________________________________________________\n",
      "\n",
      "0.0045\n"
     ]
    },
    {
     "name": "stderr",
     "output_type": "stream",
     "text": [
      "Epoch: 5: 100%|██████████| 138/138 [05:46<00:00,  2.51s/it]\n"
     ]
    },
    {
     "name": "stdout",
     "output_type": "stream",
     "text": [
      "\n",
      "Label_0: IoU Scores Train\n",
      "Class00: 0.0121 Class01: 0.0123 Class02: 0.0105 Class03: 0.0107 Class04: 0.0108 Class05: 0.0099 Class06: 0.0109 \n",
      "Class07: 0.0096 Class08: 0.0105 Class09: 0.0170 Class10: 0.0099 Class11: 0.0112 Class12: 0.0107 \n",
      "Label_1: IoU Scores Train\n",
      "Class00: 0.0209 Class01: 0.0171 Class02: 0.0171 Class03: 0.0132 Class04: 0.0195 Class05: 0.0150 Class06: 0.0146 \n",
      "Class07: 0.0167 Class08: 0.0187 Class09: 0.0162 Class10: 0.0111 Class11: 0.0144 Class12: 0.0159 \n",
      "Label_2: IoU Scores Train\n",
      "Class00: 0.0193 Class01: 0.0174 Class02: 0.0157 Class03: 0.0156 Class04: 0.0178 Class05: 0.0142 Class06: 0.0154 \n",
      "Class07: 0.0178 Class08: 0.0214 Class09: 0.0190 Class10: 0.0172 Class11: 0.0173 Class12: 0.0170 \n",
      "Label_3: IoU Scores Train\n",
      "Class00: 0.0129 Class01: 0.0115 Class02: 0.0104 Class03: 0.0109 Class04: 0.0118 Class05: 0.0114 Class06: 0.0119 \n",
      "Class07: 0.0105 Class08: 0.0111 Class09: 0.0171 Class10: 0.0110 Class11: 0.0136 Class12: 0.0156 \n",
      "Train seg Loss: 1.6403214585953865\n",
      "Train dom Loss: 383.3998149912667\n",
      "Train Loss: 3.3656205552211707\n",
      "Train mIoU: 0.014263441535258404\n"
     ]
    },
    {
     "name": "stderr",
     "output_type": "stream",
     "text": [
      "100%|██████████| 30/30 [00:47<00:00,  1.59s/it]\n"
     ]
    },
    {
     "name": "stdout",
     "output_type": "stream",
     "text": [
      "\n",
      "--IoU Scores Fish val--\n",
      "Class0: 0.0749 Class1: 0.0500 Class2: 0.0499 Class3: 0.0748 Class4: 0.0498 Class5: 0.0501 Class6: 0.0748 \n",
      "Class7: 0.0503 Class8: 0.0502 Class9: 0.0745 Class10: 0.0503 Class11: 0.0500 Class12: 0.0502 \n",
      "Epoch5\n",
      "Valid_Seg Loss: 1.10194118420283 Valid_dom Loss: 91.10037129720052\n",
      "Valid Loss: 1.511892831325531\n",
      "Valid mIoU: 0.057673140309016525\n",
      "___________________________________________________________________________________________\n",
      "\n",
      "0.0045\n"
     ]
    },
    {
     "name": "stderr",
     "output_type": "stream",
     "text": [
      "Epoch: 6: 100%|██████████| 138/138 [05:47<00:00,  2.52s/it]\n"
     ]
    },
    {
     "name": "stdout",
     "output_type": "stream",
     "text": [
      "\n",
      "Label_0: IoU Scores Train\n",
      "Class00: 0.0166 Class01: 0.0163 Class02: 0.0148 Class03: 0.0365 Class04: 0.0546 Class05: 0.0507 Class06: 0.0595 \n",
      "Class07: 0.0580 Class08: 0.0592 Class09: 0.0664 Class10: 0.0729 Class11: 0.0707 Class12: 0.0752 \n",
      "Label_1: IoU Scores Train\n",
      "Class00: 0.0173 Class01: 0.0181 Class02: 0.0238 Class03: 0.0304 Class04: 0.0318 Class05: 0.0278 Class06: 0.0307 \n",
      "Class07: 0.0303 Class08: 0.0307 Class09: 0.0329 Class10: 0.0345 Class11: 0.0348 Class12: 0.0365 \n",
      "Label_2: IoU Scores Train\n",
      "Class00: 0.0175 Class01: 0.0174 Class02: 0.0234 Class03: 0.0278 Class04: 0.0279 Class05: 0.0252 Class06: 0.0278 \n",
      "Class07: 0.0268 Class08: 0.0271 Class09: 0.0297 Class10: 0.0307 Class11: 0.0307 Class12: 0.0314 \n",
      "Label_3: IoU Scores Train\n",
      "Class00: 0.0160 Class01: 0.0157 Class02: 0.0223 Class03: 0.0254 Class04: 0.0260 Class05: 0.0229 Class06: 0.0256 \n",
      "Class07: 0.0245 Class08: 0.0252 Class09: 0.0269 Class10: 0.0276 Class11: 0.0280 Class12: 0.0285 \n",
      "Train seg Loss: 1.403545036803985\n",
      "Train dom Loss: 1722.879943537406\n",
      "Train Loss: 9.156504446937554\n",
      "Train mIoU: 0.03248480006795585\n"
     ]
    },
    {
     "name": "stderr",
     "output_type": "stream",
     "text": [
      "100%|██████████| 30/30 [00:39<00:00,  1.32s/it]\n"
     ]
    },
    {
     "name": "stdout",
     "output_type": "stream",
     "text": [
      "\n",
      "--IoU Scores Fish val--\n",
      "Class0: 0.1405 Class1: 0.1112 Class2: 0.1274 Class3: 0.1389 Class4: 0.1077 Class5: 0.1257 Class6: 0.1388 \n",
      "Class7: 0.1077 Class8: 0.1231 Class9: 0.1388 Class10: 0.1132 Class11: 0.1060 Class12: 0.1223 \n",
      "Epoch6\n",
      "Valid_Seg Loss: 0.7342432141304016 Valid_dom Loss: 602.947098795573\n",
      "Valid Loss: 3.447505021095276\n",
      "Valid mIoU: 0.12317436219904522\n",
      "___________________________________________________________________________________________\n",
      "\n",
      "0.0045\n"
     ]
    },
    {
     "name": "stderr",
     "output_type": "stream",
     "text": [
      "Epoch: 7: 100%|██████████| 138/138 [05:49<00:00,  2.53s/it]\n"
     ]
    },
    {
     "name": "stdout",
     "output_type": "stream",
     "text": [
      "\n",
      "Label_0: IoU Scores Train\n",
      "Class00: 0.0726 Class01: 0.0792 Class02: 0.0780 Class03: 0.0802 Class04: 0.0776 Class05: 0.0731 Class06: 0.0286 \n",
      "Class07: 0.0397 Class08: 0.0425 Class09: 0.0476 Class10: 0.0485 Class11: 0.0466 Class12: 0.0528 \n",
      "Label_1: IoU Scores Train\n",
      "Class00: 0.0387 Class01: 0.0406 Class02: 0.0435 Class03: 0.0411 Class04: 0.0428 Class05: 0.0377 Class06: 0.0300 \n",
      "Class07: 0.0296 Class08: 0.0293 Class09: 0.0313 Class10: 0.0308 Class11: 0.0300 Class12: 0.0312 \n",
      "Label_2: IoU Scores Train\n",
      "Class00: 0.0335 Class01: 0.0353 Class02: 0.0375 Class03: 0.0351 Class04: 0.0367 Class05: 0.0337 Class06: 0.0306 \n",
      "Class07: 0.0292 Class08: 0.0306 Class09: 0.0304 Class10: 0.0296 Class11: 0.0303 Class12: 0.0310 \n",
      "Label_3: IoU Scores Train\n",
      "Class00: 0.0308 Class01: 0.0321 Class02: 0.0336 Class03: 0.0318 Class04: 0.0336 Class05: 0.0309 Class06: 0.0270 \n",
      "Class07: 0.0266 Class08: 0.0285 Class09: 0.0279 Class10: 0.0272 Class11: 0.0276 Class12: 0.0284 \n",
      "Train seg Loss: 1.2804048606666967\n",
      "Train dom Loss: 772.574286210101\n",
      "Train Loss: 4.756989021340142\n",
      "Train mIoU: 0.03909428479448213\n"
     ]
    },
    {
     "name": "stderr",
     "output_type": "stream",
     "text": [
      "100%|██████████| 30/30 [00:38<00:00,  1.27s/it]\n"
     ]
    },
    {
     "name": "stdout",
     "output_type": "stream",
     "text": [
      "\n",
      "--IoU Scores Fish val--\n",
      "Class0: 0.1247 Class1: 0.0988 Class2: 0.1122 Class3: 0.1249 Class4: 0.0925 Class5: 0.1107 Class6: 0.1255 \n",
      "Class7: 0.0945 Class8: 0.1094 Class9: 0.1248 Class10: 0.0958 Class11: 0.0939 Class12: 0.1104 \n",
      "Epoch7\n",
      "Valid_Seg Loss: 0.7732768932978312 Valid_dom Loss: 472.5565455118815\n",
      "Valid Loss: 2.8997812509536742\n",
      "Valid mIoU: 0.10907102941661713\n",
      "___________________________________________________________________________________________\n",
      "\n",
      "0.0045\n"
     ]
    },
    {
     "name": "stderr",
     "output_type": "stream",
     "text": [
      "Epoch: 8: 100%|██████████| 138/138 [05:44<00:00,  2.50s/it]\n"
     ]
    },
    {
     "name": "stdout",
     "output_type": "stream",
     "text": [
      "\n",
      "Label_0: IoU Scores Train\n",
      "Class00: 0.0519 Class01: 0.0555 Class02: 0.0558 Class03: 0.0582 Class04: 0.0634 Class05: 0.0625 Class06: 0.0692 \n",
      "Class07: 0.0734 Class08: 0.0742 Class09: 0.0789 Class10: 0.0738 Class11: 0.0766 Class12: 0.0779 \n",
      "Label_1: IoU Scores Train\n",
      "Class00: 0.0317 Class01: 0.0335 Class02: 0.0338 Class03: 0.0347 Class04: 0.0381 Class05: 0.0360 Class06: 0.0388 \n",
      "Class07: 0.0371 Class08: 0.0384 Class09: 0.0403 Class10: 0.0395 Class11: 0.0390 Class12: 0.0403 \n",
      "Label_2: IoU Scores Train\n",
      "Class00: 0.0314 Class01: 0.0323 Class02: 0.0324 Class03: 0.0331 Class04: 0.0361 Class05: 0.0335 Class06: 0.0359 \n",
      "Class07: 0.0340 Class08: 0.0352 Class09: 0.0367 Class10: 0.0356 Class11: 0.0361 Class12: 0.0360 \n",
      "Label_3: IoU Scores Train\n",
      "Class00: 0.0295 Class01: 0.0295 Class02: 0.0291 Class03: 0.0303 Class04: 0.0326 Class05: 0.0304 Class06: 0.0320 \n",
      "Class07: 0.0300 Class08: 0.0321 Class09: 0.0329 Class10: 0.0321 Class11: 0.0314 Class12: 0.0318 \n",
      "Train seg Loss: 1.1693677895742913\n",
      "Train dom Loss: 51.345001720400894\n",
      "Train Loss: 1.400420285653377\n",
      "Train mIoU: 0.04239858120724941\n"
     ]
    },
    {
     "name": "stderr",
     "output_type": "stream",
     "text": [
      "100%|██████████| 30/30 [00:39<00:00,  1.31s/it]\n"
     ]
    },
    {
     "name": "stdout",
     "output_type": "stream",
     "text": [
      "\n",
      "--IoU Scores Fish val--\n",
      "Class0: 0.1746 Class1: 0.1371 Class2: 0.1584 Class3: 0.1728 Class4: 0.1383 Class5: 0.1562 Class6: 0.1717 \n",
      "Class7: 0.1303 Class8: 0.1544 Class9: 0.1645 Class10: 0.1421 Class11: 0.1312 Class12: 0.1521 \n",
      "Epoch8\n",
      "Valid_Seg Loss: 0.6416335721810659 Valid_dom Loss: 289.88494041760765\n",
      "Valid Loss: 1.9461157580216726\n",
      "Valid mIoU: 0.1526028040394414\n",
      "___________________________________________________________________________________________\n",
      "\n",
      "0.0045\n"
     ]
    },
    {
     "name": "stderr",
     "output_type": "stream",
     "text": [
      "Epoch: 9: 100%|██████████| 138/138 [05:50<00:00,  2.54s/it]\n"
     ]
    },
    {
     "name": "stdout",
     "output_type": "stream",
     "text": [
      "\n",
      "Label_0: IoU Scores Train\n",
      "Class00: 0.0776 Class01: 0.0806 Class02: 0.0830 Class03: 0.0885 Class04: 0.0808 Class05: 0.0856 Class06: 0.0873 \n",
      "Class07: 0.0743 Class08: 0.0744 Class09: 0.0662 Class10: 0.0637 Class11: 0.0364 Class12: 0.0459 \n",
      "Label_1: IoU Scores Train\n",
      "Class00: 0.0415 Class01: 0.0425 Class02: 0.0441 Class03: 0.0466 Class04: 0.0489 Class05: 0.0495 Class06: 0.0510 \n",
      "Class07: 0.0484 Class08: 0.0408 Class09: 0.0446 Class10: 0.0406 Class11: 0.0293 Class12: 0.0303 \n",
      "Label_2: IoU Scores Train\n",
      "Class00: 0.0375 Class01: 0.0381 Class02: 0.0384 Class03: 0.0399 Class04: 0.0421 Class05: 0.0417 Class06: 0.0430 \n",
      "Class07: 0.0409 Class08: 0.0361 Class09: 0.0386 Class10: 0.0355 Class11: 0.0274 Class12: 0.0281 \n",
      "Label_3: IoU Scores Train\n",
      "Class00: 0.0330 Class01: 0.0333 Class02: 0.0338 Class03: 0.0339 Class04: 0.0363 Class05: 0.0361 Class06: 0.0375 \n",
      "Class07: 0.0355 Class08: 0.0328 Class09: 0.0344 Class10: 0.0323 Class11: 0.0263 Class12: 0.0264 \n",
      "Train seg Loss: 1.1797756973816\n",
      "Train dom Loss: 566.3065281637066\n",
      "Train Loss: 3.728154964853024\n",
      "Train mIoU: 0.04655922059629515\n"
     ]
    },
    {
     "name": "stderr",
     "output_type": "stream",
     "text": [
      "100%|██████████| 30/30 [00:37<00:00,  1.24s/it]\n"
     ]
    },
    {
     "name": "stdout",
     "output_type": "stream",
     "text": [
      "\n",
      "--IoU Scores Fish val--\n",
      "Class0: 0.1157 Class1: 0.0921 Class2: 0.1113 Class3: 0.1158 Class4: 0.0945 Class5: 0.1133 Class6: 0.1224 \n",
      "Class7: 0.0975 Class8: 0.1142 Class9: 0.1207 Class10: 0.0952 Class11: 0.1000 Class12: 0.1176 \n",
      "Epoch9\n",
      "Valid_Seg Loss: 1.061643519004186 Valid_dom Loss: 7178.508544921875\n",
      "Valid Loss: 33.36493066151937\n",
      "Valid mIoU: 0.10848872596978522\n",
      "___________________________________________________________________________________________\n",
      "\n",
      "0.0045\n"
     ]
    },
    {
     "name": "stderr",
     "output_type": "stream",
     "text": [
      "Epoch: 10: 100%|██████████| 138/138 [05:51<00:00,  2.55s/it]\n"
     ]
    },
    {
     "name": "stdout",
     "output_type": "stream",
     "text": [
      "\n",
      "Label_0: IoU Scores Train\n",
      "Class00: 0.0361 Class01: 0.0264 Class02: 0.0238 Class03: 0.0318 Class04: 0.0474 Class05: 0.0412 Class06: 0.0502 \n",
      "Class07: 0.0485 Class08: 0.0555 Class09: 0.0614 Class10: 0.0437 Class11: 0.0454 Class12: 0.0434 \n",
      "Label_1: IoU Scores Train\n",
      "Class00: 0.0305 Class01: 0.0255 Class02: 0.0233 Class03: 0.0291 Class04: 0.0337 Class05: 0.0314 Class06: 0.0344 \n",
      "Class07: 0.0333 Class08: 0.0357 Class09: 0.0349 Class10: 0.0304 Class11: 0.0299 Class12: 0.0290 \n",
      "Label_2: IoU Scores Train\n",
      "Class00: 0.0280 Class01: 0.0246 Class02: 0.0228 Class03: 0.0284 Class04: 0.0305 Class05: 0.0264 Class06: 0.0312 \n",
      "Class07: 0.0287 Class08: 0.0320 Class09: 0.0315 Class10: 0.0264 Class11: 0.0281 Class12: 0.0267 \n",
      "Label_3: IoU Scores Train\n",
      "Class00: 0.0265 Class01: 0.0238 Class02: 0.0219 Class03: 0.0244 Class04: 0.0267 Class05: 0.0262 Class06: 0.0290 \n",
      "Class07: 0.0275 Class08: 0.0310 Class09: 0.0288 Class10: 0.0247 Class11: 0.0259 Class12: 0.0254 \n",
      "Train seg Loss: 1.5824011827724567\n",
      "Train dom Loss: 902.9096839835338\n",
      "Train Loss: 5.64549458977105\n",
      "Train mIoU: 0.031977779906757785\n"
     ]
    },
    {
     "name": "stderr",
     "output_type": "stream",
     "text": [
      "100%|██████████| 30/30 [00:37<00:00,  1.25s/it]\n"
     ]
    },
    {
     "name": "stdout",
     "output_type": "stream",
     "text": [
      "\n",
      "--IoU Scores Fish val--\n",
      "Class0: 0.1108 Class1: 0.0775 Class2: 0.0893 Class3: 0.1097 Class4: 0.0838 Class5: 0.0919 Class6: 0.1140 \n",
      "Class7: 0.0751 Class8: 0.0911 Class9: 0.1022 Class10: 0.0760 Class11: 0.0810 Class12: 0.0956 \n",
      "Epoch10\n",
      "Valid_Seg Loss: 11.28174273967743 Valid_dom Loss: 650.8958302815755\n",
      "Valid Loss: 14.210773928960164\n",
      "Valid mIoU: 0.09215840686585075\n",
      "___________________________________________________________________________________________\n",
      "\n",
      "0.0045\n"
     ]
    },
    {
     "name": "stderr",
     "output_type": "stream",
     "text": [
      "Epoch: 11: 100%|██████████| 138/138 [05:48<00:00,  2.52s/it]\n"
     ]
    },
    {
     "name": "stdout",
     "output_type": "stream",
     "text": [
      "\n",
      "Label_0: IoU Scores Train\n",
      "Class00: 0.0326 Class01: 0.0424 Class02: 0.0616 Class03: 0.0602 Class04: 0.0630 Class05: 0.0567 Class06: 0.0600 \n",
      "Class07: 0.0589 Class08: 0.0588 Class09: 0.0633 Class10: 0.0609 Class11: 0.0653 Class12: 0.0702 \n",
      "Label_1: IoU Scores Train\n",
      "Class00: 0.0287 Class01: 0.0312 Class02: 0.0344 Class03: 0.0338 Class04: 0.0355 Class05: 0.0319 Class06: 0.0351 \n",
      "Class07: 0.0323 Class08: 0.0340 Class09: 0.0365 Class10: 0.0339 Class11: 0.0358 Class12: 0.0342 \n",
      "Label_2: IoU Scores Train\n",
      "Class00: 0.0272 Class01: 0.0283 Class02: 0.0316 Class03: 0.0315 Class04: 0.0321 Class05: 0.0292 Class06: 0.0318 \n",
      "Class07: 0.0297 Class08: 0.0311 Class09: 0.0334 Class10: 0.0311 Class11: 0.0324 Class12: 0.0313 \n",
      "Label_3: IoU Scores Train\n",
      "Class00: 0.0250 Class01: 0.0265 Class02: 0.0297 Class03: 0.0293 Class04: 0.0300 Class05: 0.0275 Class06: 0.0296 \n",
      "Class07: 0.0284 Class08: 0.0293 Class09: 0.0314 Class10: 0.0294 Class11: 0.0306 Class12: 0.0296 \n",
      "Train seg Loss: 1.2071519177676975\n",
      "Train dom Loss: 372.328602371753\n",
      "Train Loss: 2.882630548723366\n",
      "Train mIoU: 0.0378576920979937\n"
     ]
    },
    {
     "name": "stderr",
     "output_type": "stream",
     "text": [
      "100%|██████████| 30/30 [00:41<00:00,  1.37s/it]\n"
     ]
    },
    {
     "name": "stdout",
     "output_type": "stream",
     "text": [
      "\n",
      "--IoU Scores Fish val--\n",
      "Class0: 0.1252 Class1: 0.0992 Class2: 0.1201 Class3: 0.1224 Class4: 0.0972 Class5: 0.1198 Class6: 0.1316 \n",
      "Class7: 0.0896 Class8: 0.1134 Class9: 0.1234 Class10: 0.0962 Class11: 0.0970 Class12: 0.1131 \n",
      "Epoch11\n",
      "Valid_Seg Loss: 6.930726806322734 Valid_dom Loss: 1199.4803599039712\n",
      "Valid Loss: 12.328388214111328\n",
      "Valid mIoU: 0.11139277269576162\n",
      "___________________________________________________________________________________________\n",
      "\n",
      "0.0045\n"
     ]
    },
    {
     "name": "stderr",
     "output_type": "stream",
     "text": [
      "Epoch: 12: 100%|██████████| 138/138 [05:45<00:00,  2.50s/it]\n"
     ]
    },
    {
     "name": "stdout",
     "output_type": "stream",
     "text": [
      "\n",
      "Label_0: IoU Scores Train\n",
      "Class00: 0.0688 Class01: 0.0809 Class02: 0.0939 Class03: 0.1081 Class04: 0.1276 Class05: 0.1295 Class06: 0.1323 \n",
      "Class07: 0.1309 Class08: 0.1298 Class09: 0.1320 Class10: 0.1321 Class11: 0.1386 Class12: 0.1431 \n",
      "Label_1: IoU Scores Train\n",
      "Class00: 0.0348 Class01: 0.0400 Class02: 0.0408 Class03: 0.0483 Class04: 0.0593 Class05: 0.0635 Class06: 0.0662 \n",
      "Class07: 0.0694 Class08: 0.0727 Class09: 0.0720 Class10: 0.0708 Class11: 0.0720 Class12: 0.0706 \n",
      "Label_2: IoU Scores Train\n",
      "Class00: 0.0311 Class01: 0.0343 Class02: 0.0343 Class03: 0.0399 Class04: 0.0500 Class05: 0.0524 Class06: 0.0550 \n",
      "Class07: 0.0567 Class08: 0.0595 Class09: 0.0594 Class10: 0.0591 Class11: 0.0593 Class12: 0.0589 \n",
      "Label_3: IoU Scores Train\n",
      "Class00: 0.0292 Class01: 0.0315 Class02: 0.0313 Class03: 0.0358 Class04: 0.0453 Class05: 0.0471 Class06: 0.0495 \n",
      "Class07: 0.0501 Class08: 0.0529 Class09: 0.0530 Class10: 0.0528 Class11: 0.0529 Class12: 0.0533 \n",
      "Train seg Loss: 0.865337295592695\n",
      "Train dom Loss: 134.40639114921382\n",
      "Train Loss: 1.4701660292196101\n",
      "Train mIoU: 0.06850903752723231\n"
     ]
    },
    {
     "name": "stderr",
     "output_type": "stream",
     "text": [
      "100%|██████████| 30/30 [00:45<00:00,  1.52s/it]\n"
     ]
    },
    {
     "name": "stdout",
     "output_type": "stream",
     "text": [
      "\n",
      "--IoU Scores Fish val--\n",
      "Class0: 0.0574 Class1: 0.0421 Class2: 0.0426 Class3: 0.0585 Class4: 0.0432 Class5: 0.0495 Class6: 0.0745 \n",
      "Class7: 0.0430 Class8: 0.0375 Class9: 0.0611 Class10: 0.0479 Class11: 0.0474 Class12: 0.0312 \n",
      "Epoch12\n",
      "Valid_Seg Loss: 38.350829950968425 Valid_dom Loss: 2669.09228515625\n",
      "Valid Loss: 50.36174494425456\n",
      "Valid mIoU: 0.04891632914065997\n",
      "___________________________________________________________________________________________\n",
      "\n",
      "0.0045\n"
     ]
    },
    {
     "name": "stderr",
     "output_type": "stream",
     "text": [
      "Epoch: 13: 100%|██████████| 138/138 [05:47<00:00,  2.52s/it]\n"
     ]
    },
    {
     "name": "stdout",
     "output_type": "stream",
     "text": [
      "\n",
      "Label_0: IoU Scores Train\n",
      "Class00: 0.1380 Class01: 0.1560 Class02: 0.1530 Class03: 0.1493 Class04: 0.1338 Class05: 0.1266 Class06: 0.1566 \n",
      "Class07: 0.1555 Class08: 0.1571 Class09: 0.1766 Class10: 0.1778 Class11: 0.1792 Class12: 0.1813 \n",
      "Label_1: IoU Scores Train\n",
      "Class00: 0.0705 Class01: 0.0738 Class02: 0.0739 Class03: 0.0723 Class04: 0.0579 Class05: 0.0516 Class06: 0.0588 \n",
      "Class07: 0.0568 Class08: 0.0572 Class09: 0.0642 Class10: 0.0661 Class11: 0.0702 Class12: 0.0716 \n",
      "Label_2: IoU Scores Train\n",
      "Class00: 0.0579 Class01: 0.0605 Class02: 0.0607 Class03: 0.0589 Class04: 0.0465 Class05: 0.0446 Class06: 0.0509 \n",
      "Class07: 0.0488 Class08: 0.0491 Class09: 0.0535 Class10: 0.0550 Class11: 0.0569 Class12: 0.0587 \n",
      "Label_3: IoU Scores Train\n",
      "Class00: 0.0518 Class01: 0.0541 Class02: 0.0540 Class03: 0.0519 Class04: 0.0414 Class05: 0.0407 Class06: 0.0462 \n",
      "Class07: 0.0443 Class08: 0.0450 Class09: 0.0489 Class10: 0.0498 Class11: 0.0509 Class12: 0.0526 \n",
      "Train seg Loss: 0.7671201388365116\n",
      "Train dom Loss: 71.4611480117816\n",
      "Train Loss: 1.0886952898100666\n",
      "Train mIoU: 0.08114354285403029\n"
     ]
    },
    {
     "name": "stderr",
     "output_type": "stream",
     "text": [
      "100%|██████████| 30/30 [00:45<00:00,  1.51s/it]\n"
     ]
    },
    {
     "name": "stdout",
     "output_type": "stream",
     "text": [
      "\n",
      "--IoU Scores Fish val--\n",
      "Class0: 0.2181 Class1: 0.1755 Class2: 0.2176 Class3: 0.2228 Class4: 0.1782 Class5: 0.2208 Class6: 0.2308 \n",
      "Class7: 0.1646 Class8: 0.1965 Class9: 0.2110 Class10: 0.1856 Class11: 0.1859 Class12: 0.1916 \n",
      "Epoch13\n",
      "Valid_Seg Loss: 2.048787021636963 Valid_dom Loss: 18.66614136695862\n",
      "Valid Loss: 2.1327846805254618\n",
      "Valid mIoU: 0.19991040641892777\n",
      "___________________________________________________________________________________________\n",
      "\n",
      "0.0045\n"
     ]
    },
    {
     "name": "stderr",
     "output_type": "stream",
     "text": [
      "Epoch: 14: 100%|██████████| 138/138 [05:46<00:00,  2.51s/it]\n"
     ]
    },
    {
     "name": "stdout",
     "output_type": "stream",
     "text": [
      "\n",
      "Label_0: IoU Scores Train\n",
      "Class00: 0.1811 Class01: 0.1940 Class02: 0.1920 Class03: 0.1886 Class04: 0.1957 Class05: 0.1895 Class06: 0.1938 \n",
      "Class07: 0.1910 Class08: 0.1904 Class09: 0.2076 Class10: 0.1990 Class11: 0.1976 Class12: 0.2066 \n",
      "Label_1: IoU Scores Train\n",
      "Class00: 0.0730 Class01: 0.0772 Class02: 0.0785 Class03: 0.0792 Class04: 0.0784 Class05: 0.0822 Class06: 0.0827 \n",
      "Class07: 0.0813 Class08: 0.0837 Class09: 0.0880 Class10: 0.0856 Class11: 0.0828 Class12: 0.0836 \n",
      "Label_2: IoU Scores Train\n",
      "Class00: 0.0593 Class01: 0.0621 Class02: 0.0637 Class03: 0.0636 Class04: 0.0634 Class05: 0.0660 Class06: 0.0667 \n",
      "Class07: 0.0666 Class08: 0.0686 Class09: 0.0719 Class10: 0.0704 Class11: 0.0685 Class12: 0.0694 \n",
      "Label_3: IoU Scores Train\n",
      "Class00: 0.0530 Class01: 0.0551 Class02: 0.0565 Class03: 0.0559 Class04: 0.0563 Class05: 0.0580 Class06: 0.0590 \n",
      "Class07: 0.0590 Class08: 0.0607 Class09: 0.0637 Class10: 0.0624 Class11: 0.0613 Class12: 0.0625 \n",
      "Train seg Loss: 0.6375492958594924\n",
      "Train dom Loss: 14.219042072603195\n",
      "Train Loss: 0.7015349816908871\n",
      "Train mIoU: 0.10012451660432822\n"
     ]
    },
    {
     "name": "stderr",
     "output_type": "stream",
     "text": [
      "100%|██████████| 30/30 [00:39<00:00,  1.33s/it]\n"
     ]
    },
    {
     "name": "stdout",
     "output_type": "stream",
     "text": [
      "\n",
      "--IoU Scores Fish val--\n",
      "Class0: 0.2184 Class1: 0.1667 Class2: 0.1967 Class3: 0.2089 Class4: 0.1726 Class5: 0.2032 Class6: 0.2171 \n",
      "Class7: 0.1639 Class8: 0.1970 Class9: 0.2024 Class10: 0.1849 Class11: 0.1782 Class12: 0.1867 \n",
      "Epoch14\n",
      "Valid_Seg Loss: 7.680805246035258 Valid_dom Loss: 934.9876668294271\n",
      "Valid Loss: 11.88824956814448\n",
      "Valid mIoU: 0.19204132931777404\n",
      "___________________________________________________________________________________________\n",
      "\n",
      "0.0045\n"
     ]
    },
    {
     "name": "stderr",
     "output_type": "stream",
     "text": [
      "Epoch: 15: 100%|██████████| 138/138 [05:48<00:00,  2.52s/it]\n"
     ]
    },
    {
     "name": "stdout",
     "output_type": "stream",
     "text": [
      "\n",
      "Label_0: IoU Scores Train\n",
      "Class00: 0.1934 Class01: 0.2186 Class02: 0.2090 Class03: 0.2078 Class04: 0.2180 Class05: 0.2178 Class06: 0.2257 \n",
      "Class07: 0.2145 Class08: 0.2176 Class09: 0.2331 Class10: 0.2276 Class11: 0.2201 Class12: 0.2255 \n",
      "Label_1: IoU Scores Train\n",
      "Class00: 0.0836 Class01: 0.0909 Class02: 0.0875 Class03: 0.0864 Class04: 0.0892 Class05: 0.0894 Class06: 0.0934 \n",
      "Class07: 0.0882 Class08: 0.0913 Class09: 0.0955 Class10: 0.0938 Class11: 0.0908 Class12: 0.0917 \n",
      "Label_2: IoU Scores Train\n",
      "Class00: 0.0692 Class01: 0.0752 Class02: 0.0723 Class03: 0.0721 Class04: 0.0746 Class05: 0.0747 Class06: 0.0787 \n",
      "Class07: 0.0738 Class08: 0.0771 Class09: 0.0798 Class10: 0.0788 Class11: 0.0768 Class12: 0.0777 \n",
      "Label_3: IoU Scores Train\n",
      "Class00: 0.0621 Class01: 0.0670 Class02: 0.0647 Class03: 0.0647 Class04: 0.0676 Class05: 0.0672 Class06: 0.0710 \n",
      "Class07: 0.0666 Class08: 0.0698 Class09: 0.0718 Class10: 0.0709 Class11: 0.0693 Class12: 0.0701 \n",
      "Train seg Loss: 0.541754687771849\n",
      "Train dom Loss: 15.271113683173045\n",
      "Train Loss: 0.610474696031947\n",
      "Train mIoU: 0.11277527238519647\n"
     ]
    },
    {
     "name": "stderr",
     "output_type": "stream",
     "text": [
      "100%|██████████| 30/30 [00:37<00:00,  1.26s/it]\n"
     ]
    },
    {
     "name": "stdout",
     "output_type": "stream",
     "text": [
      "\n",
      "--IoU Scores Fish val--\n",
      "Class0: 0.2627 Class1: 0.2008 Class2: 0.2429 Class3: 0.2633 Class4: 0.2114 Class5: 0.2458 Class6: 0.2534 \n",
      "Class7: 0.1997 Class8: 0.2391 Class9: 0.2369 Class10: 0.2173 Class11: 0.2189 Class12: 0.2240 \n",
      "Epoch15\n",
      "Valid_Seg Loss: 0.453447092572848 Valid_dom Loss: 383.46323547363284\n",
      "Valid Loss: 2.179031578699748\n",
      "Valid mIoU: 0.2320225438774562\n",
      "___________________________________________________________________________________________\n",
      "\n",
      "0.0045\n"
     ]
    },
    {
     "name": "stderr",
     "output_type": "stream",
     "text": [
      "Epoch: 16: 100%|██████████| 138/138 [05:50<00:00,  2.54s/it]\n"
     ]
    },
    {
     "name": "stdout",
     "output_type": "stream",
     "text": [
      "\n",
      "Label_0: IoU Scores Train\n",
      "Class00: 0.2283 Class01: 0.2448 Class02: 0.2290 Class03: 0.2322 Class04: 0.2367 Class05: 0.2034 Class06: 0.1981 \n",
      "Class07: 0.2108 Class08: 0.2154 Class09: 0.2386 Class10: 0.2369 Class11: 0.2425 Class12: 0.2451 \n",
      "Label_1: IoU Scores Train\n",
      "Class00: 0.0912 Class01: 0.0978 Class02: 0.0937 Class03: 0.0944 Class04: 0.0946 Class05: 0.0913 Class06: 0.0925 \n",
      "Class07: 0.0877 Class08: 0.0914 Class09: 0.0978 Class10: 0.0971 Class11: 0.0970 Class12: 0.0948 \n",
      "Label_2: IoU Scores Train\n",
      "Class00: 0.0769 Class01: 0.0822 Class02: 0.0793 Class03: 0.0797 Class04: 0.0798 Class05: 0.0763 Class06: 0.0767 \n",
      "Class07: 0.0731 Class08: 0.0773 Class09: 0.0831 Class10: 0.0822 Class11: 0.0817 Class12: 0.0798 \n",
      "Label_3: IoU Scores Train\n",
      "Class00: 0.0694 Class01: 0.0743 Class02: 0.0716 Class03: 0.0720 Class04: 0.0723 Class05: 0.0685 Class06: 0.0689 \n",
      "Class07: 0.0668 Class08: 0.0691 Class09: 0.0748 Class10: 0.0739 Class11: 0.0748 Class12: 0.0717 \n",
      "Train seg Loss: 0.5971616165631491\n",
      "Train dom Loss: 87.95236251521234\n",
      "Train Loss: 0.9929472289277591\n",
      "Train mIoU: 0.11806597800282506\n"
     ]
    },
    {
     "name": "stderr",
     "output_type": "stream",
     "text": [
      "100%|██████████| 30/30 [00:36<00:00,  1.22s/it]\n"
     ]
    },
    {
     "name": "stdout",
     "output_type": "stream",
     "text": [
      "\n",
      "--IoU Scores Fish val--\n",
      "Class0: 0.2235 Class1: 0.1659 Class2: 0.2034 Class3: 0.2229 Class4: 0.1860 Class5: 0.2220 Class6: 0.2300 \n",
      "Class7: 0.1773 Class8: 0.2144 Class9: 0.2053 Class10: 0.1927 Class11: 0.1972 Class12: 0.2210 \n",
      "Epoch16\n",
      "Valid_Seg Loss: 1.1457378000020981 Valid_dom Loss: 307.7443557739258\n",
      "Valid Loss: 2.530587323506673\n",
      "Valid mIoU: 0.20474079166633427\n",
      "___________________________________________________________________________________________\n",
      "\n",
      "0.0045\n"
     ]
    },
    {
     "name": "stderr",
     "output_type": "stream",
     "text": [
      "Epoch: 17: 100%|██████████| 138/138 [05:46<00:00,  2.51s/it]\n"
     ]
    },
    {
     "name": "stdout",
     "output_type": "stream",
     "text": [
      "\n",
      "Label_0: IoU Scores Train\n",
      "Class00: 0.1833 Class01: 0.2332 Class02: 0.2466 Class03: 0.2471 Class04: 0.2481 Class05: 0.2257 Class06: 0.2562 \n",
      "Class07: 0.2505 Class08: 0.2506 Class09: 0.2451 Class10: 0.2582 Class11: 0.2575 Class12: 0.2700 \n",
      "Label_1: IoU Scores Train\n",
      "Class00: 0.0913 Class01: 0.0971 Class02: 0.0995 Class03: 0.1029 Class04: 0.0997 Class05: 0.0980 Class06: 0.1026 \n",
      "Class07: 0.1012 Class08: 0.0972 Class09: 0.1021 Class10: 0.1014 Class11: 0.1036 Class12: 0.1050 \n",
      "Label_2: IoU Scores Train\n",
      "Class00: 0.0774 Class01: 0.0827 Class02: 0.0830 Class03: 0.0847 Class04: 0.0841 Class05: 0.0823 Class06: 0.0871 \n",
      "Class07: 0.0853 Class08: 0.0828 Class09: 0.0852 Class10: 0.0860 Class11: 0.0870 Class12: 0.0888 \n",
      "Label_3: IoU Scores Train\n",
      "Class00: 0.0682 Class01: 0.0746 Class02: 0.0747 Class03: 0.0745 Class04: 0.0728 Class05: 0.0720 Class06: 0.0782 \n",
      "Class07: 0.0750 Class08: 0.0752 Class09: 0.0758 Class10: 0.0775 Class11: 0.0782 Class12: 0.0784 \n",
      "Train seg Loss: 0.5243954638802055\n",
      "Train dom Loss: 89.86396278246278\n",
      "Train Loss: 0.9287832789123058\n",
      "Train mIoU: 0.12586423386484297\n"
     ]
    },
    {
     "name": "stderr",
     "output_type": "stream",
     "text": [
      "100%|██████████| 30/30 [00:41<00:00,  1.39s/it]\n"
     ]
    },
    {
     "name": "stdout",
     "output_type": "stream",
     "text": [
      "\n",
      "--IoU Scores Fish val--\n",
      "Class0: 0.2509 Class1: 0.1985 Class2: 0.2449 Class3: 0.2536 Class4: 0.2036 Class5: 0.2353 Class6: 0.2547 \n",
      "Class7: 0.1775 Class8: 0.2386 Class9: 0.2338 Class10: 0.2173 Class11: 0.2128 Class12: 0.2319 \n",
      "Epoch17\n",
      "Valid_Seg Loss: 0.5635685493548711 Valid_dom Loss: 56.67799135843913\n",
      "Valid Loss: 0.8186195035775502\n",
      "Valid mIoU: 0.22718064355152778\n",
      "___________________________________________________________________________________________\n",
      "\n",
      "0.0045\n"
     ]
    },
    {
     "name": "stderr",
     "output_type": "stream",
     "text": [
      "Epoch: 18: 100%|██████████| 138/138 [05:49<00:00,  2.53s/it]\n"
     ]
    },
    {
     "name": "stdout",
     "output_type": "stream",
     "text": [
      "\n",
      "Label_0: IoU Scores Train\n",
      "Class00: 0.2595 Class01: 0.2791 Class02: 0.2581 Class03: 0.2636 Class04: 0.2773 Class05: 0.2839 Class06: 0.2728 \n",
      "Class07: 0.1576 Class08: 0.1813 Class09: 0.2204 Class10: 0.2347 Class11: 0.2424 Class12: 0.2286 \n",
      "Label_1: IoU Scores Train\n",
      "Class00: 0.1039 Class01: 0.1078 Class02: 0.1027 Class03: 0.1062 Class04: 0.1078 Class05: 0.1094 Class06: 0.1100 \n",
      "Class07: 0.0743 Class08: 0.0837 Class09: 0.0889 Class10: 0.0920 Class11: 0.0959 Class12: 0.0918 \n",
      "Label_2: IoU Scores Train\n",
      "Class00: 0.0885 Class01: 0.0920 Class02: 0.0868 Class03: 0.0901 Class04: 0.0917 Class05: 0.0904 Class06: 0.0921 \n",
      "Class07: 0.0662 Class08: 0.0712 Class09: 0.0740 Class10: 0.0763 Class11: 0.0801 Class12: 0.0773 \n",
      "Label_3: IoU Scores Train\n",
      "Class00: 0.0781 Class01: 0.0833 Class02: 0.0777 Class03: 0.0809 Class04: 0.0826 Class05: 0.0795 Class06: 0.0814 \n",
      "Class07: 0.0598 Class08: 0.0639 Class09: 0.0661 Class10: 0.0681 Class11: 0.0722 Class12: 0.0704 \n",
      "Train seg Loss: 0.5669646435889645\n",
      "Train dom Loss: 62.17592431334368\n",
      "Train Loss: 0.8467562903744587\n",
      "Train mIoU: 0.12451111795973319\n"
     ]
    },
    {
     "name": "stderr",
     "output_type": "stream",
     "text": [
      "100%|██████████| 30/30 [00:37<00:00,  1.24s/it]\n"
     ]
    },
    {
     "name": "stdout",
     "output_type": "stream",
     "text": [
      "\n",
      "--IoU Scores Fish val--\n",
      "Class0: 0.2732 Class1: 0.2065 Class2: 0.2515 Class3: 0.2730 Class4: 0.2252 Class5: 0.2626 Class6: 0.2818 \n",
      "Class7: 0.2190 Class8: 0.2569 Class9: 0.2468 Class10: 0.2436 Class11: 0.2337 Class12: 0.2438 \n",
      "Epoch18\n",
      "Valid_Seg Loss: 0.7479096452395121 Valid_dom Loss: 6.084626078539656e-08\n",
      "Valid Loss: 0.7479096452395121\n",
      "Valid mIoU: 0.24751726794082987\n",
      "___________________________________________________________________________________________\n",
      "\n",
      "0.0045\n"
     ]
    },
    {
     "name": "stderr",
     "output_type": "stream",
     "text": [
      "Epoch: 19: 100%|██████████| 138/138 [05:43<00:00,  2.49s/it]\n"
     ]
    },
    {
     "name": "stdout",
     "output_type": "stream",
     "text": [
      "\n",
      "Label_0: IoU Scores Train\n",
      "Class00: 0.2494 Class01: 0.2698 Class02: 0.2655 Class03: 0.2654 Class04: 0.2736 Class05: 0.2713 Class06: 0.2699 \n",
      "Class07: 0.2590 Class08: 0.2620 Class09: 0.2894 Class10: 0.2899 Class11: 0.2919 Class12: 0.2862 \n",
      "Label_1: IoU Scores Train\n",
      "Class00: 0.0961 Class01: 0.1038 Class02: 0.1045 Class03: 0.1058 Class04: 0.1087 Class05: 0.1090 Class06: 0.1108 \n",
      "Class07: 0.1061 Class08: 0.1061 Class09: 0.1105 Class10: 0.1103 Class11: 0.1124 Class12: 0.1137 \n",
      "Label_2: IoU Scores Train\n",
      "Class00: 0.0805 Class01: 0.0877 Class02: 0.0883 Class03: 0.0893 Class04: 0.0916 Class05: 0.0921 Class06: 0.0930 \n",
      "Class07: 0.0890 Class08: 0.0889 Class09: 0.0933 Class10: 0.0930 Class11: 0.0952 Class12: 0.0956 \n",
      "Label_3: IoU Scores Train\n",
      "Class00: 0.0727 Class01: 0.0795 Class02: 0.0798 Class03: 0.0809 Class04: 0.0827 Class05: 0.0824 Class06: 0.0826 \n",
      "Class07: 0.0796 Class08: 0.0798 Class09: 0.0841 Class10: 0.0840 Class11: 0.0858 Class12: 0.0857 \n",
      "Train seg Loss: 0.44669177928480547\n",
      "Train dom Loss: 29.51643585988292\n",
      "Train Loss: 0.5795157361721647\n",
      "Train mIoU: 0.1380409643715001\n"
     ]
    },
    {
     "name": "stderr",
     "output_type": "stream",
     "text": [
      "100%|██████████| 30/30 [00:41<00:00,  1.38s/it]\n"
     ]
    },
    {
     "name": "stdout",
     "output_type": "stream",
     "text": [
      "\n",
      "--IoU Scores Fish val--\n",
      "Class0: 0.2902 Class1: 0.2300 Class2: 0.2736 Class3: 0.2967 Class4: 0.2411 Class5: 0.2687 Class6: 0.3095 \n",
      "Class7: 0.2168 Class8: 0.2648 Class9: 0.2663 Class10: 0.2517 Class11: 0.2501 Class12: 0.2577 \n",
      "Epoch19\n",
      "Valid_Seg Loss: 0.694325041770935 Valid_dom Loss: 25.736212952931723\n",
      "Valid Loss: 0.8101379881302516\n",
      "Valid mIoU: 0.2628605708105742\n",
      "___________________________________________________________________________________________\n",
      "\n",
      "0.0045\n"
     ]
    },
    {
     "name": "stderr",
     "output_type": "stream",
     "text": [
      "Epoch: 20: 100%|██████████| 138/138 [05:40<00:00,  2.47s/it]\n"
     ]
    },
    {
     "name": "stdout",
     "output_type": "stream",
     "text": [
      "\n",
      "Label_0: IoU Scores Train\n",
      "Class00: 0.2580 Class01: 0.2842 Class02: 0.2885 Class03: 0.2911 Class04: 0.3040 Class05: 0.2862 Class06: 0.2810 \n",
      "Class07: 0.2713 Class08: 0.2730 Class09: 0.2969 Class10: 0.2958 Class11: 0.2516 Class12: 0.2743 \n",
      "Label_1: IoU Scores Train\n",
      "Class00: 0.1065 Class01: 0.1133 Class02: 0.1116 Class03: 0.1128 Class04: 0.1144 Class05: 0.1153 Class06: 0.1126 \n",
      "Class07: 0.1121 Class08: 0.1133 Class09: 0.1141 Class10: 0.1143 Class11: 0.1088 Class12: 0.1085 \n",
      "Label_2: IoU Scores Train\n",
      "Class00: 0.0900 Class01: 0.0945 Class02: 0.0937 Class03: 0.0957 Class04: 0.0967 Class05: 0.0968 Class06: 0.0959 \n",
      "Class07: 0.0943 Class08: 0.0957 Class09: 0.0956 Class10: 0.0961 Class11: 0.0916 Class12: 0.0905 \n",
      "Label_3: IoU Scores Train\n",
      "Class00: 0.0806 Class01: 0.0843 Class02: 0.0842 Class03: 0.0866 Class04: 0.0873 Class05: 0.0861 Class06: 0.0858 \n",
      "Class07: 0.0846 Class08: 0.0868 Class09: 0.0857 Class10: 0.0863 Class11: 0.0817 Class12: 0.0813 \n",
      "Train seg Loss: 0.43637500600754353\n",
      "Train dom Loss: 33.30706771465556\n",
      "Train Loss: 0.5862568049165218\n",
      "Train mIoU: 0.14311730190658095\n"
     ]
    },
    {
     "name": "stderr",
     "output_type": "stream",
     "text": [
      "100%|██████████| 30/30 [00:39<00:00,  1.30s/it]\n"
     ]
    },
    {
     "name": "stdout",
     "output_type": "stream",
     "text": [
      "\n",
      "--IoU Scores Fish val--\n",
      "Class0: 0.3246 Class1: 0.2485 Class2: 0.3113 Class3: 0.3356 Class4: 0.2746 Class5: 0.3148 Class6: 0.3407 \n",
      "Class7: 0.2556 Class8: 0.3039 Class9: 0.3021 Class10: 0.2904 Class11: 0.2819 Class12: 0.3019 \n",
      "Epoch20\n",
      "Valid_Seg Loss: 0.2542108411590258 Valid_dom Loss: 0.4760765858304997\n",
      "Valid Loss: 0.2563531850775083\n",
      "Valid mIoU: 0.2989082047240657\n",
      "___________________________________________________________________________________________\n",
      "\n",
      "0.0045\n"
     ]
    },
    {
     "name": "stderr",
     "output_type": "stream",
     "text": [
      "Epoch: 21: 100%|██████████| 138/138 [05:38<00:00,  2.45s/it]\n"
     ]
    },
    {
     "name": "stdout",
     "output_type": "stream",
     "text": [
      "\n",
      "Label_0: IoU Scores Train\n",
      "Class00: 0.2899 Class01: 0.3022 Class02: 0.3023 Class03: 0.3078 Class04: 0.3104 Class05: 0.3087 Class06: 0.3227 \n",
      "Class07: 0.3107 Class08: 0.3191 Class09: 0.3325 Class10: 0.2411 Class11: 0.0757 Class12: 0.1573 \n",
      "Label_1: IoU Scores Train\n",
      "Class00: 0.1092 Class01: 0.1164 Class02: 0.1132 Class03: 0.1136 Class04: 0.1140 Class05: 0.1154 Class06: 0.1182 \n",
      "Class07: 0.1146 Class08: 0.1163 Class09: 0.1209 Class10: 0.0935 Class11: 0.0505 Class12: 0.0748 \n",
      "Label_2: IoU Scores Train\n",
      "Class00: 0.0919 Class01: 0.0974 Class02: 0.0943 Class03: 0.0952 Class04: 0.0954 Class05: 0.0961 Class06: 0.0988 \n",
      "Class07: 0.0961 Class08: 0.0973 Class09: 0.1011 Class10: 0.0782 Class11: 0.0463 Class12: 0.0630 \n",
      "Label_3: IoU Scores Train\n",
      "Class00: 0.0829 Class01: 0.0876 Class02: 0.0844 Class03: 0.0854 Class04: 0.0856 Class05: 0.0862 Class06: 0.0889 \n",
      "Class07: 0.0863 Class08: 0.0874 Class09: 0.0910 Class10: 0.0691 Class11: 0.0416 Class12: 0.0562 \n",
      "Train seg Loss: 0.7042588602643514\n",
      "Train dom Loss: 244.4675974793592\n",
      "Train Loss: 1.80436299673781\n",
      "Train mIoU: 0.13720366900725361\n"
     ]
    },
    {
     "name": "stderr",
     "output_type": "stream",
     "text": [
      "100%|██████████| 30/30 [00:41<00:00,  1.38s/it]\n"
     ]
    },
    {
     "name": "stdout",
     "output_type": "stream",
     "text": [
      "\n",
      "--IoU Scores Fish val--\n",
      "Class0: 0.2548 Class1: 0.2065 Class2: 0.2468 Class3: 0.2497 Class4: 0.2089 Class5: 0.2479 Class6: 0.2545 \n",
      "Class7: 0.1990 Class8: 0.2432 Class9: 0.2380 Class10: 0.2170 Class11: 0.2166 Class12: 0.2279 \n",
      "Epoch21\n",
      "Valid_Seg Loss: 0.4811986446380615 Valid_dom Loss: 146.0064270019531\n",
      "Valid Loss: 1.1382275303204854\n",
      "Valid mIoU: 0.23159246095417624\n",
      "___________________________________________________________________________________________\n",
      "\n",
      "0.0045\n"
     ]
    },
    {
     "name": "stderr",
     "output_type": "stream",
     "text": [
      "Epoch: 22: 100%|██████████| 138/138 [05:40<00:00,  2.47s/it]\n"
     ]
    },
    {
     "name": "stdout",
     "output_type": "stream",
     "text": [
      "\n",
      "Label_0: IoU Scores Train\n",
      "Class00: 0.1658 Class01: 0.1791 Class02: 0.1870 Class03: 0.1816 Class04: 0.2053 Class05: 0.2109 Class06: 0.2261 \n",
      "Class07: 0.2261 Class08: 0.2358 Class09: 0.2587 Class10: 0.2409 Class11: 0.2524 Class12: 0.2464 \n",
      "Label_1: IoU Scores Train\n",
      "Class00: 0.0820 Class01: 0.0861 Class02: 0.0847 Class03: 0.0873 Class04: 0.0901 Class05: 0.0892 Class06: 0.0931 \n",
      "Class07: 0.0915 Class08: 0.0939 Class09: 0.0964 Class10: 0.0931 Class11: 0.0988 Class12: 0.1037 \n",
      "Label_2: IoU Scores Train\n",
      "Class00: 0.0667 Class01: 0.0706 Class02: 0.0720 Class03: 0.0731 Class04: 0.0756 Class05: 0.0752 Class06: 0.0777 \n",
      "Class07: 0.0772 Class08: 0.0790 Class09: 0.0809 Class10: 0.0777 Class11: 0.0833 Class12: 0.0867 \n",
      "Label_3: IoU Scores Train\n",
      "Class00: 0.0597 Class01: 0.0629 Class02: 0.0649 Class03: 0.0655 Class04: 0.0684 Class05: 0.0679 Class06: 0.0701 \n",
      "Class07: 0.0688 Class08: 0.0704 Class09: 0.0705 Class10: 0.0689 Class11: 0.0746 Class12: 0.0778 \n",
      "Train seg Loss: 0.777774572858344\n",
      "Train dom Loss: 103.77013146283402\n",
      "Train Loss: 1.2447401433643224\n",
      "Train mIoU: 0.11330914145896563\n"
     ]
    },
    {
     "name": "stderr",
     "output_type": "stream",
     "text": [
      "100%|██████████| 30/30 [00:39<00:00,  1.33s/it]\n"
     ]
    },
    {
     "name": "stdout",
     "output_type": "stream",
     "text": [
      "\n",
      "--IoU Scores Fish val--\n",
      "Class0: 0.2811 Class1: 0.2302 Class2: 0.2813 Class3: 0.2916 Class4: 0.2355 Class5: 0.2800 Class6: 0.2985 \n",
      "Class7: 0.2264 Class8: 0.2800 Class9: 0.2714 Class10: 0.2502 Class11: 0.2500 Class12: 0.2662 \n",
      "Epoch22\n",
      "Valid_Seg Loss: 0.7527090082565944 Valid_dom Loss: 67.76403439839682\n",
      "Valid Loss: 1.0576471447944642\n",
      "Valid mIoU: 0.26479053871385455\n",
      "___________________________________________________________________________________________\n",
      "\n",
      "0.0045\n"
     ]
    },
    {
     "name": "stderr",
     "output_type": "stream",
     "text": [
      "Epoch: 23: 100%|██████████| 138/138 [05:37<00:00,  2.45s/it]\n"
     ]
    },
    {
     "name": "stdout",
     "output_type": "stream",
     "text": [
      "\n",
      "Label_0: IoU Scores Train\n",
      "Class00: 0.2437 Class01: 0.2606 Class02: 0.2649 Class03: 0.2721 Class04: 0.2730 Class05: 0.2796 Class06: 0.2888 \n",
      "Class07: 0.2649 Class08: 0.2625 Class09: 0.2886 Class10: 0.2857 Class11: 0.2749 Class12: 0.2535 \n",
      "Label_1: IoU Scores Train\n",
      "Class00: 0.1030 Class01: 0.1090 Class02: 0.1074 Class03: 0.1095 Class04: 0.1098 Class05: 0.1086 Class06: 0.1142 \n",
      "Class07: 0.1119 Class08: 0.1083 Class09: 0.1139 Class10: 0.1119 Class11: 0.1113 Class12: 0.1059 \n",
      "Label_2: IoU Scores Train\n",
      "Class00: 0.0858 Class01: 0.0909 Class02: 0.0904 Class03: 0.0914 Class04: 0.0924 Class05: 0.0908 Class06: 0.0950 \n",
      "Class07: 0.0914 Class08: 0.0909 Class09: 0.0953 Class10: 0.0935 Class11: 0.0928 Class12: 0.0882 \n",
      "Label_3: IoU Scores Train\n",
      "Class00: 0.0770 Class01: 0.0822 Class02: 0.0809 Class03: 0.0818 Class04: 0.0828 Class05: 0.0813 Class06: 0.0852 \n",
      "Class07: 0.0819 Class08: 0.0819 Class09: 0.0854 Class10: 0.0838 Class11: 0.0829 Class12: 0.0797 \n",
      "Train seg Loss: 0.4913431382805541\n",
      "Train dom Loss: 59.03308826052865\n",
      "Train Loss: 0.7569920236541741\n",
      "Train mIoU: 0.13832988746755098\n"
     ]
    },
    {
     "name": "stderr",
     "output_type": "stream",
     "text": [
      "100%|██████████| 30/30 [00:47<00:00,  1.60s/it]\n"
     ]
    },
    {
     "name": "stdout",
     "output_type": "stream",
     "text": [
      "\n",
      "--IoU Scores Fish val--\n",
      "Class0: 0.2707 Class1: 0.2249 Class2: 0.2675 Class3: 0.2712 Class4: 0.2069 Class5: 0.2591 Class6: 0.2794 \n",
      "Class7: 0.2142 Class8: 0.2450 Class9: 0.2665 Class10: 0.2417 Class11: 0.2442 Class12: 0.2745 \n",
      "Epoch23\n",
      "Valid_Seg Loss: 3.472294170657794 Valid_dom Loss: 93.57605895996093\n",
      "Valid Loss: 3.893386423587799\n",
      "Valid mIoU: 0.2512227641897767\n",
      "___________________________________________________________________________________________\n",
      "\n",
      "0.0045\n"
     ]
    },
    {
     "name": "stderr",
     "output_type": "stream",
     "text": [
      "Epoch: 24: 100%|██████████| 138/138 [05:39<00:00,  2.46s/it]\n"
     ]
    },
    {
     "name": "stdout",
     "output_type": "stream",
     "text": [
      "\n",
      "Label_0: IoU Scores Train\n",
      "Class00: 0.2603 Class01: 0.2973 Class02: 0.2826 Class03: 0.2849 Class04: 0.2918 Class05: 0.2095 Class06: 0.2005 \n",
      "Class07: 0.2505 Class08: 0.2625 Class09: 0.2770 Class10: 0.2588 Class11: 0.2691 Class12: 0.2642 \n",
      "Label_1: IoU Scores Train\n",
      "Class00: 0.1056 Class01: 0.1125 Class02: 0.1105 Class03: 0.1099 Class04: 0.1114 Class05: 0.0946 Class06: 0.1004 \n",
      "Class07: 0.1077 Class08: 0.1084 Class09: 0.1090 Class10: 0.1081 Class11: 0.1062 Class12: 0.1104 \n",
      "Label_2: IoU Scores Train\n",
      "Class00: 0.0874 Class01: 0.0937 Class02: 0.0917 Class03: 0.0917 Class04: 0.0937 Class05: 0.0796 Class06: 0.0832 \n",
      "Class07: 0.0908 Class08: 0.0914 Class09: 0.0917 Class10: 0.0907 Class11: 0.0889 Class12: 0.0933 \n",
      "Label_3: IoU Scores Train\n",
      "Class00: 0.0786 Class01: 0.0839 Class02: 0.0820 Class03: 0.0821 Class04: 0.0843 Class05: 0.0712 Class06: 0.0742 \n",
      "Class07: 0.0816 Class08: 0.0822 Class09: 0.0824 Class10: 0.0814 Class11: 0.0798 Class12: 0.0840 \n",
      "Train seg Loss: 0.5667126373374376\n",
      "Train dom Loss: 74.2789297101223\n",
      "Train Loss: 0.9009678070096002\n",
      "Train mIoU: 0.13497842002486402\n"
     ]
    },
    {
     "name": "stderr",
     "output_type": "stream",
     "text": [
      "100%|██████████| 30/30 [00:45<00:00,  1.53s/it]\n"
     ]
    },
    {
     "name": "stdout",
     "output_type": "stream",
     "text": [
      "\n",
      "--IoU Scores Fish val--\n",
      "Class0: 0.3304 Class1: 0.2620 Class2: 0.3172 Class3: 0.3384 Class4: 0.2802 Class5: 0.3215 Class6: 0.3472 \n",
      "Class7: 0.2652 Class8: 0.3118 Class9: 0.3146 Class10: 0.2948 Class11: 0.2922 Class12: 0.3152 \n",
      "Epoch24\n",
      "Valid_Seg Loss: 0.24672284424304963 Valid_dom Loss: 12.892534859975179\n",
      "Valid Loss: 0.304739248752594\n",
      "Valid mIoU: 0.3069708597523872\n",
      "___________________________________________________________________________________________\n",
      "\n",
      "0.0045\n"
     ]
    },
    {
     "name": "stderr",
     "output_type": "stream",
     "text": [
      "Epoch: 25: 100%|██████████| 138/138 [05:39<00:00,  2.46s/it]\n"
     ]
    },
    {
     "name": "stdout",
     "output_type": "stream",
     "text": [
      "\n",
      "Label_0: IoU Scores Train\n",
      "Class00: 0.2907 Class01: 0.3049 Class02: 0.2986 Class03: 0.2628 Class04: 0.0677 Class05: 0.0447 Class06: 0.0298 \n",
      "Class07: 0.0281 Class08: 0.0312 Class09: 0.0292 Class10: 0.0225 Class11: 0.0155 Class12: 0.0159 \n",
      "Label_1: IoU Scores Train\n",
      "Class00: 0.1117 Class01: 0.1167 Class02: 0.1142 Class03: 0.1008 Class04: 0.0413 Class05: 0.0415 Class06: 0.0378 \n",
      "Class07: 0.0330 Class08: 0.0373 Class09: 0.0363 Class10: 0.0264 Class11: 0.0255 Class12: 0.0230 \n",
      "Label_2: IoU Scores Train\n",
      "Class00: 0.0937 Class01: 0.0977 Class02: 0.0955 Class03: 0.0832 Class04: 0.0406 Class05: 0.0372 Class06: 0.0392 \n",
      "Class07: 0.0337 Class08: 0.0381 Class09: 0.0339 Class10: 0.0260 Class11: 0.0249 Class12: 0.0268 \n",
      "Label_3: IoU Scores Train\n",
      "Class00: 0.0841 Class01: 0.0875 Class02: 0.0854 Class03: 0.0738 Class04: 0.0359 Class05: 0.0382 Class06: 0.0330 \n",
      "Class07: 0.0291 Class08: 0.0362 Class09: 0.0319 Class10: 0.0241 Class11: 0.0201 Class12: 0.0205 \n",
      "Train seg Loss: 5.0899331402573464\n",
      "Train dom Loss: 52733.28935580393\n",
      "Train Loss: 242.3897244029719\n",
      "Train mIoU: 0.06648557806985274\n"
     ]
    },
    {
     "name": "stderr",
     "output_type": "stream",
     "text": [
      "100%|██████████| 30/30 [00:42<00:00,  1.42s/it]\n"
     ]
    },
    {
     "name": "stdout",
     "output_type": "stream",
     "text": [
      "\n",
      "--IoU Scores Fish val--\n",
      "Class0: 0.0846 Class1: 0.0562 Class2: 0.0563 Class3: 0.0811 Class4: 0.0608 Class5: 0.0557 Class6: 0.0796 \n",
      "Class7: 0.0612 Class8: 0.0593 Class9: 0.0794 Class10: 0.0580 Class11: 0.0559 Class12: 0.0581 \n",
      "Epoch25\n",
      "Valid_Seg Loss: 1.0291627009709676 Valid_dom Loss: 19845.708658854168\n",
      "Valid Loss: 90.33484776814778\n",
      "Valid mIoU: 0.06509575095179239\n",
      "___________________________________________________________________________________________\n",
      "\n",
      "0.0045\n"
     ]
    },
    {
     "name": "stderr",
     "output_type": "stream",
     "text": [
      "Epoch: 26: 100%|██████████| 138/138 [05:42<00:00,  2.48s/it]\n"
     ]
    },
    {
     "name": "stdout",
     "output_type": "stream",
     "text": [
      "\n",
      "Label_0: IoU Scores Train\n",
      "Class00: 0.0208 Class01: 0.0250 Class02: 0.0293 Class03: 0.0320 Class04: 0.0423 Class05: 0.0471 Class06: 0.0568 \n",
      "Class07: 0.0761 Class08: 0.0681 Class09: 0.0879 Class10: 0.0914 Class11: 0.0768 Class12: 0.0768 \n",
      "Label_1: IoU Scores Train\n",
      "Class00: 0.0287 Class01: 0.0300 Class02: 0.0328 Class03: 0.0368 Class04: 0.0492 Class05: 0.0479 Class06: 0.0532 \n",
      "Class07: 0.0566 Class08: 0.0568 Class09: 0.0596 Class10: 0.0596 Class11: 0.0549 Class12: 0.0585 \n",
      "Label_2: IoU Scores Train\n",
      "Class00: 0.0322 Class01: 0.0339 Class02: 0.0355 Class03: 0.0375 Class04: 0.0460 Class05: 0.0445 Class06: 0.0483 \n",
      "Class07: 0.0513 Class08: 0.0517 Class09: 0.0533 Class10: 0.0532 Class11: 0.0521 Class12: 0.0513 \n",
      "Label_3: IoU Scores Train\n",
      "Class00: 0.0284 Class01: 0.0308 Class02: 0.0333 Class03: 0.0352 Class04: 0.0400 Class05: 0.0366 Class06: 0.0405 \n",
      "Class07: 0.0447 Class08: 0.0433 Class09: 0.0478 Class10: 0.0466 Class11: 0.0467 Class12: 0.0439 \n",
      "Train seg Loss: 2.628984124656173\n",
      "Train dom Loss: 10356.07049785144\n",
      "Train Loss: 49.23129925725684\n",
      "Train mIoU: 0.047372535387210125\n"
     ]
    },
    {
     "name": "stderr",
     "output_type": "stream",
     "text": [
      "100%|██████████| 30/30 [00:45<00:00,  1.51s/it]\n"
     ]
    },
    {
     "name": "stdout",
     "output_type": "stream",
     "text": [
      "\n",
      "--IoU Scores Fish val--\n",
      "Class0: 0.1864 Class1: 0.1522 Class2: 0.1802 Class3: 0.1841 Class4: 0.1466 Class5: 0.1828 Class6: 0.1903 \n",
      "Class7: 0.1459 Class8: 0.1723 Class9: 0.1819 Class10: 0.1552 Class11: 0.1557 Class12: 0.1746 \n",
      "Epoch26\n",
      "Valid_Seg Loss: 0.9911312222480774 Valid_dom Loss: 58369.85729166667\n",
      "Valid Loss: 263.65547637939454\n",
      "Valid mIoU: 0.16986918620302616\n",
      "___________________________________________________________________________________________\n",
      "\n",
      "0.0045\n"
     ]
    },
    {
     "name": "stderr",
     "output_type": "stream",
     "text": [
      "Epoch: 27: 100%|██████████| 138/138 [05:42<00:00,  2.48s/it]\n"
     ]
    },
    {
     "name": "stdout",
     "output_type": "stream",
     "text": [
      "\n",
      "Label_0: IoU Scores Train\n",
      "Class00: 0.0873 Class01: 0.1034 Class02: 0.1027 Class03: 0.1071 Class04: 0.1206 Class05: 0.1161 Class06: 0.1155 \n",
      "Class07: 0.1198 Class08: 0.1276 Class09: 0.1377 Class10: 0.1253 Class11: 0.1209 Class12: 0.1175 \n",
      "Label_1: IoU Scores Train\n",
      "Class00: 0.0572 Class01: 0.0573 Class02: 0.0546 Class03: 0.0584 Class04: 0.0605 Class05: 0.0595 Class06: 0.0601 \n",
      "Class07: 0.0580 Class08: 0.0582 Class09: 0.0638 Class10: 0.0662 Class11: 0.0687 Class12: 0.0668 \n",
      "Label_2: IoU Scores Train\n",
      "Class00: 0.0505 Class01: 0.0503 Class02: 0.0474 Class03: 0.0494 Class04: 0.0522 Class05: 0.0521 Class06: 0.0513 \n",
      "Class07: 0.0496 Class08: 0.0500 Class09: 0.0555 Class10: 0.0579 Class11: 0.0597 Class12: 0.0602 \n",
      "Label_3: IoU Scores Train\n",
      "Class00: 0.0444 Class01: 0.0460 Class02: 0.0444 Class03: 0.0442 Class04: 0.0477 Class05: 0.0473 Class06: 0.0467 \n",
      "Class07: 0.0444 Class08: 0.0450 Class09: 0.0488 Class10: 0.0509 Class11: 0.0521 Class12: 0.0504 \n",
      "Train seg Loss: 1.4793814340795295\n",
      "Train dom Loss: 2714.2658691926713\n",
      "Train Loss: 13.693577349293923\n",
      "Train mIoU: 0.0690194528081222\n"
     ]
    },
    {
     "name": "stderr",
     "output_type": "stream",
     "text": [
      "100%|██████████| 30/30 [00:42<00:00,  1.42s/it]\n"
     ]
    },
    {
     "name": "stdout",
     "output_type": "stream",
     "text": [
      "\n",
      "--IoU Scores Fish val--\n",
      "Class0: 0.2213 Class1: 0.1723 Class2: 0.2099 Class3: 0.2231 Class4: 0.1814 Class5: 0.2148 Class6: 0.2224 \n",
      "Class7: 0.1764 Class8: 0.2077 Class9: 0.2120 Class10: 0.1874 Class11: 0.1935 Class12: 0.2023 \n",
      "Epoch27\n",
      "Valid_Seg Loss: 0.7259858210881551 Valid_dom Loss: 3114.662003580729\n",
      "Valid Loss: 14.741964213053386\n",
      "Valid mIoU: 0.20188197377518177\n",
      "___________________________________________________________________________________________\n",
      "\n",
      "0.0045\n"
     ]
    },
    {
     "name": "stderr",
     "output_type": "stream",
     "text": [
      "Epoch: 28: 100%|██████████| 138/138 [05:45<00:00,  2.50s/it]\n"
     ]
    },
    {
     "name": "stdout",
     "output_type": "stream",
     "text": [
      "\n",
      "Label_0: IoU Scores Train\n",
      "Class00: 0.1226 Class01: 0.1269 Class02: 0.1222 Class03: 0.1239 Class04: 0.1327 Class05: 0.1372 Class06: 0.1481 \n",
      "Class07: 0.1484 Class08: 0.1484 Class09: 0.1468 Class10: 0.1346 Class11: 0.1302 Class12: 0.1338 \n",
      "Label_1: IoU Scores Train\n",
      "Class00: 0.0650 Class01: 0.0662 Class02: 0.0650 Class03: 0.0631 Class04: 0.0678 Class05: 0.0665 Class06: 0.0704 \n",
      "Class07: 0.0709 Class08: 0.0700 Class09: 0.0728 Class10: 0.0665 Class11: 0.0710 Class12: 0.0638 \n",
      "Label_2: IoU Scores Train\n",
      "Class00: 0.0562 Class01: 0.0585 Class02: 0.0567 Class03: 0.0571 Class04: 0.0594 Class05: 0.0583 Class06: 0.0609 \n",
      "Class07: 0.0605 Class08: 0.0602 Class09: 0.0618 Class10: 0.0567 Class11: 0.0607 Class12: 0.0550 \n",
      "Label_3: IoU Scores Train\n",
      "Class00: 0.0502 Class01: 0.0528 Class02: 0.0516 Class03: 0.0509 Class04: 0.0544 Class05: 0.0540 Class06: 0.0554 \n",
      "Class07: 0.0550 Class08: 0.0543 Class09: 0.0558 Class10: 0.0505 Class11: 0.0553 Class12: 0.0499 \n",
      "Train seg Loss: 1.2854697305871092\n",
      "Train dom Loss: 1519.9788194685198\n",
      "Train Loss: 8.125374144726042\n",
      "Train mIoU: 0.07859587518747584\n"
     ]
    },
    {
     "name": "stderr",
     "output_type": "stream",
     "text": [
      "100%|██████████| 30/30 [00:37<00:00,  1.26s/it]\n"
     ]
    },
    {
     "name": "stdout",
     "output_type": "stream",
     "text": [
      "\n",
      "--IoU Scores Fish val--\n",
      "Class0: 0.1905 Class1: 0.1529 Class2: 0.1921 Class3: 0.1898 Class4: 0.1557 Class5: 0.1989 Class6: 0.1968 \n",
      "Class7: 0.1515 Class8: 0.1884 Class9: 0.1889 Class10: 0.1544 Class11: 0.1716 Class12: 0.1885 \n",
      "Epoch28\n",
      "Valid_Seg Loss: 0.48806257943312326 Valid_dom Loss: 107.05866266886393\n",
      "Valid Loss: 0.9698265373706818\n",
      "Valid mIoU: 0.1784617434147947\n",
      "___________________________________________________________________________________________\n",
      "\n",
      "0.0045\n"
     ]
    },
    {
     "name": "stderr",
     "output_type": "stream",
     "text": [
      "Epoch: 29: 100%|██████████| 138/138 [05:44<00:00,  2.49s/it]\n"
     ]
    },
    {
     "name": "stdout",
     "output_type": "stream",
     "text": [
      "\n",
      "Label_0: IoU Scores Train\n",
      "Class00: 0.1365 Class01: 0.1638 Class02: 0.1644 Class03: 0.1631 Class04: 0.1574 Class05: 0.1537 Class06: 0.1548 \n",
      "Class07: 0.1531 Class08: 0.1265 Class09: 0.1368 Class10: 0.1345 Class11: 0.1336 Class12: 0.1407 \n",
      "Label_1: IoU Scores Train\n",
      "Class00: 0.0648 Class01: 0.0703 Class02: 0.0778 Class03: 0.0766 Class04: 0.0733 Class05: 0.0691 Class06: 0.0720 \n",
      "Class07: 0.0706 Class08: 0.0602 Class09: 0.0654 Class10: 0.0638 Class11: 0.0639 Class12: 0.0659 \n",
      "Label_2: IoU Scores Train\n",
      "Class00: 0.0556 Class01: 0.0602 Class02: 0.0666 Class03: 0.0652 Class04: 0.0617 Class05: 0.0589 Class06: 0.0603 \n",
      "Class07: 0.0593 Class08: 0.0526 Class09: 0.0555 Class10: 0.0551 Class11: 0.0545 Class12: 0.0569 \n",
      "Label_3: IoU Scores Train\n",
      "Class00: 0.0508 Class01: 0.0553 Class02: 0.0607 Class03: 0.0589 Class04: 0.0553 Class05: 0.0529 Class06: 0.0540 \n",
      "Class07: 0.0535 Class08: 0.0486 Class09: 0.0498 Class10: 0.0500 Class11: 0.0487 Class12: 0.0522 \n",
      "Train seg Loss: 1.0058636106010796\n",
      "Train dom Loss: 5430.806670282198\n",
      "Train Loss: 25.444492592759755\n",
      "Train mIoU: 0.08203582782755106\n"
     ]
    },
    {
     "name": "stderr",
     "output_type": "stream",
     "text": [
      "100%|██████████| 30/30 [00:39<00:00,  1.33s/it]\n"
     ]
    },
    {
     "name": "stdout",
     "output_type": "stream",
     "text": [
      "\n",
      "--IoU Scores Fish val--\n",
      "Class0: 0.1433 Class1: 0.1094 Class2: 0.1222 Class3: 0.1467 Class4: 0.1130 Class5: 0.1339 Class6: 0.1518 \n",
      "Class7: 0.1167 Class8: 0.1221 Class9: 0.1513 Class10: 0.1204 Class11: 0.1256 Class12: 0.1197 \n",
      "Epoch29\n",
      "Valid_Seg Loss: 3.8528379678726195 Valid_dom Loss: 976.2327870686848\n",
      "Valid Loss: 8.24588524500529\n",
      "Valid mIoU: 0.12894124672001073\n",
      "___________________________________________________________________________________________\n",
      "\n",
      "0.0045\n"
     ]
    },
    {
     "name": "stderr",
     "output_type": "stream",
     "text": [
      "Epoch: 30: 100%|██████████| 138/138 [05:44<00:00,  2.50s/it]\n"
     ]
    },
    {
     "name": "stdout",
     "output_type": "stream",
     "text": [
      "\n",
      "Label_0: IoU Scores Train\n",
      "Class00: 0.1232 Class01: 0.1306 Class02: 0.1400 Class03: 0.1237 Class04: 0.1274 Class05: 0.1221 Class06: 0.1181 \n",
      "Class07: 0.1287 Class08: 0.1282 Class09: 0.1415 Class10: 0.1383 Class11: 0.1433 Class12: 0.1562 \n",
      "Label_1: IoU Scores Train\n",
      "Class00: 0.0592 Class01: 0.0579 Class02: 0.0625 Class03: 0.0662 Class04: 0.0639 Class05: 0.0570 Class06: 0.0592 \n",
      "Class07: 0.0613 Class08: 0.0633 Class09: 0.0635 Class10: 0.0647 Class11: 0.0655 Class12: 0.0675 \n",
      "Label_2: IoU Scores Train\n",
      "Class00: 0.0508 Class01: 0.0499 Class02: 0.0544 Class03: 0.0561 Class04: 0.0585 Class05: 0.0494 Class06: 0.0522 \n",
      "Class07: 0.0514 Class08: 0.0526 Class09: 0.0549 Class10: 0.0562 Class11: 0.0562 Class12: 0.0566 \n",
      "Label_3: IoU Scores Train\n",
      "Class00: 0.0477 Class01: 0.0448 Class02: 0.0494 Class03: 0.0511 Class04: 0.0536 Class05: 0.0460 Class06: 0.0481 \n",
      "Class07: 0.0472 Class08: 0.0478 Class09: 0.0499 Class10: 0.0497 Class11: 0.0505 Class12: 0.0517 \n",
      "Train seg Loss: 1.261343942442234\n",
      "Train dom Loss: 3514.9095450484233\n",
      "Train Loss: 17.078436204164788\n",
      "Train mIoU: 0.07441617771593456\n"
     ]
    },
    {
     "name": "stderr",
     "output_type": "stream",
     "text": [
      "100%|██████████| 30/30 [00:38<00:00,  1.30s/it]\n"
     ]
    },
    {
     "name": "stdout",
     "output_type": "stream",
     "text": [
      "\n",
      "--IoU Scores Fish val--\n",
      "Class0: 0.1474 Class1: 0.1098 Class2: 0.1224 Class3: 0.1470 Class4: 0.1101 Class5: 0.1233 Class6: 0.1502 \n",
      "Class7: 0.1062 Class8: 0.1218 Class9: 0.1413 Class10: 0.1136 Class11: 0.1200 Class12: 0.1160 \n",
      "Epoch30\n",
      "Valid_Seg Loss: 5.080952962239583 Valid_dom Loss: 4.795186146451987e-06\n",
      "Valid Loss: 5.080952978134155\n",
      "Valid mIoU: 0.1253167693103365\n",
      "___________________________________________________________________________________________\n",
      "\n",
      "0.0045\n"
     ]
    },
    {
     "name": "stderr",
     "output_type": "stream",
     "text": [
      "Epoch: 31: 100%|██████████| 138/138 [05:44<00:00,  2.50s/it]\n"
     ]
    },
    {
     "name": "stdout",
     "output_type": "stream",
     "text": [
      "\n",
      "Label_0: IoU Scores Train\n",
      "Class00: 0.1532 Class01: 0.1568 Class02: 0.1520 Class03: 0.1545 Class04: 0.1533 Class05: 0.1550 Class06: 0.1521 \n",
      "Class07: 0.1522 Class08: 0.1591 Class09: 0.1520 Class10: 0.1727 Class11: 0.1673 Class12: 0.1683 \n",
      "Label_1: IoU Scores Train\n",
      "Class00: 0.0707 Class01: 0.0750 Class02: 0.0714 Class03: 0.0709 Class04: 0.0713 Class05: 0.0717 Class06: 0.0701 \n",
      "Class07: 0.0682 Class08: 0.0697 Class09: 0.0722 Class10: 0.0742 Class11: 0.0714 Class12: 0.0734 \n",
      "Label_2: IoU Scores Train\n",
      "Class00: 0.0598 Class01: 0.0636 Class02: 0.0602 Class03: 0.0601 Class04: 0.0611 Class05: 0.0598 Class06: 0.0597 \n",
      "Class07: 0.0572 Class08: 0.0589 Class09: 0.0601 Class10: 0.0628 Class11: 0.0604 Class12: 0.0618 \n",
      "Label_3: IoU Scores Train\n",
      "Class00: 0.0546 Class01: 0.0583 Class02: 0.0543 Class03: 0.0543 Class04: 0.0546 Class05: 0.0538 Class06: 0.0540 \n",
      "Class07: 0.0522 Class08: 0.0533 Class09: 0.0542 Class10: 0.0568 Class11: 0.0543 Class12: 0.0557 \n",
      "Train seg Loss: 0.9473414648378241\n",
      "Train dom Loss: 519.8280622786369\n",
      "Train Loss: 3.286567644580551\n",
      "Train mIoU: 0.08604905181424513\n"
     ]
    },
    {
     "name": "stderr",
     "output_type": "stream",
     "text": [
      "100%|██████████| 30/30 [00:42<00:00,  1.42s/it]\n"
     ]
    },
    {
     "name": "stdout",
     "output_type": "stream",
     "text": [
      "\n",
      "--IoU Scores Fish val--\n",
      "Class0: 0.1176 Class1: 0.0806 Class2: 0.0842 Class3: 0.1195 Class4: 0.0855 Class5: 0.0848 Class6: 0.1177 \n",
      "Class7: 0.0838 Class8: 0.0842 Class9: 0.1093 Class10: 0.0887 Class11: 0.0873 Class12: 0.0882 \n",
      "Epoch31\n",
      "Valid_Seg Loss: 4.650139745076498 Valid_dom Loss: 155.00572916666667\n",
      "Valid Loss: 5.347665500640869\n",
      "Valid mIoU: 0.09472459564391654\n",
      "___________________________________________________________________________________________\n",
      "\n",
      "0.0045\n"
     ]
    },
    {
     "name": "stderr",
     "output_type": "stream",
     "text": [
      "Epoch: 32: 100%|██████████| 138/138 [05:46<00:00,  2.51s/it]\n"
     ]
    },
    {
     "name": "stdout",
     "output_type": "stream",
     "text": [
      "\n",
      "Label_0: IoU Scores Train\n",
      "Class00: 0.1728 Class01: 0.1768 Class02: 0.1641 Class03: 0.1677 Class04: 0.1893 Class05: 0.1822 Class06: 0.1898 \n",
      "Class07: 0.1904 Class08: 0.1986 Class09: 0.1968 Class10: 0.2078 Class11: 0.2112 Class12: 0.2001 \n",
      "Label_1: IoU Scores Train\n",
      "Class00: 0.0783 Class01: 0.0778 Class02: 0.0702 Class03: 0.0734 Class04: 0.0781 Class05: 0.0757 Class06: 0.0799 \n",
      "Class07: 0.0816 Class08: 0.0838 Class09: 0.0854 Class10: 0.0873 Class11: 0.0872 Class12: 0.0862 \n",
      "Label_2: IoU Scores Train\n",
      "Class00: 0.0652 Class01: 0.0645 Class02: 0.0600 Class03: 0.0625 Class04: 0.0660 Class05: 0.0641 Class06: 0.0670 \n",
      "Class07: 0.0678 Class08: 0.0710 Class09: 0.0717 Class10: 0.0732 Class11: 0.0728 Class12: 0.0732 \n",
      "Label_3: IoU Scores Train\n",
      "Class00: 0.0583 Class01: 0.0583 Class02: 0.0545 Class03: 0.0561 Class04: 0.0590 Class05: 0.0573 Class06: 0.0602 \n",
      "Class07: 0.0609 Class08: 0.0634 Class09: 0.0646 Class10: 0.0657 Class11: 0.0652 Class12: 0.0655 \n",
      "Train seg Loss: 0.7753276695915754\n",
      "Train dom Loss: 299.44408553709155\n",
      "Train Loss: 2.122825994439747\n",
      "Train mIoU: 0.0992440492899507\n"
     ]
    },
    {
     "name": "stderr",
     "output_type": "stream",
     "text": [
      "100%|██████████| 30/30 [00:41<00:00,  1.37s/it]\n"
     ]
    },
    {
     "name": "stdout",
     "output_type": "stream",
     "text": [
      "\n",
      "--IoU Scores Fish val--\n",
      "Class0: 0.2541 Class1: 0.1953 Class2: 0.2407 Class3: 0.2532 Class4: 0.2099 Class5: 0.2437 Class6: 0.2553 \n",
      "Class7: 0.1960 Class8: 0.2430 Class9: 0.2348 Class10: 0.2189 Class11: 0.2194 Class12: 0.2328 \n",
      "Epoch32\n",
      "Valid_Seg Loss: 0.4389164646466573 Valid_dom Loss: 35.62489566802979\n",
      "Valid Loss: 0.5992284854253133\n",
      "Valid mIoU: 0.2305501018483711\n",
      "___________________________________________________________________________________________\n",
      "\n",
      "0.0045\n"
     ]
    },
    {
     "name": "stderr",
     "output_type": "stream",
     "text": [
      "Epoch: 33: 100%|██████████| 138/138 [05:48<00:00,  2.52s/it]\n"
     ]
    },
    {
     "name": "stdout",
     "output_type": "stream",
     "text": [
      "\n",
      "Label_0: IoU Scores Train\n",
      "Class00: 0.1997 Class01: 0.2302 Class02: 0.2201 Class03: 0.2210 Class04: 0.2202 Class05: 0.2126 Class06: 0.2378 \n",
      "Class07: 0.2304 Class08: 0.2405 Class09: 0.2486 Class10: 0.2342 Class11: 0.2337 Class12: 0.2410 \n",
      "Label_1: IoU Scores Train\n",
      "Class00: 0.0890 Class01: 0.0933 Class02: 0.0918 Class03: 0.0890 Class04: 0.0921 Class05: 0.0913 Class06: 0.0949 \n",
      "Class07: 0.0930 Class08: 0.0965 Class09: 0.0971 Class10: 0.0943 Class11: 0.0953 Class12: 0.0951 \n",
      "Label_2: IoU Scores Train\n",
      "Class00: 0.0741 Class01: 0.0781 Class02: 0.0771 Class03: 0.0751 Class04: 0.0770 Class05: 0.0770 Class06: 0.0792 \n",
      "Class07: 0.0789 Class08: 0.0809 Class09: 0.0817 Class10: 0.0787 Class11: 0.0805 Class12: 0.0796 \n",
      "Label_3: IoU Scores Train\n",
      "Class00: 0.0662 Class01: 0.0702 Class02: 0.0692 Class03: 0.0674 Class04: 0.0692 Class05: 0.0684 Class06: 0.0711 \n",
      "Class07: 0.0704 Class08: 0.0726 Class09: 0.0739 Class10: 0.0704 Class11: 0.0724 Class12: 0.0709 \n",
      "Train seg Loss: 0.5780278171102206\n",
      "Train dom Loss: 42.78087254257306\n",
      "Train Loss: 0.7705417358033035\n",
      "Train mIoU: 0.11756426876922225\n"
     ]
    },
    {
     "name": "stderr",
     "output_type": "stream",
     "text": [
      "100%|██████████| 30/30 [00:39<00:00,  1.31s/it]\n"
     ]
    },
    {
     "name": "stdout",
     "output_type": "stream",
     "text": [
      "\n",
      "--IoU Scores Fish val--\n",
      "Class0: 0.1907 Class1: 0.1606 Class2: 0.1798 Class3: 0.2013 Class4: 0.1575 Class5: 0.1907 Class6: 0.2092 \n",
      "Class7: 0.1672 Class8: 0.1803 Class9: 0.1884 Class10: 0.1700 Class11: 0.1693 Class12: 0.1790 \n",
      "Epoch33\n",
      "Valid_Seg Loss: 3.001457472642263 Valid_dom Loss: 70.44125022888184\n",
      "Valid Loss: 3.3184430678685506\n",
      "Valid mIoU: 0.18029276783314552\n",
      "___________________________________________________________________________________________\n",
      "\n",
      "0.0045\n"
     ]
    },
    {
     "name": "stderr",
     "output_type": "stream",
     "text": [
      "Epoch: 34: 100%|██████████| 138/138 [05:46<00:00,  2.51s/it]\n"
     ]
    },
    {
     "name": "stdout",
     "output_type": "stream",
     "text": [
      "\n",
      "Label_0: IoU Scores Train\n",
      "Class00: 0.2124 Class01: 0.2526 Class02: 0.2423 Class03: 0.2394 Class04: 0.2498 Class05: 0.2498 Class06: 0.2572 \n",
      "Class07: 0.2489 Class08: 0.2572 Class09: 0.2698 Class10: 0.2534 Class11: 0.2611 Class12: 0.2645 \n",
      "Label_1: IoU Scores Train\n",
      "Class00: 0.0922 Class01: 0.0979 Class02: 0.0972 Class03: 0.0954 Class04: 0.0975 Class05: 0.0963 Class06: 0.1005 \n",
      "Class07: 0.0959 Class08: 0.0984 Class09: 0.1019 Class10: 0.0980 Class11: 0.1000 Class12: 0.1002 \n",
      "Label_2: IoU Scores Train\n",
      "Class00: 0.0784 Class01: 0.0826 Class02: 0.0817 Class03: 0.0807 Class04: 0.0824 Class05: 0.0806 Class06: 0.0852 \n",
      "Class07: 0.0801 Class08: 0.0824 Class09: 0.0865 Class10: 0.0828 Class11: 0.0842 Class12: 0.0839 \n",
      "Label_3: IoU Scores Train\n",
      "Class00: 0.0709 Class01: 0.0742 Class02: 0.0738 Class03: 0.0726 Class04: 0.0743 Class05: 0.0721 Class06: 0.0769 \n",
      "Class07: 0.0722 Class08: 0.0738 Class09: 0.0778 Class10: 0.0743 Class11: 0.0756 Class12: 0.0757 \n",
      "Train seg Loss: 0.5174997139020242\n",
      "Train dom Loss: 12.157451483110586\n",
      "Train Loss: 0.5722082423559134\n",
      "Train mIoU: 0.12625950873944838\n"
     ]
    },
    {
     "name": "stderr",
     "output_type": "stream",
     "text": [
      "100%|██████████| 30/30 [00:39<00:00,  1.31s/it]\n"
     ]
    },
    {
     "name": "stdout",
     "output_type": "stream",
     "text": [
      "\n",
      "--IoU Scores Fish val--\n",
      "Class0: 0.2884 Class1: 0.2261 Class2: 0.2715 Class3: 0.2919 Class4: 0.2408 Class5: 0.2741 Class6: 0.2983 \n",
      "Class7: 0.2260 Class8: 0.2641 Class9: 0.2733 Class10: 0.2550 Class11: 0.2492 Class12: 0.2568 \n",
      "Epoch34\n",
      "Valid_Seg Loss: 0.31886899371941885 Valid_dom Loss: 21.918523089090982\n",
      "Valid Loss: 0.41750234365463257\n",
      "Valid mIoU: 0.2627259974396439\n",
      "___________________________________________________________________________________________\n",
      "\n",
      "0.0045\n"
     ]
    },
    {
     "name": "stderr",
     "output_type": "stream",
     "text": [
      "Epoch: 35: 100%|██████████| 138/138 [05:52<00:00,  2.55s/it]\n"
     ]
    },
    {
     "name": "stdout",
     "output_type": "stream",
     "text": [
      "\n",
      "Label_0: IoU Scores Train\n",
      "Class00: 0.2640 Class01: 0.2643 Class02: 0.2718 Class03: 0.2748 Class04: 0.2723 Class05: 0.2682 Class06: 0.2762 \n",
      "Class07: 0.2613 Class08: 0.2728 Class09: 0.2656 Class10: 0.2546 Class11: 0.2429 Class12: 0.2529 \n",
      "Label_1: IoU Scores Train\n",
      "Class00: 0.1007 Class01: 0.1008 Class02: 0.1016 Class03: 0.1032 Class04: 0.1010 Class05: 0.1020 Class06: 0.1053 \n",
      "Class07: 0.1013 Class08: 0.1052 Class09: 0.1040 Class10: 0.0993 Class11: 0.0983 Class12: 0.0995 \n",
      "Label_2: IoU Scores Train\n",
      "Class00: 0.0849 Class01: 0.0851 Class02: 0.0856 Class03: 0.0868 Class04: 0.0852 Class05: 0.0855 Class06: 0.0885 \n",
      "Class07: 0.0851 Class08: 0.0883 Class09: 0.0872 Class10: 0.0837 Class11: 0.0844 Class12: 0.0837 \n",
      "Label_3: IoU Scores Train\n",
      "Class00: 0.0762 Class01: 0.0764 Class02: 0.0767 Class03: 0.0782 Class04: 0.0766 Class05: 0.0764 Class06: 0.0795 \n",
      "Class07: 0.0765 Class08: 0.0793 Class09: 0.0781 Class10: 0.0749 Class11: 0.0757 Class12: 0.0746 \n",
      "Train seg Loss: 0.4696182020386492\n",
      "Train dom Loss: 67.6197962988762\n",
      "Train Loss: 0.7739072714432857\n",
      "Train mIoU: 0.13225001776004772\n"
     ]
    },
    {
     "name": "stderr",
     "output_type": "stream",
     "text": [
      "100%|██████████| 30/30 [00:37<00:00,  1.27s/it]"
     ]
    },
    {
     "name": "stdout",
     "output_type": "stream",
     "text": [
      "\n",
      "--IoU Scores Fish val--\n",
      "Class0: 0.2661 Class1: 0.2081 Class2: 0.2589 Class3: 0.2713 Class4: 0.2223 Class5: 0.2618 Class6: 0.2699 \n",
      "Class7: 0.2128 Class8: 0.2564 Class9: 0.2514 Class10: 0.2298 Class11: 0.2348 Class12: 0.2516 \n",
      "Epoch35\n",
      "Valid_Seg Loss: 0.37653429905573527 Valid_dom Loss: 18.430092112223306\n",
      "Valid Loss: 0.45946970880031585\n",
      "Valid mIoU: 0.24577917236310926\n",
      "___________________________________________________________________________________________\n",
      "\n",
      "Hyperparamerters\n",
      "LR = 0.001 | EP = 35, BATCH_SIZE = 16, N_CLASSES = 13, init_alpha = 0.0045, N_LABELS = 4\n"
     ]
    },
    {
     "name": "stderr",
     "output_type": "stream",
     "text": [
      "\n"
     ]
    }
   ],
   "source": [
    "for epoch in range(EP):\n",
    "    model.train()\n",
    "    epoch_loss = 0\n",
    "    seg_losses = 0\n",
    "    domain_losses = 0\n",
    "    alpha = 0.0045\n",
    "    train_class_ious = [[],[],[],[]]\n",
    "    train_ious = pd.DataFrame()\n",
    "    print(alpha)\n",
    "    for source_images, source_masks in tqdm(source_dataloader,desc=f\"Epoch: {epoch+1}\"):\n",
    "        for label in range(N_LABELS): \n",
    "            source_image, source_mask = apply_fisheye_distortion(source_images, source_masks, label)\n",
    "            source_image = source_image.float().to(device)\n",
    "            source_mask = source_mask.long().to(device)\n",
    "            source_outputs = model(source_image)\n",
    "            \n",
    "            optimizer.zero_grad()\n",
    "            target_loss, seg_loss, domain_loss = loss_fn(source_outputs, source_mask, label, alpha = alpha)\n",
    "            epoch_loss += target_loss.item()\n",
    "            seg_losses +=  seg_loss.item()\n",
    "            domain_losses += domain_loss.item()\n",
    "            target_loss.backward()\n",
    "            optimizer.step()\n",
    "            # miou측정\n",
    "            source_outputs = torch.softmax(source_outputs[0], dim=1).cpu()\n",
    "            source_outputs = torch.argmax(source_outputs, dim=1).numpy()\n",
    "            for class_id in range(N_CLASSES):\n",
    "                iou = calculate_iou_per_class(np.array(source_masks.cpu()), np.array(source_outputs), class_id)\n",
    "                train_class_ious[label].append(iou)\n",
    "    \n",
    "    for i in range(N_LABELS):\n",
    "        buff = np.array(train_class_ious[i]).reshape(N_CLASSES, -1)\n",
    "        buff =np.mean(buff, axis=1)\n",
    "        print(f\"\\nLabel_{i}: IoU Scores Train\") \n",
    "        for class_id, iou in enumerate(buff):\n",
    "            print(f'Class{class_id:02d}: {iou:.4f}', end=\" \")\n",
    "            if (class_id+1) % 7 == 0:\n",
    "                print()   \n",
    "    print()    \n",
    "    print(f\"Train seg Loss: {(seg_losses/(N_LABELS*len(source_dataloader)))}\")\n",
    "    print(f\"Train dom Loss: {(domain_losses/(N_LABELS*len(source_dataloader)))}\")\n",
    "    print(f\"Train Loss: {(epoch_loss/(N_LABELS*len(source_dataloader)))}\")\n",
    "    print(f\"Train mIoU: {np.mean(train_class_ious)}\" )\n",
    "    ################################################################\n",
    "    # 클래스별 IoU를 누적할 리스트 초기화\n",
    "    val_class_ious = []\n",
    "    fish_val_class_ious = []\n",
    "    val_epoch_loss = 0\n",
    "    val_seg_loss = 0\n",
    "    val_domain_loss = 0\n",
    "    # valid\n",
    "    with torch.no_grad():\n",
    "        model.eval()\n",
    "        for target_images, target_masks in tqdm(val_target_dataloader):\n",
    "            label = 2.5\n",
    "            target_images, target_masks = apply_fisheye_distortion(target_images, target_masks, label)\n",
    "            target_images = target_images.float().to(device)\n",
    "            target_masks = target_masks.long().to(device)\n",
    "\n",
    "            target_outputs = model(target_images)\n",
    "\n",
    "            target_loss, target_seg_loss, target_domain_loss = loss_fn(target_outputs, target_masks, 0, alpha = alpha)\n",
    "\n",
    "            val_seg_loss +=  target_seg_loss.item()\n",
    "            val_domain_loss += target_domain_loss.item()\n",
    "            \n",
    "            loss = target_loss\n",
    "\n",
    "            val_epoch_loss += loss.item()\n",
    "\n",
    "            # train 클래스별 IoU 계산\n",
    "            target_outputs = torch.softmax(target_outputs[0], dim=1).cpu()\n",
    "            target_outputs = torch.argmax(target_outputs, dim=1).numpy()\n",
    "\n",
    "            for class_id in range(N_CLASSES):\n",
    "                iou = calculate_iou_per_class(np.array(target_masks.cpu()), np.array(target_outputs), class_id)\n",
    "                fish_val_class_ious.append(iou)\n",
    "\n",
    "    fish_val_class_ious = np.array(fish_val_class_ious).reshape(N_CLASSES, -1)\n",
    "    fish_val_class_ious = np.mean(fish_val_class_ious, axis=1)\n",
    "    print()\n",
    "    print(\"--IoU Scores Fish val--\")\n",
    "    for class_id, iou in enumerate(fish_val_class_ious):\n",
    "        print(f'Class{class_id}: {iou:.4f}', end=\" \")\n",
    "        if (class_id+1) % 7 == 0:\n",
    "            print()\n",
    "\n",
    "    # mIoU 계산\n",
    "    fish_val_mIoU = np.mean(fish_val_class_ious)\n",
    "\n",
    "    # 에폭마다 결과 출력 \n",
    "    print(f\"\\nEpoch{epoch+1}\")\n",
    "    print(f\"Valid_Seg Loss: {(val_seg_loss/len(val_target_dataloader))}\",f\"Valid_dom Loss: {(val_domain_loss/len(val_target_dataloader))}\")\n",
    "    print(f\"Valid Loss: {(val_epoch_loss/len(val_target_dataloader))}\")\n",
    "    print(f\"Valid mIoU: {fish_val_mIoU}\" )\n",
    "    print(\"___________________________________________________________________________________________\\n\")\n",
    "\n",
    "print(\"Hyperparamerters\")\n",
    "print(f\"LR = {LR} | EP = {EP}, BATCH_SIZE = {BATCH_SIZE}, N_CLASSES = {N_CLASSES}, init_alpha = {alpha}, N_LABELS = {N_LABELS}\")"
   ]
  },
  {
   "cell_type": "code",
   "execution_count": 12,
   "metadata": {},
   "outputs": [],
   "source": [
    "torch.save(model.state_dict(), './data/resnet34_1107_1.pth')\n"
   ]
  }
 ],
 "metadata": {
  "kernelspec": {
   "display_name": "byungwan_resn",
   "language": "python",
   "name": "python3"
  },
  "language_info": {
   "codemirror_mode": {
    "name": "ipython",
    "version": 3
   },
   "file_extension": ".py",
   "mimetype": "text/x-python",
   "name": "python",
   "nbconvert_exporter": "python",
   "pygments_lexer": "ipython3",
   "version": "3.8.17"
  }
 },
 "nbformat": 4,
 "nbformat_minor": 2
}
