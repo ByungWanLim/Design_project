{
 "cells": [
  {
   "cell_type": "code",
   "execution_count": 1,
   "metadata": {},
   "outputs": [
    {
     "name": "stderr",
     "output_type": "stream",
     "text": [
      "/home/MMI24limbyungwan/.conda/envs/byungwan_resn/lib/python3.8/site-packages/tqdm/auto.py:21: TqdmWarning: IProgress not found. Please update jupyter and ipywidgets. See https://ipywidgets.readthedocs.io/en/stable/user_install.html\n",
      "  from .autonotebook import tqdm as notebook_tqdm\n"
     ]
    }
   ],
   "source": [
    "import os\n",
    "import cv2\n",
    "from PIL import Image\n",
    "import pandas as pd\n",
    "import numpy as np\n",
    "\n",
    "import torch\n",
    "import torch.nn as nn\n",
    "import torch.nn.functional as F\n",
    "from torch.utils.data import Dataset, DataLoader\n",
    "from torchvision import transforms\n",
    "#from torch.optim.lr_scheduler import _LRScheduler\n",
    "\n",
    "from tqdm import tqdm\n",
    "import albumentations as A\n",
    "from albumentations.pytorch import ToTensorV2\n",
    "\n",
    "from torchvision import models\n",
    "from torchsummary import summary\n",
    "import torch.nn.functional as F\n"
   ]
  },
  {
   "cell_type": "code",
   "execution_count": 2,
   "metadata": {},
   "outputs": [
    {
     "name": "stdout",
     "output_type": "stream",
     "text": [
      "cuda\n",
      "2\n"
     ]
    }
   ],
   "source": [
    "\n",
    "# GPU 사용이 가능할 경우, GPU를 사용할 수 있게 함.'\n",
    "os.environ['CUDA_VISIBLE_DEVICES'] = '2'\n",
    "device = \"cuda\" if torch.cuda.is_available() else \"cpu\"\n",
    "device = torch.device(device)\n",
    "print(device)\n",
    "\n",
    "print(os.environ.get('CUDA_VISIBLE_DEVICES'))"
   ]
  },
  {
   "cell_type": "code",
   "execution_count": 3,
   "metadata": {},
   "outputs": [],
   "source": [
    "# RLE 인코딩 함수\n",
    "def rle_encode(mask):\n",
    "    pixels = mask.flatten()\n",
    "    pixels = np.concatenate([[0], pixels, [0]])\n",
    "    runs = np.where(pixels[1:] != pixels[:-1])[0] + 1\n",
    "    runs[1::2] -= runs[::2]\n",
    "    return ' '.join(str(x) for x in runs)\n",
    "\n",
    "# 클래스별 IoU를 계산하기 위한 함수\n",
    "def calculate_iou_per_class(y_true, y_pred, class_id):\n",
    "    intersection = np.sum((y_true == class_id) & (y_pred == class_id))\n",
    "    union = np.sum((y_true == class_id) | (y_pred == class_id))\n",
    "    iou = intersection / union if union > 0 else 0\n",
    "    return iou"
   ]
  },
  {
   "cell_type": "code",
   "execution_count": 4,
   "metadata": {},
   "outputs": [],
   "source": [
    "import numpy as np\n",
    "import cv2\n",
    "import torch\n",
    "\n",
    "def apply_fisheye_distortion(images, masks, label):\n",
    "    # 이미지 크기 가져오기\n",
    "    batch, channel, height, width = images.shape\n",
    "\n",
    "    # 카메라 매트릭스 생성\n",
    "    focal_length = width / 4\n",
    "    center_x = width / 2\n",
    "    center_y = height / 2\n",
    "    camera_matrix = np.array([[focal_length, 0, center_x],\n",
    "                              [0, focal_length, center_y],\n",
    "                              [0, 0, 1]], dtype=np.float32)\n",
    "\n",
    "    # 왜곡 계수 생성\n",
    "    # dist_num = 0\n",
    "    # if label == 1:\n",
    "    #     dist_num = random.randint(1,3)\n",
    "    # elif label == 2.5:\n",
    "    #     dist_num = 2.5\n",
    "    dist_num = label\n",
    "    dist_coeffs = np.array([0, 0.2 * dist_num, 0, 0], dtype=np.float32)\n",
    "\n",
    "    # 왜곡 보정\n",
    "    undistorted_images = []\n",
    "    undistorted_masks = []\n",
    "\n",
    "    for i in range(batch):\n",
    "        image = images[i].permute(1, 2, 0).cpu().numpy()  # 텐서를 NumPy 배열로 변환\n",
    "        mask = masks[i].cpu().numpy()\n",
    "        undistorted_image = cv2.undistort(image, camera_matrix, dist_coeffs)\n",
    "        undistorted_mask = cv2.undistort(mask, camera_matrix, dist_coeffs)\n",
    "        undistorted_mask = np.round(undistorted_mask).astype(np.uint8)\n",
    "        undistorted_mask[undistorted_mask > 12] = 12\n",
    "\n",
    "        # 다시 텐서로 변환\n",
    "        undistorted_image = torch.from_numpy(undistorted_image).permute(2, 0, 1).float().to(device)\n",
    "        undistorted_mask = torch.from_numpy(undistorted_mask).long().to(device)\n",
    "\n",
    "        undistorted_images.append(undistorted_image)\n",
    "        undistorted_masks.append(undistorted_mask)\n",
    "\n",
    "    undistorted_images = torch.stack(undistorted_images, dim=0)\n",
    "    undistorted_masks = torch.stack(undistorted_masks, dim=0)\n",
    "\n",
    "    return undistorted_images, undistorted_masks\n"
   ]
  },
  {
   "cell_type": "code",
   "execution_count": 5,
   "metadata": {},
   "outputs": [],
   "source": [
    "# import torch\n",
    "\n",
    "# # 이미지 데이터 (batch, channel, height, width)\n",
    "# image_data = torch.randn(4, 3, 256, 256)\n",
    "\n",
    "# # 이미지 차원 변경 (batch, height, width, channel)\n",
    "# image_data_permuted = image_data.permute(0, 2, 3, 1)\n",
    "\n",
    "# # 이미지 크기 확인\n",
    "# print(image_data_permuted.shape)\n",
    "\n",
    "# # 4개의 이미지로 나누기\n",
    "# images = image_data_permuted.split(1, dim=0)\n",
    "# # 또는 images = torch.split(image_data_permuted, 1, dim=0)\n",
    "# undistorted_images = []\n",
    "# # 4개 이미지의 크기 확인\n",
    "# for i, image in enumerate(images):\n",
    "#     print(f\"Image {i + 1} shape: {image.shape}\")\n",
    "#     undistorted_images.append(images[i].squeeze())\n",
    "\n",
    "# undistorted_images2 = torch.stack(undistorted_images, dim=0)\n",
    "# undistorted_images3 = undistorted_images2.permute(0,3,1,2)"
   ]
  },
  {
   "cell_type": "code",
   "execution_count": 6,
   "metadata": {},
   "outputs": [],
   "source": [
    "class CustomDataset(Dataset):\n",
    "    def __init__(self, csv_file, transform=None, infer=False):\n",
    "        self.data = pd.read_csv(csv_file)\n",
    "        self.transform = transform\n",
    "        self.infer = infer\n",
    "\n",
    "    def __len__(self):\n",
    "        return len(self.data)\n",
    "\n",
    "    def __getitem__(self, idx):\n",
    "        #directory_path = \"/mnt/nas27/Dataset/Samsung_DM\"\n",
    "        directory_path = './data/224'\n",
    "        img_path = self.data.iloc[idx, 1]\n",
    "        img_path = os.path.join(directory_path, img_path)\n",
    "        image = cv2.imread(img_path)\n",
    "        image = cv2.cvtColor(image, cv2.COLOR_BGR2RGB)\n",
    "        #image = cv2.cvtColor(image, cv2.COLOR_BGR2GRAY)\n",
    "        \n",
    "        if self.infer:\n",
    "            if self.transform:\n",
    "                image = self.transform(image=image)['image']\n",
    "            return image\n",
    "        \n",
    "        mask_path = self.data.iloc[idx, 2]\n",
    "        mask_path = os.path.join(directory_path, mask_path)\n",
    "        mask = cv2.imread(mask_path)\n",
    "        #mask = cv2.cvtColor(mask, cv2.COLOR_BGR2RGB)\n",
    "        mask = cv2.cvtColor(mask, cv2.COLOR_BGR2GRAY)\n",
    "        mask = np.round(mask).astype(np.uint8)\n",
    "        mask[mask > 12] = 12 #배경을 픽셀값 12로 간주\n",
    "        mask += 1\n",
    "        mask[mask == 13] = 0\n",
    "\n",
    "        if self.transform:\n",
    "            augmented = self.transform(image=image, mask=mask)\n",
    "            image = augmented['image']\n",
    "            mask = augmented['mask']\n",
    "\n",
    "        return image, mask\n",
    "\n",
    "# class CustomDataset_target(Dataset):\n",
    "#     def __init__(self, csv_file, transform=None, infer=False):\n",
    "#         self.data = pd.read_csv(csv_file)\n",
    "#         self.transform = transform\n",
    "#         self.infer = infer\n",
    "\n",
    "#     def __len__(self):\n",
    "#         return len(self.data)\n",
    "\n",
    "#     def __getitem__(self, idx):\n",
    "#         directory_path = \"/mnt/nas27/Dataset/Samsung_DM\"\n",
    "#         img_path = self.data.iloc[idx, 1]\n",
    "#         img_path = os.path.join(directory_path, img_path[2:])\n",
    "#         image = cv2.imread(img_path)\n",
    "#         image = cv2.cvtColor(image, cv2.COLOR_BGR2RGB)\n",
    "        \n",
    "#         if self.infer:\n",
    "#             if self.transform:\n",
    "#                 image = self.transform(image=image)['image']\n",
    "#             return image\n",
    "\n",
    "\n",
    "#         if self.transform:\n",
    "#             augmented = self.transform(image=image)\n",
    "#             image = augmented['image']\n",
    "            \n",
    "\n",
    "#         return image\n",
    "     \n",
    "\n",
    "transform = A.Compose(\n",
    "    [   \n",
    "        #A.Resize(224, 224),\n",
    "        #A.Resize(128, 128),\n",
    "        A.Normalize(),\n",
    "        \n",
    "        # 변형\n",
    "        # A.VerticalFlip(p=0.5),\n",
    "        # A.RandomRotate90(p=0.5),\n",
    "        # A.HueSaturationValue(p=0.2),\n",
    "        \n",
    "        ToTensorV2()\n",
    "    ]\n",
    ")"
   ]
  },
  {
   "cell_type": "code",
   "execution_count": 7,
   "metadata": {},
   "outputs": [],
   "source": [
    "# #Unet의 기본이 되는 conv블럭\n",
    "# class ConvBlock(nn.Module):\n",
    "#     def __init__(self, in_channels, out_channels):\n",
    "#         super(ConvBlock, self).__init__()\n",
    "#         self.conv1 = nn.Conv2d(in_channels, out_channels, kernel_size=3, padding=1)\n",
    "#         self.bn1 = nn.BatchNorm2d(out_channels)\n",
    "#         self.relu1 = nn.ReLU()\n",
    "        \n",
    "#         self.conv2 = nn.Conv2d(out_channels, out_channels, kernel_size=3, padding=1)  # 여기서 in_channels는 out_channels와 동일해야 합니다.\n",
    "#         self.bn2 = nn.BatchNorm2d(out_channels)\n",
    "#         self.relu2 = nn.ReLU()\n",
    "\n",
    "#     def forward(self, x):\n",
    "#         x = self.conv1(x)\n",
    "#         x = self.bn1(x)\n",
    "#         x = self.relu1(x)\n",
    "        \n",
    "#         x = self.conv2(x)\n",
    "#         x = self.bn2(x)\n",
    "#         x = self.relu2(x)\n",
    "#         return x\n",
    "\n",
    "# #인코더 블럭\n",
    "# class EncoderBlock(nn.Module):\n",
    "#     def __init__(self, in_channels, out_channels):\n",
    "#         super(EncoderBlock,self).__init__()\n",
    "#         self.convblock1 = ConvBlock(in_channels, out_channels)  # 첫 번째 ConvBlock의 in_channels는 입력 이미지의 채널 수와 일치해야 합니다.\n",
    "#         #self.convblock2 = ConvBlock(out_channels, out_channels)  # 두 번째 ConvBlock의 in_channels는 out_channels와 일치해야 합니다.\n",
    "#         self.maxpool = nn.MaxPool2d(kernel_size=2, stride=2)\n",
    "\n",
    "#     def forward(self,x):\n",
    "#         x = self.convblock1(x)\n",
    "#         #x = self.convblock2(x)\n",
    "#         p = self.maxpool(x)\n",
    "#         return x , p\n",
    "# #디코더 블럭\n",
    "# #디코더는 업샘플링 이후 스킵연결과 붙어서 convblock을 통과해야함\n",
    "# #skip보다 작은 x x먼저 업샘플링 32 -> 64 , skip과 결합 6464 \n",
    "# class DecoderBlock(nn.Module):\n",
    "#     def __init__(self, channels):\n",
    "#         super(DecoderBlock,self).__init__()\n",
    "#         self.upsample = nn.ConvTranspose2d(channels*2, channels, kernel_size=4, stride=2, padding=1)#x 업샘플링\n",
    "#         self.convblock1 = ConvBlock(channels*2, channels)#차원감소\n",
    "#         #self.convblock2 = ConvBlock(channels, channels)\n",
    "#     def forward(self,x,skip):\n",
    "#         x = self.upsample(x)\n",
    "#         x = torch.cat([x, skip], dim=1)\n",
    "#         x = self.convblock1(x)\n",
    "#         #x = self.convblock2(x)\n",
    "#         return x\n",
    "\n",
    "# ###########################################\n",
    "# class GradReverse(torch.autograd.Function):\n",
    "#     @staticmethod\n",
    "#     def forward(self, x):\n",
    "#         return x.view_as(x)\n",
    "#     @staticmethod\n",
    "#     def backward(self, grad_output): # 역전파 시에 gradient에 음수를 취함\n",
    "#         return (grad_output * -1)\n",
    "\n",
    "# class domain_classifier(nn.Module):\n",
    "#     def __init__(self):\n",
    "#         super(domain_classifier, self).__init__()\n",
    "#         self.fc1 = nn.Linear(224*224*64, 10)\n",
    "#         self.fc2 = nn.Linear(10, 4) # source = 0, target = 1 회귀 가정\n",
    "\n",
    "#     def forward(self, x):\n",
    "#         x = x.view(-1, 224*224*64)\n",
    "#         x = GradReverse.apply(x) # gradient reverse\n",
    "#         x = F.leaky_relu(self.fc1(x))\n",
    "#         x = self.fc2(x)\n",
    "        \n",
    "#         return x\n",
    "\n",
    "# ###########################################\n",
    "\n",
    "\n",
    "# #Unet구조 middle의 xm값의 움직임에 주의\n",
    "# class Unet(nn.Module):\n",
    "#     def __init__(self,n_classes):\n",
    "#         super(Unet,self).__init__()\n",
    "#         self.encoder1 = EncoderBlock(3,64)\n",
    "#         self.encoder2 = EncoderBlock(64,128)\n",
    "#         self.encoder3 = EncoderBlock(128,256)\n",
    "#         self.encoder4 = EncoderBlock(256,512)\n",
    "        \n",
    "#         self.middleconv = ConvBlock(512,1024)\n",
    "        \n",
    "        \n",
    "#         self.decoder4 = DecoderBlock(512)\n",
    "#         self.decoder3 = DecoderBlock(256)\n",
    "#         self.decoder2 = DecoderBlock(128)\n",
    "#         self.decoder1 = DecoderBlock(64)\n",
    "#         self.segmap = nn.Conv2d(64,n_classes, kernel_size=1)\n",
    "        \n",
    "#         self.domain_classifier = domain_classifier()\n",
    "                                        \n",
    "\n",
    "#     def forward(self,x):\n",
    "#         x1,p = self.encoder1(x)#3->64   #P:256,256 x1 :512,512\n",
    "#         x2,p = self.encoder2(p)#64->128 #P:128,128 x2:256,256\n",
    "#         x3,p = self.encoder3(p)#128->256#p:64,64 x3:128,128\n",
    "#         x4,p = self.encoder4(p)#256->512#p:32,32 x4:64,64\n",
    "        \n",
    "#         xm = self.middleconv(p)#512->1024#32,32\n",
    "        \n",
    "#         x = self.decoder4(xm,x4)#뉴런:1024->512->512 #출력tensor:64,64\n",
    "#         x = self.decoder3(x,x3)#뉴런:512->256->256 #출력tensor:128,128\n",
    "#         x = self.decoder2(x,x2)#뉴런:256->128->128 #출력tensor:256,256\n",
    "#         x = self.decoder1(x,x1)#뉴런:128->64->64 #출력tensor:512,512\n",
    "\n",
    "#         x_c = self.segmap(x)\n",
    "#         x_d = self.domain_classifier(x)\n",
    "#         # print(\"x_c\", x_c.shape)\n",
    "#         # print(\"x_d\", x_d.shape)\n",
    "#         return x_c, x_d"
   ]
  },
  {
   "cell_type": "markdown",
   "metadata": {},
   "source": [
    "## Resnet50"
   ]
  },
  {
   "cell_type": "code",
   "execution_count": 8,
   "metadata": {},
   "outputs": [],
   "source": [
    "# class GradReverse(torch.autograd.Function):\n",
    "#     @staticmethod\n",
    "#     def forward(self, x):\n",
    "#         return x.view_as(x)\n",
    "#     @staticmethod\n",
    "#     def backward(self, grad_output): # 역전파 시에 gradient에 음수를 취함\n",
    "#         return grad_output * (-1)\n",
    "\n",
    "# class domain_classifier(nn.Module):\n",
    "#     def __init__(self):\n",
    "#         super(domain_classifier, self).__init__()\n",
    "#         self.conv1 = nn.Conv2d(128, 1, kernel_size=1)\n",
    "#         self.fc1 = nn.Linear(224*224*1, 10)\n",
    "#         self.fc2 = nn.Linear(10, 4) # source = 0, target = 1 회귀 가정\n",
    "\n",
    "#     def forward(self, x):\n",
    "#         x = self.conv1(x)\n",
    "#         x = x.view(-1, 224*224*1)\n",
    "#         #print(x.shape)\n",
    "#         x = GradReverse.apply(x) # gradient reverse\n",
    "#         x = F.leaky_relu(self.fc1(x))\n",
    "#         x = self.fc2(x)\n",
    "#         #print(x.shape)\n",
    "#         #return torch.sigmoid(x)\n",
    "#         return x\n",
    "\n",
    "# #Unet의 기본이 되는 conv블럭\n",
    "# class ConvBlock(nn.Module):\n",
    "#     def __init__(self, in_channels, out_channels,kernel_size = 3):\n",
    "#         super(ConvBlock, self).__init__()\n",
    "#         self.kernel_size = kernel_size\n",
    "#         self.conv1 = nn.Conv2d(in_channels, out_channels, kernel_size=kernel_size, padding=1)\n",
    "#         self.bn1 = nn.BatchNorm2d(out_channels)\n",
    "#         self.relu1 = nn.ReLU()\n",
    "        \n",
    "#         self.conv2 = nn.Conv2d(out_channels, out_channels, kernel_size=kernel_size, padding=1)  # 여기서 in_channels는 out_channels와 동일해야 합니다.\n",
    "#         self.bn2 = nn.BatchNorm2d(out_channels)\n",
    "#         self.relu2 = nn.ReLU()\n",
    "\n",
    "#     def forward(self, x):\n",
    "#         x = self.conv1(x)\n",
    "#         x = self.bn1(x)\n",
    "#         x = self.relu1(x)\n",
    "        \n",
    "#         x = self.conv2(x)\n",
    "#         x = self.bn2(x)\n",
    "#         x = self.relu2(x)\n",
    "#         return x\n",
    "# class IdentityBlock(nn.Module):\n",
    "#     def __init__(self, in_channels, mid_channels, out_channels, stride=1):\n",
    "#         super(IdentityBlock, self).__init__()\n",
    "        \n",
    "#         # 1x1 convolution\n",
    "#         self.conv1 = nn.Conv2d(in_channels, mid_channels, kernel_size=1, stride=stride, bias=False)\n",
    "#         self.bn1 = nn.BatchNorm2d(mid_channels)\n",
    "#         self.relu1 = nn.ReLU()\n",
    "\n",
    "#         # 3x3 convolution\n",
    "#         self.conv2 = nn.Conv2d(mid_channels, mid_channels, kernel_size=3, padding=1, bias=False)\n",
    "#         self.bn2 = nn.BatchNorm2d(mid_channels)\n",
    "#         self.relu2 = nn.ReLU()\n",
    "\n",
    "#         # 1x1 convolution\n",
    "#         self.conv3 = nn.Conv2d(mid_channels, out_channels, kernel_size=1, bias=False)\n",
    "#         self.bn3 = nn.BatchNorm2d(out_channels)\n",
    "#         self.relu3 = nn.ReLU()\n",
    "        \n",
    "#     def forward(self, x):\n",
    "#         out = self.conv1(x)\n",
    "#         out = self.bn1(out)\n",
    "#         out = self.relu1(out)\n",
    "        \n",
    "#         out = self.conv2(out)\n",
    "#         out = self.bn2(out)\n",
    "#         out = self.relu2(out)\n",
    "         \n",
    "#         out = self.conv3(out)\n",
    "#         out = self.bn3(out)\n",
    "#         out = self.relu3(out)\n",
    "        \n",
    "#         return out\n",
    "# class HeadBlock(IdentityBlock):\n",
    "#     def __init__(self, in_channels, mid_channels, out_channels, stride=1):\n",
    "#         super(HeadBlock, self).__init__(in_channels, mid_channels, out_channels, stride)\n",
    "        \n",
    "#         self.shortcut = nn.Sequential(\n",
    "#             nn.Conv2d(in_channels, out_channels, kernel_size=1, stride=stride, bias=False),\n",
    "#             nn.BatchNorm2d(out_channels)\n",
    "#         )\n",
    "\n",
    "#     def forward(self, x):\n",
    "#         identity = x\n",
    "#         out = super().forward(x)\n",
    "        \n",
    "#         if identity.size() != out.size():\n",
    "#             identity = F.interpolate(identity, size=out.size()[2:])\n",
    "#         identity = self.shortcut(identity)\n",
    "        \n",
    "#         out += identity\n",
    "#         out = self.relu3(out)\n",
    "        \n",
    "#         return out\n",
    "# #인코더 블럭\n",
    "# class Conv2(nn.Module):\n",
    "#     def __init__(self,in_channels, mid_channels, out_channels):\n",
    "#         super(Conv2,self).__init__() \n",
    "#         self.headblock = HeadBlock(in_channels,mid_channels,out_channels)\n",
    "#         self.identityblock1 = IdentityBlock(out_channels,mid_channels,out_channels)\n",
    "#         self.identityblock2 = IdentityBlock(out_channels,mid_channels,out_channels)\n",
    "#         self.maxpool = nn.MaxPool2d(kernel_size=3, stride=2)\n",
    "#     def forward(self,x):\n",
    "#         x = self.headblock(x)\n",
    "#         x = self.identityblock1(x)\n",
    "#         x = self.identityblock2(x)\n",
    "#         p = self.maxpool(x)\n",
    "#         return x , p\n",
    "# class Conv3(nn.Module):\n",
    "#     def __init__(self,in_channels, mid_channels, out_channels):\n",
    "#         super(Conv3,self).__init__() \n",
    "#         self.headblock = HeadBlock(in_channels,mid_channels,out_channels)\n",
    "#         self.identityblock1 = IdentityBlock(out_channels,mid_channels,out_channels)\n",
    "#         self.identityblock2 = IdentityBlock(out_channels,mid_channels,out_channels)\n",
    "#         self.identityblock3 = IdentityBlock(out_channels,mid_channels,out_channels)\n",
    "#         self.maxpool = nn.MaxPool2d(kernel_size=3, stride=2)\n",
    "#     def forward(self,x):\n",
    "#         x = self.headblock(x)\n",
    "#         x = self.identityblock1(x)\n",
    "#         x = self.identityblock2(x)\n",
    "#         x = self.identityblock3(x)\n",
    "#         p = self.maxpool(x)\n",
    "#         return x , p\n",
    "# class Conv4(nn.Module):\n",
    "#     def __init__(self,in_channels, mid_channels, out_channels):\n",
    "#         super(Conv4,self).__init__() \n",
    "#         self.headblock = HeadBlock(in_channels,mid_channels,out_channels)\n",
    "#         self.identityblock1 = IdentityBlock(out_channels,mid_channels,out_channels)\n",
    "#         self.identityblock2 = IdentityBlock(out_channels,mid_channels,out_channels)\n",
    "#         self.identityblock3 = IdentityBlock(out_channels,mid_channels,out_channels)\n",
    "#         self.identityblock4 = IdentityBlock(out_channels,mid_channels,out_channels)\n",
    "#         self.identityblock5 = IdentityBlock(out_channels,mid_channels,out_channels)\n",
    "#         self.maxpool = nn.MaxPool2d(kernel_size=3, stride=2)\n",
    "#     def forward(self,x):\n",
    "#         x = self.headblock(x)\n",
    "#         x = self.identityblock1(x)\n",
    "#         x = self.identityblock2(x)\n",
    "#         x = self.identityblock3(x)\n",
    "#         x = self.identityblock4(x)\n",
    "#         x = self.identityblock5(x)\n",
    "#         p = self.maxpool(x)\n",
    "#         return x , p\n",
    "# class Conv5(nn.Module):\n",
    "#     def __init__(self,in_channels, mid_channels, out_channels):\n",
    "#         super(Conv5,self).__init__() \n",
    "#         self.headblock = HeadBlock(in_channels,mid_channels,out_channels)\n",
    "#         self.identityblock1 = IdentityBlock(out_channels,mid_channels,out_channels)\n",
    "#         self.identityblock2 = IdentityBlock(out_channels,mid_channels,out_channels)\n",
    "#         self.maxpool = nn.MaxPool2d(kernel_size=3, stride=2)\n",
    "#     def forward(self,x):\n",
    "#         x = self.headblock(x)\n",
    "#         x = self.identityblock1(x)\n",
    "#         x = self.identityblock2(x)\n",
    "#         p = self.maxpool(x)\n",
    "#         return x , p\n",
    "# #디코더 블럭\n",
    "# class DecoderBlock(nn.Module):\n",
    "#     def __init__(self, channels):\n",
    "#         super(DecoderBlock, self).__init__()\n",
    "#         self.upsample = nn.ConvTranspose2d(channels*2, channels, kernel_size=4, stride=2, padding=1, output_padding=1) # output_padding 추가\n",
    "#         self.convblock1 = ConvBlock(channels*2, channels)\n",
    "\n",
    "#     def forward(self, x, skip):\n",
    "#         x = self.upsample(x)\n",
    "#         if x.size(2) != skip.size(2) or x.size(3) != skip.size(3):\n",
    "#             x = F.interpolate(x, size=(skip.size(2), skip.size(3)))\n",
    "#         x = torch.cat([x, skip], dim=1)\n",
    "#         x = self.convblock1(x)\n",
    "#         return x\n",
    "\n",
    "# #Unet구조 middle의 xm값의 움직임에 주의\n",
    "# class Resnet50_Unet(nn.Module):\n",
    "#     def __init__(self,n_classes):\n",
    "#         super(Resnet50_Unet,self).__init__()\n",
    "#         self.fconv1 = nn.Conv2d(3, 64, kernel_size=7, stride=2)\n",
    "#         self.fbn1 = nn.BatchNorm2d(64)\n",
    "#         self.frelu1 = nn.ReLU()\n",
    "#         self.fconv2 = nn.Conv2d(64, 128, kernel_size=1, stride=1)\n",
    "#         self.fbn2 = nn.BatchNorm2d(128)\n",
    "#         self.frelu2 = nn.ReLU()\n",
    "#         self.fmaxpooling = nn.MaxPool2d(kernel_size=3,stride=2)\n",
    "        \n",
    "#         self.conv2 = Conv2(128,64,256)\n",
    "#         self.conv3 = Conv3(256,128,512)\n",
    "#         self.conv4 = Conv4(512,256,1024)\n",
    "#         self.conv5 = Conv5(1024,512,2048)\n",
    "        \n",
    "#         self.middleconv = ConvBlock(2048,4096)\n",
    "#         self.dropout = nn.Dropout2d(0.4) #\n",
    "           \n",
    "#         self.decoder5 = DecoderBlock(2048)\n",
    "#         self.decoder4 = DecoderBlock(1024)\n",
    "#         self.decoder3 = DecoderBlock(512)\n",
    "#         self.decoder2 = DecoderBlock(256)\n",
    "#         self.decoder1 = DecoderBlock(128)\n",
    "        \n",
    "#         self.segmap = nn.Conv2d(128,n_classes, kernel_size=1)\n",
    "#         self.domain_classifier = domain_classifier()\n",
    "        \n",
    "#     def forward(self,x):\n",
    "#         x = self.fconv1(x)#3->64\n",
    "#         x = self.fbn1(x)\n",
    "#         x = self.frelu1(x)\n",
    "#         x = self.fconv2(x)\n",
    "#         x = self.fbn2(x)\n",
    "#         x1 = self.frelu2(x)\n",
    "#         p = self.fmaxpooling(x)#첫 conv: x0([8, 64, 109, 109]) p([8, 64, 54, 54])\n",
    "#         x2,p = self.conv2(p)#conv2:  x1:([8, 256, 54, 54]) p([8, 256, 26, 26])\n",
    "#         x3,p = self.conv3(p)#conv3:  x2([8, 512, 26, 26]) p([8, 512, 12, 12])\n",
    "#         x4,p = self.conv4(p)#conv4:  x3([8, 1024, 12, 12]) p([8, 1024, 5, 5])\n",
    "#         x5,p = self.conv5(p)#conv5:  x4([8, 2048, 5, 5]) p([8, 2048, 2, 2])\n",
    "        \n",
    "#         xm = self.middleconv(p)#xm([8, 4096, 2, 2])\n",
    "#         xm = self.dropout(xm)\n",
    "        \n",
    "#         x = self.decoder5(xm,x5)#뉴런:2048*2->2048 1\n",
    "#         x = self.decoder4(x,x4)#뉴런:1024*2->1024 \n",
    "#         x = self.decoder3(x,x3) #14\n",
    "#         x = self.decoder2(x,x2)#28\n",
    "#         x = self.decoder1(x,x1)#55\n",
    "        \n",
    "#         x = F.interpolate(x, size=(224, 224))\n",
    "#         x_c = self.segmap(x)\n",
    "#         x_d = self.domain_classifier(x)\n",
    "#         #print(x.shape)\n",
    "#         return x_c,x_d"
   ]
  },
  {
   "cell_type": "markdown",
   "metadata": {},
   "source": [
    "## Resnet34"
   ]
  },
  {
   "cell_type": "code",
   "execution_count": 9,
   "metadata": {},
   "outputs": [],
   "source": [
    "class GradReverse(torch.autograd.Function):\n",
    "    @staticmethod\n",
    "    def forward(self, x):\n",
    "        return x.view_as(x)\n",
    "    @staticmethod\n",
    "    def backward(self, grad_output): # 역전파 시에 gradient에 음수를 취함\n",
    "        return grad_output * (-1)\n",
    "\n",
    "class domain_classifier(nn.Module):\n",
    "    def __init__(self):\n",
    "        super(domain_classifier, self).__init__()\n",
    "        self.fc1 = nn.Linear(224*224*64, 10)\n",
    "        self.fc2 = nn.Linear(10, 4) # source = 0, target = 1 회귀 가정\n",
    "\n",
    "    def forward(self, x):\n",
    "        x = x.view(-1, 224*224*64)\n",
    "        x = GradReverse.apply(x) # gradient reverse\n",
    "        x = F.leaky_relu(self.fc1(x))\n",
    "        x = self.fc2(x)\n",
    "        \n",
    "        #return torch.sigmoid(x)\n",
    "        return x\n",
    "\n",
    "class domain_linear(nn.Module):\n",
    "    def __init__(self):\n",
    "        super(domain_linear, self).__init__()\n",
    "        self.fc1 = nn.Linear(224*224*64, 10)\n",
    "        self.fc2 = nn.Linear(10, 1) # source = 0, target = 1 회귀 가정\n",
    "\n",
    "    def forward(self, x):\n",
    "        x = x.view(-1, 224*224*64)\n",
    "        x = GradReverse.apply(x) # gradient reverse\n",
    "        x = F.leaky_relu(self.fc1(x))\n",
    "        x = self.fc2(x)\n",
    "        \n",
    "        return torch.sigmoid(x)\n",
    "        #return x\n",
    "class IdentityBlock(nn.Module):\n",
    "    def __init__(self, in_channels, out_channels, stride=1):\n",
    "        super(IdentityBlock, self).__init__()\n",
    "        \n",
    "        # 3x3 convolution\n",
    "        self.conv1 = nn.Conv2d(in_channels, in_channels, kernel_size=3, padding=1, stride=stride, bias=False)\n",
    "        self.bn1 = nn.BatchNorm2d(in_channels)\n",
    "        self.relu1 = nn.ReLU()\n",
    "        \n",
    "        # 3x3 convolution\n",
    "        self.conv2 = nn.Conv2d(in_channels, out_channels, kernel_size=3, padding=1, bias=False)\n",
    "        self.bn2 = nn.BatchNorm2d(out_channels)\n",
    "        self.relu2 = nn.ReLU()\n",
    "        \n",
    "        # Skip connection\n",
    "        self.skip = nn.Sequential()\n",
    "        if stride != 1 or in_channels != out_channels:\n",
    "            self.skip = nn.Sequential(\n",
    "                nn.Conv2d(in_channels, out_channels, kernel_size=1, stride=stride, bias=False),\n",
    "                nn.BatchNorm2d(out_channels)\n",
    "            )\n",
    "        \n",
    "    def forward(self, x):\n",
    "        identity = x\n",
    "        \n",
    "        out = self.conv1(x)\n",
    "        out = self.bn1(out)\n",
    "        out = self.relu1(out)\n",
    "        \n",
    "        out = self.conv2(out)\n",
    "        out = self.bn2(out)\n",
    "        \n",
    "        # Adding the skip connection\n",
    "        out += self.skip(identity)\n",
    "        out = self.relu2(out)\n",
    "        \n",
    "        return out\n",
    "#인코더 블럭\n",
    "class Conv2(nn.Module):\n",
    "    def __init__(self,in_channels, out_channels):\n",
    "        super(Conv2,self).__init__() \n",
    "        self.identityblock1 = IdentityBlock(in_channels,in_channels)\n",
    "        self.identityblock2 = IdentityBlock(in_channels,in_channels)\n",
    "        self.identityblock3 = IdentityBlock(in_channels,out_channels)\n",
    "        self.maxpool = nn.MaxPool2d(kernel_size=3, stride=2,padding=1)\n",
    "    def forward(self,x):\n",
    "        x = self.identityblock1(x)\n",
    "        x = self.identityblock2(x)\n",
    "        x = self.identityblock3(x)\n",
    "        p = self.maxpool(x)\n",
    "        \n",
    "        return x , p\n",
    "class Conv3(nn.Module):\n",
    "    def __init__(self,in_channels, out_channels):\n",
    "        super(Conv3,self).__init__()         \n",
    "        self.identityblock1 = IdentityBlock(in_channels,in_channels)\n",
    "        self.identityblock2 = IdentityBlock(in_channels,in_channels)\n",
    "        self.identityblock3 = IdentityBlock(in_channels,in_channels)\n",
    "        self.identityblock4 = IdentityBlock(in_channels,out_channels)\n",
    "        self.maxpool = nn.MaxPool2d(kernel_size=3, stride=2,padding=1)\n",
    "    def forward(self,x):\n",
    "        x = self.identityblock1(x)\n",
    "        x = self.identityblock2(x)\n",
    "        x = self.identityblock3(x)\n",
    "        x = self.identityblock4(x)\n",
    "        p = self.maxpool(x)\n",
    "        \n",
    "        return x , p\n",
    "class Conv4(nn.Module):\n",
    "    def __init__(self,in_channels, out_channels):\n",
    "        super(Conv4,self).__init__()         \n",
    "        self.identityblock1 = IdentityBlock(in_channels,in_channels)\n",
    "        self.identityblock2 = IdentityBlock(in_channels,in_channels)\n",
    "        self.identityblock3 = IdentityBlock(in_channels,in_channels)\n",
    "        self.identityblock4 = IdentityBlock(in_channels,in_channels)\n",
    "        self.identityblock5 = IdentityBlock(in_channels,in_channels)\n",
    "        self.identityblock6 = IdentityBlock(in_channels,out_channels)\n",
    "        self.maxpool = nn.MaxPool2d(kernel_size=3, stride=2,padding=1)\n",
    "    def forward(self,x):\n",
    "        x = self.identityblock1(x)\n",
    "        x = self.identityblock2(x)\n",
    "        x = self.identityblock3(x)\n",
    "        x = self.identityblock4(x)\n",
    "        x = self.identityblock5(x)\n",
    "        x = self.identityblock6(x)\n",
    "        p = self.maxpool(x)\n",
    "        \n",
    "        return x , p\n",
    "class Conv5(nn.Module):\n",
    "    def __init__(self,in_channels, out_channels):\n",
    "        super(Conv5,self).__init__() \n",
    "        self.identityblock1 = IdentityBlock(in_channels,in_channels)\n",
    "        self.identityblock2 = IdentityBlock(in_channels,in_channels)\n",
    "        self.identityblock3 = IdentityBlock(in_channels,out_channels)\n",
    "        self.maxpool = nn.MaxPool2d(kernel_size=3, stride=2,padding=1)\n",
    "        \n",
    "    def forward(self,x):\n",
    "        x = self.identityblock1(x)\n",
    "        x = self.identityblock2(x)\n",
    "        x = self.identityblock3(x)\n",
    "        p = self.maxpool(x)\n",
    "        \n",
    "        return x , p\n",
    "#디코더 블럭\n",
    "class DecoderBlock(nn.Module):\n",
    "    def __init__(self, channels):\n",
    "        super(DecoderBlock, self).__init__()\n",
    "        self.upsample = nn.ConvTranspose2d(channels*2, channels, kernel_size=4, stride=2, padding=1) # output_padding 추가\n",
    "        self.convblock1 = IdentityBlock(channels*2, channels)\n",
    "\n",
    "    def forward(self, x, skip):\n",
    "        x = self.upsample(x)\n",
    "        if x.size(2) != skip.size(2) or x.size(3) != skip.size(3):\n",
    "            x = F.interpolate(x, size=(skip.size(2), skip.size(3)))\n",
    "        x = torch.cat([x, skip], dim=1)\n",
    "        x = self.convblock1(x)\n",
    "        #print(\"x\",x.shape,\"skip: \",skip.shape)\n",
    "        return x\n",
    "\n",
    "#Unet구조 middle의 xm값의 움직임에 주의\n",
    "class Resnet34_Unet(nn.Module):\n",
    "    def __init__(self,n_classes):\n",
    "        super(Resnet34_Unet,self).__init__()\n",
    "        self.fconv1 = nn.Conv2d(3, 64, kernel_size=7, stride=2, padding=3)\n",
    "        self.fbn1 = nn.BatchNorm2d(64)\n",
    "        self.frelu1 = nn.ReLU()\n",
    "        self.fmaxpooling = nn.MaxPool2d(kernel_size=3,stride=2,padding=1)\n",
    "        \n",
    "        self.conv2 = Conv2(64,128)\n",
    "        self.conv3 = Conv3(128,256)\n",
    "        self.conv4 = Conv4(256,512)\n",
    "        self.conv5 = Conv5(512,1024)\n",
    "        \n",
    "        self.middleconv = IdentityBlock(1024,2048)\n",
    "        self.dropout = nn.Dropout2d(0.1) #\n",
    "           \n",
    "        self.decoder5 = DecoderBlock(1024)\n",
    "        self.decoder4 = DecoderBlock(512)\n",
    "        self.decoder3 = DecoderBlock(256)\n",
    "        self.decoder2 = DecoderBlock(128)\n",
    "        self.decoder1 = DecoderBlock(64)\n",
    "        self.transpose = nn.ConvTranspose2d(64, 64, kernel_size=4, stride=2, padding=1) # output_padding 추가\n",
    "        \n",
    "        self.segmap = nn.Conv2d(64,n_classes, kernel_size=1)\n",
    "        self.domain_classifier = domain_classifier()\n",
    "        self.domain_linear = domain_linear()\n",
    "        \n",
    "    def forward(self,x):\n",
    "        x = self.fconv1(x)#3->64\n",
    "        x0 = self.fbn1(x)\n",
    "        x1 = self.frelu1(x)\n",
    "        p = self.fmaxpooling(x1)#첫 conv: x0([8, 64, 109, 109]) p([8, 64, 54, 54])\n",
    "        #print(\"conv1: \",x1.shape, \"maxpooling: \",p.shape)\n",
    "        x2,p = self.conv2(p)\n",
    "        #print(\"conv2: \",x2.shape, \"maxpooling: \",p.shape)\n",
    "        x3,p = self.conv3(p)\n",
    "        #print(\"conv3: \",x3.shape, \"maxpooling: \",p.shape)\n",
    "        x4,p = self.conv4(p)\n",
    "        #print(\"conv4: \",x4.shape, \"maxpooling: \",p.shape)\n",
    "        x5,p = self.conv5(p)\n",
    "        #print(\"conv5: \",x5.shape, \"maxpooling: \",p.shape)\n",
    "        \n",
    "        xm = self.middleconv(p)#xm([8, 4096, 2, 2])\n",
    "        #print(\"xm: \",xm.shape, \"maxpooling: \",p.shape)\n",
    "        xm = self.dropout(xm)\n",
    "        \n",
    "        x = self.decoder5(xm,x5)#뉴런:2048*2->2048 1\n",
    "        x = self.decoder4(x,x4)#뉴런:1024*2->1024 \n",
    "        x = self.decoder3(x,x3) #14\n",
    "        x = self.decoder2(x,x2)#28\n",
    "        x = self.decoder1(x,x1)#55\n",
    "        x = self.transpose(x)\n",
    "        \n",
    "        #print(x.shape)\n",
    "        #x = F.interpolate(x, size=(224, 224))\n",
    "        x_c = self.segmap(x)\n",
    "        #x_d = self.domain_linear(x)\n",
    "        x_d = self.domain_classifier(x)\n",
    "        \n",
    "        \n",
    "        return x_c,x_d"
   ]
  },
  {
   "cell_type": "markdown",
   "metadata": {},
   "source": [
    "## Resnet18"
   ]
  },
  {
   "cell_type": "code",
   "execution_count": 10,
   "metadata": {},
   "outputs": [],
   "source": [
    "# class GradReverse(torch.autograd.Function):\n",
    "#     @staticmethod\n",
    "#     def forward(self, x):\n",
    "#         return x.view_as(x)\n",
    "#     @staticmethod\n",
    "#     def backward(self, grad_output): # 역전파 시에 gradient에 음수를 취함\n",
    "#         return grad_output * (-1)\n",
    "\n",
    "# class domain_classifier(nn.Module):\n",
    "#     def __init__(self):\n",
    "#         super(domain_classifier, self).__init__()\n",
    "#         self.fc1 = nn.Linear(224*224*64, 10)\n",
    "#         self.fc2 = nn.Linear(10, 4) # source = 0, target = 1 회귀 가정\n",
    "\n",
    "#     def forward(self, x):\n",
    "#         x = x.view(-1, 224*224*64)\n",
    "#         x = GradReverse.apply(x) # gradient reverse\n",
    "#         x = F.leaky_relu(self.fc1(x))\n",
    "#         x = self.fc2(x)\n",
    "        \n",
    "#         #return torch.sigmoid(x)\n",
    "#         return x\n",
    "\n",
    "# class IdentityBlock(nn.Module):\n",
    "#     def __init__(self, in_channels, out_channels, stride=1):\n",
    "#         super(IdentityBlock, self).__init__()\n",
    "        \n",
    "#         # 3x3 convolution\n",
    "#         self.conv1 = nn.Conv2d(in_channels, in_channels, kernel_size=3, padding=1, stride=stride, bias=False)\n",
    "#         self.bn1 = nn.BatchNorm2d(in_channels)\n",
    "#         self.relu1 = nn.ReLU()\n",
    "        \n",
    "#         # 3x3 convolution\n",
    "#         self.conv2 = nn.Conv2d(in_channels, out_channels, kernel_size=3, padding=1, bias=False)\n",
    "#         self.bn2 = nn.BatchNorm2d(out_channels)\n",
    "#         self.relu2 = nn.ReLU()\n",
    "        \n",
    "#         # Skip connection\n",
    "#         self.skip = nn.Sequential()\n",
    "#         if stride != 1 or in_channels != out_channels:\n",
    "#             self.skip = nn.Sequential(\n",
    "#                 nn.Conv2d(in_channels, out_channels, kernel_size=1, stride=stride, bias=False),\n",
    "#                 nn.BatchNorm2d(out_channels)\n",
    "#             )\n",
    "        \n",
    "#     def forward(self, x):\n",
    "#         identity = x\n",
    "        \n",
    "#         out = self.conv1(x)\n",
    "#         out = self.bn1(out)\n",
    "#         out = self.relu1(out)\n",
    "        \n",
    "#         out = self.conv2(out)\n",
    "#         out = self.bn2(out)\n",
    "        \n",
    "#         # Adding the skip connection\n",
    "#         out += self.skip(identity)\n",
    "#         out = self.relu2(out)\n",
    "        \n",
    "#         return out\n",
    "\n",
    "\n",
    "# #인코더 블럭\n",
    "# class Conv2(nn.Module):\n",
    "#     def __init__(self,in_channels, out_channels):\n",
    "#         super(Conv2,self).__init__() \n",
    "#         self.identityblock1 = IdentityBlock(in_channels,in_channels)\n",
    "#         self.identityblock2 = IdentityBlock(in_channels,out_channels)\n",
    "#         self.maxpool = nn.MaxPool2d(kernel_size=3, stride=2,padding=1)\n",
    "#     def forward(self,x):\n",
    "#         x = self.identityblock1(x)\n",
    "#         x = self.identityblock2(x)\n",
    "#         p = self.maxpool(x)\n",
    "        \n",
    "#         return x , p\n",
    "# class Conv3(nn.Module):\n",
    "#     def __init__(self,in_channels, out_channels):\n",
    "#         super(Conv3,self).__init__()         \n",
    "#         self.identityblock1 = IdentityBlock(in_channels,in_channels)\n",
    "#         self.identityblock2 = IdentityBlock(in_channels,out_channels)\n",
    "#         self.maxpool = nn.MaxPool2d(kernel_size=3, stride=2,padding=1)\n",
    "#     def forward(self,x):\n",
    "#         x = self.identityblock1(x)\n",
    "#         x = self.identityblock2(x)\n",
    "#         p = self.maxpool(x)\n",
    "        \n",
    "#         return x , p\n",
    "# class Conv4(nn.Module):\n",
    "#     def __init__(self,in_channels, out_channels):\n",
    "#         super(Conv4,self).__init__()         \n",
    "#         self.identityblock1 = IdentityBlock(in_channels,in_channels)\n",
    "#         self.identityblock2 = IdentityBlock(in_channels,out_channels)\n",
    "#         self.maxpool = nn.MaxPool2d(kernel_size=3, stride=2,padding=1)\n",
    "#     def forward(self,x):\n",
    "#         x = self.identityblock1(x)\n",
    "#         x = self.identityblock2(x)\n",
    "#         p = self.maxpool(x)\n",
    "        \n",
    "#         return x , p\n",
    "# class Conv5(nn.Module):\n",
    "#     def __init__(self,in_channels, out_channels):\n",
    "#         super(Conv5,self).__init__() \n",
    "#         self.identityblock1 = IdentityBlock(in_channels,in_channels)\n",
    "#         self.identityblock2 = IdentityBlock(in_channels,out_channels)\n",
    "#         self.maxpool = nn.MaxPool2d(kernel_size=3, stride=2,padding=1)\n",
    "        \n",
    "#     def forward(self,x):\n",
    "#         x = self.identityblock1(x)\n",
    "#         x = self.identityblock2(x)\n",
    "#         p = self.maxpool(x)\n",
    "        \n",
    "#         return x , p\n",
    "# #디코더 블럭\n",
    "# class DecoderBlock(nn.Module):\n",
    "#     def __init__(self, channels):\n",
    "#         super(DecoderBlock, self).__init__()\n",
    "#         self.upsample = nn.ConvTranspose2d(channels*2, channels, kernel_size=4, stride=2, padding=1) # output_padding 추가\n",
    "#         self.convblock1 = IdentityBlock(channels*2, channels)\n",
    "\n",
    "#     def forward(self, x, skip):\n",
    "#         x = self.upsample(x)\n",
    "#         if x.size(2) != skip.size(2) or x.size(3) != skip.size(3):\n",
    "#             x = F.interpolate(x, size=(skip.size(2), skip.size(3)))\n",
    "#         x = torch.cat([x, skip], dim=1)\n",
    "#         x = self.convblock1(x)\n",
    "#         #print(\"x\",x.shape,\"skip: \",skip.shape)\n",
    "#         return x\n",
    "\n",
    "# #Unet구조 middle의 xm값의 움직임에 주의\n",
    "# class Resnet18_Unet(nn.Module):\n",
    "#     def __init__(self,n_classes):\n",
    "#         super(Resnet18_Unet,self).__init__()\n",
    "#         self.fconv1 = nn.Conv2d(3, 64, kernel_size=7, stride=2, padding=3)\n",
    "#         self.fbn1 = nn.BatchNorm2d(64)\n",
    "#         self.frelu1 = nn.ReLU()\n",
    "#         self.fmaxpooling = nn.MaxPool2d(kernel_size=3,stride=2,padding=1)\n",
    "        \n",
    "#         self.conv2 = Conv2(64,128)\n",
    "#         self.conv3 = Conv3(128,256)\n",
    "#         self.conv4 = Conv4(256,512)\n",
    "#         self.conv5 = Conv5(512,1024)\n",
    "        \n",
    "#         self.middleconv = IdentityBlock(1024,2048)\n",
    "#         self.dropout = nn.Dropout2d(0.1) #\n",
    "           \n",
    "#         self.decoder5 = DecoderBlock(1024)\n",
    "#         self.decoder4 = DecoderBlock(512)\n",
    "#         self.decoder3 = DecoderBlock(256)\n",
    "#         self.decoder2 = DecoderBlock(128)\n",
    "#         self.decoder1 = DecoderBlock(64)\n",
    "#         self.transpose = nn.ConvTranspose2d(64, 64, kernel_size=4, stride=2, padding=1) # output_padding 추가\n",
    "        \n",
    "#         self.segmap = nn.Conv2d(64,n_classes, kernel_size=1)\n",
    "#         self.domain_classifier = domain_classifier()\n",
    "        \n",
    "#     def forward(self,x):\n",
    "#         x = self.fconv1(x)#3->64\n",
    "#         x0 = self.fbn1(x)\n",
    "#         x1 = self.frelu1(x)\n",
    "#         p = self.fmaxpooling(x1)#첫 conv: x0([8, 64, 109, 109]) p([8, 64, 54, 54])\n",
    "#         #print(\"conv1: \",x1.shape, \"maxpooling: \",p.shape)\n",
    "#         x2,p = self.conv2(p)\n",
    "#         #print(\"conv2: \",x2.shape, \"maxpooling: \",p.shape)\n",
    "#         x3,p = self.conv3(p)\n",
    "#         #print(\"conv3: \",x3.shape, \"maxpooling: \",p.shape)\n",
    "#         x4,p = self.conv4(p)\n",
    "#         #print(\"conv4: \",x4.shape, \"maxpooling: \",p.shape)\n",
    "#         x5,p = self.conv5(p)\n",
    "#         #print(\"conv5: \",x5.shape, \"maxpooling: \",p.shape)\n",
    "        \n",
    "#         xm = self.middleconv(p)#xm([8, 4096, 2, 2])\n",
    "#         #print(\"xm: \",xm.shape, \"maxpooling: \",p.shape)\n",
    "#         xm = self.dropout(xm)\n",
    "        \n",
    "#         x = self.decoder5(xm,x5)#뉴런:2048*2->2048 1\n",
    "#         x = self.decoder4(x,x4)#뉴런:1024*2->1024 \n",
    "#         x = self.decoder3(x,x3) #14\n",
    "#         x = self.decoder2(x,x2)#28\n",
    "#         x = self.decoder1(x,x1)#55\n",
    "#         x = self.transpose(x)\n",
    "        \n",
    "#         #print(x.shape)\n",
    "#         #x = F.interpolate(x, size=(224, 224))\n",
    "#         x_c = self.segmap(x)\n",
    "#         x_d = self.domain_classifier(x)\n",
    "        \n",
    "#         return x_c,x_d"
   ]
  },
  {
   "cell_type": "code",
   "execution_count": 11,
   "metadata": {},
   "outputs": [],
   "source": [
    "# import pickle\n",
    "\n",
    "# # 저장된 class_weights를 불러옵니다.\n",
    "# class_weights_path = 'CLASS_WEIGHTS.pkl'\n",
    "\n",
    "# with open(class_weights_path, 'rb') as file:\n",
    "#     CLASS_WEIGHTS = pickle.load(file)\n",
    "\n",
    "# print(CLASS_WEIGHTS)"
   ]
  },
  {
   "cell_type": "markdown",
   "metadata": {},
   "source": [
    "## Loss Function"
   ]
  },
  {
   "cell_type": "code",
   "execution_count": 12,
   "metadata": {},
   "outputs": [],
   "source": [
    "# loss function과 optimizer 정의\n",
    "\n",
    "class DANN_Loss(nn.Module):\n",
    "    def __init__(self):\n",
    "        super(DANN_Loss, self).__init__()\n",
    "\n",
    "        #self.CE = nn.CrossEntropyLoss(weight=CLASS_WEIGHTS) # 0~9 class 분류용\n",
    "        self.CE = nn.CrossEntropyLoss()\n",
    "        #self.BCE = nn.BCELoss() # 도메인 분류용\n",
    "        \n",
    "    # result : DANN_CNN에서 반환된 값\n",
    "    # label : 숫자 0 ~ 9에 대한 라벨\n",
    "    # domain_num : 0(source) or 1(target)\n",
    "    def forward(self, result, label, domain_num, alpha = 1):\n",
    "        label_logits, domain_logits = result # DANN_CNN의 결과\n",
    "\n",
    "        batch_size = domain_logits.shape[0]\n",
    "\n",
    "        # print(\"segment_mask : \", label.shape)\n",
    "        # print(\"domain_answer : \", domain_target.shape)\n",
    "        segment_loss = self.CE(label_logits, label) # class 분류 loss\n",
    "\n",
    "        # domain_target = torch.FloatTensor([domain_num] * batch_size).unsqueeze(1).to(device)\n",
    "        # domain_loss = self.BCE(domain_logits, domain_target)\n",
    "\n",
    "        domain_target = torch.LongTensor([domain_num] * batch_size).to(device)\n",
    "        domain_loss = self.CE(domain_logits, domain_target) # domain 분류 loss\n",
    "        \n",
    "        loss = segment_loss + alpha * domain_loss\n",
    "\n",
    "        return loss, segment_loss, domain_loss\n",
    "    \n",
    "\n",
    "loss_fn = DANN_Loss().to(device)\n",
    "\n",
    "#criterion =nn.CrossEntropyLoss()\n",
    "#domain_criterion = nn.BCELoss()\n",
    "#criterion = nn.CrossEntropyLoss(weight=class_weights)"
   ]
  },
  {
   "cell_type": "code",
   "execution_count": 13,
   "metadata": {},
   "outputs": [],
   "source": [
    "import os\n",
    "os.environ['CUDA_LAUNCH_BLOCKING'] = '1'"
   ]
  },
  {
   "cell_type": "code",
   "execution_count": 14,
   "metadata": {},
   "outputs": [],
   "source": [
    "LR = 0.001\n",
    "EP = 100\n",
    "BATCH_SIZE = 16\n",
    "ACCMULATION_STEP = 1 \n",
    "N_CLASSES = 13 #IoU 점수측정하기 위한 클래스의 개수\n",
    "ALPHA = 0.01\n",
    "N_LABELS = 4\n",
    "# model 초기화\n",
    "#model = Resnet18_Unet(n_classes = N_CLASSES).to(device)\n",
    "model = Resnet34_Unet(n_classes = N_CLASSES).to(device)\n",
    "#model = Resnet50_Unet(n_classes = N_CLASSES).to(device)\n",
    "#model = Unet(n_classes = N_CLASSES).to(device)\n",
    "optimizer = torch.optim.Adam(model.parameters(), lr=LR)\n",
    "\n",
    "optimizer.zero_grad() \n",
    "\n",
    "source_dataset = CustomDataset(csv_file='./data/896_csv/train_source.csv', transform=transform)\n",
    "source_dataloader = DataLoader(source_dataset, batch_size=BATCH_SIZE, shuffle=True)\n",
    "val_target_dataset = CustomDataset(csv_file='./data/896_csv/val_source.csv', transform=transform)\n",
    "val_target_dataloader = DataLoader(val_target_dataset, batch_size=BATCH_SIZE, shuffle=False)\n"
   ]
  },
  {
   "cell_type": "code",
   "execution_count": 15,
   "metadata": {},
   "outputs": [],
   "source": [
    "# import pandas as pd\n",
    "# import os\n",
    "# import cv2\n",
    "# import matplotlib.pyplot as plt\n",
    "# a1 = pd.read_csv(\"./data/6_fish_source.csv\")\n",
    "# p = \"./data/224/\"\n",
    "# a2 = os.path.join(p, a1.iloc[3,2])\n",
    "# a3 = cv2.imread(a2)\n",
    "# a4 = cv2.cvtColor(a3, cv2.COLOR_BGR2GRAY)\n",
    "# a4 = np.round(a4).astype(np.uint8)\n",
    "# a5 = a4*20\n",
    "\n",
    "# plt.imshow(a5, cmap='gray')\n",
    "# plt.axis('off')\n",
    "# plt.show()"
   ]
  },
  {
   "cell_type": "code",
   "execution_count": 16,
   "metadata": {},
   "outputs": [],
   "source": [
    "# import random\n",
    "# #torch.cuda.empty_cache()\n",
    "# # import wandb\n",
    "\n",
    "\n",
    "# # wandb.init(\n",
    "# #     # set the wandb project where this run will be logged\n",
    "# #     project=\"practice_10_27_4d_res18\",\n",
    "    \n",
    "# #     # track hyperparameters and run metadata\n",
    "# #     config={\n",
    "# #     \"learning_rate\": LR,\n",
    "# #     \"architecture\": \"CNN\",\n",
    "# #     \"dataset\": \"Samsung\",\n",
    "# #     \"epochs\": EP,\n",
    "# #     }\n",
    "# # )\n",
    "\n",
    "# for epoch in range(EP):\n",
    "#     # 클래스별 IoU를 누적할 리스트 초기화\n",
    "#     train_class_ious = []\n",
    "#     fish_train_class_ious = []\n",
    "#     # 학습\n",
    "#     model.train()\n",
    "#     epoch_loss = 0\n",
    "#     seg_loss = 0\n",
    "#     dom_loss = 0\n",
    "\n",
    "#     for source_images, source_masks in tqdm(source_dataloader):\n",
    "#         label = random.randint(0,3)\n",
    "#         source_images, source_masks = apply_fisheye_distortion(source_images, source_masks, label)\n",
    "#         source_images = source_images.float().to(device)\n",
    "#         source_masks = source_masks.long().to(device)\n",
    "\n",
    "#         optimizer.zero_grad()\n",
    "#         source_outputs = model(source_images)\n",
    "\n",
    "#         source_loss, segment_loss, domain_loss = loss_fn(source_outputs, source_masks, label, alpha = ALPHA)\n",
    "\n",
    "#         loss = source_loss\n",
    "#         epoch_loss += loss.item()\n",
    "#         seg_loss += segment_loss.item()\n",
    "#         dom_loss += domain_loss.item()\n",
    "\n",
    "#         loss.backward()\n",
    "#         optimizer.step()\n",
    "#         #scheduler.step()\n",
    "#                 # train 클래스별 IoU 계산\n",
    "#         source_outputs = torch.softmax(source_outputs[0], dim=1).cpu()\n",
    "#         source_outputs = torch.argmax(source_outputs, dim=1).numpy()\n",
    "\n",
    "#         for class_id in range(N_CLASSES):\n",
    "#             iou = calculate_iou_per_class(np.array(source_masks.cpu()), np.array(source_outputs), class_id)\n",
    "#             train_class_ious.append(iou)\n",
    "\n",
    "#     train_class_ious = np.array(train_class_ious).reshape(N_CLASSES, -1)\n",
    "#     train_class_ious = np.mean(train_class_ious, axis=1)\n",
    "#     print(\"--IoU Scores Train--\")\n",
    "#     for class_id, iou in enumerate(train_class_ious):\n",
    "#         print(f'Class{class_id}: {iou:.4f}', end=\" \")\n",
    "#         if (class_id+1) % 7 == 0:\n",
    "#             print()\n",
    "\n",
    "#     # mIoU 계산\n",
    "#     train_mIoU = np.mean(train_class_ious)\n",
    "\n",
    "#     # 에폭마다 결과 출력 \n",
    "#     print(f\"\\nEpoch{epoch+1}\")\n",
    "#     print(f\"Train seg Loss: {(seg_loss/len(source_dataloader))}\")\n",
    "#     print(f\"Train dom Loss: {(dom_loss/len(source_dataloader))}\")\n",
    "#     print(f\"Train Loss: {(epoch_loss/len(source_dataloader))}\")\n",
    "#     print(f\"Train mIoU: {train_mIoU}\" )\n",
    "#     print(\"___________________________________________________________________________________________\\n\")\n",
    "\n",
    "\n",
    "#     ################################################################\n",
    "#     # 클래스별 IoU를 누적할 리스트 초기화\n",
    "#     val_class_ious = []\n",
    "#     fish_val_class_ious = []\n",
    "#     val_epoch_loss = 0\n",
    "#     val_seg_loss = 0\n",
    "#     val_dom_loss = 0\n",
    "#     # 학습\n",
    "#     with torch.no_grad():\n",
    "#         model.eval()\n",
    "\n",
    "#         for target_images, target_masks in tqdm(val_target_dataloader):\n",
    "#             label = 2.5\n",
    "#             target_images, target_masks = apply_fisheye_distortion(target_images, target_masks, label)\n",
    "#             target_images = target_images.float().to(device)\n",
    "#             target_masks = target_masks.long().to(device)\n",
    "\n",
    "#             target_outputs = model(target_images)\n",
    "\n",
    "#             target_loss, val_segment_loss, val_domain_loss = loss_fn(target_outputs, target_masks, 0, alpha = ALPHA)\n",
    "\n",
    "#             loss = target_loss\n",
    "\n",
    "#             val_epoch_loss += loss.item()\n",
    "#             val_seg_loss += val_segment_loss.item()\n",
    "#             val_dom_loss += val_domain_loss.item()\n",
    "\n",
    "#             # train 클래스별 IoU 계산\n",
    "#             target_outputs = torch.softmax(target_outputs[0], dim=1).cpu()\n",
    "#             target_outputs = torch.argmax(target_outputs, dim=1).numpy()\n",
    "\n",
    "#             for class_id in range(N_CLASSES):\n",
    "#                 iou = calculate_iou_per_class(np.array(target_masks.cpu()), np.array(target_outputs), class_id)\n",
    "#                 fish_val_class_ious.append(iou)\n",
    "\n",
    "#     fish_val_class_ious = np.array(fish_val_class_ious).reshape(N_CLASSES, -1)\n",
    "#     fish_val_class_ious = np.mean(fish_val_class_ious, axis=1)\n",
    "#     print()\n",
    "#     print(\"--IoU Scores Fish val--\")\n",
    "#     for class_id, iou in enumerate(fish_val_class_ious):\n",
    "#         print(f'Class{class_id}: {iou:.4f}', end=\" \")\n",
    "#         if (class_id+1) % 7 == 0:\n",
    "#             print()\n",
    "\n",
    "#     # mIoU 계산\n",
    "#     fish_val_mIoU = np.mean(fish_val_class_ious)\n",
    "\n",
    "#     # 에폭마다 결과 출력 \n",
    "#     print(f\"\\nEpoch{epoch+1}\")\n",
    "#     print(f\"Valid seg Loss: {(val_seg_loss/len(val_target_dataloader))}\")\n",
    "#     print(f\"Valid dom Loss: {(val_dom_loss/len(val_target_dataloader))}\")\n",
    "#     print(f\"Valid Loss: {(val_epoch_loss/len(val_target_dataloader))}\")\n",
    "#     print(f\"Valid mIoU: {fish_val_mIoU}\" )\n",
    "#     print(\"___________________________________________________________________________________________\\n\")\n",
    "\n",
    "# #     # log metrics to wandb\n",
    "# #     wandb.log({\"train score\": train_mIoU})\n",
    "# #     wandb.log({\"val score\": fish_val_mIoU})\n",
    "# #     wandb.log({\"train loss\": (epoch_loss/len(source_dataloader))})\n",
    "# #     wandb.log({\"val loss\": (val_epoch_loss/len(val_target_dataloader))})\n",
    "    \n",
    "    \n",
    "# # # [optional] finish the wandb run, necessary in notebooks\n",
    "# # wandb.finish()\n"
   ]
  },
  {
   "cell_type": "code",
   "execution_count": 17,
   "metadata": {},
   "outputs": [
    {
     "name": "stderr",
     "output_type": "stream",
     "text": [
      "Failed to detect the name of this notebook, you can set it manually with the WANDB_NOTEBOOK_NAME environment variable to enable code saving.\n",
      "\u001b[34m\u001b[1mwandb\u001b[0m: Currently logged in as: \u001b[33mpook0612\u001b[0m (\u001b[33mlimbw\u001b[0m). Use \u001b[1m`wandb login --relogin`\u001b[0m to force relogin\n"
     ]
    },
    {
     "data": {
      "text/html": [
       "wandb version 0.15.12 is available!  To upgrade, please run:\n",
       " $ pip install wandb --upgrade"
      ],
      "text/plain": [
       "<IPython.core.display.HTML object>"
      ]
     },
     "metadata": {},
     "output_type": "display_data"
    },
    {
     "data": {
      "text/html": [
       "Tracking run with wandb version 0.15.10"
      ],
      "text/plain": [
       "<IPython.core.display.HTML object>"
      ]
     },
     "metadata": {},
     "output_type": "display_data"
    },
    {
     "data": {
      "text/html": [
       "Run data is saved locally in <code>/home/MMI24limbyungwan/Design_Project/Design_project/wandb/run-20231107_035543-3xd75ig9</code>"
      ],
      "text/plain": [
       "<IPython.core.display.HTML object>"
      ]
     },
     "metadata": {},
     "output_type": "display_data"
    },
    {
     "data": {
      "text/html": [
       "Syncing run <strong><a href='https://wandb.ai/limbw/practice_11_07_4d_res34/runs/3xd75ig9' target=\"_blank\">feasible-morning-1</a></strong> to <a href='https://wandb.ai/limbw/practice_11_07_4d_res34' target=\"_blank\">Weights & Biases</a> (<a href='https://wandb.me/run' target=\"_blank\">docs</a>)<br/>"
      ],
      "text/plain": [
       "<IPython.core.display.HTML object>"
      ]
     },
     "metadata": {},
     "output_type": "display_data"
    },
    {
     "data": {
      "text/html": [
       " View project at <a href='https://wandb.ai/limbw/practice_11_07_4d_res34' target=\"_blank\">https://wandb.ai/limbw/practice_11_07_4d_res34</a>"
      ],
      "text/plain": [
       "<IPython.core.display.HTML object>"
      ]
     },
     "metadata": {},
     "output_type": "display_data"
    },
    {
     "data": {
      "text/html": [
       " View run at <a href='https://wandb.ai/limbw/practice_11_07_4d_res34/runs/3xd75ig9' target=\"_blank\">https://wandb.ai/limbw/practice_11_07_4d_res34/runs/3xd75ig9</a>"
      ],
      "text/plain": [
       "<IPython.core.display.HTML object>"
      ]
     },
     "metadata": {},
     "output_type": "display_data"
    },
    {
     "name": "stderr",
     "output_type": "stream",
     "text": [
      "Epoch: 1: 100%|██████████| 138/138 [05:35<00:00,  2.43s/it]\n"
     ]
    },
    {
     "name": "stdout",
     "output_type": "stream",
     "text": [
      "\n",
      "Label_0: IoU Scores Train\n",
      "Class00: 0.1190 Class01: 0.2611 Class02: 0.2898 Class03: 0.2926 Class04: 0.3099 Class05: 0.3100 Class06: 0.3368 \n",
      "Class07: 0.3156 Class08: 0.3417 Class09: 0.3613 Class10: 0.3480 Class11: 0.3617 Class12: 0.3558 \n",
      "Label_1: IoU Scores Train\n",
      "Class00: 0.0666 Class01: 0.1000 Class02: 0.1083 Class03: 0.1110 Class04: 0.1122 Class05: 0.1130 Class06: 0.1224 \n",
      "Class07: 0.1148 Class08: 0.1219 Class09: 0.1293 Class10: 0.1268 Class11: 0.1289 Class12: 0.1283 \n",
      "Label_2: IoU Scores Train\n",
      "Class00: 0.0577 Class01: 0.0841 Class02: 0.0908 Class03: 0.0924 Class04: 0.0945 Class05: 0.0936 Class06: 0.1018 \n",
      "Class07: 0.0954 Class08: 0.1011 Class09: 0.1067 Class10: 0.1049 Class11: 0.1062 Class12: 0.1063 \n",
      "Label_3: IoU Scores Train\n",
      "Class00: 0.0529 Class01: 0.0768 Class02: 0.0815 Class03: 0.0831 Class04: 0.0855 Class05: 0.0836 Class06: 0.0911 \n",
      "Class07: 0.0853 Class08: 0.0905 Class09: 0.0949 Class10: 0.0933 Class11: 0.0944 Class12: 0.0944 \n",
      "Train seg Loss: 0.3747551416357358 Train dom Loss: 3.19325318349106\n",
      "Train Loss: 0.3750744670413543\n",
      "Train mIoU: 0.15056665146174958\n"
     ]
    },
    {
     "name": "stderr",
     "output_type": "stream",
     "text": [
      "100%|██████████| 30/30 [00:45<00:00,  1.50s/it]\n"
     ]
    },
    {
     "name": "stdout",
     "output_type": "stream",
     "text": [
      "\n",
      "--IoU Scores Fish val--\n",
      "Class0: 0.3321 Class1: 0.2582 Class2: 0.2913 Class3: 0.3359 Class4: 0.2720 Class5: 0.2843 Class6: 0.3341 \n",
      "Class7: 0.2562 Class8: 0.2993 Class9: 0.2915 Class10: 0.2911 Class11: 0.2675 Class12: 0.3201 \n",
      "Epoch1\n",
      "Valid Seg Loss: 0.2422900155186653 Valid dom Loss: 315.2717549641927\n",
      "Valid Loss: 0.2738171900312106\n",
      "Valid mIoU: 0.29488827148903546\n",
      "___________________________________________________________________________________________\n",
      "\n"
     ]
    },
    {
     "name": "stderr",
     "output_type": "stream",
     "text": [
      "Epoch: 2: 100%|██████████| 138/138 [05:38<00:00,  2.45s/it]\n"
     ]
    },
    {
     "name": "stdout",
     "output_type": "stream",
     "text": [
      "\n",
      "Label_0: IoU Scores Train\n",
      "Class00: 0.3676 Class01: 0.3942 Class02: 0.3958 Class03: 0.4027 Class04: 0.4026 Class05: 0.4016 Class06: 0.4288 \n",
      "Class07: 0.4179 Class08: 0.4423 Class09: 0.4445 Class10: 0.4202 Class11: 0.4245 Class12: 0.4355 \n",
      "Label_1: IoU Scores Train\n",
      "Class00: 0.1300 Class01: 0.1368 Class02: 0.1369 Class03: 0.1383 Class04: 0.1357 Class05: 0.1405 Class06: 0.1438 \n",
      "Class07: 0.1412 Class08: 0.1449 Class09: 0.1482 Class10: 0.1429 Class11: 0.1451 Class12: 0.1447 \n",
      "Label_2: IoU Scores Train\n",
      "Class00: 0.1069 Class01: 0.1131 Class02: 0.1127 Class03: 0.1133 Class04: 0.1119 Class05: 0.1152 Class06: 0.1176 \n",
      "Class07: 0.1152 Class08: 0.1169 Class09: 0.1209 Class10: 0.1170 Class11: 0.1190 Class12: 0.1178 \n",
      "Label_3: IoU Scores Train\n",
      "Class00: 0.0949 Class01: 0.1008 Class02: 0.1000 Class03: 0.1002 Class04: 0.0990 Class05: 0.1017 Class06: 0.1036 \n",
      "Class07: 0.1018 Class08: 0.1026 Class09: 0.1065 Class10: 0.1032 Class11: 0.1051 Class12: 0.1036 \n",
      "Train seg Loss: 0.24073596819695356 Train dom Loss: 8.28625626436064e-06\n",
      "Train Loss: 0.2407359689258147\n",
      "Train mIoU: 0.19283855291594182\n"
     ]
    },
    {
     "name": "stderr",
     "output_type": "stream",
     "text": [
      "100%|██████████| 30/30 [00:37<00:00,  1.24s/it]\n"
     ]
    },
    {
     "name": "stdout",
     "output_type": "stream",
     "text": [
      "\n",
      "--IoU Scores Fish val--\n",
      "Class0: 0.3197 Class1: 0.2594 Class2: 0.2889 Class3: 0.3171 Class4: 0.2691 Class5: 0.2900 Class6: 0.3308 \n",
      "Class7: 0.2572 Class8: 0.2871 Class9: 0.3015 Class10: 0.2716 Class11: 0.2834 Class12: 0.3046 \n",
      "Epoch2\n",
      "Valid Seg Loss: 0.2721083953976631 Valid dom Loss: 484.65093688964845\n",
      "Valid Loss: 0.32057348688443504\n",
      "Valid mIoU: 0.29081061624502086\n",
      "___________________________________________________________________________________________\n",
      "\n"
     ]
    },
    {
     "name": "stderr",
     "output_type": "stream",
     "text": [
      "Epoch: 3: 100%|██████████| 138/138 [05:45<00:00,  2.50s/it]\n"
     ]
    },
    {
     "name": "stdout",
     "output_type": "stream",
     "text": [
      "\n",
      "Label_0: IoU Scores Train\n",
      "Class00: 0.4267 Class01: 0.4472 Class02: 0.4528 Class03: 0.4541 Class04: 0.4732 Class05: 0.4564 Class06: 0.4733 \n",
      "Class07: 0.4567 Class08: 0.4592 Class09: 0.4654 Class10: 0.4628 Class11: 0.4782 Class12: 0.4762 \n",
      "Label_1: IoU Scores Train\n",
      "Class00: 0.1456 Class01: 0.1479 Class02: 0.1506 Class03: 0.1480 Class04: 0.1538 Class05: 0.1506 Class06: 0.1527 \n",
      "Class07: 0.1458 Class08: 0.1535 Class09: 0.1483 Class10: 0.1530 Class11: 0.1552 Class12: 0.1554 \n",
      "Label_2: IoU Scores Train\n",
      "Class00: 0.1189 Class01: 0.1200 Class02: 0.1215 Class03: 0.1204 Class04: 0.1240 Class05: 0.1221 Class06: 0.1235 \n",
      "Class07: 0.1186 Class08: 0.1243 Class09: 0.1202 Class10: 0.1238 Class11: 0.1253 Class12: 0.1250 \n",
      "Label_3: IoU Scores Train\n",
      "Class00: 0.1046 Class01: 0.1055 Class02: 0.1061 Class03: 0.1057 Class04: 0.1085 Class05: 0.1074 Class06: 0.1084 \n",
      "Class07: 0.1044 Class08: 0.1090 Class09: 0.1062 Class10: 0.1086 Class11: 0.1102 Class12: 0.1092 \n",
      "Train seg Loss: 0.21114125206688608 Train dom Loss: 5.569985798208718e-05\n",
      "Train Loss: 0.2111412575468421\n",
      "Train mIoU: 0.21008164420924494\n"
     ]
    },
    {
     "name": "stderr",
     "output_type": "stream",
     "text": [
      "100%|██████████| 30/30 [00:41<00:00,  1.39s/it]\n"
     ]
    },
    {
     "name": "stdout",
     "output_type": "stream",
     "text": [
      "\n",
      "--IoU Scores Fish val--\n",
      "Class0: 0.3911 Class1: 0.3137 Class2: 0.3671 Class3: 0.3853 Class4: 0.3249 Class5: 0.3470 Class6: 0.3819 \n",
      "Class7: 0.3068 Class8: 0.3480 Class9: 0.3628 Class10: 0.3379 Class11: 0.3349 Class12: 0.3606 \n",
      "Epoch3\n",
      "Valid Seg Loss: 0.20178577303886414 Valid dom Loss: 546.8420420328777\n",
      "Valid Loss: 0.2564699729283651\n",
      "Valid mIoU: 0.3509130532971571\n",
      "___________________________________________________________________________________________\n",
      "\n"
     ]
    },
    {
     "name": "stderr",
     "output_type": "stream",
     "text": [
      "Epoch: 4: 100%|██████████| 138/138 [05:49<00:00,  2.53s/it]\n"
     ]
    },
    {
     "name": "stdout",
     "output_type": "stream",
     "text": [
      "\n",
      "Label_0: IoU Scores Train\n",
      "Class00: 0.4793 Class01: 0.4916 Class02: 0.4772 Class03: 0.4769 Class04: 0.4692 Class05: 0.4861 Class06: 0.5099 \n",
      "Class07: 0.4663 Class08: 0.5052 Class09: 0.4869 Class10: 0.4905 Class11: 0.5069 Class12: 0.4994 \n",
      "Label_1: IoU Scores Train\n",
      "Class00: 0.1530 Class01: 0.1563 Class02: 0.1510 Class03: 0.1543 Class04: 0.1536 Class05: 0.1553 Class06: 0.1615 \n",
      "Class07: 0.1477 Class08: 0.1590 Class09: 0.1605 Class10: 0.1551 Class11: 0.1612 Class12: 0.1588 \n",
      "Label_2: IoU Scores Train\n",
      "Class00: 0.1237 Class01: 0.1265 Class02: 0.1219 Class03: 0.1245 Class04: 0.1240 Class05: 0.1241 Class06: 0.1302 \n",
      "Class07: 0.1196 Class08: 0.1275 Class09: 0.1297 Class10: 0.1250 Class11: 0.1300 Class12: 0.1279 \n",
      "Label_3: IoU Scores Train\n",
      "Class00: 0.1080 Class01: 0.1109 Class02: 0.1068 Class03: 0.1093 Class04: 0.1089 Class05: 0.1082 Class06: 0.1142 \n",
      "Class07: 0.1052 Class08: 0.1114 Class09: 0.1140 Class10: 0.1094 Class11: 0.1140 Class12: 0.1119 \n",
      "Train seg Loss: 0.1911132095678561 Train dom Loss: 0.000623280059158352\n",
      "Train Loss: 0.1911132718719866\n",
      "Train mIoU: 0.21999084614218808\n"
     ]
    },
    {
     "name": "stderr",
     "output_type": "stream",
     "text": [
      "100%|██████████| 30/30 [00:40<00:00,  1.36s/it]\n"
     ]
    },
    {
     "name": "stdout",
     "output_type": "stream",
     "text": [
      "\n",
      "--IoU Scores Fish val--\n",
      "Class0: 0.4120 Class1: 0.3402 Class2: 0.3943 Class3: 0.4126 Class4: 0.3439 Class5: 0.3749 Class6: 0.4241 \n",
      "Class7: 0.3379 Class8: 0.3733 Class9: 0.3957 Class10: 0.3571 Class11: 0.3530 Class12: 0.3860 \n",
      "Epoch4\n",
      "Valid Seg Loss: 0.17701250637571017 Valid dom Loss: 372.0382090250651\n",
      "Valid Loss: 0.21421632717053096\n",
      "Valid mIoU: 0.37732291914250204\n",
      "___________________________________________________________________________________________\n",
      "\n"
     ]
    },
    {
     "name": "stderr",
     "output_type": "stream",
     "text": [
      "Epoch: 5: 100%|██████████| 138/138 [05:46<00:00,  2.51s/it]\n"
     ]
    },
    {
     "name": "stdout",
     "output_type": "stream",
     "text": [
      "\n",
      "Label_0: IoU Scores Train\n",
      "Class00: 0.4719 Class01: 0.3875 Class02: 0.3847 Class03: 0.4417 Class04: 0.4776 Class05: 0.4640 Class06: 0.4797 \n",
      "Class07: 0.4777 Class08: 0.4912 Class09: 0.4988 Class10: 0.4763 Class11: 0.4953 Class12: 0.4859 \n",
      "Label_1: IoU Scores Train\n",
      "Class00: 0.1571 Class01: 0.1526 Class02: 0.1385 Class03: 0.1467 Class04: 0.1557 Class05: 0.1495 Class06: 0.1547 \n",
      "Class07: 0.1530 Class08: 0.1550 Class09: 0.1550 Class10: 0.1574 Class11: 0.1620 Class12: 0.1587 \n",
      "Label_2: IoU Scores Train\n",
      "Class00: 0.1268 Class01: 0.1190 Class02: 0.1139 Class03: 0.1192 Class04: 0.1257 Class05: 0.1216 Class06: 0.1251 \n",
      "Class07: 0.1224 Class08: 0.1251 Class09: 0.1247 Class10: 0.1267 Class11: 0.1305 Class12: 0.1274 \n",
      "Label_3: IoU Scores Train\n",
      "Class00: 0.1111 Class01: 0.1120 Class02: 0.1004 Class03: 0.1048 Class04: 0.1101 Class05: 0.1067 Class06: 0.1096 \n",
      "Class07: 0.1066 Class08: 0.1091 Class09: 0.1088 Class10: 0.1107 Class11: 0.1141 Class12: 0.1108 \n",
      "Train seg Loss: 0.2266763625126602 Train dom Loss: 73.84501988559897\n",
      "Train Loss: 0.23406086369431106\n",
      "Train mIoU: 0.21252132713836983\n"
     ]
    },
    {
     "name": "stderr",
     "output_type": "stream",
     "text": [
      "100%|██████████| 30/30 [00:39<00:00,  1.31s/it]\n"
     ]
    },
    {
     "name": "stdout",
     "output_type": "stream",
     "text": [
      "\n",
      "--IoU Scores Fish val--\n",
      "Class0: 0.4115 Class1: 0.3324 Class2: 0.3893 Class3: 0.4155 Class4: 0.3436 Class5: 0.3717 Class6: 0.4124 \n",
      "Class7: 0.3350 Class8: 0.3786 Class9: 0.3904 Class10: 0.3588 Class11: 0.3476 Class12: 0.3893 \n",
      "Epoch5\n",
      "Valid Seg Loss: 0.17100594267249108 Valid dom Loss: 834.5689331054688\n",
      "Valid Loss: 0.2544628341992696\n",
      "Valid mIoU: 0.3750922824178273\n",
      "___________________________________________________________________________________________\n",
      "\n"
     ]
    },
    {
     "name": "stderr",
     "output_type": "stream",
     "text": [
      "Epoch: 6: 100%|██████████| 138/138 [05:47<00:00,  2.52s/it]\n"
     ]
    },
    {
     "name": "stdout",
     "output_type": "stream",
     "text": [
      "\n",
      "Label_0: IoU Scores Train\n",
      "Class00: 0.4763 Class01: 0.5033 Class02: 0.4991 Class03: 0.4953 Class04: 0.5131 Class05: 0.5243 Class06: 0.5220 \n",
      "Class07: 0.5116 Class08: 0.5080 Class09: 0.4917 Class10: 0.5086 Class11: 0.4994 Class12: 0.5070 \n",
      "Label_1: IoU Scores Train\n",
      "Class00: 0.1548 Class01: 0.1605 Class02: 0.1553 Class03: 0.1565 Class04: 0.1576 Class05: 0.1594 Class06: 0.1640 \n",
      "Class07: 0.1564 Class08: 0.1586 Class09: 0.1620 Class10: 0.1620 Class11: 0.1586 Class12: 0.1615 \n",
      "Label_2: IoU Scores Train\n",
      "Class00: 0.1246 Class01: 0.1296 Class02: 0.1251 Class03: 0.1257 Class04: 0.1273 Class05: 0.1280 Class06: 0.1322 \n",
      "Class07: 0.1251 Class08: 0.1282 Class09: 0.1312 Class10: 0.1308 Class11: 0.1288 Class12: 0.1304 \n",
      "Label_3: IoU Scores Train\n",
      "Class00: 0.1095 Class01: 0.1136 Class02: 0.1095 Class03: 0.1097 Class04: 0.1119 Class05: 0.1121 Class06: 0.1155 \n",
      "Class07: 0.1091 Class08: 0.1127 Class09: 0.1156 Class10: 0.1150 Class11: 0.1135 Class12: 0.1139 \n",
      "Train seg Loss: 0.17945821692600197 Train dom Loss: 1.0618102240392561e-05\n",
      "Train Loss: 0.17945821800579628\n",
      "Train mIoU: 0.2260640390873318\n"
     ]
    },
    {
     "name": "stderr",
     "output_type": "stream",
     "text": [
      "100%|██████████| 30/30 [00:34<00:00,  1.17s/it]\n"
     ]
    },
    {
     "name": "stdout",
     "output_type": "stream",
     "text": [
      "\n",
      "--IoU Scores Fish val--\n",
      "Class0: 0.3066 Class1: 0.2233 Class2: 0.2597 Class3: 0.3017 Class4: 0.2479 Class5: 0.2357 Class6: 0.3063 \n",
      "Class7: 0.2208 Class8: 0.2566 Class9: 0.2739 Class10: 0.2486 Class11: 0.2576 Class12: 0.2739 \n",
      "Epoch6\n",
      "Valid Seg Loss: 0.35967056850592294 Valid dom Loss: 718.6291666666667\n",
      "Valid Loss: 0.431533482670784\n",
      "Valid mIoU: 0.26250689924881904\n",
      "___________________________________________________________________________________________\n",
      "\n"
     ]
    },
    {
     "name": "stderr",
     "output_type": "stream",
     "text": [
      "Epoch: 7: 100%|██████████| 138/138 [05:50<00:00,  2.54s/it]\n"
     ]
    },
    {
     "name": "stdout",
     "output_type": "stream",
     "text": [
      "\n",
      "Label_0: IoU Scores Train\n",
      "Class00: 0.5034 Class01: 0.5283 Class02: 0.5200 Class03: 0.5124 Class04: 0.5182 Class05: 0.5242 Class06: 0.5396 \n",
      "Class07: 0.5435 Class08: 0.5225 Class09: 0.5308 Class10: 0.5445 Class11: 0.5374 Class12: 0.5260 \n",
      "Label_1: IoU Scores Train\n",
      "Class00: 0.1553 Class01: 0.1632 Class02: 0.1598 Class03: 0.1642 Class04: 0.1636 Class05: 0.1624 Class06: 0.1667 \n",
      "Class07: 0.1635 Class08: 0.1621 Class09: 0.1673 Class10: 0.1660 Class11: 0.1681 Class12: 0.1692 \n",
      "Label_2: IoU Scores Train\n",
      "Class00: 0.1248 Class01: 0.1315 Class02: 0.1277 Class03: 0.1328 Class04: 0.1326 Class05: 0.1312 Class06: 0.1339 \n",
      "Class07: 0.1323 Class08: 0.1308 Class09: 0.1366 Class10: 0.1335 Class11: 0.1357 Class12: 0.1380 \n",
      "Label_3: IoU Scores Train\n",
      "Class00: 0.1094 Class01: 0.1154 Class02: 0.1115 Class03: 0.1167 Class04: 0.1164 Class05: 0.1151 Class06: 0.1179 \n",
      "Class07: 0.1164 Class08: 0.1151 Class09: 0.1211 Class10: 0.1178 Class11: 0.1198 Class12: 0.1222 \n",
      "Train seg Loss: 0.16519857412609068 Train dom Loss: 4.994037775910934e-10\n",
      "Train Loss: 0.16519857412609068\n",
      "Train mIoU: 0.2349663734650324\n"
     ]
    },
    {
     "name": "stderr",
     "output_type": "stream",
     "text": [
      "100%|██████████| 30/30 [00:31<00:00,  1.05s/it]\n"
     ]
    },
    {
     "name": "stdout",
     "output_type": "stream",
     "text": [
      "\n",
      "--IoU Scores Fish val--\n",
      "Class0: 0.3880 Class1: 0.3261 Class2: 0.3828 Class3: 0.3898 Class4: 0.3229 Class5: 0.3568 Class6: 0.4083 \n",
      "Class7: 0.3219 Class8: 0.3598 Class9: 0.3691 Class10: 0.3443 Class11: 0.3463 Class12: 0.3787 \n",
      "Epoch7\n",
      "Valid Seg Loss: 0.19468384062250454 Valid dom Loss: 711.2752502441406\n",
      "Valid Loss: 0.265811362862587\n",
      "Valid mIoU: 0.3611419485445499\n",
      "___________________________________________________________________________________________\n",
      "\n"
     ]
    },
    {
     "name": "stderr",
     "output_type": "stream",
     "text": [
      "Epoch: 8: 100%|██████████| 138/138 [05:52<00:00,  2.55s/it]\n"
     ]
    },
    {
     "name": "stdout",
     "output_type": "stream",
     "text": [
      "\n",
      "Label_0: IoU Scores Train\n",
      "Class00: 0.5467 Class01: 0.5633 Class02: 0.5267 Class03: 0.5293 Class04: 0.5251 Class05: 0.5475 Class06: 0.5394 \n",
      "Class07: 0.5420 Class08: 0.5267 Class09: 0.5409 Class10: 0.5586 Class11: 0.5520 Class12: 0.5295 \n",
      "Label_1: IoU Scores Train\n",
      "Class00: 0.1663 Class01: 0.1718 Class02: 0.1692 Class03: 0.1640 Class04: 0.1631 Class05: 0.1700 Class06: 0.1675 \n",
      "Class07: 0.1632 Class08: 0.1648 Class09: 0.1717 Class10: 0.1700 Class11: 0.1709 Class12: 0.1624 \n",
      "Label_2: IoU Scores Train\n",
      "Class00: 0.1346 Class01: 0.1392 Class02: 0.1364 Class03: 0.1326 Class04: 0.1315 Class05: 0.1373 Class06: 0.1347 \n",
      "Class07: 0.1305 Class08: 0.1334 Class09: 0.1379 Class10: 0.1378 Class11: 0.1370 Class12: 0.1312 \n",
      "Label_3: IoU Scores Train\n",
      "Class00: 0.1189 Class01: 0.1223 Class02: 0.1200 Class03: 0.1167 Class04: 0.1157 Class05: 0.1215 Class06: 0.1184 \n",
      "Class07: 0.1145 Class08: 0.1180 Class09: 0.1220 Class10: 0.1214 Class11: 0.1202 Class12: 0.1156 \n",
      "Train seg Loss: 0.15961445993541376 Train dom Loss: 0.0002744777143489721\n",
      "Train Loss: 0.15961448738918357\n",
      "Train mIoU: 0.24042174264529975\n"
     ]
    },
    {
     "name": "stderr",
     "output_type": "stream",
     "text": [
      "100%|██████████| 30/30 [00:38<00:00,  1.29s/it]\n"
     ]
    },
    {
     "name": "stdout",
     "output_type": "stream",
     "text": [
      "\n",
      "--IoU Scores Fish val--\n",
      "Class0: 0.4417 Class1: 0.3767 Class2: 0.4164 Class3: 0.4406 Class4: 0.3710 Class5: 0.3988 Class6: 0.4409 \n",
      "Class7: 0.3623 Class8: 0.4073 Class9: 0.4166 Class10: 0.3867 Class11: 0.3840 Class12: 0.4093 \n",
      "Epoch8\n",
      "Valid Seg Loss: 0.15299285848935446 Valid dom Loss: 668.6302551269531\n",
      "Valid Loss: 0.21985588123401006\n",
      "Valid mIoU: 0.4040209255476808\n",
      "___________________________________________________________________________________________\n",
      "\n"
     ]
    },
    {
     "name": "stderr",
     "output_type": "stream",
     "text": [
      "Epoch: 9: 100%|██████████| 138/138 [05:53<00:00,  2.56s/it]\n"
     ]
    },
    {
     "name": "stdout",
     "output_type": "stream",
     "text": [
      "\n",
      "Label_0: IoU Scores Train\n",
      "Class00: 0.5493 Class01: 0.5646 Class02: 0.5712 Class03: 0.5783 Class04: 0.5418 Class05: 0.5644 Class06: 0.5653 \n",
      "Class07: 0.5396 Class08: 0.5501 Class09: 0.5582 Class10: 0.5415 Class11: 0.5671 Class12: 0.5114 \n",
      "Label_1: IoU Scores Train\n",
      "Class00: 0.1660 Class01: 0.1785 Class02: 0.1714 Class03: 0.1750 Class04: 0.1653 Class05: 0.1690 Class06: 0.1752 \n",
      "Class07: 0.1689 Class08: 0.1675 Class09: 0.1727 Class10: 0.1703 Class11: 0.1701 Class12: 0.1639 \n",
      "Label_2: IoU Scores Train\n",
      "Class00: 0.1344 Class01: 0.1438 Class02: 0.1371 Class03: 0.1411 Class04: 0.1326 Class05: 0.1352 Class06: 0.1408 \n",
      "Class07: 0.1348 Class08: 0.1352 Class09: 0.1392 Class10: 0.1372 Class11: 0.1370 Class12: 0.1338 \n",
      "Label_3: IoU Scores Train\n",
      "Class00: 0.1185 Class01: 0.1262 Class02: 0.1198 Class03: 0.1246 Class04: 0.1166 Class05: 0.1179 Class06: 0.1241 \n",
      "Class07: 0.1182 Class08: 0.1193 Class09: 0.1223 Class10: 0.1207 Class11: 0.1209 Class12: 0.1180 \n",
      "Train seg Loss: 0.15426060500676217 Train dom Loss: 1.3497427813106192e-11\n",
      "Train Loss: 0.15426060500676217\n",
      "Train mIoU: 0.24549861520216767\n"
     ]
    },
    {
     "name": "stderr",
     "output_type": "stream",
     "text": [
      "100%|██████████| 30/30 [00:42<00:00,  1.43s/it]\n"
     ]
    },
    {
     "name": "stdout",
     "output_type": "stream",
     "text": [
      "\n",
      "--IoU Scores Fish val--\n",
      "Class0: 0.2963 Class1: 0.2274 Class2: 0.2707 Class3: 0.2888 Class4: 0.2410 Class5: 0.2787 Class6: 0.2994 \n",
      "Class7: 0.2378 Class8: 0.2696 Class9: 0.2756 Class10: 0.2465 Class11: 0.2645 Class12: 0.2614 \n",
      "Epoch9\n",
      "Valid Seg Loss: 0.34755265712738037 Valid dom Loss: 638.0446695963542\n",
      "Valid Loss: 0.4113571246465047\n",
      "Valid mIoU: 0.26597488356720733\n",
      "___________________________________________________________________________________________\n",
      "\n"
     ]
    },
    {
     "name": "stderr",
     "output_type": "stream",
     "text": [
      "Epoch: 10: 100%|██████████| 138/138 [05:46<00:00,  2.51s/it]\n"
     ]
    },
    {
     "name": "stdout",
     "output_type": "stream",
     "text": [
      "\n",
      "Label_0: IoU Scores Train\n",
      "Class00: 0.4780 Class01: 0.5391 Class02: 0.5301 Class03: 0.5367 Class04: 0.5630 Class05: 0.5835 Class06: 0.5702 \n",
      "Class07: 0.5589 Class08: 0.5724 Class09: 0.5914 Class10: 0.5567 Class11: 0.5918 Class12: 0.5593 \n",
      "Label_1: IoU Scores Train\n",
      "Class00: 0.1597 Class01: 0.1702 Class02: 0.1687 Class03: 0.1647 Class04: 0.1692 Class05: 0.1679 Class06: 0.1748 \n",
      "Class07: 0.1740 Class08: 0.1760 Class09: 0.1741 Class10: 0.1668 Class11: 0.1775 Class12: 0.1748 \n",
      "Label_2: IoU Scores Train\n",
      "Class00: 0.1303 Class01: 0.1380 Class02: 0.1362 Class03: 0.1324 Class04: 0.1360 Class05: 0.1350 Class06: 0.1401 \n",
      "Class07: 0.1421 Class08: 0.1401 Class09: 0.1402 Class10: 0.1339 Class11: 0.1429 Class12: 0.1392 \n",
      "Label_3: IoU Scores Train\n",
      "Class00: 0.1146 Class01: 0.1221 Class02: 0.1198 Class03: 0.1176 Class04: 0.1199 Class05: 0.1196 Class06: 0.1227 \n",
      "Class07: 0.1256 Class08: 0.1224 Class09: 0.1235 Class10: 0.1176 Class11: 0.1264 Class12: 0.1218 \n",
      "Train seg Loss: 0.15334746300958205 Train dom Loss: 0.0\n",
      "Train Loss: 0.15334746300958205\n",
      "Train mIoU: 0.24634668673826596\n"
     ]
    },
    {
     "name": "stderr",
     "output_type": "stream",
     "text": [
      "100%|██████████| 30/30 [00:45<00:00,  1.51s/it]\n"
     ]
    },
    {
     "name": "stdout",
     "output_type": "stream",
     "text": [
      "\n",
      "--IoU Scores Fish val--\n",
      "Class0: 0.4418 Class1: 0.3732 Class2: 0.4168 Class3: 0.4317 Class4: 0.3706 Class5: 0.3964 Class6: 0.4455 \n",
      "Class7: 0.3716 Class8: 0.4077 Class9: 0.4127 Class10: 0.3950 Class11: 0.3826 Class12: 0.4170 \n",
      "Epoch10\n",
      "Valid Seg Loss: 0.14892951821287473 Valid dom Loss: 706.1802937825521\n",
      "Valid Loss: 0.21954754690329234\n",
      "Valid mIoU: 0.4048054333484278\n",
      "___________________________________________________________________________________________\n",
      "\n"
     ]
    },
    {
     "name": "stderr",
     "output_type": "stream",
     "text": [
      "Epoch: 11: 100%|██████████| 138/138 [05:45<00:00,  2.51s/it]\n"
     ]
    },
    {
     "name": "stdout",
     "output_type": "stream",
     "text": [
      "\n",
      "Label_0: IoU Scores Train\n",
      "Class00: 0.5547 Class01: 0.5890 Class02: 0.5617 Class03: 0.5041 Class04: 0.5595 Class05: 0.5702 Class06: 0.5937 \n",
      "Class07: 0.5925 Class08: 0.5911 Class09: 0.5661 Class10: 0.5794 Class11: 0.5991 Class12: 0.5801 \n",
      "Label_1: IoU Scores Train\n",
      "Class00: 0.1680 Class01: 0.1810 Class02: 0.1728 Class03: 0.1596 Class04: 0.1691 Class05: 0.1713 Class06: 0.1761 \n",
      "Class07: 0.1725 Class08: 0.1757 Class09: 0.1803 Class10: 0.1768 Class11: 0.1757 Class12: 0.1801 \n",
      "Label_2: IoU Scores Train\n",
      "Class00: 0.1355 Class01: 0.1460 Class02: 0.1393 Class03: 0.1286 Class04: 0.1365 Class05: 0.1380 Class06: 0.1411 \n",
      "Class07: 0.1375 Class08: 0.1415 Class09: 0.1460 Class10: 0.1422 Class11: 0.1415 Class12: 0.1451 \n",
      "Label_3: IoU Scores Train\n",
      "Class00: 0.1190 Class01: 0.1292 Class02: 0.1233 Class03: 0.1128 Class04: 0.1212 Class05: 0.1210 Class06: 0.1239 \n",
      "Class07: 0.1211 Class08: 0.1251 Class09: 0.1288 Class10: 0.1256 Class11: 0.1239 Class12: 0.1282 \n",
      "Train seg Loss: 0.1476362199940975 Train dom Loss: 6.211772425836345e-05\n",
      "Train Loss: 0.14763622620291467\n",
      "Train mIoU: 0.2523415809329315\n"
     ]
    },
    {
     "name": "stderr",
     "output_type": "stream",
     "text": [
      "100%|██████████| 30/30 [00:42<00:00,  1.41s/it]\n"
     ]
    },
    {
     "name": "stdout",
     "output_type": "stream",
     "text": [
      "\n",
      "--IoU Scores Fish val--\n",
      "Class0: 0.4514 Class1: 0.3711 Class2: 0.4260 Class3: 0.4470 Class4: 0.3743 Class5: 0.4124 Class6: 0.4545 \n",
      "Class7: 0.3681 Class8: 0.4126 Class9: 0.4201 Class10: 0.3984 Class11: 0.3880 Class12: 0.4232 \n",
      "Epoch11\n",
      "Valid Seg Loss: 0.14202010855078698 Valid dom Loss: 763.425\n",
      "Valid Loss: 0.21836260507504146\n",
      "Valid mIoU: 0.41131258759466766\n",
      "___________________________________________________________________________________________\n",
      "\n"
     ]
    },
    {
     "name": "stderr",
     "output_type": "stream",
     "text": [
      "Epoch: 12: 100%|██████████| 138/138 [05:49<00:00,  2.53s/it]\n"
     ]
    },
    {
     "name": "stdout",
     "output_type": "stream",
     "text": [
      "\n",
      "Label_0: IoU Scores Train\n",
      "Class00: 0.6089 Class01: 0.6226 Class02: 0.5922 Class03: 0.5994 Class04: 0.6115 Class05: 0.6028 Class06: 0.5902 \n",
      "Class07: 0.5973 Class08: 0.5905 Class09: 0.5942 Class10: 0.6135 Class11: 0.5892 Class12: 0.5922 \n",
      "Label_1: IoU Scores Train\n",
      "Class00: 0.1761 Class01: 0.1917 Class02: 0.1738 Class03: 0.1843 Class04: 0.1730 Class05: 0.1794 Class06: 0.1833 \n",
      "Class07: 0.1778 Class08: 0.1735 Class09: 0.1762 Class10: 0.1797 Class11: 0.1723 Class12: 0.1679 \n",
      "Label_2: IoU Scores Train\n",
      "Class00: 0.1413 Class01: 0.1544 Class02: 0.1393 Class03: 0.1475 Class04: 0.1391 Class05: 0.1443 Class06: 0.1474 \n",
      "Class07: 0.1423 Class08: 0.1386 Class09: 0.1441 Class10: 0.1439 Class11: 0.1384 Class12: 0.1354 \n",
      "Label_3: IoU Scores Train\n",
      "Class00: 0.1248 Class01: 0.1370 Class02: 0.1219 Class03: 0.1303 Class04: 0.1235 Class05: 0.1276 Class06: 0.1295 \n",
      "Class07: 0.1251 Class08: 0.1217 Class09: 0.1280 Class10: 0.1266 Class11: 0.1218 Class12: 0.1194 \n",
      "Train seg Loss: 0.1346378223700584 Train dom Loss: 0.00405517642966647\n",
      "Train Loss: 0.1346382279003012\n",
      "Train mIoU: 0.2616693794633523\n"
     ]
    },
    {
     "name": "stderr",
     "output_type": "stream",
     "text": [
      "100%|██████████| 30/30 [00:41<00:00,  1.39s/it]\n"
     ]
    },
    {
     "name": "stdout",
     "output_type": "stream",
     "text": [
      "\n",
      "--IoU Scores Fish val--\n",
      "Class0: 0.4530 Class1: 0.3725 Class2: 0.4233 Class3: 0.4359 Class4: 0.3854 Class5: 0.4038 Class6: 0.4407 \n",
      "Class7: 0.3693 Class8: 0.4094 Class9: 0.4169 Class10: 0.3889 Class11: 0.3868 Class12: 0.4128 \n",
      "Epoch12\n",
      "Valid Seg Loss: 0.14857209126154583 Valid dom Loss: 690.1394307454427\n",
      "Valid Loss: 0.2175860345363617\n",
      "Valid mIoU: 0.40759714672712355\n",
      "___________________________________________________________________________________________\n",
      "\n"
     ]
    },
    {
     "name": "stderr",
     "output_type": "stream",
     "text": [
      "Epoch: 13: 100%|██████████| 138/138 [05:44<00:00,  2.50s/it]\n"
     ]
    },
    {
     "name": "stdout",
     "output_type": "stream",
     "text": [
      "\n",
      "Label_0: IoU Scores Train\n",
      "Class00: 0.5910 Class01: 0.6114 Class02: 0.5977 Class03: 0.6257 Class04: 0.6150 Class05: 0.6168 Class06: 0.6161 \n",
      "Class07: 0.6001 Class08: 0.5913 Class09: 0.6239 Class10: 0.5896 Class11: 0.6238 Class12: 0.5905 \n",
      "Label_1: IoU Scores Train\n",
      "Class00: 0.1735 Class01: 0.1757 Class02: 0.1835 Class03: 0.1803 Class04: 0.1860 Class05: 0.1815 Class06: 0.1809 \n",
      "Class07: 0.1749 Class08: 0.1757 Class09: 0.1812 Class10: 0.1752 Class11: 0.1901 Class12: 0.1723 \n",
      "Label_2: IoU Scores Train\n",
      "Class00: 0.1384 Class01: 0.1402 Class02: 0.1482 Class03: 0.1440 Class04: 0.1508 Class05: 0.1461 Class06: 0.1464 \n",
      "Class07: 0.1401 Class08: 0.1398 Class09: 0.1449 Class10: 0.1407 Class11: 0.1535 Class12: 0.1393 \n",
      "Label_3: IoU Scores Train\n",
      "Class00: 0.1214 Class01: 0.1233 Class02: 0.1313 Class03: 0.1258 Class04: 0.1331 Class05: 0.1280 Class06: 0.1294 \n",
      "Class07: 0.1237 Class08: 0.1225 Class09: 0.1271 Class10: 0.1243 Class11: 0.1359 Class12: 0.1228 \n",
      "Train seg Loss: 0.13011231388140848 Train dom Loss: 0.0021077682956723363\n",
      "Train Loss: 0.13011252464375633\n",
      "Train mIoU: 0.2643219491558485\n"
     ]
    },
    {
     "name": "stderr",
     "output_type": "stream",
     "text": [
      "100%|██████████| 30/30 [00:34<00:00,  1.15s/it]\n"
     ]
    },
    {
     "name": "stdout",
     "output_type": "stream",
     "text": [
      "\n",
      "--IoU Scores Fish val--\n",
      "Class0: 0.4311 Class1: 0.3541 Class2: 0.4078 Class3: 0.4244 Class4: 0.3493 Class5: 0.3783 Class6: 0.4326 \n",
      "Class7: 0.3592 Class8: 0.3900 Class9: 0.3990 Class10: 0.3702 Class11: 0.3635 Class12: 0.3945 \n",
      "Epoch13\n",
      "Valid Seg Loss: 0.17401888916889827 Valid dom Loss: 742.1346537272135\n",
      "Valid Loss: 0.24823235372702282\n",
      "Valid mIoU: 0.3887785469767311\n",
      "___________________________________________________________________________________________\n",
      "\n"
     ]
    },
    {
     "name": "stderr",
     "output_type": "stream",
     "text": [
      "Epoch: 14: 100%|██████████| 138/138 [05:49<00:00,  2.54s/it]\n"
     ]
    },
    {
     "name": "stdout",
     "output_type": "stream",
     "text": [
      "\n",
      "Label_0: IoU Scores Train\n",
      "Class00: 0.5935 Class01: 0.6052 Class02: 0.5972 Class03: 0.6162 Class04: 0.5847 Class05: 0.6358 Class06: 0.6216 \n",
      "Class07: 0.5985 Class08: 0.6230 Class09: 0.6010 Class10: 0.6223 Class11: 0.6271 Class12: 0.6068 \n",
      "Label_1: IoU Scores Train\n",
      "Class00: 0.1760 Class01: 0.1825 Class02: 0.1771 Class03: 0.1855 Class04: 0.1815 Class05: 0.1817 Class06: 0.1870 \n",
      "Class07: 0.1717 Class08: 0.1825 Class09: 0.1765 Class10: 0.1827 Class11: 0.1855 Class12: 0.1787 \n",
      "Label_2: IoU Scores Train\n",
      "Class00: 0.1406 Class01: 0.1462 Class02: 0.1418 Class03: 0.1496 Class04: 0.1460 Class05: 0.1448 Class06: 0.1510 \n",
      "Class07: 0.1363 Class08: 0.1462 Class09: 0.1424 Class10: 0.1466 Class11: 0.1489 Class12: 0.1451 \n",
      "Label_3: IoU Scores Train\n",
      "Class00: 0.1240 Class01: 0.1285 Class02: 0.1245 Class03: 0.1316 Class04: 0.1289 Class05: 0.1272 Class06: 0.1332 \n",
      "Class07: 0.1198 Class08: 0.1291 Class09: 0.1257 Class10: 0.1294 Class11: 0.1308 Class12: 0.1292 \n",
      "Train seg Loss: 0.12977388495768327 Train dom Loss: 0.023083090444479835\n",
      "Train Loss: 0.12977619327442802\n",
      "Train mIoU: 0.26595154246966135\n"
     ]
    },
    {
     "name": "stderr",
     "output_type": "stream",
     "text": [
      "100%|██████████| 30/30 [00:37<00:00,  1.25s/it]\n"
     ]
    },
    {
     "name": "stdout",
     "output_type": "stream",
     "text": [
      "\n",
      "--IoU Scores Fish val--\n",
      "Class0: 0.4145 Class1: 0.3376 Class2: 0.3895 Class3: 0.4069 Class4: 0.3417 Class5: 0.3749 Class6: 0.4236 \n",
      "Class7: 0.3589 Class8: 0.3812 Class9: 0.3811 Class10: 0.3632 Class11: 0.3565 Class12: 0.3963 \n",
      "Epoch14\n",
      "Valid Seg Loss: 0.18560325975219408 Valid dom Loss: 643.86796875\n",
      "Valid Loss: 0.24999005397160848\n",
      "Valid mIoU: 0.37891236563288094\n",
      "___________________________________________________________________________________________\n",
      "\n"
     ]
    },
    {
     "name": "stderr",
     "output_type": "stream",
     "text": [
      "Epoch: 15: 100%|██████████| 138/138 [05:50<00:00,  2.54s/it]\n"
     ]
    },
    {
     "name": "stdout",
     "output_type": "stream",
     "text": [
      "\n",
      "Label_0: IoU Scores Train\n",
      "Class00: 0.5921 Class01: 0.6024 Class02: 0.6198 Class03: 0.6198 Class04: 0.6359 Class05: 0.6296 Class06: 0.6184 \n",
      "Class07: 0.6041 Class08: 0.5971 Class09: 0.6115 Class10: 0.6207 Class11: 0.6445 Class12: 0.6226 \n",
      "Label_1: IoU Scores Train\n",
      "Class00: 0.1763 Class01: 0.1901 Class02: 0.1769 Class03: 0.1805 Class04: 0.1878 Class05: 0.1846 Class06: 0.1816 \n",
      "Class07: 0.1813 Class08: 0.1814 Class09: 0.1854 Class10: 0.1813 Class11: 0.1848 Class12: 0.1905 \n",
      "Label_2: IoU Scores Train\n",
      "Class00: 0.1412 Class01: 0.1533 Class02: 0.1414 Class03: 0.1443 Class04: 0.1509 Class05: 0.1475 Class06: 0.1452 \n",
      "Class07: 0.1445 Class08: 0.1444 Class09: 0.1480 Class10: 0.1456 Class11: 0.1488 Class12: 0.1547 \n",
      "Label_3: IoU Scores Train\n",
      "Class00: 0.1235 Class01: 0.1355 Class02: 0.1239 Class03: 0.1266 Class04: 0.1333 Class05: 0.1296 Class06: 0.1282 \n",
      "Class07: 0.1272 Class08: 0.1266 Class09: 0.1295 Class10: 0.1289 Class11: 0.1315 Class12: 0.1366 \n",
      "Train seg Loss: 0.12720965558959954 Train dom Loss: 7.804004860151073e-06\n",
      "Train Loss: 0.1272096563724504\n",
      "Train mIoU: 0.269067892825747\n"
     ]
    },
    {
     "name": "stderr",
     "output_type": "stream",
     "text": [
      "100%|██████████| 30/30 [00:39<00:00,  1.33s/it]\n"
     ]
    },
    {
     "name": "stdout",
     "output_type": "stream",
     "text": [
      "\n",
      "--IoU Scores Fish val--\n",
      "Class0: 0.3594 Class1: 0.3018 Class2: 0.3458 Class3: 0.3670 Class4: 0.3054 Class5: 0.3421 Class6: 0.3821 \n",
      "Class7: 0.3006 Class8: 0.3299 Class9: 0.3519 Class10: 0.3266 Class11: 0.3292 Class12: 0.3506 \n",
      "Epoch15\n",
      "Valid Seg Loss: 0.26029584805170697 Valid dom Loss: 739.9128763834635\n",
      "Valid Loss: 0.3342871348063151\n",
      "Valid mIoU: 0.3378752763279331\n",
      "___________________________________________________________________________________________\n",
      "\n"
     ]
    },
    {
     "name": "stderr",
     "output_type": "stream",
     "text": [
      "Epoch: 16: 100%|██████████| 138/138 [05:50<00:00,  2.54s/it]\n"
     ]
    },
    {
     "name": "stdout",
     "output_type": "stream",
     "text": [
      "\n",
      "Label_0: IoU Scores Train\n",
      "Class00: 0.5733 Class01: 0.5946 Class02: 0.6230 Class03: 0.6481 Class04: 0.6095 Class05: 0.6479 Class06: 0.6453 \n",
      "Class07: 0.6270 Class08: 0.6621 Class09: 0.6570 Class10: 0.6543 Class11: 0.6276 Class12: 0.6246 \n",
      "Label_1: IoU Scores Train\n",
      "Class00: 0.1768 Class01: 0.1784 Class02: 0.1839 Class03: 0.1877 Class04: 0.1817 Class05: 0.1838 Class06: 0.1834 \n",
      "Class07: 0.1865 Class08: 0.1871 Class09: 0.1866 Class10: 0.1959 Class11: 0.1886 Class12: 0.1835 \n",
      "Label_2: IoU Scores Train\n",
      "Class00: 0.1427 Class01: 0.1436 Class02: 0.1471 Class03: 0.1505 Class04: 0.1460 Class05: 0.1475 Class06: 0.1453 \n",
      "Class07: 0.1495 Class08: 0.1493 Class09: 0.1485 Class10: 0.1588 Class11: 0.1512 Class12: 0.1478 \n",
      "Label_3: IoU Scores Train\n",
      "Class00: 0.1264 Class01: 0.1264 Class02: 0.1285 Class03: 0.1329 Class04: 0.1284 Class05: 0.1294 Class06: 0.1269 \n",
      "Class07: 0.1312 Class08: 0.1311 Class09: 0.1298 Class10: 0.1408 Class11: 0.1331 Class12: 0.1310 \n",
      "Train seg Loss: 0.12151594325036243 Train dom Loss: 0.0\n",
      "Train Loss: 0.12151594325036243\n",
      "Train mIoU: 0.27350625039570703\n"
     ]
    },
    {
     "name": "stderr",
     "output_type": "stream",
     "text": [
      "100%|██████████| 30/30 [00:38<00:00,  1.28s/it]\n"
     ]
    },
    {
     "name": "stdout",
     "output_type": "stream",
     "text": [
      "\n",
      "--IoU Scores Fish val--\n",
      "Class0: 0.4369 Class1: 0.3460 Class2: 0.4095 Class3: 0.4329 Class4: 0.3607 Class5: 0.3965 Class6: 0.4366 \n",
      "Class7: 0.3586 Class8: 0.3937 Class9: 0.4022 Class10: 0.3787 Class11: 0.3850 Class12: 0.3999 \n",
      "Epoch16\n",
      "Valid Seg Loss: 0.18440440396467844 Valid dom Loss: 706.7150472005209\n",
      "Valid Loss: 0.2550759047269821\n",
      "Valid mIoU: 0.39516310834710777\n",
      "___________________________________________________________________________________________\n",
      "\n"
     ]
    },
    {
     "name": "stderr",
     "output_type": "stream",
     "text": [
      "Epoch: 17: 100%|██████████| 138/138 [05:46<00:00,  2.51s/it]\n"
     ]
    },
    {
     "name": "stdout",
     "output_type": "stream",
     "text": [
      "\n",
      "Label_0: IoU Scores Train\n",
      "Class00: 0.6165 Class01: 0.6362 Class02: 0.6395 Class03: 0.6507 Class04: 0.6350 Class05: 0.6427 Class06: 0.6699 \n",
      "Class07: 0.6401 Class08: 0.6405 Class09: 0.6556 Class10: 0.6474 Class11: 0.6623 Class12: 0.6277 \n",
      "Label_1: IoU Scores Train\n",
      "Class00: 0.1691 Class01: 0.1842 Class02: 0.1865 Class03: 0.1896 Class04: 0.1890 Class05: 0.1922 Class06: 0.1796 \n",
      "Class07: 0.1824 Class08: 0.1846 Class09: 0.1873 Class10: 0.1910 Class11: 0.1898 Class12: 0.1764 \n",
      "Label_2: IoU Scores Train\n",
      "Class00: 0.1350 Class01: 0.1474 Class02: 0.1492 Class03: 0.1525 Class04: 0.1515 Class05: 0.1547 Class06: 0.1436 \n",
      "Class07: 0.1464 Class08: 0.1489 Class09: 0.1493 Class10: 0.1531 Class11: 0.1516 Class12: 0.1432 \n",
      "Label_3: IoU Scores Train\n",
      "Class00: 0.1190 Class01: 0.1297 Class02: 0.1308 Class03: 0.1346 Class04: 0.1328 Class05: 0.1361 Class06: 0.1260 \n",
      "Class07: 0.1296 Class08: 0.1312 Class09: 0.1309 Class10: 0.1353 Class11: 0.1331 Class12: 0.1268 \n",
      "Train seg Loss: 0.11396945440682812 Train dom Loss: 0.0\n",
      "Train Loss: 0.11396945440682812\n",
      "Train mIoU: 0.27669828100173827\n"
     ]
    },
    {
     "name": "stderr",
     "output_type": "stream",
     "text": [
      "100%|██████████| 30/30 [00:43<00:00,  1.46s/it]\n"
     ]
    },
    {
     "name": "stdout",
     "output_type": "stream",
     "text": [
      "\n",
      "--IoU Scores Fish val--\n",
      "Class0: 0.3622 Class1: 0.2942 Class2: 0.3149 Class3: 0.3648 Class4: 0.2986 Class5: 0.3070 Class6: 0.3716 \n",
      "Class7: 0.3016 Class8: 0.3020 Class9: 0.3458 Class10: 0.3183 Class11: 0.3183 Class12: 0.3131 \n",
      "Epoch17\n",
      "Valid Seg Loss: 0.5085825552543004 Valid dom Loss: 739.9209330240885\n",
      "Valid Loss: 0.5825746466716131\n",
      "Valid mIoU: 0.3240282980263555\n",
      "___________________________________________________________________________________________\n",
      "\n"
     ]
    },
    {
     "name": "stderr",
     "output_type": "stream",
     "text": [
      "Epoch: 18: 100%|██████████| 138/138 [05:43<00:00,  2.49s/it]\n"
     ]
    },
    {
     "name": "stdout",
     "output_type": "stream",
     "text": [
      "\n",
      "Label_0: IoU Scores Train\n",
      "Class00: 0.6280 Class01: 0.6452 Class02: 0.6742 Class03: 0.6319 Class04: 0.6449 Class05: 0.6604 Class06: 0.6521 \n",
      "Class07: 0.6360 Class08: 0.6714 Class09: 0.6754 Class10: 0.6718 Class11: 0.6609 Class12: 0.6142 \n",
      "Label_1: IoU Scores Train\n",
      "Class00: 0.1807 Class01: 0.1852 Class02: 0.1911 Class03: 0.1854 Class04: 0.1833 Class05: 0.1895 Class06: 0.1879 \n",
      "Class07: 0.1852 Class08: 0.1859 Class09: 0.1860 Class10: 0.1945 Class11: 0.1870 Class12: 0.1832 \n",
      "Label_2: IoU Scores Train\n",
      "Class00: 0.1443 Class01: 0.1475 Class02: 0.1530 Class03: 0.1491 Class04: 0.1467 Class05: 0.1523 Class06: 0.1502 \n",
      "Class07: 0.1491 Class08: 0.1483 Class09: 0.1489 Class10: 0.1562 Class11: 0.1498 Class12: 0.1457 \n",
      "Label_3: IoU Scores Train\n",
      "Class00: 0.1273 Class01: 0.1291 Class02: 0.1349 Class03: 0.1307 Class04: 0.1295 Class05: 0.1352 Class06: 0.1323 \n",
      "Class07: 0.1327 Class08: 0.1307 Class09: 0.1317 Class10: 0.1375 Class11: 0.1323 Class12: 0.1289 \n",
      "Train seg Loss: 0.11117192483979507 Train dom Loss: 0.0\n",
      "Train Loss: 0.11117192483979507\n",
      "Train mIoU: 0.27970605974155066\n"
     ]
    },
    {
     "name": "stderr",
     "output_type": "stream",
     "text": [
      "100%|██████████| 30/30 [00:42<00:00,  1.41s/it]\n"
     ]
    },
    {
     "name": "stdout",
     "output_type": "stream",
     "text": [
      "\n",
      "--IoU Scores Fish val--\n",
      "Class0: 0.3761 Class1: 0.3224 Class2: 0.3663 Class3: 0.3822 Class4: 0.3195 Class5: 0.3427 Class6: 0.3904 \n",
      "Class7: 0.3223 Class8: 0.3560 Class9: 0.3565 Class10: 0.3598 Class11: 0.3203 Class12: 0.3713 \n",
      "Epoch18\n",
      "Valid Seg Loss: 0.22107271154721578 Valid dom Loss: 650.362245686849\n",
      "Valid Loss: 0.28610893388589226\n",
      "Valid mIoU: 0.35275884766652826\n",
      "___________________________________________________________________________________________\n",
      "\n"
     ]
    },
    {
     "name": "stderr",
     "output_type": "stream",
     "text": [
      "Epoch: 19: 100%|██████████| 138/138 [05:38<00:00,  2.45s/it]\n"
     ]
    },
    {
     "name": "stdout",
     "output_type": "stream",
     "text": [
      "\n",
      "Label_0: IoU Scores Train\n",
      "Class00: 0.5702 Class01: 0.6313 Class02: 0.6512 Class03: 0.6639 Class04: 0.6450 Class05: 0.6716 Class06: 0.6579 \n",
      "Class07: 0.6372 Class08: 0.5236 Class09: 0.3942 Class10: 0.4814 Class11: 0.5123 Class12: 0.5281 \n",
      "Label_1: IoU Scores Train\n",
      "Class00: 0.1746 Class01: 0.1834 Class02: 0.1876 Class03: 0.1890 Class04: 0.1890 Class05: 0.1882 Class06: 0.1884 \n",
      "Class07: 0.1864 Class08: 0.1701 Class09: 0.1399 Class10: 0.1525 Class11: 0.1595 Class12: 0.1652 \n",
      "Label_2: IoU Scores Train\n",
      "Class00: 0.1405 Class01: 0.1471 Class02: 0.1514 Class03: 0.1526 Class04: 0.1493 Class05: 0.1500 Class06: 0.1517 \n",
      "Class07: 0.1498 Class08: 0.1451 Class09: 0.1149 Class10: 0.1238 Class11: 0.1278 Class12: 0.1334 \n",
      "Label_3: IoU Scores Train\n",
      "Class00: 0.1245 Class01: 0.1294 Class02: 0.1342 Class03: 0.1346 Class04: 0.1306 Class05: 0.1320 Class06: 0.1349 \n",
      "Class07: 0.1323 Class08: 0.1187 Class09: 0.1020 Class10: 0.1089 Class11: 0.1117 Class12: 0.1184 \n",
      "Train seg Loss: 0.15419117407198402 Train dom Loss: 258.8354285805011\n",
      "Train Loss: 0.18007471621630416\n",
      "Train mIoU: 0.25559422346753774\n"
     ]
    },
    {
     "name": "stderr",
     "output_type": "stream",
     "text": [
      "100%|██████████| 30/30 [00:40<00:00,  1.35s/it]\n"
     ]
    },
    {
     "name": "stdout",
     "output_type": "stream",
     "text": [
      "\n",
      "--IoU Scores Fish val--\n",
      "Class0: 0.3654 Class1: 0.2948 Class2: 0.3379 Class3: 0.3734 Class4: 0.3043 Class5: 0.3259 Class6: 0.3712 \n",
      "Class7: 0.2984 Class8: 0.3134 Class9: 0.3526 Class10: 0.3241 Class11: 0.3315 Class12: 0.3254 \n",
      "Epoch19\n",
      "Valid Seg Loss: 0.29614598155021665 Valid dom Loss: 355.83851725260416\n",
      "Valid Loss: 0.3317298327883085\n",
      "Valid mIoU: 0.33217093770135464\n",
      "___________________________________________________________________________________________\n",
      "\n"
     ]
    },
    {
     "name": "stderr",
     "output_type": "stream",
     "text": [
      "Epoch: 20: 100%|██████████| 138/138 [05:39<00:00,  2.46s/it]\n"
     ]
    },
    {
     "name": "stdout",
     "output_type": "stream",
     "text": [
      "\n",
      "Label_0: IoU Scores Train\n",
      "Class00: 0.5621 Class01: 0.5958 Class02: 0.5932 Class03: 0.6161 Class04: 0.5949 Class05: 0.6187 Class06: 0.6549 \n",
      "Class07: 0.6108 Class08: 0.6394 Class09: 0.6542 Class10: 0.6484 Class11: 0.6567 Class12: 0.6601 \n",
      "Label_1: IoU Scores Train\n",
      "Class00: 0.1682 Class01: 0.1787 Class02: 0.1715 Class03: 0.1840 Class04: 0.1799 Class05: 0.1846 Class06: 0.1885 \n",
      "Class07: 0.1749 Class08: 0.1859 Class09: 0.1858 Class10: 0.1851 Class11: 0.1908 Class12: 0.1813 \n",
      "Label_2: IoU Scores Train\n",
      "Class00: 0.1348 Class01: 0.1440 Class02: 0.1365 Class03: 0.1472 Class04: 0.1438 Class05: 0.1467 Class06: 0.1501 \n",
      "Class07: 0.1398 Class08: 0.1486 Class09: 0.1486 Class10: 0.1478 Class11: 0.1528 Class12: 0.1438 \n",
      "Label_3: IoU Scores Train\n",
      "Class00: 0.1179 Class01: 0.1270 Class02: 0.1200 Class03: 0.1294 Class04: 0.1263 Class05: 0.1289 Class06: 0.1321 \n",
      "Class07: 0.1227 Class08: 0.1309 Class09: 0.1299 Class10: 0.1299 Class11: 0.1344 Class12: 0.1258 \n",
      "Train seg Loss: 0.12287648478387922 Train dom Loss: 4.875470434336173\n",
      "Train Loss: 0.12336403182775214\n",
      "Train mIoU: 0.2693160217983608\n"
     ]
    },
    {
     "name": "stderr",
     "output_type": "stream",
     "text": [
      "100%|██████████| 30/30 [00:45<00:00,  1.51s/it]\n"
     ]
    },
    {
     "name": "stdout",
     "output_type": "stream",
     "text": [
      "\n",
      "--IoU Scores Fish val--\n",
      "Class0: 0.4383 Class1: 0.3516 Class2: 0.4087 Class3: 0.4345 Class4: 0.3671 Class5: 0.3998 Class6: 0.4277 \n",
      "Class7: 0.3610 Class8: 0.3967 Class9: 0.4034 Class10: 0.3797 Class11: 0.3867 Class12: 0.3970 \n",
      "Epoch20\n",
      "Valid Seg Loss: 0.19602498263120652 Valid dom Loss: 681.455126953125\n",
      "Valid Loss: 0.2641704926888148\n",
      "Valid mIoU: 0.39632441493005055\n",
      "___________________________________________________________________________________________\n",
      "\n"
     ]
    },
    {
     "name": "stderr",
     "output_type": "stream",
     "text": [
      "Epoch: 21: 100%|██████████| 138/138 [05:37<00:00,  2.44s/it]\n"
     ]
    },
    {
     "name": "stdout",
     "output_type": "stream",
     "text": [
      "\n",
      "Label_0: IoU Scores Train\n",
      "Class00: 0.6674 Class01: 0.6156 Class02: 0.5563 Class03: 0.5942 Class04: 0.6066 Class05: 0.6023 Class06: 0.6330 \n",
      "Class07: 0.6022 Class08: 0.6391 Class09: 0.6568 Class10: 0.6575 Class11: 0.6470 Class12: 0.6432 \n",
      "Label_1: IoU Scores Train\n",
      "Class00: 0.1844 Class01: 0.1804 Class02: 0.1663 Class03: 0.1857 Class04: 0.1837 Class05: 0.1745 Class06: 0.1865 \n",
      "Class07: 0.1768 Class08: 0.1872 Class09: 0.1906 Class10: 0.1819 Class11: 0.1854 Class12: 0.1930 \n",
      "Label_2: IoU Scores Train\n",
      "Class00: 0.1469 Class01: 0.1432 Class02: 0.1321 Class03: 0.1506 Class04: 0.1465 Class05: 0.1383 Class06: 0.1494 \n",
      "Class07: 0.1409 Class08: 0.1490 Class09: 0.1517 Class10: 0.1441 Class11: 0.1472 Class12: 0.1543 \n",
      "Label_3: IoU Scores Train\n",
      "Class00: 0.1291 Class01: 0.1260 Class02: 0.1155 Class03: 0.1343 Class04: 0.1288 Class05: 0.1215 Class06: 0.1317 \n",
      "Class07: 0.1234 Class08: 0.1303 Class09: 0.1332 Class10: 0.1261 Class11: 0.1294 Class12: 0.1353 \n",
      "Train seg Loss: 0.12369794156942246 Train dom Loss: 65.24624965149074\n",
      "Train Loss: 0.13022256638530805\n",
      "Train mIoU: 0.2703117665442882\n"
     ]
    },
    {
     "name": "stderr",
     "output_type": "stream",
     "text": [
      "100%|██████████| 30/30 [00:44<00:00,  1.49s/it]\n"
     ]
    },
    {
     "name": "stdout",
     "output_type": "stream",
     "text": [
      "\n",
      "--IoU Scores Fish val--\n",
      "Class0: 0.4474 Class1: 0.3474 Class2: 0.4138 Class3: 0.4322 Class4: 0.3717 Class5: 0.4015 Class6: 0.4332 \n",
      "Class7: 0.3672 Class8: 0.4028 Class9: 0.4010 Class10: 0.3852 Class11: 0.3941 Class12: 0.4012 \n",
      "Epoch21\n",
      "Valid Seg Loss: 0.17120573545495668 Valid dom Loss: 941.9758829752604\n",
      "Valid Loss: 0.2654033174117406\n",
      "Valid mIoU: 0.39990596020156255\n",
      "___________________________________________________________________________________________\n",
      "\n"
     ]
    },
    {
     "name": "stderr",
     "output_type": "stream",
     "text": [
      "Epoch: 22: 100%|██████████| 138/138 [05:39<00:00,  2.46s/it]\n"
     ]
    },
    {
     "name": "stdout",
     "output_type": "stream",
     "text": [
      "\n",
      "Label_0: IoU Scores Train\n",
      "Class00: 0.6204 Class01: 0.6595 Class02: 0.6532 Class03: 0.3423 Class04: 0.2092 Class05: 0.3137 Class06: 0.3950 \n",
      "Class07: 0.4181 Class08: 0.4540 Class09: 0.4879 Class10: 0.5066 Class11: 0.5270 Class12: 0.5119 \n",
      "Label_1: IoU Scores Train\n",
      "Class00: 0.1827 Class01: 0.1898 Class02: 0.1863 Class03: 0.1180 Class04: 0.1016 Class05: 0.1211 Class06: 0.1366 \n",
      "Class07: 0.1381 Class08: 0.1473 Class09: 0.1560 Class10: 0.1627 Class11: 0.1658 Class12: 0.1610 \n",
      "Label_2: IoU Scores Train\n",
      "Class00: 0.1461 Class01: 0.1518 Class02: 0.1486 Class03: 0.0919 Class04: 0.0861 Class05: 0.1007 Class06: 0.1124 \n",
      "Class07: 0.1130 Class08: 0.1199 Class09: 0.1259 Class10: 0.1305 Class11: 0.1324 Class12: 0.1308 \n",
      "Label_3: IoU Scores Train\n",
      "Class00: 0.1284 Class01: 0.1340 Class02: 0.1308 Class03: 0.0804 Class04: 0.0797 Class05: 0.0899 Class06: 0.0996 \n",
      "Class07: 0.1000 Class08: 0.1055 Class09: 0.1099 Class10: 0.1139 Class11: 0.1156 Class12: 0.1143 \n",
      "Train seg Loss: 0.2704840132669694 Train dom Loss: 1758.1998162596337\n",
      "Train Loss: 0.4463039916548608\n",
      "Train mIoU: 0.2126528843584563\n"
     ]
    },
    {
     "name": "stderr",
     "output_type": "stream",
     "text": [
      "100%|██████████| 30/30 [00:46<00:00,  1.56s/it]\n"
     ]
    },
    {
     "name": "stdout",
     "output_type": "stream",
     "text": [
      "\n",
      "--IoU Scores Fish val--\n",
      "Class0: 0.3228 Class1: 0.2599 Class2: 0.2759 Class3: 0.3244 Class4: 0.2673 Class5: 0.2667 Class6: 0.3348 \n",
      "Class7: 0.2684 Class8: 0.2754 Class9: 0.3060 Class10: 0.2960 Class11: 0.2830 Class12: 0.2837 \n",
      "Epoch22\n",
      "Valid Seg Loss: 0.441137233376503 Valid dom Loss: 530.3798583984375\n",
      "Valid Loss: 0.4941752175490061\n",
      "Valid mIoU: 0.28956199358492024\n",
      "___________________________________________________________________________________________\n",
      "\n"
     ]
    },
    {
     "name": "stderr",
     "output_type": "stream",
     "text": [
      "Epoch: 23: 100%|██████████| 138/138 [05:38<00:00,  2.45s/it]\n"
     ]
    },
    {
     "name": "stdout",
     "output_type": "stream",
     "text": [
      "\n",
      "Label_0: IoU Scores Train\n",
      "Class00: 0.5011 Class01: 0.5552 Class02: 0.5586 Class03: 0.5735 Class04: 0.5906 Class05: 0.5703 Class06: 0.5751 \n",
      "Class07: 0.4447 Class08: 0.3372 Class09: 0.4099 Class10: 0.4405 Class11: 0.4686 Class12: 0.4820 \n",
      "Label_1: IoU Scores Train\n",
      "Class00: 0.1574 Class01: 0.1709 Class02: 0.1668 Class03: 0.1686 Class04: 0.1769 Class05: 0.1760 Class06: 0.1732 \n",
      "Class07: 0.1394 Class08: 0.1267 Class09: 0.1429 Class10: 0.1486 Class11: 0.1550 Class12: 0.1574 \n",
      "Label_2: IoU Scores Train\n",
      "Class00: 0.1272 Class01: 0.1364 Class02: 0.1342 Class03: 0.1346 Class04: 0.1437 Class05: 0.1439 Class06: 0.1397 \n",
      "Class07: 0.1116 Class08: 0.1052 Class09: 0.1162 Class10: 0.1198 Class11: 0.1240 Class12: 0.1249 \n",
      "Label_3: IoU Scores Train\n",
      "Class00: 0.1114 Class01: 0.1184 Class02: 0.1178 Class03: 0.1181 Class04: 0.1268 Class05: 0.1273 Class06: 0.1223 \n",
      "Class07: 0.0988 Class08: 0.0939 Class09: 0.1026 Class10: 0.1049 Class11: 0.1083 Class12: 0.1084 \n",
      "Train seg Loss: 0.20058345690747534 Train dom Loss: 8.618486915470479\n",
      "Train Loss: 0.20144530576046393\n",
      "Train mIoU: 0.2247674234916694\n"
     ]
    },
    {
     "name": "stderr",
     "output_type": "stream",
     "text": [
      "100%|██████████| 30/30 [00:36<00:00,  1.23s/it]\n"
     ]
    },
    {
     "name": "stdout",
     "output_type": "stream",
     "text": [
      "\n",
      "--IoU Scores Fish val--\n",
      "Class0: 0.4183 Class1: 0.3501 Class2: 0.3999 Class3: 0.4171 Class4: 0.3567 Class5: 0.3896 Class6: 0.4216 \n",
      "Class7: 0.3435 Class8: 0.3829 Class9: 0.3977 Class10: 0.3749 Class11: 0.3633 Class12: 0.4092 \n",
      "Epoch23\n",
      "Valid Seg Loss: 0.17133139471213024 Valid dom Loss: 566.6456156412761\n",
      "Valid Loss: 0.22799595594406127\n",
      "Valid mIoU: 0.38653145395536165\n",
      "___________________________________________________________________________________________\n",
      "\n"
     ]
    },
    {
     "name": "stderr",
     "output_type": "stream",
     "text": [
      "Epoch: 24: 100%|██████████| 138/138 [05:44<00:00,  2.50s/it]\n"
     ]
    },
    {
     "name": "stdout",
     "output_type": "stream",
     "text": [
      "\n",
      "Label_0: IoU Scores Train\n",
      "Class00: 0.4949 Class01: 0.5165 Class02: 0.5240 Class03: 0.5297 Class04: 0.5317 Class05: 0.5474 Class06: 0.5492 \n",
      "Class07: 0.5398 Class08: 0.5729 Class09: 0.5787 Class10: 0.5799 Class11: 0.5798 Class12: 0.5650 \n",
      "Label_1: IoU Scores Train\n",
      "Class00: 0.1595 Class01: 0.1635 Class02: 0.1631 Class03: 0.1661 Class04: 0.1659 Class05: 0.1662 Class06: 0.1709 \n",
      "Class07: 0.1604 Class08: 0.1734 Class09: 0.1756 Class10: 0.1737 Class11: 0.1782 Class12: 0.1735 \n",
      "Label_2: IoU Scores Train\n",
      "Class00: 0.1276 Class01: 0.1307 Class02: 0.1294 Class03: 0.1321 Class04: 0.1327 Class05: 0.1323 Class06: 0.1355 \n",
      "Class07: 0.1271 Class08: 0.1378 Class09: 0.1403 Class10: 0.1380 Class11: 0.1412 Class12: 0.1375 \n",
      "Label_3: IoU Scores Train\n",
      "Class00: 0.1114 Class01: 0.1139 Class02: 0.1123 Class03: 0.1149 Class04: 0.1158 Class05: 0.1154 Class06: 0.1177 \n",
      "Class07: 0.1109 Class08: 0.1194 Class09: 0.1230 Class10: 0.1201 Class11: 0.1230 Class12: 0.1201 \n",
      "Train seg Loss: 0.1534424033690838 Train dom Loss: 0.10061330993885999\n",
      "Train Loss: 0.15345246468981108\n",
      "Train mIoU: 0.2415271838729104\n"
     ]
    },
    {
     "name": "stderr",
     "output_type": "stream",
     "text": [
      "100%|██████████| 30/30 [00:44<00:00,  1.48s/it]\n"
     ]
    },
    {
     "name": "stdout",
     "output_type": "stream",
     "text": [
      "\n",
      "--IoU Scores Fish val--\n",
      "Class0: 0.4254 Class1: 0.3642 Class2: 0.4127 Class3: 0.4242 Class4: 0.3694 Class5: 0.3909 Class6: 0.4357 \n",
      "Class7: 0.3641 Class8: 0.3954 Class9: 0.4068 Class10: 0.3953 Class11: 0.3742 Class12: 0.4101 \n",
      "Epoch24\n",
      "Valid Seg Loss: 0.15221747408310574 Valid dom Loss: 434.9166768391927\n",
      "Valid Loss: 0.19570914059877395\n",
      "Valid mIoU: 0.39756464905751493\n",
      "___________________________________________________________________________________________\n",
      "\n"
     ]
    },
    {
     "name": "stderr",
     "output_type": "stream",
     "text": [
      "Epoch: 25: 100%|██████████| 138/138 [05:42<00:00,  2.49s/it]\n"
     ]
    },
    {
     "name": "stdout",
     "output_type": "stream",
     "text": [
      "\n",
      "Label_0: IoU Scores Train\n",
      "Class00: 0.5851 Class01: 0.5933 Class02: 0.5784 Class03: 0.5888 Class04: 0.5844 Class05: 0.6054 Class06: 0.6019 \n",
      "Class07: 0.5800 Class08: 0.5929 Class09: 0.6081 Class10: 0.6023 Class11: 0.6188 Class12: 0.5983 \n",
      "Label_1: IoU Scores Train\n",
      "Class00: 0.1779 Class01: 0.1747 Class02: 0.1771 Class03: 0.1785 Class04: 0.1725 Class05: 0.1739 Class06: 0.1827 \n",
      "Class07: 0.1761 Class08: 0.1745 Class09: 0.1776 Class10: 0.1750 Class11: 0.1868 Class12: 0.1849 \n",
      "Label_2: IoU Scores Train\n",
      "Class00: 0.1430 Class01: 0.1385 Class02: 0.1415 Class03: 0.1416 Class04: 0.1379 Class05: 0.1382 Class06: 0.1462 \n",
      "Class07: 0.1388 Class08: 0.1391 Class09: 0.1417 Class10: 0.1389 Class11: 0.1488 Class12: 0.1504 \n",
      "Label_3: IoU Scores Train\n",
      "Class00: 0.1261 Class01: 0.1213 Class02: 0.1234 Class03: 0.1232 Class04: 0.1202 Class05: 0.1205 Class06: 0.1286 \n",
      "Class07: 0.1202 Class08: 0.1214 Class09: 0.1241 Class10: 0.1205 Class11: 0.1303 Class12: 0.1327 \n",
      "Train seg Loss: 0.13447782012593487 Train dom Loss: 20.01441019417457\n",
      "Train Loss: 0.13647926106131164\n",
      "Train mIoU: 0.25974285632526517\n"
     ]
    },
    {
     "name": "stderr",
     "output_type": "stream",
     "text": [
      "100%|██████████| 30/30 [00:38<00:00,  1.30s/it]\n"
     ]
    },
    {
     "name": "stdout",
     "output_type": "stream",
     "text": [
      "\n",
      "--IoU Scores Fish val--\n",
      "Class0: 0.4315 Class1: 0.3539 Class2: 0.4121 Class3: 0.4273 Class4: 0.3572 Class5: 0.3948 Class6: 0.4319 \n",
      "Class7: 0.3685 Class8: 0.3926 Class9: 0.3955 Class10: 0.3825 Class11: 0.3844 Class12: 0.4101 \n",
      "Epoch25\n",
      "Valid Seg Loss: 0.16487473547458648 Valid dom Loss: 947.8323974609375\n",
      "Valid Loss: 0.25965797106424965\n",
      "Valid mIoU: 0.3955653678303284\n",
      "___________________________________________________________________________________________\n",
      "\n"
     ]
    },
    {
     "name": "stderr",
     "output_type": "stream",
     "text": [
      "Epoch: 26: 100%|██████████| 138/138 [05:46<00:00,  2.51s/it]\n"
     ]
    },
    {
     "name": "stdout",
     "output_type": "stream",
     "text": [
      "\n",
      "Label_0: IoU Scores Train\n",
      "Class00: 0.5984 Class01: 0.5997 Class02: 0.6123 Class03: 0.6433 Class04: 0.6005 Class05: 0.6151 Class06: 0.6171 \n",
      "Class07: 0.6103 Class08: 0.6220 Class09: 0.6348 Class10: 0.6181 Class11: 0.6441 Class12: 0.5936 \n",
      "Label_1: IoU Scores Train\n",
      "Class00: 0.1794 Class01: 0.1824 Class02: 0.1838 Class03: 0.1838 Class04: 0.1801 Class05: 0.1843 Class06: 0.1791 \n",
      "Class07: 0.1785 Class08: 0.1811 Class09: 0.1783 Class10: 0.1786 Class11: 0.1871 Class12: 0.1797 \n",
      "Label_2: IoU Scores Train\n",
      "Class00: 0.1430 Class01: 0.1452 Class02: 0.1471 Class03: 0.1464 Class04: 0.1445 Class05: 0.1462 Class06: 0.1417 \n",
      "Class07: 0.1421 Class08: 0.1441 Class09: 0.1423 Class10: 0.1427 Class11: 0.1517 Class12: 0.1444 \n",
      "Label_3: IoU Scores Train\n",
      "Class00: 0.1247 Class01: 0.1271 Class02: 0.1286 Class03: 0.1273 Class04: 0.1267 Class05: 0.1274 Class06: 0.1238 \n",
      "Class07: 0.1238 Class08: 0.1261 Class09: 0.1254 Class10: 0.1248 Class11: 0.1341 Class12: 0.1275 \n",
      "Train seg Loss: 0.12541455767400886 Train dom Loss: 0.006737002576490321\n",
      "Train Loss: 0.12541523138466087\n",
      "Train mIoU: 0.26719912252890243\n"
     ]
    },
    {
     "name": "stderr",
     "output_type": "stream",
     "text": [
      "100%|██████████| 30/30 [00:36<00:00,  1.22s/it]\n"
     ]
    },
    {
     "name": "stdout",
     "output_type": "stream",
     "text": [
      "\n",
      "--IoU Scores Fish val--\n",
      "Class0: 0.4139 Class1: 0.3332 Class2: 0.3991 Class3: 0.4095 Class4: 0.3382 Class5: 0.3865 Class6: 0.4212 \n",
      "Class7: 0.3324 Class8: 0.3787 Class9: 0.3844 Class10: 0.3578 Class11: 0.3612 Class12: 0.3961 \n",
      "Epoch26\n",
      "Valid Seg Loss: 0.3002564862370491 Valid dom Loss: 813.210371907552\n",
      "Valid Loss: 0.38157751858234407\n",
      "Valid mIoU: 0.3778653538755453\n",
      "___________________________________________________________________________________________\n",
      "\n"
     ]
    },
    {
     "name": "stderr",
     "output_type": "stream",
     "text": [
      "Epoch: 27: 100%|██████████| 138/138 [05:45<00:00,  2.50s/it]\n"
     ]
    },
    {
     "name": "stdout",
     "output_type": "stream",
     "text": [
      "\n",
      "Label_0: IoU Scores Train\n",
      "Class00: 0.5895 Class01: 0.6226 Class02: 0.6256 Class03: 0.6363 Class04: 0.6517 Class05: 0.6303 Class06: 0.6271 \n",
      "Class07: 0.6136 Class08: 0.4130 Class09: 0.4956 Class10: 0.5321 Class11: 0.5418 Class12: 0.4481 \n",
      "Label_1: IoU Scores Train\n",
      "Class00: 0.1773 Class01: 0.1829 Class02: 0.1805 Class03: 0.1884 Class04: 0.1919 Class05: 0.1832 Class06: 0.1845 \n",
      "Class07: 0.1743 Class08: 0.1498 Class09: 0.1634 Class10: 0.1678 Class11: 0.1703 Class12: 0.1473 \n",
      "Label_2: IoU Scores Train\n",
      "Class00: 0.1420 Class01: 0.1462 Class02: 0.1432 Class03: 0.1508 Class04: 0.1533 Class05: 0.1474 Class06: 0.1471 \n",
      "Class07: 0.1384 Class08: 0.1175 Class09: 0.1309 Class10: 0.1337 Class11: 0.1372 Class12: 0.1225 \n",
      "Label_3: IoU Scores Train\n",
      "Class00: 0.1234 Class01: 0.1274 Class02: 0.1248 Class03: 0.1318 Class04: 0.1333 Class05: 0.1295 Class06: 0.1295 \n",
      "Class07: 0.1248 Class08: 0.1022 Class09: 0.1144 Class10: 0.1165 Class11: 0.1205 Class12: 0.1089 \n",
      "Train seg Loss: 0.21847797158187715 Train dom Loss: 1488.5774824025111\n",
      "Train Loss: 0.36733571542561916\n",
      "Train mIoU: 0.25165270565235554\n"
     ]
    },
    {
     "name": "stderr",
     "output_type": "stream",
     "text": [
      "100%|██████████| 30/30 [00:39<00:00,  1.31s/it]\n"
     ]
    },
    {
     "name": "stdout",
     "output_type": "stream",
     "text": [
      "\n",
      "--IoU Scores Fish val--\n",
      "Class0: 0.0939 Class1: 0.0747 Class2: 0.0939 Class3: 0.0948 Class4: 0.0737 Class5: 0.0938 Class6: 0.0939 \n",
      "Class7: 0.0700 Class8: 0.0872 Class9: 0.0901 Class10: 0.0741 Class11: 0.0823 Class12: 0.0889 \n",
      "Epoch27\n",
      "Valid Seg Loss: 1.8205131530761718 Valid dom Loss: 74541.61197916667\n",
      "Valid Loss: 9.274674161275227\n",
      "Valid mIoU: 0.08546804725141352\n",
      "___________________________________________________________________________________________\n",
      "\n"
     ]
    },
    {
     "name": "stderr",
     "output_type": "stream",
     "text": [
      "Epoch: 28: 100%|██████████| 138/138 [05:43<00:00,  2.49s/it]\n"
     ]
    },
    {
     "name": "stdout",
     "output_type": "stream",
     "text": [
      "\n",
      "Label_0: IoU Scores Train\n",
      "Class00: 0.1744 Class01: 0.1244 Class02: 0.1438 Class03: 0.1896 Class04: 0.2070 Class05: 0.1946 Class06: 0.1735 \n",
      "Class07: 0.2185 Class08: 0.2743 Class09: 0.3081 Class10: 0.3297 Class11: 0.3372 Class12: 0.3457 \n",
      "Label_1: IoU Scores Train\n",
      "Class00: 0.0877 Class01: 0.0625 Class02: 0.0625 Class03: 0.0855 Class04: 0.0904 Class05: 0.0935 Class06: 0.0919 \n",
      "Class07: 0.0976 Class08: 0.1118 Class09: 0.1190 Class10: 0.1195 Class11: 0.1207 Class12: 0.1229 \n",
      "Label_2: IoU Scores Train\n",
      "Class00: 0.0764 Class01: 0.0536 Class02: 0.0529 Class03: 0.0709 Class04: 0.0759 Class05: 0.0785 Class06: 0.0772 \n",
      "Class07: 0.0821 Class08: 0.0935 Class09: 0.0988 Class10: 0.0979 Class11: 0.0993 Class12: 0.1007 \n",
      "Label_3: IoU Scores Train\n",
      "Class00: 0.0663 Class01: 0.0482 Class02: 0.0480 Class03: 0.0638 Class04: 0.0689 Class05: 0.0700 Class06: 0.0672 \n",
      "Class07: 0.0741 Class08: 0.0841 Class09: 0.0883 Class10: 0.0871 Class11: 0.0884 Class12: 0.0894 \n",
      "Train seg Loss: 0.8951990007544341 Train dom Loss: 13674.08264840403\n",
      "Train Loss: 2.2626072334098644\n",
      "Train mIoU: 0.12091633273110111\n"
     ]
    },
    {
     "name": "stderr",
     "output_type": "stream",
     "text": [
      "100%|██████████| 30/30 [00:43<00:00,  1.43s/it]\n"
     ]
    },
    {
     "name": "stdout",
     "output_type": "stream",
     "text": [
      "\n",
      "--IoU Scores Fish val--\n",
      "Class0: 0.3590 Class1: 0.2817 Class2: 0.3360 Class3: 0.3715 Class4: 0.3063 Class5: 0.3332 Class6: 0.3755 \n",
      "Class7: 0.2772 Class8: 0.3376 Class9: 0.3250 Class10: 0.3154 Class11: 0.3117 Class12: 0.3516 \n",
      "Epoch28\n",
      "Valid Seg Loss: 0.20948049277067185 Valid dom Loss: 35.139772478739424\n",
      "Valid Loss: 0.21299447069565455\n",
      "Valid mIoU: 0.3293581492725419\n",
      "___________________________________________________________________________________________\n",
      "\n"
     ]
    },
    {
     "name": "stderr",
     "output_type": "stream",
     "text": [
      "Epoch: 29: 100%|██████████| 138/138 [05:44<00:00,  2.50s/it]\n"
     ]
    },
    {
     "name": "stdout",
     "output_type": "stream",
     "text": [
      "\n",
      "Label_0: IoU Scores Train\n",
      "Class00: 0.3522 Class01: 0.3848 Class02: 0.3852 Class03: 0.3874 Class04: 0.3966 Class05: 0.3955 Class06: 0.4180 \n",
      "Class07: 0.4083 Class08: 0.4104 Class09: 0.4341 Class10: 0.4268 Class11: 0.4246 Class12: 0.4249 \n",
      "Label_1: IoU Scores Train\n",
      "Class00: 0.1229 Class01: 0.1318 Class02: 0.1323 Class03: 0.1343 Class04: 0.1368 Class05: 0.1369 Class06: 0.1411 \n",
      "Class07: 0.1361 Class08: 0.1428 Class09: 0.1495 Class10: 0.1486 Class11: 0.1465 Class12: 0.1432 \n",
      "Label_2: IoU Scores Train\n",
      "Class00: 0.0998 Class01: 0.1078 Class02: 0.1075 Class03: 0.1093 Class04: 0.1114 Class05: 0.1103 Class06: 0.1150 \n",
      "Class07: 0.1110 Class08: 0.1161 Class09: 0.1216 Class10: 0.1212 Class11: 0.1195 Class12: 0.1169 \n",
      "Label_3: IoU Scores Train\n",
      "Class00: 0.0884 Class01: 0.0953 Class02: 0.0947 Class03: 0.0963 Class04: 0.0981 Class05: 0.0962 Class06: 0.1014 \n",
      "Class07: 0.0973 Class08: 0.1016 Class09: 0.1068 Class10: 0.1064 Class11: 0.1048 Class12: 0.1029 \n",
      "Train seg Loss: 0.2729861738457196 Train dom Loss: 42.090122701938895\n",
      "Train Loss: 0.27719518571984075\n",
      "Train mIoU: 0.18864082941673088\n"
     ]
    },
    {
     "name": "stderr",
     "output_type": "stream",
     "text": [
      "100%|██████████| 30/30 [00:42<00:00,  1.43s/it]\n"
     ]
    },
    {
     "name": "stdout",
     "output_type": "stream",
     "text": [
      "\n",
      "--IoU Scores Fish val--\n",
      "Class0: 0.3698 Class1: 0.2936 Class2: 0.3505 Class3: 0.3765 Class4: 0.3175 Class5: 0.3446 Class6: 0.3870 \n",
      "Class7: 0.2906 Class8: 0.3425 Class9: 0.3453 Class10: 0.3336 Class11: 0.3338 Class12: 0.3588 \n",
      "Epoch29\n",
      "Valid Seg Loss: 0.21665532489617664 Valid dom Loss: 80.29928385416666\n",
      "Valid Loss: 0.22468525320291519\n",
      "Valid mIoU: 0.34185883529358024\n",
      "___________________________________________________________________________________________\n",
      "\n"
     ]
    },
    {
     "name": "stderr",
     "output_type": "stream",
     "text": [
      "Epoch: 30: 100%|██████████| 138/138 [05:44<00:00,  2.49s/it]\n"
     ]
    },
    {
     "name": "stdout",
     "output_type": "stream",
     "text": [
      "\n",
      "Label_0: IoU Scores Train\n",
      "Class00: 0.4266 Class01: 0.4326 Class02: 0.4370 Class03: 0.4489 Class04: 0.4648 Class05: 0.4593 Class06: 0.4644 \n",
      "Class07: 0.4500 Class08: 0.4750 Class09: 0.4912 Class10: 0.4826 Class11: 0.4693 Class12: 0.4627 \n",
      "Label_1: IoU Scores Train\n",
      "Class00: 0.1419 Class01: 0.1464 Class02: 0.1474 Class03: 0.1505 Class04: 0.1530 Class05: 0.1504 Class06: 0.1517 \n",
      "Class07: 0.1494 Class08: 0.1538 Class09: 0.1589 Class10: 0.1515 Class11: 0.1543 Class12: 0.1504 \n",
      "Label_2: IoU Scores Train\n",
      "Class00: 0.1164 Class01: 0.1195 Class02: 0.1207 Class03: 0.1225 Class04: 0.1244 Class05: 0.1216 Class06: 0.1235 \n",
      "Class07: 0.1220 Class08: 0.1241 Class09: 0.1280 Class10: 0.1228 Class11: 0.1243 Class12: 0.1224 \n",
      "Label_3: IoU Scores Train\n",
      "Class00: 0.1028 Class01: 0.1050 Class02: 0.1066 Class03: 0.1074 Class04: 0.1092 Class05: 0.1062 Class06: 0.1084 \n",
      "Class07: 0.1075 Class08: 0.1084 Class09: 0.1120 Class10: 0.1081 Class11: 0.1086 Class12: 0.1079 \n",
      "Train seg Loss: 0.22325373597551082 Train dom Loss: 85.00264635541843\n",
      "Train Loss: 0.2317540006901043\n",
      "Train mIoU: 0.20988968939546376\n"
     ]
    },
    {
     "name": "stderr",
     "output_type": "stream",
     "text": [
      "100%|██████████| 30/30 [00:37<00:00,  1.25s/it]\n"
     ]
    },
    {
     "name": "stdout",
     "output_type": "stream",
     "text": [
      "\n",
      "--IoU Scores Fish val--\n",
      "Class0: 0.3620 Class1: 0.2875 Class2: 0.3371 Class3: 0.3666 Class4: 0.3039 Class5: 0.3431 Class6: 0.3835 \n",
      "Class7: 0.2833 Class8: 0.3339 Class9: 0.3382 Class10: 0.3176 Class11: 0.3358 Class12: 0.3497 \n",
      "Epoch30\n",
      "Valid Seg Loss: 0.23126980314652126 Valid dom Loss: 0.0\n",
      "Valid Loss: 0.23126980314652126\n",
      "Valid mIoU: 0.3340152857501369\n",
      "___________________________________________________________________________________________\n",
      "\n"
     ]
    },
    {
     "name": "stderr",
     "output_type": "stream",
     "text": [
      "Epoch: 31: 100%|██████████| 138/138 [05:46<00:00,  2.51s/it]\n"
     ]
    },
    {
     "name": "stdout",
     "output_type": "stream",
     "text": [
      "\n",
      "Label_0: IoU Scores Train\n",
      "Class00: 0.4810 Class01: 0.4812 Class02: 0.4906 Class03: 0.4991 Class04: 0.5041 Class05: 0.4923 Class06: 0.5110 \n",
      "Class07: 0.4850 Class08: 0.5245 Class09: 0.4993 Class10: 0.5022 Class11: 0.5033 Class12: 0.4834 \n",
      "Label_1: IoU Scores Train\n",
      "Class00: 0.1504 Class01: 0.1570 Class02: 0.1566 Class03: 0.1574 Class04: 0.1590 Class05: 0.1574 Class06: 0.1593 \n",
      "Class07: 0.1586 Class08: 0.1600 Class09: 0.1590 Class10: 0.1572 Class11: 0.1563 Class12: 0.1572 \n",
      "Label_2: IoU Scores Train\n",
      "Class00: 0.1216 Class01: 0.1274 Class02: 0.1263 Class03: 0.1263 Class04: 0.1277 Class05: 0.1259 Class06: 0.1279 \n",
      "Class07: 0.1277 Class08: 0.1290 Class09: 0.1291 Class10: 0.1265 Class11: 0.1263 Class12: 0.1284 \n",
      "Label_3: IoU Scores Train\n",
      "Class00: 0.1070 Class01: 0.1120 Class02: 0.1111 Class03: 0.1102 Class04: 0.1119 Class05: 0.1105 Class06: 0.1124 \n",
      "Class07: 0.1120 Class08: 0.1128 Class09: 0.1136 Class10: 0.1108 Class11: 0.1109 Class12: 0.1130 \n",
      "Train seg Loss: 0.19209166378646658 Train dom Loss: 32.98872666989677\n",
      "Train Loss: 0.19539053653083419\n",
      "Train mIoU: 0.2230902638308311\n"
     ]
    },
    {
     "name": "stderr",
     "output_type": "stream",
     "text": [
      "100%|██████████| 30/30 [00:40<00:00,  1.36s/it]\n"
     ]
    },
    {
     "name": "stdout",
     "output_type": "stream",
     "text": [
      "\n",
      "--IoU Scores Fish val--\n",
      "Class0: 0.3626 Class1: 0.2978 Class2: 0.3513 Class3: 0.3700 Class4: 0.3176 Class5: 0.3588 Class6: 0.3834 \n",
      "Class7: 0.2997 Class8: 0.3472 Class9: 0.3518 Class10: 0.3338 Class11: 0.3450 Class12: 0.3560 \n",
      "Epoch31\n",
      "Valid Seg Loss: 0.21765378614266714 Valid dom Loss: 55.694850540161134\n",
      "Valid Loss: 0.22322327097256978\n",
      "Valid mIoU: 0.3442377980208486\n",
      "___________________________________________________________________________________________\n",
      "\n"
     ]
    },
    {
     "name": "stderr",
     "output_type": "stream",
     "text": [
      "Epoch: 32: 100%|██████████| 138/138 [05:46<00:00,  2.51s/it]\n"
     ]
    },
    {
     "name": "stdout",
     "output_type": "stream",
     "text": [
      "\n",
      "Label_0: IoU Scores Train\n",
      "Class00: 0.4936 Class01: 0.5312 Class02: 0.5124 Class03: 0.5367 Class04: 0.5109 Class05: 0.5126 Class06: 0.5116 \n",
      "Class07: 0.5254 Class08: 0.5311 Class09: 0.5342 Class10: 0.5219 Class11: 0.5434 Class12: 0.5346 \n",
      "Label_1: IoU Scores Train\n",
      "Class00: 0.1573 Class01: 0.1650 Class02: 0.1606 Class03: 0.1662 Class04: 0.1606 Class05: 0.1594 Class06: 0.1647 \n",
      "Class07: 0.1603 Class08: 0.1644 Class09: 0.1652 Class10: 0.1603 Class11: 0.1655 Class12: 0.1655 \n",
      "Label_2: IoU Scores Train\n",
      "Class00: 0.1274 Class01: 0.1324 Class02: 0.1294 Class03: 0.1336 Class04: 0.1295 Class05: 0.1285 Class06: 0.1340 \n",
      "Class07: 0.1293 Class08: 0.1321 Class09: 0.1329 Class10: 0.1284 Class11: 0.1330 Class12: 0.1329 \n",
      "Label_3: IoU Scores Train\n",
      "Class00: 0.1117 Class01: 0.1159 Class02: 0.1135 Class03: 0.1169 Class04: 0.1137 Class05: 0.1129 Class06: 0.1175 \n",
      "Class07: 0.1132 Class08: 0.1157 Class09: 0.1165 Class10: 0.1123 Class11: 0.1160 Class12: 0.1165 \n",
      "Train seg Loss: 0.17313357126777587 Train dom Loss: 6.364664953294988\n",
      "Train Loss: 0.17377003769565752\n",
      "Train mIoU: 0.23289061782307305\n"
     ]
    },
    {
     "name": "stderr",
     "output_type": "stream",
     "text": [
      "100%|██████████| 30/30 [00:39<00:00,  1.33s/it]\n"
     ]
    },
    {
     "name": "stdout",
     "output_type": "stream",
     "text": [
      "\n",
      "--IoU Scores Fish val--\n",
      "Class0: 0.4375 Class1: 0.3572 Class2: 0.4162 Class3: 0.4338 Class4: 0.3720 Class5: 0.3984 Class6: 0.4418 \n",
      "Class7: 0.3490 Class8: 0.3991 Class9: 0.4057 Class10: 0.3807 Class11: 0.3890 Class12: 0.4092 \n",
      "Epoch32\n",
      "Valid Seg Loss: 0.15615428909659385 Valid dom Loss: 78.91283111572265\n",
      "Valid Loss: 0.1640455725292365\n",
      "Valid mIoU: 0.399216067487992\n",
      "___________________________________________________________________________________________\n",
      "\n"
     ]
    },
    {
     "name": "stderr",
     "output_type": "stream",
     "text": [
      "Epoch: 33: 100%|██████████| 138/138 [05:47<00:00,  2.52s/it]\n"
     ]
    },
    {
     "name": "stdout",
     "output_type": "stream",
     "text": [
      "\n",
      "Label_0: IoU Scores Train\n",
      "Class00: 0.5289 Class01: 0.5456 Class02: 0.5439 Class03: 0.5528 Class04: 0.5538 Class05: 0.5623 Class06: 0.5578 \n",
      "Class07: 0.5363 Class08: 0.5521 Class09: 0.5636 Class10: 0.5581 Class11: 0.5460 Class12: 0.5472 \n",
      "Label_1: IoU Scores Train\n",
      "Class00: 0.1627 Class01: 0.1657 Class02: 0.1667 Class03: 0.1656 Class04: 0.1652 Class05: 0.1695 Class06: 0.1688 \n",
      "Class07: 0.1625 Class08: 0.1679 Class09: 0.1716 Class10: 0.1717 Class11: 0.1708 Class12: 0.1662 \n",
      "Label_2: IoU Scores Train\n",
      "Class00: 0.1302 Class01: 0.1327 Class02: 0.1346 Class03: 0.1330 Class04: 0.1331 Class05: 0.1355 Class06: 0.1354 \n",
      "Class07: 0.1308 Class08: 0.1348 Class09: 0.1381 Class10: 0.1379 Class11: 0.1376 Class12: 0.1351 \n",
      "Label_3: IoU Scores Train\n",
      "Class00: 0.1140 Class01: 0.1159 Class02: 0.1180 Class03: 0.1161 Class04: 0.1167 Class05: 0.1187 Class06: 0.1183 \n",
      "Class07: 0.1141 Class08: 0.1178 Class09: 0.1210 Class10: 0.1206 Class11: 0.1208 Class12: 0.1196 \n",
      "Train seg Loss: 0.1563979883448801 Train dom Loss: 11.518308993002643\n",
      "Train Loss: 0.1575498191666776\n",
      "Train mIoU: 0.2423756345948394\n"
     ]
    },
    {
     "name": "stderr",
     "output_type": "stream",
     "text": [
      "100%|██████████| 30/30 [00:39<00:00,  1.33s/it]\n"
     ]
    },
    {
     "name": "stdout",
     "output_type": "stream",
     "text": [
      "\n",
      "--IoU Scores Fish val--\n",
      "Class0: 0.3894 Class1: 0.3184 Class2: 0.3594 Class3: 0.3895 Class4: 0.3175 Class5: 0.3400 Class6: 0.3967 \n",
      "Class7: 0.3130 Class8: 0.3358 Class9: 0.3572 Class10: 0.3394 Class11: 0.3467 Class12: 0.3522 \n",
      "Epoch33\n",
      "Valid Seg Loss: 0.8872619569301605 Valid dom Loss: 16.55180196762085\n",
      "Valid Loss: 0.8889171381791433\n",
      "Valid mIoU: 0.35041671864460694\n",
      "___________________________________________________________________________________________\n",
      "\n"
     ]
    },
    {
     "name": "stderr",
     "output_type": "stream",
     "text": [
      "Epoch: 34: 100%|██████████| 138/138 [05:12<00:00,  2.26s/it]\n"
     ]
    },
    {
     "name": "stdout",
     "output_type": "stream",
     "text": [
      "\n",
      "Label_0: IoU Scores Train\n",
      "Class00: 0.5499 Class01: 0.5634 Class02: 0.5575 Class03: 0.5675 Class04: 0.5656 Class05: 0.5701 Class06: 0.5817 \n",
      "Class07: 0.5470 Class08: 0.5705 Class09: 0.5584 Class10: 0.5767 Class11: 0.5933 Class12: 0.4286 \n",
      "Label_1: IoU Scores Train\n",
      "Class00: 0.1688 Class01: 0.1705 Class02: 0.1685 Class03: 0.1696 Class04: 0.1767 Class05: 0.1712 Class06: 0.1757 \n",
      "Class07: 0.1654 Class08: 0.1810 Class09: 0.1707 Class10: 0.1756 Class11: 0.1759 Class12: 0.1458 \n",
      "Label_2: IoU Scores Train\n",
      "Class00: 0.1353 Class01: 0.1363 Class02: 0.1361 Class03: 0.1357 Class04: 0.1423 Class05: 0.1366 Class06: 0.1411 \n",
      "Class07: 0.1330 Class08: 0.1466 Class09: 0.1371 Class10: 0.1395 Class11: 0.1411 Class12: 0.1198 \n",
      "Label_3: IoU Scores Train\n",
      "Class00: 0.1190 Class01: 0.1190 Class02: 0.1209 Class03: 0.1185 Class04: 0.1248 Class05: 0.1195 Class06: 0.1237 \n",
      "Class07: 0.1169 Class08: 0.1292 Class09: 0.1208 Class10: 0.1217 Class11: 0.1229 Class12: 0.1036 \n",
      "Train seg Loss: 0.16261349645429762 Train dom Loss: 43.70202338447823\n",
      "Train Loss: 0.16698369881867067\n",
      "Train mIoU: 0.2458930366641336\n"
     ]
    },
    {
     "name": "stderr",
     "output_type": "stream",
     "text": [
      "100%|██████████| 30/30 [00:09<00:00,  3.05it/s]\n"
     ]
    },
    {
     "name": "stdout",
     "output_type": "stream",
     "text": [
      "\n",
      "--IoU Scores Fish val--\n",
      "Class0: 0.3736 Class1: 0.3154 Class2: 0.3621 Class3: 0.3695 Class4: 0.3244 Class5: 0.3459 Class6: 0.3755 \n",
      "Class7: 0.3032 Class8: 0.3557 Class9: 0.3598 Class10: 0.3368 Class11: 0.3328 Class12: 0.3628 \n",
      "Epoch34\n",
      "Valid Seg Loss: 0.20951541910568874 Valid dom Loss: 172.8391855875651\n",
      "Valid Loss: 0.22679933905601501\n",
      "Valid mIoU: 0.347507045281028\n",
      "___________________________________________________________________________________________\n",
      "\n"
     ]
    },
    {
     "name": "stderr",
     "output_type": "stream",
     "text": [
      "Epoch: 35: 100%|██████████| 138/138 [05:01<00:00,  2.18s/it]\n"
     ]
    },
    {
     "name": "stdout",
     "output_type": "stream",
     "text": [
      "\n",
      "Label_0: IoU Scores Train\n",
      "Class00: 0.4627 Class01: 0.5341 Class02: 0.5300 Class03: 0.5486 Class04: 0.5402 Class05: 0.5451 Class06: 0.5721 \n",
      "Class07: 0.5631 Class08: 0.5783 Class09: 0.5813 Class10: 0.5961 Class11: 0.5869 Class12: 0.5548 \n",
      "Label_1: IoU Scores Train\n",
      "Class00: 0.1590 Class01: 0.1692 Class02: 0.1666 Class03: 0.1726 Class04: 0.1667 Class05: 0.1675 Class06: 0.1735 \n",
      "Class07: 0.1751 Class08: 0.1745 Class09: 0.1684 Class10: 0.1778 Class11: 0.1713 Class12: 0.1752 \n",
      "Label_2: IoU Scores Train\n",
      "Class00: 0.1279 Class01: 0.1353 Class02: 0.1349 Class03: 0.1382 Class04: 0.1336 Class05: 0.1347 Class06: 0.1400 \n",
      "Class07: 0.1404 Class08: 0.1396 Class09: 0.1348 Class10: 0.1415 Class11: 0.1355 Class12: 0.1412 \n",
      "Label_3: IoU Scores Train\n",
      "Class00: 0.1123 Class01: 0.1183 Class02: 0.1191 Class03: 0.1204 Class04: 0.1166 Class05: 0.1181 Class06: 0.1224 \n",
      "Class07: 0.1223 Class08: 0.1217 Class09: 0.1180 Class10: 0.1234 Class11: 0.1178 Class12: 0.1237 \n",
      "Train seg Loss: 0.15687549860635097 Train dom Loss: 6.508204592250603\n",
      "Train Loss: 0.1575263190906549\n",
      "Train mIoU: 0.2450463005583145\n"
     ]
    },
    {
     "name": "stderr",
     "output_type": "stream",
     "text": [
      "100%|██████████| 30/30 [00:09<00:00,  3.03it/s]\n"
     ]
    },
    {
     "name": "stdout",
     "output_type": "stream",
     "text": [
      "\n",
      "--IoU Scores Fish val--\n",
      "Class0: 0.4186 Class1: 0.3296 Class2: 0.3803 Class3: 0.4058 Class4: 0.3442 Class5: 0.3705 Class6: 0.4089 \n",
      "Class7: 0.3290 Class8: 0.3643 Class9: 0.3881 Class10: 0.3477 Class11: 0.3559 Class12: 0.3714 \n",
      "Epoch35\n",
      "Valid Seg Loss: 0.24021019140879313 Valid dom Loss: 259.174355061849\n",
      "Valid Loss: 0.2661276251077652\n",
      "Valid mIoU: 0.370332584137385\n",
      "___________________________________________________________________________________________\n",
      "\n"
     ]
    },
    {
     "name": "stderr",
     "output_type": "stream",
     "text": [
      "Epoch: 36: 100%|██████████| 138/138 [04:59<00:00,  2.17s/it]\n"
     ]
    },
    {
     "name": "stdout",
     "output_type": "stream",
     "text": [
      "\n",
      "Label_0: IoU Scores Train\n",
      "Class00: 0.5920 Class01: 0.5741 Class02: 0.5901 Class03: 0.5623 Class04: 0.5776 Class05: 0.5987 Class06: 0.5983 \n",
      "Class07: 0.5673 Class08: 0.5964 Class09: 0.6059 Class10: 0.5950 Class11: 0.5908 Class12: 0.5937 \n",
      "Label_1: IoU Scores Train\n",
      "Class00: 0.1744 Class01: 0.1795 Class02: 0.1753 Class03: 0.1666 Class04: 0.1745 Class05: 0.1760 Class06: 0.1806 \n",
      "Class07: 0.1736 Class08: 0.1795 Class09: 0.1818 Class10: 0.1742 Class11: 0.1793 Class12: 0.1771 \n",
      "Label_2: IoU Scores Train\n",
      "Class00: 0.1402 Class01: 0.1439 Class02: 0.1408 Class03: 0.1330 Class04: 0.1389 Class05: 0.1412 Class06: 0.1450 \n",
      "Class07: 0.1397 Class08: 0.1443 Class09: 0.1463 Class10: 0.1391 Class11: 0.1421 Class12: 0.1432 \n",
      "Label_3: IoU Scores Train\n",
      "Class00: 0.1234 Class01: 0.1256 Class02: 0.1240 Class03: 0.1162 Class04: 0.1214 Class05: 0.1235 Class06: 0.1283 \n",
      "Class07: 0.1233 Class08: 0.1276 Class09: 0.1288 Class10: 0.1221 Class11: 0.1243 Class12: 0.1255 \n",
      "Train seg Loss: 0.13832930225770976 Train dom Loss: 0.0981756895459105\n",
      "Train Loss: 0.13833911982837363\n",
      "Train mIoU: 0.25743249079821395\n"
     ]
    },
    {
     "name": "stderr",
     "output_type": "stream",
     "text": [
      "100%|██████████| 30/30 [00:09<00:00,  3.06it/s]\n"
     ]
    },
    {
     "name": "stdout",
     "output_type": "stream",
     "text": [
      "\n",
      "--IoU Scores Fish val--\n",
      "Class0: 0.4460 Class1: 0.3575 Class2: 0.4168 Class3: 0.4345 Class4: 0.3641 Class5: 0.3997 Class6: 0.4360 \n",
      "Class7: 0.3550 Class8: 0.3963 Class9: 0.4090 Class10: 0.3828 Class11: 0.3834 Class12: 0.4081 \n",
      "Epoch36\n",
      "Valid Seg Loss: 0.16163884326815606 Valid dom Loss: 192.28932393391926\n",
      "Valid Loss: 0.18086777503291765\n",
      "Valid mIoU: 0.39915655528305916\n",
      "___________________________________________________________________________________________\n",
      "\n"
     ]
    },
    {
     "name": "stderr",
     "output_type": "stream",
     "text": [
      "Epoch: 37: 100%|██████████| 138/138 [04:59<00:00,  2.17s/it]\n"
     ]
    },
    {
     "name": "stdout",
     "output_type": "stream",
     "text": [
      "\n",
      "Label_0: IoU Scores Train\n",
      "Class00: 0.6001 Class01: 0.6054 Class02: 0.6138 Class03: 0.6120 Class04: 0.6058 Class05: 0.6043 Class06: 0.6120 \n",
      "Class07: 0.5946 Class08: 0.6370 Class09: 0.6126 Class10: 0.6001 Class11: 0.6176 Class12: 0.5951 \n",
      "Label_1: IoU Scores Train\n",
      "Class00: 0.1697 Class01: 0.1845 Class02: 0.1809 Class03: 0.1842 Class04: 0.1734 Class05: 0.1818 Class06: 0.1828 \n",
      "Class07: 0.1742 Class08: 0.1829 Class09: 0.1811 Class10: 0.1749 Class11: 0.1806 Class12: 0.1770 \n",
      "Label_2: IoU Scores Train\n",
      "Class00: 0.1361 Class01: 0.1478 Class02: 0.1443 Class03: 0.1468 Class04: 0.1387 Class05: 0.1458 Class06: 0.1463 \n",
      "Class07: 0.1389 Class08: 0.1462 Class09: 0.1440 Class10: 0.1404 Class11: 0.1438 Class12: 0.1420 \n",
      "Label_3: IoU Scores Train\n",
      "Class00: 0.1197 Class01: 0.1305 Class02: 0.1270 Class03: 0.1284 Class04: 0.1222 Class05: 0.1275 Class06: 0.1290 \n",
      "Class07: 0.1222 Class08: 0.1284 Class09: 0.1256 Class10: 0.1237 Class11: 0.1255 Class12: 0.1246 \n",
      "Train seg Loss: 0.1286159259388628 Train dom Loss: 0.03208044744466828\n",
      "Train Loss: 0.12861913394020952\n",
      "Train mIoU: 0.2641170274411364\n"
     ]
    },
    {
     "name": "stderr",
     "output_type": "stream",
     "text": [
      "100%|██████████| 30/30 [00:09<00:00,  3.06it/s]\n"
     ]
    },
    {
     "name": "stdout",
     "output_type": "stream",
     "text": [
      "\n",
      "--IoU Scores Fish val--\n",
      "Class0: 0.4330 Class1: 0.3493 Class2: 0.4033 Class3: 0.4321 Class4: 0.3617 Class5: 0.3967 Class6: 0.4306 \n",
      "Class7: 0.3545 Class8: 0.3890 Class9: 0.3994 Class10: 0.3832 Class11: 0.3862 Class12: 0.3973 \n",
      "Epoch37\n",
      "Valid Seg Loss: 0.18171433508396148 Valid dom Loss: 173.3664118448893\n",
      "Valid Loss: 0.19905097583929698\n",
      "Valid mIoU: 0.3935444572140388\n",
      "___________________________________________________________________________________________\n",
      "\n"
     ]
    },
    {
     "name": "stderr",
     "output_type": "stream",
     "text": [
      "Epoch: 38: 100%|██████████| 138/138 [04:59<00:00,  2.17s/it]\n"
     ]
    },
    {
     "name": "stdout",
     "output_type": "stream",
     "text": [
      "\n",
      "Label_0: IoU Scores Train\n",
      "Class00: 0.6125 Class01: 0.6179 Class02: 0.6303 Class03: 0.6231 Class04: 0.6158 Class05: 0.6192 Class06: 0.6211 \n",
      "Class07: 0.6203 Class08: 0.6305 Class09: 0.6117 Class10: 0.6133 Class11: 0.6171 Class12: 0.6144 \n",
      "Label_1: IoU Scores Train\n",
      "Class00: 0.1771 Class01: 0.1813 Class02: 0.1888 Class03: 0.1834 Class04: 0.1758 Class05: 0.1789 Class06: 0.1838 \n",
      "Class07: 0.1825 Class08: 0.1793 Class09: 0.1794 Class10: 0.1816 Class11: 0.1783 Class12: 0.1810 \n",
      "Label_2: IoU Scores Train\n",
      "Class00: 0.1415 Class01: 0.1452 Class02: 0.1510 Class03: 0.1471 Class04: 0.1409 Class05: 0.1428 Class06: 0.1463 \n",
      "Class07: 0.1467 Class08: 0.1433 Class09: 0.1429 Class10: 0.1452 Class11: 0.1408 Class12: 0.1445 \n",
      "Label_3: IoU Scores Train\n",
      "Class00: 0.1236 Class01: 0.1273 Class02: 0.1331 Class03: 0.1290 Class04: 0.1238 Class05: 0.1256 Class06: 0.1285 \n",
      "Class07: 0.1299 Class08: 0.1257 Class09: 0.1254 Class10: 0.1276 Class11: 0.1224 Class12: 0.1266 \n",
      "Train seg Loss: 0.12417710818134356 Train dom Loss: 12.489034094191117\n",
      "Train Loss: 0.12542601152444663\n",
      "Train mIoU: 0.2677931272582651\n"
     ]
    },
    {
     "name": "stderr",
     "output_type": "stream",
     "text": [
      "100%|██████████| 30/30 [00:09<00:00,  3.06it/s]\n"
     ]
    },
    {
     "name": "stdout",
     "output_type": "stream",
     "text": [
      "\n",
      "--IoU Scores Fish val--\n",
      "Class0: 0.4500 Class1: 0.3707 Class2: 0.4275 Class3: 0.4504 Class4: 0.3746 Class5: 0.4125 Class6: 0.4491 \n",
      "Class7: 0.3816 Class8: 0.4165 Class9: 0.4138 Class10: 0.3974 Class11: 0.3984 Class12: 0.4208 \n",
      "Epoch38\n",
      "Valid Seg Loss: 0.14697960739334423 Valid dom Loss: 184.9921885172526\n",
      "Valid Loss: 0.16547882556915283\n",
      "Valid mIoU: 0.4125505537796927\n",
      "___________________________________________________________________________________________\n",
      "\n"
     ]
    },
    {
     "name": "stderr",
     "output_type": "stream",
     "text": [
      "Epoch: 39: 100%|██████████| 138/138 [05:01<00:00,  2.18s/it]\n"
     ]
    },
    {
     "name": "stdout",
     "output_type": "stream",
     "text": [
      "\n",
      "Label_0: IoU Scores Train\n",
      "Class00: 0.5136 Class01: 0.2844 Class02: 0.3708 Class03: 0.4361 Class04: 0.4771 Class05: 0.5023 Class06: 0.5137 \n",
      "Class07: 0.5272 Class08: 0.5334 Class09: 0.5640 Class10: 0.5491 Class11: 0.5622 Class12: 0.5670 \n",
      "Label_1: IoU Scores Train\n",
      "Class00: 0.1647 Class01: 0.1220 Class02: 0.1360 Class03: 0.1510 Class04: 0.1551 Class05: 0.1591 Class06: 0.1655 \n",
      "Class07: 0.1649 Class08: 0.1649 Class09: 0.1732 Class10: 0.1715 Class11: 0.1777 Class12: 0.1735 \n",
      "Label_2: IoU Scores Train\n",
      "Class00: 0.1322 Class01: 0.1018 Class02: 0.1112 Class03: 0.1222 Class04: 0.1257 Class05: 0.1281 Class06: 0.1320 \n",
      "Class07: 0.1323 Class08: 0.1318 Class09: 0.1398 Class10: 0.1377 Class11: 0.1431 Class12: 0.1384 \n",
      "Label_3: IoU Scores Train\n",
      "Class00: 0.1139 Class01: 0.0917 Class02: 0.0985 Class03: 0.1068 Class04: 0.1103 Class05: 0.1119 Class06: 0.1155 \n",
      "Class07: 0.1157 Class08: 0.1148 Class09: 0.1234 Class10: 0.1207 Class11: 0.1262 Class12: 0.1205 \n",
      "Train seg Loss: 0.2060059046615725 Train dom Loss: 735.369309383792\n",
      "Train Loss: 0.2795428342955268\n",
      "Train mIoU: 0.22357917853771314\n"
     ]
    },
    {
     "name": "stderr",
     "output_type": "stream",
     "text": [
      "100%|██████████| 30/30 [00:09<00:00,  3.05it/s]\n"
     ]
    },
    {
     "name": "stdout",
     "output_type": "stream",
     "text": [
      "\n",
      "--IoU Scores Fish val--\n",
      "Class0: 0.4208 Class1: 0.3237 Class2: 0.3864 Class3: 0.4112 Class4: 0.3446 Class5: 0.3862 Class6: 0.4162 \n",
      "Class7: 0.3371 Class8: 0.3745 Class9: 0.3848 Class10: 0.3631 Class11: 0.3833 Class12: 0.3692 \n",
      "Epoch39\n",
      "Valid Seg Loss: 0.2169150282939275 Valid dom Loss: 0.0\n",
      "Valid Loss: 0.2169150282939275\n",
      "Valid mIoU: 0.37699142718609985\n",
      "___________________________________________________________________________________________\n",
      "\n"
     ]
    },
    {
     "name": "stderr",
     "output_type": "stream",
     "text": [
      "Epoch: 40: 100%|██████████| 138/138 [04:59<00:00,  2.17s/it]\n"
     ]
    },
    {
     "name": "stdout",
     "output_type": "stream",
     "text": [
      "\n",
      "Label_0: IoU Scores Train\n",
      "Class00: 0.5754 Class01: 0.5876 Class02: 0.5800 Class03: 0.5988 Class04: 0.5890 Class05: 0.6114 Class06: 0.6044 \n",
      "Class07: 0.6108 Class08: 0.6067 Class09: 0.6175 Class10: 0.6090 Class11: 0.5966 Class12: 0.6051 \n",
      "Label_1: IoU Scores Train\n",
      "Class00: 0.1782 Class01: 0.1812 Class02: 0.1766 Class03: 0.1817 Class04: 0.1744 Class05: 0.1819 Class06: 0.1807 \n",
      "Class07: 0.1816 Class08: 0.1803 Class09: 0.1859 Class10: 0.1758 Class11: 0.1783 Class12: 0.1792 \n",
      "Label_2: IoU Scores Train\n",
      "Class00: 0.1426 Class01: 0.1450 Class02: 0.1418 Class03: 0.1448 Class04: 0.1394 Class05: 0.1451 Class06: 0.1442 \n",
      "Class07: 0.1458 Class08: 0.1445 Class09: 0.1490 Class10: 0.1400 Class11: 0.1396 Class12: 0.1447 \n",
      "Label_3: IoU Scores Train\n",
      "Class00: 0.1249 Class01: 0.1271 Class02: 0.1245 Class03: 0.1262 Class04: 0.1225 Class05: 0.1270 Class06: 0.1270 \n",
      "Class07: 0.1279 Class08: 0.1267 Class09: 0.1310 Class10: 0.1217 Class11: 0.1211 Class12: 0.1292 \n",
      "Train seg Loss: 0.13269794950990574 Train dom Loss: 21.874435787750468\n",
      "Train Loss: 0.134885392813147\n",
      "Train mIoU: 0.26214717703227064\n"
     ]
    },
    {
     "name": "stderr",
     "output_type": "stream",
     "text": [
      "100%|██████████| 30/30 [00:09<00:00,  3.02it/s]\n"
     ]
    },
    {
     "name": "stdout",
     "output_type": "stream",
     "text": [
      "\n",
      "--IoU Scores Fish val--\n",
      "Class0: 0.4544 Class1: 0.3572 Class2: 0.4242 Class3: 0.4439 Class4: 0.3743 Class5: 0.4099 Class6: 0.4411 \n",
      "Class7: 0.3708 Class8: 0.4091 Class9: 0.4067 Class10: 0.3964 Class11: 0.3971 Class12: 0.4093 \n",
      "Epoch40\n",
      "Valid Seg Loss: 0.14833131581544876 Valid dom Loss: 182.97424774169923\n",
      "Valid Loss: 0.16662874072790146\n",
      "Valid mIoU: 0.40726893402136377\n",
      "___________________________________________________________________________________________\n",
      "\n"
     ]
    },
    {
     "name": "stderr",
     "output_type": "stream",
     "text": [
      "Epoch: 41: 100%|██████████| 138/138 [05:00<00:00,  2.18s/it]\n"
     ]
    },
    {
     "name": "stdout",
     "output_type": "stream",
     "text": [
      "\n",
      "Label_0: IoU Scores Train\n",
      "Class00: 0.1983 Class01: 0.0178 Class02: 0.0243 Class03: 0.0312 Class04: 0.0303 Class05: 0.0265 Class06: 0.0193 \n",
      "Class07: 0.0194 Class08: 0.0237 Class09: 0.0348 Class10: 0.0381 Class11: 0.0403 Class12: 0.0363 \n",
      "Label_1: IoU Scores Train\n",
      "Class00: 0.0824 Class01: 0.0212 Class02: 0.0265 Class03: 0.0344 Class04: 0.0369 Class05: 0.0386 Class06: 0.0303 \n",
      "Class07: 0.0290 Class08: 0.0259 Class09: 0.0275 Class10: 0.0291 Class11: 0.0329 Class12: 0.0318 \n",
      "Label_2: IoU Scores Train\n",
      "Class00: 0.0665 Class01: 0.0225 Class02: 0.0281 Class03: 0.0370 Class04: 0.0376 Class05: 0.0383 Class06: 0.0304 \n",
      "Class07: 0.0287 Class08: 0.0277 Class09: 0.0246 Class10: 0.0268 Class11: 0.0304 Class12: 0.0288 \n",
      "Label_3: IoU Scores Train\n",
      "Class00: 0.0564 Class01: 0.0168 Class02: 0.0277 Class03: 0.0351 Class04: 0.0379 Class05: 0.0326 Class06: 0.0231 \n",
      "Class07: 0.0233 Class08: 0.0226 Class09: 0.0187 Class10: 0.0206 Class11: 0.0238 Class12: 0.0226 \n",
      "Train seg Loss: 8.713347188763969 Train dom Loss: 42647.99601525874\n",
      "Train Loss: 435.193299634787\n",
      "Train mIoU: 0.03414038711329953\n"
     ]
    },
    {
     "name": "stderr",
     "output_type": "stream",
     "text": [
      "100%|██████████| 30/30 [00:09<00:00,  3.05it/s]\n"
     ]
    },
    {
     "name": "stdout",
     "output_type": "stream",
     "text": [
      "\n",
      "--IoU Scores Fish val--\n",
      "Class0: 0.0740 Class1: 0.0493 Class2: 0.0493 Class3: 0.0740 Class4: 0.0494 Class5: 0.0493 Class6: 0.0740 \n",
      "Class7: 0.0493 Class8: 0.0493 Class9: 0.0740 Class10: 0.0493 Class11: 0.0493 Class12: 0.0494 \n",
      "Epoch41\n",
      "Valid Seg Loss: 0.8861464977264404 Valid dom Loss: 1750.865625\n",
      "Valid Loss: 18.394802029927572\n",
      "Valid mIoU: 0.05692942397967493\n",
      "___________________________________________________________________________________________\n",
      "\n"
     ]
    },
    {
     "name": "stderr",
     "output_type": "stream",
     "text": [
      "Epoch: 42: 100%|██████████| 138/138 [04:59<00:00,  2.17s/it]\n"
     ]
    },
    {
     "name": "stdout",
     "output_type": "stream",
     "text": [
      "\n",
      "Label_0: IoU Scores Train\n",
      "Class00: 0.0459 Class01: 0.0481 Class02: 0.0505 Class03: 0.0449 Class04: 0.0527 Class05: 0.0411 Class06: 0.0456 \n",
      "Class07: 0.0445 Class08: 0.0471 Class09: 0.0457 Class10: 0.0461 Class11: 0.0481 Class12: 0.0520 \n",
      "Label_1: IoU Scores Train\n",
      "Class00: 0.0354 Class01: 0.0296 Class02: 0.0322 Class03: 0.0323 Class04: 0.0332 Class05: 0.0303 Class06: 0.0324 \n",
      "Class07: 0.0302 Class08: 0.0314 Class09: 0.0310 Class10: 0.0312 Class11: 0.0330 Class12: 0.0345 \n",
      "Label_2: IoU Scores Train\n",
      "Class00: 0.0318 Class01: 0.0288 Class02: 0.0296 Class03: 0.0277 Class04: 0.0296 Class05: 0.0275 Class06: 0.0301 \n",
      "Class07: 0.0277 Class08: 0.0299 Class09: 0.0296 Class10: 0.0308 Class11: 0.0324 Class12: 0.0315 \n",
      "Label_3: IoU Scores Train\n",
      "Class00: 0.0244 Class01: 0.0223 Class02: 0.0227 Class03: 0.0228 Class04: 0.0235 Class05: 0.0220 Class06: 0.0260 \n",
      "Class07: 0.0223 Class08: 0.0248 Class09: 0.0246 Class10: 0.0230 Class11: 0.0279 Class12: 0.0270 \n",
      "Train seg Loss: 1.8499945978755536 Train dom Loss: 1654.387886275416\n",
      "Train Loss: 18.393873084714446\n",
      "Train mIoU: 0.03326229254709227\n"
     ]
    },
    {
     "name": "stderr",
     "output_type": "stream",
     "text": [
      "100%|██████████| 30/30 [00:09<00:00,  3.02it/s]\n"
     ]
    },
    {
     "name": "stdout",
     "output_type": "stream",
     "text": [
      "\n",
      "--IoU Scores Fish val--\n",
      "Class0: 0.0628 Class1: 0.0421 Class2: 0.0419 Class3: 0.0635 Class4: 0.0422 Class5: 0.0425 Class6: 0.0628 \n",
      "Class7: 0.0425 Class8: 0.0429 Class9: 0.0617 Class10: 0.0437 Class11: 0.0426 Class12: 0.0423 \n",
      "Epoch42\n",
      "Valid Seg Loss: 1.260728132724762 Valid dom Loss: 0.0\n",
      "Valid Loss: 1.260728132724762\n",
      "Valid mIoU: 0.04873723392585762\n",
      "___________________________________________________________________________________________\n",
      "\n"
     ]
    },
    {
     "name": "stderr",
     "output_type": "stream",
     "text": [
      "Epoch: 43: 100%|██████████| 138/138 [05:00<00:00,  2.18s/it]\n"
     ]
    },
    {
     "name": "stdout",
     "output_type": "stream",
     "text": [
      "\n",
      "Label_0: IoU Scores Train\n",
      "Class00: 0.0531 Class01: 0.0551 Class02: 0.0599 Class03: 0.0630 Class04: 0.0673 Class05: 0.0601 Class06: 0.0674 \n",
      "Class07: 0.0628 Class08: 0.0589 Class09: 0.0669 Class10: 0.0706 Class11: 0.0660 Class12: 0.0690 \n",
      "Label_1: IoU Scores Train\n",
      "Class00: 0.0330 Class01: 0.0364 Class02: 0.0383 Class03: 0.0403 Class04: 0.0391 Class05: 0.0372 Class06: 0.0431 \n",
      "Class07: 0.0412 Class08: 0.0421 Class09: 0.0430 Class10: 0.0435 Class11: 0.0425 Class12: 0.0442 \n",
      "Label_2: IoU Scores Train\n",
      "Class00: 0.0336 Class01: 0.0367 Class02: 0.0349 Class03: 0.0396 Class04: 0.0358 Class05: 0.0378 Class06: 0.0375 \n",
      "Class07: 0.0379 Class08: 0.0398 Class09: 0.0417 Class10: 0.0405 Class11: 0.0399 Class12: 0.0417 \n",
      "Label_3: IoU Scores Train\n",
      "Class00: 0.0280 Class01: 0.0286 Class02: 0.0292 Class03: 0.0323 Class04: 0.0316 Class05: 0.0312 Class06: 0.0329 \n",
      "Class07: 0.0318 Class08: 0.0314 Class09: 0.0350 Class10: 0.0342 Class11: 0.0346 Class12: 0.0361 \n",
      "Train seg Loss: 1.6912222147203875 Train dom Loss: 1616.4179531456768\n",
      "Train Loss: 17.85540132742861\n",
      "Train mIoU: 0.043431894291242425\n"
     ]
    },
    {
     "name": "stderr",
     "output_type": "stream",
     "text": [
      "100%|██████████| 30/30 [00:10<00:00,  2.95it/s]\n"
     ]
    },
    {
     "name": "stdout",
     "output_type": "stream",
     "text": [
      "\n",
      "--IoU Scores Fish val--\n",
      "Class0: 0.1347 Class1: 0.0958 Class2: 0.1070 Class3: 0.1324 Class4: 0.1063 Class5: 0.1121 Class6: 0.1263 \n",
      "Class7: 0.1048 Class8: 0.1098 Class9: 0.1303 Class10: 0.1052 Class11: 0.1039 Class12: 0.1042 \n",
      "Epoch43\n",
      "Valid Seg Loss: 0.6682798862457275 Valid dom Loss: 8722.710286458334\n",
      "Valid Loss: 87.89538040161133\n",
      "Valid mIoU: 0.11330084017644555\n",
      "___________________________________________________________________________________________\n",
      "\n"
     ]
    },
    {
     "name": "stderr",
     "output_type": "stream",
     "text": [
      "Epoch: 44: 100%|██████████| 138/138 [04:59<00:00,  2.17s/it]\n"
     ]
    },
    {
     "name": "stdout",
     "output_type": "stream",
     "text": [
      "\n",
      "Label_0: IoU Scores Train\n",
      "Class00: 0.0621 Class01: 0.0709 Class02: 0.0611 Class03: 0.0641 Class04: 0.0733 Class05: 0.0715 Class06: 0.0686 \n",
      "Class07: 0.0663 Class08: 0.0732 Class09: 0.0804 Class10: 0.0808 Class11: 0.0836 Class12: 0.0879 \n",
      "Label_1: IoU Scores Train\n",
      "Class00: 0.0425 Class01: 0.0424 Class02: 0.0396 Class03: 0.0400 Class04: 0.0430 Class05: 0.0445 Class06: 0.0482 \n",
      "Class07: 0.0420 Class08: 0.0461 Class09: 0.0458 Class10: 0.0458 Class11: 0.0506 Class12: 0.0488 \n",
      "Label_2: IoU Scores Train\n",
      "Class00: 0.0388 Class01: 0.0380 Class02: 0.0353 Class03: 0.0350 Class04: 0.0361 Class05: 0.0387 Class06: 0.0430 \n",
      "Class07: 0.0379 Class08: 0.0426 Class09: 0.0404 Class10: 0.0394 Class11: 0.0429 Class12: 0.0413 \n",
      "Label_3: IoU Scores Train\n",
      "Class00: 0.0331 Class01: 0.0337 Class02: 0.0323 Class03: 0.0310 Class04: 0.0323 Class05: 0.0329 Class06: 0.0375 \n",
      "Class07: 0.0348 Class08: 0.0379 Class09: 0.0365 Class10: 0.0358 Class11: 0.0392 Class12: 0.0386 \n",
      "Train seg Loss: 1.7001428626801656 Train dom Loss: 923.4999321630036\n",
      "Train Loss: 10.935141999220502\n",
      "Train mIoU: 0.04784180105924631\n"
     ]
    },
    {
     "name": "stderr",
     "output_type": "stream",
     "text": [
      "100%|██████████| 30/30 [00:09<00:00,  3.05it/s]\n"
     ]
    },
    {
     "name": "stdout",
     "output_type": "stream",
     "text": [
      "\n",
      "--IoU Scores Fish val--\n",
      "Class0: 0.1279 Class1: 0.0718 Class2: 0.1020 Class3: 0.1023 Class4: 0.0971 Class5: 0.1039 Class6: 0.1070 \n",
      "Class7: 0.1024 Class8: 0.1013 Class9: 0.1091 Class10: 0.0961 Class11: 0.0934 Class12: 0.0886 \n",
      "Epoch44\n",
      "Valid Seg Loss: 1.6212343136469523 Valid dom Loss: 1178.9729288736978\n",
      "Valid Loss: 13.410963280995686\n",
      "Valid mIoU: 0.10021107994945665\n",
      "___________________________________________________________________________________________\n",
      "\n"
     ]
    },
    {
     "name": "stderr",
     "output_type": "stream",
     "text": [
      "Epoch: 45: 100%|██████████| 138/138 [05:00<00:00,  2.18s/it]\n"
     ]
    },
    {
     "name": "stdout",
     "output_type": "stream",
     "text": [
      "\n",
      "Label_0: IoU Scores Train\n",
      "Class00: 0.0848 Class01: 0.0887 Class02: 0.0873 Class03: 0.0960 Class04: 0.0964 Class05: 0.1016 Class06: 0.1027 \n",
      "Class07: 0.1070 Class08: 0.1048 Class09: 0.1142 Class10: 0.1110 Class11: 0.1044 Class12: 0.0941 \n",
      "Label_1: IoU Scores Train\n",
      "Class00: 0.0489 Class01: 0.0562 Class02: 0.0526 Class03: 0.0540 Class04: 0.0569 Class05: 0.0576 Class06: 0.0548 \n",
      "Class07: 0.0572 Class08: 0.0570 Class09: 0.0619 Class10: 0.0618 Class11: 0.0620 Class12: 0.0516 \n",
      "Label_2: IoU Scores Train\n",
      "Class00: 0.0421 Class01: 0.0478 Class02: 0.0449 Class03: 0.0464 Class04: 0.0477 Class05: 0.0486 Class06: 0.0469 \n",
      "Class07: 0.0476 Class08: 0.0486 Class09: 0.0532 Class10: 0.0523 Class11: 0.0527 Class12: 0.0442 \n",
      "Label_3: IoU Scores Train\n",
      "Class00: 0.0399 Class01: 0.0436 Class02: 0.0421 Class03: 0.0426 Class04: 0.0438 Class05: 0.0442 Class06: 0.0431 \n",
      "Class07: 0.0439 Class08: 0.0448 Class09: 0.0492 Class10: 0.0481 Class11: 0.0467 Class12: 0.0405 \n",
      "Train seg Loss: 1.6402929233036179 Train dom Loss: 686.660656194756\n",
      "Train Loss: 8.506899336541908\n",
      "Train mIoU: 0.06193702473886604\n"
     ]
    },
    {
     "name": "stderr",
     "output_type": "stream",
     "text": [
      "100%|██████████| 30/30 [00:09<00:00,  3.05it/s]\n"
     ]
    },
    {
     "name": "stdout",
     "output_type": "stream",
     "text": [
      "\n",
      "--IoU Scores Fish val--\n",
      "Class0: 0.1213 Class1: 0.0912 Class2: 0.1060 Class3: 0.1210 Class4: 0.0986 Class5: 0.1054 Class6: 0.1236 \n",
      "Class7: 0.0933 Class8: 0.1037 Class9: 0.1244 Class10: 0.0996 Class11: 0.1029 Class12: 0.1019 \n",
      "Epoch45\n",
      "Valid Seg Loss: 0.8598076383272807 Valid dom Loss: 8426.906803385416\n",
      "Valid Loss: 85.12887496948242\n",
      "Valid mIoU: 0.10714384898478878\n",
      "___________________________________________________________________________________________\n",
      "\n"
     ]
    },
    {
     "name": "stderr",
     "output_type": "stream",
     "text": [
      "Epoch: 46: 100%|██████████| 138/138 [04:59<00:00,  2.17s/it]\n"
     ]
    },
    {
     "name": "stdout",
     "output_type": "stream",
     "text": [
      "\n",
      "Label_0: IoU Scores Train\n",
      "Class00: 0.0600 Class01: 0.0723 Class02: 0.0822 Class03: 0.0813 Class04: 0.0807 Class05: 0.0710 Class06: 0.0777 \n",
      "Class07: 0.0753 Class08: 0.0890 Class09: 0.0949 Class10: 0.1008 Class11: 0.1083 Class12: 0.1046 \n",
      "Label_1: IoU Scores Train\n",
      "Class00: 0.0422 Class01: 0.0470 Class02: 0.0430 Class03: 0.0506 Class04: 0.0512 Class05: 0.0453 Class06: 0.0516 \n",
      "Class07: 0.0434 Class08: 0.0502 Class09: 0.0520 Class10: 0.0544 Class11: 0.0542 Class12: 0.0559 \n",
      "Label_2: IoU Scores Train\n",
      "Class00: 0.0376 Class01: 0.0420 Class02: 0.0386 Class03: 0.0443 Class04: 0.0442 Class05: 0.0389 Class06: 0.0442 \n",
      "Class07: 0.0381 Class08: 0.0424 Class09: 0.0443 Class10: 0.0454 Class11: 0.0477 Class12: 0.0478 \n",
      "Label_3: IoU Scores Train\n",
      "Class00: 0.0359 Class01: 0.0400 Class02: 0.0362 Class03: 0.0410 Class04: 0.0403 Class05: 0.0363 Class06: 0.0390 \n",
      "Class07: 0.0355 Class08: 0.0400 Class09: 0.0416 Class10: 0.0411 Class11: 0.0432 Class12: 0.0439 \n",
      "Train seg Loss: 1.7551288965387621 Train dom Loss: 685.7137840510062\n",
      "Train Loss: 8.612266560503539\n",
      "Train mIoU: 0.054018307494326005\n"
     ]
    },
    {
     "name": "stderr",
     "output_type": "stream",
     "text": [
      "100%|██████████| 30/30 [00:09<00:00,  3.03it/s]\n"
     ]
    },
    {
     "name": "stdout",
     "output_type": "stream",
     "text": [
      "\n",
      "--IoU Scores Fish val--\n",
      "Class0: 0.1787 Class1: 0.1438 Class2: 0.1711 Class3: 0.1795 Class4: 0.1436 Class5: 0.1670 Class6: 0.1761 \n",
      "Class7: 0.1443 Class8: 0.1648 Class9: 0.1741 Class10: 0.1507 Class11: 0.1465 Class12: 0.1668 \n",
      "Epoch46\n",
      "Valid Seg Loss: 0.8959485153357188 Valid dom Loss: 135.99258321126302\n",
      "Valid Loss: 2.2558743278185527\n",
      "Valid mIoU: 0.1620735001003986\n",
      "___________________________________________________________________________________________\n",
      "\n"
     ]
    },
    {
     "name": "stderr",
     "output_type": "stream",
     "text": [
      "Epoch: 47: 100%|██████████| 138/138 [05:00<00:00,  2.18s/it]\n"
     ]
    },
    {
     "name": "stdout",
     "output_type": "stream",
     "text": [
      "\n",
      "Label_0: IoU Scores Train\n",
      "Class00: 0.0954 Class01: 0.1130 Class02: 0.1286 Class03: 0.1238 Class04: 0.1324 Class05: 0.1354 Class06: 0.1476 \n",
      "Class07: 0.1450 Class08: 0.1524 Class09: 0.1681 Class10: 0.1564 Class11: 0.1638 Class12: 0.1616 \n",
      "Label_1: IoU Scores Train\n",
      "Class00: 0.0575 Class01: 0.0662 Class02: 0.0648 Class03: 0.0657 Class04: 0.0671 Class05: 0.0662 Class06: 0.0696 \n",
      "Class07: 0.0653 Class08: 0.0689 Class09: 0.0726 Class10: 0.0733 Class11: 0.0753 Class12: 0.0760 \n",
      "Label_2: IoU Scores Train\n",
      "Class00: 0.0496 Class01: 0.0567 Class02: 0.0575 Class03: 0.0571 Class04: 0.0582 Class05: 0.0569 Class06: 0.0594 \n",
      "Class07: 0.0569 Class08: 0.0596 Class09: 0.0613 Class10: 0.0622 Class11: 0.0635 Class12: 0.0657 \n",
      "Label_3: IoU Scores Train\n",
      "Class00: 0.0464 Class01: 0.0515 Class02: 0.0520 Class03: 0.0515 Class04: 0.0532 Class05: 0.0518 Class06: 0.0540 \n",
      "Class07: 0.0516 Class08: 0.0542 Class09: 0.0554 Class10: 0.0559 Class11: 0.0570 Class12: 0.0594 \n",
      "Train seg Loss: 1.2037585475414558 Train dom Loss: 116.7056319131061\n",
      "Train Loss: 2.37081484582977\n",
      "Train mIoU: 0.08020114853457908\n"
     ]
    },
    {
     "name": "stderr",
     "output_type": "stream",
     "text": [
      "100%|██████████| 30/30 [00:10<00:00,  2.93it/s]\n"
     ]
    },
    {
     "name": "stdout",
     "output_type": "stream",
     "text": [
      "\n",
      "--IoU Scores Fish val--\n",
      "Class0: 0.2081 Class1: 0.1710 Class2: 0.2101 Class3: 0.2075 Class4: 0.1739 Class5: 0.2046 Class6: 0.2133 \n",
      "Class7: 0.1608 Class8: 0.2020 Class9: 0.2021 Class10: 0.1748 Class11: 0.1891 Class12: 0.2123 \n",
      "Epoch47\n",
      "Valid Seg Loss: 0.7047328541676203 Valid dom Loss: 106.7944712638855\n",
      "Valid Loss: 1.7726775487263997\n",
      "Valid mIoU: 0.19459312064924877\n",
      "___________________________________________________________________________________________\n",
      "\n"
     ]
    },
    {
     "name": "stderr",
     "output_type": "stream",
     "text": [
      "Epoch: 48: 100%|██████████| 138/138 [05:00<00:00,  2.18s/it]\n"
     ]
    },
    {
     "name": "stdout",
     "output_type": "stream",
     "text": [
      "\n",
      "Label_0: IoU Scores Train\n",
      "Class00: 0.1484 Class01: 0.1334 Class02: 0.1374 Class03: 0.1419 Class04: 0.1436 Class05: 0.1139 Class06: 0.1267 \n",
      "Class07: 0.1210 Class08: 0.1106 Class09: 0.1212 Class10: 0.1282 Class11: 0.1310 Class12: 0.1316 \n",
      "Label_1: IoU Scores Train\n",
      "Class00: 0.0698 Class01: 0.0732 Class02: 0.0722 Class03: 0.0727 Class04: 0.0736 Class05: 0.0709 Class06: 0.0727 \n",
      "Class07: 0.0659 Class08: 0.0562 Class09: 0.0587 Class10: 0.0615 Class11: 0.0632 Class12: 0.0570 \n",
      "Label_2: IoU Scores Train\n",
      "Class00: 0.0594 Class01: 0.0627 Class02: 0.0625 Class03: 0.0620 Class04: 0.0629 Class05: 0.0603 Class06: 0.0625 \n",
      "Class07: 0.0555 Class08: 0.0473 Class09: 0.0492 Class10: 0.0524 Class11: 0.0535 Class12: 0.0493 \n",
      "Label_3: IoU Scores Train\n",
      "Class00: 0.0538 Class01: 0.0568 Class02: 0.0565 Class03: 0.0566 Class04: 0.0569 Class05: 0.0549 Class06: 0.0562 \n",
      "Class07: 0.0511 Class08: 0.0438 Class09: 0.0454 Class10: 0.0475 Class11: 0.0485 Class12: 0.0449 \n",
      "Train seg Loss: 1.4822342583666677 Train dom Loss: 308.6710622200499\n",
      "Train Loss: 4.5689448036145475\n",
      "Train mIoU: 0.07632781010819736\n"
     ]
    },
    {
     "name": "stderr",
     "output_type": "stream",
     "text": [
      "100%|██████████| 30/30 [00:09<00:00,  3.04it/s]\n"
     ]
    },
    {
     "name": "stdout",
     "output_type": "stream",
     "text": [
      "\n",
      "--IoU Scores Fish val--\n",
      "Class0: 0.1810 Class1: 0.1452 Class2: 0.1721 Class3: 0.1703 Class4: 0.1624 Class5: 0.1890 Class6: 0.1823 \n",
      "Class7: 0.1402 Class8: 0.1696 Class9: 0.1837 Class10: 0.1604 Class11: 0.1558 Class12: 0.1349 \n",
      "Epoch48\n",
      "Valid Seg Loss: 1.6698435465494792 Valid dom Loss: 149.5777936299642\n",
      "Valid Loss: 3.1656214396158853\n",
      "Valid mIoU: 0.16513254519026452\n",
      "___________________________________________________________________________________________\n",
      "\n"
     ]
    },
    {
     "name": "stderr",
     "output_type": "stream",
     "text": [
      "Epoch: 49: 100%|██████████| 138/138 [04:59<00:00,  2.17s/it]\n"
     ]
    },
    {
     "name": "stdout",
     "output_type": "stream",
     "text": [
      "\n",
      "Label_0: IoU Scores Train\n",
      "Class00: 0.1424 Class01: 0.1534 Class02: 0.1514 Class03: 0.1656 Class04: 0.1652 Class05: 0.1611 Class06: 0.1783 \n",
      "Class07: 0.1820 Class08: 0.1887 Class09: 0.1966 Class10: 0.1876 Class11: 0.1747 Class12: 0.1942 \n",
      "Label_1: IoU Scores Train\n",
      "Class00: 0.0630 Class01: 0.0665 Class02: 0.0661 Class03: 0.0728 Class04: 0.0703 Class05: 0.0762 Class06: 0.0774 \n",
      "Class07: 0.0766 Class08: 0.0773 Class09: 0.0803 Class10: 0.0796 Class11: 0.0772 Class12: 0.0814 \n",
      "Label_2: IoU Scores Train\n",
      "Class00: 0.0538 Class01: 0.0570 Class02: 0.0560 Class03: 0.0608 Class04: 0.0588 Class05: 0.0637 Class06: 0.0646 \n",
      "Class07: 0.0641 Class08: 0.0639 Class09: 0.0668 Class10: 0.0672 Class11: 0.0655 Class12: 0.0682 \n",
      "Label_3: IoU Scores Train\n",
      "Class00: 0.0475 Class01: 0.0514 Class02: 0.0512 Class03: 0.0544 Class04: 0.0528 Class05: 0.0583 Class06: 0.0580 \n",
      "Class07: 0.0575 Class08: 0.0576 Class09: 0.0600 Class10: 0.0601 Class11: 0.0590 Class12: 0.0612 \n",
      "Train seg Loss: 1.1772703108364257 Train dom Loss: 25.009621216854807\n",
      "Train Loss: 1.4273665172142396\n",
      "Train mIoU: 0.09125269514203732\n"
     ]
    },
    {
     "name": "stderr",
     "output_type": "stream",
     "text": [
      "100%|██████████| 30/30 [00:10<00:00,  2.97it/s]\n"
     ]
    },
    {
     "name": "stdout",
     "output_type": "stream",
     "text": [
      "\n",
      "--IoU Scores Fish val--\n",
      "Class0: 0.2390 Class1: 0.1940 Class2: 0.2336 Class3: 0.2335 Class4: 0.2047 Class5: 0.2382 Class6: 0.2412 \n",
      "Class7: 0.1916 Class8: 0.2251 Class9: 0.2280 Class10: 0.2048 Class11: 0.2122 Class12: 0.2342 \n",
      "Epoch49\n",
      "Valid Seg Loss: 0.4285356938838959 Valid dom Loss: 58.131500752766925\n",
      "Valid Loss: 1.0098506848017375\n",
      "Valid mIoU: 0.22156108896941326\n",
      "___________________________________________________________________________________________\n",
      "\n"
     ]
    },
    {
     "name": "stderr",
     "output_type": "stream",
     "text": [
      "Epoch: 50: 100%|██████████| 138/138 [04:59<00:00,  2.17s/it]\n"
     ]
    },
    {
     "name": "stdout",
     "output_type": "stream",
     "text": [
      "\n",
      "Label_0: IoU Scores Train\n",
      "Class00: 0.1852 Class01: 0.1965 Class02: 0.1906 Class03: 0.1777 Class04: 0.1893 Class05: 0.1936 Class06: 0.1873 \n",
      "Class07: 0.1977 Class08: 0.1767 Class09: 0.1571 Class10: 0.1291 Class11: 0.1115 Class12: 0.0859 \n",
      "Label_1: IoU Scores Train\n",
      "Class00: 0.0808 Class01: 0.0823 Class02: 0.0816 Class03: 0.0758 Class04: 0.0791 Class05: 0.0772 Class06: 0.0730 \n",
      "Class07: 0.0698 Class08: 0.0710 Class09: 0.0692 Class10: 0.0615 Class11: 0.0547 Class12: 0.0542 \n",
      "Label_2: IoU Scores Train\n",
      "Class00: 0.0685 Class01: 0.0693 Class02: 0.0695 Class03: 0.0646 Class04: 0.0669 Class05: 0.0652 Class06: 0.0623 \n",
      "Class07: 0.0604 Class08: 0.0600 Class09: 0.0592 Class10: 0.0529 Class11: 0.0478 Class12: 0.0477 \n",
      "Label_3: IoU Scores Train\n",
      "Class00: 0.0616 Class01: 0.0626 Class02: 0.0623 Class03: 0.0584 Class04: 0.0607 Class05: 0.0589 Class06: 0.0570 \n",
      "Class07: 0.0542 Class08: 0.0548 Class09: 0.0536 Class10: 0.0483 Class11: 0.0448 Class12: 0.0446 \n",
      "Train seg Loss: 1.0705290922112223 Train dom Loss: 258.79044056432053\n",
      "Train Loss: 3.6584334362676176\n",
      "Train mIoU: 0.08893183719757035\n"
     ]
    },
    {
     "name": "stderr",
     "output_type": "stream",
     "text": [
      "100%|██████████| 30/30 [00:10<00:00,  2.98it/s]\n"
     ]
    },
    {
     "name": "stdout",
     "output_type": "stream",
     "text": [
      "\n",
      "--IoU Scores Fish val--\n",
      "Class0: 0.0961 Class1: 0.0724 Class2: 0.0906 Class3: 0.0878 Class4: 0.0826 Class5: 0.0908 Class6: 0.0878 \n",
      "Class7: 0.0819 Class8: 0.1010 Class9: 0.0851 Class10: 0.0774 Class11: 0.0781 Class12: 0.0960 \n",
      "Epoch50\n",
      "Valid Seg Loss: 8.205325174331666 Valid dom Loss: 392.7907536824544\n",
      "Valid Loss: 12.133232657114664\n",
      "Valid mIoU: 0.08673899871592997\n",
      "___________________________________________________________________________________________\n",
      "\n"
     ]
    },
    {
     "name": "stderr",
     "output_type": "stream",
     "text": [
      "Epoch: 51: 100%|██████████| 138/138 [05:00<00:00,  2.18s/it]\n"
     ]
    },
    {
     "name": "stdout",
     "output_type": "stream",
     "text": [
      "\n",
      "Label_0: IoU Scores Train\n",
      "Class00: 0.0800 Class01: 0.0939 Class02: 0.0758 Class03: 0.0801 Class04: 0.0606 Class05: 0.0623 Class06: 0.0593 \n",
      "Class07: 0.0549 Class08: 0.0666 Class09: 0.0843 Class10: 0.0881 Class11: 0.1051 Class12: 0.0989 \n",
      "Label_1: IoU Scores Train\n",
      "Class00: 0.0573 Class01: 0.0571 Class02: 0.0490 Class03: 0.0457 Class04: 0.0464 Class05: 0.0499 Class06: 0.0433 \n",
      "Class07: 0.0394 Class08: 0.0394 Class09: 0.0439 Class10: 0.0440 Class11: 0.0495 Class12: 0.0526 \n",
      "Label_2: IoU Scores Train\n",
      "Class00: 0.0495 Class01: 0.0498 Class02: 0.0427 Class03: 0.0425 Class04: 0.0425 Class05: 0.0444 Class06: 0.0393 \n",
      "Class07: 0.0359 Class08: 0.0376 Class09: 0.0395 Class10: 0.0392 Class11: 0.0430 Class12: 0.0460 \n",
      "Label_3: IoU Scores Train\n",
      "Class00: 0.0451 Class01: 0.0465 Class02: 0.0399 Class03: 0.0407 Class04: 0.0401 Class05: 0.0414 Class06: 0.0370 \n",
      "Class07: 0.0325 Class08: 0.0330 Class09: 0.0369 Class10: 0.0375 Class11: 0.0401 Class12: 0.0428 \n",
      "Train seg Loss: 2.046017384831456 Train dom Loss: 534.244331177207\n",
      "Train Loss: 7.388460644561311\n",
      "Train mIoU: 0.05177992755210273\n"
     ]
    },
    {
     "name": "stderr",
     "output_type": "stream",
     "text": [
      "100%|██████████| 30/30 [00:10<00:00,  3.00it/s]\n"
     ]
    },
    {
     "name": "stdout",
     "output_type": "stream",
     "text": [
      "\n",
      "--IoU Scores Fish val--\n",
      "Class0: 0.1773 Class1: 0.1399 Class2: 0.1711 Class3: 0.1828 Class4: 0.1380 Class5: 0.1783 Class6: 0.1837 \n",
      "Class7: 0.1381 Class8: 0.1768 Class9: 0.1719 Class10: 0.1488 Class11: 0.1494 Class12: 0.1771 \n",
      "Epoch51\n",
      "Valid Seg Loss: 0.7036392172177632 Valid dom Loss: 143.30392532348634\n",
      "Valid Loss: 2.136678421497345\n",
      "Valid mIoU: 0.16408688056739013\n",
      "___________________________________________________________________________________________\n",
      "\n"
     ]
    },
    {
     "name": "stderr",
     "output_type": "stream",
     "text": [
      "Epoch: 52: 100%|██████████| 138/138 [05:00<00:00,  2.17s/it]\n"
     ]
    },
    {
     "name": "stdout",
     "output_type": "stream",
     "text": [
      "\n",
      "Label_0: IoU Scores Train\n",
      "Class00: 0.1266 Class01: 0.1333 Class02: 0.1421 Class03: 0.1435 Class04: 0.1587 Class05: 0.1437 Class06: 0.1529 \n",
      "Class07: 0.1747 Class08: 0.1606 Class09: 0.1639 Class10: 0.1565 Class11: 0.1778 Class12: 0.1748 \n",
      "Label_1: IoU Scores Train\n",
      "Class00: 0.0562 Class01: 0.0649 Class02: 0.0645 Class03: 0.0676 Class04: 0.0701 Class05: 0.0673 Class06: 0.0734 \n",
      "Class07: 0.0738 Class08: 0.0733 Class09: 0.0791 Class10: 0.0719 Class11: 0.0779 Class12: 0.0772 \n",
      "Label_2: IoU Scores Train\n",
      "Class00: 0.0489 Class01: 0.0563 Class02: 0.0555 Class03: 0.0583 Class04: 0.0596 Class05: 0.0578 Class06: 0.0620 \n",
      "Class07: 0.0627 Class08: 0.0622 Class09: 0.0678 Class10: 0.0631 Class11: 0.0661 Class12: 0.0659 \n",
      "Label_3: IoU Scores Train\n",
      "Class00: 0.0456 Class01: 0.0511 Class02: 0.0510 Class03: 0.0533 Class04: 0.0540 Class05: 0.0523 Class06: 0.0561 \n",
      "Class07: 0.0570 Class08: 0.0564 Class09: 0.0622 Class10: 0.0585 Class11: 0.0597 Class12: 0.0606 \n",
      "Train seg Loss: 1.3845699291838252 Train dom Loss: 25.079114481602794\n",
      "Train Loss: 1.635361068652592\n",
      "Train mIoU: 0.0851933937217888\n"
     ]
    },
    {
     "name": "stderr",
     "output_type": "stream",
     "text": [
      "100%|██████████| 30/30 [00:09<00:00,  3.02it/s]\n"
     ]
    },
    {
     "name": "stdout",
     "output_type": "stream",
     "text": [
      "\n",
      "--IoU Scores Fish val--\n",
      "Class0: 0.2251 Class1: 0.1727 Class2: 0.2213 Class3: 0.2295 Class4: 0.1828 Class5: 0.2226 Class6: 0.2308 \n",
      "Class7: 0.1669 Class8: 0.2216 Class9: 0.2195 Class10: 0.1932 Class11: 0.1931 Class12: 0.2060 \n",
      "Epoch52\n",
      "Valid Seg Loss: 1.491859992345174 Valid dom Loss: 205.8729044596354\n",
      "Valid Loss: 3.5505890091260275\n",
      "Valid mIoU: 0.20653376371034315\n",
      "___________________________________________________________________________________________\n",
      "\n"
     ]
    },
    {
     "name": "stderr",
     "output_type": "stream",
     "text": [
      "Epoch: 53: 100%|██████████| 138/138 [04:59<00:00,  2.17s/it]\n"
     ]
    },
    {
     "name": "stdout",
     "output_type": "stream",
     "text": [
      "\n",
      "Label_0: IoU Scores Train\n",
      "Class00: 0.1813 Class01: 0.1933 Class02: 0.1871 Class03: 0.1869 Class04: 0.1980 Class05: 0.2011 Class06: 0.2045 \n",
      "Class07: 0.1996 Class08: 0.2086 Class09: 0.2228 Class10: 0.2142 Class11: 0.2026 Class12: 0.2120 \n",
      "Label_1: IoU Scores Train\n",
      "Class00: 0.0804 Class01: 0.0855 Class02: 0.0847 Class03: 0.0862 Class04: 0.0849 Class05: 0.0878 Class06: 0.0891 \n",
      "Class07: 0.0884 Class08: 0.0887 Class09: 0.0901 Class10: 0.0915 Class11: 0.0880 Class12: 0.0883 \n",
      "Label_2: IoU Scores Train\n",
      "Class00: 0.0682 Class01: 0.0734 Class02: 0.0720 Class03: 0.0734 Class04: 0.0718 Class05: 0.0743 Class06: 0.0742 \n",
      "Class07: 0.0744 Class08: 0.0748 Class09: 0.0763 Class10: 0.0773 Class11: 0.0744 Class12: 0.0749 \n",
      "Label_3: IoU Scores Train\n",
      "Class00: 0.0617 Class01: 0.0663 Class02: 0.0647 Class03: 0.0660 Class04: 0.0647 Class05: 0.0667 Class06: 0.0673 \n",
      "Class07: 0.0671 Class08: 0.0673 Class09: 0.0684 Class10: 0.0691 Class11: 0.0671 Class12: 0.0681 \n",
      "Train seg Loss: 0.8994037123477977 Train dom Loss: 16.186593559358407\n",
      "Train Loss: 1.0612696430281452\n",
      "Train mIoU: 0.10710563313280803\n"
     ]
    },
    {
     "name": "stderr",
     "output_type": "stream",
     "text": [
      "100%|██████████| 30/30 [00:10<00:00,  2.91it/s]\n"
     ]
    },
    {
     "name": "stdout",
     "output_type": "stream",
     "text": [
      "\n",
      "--IoU Scores Fish val--\n",
      "Class0: 0.2278 Class1: 0.1820 Class2: 0.2209 Class3: 0.2335 Class4: 0.1904 Class5: 0.2247 Class6: 0.2272 \n",
      "Class7: 0.1742 Class8: 0.2258 Class9: 0.2199 Class10: 0.1954 Class11: 0.1939 Class12: 0.2242 \n",
      "Epoch53\n",
      "Valid Seg Loss: 0.8422010620435079 Valid dom Loss: 10.347386059816836\n",
      "Valid Loss: 0.9456749121348064\n",
      "Valid mIoU: 0.21076377056812295\n",
      "___________________________________________________________________________________________\n",
      "\n"
     ]
    },
    {
     "name": "stderr",
     "output_type": "stream",
     "text": [
      "Epoch: 54: 100%|██████████| 138/138 [04:59<00:00,  2.17s/it]\n"
     ]
    },
    {
     "name": "stdout",
     "output_type": "stream",
     "text": [
      "\n",
      "Label_0: IoU Scores Train\n",
      "Class00: 0.2061 Class01: 0.2170 Class02: 0.2065 Class03: 0.2188 Class04: 0.2200 Class05: 0.2039 Class06: 0.1863 \n",
      "Class07: 0.1938 Class08: 0.1900 Class09: 0.2059 Class10: 0.2031 Class11: 0.1989 Class12: 0.1920 \n",
      "Label_1: IoU Scores Train\n",
      "Class00: 0.0885 Class01: 0.0920 Class02: 0.0904 Class03: 0.0950 Class04: 0.0942 Class05: 0.0905 Class06: 0.0833 \n",
      "Class07: 0.0827 Class08: 0.0890 Class09: 0.0949 Class10: 0.0844 Class11: 0.0873 Class12: 0.0878 \n",
      "Label_2: IoU Scores Train\n",
      "Class00: 0.0756 Class01: 0.0783 Class02: 0.0776 Class03: 0.0799 Class04: 0.0805 Class05: 0.0766 Class06: 0.0705 \n",
      "Class07: 0.0706 Class08: 0.0757 Class09: 0.0814 Class10: 0.0706 Class11: 0.0736 Class12: 0.0733 \n",
      "Label_3: IoU Scores Train\n",
      "Class00: 0.0686 Class01: 0.0705 Class02: 0.0705 Class03: 0.0719 Class04: 0.0727 Class05: 0.0685 Class06: 0.0636 \n",
      "Class07: 0.0636 Class08: 0.0683 Class09: 0.0722 Class10: 0.0632 Class11: 0.0658 Class12: 0.0657 \n",
      "Train seg Loss: 0.9185290190836658 Train dom Loss: 30.6093800440609\n",
      "Train Loss: 1.2246228132558905\n",
      "Train mIoU: 0.10906916447477835\n"
     ]
    },
    {
     "name": "stderr",
     "output_type": "stream",
     "text": [
      "100%|██████████| 30/30 [00:10<00:00,  2.99it/s]\n"
     ]
    },
    {
     "name": "stdout",
     "output_type": "stream",
     "text": [
      "\n",
      "--IoU Scores Fish val--\n",
      "Class0: 0.2252 Class1: 0.1764 Class2: 0.2190 Class3: 0.2155 Class4: 0.1786 Class5: 0.2286 Class6: 0.2337 \n",
      "Class7: 0.1860 Class8: 0.2229 Class9: 0.2218 Class10: 0.1937 Class11: 0.1944 Class12: 0.2080 \n",
      "Epoch54\n",
      "Valid Seg Loss: 0.8553157289822896 Valid dom Loss: 21.939936129252114\n",
      "Valid Loss: 1.0747150778770447\n",
      "Valid mIoU: 0.20798865089960625\n",
      "___________________________________________________________________________________________\n",
      "\n"
     ]
    },
    {
     "name": "stderr",
     "output_type": "stream",
     "text": [
      "Epoch: 55: 100%|██████████| 138/138 [05:00<00:00,  2.18s/it]\n"
     ]
    },
    {
     "name": "stdout",
     "output_type": "stream",
     "text": [
      "\n",
      "Label_0: IoU Scores Train\n",
      "Class00: 0.2118 Class01: 0.2385 Class02: 0.2319 Class03: 0.2411 Class04: 0.2270 Class05: 0.2159 Class06: 0.2366 \n",
      "Class07: 0.2354 Class08: 0.2267 Class09: 0.2332 Class10: 0.2336 Class11: 0.2564 Class12: 0.2289 \n",
      "Label_1: IoU Scores Train\n",
      "Class00: 0.0914 Class01: 0.0974 Class02: 0.0944 Class03: 0.0954 Class04: 0.0943 Class05: 0.0938 Class06: 0.0974 \n",
      "Class07: 0.0971 Class08: 0.0968 Class09: 0.1014 Class10: 0.0976 Class11: 0.0996 Class12: 0.0978 \n",
      "Label_2: IoU Scores Train\n",
      "Class00: 0.0763 Class01: 0.0813 Class02: 0.0788 Class03: 0.0803 Class04: 0.0793 Class05: 0.0790 Class06: 0.0828 \n",
      "Class07: 0.0819 Class08: 0.0824 Class09: 0.0854 Class10: 0.0832 Class11: 0.0845 Class12: 0.0824 \n",
      "Label_3: IoU Scores Train\n",
      "Class00: 0.0683 Class01: 0.0732 Class02: 0.0707 Class03: 0.0716 Class04: 0.0710 Class05: 0.0707 Class06: 0.0737 \n",
      "Class07: 0.0736 Class08: 0.0745 Class09: 0.0761 Class10: 0.0749 Class11: 0.0760 Class12: 0.0740 \n",
      "Train seg Loss: 0.697920315021622 Train dom Loss: 24.189914352413467\n",
      "Train Loss: 0.9398194532031598\n",
      "Train mIoU: 0.12071664578031512\n"
     ]
    },
    {
     "name": "stderr",
     "output_type": "stream",
     "text": [
      "100%|██████████| 30/30 [00:10<00:00,  2.95it/s]\n"
     ]
    },
    {
     "name": "stdout",
     "output_type": "stream",
     "text": [
      "\n",
      "--IoU Scores Fish val--\n",
      "Class0: 0.2821 Class1: 0.2236 Class2: 0.2725 Class3: 0.2846 Class4: 0.2349 Class5: 0.2744 Class6: 0.2971 \n",
      "Class7: 0.2237 Class8: 0.2673 Class9: 0.2635 Class10: 0.2467 Class11: 0.2437 Class12: 0.2791 \n",
      "Epoch55\n",
      "Valid Seg Loss: 0.3474189966917038 Valid dom Loss: 10.633371938268343\n",
      "Valid Loss: 0.4537527153889338\n",
      "Valid mIoU: 0.26101987899483\n",
      "___________________________________________________________________________________________\n",
      "\n"
     ]
    },
    {
     "name": "stderr",
     "output_type": "stream",
     "text": [
      "Epoch: 56: 100%|██████████| 138/138 [04:58<00:00,  2.16s/it]\n"
     ]
    },
    {
     "name": "stdout",
     "output_type": "stream",
     "text": [
      "\n",
      "Label_0: IoU Scores Train\n",
      "Class00: 0.2486 Class01: 0.2573 Class02: 0.2495 Class03: 0.2537 Class04: 0.2591 Class05: 0.2532 Class06: 0.2648 \n",
      "Class07: 0.2582 Class08: 0.2584 Class09: 0.2624 Class10: 0.2466 Class11: 0.2595 Class12: 0.2467 \n",
      "Label_1: IoU Scores Train\n",
      "Class00: 0.1001 Class01: 0.1047 Class02: 0.1016 Class03: 0.1008 Class04: 0.1030 Class05: 0.1025 Class06: 0.1014 \n",
      "Class07: 0.0987 Class08: 0.1039 Class09: 0.1041 Class10: 0.0989 Class11: 0.1053 Class12: 0.0997 \n",
      "Label_2: IoU Scores Train\n",
      "Class00: 0.0838 Class01: 0.0876 Class02: 0.0868 Class03: 0.0851 Class04: 0.0875 Class05: 0.0854 Class06: 0.0858 \n",
      "Class07: 0.0827 Class08: 0.0885 Class09: 0.0867 Class10: 0.0830 Class11: 0.0874 Class12: 0.0846 \n",
      "Label_3: IoU Scores Train\n",
      "Class00: 0.0750 Class01: 0.0784 Class02: 0.0774 Class03: 0.0760 Class04: 0.0784 Class05: 0.0755 Class06: 0.0773 \n",
      "Class07: 0.0737 Class08: 0.0783 Class09: 0.0773 Class10: 0.0743 Class11: 0.0786 Class12: 0.0751 \n",
      "Train seg Loss: 0.5852490729395894 Train dom Loss: 28.968731704946833\n",
      "Train Loss: 0.8749363853771618\n",
      "Train mIoU: 0.12987392454171998\n"
     ]
    },
    {
     "name": "stderr",
     "output_type": "stream",
     "text": [
      "100%|██████████| 30/30 [00:09<00:00,  3.07it/s]\n"
     ]
    },
    {
     "name": "stdout",
     "output_type": "stream",
     "text": [
      "\n",
      "--IoU Scores Fish val--\n",
      "Class0: 0.3017 Class1: 0.2380 Class2: 0.2860 Class3: 0.3039 Class4: 0.2605 Class5: 0.2812 Class6: 0.3077 \n",
      "Class7: 0.2385 Class8: 0.2804 Class9: 0.2805 Class10: 0.2695 Class11: 0.2626 Class12: 0.2883 \n",
      "Epoch56\n",
      "Valid Seg Loss: 0.33479036192099254 Valid dom Loss: 13.982307370503744\n",
      "Valid Loss: 0.47461343308289844\n",
      "Valid mIoU: 0.2768254737290203\n",
      "___________________________________________________________________________________________\n",
      "\n"
     ]
    },
    {
     "name": "stderr",
     "output_type": "stream",
     "text": [
      "Epoch: 57: 100%|██████████| 138/138 [05:00<00:00,  2.18s/it]\n"
     ]
    },
    {
     "name": "stdout",
     "output_type": "stream",
     "text": [
      "\n",
      "Label_0: IoU Scores Train\n",
      "Class00: 0.2471 Class01: 0.2750 Class02: 0.2498 Class03: 0.2622 Class04: 0.2682 Class05: 0.2798 Class06: 0.2117 \n",
      "Class07: 0.2299 Class08: 0.2645 Class09: 0.2845 Class10: 0.2748 Class11: 0.2904 Class12: 0.2840 \n",
      "Label_1: IoU Scores Train\n",
      "Class00: 0.0986 Class01: 0.1060 Class02: 0.1028 Class03: 0.1035 Class04: 0.1040 Class05: 0.1067 Class06: 0.0872 \n",
      "Class07: 0.0927 Class08: 0.1041 Class09: 0.1101 Class10: 0.1080 Class11: 0.1121 Class12: 0.1067 \n",
      "Label_2: IoU Scores Train\n",
      "Class00: 0.0834 Class01: 0.0894 Class02: 0.0859 Class03: 0.0876 Class04: 0.0869 Class05: 0.0889 Class06: 0.0737 \n",
      "Class07: 0.0779 Class08: 0.0870 Class09: 0.0921 Class10: 0.0905 Class11: 0.0946 Class12: 0.0896 \n",
      "Label_3: IoU Scores Train\n",
      "Class00: 0.0749 Class01: 0.0801 Class02: 0.0760 Class03: 0.0784 Class04: 0.0774 Class05: 0.0791 Class06: 0.0654 \n",
      "Class07: 0.0699 Class08: 0.0777 Class09: 0.0823 Class10: 0.0810 Class11: 0.0847 Class12: 0.0795 \n",
      "Train seg Loss: 0.6101336298321468 Train dom Loss: 33.23730576104066\n",
      "Train Loss: 0.9425066795362078\n",
      "Train mIoU: 0.13265753572700056\n"
     ]
    },
    {
     "name": "stderr",
     "output_type": "stream",
     "text": [
      "100%|██████████| 30/30 [00:09<00:00,  3.07it/s]\n"
     ]
    },
    {
     "name": "stdout",
     "output_type": "stream",
     "text": [
      "\n",
      "--IoU Scores Fish val--\n",
      "Class0: 0.3278 Class1: 0.2586 Class2: 0.3100 Class3: 0.3299 Class4: 0.2813 Class5: 0.3112 Class6: 0.3400 \n",
      "Class7: 0.2601 Class8: 0.3068 Class9: 0.2999 Class10: 0.2903 Class11: 0.2879 Class12: 0.3108 \n",
      "Epoch57\n",
      "Valid Seg Loss: 0.2724015032251676 Valid dom Loss: 10.26247469584147\n",
      "Valid Loss: 0.3750262459119161\n",
      "Valid mIoU: 0.3011323297079849\n",
      "___________________________________________________________________________________________\n",
      "\n"
     ]
    },
    {
     "name": "stderr",
     "output_type": "stream",
     "text": [
      "Epoch: 58: 100%|██████████| 138/138 [04:59<00:00,  2.17s/it]\n"
     ]
    },
    {
     "name": "stdout",
     "output_type": "stream",
     "text": [
      "\n",
      "Label_0: IoU Scores Train\n",
      "Class00: 0.2369 Class01: 0.1830 Class02: 0.1455 Class03: 0.0877 Class04: 0.0499 Class05: 0.0336 Class06: 0.0356 \n",
      "Class07: 0.0288 Class08: 0.0226 Class09: 0.0270 Class10: 0.0357 Class11: 0.0510 Class12: 0.0496 \n",
      "Label_1: IoU Scores Train\n",
      "Class00: 0.0993 Class01: 0.0783 Class02: 0.0623 Class03: 0.0479 Class04: 0.0340 Class05: 0.0364 Class06: 0.0366 \n",
      "Class07: 0.0312 Class08: 0.0308 Class09: 0.0344 Class10: 0.0338 Class11: 0.0365 Class12: 0.0368 \n",
      "Label_2: IoU Scores Train\n",
      "Class00: 0.0824 Class01: 0.0661 Class02: 0.0542 Class03: 0.0448 Class04: 0.0342 Class05: 0.0378 Class06: 0.0356 \n",
      "Class07: 0.0325 Class08: 0.0314 Class09: 0.0330 Class10: 0.0342 Class11: 0.0345 Class12: 0.0344 \n",
      "Label_3: IoU Scores Train\n",
      "Class00: 0.0723 Class01: 0.0594 Class02: 0.0504 Class03: 0.0434 Class04: 0.0322 Class05: 0.0338 Class06: 0.0371 \n",
      "Class07: 0.0328 Class08: 0.0316 Class09: 0.0321 Class10: 0.0316 Class11: 0.0324 Class12: 0.0300 \n",
      "Train seg Loss: 6.078485587206871 Train dom Loss: 37817.48314860038\n",
      "Train Loss: 384.2533087187271\n",
      "Train mIoU: 0.05114512166787369\n"
     ]
    },
    {
     "name": "stderr",
     "output_type": "stream",
     "text": [
      "100%|██████████| 30/30 [00:09<00:00,  3.03it/s]\n"
     ]
    },
    {
     "name": "stdout",
     "output_type": "stream",
     "text": [
      "\n",
      "--IoU Scores Fish val--\n",
      "Class0: 0.1181 Class1: 0.0800 Class2: 0.0861 Class3: 0.1169 Class4: 0.0882 Class5: 0.0863 Class6: 0.1168 \n",
      "Class7: 0.0837 Class8: 0.0848 Class9: 0.1124 Class10: 0.0866 Class11: 0.0863 Class12: 0.0869 \n",
      "Epoch58\n",
      "Valid Seg Loss: 3.6207892298698425 Valid dom Loss: 2068.6215443929036\n",
      "Valid Loss: 24.30700419743856\n",
      "Valid mIoU: 0.09484975445641594\n",
      "___________________________________________________________________________________________\n",
      "\n"
     ]
    },
    {
     "name": "stderr",
     "output_type": "stream",
     "text": [
      "Epoch: 59: 100%|██████████| 138/138 [05:01<00:00,  2.18s/it]\n"
     ]
    },
    {
     "name": "stdout",
     "output_type": "stream",
     "text": [
      "\n",
      "Label_0: IoU Scores Train\n",
      "Class00: 0.0515 Class01: 0.0273 Class02: 0.0341 Class03: 0.0553 Class04: 0.0647 Class05: 0.0575 Class06: 0.0666 \n",
      "Class07: 0.0702 Class08: 0.0650 Class09: 0.0713 Class10: 0.0700 Class11: 0.0552 Class12: 0.0672 \n",
      "Label_1: IoU Scores Train\n",
      "Class00: 0.0347 Class01: 0.0310 Class02: 0.0274 Class03: 0.0363 Class04: 0.0412 Class05: 0.0412 Class06: 0.0493 \n",
      "Class07: 0.0450 Class08: 0.0434 Class09: 0.0463 Class10: 0.0454 Class11: 0.0423 Class12: 0.0422 \n",
      "Label_2: IoU Scores Train\n",
      "Class00: 0.0318 Class01: 0.0305 Class02: 0.0255 Class03: 0.0331 Class04: 0.0367 Class05: 0.0382 Class06: 0.0415 \n",
      "Class07: 0.0401 Class08: 0.0390 Class09: 0.0397 Class10: 0.0412 Class11: 0.0369 Class12: 0.0414 \n",
      "Label_3: IoU Scores Train\n",
      "Class00: 0.0292 Class01: 0.0316 Class02: 0.0268 Class03: 0.0312 Class04: 0.0350 Class05: 0.0373 Class06: 0.0392 \n",
      "Class07: 0.0374 Class08: 0.0379 Class09: 0.0387 Class10: 0.0394 Class11: 0.0361 Class12: 0.0382 \n",
      "Train seg Loss: 2.5185730747770574 Train dom Loss: 5941.520509593715\n",
      "Train Loss: 61.93377674057864\n",
      "Train mIoU: 0.04260306678085228\n"
     ]
    },
    {
     "name": "stderr",
     "output_type": "stream",
     "text": [
      "100%|██████████| 30/30 [00:09<00:00,  3.06it/s]\n"
     ]
    },
    {
     "name": "stdout",
     "output_type": "stream",
     "text": [
      "\n",
      "--IoU Scores Fish val--\n",
      "Class0: 0.1178 Class1: 0.0823 Class2: 0.0896 Class3: 0.1164 Class4: 0.0860 Class5: 0.0852 Class6: 0.1168 \n",
      "Class7: 0.0850 Class8: 0.0892 Class9: 0.1138 Class10: 0.0912 Class11: 0.0903 Class12: 0.0781 \n",
      "Epoch59\n",
      "Valid Seg Loss: 1.2598039666811625 Valid dom Loss: 12625.487825520833\n",
      "Valid Loss: 127.51467920939128\n",
      "Valid mIoU: 0.09551068167967693\n",
      "___________________________________________________________________________________________\n",
      "\n"
     ]
    },
    {
     "name": "stderr",
     "output_type": "stream",
     "text": [
      "Epoch: 60: 100%|██████████| 138/138 [05:01<00:00,  2.18s/it]\n"
     ]
    },
    {
     "name": "stdout",
     "output_type": "stream",
     "text": [
      "\n",
      "Label_0: IoU Scores Train\n",
      "Class00: 0.0546 Class01: 0.0587 Class02: 0.0511 Class03: 0.0583 Class04: 0.0641 Class05: 0.0650 Class06: 0.0667 \n",
      "Class07: 0.0614 Class08: 0.0661 Class09: 0.0825 Class10: 0.0925 Class11: 0.0790 Class12: 0.0745 \n",
      "Label_1: IoU Scores Train\n",
      "Class00: 0.0398 Class01: 0.0455 Class02: 0.0456 Class03: 0.0426 Class04: 0.0433 Class05: 0.0406 Class06: 0.0446 \n",
      "Class07: 0.0432 Class08: 0.0457 Class09: 0.0445 Class10: 0.0511 Class11: 0.0486 Class12: 0.0509 \n",
      "Label_2: IoU Scores Train\n",
      "Class00: 0.0382 Class01: 0.0412 Class02: 0.0421 Class03: 0.0409 Class04: 0.0403 Class05: 0.0371 Class06: 0.0412 \n",
      "Class07: 0.0396 Class08: 0.0396 Class09: 0.0394 Class10: 0.0449 Class11: 0.0429 Class12: 0.0470 \n",
      "Label_3: IoU Scores Train\n",
      "Class00: 0.0365 Class01: 0.0356 Class02: 0.0361 Class03: 0.0380 Class04: 0.0401 Class05: 0.0364 Class06: 0.0396 \n",
      "Class07: 0.0365 Class08: 0.0371 Class09: 0.0392 Class10: 0.0422 Class11: 0.0399 Class12: 0.0445 \n",
      "Train seg Loss: 2.8885082928598793 Train dom Loss: 9185.472295733465\n",
      "Train Loss: 94.74322874304177\n",
      "Train mIoU: 0.04801336208111735\n"
     ]
    },
    {
     "name": "stderr",
     "output_type": "stream",
     "text": [
      "100%|██████████| 30/30 [00:10<00:00,  2.96it/s]\n"
     ]
    },
    {
     "name": "stdout",
     "output_type": "stream",
     "text": [
      "\n",
      "--IoU Scores Fish val--\n",
      "Class0: 0.1338 Class1: 0.1115 Class2: 0.1183 Class3: 0.1354 Class4: 0.1141 Class5: 0.1220 Class6: 0.1339 \n",
      "Class7: 0.1160 Class8: 0.1192 Class9: 0.1383 Class10: 0.1103 Class11: 0.1103 Class12: 0.1054 \n",
      "Epoch60\n",
      "Valid Seg Loss: 1.6844996174176534 Valid dom Loss: 8265.521956380207\n",
      "Valid Loss: 84.33971773783365\n",
      "Valid mIoU: 0.12064969425286573\n",
      "___________________________________________________________________________________________\n",
      "\n"
     ]
    },
    {
     "name": "stderr",
     "output_type": "stream",
     "text": [
      "Epoch: 61: 100%|██████████| 138/138 [05:00<00:00,  2.18s/it]\n"
     ]
    },
    {
     "name": "stdout",
     "output_type": "stream",
     "text": [
      "\n",
      "Label_0: IoU Scores Train\n",
      "Class00: 0.0844 Class01: 0.0777 Class02: 0.0826 Class03: 0.0738 Class04: 0.0676 Class05: 0.0839 Class06: 0.0976 \n",
      "Class07: 0.1117 Class08: 0.1113 Class09: 0.1038 Class10: 0.1132 Class11: 0.1396 Class12: 0.1243 \n",
      "Label_1: IoU Scores Train\n",
      "Class00: 0.0472 Class01: 0.0481 Class02: 0.0456 Class03: 0.0472 Class04: 0.0458 Class05: 0.0514 Class06: 0.0513 \n",
      "Class07: 0.0548 Class08: 0.0583 Class09: 0.0574 Class10: 0.0576 Class11: 0.0588 Class12: 0.0598 \n",
      "Label_2: IoU Scores Train\n",
      "Class00: 0.0436 Class01: 0.0412 Class02: 0.0411 Class03: 0.0421 Class04: 0.0429 Class05: 0.0443 Class06: 0.0466 \n",
      "Class07: 0.0485 Class08: 0.0502 Class09: 0.0504 Class10: 0.0521 Class11: 0.0529 Class12: 0.0516 \n",
      "Label_3: IoU Scores Train\n",
      "Class00: 0.0412 Class01: 0.0388 Class02: 0.0382 Class03: 0.0395 Class04: 0.0414 Class05: 0.0418 Class06: 0.0419 \n",
      "Class07: 0.0447 Class08: 0.0454 Class09: 0.0472 Class10: 0.0502 Class11: 0.0482 Class12: 0.0497 \n",
      "Train seg Loss: 2.150008886080721 Train dom Loss: 2658.0430056791806\n",
      "Train Loss: 28.73043832010117\n",
      "Train mIoU: 0.06020331658496917\n"
     ]
    },
    {
     "name": "stderr",
     "output_type": "stream",
     "text": [
      "100%|██████████| 30/30 [00:09<00:00,  3.06it/s]\n"
     ]
    },
    {
     "name": "stdout",
     "output_type": "stream",
     "text": [
      "\n",
      "--IoU Scores Fish val--\n",
      "Class0: 0.1435 Class1: 0.1184 Class2: 0.1259 Class3: 0.1436 Class4: 0.1051 Class5: 0.1311 Class6: 0.1569 \n",
      "Class7: 0.1238 Class8: 0.1216 Class9: 0.1437 Class10: 0.1250 Class11: 0.1199 Class12: 0.1111 \n",
      "Epoch61\n",
      "Valid Seg Loss: 1.5244900067647298 Valid dom Loss: 5668.683056640625\n",
      "Valid Loss: 58.211319287618004\n",
      "Valid mIoU: 0.12843891472738816\n",
      "___________________________________________________________________________________________\n",
      "\n"
     ]
    },
    {
     "name": "stderr",
     "output_type": "stream",
     "text": [
      "Epoch: 62: 100%|██████████| 138/138 [05:01<00:00,  2.18s/it]\n"
     ]
    },
    {
     "name": "stdout",
     "output_type": "stream",
     "text": [
      "\n",
      "Label_0: IoU Scores Train\n",
      "Class00: 0.1224 Class01: 0.1036 Class02: 0.1108 Class03: 0.0919 Class04: 0.1020 Class05: 0.1009 Class06: 0.1092 \n",
      "Class07: 0.1135 Class08: 0.1168 Class09: 0.1169 Class10: 0.1080 Class11: 0.1225 Class12: 0.1333 \n",
      "Label_1: IoU Scores Train\n",
      "Class00: 0.0575 Class01: 0.0554 Class02: 0.0566 Class03: 0.0498 Class04: 0.0530 Class05: 0.0588 Class06: 0.0641 \n",
      "Class07: 0.0630 Class08: 0.0550 Class09: 0.0559 Class10: 0.0557 Class11: 0.0595 Class12: 0.0695 \n",
      "Label_2: IoU Scores Train\n",
      "Class00: 0.0488 Class01: 0.0508 Class02: 0.0497 Class03: 0.0442 Class04: 0.0454 Class05: 0.0513 Class06: 0.0557 \n",
      "Class07: 0.0551 Class08: 0.0462 Class09: 0.0493 Class10: 0.0503 Class11: 0.0531 Class12: 0.0589 \n",
      "Label_3: IoU Scores Train\n",
      "Class00: 0.0464 Class01: 0.0472 Class02: 0.0480 Class03: 0.0413 Class04: 0.0422 Class05: 0.0461 Class06: 0.0514 \n",
      "Class07: 0.0494 Class08: 0.0431 Class09: 0.0443 Class10: 0.0462 Class11: 0.0481 Class12: 0.0529 \n",
      "Train seg Loss: 2.1222626133889393 Train dom Loss: 2103.2711801145065\n",
      "Train Loss: 23.154974009679712\n",
      "Train mIoU: 0.06674812787301738\n"
     ]
    },
    {
     "name": "stderr",
     "output_type": "stream",
     "text": [
      "100%|██████████| 30/30 [00:10<00:00,  2.95it/s]\n"
     ]
    },
    {
     "name": "stdout",
     "output_type": "stream",
     "text": [
      "\n",
      "--IoU Scores Fish val--\n",
      "Class0: 0.1646 Class1: 0.1311 Class2: 0.1431 Class3: 0.1666 Class4: 0.1283 Class5: 0.1487 Class6: 0.1634 \n",
      "Class7: 0.1343 Class8: 0.1439 Class9: 0.1561 Class10: 0.1461 Class11: 0.1356 Class12: 0.1572 \n",
      "Epoch62\n",
      "Valid Seg Loss: 1.265631612141927 Valid dom Loss: 176.61479924519855\n",
      "Valid Loss: 3.0317795475323996\n",
      "Valid mIoU: 0.14760678633123228\n",
      "___________________________________________________________________________________________\n",
      "\n"
     ]
    },
    {
     "name": "stderr",
     "output_type": "stream",
     "text": [
      "Epoch: 63: 100%|██████████| 138/138 [05:00<00:00,  2.18s/it]\n"
     ]
    },
    {
     "name": "stdout",
     "output_type": "stream",
     "text": [
      "\n",
      "Label_0: IoU Scores Train\n",
      "Class00: 0.1323 Class01: 0.1210 Class02: 0.1276 Class03: 0.1226 Class04: 0.1085 Class05: 0.1092 Class06: 0.1381 \n",
      "Class07: 0.1322 Class08: 0.1478 Class09: 0.1517 Class10: 0.1523 Class11: 0.1619 Class12: 0.1256 \n",
      "Label_1: IoU Scores Train\n",
      "Class00: 0.0617 Class01: 0.0609 Class02: 0.0648 Class03: 0.0644 Class04: 0.0652 Class05: 0.0598 Class06: 0.0690 \n",
      "Class07: 0.0674 Class08: 0.0709 Class09: 0.0750 Class10: 0.0741 Class11: 0.0815 Class12: 0.0667 \n",
      "Label_2: IoU Scores Train\n",
      "Class00: 0.0532 Class01: 0.0538 Class02: 0.0558 Class03: 0.0559 Class04: 0.0546 Class05: 0.0542 Class06: 0.0600 \n",
      "Class07: 0.0579 Class08: 0.0618 Class09: 0.0635 Class10: 0.0644 Class11: 0.0701 Class12: 0.0580 \n",
      "Label_3: IoU Scores Train\n",
      "Class00: 0.0494 Class01: 0.0507 Class02: 0.0517 Class03: 0.0514 Class04: 0.0486 Class05: 0.0486 Class06: 0.0545 \n",
      "Class07: 0.0519 Class08: 0.0551 Class09: 0.0577 Class10: 0.0581 Class11: 0.0635 Class12: 0.0527 \n",
      "Train seg Loss: 1.651780016882264 Train dom Loss: 535.3585754594744\n",
      "Train Loss: 7.005365652558596\n",
      "Train mIoU: 0.07825490955247139\n"
     ]
    },
    {
     "name": "stderr",
     "output_type": "stream",
     "text": [
      "100%|██████████| 30/30 [00:10<00:00,  2.90it/s]\n"
     ]
    },
    {
     "name": "stdout",
     "output_type": "stream",
     "text": [
      "\n",
      "--IoU Scores Fish val--\n",
      "Class0: 0.1856 Class1: 0.1351 Class2: 0.1703 Class3: 0.1838 Class4: 0.1588 Class5: 0.1715 Class6: 0.1734 \n",
      "Class7: 0.1357 Class8: 0.1726 Class9: 0.1733 Class10: 0.1502 Class11: 0.1476 Class12: 0.1535 \n",
      "Epoch63\n",
      "Valid Seg Loss: 1.1376545588175455 Valid dom Loss: 5127.287605794271\n",
      "Valid Loss: 52.41052926381429\n",
      "Valid mIoU: 0.16241505080273186\n",
      "___________________________________________________________________________________________\n",
      "\n"
     ]
    },
    {
     "name": "stderr",
     "output_type": "stream",
     "text": [
      "Epoch: 64: 100%|██████████| 138/138 [05:00<00:00,  2.17s/it]\n"
     ]
    },
    {
     "name": "stdout",
     "output_type": "stream",
     "text": [
      "\n",
      "Label_0: IoU Scores Train\n",
      "Class00: 0.1332 Class01: 0.1427 Class02: 0.1585 Class03: 0.1716 Class04: 0.1938 Class05: 0.1934 Class06: 0.1963 \n",
      "Class07: 0.1952 Class08: 0.1813 Class09: 0.1900 Class10: 0.1874 Class11: 0.1625 Class12: 0.1554 \n",
      "Label_1: IoU Scores Train\n",
      "Class00: 0.0678 Class01: 0.0738 Class02: 0.0765 Class03: 0.0792 Class04: 0.0843 Class05: 0.0821 Class06: 0.0847 \n",
      "Class07: 0.0818 Class08: 0.0808 Class09: 0.0842 Class10: 0.0814 Class11: 0.0747 Class12: 0.0772 \n",
      "Label_2: IoU Scores Train\n",
      "Class00: 0.0574 Class01: 0.0629 Class02: 0.0642 Class03: 0.0678 Class04: 0.0708 Class05: 0.0696 Class06: 0.0716 \n",
      "Class07: 0.0689 Class08: 0.0680 Class09: 0.0708 Class10: 0.0674 Class11: 0.0635 Class12: 0.0671 \n",
      "Label_3: IoU Scores Train\n",
      "Class00: 0.0516 Class01: 0.0568 Class02: 0.0574 Class03: 0.0604 Class04: 0.0638 Class05: 0.0627 Class06: 0.0651 \n",
      "Class07: 0.0615 Class08: 0.0621 Class09: 0.0643 Class10: 0.0599 Class11: 0.0583 Class12: 0.0611 \n",
      "Train seg Loss: 1.2358264645048673 Train dom Loss: 237.05283547678718\n",
      "Train Loss: 3.6063547647301704\n",
      "Train mIoU: 0.09509013299385052\n"
     ]
    },
    {
     "name": "stderr",
     "output_type": "stream",
     "text": [
      "100%|██████████| 30/30 [00:09<00:00,  3.08it/s]\n"
     ]
    },
    {
     "name": "stdout",
     "output_type": "stream",
     "text": [
      "\n",
      "--IoU Scores Fish val--\n",
      "Class0: 0.2302 Class1: 0.1841 Class2: 0.2191 Class3: 0.2324 Class4: 0.1942 Class5: 0.2148 Class6: 0.2315 \n",
      "Class7: 0.1948 Class8: 0.2228 Class9: 0.2150 Class10: 0.1973 Class11: 0.1966 Class12: 0.2323 \n",
      "Epoch64\n",
      "Valid Seg Loss: 0.7753744582335155 Valid dom Loss: 29.038171044985454\n",
      "Valid Loss: 1.0657561679681142\n",
      "Valid mIoU: 0.21270411703725772\n",
      "___________________________________________________________________________________________\n",
      "\n"
     ]
    },
    {
     "name": "stderr",
     "output_type": "stream",
     "text": [
      "Epoch: 65: 100%|██████████| 138/138 [05:00<00:00,  2.18s/it]\n"
     ]
    },
    {
     "name": "stdout",
     "output_type": "stream",
     "text": [
      "\n",
      "Label_0: IoU Scores Train\n",
      "Class00: 0.1699 Class01: 0.1714 Class02: 0.1459 Class03: 0.1171 Class04: 0.1657 Class05: 0.1628 Class06: 0.1610 \n",
      "Class07: 0.1553 Class08: 0.1629 Class09: 0.1650 Class10: 0.1602 Class11: 0.1687 Class12: 0.1667 \n",
      "Label_1: IoU Scores Train\n",
      "Class00: 0.0765 Class01: 0.0784 Class02: 0.0687 Class03: 0.0632 Class04: 0.0698 Class05: 0.0700 Class06: 0.0710 \n",
      "Class07: 0.0704 Class08: 0.0756 Class09: 0.0787 Class10: 0.0785 Class11: 0.0779 Class12: 0.0815 \n",
      "Label_2: IoU Scores Train\n",
      "Class00: 0.0668 Class01: 0.0650 Class02: 0.0601 Class03: 0.0562 Class04: 0.0602 Class05: 0.0601 Class06: 0.0595 \n",
      "Class07: 0.0604 Class08: 0.0659 Class09: 0.0677 Class10: 0.0684 Class11: 0.0685 Class12: 0.0706 \n",
      "Label_3: IoU Scores Train\n",
      "Class00: 0.0600 Class01: 0.0596 Class02: 0.0539 Class03: 0.0507 Class04: 0.0549 Class05: 0.0547 Class06: 0.0548 \n",
      "Class07: 0.0553 Class08: 0.0602 Class09: 0.0621 Class10: 0.0616 Class11: 0.0623 Class12: 0.0644 \n",
      "Train seg Loss: 1.311711005218651 Train dom Loss: 210.1436736849339\n",
      "Train Loss: 3.413147694606712\n",
      "Train mIoU: 0.08877784633494193\n"
     ]
    },
    {
     "name": "stderr",
     "output_type": "stream",
     "text": [
      "100%|██████████| 30/30 [00:09<00:00,  3.05it/s]\n"
     ]
    },
    {
     "name": "stdout",
     "output_type": "stream",
     "text": [
      "\n",
      "--IoU Scores Fish val--\n",
      "Class0: 0.2400 Class1: 0.1909 Class2: 0.2266 Class3: 0.2360 Class4: 0.2048 Class5: 0.2271 Class6: 0.2366 \n",
      "Class7: 0.1850 Class8: 0.2265 Class9: 0.2190 Class10: 0.2055 Class11: 0.1969 Class12: 0.2361 \n",
      "Epoch65\n",
      "Valid Seg Loss: 0.5832289805014929 Valid dom Loss: 8.34711281855901\n",
      "Valid Loss: 0.6667001058657964\n",
      "Valid mIoU: 0.21777907852937187\n",
      "___________________________________________________________________________________________\n",
      "\n"
     ]
    },
    {
     "name": "stderr",
     "output_type": "stream",
     "text": [
      "Epoch: 66: 100%|██████████| 138/138 [04:58<00:00,  2.16s/it]\n"
     ]
    },
    {
     "name": "stdout",
     "output_type": "stream",
     "text": [
      "\n",
      "Label_0: IoU Scores Train\n",
      "Class00: 0.1961 Class01: 0.2004 Class02: 0.1950 Class03: 0.2072 Class04: 0.1890 Class05: 0.1723 Class06: 0.1858 \n",
      "Class07: 0.1469 Class08: 0.1413 Class09: 0.2107 Class10: 0.2116 Class11: 0.2187 Class12: 0.2293 \n",
      "Label_1: IoU Scores Train\n",
      "Class00: 0.0837 Class01: 0.0890 Class02: 0.0882 Class03: 0.0886 Class04: 0.0888 Class05: 0.0812 Class06: 0.0760 \n",
      "Class07: 0.0661 Class08: 0.0728 Class09: 0.0892 Class10: 0.0877 Class11: 0.0900 Class12: 0.0872 \n",
      "Label_2: IoU Scores Train\n",
      "Class00: 0.0722 Class01: 0.0780 Class02: 0.0760 Class03: 0.0774 Class04: 0.0754 Class05: 0.0692 Class06: 0.0651 \n",
      "Class07: 0.0586 Class08: 0.0647 Class09: 0.0765 Class10: 0.0751 Class11: 0.0762 Class12: 0.0736 \n",
      "Label_3: IoU Scores Train\n",
      "Class00: 0.0662 Class01: 0.0710 Class02: 0.0693 Class03: 0.0703 Class04: 0.0669 Class05: 0.0627 Class06: 0.0585 \n",
      "Class07: 0.0538 Class08: 0.0592 Class09: 0.0690 Class10: 0.0676 Class11: 0.0689 Class12: 0.0663 \n",
      "Train seg Loss: 1.1152690483824066 Train dom Loss: 171.04013254285277\n",
      "Train Loss: 2.82567033123063\n",
      "Train mIoU: 0.10347052421328262\n"
     ]
    },
    {
     "name": "stderr",
     "output_type": "stream",
     "text": [
      "100%|██████████| 30/30 [00:09<00:00,  3.06it/s]\n"
     ]
    },
    {
     "name": "stdout",
     "output_type": "stream",
     "text": [
      "\n",
      "--IoU Scores Fish val--\n",
      "Class0: 0.2348 Class1: 0.1854 Class2: 0.2319 Class3: 0.2262 Class4: 0.1973 Class5: 0.2242 Class6: 0.2329 \n",
      "Class7: 0.1794 Class8: 0.2203 Class9: 0.2233 Class10: 0.2041 Class11: 0.2002 Class12: 0.2205 \n",
      "Epoch66\n",
      "Valid Seg Loss: 0.5037040491898854 Valid dom Loss: 29.917343139648438\n",
      "Valid Loss: 0.8028774718443553\n",
      "Valid mIoU: 0.2138779490885018\n",
      "___________________________________________________________________________________________\n",
      "\n"
     ]
    },
    {
     "name": "stderr",
     "output_type": "stream",
     "text": [
      "Epoch: 67: 100%|██████████| 138/138 [04:59<00:00,  2.17s/it]\n"
     ]
    },
    {
     "name": "stdout",
     "output_type": "stream",
     "text": [
      "\n",
      "Label_0: IoU Scores Train\n",
      "Class00: 0.2182 Class01: 0.2335 Class02: 0.2235 Class03: 0.2295 Class04: 0.2346 Class05: 0.2355 Class06: 0.2459 \n",
      "Class07: 0.2462 Class08: 0.2443 Class09: 0.2558 Class10: 0.2596 Class11: 0.2511 Class12: 0.2415 \n",
      "Label_1: IoU Scores Train\n",
      "Class00: 0.0887 Class01: 0.0921 Class02: 0.0912 Class03: 0.0907 Class04: 0.0931 Class05: 0.0930 Class06: 0.0957 \n",
      "Class07: 0.0922 Class08: 0.0902 Class09: 0.0964 Class10: 0.0963 Class11: 0.0952 Class12: 0.0915 \n",
      "Label_2: IoU Scores Train\n",
      "Class00: 0.0744 Class01: 0.0777 Class02: 0.0774 Class03: 0.0760 Class04: 0.0796 Class05: 0.0783 Class06: 0.0819 \n",
      "Class07: 0.0787 Class08: 0.0773 Class09: 0.0815 Class10: 0.0814 Class11: 0.0805 Class12: 0.0797 \n",
      "Label_3: IoU Scores Train\n",
      "Class00: 0.0666 Class01: 0.0699 Class02: 0.0690 Class03: 0.0677 Class04: 0.0716 Class05: 0.0705 Class06: 0.0745 \n",
      "Class07: 0.0711 Class08: 0.0693 Class09: 0.0735 Class10: 0.0735 Class11: 0.0732 Class12: 0.0721 \n",
      "Train seg Loss: 0.6157843719466009 Train dom Loss: 7.192078996438057\n",
      "Train Loss: 0.6877051618328129\n",
      "Train mIoU: 0.1206150016886827\n"
     ]
    },
    {
     "name": "stderr",
     "output_type": "stream",
     "text": [
      "100%|██████████| 30/30 [00:09<00:00,  3.07it/s]\n"
     ]
    },
    {
     "name": "stdout",
     "output_type": "stream",
     "text": [
      "\n",
      "--IoU Scores Fish val--\n",
      "Class0: 0.2589 Class1: 0.2065 Class2: 0.2492 Class3: 0.2548 Class4: 0.2089 Class5: 0.2426 Class6: 0.2655 \n",
      "Class7: 0.1992 Class8: 0.2425 Class9: 0.2435 Class10: 0.2242 Class11: 0.2193 Class12: 0.2353 \n",
      "Epoch67\n",
      "Valid Seg Loss: 0.42632158199946085 Valid dom Loss: 22.38638184865316\n",
      "Valid Loss: 0.6501854022343954\n",
      "Valid mIoU: 0.23464723192777134\n",
      "___________________________________________________________________________________________\n",
      "\n"
     ]
    },
    {
     "name": "stderr",
     "output_type": "stream",
     "text": [
      "Epoch: 68: 100%|██████████| 138/138 [04:58<00:00,  2.17s/it]\n"
     ]
    },
    {
     "name": "stdout",
     "output_type": "stream",
     "text": [
      "\n",
      "Label_0: IoU Scores Train\n",
      "Class00: 0.2465 Class01: 0.2664 Class02: 0.2626 Class03: 0.2595 Class04: 0.2513 Class05: 0.2527 Class06: 0.2707 \n",
      "Class07: 0.2589 Class08: 0.2541 Class09: 0.2629 Class10: 0.2530 Class11: 0.2372 Class12: 0.2566 \n",
      "Label_1: IoU Scores Train\n",
      "Class00: 0.0944 Class01: 0.0990 Class02: 0.0977 Class03: 0.0966 Class04: 0.0973 Class05: 0.0949 Class06: 0.1011 \n",
      "Class07: 0.0966 Class08: 0.0965 Class09: 0.1004 Class10: 0.0961 Class11: 0.0935 Class12: 0.0985 \n",
      "Label_2: IoU Scores Train\n",
      "Class00: 0.0809 Class01: 0.0834 Class02: 0.0833 Class03: 0.0814 Class04: 0.0821 Class05: 0.0803 Class06: 0.0855 \n",
      "Class07: 0.0815 Class08: 0.0806 Class09: 0.0853 Class10: 0.0814 Class11: 0.0811 Class12: 0.0849 \n",
      "Label_3: IoU Scores Train\n",
      "Class00: 0.0731 Class01: 0.0756 Class02: 0.0754 Class03: 0.0733 Class04: 0.0739 Class05: 0.0722 Class06: 0.0763 \n",
      "Class07: 0.0735 Class08: 0.0720 Class09: 0.0757 Class10: 0.0729 Class11: 0.0715 Class12: 0.0759 \n",
      "Train seg Loss: 0.5379408758835517 Train dom Loss: 4.273251711026482\n",
      "Train Loss: 0.5806733913773644\n",
      "Train mIoU: 0.12746924261361234\n"
     ]
    },
    {
     "name": "stderr",
     "output_type": "stream",
     "text": [
      "100%|██████████| 30/30 [00:09<00:00,  3.04it/s]\n"
     ]
    },
    {
     "name": "stdout",
     "output_type": "stream",
     "text": [
      "\n",
      "--IoU Scores Fish val--\n",
      "Class0: 0.2805 Class1: 0.2172 Class2: 0.2644 Class3: 0.2844 Class4: 0.2276 Class5: 0.2757 Class6: 0.2835 \n",
      "Class7: 0.2305 Class8: 0.2607 Class9: 0.2683 Class10: 0.2410 Class11: 0.2464 Class12: 0.2353 \n",
      "Epoch68\n",
      "Valid Seg Loss: 0.3585596024990082 Valid dom Loss: 17.108360068003336\n",
      "Valid Loss: 0.5296431988477707\n",
      "Valid mIoU: 0.25503429748287926\n",
      "___________________________________________________________________________________________\n",
      "\n"
     ]
    },
    {
     "name": "stderr",
     "output_type": "stream",
     "text": [
      "Epoch: 69: 100%|██████████| 138/138 [05:00<00:00,  2.18s/it]\n"
     ]
    },
    {
     "name": "stdout",
     "output_type": "stream",
     "text": [
      "\n",
      "Label_0: IoU Scores Train\n",
      "Class00: 0.2338 Class01: 0.1803 Class02: 0.1593 Class03: 0.1419 Class04: 0.1714 Class05: 0.1867 Class06: 0.2010 \n",
      "Class07: 0.1916 Class08: 0.1851 Class09: 0.2284 Class10: 0.2258 Class11: 0.1770 Class12: 0.1893 \n",
      "Label_1: IoU Scores Train\n",
      "Class00: 0.0911 Class01: 0.0763 Class02: 0.0648 Class03: 0.0685 Class04: 0.0777 Class05: 0.0841 Class06: 0.0890 \n",
      "Class07: 0.0859 Class08: 0.0891 Class09: 0.0945 Class10: 0.0926 Class11: 0.0809 Class12: 0.0848 \n",
      "Label_2: IoU Scores Train\n",
      "Class00: 0.0797 Class01: 0.0684 Class02: 0.0576 Class03: 0.0598 Class04: 0.0677 Class05: 0.0726 Class06: 0.0768 \n",
      "Class07: 0.0727 Class08: 0.0777 Class09: 0.0814 Class10: 0.0797 Class11: 0.0677 Class12: 0.0736 \n",
      "Label_3: IoU Scores Train\n",
      "Class00: 0.0712 Class01: 0.0612 Class02: 0.0544 Class03: 0.0553 Class04: 0.0617 Class05: 0.0648 Class06: 0.0703 \n",
      "Class07: 0.0654 Class08: 0.0705 Class09: 0.0734 Class10: 0.0709 Class11: 0.0611 Class12: 0.0666 \n",
      "Train seg Loss: 0.9662553564361904 Train dom Loss: 87.76186985865343\n",
      "Train Loss: 1.8438740378056748\n",
      "Train mIoU: 0.10255926961173725\n"
     ]
    },
    {
     "name": "stderr",
     "output_type": "stream",
     "text": [
      "100%|██████████| 30/30 [00:09<00:00,  3.08it/s]\n"
     ]
    },
    {
     "name": "stdout",
     "output_type": "stream",
     "text": [
      "\n",
      "--IoU Scores Fish val--\n",
      "Class0: 0.2598 Class1: 0.2036 Class2: 0.2476 Class3: 0.2563 Class4: 0.2221 Class5: 0.2448 Class6: 0.2645 \n",
      "Class7: 0.2026 Class8: 0.2487 Class9: 0.2402 Class10: 0.2273 Class11: 0.2241 Class12: 0.2504 \n",
      "Epoch69\n",
      "Valid Seg Loss: 0.4924648503462474 Valid dom Loss: 172.1886744817098\n",
      "Valid Loss: 2.2143515785535177\n",
      "Valid mIoU: 0.23785477467248095\n",
      "___________________________________________________________________________________________\n",
      "\n"
     ]
    },
    {
     "name": "stderr",
     "output_type": "stream",
     "text": [
      "Epoch: 70: 100%|██████████| 138/138 [04:59<00:00,  2.17s/it]\n"
     ]
    },
    {
     "name": "stdout",
     "output_type": "stream",
     "text": [
      "\n",
      "Label_0: IoU Scores Train\n",
      "Class00: 0.1423 Class01: 0.1667 Class02: 0.1028 Class03: 0.0972 Class04: 0.1044 Class05: 0.0523 Class06: 0.0389 \n",
      "Class07: 0.0218 Class08: 0.0287 Class09: 0.0414 Class10: 0.0326 Class11: 0.0310 Class12: 0.0438 \n",
      "Label_1: IoU Scores Train\n",
      "Class00: 0.0715 Class01: 0.0841 Class02: 0.0569 Class03: 0.0604 Class04: 0.0540 Class05: 0.0346 Class06: 0.0306 \n",
      "Class07: 0.0297 Class08: 0.0334 Class09: 0.0432 Class10: 0.0347 Class11: 0.0409 Class12: 0.0396 \n",
      "Label_2: IoU Scores Train\n",
      "Class00: 0.0608 Class01: 0.0718 Class02: 0.0503 Class03: 0.0519 Class04: 0.0489 Class05: 0.0320 Class06: 0.0296 \n",
      "Class07: 0.0308 Class08: 0.0329 Class09: 0.0466 Class10: 0.0360 Class11: 0.0399 Class12: 0.0363 \n",
      "Label_3: IoU Scores Train\n",
      "Class00: 0.0566 Class01: 0.0650 Class02: 0.0473 Class03: 0.0479 Class04: 0.0449 Class05: 0.0293 Class06: 0.0328 \n",
      "Class07: 0.0227 Class08: 0.0258 Class09: 0.0429 Class10: 0.0335 Class11: 0.0338 Class12: 0.0342 \n",
      "Train seg Loss: 6.949953312567179 Train dom Loss: 45680.847057707935\n",
      "Train Loss: 463.75841514096743\n",
      "Train mIoU: 0.0500348009094174\n"
     ]
    },
    {
     "name": "stderr",
     "output_type": "stream",
     "text": [
      "100%|██████████| 30/30 [00:10<00:00,  2.99it/s]\n"
     ]
    },
    {
     "name": "stdout",
     "output_type": "stream",
     "text": [
      "\n",
      "--IoU Scores Fish val--\n",
      "Class0: 0.1095 Class1: 0.0797 Class2: 0.0874 Class3: 0.1074 Class4: 0.0817 Class5: 0.0897 Class6: 0.1101 \n",
      "Class7: 0.0786 Class8: 0.0886 Class9: 0.1095 Class10: 0.0814 Class11: 0.0871 Class12: 0.0857 \n",
      "Epoch70\n",
      "Valid Seg Loss: 1.3149115562438964 Valid dom Loss: 3096.7047526041665\n",
      "Valid Loss: 32.28195807139079\n",
      "Valid mIoU: 0.09201819774520878\n",
      "___________________________________________________________________________________________\n",
      "\n"
     ]
    },
    {
     "name": "stderr",
     "output_type": "stream",
     "text": [
      "Epoch: 71: 100%|██████████| 138/138 [04:59<00:00,  2.17s/it]\n"
     ]
    },
    {
     "name": "stdout",
     "output_type": "stream",
     "text": [
      "\n",
      "Label_0: IoU Scores Train\n",
      "Class00: 0.0600 Class01: 0.0876 Class02: 0.0959 Class03: 0.0912 Class04: 0.1015 Class05: 0.1010 Class06: 0.1021 \n",
      "Class07: 0.0951 Class08: 0.1055 Class09: 0.1115 Class10: 0.1152 Class11: 0.1027 Class12: 0.1149 \n",
      "Label_1: IoU Scores Train\n",
      "Class00: 0.0461 Class01: 0.0555 Class02: 0.0554 Class03: 0.0563 Class04: 0.0597 Class05: 0.0578 Class06: 0.0587 \n",
      "Class07: 0.0576 Class08: 0.0613 Class09: 0.0628 Class10: 0.0620 Class11: 0.0584 Class12: 0.0618 \n",
      "Label_2: IoU Scores Train\n",
      "Class00: 0.0432 Class01: 0.0475 Class02: 0.0480 Class03: 0.0496 Class04: 0.0526 Class05: 0.0499 Class06: 0.0511 \n",
      "Class07: 0.0499 Class08: 0.0519 Class09: 0.0528 Class10: 0.0537 Class11: 0.0515 Class12: 0.0525 \n",
      "Label_3: IoU Scores Train\n",
      "Class00: 0.0404 Class01: 0.0442 Class02: 0.0438 Class03: 0.0463 Class04: 0.0469 Class05: 0.0456 Class06: 0.0461 \n",
      "Class07: 0.0455 Class08: 0.0486 Class09: 0.0476 Class10: 0.0482 Class11: 0.0463 Class12: 0.0480 \n",
      "Train seg Loss: 1.7849132104412369 Train dom Loss: 5342.754158462303\n",
      "Train Loss: 2.3191886112309885\n",
      "Train mIoU: 0.06325299348434754\n"
     ]
    },
    {
     "name": "stderr",
     "output_type": "stream",
     "text": [
      "100%|██████████| 30/30 [00:09<00:00,  3.05it/s]\n"
     ]
    },
    {
     "name": "stdout",
     "output_type": "stream",
     "text": [
      "\n",
      "--IoU Scores Fish val--\n",
      "Class0: 0.1652 Class1: 0.1319 Class2: 0.1509 Class3: 0.1654 Class4: 0.1320 Class5: 0.1558 Class6: 0.1713 \n",
      "Class7: 0.1291 Class8: 0.1494 Class9: 0.1664 Class10: 0.1329 Class11: 0.1435 Class12: 0.1523 \n",
      "Epoch71\n",
      "Valid Seg Loss: 0.6754321098327637 Valid dom Loss: 25473.093424479168\n",
      "Valid Loss: 3.222741381327311\n",
      "Valid mIoU: 0.14970484217531801\n",
      "___________________________________________________________________________________________\n",
      "\n"
     ]
    },
    {
     "name": "stderr",
     "output_type": "stream",
     "text": [
      "Epoch: 72: 100%|██████████| 138/138 [05:00<00:00,  2.17s/it]\n"
     ]
    },
    {
     "name": "stdout",
     "output_type": "stream",
     "text": [
      "\n",
      "Label_0: IoU Scores Train\n",
      "Class00: 0.1088 Class01: 0.1237 Class02: 0.1252 Class03: 0.1235 Class04: 0.1229 Class05: 0.1259 Class06: 0.1313 \n",
      "Class07: 0.1335 Class08: 0.1300 Class09: 0.1341 Class10: 0.1328 Class11: 0.1359 Class12: 0.1351 \n",
      "Label_1: IoU Scores Train\n",
      "Class00: 0.0612 Class01: 0.0645 Class02: 0.0663 Class03: 0.0669 Class04: 0.0647 Class05: 0.0655 Class06: 0.0701 \n",
      "Class07: 0.0674 Class08: 0.0663 Class09: 0.0686 Class10: 0.0685 Class11: 0.0683 Class12: 0.0674 \n",
      "Label_2: IoU Scores Train\n",
      "Class00: 0.0536 Class01: 0.0552 Class02: 0.0581 Class03: 0.0570 Class04: 0.0548 Class05: 0.0560 Class06: 0.0587 \n",
      "Class07: 0.0569 Class08: 0.0577 Class09: 0.0581 Class10: 0.0568 Class11: 0.0576 Class12: 0.0553 \n",
      "Label_3: IoU Scores Train\n",
      "Class00: 0.0496 Class01: 0.0510 Class02: 0.0530 Class03: 0.0535 Class04: 0.0513 Class05: 0.0508 Class06: 0.0540 \n",
      "Class07: 0.0517 Class08: 0.0527 Class09: 0.0532 Class10: 0.0526 Class11: 0.0539 Class12: 0.0502 \n",
      "Train seg Loss: 1.52054137531398 Train dom Loss: 2361.458134360935\n",
      "Train Loss: 1.7566871847147527\n",
      "Train mIoU: 0.07580285234663083\n"
     ]
    },
    {
     "name": "stderr",
     "output_type": "stream",
     "text": [
      "100%|██████████| 30/30 [00:09<00:00,  3.04it/s]\n"
     ]
    },
    {
     "name": "stdout",
     "output_type": "stream",
     "text": [
      "\n",
      "--IoU Scores Fish val--\n",
      "Class0: 0.2042 Class1: 0.1589 Class2: 0.1920 Class3: 0.2025 Class4: 0.1659 Class5: 0.1905 Class6: 0.2066 \n",
      "Class7: 0.1663 Class8: 0.1928 Class9: 0.1900 Class10: 0.1752 Class11: 0.1643 Class12: 0.2032 \n",
      "Epoch72\n",
      "Valid Seg Loss: 0.7197957237561544 Valid dom Loss: 5676.622688802084\n",
      "Valid Loss: 1.2874579866727194\n",
      "Valid mIoU: 0.1855829333137288\n",
      "___________________________________________________________________________________________\n",
      "\n"
     ]
    },
    {
     "name": "stderr",
     "output_type": "stream",
     "text": [
      "Epoch: 73: 100%|██████████| 138/138 [04:58<00:00,  2.16s/it]\n"
     ]
    },
    {
     "name": "stdout",
     "output_type": "stream",
     "text": [
      "\n",
      "Label_0: IoU Scores Train\n",
      "Class00: 0.1327 Class01: 0.1529 Class02: 0.1448 Class03: 0.1328 Class04: 0.1399 Class05: 0.1411 Class06: 0.1441 \n",
      "Class07: 0.1496 Class08: 0.1395 Class09: 0.1444 Class10: 0.1336 Class11: 0.1457 Class12: 0.1449 \n",
      "Label_1: IoU Scores Train\n",
      "Class00: 0.0678 Class01: 0.0714 Class02: 0.0699 Class03: 0.0661 Class04: 0.0684 Class05: 0.0676 Class06: 0.0703 \n",
      "Class07: 0.0708 Class08: 0.0690 Class09: 0.0699 Class10: 0.0637 Class11: 0.0709 Class12: 0.0654 \n",
      "Label_2: IoU Scores Train\n",
      "Class00: 0.0557 Class01: 0.0599 Class02: 0.0580 Class03: 0.0562 Class04: 0.0577 Class05: 0.0565 Class06: 0.0576 \n",
      "Class07: 0.0592 Class08: 0.0574 Class09: 0.0591 Class10: 0.0533 Class11: 0.0592 Class12: 0.0555 \n",
      "Label_3: IoU Scores Train\n",
      "Class00: 0.0516 Class01: 0.0552 Class02: 0.0525 Class03: 0.0507 Class04: 0.0518 Class05: 0.0514 Class06: 0.0519 \n",
      "Class07: 0.0532 Class08: 0.0520 Class09: 0.0537 Class10: 0.0475 Class11: 0.0527 Class12: 0.0503 \n",
      "Train seg Loss: 2.1115527950983117 Train dom Loss: 4729.158661386241\n",
      "Train Loss: 2.584468645354112\n",
      "Train mIoU: 0.07994238292892543\n"
     ]
    },
    {
     "name": "stderr",
     "output_type": "stream",
     "text": [
      "100%|██████████| 30/30 [00:09<00:00,  3.10it/s]\n"
     ]
    },
    {
     "name": "stdout",
     "output_type": "stream",
     "text": [
      "\n",
      "--IoU Scores Fish val--\n",
      "Class0: 0.1592 Class1: 0.1205 Class2: 0.1483 Class3: 0.1548 Class4: 0.1281 Class5: 0.1568 Class6: 0.1573 \n",
      "Class7: 0.1290 Class8: 0.1533 Class9: 0.1515 Class10: 0.1271 Class11: 0.1356 Class12: 0.1560 \n",
      "Epoch73\n",
      "Valid Seg Loss: 1.968585697809855 Valid dom Loss: 3942.3088541666666\n",
      "Valid Loss: 2.362816556294759\n",
      "Valid mIoU: 0.14442742929638305\n",
      "___________________________________________________________________________________________\n",
      "\n"
     ]
    },
    {
     "name": "stderr",
     "output_type": "stream",
     "text": [
      "Epoch: 74: 100%|██████████| 138/138 [04:58<00:00,  2.16s/it]\n"
     ]
    },
    {
     "name": "stdout",
     "output_type": "stream",
     "text": [
      "\n",
      "Label_0: IoU Scores Train\n",
      "Class00: 0.1417 Class01: 0.1723 Class02: 0.1668 Class03: 0.1707 Class04: 0.1816 Class05: 0.1765 Class06: 0.1890 \n",
      "Class07: 0.1879 Class08: 0.1772 Class09: 0.1994 Class10: 0.1902 Class11: 0.1937 Class12: 0.1930 \n",
      "Label_1: IoU Scores Train\n",
      "Class00: 0.0682 Class01: 0.0776 Class02: 0.0750 Class03: 0.0749 Class04: 0.0769 Class05: 0.0744 Class06: 0.0802 \n",
      "Class07: 0.0781 Class08: 0.0774 Class09: 0.0819 Class10: 0.0783 Class11: 0.0819 Class12: 0.0791 \n",
      "Label_2: IoU Scores Train\n",
      "Class00: 0.0579 Class01: 0.0655 Class02: 0.0630 Class03: 0.0626 Class04: 0.0639 Class05: 0.0623 Class06: 0.0678 \n",
      "Class07: 0.0647 Class08: 0.0659 Class09: 0.0693 Class10: 0.0661 Class11: 0.0697 Class12: 0.0668 \n",
      "Label_3: IoU Scores Train\n",
      "Class00: 0.0525 Class01: 0.0586 Class02: 0.0567 Class03: 0.0566 Class04: 0.0579 Class05: 0.0562 Class06: 0.0609 \n",
      "Class07: 0.0578 Class08: 0.0593 Class09: 0.0628 Class10: 0.0589 Class11: 0.0623 Class12: 0.0598 \n",
      "Train seg Loss: 1.4770782873358415 Train dom Loss: 1261.5461999644403\n",
      "Train Loss: 1.603232905862556\n",
      "Train mIoU: 0.0951882053756926\n"
     ]
    },
    {
     "name": "stderr",
     "output_type": "stream",
     "text": [
      "100%|██████████| 30/30 [00:09<00:00,  3.08it/s]\n"
     ]
    },
    {
     "name": "stdout",
     "output_type": "stream",
     "text": [
      "\n",
      "--IoU Scores Fish val--\n",
      "Class0: 0.2368 Class1: 0.1846 Class2: 0.2269 Class3: 0.2392 Class4: 0.1984 Class5: 0.2270 Class6: 0.2389 \n",
      "Class7: 0.1865 Class8: 0.2299 Class9: 0.2189 Class10: 0.2041 Class11: 0.2019 Class12: 0.2263 \n",
      "Epoch74\n",
      "Valid Seg Loss: 1.05719113945961 Valid dom Loss: 9867.91201171875\n",
      "Valid Loss: 2.0439823071161904\n",
      "Valid mIoU: 0.21687305758436093\n",
      "___________________________________________________________________________________________\n",
      "\n"
     ]
    },
    {
     "name": "stderr",
     "output_type": "stream",
     "text": [
      "Epoch: 75: 100%|██████████| 138/138 [05:00<00:00,  2.17s/it]\n"
     ]
    },
    {
     "name": "stdout",
     "output_type": "stream",
     "text": [
      "\n",
      "Label_0: IoU Scores Train\n",
      "Class00: 0.1925 Class01: 0.2093 Class02: 0.2130 Class03: 0.1797 Class04: 0.1903 Class05: 0.2105 Class06: 0.1758 \n",
      "Class07: 0.1938 Class08: 0.2158 Class09: 0.2209 Class10: 0.2078 Class11: 0.2113 Class12: 0.2302 \n",
      "Label_1: IoU Scores Train\n",
      "Class00: 0.0837 Class01: 0.0837 Class02: 0.0867 Class03: 0.0802 Class04: 0.0814 Class05: 0.0844 Class06: 0.0824 \n",
      "Class07: 0.0785 Class08: 0.0861 Class09: 0.0857 Class10: 0.0809 Class11: 0.0852 Class12: 0.0850 \n",
      "Label_2: IoU Scores Train\n",
      "Class00: 0.0707 Class01: 0.0708 Class02: 0.0729 Class03: 0.0676 Class04: 0.0692 Class05: 0.0709 Class06: 0.0687 \n",
      "Class07: 0.0662 Class08: 0.0726 Class09: 0.0728 Class10: 0.0674 Class11: 0.0710 Class12: 0.0721 \n",
      "Label_3: IoU Scores Train\n",
      "Class00: 0.0636 Class01: 0.0635 Class02: 0.0654 Class03: 0.0601 Class04: 0.0622 Class05: 0.0631 Class06: 0.0612 \n",
      "Class07: 0.0597 Class08: 0.0649 Class09: 0.0652 Class10: 0.0595 Class11: 0.0630 Class12: 0.0647 \n",
      "Train seg Loss: 1.1303149015791174 Train dom Loss: 2452.0045092416844\n",
      "Train Loss: 1.3755153453220492\n",
      "Train mIoU: 0.10507461900500124\n"
     ]
    },
    {
     "name": "stderr",
     "output_type": "stream",
     "text": [
      "100%|██████████| 30/30 [00:09<00:00,  3.08it/s]\n"
     ]
    },
    {
     "name": "stdout",
     "output_type": "stream",
     "text": [
      "\n",
      "--IoU Scores Fish val--\n",
      "Class0: 0.2571 Class1: 0.2024 Class2: 0.2455 Class3: 0.2598 Class4: 0.2186 Class5: 0.2474 Class6: 0.2624 \n",
      "Class7: 0.2026 Class8: 0.2477 Class9: 0.2385 Class10: 0.2203 Class11: 0.2211 Class12: 0.2458 \n",
      "Epoch75\n",
      "Valid Seg Loss: 0.43274417916933694 Valid dom Loss: 3536.3890625\n",
      "Valid Loss: 0.786383080482483\n",
      "Valid mIoU: 0.23609502864387444\n",
      "___________________________________________________________________________________________\n",
      "\n"
     ]
    },
    {
     "name": "stderr",
     "output_type": "stream",
     "text": [
      "Epoch: 76: 100%|██████████| 138/138 [04:58<00:00,  2.17s/it]\n"
     ]
    },
    {
     "name": "stdout",
     "output_type": "stream",
     "text": [
      "\n",
      "Label_0: IoU Scores Train\n",
      "Class00: 0.2181 Class01: 0.2459 Class02: 0.2395 Class03: 0.2378 Class04: 0.2486 Class05: 0.2370 Class06: 0.2557 \n",
      "Class07: 0.2429 Class08: 0.2443 Class09: 0.2375 Class10: 0.2567 Class11: 0.2555 Class12: 0.2513 \n",
      "Label_1: IoU Scores Train\n",
      "Class00: 0.0855 Class01: 0.0897 Class02: 0.0863 Class03: 0.0875 Class04: 0.0916 Class05: 0.0889 Class06: 0.0927 \n",
      "Class07: 0.0889 Class08: 0.0892 Class09: 0.0920 Class10: 0.0920 Class11: 0.0934 Class12: 0.0915 \n",
      "Label_2: IoU Scores Train\n",
      "Class00: 0.0721 Class01: 0.0746 Class02: 0.0721 Class03: 0.0736 Class04: 0.0764 Class05: 0.0740 Class06: 0.0772 \n",
      "Class07: 0.0737 Class08: 0.0750 Class09: 0.0772 Class10: 0.0772 Class11: 0.0777 Class12: 0.0767 \n",
      "Label_3: IoU Scores Train\n",
      "Class00: 0.0644 Class01: 0.0667 Class02: 0.0645 Class03: 0.0655 Class04: 0.0678 Class05: 0.0658 Class06: 0.0690 \n",
      "Class07: 0.0655 Class08: 0.0669 Class09: 0.0691 Class10: 0.0687 Class11: 0.0695 Class12: 0.0684 \n",
      "Train seg Loss: 0.7023839692490689 Train dom Loss: 531.8635512676792\n",
      "Train Loss: 0.7555703243267708\n",
      "Train mIoU: 0.11902547381807153\n"
     ]
    },
    {
     "name": "stderr",
     "output_type": "stream",
     "text": [
      "100%|██████████| 30/30 [00:09<00:00,  3.02it/s]\n"
     ]
    },
    {
     "name": "stdout",
     "output_type": "stream",
     "text": [
      "\n",
      "--IoU Scores Fish val--\n",
      "Class0: 0.2385 Class1: 0.1862 Class2: 0.2241 Class3: 0.2403 Class4: 0.1964 Class5: 0.2327 Class6: 0.2413 \n",
      "Class7: 0.1862 Class8: 0.2287 Class9: 0.2161 Class10: 0.2052 Class11: 0.2038 Class12: 0.2307 \n",
      "Epoch76\n",
      "Valid Seg Loss: 1.4958108027776083 Valid dom Loss: 4289.259375\n",
      "Valid Loss: 1.9247367223103842\n",
      "Valid mIoU: 0.21770726867292323\n",
      "___________________________________________________________________________________________\n",
      "\n"
     ]
    },
    {
     "name": "stderr",
     "output_type": "stream",
     "text": [
      "Epoch: 77: 100%|██████████| 138/138 [04:58<00:00,  2.16s/it]\n"
     ]
    },
    {
     "name": "stdout",
     "output_type": "stream",
     "text": [
      "\n",
      "Label_0: IoU Scores Train\n",
      "Class00: 0.2369 Class01: 0.2395 Class02: 0.2575 Class03: 0.2459 Class04: 0.2544 Class05: 0.2504 Class06: 0.2730 \n",
      "Class07: 0.2555 Class08: 0.2518 Class09: 0.2812 Class10: 0.2713 Class11: 0.2595 Class12: 0.2543 \n",
      "Label_1: IoU Scores Train\n",
      "Class00: 0.0928 Class01: 0.0941 Class02: 0.0933 Class03: 0.0923 Class04: 0.0940 Class05: 0.0935 Class06: 0.1009 \n",
      "Class07: 0.0945 Class08: 0.1002 Class09: 0.1030 Class10: 0.0981 Class11: 0.0985 Class12: 0.0983 \n",
      "Label_2: IoU Scores Train\n",
      "Class00: 0.0774 Class01: 0.0789 Class02: 0.0785 Class03: 0.0778 Class04: 0.0796 Class05: 0.0786 Class06: 0.0843 \n",
      "Class07: 0.0792 Class08: 0.0836 Class09: 0.0859 Class10: 0.0826 Class11: 0.0827 Class12: 0.0818 \n",
      "Label_3: IoU Scores Train\n",
      "Class00: 0.0690 Class01: 0.0705 Class02: 0.0695 Class03: 0.0692 Class04: 0.0719 Class05: 0.0703 Class06: 0.0751 \n",
      "Class07: 0.0706 Class08: 0.0743 Class09: 0.0770 Class10: 0.0741 Class11: 0.0741 Class12: 0.0730 \n",
      "Train seg Loss: 0.6445506287441738 Train dom Loss: 597.9332783228306\n",
      "Train Loss: 0.7043439543981483\n",
      "Train mIoU: 0.126427368676751\n"
     ]
    },
    {
     "name": "stderr",
     "output_type": "stream",
     "text": [
      "100%|██████████| 30/30 [00:09<00:00,  3.05it/s]\n"
     ]
    },
    {
     "name": "stdout",
     "output_type": "stream",
     "text": [
      "\n",
      "--IoU Scores Fish val--\n",
      "Class0: 0.2734 Class1: 0.2037 Class2: 0.2455 Class3: 0.2715 Class4: 0.2260 Class5: 0.2511 Class6: 0.2726 \n",
      "Class7: 0.2110 Class8: 0.2499 Class9: 0.2444 Class10: 0.2357 Class11: 0.2235 Class12: 0.2625 \n",
      "Epoch77\n",
      "Valid Seg Loss: 0.3923156390587489 Valid dom Loss: 1967.6635416666666\n",
      "Valid Loss: 0.5890819807847341\n",
      "Valid mIoU: 0.24390556404187555\n",
      "___________________________________________________________________________________________\n",
      "\n"
     ]
    },
    {
     "name": "stderr",
     "output_type": "stream",
     "text": [
      "Epoch: 78: 100%|██████████| 138/138 [04:57<00:00,  2.15s/it]\n"
     ]
    },
    {
     "name": "stdout",
     "output_type": "stream",
     "text": [
      "\n",
      "Label_0: IoU Scores Train\n",
      "Class00: 0.2426 Class01: 0.2713 Class02: 0.2809 Class03: 0.2754 Class04: 0.2814 Class05: 0.2705 Class06: 0.2778 \n",
      "Class07: 0.2572 Class08: 0.2564 Class09: 0.2655 Class10: 0.2814 Class11: 0.2721 Class12: 0.2615 \n",
      "Label_1: IoU Scores Train\n",
      "Class00: 0.0975 Class01: 0.1014 Class02: 0.1009 Class03: 0.0991 Class04: 0.1017 Class05: 0.1016 Class06: 0.1021 \n",
      "Class07: 0.0999 Class08: 0.1016 Class09: 0.1056 Class10: 0.1034 Class11: 0.1015 Class12: 0.1012 \n",
      "Label_2: IoU Scores Train\n",
      "Class00: 0.0813 Class01: 0.0853 Class02: 0.0847 Class03: 0.0837 Class04: 0.0854 Class05: 0.0848 Class06: 0.0863 \n",
      "Class07: 0.0841 Class08: 0.0853 Class09: 0.0884 Class10: 0.0869 Class11: 0.0846 Class12: 0.0846 \n",
      "Label_3: IoU Scores Train\n",
      "Class00: 0.0729 Class01: 0.0762 Class02: 0.0754 Class03: 0.0747 Class04: 0.0762 Class05: 0.0757 Class06: 0.0773 \n",
      "Class07: 0.0744 Class08: 0.0760 Class09: 0.0785 Class10: 0.0771 Class11: 0.0752 Class12: 0.0755 \n",
      "Train seg Loss: 0.5842346205659534 Train dom Loss: 800.9279629773196\n",
      "Train Loss: 0.6643274146793545\n",
      "Train mIoU: 0.13273196010197913\n"
     ]
    },
    {
     "name": "stderr",
     "output_type": "stream",
     "text": [
      "100%|██████████| 30/30 [00:09<00:00,  3.09it/s]\n"
     ]
    },
    {
     "name": "stdout",
     "output_type": "stream",
     "text": [
      "\n",
      "--IoU Scores Fish val--\n",
      "Class0: 0.2702 Class1: 0.2154 Class2: 0.2541 Class3: 0.2675 Class4: 0.2212 Class5: 0.2491 Class6: 0.2804 \n",
      "Class7: 0.2063 Class8: 0.2480 Class9: 0.2476 Class10: 0.2296 Class11: 0.2305 Class12: 0.2569 \n",
      "Epoch78\n",
      "Valid Seg Loss: 1.0208506445089975 Valid dom Loss: 719.2933308919271\n",
      "Valid Loss: 1.0927799781163534\n",
      "Valid mIoU: 0.244380257668956\n",
      "___________________________________________________________________________________________\n",
      "\n"
     ]
    },
    {
     "name": "stderr",
     "output_type": "stream",
     "text": [
      "Epoch: 79: 100%|██████████| 138/138 [04:58<00:00,  2.16s/it]\n"
     ]
    },
    {
     "name": "stdout",
     "output_type": "stream",
     "text": [
      "\n",
      "Label_0: IoU Scores Train\n",
      "Class00: 0.2680 Class01: 0.2744 Class02: 0.2846 Class03: 0.2731 Class04: 0.2891 Class05: 0.2679 Class06: 0.2833 \n",
      "Class07: 0.2733 Class08: 0.2785 Class09: 0.2962 Class10: 0.2834 Class11: 0.2909 Class12: 0.2793 \n",
      "Label_1: IoU Scores Train\n",
      "Class00: 0.0979 Class01: 0.1044 Class02: 0.1040 Class03: 0.1009 Class04: 0.1038 Class05: 0.1030 Class06: 0.1074 \n",
      "Class07: 0.0999 Class08: 0.1007 Class09: 0.1068 Class10: 0.1027 Class11: 0.1054 Class12: 0.1071 \n",
      "Label_2: IoU Scores Train\n",
      "Class00: 0.0825 Class01: 0.0876 Class02: 0.0874 Class03: 0.0854 Class04: 0.0868 Class05: 0.0861 Class06: 0.0896 \n",
      "Class07: 0.0845 Class08: 0.0849 Class09: 0.0893 Class10: 0.0864 Class11: 0.0880 Class12: 0.0899 \n",
      "Label_3: IoU Scores Train\n",
      "Class00: 0.0738 Class01: 0.0776 Class02: 0.0784 Class03: 0.0765 Class04: 0.0776 Class05: 0.0764 Class06: 0.0793 \n",
      "Class07: 0.0756 Class08: 0.0759 Class09: 0.0790 Class10: 0.0771 Class11: 0.0785 Class12: 0.0801 \n",
      "Train seg Loss: 0.5355286647066257 Train dom Loss: 1261.6567618175764\n",
      "Train Loss: 0.661694338761162\n",
      "Train mIoU: 0.13693108508562657\n"
     ]
    },
    {
     "name": "stderr",
     "output_type": "stream",
     "text": [
      "100%|██████████| 30/30 [00:09<00:00,  3.04it/s]\n"
     ]
    },
    {
     "name": "stdout",
     "output_type": "stream",
     "text": [
      "\n",
      "--IoU Scores Fish val--\n",
      "Class0: 0.2864 Class1: 0.2307 Class2: 0.2700 Class3: 0.2896 Class4: 0.2396 Class5: 0.2677 Class6: 0.3026 \n",
      "Class7: 0.2200 Class8: 0.2640 Class9: 0.2702 Class10: 0.2501 Class11: 0.2490 Class12: 0.2793 \n",
      "Epoch79\n",
      "Valid Seg Loss: 0.593735941251119 Valid dom Loss: 5147.781770833333\n",
      "Valid Loss: 1.1085141023000082\n",
      "Valid mIoU: 0.26301248113999903\n",
      "___________________________________________________________________________________________\n",
      "\n"
     ]
    },
    {
     "name": "stderr",
     "output_type": "stream",
     "text": [
      "Epoch: 80: 100%|██████████| 138/138 [04:59<00:00,  2.17s/it]\n"
     ]
    },
    {
     "name": "stdout",
     "output_type": "stream",
     "text": [
      "\n",
      "Label_0: IoU Scores Train\n",
      "Class00: 0.2882 Class01: 0.2824 Class02: 0.2344 Class03: 0.2767 Class04: 0.3034 Class05: 0.2903 Class06: 0.2608 \n",
      "Class07: 0.2885 Class08: 0.2910 Class09: 0.2964 Class10: 0.2943 Class11: 0.3016 Class12: 0.2968 \n",
      "Label_1: IoU Scores Train\n",
      "Class00: 0.1051 Class01: 0.1052 Class02: 0.0957 Class03: 0.0983 Class04: 0.1040 Class05: 0.1051 Class06: 0.1061 \n",
      "Class07: 0.1034 Class08: 0.1048 Class09: 0.1084 Class10: 0.1065 Class11: 0.1082 Class12: 0.1059 \n",
      "Label_2: IoU Scores Train\n",
      "Class00: 0.0887 Class01: 0.0890 Class02: 0.0811 Class03: 0.0830 Class04: 0.0872 Class05: 0.0877 Class06: 0.0881 \n",
      "Class07: 0.0866 Class08: 0.0878 Class09: 0.0912 Class10: 0.0893 Class11: 0.0905 Class12: 0.0877 \n",
      "Label_3: IoU Scores Train\n",
      "Class00: 0.0793 Class01: 0.0798 Class02: 0.0703 Class03: 0.0746 Class04: 0.0785 Class05: 0.0776 Class06: 0.0783 \n",
      "Class07: 0.0774 Class08: 0.0787 Class09: 0.0813 Class10: 0.0799 Class11: 0.0807 Class12: 0.0780 \n",
      "Train seg Loss: 0.5499328655879134 Train dom Loss: 1142.492604393998\n",
      "Train Loss: 0.6641821232556865\n",
      "Train mIoU: 0.13873023424107914\n"
     ]
    },
    {
     "name": "stderr",
     "output_type": "stream",
     "text": [
      "100%|██████████| 30/30 [00:09<00:00,  3.06it/s]\n"
     ]
    },
    {
     "name": "stdout",
     "output_type": "stream",
     "text": [
      "\n",
      "--IoU Scores Fish val--\n",
      "Class0: 0.2818 Class1: 0.2218 Class2: 0.2632 Class3: 0.2842 Class4: 0.2333 Class5: 0.2651 Class6: 0.2878 \n",
      "Class7: 0.2146 Class8: 0.2621 Class9: 0.2553 Class10: 0.2458 Class11: 0.2392 Class12: 0.2737 \n",
      "Epoch80\n",
      "Valid Seg Loss: 0.33521971305211384 Valid dom Loss: 2817.8723958333335\n",
      "Valid Loss: 0.6170069475968679\n",
      "Valid mIoU: 0.2559925310746128\n",
      "___________________________________________________________________________________________\n",
      "\n"
     ]
    },
    {
     "name": "stderr",
     "output_type": "stream",
     "text": [
      "Epoch: 81: 100%|██████████| 138/138 [04:59<00:00,  2.17s/it]\n"
     ]
    },
    {
     "name": "stdout",
     "output_type": "stream",
     "text": [
      "\n",
      "Label_0: IoU Scores Train\n",
      "Class00: 0.2711 Class01: 0.3101 Class02: 0.2985 Class03: 0.2913 Class04: 0.3041 Class05: 0.3007 Class06: 0.2926 \n",
      "Class07: 0.2890 Class08: 0.2987 Class09: 0.3036 Class10: 0.3043 Class11: 0.2760 Class12: 0.2813 \n",
      "Label_1: IoU Scores Train\n",
      "Class00: 0.1026 Class01: 0.1114 Class02: 0.1060 Class03: 0.1080 Class04: 0.1081 Class05: 0.1085 Class06: 0.1106 \n",
      "Class07: 0.1052 Class08: 0.1111 Class09: 0.1107 Class10: 0.1095 Class11: 0.1091 Class12: 0.1042 \n",
      "Label_2: IoU Scores Train\n",
      "Class00: 0.0866 Class01: 0.0929 Class02: 0.0893 Class03: 0.0904 Class04: 0.0906 Class05: 0.0912 Class06: 0.0924 \n",
      "Class07: 0.0884 Class08: 0.0930 Class09: 0.0926 Class10: 0.0914 Class11: 0.0905 Class12: 0.0880 \n",
      "Label_3: IoU Scores Train\n",
      "Class00: 0.0771 Class01: 0.0828 Class02: 0.0796 Class03: 0.0806 Class04: 0.0814 Class05: 0.0810 Class06: 0.0821 \n",
      "Class07: 0.0789 Class08: 0.0823 Class09: 0.0827 Class10: 0.0813 Class11: 0.0796 Class12: 0.0787 \n",
      "Train seg Loss: 0.47767764286718506 Train dom Loss: 1432.1257117275095\n",
      "Train Loss: 0.6208902104501275\n",
      "Train mIoU: 0.1433069053759351\n"
     ]
    },
    {
     "name": "stderr",
     "output_type": "stream",
     "text": [
      "100%|██████████| 30/30 [00:09<00:00,  3.06it/s]\n"
     ]
    },
    {
     "name": "stdout",
     "output_type": "stream",
     "text": [
      "\n",
      "--IoU Scores Fish val--\n",
      "Class0: 0.3095 Class1: 0.2420 Class2: 0.2872 Class3: 0.3121 Class4: 0.2663 Class5: 0.2924 Class6: 0.3185 \n",
      "Class7: 0.2397 Class8: 0.2907 Class9: 0.2837 Class10: 0.2742 Class11: 0.2708 Class12: 0.2975 \n",
      "Epoch81\n",
      "Valid Seg Loss: 0.28116200069586433 Valid dom Loss: 250.47682539128195\n",
      "Valid Loss: 0.3062096829215685\n",
      "Valid mIoU: 0.2834358166812374\n",
      "___________________________________________________________________________________________\n",
      "\n"
     ]
    },
    {
     "name": "stderr",
     "output_type": "stream",
     "text": [
      "Epoch: 82: 100%|██████████| 138/138 [04:59<00:00,  2.17s/it]\n"
     ]
    },
    {
     "name": "stdout",
     "output_type": "stream",
     "text": [
      "\n",
      "Label_0: IoU Scores Train\n",
      "Class00: 0.2859 Class01: 0.3093 Class02: 0.3005 Class03: 0.2973 Class04: 0.3107 Class05: 0.3034 Class06: 0.3089 \n",
      "Class07: 0.2658 Class08: 0.3033 Class09: 0.3205 Class10: 0.3155 Class11: 0.2844 Class12: 0.2918 \n",
      "Label_1: IoU Scores Train\n",
      "Class00: 0.1062 Class01: 0.1122 Class02: 0.1106 Class03: 0.1062 Class04: 0.1107 Class05: 0.1109 Class06: 0.1112 \n",
      "Class07: 0.1054 Class08: 0.1101 Class09: 0.1151 Class10: 0.1121 Class11: 0.1062 Class12: 0.1056 \n",
      "Label_2: IoU Scores Train\n",
      "Class00: 0.0884 Class01: 0.0930 Class02: 0.0919 Class03: 0.0899 Class04: 0.0929 Class05: 0.0924 Class06: 0.0926 \n",
      "Class07: 0.0885 Class08: 0.0926 Class09: 0.0957 Class10: 0.0931 Class11: 0.0886 Class12: 0.0884 \n",
      "Label_3: IoU Scores Train\n",
      "Class00: 0.0790 Class01: 0.0829 Class02: 0.0811 Class03: 0.0802 Class04: 0.0831 Class05: 0.0822 Class06: 0.0820 \n",
      "Class07: 0.0791 Class08: 0.0831 Class09: 0.0855 Class10: 0.0824 Class11: 0.0789 Class12: 0.0793 \n",
      "Train seg Loss: 0.49083155021071434 Train dom Loss: 1742.1989942702694\n",
      "Train Loss: 0.6650514452569727\n",
      "Train mIoU: 0.14550711544311923\n"
     ]
    },
    {
     "name": "stderr",
     "output_type": "stream",
     "text": [
      "100%|██████████| 30/30 [00:09<00:00,  3.03it/s]\n"
     ]
    },
    {
     "name": "stdout",
     "output_type": "stream",
     "text": [
      "\n",
      "--IoU Scores Fish val--\n",
      "Class0: 0.2910 Class1: 0.2320 Class2: 0.2818 Class3: 0.2938 Class4: 0.2477 Class5: 0.2770 Class6: 0.2937 \n",
      "Class7: 0.2306 Class8: 0.2803 Class9: 0.2702 Class10: 0.2509 Class11: 0.2594 Class12: 0.2821 \n",
      "Epoch82\n",
      "Valid Seg Loss: 0.4666032234827677 Valid dom Loss: 2097.64921875\n",
      "Valid Loss: 0.6763681471347809\n",
      "Valid mIoU: 0.2685113947127651\n",
      "___________________________________________________________________________________________\n",
      "\n"
     ]
    },
    {
     "name": "stderr",
     "output_type": "stream",
     "text": [
      "Epoch: 83: 100%|██████████| 138/138 [04:59<00:00,  2.17s/it]\n"
     ]
    },
    {
     "name": "stdout",
     "output_type": "stream",
     "text": [
      "\n",
      "Label_0: IoU Scores Train\n",
      "Class00: 0.2893 Class01: 0.3044 Class02: 0.3168 Class03: 0.3041 Class04: 0.3091 Class05: 0.3061 Class06: 0.3250 \n",
      "Class07: 0.3040 Class08: 0.2883 Class09: 0.3177 Class10: 0.2942 Class11: 0.3240 Class12: 0.3010 \n",
      "Label_1: IoU Scores Train\n",
      "Class00: 0.1073 Class01: 0.1138 Class02: 0.1118 Class03: 0.1087 Class04: 0.1125 Class05: 0.1100 Class06: 0.1148 \n",
      "Class07: 0.1082 Class08: 0.1083 Class09: 0.1132 Class10: 0.1096 Class11: 0.1123 Class12: 0.1115 \n",
      "Label_2: IoU Scores Train\n",
      "Class00: 0.0897 Class01: 0.0953 Class02: 0.0942 Class03: 0.0908 Class04: 0.0944 Class05: 0.0919 Class06: 0.0960 \n",
      "Class07: 0.0900 Class08: 0.0910 Class09: 0.0950 Class10: 0.0917 Class11: 0.0936 Class12: 0.0924 \n",
      "Label_3: IoU Scores Train\n",
      "Class00: 0.0807 Class01: 0.0848 Class02: 0.0838 Class03: 0.0808 Class04: 0.0841 Class05: 0.0818 Class06: 0.0855 \n",
      "Class07: 0.0798 Class08: 0.0812 Class09: 0.0851 Class10: 0.0816 Class11: 0.0831 Class12: 0.0821 \n",
      "Train seg Loss: 0.4792087164747974 Train dom Loss: 1745.940027439076\n",
      "Train Loss: 0.6538027138111816\n",
      "Train mIoU: 0.14819897994795325\n"
     ]
    },
    {
     "name": "stderr",
     "output_type": "stream",
     "text": [
      "100%|██████████| 30/30 [00:09<00:00,  3.07it/s]\n"
     ]
    },
    {
     "name": "stdout",
     "output_type": "stream",
     "text": [
      "\n",
      "--IoU Scores Fish val--\n",
      "Class0: 0.2944 Class1: 0.2346 Class2: 0.2884 Class3: 0.2947 Class4: 0.2555 Class5: 0.2839 Class6: 0.2954 \n",
      "Class7: 0.2344 Class8: 0.2840 Class9: 0.2727 Class10: 0.2542 Class11: 0.2602 Class12: 0.2872 \n",
      "Epoch83\n",
      "Valid Seg Loss: 0.3123108128706614 Valid dom Loss: 2108.7042521158855\n",
      "Valid Loss: 0.5231812338034312\n",
      "Valid mIoU: 0.272277709446278\n",
      "___________________________________________________________________________________________\n",
      "\n"
     ]
    },
    {
     "name": "stderr",
     "output_type": "stream",
     "text": [
      "Epoch: 84: 100%|██████████| 138/138 [04:59<00:00,  2.17s/it]\n"
     ]
    },
    {
     "name": "stdout",
     "output_type": "stream",
     "text": [
      "\n",
      "Label_0: IoU Scores Train\n",
      "Class00: 0.3203 Class01: 0.3206 Class02: 0.3084 Class03: 0.2803 Class04: 0.3292 Class05: 0.3257 Class06: 0.3236 \n",
      "Class07: 0.3212 Class08: 0.2986 Class09: 0.3301 Class10: 0.3256 Class11: 0.3091 Class12: 0.3113 \n",
      "Label_1: IoU Scores Train\n",
      "Class00: 0.1143 Class01: 0.1148 Class02: 0.1110 Class03: 0.1070 Class04: 0.1134 Class05: 0.1151 Class06: 0.1183 \n",
      "Class07: 0.1157 Class08: 0.1083 Class09: 0.1144 Class10: 0.1154 Class11: 0.1140 Class12: 0.1148 \n",
      "Label_2: IoU Scores Train\n",
      "Class00: 0.0957 Class01: 0.0953 Class02: 0.0924 Class03: 0.0890 Class04: 0.0951 Class05: 0.0959 Class06: 0.0988 \n",
      "Class07: 0.0961 Class08: 0.0902 Class09: 0.0953 Class10: 0.0956 Class11: 0.0950 Class12: 0.0950 \n",
      "Label_3: IoU Scores Train\n",
      "Class00: 0.0852 Class01: 0.0844 Class02: 0.0828 Class03: 0.0798 Class04: 0.0855 Class05: 0.0856 Class06: 0.0881 \n",
      "Class07: 0.0855 Class08: 0.0804 Class09: 0.0852 Class10: 0.0851 Class11: 0.0843 Class12: 0.0844 \n",
      "Train seg Loss: 0.45587121163481387 Train dom Loss: 1408.0519503614178\n",
      "Train Loss: 0.5966764048443757\n",
      "Train mIoU: 0.1520422947692453\n"
     ]
    },
    {
     "name": "stderr",
     "output_type": "stream",
     "text": [
      "100%|██████████| 30/30 [00:10<00:00,  2.98it/s]\n"
     ]
    },
    {
     "name": "stdout",
     "output_type": "stream",
     "text": [
      "\n",
      "--IoU Scores Fish val--\n",
      "Class0: 0.3126 Class1: 0.2471 Class2: 0.2929 Class3: 0.3102 Class4: 0.2563 Class5: 0.2904 Class6: 0.3136 \n",
      "Class7: 0.2476 Class8: 0.2901 Class9: 0.2850 Class10: 0.2750 Class11: 0.2673 Class12: 0.2889 \n",
      "Epoch84\n",
      "Valid Seg Loss: 0.4094946593046188 Valid dom Loss: 3012.370052083333\n",
      "Valid Loss: 0.7107316593329112\n",
      "Valid mIoU: 0.2828581037834707\n",
      "___________________________________________________________________________________________\n",
      "\n"
     ]
    },
    {
     "name": "stderr",
     "output_type": "stream",
     "text": [
      "Epoch: 85: 100%|██████████| 138/138 [05:01<00:00,  2.18s/it]\n"
     ]
    },
    {
     "name": "stdout",
     "output_type": "stream",
     "text": [
      "\n",
      "Label_0: IoU Scores Train\n",
      "Class00: 0.3172 Class01: 0.3392 Class02: 0.3302 Class03: 0.3234 Class04: 0.3151 Class05: 0.2965 Class06: 0.3255 \n",
      "Class07: 0.3324 Class08: 0.3124 Class09: 0.3179 Class10: 0.3232 Class11: 0.3263 Class12: 0.3156 \n",
      "Label_1: IoU Scores Train\n",
      "Class00: 0.1146 Class01: 0.1185 Class02: 0.1133 Class03: 0.1159 Class04: 0.1162 Class05: 0.1153 Class06: 0.1180 \n",
      "Class07: 0.1157 Class08: 0.1154 Class09: 0.1167 Class10: 0.1141 Class11: 0.1167 Class12: 0.1126 \n",
      "Label_2: IoU Scores Train\n",
      "Class00: 0.0946 Class01: 0.0978 Class02: 0.0937 Class03: 0.0964 Class04: 0.0971 Class05: 0.0946 Class06: 0.0979 \n",
      "Class07: 0.0953 Class08: 0.0954 Class09: 0.0974 Class10: 0.0943 Class11: 0.0961 Class12: 0.0938 \n",
      "Label_3: IoU Scores Train\n",
      "Class00: 0.0844 Class01: 0.0869 Class02: 0.0833 Class03: 0.0858 Class04: 0.0868 Class05: 0.0841 Class06: 0.0874 \n",
      "Class07: 0.0846 Class08: 0.0839 Class09: 0.0869 Class10: 0.0842 Class11: 0.0856 Class12: 0.0839 \n",
      "Train seg Loss: 0.44800538753253827 Train dom Loss: 1156.8556046356325\n",
      "Train Loss: 0.5636909442913273\n",
      "Train mIoU: 0.1544271384407476\n"
     ]
    },
    {
     "name": "stderr",
     "output_type": "stream",
     "text": [
      "100%|██████████| 30/30 [00:10<00:00,  2.95it/s]\n"
     ]
    },
    {
     "name": "stdout",
     "output_type": "stream",
     "text": [
      "\n",
      "--IoU Scores Fish val--\n",
      "Class0: 0.3276 Class1: 0.2642 Class2: 0.3138 Class3: 0.3362 Class4: 0.2826 Class5: 0.3150 Class6: 0.3445 \n",
      "Class7: 0.2632 Class8: 0.3112 Class9: 0.3099 Class10: 0.2910 Class11: 0.2922 Class12: 0.3151 \n",
      "Epoch85\n",
      "Valid Seg Loss: 0.2602679401636124 Valid dom Loss: 3760.051822916667\n",
      "Valid Loss: 0.6362731099128723\n",
      "Valid mIoU: 0.3051116143062904\n",
      "___________________________________________________________________________________________\n",
      "\n"
     ]
    },
    {
     "name": "stderr",
     "output_type": "stream",
     "text": [
      "Epoch: 86: 100%|██████████| 138/138 [05:00<00:00,  2.18s/it]\n"
     ]
    },
    {
     "name": "stdout",
     "output_type": "stream",
     "text": [
      "\n",
      "Label_0: IoU Scores Train\n",
      "Class00: 0.3333 Class01: 0.3486 Class02: 0.3232 Class03: 0.2999 Class04: 0.3419 Class05: 0.3365 Class06: 0.3399 \n",
      "Class07: 0.3202 Class08: 0.3407 Class09: 0.3377 Class10: 0.2710 Class11: 0.3204 Class12: 0.3352 \n",
      "Label_1: IoU Scores Train\n",
      "Class00: 0.1162 Class01: 0.1240 Class02: 0.1171 Class03: 0.1155 Class04: 0.1173 Class05: 0.1192 Class06: 0.1224 \n",
      "Class07: 0.1107 Class08: 0.1178 Class09: 0.1207 Class10: 0.1110 Class11: 0.1099 Class12: 0.1127 \n",
      "Label_2: IoU Scores Train\n",
      "Class00: 0.0960 Class01: 0.1030 Class02: 0.0975 Class03: 0.0955 Class04: 0.0971 Class05: 0.0989 Class06: 0.1017 \n",
      "Class07: 0.0930 Class08: 0.0985 Class09: 0.1002 Class10: 0.0914 Class11: 0.0915 Class12: 0.0943 \n",
      "Label_3: IoU Scores Train\n",
      "Class00: 0.0854 Class01: 0.0918 Class02: 0.0871 Class03: 0.0861 Class04: 0.0868 Class05: 0.0879 Class06: 0.0905 \n",
      "Class07: 0.0830 Class08: 0.0879 Class09: 0.0890 Class10: 0.0810 Class11: 0.0820 Class12: 0.0844 \n",
      "Train seg Loss: 0.458307862146825 Train dom Loss: 828.1350780639095\n",
      "Train Loss: 0.5411213676890602\n",
      "Train mIoU: 0.1566257911785047\n"
     ]
    },
    {
     "name": "stderr",
     "output_type": "stream",
     "text": [
      "100%|██████████| 30/30 [00:10<00:00,  2.99it/s]\n"
     ]
    },
    {
     "name": "stdout",
     "output_type": "stream",
     "text": [
      "\n",
      "--IoU Scores Fish val--\n",
      "Class0: 0.3000 Class1: 0.2314 Class2: 0.2818 Class3: 0.3054 Class4: 0.2622 Class5: 0.2829 Class6: 0.3080 \n",
      "Class7: 0.2307 Class8: 0.2844 Class9: 0.2724 Class10: 0.2640 Class11: 0.2621 Class12: 0.2984 \n",
      "Epoch86\n",
      "Valid Seg Loss: 0.346491140127182 Valid dom Loss: 190.26119283040364\n",
      "Valid Loss: 0.36551725963751475\n",
      "Valid mIoU: 0.27566183119869125\n",
      "___________________________________________________________________________________________\n",
      "\n"
     ]
    },
    {
     "name": "stderr",
     "output_type": "stream",
     "text": [
      "Epoch: 87: 100%|██████████| 138/138 [04:59<00:00,  2.17s/it]\n"
     ]
    },
    {
     "name": "stdout",
     "output_type": "stream",
     "text": [
      "\n",
      "Label_0: IoU Scores Train\n",
      "Class00: 0.3354 Class01: 0.3524 Class02: 0.3458 Class03: 0.3461 Class04: 0.3567 Class05: 0.3453 Class06: 0.3685 \n",
      "Class07: 0.3440 Class08: 0.3536 Class09: 0.3583 Class10: 0.3577 Class11: 0.3573 Class12: 0.3591 \n",
      "Label_1: IoU Scores Train\n",
      "Class00: 0.1147 Class01: 0.1163 Class02: 0.1148 Class03: 0.1173 Class04: 0.1214 Class05: 0.1182 Class06: 0.1237 \n",
      "Class07: 0.1177 Class08: 0.1238 Class09: 0.1246 Class10: 0.1199 Class11: 0.1232 Class12: 0.1259 \n",
      "Label_2: IoU Scores Train\n",
      "Class00: 0.0958 Class01: 0.0968 Class02: 0.0957 Class03: 0.0976 Class04: 0.1012 Class05: 0.0985 Class06: 0.1029 \n",
      "Class07: 0.0979 Class08: 0.1029 Class09: 0.1037 Class10: 0.0994 Class11: 0.1031 Class12: 0.1034 \n",
      "Label_3: IoU Scores Train\n",
      "Class00: 0.0859 Class01: 0.0867 Class02: 0.0858 Class03: 0.0870 Class04: 0.0903 Class05: 0.0878 Class06: 0.0918 \n",
      "Class07: 0.0871 Class08: 0.0920 Class09: 0.0922 Class10: 0.0885 Class11: 0.0921 Class12: 0.0924 \n",
      "Train seg Loss: 0.3471082762099694 Train dom Loss: 20.464302611847717\n",
      "Train Loss: 0.34915470639648644\n",
      "Train mIoU: 0.16539364074217797\n"
     ]
    },
    {
     "name": "stderr",
     "output_type": "stream",
     "text": [
      "100%|██████████| 30/30 [00:09<00:00,  3.06it/s]\n"
     ]
    },
    {
     "name": "stdout",
     "output_type": "stream",
     "text": [
      "\n",
      "--IoU Scores Fish val--\n",
      "Class0: 0.3294 Class1: 0.2586 Class2: 0.3156 Class3: 0.3299 Class4: 0.2869 Class5: 0.3135 Class6: 0.3383 \n",
      "Class7: 0.2620 Class8: 0.3114 Class9: 0.3051 Class10: 0.2853 Class11: 0.2938 Class12: 0.3202 \n",
      "Epoch87\n",
      "Valid Seg Loss: 0.24508776913086575 Valid dom Loss: 11.92435196240743\n",
      "Valid Loss: 0.24628020425637562\n",
      "Valid mIoU: 0.30385500702482154\n",
      "___________________________________________________________________________________________\n",
      "\n"
     ]
    },
    {
     "name": "stderr",
     "output_type": "stream",
     "text": [
      "Epoch: 88: 100%|██████████| 138/138 [04:59<00:00,  2.17s/it]\n"
     ]
    },
    {
     "name": "stdout",
     "output_type": "stream",
     "text": [
      "\n",
      "Label_0: IoU Scores Train\n",
      "Class00: 0.3596 Class01: 0.3679 Class02: 0.3518 Class03: 0.3620 Class04: 0.3710 Class05: 0.3541 Class06: 0.3663 \n",
      "Class07: 0.3540 Class08: 0.3694 Class09: 0.3749 Class10: 0.3615 Class11: 0.3654 Class12: 0.3562 \n",
      "Label_1: IoU Scores Train\n",
      "Class00: 0.1243 Class01: 0.1247 Class02: 0.1245 Class03: 0.1235 Class04: 0.1273 Class05: 0.1220 Class06: 0.1270 \n",
      "Class07: 0.1232 Class08: 0.1261 Class09: 0.1269 Class10: 0.1252 Class11: 0.1250 Class12: 0.1233 \n",
      "Label_2: IoU Scores Train\n",
      "Class00: 0.1035 Class01: 0.1035 Class02: 0.1042 Class03: 0.1032 Class04: 0.1065 Class05: 0.1020 Class06: 0.1056 \n",
      "Class07: 0.1026 Class08: 0.1049 Class09: 0.1052 Class10: 0.1039 Class11: 0.1035 Class12: 0.1026 \n",
      "Label_3: IoU Scores Train\n",
      "Class00: 0.0924 Class01: 0.0922 Class02: 0.0929 Class03: 0.0920 Class04: 0.0950 Class05: 0.0911 Class06: 0.0940 \n",
      "Class07: 0.0916 Class08: 0.0935 Class09: 0.0940 Class10: 0.0926 Class11: 0.0922 Class12: 0.0917 \n",
      "Train seg Loss: 0.3154705373057421 Train dom Loss: 3.2458761021042704\n",
      "Train Loss: 0.31579512560173223\n",
      "Train mIoU: 0.17102615425761358\n"
     ]
    },
    {
     "name": "stderr",
     "output_type": "stream",
     "text": [
      "100%|██████████| 30/30 [00:09<00:00,  3.09it/s]\n"
     ]
    },
    {
     "name": "stdout",
     "output_type": "stream",
     "text": [
      "\n",
      "--IoU Scores Fish val--\n",
      "Class0: 0.3479 Class1: 0.2774 Class2: 0.3363 Class3: 0.3523 Class4: 0.2983 Class5: 0.3260 Class6: 0.3585 \n",
      "Class7: 0.2794 Class8: 0.3292 Class9: 0.3203 Class10: 0.2988 Class11: 0.3097 Class12: 0.3332 \n",
      "Epoch88\n",
      "Valid Seg Loss: 0.23252853751182556 Valid dom Loss: 7.572231912612915\n",
      "Valid Loss: 0.23328575988610586\n",
      "Valid mIoU: 0.32056422066748563\n",
      "___________________________________________________________________________________________\n",
      "\n"
     ]
    },
    {
     "name": "stderr",
     "output_type": "stream",
     "text": [
      "Epoch: 89: 100%|██████████| 138/138 [04:58<00:00,  2.16s/it]\n"
     ]
    },
    {
     "name": "stdout",
     "output_type": "stream",
     "text": [
      "\n",
      "Label_0: IoU Scores Train\n",
      "Class00: 0.3521 Class01: 0.3648 Class02: 0.3718 Class03: 0.3710 Class04: 0.3674 Class05: 0.3731 Class06: 0.3742 \n",
      "Class07: 0.3717 Class08: 0.3684 Class09: 0.3842 Class10: 0.3770 Class11: 0.3564 Class12: 0.3724 \n",
      "Label_1: IoU Scores Train\n",
      "Class00: 0.1235 Class01: 0.1266 Class02: 0.1278 Class03: 0.1297 Class04: 0.1252 Class05: 0.1253 Class06: 0.1290 \n",
      "Class07: 0.1249 Class08: 0.1288 Class09: 0.1310 Class10: 0.1275 Class11: 0.1235 Class12: 0.1318 \n",
      "Label_2: IoU Scores Train\n",
      "Class00: 0.1026 Class01: 0.1058 Class02: 0.1058 Class03: 0.1079 Class04: 0.1045 Class05: 0.1037 Class06: 0.1077 \n",
      "Class07: 0.1032 Class08: 0.1070 Class09: 0.1085 Class10: 0.1049 Class11: 0.1029 Class12: 0.1094 \n",
      "Label_3: IoU Scores Train\n",
      "Class00: 0.0918 Class01: 0.0948 Class02: 0.0940 Class03: 0.0962 Class04: 0.0933 Class05: 0.0922 Class06: 0.0963 \n",
      "Class07: 0.0919 Class08: 0.0955 Class09: 0.0965 Class10: 0.0933 Class11: 0.0918 Class12: 0.0974 \n",
      "Train seg Loss: 0.30422178410209605 Train dom Loss: 1.8756328941039417\n",
      "Train Loss: 0.304409347096647\n",
      "Train mIoU: 0.17420122097511803\n"
     ]
    },
    {
     "name": "stderr",
     "output_type": "stream",
     "text": [
      "100%|██████████| 30/30 [00:09<00:00,  3.07it/s]\n"
     ]
    },
    {
     "name": "stdout",
     "output_type": "stream",
     "text": [
      "\n",
      "--IoU Scores Fish val--\n",
      "Class0: 0.3511 Class1: 0.2744 Class2: 0.3259 Class3: 0.3557 Class4: 0.2981 Class5: 0.3238 Class6: 0.3594 \n",
      "Class7: 0.2737 Class8: 0.3265 Class9: 0.3180 Class10: 0.3102 Class11: 0.3060 Class12: 0.3313 \n",
      "Epoch89\n",
      "Valid Seg Loss: 0.22521366477012633 Valid dom Loss: 6.255526208877564\n",
      "Valid Loss: 0.2258392170071602\n",
      "Valid mIoU: 0.3195406543702702\n",
      "___________________________________________________________________________________________\n",
      "\n"
     ]
    },
    {
     "name": "stderr",
     "output_type": "stream",
     "text": [
      "Epoch: 90: 100%|██████████| 138/138 [04:58<00:00,  2.17s/it]\n"
     ]
    },
    {
     "name": "stdout",
     "output_type": "stream",
     "text": [
      "\n",
      "Label_0: IoU Scores Train\n",
      "Class00: 0.3738 Class01: 0.3694 Class02: 0.3743 Class03: 0.3854 Class04: 0.3905 Class05: 0.3797 Class06: 0.3834 \n",
      "Class07: 0.3600 Class08: 0.3849 Class09: 0.3809 Class10: 0.3799 Class11: 0.3725 Class12: 0.3720 \n",
      "Label_1: IoU Scores Train\n",
      "Class00: 0.1271 Class01: 0.1287 Class02: 0.1309 Class03: 0.1315 Class04: 0.1339 Class05: 0.1307 Class06: 0.1348 \n",
      "Class07: 0.1261 Class08: 0.1301 Class09: 0.1302 Class10: 0.1308 Class11: 0.1298 Class12: 0.1289 \n",
      "Label_2: IoU Scores Train\n",
      "Class00: 0.1056 Class01: 0.1065 Class02: 0.1086 Class03: 0.1092 Class04: 0.1113 Class05: 0.1077 Class06: 0.1112 \n",
      "Class07: 0.1047 Class08: 0.1079 Class09: 0.1077 Class10: 0.1083 Class11: 0.1074 Class12: 0.1071 \n",
      "Label_3: IoU Scores Train\n",
      "Class00: 0.0941 Class01: 0.0952 Class02: 0.0965 Class03: 0.0974 Class04: 0.0990 Class05: 0.0957 Class06: 0.0987 \n",
      "Class07: 0.0933 Class08: 0.0961 Class09: 0.0959 Class10: 0.0965 Class11: 0.0955 Class12: 0.0955 \n",
      "Train seg Loss: 0.2934862812306138 Train dom Loss: 1.2142614409280266\n",
      "Train Loss: 0.29360770758079446\n",
      "Train mIoU: 0.17793411314706056\n"
     ]
    },
    {
     "name": "stderr",
     "output_type": "stream",
     "text": [
      "100%|██████████| 30/30 [00:09<00:00,  3.00it/s]\n"
     ]
    },
    {
     "name": "stdout",
     "output_type": "stream",
     "text": [
      "\n",
      "--IoU Scores Fish val--\n",
      "Class0: 0.3421 Class1: 0.2776 Class2: 0.3324 Class3: 0.3422 Class4: 0.2922 Class5: 0.3176 Class6: 0.3509 \n",
      "Class7: 0.2686 Class8: 0.3189 Class9: 0.3166 Class10: 0.2939 Class11: 0.3005 Class12: 0.3244 \n",
      "Epoch90\n",
      "Valid Seg Loss: 0.23863573372364044 Valid dom Loss: 8.154493792851765\n",
      "Valid Loss: 0.23945118387540182\n",
      "Valid mIoU: 0.31367640875236263\n",
      "___________________________________________________________________________________________\n",
      "\n"
     ]
    },
    {
     "name": "stderr",
     "output_type": "stream",
     "text": [
      "Epoch: 91: 100%|██████████| 138/138 [04:58<00:00,  2.17s/it]\n"
     ]
    },
    {
     "name": "stdout",
     "output_type": "stream",
     "text": [
      "\n",
      "Label_0: IoU Scores Train\n",
      "Class00: 0.3767 Class01: 0.3831 Class02: 0.3863 Class03: 0.3790 Class04: 0.3844 Class05: 0.3738 Class06: 0.3949 \n",
      "Class07: 0.3773 Class08: 0.3851 Class09: 0.3883 Class10: 0.3854 Class11: 0.3885 Class12: 0.3771 \n",
      "Label_1: IoU Scores Train\n",
      "Class00: 0.1292 Class01: 0.1312 Class02: 0.1335 Class03: 0.1311 Class04: 0.1308 Class05: 0.1281 Class06: 0.1355 \n",
      "Class07: 0.1268 Class08: 0.1300 Class09: 0.1356 Class10: 0.1343 Class11: 0.1355 Class12: 0.1316 \n",
      "Label_2: IoU Scores Train\n",
      "Class00: 0.1069 Class01: 0.1086 Class02: 0.1106 Class03: 0.1084 Class04: 0.1090 Class05: 0.1054 Class06: 0.1118 \n",
      "Class07: 0.1047 Class08: 0.1073 Class09: 0.1123 Class10: 0.1113 Class11: 0.1119 Class12: 0.1092 \n",
      "Label_3: IoU Scores Train\n",
      "Class00: 0.0951 Class01: 0.0964 Class02: 0.0978 Class03: 0.0965 Class04: 0.0972 Class05: 0.0938 Class06: 0.0991 \n",
      "Class07: 0.0931 Class08: 0.0957 Class09: 0.1001 Class10: 0.0987 Class11: 0.0991 Class12: 0.0970 \n",
      "Train seg Loss: 0.2864354256054629 Train dom Loss: 1.0452862012493627\n",
      "Train Loss: 0.2865399540388498\n",
      "Train mIoU: 0.18019905787275708\n"
     ]
    },
    {
     "name": "stderr",
     "output_type": "stream",
     "text": [
      "100%|██████████| 30/30 [00:09<00:00,  3.06it/s]\n"
     ]
    },
    {
     "name": "stdout",
     "output_type": "stream",
     "text": [
      "\n",
      "--IoU Scores Fish val--\n",
      "Class0: 0.3199 Class1: 0.2442 Class2: 0.2847 Class3: 0.3300 Class4: 0.2761 Class5: 0.2923 Class6: 0.3333 \n",
      "Class7: 0.2432 Class8: 0.2912 Class9: 0.2924 Class10: 0.2802 Class11: 0.2834 Class12: 0.3022 \n",
      "Epoch91\n",
      "Valid Seg Loss: 0.26480524291594826 Valid dom Loss: 7.614264583587646\n",
      "Valid Loss: 0.2655666708946228\n",
      "Valid mIoU: 0.29023547485796225\n",
      "___________________________________________________________________________________________\n",
      "\n"
     ]
    },
    {
     "name": "stderr",
     "output_type": "stream",
     "text": [
      "Epoch: 92: 100%|██████████| 138/138 [04:58<00:00,  2.16s/it]\n"
     ]
    },
    {
     "name": "stdout",
     "output_type": "stream",
     "text": [
      "\n",
      "Label_0: IoU Scores Train\n",
      "Class00: 0.2287 Class01: 0.2995 Class02: 0.3236 Class03: 0.3269 Class04: 0.3539 Class05: 0.3489 Class06: 0.3557 \n",
      "Class07: 0.3659 Class08: 0.3679 Class09: 0.3767 Class10: 0.3619 Class11: 0.3788 Class12: 0.3640 \n",
      "Label_1: IoU Scores Train\n",
      "Class00: 0.1055 Class01: 0.1091 Class02: 0.1150 Class03: 0.1174 Class04: 0.1216 Class05: 0.1191 Class06: 0.1257 \n",
      "Class07: 0.1242 Class08: 0.1251 Class09: 0.1273 Class10: 0.1249 Class11: 0.1301 Class12: 0.1250 \n",
      "Label_2: IoU Scores Train\n",
      "Class00: 0.0887 Class01: 0.0922 Class02: 0.0967 Class03: 0.0982 Class04: 0.1015 Class05: 0.0990 Class06: 0.1044 \n",
      "Class07: 0.1033 Class08: 0.1038 Class09: 0.1056 Class10: 0.1038 Class11: 0.1077 Class12: 0.1045 \n",
      "Label_3: IoU Scores Train\n",
      "Class00: 0.0788 Class01: 0.0831 Class02: 0.0866 Class03: 0.0877 Class04: 0.0904 Class05: 0.0879 Class06: 0.0931 \n",
      "Class07: 0.0919 Class08: 0.0924 Class09: 0.0940 Class10: 0.0927 Class11: 0.0956 Class12: 0.0936 \n",
      "Train seg Loss: 0.40032878636881924 Train dom Loss: 4.39259402165898\n",
      "Train Loss: 0.40076804574093094\n",
      "Train mIoU: 0.16345245797762123\n"
     ]
    },
    {
     "name": "stderr",
     "output_type": "stream",
     "text": [
      "100%|██████████| 30/30 [00:09<00:00,  3.00it/s]\n"
     ]
    },
    {
     "name": "stdout",
     "output_type": "stream",
     "text": [
      "\n",
      "--IoU Scores Fish val--\n",
      "Class0: 0.3556 Class1: 0.2816 Class2: 0.3387 Class3: 0.3600 Class4: 0.2997 Class5: 0.3333 Class6: 0.3690 \n",
      "Class7: 0.2831 Class8: 0.3332 Class9: 0.3255 Class10: 0.3148 Class11: 0.3118 Class12: 0.3388 \n",
      "Epoch92\n",
      "Valid Seg Loss: 0.222755528986454 Valid dom Loss: 1.9287413716316224\n",
      "Valid Loss: 0.22294840117295583\n",
      "Valid mIoU: 0.3265442105297015\n",
      "___________________________________________________________________________________________\n",
      "\n"
     ]
    },
    {
     "name": "stderr",
     "output_type": "stream",
     "text": [
      "Epoch: 93: 100%|██████████| 138/138 [04:59<00:00,  2.17s/it]\n"
     ]
    },
    {
     "name": "stdout",
     "output_type": "stream",
     "text": [
      "\n",
      "Label_0: IoU Scores Train\n",
      "Class00: 0.3686 Class01: 0.3823 Class02: 0.3629 Class03: 0.3806 Class04: 0.3839 Class05: 0.3812 Class06: 0.3971 \n",
      "Class07: 0.3708 Class08: 0.3897 Class09: 0.3936 Class10: 0.3801 Class11: 0.3807 Class12: 0.3780 \n",
      "Label_1: IoU Scores Train\n",
      "Class00: 0.1275 Class01: 0.1338 Class02: 0.1265 Class03: 0.1323 Class04: 0.1318 Class05: 0.1302 Class06: 0.1344 \n",
      "Class07: 0.1288 Class08: 0.1314 Class09: 0.1355 Class10: 0.1309 Class11: 0.1313 Class12: 0.1314 \n",
      "Label_2: IoU Scores Train\n",
      "Class00: 0.1060 Class01: 0.1108 Class02: 0.1055 Class03: 0.1094 Class04: 0.1093 Class05: 0.1076 Class06: 0.1109 \n",
      "Class07: 0.1063 Class08: 0.1086 Class09: 0.1120 Class10: 0.1081 Class11: 0.1079 Class12: 0.1085 \n",
      "Label_3: IoU Scores Train\n",
      "Class00: 0.0940 Class01: 0.0982 Class02: 0.0938 Class03: 0.0968 Class04: 0.0974 Class05: 0.0954 Class06: 0.0986 \n",
      "Class07: 0.0942 Class08: 0.0963 Class09: 0.0994 Class10: 0.0959 Class11: 0.0960 Class12: 0.0965 \n",
      "Train seg Loss: 0.2903656480644924 Train dom Loss: 2.0495405038616257\n",
      "Train Loss: 0.29057060182094574\n",
      "Train mIoU: 0.17920491169513278\n"
     ]
    },
    {
     "name": "stderr",
     "output_type": "stream",
     "text": [
      "100%|██████████| 30/30 [00:09<00:00,  3.06it/s]\n"
     ]
    },
    {
     "name": "stdout",
     "output_type": "stream",
     "text": [
      "\n",
      "--IoU Scores Fish val--\n",
      "Class0: 0.3473 Class1: 0.2746 Class2: 0.3260 Class3: 0.3555 Class4: 0.2961 Class5: 0.3249 Class6: 0.3614 \n",
      "Class7: 0.2741 Class8: 0.3285 Class9: 0.3196 Class10: 0.3089 Class11: 0.3111 Class12: 0.3373 \n",
      "Epoch93\n",
      "Valid Seg Loss: 0.22625861565272012 Valid dom Loss: 5.351809072494507\n",
      "Valid Loss: 0.22679379632075627\n",
      "Valid mIoU: 0.3204064766182855\n",
      "___________________________________________________________________________________________\n",
      "\n"
     ]
    },
    {
     "name": "stderr",
     "output_type": "stream",
     "text": [
      "Epoch: 94: 100%|██████████| 138/138 [04:59<00:00,  2.17s/it]\n"
     ]
    },
    {
     "name": "stdout",
     "output_type": "stream",
     "text": [
      "\n",
      "Label_0: IoU Scores Train\n",
      "Class00: 0.3878 Class01: 0.4007 Class02: 0.3756 Class03: 0.3846 Class04: 0.3870 Class05: 0.3924 Class06: 0.3864 \n",
      "Class07: 0.3863 Class08: 0.3903 Class09: 0.4023 Class10: 0.3903 Class11: 0.3904 Class12: 0.3881 \n",
      "Label_1: IoU Scores Train\n",
      "Class00: 0.1336 Class01: 0.1352 Class02: 0.1305 Class03: 0.1306 Class04: 0.1346 Class05: 0.1325 Class06: 0.1356 \n",
      "Class07: 0.1356 Class08: 0.1346 Class09: 0.1366 Class10: 0.1352 Class11: 0.1360 Class12: 0.1376 \n",
      "Label_2: IoU Scores Train\n",
      "Class00: 0.1106 Class01: 0.1118 Class02: 0.1075 Class03: 0.1080 Class04: 0.1110 Class05: 0.1091 Class06: 0.1124 \n",
      "Class07: 0.1116 Class08: 0.1115 Class09: 0.1124 Class10: 0.1114 Class11: 0.1117 Class12: 0.1132 \n",
      "Label_3: IoU Scores Train\n",
      "Class00: 0.0982 Class01: 0.0994 Class02: 0.0953 Class03: 0.0958 Class04: 0.0980 Class05: 0.0965 Class06: 0.0996 \n",
      "Class07: 0.0988 Class08: 0.0990 Class09: 0.0994 Class10: 0.0982 Class11: 0.0990 Class12: 0.0998 \n",
      "Train seg Loss: 0.28057038862312184 Train dom Loss: 2.2932473489368483\n",
      "Train Loss: 0.2807997132557026\n",
      "Train mIoU: 0.18326231639544355\n"
     ]
    },
    {
     "name": "stderr",
     "output_type": "stream",
     "text": [
      "100%|██████████| 30/30 [00:09<00:00,  3.03it/s]\n"
     ]
    },
    {
     "name": "stdout",
     "output_type": "stream",
     "text": [
      "\n",
      "--IoU Scores Fish val--\n",
      "Class0: 0.3113 Class1: 0.2398 Class2: 0.2879 Class3: 0.3051 Class4: 0.2647 Class5: 0.2837 Class6: 0.3141 \n",
      "Class7: 0.2367 Class8: 0.2911 Class9: 0.2792 Class10: 0.2674 Class11: 0.2708 Class12: 0.3054 \n",
      "Epoch94\n",
      "Valid Seg Loss: 0.28520689556996026 Valid dom Loss: 1.8301113287607829\n",
      "Valid Loss: 0.285389902194341\n",
      "Valid mIoU: 0.2813291234229624\n",
      "___________________________________________________________________________________________\n",
      "\n"
     ]
    },
    {
     "name": "stderr",
     "output_type": "stream",
     "text": [
      "Epoch: 95: 100%|██████████| 138/138 [04:58<00:00,  2.16s/it]\n"
     ]
    },
    {
     "name": "stdout",
     "output_type": "stream",
     "text": [
      "\n",
      "Label_0: IoU Scores Train\n",
      "Class00: 0.3887 Class01: 0.4023 Class02: 0.3920 Class03: 0.3937 Class04: 0.3909 Class05: 0.4057 Class06: 0.4049 \n",
      "Class07: 0.4028 Class08: 0.3982 Class09: 0.4014 Class10: 0.4033 Class11: 0.3952 Class12: 0.3883 \n",
      "Label_1: IoU Scores Train\n",
      "Class00: 0.1361 Class01: 0.1387 Class02: 0.1353 Class03: 0.1362 Class04: 0.1342 Class05: 0.1355 Class06: 0.1424 \n",
      "Class07: 0.1348 Class08: 0.1381 Class09: 0.1409 Class10: 0.1398 Class11: 0.1355 Class12: 0.1326 \n",
      "Label_2: IoU Scores Train\n",
      "Class00: 0.1123 Class01: 0.1140 Class02: 0.1114 Class03: 0.1119 Class04: 0.1105 Class05: 0.1110 Class06: 0.1179 \n",
      "Class07: 0.1106 Class08: 0.1136 Class09: 0.1161 Class10: 0.1147 Class11: 0.1113 Class12: 0.1097 \n",
      "Label_3: IoU Scores Train\n",
      "Class00: 0.0992 Class01: 0.1009 Class02: 0.0985 Class03: 0.0985 Class04: 0.0980 Class05: 0.0980 Class06: 0.1045 \n",
      "Class07: 0.0979 Class08: 0.1003 Class09: 0.1025 Class10: 0.1011 Class11: 0.0986 Class12: 0.0979 \n",
      "Train seg Loss: 0.26987223127397936 Train dom Loss: 3.3104691747649904\n",
      "Train Loss: 0.2702032784404962\n",
      "Train mIoU: 0.18669443552372889\n"
     ]
    },
    {
     "name": "stderr",
     "output_type": "stream",
     "text": [
      "100%|██████████| 30/30 [00:09<00:00,  3.04it/s]\n"
     ]
    },
    {
     "name": "stdout",
     "output_type": "stream",
     "text": [
      "\n",
      "--IoU Scores Fish val--\n",
      "Class0: 0.2891 Class1: 0.2294 Class2: 0.2709 Class3: 0.2764 Class4: 0.2471 Class5: 0.2657 Class6: 0.2893 \n",
      "Class7: 0.2202 Class8: 0.2780 Class9: 0.2608 Class10: 0.2488 Class11: 0.2438 Class12: 0.2994 \n",
      "Epoch95\n",
      "Valid Seg Loss: 0.31852279752492907 Valid dom Loss: 1.1395143230756124\n",
      "Valid Loss: 0.3186367521683375\n",
      "Valid mIoU: 0.26300231350114317\n",
      "___________________________________________________________________________________________\n",
      "\n"
     ]
    },
    {
     "name": "stderr",
     "output_type": "stream",
     "text": [
      "Epoch: 96: 100%|██████████| 138/138 [05:00<00:00,  2.17s/it]\n"
     ]
    },
    {
     "name": "stdout",
     "output_type": "stream",
     "text": [
      "\n",
      "Label_0: IoU Scores Train\n",
      "Class00: 0.3935 Class01: 0.4166 Class02: 0.4055 Class03: 0.4033 Class04: 0.4011 Class05: 0.4065 Class06: 0.4164 \n",
      "Class07: 0.4026 Class08: 0.4163 Class09: 0.4160 Class10: 0.4038 Class11: 0.3891 Class12: 0.4024 \n",
      "Label_1: IoU Scores Train\n",
      "Class00: 0.1358 Class01: 0.1405 Class02: 0.1391 Class03: 0.1413 Class04: 0.1374 Class05: 0.1400 Class06: 0.1421 \n",
      "Class07: 0.1369 Class08: 0.1408 Class09: 0.1438 Class10: 0.1385 Class11: 0.1362 Class12: 0.1442 \n",
      "Label_2: IoU Scores Train\n",
      "Class00: 0.1111 Class01: 0.1151 Class02: 0.1141 Class03: 0.1163 Class04: 0.1128 Class05: 0.1153 Class06: 0.1172 \n",
      "Class07: 0.1125 Class08: 0.1151 Class09: 0.1174 Class10: 0.1141 Class11: 0.1118 Class12: 0.1183 \n",
      "Label_3: IoU Scores Train\n",
      "Class00: 0.0978 Class01: 0.1017 Class02: 0.1005 Class03: 0.1027 Class04: 0.0995 Class05: 0.1017 Class06: 0.1037 \n",
      "Class07: 0.0997 Class08: 0.1016 Class09: 0.1034 Class10: 0.1007 Class11: 0.0989 Class12: 0.1046 \n",
      "Train seg Loss: 0.2626311804127434 Train dom Loss: 3.667657436049325\n",
      "Train Loss: 0.2629979457166316\n",
      "Train mIoU: 0.19033118029578622\n"
     ]
    },
    {
     "name": "stderr",
     "output_type": "stream",
     "text": [
      "100%|██████████| 30/30 [00:09<00:00,  3.04it/s]\n"
     ]
    },
    {
     "name": "stdout",
     "output_type": "stream",
     "text": [
      "\n",
      "--IoU Scores Fish val--\n",
      "Class0: 0.3684 Class1: 0.3118 Class2: 0.3522 Class3: 0.3696 Class4: 0.3227 Class5: 0.3488 Class6: 0.3868 \n",
      "Class7: 0.3015 Class8: 0.3569 Class9: 0.3502 Class10: 0.3348 Class11: 0.3292 Class12: 0.3553 \n",
      "Epoch96\n",
      "Valid Seg Loss: 0.2062366470694542 Valid dom Loss: 0.0029979710641782733\n",
      "Valid Loss: 0.20623694707949955\n",
      "Valid mIoU: 0.34524520753399063\n",
      "___________________________________________________________________________________________\n",
      "\n"
     ]
    },
    {
     "name": "stderr",
     "output_type": "stream",
     "text": [
      "Epoch: 97: 100%|██████████| 138/138 [04:59<00:00,  2.17s/it]\n"
     ]
    },
    {
     "name": "stdout",
     "output_type": "stream",
     "text": [
      "\n",
      "Label_0: IoU Scores Train\n",
      "Class00: 0.4013 Class01: 0.4195 Class02: 0.4036 Class03: 0.4127 Class04: 0.4220 Class05: 0.4215 Class06: 0.4158 \n",
      "Class07: 0.4023 Class08: 0.4180 Class09: 0.4218 Class10: 0.4131 Class11: 0.4144 Class12: 0.4023 \n",
      "Label_1: IoU Scores Train\n",
      "Class00: 0.1364 Class01: 0.1458 Class02: 0.1391 Class03: 0.1430 Class04: 0.1427 Class05: 0.1435 Class06: 0.1426 \n",
      "Class07: 0.1381 Class08: 0.1448 Class09: 0.1444 Class10: 0.1405 Class11: 0.1413 Class12: 0.1376 \n",
      "Label_2: IoU Scores Train\n",
      "Class00: 0.1113 Class01: 0.1189 Class02: 0.1147 Class03: 0.1172 Class04: 0.1176 Class05: 0.1167 Class06: 0.1163 \n",
      "Class07: 0.1132 Class08: 0.1184 Class09: 0.1177 Class10: 0.1150 Class11: 0.1151 Class12: 0.1132 \n",
      "Label_3: IoU Scores Train\n",
      "Class00: 0.0978 Class01: 0.1046 Class02: 0.1014 Class03: 0.1032 Class04: 0.1041 Class05: 0.1021 Class06: 0.1026 \n",
      "Class07: 0.1002 Class08: 0.1045 Class09: 0.1038 Class10: 0.1014 Class11: 0.1013 Class12: 0.1005 \n",
      "Train seg Loss: 0.2557353131958972 Train dom Loss: 4.5314504573908305\n",
      "Train Loss: 0.2561884577777507\n",
      "Train mIoU: 0.19308896915721566\n"
     ]
    },
    {
     "name": "stderr",
     "output_type": "stream",
     "text": [
      "100%|██████████| 30/30 [00:09<00:00,  3.03it/s]\n"
     ]
    },
    {
     "name": "stdout",
     "output_type": "stream",
     "text": [
      "\n",
      "--IoU Scores Fish val--\n",
      "Class0: 0.3661 Class1: 0.3018 Class2: 0.3474 Class3: 0.3671 Class4: 0.3116 Class5: 0.3399 Class6: 0.3811 \n",
      "Class7: 0.2948 Class8: 0.3472 Class9: 0.3420 Class10: 0.3244 Class11: 0.3236 Class12: 0.3548 \n",
      "Epoch97\n",
      "Valid Seg Loss: 0.21029724925756454 Valid dom Loss: 3.195817478497823\n",
      "Valid Loss: 0.21061682999134063\n",
      "Valid mIoU: 0.3386016071176706\n",
      "___________________________________________________________________________________________\n",
      "\n"
     ]
    },
    {
     "name": "stderr",
     "output_type": "stream",
     "text": [
      "Epoch: 98: 100%|██████████| 138/138 [05:00<00:00,  2.17s/it]\n"
     ]
    },
    {
     "name": "stdout",
     "output_type": "stream",
     "text": [
      "\n",
      "Label_0: IoU Scores Train\n",
      "Class00: 0.4105 Class01: 0.4252 Class02: 0.4204 Class03: 0.4169 Class04: 0.4243 Class05: 0.4238 Class06: 0.4362 \n",
      "Class07: 0.4155 Class08: 0.4149 Class09: 0.4255 Class10: 0.4209 Class11: 0.4269 Class12: 0.4135 \n",
      "Label_1: IoU Scores Train\n",
      "Class00: 0.1393 Class01: 0.1460 Class02: 0.1398 Class03: 0.1448 Class04: 0.1433 Class05: 0.1409 Class06: 0.1449 \n",
      "Class07: 0.1434 Class08: 0.1433 Class09: 0.1447 Class10: 0.1443 Class11: 0.1458 Class12: 0.1400 \n",
      "Label_2: IoU Scores Train\n",
      "Class00: 0.1144 Class01: 0.1187 Class02: 0.1143 Class03: 0.1182 Class04: 0.1175 Class05: 0.1154 Class06: 0.1182 \n",
      "Class07: 0.1167 Class08: 0.1174 Class09: 0.1182 Class10: 0.1178 Class11: 0.1188 Class12: 0.1150 \n",
      "Label_3: IoU Scores Train\n",
      "Class00: 0.1014 Class01: 0.1046 Class02: 0.1009 Class03: 0.1038 Class04: 0.1039 Class05: 0.1017 Class06: 0.1045 \n",
      "Class07: 0.1025 Class08: 0.1032 Class09: 0.1039 Class10: 0.1033 Class11: 0.1045 Class12: 0.1020 \n",
      "Train seg Loss: 0.246578898658787 Train dom Loss: 5.4144851349053456\n",
      "Train Loss: 0.24712034742739322\n",
      "Train mIoU: 0.19607891465034738\n"
     ]
    },
    {
     "name": "stderr",
     "output_type": "stream",
     "text": [
      "100%|██████████| 30/30 [00:09<00:00,  3.05it/s]\n"
     ]
    },
    {
     "name": "stdout",
     "output_type": "stream",
     "text": [
      "\n",
      "--IoU Scores Fish val--\n",
      "Class0: 0.3595 Class1: 0.2962 Class2: 0.3462 Class3: 0.3594 Class4: 0.3180 Class5: 0.3434 Class6: 0.3794 \n",
      "Class7: 0.2856 Class8: 0.3427 Class9: 0.3382 Class10: 0.3226 Class11: 0.3256 Class12: 0.3523 \n",
      "Epoch98\n",
      "Valid Seg Loss: 0.20940974056720735 Valid dom Loss: 6.803506024678549\n",
      "Valid Loss: 0.2100900913278262\n",
      "Valid mIoU: 0.3360849404175694\n",
      "___________________________________________________________________________________________\n",
      "\n"
     ]
    },
    {
     "name": "stderr",
     "output_type": "stream",
     "text": [
      "Epoch: 99: 100%|██████████| 138/138 [04:58<00:00,  2.16s/it]\n"
     ]
    },
    {
     "name": "stdout",
     "output_type": "stream",
     "text": [
      "\n",
      "Label_0: IoU Scores Train\n",
      "Class00: 0.4289 Class01: 0.4384 Class02: 0.4205 Class03: 0.4209 Class04: 0.4301 Class05: 0.4261 Class06: 0.4301 \n",
      "Class07: 0.4199 Class08: 0.4373 Class09: 0.4488 Class10: 0.4332 Class11: 0.4379 Class12: 0.4266 \n",
      "Label_1: IoU Scores Train\n",
      "Class00: 0.1419 Class01: 0.1461 Class02: 0.1412 Class03: 0.1460 Class04: 0.1469 Class05: 0.1452 Class06: 0.1444 \n",
      "Class07: 0.1448 Class08: 0.1451 Class09: 0.1507 Class10: 0.1465 Class11: 0.1435 Class12: 0.1454 \n",
      "Label_2: IoU Scores Train\n",
      "Class00: 0.1158 Class01: 0.1194 Class02: 0.1150 Class03: 0.1192 Class04: 0.1198 Class05: 0.1181 Class06: 0.1181 \n",
      "Class07: 0.1182 Class08: 0.1178 Class09: 0.1227 Class10: 0.1188 Class11: 0.1170 Class12: 0.1187 \n",
      "Label_3: IoU Scores Train\n",
      "Class00: 0.1020 Class01: 0.1055 Class02: 0.1013 Class03: 0.1049 Class04: 0.1053 Class05: 0.1036 Class06: 0.1041 \n",
      "Class07: 0.1038 Class08: 0.1030 Class09: 0.1079 Class10: 0.1045 Class11: 0.1029 Class12: 0.1048 \n",
      "Train seg Loss: 0.23827653934342274 Train dom Loss: 3.081092842056974\n",
      "Train Loss: 0.23858464881777763\n",
      "Train mIoU: 0.19958310801089665\n"
     ]
    },
    {
     "name": "stderr",
     "output_type": "stream",
     "text": [
      "100%|██████████| 30/30 [00:09<00:00,  3.03it/s]\n"
     ]
    },
    {
     "name": "stdout",
     "output_type": "stream",
     "text": [
      "\n",
      "--IoU Scores Fish val--\n",
      "Class0: 0.3671 Class1: 0.2926 Class2: 0.3421 Class3: 0.3544 Class4: 0.3084 Class5: 0.3379 Class6: 0.3701 \n",
      "Class7: 0.2938 Class8: 0.3324 Class9: 0.3401 Class10: 0.3165 Class11: 0.3185 Class12: 0.3481 \n",
      "Epoch99\n",
      "Valid Seg Loss: 0.22070799221595128 Valid dom Loss: 4.13185224533081\n",
      "Valid Loss: 0.22112117757399877\n",
      "Valid mIoU: 0.3324639519206874\n",
      "___________________________________________________________________________________________\n",
      "\n"
     ]
    },
    {
     "name": "stderr",
     "output_type": "stream",
     "text": [
      "Epoch: 100: 100%|██████████| 138/138 [05:00<00:00,  2.17s/it]\n"
     ]
    },
    {
     "name": "stdout",
     "output_type": "stream",
     "text": [
      "\n",
      "Label_0: IoU Scores Train\n",
      "Class00: 0.4035 Class01: 0.4275 Class02: 0.4331 Class03: 0.4312 Class04: 0.4328 Class05: 0.4314 Class06: 0.4390 \n",
      "Class07: 0.4359 Class08: 0.4531 Class09: 0.4435 Class10: 0.4434 Class11: 0.4418 Class12: 0.4347 \n",
      "Label_1: IoU Scores Train\n",
      "Class00: 0.1386 Class01: 0.1467 Class02: 0.1467 Class03: 0.1446 Class04: 0.1425 Class05: 0.1464 Class06: 0.1484 \n",
      "Class07: 0.1475 Class08: 0.1525 Class09: 0.1526 Class10: 0.1444 Class11: 0.1470 Class12: 0.1444 \n",
      "Label_2: IoU Scores Train\n",
      "Class00: 0.1126 Class01: 0.1195 Class02: 0.1189 Class03: 0.1181 Class04: 0.1172 Class05: 0.1187 Class06: 0.1212 \n",
      "Class07: 0.1199 Class08: 0.1233 Class09: 0.1242 Class10: 0.1173 Class11: 0.1191 Class12: 0.1178 \n",
      "Label_3: IoU Scores Train\n",
      "Class00: 0.0992 Class01: 0.1048 Class02: 0.1044 Class03: 0.1041 Class04: 0.1035 Class05: 0.1042 Class06: 0.1068 \n",
      "Class07: 0.1055 Class08: 0.1082 Class09: 0.1092 Class10: 0.1028 Class11: 0.1042 Class12: 0.1036 \n",
      "Train seg Loss: 0.23570402551010466 Train dom Loss: 2.8464814555438744\n",
      "Train Loss: 0.23598867334911358\n",
      "Train mIoU: 0.20118530515451322\n"
     ]
    },
    {
     "name": "stderr",
     "output_type": "stream",
     "text": [
      "100%|██████████| 30/30 [00:10<00:00,  3.00it/s]"
     ]
    },
    {
     "name": "stdout",
     "output_type": "stream",
     "text": [
      "\n",
      "--IoU Scores Fish val--\n",
      "Class0: 0.3703 Class1: 0.2881 Class2: 0.3481 Class3: 0.3673 Class4: 0.3091 Class5: 0.3399 Class6: 0.3813 \n",
      "Class7: 0.2924 Class8: 0.3361 Class9: 0.3344 Class10: 0.3254 Class11: 0.3274 Class12: 0.3504 \n",
      "Epoch100\n",
      "Valid Seg Loss: 0.2176249886552493 Valid dom Loss: 11.51546630859375\n",
      "Valid Loss: 0.21877653549114864\n",
      "Valid mIoU: 0.3361831664115676\n",
      "___________________________________________________________________________________________\n",
      "\n",
      "Hyperparamerters\n",
      "LR = 0.001 | EP = 100, BATCH_SIZE = 16, N_CLASSES = 13, init_alpha = 0.01, N_LABELS = 4\n"
     ]
    },
    {
     "name": "stderr",
     "output_type": "stream",
     "text": [
      "\n"
     ]
    },
    {
     "data": {
      "text/html": [
       "Waiting for W&B process to finish... <strong style=\"color:green\">(success).</strong>"
      ],
      "text/plain": [
       "<IPython.core.display.HTML object>"
      ]
     },
     "metadata": {},
     "output_type": "display_data"
    },
    {
     "name": "stderr",
     "output_type": "stream",
     "text": [
      "wandb: WARNING Source type is set to 'repo' but some required information is missing from the environment. A job will not be created from this run. See https://docs.wandb.ai/guides/launch/create-job\n"
     ]
    },
    {
     "data": {
      "text/html": [
       "<style>\n",
       "    table.wandb td:nth-child(1) { padding: 0 10px; text-align: left ; width: auto;} td:nth-child(2) {text-align: left ; width: 100%}\n",
       "    .wandb-row { display: flex; flex-direction: row; flex-wrap: wrap; justify-content: flex-start; width: 100% }\n",
       "    .wandb-col { display: flex; flex-direction: column; flex-basis: 100%; flex: 1; padding: 10px; }\n",
       "    </style>\n",
       "<div class=\"wandb-row\"><div class=\"wandb-col\"><h3>Run history:</h3><br/><table class=\"wandb\"><tr><td>train loss</td><td>▁▁▁▁▁▁▁▁▁▁▁▁▁▁▁▁█▁▁▁▁▁▁▂▁▁▁▁▁▁▁▁▁▁▁▁▁▁▁▁</td></tr><tr><td>train score</td><td>▄▆▆▇▇████▆█▃▆▇▇▆▁▁▂▃▂▃▄▁▂▃▃▃▂▃▄▄▄▄▅▅▅▅▆▆</td></tr><tr><td>val loss</td><td>▁▁▁▁▁▁▁▁▁▁▁▁▁▁▁▁▂▂▁▁▁▁▁█▄▁▁▁▁▁▁▁▁▁▁▁▁▁▁▁</td></tr><tr><td>val score</td><td>▆▇▅████▇██▇▆▇▇█▇▁▂▃▄▃▄▅▂▂▄▅▅▄▄▅▅▅▅▆▆▆▅▇▇</td></tr></table><br/></div><div class=\"wandb-col\"><h3>Run summary:</h3><br/><table class=\"wandb\"><tr><td>train loss</td><td>0.23599</td></tr><tr><td>train score</td><td>0.20119</td></tr><tr><td>val loss</td><td>0.21878</td></tr><tr><td>val score</td><td>0.33618</td></tr></table><br/></div></div>"
      ],
      "text/plain": [
       "<IPython.core.display.HTML object>"
      ]
     },
     "metadata": {},
     "output_type": "display_data"
    },
    {
     "data": {
      "text/html": [
       " View run <strong style=\"color:#cdcd00\">feasible-morning-1</strong> at: <a href='https://wandb.ai/limbw/practice_11_07_4d_res34/runs/3xd75ig9' target=\"_blank\">https://wandb.ai/limbw/practice_11_07_4d_res34/runs/3xd75ig9</a><br/>Synced 6 W&B file(s), 0 media file(s), 0 artifact file(s) and 0 other file(s)"
      ],
      "text/plain": [
       "<IPython.core.display.HTML object>"
      ]
     },
     "metadata": {},
     "output_type": "display_data"
    },
    {
     "data": {
      "text/html": [
       "Find logs at: <code>./wandb/run-20231107_035543-3xd75ig9/logs</code>"
      ],
      "text/plain": [
       "<IPython.core.display.HTML object>"
      ]
     },
     "metadata": {},
     "output_type": "display_data"
    }
   ],
   "source": [
    "import random\n",
    "#torch.cuda.empty_cache()\n",
    "import wandb\n",
    "\n",
    "\n",
    "wandb.init(\n",
    "    # set the wandb project where this run will be logged\n",
    "    project=\"practice_11_07_4d_res34\",\n",
    "    \n",
    "    # track hyperparameters and run metadata\n",
    "    config={\n",
    "    \"learning_rate\": LR,\n",
    "    \"architecture\": \"CNN\",\n",
    "    \"dataset\": \"Samsung\",\n",
    "    \"epochs\": EP,\n",
    "    }\n",
    ")\n",
    "\n",
    "for epoch in range(EP):\n",
    "    model.train()\n",
    "    epoch_loss = 0\n",
    "    seg_losses = 0\n",
    "    domain_losses = 0\n",
    "    if epoch < 40:  # 전체 EP 40%\n",
    "        alpha = 0.0001\n",
    "    elif epoch <70: # 전체 EP 30%\n",
    "        alpha = 0.01\n",
    "    else:          # 전체 EP 30%\n",
    "        alpha = 0.0001\n",
    "    train_class_ious = [[],[],[],[]]\n",
    "    for source_images, source_masks in tqdm(source_dataloader,desc=f\"Epoch: {epoch+1}\"):\n",
    "        for label in range(N_LABELS): \n",
    "            source_image, source_mask = apply_fisheye_distortion(source_images, source_masks, label)\n",
    "            source_image = source_image.float().to(device)\n",
    "            source_mask = source_mask.long().to(device)\n",
    "            source_outputs = model(source_image)\n",
    "            \n",
    "            optimizer.zero_grad()\n",
    "            target_loss, seg_loss, domain_loss = loss_fn(source_outputs, source_mask, label, alpha = alpha)\n",
    "            epoch_loss += target_loss.item()\n",
    "            seg_losses +=  seg_loss.item()\n",
    "            domain_losses += domain_loss.item()\n",
    "            target_loss.backward()\n",
    "            optimizer.step()\n",
    "            # miou측정\n",
    "            source_outputs = torch.softmax(source_outputs[0], dim=1).cpu()\n",
    "            source_outputs = torch.argmax(source_outputs, dim=1).numpy()\n",
    "            for class_id in range(N_CLASSES):\n",
    "                iou = calculate_iou_per_class(np.array(source_masks.cpu()), np.array(source_outputs), class_id)\n",
    "                train_class_ious[label].append(iou)\n",
    "    \n",
    "    for i in range(N_LABELS):\n",
    "        buff = np.array(train_class_ious[i]).reshape(N_CLASSES, -1)\n",
    "        buff =np.mean(buff, axis=1)\n",
    "        print(f\"\\nLabel_{i}: IoU Scores Train\") \n",
    "        for class_id, iou in enumerate(buff):\n",
    "            print(f'Class{class_id:02d}: {iou:.4f}', end=\" \")\n",
    "            if (class_id+1) % 7 == 0:\n",
    "                print()   \n",
    "    print()    \n",
    "    print(f\"Train seg Loss: {(seg_losses/(N_LABELS*len(source_dataloader)))}\", f\"Train dom Loss: {(domain_losses/(N_LABELS*len(source_dataloader)))}\")\n",
    "    print(f\"Train Loss: {(epoch_loss/(N_LABELS*len(source_dataloader)))}\")\n",
    "    print(f\"Train mIoU: {np.mean(train_class_ious)}\" )\n",
    "    ################################################################\n",
    "    # 클래스별 IoU를 누적할 리스트 초기화\n",
    "    val_class_ious = []\n",
    "    fish_val_class_ious = []\n",
    "    val_epoch_loss = 0\n",
    "    val_seg_loss = 0\n",
    "    val_domain_loss = 0\n",
    "    # valid\n",
    "    with torch.no_grad():\n",
    "        model.eval()\n",
    "\n",
    "        for target_images, target_masks in tqdm(val_target_dataloader):\n",
    "            label = 2.5\n",
    "            target_images, target_masks = apply_fisheye_distortion(target_images, target_masks, label)\n",
    "            target_images = target_images.float().to(device)\n",
    "            target_masks = target_masks.long().to(device)\n",
    "\n",
    "            target_outputs = model(target_images)\n",
    "\n",
    "            target_loss, target_seg_loss, target_domain_loss = loss_fn(target_outputs, target_masks, 0, alpha = alpha)\n",
    "\n",
    "            val_seg_loss +=  target_seg_loss.item()\n",
    "            val_domain_loss += target_domain_loss.item()\n",
    "            \n",
    "            loss = target_loss\n",
    "\n",
    "            val_epoch_loss += loss.item()\n",
    "\n",
    "            # train 클래스별 IoU 계산\n",
    "            target_outputs = torch.softmax(target_outputs[0], dim=1).cpu()\n",
    "            target_outputs = torch.argmax(target_outputs, dim=1).numpy()\n",
    "\n",
    "            for class_id in range(N_CLASSES):\n",
    "                iou = calculate_iou_per_class(np.array(target_masks.cpu()), np.array(target_outputs), class_id)\n",
    "                fish_val_class_ious.append(iou)\n",
    "\n",
    "    fish_val_class_ious = np.array(fish_val_class_ious).reshape(N_CLASSES, -1)\n",
    "    fish_val_class_ious = np.mean(fish_val_class_ious, axis=1)\n",
    "    print()\n",
    "    print(\"--IoU Scores Fish val--\")\n",
    "    for class_id, iou in enumerate(fish_val_class_ious):\n",
    "        print(f'Class{class_id}: {iou:.4f}', end=\" \")\n",
    "        if (class_id+1) % 7 == 0:\n",
    "            print()\n",
    "\n",
    "    # mIoU 계산\n",
    "    fish_val_mIoU = np.mean(fish_val_class_ious)\n",
    "\n",
    "    # 에폭마다 결과 출력 \n",
    "    print(f\"\\nEpoch{epoch+1}\")\n",
    "    print(f\"Valid Seg Loss: {(val_seg_loss/len(val_target_dataloader))}\",f\"Valid dom Loss: {(val_domain_loss/len(val_target_dataloader))}\")\n",
    "    print(f\"Valid Loss: {(val_epoch_loss/len(val_target_dataloader))}\")\n",
    "    print(f\"Valid mIoU: {fish_val_mIoU}\" )\n",
    "    print(\"___________________________________________________________________________________________\\n\")\n",
    "\n",
    "\n",
    "    # log metrics to wandb\n",
    "    wandb.log({\"train score\": np.mean(train_class_ious)})\n",
    "    wandb.log({\"val score\": fish_val_mIoU})\n",
    "    wandb.log({\"train loss\": (epoch_loss/(N_LABELS*len(source_dataloader)))})\n",
    "    wandb.log({\"val loss\": (val_epoch_loss/len(val_target_dataloader))})\n",
    "    \n",
    "    \n",
    "# [optional] finish the wandb run, necessary in notebooks\n",
    "print(\"Hyperparamerters\")\n",
    "print(f\"LR = {LR} | EP = {EP}, BATCH_SIZE = {BATCH_SIZE}, N_CLASSES = {N_CLASSES}, init_alpha = {ALPHA}, N_LABELS = {N_LABELS}\")\n",
    "wandb.finish()\n"
   ]
  },
  {
   "cell_type": "code",
   "execution_count": 18,
   "metadata": {},
   "outputs": [],
   "source": [
    "torch.save(model.state_dict(), './data/resnet34_unet_alpha3d_100ep.pth')"
   ]
  }
 ],
 "metadata": {
  "kernelspec": {
   "display_name": "byungwan_resn",
   "language": "python",
   "name": "python3"
  },
  "language_info": {
   "codemirror_mode": {
    "name": "ipython",
    "version": 3
   },
   "file_extension": ".py",
   "mimetype": "text/x-python",
   "name": "python",
   "nbconvert_exporter": "python",
   "pygments_lexer": "ipython3",
   "version": "3.8.17"
  }
 },
 "nbformat": 4,
 "nbformat_minor": 2
}
