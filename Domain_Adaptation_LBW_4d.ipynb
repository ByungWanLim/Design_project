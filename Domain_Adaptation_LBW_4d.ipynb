{
 "cells": [
  {
   "cell_type": "code",
   "execution_count": 2,
   "metadata": {},
   "outputs": [],
   "source": [
    "import os\n",
    "import cv2\n",
    "from PIL import Image\n",
    "import pandas as pd\n",
    "import numpy as np\n",
    "\n",
    "import torch\n",
    "import torch.nn as nn\n",
    "import torch.nn.functional as F\n",
    "from torch.utils.data import Dataset, DataLoader\n",
    "from torchvision import transforms\n",
    "#from torch.optim.lr_scheduler import _LRScheduler\n",
    "\n",
    "from tqdm import tqdm\n",
    "import albumentations as A\n",
    "from albumentations.pytorch import ToTensorV2\n",
    "\n",
    "from torchvision import models\n",
    "from torchsummary import summary\n",
    "import torch.nn.functional as F\n"
   ]
  },
  {
   "cell_type": "code",
   "execution_count": 3,
   "metadata": {},
   "outputs": [
    {
     "name": "stdout",
     "output_type": "stream",
     "text": [
      "cuda\n",
      "2\n"
     ]
    }
   ],
   "source": [
    "\n",
    "# GPU 사용이 가능할 경우, GPU를 사용할 수 있게 함.'\n",
    "os.environ['CUDA_VISIBLE_DEVICES'] = '2'\n",
    "device = \"cuda\" if torch.cuda.is_available() else \"cpu\"\n",
    "device = torch.device(device)\n",
    "print(device)\n",
    "\n",
    "print(os.environ.get('CUDA_VISIBLE_DEVICES'))"
   ]
  },
  {
   "cell_type": "code",
   "execution_count": 4,
   "metadata": {},
   "outputs": [],
   "source": [
    "# RLE 인코딩 함수\n",
    "def rle_encode(mask):\n",
    "    pixels = mask.flatten()\n",
    "    pixels = np.concatenate([[0], pixels, [0]])\n",
    "    runs = np.where(pixels[1:] != pixels[:-1])[0] + 1\n",
    "    runs[1::2] -= runs[::2]\n",
    "    return ' '.join(str(x) for x in runs)\n",
    "\n",
    "# 클래스별 IoU를 계산하기 위한 함수\n",
    "def calculate_iou_per_class(y_true, y_pred, class_id):\n",
    "    intersection = np.sum((y_true == class_id) & (y_pred == class_id))\n",
    "    union = np.sum((y_true == class_id) | (y_pred == class_id))\n",
    "    iou = intersection / union if union > 0 else 0\n",
    "    return iou"
   ]
  },
  {
   "cell_type": "code",
   "execution_count": 5,
   "metadata": {},
   "outputs": [],
   "source": [
    "# def apply_fisheye_distortion(image, mask, label):\n",
    "\n",
    "#     # 이미지 크기 가져오기\n",
    "#     batch, channel, height, width = image.shape\n",
    "#     image = image.permute(0, 2, 3, 1)\n",
    "#     mask = mask.permute(0, 1, 2)\n",
    "#     images = image.split(1, dim=0)\n",
    "#     masks = mask.split(1, dim=0)\n",
    "\n",
    "#     # 카메라 매트릭스 생성\n",
    "#     focal_length = width / 4\n",
    "#     center_x = width / 2\n",
    "#     center_y = height / 2\n",
    "#     camera_matrix = np.array([[focal_length, 0, center_x],\n",
    "#                               [0, focal_length, center_y],\n",
    "#                               [0, 0, 1]], dtype=np.float32)\n",
    "\n",
    "#     # 왜곡 계수 생성\n",
    "#     #dist_coeffs = np.array([0, 0.5, 0, 0], dtype=np.float32)\n",
    "#     dist_coeffs = np.array([0, 0.2*label, 0, 0], dtype=np.float32)\n",
    "\n",
    "#     # 왜곡 보정\n",
    "#     undistorted_images = []\n",
    "#     undistorted_masks = []\n",
    "#     for i in range(batch):\n",
    "#         image = images[i]\n",
    "#         mask = mask[i]\n",
    "#         image = image.cpu().numpy()\n",
    "#         mask = mask.cpu().numpy\n",
    "#         undistorted_image = cv2.undistort(image.squeeze(), camera_matrix, dist_coeffs)\n",
    "#         undistorted_mask = cv2.undistort(mask.squeeze(), camera_matrix, dist_coeffs)\n",
    "#         undistorted_mask = np.round(mask).astype(np.uint8)\n",
    "#         undistorted_mask[undistorted_mask > 12] = 12\n",
    "#         undistorted_image = torch.from_numpy(undistorted_image).to(device)\n",
    "#         undistorted_mask = torch.from_numpy(undistorted_mask).to(device)\n",
    "#         undistorted_images.append(undistorted_image)\n",
    "#         undistorted_masks.append(undistorted_mask)\n",
    "\n",
    "#     undistorted_images = torch.stack(undistorted_images, dim=0)\n",
    "#     undistorted_masks = torch.stack(undistorted_masks, dim=0)\n",
    "\n",
    "#     undistorted_images = undistorted_images.permute(0,3,1,2)\n",
    "#     undistorted_masks = undistorted_masks.permute(0,1,2)\n",
    "    \n",
    "#     return undistorted_images, undistorted_masks\n"
   ]
  },
  {
   "cell_type": "code",
   "execution_count": 6,
   "metadata": {},
   "outputs": [],
   "source": [
    "import numpy as np\n",
    "import cv2\n",
    "import torch\n",
    "\n",
    "def apply_fisheye_distortion(images, masks, label):\n",
    "    # 이미지 크기 가져오기\n",
    "    batch, channel, height, width = images.shape\n",
    "\n",
    "    # 카메라 매트릭스 생성\n",
    "    focal_length = width / 4\n",
    "    center_x = width / 2\n",
    "    center_y = height / 2\n",
    "    camera_matrix = np.array([[focal_length, 0, center_x],\n",
    "                              [0, focal_length, center_y],\n",
    "                              [0, 0, 1]], dtype=np.float32)\n",
    "\n",
    "    # 왜곡 계수 생성\n",
    "    dist_coeffs = np.array([0, 0.6 * label, 0, 0], dtype=np.float32)\n",
    "\n",
    "    # 왜곡 보정\n",
    "    undistorted_images = []\n",
    "    undistorted_masks = []\n",
    "\n",
    "    for i in range(batch):\n",
    "        image = images[i].permute(1, 2, 0).cpu().numpy()  # 텐서를 NumPy 배열로 변환\n",
    "        mask = masks[i].cpu().numpy()\n",
    "        undistorted_image = cv2.undistort(image, camera_matrix, dist_coeffs)\n",
    "        undistorted_mask = cv2.undistort(mask, camera_matrix, dist_coeffs)\n",
    "        undistorted_mask = np.round(undistorted_mask).astype(np.uint8)\n",
    "        undistorted_mask[undistorted_mask > 12] = 12\n",
    "\n",
    "        # 다시 텐서로 변환\n",
    "        undistorted_image = torch.from_numpy(undistorted_image).permute(2, 0, 1).float().to(device)\n",
    "        undistorted_mask = torch.from_numpy(undistorted_mask).long().to(device)\n",
    "\n",
    "        undistorted_images.append(undistorted_image)\n",
    "        undistorted_masks.append(undistorted_mask)\n",
    "\n",
    "    undistorted_images = torch.stack(undistorted_images, dim=0)\n",
    "    undistorted_masks = torch.stack(undistorted_masks, dim=0)\n",
    "\n",
    "    return undistorted_images, undistorted_masks\n"
   ]
  },
  {
   "cell_type": "code",
   "execution_count": 7,
   "metadata": {},
   "outputs": [],
   "source": [
    "# import torch\n",
    "\n",
    "# # 이미지 데이터 (batch, channel, height, width)\n",
    "# image_data = torch.randn(4, 3, 256, 256)\n",
    "\n",
    "# # 이미지 차원 변경 (batch, height, width, channel)\n",
    "# image_data_permuted = image_data.permute(0, 2, 3, 1)\n",
    "\n",
    "# # 이미지 크기 확인\n",
    "# print(image_data_permuted.shape)\n",
    "\n",
    "# # 4개의 이미지로 나누기\n",
    "# images = image_data_permuted.split(1, dim=0)\n",
    "# # 또는 images = torch.split(image_data_permuted, 1, dim=0)\n",
    "# undistorted_images = []\n",
    "# # 4개 이미지의 크기 확인\n",
    "# for i, image in enumerate(images):\n",
    "#     print(f\"Image {i + 1} shape: {image.shape}\")\n",
    "#     undistorted_images.append(images[i].squeeze())\n",
    "\n",
    "# undistorted_images2 = torch.stack(undistorted_images, dim=0)\n",
    "# undistorted_images3 = undistorted_images2.permute(0,3,1,2)"
   ]
  },
  {
   "cell_type": "code",
   "execution_count": 8,
   "metadata": {},
   "outputs": [],
   "source": [
    "class CustomDataset(Dataset):\n",
    "    def __init__(self, csv_file, transform=None, infer=False):\n",
    "        self.data = pd.read_csv(csv_file)\n",
    "        self.transform = transform\n",
    "        self.infer = infer\n",
    "\n",
    "    def __len__(self):\n",
    "        return len(self.data)\n",
    "\n",
    "    def __getitem__(self, idx):\n",
    "        #directory_path = \"/mnt/nas27/Dataset/Samsung_DM\"\n",
    "        directory_path = './data/224'\n",
    "        img_path = self.data.iloc[idx, 1]\n",
    "        img_path = os.path.join(directory_path, img_path)\n",
    "        image = cv2.imread(img_path)\n",
    "        image = cv2.cvtColor(image, cv2.COLOR_BGR2RGB)\n",
    "        #image = cv2.cvtColor(image, cv2.COLOR_BGR2GRAY)\n",
    "        \n",
    "        if self.infer:\n",
    "            if self.transform:\n",
    "                image = self.transform(image=image)['image']\n",
    "            return image\n",
    "        \n",
    "        mask_path = self.data.iloc[idx, 2]\n",
    "        mask_path = os.path.join(directory_path, mask_path)\n",
    "        mask = cv2.imread(mask_path)\n",
    "        #mask = cv2.cvtColor(mask, cv2.COLOR_BGR2RGB)\n",
    "        mask = cv2.cvtColor(mask, cv2.COLOR_BGR2GRAY)\n",
    "        mask = np.round(mask).astype(np.uint8)\n",
    "        mask[mask > 12] = 12 #배경을 픽셀값 12로 간주\n",
    "        mask += 1\n",
    "        mask[mask == 13] = 0\n",
    "\n",
    "        if self.transform:\n",
    "            augmented = self.transform(image=image, mask=mask)\n",
    "            image = augmented['image']\n",
    "            mask = augmented['mask']\n",
    "\n",
    "        return image, mask\n",
    "\n",
    "# class CustomDataset_target(Dataset):\n",
    "#     def __init__(self, csv_file, transform=None, infer=False):\n",
    "#         self.data = pd.read_csv(csv_file)\n",
    "#         self.transform = transform\n",
    "#         self.infer = infer\n",
    "\n",
    "#     def __len__(self):\n",
    "#         return len(self.data)\n",
    "\n",
    "#     def __getitem__(self, idx):\n",
    "#         directory_path = \"/mnt/nas27/Dataset/Samsung_DM\"\n",
    "#         img_path = self.data.iloc[idx, 1]\n",
    "#         img_path = os.path.join(directory_path, img_path[2:])\n",
    "#         image = cv2.imread(img_path)\n",
    "#         image = cv2.cvtColor(image, cv2.COLOR_BGR2RGB)\n",
    "        \n",
    "#         if self.infer:\n",
    "#             if self.transform:\n",
    "#                 image = self.transform(image=image)['image']\n",
    "#             return image\n",
    "\n",
    "\n",
    "#         if self.transform:\n",
    "#             augmented = self.transform(image=image)\n",
    "#             image = augmented['image']\n",
    "            \n",
    "\n",
    "#         return image\n",
    "     \n",
    "\n",
    "transform = A.Compose(\n",
    "    [   \n",
    "        #A.Resize(224, 224),\n",
    "        #A.Resize(128, 128),\n",
    "        A.Normalize(),\n",
    "        \n",
    "        # 변형\n",
    "        # A.VerticalFlip(p=0.5),\n",
    "        # A.RandomRotate90(p=0.5),\n",
    "        # A.HueSaturationValue(p=0.2),\n",
    "        \n",
    "        ToTensorV2()\n",
    "    ]\n",
    ")"
   ]
  },
  {
   "cell_type": "code",
   "execution_count": 9,
   "metadata": {},
   "outputs": [],
   "source": [
    "# #Unet의 기본이 되는 conv블럭\n",
    "# class ConvBlock(nn.Module):\n",
    "#     def __init__(self, in_channels, out_channels):\n",
    "#         super(ConvBlock, self).__init__()\n",
    "#         self.conv1 = nn.Conv2d(in_channels, out_channels, kernel_size=3, padding=1)\n",
    "#         self.bn1 = nn.BatchNorm2d(out_channels)\n",
    "#         self.relu1 = nn.ReLU()\n",
    "        \n",
    "#         self.conv2 = nn.Conv2d(out_channels, out_channels, kernel_size=3, padding=1)  # 여기서 in_channels는 out_channels와 동일해야 합니다.\n",
    "#         self.bn2 = nn.BatchNorm2d(out_channels)\n",
    "#         self.relu2 = nn.ReLU()\n",
    "\n",
    "#     def forward(self, x):\n",
    "#         x = self.conv1(x)\n",
    "#         x = self.bn1(x)\n",
    "#         x = self.relu1(x)\n",
    "        \n",
    "#         x = self.conv2(x)\n",
    "#         x = self.bn2(x)\n",
    "#         x = self.relu2(x)\n",
    "#         return x\n",
    "\n",
    "# #인코더 블럭\n",
    "# class EncoderBlock(nn.Module):\n",
    "#     def __init__(self, in_channels, out_channels):\n",
    "#         super(EncoderBlock,self).__init__()\n",
    "#         self.convblock1 = ConvBlock(in_channels, out_channels)  # 첫 번째 ConvBlock의 in_channels는 입력 이미지의 채널 수와 일치해야 합니다.\n",
    "#         #self.convblock2 = ConvBlock(out_channels, out_channels)  # 두 번째 ConvBlock의 in_channels는 out_channels와 일치해야 합니다.\n",
    "#         self.maxpool = nn.MaxPool2d(kernel_size=2, stride=2)\n",
    "\n",
    "#     def forward(self,x):\n",
    "#         x = self.convblock1(x)\n",
    "#         #x = self.convblock2(x)\n",
    "#         p = self.maxpool(x)\n",
    "#         return x , p\n",
    "# #디코더 블럭\n",
    "# #디코더는 업샘플링 이후 스킵연결과 붙어서 convblock을 통과해야함\n",
    "# #skip보다 작은 x x먼저 업샘플링 32 -> 64 , skip과 결합 6464 \n",
    "# class DecoderBlock(nn.Module):\n",
    "#     def __init__(self, channels):\n",
    "#         super(DecoderBlock,self).__init__()\n",
    "#         self.upsample = nn.ConvTranspose2d(channels*2, channels, kernel_size=4, stride=2, padding=1)#x 업샘플링\n",
    "#         self.convblock1 = ConvBlock(channels*2, channels)#차원감소\n",
    "#         #self.convblock2 = ConvBlock(channels, channels)\n",
    "#     def forward(self,x,skip):\n",
    "#         x = self.upsample(x)\n",
    "#         x = torch.cat([x, skip], dim=1)\n",
    "#         x = self.convblock1(x)\n",
    "#         #x = self.convblock2(x)\n",
    "#         return x\n",
    "\n",
    "# ###########################################\n",
    "# class GradReverse(torch.autograd.Function):\n",
    "#     @staticmethod\n",
    "#     def forward(self, x):\n",
    "#         return x.view_as(x)\n",
    "#     @staticmethod\n",
    "#     def backward(self, grad_output): # 역전파 시에 gradient에 음수를 취함\n",
    "#         return (grad_output * -1)\n",
    "\n",
    "# class domain_classifier(nn.Module):\n",
    "#     def __init__(self):\n",
    "#         super(domain_classifier, self).__init__()\n",
    "#         self.fc1 = nn.Linear(224*224*64, 10)\n",
    "#         self.fc2 = nn.Linear(10, 4) # source = 0, target = 1 회귀 가정\n",
    "\n",
    "#     def forward(self, x):\n",
    "#         x = x.view(-1, 224*224*64)\n",
    "#         x = GradReverse.apply(x) # gradient reverse\n",
    "#         x = F.leaky_relu(self.fc1(x))\n",
    "#         x = self.fc2(x)\n",
    "        \n",
    "#         return x\n",
    "\n",
    "# ###########################################\n",
    "\n",
    "\n",
    "# #Unet구조 middle의 xm값의 움직임에 주의\n",
    "# class Unet(nn.Module):\n",
    "#     def __init__(self,n_classes):\n",
    "#         super(Unet,self).__init__()\n",
    "#         self.encoder1 = EncoderBlock(3,64)\n",
    "#         self.encoder2 = EncoderBlock(64,128)\n",
    "#         self.encoder3 = EncoderBlock(128,256)\n",
    "#         self.encoder4 = EncoderBlock(256,512)\n",
    "        \n",
    "#         self.middleconv = ConvBlock(512,1024)\n",
    "        \n",
    "        \n",
    "#         self.decoder4 = DecoderBlock(512)\n",
    "#         self.decoder3 = DecoderBlock(256)\n",
    "#         self.decoder2 = DecoderBlock(128)\n",
    "#         self.decoder1 = DecoderBlock(64)\n",
    "#         self.segmap = nn.Conv2d(64,n_classes, kernel_size=1)\n",
    "        \n",
    "#         self.domain_classifier = domain_classifier()\n",
    "                                        \n",
    "\n",
    "#     def forward(self,x):\n",
    "#         x1,p = self.encoder1(x)#3->64   #P:256,256 x1 :512,512\n",
    "#         x2,p = self.encoder2(p)#64->128 #P:128,128 x2:256,256\n",
    "#         x3,p = self.encoder3(p)#128->256#p:64,64 x3:128,128\n",
    "#         x4,p = self.encoder4(p)#256->512#p:32,32 x4:64,64\n",
    "        \n",
    "#         xm = self.middleconv(p)#512->1024#32,32\n",
    "        \n",
    "#         x = self.decoder4(xm,x4)#뉴런:1024->512->512 #출력tensor:64,64\n",
    "#         x = self.decoder3(x,x3)#뉴런:512->256->256 #출력tensor:128,128\n",
    "#         x = self.decoder2(x,x2)#뉴런:256->128->128 #출력tensor:256,256\n",
    "#         x = self.decoder1(x,x1)#뉴런:128->64->64 #출력tensor:512,512\n",
    "\n",
    "#         x_c = self.segmap(x)\n",
    "#         x_d = self.domain_classifier(x)\n",
    "#         # print(\"x_c\", x_c.shape)\n",
    "#         # print(\"x_d\", x_d.shape)\n",
    "#         return x_c, x_d"
   ]
  },
  {
   "cell_type": "code",
   "execution_count": 10,
   "metadata": {},
   "outputs": [],
   "source": [
    "class GradReverse(torch.autograd.Function):\n",
    "    @staticmethod\n",
    "    def forward(self, x):\n",
    "        return x.view_as(x)\n",
    "    @staticmethod\n",
    "    def backward(self, grad_output): # 역전파 시에 gradient에 음수를 취함\n",
    "        return grad_output * (-1)\n",
    "\n",
    "class domain_classifier(nn.Module):\n",
    "    def __init__(self):\n",
    "        super(domain_classifier, self).__init__()\n",
    "        self.fc1 = nn.Linear(224*224*64, 10)\n",
    "        self.fc2 = nn.Linear(10, 4) # source = 0, target = 1 회귀 가정\n",
    "\n",
    "    def forward(self, x):\n",
    "        x = x.view(-1, 224*224*64)\n",
    "        x = GradReverse.apply(x) # gradient reverse\n",
    "        x = F.leaky_relu(self.fc1(x))\n",
    "        x = self.fc2(x)\n",
    "        \n",
    "        return torch.sigmoid(x)\n",
    "\n",
    "class IdentityBlock(nn.Module):\n",
    "    def __init__(self, in_channels, out_channels, stride=1):\n",
    "        super(IdentityBlock, self).__init__()\n",
    "        \n",
    "        # 3x3 convolution\n",
    "        self.conv1 = nn.Conv2d(in_channels, in_channels, kernel_size=3, padding=1, stride=stride, bias=False)\n",
    "        self.bn1 = nn.BatchNorm2d(in_channels)\n",
    "        self.relu1 = nn.ReLU()\n",
    "        \n",
    "        # 3x3 convolution\n",
    "        self.conv2 = nn.Conv2d(in_channels, out_channels, kernel_size=3, padding=1, bias=False)\n",
    "        self.bn2 = nn.BatchNorm2d(out_channels)\n",
    "        self.relu2 = nn.ReLU()\n",
    "        \n",
    "        # Skip connection\n",
    "        self.skip = nn.Sequential()\n",
    "        if stride != 1 or in_channels != out_channels:\n",
    "            self.skip = nn.Sequential(\n",
    "                nn.Conv2d(in_channels, out_channels, kernel_size=1, stride=stride, bias=False),\n",
    "                nn.BatchNorm2d(out_channels)\n",
    "            )\n",
    "        \n",
    "    def forward(self, x):\n",
    "        identity = x\n",
    "        \n",
    "        out = self.conv1(x)\n",
    "        out = self.bn1(out)\n",
    "        out = self.relu1(out)\n",
    "        \n",
    "        out = self.conv2(out)\n",
    "        out = self.bn2(out)\n",
    "        \n",
    "        # Adding the skip connection\n",
    "        out += self.skip(identity)\n",
    "        out = self.relu2(out)\n",
    "        \n",
    "        return out\n",
    "\n",
    "\n",
    "#인코더 블럭\n",
    "class Conv2(nn.Module):\n",
    "    def __init__(self,in_channels, out_channels):\n",
    "        super(Conv2,self).__init__() \n",
    "        self.identityblock1 = IdentityBlock(in_channels,in_channels)\n",
    "        self.identityblock2 = IdentityBlock(in_channels,out_channels)\n",
    "        self.maxpool = nn.MaxPool2d(kernel_size=3, stride=2,padding=1)\n",
    "    def forward(self,x):\n",
    "        x = self.identityblock1(x)\n",
    "        x = self.identityblock2(x)\n",
    "        p = self.maxpool(x)\n",
    "        \n",
    "        return x , p\n",
    "class Conv3(nn.Module):\n",
    "    def __init__(self,in_channels, out_channels):\n",
    "        super(Conv3,self).__init__()         \n",
    "        self.identityblock1 = IdentityBlock(in_channels,in_channels)\n",
    "        self.identityblock2 = IdentityBlock(in_channels,out_channels)\n",
    "        self.maxpool = nn.MaxPool2d(kernel_size=3, stride=2,padding=1)\n",
    "    def forward(self,x):\n",
    "        x = self.identityblock1(x)\n",
    "        x = self.identityblock2(x)\n",
    "        p = self.maxpool(x)\n",
    "        \n",
    "        return x , p\n",
    "class Conv4(nn.Module):\n",
    "    def __init__(self,in_channels, out_channels):\n",
    "        super(Conv4,self).__init__()         \n",
    "        self.identityblock1 = IdentityBlock(in_channels,in_channels)\n",
    "        self.identityblock2 = IdentityBlock(in_channels,out_channels)\n",
    "        self.maxpool = nn.MaxPool2d(kernel_size=3, stride=2,padding=1)\n",
    "    def forward(self,x):\n",
    "        x = self.identityblock1(x)\n",
    "        x = self.identityblock2(x)\n",
    "        p = self.maxpool(x)\n",
    "        \n",
    "        return x , p\n",
    "class Conv5(nn.Module):\n",
    "    def __init__(self,in_channels, out_channels):\n",
    "        super(Conv5,self).__init__() \n",
    "        self.identityblock1 = IdentityBlock(in_channels,in_channels)\n",
    "        self.identityblock2 = IdentityBlock(in_channels,out_channels)\n",
    "        self.maxpool = nn.MaxPool2d(kernel_size=3, stride=2,padding=1)\n",
    "        \n",
    "    def forward(self,x):\n",
    "        x = self.identityblock1(x)\n",
    "        x = self.identityblock2(x)\n",
    "        p = self.maxpool(x)\n",
    "        \n",
    "        return x , p\n",
    "#디코더 블럭\n",
    "class DecoderBlock(nn.Module):\n",
    "    def __init__(self, channels):\n",
    "        super(DecoderBlock, self).__init__()\n",
    "        self.upsample = nn.ConvTranspose2d(channels*2, channels, kernel_size=4, stride=2, padding=1) # output_padding 추가\n",
    "        self.convblock1 = IdentityBlock(channels*2, channels)\n",
    "\n",
    "    def forward(self, x, skip):\n",
    "        x = self.upsample(x)\n",
    "        if x.size(2) != skip.size(2) or x.size(3) != skip.size(3):\n",
    "            x = F.interpolate(x, size=(skip.size(2), skip.size(3)))\n",
    "        x = torch.cat([x, skip], dim=1)\n",
    "        x = self.convblock1(x)\n",
    "        #print(\"x\",x.shape,\"skip: \",skip.shape)\n",
    "        return x\n",
    "\n",
    "#Unet구조 middle의 xm값의 움직임에 주의\n",
    "class Resnet18_Unet(nn.Module):\n",
    "    def __init__(self,n_classes):\n",
    "        super(Resnet18_Unet,self).__init__()\n",
    "        self.fconv1 = nn.Conv2d(3, 64, kernel_size=7, stride=2, padding=3)\n",
    "        self.fbn1 = nn.BatchNorm2d(64)\n",
    "        self.frelu1 = nn.ReLU()\n",
    "        self.fmaxpooling = nn.MaxPool2d(kernel_size=3,stride=2,padding=1)\n",
    "        \n",
    "        self.conv2 = Conv2(64,128)\n",
    "        self.conv3 = Conv3(128,256)\n",
    "        self.conv4 = Conv4(256,512)\n",
    "        self.conv5 = Conv5(512,1024)\n",
    "        \n",
    "        self.middleconv = IdentityBlock(1024,2048)\n",
    "        self.dropout = nn.Dropout2d(0.1) #\n",
    "           \n",
    "        self.decoder5 = DecoderBlock(1024)\n",
    "        self.decoder4 = DecoderBlock(512)\n",
    "        self.decoder3 = DecoderBlock(256)\n",
    "        self.decoder2 = DecoderBlock(128)\n",
    "        self.decoder1 = DecoderBlock(64)\n",
    "        self.transpose = nn.ConvTranspose2d(64, 64, kernel_size=4, stride=2, padding=1) # output_padding 추가\n",
    "        \n",
    "        self.segmap = nn.Conv2d(64,n_classes, kernel_size=1)\n",
    "        self.domain_classifier = domain_classifier()\n",
    "        \n",
    "    def forward(self,x):\n",
    "        x = self.fconv1(x)#3->64\n",
    "        x0 = self.fbn1(x)\n",
    "        x1 = self.frelu1(x)\n",
    "        p = self.fmaxpooling(x1)#첫 conv: x0([8, 64, 109, 109]) p([8, 64, 54, 54])\n",
    "        #print(\"conv1: \",x1.shape, \"maxpooling: \",p.shape)\n",
    "        x2,p = self.conv2(p)\n",
    "        #print(\"conv2: \",x2.shape, \"maxpooling: \",p.shape)\n",
    "        x3,p = self.conv3(p)\n",
    "        #print(\"conv3: \",x3.shape, \"maxpooling: \",p.shape)\n",
    "        x4,p = self.conv4(p)\n",
    "        #print(\"conv4: \",x4.shape, \"maxpooling: \",p.shape)\n",
    "        x5,p = self.conv5(p)\n",
    "        #print(\"conv5: \",x5.shape, \"maxpooling: \",p.shape)\n",
    "        \n",
    "        xm = self.middleconv(p)#xm([8, 4096, 2, 2])\n",
    "        #print(\"xm: \",xm.shape, \"maxpooling: \",p.shape)\n",
    "        xm = self.dropout(xm)\n",
    "        \n",
    "        x = self.decoder5(xm,x5)#뉴런:2048*2->2048 1\n",
    "        x = self.decoder4(x,x4)#뉴런:1024*2->1024 \n",
    "        x = self.decoder3(x,x3) #14\n",
    "        x = self.decoder2(x,x2)#28\n",
    "        x = self.decoder1(x,x1)#55\n",
    "        x = self.transpose(x)\n",
    "        \n",
    "        #print(x.shape)\n",
    "        #x = F.interpolate(x, size=(224, 224))\n",
    "        x_c = self.segmap(x)\n",
    "        x_d = self.domain_classifier(x)\n",
    "        \n",
    "        return x_c,x_d"
   ]
  },
  {
   "cell_type": "code",
   "execution_count": 11,
   "metadata": {},
   "outputs": [],
   "source": [
    "# import pickle\n",
    "\n",
    "# # 저장된 class_weights를 불러옵니다.\n",
    "# class_weights_path = 'CLASS_WEIGHTS.pkl'\n",
    "\n",
    "# with open(class_weights_path, 'rb') as file:\n",
    "#     CLASS_WEIGHTS = pickle.load(file)\n",
    "\n",
    "# print(CLASS_WEIGHTS)"
   ]
  },
  {
   "cell_type": "markdown",
   "metadata": {},
   "source": [
    "## Loss Function"
   ]
  },
  {
   "cell_type": "code",
   "execution_count": 12,
   "metadata": {},
   "outputs": [],
   "source": [
    "# loss function과 optimizer 정의\n",
    "\n",
    "class DANN_Loss(nn.Module):\n",
    "    def __init__(self):\n",
    "        super(DANN_Loss, self).__init__()\n",
    "\n",
    "        #self.CE = nn.CrossEntropyLoss(weight=CLASS_WEIGHTS) # 0~9 class 분류용\n",
    "        self.CE = nn.CrossEntropyLoss()\n",
    "        #self.BCE = nn.CrossEntropyLoss() # 도메인 분류용\n",
    "        \n",
    "    # result : DANN_CNN에서 반환된 값\n",
    "    # label : 숫자 0 ~ 9에 대한 라벨\n",
    "    # domain_num : 0(source) or 1(target)\n",
    "    def forward(self, result, label, domain_num, alpha = 1):\n",
    "        label_logits, domain_logits = result # DANN_CNN의 결과\n",
    "\n",
    "        batch_size = domain_logits.shape[0]\n",
    "\n",
    "        #domain_target = torch.FloatTensor([domain_num] * batch_size).unsqueeze(1).to(device)\n",
    "        domain_target = torch.LongTensor([domain_num] * batch_size).to(device)\n",
    "        # print(\"segment_mask : \", label.shape)\n",
    "        # print(\"domain_answer : \", domain_target.shape)\n",
    "        segment_loss = self.CE(label_logits, label) # class 분류 loss\n",
    "        domain_loss = self.CE(domain_logits, domain_target) # domain 분류 loss\n",
    "        \n",
    "        loss = segment_loss + alpha * domain_loss\n",
    "\n",
    "        return loss\n",
    "    \n",
    "\n",
    "loss_fn = DANN_Loss().to(device)\n",
    "\n",
    "#criterion =nn.CrossEntropyLoss()\n",
    "#domain_criterion = nn.BCELoss()\n",
    "#criterion = nn.CrossEntropyLoss(weight=class_weights)"
   ]
  },
  {
   "cell_type": "code",
   "execution_count": 13,
   "metadata": {},
   "outputs": [],
   "source": [
    "import os\n",
    "os.environ['CUDA_LAUNCH_BLOCKING'] = '1'"
   ]
  },
  {
   "cell_type": "code",
   "execution_count": 14,
   "metadata": {},
   "outputs": [],
   "source": [
    "LR = 0.001\n",
    "EP = 40\n",
    "BATCH_SIZE = 16\n",
    "ACCMULATION_STEP = 1 \n",
    "N_CLASSES = 13 #IoU 점수측정하기 위한 클래스의 개수\n",
    "ALPHA = 0.5\n",
    "# model 초기화\n",
    "model = Resnet18_Unet(n_classes = N_CLASSES).to(device)\n",
    "#model = Unet(n_classes = N_CLASSES).to(device)\n",
    "optimizer = torch.optim.Adam(model.parameters(), lr=LR)\n",
    "\n",
    "optimizer.zero_grad() \n",
    "#########\n",
    "# source_dataset = CustomDataset(csv_file='./data/DA_csv/train_source.csv', transform=transform)\n",
    "# source_dataloader = DataLoader(source_dataset, batch_size=BATCH_SIZE, shuffle=True)\n",
    "# target_dataset = CustomDataset(csv_file='./data/DA_csv/fish_train_source.csv', transform=transform)\n",
    "# target_dataloader = DataLoader(target_dataset, batch_size=BATCH_SIZE, shuffle=True)\n",
    "\n",
    "# val_source_dataset = CustomDataset(csv_file='./data/DA_csv/val_source.csv', transform=transform)\n",
    "# val_source_dataloader = DataLoader(val_source_dataset, batch_size=BATCH_SIZE, shuffle=False)\n",
    "# val_target_dataset = CustomDataset(csv_file='./data/DA_csv/fish_val_source.csv', transform=transform)\n",
    "# val_target_dataloader = DataLoader(val_target_dataset, batch_size=BATCH_SIZE, shuffle=False)\n",
    "##########\n",
    "source_dataset = CustomDataset(csv_file='./data/train_source.csv', transform=transform)\n",
    "source_dataloader = DataLoader(source_dataset, batch_size=BATCH_SIZE, shuffle=True)\n",
    "val_target_dataset = CustomDataset(csv_file='./data/DA_csv/val_source.csv', transform=transform)\n",
    "val_target_dataloader = DataLoader(val_target_dataset, batch_size=BATCH_SIZE, shuffle=False)\n",
    "\n",
    "# source_dataset = CustomDataset(csv_file=os.path.join(\"/mnt/nas27/Dataset/Samsung_DM\",'./train_source.csv'), transform=transform)#\n",
    "# source_dataloader = DataLoader(source_dataset, batch_size=BATCH_SIZE, shuffle=True, num_workers=8)\n",
    "# s_valid_dataset = CustomDataset(csv_file=os.path.join(\"/mnt/nas27/Dataset/Samsung_DM\",'./val_source.csv'), transform=transform)\n",
    "# s_valid_dataloader = DataLoader(s_valid_dataset, batch_size=BATCH_SIZE, shuffle=False, num_workers=8)\n",
    "# #target_dataset = CustomDataset_target(csv_file='./f_train_source.csv', transform=transform)\n",
    "# target_dataset = CustomDataset(csv_file=os.path.join(\"/mnt/nas27/Dataset/Samsung_DM\",'./fish_val_source.csv'), transform=transform)\n",
    "# target_dataloader = DataLoader(target_dataset, batch_size=BATCH_SIZE, shuffle=False, num_workers=8)\n",
    "\n",
    "# t_test_dataset = CustomDataset(csv_file=os.path.join(\"/mnt/nas27/Dataset/Samsung_DM\",'./test.csv'), transform=transform, infer=True)\n",
    "# t_test_dataloader = DataLoader(t_test_dataset, batch_size=BATCH_SIZE, shuffle=False, num_workers=8)"
   ]
  },
  {
   "cell_type": "code",
   "execution_count": 15,
   "metadata": {},
   "outputs": [],
   "source": [
    "# import pandas as pd\n",
    "# import os\n",
    "# import cv2\n",
    "# import matplotlib.pyplot as plt\n",
    "# a1 = pd.read_csv(\"./data/6_fish_source.csv\")\n",
    "# p = \"./data/224/\"\n",
    "# a2 = os.path.join(p, a1.iloc[3,2])\n",
    "# a3 = cv2.imread(a2)\n",
    "# a4 = cv2.cvtColor(a3, cv2.COLOR_BGR2GRAY)\n",
    "# a4 = np.round(a4).astype(np.uint8)\n",
    "# a5 = a4*20\n",
    "\n",
    "# plt.imshow(a5, cmap='gray')\n",
    "# plt.axis('off')\n",
    "# plt.show()"
   ]
  },
  {
   "cell_type": "code",
   "execution_count": 16,
   "metadata": {},
   "outputs": [
    {
     "name": "stderr",
     "output_type": "stream",
     "text": [
      "Failed to detect the name of this notebook, you can set it manually with the WANDB_NOTEBOOK_NAME environment variable to enable code saving.\n",
      "\u001b[34m\u001b[1mwandb\u001b[0m: Currently logged in as: \u001b[33mpook0612\u001b[0m (\u001b[33mlimbw\u001b[0m). Use \u001b[1m`wandb login --relogin`\u001b[0m to force relogin\n"
     ]
    },
    {
     "data": {
      "text/html": [
       "wandb version 0.15.12 is available!  To upgrade, please run:\n",
       " $ pip install wandb --upgrade"
      ],
      "text/plain": [
       "<IPython.core.display.HTML object>"
      ]
     },
     "metadata": {},
     "output_type": "display_data"
    },
    {
     "data": {
      "text/html": [
       "Tracking run with wandb version 0.15.10"
      ],
      "text/plain": [
       "<IPython.core.display.HTML object>"
      ]
     },
     "metadata": {},
     "output_type": "display_data"
    },
    {
     "data": {
      "text/html": [
       "Run data is saved locally in <code>/home/MMI24limbyungwan/Design_Project/Design_project/wandb/run-20231027_145329-zce3otry</code>"
      ],
      "text/plain": [
       "<IPython.core.display.HTML object>"
      ]
     },
     "metadata": {},
     "output_type": "display_data"
    },
    {
     "data": {
      "text/html": [
       "Syncing run <strong><a href='https://wandb.ai/limbw/practice_10_27_4d_res18/runs/zce3otry' target=\"_blank\">dauntless-puddle-1</a></strong> to <a href='https://wandb.ai/limbw/practice_10_27_4d_res18' target=\"_blank\">Weights & Biases</a> (<a href='https://wandb.me/run' target=\"_blank\">docs</a>)<br/>"
      ],
      "text/plain": [
       "<IPython.core.display.HTML object>"
      ]
     },
     "metadata": {},
     "output_type": "display_data"
    },
    {
     "data": {
      "text/html": [
       " View project at <a href='https://wandb.ai/limbw/practice_10_27_4d_res18' target=\"_blank\">https://wandb.ai/limbw/practice_10_27_4d_res18</a>"
      ],
      "text/plain": [
       "<IPython.core.display.HTML object>"
      ]
     },
     "metadata": {},
     "output_type": "display_data"
    },
    {
     "data": {
      "text/html": [
       " View run at <a href='https://wandb.ai/limbw/practice_10_27_4d_res18/runs/zce3otry' target=\"_blank\">https://wandb.ai/limbw/practice_10_27_4d_res18/runs/zce3otry</a>"
      ],
      "text/plain": [
       "<IPython.core.display.HTML object>"
      ]
     },
     "metadata": {},
     "output_type": "display_data"
    },
    {
     "name": "stderr",
     "output_type": "stream",
     "text": [
      "100%|██████████| 138/138 [01:15<00:00,  1.83it/s]\n"
     ]
    },
    {
     "name": "stdout",
     "output_type": "stream",
     "text": [
      "--IoU Scores Train--\n",
      "Class0: 0.0612 Class1: 0.1048 Class2: 0.1237 Class3: 0.1827 Class4: 0.2000 Class5: 0.1995 Class6: 0.2244 \n",
      "Class7: 0.2392 Class8: 0.2444 Class9: 0.2933 Class10: 0.2802 Class11: 0.2888 Class12: 0.2758 \n",
      "Epoch1\n",
      "Train Loss: 1.3305710074694261\n",
      "Train mIoU: 0.2090884666621436\n",
      "___________________________________________________________________________________________\n",
      "\n"
     ]
    },
    {
     "name": "stderr",
     "output_type": "stream",
     "text": [
      "100%|██████████| 15/15 [00:04<00:00,  3.18it/s]\n"
     ]
    },
    {
     "name": "stdout",
     "output_type": "stream",
     "text": [
      "\n",
      "--IoU Scores Fish val--\n",
      "Class0: 0.3516 Class1: 0.2767 Class2: 0.2466 Class3: 0.2456 Class4: 0.3350 Class5: 0.2561 Class6: 0.3416 \n",
      "Class7: 0.2973 Class8: 0.2782 Class9: 0.2665 Class10: 0.2815 Class11: 0.3216 Class12: 0.2879 \n",
      "Epoch1\n",
      "Valid Loss: 0.8913427432378133\n",
      "Valid mIoU: 0.2912346181954423\n",
      "___________________________________________________________________________________________\n",
      "\n"
     ]
    },
    {
     "name": "stderr",
     "output_type": "stream",
     "text": [
      "100%|██████████| 138/138 [01:16<00:00,  1.81it/s]\n"
     ]
    },
    {
     "name": "stdout",
     "output_type": "stream",
     "text": [
      "--IoU Scores Train--\n",
      "Class0: 0.2909 Class1: 0.3019 Class2: 0.3035 Class3: 0.2992 Class4: 0.2969 Class5: 0.2875 Class6: 0.3093 \n",
      "Class7: 0.2984 Class8: 0.3013 Class9: 0.3135 Class10: 0.3021 Class11: 0.3170 Class12: 0.3176 \n",
      "Epoch2\n",
      "Train Loss: 1.015205538791159\n",
      "Train mIoU: 0.3030048946982704\n",
      "___________________________________________________________________________________________\n",
      "\n"
     ]
    },
    {
     "name": "stderr",
     "output_type": "stream",
     "text": [
      "100%|██████████| 15/15 [00:04<00:00,  3.05it/s]\n"
     ]
    },
    {
     "name": "stdout",
     "output_type": "stream",
     "text": [
      "\n",
      "--IoU Scores Fish val--\n",
      "Class0: 0.3115 Class1: 0.2501 Class2: 0.2155 Class3: 0.2161 Class4: 0.2930 Class5: 0.2323 Class6: 0.3202 \n",
      "Class7: 0.2502 Class8: 0.2474 Class9: 0.2404 Class10: 0.2377 Class11: 0.2739 Class12: 0.2419 \n",
      "Epoch2\n",
      "Valid Loss: 0.6429948250452677\n",
      "Valid mIoU: 0.2561603673168753\n",
      "___________________________________________________________________________________________\n",
      "\n"
     ]
    },
    {
     "name": "stderr",
     "output_type": "stream",
     "text": [
      "100%|██████████| 138/138 [01:17<00:00,  1.78it/s]\n"
     ]
    },
    {
     "name": "stdout",
     "output_type": "stream",
     "text": [
      "--IoU Scores Train--\n",
      "Class0: 0.3019 Class1: 0.3161 Class2: 0.3108 Class3: 0.3216 Class4: 0.3209 Class5: 0.3256 Class6: 0.3285 \n",
      "Class7: 0.3146 Class8: 0.3332 Class9: 0.3331 Class10: 0.3240 Class11: 0.3361 Class12: 0.3253 \n",
      "Epoch3\n",
      "Train Loss: 1.0348477424054905\n",
      "Train mIoU: 0.3224471368756949\n",
      "___________________________________________________________________________________________\n",
      "\n"
     ]
    },
    {
     "name": "stderr",
     "output_type": "stream",
     "text": [
      "100%|██████████| 15/15 [00:04<00:00,  3.16it/s]\n"
     ]
    },
    {
     "name": "stdout",
     "output_type": "stream",
     "text": [
      "\n",
      "--IoU Scores Fish val--\n",
      "Class0: 0.3438 Class1: 0.2671 Class2: 0.2385 Class3: 0.2296 Class4: 0.3045 Class5: 0.2351 Class6: 0.3313 \n",
      "Class7: 0.2796 Class8: 0.2537 Class9: 0.2426 Class10: 0.2428 Class11: 0.2948 Class12: 0.2593 \n",
      "Epoch3\n",
      "Valid Loss: 0.5651910106341044\n",
      "Valid mIoU: 0.2709836968190313\n",
      "___________________________________________________________________________________________\n",
      "\n"
     ]
    },
    {
     "name": "stderr",
     "output_type": "stream",
     "text": [
      "100%|██████████| 138/138 [01:17<00:00,  1.77it/s]\n"
     ]
    },
    {
     "name": "stdout",
     "output_type": "stream",
     "text": [
      "--IoU Scores Train--\n",
      "Class0: 0.3258 Class1: 0.3322 Class2: 0.3245 Class3: 0.3314 Class4: 0.3413 Class5: 0.3244 Class6: 0.3380 \n",
      "Class7: 0.3303 Class8: 0.3437 Class9: 0.3543 Class10: 0.3398 Class11: 0.3477 Class12: 0.3383 \n",
      "Epoch4\n",
      "Train Loss: 1.0081536838973777\n",
      "Train mIoU: 0.33628221051399615\n",
      "___________________________________________________________________________________________\n",
      "\n"
     ]
    },
    {
     "name": "stderr",
     "output_type": "stream",
     "text": [
      "100%|██████████| 15/15 [00:04<00:00,  3.13it/s]\n"
     ]
    },
    {
     "name": "stdout",
     "output_type": "stream",
     "text": [
      "\n",
      "--IoU Scores Fish val--\n",
      "Class0: 0.3763 Class1: 0.3196 Class2: 0.2777 Class3: 0.2863 Class4: 0.3691 Class5: 0.2876 Class6: 0.3706 \n",
      "Class7: 0.3256 Class8: 0.3116 Class9: 0.2911 Class10: 0.3064 Class11: 0.3461 Class12: 0.3235 \n",
      "Epoch4\n",
      "Valid Loss: 0.5293758670488994\n",
      "Valid mIoU: 0.3224339222575223\n",
      "___________________________________________________________________________________________\n",
      "\n"
     ]
    },
    {
     "name": "stderr",
     "output_type": "stream",
     "text": [
      "100%|██████████| 138/138 [01:17<00:00,  1.77it/s]\n"
     ]
    },
    {
     "name": "stdout",
     "output_type": "stream",
     "text": [
      "--IoU Scores Train--\n",
      "Class0: 0.3431 Class1: 0.3548 Class2: 0.3487 Class3: 0.3511 Class4: 0.3497 Class5: 0.3446 Class6: 0.3629 \n",
      "Class7: 0.3357 Class8: 0.3609 Class9: 0.3674 Class10: 0.3614 Class11: 0.3653 Class12: 0.3621 \n",
      "Epoch5\n",
      "Train Loss: 0.9864003783550815\n",
      "Train mIoU: 0.3544485552182493\n",
      "___________________________________________________________________________________________\n",
      "\n"
     ]
    },
    {
     "name": "stderr",
     "output_type": "stream",
     "text": [
      "100%|██████████| 15/15 [00:04<00:00,  3.17it/s]\n"
     ]
    },
    {
     "name": "stdout",
     "output_type": "stream",
     "text": [
      "\n",
      "--IoU Scores Fish val--\n",
      "Class0: 0.3886 Class1: 0.3247 Class2: 0.2907 Class3: 0.2953 Class4: 0.3720 Class5: 0.2883 Class6: 0.3883 \n",
      "Class7: 0.3395 Class8: 0.3182 Class9: 0.3008 Class10: 0.3102 Class11: 0.3532 Class12: 0.3378 \n",
      "Epoch5\n",
      "Valid Loss: 0.536871858437856\n",
      "Valid mIoU: 0.3313670699998672\n",
      "___________________________________________________________________________________________\n",
      "\n"
     ]
    },
    {
     "name": "stderr",
     "output_type": "stream",
     "text": [
      "100%|██████████| 138/138 [01:17<00:00,  1.78it/s]\n"
     ]
    },
    {
     "name": "stdout",
     "output_type": "stream",
     "text": [
      "--IoU Scores Train--\n",
      "Class0: 0.3706 Class1: 0.3757 Class2: 0.3631 Class3: 0.3768 Class4: 0.3760 Class5: 0.3677 Class6: 0.3864 \n",
      "Class7: 0.3664 Class8: 0.3780 Class9: 0.3874 Class10: 0.3676 Class11: 0.3918 Class12: 0.3716 \n",
      "Epoch6\n",
      "Train Loss: 0.9819326370522596\n",
      "Train mIoU: 0.37531051707869734\n",
      "___________________________________________________________________________________________\n",
      "\n"
     ]
    },
    {
     "name": "stderr",
     "output_type": "stream",
     "text": [
      "100%|██████████| 15/15 [00:04<00:00,  3.11it/s]\n"
     ]
    },
    {
     "name": "stdout",
     "output_type": "stream",
     "text": [
      "\n",
      "--IoU Scores Fish val--\n",
      "Class0: 0.3598 Class1: 0.2998 Class2: 0.2711 Class3: 0.2738 Class4: 0.3243 Class5: 0.2642 Class6: 0.3603 \n",
      "Class7: 0.3143 Class8: 0.2993 Class9: 0.2778 Class10: 0.2913 Class11: 0.3307 Class12: 0.3247 \n",
      "Epoch6\n",
      "Valid Loss: 0.5499300042788188\n",
      "Valid mIoU: 0.30703889140525653\n",
      "___________________________________________________________________________________________\n",
      "\n"
     ]
    },
    {
     "name": "stderr",
     "output_type": "stream",
     "text": [
      "100%|██████████| 138/138 [01:17<00:00,  1.78it/s]\n"
     ]
    },
    {
     "name": "stdout",
     "output_type": "stream",
     "text": [
      "--IoU Scores Train--\n",
      "Class0: 0.3772 Class1: 0.3986 Class2: 0.3818 Class3: 0.3896 Class4: 0.3932 Class5: 0.3846 Class6: 0.3940 \n",
      "Class7: 0.3853 Class8: 0.4002 Class9: 0.4016 Class10: 0.3991 Class11: 0.4047 Class12: 0.3891 \n",
      "Epoch7\n",
      "Train Loss: 0.9606025763179945\n",
      "Train mIoU: 0.3922349192351179\n",
      "___________________________________________________________________________________________\n",
      "\n"
     ]
    },
    {
     "name": "stderr",
     "output_type": "stream",
     "text": [
      "100%|██████████| 15/15 [00:04<00:00,  3.14it/s]\n"
     ]
    },
    {
     "name": "stdout",
     "output_type": "stream",
     "text": [
      "\n",
      "--IoU Scores Fish val--\n",
      "Class0: 0.3651 Class1: 0.3238 Class2: 0.2807 Class3: 0.2933 Class4: 0.3620 Class5: 0.2895 Class6: 0.3695 \n",
      "Class7: 0.3131 Class8: 0.3045 Class9: 0.2907 Class10: 0.3023 Class11: 0.3463 Class12: 0.3185 \n",
      "Epoch7\n",
      "Valid Loss: 0.5241890708605449\n",
      "Valid mIoU: 0.3199536275254269\n",
      "___________________________________________________________________________________________\n",
      "\n"
     ]
    },
    {
     "name": "stderr",
     "output_type": "stream",
     "text": [
      "100%|██████████| 138/138 [01:17<00:00,  1.78it/s]\n"
     ]
    },
    {
     "name": "stdout",
     "output_type": "stream",
     "text": [
      "--IoU Scores Train--\n",
      "Class0: 0.4245 Class1: 0.4132 Class2: 0.3848 Class3: 0.3956 Class4: 0.4053 Class5: 0.3814 Class6: 0.4028 \n",
      "Class7: 0.3795 Class8: 0.4127 Class9: 0.4117 Class10: 0.3981 Class11: 0.3895 Class12: 0.3962 \n",
      "Epoch8\n",
      "Train Loss: 0.9483812127424323\n",
      "Train mIoU: 0.39962606063248235\n",
      "___________________________________________________________________________________________\n",
      "\n"
     ]
    },
    {
     "name": "stderr",
     "output_type": "stream",
     "text": [
      "100%|██████████| 15/15 [00:04<00:00,  3.11it/s]\n"
     ]
    },
    {
     "name": "stdout",
     "output_type": "stream",
     "text": [
      "\n",
      "--IoU Scores Fish val--\n",
      "Class0: 0.3875 Class1: 0.3299 Class2: 0.2707 Class3: 0.2757 Class4: 0.3610 Class5: 0.2936 Class6: 0.3725 \n",
      "Class7: 0.3418 Class8: 0.3077 Class9: 0.2781 Class10: 0.3015 Class11: 0.3408 Class12: 0.3160 \n",
      "Epoch8\n",
      "Valid Loss: 0.5454055507977803\n",
      "Valid mIoU: 0.32128800662338725\n",
      "___________________________________________________________________________________________\n",
      "\n"
     ]
    },
    {
     "name": "stderr",
     "output_type": "stream",
     "text": [
      "100%|██████████| 138/138 [01:17<00:00,  1.78it/s]\n"
     ]
    },
    {
     "name": "stdout",
     "output_type": "stream",
     "text": [
      "--IoU Scores Train--\n",
      "Class0: 0.4017 Class1: 0.3823 Class2: 0.3963 Class3: 0.4142 Class4: 0.4146 Class5: 0.4069 Class6: 0.4202 \n",
      "Class7: 0.3972 Class8: 0.4211 Class9: 0.4045 Class10: 0.3991 Class11: 0.4033 Class12: 0.3946 \n",
      "Epoch9\n",
      "Train Loss: 0.943677726863087\n",
      "Train mIoU: 0.404321711813625\n",
      "___________________________________________________________________________________________\n",
      "\n"
     ]
    },
    {
     "name": "stderr",
     "output_type": "stream",
     "text": [
      "100%|██████████| 15/15 [00:04<00:00,  3.09it/s]\n"
     ]
    },
    {
     "name": "stdout",
     "output_type": "stream",
     "text": [
      "\n",
      "--IoU Scores Fish val--\n",
      "Class0: 0.4062 Class1: 0.3367 Class2: 0.3059 Class3: 0.3026 Class4: 0.3815 Class5: 0.3125 Class6: 0.4002 \n",
      "Class7: 0.3525 Class8: 0.3280 Class9: 0.3044 Class10: 0.3183 Class11: 0.3630 Class12: 0.3587 \n",
      "Epoch9\n",
      "Valid Loss: 0.5471273779869079\n",
      "Valid mIoU: 0.3438771747609331\n",
      "___________________________________________________________________________________________\n",
      "\n"
     ]
    },
    {
     "name": "stderr",
     "output_type": "stream",
     "text": [
      "100%|██████████| 138/138 [01:17<00:00,  1.78it/s]\n"
     ]
    },
    {
     "name": "stdout",
     "output_type": "stream",
     "text": [
      "--IoU Scores Train--\n",
      "Class0: 0.3975 Class1: 0.4185 Class2: 0.4051 Class3: 0.4174 Class4: 0.4227 Class5: 0.4052 Class6: 0.4227 \n",
      "Class7: 0.4056 Class8: 0.4146 Class9: 0.4180 Class10: 0.4060 Class11: 0.4281 Class12: 0.4043 \n",
      "Epoch10\n",
      "Train Loss: 0.9456269261629685\n",
      "Train mIoU: 0.41273561180738977\n",
      "___________________________________________________________________________________________\n",
      "\n"
     ]
    },
    {
     "name": "stderr",
     "output_type": "stream",
     "text": [
      "100%|██████████| 15/15 [00:05<00:00,  2.88it/s]\n"
     ]
    },
    {
     "name": "stdout",
     "output_type": "stream",
     "text": [
      "\n",
      "--IoU Scores Fish val--\n",
      "Class0: 0.4229 Class1: 0.3567 Class2: 0.3220 Class3: 0.3220 Class4: 0.4102 Class5: 0.3286 Class6: 0.4139 \n",
      "Class7: 0.3756 Class8: 0.3418 Class9: 0.3164 Class10: 0.3375 Class11: 0.3867 Class12: 0.3901 \n",
      "Epoch10\n",
      "Valid Loss: 0.4927730898062388\n",
      "Valid mIoU: 0.36340346503488086\n",
      "___________________________________________________________________________________________\n",
      "\n"
     ]
    },
    {
     "name": "stderr",
     "output_type": "stream",
     "text": [
      "100%|██████████| 138/138 [01:17<00:00,  1.77it/s]\n"
     ]
    },
    {
     "name": "stdout",
     "output_type": "stream",
     "text": [
      "--IoU Scores Train--\n",
      "Class0: 0.4129 Class1: 0.4211 Class2: 0.4134 Class3: 0.4143 Class4: 0.3895 Class5: 0.4031 Class6: 0.4220 \n",
      "Class7: 0.4126 Class8: 0.4334 Class9: 0.4381 Class10: 0.4265 Class11: 0.4415 Class12: 0.4351 \n",
      "Epoch11\n",
      "Train Loss: 0.9224223542040673\n",
      "Train mIoU: 0.4202604136156471\n",
      "___________________________________________________________________________________________\n",
      "\n"
     ]
    },
    {
     "name": "stderr",
     "output_type": "stream",
     "text": [
      "100%|██████████| 15/15 [00:04<00:00,  3.05it/s]\n"
     ]
    },
    {
     "name": "stdout",
     "output_type": "stream",
     "text": [
      "\n",
      "--IoU Scores Fish val--\n",
      "Class0: 0.2969 Class1: 0.2472 Class2: 0.2098 Class3: 0.2149 Class4: 0.2443 Class5: 0.2134 Class6: 0.3107 \n",
      "Class7: 0.2539 Class8: 0.2261 Class9: 0.2119 Class10: 0.2282 Class11: 0.2281 Class12: 0.2736 \n",
      "Epoch11\n",
      "Valid Loss: 0.8605203906695048\n",
      "Valid mIoU: 0.24299635241780665\n",
      "___________________________________________________________________________________________\n",
      "\n"
     ]
    },
    {
     "name": "stderr",
     "output_type": "stream",
     "text": [
      "100%|██████████| 138/138 [01:18<00:00,  1.76it/s]\n"
     ]
    },
    {
     "name": "stdout",
     "output_type": "stream",
     "text": [
      "--IoU Scores Train--\n",
      "Class0: 0.4116 Class1: 0.4271 Class2: 0.4101 Class3: 0.4390 Class4: 0.4215 Class5: 0.4201 Class6: 0.4342 \n",
      "Class7: 0.4148 Class8: 0.4435 Class9: 0.4497 Class10: 0.4216 Class11: 0.4456 Class12: 0.4193 \n",
      "Epoch12\n",
      "Train Loss: 0.9341334985650104\n",
      "Train mIoU: 0.42753421325856356\n",
      "___________________________________________________________________________________________\n",
      "\n"
     ]
    },
    {
     "name": "stderr",
     "output_type": "stream",
     "text": [
      "100%|██████████| 15/15 [00:04<00:00,  3.12it/s]\n"
     ]
    },
    {
     "name": "stdout",
     "output_type": "stream",
     "text": [
      "\n",
      "--IoU Scores Fish val--\n",
      "Class0: 0.4182 Class1: 0.3606 Class2: 0.3252 Class3: 0.3315 Class4: 0.4111 Class5: 0.3362 Class6: 0.4158 \n",
      "Class7: 0.3712 Class8: 0.3358 Class9: 0.3144 Class10: 0.3289 Class11: 0.3836 Class12: 0.3922 \n",
      "Epoch12\n",
      "Valid Loss: 0.5030653576056162\n",
      "Valid mIoU: 0.36343934372242137\n",
      "___________________________________________________________________________________________\n",
      "\n"
     ]
    },
    {
     "name": "stderr",
     "output_type": "stream",
     "text": [
      "100%|██████████| 138/138 [01:17<00:00,  1.77it/s]\n"
     ]
    },
    {
     "name": "stdout",
     "output_type": "stream",
     "text": [
      "--IoU Scores Train--\n",
      "Class0: 0.4378 Class1: 0.4438 Class2: 0.4387 Class3: 0.4474 Class4: 0.4500 Class5: 0.4260 Class6: 0.4503 \n",
      "Class7: 0.4426 Class8: 0.4435 Class9: 0.4495 Class10: 0.4317 Class11: 0.4393 Class12: 0.4322 \n",
      "Epoch13\n",
      "Train Loss: 0.9082503357659215\n",
      "Train mIoU: 0.4409889940498282\n",
      "___________________________________________________________________________________________\n",
      "\n"
     ]
    },
    {
     "name": "stderr",
     "output_type": "stream",
     "text": [
      "100%|██████████| 15/15 [00:04<00:00,  3.14it/s]\n"
     ]
    },
    {
     "name": "stdout",
     "output_type": "stream",
     "text": [
      "\n",
      "--IoU Scores Fish val--\n",
      "Class0: 0.4394 Class1: 0.3625 Class2: 0.3288 Class3: 0.3215 Class4: 0.4147 Class5: 0.3508 Class6: 0.4320 \n",
      "Class7: 0.3874 Class8: 0.3529 Class9: 0.3226 Class10: 0.3473 Class11: 0.3897 Class12: 0.3997 \n",
      "Epoch13\n",
      "Valid Loss: 0.5066399137179057\n",
      "Valid mIoU: 0.37301845765890934\n",
      "___________________________________________________________________________________________\n",
      "\n"
     ]
    },
    {
     "name": "stderr",
     "output_type": "stream",
     "text": [
      "100%|██████████| 138/138 [01:17<00:00,  1.77it/s]\n"
     ]
    },
    {
     "name": "stdout",
     "output_type": "stream",
     "text": [
      "--IoU Scores Train--\n",
      "Class0: 0.4138 Class1: 0.4336 Class2: 0.4321 Class3: 0.4478 Class4: 0.4404 Class5: 0.4571 Class6: 0.4411 \n",
      "Class7: 0.4351 Class8: 0.4564 Class9: 0.4469 Class10: 0.4088 Class11: 0.4346 Class12: 0.4346 \n",
      "Epoch14\n",
      "Train Loss: 0.9212598286677098\n",
      "Train mIoU: 0.4371055698188542\n",
      "___________________________________________________________________________________________\n",
      "\n"
     ]
    },
    {
     "name": "stderr",
     "output_type": "stream",
     "text": [
      "100%|██████████| 15/15 [00:04<00:00,  3.07it/s]\n"
     ]
    },
    {
     "name": "stdout",
     "output_type": "stream",
     "text": [
      "\n",
      "--IoU Scores Fish val--\n",
      "Class0: 0.4274 Class1: 0.3729 Class2: 0.3279 Class3: 0.3332 Class4: 0.4102 Class5: 0.3324 Class6: 0.4164 \n",
      "Class7: 0.3741 Class8: 0.3544 Class9: 0.3279 Class10: 0.3436 Class11: 0.3801 Class12: 0.3724 \n",
      "Epoch14\n",
      "Valid Loss: 0.49781517187754315\n",
      "Valid mIoU: 0.36714378789737206\n",
      "___________________________________________________________________________________________\n",
      "\n"
     ]
    },
    {
     "name": "stderr",
     "output_type": "stream",
     "text": [
      "100%|██████████| 138/138 [01:18<00:00,  1.76it/s]\n"
     ]
    },
    {
     "name": "stdout",
     "output_type": "stream",
     "text": [
      "--IoU Scores Train--\n",
      "Class0: 0.4306 Class1: 0.4396 Class2: 0.4198 Class3: 0.4356 Class4: 0.4481 Class5: 0.4745 Class6: 0.4384 \n",
      "Class7: 0.4446 Class8: 0.4321 Class9: 0.4588 Class10: 0.4400 Class11: 0.4614 Class12: 0.4299 \n",
      "Epoch15\n",
      "Train Loss: 0.9199866933235223\n",
      "Train mIoU: 0.4425586351588242\n",
      "___________________________________________________________________________________________\n",
      "\n"
     ]
    },
    {
     "name": "stderr",
     "output_type": "stream",
     "text": [
      "100%|██████████| 15/15 [00:04<00:00,  3.12it/s]\n"
     ]
    },
    {
     "name": "stdout",
     "output_type": "stream",
     "text": [
      "\n",
      "--IoU Scores Fish val--\n",
      "Class0: 0.4143 Class1: 0.3582 Class2: 0.3111 Class3: 0.3168 Class4: 0.3882 Class5: 0.3175 Class6: 0.4104 \n",
      "Class7: 0.3699 Class8: 0.3277 Class9: 0.3127 Class10: 0.3294 Class11: 0.3677 Class12: 0.3949 \n",
      "Epoch15\n",
      "Valid Loss: 0.5175975521405538\n",
      "Valid mIoU: 0.355283278579206\n",
      "___________________________________________________________________________________________\n",
      "\n"
     ]
    },
    {
     "name": "stderr",
     "output_type": "stream",
     "text": [
      "100%|██████████| 138/138 [01:17<00:00,  1.78it/s]\n"
     ]
    },
    {
     "name": "stdout",
     "output_type": "stream",
     "text": [
      "--IoU Scores Train--\n",
      "Class0: 0.4545 Class1: 0.4633 Class2: 0.4291 Class3: 0.4556 Class4: 0.4560 Class5: 0.4448 Class6: 0.4514 \n",
      "Class7: 0.4334 Class8: 0.4400 Class9: 0.4511 Class10: 0.4475 Class11: 0.4515 Class12: 0.4218 \n",
      "Epoch16\n",
      "Train Loss: 0.9004175369290338\n",
      "Train mIoU: 0.44614446605238717\n",
      "___________________________________________________________________________________________\n",
      "\n"
     ]
    },
    {
     "name": "stderr",
     "output_type": "stream",
     "text": [
      "100%|██████████| 15/15 [00:04<00:00,  3.12it/s]\n"
     ]
    },
    {
     "name": "stdout",
     "output_type": "stream",
     "text": [
      "\n",
      "--IoU Scores Fish val--\n",
      "Class0: 0.3750 Class1: 0.3181 Class2: 0.2599 Class3: 0.2709 Class4: 0.3435 Class5: 0.2786 Class6: 0.3766 \n",
      "Class7: 0.3272 Class8: 0.3031 Class9: 0.2830 Class10: 0.3038 Class11: 0.3258 Class12: 0.3371 \n",
      "Epoch16\n",
      "Valid Loss: 0.5512885649998983\n",
      "Valid mIoU: 0.3155870377727972\n",
      "___________________________________________________________________________________________\n",
      "\n"
     ]
    },
    {
     "name": "stderr",
     "output_type": "stream",
     "text": [
      "100%|██████████| 138/138 [01:18<00:00,  1.76it/s]\n"
     ]
    },
    {
     "name": "stdout",
     "output_type": "stream",
     "text": [
      "--IoU Scores Train--\n",
      "Class0: 0.4396 Class1: 0.4517 Class2: 0.4497 Class3: 0.4522 Class4: 0.4455 Class5: 0.4434 Class6: 0.4434 \n",
      "Class7: 0.4482 Class8: 0.4355 Class9: 0.4478 Class10: 0.4429 Class11: 0.4395 Class12: 0.4433 \n",
      "Epoch17\n",
      "Train Loss: 0.9232604598653489\n",
      "Train mIoU: 0.4448199276423711\n",
      "___________________________________________________________________________________________\n",
      "\n"
     ]
    },
    {
     "name": "stderr",
     "output_type": "stream",
     "text": [
      "100%|██████████| 15/15 [00:04<00:00,  3.16it/s]\n"
     ]
    },
    {
     "name": "stdout",
     "output_type": "stream",
     "text": [
      "\n",
      "--IoU Scores Fish val--\n",
      "Class0: 0.4153 Class1: 0.3666 Class2: 0.3157 Class3: 0.3207 Class4: 0.4024 Class5: 0.3405 Class6: 0.4072 \n",
      "Class7: 0.3693 Class8: 0.3297 Class9: 0.3187 Class10: 0.3293 Class11: 0.3661 Class12: 0.3699 \n",
      "Epoch17\n",
      "Valid Loss: 0.5035366733868917\n",
      "Valid mIoU: 0.3577858643589983\n",
      "___________________________________________________________________________________________\n",
      "\n"
     ]
    },
    {
     "name": "stderr",
     "output_type": "stream",
     "text": [
      "100%|██████████| 138/138 [01:17<00:00,  1.79it/s]\n"
     ]
    },
    {
     "name": "stdout",
     "output_type": "stream",
     "text": [
      "--IoU Scores Train--\n",
      "Class0: 0.4518 Class1: 0.4459 Class2: 0.4379 Class3: 0.4644 Class4: 0.4291 Class5: 0.4538 Class6: 0.4516 \n",
      "Class7: 0.4532 Class8: 0.4572 Class9: 0.4471 Class10: 0.4659 Class11: 0.4592 Class12: 0.4505 \n",
      "Epoch18\n",
      "Train Loss: 0.9091562689214513\n",
      "Train mIoU: 0.451361869305626\n",
      "___________________________________________________________________________________________\n",
      "\n"
     ]
    },
    {
     "name": "stderr",
     "output_type": "stream",
     "text": [
      "100%|██████████| 15/15 [00:04<00:00,  3.14it/s]\n"
     ]
    },
    {
     "name": "stdout",
     "output_type": "stream",
     "text": [
      "\n",
      "--IoU Scores Fish val--\n",
      "Class0: 0.4252 Class1: 0.3582 Class2: 0.3299 Class3: 0.3296 Class4: 0.3958 Class5: 0.3392 Class6: 0.4179 \n",
      "Class7: 0.3794 Class8: 0.3338 Class9: 0.3215 Class10: 0.3280 Class11: 0.3787 Class12: 0.3878 \n",
      "Epoch18\n",
      "Valid Loss: 0.5019435246785482\n",
      "Valid mIoU: 0.36346663513791\n",
      "___________________________________________________________________________________________\n",
      "\n"
     ]
    },
    {
     "name": "stderr",
     "output_type": "stream",
     "text": [
      "100%|██████████| 138/138 [01:17<00:00,  1.78it/s]\n"
     ]
    },
    {
     "name": "stdout",
     "output_type": "stream",
     "text": [
      "--IoU Scores Train--\n",
      "Class0: 0.4760 Class1: 0.4664 Class2: 0.4567 Class3: 0.4675 Class4: 0.4399 Class5: 0.4564 Class6: 0.4688 \n",
      "Class7: 0.4409 Class8: 0.4558 Class9: 0.4943 Class10: 0.4591 Class11: 0.4394 Class12: 0.4459 \n",
      "Epoch19\n",
      "Train Loss: 0.8984294348004935\n",
      "Train mIoU: 0.4590189348673453\n",
      "___________________________________________________________________________________________\n",
      "\n"
     ]
    },
    {
     "name": "stderr",
     "output_type": "stream",
     "text": [
      "100%|██████████| 15/15 [00:04<00:00,  3.12it/s]\n"
     ]
    },
    {
     "name": "stdout",
     "output_type": "stream",
     "text": [
      "\n",
      "--IoU Scores Fish val--\n",
      "Class0: 0.3419 Class1: 0.2874 Class2: 0.2269 Class3: 0.2336 Class4: 0.2659 Class5: 0.2567 Class6: 0.3259 \n",
      "Class7: 0.3043 Class8: 0.2481 Class9: 0.2433 Class10: 0.2633 Class11: 0.2383 Class12: 0.2889 \n",
      "Epoch19\n",
      "Valid Loss: 0.691974405447642\n",
      "Valid mIoU: 0.27112366625871204\n",
      "___________________________________________________________________________________________\n",
      "\n"
     ]
    },
    {
     "name": "stderr",
     "output_type": "stream",
     "text": [
      "100%|██████████| 138/138 [01:17<00:00,  1.78it/s]\n"
     ]
    },
    {
     "name": "stdout",
     "output_type": "stream",
     "text": [
      "--IoU Scores Train--\n",
      "Class0: 0.3932 Class1: 0.3911 Class2: 0.4124 Class3: 0.4198 Class4: 0.4413 Class5: 0.4455 Class6: 0.4425 \n",
      "Class7: 0.4388 Class8: 0.4598 Class9: 0.4544 Class10: 0.4517 Class11: 0.4665 Class12: 0.4394 \n",
      "Epoch20\n",
      "Train Loss: 0.9328675123228543\n",
      "Train mIoU: 0.43511179666245636\n",
      "___________________________________________________________________________________________\n",
      "\n"
     ]
    },
    {
     "name": "stderr",
     "output_type": "stream",
     "text": [
      "100%|██████████| 15/15 [00:04<00:00,  3.08it/s]\n"
     ]
    },
    {
     "name": "stdout",
     "output_type": "stream",
     "text": [
      "\n",
      "--IoU Scores Fish val--\n",
      "Class0: 0.4297 Class1: 0.3781 Class2: 0.3225 Class3: 0.3312 Class4: 0.4171 Class5: 0.3390 Class6: 0.4248 \n",
      "Class7: 0.3820 Class8: 0.3538 Class9: 0.3244 Class10: 0.3425 Class11: 0.3814 Class12: 0.3873 \n",
      "Epoch20\n",
      "Valid Loss: 0.4919139881928762\n",
      "Valid mIoU: 0.3702983880178939\n",
      "___________________________________________________________________________________________\n",
      "\n"
     ]
    },
    {
     "name": "stderr",
     "output_type": "stream",
     "text": [
      "100%|██████████| 138/138 [01:17<00:00,  1.78it/s]\n"
     ]
    },
    {
     "name": "stdout",
     "output_type": "stream",
     "text": [
      "--IoU Scores Train--\n",
      "Class0: 0.4485 Class1: 0.4693 Class2: 0.4498 Class3: 0.4803 Class4: 0.4537 Class5: 0.4616 Class6: 0.4736 \n",
      "Class7: 0.4615 Class8: 0.4788 Class9: 0.4459 Class10: 0.4705 Class11: 0.4673 Class12: 0.4418 \n",
      "Epoch21\n",
      "Train Loss: 0.8917545581209487\n",
      "Train mIoU: 0.46174483392197774\n",
      "___________________________________________________________________________________________\n",
      "\n"
     ]
    },
    {
     "name": "stderr",
     "output_type": "stream",
     "text": [
      "100%|██████████| 15/15 [00:04<00:00,  3.11it/s]\n"
     ]
    },
    {
     "name": "stdout",
     "output_type": "stream",
     "text": [
      "\n",
      "--IoU Scores Fish val--\n",
      "Class0: 0.4372 Class1: 0.3740 Class2: 0.3344 Class3: 0.3368 Class4: 0.4342 Class5: 0.3472 Class6: 0.4443 \n",
      "Class7: 0.3822 Class8: 0.3497 Class9: 0.3259 Class10: 0.3630 Class11: 0.3956 Class12: 0.4160 \n",
      "Epoch21\n",
      "Valid Loss: 0.49129008253415424\n",
      "Valid mIoU: 0.38004004801402796\n",
      "___________________________________________________________________________________________\n",
      "\n"
     ]
    },
    {
     "name": "stderr",
     "output_type": "stream",
     "text": [
      "100%|██████████| 138/138 [01:17<00:00,  1.77it/s]\n"
     ]
    },
    {
     "name": "stdout",
     "output_type": "stream",
     "text": [
      "--IoU Scores Train--\n",
      "Class0: 0.4839 Class1: 0.4536 Class2: 0.4503 Class3: 0.4614 Class4: 0.4676 Class5: 0.4550 Class6: 0.4687 \n",
      "Class7: 0.4965 Class8: 0.4650 Class9: 0.4807 Class10: 0.4510 Class11: 0.4695 Class12: 0.4617 \n",
      "Epoch22\n",
      "Train Loss: 0.8935230763062186\n",
      "Train mIoU: 0.466540993357756\n",
      "___________________________________________________________________________________________\n",
      "\n"
     ]
    },
    {
     "name": "stderr",
     "output_type": "stream",
     "text": [
      "100%|██████████| 15/15 [00:04<00:00,  3.13it/s]\n"
     ]
    },
    {
     "name": "stdout",
     "output_type": "stream",
     "text": [
      "\n",
      "--IoU Scores Fish val--\n",
      "Class0: 0.3998 Class1: 0.3393 Class2: 0.2851 Class3: 0.2967 Class4: 0.3558 Class5: 0.3107 Class6: 0.3909 \n",
      "Class7: 0.3608 Class8: 0.3105 Class9: 0.3007 Class10: 0.3076 Class11: 0.3399 Class12: 0.3674 \n",
      "Epoch22\n",
      "Valid Loss: 0.5783276796340943\n",
      "Valid mIoU: 0.33579508063372876\n",
      "___________________________________________________________________________________________\n",
      "\n"
     ]
    },
    {
     "name": "stderr",
     "output_type": "stream",
     "text": [
      "100%|██████████| 138/138 [01:18<00:00,  1.77it/s]\n"
     ]
    },
    {
     "name": "stdout",
     "output_type": "stream",
     "text": [
      "--IoU Scores Train--\n",
      "Class0: 0.4639 Class1: 0.4767 Class2: 0.4410 Class3: 0.4586 Class4: 0.4568 Class5: 0.4800 Class6: 0.4678 \n",
      "Class7: 0.4646 Class8: 0.4651 Class9: 0.4893 Class10: 0.4781 Class11: 0.4861 Class12: 0.4695 \n",
      "Epoch23\n",
      "Train Loss: 0.8965956633505614\n",
      "Train mIoU: 0.4690332984034228\n",
      "___________________________________________________________________________________________\n",
      "\n"
     ]
    },
    {
     "name": "stderr",
     "output_type": "stream",
     "text": [
      "100%|██████████| 15/15 [00:04<00:00,  3.10it/s]\n"
     ]
    },
    {
     "name": "stdout",
     "output_type": "stream",
     "text": [
      "\n",
      "--IoU Scores Fish val--\n",
      "Class0: 0.4238 Class1: 0.3593 Class2: 0.3237 Class3: 0.3298 Class4: 0.4068 Class5: 0.3364 Class6: 0.4262 \n",
      "Class7: 0.3777 Class8: 0.3262 Class9: 0.3276 Class10: 0.3340 Class11: 0.3814 Class12: 0.4031 \n",
      "Epoch23\n",
      "Valid Loss: 0.5543517669041952\n",
      "Valid mIoU: 0.3658440419619516\n",
      "___________________________________________________________________________________________\n",
      "\n"
     ]
    },
    {
     "name": "stderr",
     "output_type": "stream",
     "text": [
      "100%|██████████| 138/138 [01:17<00:00,  1.78it/s]\n"
     ]
    },
    {
     "name": "stdout",
     "output_type": "stream",
     "text": [
      "--IoU Scores Train--\n",
      "Class0: 0.4825 Class1: 0.4930 Class2: 0.4358 Class3: 0.4622 Class4: 0.4633 Class5: 0.4598 Class6: 0.4943 \n",
      "Class7: 0.4768 Class8: 0.4665 Class9: 0.4677 Class10: 0.4622 Class11: 0.4862 Class12: 0.4602 \n",
      "Epoch24\n",
      "Train Loss: 0.8997427099856777\n",
      "Train mIoU: 0.47003101016087023\n",
      "___________________________________________________________________________________________\n",
      "\n"
     ]
    },
    {
     "name": "stderr",
     "output_type": "stream",
     "text": [
      "100%|██████████| 15/15 [00:04<00:00,  3.15it/s]\n"
     ]
    },
    {
     "name": "stdout",
     "output_type": "stream",
     "text": [
      "\n",
      "--IoU Scores Fish val--\n",
      "Class0: 0.4292 Class1: 0.3611 Class2: 0.3312 Class3: 0.3460 Class4: 0.4038 Class5: 0.3322 Class6: 0.4264 \n",
      "Class7: 0.3714 Class8: 0.3484 Class9: 0.3316 Class10: 0.3461 Class11: 0.3917 Class12: 0.4055 \n",
      "Epoch24\n",
      "Valid Loss: 0.5008019824822744\n",
      "Valid mIoU: 0.371106568459076\n",
      "___________________________________________________________________________________________\n",
      "\n"
     ]
    },
    {
     "name": "stderr",
     "output_type": "stream",
     "text": [
      "100%|██████████| 138/138 [01:17<00:00,  1.77it/s]\n"
     ]
    },
    {
     "name": "stdout",
     "output_type": "stream",
     "text": [
      "--IoU Scores Train--\n",
      "Class0: 0.4679 Class1: 0.4720 Class2: 0.4839 Class3: 0.4862 Class4: 0.4789 Class5: 0.4873 Class6: 0.4800 \n",
      "Class7: 0.4608 Class8: 0.4703 Class9: 0.4798 Class10: 0.4603 Class11: 0.4719 Class12: 0.4858 \n",
      "Epoch25\n",
      "Train Loss: 0.8979715497597404\n",
      "Train mIoU: 0.47577423441781286\n",
      "___________________________________________________________________________________________\n",
      "\n"
     ]
    },
    {
     "name": "stderr",
     "output_type": "stream",
     "text": [
      "100%|██████████| 15/15 [00:04<00:00,  3.14it/s]\n"
     ]
    },
    {
     "name": "stdout",
     "output_type": "stream",
     "text": [
      "\n",
      "--IoU Scores Fish val--\n",
      "Class0: 0.4408 Class1: 0.3894 Class2: 0.3529 Class3: 0.3655 Class4: 0.4400 Class5: 0.3591 Class6: 0.4456 \n",
      "Class7: 0.3898 Class8: 0.3581 Class9: 0.3419 Class10: 0.3600 Class11: 0.4008 Class12: 0.4130 \n",
      "Epoch25\n",
      "Valid Loss: 0.5291279157002767\n",
      "Valid mIoU: 0.3889889415596662\n",
      "___________________________________________________________________________________________\n",
      "\n"
     ]
    },
    {
     "name": "stderr",
     "output_type": "stream",
     "text": [
      "100%|██████████| 138/138 [01:17<00:00,  1.78it/s]\n"
     ]
    },
    {
     "name": "stdout",
     "output_type": "stream",
     "text": [
      "--IoU Scores Train--\n",
      "Class0: 0.4783 Class1: 0.5283 Class2: 0.4693 Class3: 0.5265 Class4: 0.4854 Class5: 0.4871 Class6: 0.4778 \n",
      "Class7: 0.4680 Class8: 0.4719 Class9: 0.5098 Class10: 0.4669 Class11: 0.4694 Class12: 0.4754 \n",
      "Epoch26\n",
      "Train Loss: 0.8683060351489247\n",
      "Train mIoU: 0.48570036149169304\n",
      "___________________________________________________________________________________________\n",
      "\n"
     ]
    },
    {
     "name": "stderr",
     "output_type": "stream",
     "text": [
      "100%|██████████| 15/15 [00:04<00:00,  3.15it/s]\n"
     ]
    },
    {
     "name": "stdout",
     "output_type": "stream",
     "text": [
      "\n",
      "--IoU Scores Fish val--\n",
      "Class0: 0.4491 Class1: 0.3946 Class2: 0.3445 Class3: 0.3618 Class4: 0.4464 Class5: 0.3584 Class6: 0.4493 \n",
      "Class7: 0.4043 Class8: 0.3588 Class9: 0.3352 Class10: 0.3695 Class11: 0.3993 Class12: 0.4207 \n",
      "Epoch26\n",
      "Valid Loss: 0.4825609008471171\n",
      "Valid mIoU: 0.3916658139415183\n",
      "___________________________________________________________________________________________\n",
      "\n"
     ]
    },
    {
     "name": "stderr",
     "output_type": "stream",
     "text": [
      "100%|██████████| 138/138 [01:18<00:00,  1.76it/s]\n"
     ]
    },
    {
     "name": "stdout",
     "output_type": "stream",
     "text": [
      "--IoU Scores Train--\n",
      "Class0: 0.4934 Class1: 0.5283 Class2: 0.4684 Class3: 0.4799 Class4: 0.4889 Class5: 0.4549 Class6: 0.4852 \n",
      "Class7: 0.4534 Class8: 0.4746 Class9: 0.4883 Class10: 0.4614 Class11: 0.3901 Class12: 0.3370 \n",
      "Epoch27\n",
      "Train Loss: 0.9124684554079304\n",
      "Train mIoU: 0.461837385636253\n",
      "___________________________________________________________________________________________\n",
      "\n"
     ]
    },
    {
     "name": "stderr",
     "output_type": "stream",
     "text": [
      "100%|██████████| 15/15 [00:04<00:00,  3.05it/s]\n"
     ]
    },
    {
     "name": "stdout",
     "output_type": "stream",
     "text": [
      "\n",
      "--IoU Scores Fish val--\n",
      "Class0: 0.3368 Class1: 0.2775 Class2: 0.2473 Class3: 0.2359 Class4: 0.3128 Class5: 0.2479 Class6: 0.3055 \n",
      "Class7: 0.2829 Class8: 0.2636 Class9: 0.2427 Class10: 0.2418 Class11: 0.2982 Class12: 0.2728 \n",
      "Epoch27\n",
      "Valid Loss: 0.7607981324195862\n",
      "Valid mIoU: 0.2742952233818419\n",
      "___________________________________________________________________________________________\n",
      "\n"
     ]
    },
    {
     "name": "stderr",
     "output_type": "stream",
     "text": [
      "100%|██████████| 138/138 [01:17<00:00,  1.78it/s]\n"
     ]
    },
    {
     "name": "stdout",
     "output_type": "stream",
     "text": [
      "--IoU Scores Train--\n",
      "Class0: 0.3222 Class1: 0.3300 Class2: 0.3346 Class3: 0.3722 Class4: 0.3988 Class5: 0.4047 Class6: 0.4156 \n",
      "Class7: 0.4241 Class8: 0.4209 Class9: 0.4460 Class10: 0.4216 Class11: 0.4537 Class12: 0.4313 \n",
      "Epoch28\n",
      "Train Loss: 0.9982965890912042\n",
      "Train mIoU: 0.3981355900385689\n",
      "___________________________________________________________________________________________\n",
      "\n"
     ]
    },
    {
     "name": "stderr",
     "output_type": "stream",
     "text": [
      "100%|██████████| 15/15 [00:04<00:00,  3.09it/s]\n"
     ]
    },
    {
     "name": "stdout",
     "output_type": "stream",
     "text": [
      "\n",
      "--IoU Scores Fish val--\n",
      "Class0: 0.4145 Class1: 0.3479 Class2: 0.2984 Class3: 0.3150 Class4: 0.3931 Class5: 0.3228 Class6: 0.4066 \n",
      "Class7: 0.3515 Class8: 0.3338 Class9: 0.3062 Class10: 0.3199 Class11: 0.3729 Class12: 0.3649 \n",
      "Epoch28\n",
      "Valid Loss: 0.5870229045550028\n",
      "Valid mIoU: 0.3498031395951353\n",
      "___________________________________________________________________________________________\n",
      "\n"
     ]
    },
    {
     "name": "stderr",
     "output_type": "stream",
     "text": [
      "100%|██████████| 138/138 [01:18<00:00,  1.76it/s]\n"
     ]
    },
    {
     "name": "stdout",
     "output_type": "stream",
     "text": [
      "--IoU Scores Train--\n",
      "Class0: 0.4299 Class1: 0.4509 Class2: 0.4478 Class3: 0.4627 Class4: 0.4662 Class5: 0.4416 Class6: 0.4677 \n",
      "Class7: 0.4566 Class8: 0.4478 Class9: 0.4595 Class10: 0.4463 Class11: 0.4796 Class12: 0.4535 \n",
      "Epoch29\n",
      "Train Loss: 0.9247407049372576\n",
      "Train mIoU: 0.45462335403817444\n",
      "___________________________________________________________________________________________\n",
      "\n"
     ]
    },
    {
     "name": "stderr",
     "output_type": "stream",
     "text": [
      "100%|██████████| 15/15 [00:04<00:00,  3.14it/s]\n"
     ]
    },
    {
     "name": "stdout",
     "output_type": "stream",
     "text": [
      "\n",
      "--IoU Scores Fish val--\n",
      "Class0: 0.4398 Class1: 0.3755 Class2: 0.3293 Class3: 0.3420 Class4: 0.4301 Class5: 0.3514 Class6: 0.4320 \n",
      "Class7: 0.3856 Class8: 0.3509 Class9: 0.3296 Class10: 0.3545 Class11: 0.3911 Class12: 0.4053 \n",
      "Epoch29\n",
      "Valid Loss: 0.5013722817103068\n",
      "Valid mIoU: 0.378234962568299\n",
      "___________________________________________________________________________________________\n",
      "\n"
     ]
    },
    {
     "name": "stderr",
     "output_type": "stream",
     "text": [
      "100%|██████████| 138/138 [01:17<00:00,  1.77it/s]\n"
     ]
    },
    {
     "name": "stdout",
     "output_type": "stream",
     "text": [
      "--IoU Scores Train--\n",
      "Class0: 0.4591 Class1: 0.4848 Class2: 0.4463 Class3: 0.4435 Class4: 0.4509 Class5: 0.4731 Class6: 0.4653 \n",
      "Class7: 0.4645 Class8: 0.4547 Class9: 0.4620 Class10: 0.4766 Class11: 0.4618 Class12: 0.4498 \n",
      "Epoch30\n",
      "Train Loss: 0.9295829024867736\n",
      "Train mIoU: 0.46095652655007646\n",
      "___________________________________________________________________________________________\n",
      "\n"
     ]
    },
    {
     "name": "stderr",
     "output_type": "stream",
     "text": [
      "100%|██████████| 15/15 [00:04<00:00,  3.15it/s]\n"
     ]
    },
    {
     "name": "stdout",
     "output_type": "stream",
     "text": [
      "\n",
      "--IoU Scores Fish val--\n",
      "Class0: 0.4337 Class1: 0.3726 Class2: 0.3321 Class3: 0.3347 Class4: 0.4214 Class5: 0.3487 Class6: 0.4336 \n",
      "Class7: 0.3810 Class8: 0.3403 Class9: 0.3230 Class10: 0.3407 Class11: 0.3853 Class12: 0.4012 \n",
      "Epoch30\n",
      "Valid Loss: 0.5354377667109171\n",
      "Valid mIoU: 0.3729562851567059\n",
      "___________________________________________________________________________________________\n",
      "\n"
     ]
    },
    {
     "name": "stderr",
     "output_type": "stream",
     "text": [
      "100%|██████████| 138/138 [01:18<00:00,  1.76it/s]\n"
     ]
    },
    {
     "name": "stdout",
     "output_type": "stream",
     "text": [
      "--IoU Scores Train--\n",
      "Class0: 0.4530 Class1: 0.4554 Class2: 0.4672 Class3: 0.4583 Class4: 0.4687 Class5: 0.4618 Class6: 0.5097 \n",
      "Class7: 0.4673 Class8: 0.5115 Class9: 0.4631 Class10: 0.4850 Class11: 0.4851 Class12: 0.4573 \n",
      "Epoch31\n",
      "Train Loss: 0.9107203513815783\n",
      "Train mIoU: 0.4725631432660363\n",
      "___________________________________________________________________________________________\n",
      "\n"
     ]
    },
    {
     "name": "stderr",
     "output_type": "stream",
     "text": [
      "100%|██████████| 15/15 [00:04<00:00,  3.15it/s]\n"
     ]
    },
    {
     "name": "stdout",
     "output_type": "stream",
     "text": [
      "\n",
      "--IoU Scores Fish val--\n",
      "Class0: 0.4239 Class1: 0.3754 Class2: 0.3196 Class3: 0.3307 Class4: 0.4191 Class5: 0.3443 Class6: 0.4180 \n",
      "Class7: 0.3801 Class8: 0.3383 Class9: 0.3217 Class10: 0.3426 Class11: 0.3772 Class12: 0.3776 \n",
      "Epoch31\n",
      "Valid Loss: 0.5207887132962544\n",
      "Valid mIoU: 0.36679999835575716\n",
      "___________________________________________________________________________________________\n",
      "\n"
     ]
    },
    {
     "name": "stderr",
     "output_type": "stream",
     "text": [
      "100%|██████████| 138/138 [01:17<00:00,  1.78it/s]\n"
     ]
    },
    {
     "name": "stdout",
     "output_type": "stream",
     "text": [
      "--IoU Scores Train--\n",
      "Class0: 0.4729 Class1: 0.4649 Class2: 0.4748 Class3: 0.4699 Class4: 0.4705 Class5: 0.4666 Class6: 0.4898 \n",
      "Class7: 0.4763 Class8: 0.4674 Class9: 0.4737 Class10: 0.4854 Class11: 0.4913 Class12: 0.4557 \n",
      "Epoch32\n",
      "Train Loss: 0.9247684681761092\n",
      "Train mIoU: 0.4737893118448571\n",
      "___________________________________________________________________________________________\n",
      "\n"
     ]
    },
    {
     "name": "stderr",
     "output_type": "stream",
     "text": [
      "100%|██████████| 15/15 [00:04<00:00,  3.06it/s]\n"
     ]
    },
    {
     "name": "stdout",
     "output_type": "stream",
     "text": [
      "\n",
      "--IoU Scores Fish val--\n",
      "Class0: 0.4417 Class1: 0.3836 Class2: 0.3228 Class3: 0.3307 Class4: 0.4329 Class5: 0.3548 Class6: 0.4345 \n",
      "Class7: 0.3948 Class8: 0.3522 Class9: 0.3242 Class10: 0.3619 Class11: 0.3863 Class12: 0.3931 \n",
      "Epoch32\n",
      "Valid Loss: 0.48691925207773845\n",
      "Valid mIoU: 0.37796958010103504\n",
      "___________________________________________________________________________________________\n",
      "\n"
     ]
    },
    {
     "name": "stderr",
     "output_type": "stream",
     "text": [
      "100%|██████████| 138/138 [01:17<00:00,  1.77it/s]\n"
     ]
    },
    {
     "name": "stdout",
     "output_type": "stream",
     "text": [
      "--IoU Scores Train--\n",
      "Class0: 0.4671 Class1: 0.5035 Class2: 0.4805 Class3: 0.4928 Class4: 0.4795 Class5: 0.4975 Class6: 0.4890 \n",
      "Class7: 0.4810 Class8: 0.4986 Class9: 0.4576 Class10: 0.4648 Class11: 0.4883 Class12: 0.4766 \n",
      "Epoch33\n",
      "Train Loss: 0.9178460508153059\n",
      "Train mIoU: 0.48283213695314786\n",
      "___________________________________________________________________________________________\n",
      "\n"
     ]
    },
    {
     "name": "stderr",
     "output_type": "stream",
     "text": [
      "100%|██████████| 15/15 [00:04<00:00,  3.15it/s]\n"
     ]
    },
    {
     "name": "stdout",
     "output_type": "stream",
     "text": [
      "\n",
      "--IoU Scores Fish val--\n",
      "Class0: 0.4458 Class1: 0.3793 Class2: 0.3380 Class3: 0.3368 Class4: 0.4424 Class5: 0.3573 Class6: 0.4482 \n",
      "Class7: 0.3916 Class8: 0.3544 Class9: 0.3342 Class10: 0.3629 Class11: 0.3945 Class12: 0.4087 \n",
      "Epoch33\n",
      "Valid Loss: 0.48749213218688964\n",
      "Valid mIoU: 0.38415394105972533\n",
      "___________________________________________________________________________________________\n",
      "\n"
     ]
    },
    {
     "name": "stderr",
     "output_type": "stream",
     "text": [
      "100%|██████████| 138/138 [01:18<00:00,  1.77it/s]\n"
     ]
    },
    {
     "name": "stdout",
     "output_type": "stream",
     "text": [
      "--IoU Scores Train--\n",
      "Class0: 0.4839 Class1: 0.4967 Class2: 0.4880 Class3: 0.4722 Class4: 0.4723 Class5: 0.4985 Class6: 0.5037 \n",
      "Class7: 0.4708 Class8: 0.4932 Class9: 0.4902 Class10: 0.5201 Class11: 0.4902 Class12: 0.4643 \n",
      "Epoch34\n",
      "Train Loss: 0.9074314379173777\n",
      "Train mIoU: 0.4879989292263598\n",
      "___________________________________________________________________________________________\n",
      "\n"
     ]
    },
    {
     "name": "stderr",
     "output_type": "stream",
     "text": [
      "100%|██████████| 15/15 [00:04<00:00,  3.09it/s]\n"
     ]
    },
    {
     "name": "stdout",
     "output_type": "stream",
     "text": [
      "\n",
      "--IoU Scores Fish val--\n",
      "Class0: 0.4337 Class1: 0.3811 Class2: 0.3268 Class3: 0.3324 Class4: 0.4198 Class5: 0.3396 Class6: 0.4315 \n",
      "Class7: 0.3926 Class8: 0.3390 Class9: 0.3179 Class10: 0.3518 Class11: 0.3829 Class12: 0.4121 \n",
      "Epoch34\n",
      "Valid Loss: 0.5023905952771505\n",
      "Valid mIoU: 0.37393756473358675\n",
      "___________________________________________________________________________________________\n",
      "\n"
     ]
    },
    {
     "name": "stderr",
     "output_type": "stream",
     "text": [
      "100%|██████████| 138/138 [01:18<00:00,  1.77it/s]\n"
     ]
    },
    {
     "name": "stdout",
     "output_type": "stream",
     "text": [
      "--IoU Scores Train--\n",
      "Class0: 0.5000 Class1: 0.5032 Class2: 0.4864 Class3: 0.5083 Class4: 0.5036 Class5: 0.5212 Class6: 0.5144 \n",
      "Class7: 0.5122 Class8: 0.4626 Class9: 0.4858 Class10: 0.4731 Class11: 0.5233 Class12: 0.4858 \n",
      "Epoch35\n",
      "Train Loss: 0.8882445766442064\n",
      "Train mIoU: 0.49845223129930477\n",
      "___________________________________________________________________________________________\n",
      "\n"
     ]
    },
    {
     "name": "stderr",
     "output_type": "stream",
     "text": [
      "100%|██████████| 15/15 [00:04<00:00,  3.12it/s]\n"
     ]
    },
    {
     "name": "stdout",
     "output_type": "stream",
     "text": [
      "\n",
      "--IoU Scores Fish val--\n",
      "Class0: 0.4347 Class1: 0.3745 Class2: 0.3210 Class3: 0.3233 Class4: 0.4270 Class5: 0.3426 Class6: 0.4351 \n",
      "Class7: 0.3857 Class8: 0.3381 Class9: 0.3173 Class10: 0.3465 Class11: 0.3812 Class12: 0.4020 \n",
      "Epoch35\n",
      "Valid Loss: 0.530682901541392\n",
      "Valid mIoU: 0.37145654474707523\n",
      "___________________________________________________________________________________________\n",
      "\n"
     ]
    },
    {
     "name": "stderr",
     "output_type": "stream",
     "text": [
      "100%|██████████| 138/138 [01:17<00:00,  1.78it/s]\n"
     ]
    },
    {
     "name": "stdout",
     "output_type": "stream",
     "text": [
      "--IoU Scores Train--\n",
      "Class0: 0.4873 Class1: 0.5317 Class2: 0.4724 Class3: 0.5025 Class4: 0.4734 Class5: 0.4732 Class6: 0.5001 \n",
      "Class7: 0.4701 Class8: 0.4836 Class9: 0.4955 Class10: 0.4860 Class11: 0.5163 Class12: 0.4740 \n",
      "Epoch36\n",
      "Train Loss: 0.9140339610369309\n",
      "Train mIoU: 0.48969385763903095\n",
      "___________________________________________________________________________________________\n",
      "\n"
     ]
    },
    {
     "name": "stderr",
     "output_type": "stream",
     "text": [
      "100%|██████████| 15/15 [00:04<00:00,  3.07it/s]\n"
     ]
    },
    {
     "name": "stdout",
     "output_type": "stream",
     "text": [
      "\n",
      "--IoU Scores Fish val--\n",
      "Class0: 0.4514 Class1: 0.3979 Class2: 0.3312 Class3: 0.3329 Class4: 0.4449 Class5: 0.3557 Class6: 0.4507 \n",
      "Class7: 0.4041 Class8: 0.3500 Class9: 0.3383 Class10: 0.3732 Class11: 0.3982 Class12: 0.4139 \n",
      "Epoch36\n",
      "Valid Loss: 0.48873414198557535\n",
      "Valid mIoU: 0.3878584875302024\n",
      "___________________________________________________________________________________________\n",
      "\n"
     ]
    },
    {
     "name": "stderr",
     "output_type": "stream",
     "text": [
      "100%|██████████| 138/138 [01:17<00:00,  1.78it/s]\n"
     ]
    },
    {
     "name": "stdout",
     "output_type": "stream",
     "text": [
      "--IoU Scores Train--\n",
      "Class0: 0.4774 Class1: 0.4976 Class2: 0.4610 Class3: 0.4945 Class4: 0.4726 Class5: 0.5117 Class6: 0.4874 \n",
      "Class7: 0.4813 Class8: 0.5075 Class9: 0.5242 Class10: 0.4907 Class11: 0.4854 Class12: 0.4845 \n",
      "Epoch37\n",
      "Train Loss: 0.918202817440033\n",
      "Train mIoU: 0.4904418089572654\n",
      "___________________________________________________________________________________________\n",
      "\n"
     ]
    },
    {
     "name": "stderr",
     "output_type": "stream",
     "text": [
      "100%|██████████| 15/15 [00:04<00:00,  3.06it/s]\n"
     ]
    },
    {
     "name": "stdout",
     "output_type": "stream",
     "text": [
      "\n",
      "--IoU Scores Fish val--\n",
      "Class0: 0.4374 Class1: 0.3882 Class2: 0.3333 Class3: 0.3437 Class4: 0.4307 Class5: 0.3551 Class6: 0.4367 \n",
      "Class7: 0.3941 Class8: 0.3430 Class9: 0.3325 Class10: 0.3628 Class11: 0.3945 Class12: 0.4147 \n",
      "Epoch37\n",
      "Valid Loss: 0.49698889851570127\n",
      "Valid mIoU: 0.38204618693445924\n",
      "___________________________________________________________________________________________\n",
      "\n"
     ]
    },
    {
     "name": "stderr",
     "output_type": "stream",
     "text": [
      "100%|██████████| 138/138 [01:17<00:00,  1.77it/s]\n"
     ]
    },
    {
     "name": "stdout",
     "output_type": "stream",
     "text": [
      "--IoU Scores Train--\n",
      "Class0: 0.5327 Class1: 0.5262 Class2: 0.4905 Class3: 0.5233 Class4: 0.5321 Class5: 0.4854 Class6: 0.5128 \n",
      "Class7: 0.4808 Class8: 0.5101 Class9: 0.4971 Class10: 0.4972 Class11: 0.5053 Class12: 0.4744 \n",
      "Epoch38\n",
      "Train Loss: 0.8941145401070083\n",
      "Train mIoU: 0.5051963573289241\n",
      "___________________________________________________________________________________________\n",
      "\n"
     ]
    },
    {
     "name": "stderr",
     "output_type": "stream",
     "text": [
      "100%|██████████| 15/15 [00:04<00:00,  3.16it/s]\n"
     ]
    },
    {
     "name": "stdout",
     "output_type": "stream",
     "text": [
      "\n",
      "--IoU Scores Fish val--\n",
      "Class0: 0.4561 Class1: 0.4006 Class2: 0.3499 Class3: 0.3500 Class4: 0.4402 Class5: 0.3579 Class6: 0.4541 \n",
      "Class7: 0.4017 Class8: 0.3570 Class9: 0.3480 Class10: 0.3703 Class11: 0.4073 Class12: 0.4283 \n",
      "Epoch38\n",
      "Valid Loss: 0.4907531460126241\n",
      "Valid mIoU: 0.3939656932871026\n",
      "___________________________________________________________________________________________\n",
      "\n"
     ]
    },
    {
     "name": "stderr",
     "output_type": "stream",
     "text": [
      "100%|██████████| 138/138 [01:17<00:00,  1.77it/s]\n"
     ]
    },
    {
     "name": "stdout",
     "output_type": "stream",
     "text": [
      "--IoU Scores Train--\n",
      "Class0: 0.5134 Class1: 0.5418 Class2: 0.5024 Class3: 0.4923 Class4: 0.5054 Class5: 0.5315 Class6: 0.5271 \n",
      "Class7: 0.4823 Class8: 0.5142 Class9: 0.5122 Class10: 0.5106 Class11: 0.5303 Class12: 0.5180 \n",
      "Epoch39\n",
      "Train Loss: 0.8854428875273552\n",
      "Train mIoU: 0.5139551221531735\n",
      "___________________________________________________________________________________________\n",
      "\n"
     ]
    },
    {
     "name": "stderr",
     "output_type": "stream",
     "text": [
      "100%|██████████| 15/15 [00:04<00:00,  3.13it/s]\n"
     ]
    },
    {
     "name": "stdout",
     "output_type": "stream",
     "text": [
      "\n",
      "--IoU Scores Fish val--\n",
      "Class0: 0.4413 Class1: 0.3728 Class2: 0.3426 Class3: 0.3413 Class4: 0.4101 Class5: 0.3442 Class6: 0.4258 \n",
      "Class7: 0.3754 Class8: 0.3392 Class9: 0.3149 Class10: 0.3457 Class11: 0.3860 Class12: 0.4006 \n",
      "Epoch39\n",
      "Valid Loss: 0.5409100651741028\n",
      "Valid mIoU: 0.3723121464724557\n",
      "___________________________________________________________________________________________\n",
      "\n"
     ]
    },
    {
     "name": "stderr",
     "output_type": "stream",
     "text": [
      "100%|██████████| 138/138 [01:17<00:00,  1.78it/s]\n"
     ]
    },
    {
     "name": "stdout",
     "output_type": "stream",
     "text": [
      "--IoU Scores Train--\n",
      "Class0: 0.4819 Class1: 0.5315 Class2: 0.5373 Class3: 0.4962 Class4: 0.4839 Class5: 0.4873 Class6: 0.5085 \n",
      "Class7: 0.5058 Class8: 0.5064 Class9: 0.5044 Class10: 0.4803 Class11: 0.4935 Class12: 0.5210 \n",
      "Epoch40\n",
      "Train Loss: 0.9074363475260527\n",
      "Train mIoU: 0.5029293968935413\n",
      "___________________________________________________________________________________________\n",
      "\n"
     ]
    },
    {
     "name": "stderr",
     "output_type": "stream",
     "text": [
      "100%|██████████| 15/15 [00:04<00:00,  3.10it/s]"
     ]
    },
    {
     "name": "stdout",
     "output_type": "stream",
     "text": [
      "\n",
      "--IoU Scores Fish val--\n",
      "Class0: 0.4368 Class1: 0.3756 Class2: 0.3309 Class3: 0.3417 Class4: 0.4245 Class5: 0.3471 Class6: 0.4376 \n",
      "Class7: 0.3797 Class8: 0.3381 Class9: 0.3230 Class10: 0.3486 Class11: 0.3893 Class12: 0.4054 \n",
      "Epoch40\n",
      "Valid Loss: 0.5106945633888245\n",
      "Valid mIoU: 0.3752462180914692\n",
      "___________________________________________________________________________________________\n",
      "\n"
     ]
    },
    {
     "name": "stderr",
     "output_type": "stream",
     "text": [
      "\n"
     ]
    },
    {
     "data": {
      "text/html": [
       "Waiting for W&B process to finish... <strong style=\"color:green\">(success).</strong>"
      ],
      "text/plain": [
       "<IPython.core.display.HTML object>"
      ]
     },
     "metadata": {},
     "output_type": "display_data"
    },
    {
     "name": "stderr",
     "output_type": "stream",
     "text": [
      "wandb: WARNING Source type is set to 'repo' but some required information is missing from the environment. A job will not be created from this run. See https://docs.wandb.ai/guides/launch/create-job\n"
     ]
    },
    {
     "data": {
      "text/html": [
       "<style>\n",
       "    table.wandb td:nth-child(1) { padding: 0 10px; text-align: left ; width: auto;} td:nth-child(2) {text-align: left ; width: 100%}\n",
       "    .wandb-row { display: flex; flex-direction: row; flex-wrap: wrap; justify-content: flex-start; width: 100% }\n",
       "    .wandb-col { display: flex; flex-direction: column; flex-basis: 100%; flex: 1; padding: 10px; }\n",
       "    </style>\n",
       "<div class=\"wandb-row\"><div class=\"wandb-col\"><h3>Run history:</h3><br/><table class=\"wandb\"><tr><td>train loss</td><td>█▃▄▃▃▃▂▂▂▂▂▂▂▂▂▁▂▂▁▂▁▁▁▁▁▁▂▃▂▂▂▂▂▂▁▂▂▁▁▂</td></tr><tr><td>train score</td><td>▁▃▄▄▄▅▅▅▅▆▆▆▆▆▆▆▆▇▇▆▇▇▇▇▇▇▇▅▇▇▇▇▇▇█▇▇███</td></tr><tr><td>val loss</td><td>█▄▂▂▂▂▂▂▂▁▇▁▁▁▂▂▁▁▅▁▁▃▂▁▂▁▆▃▁▂▂▁▁▁▂▁▁▁▂▁</td></tr><tr><td>val score</td><td>▃▂▂▅▅▄▅▅▆▇▁▇▇▇▆▄▆▇▂▇▇▅▇▇██▂▆▇▇▇▇█▇▇█▇█▇▇</td></tr></table><br/></div><div class=\"wandb-col\"><h3>Run summary:</h3><br/><table class=\"wandb\"><tr><td>train loss</td><td>0.90744</td></tr><tr><td>train score</td><td>0.50293</td></tr><tr><td>val loss</td><td>0.51069</td></tr><tr><td>val score</td><td>0.37525</td></tr></table><br/></div></div>"
      ],
      "text/plain": [
       "<IPython.core.display.HTML object>"
      ]
     },
     "metadata": {},
     "output_type": "display_data"
    },
    {
     "data": {
      "text/html": [
       " View run <strong style=\"color:#cdcd00\">dauntless-puddle-1</strong> at: <a href='https://wandb.ai/limbw/practice_10_27_4d_res18/runs/zce3otry' target=\"_blank\">https://wandb.ai/limbw/practice_10_27_4d_res18/runs/zce3otry</a><br/>Synced 6 W&B file(s), 0 media file(s), 0 artifact file(s) and 0 other file(s)"
      ],
      "text/plain": [
       "<IPython.core.display.HTML object>"
      ]
     },
     "metadata": {},
     "output_type": "display_data"
    },
    {
     "data": {
      "text/html": [
       "Find logs at: <code>./wandb/run-20231027_145329-zce3otry/logs</code>"
      ],
      "text/plain": [
       "<IPython.core.display.HTML object>"
      ]
     },
     "metadata": {},
     "output_type": "display_data"
    }
   ],
   "source": [
    "import random\n",
    "#torch.cuda.empty_cache()\n",
    "import wandb\n",
    "\n",
    "\n",
    "wandb.init(\n",
    "    # set the wandb project where this run will be logged\n",
    "    project=\"practice_10_27_4d_res18\",\n",
    "    \n",
    "    # track hyperparameters and run metadata\n",
    "    config={\n",
    "    \"learning_rate\": LR,\n",
    "    \"architecture\": \"CNN\",\n",
    "    \"dataset\": \"Samsung\",\n",
    "    \"epochs\": EP,\n",
    "    }\n",
    ")\n",
    "\n",
    "for epoch in range(EP):\n",
    "    # 클래스별 IoU를 누적할 리스트 초기화\n",
    "    train_class_ious = []\n",
    "    fish_train_class_ious = []\n",
    "    # 학습\n",
    "    model.train()\n",
    "    epoch_loss = 0\n",
    "\n",
    "    for source_images, source_masks in tqdm(source_dataloader):\n",
    "        label = random.randint(0,3)\n",
    "        source_images, source_masks = apply_fisheye_distortion(source_images, source_masks, label)\n",
    "        source_images = source_images.float().to(device)\n",
    "        source_masks = source_masks.long().to(device)\n",
    "\n",
    "        optimizer.zero_grad()\n",
    "        source_outputs = model(source_images)\n",
    "\n",
    "        source_loss = loss_fn(source_outputs, source_masks, label, alpha = ALPHA)\n",
    "\n",
    "        loss = source_loss\n",
    "        epoch_loss += loss.item()\n",
    "\n",
    "        loss.backward()\n",
    "        optimizer.step()\n",
    "        #scheduler.step()\n",
    "                # train 클래스별 IoU 계산\n",
    "        source_outputs = torch.softmax(source_outputs[0], dim=1).cpu()\n",
    "        source_outputs = torch.argmax(source_outputs, dim=1).numpy()\n",
    "\n",
    "        for class_id in range(N_CLASSES):\n",
    "            iou = calculate_iou_per_class(np.array(source_masks.cpu()), np.array(source_outputs), class_id)\n",
    "            train_class_ious.append(iou)\n",
    "\n",
    "    train_class_ious = np.array(train_class_ious).reshape(N_CLASSES, -1)\n",
    "    train_class_ious = np.mean(train_class_ious, axis=1)\n",
    "    print(\"--IoU Scores Train--\")\n",
    "    for class_id, iou in enumerate(train_class_ious):\n",
    "        print(f'Class{class_id}: {iou:.4f}', end=\" \")\n",
    "        if (class_id+1) % 7 == 0:\n",
    "            print()\n",
    "\n",
    "    # mIoU 계산\n",
    "    train_mIoU = np.mean(train_class_ious)\n",
    "\n",
    "    # 에폭마다 결과 출력 \n",
    "    print(f\"\\nEpoch{epoch+1}\")\n",
    "    print(f\"Train Loss: {(epoch_loss/len(source_dataloader))}\")\n",
    "    print(f\"Train mIoU: {train_mIoU}\" )\n",
    "    print(\"___________________________________________________________________________________________\\n\")\n",
    "\n",
    "\n",
    "    ################################################################\n",
    "    # 클래스별 IoU를 누적할 리스트 초기화\n",
    "    val_class_ious = []\n",
    "    fish_val_class_ious = []\n",
    "    val_epoch_loss = 0\n",
    "    # 학습\n",
    "    with torch.no_grad():\n",
    "        model.eval()\n",
    "\n",
    "        for target_images, target_masks in tqdm(val_target_dataloader):\n",
    "            label = 2.5\n",
    "            target_images, target_masks = apply_fisheye_distortion(target_images, target_masks, label)\n",
    "            target_images = target_images.float().to(device)\n",
    "            target_masks = target_masks.long().to(device)\n",
    "\n",
    "            target_outputs = model(target_images)\n",
    "\n",
    "            target_loss = loss_fn(target_outputs, target_masks, 0, alpha = ALPHA)\n",
    "\n",
    "            loss = target_loss\n",
    "\n",
    "            val_epoch_loss += loss.item()\n",
    "\n",
    "            # train 클래스별 IoU 계산\n",
    "            target_outputs = torch.softmax(target_outputs[0], dim=1).cpu()\n",
    "            target_outputs = torch.argmax(target_outputs, dim=1).numpy()\n",
    "\n",
    "            for class_id in range(N_CLASSES):\n",
    "                iou = calculate_iou_per_class(np.array(target_masks.cpu()), np.array(target_outputs), class_id)\n",
    "                fish_val_class_ious.append(iou)\n",
    "\n",
    "    fish_val_class_ious = np.array(fish_val_class_ious).reshape(N_CLASSES, -1)\n",
    "    fish_val_class_ious = np.mean(fish_val_class_ious, axis=1)\n",
    "    print()\n",
    "    print(\"--IoU Scores Fish val--\")\n",
    "    for class_id, iou in enumerate(fish_val_class_ious):\n",
    "        print(f'Class{class_id}: {iou:.4f}', end=\" \")\n",
    "        if (class_id+1) % 7 == 0:\n",
    "            print()\n",
    "\n",
    "    # mIoU 계산\n",
    "    fish_val_mIoU = np.mean(fish_val_class_ious)\n",
    "\n",
    "    # 에폭마다 결과 출력 \n",
    "    print(f\"\\nEpoch{epoch+1}\")\n",
    "    print(f\"Valid Loss: {(val_epoch_loss/len(val_target_dataloader))}\")\n",
    "    print(f\"Valid mIoU: {fish_val_mIoU}\" )\n",
    "    print(\"___________________________________________________________________________________________\\n\")\n",
    "\n",
    "    # log metrics to wandb\n",
    "    wandb.log({\"train score\": train_mIoU})\n",
    "    wandb.log({\"val score\": fish_val_mIoU})\n",
    "    wandb.log({\"train loss\": (epoch_loss/len(source_dataloader))})\n",
    "    wandb.log({\"val loss\": (val_epoch_loss/len(val_target_dataloader))})\n",
    "    \n",
    "    \n",
    "# [optional] finish the wandb run, necessary in notebooks\n",
    "wandb.finish()\n"
   ]
  }
 ],
 "metadata": {
  "kernelspec": {
   "display_name": "byungwan_resn",
   "language": "python",
   "name": "python3"
  },
  "language_info": {
   "codemirror_mode": {
    "name": "ipython",
    "version": 3
   },
   "file_extension": ".py",
   "mimetype": "text/x-python",
   "name": "python",
   "nbconvert_exporter": "python",
   "pygments_lexer": "ipython3",
   "version": "3.8.17"
  }
 },
 "nbformat": 4,
 "nbformat_minor": 2
}
