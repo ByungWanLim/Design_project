{
 "cells": [
  {
   "cell_type": "code",
   "execution_count": 1,
   "metadata": {},
   "outputs": [
    {
     "name": "stderr",
     "output_type": "stream",
     "text": [
      "/home/MMI24limbyungwan/.conda/envs/byungwan_resn/lib/python3.8/site-packages/tqdm/auto.py:21: TqdmWarning: IProgress not found. Please update jupyter and ipywidgets. See https://ipywidgets.readthedocs.io/en/stable/user_install.html\n",
      "  from .autonotebook import tqdm as notebook_tqdm\n"
     ]
    }
   ],
   "source": [
    "import os\n",
    "import cv2\n",
    "from PIL import Image\n",
    "import pandas as pd\n",
    "import numpy as np\n",
    "\n",
    "import torch\n",
    "import torch.nn as nn\n",
    "import torch.nn.functional as F\n",
    "from torch.utils.data import Dataset, DataLoader\n",
    "from torchvision import transforms\n",
    "#from torch.optim.lr_scheduler import _LRScheduler\n",
    "\n",
    "from tqdm import tqdm\n",
    "import albumentations as A\n",
    "from albumentations.pytorch import ToTensorV2\n",
    "\n",
    "from torchvision import models\n",
    "from torchsummary import summary\n",
    "import torch.nn.functional as F\n"
   ]
  },
  {
   "cell_type": "code",
   "execution_count": 2,
   "metadata": {},
   "outputs": [
    {
     "name": "stdout",
     "output_type": "stream",
     "text": [
      "cuda\n",
      "2\n"
     ]
    }
   ],
   "source": [
    "\n",
    "# GPU 사용이 가능할 경우, GPU를 사용할 수 있게 함.'\n",
    "os.environ['CUDA_VISIBLE_DEVICES'] = '2'\n",
    "device = \"cuda\" if torch.cuda.is_available() else \"cpu\"\n",
    "device = torch.device(device)\n",
    "print(device)\n",
    "\n",
    "print(os.environ.get('CUDA_VISIBLE_DEVICES'))"
   ]
  },
  {
   "cell_type": "code",
   "execution_count": 3,
   "metadata": {},
   "outputs": [],
   "source": [
    "# RLE 인코딩 함수\n",
    "def rle_encode(mask):\n",
    "    pixels = mask.flatten()\n",
    "    pixels = np.concatenate([[0], pixels, [0]])\n",
    "    runs = np.where(pixels[1:] != pixels[:-1])[0] + 1\n",
    "    runs[1::2] -= runs[::2]\n",
    "    return ' '.join(str(x) for x in runs)\n",
    "\n",
    "# 클래스별 IoU를 계산하기 위한 함수\n",
    "def calculate_iou_per_class(y_true, y_pred, class_id):\n",
    "    intersection = np.sum((y_true == class_id) & (y_pred == class_id))\n",
    "    union = np.sum((y_true == class_id) | (y_pred == class_id))\n",
    "    iou = intersection / union if union > 0 else 0\n",
    "    return iou"
   ]
  },
  {
   "cell_type": "code",
   "execution_count": 4,
   "metadata": {},
   "outputs": [],
   "source": [
    "import numpy as np\n",
    "import cv2\n",
    "import torch\n",
    "\n",
    "def apply_fisheye_distortion(images, masks, label):\n",
    "    # 이미지 크기 가져오기\n",
    "    batch, channel, height, width = images.shape\n",
    "\n",
    "    # 카메라 매트릭스 생성\n",
    "    focal_length = width / 4\n",
    "    center_x = width / 2\n",
    "    center_y = height / 2\n",
    "    camera_matrix = np.array([[focal_length, 0, center_x],\n",
    "                              [0, focal_length, center_y],\n",
    "                              [0, 0, 1]], dtype=np.float32)\n",
    "\n",
    "    # 왜곡 계수 생성\n",
    "    # dist_num = 0\n",
    "    # if label == 1:\n",
    "    #     dist_num = random.randint(1,3)\n",
    "    # elif label == 2.5:\n",
    "    #     dist_num = 2.5\n",
    "    dist_num = label\n",
    "    dist_coeffs = np.array([0, 0.03 * dist_num, 0, 0], dtype=np.float32)\n",
    "\n",
    "    # 왜곡 보정\n",
    "    undistorted_images = []\n",
    "    undistorted_masks = []\n",
    "\n",
    "    for i in range(batch):\n",
    "        image = images[i].permute(1, 2, 0).cpu().numpy()  # 텐서를 NumPy 배열로 변환\n",
    "        mask = masks[i].cpu().numpy()\n",
    "        undistorted_image = cv2.undistort(image, camera_matrix, dist_coeffs)\n",
    "        undistorted_mask = cv2.undistort(mask, camera_matrix, dist_coeffs)\n",
    "        undistorted_mask = np.round(undistorted_mask).astype(np.uint8)\n",
    "        undistorted_mask[undistorted_mask > 12] = 12\n",
    "\n",
    "        # 다시 텐서로 변환\n",
    "        undistorted_image = torch.from_numpy(undistorted_image).permute(2, 0, 1).float().to(device)\n",
    "        undistorted_mask = torch.from_numpy(undistorted_mask).long().to(device)\n",
    "\n",
    "        undistorted_images.append(undistorted_image)\n",
    "        undistorted_masks.append(undistorted_mask)\n",
    "\n",
    "    undistorted_images = torch.stack(undistorted_images, dim=0)\n",
    "    undistorted_masks = torch.stack(undistorted_masks, dim=0)\n",
    "\n",
    "    return undistorted_images, undistorted_masks\n"
   ]
  },
  {
   "cell_type": "code",
   "execution_count": 5,
   "metadata": {},
   "outputs": [],
   "source": [
    "# import torch\n",
    "\n",
    "# # 이미지 데이터 (batch, channel, height, width)\n",
    "# image_data = torch.randn(4, 3, 256, 256)\n",
    "\n",
    "# # 이미지 차원 변경 (batch, height, width, channel)\n",
    "# image_data_permuted = image_data.permute(0, 2, 3, 1)\n",
    "\n",
    "# # 이미지 크기 확인\n",
    "# print(image_data_permuted.shape)\n",
    "\n",
    "# # 4개의 이미지로 나누기\n",
    "# images = image_data_permuted.split(1, dim=0)\n",
    "# # 또는 images = torch.split(image_data_permuted, 1, dim=0)\n",
    "# undistorted_images = []\n",
    "# # 4개 이미지의 크기 확인\n",
    "# for i, image in enumerate(images):\n",
    "#     print(f\"Image {i + 1} shape: {image.shape}\")\n",
    "#     undistorted_images.append(images[i].squeeze())\n",
    "\n",
    "# undistorted_images2 = torch.stack(undistorted_images, dim=0)\n",
    "# undistorted_images3 = undistorted_images2.permute(0,3,1,2)"
   ]
  },
  {
   "cell_type": "code",
   "execution_count": 6,
   "metadata": {},
   "outputs": [],
   "source": [
    "class CustomDataset(Dataset):\n",
    "    def __init__(self, csv_file, transform=None, infer=False):\n",
    "        self.data = pd.read_csv(csv_file)\n",
    "        self.transform = transform\n",
    "        self.infer = infer\n",
    "\n",
    "    def __len__(self):\n",
    "        return len(self.data)\n",
    "\n",
    "    def __getitem__(self, idx):\n",
    "        #directory_path = \"/mnt/nas27/Dataset/Samsung_DM\"\n",
    "        directory_path = './data/224'\n",
    "        img_path = self.data.iloc[idx, 1]\n",
    "        img_path = os.path.join(directory_path, img_path)\n",
    "        image = cv2.imread(img_path)\n",
    "        image = cv2.cvtColor(image, cv2.COLOR_BGR2RGB)\n",
    "        #image = cv2.cvtColor(image, cv2.COLOR_BGR2GRAY)\n",
    "        \n",
    "        if self.infer:\n",
    "            if self.transform:\n",
    "                image = self.transform(image=image)['image']\n",
    "            return image\n",
    "        \n",
    "        mask_path = self.data.iloc[idx, 2]\n",
    "        mask_path = os.path.join(directory_path, mask_path)\n",
    "        mask = cv2.imread(mask_path)\n",
    "        #mask = cv2.cvtColor(mask, cv2.COLOR_BGR2RGB)\n",
    "        mask = cv2.cvtColor(mask, cv2.COLOR_BGR2GRAY)\n",
    "        mask = np.round(mask).astype(np.uint8)\n",
    "        mask[mask > 12] = 12 #배경을 픽셀값 12로 간주\n",
    "        mask += 1\n",
    "        mask[mask == 13] = 0\n",
    "\n",
    "        if self.transform:\n",
    "            augmented = self.transform(image=image, mask=mask)\n",
    "            image = augmented['image']\n",
    "            mask = augmented['mask']\n",
    "\n",
    "        return image, mask\n",
    "\n",
    "# class CustomDataset_target(Dataset):\n",
    "#     def __init__(self, csv_file, transform=None, infer=False):\n",
    "#         self.data = pd.read_csv(csv_file)\n",
    "#         self.transform = transform\n",
    "#         self.infer = infer\n",
    "\n",
    "#     def __len__(self):\n",
    "#         return len(self.data)\n",
    "\n",
    "#     def __getitem__(self, idx):\n",
    "#         directory_path = \"/mnt/nas27/Dataset/Samsung_DM\"\n",
    "#         img_path = self.data.iloc[idx, 1]\n",
    "#         img_path = os.path.join(directory_path, img_path[2:])\n",
    "#         image = cv2.imread(img_path)\n",
    "#         image = cv2.cvtColor(image, cv2.COLOR_BGR2RGB)\n",
    "        \n",
    "#         if self.infer:\n",
    "#             if self.transform:\n",
    "#                 image = self.transform(image=image)['image']\n",
    "#             return image\n",
    "\n",
    "\n",
    "#         if self.transform:\n",
    "#             augmented = self.transform(image=image)\n",
    "#             image = augmented['image']\n",
    "            \n",
    "\n",
    "#         return image\n",
    "     \n",
    "\n",
    "transform = A.Compose(\n",
    "    [   \n",
    "        #A.Resize(224, 224),\n",
    "        #A.Resize(128, 128),\n",
    "        A.Normalize(),\n",
    "        \n",
    "        # 변형\n",
    "        # A.VerticalFlip(p=0.5),\n",
    "        # A.RandomRotate90(p=0.5),\n",
    "        # A.HueSaturationValue(p=0.2),\n",
    "        \n",
    "        ToTensorV2()\n",
    "    ]\n",
    ")"
   ]
  },
  {
   "cell_type": "code",
   "execution_count": 7,
   "metadata": {},
   "outputs": [],
   "source": [
    "# #Unet의 기본이 되는 conv블럭\n",
    "# class ConvBlock(nn.Module):\n",
    "#     def __init__(self, in_channels, out_channels):\n",
    "#         super(ConvBlock, self).__init__()\n",
    "#         self.conv1 = nn.Conv2d(in_channels, out_channels, kernel_size=3, padding=1)\n",
    "#         self.bn1 = nn.BatchNorm2d(out_channels)\n",
    "#         self.relu1 = nn.ReLU()\n",
    "        \n",
    "#         self.conv2 = nn.Conv2d(out_channels, out_channels, kernel_size=3, padding=1)  # 여기서 in_channels는 out_channels와 동일해야 합니다.\n",
    "#         self.bn2 = nn.BatchNorm2d(out_channels)\n",
    "#         self.relu2 = nn.ReLU()\n",
    "\n",
    "#     def forward(self, x):\n",
    "#         x = self.conv1(x)\n",
    "#         x = self.bn1(x)\n",
    "#         x = self.relu1(x)\n",
    "        \n",
    "#         x = self.conv2(x)\n",
    "#         x = self.bn2(x)\n",
    "#         x = self.relu2(x)\n",
    "#         return x\n",
    "\n",
    "# #인코더 블럭\n",
    "# class EncoderBlock(nn.Module):\n",
    "#     def __init__(self, in_channels, out_channels):\n",
    "#         super(EncoderBlock,self).__init__()\n",
    "#         self.convblock1 = ConvBlock(in_channels, out_channels)  # 첫 번째 ConvBlock의 in_channels는 입력 이미지의 채널 수와 일치해야 합니다.\n",
    "#         #self.convblock2 = ConvBlock(out_channels, out_channels)  # 두 번째 ConvBlock의 in_channels는 out_channels와 일치해야 합니다.\n",
    "#         self.maxpool = nn.MaxPool2d(kernel_size=2, stride=2)\n",
    "\n",
    "#     def forward(self,x):\n",
    "#         x = self.convblock1(x)\n",
    "#         #x = self.convblock2(x)\n",
    "#         p = self.maxpool(x)\n",
    "#         return x , p\n",
    "# #디코더 블럭\n",
    "# #디코더는 업샘플링 이후 스킵연결과 붙어서 convblock을 통과해야함\n",
    "# #skip보다 작은 x x먼저 업샘플링 32 -> 64 , skip과 결합 6464 \n",
    "# class DecoderBlock(nn.Module):\n",
    "#     def __init__(self, channels):\n",
    "#         super(DecoderBlock,self).__init__()\n",
    "#         self.upsample = nn.ConvTranspose2d(channels*2, channels, kernel_size=4, stride=2, padding=1)#x 업샘플링\n",
    "#         self.convblock1 = ConvBlock(channels*2, channels)#차원감소\n",
    "#         #self.convblock2 = ConvBlock(channels, channels)\n",
    "#     def forward(self,x,skip):\n",
    "#         x = self.upsample(x)\n",
    "#         x = torch.cat([x, skip], dim=1)\n",
    "#         x = self.convblock1(x)\n",
    "#         #x = self.convblock2(x)\n",
    "#         return x\n",
    "\n",
    "# ###########################################\n",
    "# class GradReverse(torch.autograd.Function):\n",
    "#     @staticmethod\n",
    "#     def forward(self, x):\n",
    "#         return x.view_as(x)\n",
    "#     @staticmethod\n",
    "#     def backward(self, grad_output): # 역전파 시에 gradient에 음수를 취함\n",
    "#         return (grad_output * -1)\n",
    "\n",
    "# class domain_classifier(nn.Module):\n",
    "#     def __init__(self):\n",
    "#         super(domain_classifier, self).__init__()\n",
    "#         self.fc1 = nn.Linear(224*224*64, 10)\n",
    "#         self.fc2 = nn.Linear(10, 4) # source = 0, target = 1 회귀 가정\n",
    "\n",
    "#     def forward(self, x):\n",
    "#         x = x.view(-1, 224*224*64)\n",
    "#         x = GradReverse.apply(x) # gradient reverse\n",
    "#         x = F.leaky_relu(self.fc1(x))\n",
    "#         x = self.fc2(x)\n",
    "        \n",
    "#         return x\n",
    "\n",
    "# ###########################################\n",
    "\n",
    "\n",
    "# #Unet구조 middle의 xm값의 움직임에 주의\n",
    "# class Unet(nn.Module):\n",
    "#     def __init__(self,n_classes):\n",
    "#         super(Unet,self).__init__()\n",
    "#         self.encoder1 = EncoderBlock(3,64)\n",
    "#         self.encoder2 = EncoderBlock(64,128)\n",
    "#         self.encoder3 = EncoderBlock(128,256)\n",
    "#         self.encoder4 = EncoderBlock(256,512)\n",
    "        \n",
    "#         self.middleconv = ConvBlock(512,1024)\n",
    "        \n",
    "        \n",
    "#         self.decoder4 = DecoderBlock(512)\n",
    "#         self.decoder3 = DecoderBlock(256)\n",
    "#         self.decoder2 = DecoderBlock(128)\n",
    "#         self.decoder1 = DecoderBlock(64)\n",
    "#         self.segmap = nn.Conv2d(64,n_classes, kernel_size=1)\n",
    "        \n",
    "#         self.domain_classifier = domain_classifier()\n",
    "                                        \n",
    "\n",
    "#     def forward(self,x):\n",
    "#         x1,p = self.encoder1(x)#3->64   #P:256,256 x1 :512,512\n",
    "#         x2,p = self.encoder2(p)#64->128 #P:128,128 x2:256,256\n",
    "#         x3,p = self.encoder3(p)#128->256#p:64,64 x3:128,128\n",
    "#         x4,p = self.encoder4(p)#256->512#p:32,32 x4:64,64\n",
    "        \n",
    "#         xm = self.middleconv(p)#512->1024#32,32\n",
    "        \n",
    "#         x = self.decoder4(xm,x4)#뉴런:1024->512->512 #출력tensor:64,64\n",
    "#         x = self.decoder3(x,x3)#뉴런:512->256->256 #출력tensor:128,128\n",
    "#         x = self.decoder2(x,x2)#뉴런:256->128->128 #출력tensor:256,256\n",
    "#         x = self.decoder1(x,x1)#뉴런:128->64->64 #출력tensor:512,512\n",
    "\n",
    "#         x_c = self.segmap(x)\n",
    "#         x_d = self.domain_classifier(x)\n",
    "#         # print(\"x_c\", x_c.shape)\n",
    "#         # print(\"x_d\", x_d.shape)\n",
    "#         return x_c, x_d"
   ]
  },
  {
   "cell_type": "markdown",
   "metadata": {},
   "source": [
    "## Resnet50"
   ]
  },
  {
   "cell_type": "code",
   "execution_count": 8,
   "metadata": {},
   "outputs": [],
   "source": [
    "# class GradReverse(torch.autograd.Function):\n",
    "#     @staticmethod\n",
    "#     def forward(self, x):\n",
    "#         return x.view_as(x)\n",
    "#     @staticmethod\n",
    "#     def backward(self, grad_output): # 역전파 시에 gradient에 음수를 취함\n",
    "#         return grad_output * (-1)\n",
    "\n",
    "# class domain_classifier(nn.Module):\n",
    "#     def __init__(self):\n",
    "#         super(domain_classifier, self).__init__()\n",
    "#         self.conv1 = nn.Conv2d(128, 1, kernel_size=1)\n",
    "#         self.fc1 = nn.Linear(224*224*1, 10)\n",
    "#         self.fc2 = nn.Linear(10, 4) # source = 0, target = 1 회귀 가정\n",
    "\n",
    "#     def forward(self, x):\n",
    "#         x = self.conv1(x)\n",
    "#         x = x.view(-1, 224*224*1)\n",
    "#         #print(x.shape)\n",
    "#         x = GradReverse.apply(x) # gradient reverse\n",
    "#         x = F.leaky_relu(self.fc1(x))\n",
    "#         x = self.fc2(x)\n",
    "#         #print(x.shape)\n",
    "#         #return torch.sigmoid(x)\n",
    "#         return x\n",
    "\n",
    "# #Unet의 기본이 되는 conv블럭\n",
    "# class ConvBlock(nn.Module):\n",
    "#     def __init__(self, in_channels, out_channels,kernel_size = 3):\n",
    "#         super(ConvBlock, self).__init__()\n",
    "#         self.kernel_size = kernel_size\n",
    "#         self.conv1 = nn.Conv2d(in_channels, out_channels, kernel_size=kernel_size, padding=1)\n",
    "#         self.bn1 = nn.BatchNorm2d(out_channels)\n",
    "#         self.relu1 = nn.ReLU()\n",
    "        \n",
    "#         self.conv2 = nn.Conv2d(out_channels, out_channels, kernel_size=kernel_size, padding=1)  # 여기서 in_channels는 out_channels와 동일해야 합니다.\n",
    "#         self.bn2 = nn.BatchNorm2d(out_channels)\n",
    "#         self.relu2 = nn.ReLU()\n",
    "\n",
    "#     def forward(self, x):\n",
    "#         x = self.conv1(x)\n",
    "#         x = self.bn1(x)\n",
    "#         x = self.relu1(x)\n",
    "        \n",
    "#         x = self.conv2(x)\n",
    "#         x = self.bn2(x)\n",
    "#         x = self.relu2(x)\n",
    "#         return x\n",
    "# class IdentityBlock(nn.Module):\n",
    "#     def __init__(self, in_channels, mid_channels, out_channels, stride=1):\n",
    "#         super(IdentityBlock, self).__init__()\n",
    "        \n",
    "#         # 1x1 convolution\n",
    "#         self.conv1 = nn.Conv2d(in_channels, mid_channels, kernel_size=1, stride=stride, bias=False)\n",
    "#         self.bn1 = nn.BatchNorm2d(mid_channels)\n",
    "#         self.relu1 = nn.ReLU()\n",
    "\n",
    "#         # 3x3 convolution\n",
    "#         self.conv2 = nn.Conv2d(mid_channels, mid_channels, kernel_size=3, padding=1, bias=False)\n",
    "#         self.bn2 = nn.BatchNorm2d(mid_channels)\n",
    "#         self.relu2 = nn.ReLU()\n",
    "\n",
    "#         # 1x1 convolution\n",
    "#         self.conv3 = nn.Conv2d(mid_channels, out_channels, kernel_size=1, bias=False)\n",
    "#         self.bn3 = nn.BatchNorm2d(out_channels)\n",
    "#         self.relu3 = nn.ReLU()\n",
    "        \n",
    "#     def forward(self, x):\n",
    "#         out = self.conv1(x)\n",
    "#         out = self.bn1(out)\n",
    "#         out = self.relu1(out)\n",
    "        \n",
    "#         out = self.conv2(out)\n",
    "#         out = self.bn2(out)\n",
    "#         out = self.relu2(out)\n",
    "         \n",
    "#         out = self.conv3(out)\n",
    "#         out = self.bn3(out)\n",
    "#         out = self.relu3(out)\n",
    "        \n",
    "#         return out\n",
    "# class HeadBlock(IdentityBlock):\n",
    "#     def __init__(self, in_channels, mid_channels, out_channels, stride=1):\n",
    "#         super(HeadBlock, self).__init__(in_channels, mid_channels, out_channels, stride)\n",
    "        \n",
    "#         self.shortcut = nn.Sequential(\n",
    "#             nn.Conv2d(in_channels, out_channels, kernel_size=1, stride=stride, bias=False),\n",
    "#             nn.BatchNorm2d(out_channels)\n",
    "#         )\n",
    "\n",
    "#     def forward(self, x):\n",
    "#         identity = x\n",
    "#         out = super().forward(x)\n",
    "        \n",
    "#         if identity.size() != out.size():\n",
    "#             identity = F.interpolate(identity, size=out.size()[2:])\n",
    "#         identity = self.shortcut(identity)\n",
    "        \n",
    "#         out += identity\n",
    "#         out = self.relu3(out)\n",
    "        \n",
    "#         return out\n",
    "# #인코더 블럭\n",
    "# class Conv2(nn.Module):\n",
    "#     def __init__(self,in_channels, mid_channels, out_channels):\n",
    "#         super(Conv2,self).__init__() \n",
    "#         self.headblock = HeadBlock(in_channels,mid_channels,out_channels)\n",
    "#         self.identityblock1 = IdentityBlock(out_channels,mid_channels,out_channels)\n",
    "#         self.identityblock2 = IdentityBlock(out_channels,mid_channels,out_channels)\n",
    "#         self.maxpool = nn.MaxPool2d(kernel_size=3, stride=2)\n",
    "#     def forward(self,x):\n",
    "#         x = self.headblock(x)\n",
    "#         x = self.identityblock1(x)\n",
    "#         x = self.identityblock2(x)\n",
    "#         p = self.maxpool(x)\n",
    "#         return x , p\n",
    "# class Conv3(nn.Module):\n",
    "#     def __init__(self,in_channels, mid_channels, out_channels):\n",
    "#         super(Conv3,self).__init__() \n",
    "#         self.headblock = HeadBlock(in_channels,mid_channels,out_channels)\n",
    "#         self.identityblock1 = IdentityBlock(out_channels,mid_channels,out_channels)\n",
    "#         self.identityblock2 = IdentityBlock(out_channels,mid_channels,out_channels)\n",
    "#         self.identityblock3 = IdentityBlock(out_channels,mid_channels,out_channels)\n",
    "#         self.maxpool = nn.MaxPool2d(kernel_size=3, stride=2)\n",
    "#     def forward(self,x):\n",
    "#         x = self.headblock(x)\n",
    "#         x = self.identityblock1(x)\n",
    "#         x = self.identityblock2(x)\n",
    "#         x = self.identityblock3(x)\n",
    "#         p = self.maxpool(x)\n",
    "#         return x , p\n",
    "# class Conv4(nn.Module):\n",
    "#     def __init__(self,in_channels, mid_channels, out_channels):\n",
    "#         super(Conv4,self).__init__() \n",
    "#         self.headblock = HeadBlock(in_channels,mid_channels,out_channels)\n",
    "#         self.identityblock1 = IdentityBlock(out_channels,mid_channels,out_channels)\n",
    "#         self.identityblock2 = IdentityBlock(out_channels,mid_channels,out_channels)\n",
    "#         self.identityblock3 = IdentityBlock(out_channels,mid_channels,out_channels)\n",
    "#         self.identityblock4 = IdentityBlock(out_channels,mid_channels,out_channels)\n",
    "#         self.identityblock5 = IdentityBlock(out_channels,mid_channels,out_channels)\n",
    "#         self.maxpool = nn.MaxPool2d(kernel_size=3, stride=2)\n",
    "#     def forward(self,x):\n",
    "#         x = self.headblock(x)\n",
    "#         x = self.identityblock1(x)\n",
    "#         x = self.identityblock2(x)\n",
    "#         x = self.identityblock3(x)\n",
    "#         x = self.identityblock4(x)\n",
    "#         x = self.identityblock5(x)\n",
    "#         p = self.maxpool(x)\n",
    "#         return x , p\n",
    "# class Conv5(nn.Module):\n",
    "#     def __init__(self,in_channels, mid_channels, out_channels):\n",
    "#         super(Conv5,self).__init__() \n",
    "#         self.headblock = HeadBlock(in_channels,mid_channels,out_channels)\n",
    "#         self.identityblock1 = IdentityBlock(out_channels,mid_channels,out_channels)\n",
    "#         self.identityblock2 = IdentityBlock(out_channels,mid_channels,out_channels)\n",
    "#         self.maxpool = nn.MaxPool2d(kernel_size=3, stride=2)\n",
    "#     def forward(self,x):\n",
    "#         x = self.headblock(x)\n",
    "#         x = self.identityblock1(x)\n",
    "#         x = self.identityblock2(x)\n",
    "#         p = self.maxpool(x)\n",
    "#         return x , p\n",
    "# #디코더 블럭\n",
    "# class DecoderBlock(nn.Module):\n",
    "#     def __init__(self, channels):\n",
    "#         super(DecoderBlock, self).__init__()\n",
    "#         self.upsample = nn.ConvTranspose2d(channels*2, channels, kernel_size=4, stride=2, padding=1, output_padding=1) # output_padding 추가\n",
    "#         self.convblock1 = ConvBlock(channels*2, channels)\n",
    "\n",
    "#     def forward(self, x, skip):\n",
    "#         x = self.upsample(x)\n",
    "#         if x.size(2) != skip.size(2) or x.size(3) != skip.size(3):\n",
    "#             x = F.interpolate(x, size=(skip.size(2), skip.size(3)))\n",
    "#         x = torch.cat([x, skip], dim=1)\n",
    "#         x = self.convblock1(x)\n",
    "#         return x\n",
    "\n",
    "# #Unet구조 middle의 xm값의 움직임에 주의\n",
    "# class Resnet50_Unet(nn.Module):\n",
    "#     def __init__(self,n_classes):\n",
    "#         super(Resnet50_Unet,self).__init__()\n",
    "#         self.fconv1 = nn.Conv2d(3, 64, kernel_size=7, stride=2)\n",
    "#         self.fbn1 = nn.BatchNorm2d(64)\n",
    "#         self.frelu1 = nn.ReLU()\n",
    "#         self.fconv2 = nn.Conv2d(64, 128, kernel_size=1, stride=1)\n",
    "#         self.fbn2 = nn.BatchNorm2d(128)\n",
    "#         self.frelu2 = nn.ReLU()\n",
    "#         self.fmaxpooling = nn.MaxPool2d(kernel_size=3,stride=2)\n",
    "        \n",
    "#         self.conv2 = Conv2(128,64,256)\n",
    "#         self.conv3 = Conv3(256,128,512)\n",
    "#         self.conv4 = Conv4(512,256,1024)\n",
    "#         self.conv5 = Conv5(1024,512,2048)\n",
    "        \n",
    "#         self.middleconv = ConvBlock(2048,4096)\n",
    "#         self.dropout = nn.Dropout2d(0.4) #\n",
    "           \n",
    "#         self.decoder5 = DecoderBlock(2048)\n",
    "#         self.decoder4 = DecoderBlock(1024)\n",
    "#         self.decoder3 = DecoderBlock(512)\n",
    "#         self.decoder2 = DecoderBlock(256)\n",
    "#         self.decoder1 = DecoderBlock(128)\n",
    "        \n",
    "#         self.segmap = nn.Conv2d(128,n_classes, kernel_size=1)\n",
    "#         self.domain_classifier = domain_classifier()\n",
    "        \n",
    "#     def forward(self,x):\n",
    "#         x = self.fconv1(x)#3->64\n",
    "#         x = self.fbn1(x)\n",
    "#         x = self.frelu1(x)\n",
    "#         x = self.fconv2(x)\n",
    "#         x = self.fbn2(x)\n",
    "#         x1 = self.frelu2(x)\n",
    "#         p = self.fmaxpooling(x)#첫 conv: x0([8, 64, 109, 109]) p([8, 64, 54, 54])\n",
    "#         x2,p = self.conv2(p)#conv2:  x1:([8, 256, 54, 54]) p([8, 256, 26, 26])\n",
    "#         x3,p = self.conv3(p)#conv3:  x2([8, 512, 26, 26]) p([8, 512, 12, 12])\n",
    "#         x4,p = self.conv4(p)#conv4:  x3([8, 1024, 12, 12]) p([8, 1024, 5, 5])\n",
    "#         x5,p = self.conv5(p)#conv5:  x4([8, 2048, 5, 5]) p([8, 2048, 2, 2])\n",
    "        \n",
    "#         xm = self.middleconv(p)#xm([8, 4096, 2, 2])\n",
    "#         xm = self.dropout(xm)\n",
    "        \n",
    "#         x = self.decoder5(xm,x5)#뉴런:2048*2->2048 1\n",
    "#         x = self.decoder4(x,x4)#뉴런:1024*2->1024 \n",
    "#         x = self.decoder3(x,x3) #14\n",
    "#         x = self.decoder2(x,x2)#28\n",
    "#         x = self.decoder1(x,x1)#55\n",
    "        \n",
    "#         x = F.interpolate(x, size=(224, 224))\n",
    "#         x_c = self.segmap(x)\n",
    "#         x_d = self.domain_classifier(x)\n",
    "#         #print(x.shape)\n",
    "#         return x_c,x_d"
   ]
  },
  {
   "cell_type": "markdown",
   "metadata": {},
   "source": [
    "## Resnet34"
   ]
  },
  {
   "cell_type": "code",
   "execution_count": 9,
   "metadata": {},
   "outputs": [],
   "source": [
    "class GradReverse(torch.autograd.Function):\n",
    "    @staticmethod\n",
    "    def forward(self, x):\n",
    "        return x.view_as(x)\n",
    "    @staticmethod\n",
    "    def backward(self, grad_output): # 역전파 시에 gradient에 음수를 취함\n",
    "        return grad_output * (-1)\n",
    "\n",
    "class domain_classifier(nn.Module):\n",
    "    def __init__(self):\n",
    "        super(domain_classifier, self).__init__()\n",
    "        self.fc1 = nn.Linear(224*224*64, 10)\n",
    "        self.fc2 = nn.Linear(10, 4) # source = 0, target = 1 회귀 가정\n",
    "\n",
    "    def forward(self, x):\n",
    "        x = x.view(-1, 224*224*64)\n",
    "        x = GradReverse.apply(x) # gradient reverse\n",
    "        x = F.leaky_relu(self.fc1(x))\n",
    "        x = self.fc2(x)\n",
    "        \n",
    "        #return torch.sigmoid(x)\n",
    "        return x\n",
    "\n",
    "class domain_linear(nn.Module):\n",
    "    def __init__(self):\n",
    "        super(domain_linear, self).__init__()\n",
    "        self.fc1 = nn.Linear(224*224*64, 10)\n",
    "        self.fc2 = nn.Linear(10, 1) # source = 0, target = 1 회귀 가정\n",
    "\n",
    "    def forward(self, x):\n",
    "        x = x.view(-1, 224*224*64)\n",
    "        x = GradReverse.apply(x) # gradient reverse\n",
    "        x = F.leaky_relu(self.fc1(x))\n",
    "        x = self.fc2(x)\n",
    "        \n",
    "        return torch.sigmoid(x)\n",
    "        #return x\n",
    "class IdentityBlock(nn.Module):\n",
    "    def __init__(self, in_channels, out_channels, stride=1):\n",
    "        super(IdentityBlock, self).__init__()\n",
    "        \n",
    "        # 3x3 convolution\n",
    "        self.conv1 = nn.Conv2d(in_channels, in_channels, kernel_size=3, padding=1, stride=stride, bias=False)\n",
    "        self.bn1 = nn.BatchNorm2d(in_channels)\n",
    "        self.relu1 = nn.ReLU()\n",
    "        \n",
    "        # 3x3 convolution\n",
    "        self.conv2 = nn.Conv2d(in_channels, out_channels, kernel_size=3, padding=1, bias=False)\n",
    "        self.bn2 = nn.BatchNorm2d(out_channels)\n",
    "        self.relu2 = nn.ReLU()\n",
    "        \n",
    "        # Skip connection\n",
    "        self.skip = nn.Sequential()\n",
    "        if stride != 1 or in_channels != out_channels:\n",
    "            self.skip = nn.Sequential(\n",
    "                nn.Conv2d(in_channels, out_channels, kernel_size=1, stride=stride, bias=False),\n",
    "                nn.BatchNorm2d(out_channels)\n",
    "            )\n",
    "        \n",
    "    def forward(self, x):\n",
    "        identity = x\n",
    "        \n",
    "        out = self.conv1(x)\n",
    "        out = self.bn1(out)\n",
    "        out = self.relu1(out)\n",
    "        \n",
    "        out = self.conv2(out)\n",
    "        out = self.bn2(out)\n",
    "        \n",
    "        # Adding the skip connection\n",
    "        out += self.skip(identity)\n",
    "        out = self.relu2(out)\n",
    "        \n",
    "        return out\n",
    "#인코더 블럭\n",
    "class Conv2(nn.Module):\n",
    "    def __init__(self,in_channels, out_channels):\n",
    "        super(Conv2,self).__init__() \n",
    "        self.identityblock1 = IdentityBlock(in_channels,in_channels)\n",
    "        self.identityblock2 = IdentityBlock(in_channels,in_channels)\n",
    "        self.identityblock3 = IdentityBlock(in_channels,out_channels)\n",
    "        self.maxpool = nn.MaxPool2d(kernel_size=3, stride=2,padding=1)\n",
    "    def forward(self,x):\n",
    "        x = self.identityblock1(x)\n",
    "        x = self.identityblock2(x)\n",
    "        x = self.identityblock3(x)\n",
    "        p = self.maxpool(x)\n",
    "        \n",
    "        return x , p\n",
    "class Conv3(nn.Module):\n",
    "    def __init__(self,in_channels, out_channels):\n",
    "        super(Conv3,self).__init__()         \n",
    "        self.identityblock1 = IdentityBlock(in_channels,in_channels)\n",
    "        self.identityblock2 = IdentityBlock(in_channels,in_channels)\n",
    "        self.identityblock3 = IdentityBlock(in_channels,in_channels)\n",
    "        self.identityblock4 = IdentityBlock(in_channels,out_channels)\n",
    "        self.maxpool = nn.MaxPool2d(kernel_size=3, stride=2,padding=1)\n",
    "    def forward(self,x):\n",
    "        x = self.identityblock1(x)\n",
    "        x = self.identityblock2(x)\n",
    "        x = self.identityblock3(x)\n",
    "        x = self.identityblock4(x)\n",
    "        p = self.maxpool(x)\n",
    "        \n",
    "        return x , p\n",
    "class Conv4(nn.Module):\n",
    "    def __init__(self,in_channels, out_channels):\n",
    "        super(Conv4,self).__init__()         \n",
    "        self.identityblock1 = IdentityBlock(in_channels,in_channels)\n",
    "        self.identityblock2 = IdentityBlock(in_channels,in_channels)\n",
    "        self.identityblock3 = IdentityBlock(in_channels,in_channels)\n",
    "        self.identityblock4 = IdentityBlock(in_channels,in_channels)\n",
    "        self.identityblock5 = IdentityBlock(in_channels,in_channels)\n",
    "        self.identityblock6 = IdentityBlock(in_channels,out_channels)\n",
    "        self.maxpool = nn.MaxPool2d(kernel_size=3, stride=2,padding=1)\n",
    "    def forward(self,x):\n",
    "        x = self.identityblock1(x)\n",
    "        x = self.identityblock2(x)\n",
    "        x = self.identityblock3(x)\n",
    "        x = self.identityblock4(x)\n",
    "        x = self.identityblock5(x)\n",
    "        x = self.identityblock6(x)\n",
    "        p = self.maxpool(x)\n",
    "        \n",
    "        return x , p\n",
    "class Conv5(nn.Module):\n",
    "    def __init__(self,in_channels, out_channels):\n",
    "        super(Conv5,self).__init__() \n",
    "        self.identityblock1 = IdentityBlock(in_channels,in_channels)\n",
    "        self.identityblock2 = IdentityBlock(in_channels,in_channels)\n",
    "        self.identityblock3 = IdentityBlock(in_channels,out_channels)\n",
    "        self.maxpool = nn.MaxPool2d(kernel_size=3, stride=2,padding=1)\n",
    "        \n",
    "    def forward(self,x):\n",
    "        x = self.identityblock1(x)\n",
    "        x = self.identityblock2(x)\n",
    "        x = self.identityblock3(x)\n",
    "        p = self.maxpool(x)\n",
    "        \n",
    "        return x , p\n",
    "#디코더 블럭\n",
    "class DecoderBlock(nn.Module):\n",
    "    def __init__(self, channels):\n",
    "        super(DecoderBlock, self).__init__()\n",
    "        self.upsample = nn.ConvTranspose2d(channels*2, channels, kernel_size=4, stride=2, padding=1) # output_padding 추가\n",
    "        self.convblock1 = IdentityBlock(channels*2, channels)\n",
    "\n",
    "    def forward(self, x, skip):\n",
    "        x = self.upsample(x)\n",
    "        if x.size(2) != skip.size(2) or x.size(3) != skip.size(3):\n",
    "            x = F.interpolate(x, size=(skip.size(2), skip.size(3)))\n",
    "        x = torch.cat([x, skip], dim=1)\n",
    "        x = self.convblock1(x)\n",
    "        #print(\"x\",x.shape,\"skip: \",skip.shape)\n",
    "        return x\n",
    "\n",
    "#Unet구조 middle의 xm값의 움직임에 주의\n",
    "class Resnet34_Unet(nn.Module):\n",
    "    def __init__(self,n_classes):\n",
    "        super(Resnet34_Unet,self).__init__()\n",
    "        self.fconv1 = nn.Conv2d(3, 64, kernel_size=7, stride=2, padding=3)\n",
    "        self.fbn1 = nn.BatchNorm2d(64)\n",
    "        self.frelu1 = nn.ReLU()\n",
    "        self.fmaxpooling = nn.MaxPool2d(kernel_size=3,stride=2,padding=1)\n",
    "        \n",
    "        self.conv2 = Conv2(64,128)\n",
    "        self.conv3 = Conv3(128,256)\n",
    "        self.conv4 = Conv4(256,512)\n",
    "        self.conv5 = Conv5(512,1024)\n",
    "        \n",
    "        self.middleconv = IdentityBlock(1024,2048)\n",
    "        self.dropout = nn.Dropout2d(0.1) #\n",
    "           \n",
    "        self.decoder5 = DecoderBlock(1024)\n",
    "        self.decoder4 = DecoderBlock(512)\n",
    "        self.decoder3 = DecoderBlock(256)\n",
    "        self.decoder2 = DecoderBlock(128)\n",
    "        self.decoder1 = DecoderBlock(64)\n",
    "        self.transpose = nn.ConvTranspose2d(64, 64, kernel_size=4, stride=2, padding=1) # output_padding 추가\n",
    "        \n",
    "        self.segmap = nn.Conv2d(64,n_classes, kernel_size=1)\n",
    "        self.domain_classifier = domain_classifier()\n",
    "        self.domain_linear = domain_linear()\n",
    "        \n",
    "    def forward(self,x):\n",
    "        x = self.fconv1(x)#3->64\n",
    "        x0 = self.fbn1(x)\n",
    "        x1 = self.frelu1(x)\n",
    "        p = self.fmaxpooling(x1)#첫 conv: x0([8, 64, 109, 109]) p([8, 64, 54, 54])\n",
    "        #print(\"conv1: \",x1.shape, \"maxpooling: \",p.shape)\n",
    "        x2,p = self.conv2(p)\n",
    "        #print(\"conv2: \",x2.shape, \"maxpooling: \",p.shape)\n",
    "        x3,p = self.conv3(p)\n",
    "        #print(\"conv3: \",x3.shape, \"maxpooling: \",p.shape)\n",
    "        x4,p = self.conv4(p)\n",
    "        #print(\"conv4: \",x4.shape, \"maxpooling: \",p.shape)\n",
    "        x5,p = self.conv5(p)\n",
    "        #print(\"conv5: \",x5.shape, \"maxpooling: \",p.shape)\n",
    "        \n",
    "        xm = self.middleconv(p)#xm([8, 4096, 2, 2])\n",
    "        #print(\"xm: \",xm.shape, \"maxpooling: \",p.shape)\n",
    "        xm = self.dropout(xm)\n",
    "        \n",
    "        x = self.decoder5(xm,x5)#뉴런:2048*2->2048 1\n",
    "        x = self.decoder4(x,x4)#뉴런:1024*2->1024 \n",
    "        x = self.decoder3(x,x3) #14\n",
    "        x = self.decoder2(x,x2)#28\n",
    "        x = self.decoder1(x,x1)#55\n",
    "        x = self.transpose(x)\n",
    "        \n",
    "        #print(x.shape)\n",
    "        #x = F.interpolate(x, size=(224, 224))\n",
    "        x_c = self.segmap(x)\n",
    "        #x_d = self.domain_linear(x)\n",
    "        x_d = self.domain_classifier(x)\n",
    "        \n",
    "        \n",
    "        return x_c,x_d"
   ]
  },
  {
   "cell_type": "markdown",
   "metadata": {},
   "source": [
    "## Resnet18"
   ]
  },
  {
   "cell_type": "code",
   "execution_count": 10,
   "metadata": {},
   "outputs": [],
   "source": [
    "# class GradReverse(torch.autograd.Function):\n",
    "#     @staticmethod\n",
    "#     def forward(self, x):\n",
    "#         return x.view_as(x)\n",
    "#     @staticmethod\n",
    "#     def backward(self, grad_output): # 역전파 시에 gradient에 음수를 취함\n",
    "#         return grad_output * (-1)\n",
    "\n",
    "# class domain_classifier(nn.Module):\n",
    "#     def __init__(self):\n",
    "#         super(domain_classifier, self).__init__()\n",
    "#         self.fc1 = nn.Linear(224*224*64, 10)\n",
    "#         self.fc2 = nn.Linear(10, 4) # source = 0, target = 1 회귀 가정\n",
    "\n",
    "#     def forward(self, x):\n",
    "#         x = x.view(-1, 224*224*64)\n",
    "#         x = GradReverse.apply(x) # gradient reverse\n",
    "#         x = F.leaky_relu(self.fc1(x))\n",
    "#         x = self.fc2(x)\n",
    "        \n",
    "#         #return torch.sigmoid(x)\n",
    "#         return x\n",
    "\n",
    "# class IdentityBlock(nn.Module):\n",
    "#     def __init__(self, in_channels, out_channels, stride=1):\n",
    "#         super(IdentityBlock, self).__init__()\n",
    "        \n",
    "#         # 3x3 convolution\n",
    "#         self.conv1 = nn.Conv2d(in_channels, in_channels, kernel_size=3, padding=1, stride=stride, bias=False)\n",
    "#         self.bn1 = nn.BatchNorm2d(in_channels)\n",
    "#         self.relu1 = nn.ReLU()\n",
    "        \n",
    "#         # 3x3 convolution\n",
    "#         self.conv2 = nn.Conv2d(in_channels, out_channels, kernel_size=3, padding=1, bias=False)\n",
    "#         self.bn2 = nn.BatchNorm2d(out_channels)\n",
    "#         self.relu2 = nn.ReLU()\n",
    "        \n",
    "#         # Skip connection\n",
    "#         self.skip = nn.Sequential()\n",
    "#         if stride != 1 or in_channels != out_channels:\n",
    "#             self.skip = nn.Sequential(\n",
    "#                 nn.Conv2d(in_channels, out_channels, kernel_size=1, stride=stride, bias=False),\n",
    "#                 nn.BatchNorm2d(out_channels)\n",
    "#             )\n",
    "        \n",
    "#     def forward(self, x):\n",
    "#         identity = x\n",
    "        \n",
    "#         out = self.conv1(x)\n",
    "#         out = self.bn1(out)\n",
    "#         out = self.relu1(out)\n",
    "        \n",
    "#         out = self.conv2(out)\n",
    "#         out = self.bn2(out)\n",
    "        \n",
    "#         # Adding the skip connection\n",
    "#         out += self.skip(identity)\n",
    "#         out = self.relu2(out)\n",
    "        \n",
    "#         return out\n",
    "\n",
    "\n",
    "# #인코더 블럭\n",
    "# class Conv2(nn.Module):\n",
    "#     def __init__(self,in_channels, out_channels):\n",
    "#         super(Conv2,self).__init__() \n",
    "#         self.identityblock1 = IdentityBlock(in_channels,in_channels)\n",
    "#         self.identityblock2 = IdentityBlock(in_channels,out_channels)\n",
    "#         self.maxpool = nn.MaxPool2d(kernel_size=3, stride=2,padding=1)\n",
    "#     def forward(self,x):\n",
    "#         x = self.identityblock1(x)\n",
    "#         x = self.identityblock2(x)\n",
    "#         p = self.maxpool(x)\n",
    "        \n",
    "#         return x , p\n",
    "# class Conv3(nn.Module):\n",
    "#     def __init__(self,in_channels, out_channels):\n",
    "#         super(Conv3,self).__init__()         \n",
    "#         self.identityblock1 = IdentityBlock(in_channels,in_channels)\n",
    "#         self.identityblock2 = IdentityBlock(in_channels,out_channels)\n",
    "#         self.maxpool = nn.MaxPool2d(kernel_size=3, stride=2,padding=1)\n",
    "#     def forward(self,x):\n",
    "#         x = self.identityblock1(x)\n",
    "#         x = self.identityblock2(x)\n",
    "#         p = self.maxpool(x)\n",
    "        \n",
    "#         return x , p\n",
    "# class Conv4(nn.Module):\n",
    "#     def __init__(self,in_channels, out_channels):\n",
    "#         super(Conv4,self).__init__()         \n",
    "#         self.identityblock1 = IdentityBlock(in_channels,in_channels)\n",
    "#         self.identityblock2 = IdentityBlock(in_channels,out_channels)\n",
    "#         self.maxpool = nn.MaxPool2d(kernel_size=3, stride=2,padding=1)\n",
    "#     def forward(self,x):\n",
    "#         x = self.identityblock1(x)\n",
    "#         x = self.identityblock2(x)\n",
    "#         p = self.maxpool(x)\n",
    "        \n",
    "#         return x , p\n",
    "# class Conv5(nn.Module):\n",
    "#     def __init__(self,in_channels, out_channels):\n",
    "#         super(Conv5,self).__init__() \n",
    "#         self.identityblock1 = IdentityBlock(in_channels,in_channels)\n",
    "#         self.identityblock2 = IdentityBlock(in_channels,out_channels)\n",
    "#         self.maxpool = nn.MaxPool2d(kernel_size=3, stride=2,padding=1)\n",
    "        \n",
    "#     def forward(self,x):\n",
    "#         x = self.identityblock1(x)\n",
    "#         x = self.identityblock2(x)\n",
    "#         p = self.maxpool(x)\n",
    "        \n",
    "#         return x , p\n",
    "# #디코더 블럭\n",
    "# class DecoderBlock(nn.Module):\n",
    "#     def __init__(self, channels):\n",
    "#         super(DecoderBlock, self).__init__()\n",
    "#         self.upsample = nn.ConvTranspose2d(channels*2, channels, kernel_size=4, stride=2, padding=1) # output_padding 추가\n",
    "#         self.convblock1 = IdentityBlock(channels*2, channels)\n",
    "\n",
    "#     def forward(self, x, skip):\n",
    "#         x = self.upsample(x)\n",
    "#         if x.size(2) != skip.size(2) or x.size(3) != skip.size(3):\n",
    "#             x = F.interpolate(x, size=(skip.size(2), skip.size(3)))\n",
    "#         x = torch.cat([x, skip], dim=1)\n",
    "#         x = self.convblock1(x)\n",
    "#         #print(\"x\",x.shape,\"skip: \",skip.shape)\n",
    "#         return x\n",
    "\n",
    "# #Unet구조 middle의 xm값의 움직임에 주의\n",
    "# class Resnet18_Unet(nn.Module):\n",
    "#     def __init__(self,n_classes):\n",
    "#         super(Resnet18_Unet,self).__init__()\n",
    "#         self.fconv1 = nn.Conv2d(3, 64, kernel_size=7, stride=2, padding=3)\n",
    "#         self.fbn1 = nn.BatchNorm2d(64)\n",
    "#         self.frelu1 = nn.ReLU()\n",
    "#         self.fmaxpooling = nn.MaxPool2d(kernel_size=3,stride=2,padding=1)\n",
    "        \n",
    "#         self.conv2 = Conv2(64,128)\n",
    "#         self.conv3 = Conv3(128,256)\n",
    "#         self.conv4 = Conv4(256,512)\n",
    "#         self.conv5 = Conv5(512,1024)\n",
    "        \n",
    "#         self.middleconv = IdentityBlock(1024,2048)\n",
    "#         self.dropout = nn.Dropout2d(0.1) #\n",
    "           \n",
    "#         self.decoder5 = DecoderBlock(1024)\n",
    "#         self.decoder4 = DecoderBlock(512)\n",
    "#         self.decoder3 = DecoderBlock(256)\n",
    "#         self.decoder2 = DecoderBlock(128)\n",
    "#         self.decoder1 = DecoderBlock(64)\n",
    "#         self.transpose = nn.ConvTranspose2d(64, 64, kernel_size=4, stride=2, padding=1) # output_padding 추가\n",
    "        \n",
    "#         self.segmap = nn.Conv2d(64,n_classes, kernel_size=1)\n",
    "#         self.domain_classifier = domain_classifier()\n",
    "        \n",
    "#     def forward(self,x):\n",
    "#         x = self.fconv1(x)#3->64\n",
    "#         x0 = self.fbn1(x)\n",
    "#         x1 = self.frelu1(x)\n",
    "#         p = self.fmaxpooling(x1)#첫 conv: x0([8, 64, 109, 109]) p([8, 64, 54, 54])\n",
    "#         #print(\"conv1: \",x1.shape, \"maxpooling: \",p.shape)\n",
    "#         x2,p = self.conv2(p)\n",
    "#         #print(\"conv2: \",x2.shape, \"maxpooling: \",p.shape)\n",
    "#         x3,p = self.conv3(p)\n",
    "#         #print(\"conv3: \",x3.shape, \"maxpooling: \",p.shape)\n",
    "#         x4,p = self.conv4(p)\n",
    "#         #print(\"conv4: \",x4.shape, \"maxpooling: \",p.shape)\n",
    "#         x5,p = self.conv5(p)\n",
    "#         #print(\"conv5: \",x5.shape, \"maxpooling: \",p.shape)\n",
    "        \n",
    "#         xm = self.middleconv(p)#xm([8, 4096, 2, 2])\n",
    "#         #print(\"xm: \",xm.shape, \"maxpooling: \",p.shape)\n",
    "#         xm = self.dropout(xm)\n",
    "        \n",
    "#         x = self.decoder5(xm,x5)#뉴런:2048*2->2048 1\n",
    "#         x = self.decoder4(x,x4)#뉴런:1024*2->1024 \n",
    "#         x = self.decoder3(x,x3) #14\n",
    "#         x = self.decoder2(x,x2)#28\n",
    "#         x = self.decoder1(x,x1)#55\n",
    "#         x = self.transpose(x)\n",
    "        \n",
    "#         #print(x.shape)\n",
    "#         #x = F.interpolate(x, size=(224, 224))\n",
    "#         x_c = self.segmap(x)\n",
    "#         x_d = self.domain_classifier(x)\n",
    "        \n",
    "#         return x_c,x_d"
   ]
  },
  {
   "cell_type": "code",
   "execution_count": 11,
   "metadata": {},
   "outputs": [],
   "source": [
    "# import pickle\n",
    "\n",
    "# # 저장된 class_weights를 불러옵니다.\n",
    "# class_weights_path = 'CLASS_WEIGHTS.pkl'\n",
    "\n",
    "# with open(class_weights_path, 'rb') as file:\n",
    "#     CLASS_WEIGHTS = pickle.load(file)\n",
    "\n",
    "# print(CLASS_WEIGHTS)"
   ]
  },
  {
   "cell_type": "markdown",
   "metadata": {},
   "source": [
    "## Loss Function"
   ]
  },
  {
   "cell_type": "code",
   "execution_count": 12,
   "metadata": {},
   "outputs": [],
   "source": [
    "# loss function과 optimizer 정의\n",
    "\n",
    "class DANN_Loss(nn.Module):\n",
    "    def __init__(self):\n",
    "        super(DANN_Loss, self).__init__()\n",
    "\n",
    "        #self.CE = nn.CrossEntropyLoss(weight=CLASS_WEIGHTS) # 0~9 class 분류용\n",
    "        self.CE = nn.CrossEntropyLoss()\n",
    "        #self.BCE = nn.BCELoss() # 도메인 분류용\n",
    "        \n",
    "    # result : DANN_CNN에서 반환된 값\n",
    "    # label : 숫자 0 ~ 9에 대한 라벨\n",
    "    # domain_num : 0(source) or 1(target)\n",
    "    def forward(self, result, label, domain_num, alpha = 1):\n",
    "        label_logits, domain_logits = result # DANN_CNN의 결과\n",
    "\n",
    "        batch_size = domain_logits.shape[0]\n",
    "\n",
    "        # print(\"segment_mask : \", label.shape)\n",
    "        # print(\"domain_answer : \", domain_target.shape)\n",
    "        segment_loss = self.CE(label_logits, label) # class 분류 loss\n",
    "\n",
    "        # domain_target = torch.FloatTensor([domain_num] * batch_size).unsqueeze(1).to(device)\n",
    "        # domain_loss = self.BCE(domain_logits, domain_target)\n",
    "\n",
    "        domain_target = torch.LongTensor([domain_num] * batch_size).to(device)\n",
    "        domain_loss = self.CE(domain_logits, domain_target) # domain 분류 loss\n",
    "        \n",
    "        loss = segment_loss + alpha * domain_loss\n",
    "\n",
    "        return loss, segment_loss, domain_loss\n",
    "    \n",
    "\n",
    "loss_fn = DANN_Loss().to(device)\n",
    "\n",
    "#criterion =nn.CrossEntropyLoss()\n",
    "#domain_criterion = nn.BCELoss()\n",
    "#criterion = nn.CrossEntropyLoss(weight=class_weights)"
   ]
  },
  {
   "cell_type": "code",
   "execution_count": 13,
   "metadata": {},
   "outputs": [],
   "source": [
    "import os\n",
    "os.environ['CUDA_LAUNCH_BLOCKING'] = '1'"
   ]
  },
  {
   "cell_type": "code",
   "execution_count": 14,
   "metadata": {},
   "outputs": [],
   "source": [
    "LR = 0.001\n",
    "EP = 50\n",
    "BATCH_SIZE = 16\n",
    "ACCMULATION_STEP = 1 \n",
    "N_CLASSES = 13 #IoU 점수측정하기 위한 클래스의 개수\n",
    "ALPHA = 0.0001\n",
    "N_LABELS = 4\n",
    "# model 초기화\n",
    "#model = Resnet18_Unet(n_classes = N_CLASSES).to(device)\n",
    "model = Resnet34_Unet(n_classes = N_CLASSES).to(device)\n",
    "#model = Resnet50_Unet(n_classes = N_CLASSES).to(device)\n",
    "#model = Unet(n_classes = N_CLASSES).to(device)\n",
    "optimizer = torch.optim.Adam(model.parameters(), lr=LR)\n",
    "\n",
    "optimizer.zero_grad() \n",
    "\n",
    "source_dataset = CustomDataset(csv_file='./data/896_csv/train_source.csv', transform=transform)\n",
    "source_dataloader = DataLoader(source_dataset, batch_size=BATCH_SIZE, shuffle=True)\n",
    "val_target_dataset = CustomDataset(csv_file='./data/896_csv/val_source.csv', transform=transform)\n",
    "val_target_dataloader = DataLoader(val_target_dataset, batch_size=BATCH_SIZE, shuffle=False)\n"
   ]
  },
  {
   "cell_type": "code",
   "execution_count": 15,
   "metadata": {},
   "outputs": [],
   "source": [
    "# import pandas as pd\n",
    "# import os\n",
    "# import cv2\n",
    "# import matplotlib.pyplot as plt\n",
    "# a1 = pd.read_csv(\"./data/6_fish_source.csv\")\n",
    "# p = \"./data/224/\"\n",
    "# a2 = os.path.join(p, a1.iloc[3,2])\n",
    "# a3 = cv2.imread(a2)\n",
    "# a4 = cv2.cvtColor(a3, cv2.COLOR_BGR2GRAY)\n",
    "# a4 = np.round(a4).astype(np.uint8)\n",
    "# a5 = a4*20\n",
    "\n",
    "# plt.imshow(a5, cmap='gray')\n",
    "# plt.axis('off')\n",
    "# plt.show()"
   ]
  },
  {
   "cell_type": "code",
   "execution_count": 16,
   "metadata": {},
   "outputs": [],
   "source": [
    "# import random\n",
    "# #torch.cuda.empty_cache()\n",
    "# # import wandb\n",
    "\n",
    "\n",
    "# # wandb.init(\n",
    "# #     # set the wandb project where this run will be logged\n",
    "# #     project=\"practice_10_27_4d_res18\",\n",
    "    \n",
    "# #     # track hyperparameters and run metadata\n",
    "# #     config={\n",
    "# #     \"learning_rate\": LR,\n",
    "# #     \"architecture\": \"CNN\",\n",
    "# #     \"dataset\": \"Samsung\",\n",
    "# #     \"epochs\": EP,\n",
    "# #     }\n",
    "# # )\n",
    "\n",
    "# for epoch in range(EP):\n",
    "#     # 클래스별 IoU를 누적할 리스트 초기화\n",
    "#     train_class_ious = []\n",
    "#     fish_train_class_ious = []\n",
    "#     # 학습\n",
    "#     model.train()\n",
    "#     epoch_loss = 0\n",
    "#     seg_loss = 0\n",
    "#     dom_loss = 0\n",
    "\n",
    "#     for source_images, source_masks in tqdm(source_dataloader):\n",
    "#         label = random.randint(0,3)\n",
    "#         source_images, source_masks = apply_fisheye_distortion(source_images, source_masks, label)\n",
    "#         source_images = source_images.float().to(device)\n",
    "#         source_masks = source_masks.long().to(device)\n",
    "\n",
    "#         optimizer.zero_grad()\n",
    "#         source_outputs = model(source_images)\n",
    "\n",
    "#         source_loss, segment_loss, domain_loss = loss_fn(source_outputs, source_masks, label, alpha = ALPHA)\n",
    "\n",
    "#         loss = source_loss\n",
    "#         epoch_loss += loss.item()\n",
    "#         seg_loss += segment_loss.item()\n",
    "#         dom_loss += domain_loss.item()\n",
    "\n",
    "#         loss.backward()\n",
    "#         optimizer.step()\n",
    "#         #scheduler.step()\n",
    "#                 # train 클래스별 IoU 계산\n",
    "#         source_outputs = torch.softmax(source_outputs[0], dim=1).cpu()\n",
    "#         source_outputs = torch.argmax(source_outputs, dim=1).numpy()\n",
    "\n",
    "#         for class_id in range(N_CLASSES):\n",
    "#             iou = calculate_iou_per_class(np.array(source_masks.cpu()), np.array(source_outputs), class_id)\n",
    "#             train_class_ious.append(iou)\n",
    "\n",
    "#     train_class_ious = np.array(train_class_ious).reshape(N_CLASSES, -1)\n",
    "#     train_class_ious = np.mean(train_class_ious, axis=1)\n",
    "#     print(\"--IoU Scores Train--\")\n",
    "#     for class_id, iou in enumerate(train_class_ious):\n",
    "#         print(f'Class{class_id}: {iou:.4f}', end=\" \")\n",
    "#         if (class_id+1) % 7 == 0:\n",
    "#             print()\n",
    "\n",
    "#     # mIoU 계산\n",
    "#     train_mIoU = np.mean(train_class_ious)\n",
    "\n",
    "#     # 에폭마다 결과 출력 \n",
    "#     print(f\"\\nEpoch{epoch+1}\")\n",
    "#     print(f\"Train seg Loss: {(seg_loss/len(source_dataloader))}\")\n",
    "#     print(f\"Train dom Loss: {(dom_loss/len(source_dataloader))}\")\n",
    "#     print(f\"Train Loss: {(epoch_loss/len(source_dataloader))}\")\n",
    "#     print(f\"Train mIoU: {train_mIoU}\" )\n",
    "#     print(\"___________________________________________________________________________________________\\n\")\n",
    "\n",
    "\n",
    "#     ################################################################\n",
    "#     # 클래스별 IoU를 누적할 리스트 초기화\n",
    "#     val_class_ious = []\n",
    "#     fish_val_class_ious = []\n",
    "#     val_epoch_loss = 0\n",
    "#     val_seg_loss = 0\n",
    "#     val_dom_loss = 0\n",
    "#     # 학습\n",
    "#     with torch.no_grad():\n",
    "#         model.eval()\n",
    "\n",
    "#         for target_images, target_masks in tqdm(val_target_dataloader):\n",
    "#             label = 2.5\n",
    "#             target_images, target_masks = apply_fisheye_distortion(target_images, target_masks, label)\n",
    "#             target_images = target_images.float().to(device)\n",
    "#             target_masks = target_masks.long().to(device)\n",
    "\n",
    "#             target_outputs = model(target_images)\n",
    "\n",
    "#             target_loss, val_segment_loss, val_domain_loss = loss_fn(target_outputs, target_masks, 0, alpha = ALPHA)\n",
    "\n",
    "#             loss = target_loss\n",
    "\n",
    "#             val_epoch_loss += loss.item()\n",
    "#             val_seg_loss += val_segment_loss.item()\n",
    "#             val_dom_loss += val_domain_loss.item()\n",
    "\n",
    "#             # train 클래스별 IoU 계산\n",
    "#             target_outputs = torch.softmax(target_outputs[0], dim=1).cpu()\n",
    "#             target_outputs = torch.argmax(target_outputs, dim=1).numpy()\n",
    "\n",
    "#             for class_id in range(N_CLASSES):\n",
    "#                 iou = calculate_iou_per_class(np.array(target_masks.cpu()), np.array(target_outputs), class_id)\n",
    "#                 fish_val_class_ious.append(iou)\n",
    "\n",
    "#     fish_val_class_ious = np.array(fish_val_class_ious).reshape(N_CLASSES, -1)\n",
    "#     fish_val_class_ious = np.mean(fish_val_class_ious, axis=1)\n",
    "#     print()\n",
    "#     print(\"--IoU Scores Fish val--\")\n",
    "#     for class_id, iou in enumerate(fish_val_class_ious):\n",
    "#         print(f'Class{class_id}: {iou:.4f}', end=\" \")\n",
    "#         if (class_id+1) % 7 == 0:\n",
    "#             print()\n",
    "\n",
    "#     # mIoU 계산\n",
    "#     fish_val_mIoU = np.mean(fish_val_class_ious)\n",
    "\n",
    "#     # 에폭마다 결과 출력 \n",
    "#     print(f\"\\nEpoch{epoch+1}\")\n",
    "#     print(f\"Valid seg Loss: {(val_seg_loss/len(val_target_dataloader))}\")\n",
    "#     print(f\"Valid dom Loss: {(val_dom_loss/len(val_target_dataloader))}\")\n",
    "#     print(f\"Valid Loss: {(val_epoch_loss/len(val_target_dataloader))}\")\n",
    "#     print(f\"Valid mIoU: {fish_val_mIoU}\" )\n",
    "#     print(\"___________________________________________________________________________________________\\n\")\n",
    "\n",
    "# #     # log metrics to wandb\n",
    "# #     wandb.log({\"train score\": train_mIoU})\n",
    "# #     wandb.log({\"val score\": fish_val_mIoU})\n",
    "# #     wandb.log({\"train loss\": (epoch_loss/len(source_dataloader))})\n",
    "# #     wandb.log({\"val loss\": (val_epoch_loss/len(val_target_dataloader))})\n",
    "    \n",
    "    \n",
    "# # # [optional] finish the wandb run, necessary in notebooks\n",
    "# # wandb.finish()\n"
   ]
  },
  {
   "cell_type": "code",
   "execution_count": 17,
   "metadata": {},
   "outputs": [
    {
     "name": "stderr",
     "output_type": "stream",
     "text": [
      "Failed to detect the name of this notebook, you can set it manually with the WANDB_NOTEBOOK_NAME environment variable to enable code saving.\n",
      "\u001b[34m\u001b[1mwandb\u001b[0m: Currently logged in as: \u001b[33mpook0612\u001b[0m (\u001b[33mlimbw\u001b[0m). Use \u001b[1m`wandb login --relogin`\u001b[0m to force relogin\n"
     ]
    },
    {
     "data": {
      "text/html": [
       "wandb version 0.15.12 is available!  To upgrade, please run:\n",
       " $ pip install wandb --upgrade"
      ],
      "text/plain": [
       "<IPython.core.display.HTML object>"
      ]
     },
     "metadata": {},
     "output_type": "display_data"
    },
    {
     "data": {
      "text/html": [
       "Tracking run with wandb version 0.15.10"
      ],
      "text/plain": [
       "<IPython.core.display.HTML object>"
      ]
     },
     "metadata": {},
     "output_type": "display_data"
    },
    {
     "data": {
      "text/html": [
       "Run data is saved locally in <code>/home/MMI24limbyungwan/Design_Project/Design_project/wandb/run-20231107_180920-eb1x28bl</code>"
      ],
      "text/plain": [
       "<IPython.core.display.HTML object>"
      ]
     },
     "metadata": {},
     "output_type": "display_data"
    },
    {
     "data": {
      "text/html": [
       "Syncing run <strong><a href='https://wandb.ai/limbw/practice_11_07_4d_res34/runs/eb1x28bl' target=\"_blank\">autumn-voice-5</a></strong> to <a href='https://wandb.ai/limbw/practice_11_07_4d_res34' target=\"_blank\">Weights & Biases</a> (<a href='https://wandb.me/run' target=\"_blank\">docs</a>)<br/>"
      ],
      "text/plain": [
       "<IPython.core.display.HTML object>"
      ]
     },
     "metadata": {},
     "output_type": "display_data"
    },
    {
     "data": {
      "text/html": [
       " View project at <a href='https://wandb.ai/limbw/practice_11_07_4d_res34' target=\"_blank\">https://wandb.ai/limbw/practice_11_07_4d_res34</a>"
      ],
      "text/plain": [
       "<IPython.core.display.HTML object>"
      ]
     },
     "metadata": {},
     "output_type": "display_data"
    },
    {
     "data": {
      "text/html": [
       " View run at <a href='https://wandb.ai/limbw/practice_11_07_4d_res34/runs/eb1x28bl' target=\"_blank\">https://wandb.ai/limbw/practice_11_07_4d_res34/runs/eb1x28bl</a>"
      ],
      "text/plain": [
       "<IPython.core.display.HTML object>"
      ]
     },
     "metadata": {},
     "output_type": "display_data"
    },
    {
     "name": "stderr",
     "output_type": "stream",
     "text": [
      "Epoch: 1: 100%|██████████| 138/138 [04:57<00:00,  2.15s/it]\n"
     ]
    },
    {
     "name": "stdout",
     "output_type": "stream",
     "text": [
      "\n",
      "Label_0: IoU Scores Train\n",
      "Class00: 0.1608 Class01: 0.2985 Class02: 0.3070 Class03: 0.3053 Class04: 0.3375 Class05: 0.3292 Class06: 0.3617 \n",
      "Class07: 0.3457 Class08: 0.3581 Class09: 0.4044 Class10: 0.3910 Class11: 0.3912 Class12: 0.3817 \n",
      "Label_1: IoU Scores Train\n",
      "Class00: 0.1230 Class01: 0.1835 Class02: 0.1838 Class03: 0.1864 Class04: 0.1969 Class05: 0.1945 Class06: 0.2101 \n",
      "Class07: 0.2043 Class08: 0.2126 Class09: 0.2337 Class10: 0.2298 Class11: 0.2291 Class12: 0.2238 \n",
      "Label_2: IoU Scores Train\n",
      "Class00: 0.1138 Class01: 0.1598 Class02: 0.1608 Class03: 0.1615 Class04: 0.1704 Class05: 0.1685 Class06: 0.1812 \n",
      "Class07: 0.1758 Class08: 0.1835 Class09: 0.1997 Class10: 0.1955 Class11: 0.1965 Class12: 0.1941 \n",
      "Label_3: IoU Scores Train\n",
      "Class00: 0.1106 Class01: 0.1476 Class02: 0.1485 Class03: 0.1478 Class04: 0.1559 Class05: 0.1543 Class06: 0.1651 \n",
      "Class07: 0.1602 Class08: 0.1676 Class09: 0.1813 Class10: 0.1772 Class11: 0.1780 Class12: 0.1784 \n",
      "Train seg Loss: 0.43483405787011853 Train dom Loss: 1.6516213411354836\n",
      "Train Loss: 0.43499921985726425\n",
      "Train mIoU: 0.2176380815934354\n"
     ]
    },
    {
     "name": "stderr",
     "output_type": "stream",
     "text": [
      "100%|██████████| 30/30 [00:10<00:00,  2.95it/s]\n"
     ]
    },
    {
     "name": "stdout",
     "output_type": "stream",
     "text": [
      "\n",
      "--IoU Scores Fish val--\n",
      "Class0: 0.2954 Class1: 0.2193 Class2: 0.2499 Class3: 0.3019 Class4: 0.2395 Class5: 0.2582 Class6: 0.3061 \n",
      "Class7: 0.2467 Class8: 0.2575 Class9: 0.2621 Class10: 0.2601 Class11: 0.2346 Class12: 0.2785 \n",
      "Epoch1\n",
      "Valid Seg Loss: 0.5450186133384705 Valid dom Loss: 58.831142807006835\n",
      "Valid Loss: 0.5509017268816631\n",
      "Valid mIoU: 0.26228215352756384\n",
      "___________________________________________________________________________________________\n",
      "\n"
     ]
    },
    {
     "name": "stderr",
     "output_type": "stream",
     "text": [
      "Epoch: 2: 100%|██████████| 138/138 [04:58<00:00,  2.17s/it]\n"
     ]
    },
    {
     "name": "stdout",
     "output_type": "stream",
     "text": [
      "\n",
      "Label_0: IoU Scores Train\n",
      "Class00: 0.3911 Class01: 0.4217 Class02: 0.4294 Class03: 0.4362 Class04: 0.3823 Class05: 0.3824 Class06: 0.4006 \n",
      "Class07: 0.4073 Class08: 0.4337 Class09: 0.4295 Class10: 0.4388 Class11: 0.4587 Class12: 0.4306 \n",
      "Label_1: IoU Scores Train\n",
      "Class00: 0.2276 Class01: 0.2437 Class02: 0.2500 Class03: 0.2542 Class04: 0.2318 Class05: 0.2297 Class06: 0.2364 \n",
      "Class07: 0.2346 Class08: 0.2477 Class09: 0.2482 Class10: 0.2472 Class11: 0.2579 Class12: 0.2457 \n",
      "Label_2: IoU Scores Train\n",
      "Class00: 0.1951 Class01: 0.2058 Class02: 0.2107 Class03: 0.2151 Class04: 0.2005 Class05: 0.1957 Class06: 0.2014 \n",
      "Class07: 0.1982 Class08: 0.2084 Class09: 0.2107 Class10: 0.2087 Class11: 0.2147 Class12: 0.2072 \n",
      "Label_3: IoU Scores Train\n",
      "Class00: 0.1776 Class01: 0.1856 Class02: 0.1897 Class03: 0.1937 Class04: 0.1782 Class05: 0.1780 Class06: 0.1826 \n",
      "Class07: 0.1791 Class08: 0.1879 Class09: 0.1908 Class10: 0.1885 Class11: 0.1921 Class12: 0.1862 \n",
      "Train seg Loss: 0.32862486177380534 Train dom Loss: 6.124796541887385e-05\n",
      "Train Loss: 0.32862486787464307\n",
      "Train mIoU: 0.2630550649706999\n"
     ]
    },
    {
     "name": "stderr",
     "output_type": "stream",
     "text": [
      "100%|██████████| 30/30 [00:09<00:00,  3.00it/s]\n"
     ]
    },
    {
     "name": "stdout",
     "output_type": "stream",
     "text": [
      "\n",
      "--IoU Scores Fish val--\n",
      "Class0: 0.2988 Class1: 0.2214 Class2: 0.2452 Class3: 0.3216 Class4: 0.2337 Class5: 0.2536 Class6: 0.3062 \n",
      "Class7: 0.2377 Class8: 0.2439 Class9: 0.2902 Class10: 0.2656 Class11: 0.2497 Class12: 0.2712 \n",
      "Epoch2\n",
      "Valid Seg Loss: 0.6860184093316396 Valid dom Loss: 41.253702036539714\n",
      "Valid Loss: 0.6901437779267628\n",
      "Valid mIoU: 0.26453773203572606\n",
      "___________________________________________________________________________________________\n",
      "\n"
     ]
    },
    {
     "name": "stderr",
     "output_type": "stream",
     "text": [
      "Epoch: 3: 100%|██████████| 138/138 [04:59<00:00,  2.17s/it]\n"
     ]
    },
    {
     "name": "stdout",
     "output_type": "stream",
     "text": [
      "\n",
      "Label_0: IoU Scores Train\n",
      "Class00: 0.4432 Class01: 0.4546 Class02: 0.4569 Class03: 0.4650 Class04: 0.4728 Class05: 0.4609 Class06: 0.4741 \n",
      "Class07: 0.4602 Class08: 0.4559 Class09: 0.4764 Class10: 0.4852 Class11: 0.4801 Class12: 0.4812 \n",
      "Label_1: IoU Scores Train\n",
      "Class00: 0.2466 Class01: 0.2588 Class02: 0.2528 Class03: 0.2599 Class04: 0.2624 Class05: 0.2580 Class06: 0.2623 \n",
      "Class07: 0.2598 Class08: 0.2611 Class09: 0.2659 Class10: 0.2711 Class11: 0.2685 Class12: 0.2662 \n",
      "Label_2: IoU Scores Train\n",
      "Class00: 0.2082 Class01: 0.2180 Class02: 0.2120 Class03: 0.2176 Class04: 0.2190 Class05: 0.2175 Class06: 0.2202 \n",
      "Class07: 0.2160 Class08: 0.2204 Class09: 0.2240 Class10: 0.2265 Class11: 0.2257 Class12: 0.2201 \n",
      "Label_3: IoU Scores Train\n",
      "Class00: 0.1883 Class01: 0.1968 Class02: 0.1907 Class03: 0.1951 Class04: 0.1966 Class05: 0.1964 Class06: 0.1976 \n",
      "Class07: 0.1934 Class08: 0.1985 Class09: 0.2005 Class10: 0.2026 Class11: 0.2027 Class12: 0.1964 \n",
      "Train seg Loss: 0.27442424682279426 Train dom Loss: 2.628776809393471e-06\n",
      "Train Loss: 0.27442424711973773\n",
      "Train mIoU: 0.2857800477530461\n"
     ]
    },
    {
     "name": "stderr",
     "output_type": "stream",
     "text": [
      "100%|██████████| 30/30 [00:09<00:00,  3.08it/s]\n"
     ]
    },
    {
     "name": "stdout",
     "output_type": "stream",
     "text": [
      "\n",
      "--IoU Scores Fish val--\n",
      "Class0: 0.4106 Class1: 0.3316 Class2: 0.3917 Class3: 0.4165 Class4: 0.3397 Class5: 0.3775 Class6: 0.4205 \n",
      "Class7: 0.3366 Class8: 0.3718 Class9: 0.3813 Class10: 0.3499 Class11: 0.3510 Class12: 0.3880 \n",
      "Epoch3\n",
      "Valid Seg Loss: 0.30122143725554146 Valid dom Loss: 51.821993891398115\n",
      "Valid Loss: 0.30640363494555156\n",
      "Valid mIoU: 0.3743676028630315\n",
      "___________________________________________________________________________________________\n",
      "\n"
     ]
    },
    {
     "name": "stderr",
     "output_type": "stream",
     "text": [
      "Epoch: 4: 100%|██████████| 138/138 [04:59<00:00,  2.17s/it]\n"
     ]
    },
    {
     "name": "stdout",
     "output_type": "stream",
     "text": [
      "\n",
      "Label_0: IoU Scores Train\n",
      "Class00: 0.4709 Class01: 0.4990 Class02: 0.4849 Class03: 0.4939 Class04: 0.5018 Class05: 0.4937 Class06: 0.4903 \n",
      "Class07: 0.4766 Class08: 0.4842 Class09: 0.5014 Class10: 0.4889 Class11: 0.4942 Class12: 0.4744 \n",
      "Label_1: IoU Scores Train\n",
      "Class00: 0.2645 Class01: 0.2751 Class02: 0.2715 Class03: 0.2701 Class04: 0.2741 Class05: 0.2710 Class06: 0.2695 \n",
      "Class07: 0.2626 Class08: 0.2647 Class09: 0.2743 Class10: 0.2736 Class11: 0.2780 Class12: 0.2678 \n",
      "Label_2: IoU Scores Train\n",
      "Class00: 0.2213 Class01: 0.2288 Class02: 0.2259 Class03: 0.2232 Class04: 0.2271 Class05: 0.2255 Class06: 0.2259 \n",
      "Class07: 0.2179 Class08: 0.2206 Class09: 0.2292 Class10: 0.2286 Class11: 0.2333 Class12: 0.2242 \n",
      "Label_3: IoU Scores Train\n",
      "Class00: 0.1984 Class01: 0.2042 Class02: 0.2021 Class03: 0.2000 Class04: 0.2025 Class05: 0.2022 Class06: 0.2035 \n",
      "Class07: 0.1953 Class08: 0.1970 Class09: 0.2053 Class10: 0.2051 Class11: 0.2087 Class12: 0.2013 \n",
      "Train seg Loss: 0.24760896097058835 Train dom Loss: 6.448458999704683\n",
      "Train Loss: 0.2482538068856018\n",
      "Train mIoU: 0.2966911007390432\n"
     ]
    },
    {
     "name": "stderr",
     "output_type": "stream",
     "text": [
      "100%|██████████| 30/30 [00:09<00:00,  3.07it/s]\n"
     ]
    },
    {
     "name": "stdout",
     "output_type": "stream",
     "text": [
      "\n",
      "--IoU Scores Fish val--\n",
      "Class0: 0.3867 Class1: 0.3181 Class2: 0.3750 Class3: 0.3891 Class4: 0.3295 Class5: 0.3714 Class6: 0.4089 \n",
      "Class7: 0.3244 Class8: 0.3592 Class9: 0.3741 Class10: 0.3380 Class11: 0.3474 Class12: 0.3818 \n",
      "Epoch4\n",
      "Valid Seg Loss: 0.3187000071009 Valid dom Loss: 100.07301279703776\n",
      "Valid Loss: 0.3287073055903117\n",
      "Valid mIoU: 0.3618128935804433\n",
      "___________________________________________________________________________________________\n",
      "\n"
     ]
    },
    {
     "name": "stderr",
     "output_type": "stream",
     "text": [
      "Epoch: 5: 100%|██████████| 138/138 [04:59<00:00,  2.17s/it]\n"
     ]
    },
    {
     "name": "stdout",
     "output_type": "stream",
     "text": [
      "\n",
      "Label_0: IoU Scores Train\n",
      "Class00: 0.4869 Class01: 0.5068 Class02: 0.4969 Class03: 0.5109 Class04: 0.5119 Class05: 0.5136 Class06: 0.5206 \n",
      "Class07: 0.5074 Class08: 0.5100 Class09: 0.5207 Class10: 0.5158 Class11: 0.5163 Class12: 0.5007 \n",
      "Label_1: IoU Scores Train\n",
      "Class00: 0.2684 Class01: 0.2831 Class02: 0.2704 Class03: 0.2790 Class04: 0.2784 Class05: 0.2832 Class06: 0.2833 \n",
      "Class07: 0.2706 Class08: 0.2767 Class09: 0.2838 Class10: 0.2828 Class11: 0.2778 Class12: 0.2728 \n",
      "Label_2: IoU Scores Train\n",
      "Class00: 0.2245 Class01: 0.2360 Class02: 0.2230 Class03: 0.2315 Class04: 0.2321 Class05: 0.2354 Class06: 0.2357 \n",
      "Class07: 0.2240 Class08: 0.2316 Class09: 0.2370 Class10: 0.2338 Class11: 0.2309 Class12: 0.2271 \n",
      "Label_3: IoU Scores Train\n",
      "Class00: 0.2018 Class01: 0.2112 Class02: 0.1988 Class03: 0.2064 Class04: 0.2074 Class05: 0.2101 Class06: 0.2098 \n",
      "Class07: 0.2005 Class08: 0.2062 Class09: 0.2117 Class10: 0.2092 Class11: 0.2067 Class12: 0.2027 \n",
      "Train seg Loss: 0.22611227852926738 Train dom Loss: 3.231748743690958e-05\n",
      "Train Loss: 0.22611228176865025\n",
      "Train mIoU: 0.30603312091889934\n"
     ]
    },
    {
     "name": "stderr",
     "output_type": "stream",
     "text": [
      "100%|██████████| 30/30 [00:10<00:00,  2.99it/s]\n"
     ]
    },
    {
     "name": "stdout",
     "output_type": "stream",
     "text": [
      "\n",
      "--IoU Scores Fish val--\n",
      "Class0: 0.4220 Class1: 0.3260 Class2: 0.3765 Class3: 0.4187 Class4: 0.3496 Class5: 0.3579 Class6: 0.4170 \n",
      "Class7: 0.3394 Class8: 0.3658 Class9: 0.3719 Class10: 0.3621 Class11: 0.3406 Class12: 0.3935 \n",
      "Epoch5\n",
      "Valid Seg Loss: 0.3038282374540965 Valid dom Loss: 184.19082743326823\n",
      "Valid Loss: 0.3222473179300626\n",
      "Valid mIoU: 0.3723827719278155\n",
      "___________________________________________________________________________________________\n",
      "\n"
     ]
    },
    {
     "name": "stderr",
     "output_type": "stream",
     "text": [
      "Epoch: 6: 100%|██████████| 138/138 [04:58<00:00,  2.16s/it]\n"
     ]
    },
    {
     "name": "stdout",
     "output_type": "stream",
     "text": [
      "\n",
      "Label_0: IoU Scores Train\n",
      "Class00: 0.5087 Class01: 0.5404 Class02: 0.5538 Class03: 0.5320 Class04: 0.5332 Class05: 0.5313 Class06: 0.5346 \n",
      "Class07: 0.5347 Class08: 0.5406 Class09: 0.5422 Class10: 0.5260 Class11: 0.5298 Class12: 0.5275 \n",
      "Label_1: IoU Scores Train\n",
      "Class00: 0.2835 Class01: 0.2868 Class02: 0.2885 Class03: 0.2895 Class04: 0.2864 Class05: 0.2883 Class06: 0.2864 \n",
      "Class07: 0.2817 Class08: 0.2877 Class09: 0.2856 Class10: 0.2830 Class11: 0.2881 Class12: 0.2840 \n",
      "Label_2: IoU Scores Train\n",
      "Class00: 0.2381 Class01: 0.2374 Class02: 0.2387 Class03: 0.2404 Class04: 0.2378 Class05: 0.2399 Class06: 0.2381 \n",
      "Class07: 0.2335 Class08: 0.2383 Class09: 0.2371 Class10: 0.2351 Class11: 0.2403 Class12: 0.2365 \n",
      "Label_3: IoU Scores Train\n",
      "Class00: 0.2133 Class01: 0.2117 Class02: 0.2124 Class03: 0.2146 Class04: 0.2120 Class05: 0.2142 Class06: 0.2126 \n",
      "Class07: 0.2077 Class08: 0.2122 Class09: 0.2115 Class10: 0.2103 Class11: 0.2156 Class12: 0.2120 \n",
      "Train seg Loss: 0.21164101013994735 Train dom Loss: 1.9869501096041528e-05\n",
      "Train Loss: 0.21164101211057193\n",
      "Train mIoU: 0.31741414740298945\n"
     ]
    },
    {
     "name": "stderr",
     "output_type": "stream",
     "text": [
      "100%|██████████| 30/30 [00:09<00:00,  3.03it/s]\n"
     ]
    },
    {
     "name": "stdout",
     "output_type": "stream",
     "text": [
      "\n",
      "--IoU Scores Fish val--\n",
      "Class0: 0.4396 Class1: 0.3580 Class2: 0.4249 Class3: 0.4487 Class4: 0.3612 Class5: 0.3969 Class6: 0.4444 \n",
      "Class7: 0.3653 Class8: 0.4069 Class9: 0.4122 Class10: 0.3835 Class11: 0.3767 Class12: 0.4120 \n",
      "Epoch6\n",
      "Valid Seg Loss: 0.2617020030816396 Valid dom Loss: 145.405864461263\n",
      "Valid Loss: 0.27624258945385616\n",
      "Valid mIoU: 0.4023325554104315\n",
      "___________________________________________________________________________________________\n",
      "\n"
     ]
    },
    {
     "name": "stderr",
     "output_type": "stream",
     "text": [
      "Epoch: 7: 100%|██████████| 138/138 [04:59<00:00,  2.17s/it]\n"
     ]
    },
    {
     "name": "stdout",
     "output_type": "stream",
     "text": [
      "\n",
      "Label_0: IoU Scores Train\n",
      "Class00: 0.5355 Class01: 0.5436 Class02: 0.5575 Class03: 0.5419 Class04: 0.5668 Class05: 0.5511 Class06: 0.5504 \n",
      "Class07: 0.5483 Class08: 0.5585 Class09: 0.5382 Class10: 0.5590 Class11: 0.5528 Class12: 0.5533 \n",
      "Label_1: IoU Scores Train\n",
      "Class00: 0.2878 Class01: 0.2887 Class02: 0.2932 Class03: 0.2896 Class04: 0.2923 Class05: 0.2955 Class06: 0.2933 \n",
      "Class07: 0.2855 Class08: 0.2977 Class09: 0.2964 Class10: 0.2936 Class11: 0.2912 Class12: 0.2907 \n",
      "Label_2: IoU Scores Train\n",
      "Class00: 0.2402 Class01: 0.2388 Class02: 0.2433 Class03: 0.2418 Class04: 0.2427 Class05: 0.2463 Class06: 0.2434 \n",
      "Class07: 0.2363 Class08: 0.2472 Class09: 0.2476 Class10: 0.2429 Class11: 0.2434 Class12: 0.2412 \n",
      "Label_3: IoU Scores Train\n",
      "Class00: 0.2149 Class01: 0.2127 Class02: 0.2170 Class03: 0.2169 Class04: 0.2168 Class05: 0.2202 Class06: 0.2163 \n",
      "Class07: 0.2108 Class08: 0.2201 Class09: 0.2213 Class10: 0.2161 Class11: 0.2179 Class12: 0.2148 \n",
      "Train seg Loss: 0.20184201782272346 Train dom Loss: 0.002529639657637418\n",
      "Train Loss: 0.2018422707915306\n",
      "Train mIoU: 0.32544136303164795\n"
     ]
    },
    {
     "name": "stderr",
     "output_type": "stream",
     "text": [
      "100%|██████████| 30/30 [00:09<00:00,  3.04it/s]\n"
     ]
    },
    {
     "name": "stdout",
     "output_type": "stream",
     "text": [
      "\n",
      "--IoU Scores Fish val--\n",
      "Class0: 0.4192 Class1: 0.3166 Class2: 0.3849 Class3: 0.4203 Class4: 0.3518 Class5: 0.3735 Class6: 0.4257 \n",
      "Class7: 0.3342 Class8: 0.3812 Class9: 0.3785 Class10: 0.3538 Class11: 0.3713 Class12: 0.3810 \n",
      "Epoch7\n",
      "Valid Seg Loss: 0.3805860638618469 Valid dom Loss: 133.80494333902996\n",
      "Valid Loss: 0.39396655758221943\n",
      "Valid mIoU: 0.3763052776873654\n",
      "___________________________________________________________________________________________\n",
      "\n"
     ]
    },
    {
     "name": "stderr",
     "output_type": "stream",
     "text": [
      "Epoch: 8: 100%|██████████| 138/138 [04:59<00:00,  2.17s/it]\n"
     ]
    },
    {
     "name": "stdout",
     "output_type": "stream",
     "text": [
      "\n",
      "Label_0: IoU Scores Train\n",
      "Class00: 0.5738 Class01: 0.5811 Class02: 0.5905 Class03: 0.5703 Class04: 0.5664 Class05: 0.5834 Class06: 0.5789 \n",
      "Class07: 0.5694 Class08: 0.5688 Class09: 0.5813 Class10: 0.5658 Class11: 0.5798 Class12: 0.5306 \n",
      "Label_1: IoU Scores Train\n",
      "Class00: 0.3016 Class01: 0.2992 Class02: 0.3058 Class03: 0.2978 Class04: 0.2959 Class05: 0.3028 Class06: 0.3034 \n",
      "Class07: 0.2959 Class08: 0.2967 Class09: 0.2993 Class10: 0.2994 Class11: 0.3068 Class12: 0.2855 \n",
      "Label_2: IoU Scores Train\n",
      "Class00: 0.2520 Class01: 0.2486 Class02: 0.2532 Class03: 0.2488 Class04: 0.2463 Class05: 0.2516 Class06: 0.2532 \n",
      "Class07: 0.2445 Class08: 0.2475 Class09: 0.2484 Class10: 0.2490 Class11: 0.2556 Class12: 0.2395 \n",
      "Label_3: IoU Scores Train\n",
      "Class00: 0.2260 Class01: 0.2224 Class02: 0.2254 Class03: 0.2226 Class04: 0.2207 Class05: 0.2257 Class06: 0.2262 \n",
      "Class07: 0.2181 Class08: 0.2215 Class09: 0.2213 Class10: 0.2227 Class11: 0.2284 Class12: 0.2142 \n",
      "Train seg Loss: 0.19027592441526012 Train dom Loss: 0.0019637320827279796\n",
      "Train Loss: 0.19027612077585165\n",
      "Train mIoU: 0.3358380724469509\n"
     ]
    },
    {
     "name": "stderr",
     "output_type": "stream",
     "text": [
      "100%|██████████| 30/30 [00:09<00:00,  3.05it/s]\n"
     ]
    },
    {
     "name": "stdout",
     "output_type": "stream",
     "text": [
      "\n",
      "--IoU Scores Fish val--\n",
      "Class0: 0.4237 Class1: 0.3311 Class2: 0.4048 Class3: 0.4214 Class4: 0.3522 Class5: 0.3814 Class6: 0.4229 \n",
      "Class7: 0.3417 Class8: 0.3834 Class9: 0.3845 Class10: 0.3687 Class11: 0.3720 Class12: 0.4041 \n",
      "Epoch8\n",
      "Valid Seg Loss: 0.3003982295592626 Valid dom Loss: 12.627087202171484\n",
      "Valid Loss: 0.3016609380642573\n",
      "Valid mIoU: 0.383984034835582\n",
      "___________________________________________________________________________________________\n",
      "\n"
     ]
    },
    {
     "name": "stderr",
     "output_type": "stream",
     "text": [
      "Epoch: 9: 100%|██████████| 138/138 [04:58<00:00,  2.17s/it]\n"
     ]
    },
    {
     "name": "stdout",
     "output_type": "stream",
     "text": [
      "\n",
      "Label_0: IoU Scores Train\n",
      "Class00: 0.5258 Class01: 0.6059 Class02: 0.5940 Class03: 0.5832 Class04: 0.5889 Class05: 0.5686 Class06: 0.6002 \n",
      "Class07: 0.6038 Class08: 0.6118 Class09: 0.5902 Class10: 0.5899 Class11: 0.5637 Class12: 0.5576 \n",
      "Label_1: IoU Scores Train\n",
      "Class00: 0.2833 Class01: 0.3088 Class02: 0.3040 Class03: 0.3039 Class04: 0.2982 Class05: 0.3002 Class06: 0.3079 \n",
      "Class07: 0.3105 Class08: 0.3104 Class09: 0.3107 Class10: 0.3102 Class11: 0.2974 Class12: 0.3004 \n",
      "Label_2: IoU Scores Train\n",
      "Class00: 0.2376 Class01: 0.2559 Class02: 0.2514 Class03: 0.2519 Class04: 0.2472 Class05: 0.2508 Class06: 0.2576 \n",
      "Class07: 0.2574 Class08: 0.2582 Class09: 0.2578 Class10: 0.2573 Class11: 0.2479 Class12: 0.2525 \n",
      "Label_3: IoU Scores Train\n",
      "Class00: 0.2136 Class01: 0.2289 Class02: 0.2243 Class03: 0.2242 Class04: 0.2209 Class05: 0.2243 Class06: 0.2314 \n",
      "Class07: 0.2300 Class08: 0.2305 Class09: 0.2305 Class10: 0.2306 Class11: 0.2219 Class12: 0.2273 \n",
      "Train seg Loss: 0.18198953979257224 Train dom Loss: 0.0\n",
      "Train Loss: 0.18198953979257224\n",
      "Train mIoU: 0.34136759188336363\n"
     ]
    },
    {
     "name": "stderr",
     "output_type": "stream",
     "text": [
      "100%|██████████| 30/30 [00:09<00:00,  3.07it/s]\n"
     ]
    },
    {
     "name": "stdout",
     "output_type": "stream",
     "text": [
      "\n",
      "--IoU Scores Fish val--\n",
      "Class0: 0.4453 Class1: 0.3566 Class2: 0.4028 Class3: 0.4443 Class4: 0.3611 Class5: 0.3962 Class6: 0.4329 \n",
      "Class7: 0.3670 Class8: 0.3920 Class9: 0.4121 Class10: 0.3896 Class11: 0.3688 Class12: 0.3792 \n",
      "Epoch9\n",
      "Valid Seg Loss: 0.27754494299491245 Valid dom Loss: 112.65562082926432\n",
      "Valid Loss: 0.2888105054696401\n",
      "Valid mIoU: 0.39599251476784675\n",
      "___________________________________________________________________________________________\n",
      "\n"
     ]
    },
    {
     "name": "stderr",
     "output_type": "stream",
     "text": [
      "Epoch: 10: 100%|██████████| 138/138 [04:58<00:00,  2.16s/it]\n"
     ]
    },
    {
     "name": "stdout",
     "output_type": "stream",
     "text": [
      "\n",
      "Label_0: IoU Scores Train\n",
      "Class00: 0.5805 Class01: 0.6011 Class02: 0.5987 Class03: 0.6134 Class04: 0.6139 Class05: 0.6038 Class06: 0.6062 \n",
      "Class07: 0.6022 Class08: 0.6025 Class09: 0.6089 Class10: 0.6082 Class11: 0.6216 Class12: 0.5886 \n",
      "Label_1: IoU Scores Train\n",
      "Class00: 0.3055 Class01: 0.3150 Class02: 0.3134 Class03: 0.3106 Class04: 0.3120 Class05: 0.3134 Class06: 0.3116 \n",
      "Class07: 0.3097 Class08: 0.3170 Class09: 0.3115 Class10: 0.3116 Class11: 0.3231 Class12: 0.3022 \n",
      "Label_2: IoU Scores Train\n",
      "Class00: 0.2539 Class01: 0.2624 Class02: 0.2604 Class03: 0.2567 Class04: 0.2597 Class05: 0.2596 Class06: 0.2584 \n",
      "Class07: 0.2562 Class08: 0.2649 Class09: 0.2602 Class10: 0.2576 Class11: 0.2674 Class12: 0.2528 \n",
      "Label_3: IoU Scores Train\n",
      "Class00: 0.2279 Class01: 0.2352 Class02: 0.2329 Class03: 0.2291 Class04: 0.2335 Class05: 0.2326 Class06: 0.2308 \n",
      "Class07: 0.2296 Class08: 0.2375 Class09: 0.2340 Class10: 0.2300 Class11: 0.2393 Class12: 0.2273 \n",
      "Train seg Loss: 0.1700043761157903 Train dom Loss: 1.949824618877492e-06\n",
      "Train Loss: 0.17000437630475432\n",
      "Train mIoU: 0.35184819365093023\n"
     ]
    },
    {
     "name": "stderr",
     "output_type": "stream",
     "text": [
      "100%|██████████| 30/30 [00:09<00:00,  3.09it/s]\n"
     ]
    },
    {
     "name": "stdout",
     "output_type": "stream",
     "text": [
      "\n",
      "--IoU Scores Fish val--\n",
      "Class0: 0.4407 Class1: 0.3392 Class2: 0.4071 Class3: 0.4388 Class4: 0.3592 Class5: 0.3917 Class6: 0.4332 \n",
      "Class7: 0.3607 Class8: 0.3910 Class9: 0.3978 Class10: 0.3821 Class11: 0.3825 Class12: 0.3994 \n",
      "Epoch10\n",
      "Valid Seg Loss: 0.33596607595682143 Valid dom Loss: 93.82105967203776\n",
      "Valid Loss: 0.3453481838107109\n",
      "Valid mIoU: 0.3941122541683437\n",
      "___________________________________________________________________________________________\n",
      "\n"
     ]
    },
    {
     "name": "stderr",
     "output_type": "stream",
     "text": [
      "Epoch: 11: 100%|██████████| 138/138 [04:59<00:00,  2.17s/it]\n"
     ]
    },
    {
     "name": "stdout",
     "output_type": "stream",
     "text": [
      "\n",
      "Label_0: IoU Scores Train\n",
      "Class00: 0.6244 Class01: 0.6084 Class02: 0.6099 Class03: 0.6319 Class04: 0.4544 Class05: 0.0268 Class06: 0.0232 \n",
      "Class07: 0.0299 Class08: 0.0289 Class09: 0.0244 Class10: 0.0328 Class11: 0.0418 Class12: 0.0456 \n",
      "Label_1: IoU Scores Train\n",
      "Class00: 0.3149 Class01: 0.3122 Class02: 0.3104 Class03: 0.3234 Class04: 0.2398 Class05: 0.0323 Class06: 0.0269 \n",
      "Class07: 0.0317 Class08: 0.0269 Class09: 0.0212 Class10: 0.0400 Class11: 0.0466 Class12: 0.0493 \n",
      "Label_2: IoU Scores Train\n",
      "Class00: 0.2616 Class01: 0.2589 Class02: 0.2567 Class03: 0.2675 Class04: 0.1942 Class05: 0.0328 Class06: 0.0260 \n",
      "Class07: 0.0302 Class08: 0.0256 Class09: 0.0225 Class10: 0.0403 Class11: 0.0493 Class12: 0.0507 \n",
      "Label_3: IoU Scores Train\n",
      "Class00: 0.2347 Class01: 0.2324 Class02: 0.2293 Class03: 0.2402 Class04: 0.1738 Class05: 0.0315 Class06: 0.0242 \n",
      "Class07: 0.0327 Class08: 0.0282 Class09: 0.0225 Class10: 0.0384 Class11: 0.0494 Class12: 0.0516 \n",
      "Train seg Loss: 3.415777866040235 Train dom Loss: 72659.20042537543\n",
      "Train Loss: 76.0749818911317\n",
      "Train mIoU: 0.15121269995812212\n"
     ]
    },
    {
     "name": "stderr",
     "output_type": "stream",
     "text": [
      "100%|██████████| 30/30 [00:09<00:00,  3.05it/s]\n"
     ]
    },
    {
     "name": "stdout",
     "output_type": "stream",
     "text": [
      "\n",
      "--IoU Scores Fish val--\n",
      "Class0: 0.0997 Class1: 0.0749 Class2: 0.0761 Class3: 0.1037 Class4: 0.0707 Class5: 0.0757 Class6: 0.1031 \n",
      "Class7: 0.0688 Class8: 0.0766 Class9: 0.0947 Class10: 0.0823 Class11: 0.0718 Class12: 0.0753 \n",
      "Epoch11\n",
      "Valid Seg Loss: 3.641445684432983 Valid dom Loss: 6086.0059000651045\n",
      "Valid Loss: 9.727451864878336\n",
      "Valid mIoU: 0.08254743511958058\n",
      "___________________________________________________________________________________________\n",
      "\n"
     ]
    },
    {
     "name": "stderr",
     "output_type": "stream",
     "text": [
      "Epoch: 12: 100%|██████████| 138/138 [04:59<00:00,  2.17s/it]\n"
     ]
    },
    {
     "name": "stdout",
     "output_type": "stream",
     "text": [
      "\n",
      "Label_0: IoU Scores Train\n",
      "Class00: 0.0518 Class01: 0.0826 Class02: 0.0695 Class03: 0.0652 Class04: 0.0838 Class05: 0.0773 Class06: 0.0794 \n",
      "Class07: 0.0728 Class08: 0.0607 Class09: 0.0677 Class10: 0.0774 Class11: 0.0634 Class12: 0.0637 \n",
      "Label_1: IoU Scores Train\n",
      "Class00: 0.0660 Class01: 0.0750 Class02: 0.0660 Class03: 0.0568 Class04: 0.0726 Class05: 0.0802 Class06: 0.0791 \n",
      "Class07: 0.0694 Class08: 0.0547 Class09: 0.0535 Class10: 0.0524 Class11: 0.0620 Class12: 0.0485 \n",
      "Label_2: IoU Scores Train\n",
      "Class00: 0.0628 Class01: 0.0764 Class02: 0.0664 Class03: 0.0654 Class04: 0.0621 Class05: 0.0766 Class06: 0.0731 \n",
      "Class07: 0.0599 Class08: 0.0532 Class09: 0.0503 Class10: 0.0522 Class11: 0.0527 Class12: 0.0465 \n",
      "Label_3: IoU Scores Train\n",
      "Class00: 0.0523 Class01: 0.0705 Class02: 0.0599 Class03: 0.0615 Class04: 0.0545 Class05: 0.0719 Class06: 0.0655 \n",
      "Class07: 0.0584 Class08: 0.0494 Class09: 0.0464 Class10: 0.0472 Class11: 0.0499 Class12: 0.0448 \n",
      "Train seg Loss: 1.6066363746489303 Train dom Loss: 11599.811786319911\n",
      "Train Loss: 13.20644868456799\n",
      "Train mIoU: 0.06310219950330236\n"
     ]
    },
    {
     "name": "stderr",
     "output_type": "stream",
     "text": [
      "100%|██████████| 30/30 [00:09<00:00,  3.02it/s]\n"
     ]
    },
    {
     "name": "stdout",
     "output_type": "stream",
     "text": [
      "\n",
      "--IoU Scores Fish val--\n",
      "Class0: 0.1121 Class1: 0.0821 Class2: 0.0953 Class3: 0.1178 Class4: 0.0810 Class5: 0.0971 Class6: 0.1127 \n",
      "Class7: 0.0834 Class8: 0.0912 Class9: 0.1110 Class10: 0.0862 Class11: 0.0874 Class12: 0.0896 \n",
      "Epoch12\n",
      "Valid Seg Loss: 1.4218239227930705 Valid dom Loss: 8206.427970377605\n",
      "Valid Loss: 9.628252279758453\n",
      "Valid mIoU: 0.09588324397798356\n",
      "___________________________________________________________________________________________\n",
      "\n"
     ]
    },
    {
     "name": "stderr",
     "output_type": "stream",
     "text": [
      "Epoch: 13: 100%|██████████| 138/138 [04:59<00:00,  2.17s/it]\n"
     ]
    },
    {
     "name": "stdout",
     "output_type": "stream",
     "text": [
      "\n",
      "Label_0: IoU Scores Train\n",
      "Class00: 0.0594 Class01: 0.0970 Class02: 0.0955 Class03: 0.0906 Class04: 0.1011 Class05: 0.0899 Class06: 0.0991 \n",
      "Class07: 0.1012 Class08: 0.1032 Class09: 0.0968 Class10: 0.0905 Class11: 0.0933 Class12: 0.0911 \n",
      "Label_1: IoU Scores Train\n",
      "Class00: 0.0594 Class01: 0.0940 Class02: 0.0870 Class03: 0.0881 Class04: 0.0887 Class05: 0.0848 Class06: 0.0922 \n",
      "Class07: 0.0943 Class08: 0.0990 Class09: 0.0937 Class10: 0.0883 Class11: 0.0953 Class12: 0.0970 \n",
      "Label_2: IoU Scores Train\n",
      "Class00: 0.0553 Class01: 0.0896 Class02: 0.0862 Class03: 0.0832 Class04: 0.0780 Class05: 0.0765 Class06: 0.0825 \n",
      "Class07: 0.0853 Class08: 0.0876 Class09: 0.0822 Class10: 0.0816 Class11: 0.0881 Class12: 0.0937 \n",
      "Label_3: IoU Scores Train\n",
      "Class00: 0.0506 Class01: 0.0803 Class02: 0.0760 Class03: 0.0716 Class04: 0.0715 Class05: 0.0703 Class06: 0.0758 \n",
      "Class07: 0.0781 Class08: 0.0794 Class09: 0.0736 Class10: 0.0738 Class11: 0.0840 Class12: 0.0870 \n",
      "Train seg Loss: 1.3178439414587573 Train dom Loss: 6831.243942896525\n",
      "Train Loss: 8.149088211033655\n",
      "Train mIoU: 0.08484443687130407\n"
     ]
    },
    {
     "name": "stderr",
     "output_type": "stream",
     "text": [
      "100%|██████████| 30/30 [00:09<00:00,  3.01it/s]\n"
     ]
    },
    {
     "name": "stdout",
     "output_type": "stream",
     "text": [
      "\n",
      "--IoU Scores Fish val--\n",
      "Class0: 0.1900 Class1: 0.1485 Class2: 0.1668 Class3: 0.1930 Class4: 0.1512 Class5: 0.1784 Class6: 0.1986 \n",
      "Class7: 0.1596 Class8: 0.1736 Class9: 0.1791 Class10: 0.1715 Class11: 0.1536 Class12: 0.1749 \n",
      "Epoch13\n",
      "Valid Seg Loss: 0.8621540904045105 Valid dom Loss: 7612.027262369792\n",
      "Valid Loss: 8.474181763331096\n",
      "Valid mIoU: 0.1722113558042359\n",
      "___________________________________________________________________________________________\n",
      "\n"
     ]
    },
    {
     "name": "stderr",
     "output_type": "stream",
     "text": [
      "Epoch: 14: 100%|██████████| 138/138 [04:59<00:00,  2.17s/it]\n"
     ]
    },
    {
     "name": "stdout",
     "output_type": "stream",
     "text": [
      "\n",
      "Label_0: IoU Scores Train\n",
      "Class00: 0.0908 Class01: 0.0901 Class02: 0.0886 Class03: 0.0773 Class04: 0.0822 Class05: 0.0819 Class06: 0.0968 \n",
      "Class07: 0.0895 Class08: 0.0853 Class09: 0.0952 Class10: 0.1001 Class11: 0.1024 Class12: 0.1010 \n",
      "Label_1: IoU Scores Train\n",
      "Class00: 0.1000 Class01: 0.0958 Class02: 0.0906 Class03: 0.0867 Class04: 0.0877 Class05: 0.0902 Class06: 0.0855 \n",
      "Class07: 0.0679 Class08: 0.0731 Class09: 0.0748 Class10: 0.0731 Class11: 0.0758 Class12: 0.0916 \n",
      "Label_2: IoU Scores Train\n",
      "Class00: 0.0891 Class01: 0.0878 Class02: 0.0840 Class03: 0.0809 Class04: 0.0791 Class05: 0.0785 Class06: 0.0750 \n",
      "Class07: 0.0615 Class08: 0.0666 Class09: 0.0674 Class10: 0.0658 Class11: 0.0700 Class12: 0.0848 \n",
      "Label_3: IoU Scores Train\n",
      "Class00: 0.0820 Class01: 0.0848 Class02: 0.0795 Class03: 0.0768 Class04: 0.0729 Class05: 0.0741 Class06: 0.0708 \n",
      "Class07: 0.0582 Class08: 0.0631 Class09: 0.0627 Class10: 0.0633 Class11: 0.0663 Class12: 0.0787 \n",
      "Train seg Loss: 1.2291533372540404 Train dom Loss: 5596.615990127342\n",
      "Train Loss: 6.82576959202255\n",
      "Train mIoU: 0.08072223322787274\n"
     ]
    },
    {
     "name": "stderr",
     "output_type": "stream",
     "text": [
      "100%|██████████| 30/30 [00:10<00:00,  2.99it/s]\n"
     ]
    },
    {
     "name": "stdout",
     "output_type": "stream",
     "text": [
      "\n",
      "--IoU Scores Fish val--\n",
      "Class0: 0.1888 Class1: 0.1307 Class2: 0.1668 Class3: 0.1843 Class4: 0.1525 Class5: 0.1721 Class6: 0.1808 \n",
      "Class7: 0.1446 Class8: 0.1634 Class9: 0.1678 Class10: 0.1502 Class11: 0.1495 Class12: 0.1649 \n",
      "Epoch14\n",
      "Valid Seg Loss: 0.8627791504065195 Valid dom Loss: 6887.512418619792\n",
      "Valid Loss: 7.750291951497396\n",
      "Valid mIoU: 0.16280483780764404\n",
      "___________________________________________________________________________________________\n",
      "\n"
     ]
    },
    {
     "name": "stderr",
     "output_type": "stream",
     "text": [
      "Epoch: 15: 100%|██████████| 138/138 [04:59<00:00,  2.17s/it]\n"
     ]
    },
    {
     "name": "stdout",
     "output_type": "stream",
     "text": [
      "\n",
      "Label_0: IoU Scores Train\n",
      "Class00: 0.1123 Class01: 0.1245 Class02: 0.1237 Class03: 0.1232 Class04: 0.1237 Class05: 0.1149 Class06: 0.1321 \n",
      "Class07: 0.1291 Class08: 0.1299 Class09: 0.1447 Class10: 0.1309 Class11: 0.1342 Class12: 0.1210 \n",
      "Label_1: IoU Scores Train\n",
      "Class00: 0.1015 Class01: 0.1063 Class02: 0.0990 Class03: 0.0899 Class04: 0.0949 Class05: 0.0923 Class06: 0.1038 \n",
      "Class07: 0.1045 Class08: 0.1077 Class09: 0.1154 Class10: 0.1031 Class11: 0.0971 Class12: 0.0931 \n",
      "Label_2: IoU Scores Train\n",
      "Class00: 0.0913 Class01: 0.0971 Class02: 0.0867 Class03: 0.0822 Class04: 0.0840 Class05: 0.0825 Class06: 0.0915 \n",
      "Class07: 0.0925 Class08: 0.0960 Class09: 0.1001 Class10: 0.0906 Class11: 0.0842 Class12: 0.0834 \n",
      "Label_3: IoU Scores Train\n",
      "Class00: 0.0854 Class01: 0.0891 Class02: 0.0794 Class03: 0.0762 Class04: 0.0776 Class05: 0.0762 Class06: 0.0821 \n",
      "Class07: 0.0846 Class08: 0.0874 Class09: 0.0925 Class10: 0.0814 Class11: 0.0774 Class12: 0.0761 \n",
      "Train seg Loss: 1.1219002534297928 Train dom Loss: 5424.561129998469\n",
      "Train Loss: 6.5464616268873215\n",
      "Train mIoU: 0.09961235377198216\n"
     ]
    },
    {
     "name": "stderr",
     "output_type": "stream",
     "text": [
      "100%|██████████| 30/30 [00:09<00:00,  3.08it/s]\n"
     ]
    },
    {
     "name": "stdout",
     "output_type": "stream",
     "text": [
      "\n",
      "--IoU Scores Fish val--\n",
      "Class0: 0.1917 Class1: 0.1370 Class2: 0.1759 Class3: 0.1843 Class4: 0.1451 Class5: 0.1733 Class6: 0.1865 \n",
      "Class7: 0.1435 Class8: 0.1757 Class9: 0.1796 Class10: 0.1657 Class11: 0.1532 Class12: 0.1571 \n",
      "Epoch15\n",
      "Valid Seg Loss: 0.9292279243469238 Valid dom Loss: 15871.330208333333\n",
      "Valid Loss: 16.800558789571127\n",
      "Valid mIoU: 0.16680719638652605\n",
      "___________________________________________________________________________________________\n",
      "\n"
     ]
    },
    {
     "name": "stderr",
     "output_type": "stream",
     "text": [
      "Epoch: 16: 100%|██████████| 138/138 [04:59<00:00,  2.17s/it]\n"
     ]
    },
    {
     "name": "stdout",
     "output_type": "stream",
     "text": [
      "\n",
      "Label_0: IoU Scores Train\n",
      "Class00: 0.1145 Class01: 0.1280 Class02: 0.1143 Class03: 0.1057 Class04: 0.1185 Class05: 0.1227 Class06: 0.1340 \n",
      "Class07: 0.1218 Class08: 0.1334 Class09: 0.1411 Class10: 0.1391 Class11: 0.1322 Class12: 0.1406 \n",
      "Label_1: IoU Scores Train\n",
      "Class00: 0.0947 Class01: 0.1050 Class02: 0.0989 Class03: 0.0972 Class04: 0.1023 Class05: 0.0940 Class06: 0.1040 \n",
      "Class07: 0.1016 Class08: 0.1135 Class09: 0.1197 Class10: 0.1187 Class11: 0.1160 Class12: 0.1130 \n",
      "Label_2: IoU Scores Train\n",
      "Class00: 0.0821 Class01: 0.0896 Class02: 0.0831 Class03: 0.0826 Class04: 0.0886 Class05: 0.0802 Class06: 0.0909 \n",
      "Class07: 0.0890 Class08: 0.0985 Class09: 0.1021 Class10: 0.1038 Class11: 0.1004 Class12: 0.0984 \n",
      "Label_3: IoU Scores Train\n",
      "Class00: 0.0761 Class01: 0.0825 Class02: 0.0745 Class03: 0.0732 Class04: 0.0801 Class05: 0.0734 Class06: 0.0809 \n",
      "Class07: 0.0804 Class08: 0.0882 Class09: 0.0913 Class10: 0.0934 Class11: 0.0894 Class12: 0.0915 \n",
      "Train seg Loss: 1.150011244567408 Train dom Loss: 3579.378840750542\n",
      "Train Loss: 4.729390240665795\n",
      "Train mIoU: 0.10170863436847476\n"
     ]
    },
    {
     "name": "stderr",
     "output_type": "stream",
     "text": [
      "100%|██████████| 30/30 [00:09<00:00,  3.05it/s]\n"
     ]
    },
    {
     "name": "stdout",
     "output_type": "stream",
     "text": [
      "\n",
      "--IoU Scores Fish val--\n",
      "Class0: 0.2066 Class1: 0.1503 Class2: 0.1884 Class3: 0.2066 Class4: 0.1789 Class5: 0.1982 Class6: 0.2098 \n",
      "Class7: 0.1558 Class8: 0.1816 Class9: 0.1928 Class10: 0.1774 Class11: 0.1910 Class12: 0.1883 \n",
      "Epoch16\n",
      "Valid Seg Loss: 1.05341543952624 Valid dom Loss: 4625.858447265625\n",
      "Valid Loss: 5.6792741298675535\n",
      "Valid mIoU: 0.18659759625211483\n",
      "___________________________________________________________________________________________\n",
      "\n"
     ]
    },
    {
     "name": "stderr",
     "output_type": "stream",
     "text": [
      "Epoch: 17: 100%|██████████| 138/138 [05:00<00:00,  2.18s/it]\n"
     ]
    },
    {
     "name": "stdout",
     "output_type": "stream",
     "text": [
      "\n",
      "Label_0: IoU Scores Train\n",
      "Class00: 0.1414 Class01: 0.1628 Class02: 0.1628 Class03: 0.1509 Class04: 0.1675 Class05: 0.1648 Class06: 0.1569 \n",
      "Class07: 0.1694 Class08: 0.1520 Class09: 0.1600 Class10: 0.1801 Class11: 0.1851 Class12: 0.1611 \n",
      "Label_1: IoU Scores Train\n",
      "Class00: 0.1142 Class01: 0.1217 Class02: 0.1199 Class03: 0.1178 Class04: 0.1259 Class05: 0.1225 Class06: 0.1234 \n",
      "Class07: 0.1262 Class08: 0.1149 Class09: 0.1261 Class10: 0.1313 Class11: 0.1283 Class12: 0.1227 \n",
      "Label_2: IoU Scores Train\n",
      "Class00: 0.0992 Class01: 0.1057 Class02: 0.1036 Class03: 0.0978 Class04: 0.1068 Class05: 0.1063 Class06: 0.1057 \n",
      "Class07: 0.1100 Class08: 0.1005 Class09: 0.1098 Class10: 0.1119 Class11: 0.1071 Class12: 0.1045 \n",
      "Label_3: IoU Scores Train\n",
      "Class00: 0.0910 Class01: 0.0961 Class02: 0.0946 Class03: 0.0876 Class04: 0.0972 Class05: 0.0959 Class06: 0.0944 \n",
      "Class07: 0.0978 Class08: 0.0876 Class09: 0.0968 Class10: 0.1012 Class11: 0.1000 Class12: 0.0946 \n",
      "Train seg Loss: 1.0015969824963722 Train dom Loss: 1875.5850817708001\n",
      "Train Loss: 2.8771821528241253\n",
      "Train mIoU: 0.12141346039256565\n"
     ]
    },
    {
     "name": "stderr",
     "output_type": "stream",
     "text": [
      "100%|██████████| 30/30 [00:09<00:00,  3.02it/s]\n"
     ]
    },
    {
     "name": "stdout",
     "output_type": "stream",
     "text": [
      "\n",
      "--IoU Scores Fish val--\n",
      "Class0: 0.2146 Class1: 0.1616 Class2: 0.2023 Class3: 0.2216 Class4: 0.1724 Class5: 0.2025 Class6: 0.2188 \n",
      "Class7: 0.1628 Class8: 0.2017 Class9: 0.2003 Class10: 0.1857 Class11: 0.1792 Class12: 0.1989 \n",
      "Epoch17\n",
      "Valid Seg Loss: 0.8044670899709065 Valid dom Loss: 1862.9334431966147\n",
      "Valid Loss: 2.667400626341502\n",
      "Valid mIoU: 0.19402971616043915\n",
      "___________________________________________________________________________________________\n",
      "\n"
     ]
    },
    {
     "name": "stderr",
     "output_type": "stream",
     "text": [
      "Epoch: 18: 100%|██████████| 138/138 [05:00<00:00,  2.18s/it]\n"
     ]
    },
    {
     "name": "stdout",
     "output_type": "stream",
     "text": [
      "\n",
      "Label_0: IoU Scores Train\n",
      "Class00: 0.1518 Class01: 0.1868 Class02: 0.1862 Class03: 0.1873 Class04: 0.1920 Class05: 0.1922 Class06: 0.2112 \n",
      "Class07: 0.2069 Class08: 0.2100 Class09: 0.1904 Class10: 0.1986 Class11: 0.1971 Class12: 0.1906 \n",
      "Label_1: IoU Scores Train\n",
      "Class00: 0.1170 Class01: 0.1323 Class02: 0.1303 Class03: 0.1277 Class04: 0.1279 Class05: 0.1234 Class06: 0.1413 \n",
      "Class07: 0.1382 Class08: 0.1348 Class09: 0.1234 Class10: 0.1354 Class11: 0.1340 Class12: 0.1327 \n",
      "Label_2: IoU Scores Train\n",
      "Class00: 0.1045 Class01: 0.1139 Class02: 0.1121 Class03: 0.1102 Class04: 0.1118 Class05: 0.1069 Class06: 0.1232 \n",
      "Class07: 0.1183 Class08: 0.1154 Class09: 0.1091 Class10: 0.1190 Class11: 0.1165 Class12: 0.1125 \n",
      "Label_3: IoU Scores Train\n",
      "Class00: 0.0954 Class01: 0.1037 Class02: 0.1006 Class03: 0.0992 Class04: 0.1016 Class05: 0.1056 Class06: 0.1125 \n",
      "Class07: 0.1070 Class08: 0.1048 Class09: 0.0984 Class10: 0.1070 Class11: 0.1059 Class12: 0.1039 \n",
      "Train seg Loss: 0.9811697163875552 Train dom Loss: 949.7397689269586\n",
      "Train Loss: 1.9309095230655393\n",
      "Train mIoU: 0.1349744300240466\n"
     ]
    },
    {
     "name": "stderr",
     "output_type": "stream",
     "text": [
      "100%|██████████| 30/30 [00:09<00:00,  3.06it/s]\n"
     ]
    },
    {
     "name": "stdout",
     "output_type": "stream",
     "text": [
      "\n",
      "--IoU Scores Fish val--\n",
      "Class0: 0.2463 Class1: 0.1893 Class2: 0.2343 Class3: 0.2458 Class4: 0.2089 Class5: 0.2421 Class6: 0.2450 \n",
      "Class7: 0.1943 Class8: 0.2364 Class9: 0.2318 Class10: 0.2174 Class11: 0.2146 Class12: 0.2323 \n",
      "Epoch18\n",
      "Valid Seg Loss: 0.682160496711731 Valid dom Loss: 310.12577158610026\n",
      "Valid Loss: 0.9922862867514293\n",
      "Valid mIoU: 0.22603937215128725\n",
      "___________________________________________________________________________________________\n",
      "\n"
     ]
    },
    {
     "name": "stderr",
     "output_type": "stream",
     "text": [
      "Epoch: 19: 100%|██████████| 138/138 [05:00<00:00,  2.18s/it]\n"
     ]
    },
    {
     "name": "stdout",
     "output_type": "stream",
     "text": [
      "\n",
      "Label_0: IoU Scores Train\n",
      "Class00: 0.1972 Class01: 0.2008 Class02: 0.1875 Class03: 0.1970 Class04: 0.1989 Class05: 0.2077 Class06: 0.2203 \n",
      "Class07: 0.2307 Class08: 0.2305 Class09: 0.2087 Class10: 0.2269 Class11: 0.2379 Class12: 0.2309 \n",
      "Label_1: IoU Scores Train\n",
      "Class00: 0.1320 Class01: 0.1410 Class02: 0.1395 Class03: 0.1452 Class04: 0.1485 Class05: 0.1521 Class06: 0.1569 \n",
      "Class07: 0.1524 Class08: 0.1528 Class09: 0.1537 Class10: 0.1550 Class11: 0.1605 Class12: 0.1584 \n",
      "Label_2: IoU Scores Train\n",
      "Class00: 0.1151 Class01: 0.1226 Class02: 0.1244 Class03: 0.1244 Class04: 0.1291 Class05: 0.1336 Class06: 0.1372 \n",
      "Class07: 0.1336 Class08: 0.1323 Class09: 0.1329 Class10: 0.1382 Class11: 0.1408 Class12: 0.1399 \n",
      "Label_3: IoU Scores Train\n",
      "Class00: 0.1061 Class01: 0.1114 Class02: 0.1140 Class03: 0.1134 Class04: 0.1185 Class05: 0.1225 Class06: 0.1249 \n",
      "Class07: 0.1218 Class08: 0.1214 Class09: 0.1218 Class10: 0.1262 Class11: 0.1294 Class12: 0.1286 \n",
      "Train seg Loss: 0.8497380513319934 Train dom Loss: 762.8917647525996\n",
      "Train Loss: 1.6126298494097115\n",
      "Train mIoU: 0.15359656404644362\n"
     ]
    },
    {
     "name": "stderr",
     "output_type": "stream",
     "text": [
      "100%|██████████| 30/30 [00:09<00:00,  3.06it/s]\n"
     ]
    },
    {
     "name": "stdout",
     "output_type": "stream",
     "text": [
      "\n",
      "--IoU Scores Fish val--\n",
      "Class0: 0.2707 Class1: 0.2137 Class2: 0.2589 Class3: 0.2792 Class4: 0.2321 Class5: 0.2637 Class6: 0.2854 \n",
      "Class7: 0.2203 Class8: 0.2525 Class9: 0.2608 Class10: 0.2377 Class11: 0.2454 Class12: 0.2592 \n",
      "Epoch19\n",
      "Valid Seg Loss: 0.616960859298706 Valid dom Loss: 1003.245751953125\n",
      "Valid Loss: 1.6202066659927368\n",
      "Valid mIoU: 0.2522817412218909\n",
      "___________________________________________________________________________________________\n",
      "\n"
     ]
    },
    {
     "name": "stderr",
     "output_type": "stream",
     "text": [
      "Epoch: 20: 100%|██████████| 138/138 [04:58<00:00,  2.16s/it]\n"
     ]
    },
    {
     "name": "stdout",
     "output_type": "stream",
     "text": [
      "\n",
      "Label_0: IoU Scores Train\n",
      "Class00: 0.2351 Class01: 0.2394 Class02: 0.2457 Class03: 0.2404 Class04: 0.2383 Class05: 0.2319 Class06: 0.2463 \n",
      "Class07: 0.2424 Class08: 0.2490 Class09: 0.2424 Class10: 0.2619 Class11: 0.2762 Class12: 0.2758 \n",
      "Label_1: IoU Scores Train\n",
      "Class00: 0.1579 Class01: 0.1629 Class02: 0.1649 Class03: 0.1605 Class04: 0.1521 Class05: 0.1486 Class06: 0.1591 \n",
      "Class07: 0.1557 Class08: 0.1646 Class09: 0.1668 Class10: 0.1721 Class11: 0.1753 Class12: 0.1779 \n",
      "Label_2: IoU Scores Train\n",
      "Class00: 0.1388 Class01: 0.1425 Class02: 0.1414 Class03: 0.1381 Class04: 0.1325 Class05: 0.1298 Class06: 0.1378 \n",
      "Class07: 0.1361 Class08: 0.1426 Class09: 0.1458 Class10: 0.1485 Class11: 0.1516 Class12: 0.1527 \n",
      "Label_3: IoU Scores Train\n",
      "Class00: 0.1270 Class01: 0.1300 Class02: 0.1277 Class03: 0.1249 Class04: 0.1212 Class05: 0.1184 Class06: 0.1255 \n",
      "Class07: 0.1241 Class08: 0.1305 Class09: 0.1340 Class10: 0.1348 Class11: 0.1375 Class12: 0.1381 \n",
      "Train seg Loss: 0.7149135130795016 Train dom Loss: 298.1233738849911\n",
      "Train Loss: 1.0130369019141232\n",
      "Train mIoU: 0.17029314665698006\n"
     ]
    },
    {
     "name": "stderr",
     "output_type": "stream",
     "text": [
      "100%|██████████| 30/30 [00:10<00:00,  2.97it/s]\n"
     ]
    },
    {
     "name": "stdout",
     "output_type": "stream",
     "text": [
      "\n",
      "--IoU Scores Fish val--\n",
      "Class0: 0.2816 Class1: 0.2206 Class2: 0.2633 Class3: 0.2972 Class4: 0.2376 Class5: 0.2672 Class6: 0.2982 \n",
      "Class7: 0.2227 Class8: 0.2594 Class9: 0.2669 Class10: 0.2527 Class11: 0.2525 Class12: 0.2507 \n",
      "Epoch20\n",
      "Valid Seg Loss: 0.6340770244598388 Valid dom Loss: 109.77650858561198\n",
      "Valid Loss: 0.7438535412152608\n",
      "Valid mIoU: 0.2592645210386266\n",
      "___________________________________________________________________________________________\n",
      "\n"
     ]
    },
    {
     "name": "stderr",
     "output_type": "stream",
     "text": [
      "Epoch: 21: 100%|██████████| 138/138 [04:59<00:00,  2.17s/it]\n"
     ]
    },
    {
     "name": "stdout",
     "output_type": "stream",
     "text": [
      "\n",
      "Label_0: IoU Scores Train\n",
      "Class00: 0.2580 Class01: 0.2908 Class02: 0.2872 Class03: 0.2765 Class04: 0.2831 Class05: 0.2665 Class06: 0.2966 \n",
      "Class07: 0.2944 Class08: 0.2961 Class09: 0.3016 Class10: 0.3095 Class11: 0.3160 Class12: 0.3020 \n",
      "Label_1: IoU Scores Train\n",
      "Class00: 0.1669 Class01: 0.1785 Class02: 0.1767 Class03: 0.1751 Class04: 0.1764 Class05: 0.1725 Class06: 0.1821 \n",
      "Class07: 0.1767 Class08: 0.1765 Class09: 0.1822 Class10: 0.1836 Class11: 0.1874 Class12: 0.1791 \n",
      "Label_2: IoU Scores Train\n",
      "Class00: 0.1443 Class01: 0.1534 Class02: 0.1518 Class03: 0.1502 Class04: 0.1514 Class05: 0.1509 Class06: 0.1567 \n",
      "Class07: 0.1513 Class08: 0.1528 Class09: 0.1576 Class10: 0.1577 Class11: 0.1614 Class12: 0.1548 \n",
      "Label_3: IoU Scores Train\n",
      "Class00: 0.1315 Class01: 0.1394 Class02: 0.1381 Class03: 0.1352 Class04: 0.1374 Class05: 0.1365 Class06: 0.1429 \n",
      "Class07: 0.1380 Class08: 0.1399 Class09: 0.1443 Class10: 0.1438 Class11: 0.1475 Class12: 0.1411 \n",
      "Train seg Loss: 0.5521871835209321 Train dom Loss: 44.492063663871214\n",
      "Train Loss: 0.5966792492654877\n",
      "Train mIoU: 0.19042834042113807\n"
     ]
    },
    {
     "name": "stderr",
     "output_type": "stream",
     "text": [
      "100%|██████████| 30/30 [00:09<00:00,  3.07it/s]\n"
     ]
    },
    {
     "name": "stdout",
     "output_type": "stream",
     "text": [
      "\n",
      "--IoU Scores Fish val--\n",
      "Class0: 0.3106 Class1: 0.2384 Class2: 0.2999 Class3: 0.3118 Class4: 0.2594 Class5: 0.2973 Class6: 0.3165 \n",
      "Class7: 0.2408 Class8: 0.2892 Class9: 0.2842 Class10: 0.2653 Class11: 0.2698 Class12: 0.2971 \n",
      "Epoch21\n",
      "Valid Seg Loss: 0.48525127172470095 Valid dom Loss: 21.605530103047688\n",
      "Valid Loss: 0.5068568050861358\n",
      "Valid mIoU: 0.28308275528883087\n",
      "___________________________________________________________________________________________\n",
      "\n"
     ]
    },
    {
     "name": "stderr",
     "output_type": "stream",
     "text": [
      "Epoch: 22: 100%|██████████| 138/138 [04:59<00:00,  2.17s/it]\n"
     ]
    },
    {
     "name": "stdout",
     "output_type": "stream",
     "text": [
      "\n",
      "Label_0: IoU Scores Train\n",
      "Class00: 0.3009 Class01: 0.3164 Class02: 0.3186 Class03: 0.3169 Class04: 0.3289 Class05: 0.3166 Class06: 0.3210 \n",
      "Class07: 0.3102 Class08: 0.3154 Class09: 0.3317 Class10: 0.3228 Class11: 0.3268 Class12: 0.3305 \n",
      "Label_1: IoU Scores Train\n",
      "Class00: 0.1724 Class01: 0.1878 Class02: 0.1883 Class03: 0.1848 Class04: 0.1907 Class05: 0.1901 Class06: 0.1892 \n",
      "Class07: 0.1859 Class08: 0.1874 Class09: 0.1904 Class10: 0.1904 Class11: 0.1897 Class12: 0.1944 \n",
      "Label_2: IoU Scores Train\n",
      "Class00: 0.1483 Class01: 0.1616 Class02: 0.1618 Class03: 0.1575 Class04: 0.1634 Class05: 0.1628 Class06: 0.1627 \n",
      "Class07: 0.1603 Class08: 0.1607 Class09: 0.1620 Class10: 0.1638 Class11: 0.1618 Class12: 0.1662 \n",
      "Label_3: IoU Scores Train\n",
      "Class00: 0.1362 Class01: 0.1474 Class02: 0.1474 Class03: 0.1436 Class04: 0.1492 Class05: 0.1482 Class06: 0.1481 \n",
      "Class07: 0.1463 Class08: 0.1456 Class09: 0.1474 Class10: 0.1496 Class11: 0.1466 Class12: 0.1514 \n",
      "Train seg Loss: 0.4753380878356056 Train dom Loss: 3.4463102848784057\n",
      "Train Loss: 0.4787843979463197\n",
      "Train mIoU: 0.20381087935818037\n"
     ]
    },
    {
     "name": "stderr",
     "output_type": "stream",
     "text": [
      "100%|██████████| 30/30 [00:10<00:00,  2.91it/s]\n"
     ]
    },
    {
     "name": "stdout",
     "output_type": "stream",
     "text": [
      "\n",
      "--IoU Scores Fish val--\n",
      "Class0: 0.3435 Class1: 0.2779 Class2: 0.3269 Class3: 0.3573 Class4: 0.2961 Class5: 0.3326 Class6: 0.3589 \n",
      "Class7: 0.2818 Class8: 0.3254 Class9: 0.3275 Class10: 0.3074 Class11: 0.3079 Class12: 0.3219 \n",
      "Epoch22\n",
      "Valid Seg Loss: 0.4035367429256439 Valid dom Loss: 3.0467978954315185\n",
      "Valid Loss: 0.4065835396448771\n",
      "Valid mIoU: 0.3203817348562862\n",
      "___________________________________________________________________________________________\n",
      "\n"
     ]
    },
    {
     "name": "stderr",
     "output_type": "stream",
     "text": [
      "Epoch: 23: 100%|██████████| 138/138 [05:00<00:00,  2.18s/it]\n"
     ]
    },
    {
     "name": "stdout",
     "output_type": "stream",
     "text": [
      "\n",
      "Label_0: IoU Scores Train\n",
      "Class00: 0.3158 Class01: 0.3376 Class02: 0.3368 Class03: 0.3336 Class04: 0.3423 Class05: 0.3205 Class06: 0.3413 \n",
      "Class07: 0.3280 Class08: 0.3368 Class09: 0.3497 Class10: 0.3416 Class11: 0.3463 Class12: 0.3432 \n",
      "Label_1: IoU Scores Train\n",
      "Class00: 0.1847 Class01: 0.1978 Class02: 0.1976 Class03: 0.1921 Class04: 0.1980 Class05: 0.1909 Class06: 0.2004 \n",
      "Class07: 0.1932 Class08: 0.1956 Class09: 0.2039 Class10: 0.2000 Class11: 0.2023 Class12: 0.2030 \n",
      "Label_2: IoU Scores Train\n",
      "Class00: 0.1580 Class01: 0.1688 Class02: 0.1678 Class03: 0.1640 Class04: 0.1686 Class05: 0.1630 Class06: 0.1715 \n",
      "Class07: 0.1643 Class08: 0.1662 Class09: 0.1731 Class10: 0.1704 Class11: 0.1724 Class12: 0.1735 \n",
      "Label_3: IoU Scores Train\n",
      "Class00: 0.1437 Class01: 0.1531 Class02: 0.1519 Class03: 0.1486 Class04: 0.1533 Class05: 0.1479 Class06: 0.1558 \n",
      "Class07: 0.1490 Class08: 0.1507 Class09: 0.1563 Class10: 0.1547 Class11: 0.1561 Class12: 0.1578 \n",
      "Train seg Loss: 0.4440299163478008 Train dom Loss: 1.8824407158068899\n",
      "Train Loss: 0.44591235736573953\n",
      "Train mIoU: 0.21333446492295902\n"
     ]
    },
    {
     "name": "stderr",
     "output_type": "stream",
     "text": [
      "100%|██████████| 30/30 [00:09<00:00,  3.05it/s]\n"
     ]
    },
    {
     "name": "stdout",
     "output_type": "stream",
     "text": [
      "\n",
      "--IoU Scores Fish val--\n",
      "Class0: 0.3477 Class1: 0.2753 Class2: 0.3288 Class3: 0.3557 Class4: 0.2963 Class5: 0.3297 Class6: 0.3623 \n",
      "Class7: 0.2805 Class8: 0.3229 Class9: 0.3292 Class10: 0.3094 Class11: 0.3007 Class12: 0.3189 \n",
      "Epoch23\n",
      "Valid Seg Loss: 0.37948119739691416 Valid dom Loss: 2.014039425055186\n",
      "Valid Loss: 0.38149523735046387\n",
      "Valid mIoU: 0.31979799924957397\n",
      "___________________________________________________________________________________________\n",
      "\n"
     ]
    },
    {
     "name": "stderr",
     "output_type": "stream",
     "text": [
      "Epoch: 24: 100%|██████████| 138/138 [04:59<00:00,  2.17s/it]\n"
     ]
    },
    {
     "name": "stdout",
     "output_type": "stream",
     "text": [
      "\n",
      "Label_0: IoU Scores Train\n",
      "Class00: 0.3421 Class01: 0.3561 Class02: 0.3417 Class03: 0.3419 Class04: 0.3513 Class05: 0.3471 Class06: 0.3602 \n",
      "Class07: 0.3382 Class08: 0.3406 Class09: 0.3626 Class10: 0.3450 Class11: 0.3598 Class12: 0.3603 \n",
      "Label_1: IoU Scores Train\n",
      "Class00: 0.1973 Class01: 0.2064 Class02: 0.2017 Class03: 0.2035 Class04: 0.2046 Class05: 0.2026 Class06: 0.2049 \n",
      "Class07: 0.2002 Class08: 0.2056 Class09: 0.2120 Class10: 0.2039 Class11: 0.2074 Class12: 0.2060 \n",
      "Label_2: IoU Scores Train\n",
      "Class00: 0.1674 Class01: 0.1748 Class02: 0.1715 Class03: 0.1748 Class04: 0.1739 Class05: 0.1718 Class06: 0.1740 \n",
      "Class07: 0.1706 Class08: 0.1756 Class09: 0.1811 Class10: 0.1748 Class11: 0.1774 Class12: 0.1735 \n",
      "Label_3: IoU Scores Train\n",
      "Class00: 0.1522 Class01: 0.1583 Class02: 0.1555 Class03: 0.1594 Class04: 0.1576 Class05: 0.1554 Class06: 0.1579 \n",
      "Class07: 0.1547 Class08: 0.1592 Class09: 0.1649 Class10: 0.1586 Class11: 0.1614 Class12: 0.1563 \n",
      "Train seg Loss: 0.4270660507938136 Train dom Loss: 3.035349226659282\n",
      "Train Loss: 0.4301014002682506\n",
      "Train mIoU: 0.22145643180385743\n"
     ]
    },
    {
     "name": "stderr",
     "output_type": "stream",
     "text": [
      "100%|██████████| 30/30 [00:09<00:00,  3.06it/s]\n"
     ]
    },
    {
     "name": "stdout",
     "output_type": "stream",
     "text": [
      "\n",
      "--IoU Scores Fish val--\n",
      "Class0: 0.3512 Class1: 0.2834 Class2: 0.3386 Class3: 0.3639 Class4: 0.3062 Class5: 0.3314 Class6: 0.3661 \n",
      "Class7: 0.2808 Class8: 0.3314 Class9: 0.3293 Class10: 0.3147 Class11: 0.3086 Class12: 0.3373 \n",
      "Epoch24\n",
      "Valid Seg Loss: 0.37258717318375906 Valid dom Loss: 1.0152313788731893\n",
      "Valid Loss: 0.3736024041970571\n",
      "Valid mIoU: 0.3263849202133639\n",
      "___________________________________________________________________________________________\n",
      "\n"
     ]
    },
    {
     "name": "stderr",
     "output_type": "stream",
     "text": [
      "Epoch: 25: 100%|██████████| 138/138 [04:59<00:00,  2.17s/it]\n"
     ]
    },
    {
     "name": "stdout",
     "output_type": "stream",
     "text": [
      "\n",
      "Label_0: IoU Scores Train\n",
      "Class00: 0.3609 Class01: 0.3632 Class02: 0.3553 Class03: 0.3653 Class04: 0.3715 Class05: 0.3639 Class06: 0.3684 \n",
      "Class07: 0.3557 Class08: 0.3747 Class09: 0.3685 Class10: 0.3558 Class11: 0.3781 Class12: 0.3753 \n",
      "Label_1: IoU Scores Train\n",
      "Class00: 0.2070 Class01: 0.2106 Class02: 0.2050 Class03: 0.2106 Class04: 0.2103 Class05: 0.2125 Class06: 0.2155 \n",
      "Class07: 0.2063 Class08: 0.2137 Class09: 0.2107 Class10: 0.2050 Class11: 0.2174 Class12: 0.2154 \n",
      "Label_2: IoU Scores Train\n",
      "Class00: 0.1758 Class01: 0.1786 Class02: 0.1749 Class03: 0.1785 Class04: 0.1773 Class05: 0.1804 Class06: 0.1833 \n",
      "Class07: 0.1760 Class08: 0.1813 Class09: 0.1785 Class10: 0.1741 Class11: 0.1843 Class12: 0.1829 \n",
      "Label_3: IoU Scores Train\n",
      "Class00: 0.1596 Class01: 0.1620 Class02: 0.1589 Class03: 0.1619 Class04: 0.1605 Class05: 0.1633 Class06: 0.1663 \n",
      "Class07: 0.1597 Class08: 0.1641 Class09: 0.1621 Class10: 0.1580 Class11: 0.1669 Class12: 0.1658 \n",
      "Train seg Loss: 0.4044765125744153 Train dom Loss: 4.084189915864229\n",
      "Train Loss: 0.40856070255023846\n",
      "Train mIoU: 0.22945348720228195\n"
     ]
    },
    {
     "name": "stderr",
     "output_type": "stream",
     "text": [
      "100%|██████████| 30/30 [00:09<00:00,  3.08it/s]\n"
     ]
    },
    {
     "name": "stdout",
     "output_type": "stream",
     "text": [
      "\n",
      "--IoU Scores Fish val--\n",
      "Class0: 0.3554 Class1: 0.2756 Class2: 0.3346 Class3: 0.3708 Class4: 0.3070 Class5: 0.3326 Class6: 0.3721 \n",
      "Class7: 0.2798 Class8: 0.3277 Class9: 0.3298 Class10: 0.3165 Class11: 0.3108 Class12: 0.3312 \n",
      "Epoch25\n",
      "Valid Seg Loss: 0.3828269332647324 Valid dom Loss: 2.4380944589773814\n",
      "Valid Loss: 0.3852650274833043\n",
      "Valid mIoU: 0.32646419237418883\n",
      "___________________________________________________________________________________________\n",
      "\n"
     ]
    },
    {
     "name": "stderr",
     "output_type": "stream",
     "text": [
      "Epoch: 26: 100%|██████████| 138/138 [04:59<00:00,  2.17s/it]\n"
     ]
    },
    {
     "name": "stdout",
     "output_type": "stream",
     "text": [
      "\n",
      "Label_0: IoU Scores Train\n",
      "Class00: 0.3734 Class01: 0.3857 Class02: 0.3684 Class03: 0.3689 Class04: 0.3776 Class05: 0.3746 Class06: 0.3855 \n",
      "Class07: 0.3625 Class08: 0.3937 Class09: 0.3926 Class10: 0.3821 Class11: 0.3903 Class12: 0.3813 \n",
      "Label_1: IoU Scores Train\n",
      "Class00: 0.2134 Class01: 0.2211 Class02: 0.2174 Class03: 0.2106 Class04: 0.2165 Class05: 0.2150 Class06: 0.2194 \n",
      "Class07: 0.2087 Class08: 0.2249 Class09: 0.2250 Class10: 0.2187 Class11: 0.2248 Class12: 0.2170 \n",
      "Label_2: IoU Scores Train\n",
      "Class00: 0.1815 Class01: 0.1875 Class02: 0.1844 Class03: 0.1790 Class04: 0.1838 Class05: 0.1829 Class06: 0.1847 \n",
      "Class07: 0.1762 Class08: 0.1901 Class09: 0.1914 Class10: 0.1857 Class11: 0.1899 Class12: 0.1834 \n",
      "Label_3: IoU Scores Train\n",
      "Class00: 0.1648 Class01: 0.1696 Class02: 0.1663 Class03: 0.1622 Class04: 0.1662 Class05: 0.1657 Class06: 0.1662 \n",
      "Class07: 0.1591 Class08: 0.1714 Class09: 0.1738 Class10: 0.1684 Class11: 0.1712 Class12: 0.1652 \n",
      "Train seg Loss: 0.3866111277130203 Train dom Loss: 1.6055900184910044\n",
      "Train Loss: 0.386771686213172\n",
      "Train mIoU: 0.23730296508389118\n"
     ]
    },
    {
     "name": "stderr",
     "output_type": "stream",
     "text": [
      "100%|██████████| 30/30 [00:09<00:00,  3.04it/s]\n"
     ]
    },
    {
     "name": "stdout",
     "output_type": "stream",
     "text": [
      "\n",
      "--IoU Scores Fish val--\n",
      "Class0: 0.3562 Class1: 0.2719 Class2: 0.3352 Class3: 0.3683 Class4: 0.3098 Class5: 0.3406 Class6: 0.3751 \n",
      "Class7: 0.2816 Class8: 0.3285 Class9: 0.3322 Class10: 0.3079 Class11: 0.3167 Class12: 0.3364 \n",
      "Epoch26\n",
      "Valid Seg Loss: 0.3748751521110535 Valid dom Loss: 6.013880014419556\n",
      "Valid Loss: 0.37547654012839\n",
      "Valid mIoU: 0.32772211192049405\n",
      "___________________________________________________________________________________________\n",
      "\n"
     ]
    },
    {
     "name": "stderr",
     "output_type": "stream",
     "text": [
      "Epoch: 27: 100%|██████████| 138/138 [04:59<00:00,  2.17s/it]\n"
     ]
    },
    {
     "name": "stdout",
     "output_type": "stream",
     "text": [
      "\n",
      "Label_0: IoU Scores Train\n",
      "Class00: 0.3751 Class01: 0.3901 Class02: 0.3708 Class03: 0.3875 Class04: 0.3948 Class05: 0.3929 Class06: 0.3866 \n",
      "Class07: 0.3890 Class08: 0.3930 Class09: 0.4096 Class10: 0.3961 Class11: 0.3929 Class12: 0.3736 \n",
      "Label_1: IoU Scores Train\n",
      "Class00: 0.2138 Class01: 0.2257 Class02: 0.2129 Class03: 0.2251 Class04: 0.2242 Class05: 0.2267 Class06: 0.2231 \n",
      "Class07: 0.2223 Class08: 0.2276 Class09: 0.2316 Class10: 0.2274 Class11: 0.2278 Class12: 0.2155 \n",
      "Label_2: IoU Scores Train\n",
      "Class00: 0.1820 Class01: 0.1918 Class02: 0.1807 Class03: 0.1909 Class04: 0.1908 Class05: 0.1911 Class06: 0.1890 \n",
      "Class07: 0.1870 Class08: 0.1927 Class09: 0.1949 Class10: 0.1915 Class11: 0.1929 Class12: 0.1827 \n",
      "Label_3: IoU Scores Train\n",
      "Class00: 0.1648 Class01: 0.1731 Class02: 0.1629 Class03: 0.1723 Class04: 0.1729 Class05: 0.1724 Class06: 0.1711 \n",
      "Class07: 0.1680 Class08: 0.1734 Class09: 0.1750 Class10: 0.1726 Class11: 0.1739 Class12: 0.1649 \n",
      "Train seg Loss: 0.37557746923488117 Train dom Loss: 1.019080074119341\n",
      "Train Loss: 0.3756793777633836\n",
      "Train mIoU: 0.24290021253397448\n"
     ]
    },
    {
     "name": "stderr",
     "output_type": "stream",
     "text": [
      "100%|██████████| 30/30 [00:09<00:00,  3.01it/s]\n"
     ]
    },
    {
     "name": "stdout",
     "output_type": "stream",
     "text": [
      "\n",
      "--IoU Scores Fish val--\n",
      "Class0: 0.3773 Class1: 0.2939 Class2: 0.3620 Class3: 0.3914 Class4: 0.3235 Class5: 0.3525 Class6: 0.3918 \n",
      "Class7: 0.2980 Class8: 0.3492 Class9: 0.3446 Class10: 0.3345 Class11: 0.3298 Class12: 0.3606 \n",
      "Epoch27\n",
      "Valid Seg Loss: 0.3409679472446442 Valid dom Loss: 2.3498453974723814\n",
      "Valid Loss: 0.3412029316027959\n",
      "Valid mIoU: 0.34685701766421767\n",
      "___________________________________________________________________________________________\n",
      "\n"
     ]
    },
    {
     "name": "stderr",
     "output_type": "stream",
     "text": [
      "Epoch: 28: 100%|██████████| 138/138 [04:59<00:00,  2.17s/it]\n"
     ]
    },
    {
     "name": "stdout",
     "output_type": "stream",
     "text": [
      "\n",
      "Label_0: IoU Scores Train\n",
      "Class00: 0.3933 Class01: 0.4038 Class02: 0.4011 Class03: 0.4133 Class04: 0.3948 Class05: 0.3915 Class06: 0.4042 \n",
      "Class07: 0.3985 Class08: 0.4078 Class09: 0.4122 Class10: 0.4146 Class11: 0.4135 Class12: 0.3749 \n",
      "Label_1: IoU Scores Train\n",
      "Class00: 0.2253 Class01: 0.2293 Class02: 0.2299 Class03: 0.2359 Class04: 0.2306 Class05: 0.2265 Class06: 0.2327 \n",
      "Class07: 0.2266 Class08: 0.2320 Class09: 0.2370 Class10: 0.2369 Class11: 0.2349 Class12: 0.2210 \n",
      "Label_2: IoU Scores Train\n",
      "Class00: 0.1899 Class01: 0.1935 Class02: 0.1944 Class03: 0.1984 Class04: 0.1949 Class05: 0.1911 Class06: 0.1965 \n",
      "Class07: 0.1915 Class08: 0.1957 Class09: 0.2002 Class10: 0.1993 Class11: 0.1981 Class12: 0.1875 \n",
      "Label_3: IoU Scores Train\n",
      "Class00: 0.1704 Class01: 0.1741 Class02: 0.1750 Class03: 0.1781 Class04: 0.1759 Class05: 0.1719 Class06: 0.1769 \n",
      "Class07: 0.1724 Class08: 0.1760 Class09: 0.1796 Class10: 0.1789 Class11: 0.1780 Class12: 0.1692 \n",
      "Train seg Loss: 0.36074843476323976 Train dom Loss: 0.9049010746698976\n",
      "Train Loss: 0.3608389250880134\n",
      "Train mIoU: 0.250575499733304\n"
     ]
    },
    {
     "name": "stderr",
     "output_type": "stream",
     "text": [
      "100%|██████████| 30/30 [00:09<00:00,  3.09it/s]\n"
     ]
    },
    {
     "name": "stdout",
     "output_type": "stream",
     "text": [
      "\n",
      "--IoU Scores Fish val--\n",
      "Class0: 0.3171 Class1: 0.2427 Class2: 0.2978 Class3: 0.3150 Class4: 0.2704 Class5: 0.2946 Class6: 0.3260 \n",
      "Class7: 0.2433 Class8: 0.2872 Class9: 0.2857 Class10: 0.2720 Class11: 0.2775 Class12: 0.3071 \n",
      "Epoch28\n",
      "Valid Seg Loss: 0.4892864386240641 Valid dom Loss: 9.06118458112081\n",
      "Valid Loss: 0.49019255936145784\n",
      "Valid mIoU: 0.28741431675864304\n",
      "___________________________________________________________________________________________\n",
      "\n"
     ]
    },
    {
     "name": "stderr",
     "output_type": "stream",
     "text": [
      "Epoch: 29: 100%|██████████| 138/138 [04:59<00:00,  2.17s/it]\n"
     ]
    },
    {
     "name": "stdout",
     "output_type": "stream",
     "text": [
      "\n",
      "Label_0: IoU Scores Train\n",
      "Class00: 0.3907 Class01: 0.4120 Class02: 0.4118 Class03: 0.4199 Class04: 0.4104 Class05: 0.4183 Class06: 0.4249 \n",
      "Class07: 0.4188 Class08: 0.4190 Class09: 0.4191 Class10: 0.4166 Class11: 0.4037 Class12: 0.4045 \n",
      "Label_1: IoU Scores Train\n",
      "Class00: 0.2229 Class01: 0.2359 Class02: 0.2344 Class03: 0.2399 Class04: 0.2343 Class05: 0.2390 Class06: 0.2402 \n",
      "Class07: 0.2347 Class08: 0.2358 Class09: 0.2404 Class10: 0.2389 Class11: 0.2350 Class12: 0.2344 \n",
      "Label_2: IoU Scores Train\n",
      "Class00: 0.1873 Class01: 0.1988 Class02: 0.1967 Class03: 0.2013 Class04: 0.1970 Class05: 0.2005 Class06: 0.2011 \n",
      "Class07: 0.1966 Class08: 0.1976 Class09: 0.2031 Class10: 0.2003 Class11: 0.1990 Class12: 0.1975 \n",
      "Label_3: IoU Scores Train\n",
      "Class00: 0.1682 Class01: 0.1796 Class02: 0.1764 Class03: 0.1804 Class04: 0.1770 Class05: 0.1794 Class06: 0.1801 \n",
      "Class07: 0.1758 Class08: 0.1773 Class09: 0.1820 Class10: 0.1793 Class11: 0.1799 Class12: 0.1778 \n",
      "Train seg Loss: 0.3450819323838189 Train dom Loss: 0.8197463754137667\n",
      "Train Loss: 0.34516390669497027\n",
      "Train mIoU: 0.25626490968222015\n"
     ]
    },
    {
     "name": "stderr",
     "output_type": "stream",
     "text": [
      "100%|██████████| 30/30 [00:09<00:00,  3.12it/s]\n"
     ]
    },
    {
     "name": "stdout",
     "output_type": "stream",
     "text": [
      "\n",
      "--IoU Scores Fish val--\n",
      "Class0: 0.3780 Class1: 0.2935 Class2: 0.3587 Class3: 0.3880 Class4: 0.3182 Class5: 0.3455 Class6: 0.3869 \n",
      "Class7: 0.2944 Class8: 0.3455 Class9: 0.3348 Class10: 0.3309 Class11: 0.3176 Class12: 0.3531 \n",
      "Epoch29\n",
      "Valid Seg Loss: 0.33606216460466387 Valid dom Loss: 0.49174709369738895\n",
      "Valid Loss: 0.336111336449782\n",
      "Valid mIoU: 0.34194254894865966\n",
      "___________________________________________________________________________________________\n",
      "\n"
     ]
    },
    {
     "name": "stderr",
     "output_type": "stream",
     "text": [
      "Epoch: 30: 100%|██████████| 138/138 [04:58<00:00,  2.16s/it]\n"
     ]
    },
    {
     "name": "stdout",
     "output_type": "stream",
     "text": [
      "\n",
      "Label_0: IoU Scores Train\n",
      "Class00: 0.4079 Class01: 0.4195 Class02: 0.4185 Class03: 0.4299 Class04: 0.4191 Class05: 0.4208 Class06: 0.4211 \n",
      "Class07: 0.4218 Class08: 0.4236 Class09: 0.4357 Class10: 0.3618 Class11: 0.3534 Class12: 0.3872 \n",
      "Label_1: IoU Scores Train\n",
      "Class00: 0.2315 Class01: 0.2408 Class02: 0.2413 Class03: 0.2479 Class04: 0.2415 Class05: 0.2405 Class06: 0.2426 \n",
      "Class07: 0.2382 Class08: 0.2429 Class09: 0.2435 Class10: 0.2265 Class11: 0.2104 Class12: 0.2259 \n",
      "Label_2: IoU Scores Train\n",
      "Class00: 0.1953 Class01: 0.2025 Class02: 0.2020 Class03: 0.2092 Class04: 0.2033 Class05: 0.2028 Class06: 0.2028 \n",
      "Class07: 0.2004 Class08: 0.2056 Class09: 0.2050 Class10: 0.1942 Class11: 0.1800 Class12: 0.1906 \n",
      "Label_3: IoU Scores Train\n",
      "Class00: 0.1752 Class01: 0.1814 Class02: 0.1805 Class03: 0.1881 Class04: 0.1820 Class05: 0.1817 Class06: 0.1809 \n",
      "Class07: 0.1799 Class08: 0.1847 Class09: 0.1838 Class10: 0.1714 Class11: 0.1629 Class12: 0.1712 \n",
      "Train seg Loss: 0.35772367202393385 Train dom Loss: 3.1474785682685384\n",
      "Train Loss: 0.3580384197496418\n",
      "Train mIoU: 0.25598578554286516\n"
     ]
    },
    {
     "name": "stderr",
     "output_type": "stream",
     "text": [
      "100%|██████████| 30/30 [00:09<00:00,  3.03it/s]\n"
     ]
    },
    {
     "name": "stdout",
     "output_type": "stream",
     "text": [
      "\n",
      "--IoU Scores Fish val--\n",
      "Class0: 0.3672 Class1: 0.2826 Class2: 0.3321 Class3: 0.3773 Class4: 0.3061 Class5: 0.3329 Class6: 0.3802 \n",
      "Class7: 0.2825 Class8: 0.3284 Class9: 0.3331 Class10: 0.3159 Class11: 0.3198 Class12: 0.3339 \n",
      "Epoch30\n",
      "Valid Seg Loss: 0.37466853658358257 Valid dom Loss: 4.190443460146586\n",
      "Valid Loss: 0.37508758207162224\n",
      "Valid mIoU: 0.3301489042736546\n",
      "___________________________________________________________________________________________\n",
      "\n"
     ]
    },
    {
     "name": "stderr",
     "output_type": "stream",
     "text": [
      "Epoch: 31: 100%|██████████| 138/138 [05:00<00:00,  2.17s/it]\n"
     ]
    },
    {
     "name": "stdout",
     "output_type": "stream",
     "text": [
      "\n",
      "Label_0: IoU Scores Train\n",
      "Class00: 0.4058 Class01: 0.4257 Class02: 0.4115 Class03: 0.4167 Class04: 0.4283 Class05: 0.4354 Class06: 0.4331 \n",
      "Class07: 0.4276 Class08: 0.4454 Class09: 0.4418 Class10: 0.4385 Class11: 0.4441 Class12: 0.4249 \n",
      "Label_1: IoU Scores Train\n",
      "Class00: 0.2343 Class01: 0.2426 Class02: 0.2325 Class03: 0.2393 Class04: 0.2424 Class05: 0.2484 Class06: 0.2441 \n",
      "Class07: 0.2387 Class08: 0.2494 Class09: 0.2511 Class10: 0.2449 Class11: 0.2503 Class12: 0.2395 \n",
      "Label_2: IoU Scores Train\n",
      "Class00: 0.1984 Class01: 0.2037 Class02: 0.1952 Class03: 0.2013 Class04: 0.2038 Class05: 0.2089 Class06: 0.2057 \n",
      "Class07: 0.1994 Class08: 0.2083 Class09: 0.2102 Class10: 0.2052 Class11: 0.2099 Class12: 0.2013 \n",
      "Label_3: IoU Scores Train\n",
      "Class00: 0.1783 Class01: 0.1825 Class02: 0.1756 Class03: 0.1811 Class04: 0.1828 Class05: 0.1872 Class06: 0.1848 \n",
      "Class07: 0.1782 Class08: 0.1863 Class09: 0.1877 Class10: 0.1839 Class11: 0.1875 Class12: 0.1798 \n",
      "Train seg Loss: 0.32588759175353293 Train dom Loss: 0.4770532832743139\n",
      "Train Loss: 0.3259352966333213\n",
      "Train mIoU: 0.2646793795200957\n"
     ]
    },
    {
     "name": "stderr",
     "output_type": "stream",
     "text": [
      "100%|██████████| 30/30 [00:09<00:00,  3.01it/s]\n"
     ]
    },
    {
     "name": "stdout",
     "output_type": "stream",
     "text": [
      "\n",
      "--IoU Scores Fish val--\n",
      "Class0: 0.3878 Class1: 0.2991 Class2: 0.3683 Class3: 0.3906 Class4: 0.3281 Class5: 0.3580 Class6: 0.3986 \n",
      "Class7: 0.3024 Class8: 0.3547 Class9: 0.3493 Class10: 0.3319 Class11: 0.3358 Class12: 0.3559 \n",
      "Epoch31\n",
      "Valid Seg Loss: 0.35129958192507427 Valid dom Loss: 4.988146734237671\n",
      "Valid Loss: 0.3517983968059222\n",
      "Valid mIoU: 0.3508046507375057\n",
      "___________________________________________________________________________________________\n",
      "\n"
     ]
    },
    {
     "name": "stderr",
     "output_type": "stream",
     "text": [
      "Epoch: 32: 100%|██████████| 138/138 [04:59<00:00,  2.17s/it]\n"
     ]
    },
    {
     "name": "stdout",
     "output_type": "stream",
     "text": [
      "\n",
      "Label_0: IoU Scores Train\n",
      "Class00: 0.4274 Class01: 0.4334 Class02: 0.4351 Class03: 0.4505 Class04: 0.4444 Class05: 0.4444 Class06: 0.4497 \n",
      "Class07: 0.4434 Class08: 0.4486 Class09: 0.4577 Class10: 0.4446 Class11: 0.4497 Class12: 0.4488 \n",
      "Label_1: IoU Scores Train\n",
      "Class00: 0.2409 Class01: 0.2487 Class02: 0.2431 Class03: 0.2533 Class04: 0.2464 Class05: 0.2523 Class06: 0.2532 \n",
      "Class07: 0.2483 Class08: 0.2517 Class09: 0.2569 Class10: 0.2535 Class11: 0.2540 Class12: 0.2505 \n",
      "Label_2: IoU Scores Train\n",
      "Class00: 0.2030 Class01: 0.2101 Class02: 0.2027 Class03: 0.2114 Class04: 0.2068 Class05: 0.2126 Class06: 0.2113 \n",
      "Class07: 0.2080 Class08: 0.2114 Class09: 0.2148 Class10: 0.2135 Class11: 0.2129 Class12: 0.2092 \n",
      "Label_3: IoU Scores Train\n",
      "Class00: 0.1824 Class01: 0.1891 Class02: 0.1809 Class03: 0.1895 Class04: 0.1847 Class05: 0.1906 Class06: 0.1888 \n",
      "Class07: 0.1862 Class08: 0.1898 Class09: 0.1920 Class10: 0.1921 Class11: 0.1905 Class12: 0.1875 \n",
      "Train seg Loss: 0.3042381029522073 Train dom Loss: 0.5181138469510224\n",
      "Train Loss: 0.30428991437066294\n",
      "Train mIoU: 0.2731180170350042\n"
     ]
    },
    {
     "name": "stderr",
     "output_type": "stream",
     "text": [
      "100%|██████████| 30/30 [00:09<00:00,  3.10it/s]\n"
     ]
    },
    {
     "name": "stdout",
     "output_type": "stream",
     "text": [
      "\n",
      "--IoU Scores Fish val--\n",
      "Class0: 0.4001 Class1: 0.3247 Class2: 0.3813 Class3: 0.4006 Class4: 0.3455 Class5: 0.3691 Class6: 0.4094 \n",
      "Class7: 0.3207 Class8: 0.3715 Class9: 0.3641 Class10: 0.3558 Class11: 0.3465 Class12: 0.3723 \n",
      "Epoch32\n",
      "Valid Seg Loss: 0.3018246794740359 Valid dom Loss: 12.46115649541219\n",
      "Valid Loss: 0.3030707910656929\n",
      "Valid mIoU: 0.366288874653564\n",
      "___________________________________________________________________________________________\n",
      "\n"
     ]
    },
    {
     "name": "stderr",
     "output_type": "stream",
     "text": [
      "Epoch: 33: 100%|██████████| 138/138 [04:59<00:00,  2.17s/it]\n"
     ]
    },
    {
     "name": "stdout",
     "output_type": "stream",
     "text": [
      "\n",
      "Label_0: IoU Scores Train\n",
      "Class00: 0.4449 Class01: 0.4653 Class02: 0.4468 Class03: 0.4624 Class04: 0.4488 Class05: 0.4560 Class06: 0.4560 \n",
      "Class07: 0.4354 Class08: 0.4624 Class09: 0.4744 Class10: 0.4565 Class11: 0.4658 Class12: 0.4265 \n",
      "Label_1: IoU Scores Train\n",
      "Class00: 0.2473 Class01: 0.2610 Class02: 0.2499 Class03: 0.2566 Class04: 0.2503 Class05: 0.2602 Class06: 0.2602 \n",
      "Class07: 0.2429 Class08: 0.2593 Class09: 0.2645 Class10: 0.2536 Class11: 0.2599 Class12: 0.2484 \n",
      "Label_2: IoU Scores Train\n",
      "Class00: 0.2062 Class01: 0.2187 Class02: 0.2098 Class03: 0.2144 Class04: 0.2109 Class05: 0.2169 Class06: 0.2185 \n",
      "Class07: 0.2047 Class08: 0.2172 Class09: 0.2209 Class10: 0.2127 Class11: 0.2169 Class12: 0.2107 \n",
      "Label_3: IoU Scores Train\n",
      "Class00: 0.1844 Class01: 0.1954 Class02: 0.1887 Class03: 0.1916 Class04: 0.1896 Class05: 0.1936 Class06: 0.1959 \n",
      "Class07: 0.1842 Class08: 0.1944 Class09: 0.1971 Class10: 0.1909 Class11: 0.1939 Class12: 0.1903 \n",
      "Train seg Loss: 0.29271031894545624 Train dom Loss: 0.5409575527930497\n",
      "Train Loss: 0.2927644150736539\n",
      "Train mIoU: 0.2785388479623908\n"
     ]
    },
    {
     "name": "stderr",
     "output_type": "stream",
     "text": [
      "100%|██████████| 30/30 [00:09<00:00,  3.04it/s]\n"
     ]
    },
    {
     "name": "stdout",
     "output_type": "stream",
     "text": [
      "\n",
      "--IoU Scores Fish val--\n",
      "Class0: 0.3815 Class1: 0.2906 Class2: 0.3604 Class3: 0.3915 Class4: 0.3146 Class5: 0.3428 Class6: 0.3907 \n",
      "Class7: 0.3056 Class8: 0.3478 Class9: 0.3418 Class10: 0.3284 Class11: 0.3314 Class12: 0.3445 \n",
      "Epoch33\n",
      "Valid Seg Loss: 0.3862097322940826 Valid dom Loss: 10.712110328674317\n",
      "Valid Loss: 0.3872809420029322\n",
      "Valid mIoU: 0.3439610868243397\n",
      "___________________________________________________________________________________________\n",
      "\n"
     ]
    },
    {
     "name": "stderr",
     "output_type": "stream",
     "text": [
      "Epoch: 34: 100%|██████████| 138/138 [04:59<00:00,  2.17s/it]\n"
     ]
    },
    {
     "name": "stdout",
     "output_type": "stream",
     "text": [
      "\n",
      "Label_0: IoU Scores Train\n",
      "Class00: 0.4554 Class01: 0.4657 Class02: 0.4474 Class03: 0.4713 Class04: 0.4700 Class05: 0.4560 Class06: 0.4707 \n",
      "Class07: 0.4659 Class08: 0.4784 Class09: 0.4705 Class10: 0.4575 Class11: 0.4733 Class12: 0.4470 \n",
      "Label_1: IoU Scores Train\n",
      "Class00: 0.2521 Class01: 0.2588 Class02: 0.2545 Class03: 0.2622 Class04: 0.2615 Class05: 0.2561 Class06: 0.2623 \n",
      "Class07: 0.2597 Class08: 0.2689 Class09: 0.2634 Class10: 0.2598 Class11: 0.2654 Class12: 0.2481 \n",
      "Label_2: IoU Scores Train\n",
      "Class00: 0.2119 Class01: 0.2174 Class02: 0.2137 Class03: 0.2196 Class04: 0.2185 Class05: 0.2153 Class06: 0.2201 \n",
      "Class07: 0.2162 Class08: 0.2240 Class09: 0.2206 Class10: 0.2190 Class11: 0.2218 Class12: 0.2103 \n",
      "Label_3: IoU Scores Train\n",
      "Class00: 0.1897 Class01: 0.1952 Class02: 0.1918 Class03: 0.1964 Class04: 0.1951 Class05: 0.1934 Class06: 0.1976 \n",
      "Class07: 0.1926 Class08: 0.2001 Class09: 0.1972 Class10: 0.1967 Class11: 0.1984 Class12: 0.1897 \n",
      "Train seg Loss: 0.2800867467092863 Train dom Loss: 0.8280624409543113\n",
      "Train Loss: 0.28016955262400967\n",
      "Train mIoU: 0.2839297939346524\n"
     ]
    },
    {
     "name": "stderr",
     "output_type": "stream",
     "text": [
      "100%|██████████| 30/30 [00:10<00:00,  3.00it/s]\n"
     ]
    },
    {
     "name": "stdout",
     "output_type": "stream",
     "text": [
      "\n",
      "--IoU Scores Fish val--\n",
      "Class0: 0.3823 Class1: 0.2954 Class2: 0.3535 Class3: 0.3874 Class4: 0.3307 Class5: 0.3528 Class6: 0.3845 \n",
      "Class7: 0.2950 Class8: 0.3502 Class9: 0.3509 Class10: 0.3400 Class11: 0.3335 Class12: 0.3699 \n",
      "Epoch34\n",
      "Valid Seg Loss: 0.348332567512989 Valid dom Loss: 41.33788725535075\n",
      "Valid Loss: 0.3524663542707761\n",
      "Valid mIoU: 0.3481695421760955\n",
      "___________________________________________________________________________________________\n",
      "\n"
     ]
    },
    {
     "name": "stderr",
     "output_type": "stream",
     "text": [
      "Epoch: 35: 100%|██████████| 138/138 [04:58<00:00,  2.16s/it]\n"
     ]
    },
    {
     "name": "stdout",
     "output_type": "stream",
     "text": [
      "\n",
      "Label_0: IoU Scores Train\n",
      "Class00: 0.4707 Class01: 0.4800 Class02: 0.4798 Class03: 0.4896 Class04: 0.4825 Class05: 0.4729 Class06: 0.4797 \n",
      "Class07: 0.4697 Class08: 0.4869 Class09: 0.4885 Class10: 0.4796 Class11: 0.4838 Class12: 0.4692 \n",
      "Label_1: IoU Scores Train\n",
      "Class00: 0.2628 Class01: 0.2673 Class02: 0.2667 Class03: 0.2720 Class04: 0.2671 Class05: 0.2648 Class06: 0.2650 \n",
      "Class07: 0.2615 Class08: 0.2701 Class09: 0.2695 Class10: 0.2646 Class11: 0.2696 Class12: 0.2578 \n",
      "Label_2: IoU Scores Train\n",
      "Class00: 0.2196 Class01: 0.2220 Class02: 0.2221 Class03: 0.2265 Class04: 0.2230 Class05: 0.2220 Class06: 0.2222 \n",
      "Class07: 0.2194 Class08: 0.2258 Class09: 0.2257 Class10: 0.2216 Class11: 0.2257 Class12: 0.2134 \n",
      "Label_3: IoU Scores Train\n",
      "Class00: 0.1974 Class01: 0.1990 Class02: 0.1984 Class03: 0.2022 Class04: 0.1995 Class05: 0.1988 Class06: 0.1991 \n",
      "Class07: 0.1961 Class08: 0.2020 Class09: 0.2025 Class10: 0.1981 Class11: 0.2022 Class12: 0.1900 \n",
      "Train seg Loss: 0.2610650900481404 Train dom Loss: 0.6711122318793221\n",
      "Train Loss: 0.2611322008829186\n",
      "Train mIoU: 0.2916552422043159\n"
     ]
    },
    {
     "name": "stderr",
     "output_type": "stream",
     "text": [
      "100%|██████████| 30/30 [00:09<00:00,  3.04it/s]\n"
     ]
    },
    {
     "name": "stdout",
     "output_type": "stream",
     "text": [
      "\n",
      "--IoU Scores Fish val--\n",
      "Class0: 0.3837 Class1: 0.3056 Class2: 0.3648 Class3: 0.3989 Class4: 0.3356 Class5: 0.3560 Class6: 0.4003 \n",
      "Class7: 0.3205 Class8: 0.3539 Class9: 0.3590 Class10: 0.3460 Class11: 0.3405 Class12: 0.3737 \n",
      "Epoch35\n",
      "Valid Seg Loss: 0.3208639914790789 Valid dom Loss: 29.939511171976726\n",
      "Valid Loss: 0.323857943713665\n",
      "Valid mIoU: 0.3568029988737169\n",
      "___________________________________________________________________________________________\n",
      "\n"
     ]
    },
    {
     "name": "stderr",
     "output_type": "stream",
     "text": [
      "Epoch: 36: 100%|██████████| 138/138 [04:58<00:00,  2.17s/it]\n"
     ]
    },
    {
     "name": "stdout",
     "output_type": "stream",
     "text": [
      "\n",
      "Label_0: IoU Scores Train\n",
      "Class00: 0.4897 Class01: 0.4945 Class02: 0.4817 Class03: 0.4782 Class04: 0.4915 Class05: 0.4969 Class06: 0.4928 \n",
      "Class07: 0.4800 Class08: 0.5016 Class09: 0.5136 Class10: 0.4968 Class11: 0.5029 Class12: 0.4934 \n",
      "Label_1: IoU Scores Train\n",
      "Class00: 0.2701 Class01: 0.2729 Class02: 0.2697 Class03: 0.2668 Class04: 0.2698 Class05: 0.2730 Class06: 0.2732 \n",
      "Class07: 0.2646 Class08: 0.2732 Class09: 0.2779 Class10: 0.2726 Class11: 0.2761 Class12: 0.2749 \n",
      "Label_2: IoU Scores Train\n",
      "Class00: 0.2250 Class01: 0.2275 Class02: 0.2252 Class03: 0.2230 Class04: 0.2265 Class05: 0.2270 Class06: 0.2288 \n",
      "Class07: 0.2211 Class08: 0.2277 Class09: 0.2302 Class10: 0.2276 Class11: 0.2298 Class12: 0.2304 \n",
      "Label_3: IoU Scores Train\n",
      "Class00: 0.2005 Class01: 0.2033 Class02: 0.2012 Class03: 0.1998 Class04: 0.2027 Class05: 0.2028 Class06: 0.2043 \n",
      "Class07: 0.1984 Class08: 0.2037 Class09: 0.2055 Class10: 0.2036 Class11: 0.2045 Class12: 0.2057 \n",
      "Train seg Loss: 0.24750385851855727 Train dom Loss: 0.8237110086647084\n",
      "Train Loss: 0.24758622954613058\n",
      "Train mIoU: 0.29873748711965414\n"
     ]
    },
    {
     "name": "stderr",
     "output_type": "stream",
     "text": [
      "100%|██████████| 30/30 [00:09<00:00,  3.08it/s]\n"
     ]
    },
    {
     "name": "stdout",
     "output_type": "stream",
     "text": [
      "\n",
      "--IoU Scores Fish val--\n",
      "Class0: 0.2561 Class1: 0.2065 Class2: 0.2409 Class3: 0.2446 Class4: 0.2222 Class5: 0.2355 Class6: 0.2442 \n",
      "Class7: 0.2053 Class8: 0.2321 Class9: 0.2394 Class10: 0.2103 Class11: 0.2284 Class12: 0.2372 \n",
      "Epoch36\n",
      "Valid Seg Loss: 1.0793202638626098 Valid dom Loss: 28.19087505340576\n",
      "Valid Loss: 1.082139358917872\n",
      "Valid mIoU: 0.2309865376501423\n",
      "___________________________________________________________________________________________\n",
      "\n"
     ]
    },
    {
     "name": "stderr",
     "output_type": "stream",
     "text": [
      "Epoch: 37: 100%|██████████| 138/138 [04:58<00:00,  2.16s/it]\n"
     ]
    },
    {
     "name": "stdout",
     "output_type": "stream",
     "text": [
      "\n",
      "Label_0: IoU Scores Train\n",
      "Class00: 0.3143 Class01: 0.3963 Class02: 0.4336 Class03: 0.4576 Class04: 0.4706 Class05: 0.4734 Class06: 0.4862 \n",
      "Class07: 0.4727 Class08: 0.4890 Class09: 0.5054 Class10: 0.5027 Class11: 0.4969 Class12: 0.4894 \n",
      "Label_1: IoU Scores Train\n",
      "Class00: 0.2147 Class01: 0.2364 Class02: 0.2495 Class03: 0.2596 Class04: 0.2654 Class05: 0.2661 Class06: 0.2735 \n",
      "Class07: 0.2605 Class08: 0.2685 Class09: 0.2762 Class10: 0.2754 Class11: 0.2702 Class12: 0.2710 \n",
      "Label_2: IoU Scores Train\n",
      "Class00: 0.1831 Class01: 0.2006 Class02: 0.2110 Class03: 0.2177 Class04: 0.2228 Class05: 0.2236 Class06: 0.2291 \n",
      "Class07: 0.2183 Class08: 0.2246 Class09: 0.2304 Class10: 0.2288 Class11: 0.2254 Class12: 0.2250 \n",
      "Label_3: IoU Scores Train\n",
      "Class00: 0.1633 Class01: 0.1810 Class02: 0.1901 Class03: 0.1951 Class04: 0.1990 Class05: 0.2005 Class06: 0.2046 \n",
      "Class07: 0.1951 Class08: 0.2005 Class09: 0.2060 Class10: 0.2043 Class11: 0.2012 Class12: 0.2007 \n",
      "Train seg Loss: 0.30087267359097797 Train dom Loss: 1.5534641009387722\n",
      "Train Loss: 0.3010280199780844\n",
      "Train mIoU: 0.28378613142120274\n"
     ]
    },
    {
     "name": "stderr",
     "output_type": "stream",
     "text": [
      "100%|██████████| 30/30 [00:09<00:00,  3.05it/s]\n"
     ]
    },
    {
     "name": "stdout",
     "output_type": "stream",
     "text": [
      "\n",
      "--IoU Scores Fish val--\n",
      "Class0: 0.3414 Class1: 0.2615 Class2: 0.2977 Class3: 0.3466 Class4: 0.2787 Class5: 0.2864 Class6: 0.3429 \n",
      "Class7: 0.2688 Class8: 0.2822 Class9: 0.3182 Class10: 0.2885 Class11: 0.2945 Class12: 0.2969 \n",
      "Epoch37\n",
      "Valid Seg Loss: 0.7387380421161651 Valid dom Loss: 49.361193084716795\n",
      "Valid Loss: 0.7436741630236308\n",
      "Valid mIoU: 0.3003334114208887\n",
      "___________________________________________________________________________________________\n",
      "\n"
     ]
    },
    {
     "name": "stderr",
     "output_type": "stream",
     "text": [
      "Epoch: 38: 100%|██████████| 138/138 [04:59<00:00,  2.17s/it]\n"
     ]
    },
    {
     "name": "stdout",
     "output_type": "stream",
     "text": [
      "\n",
      "Label_0: IoU Scores Train\n",
      "Class00: 0.4958 Class01: 0.5150 Class02: 0.5002 Class03: 0.5057 Class04: 0.5021 Class05: 0.5150 Class06: 0.5179 \n",
      "Class07: 0.5086 Class08: 0.5241 Class09: 0.5124 Class10: 0.5173 Class11: 0.5243 Class12: 0.4993 \n",
      "Label_1: IoU Scores Train\n",
      "Class00: 0.2675 Class01: 0.2798 Class02: 0.2708 Class03: 0.2731 Class04: 0.2731 Class05: 0.2813 Class06: 0.2810 \n",
      "Class07: 0.2786 Class08: 0.2805 Class09: 0.2827 Class10: 0.2803 Class11: 0.2798 Class12: 0.2707 \n",
      "Label_2: IoU Scores Train\n",
      "Class00: 0.2220 Class01: 0.2320 Class02: 0.2258 Class03: 0.2273 Class04: 0.2281 Class05: 0.2353 Class06: 0.2340 \n",
      "Class07: 0.2323 Class08: 0.2330 Class09: 0.2368 Class10: 0.2332 Class11: 0.2317 Class12: 0.2263 \n",
      "Label_3: IoU Scores Train\n",
      "Class00: 0.1981 Class01: 0.2065 Class02: 0.2016 Class03: 0.2026 Class04: 0.2040 Class05: 0.2104 Class06: 0.2083 \n",
      "Class07: 0.2073 Class08: 0.2074 Class09: 0.2121 Class10: 0.2082 Class11: 0.2063 Class12: 0.2026 \n",
      "Train seg Loss: 0.23195032659324183 Train dom Loss: 0.37347076799234996\n",
      "Train Loss: 0.23198767343832963\n",
      "Train mIoU: 0.3059656412889921\n"
     ]
    },
    {
     "name": "stderr",
     "output_type": "stream",
     "text": [
      "100%|██████████| 30/30 [00:09<00:00,  3.02it/s]\n"
     ]
    },
    {
     "name": "stdout",
     "output_type": "stream",
     "text": [
      "\n",
      "--IoU Scores Fish val--\n",
      "Class0: 0.4147 Class1: 0.3411 Class2: 0.4025 Class3: 0.4108 Class4: 0.3551 Class5: 0.3888 Class6: 0.4167 \n",
      "Class7: 0.3484 Class8: 0.3894 Class9: 0.3964 Class10: 0.3711 Class11: 0.3722 Class12: 0.3975 \n",
      "Epoch38\n",
      "Valid Seg Loss: 0.30066378265619276 Valid dom Loss: 51.18474349975586\n",
      "Valid Loss: 0.30578225751717886\n",
      "Valid mIoU: 0.38497306126249387\n",
      "___________________________________________________________________________________________\n",
      "\n"
     ]
    },
    {
     "name": "stderr",
     "output_type": "stream",
     "text": [
      "Epoch: 39: 100%|██████████| 138/138 [04:57<00:00,  2.16s/it]\n"
     ]
    },
    {
     "name": "stdout",
     "output_type": "stream",
     "text": [
      "\n",
      "Label_0: IoU Scores Train\n",
      "Class00: 0.5202 Class01: 0.5232 Class02: 0.5241 Class03: 0.5207 Class04: 0.5217 Class05: 0.5422 Class06: 0.5325 \n",
      "Class07: 0.5324 Class08: 0.5181 Class09: 0.5357 Class10: 0.5328 Class11: 0.5118 Class12: 0.5241 \n",
      "Label_1: IoU Scores Train\n",
      "Class00: 0.2809 Class01: 0.2815 Class02: 0.2796 Class03: 0.2813 Class04: 0.2820 Class05: 0.2885 Class06: 0.2879 \n",
      "Class07: 0.2809 Class08: 0.2797 Class09: 0.2897 Class10: 0.2838 Class11: 0.2823 Class12: 0.2807 \n",
      "Label_2: IoU Scores Train\n",
      "Class00: 0.2325 Class01: 0.2342 Class02: 0.2325 Class03: 0.2341 Class04: 0.2362 Class05: 0.2379 Class06: 0.2400 \n",
      "Class07: 0.2315 Class08: 0.2322 Class09: 0.2411 Class10: 0.2347 Class11: 0.2358 Class12: 0.2326 \n",
      "Label_3: IoU Scores Train\n",
      "Class00: 0.2074 Class01: 0.2086 Class02: 0.2074 Class03: 0.2088 Class04: 0.2111 Class05: 0.2112 Class06: 0.2141 \n",
      "Class07: 0.2060 Class08: 0.2070 Class09: 0.2154 Class10: 0.2086 Class11: 0.2113 Class12: 0.2070 \n",
      "Train seg Loss: 0.2189347174666498 Train dom Loss: 0.3782206197721525\n",
      "Train Loss: 0.21897253950220952\n",
      "Train mIoU: 0.31341184133810573\n"
     ]
    },
    {
     "name": "stderr",
     "output_type": "stream",
     "text": [
      "100%|██████████| 30/30 [00:09<00:00,  3.10it/s]\n"
     ]
    },
    {
     "name": "stdout",
     "output_type": "stream",
     "text": [
      "\n",
      "--IoU Scores Fish val--\n",
      "Class0: 0.4256 Class1: 0.3404 Class2: 0.4023 Class3: 0.4303 Class4: 0.3629 Class5: 0.3914 Class6: 0.4334 \n",
      "Class7: 0.3591 Class8: 0.3884 Class9: 0.4004 Class10: 0.3867 Class11: 0.3771 Class12: 0.4014 \n",
      "Epoch39\n",
      "Valid Seg Loss: 0.29439522276322044 Valid dom Loss: 34.247764078776044\n",
      "Valid Loss: 0.29781999786694846\n",
      "Valid mIoU: 0.3922571690322343\n",
      "___________________________________________________________________________________________\n",
      "\n"
     ]
    },
    {
     "name": "stderr",
     "output_type": "stream",
     "text": [
      "Epoch: 40: 100%|██████████| 138/138 [04:58<00:00,  2.16s/it]\n"
     ]
    },
    {
     "name": "stdout",
     "output_type": "stream",
     "text": [
      "\n",
      "Label_0: IoU Scores Train\n",
      "Class00: 0.5298 Class01: 0.5439 Class02: 0.5367 Class03: 0.5408 Class04: 0.5422 Class05: 0.5382 Class06: 0.5483 \n",
      "Class07: 0.5181 Class08: 0.5400 Class09: 0.5428 Class10: 0.5401 Class11: 0.5362 Class12: 0.5310 \n",
      "Label_1: IoU Scores Train\n",
      "Class00: 0.2825 Class01: 0.2925 Class02: 0.2859 Class03: 0.2838 Class04: 0.2870 Class05: 0.2858 Class06: 0.2951 \n",
      "Class07: 0.2779 Class08: 0.2909 Class09: 0.2918 Class10: 0.2920 Class11: 0.2856 Class12: 0.2852 \n",
      "Label_2: IoU Scores Train\n",
      "Class00: 0.2346 Class01: 0.2430 Class02: 0.2366 Class03: 0.2337 Class04: 0.2375 Class05: 0.2373 Class06: 0.2446 \n",
      "Class07: 0.2316 Class08: 0.2419 Class09: 0.2425 Class10: 0.2413 Class11: 0.2364 Class12: 0.2381 \n",
      "Label_3: IoU Scores Train\n",
      "Class00: 0.2097 Class01: 0.2171 Class02: 0.2104 Class03: 0.2075 Class04: 0.2110 Class05: 0.2111 Class06: 0.2170 \n",
      "Class07: 0.2069 Class08: 0.2157 Class09: 0.2163 Class10: 0.2143 Class11: 0.2111 Class12: 0.2139 \n",
      "Train seg Loss: 0.21047095190463722 Train dom Loss: 0.5335819714969514\n",
      "Train Loss: 0.21052430983146894\n",
      "Train mIoU: 0.31893798111063754\n"
     ]
    },
    {
     "name": "stderr",
     "output_type": "stream",
     "text": [
      "100%|██████████| 30/30 [00:09<00:00,  3.03it/s]\n"
     ]
    },
    {
     "name": "stdout",
     "output_type": "stream",
     "text": [
      "\n",
      "--IoU Scores Fish val--\n",
      "Class0: 0.4392 Class1: 0.3600 Class2: 0.4165 Class3: 0.4335 Class4: 0.3706 Class5: 0.3945 Class6: 0.4272 \n",
      "Class7: 0.3665 Class8: 0.4115 Class9: 0.4039 Class10: 0.3914 Class11: 0.3763 Class12: 0.4061 \n",
      "Epoch40\n",
      "Valid Seg Loss: 0.26657633781433104 Valid dom Loss: 73.94372431437175\n",
      "Valid Loss: 0.27397070874770485\n",
      "Valid mIoU: 0.39977808967502576\n",
      "___________________________________________________________________________________________\n",
      "\n"
     ]
    },
    {
     "name": "stderr",
     "output_type": "stream",
     "text": [
      "Epoch: 41: 100%|██████████| 138/138 [04:59<00:00,  2.17s/it]\n"
     ]
    },
    {
     "name": "stdout",
     "output_type": "stream",
     "text": [
      "\n",
      "Label_0: IoU Scores Train\n",
      "Class00: 0.5287 Class01: 0.5463 Class02: 0.5379 Class03: 0.5460 Class04: 0.5497 Class05: 0.5566 Class06: 0.5516 \n",
      "Class07: 0.5355 Class08: 0.5407 Class09: 0.5590 Class10: 0.5663 Class11: 0.5594 Class12: 0.5435 \n",
      "Label_1: IoU Scores Train\n",
      "Class00: 0.2870 Class01: 0.2966 Class02: 0.2918 Class03: 0.2929 Class04: 0.2900 Class05: 0.2948 Class06: 0.2937 \n",
      "Class07: 0.2821 Class08: 0.2914 Class09: 0.2937 Class10: 0.2983 Class11: 0.2966 Class12: 0.2945 \n",
      "Label_2: IoU Scores Train\n",
      "Class00: 0.2390 Class01: 0.2447 Class02: 0.2418 Class03: 0.2442 Class04: 0.2393 Class05: 0.2441 Class06: 0.2421 \n",
      "Class07: 0.2346 Class08: 0.2430 Class09: 0.2424 Class10: 0.2465 Class11: 0.2453 Class12: 0.2435 \n",
      "Label_3: IoU Scores Train\n",
      "Class00: 0.2136 Class01: 0.2174 Class02: 0.2159 Class03: 0.2178 Class04: 0.2126 Class05: 0.2179 Class06: 0.2162 \n",
      "Class07: 0.2098 Class08: 0.2168 Class09: 0.2153 Class10: 0.2193 Class11: 0.2180 Class12: 0.2172 \n",
      "Train seg Loss: 0.20354928068168784 Train dom Loss: 1.8009261767644105\n",
      "Train Loss: 0.20372937325442184\n",
      "Train mIoU: 0.32467521799811006\n"
     ]
    },
    {
     "name": "stderr",
     "output_type": "stream",
     "text": [
      "100%|██████████| 30/30 [00:10<00:00,  3.00it/s]\n"
     ]
    },
    {
     "name": "stdout",
     "output_type": "stream",
     "text": [
      "\n",
      "--IoU Scores Fish val--\n",
      "Class0: 0.3912 Class1: 0.3419 Class2: 0.3693 Class3: 0.3896 Class4: 0.3378 Class5: 0.3608 Class6: 0.3946 \n",
      "Class7: 0.3383 Class8: 0.3647 Class9: 0.3651 Class10: 0.3617 Class11: 0.3510 Class12: 0.3771 \n",
      "Epoch41\n",
      "Valid Seg Loss: 0.40022201935450236 Valid dom Loss: 43.03616612752278\n",
      "Valid Loss: 0.40452563563982646\n",
      "Valid mIoU: 0.36484940578669206\n",
      "___________________________________________________________________________________________\n",
      "\n"
     ]
    },
    {
     "name": "stderr",
     "output_type": "stream",
     "text": [
      "Epoch: 42: 100%|██████████| 138/138 [04:58<00:00,  2.17s/it]\n"
     ]
    },
    {
     "name": "stdout",
     "output_type": "stream",
     "text": [
      "\n",
      "Label_0: IoU Scores Train\n",
      "Class00: 0.5228 Class01: 0.5577 Class02: 0.5664 Class03: 0.5753 Class04: 0.5646 Class05: 0.5551 Class06: 0.5618 \n",
      "Class07: 0.5444 Class08: 0.5546 Class09: 0.5714 Class10: 0.5717 Class11: 0.5833 Class12: 0.5411 \n",
      "Label_1: IoU Scores Train\n",
      "Class00: 0.2828 Class01: 0.3003 Class02: 0.2932 Class03: 0.3057 Class04: 0.2953 Class05: 0.2982 Class06: 0.2947 \n",
      "Class07: 0.2903 Class08: 0.2957 Class09: 0.2985 Class10: 0.3032 Class11: 0.3040 Class12: 0.2882 \n",
      "Label_2: IoU Scores Train\n",
      "Class00: 0.2358 Class01: 0.2478 Class02: 0.2420 Class03: 0.2530 Class04: 0.2456 Class05: 0.2461 Class06: 0.2439 \n",
      "Class07: 0.2400 Class08: 0.2437 Class09: 0.2483 Class10: 0.2506 Class11: 0.2506 Class12: 0.2389 \n",
      "Label_3: IoU Scores Train\n",
      "Class00: 0.2106 Class01: 0.2200 Class02: 0.2158 Class03: 0.2256 Class04: 0.2190 Class05: 0.2193 Class06: 0.2184 \n",
      "Class07: 0.2142 Class08: 0.2166 Class09: 0.2225 Class10: 0.2233 Class11: 0.2230 Class12: 0.2133 \n",
      "Train seg Loss: 0.19316432649350684 Train dom Loss: 0.27023476296759447\n",
      "Train Loss: 0.19319134969534218\n",
      "Train mIoU: 0.32977072002150076\n"
     ]
    },
    {
     "name": "stderr",
     "output_type": "stream",
     "text": [
      "100%|██████████| 30/30 [00:09<00:00,  3.05it/s]\n"
     ]
    },
    {
     "name": "stdout",
     "output_type": "stream",
     "text": [
      "\n",
      "--IoU Scores Fish val--\n",
      "Class0: 0.4051 Class1: 0.3423 Class2: 0.3981 Class3: 0.4042 Class4: 0.3520 Class5: 0.3787 Class6: 0.4152 \n",
      "Class7: 0.3537 Class8: 0.3854 Class9: 0.3913 Class10: 0.3775 Class11: 0.3625 Class12: 0.4021 \n",
      "Epoch42\n",
      "Valid Seg Loss: 0.28846956392129264 Valid dom Loss: 70.02075525919597\n",
      "Valid Loss: 0.2954716389377912\n",
      "Valid mIoU: 0.3821437680295209\n",
      "___________________________________________________________________________________________\n",
      "\n"
     ]
    },
    {
     "name": "stderr",
     "output_type": "stream",
     "text": [
      "Epoch: 43: 100%|██████████| 138/138 [04:59<00:00,  2.17s/it]\n"
     ]
    },
    {
     "name": "stdout",
     "output_type": "stream",
     "text": [
      "\n",
      "Label_0: IoU Scores Train\n",
      "Class00: 0.5556 Class01: 0.5542 Class02: 0.5502 Class03: 0.5607 Class04: 0.5609 Class05: 0.5684 Class06: 0.5535 \n",
      "Class07: 0.5597 Class08: 0.5801 Class09: 0.5948 Class10: 0.5611 Class11: 0.5588 Class12: 0.5628 \n",
      "Label_1: IoU Scores Train\n",
      "Class00: 0.2887 Class01: 0.3009 Class02: 0.2938 Class03: 0.2993 Class04: 0.2889 Class05: 0.3047 Class06: 0.2961 \n",
      "Class07: 0.2922 Class08: 0.3028 Class09: 0.3143 Class10: 0.2979 Class11: 0.2972 Class12: 0.2974 \n",
      "Label_2: IoU Scores Train\n",
      "Class00: 0.2387 Class01: 0.2505 Class02: 0.2434 Class03: 0.2497 Class04: 0.2409 Class05: 0.2535 Class06: 0.2453 \n",
      "Class07: 0.2408 Class08: 0.2505 Class09: 0.2600 Class10: 0.2469 Class11: 0.2469 Class12: 0.2455 \n",
      "Label_3: IoU Scores Train\n",
      "Class00: 0.2123 Class01: 0.2234 Class02: 0.2169 Class03: 0.2238 Class04: 0.2157 Class05: 0.2262 Class06: 0.2187 \n",
      "Class07: 0.2139 Class08: 0.2232 Class09: 0.2329 Class10: 0.2210 Class11: 0.2206 Class12: 0.2192 \n",
      "Train seg Loss: 0.1905239737201212 Train dom Loss: 1.78426912151427\n",
      "Train Loss: 0.19070240056169205\n",
      "Train mIoU: 0.33221782159449337\n"
     ]
    },
    {
     "name": "stderr",
     "output_type": "stream",
     "text": [
      "100%|██████████| 30/30 [00:09<00:00,  3.12it/s]\n"
     ]
    },
    {
     "name": "stdout",
     "output_type": "stream",
     "text": [
      "\n",
      "--IoU Scores Fish val--\n",
      "Class0: 0.4182 Class1: 0.3379 Class2: 0.3978 Class3: 0.4101 Class4: 0.3529 Class5: 0.3724 Class6: 0.4153 \n",
      "Class7: 0.3409 Class8: 0.3811 Class9: 0.3807 Class10: 0.3823 Class11: 0.3652 Class12: 0.3998 \n",
      "Epoch43\n",
      "Valid Seg Loss: 0.29510729561249416 Valid dom Loss: 81.1105224609375\n",
      "Valid Loss: 0.30321834832429884\n",
      "Valid mIoU: 0.38113078093858355\n",
      "___________________________________________________________________________________________\n",
      "\n"
     ]
    },
    {
     "name": "stderr",
     "output_type": "stream",
     "text": [
      "Epoch: 44: 100%|██████████| 138/138 [04:58<00:00,  2.17s/it]\n"
     ]
    },
    {
     "name": "stdout",
     "output_type": "stream",
     "text": [
      "\n",
      "Label_0: IoU Scores Train\n",
      "Class00: 0.3585 Class01: 0.4155 Class02: 0.4728 Class03: 0.5154 Class04: 0.5198 Class05: 0.5191 Class06: 0.5455 \n",
      "Class07: 0.5424 Class08: 0.5502 Class09: 0.5098 Class10: 0.4484 Class11: 0.5183 Class12: 0.5012 \n",
      "Label_1: IoU Scores Train\n",
      "Class00: 0.2324 Class01: 0.2449 Class02: 0.2631 Class03: 0.2798 Class04: 0.2814 Class05: 0.2874 Class06: 0.2892 \n",
      "Class07: 0.2844 Class08: 0.2928 Class09: 0.2803 Class10: 0.2623 Class11: 0.2854 Class12: 0.2805 \n",
      "Label_2: IoU Scores Train\n",
      "Class00: 0.1946 Class01: 0.2098 Class02: 0.2210 Class03: 0.2336 Class04: 0.2338 Class05: 0.2410 Class06: 0.2394 \n",
      "Class07: 0.2360 Class08: 0.2444 Class09: 0.2324 Class10: 0.2219 Class11: 0.2364 Class12: 0.2364 \n",
      "Label_3: IoU Scores Train\n",
      "Class00: 0.1718 Class01: 0.1901 Class02: 0.1992 Class03: 0.2084 Class04: 0.2089 Class05: 0.2148 Class06: 0.2131 \n",
      "Class07: 0.2100 Class08: 0.2178 Class09: 0.2045 Class10: 0.1996 Class11: 0.2102 Class12: 0.2124 \n",
      "Train seg Loss: 0.28741424537493265 Train dom Loss: 195.98145682327828\n",
      "Train Loss: 0.30701239220798016\n",
      "Train mIoU: 0.30043617705855796\n"
     ]
    },
    {
     "name": "stderr",
     "output_type": "stream",
     "text": [
      "100%|██████████| 30/30 [00:09<00:00,  3.11it/s]\n"
     ]
    },
    {
     "name": "stdout",
     "output_type": "stream",
     "text": [
      "\n",
      "--IoU Scores Fish val--\n",
      "Class0: 0.4319 Class1: 0.3437 Class2: 0.4023 Class3: 0.4297 Class4: 0.3629 Class5: 0.3880 Class6: 0.4313 \n",
      "Class7: 0.3553 Class8: 0.3904 Class9: 0.3947 Class10: 0.3744 Class11: 0.3778 Class12: 0.4071 \n",
      "Epoch44\n",
      "Valid Seg Loss: 0.279658945898215 Valid dom Loss: 101.30110651652018\n",
      "Valid Loss: 0.28978905578454334\n",
      "Valid mIoU: 0.39151165973926855\n",
      "___________________________________________________________________________________________\n",
      "\n"
     ]
    },
    {
     "name": "stderr",
     "output_type": "stream",
     "text": [
      "Epoch: 45: 100%|██████████| 138/138 [04:57<00:00,  2.16s/it]\n"
     ]
    },
    {
     "name": "stdout",
     "output_type": "stream",
     "text": [
      "\n",
      "Label_0: IoU Scores Train\n",
      "Class00: 0.5340 Class01: 0.5443 Class02: 0.5472 Class03: 0.4428 Class04: 0.3513 Class05: 0.4629 Class06: 0.5007 \n",
      "Class07: 0.5059 Class08: 0.5084 Class09: 0.5343 Class10: 0.5329 Class11: 0.5223 Class12: 0.5262 \n",
      "Label_1: IoU Scores Train\n",
      "Class00: 0.2883 Class01: 0.2935 Class02: 0.2939 Class03: 0.2522 Class04: 0.2208 Class05: 0.2641 Class06: 0.2812 \n",
      "Class07: 0.2766 Class08: 0.2832 Class09: 0.2903 Class10: 0.2862 Class11: 0.2857 Class12: 0.2901 \n",
      "Label_2: IoU Scores Train\n",
      "Class00: 0.2389 Class01: 0.2425 Class02: 0.2431 Class03: 0.2111 Class04: 0.1921 Class05: 0.2217 Class06: 0.2347 \n",
      "Class07: 0.2291 Class08: 0.2352 Class09: 0.2381 Class10: 0.2359 Class11: 0.2377 Class12: 0.2405 \n",
      "Label_3: IoU Scores Train\n",
      "Class00: 0.2130 Class01: 0.2148 Class02: 0.2161 Class03: 0.1881 Class04: 0.1756 Class05: 0.1984 Class06: 0.2094 \n",
      "Class07: 0.2032 Class08: 0.2096 Class09: 0.2112 Class10: 0.2088 Class11: 0.2113 Class12: 0.2130 \n",
      "Train seg Loss: 0.2495128225427175 Train dom Loss: 490.67122283168294\n",
      "Train Loss: 0.2985799441896919\n",
      "Train mIoU: 0.30370241092451294\n"
     ]
    },
    {
     "name": "stderr",
     "output_type": "stream",
     "text": [
      "100%|██████████| 30/30 [00:09<00:00,  3.02it/s]\n"
     ]
    },
    {
     "name": "stdout",
     "output_type": "stream",
     "text": [
      "\n",
      "--IoU Scores Fish val--\n",
      "Class0: 0.3702 Class1: 0.3056 Class2: 0.3509 Class3: 0.3690 Class4: 0.3172 Class5: 0.3357 Class6: 0.3728 \n",
      "Class7: 0.3143 Class8: 0.3306 Class9: 0.3508 Class10: 0.3332 Class11: 0.3397 Class12: 0.3394 \n",
      "Epoch45\n",
      "Valid Seg Loss: 0.466439946492513 Valid dom Loss: 326.9642384847005\n",
      "Valid Loss: 0.4991363674402237\n",
      "Valid mIoU: 0.3407119073902333\n",
      "___________________________________________________________________________________________\n",
      "\n"
     ]
    },
    {
     "name": "stderr",
     "output_type": "stream",
     "text": [
      "Epoch: 46: 100%|██████████| 138/138 [04:58<00:00,  2.16s/it]\n"
     ]
    },
    {
     "name": "stdout",
     "output_type": "stream",
     "text": [
      "\n",
      "Label_0: IoU Scores Train\n",
      "Class00: 0.5316 Class01: 0.4389 Class02: 0.4681 Class03: 0.5105 Class04: 0.5308 Class05: 0.5283 Class06: 0.5513 \n",
      "Class07: 0.5473 Class08: 0.5494 Class09: 0.5518 Class10: 0.5483 Class11: 0.5596 Class12: 0.5388 \n",
      "Label_1: IoU Scores Train\n",
      "Class00: 0.2852 Class01: 0.2549 Class02: 0.2664 Class03: 0.2832 Class04: 0.2900 Class05: 0.2848 Class06: 0.2907 \n",
      "Class07: 0.2873 Class08: 0.2964 Class09: 0.2958 Class10: 0.2965 Class11: 0.3003 Class12: 0.2882 \n",
      "Label_2: IoU Scores Train\n",
      "Class00: 0.2352 Class01: 0.2144 Class02: 0.2222 Class03: 0.2365 Class04: 0.2409 Class05: 0.2346 Class06: 0.2395 \n",
      "Class07: 0.2360 Class08: 0.2448 Class09: 0.2448 Class10: 0.2469 Class11: 0.2486 Class12: 0.2370 \n",
      "Label_3: IoU Scores Train\n",
      "Class00: 0.2101 Class01: 0.1907 Class02: 0.1980 Class03: 0.2101 Class04: 0.2140 Class05: 0.2074 Class06: 0.2126 \n",
      "Class07: 0.2084 Class08: 0.2171 Class09: 0.2173 Class10: 0.2205 Class11: 0.2205 Class12: 0.2108 \n",
      "Train seg Loss: 0.22397488039796767 Train dom Loss: 75.95331987909354\n",
      "Train Loss: 0.23157021195452282\n",
      "Train mIoU: 0.3152485462037817\n"
     ]
    },
    {
     "name": "stderr",
     "output_type": "stream",
     "text": [
      "100%|██████████| 30/30 [00:09<00:00,  3.08it/s]\n"
     ]
    },
    {
     "name": "stdout",
     "output_type": "stream",
     "text": [
      "\n",
      "--IoU Scores Fish val--\n",
      "Class0: 0.4305 Class1: 0.3491 Class2: 0.3984 Class3: 0.4300 Class4: 0.3642 Class5: 0.3923 Class6: 0.4290 \n",
      "Class7: 0.3580 Class8: 0.3926 Class9: 0.4049 Class10: 0.3894 Class11: 0.3846 Class12: 0.4040 \n",
      "Epoch46\n",
      "Valid Seg Loss: 0.3007018471757571 Valid dom Loss: 0.3538056813076631\n",
      "Valid Loss: 0.30073722849289575\n",
      "Valid mIoU: 0.39437906001574324\n",
      "___________________________________________________________________________________________\n",
      "\n"
     ]
    },
    {
     "name": "stderr",
     "output_type": "stream",
     "text": [
      "Epoch: 47: 100%|██████████| 138/138 [04:57<00:00,  2.16s/it]\n"
     ]
    },
    {
     "name": "stdout",
     "output_type": "stream",
     "text": [
      "\n",
      "Label_0: IoU Scores Train\n",
      "Class00: 0.5513 Class01: 0.5609 Class02: 0.5524 Class03: 0.5614 Class04: 0.5583 Class05: 0.5633 Class06: 0.5688 \n",
      "Class07: 0.5544 Class08: 0.5891 Class09: 0.5795 Class10: 0.5841 Class11: 0.5689 Class12: 0.5427 \n",
      "Label_1: IoU Scores Train\n",
      "Class00: 0.2966 Class01: 0.2954 Class02: 0.2951 Class03: 0.2924 Class04: 0.2953 Class05: 0.3003 Class06: 0.3032 \n",
      "Class07: 0.2897 Class08: 0.3041 Class09: 0.3007 Class10: 0.3049 Class11: 0.3020 Class12: 0.2920 \n",
      "Label_2: IoU Scores Train\n",
      "Class00: 0.2447 Class01: 0.2438 Class02: 0.2425 Class03: 0.2402 Class04: 0.2435 Class05: 0.2477 Class06: 0.2503 \n",
      "Class07: 0.2386 Class08: 0.2493 Class09: 0.2484 Class10: 0.2511 Class11: 0.2494 Class12: 0.2412 \n",
      "Label_3: IoU Scores Train\n",
      "Class00: 0.2165 Class01: 0.2159 Class02: 0.2148 Class03: 0.2133 Class04: 0.2163 Class05: 0.2199 Class06: 0.2224 \n",
      "Class07: 0.2117 Class08: 0.2205 Class09: 0.2209 Class10: 0.2239 Class11: 0.2218 Class12: 0.2138 \n",
      "Train seg Loss: 0.19120096061648667 Train dom Loss: 22.34404084041836\n",
      "Train Loss: 0.1934353645782972\n",
      "Train mIoU: 0.33133378785552525\n"
     ]
    },
    {
     "name": "stderr",
     "output_type": "stream",
     "text": [
      "100%|██████████| 30/30 [00:09<00:00,  3.08it/s]\n"
     ]
    },
    {
     "name": "stdout",
     "output_type": "stream",
     "text": [
      "\n",
      "--IoU Scores Fish val--\n",
      "Class0: 0.4142 Class1: 0.3325 Class2: 0.3856 Class3: 0.4162 Class4: 0.3497 Class5: 0.3744 Class6: 0.4178 \n",
      "Class7: 0.3436 Class8: 0.3784 Class9: 0.3780 Class10: 0.3665 Class11: 0.3648 Class12: 0.3887 \n",
      "Epoch47\n",
      "Valid Seg Loss: 0.35020925601323444 Valid dom Loss: 342.3775248209635\n",
      "Valid Loss: 0.38444700787464775\n",
      "Valid mIoU: 0.3777264123510102\n",
      "___________________________________________________________________________________________\n",
      "\n"
     ]
    },
    {
     "name": "stderr",
     "output_type": "stream",
     "text": [
      "Epoch: 48: 100%|██████████| 138/138 [04:59<00:00,  2.17s/it]\n"
     ]
    },
    {
     "name": "stdout",
     "output_type": "stream",
     "text": [
      "\n",
      "Label_0: IoU Scores Train\n",
      "Class00: 0.2218 Class01: 0.1417 Class02: 0.1840 Class03: 0.1841 Class04: 0.2183 Class05: 0.2504 Class06: 0.2908 \n",
      "Class07: 0.2885 Class08: 0.2956 Class09: 0.3091 Class10: 0.3072 Class11: 0.3116 Class12: 0.3089 \n",
      "Label_1: IoU Scores Train\n",
      "Class00: 0.1377 Class01: 0.1016 Class02: 0.1193 Class03: 0.1181 Class04: 0.1375 Class05: 0.1574 Class06: 0.1744 \n",
      "Class07: 0.1746 Class08: 0.1784 Class09: 0.1872 Class10: 0.1858 Class11: 0.1879 Class12: 0.1874 \n",
      "Label_2: IoU Scores Train\n",
      "Class00: 0.1180 Class01: 0.0920 Class02: 0.1059 Class03: 0.1052 Class04: 0.1190 Class05: 0.1368 Class06: 0.1520 \n",
      "Class07: 0.1520 Class08: 0.1549 Class09: 0.1615 Class10: 0.1594 Class11: 0.1614 Class12: 0.1613 \n",
      "Label_3: IoU Scores Train\n",
      "Class00: 0.1032 Class01: 0.0832 Class02: 0.0966 Class03: 0.0963 Class04: 0.1083 Class05: 0.1249 Class06: 0.1396 \n",
      "Class07: 0.1395 Class08: 0.1421 Class09: 0.1473 Class10: 0.1444 Class11: 0.1464 Class12: 0.1464 \n",
      "Train seg Loss: 1.10370792856143 Train dom Loss: 13738.513705796953\n",
      "Train Loss: 2.477559263102602\n",
      "Train mIoU: 0.16840315078750537\n"
     ]
    },
    {
     "name": "stderr",
     "output_type": "stream",
     "text": [
      "100%|██████████| 30/30 [00:09<00:00,  3.07it/s]\n"
     ]
    },
    {
     "name": "stdout",
     "output_type": "stream",
     "text": [
      "\n",
      "--IoU Scores Fish val--\n",
      "Class0: 0.3455 Class1: 0.2791 Class2: 0.3356 Class3: 0.3566 Class4: 0.2999 Class5: 0.3368 Class6: 0.3703 \n",
      "Class7: 0.2781 Class8: 0.3252 Class9: 0.3268 Class10: 0.3080 Class11: 0.3091 Class12: 0.3336 \n",
      "Epoch48\n",
      "Valid Seg Loss: 0.3695753425359726 Valid dom Loss: 1167.675575764974\n",
      "Valid Loss: 0.48634289304415385\n",
      "Valid mIoU: 0.32343904030115866\n",
      "___________________________________________________________________________________________\n",
      "\n"
     ]
    },
    {
     "name": "stderr",
     "output_type": "stream",
     "text": [
      "Epoch: 49: 100%|██████████| 138/138 [04:58<00:00,  2.16s/it]\n"
     ]
    },
    {
     "name": "stdout",
     "output_type": "stream",
     "text": [
      "\n",
      "Label_0: IoU Scores Train\n",
      "Class00: 0.3205 Class01: 0.3356 Class02: 0.3416 Class03: 0.3411 Class04: 0.3520 Class05: 0.3501 Class06: 0.3672 \n",
      "Class07: 0.3618 Class08: 0.3589 Class09: 0.3741 Class10: 0.3705 Class11: 0.3790 Class12: 0.2751 \n",
      "Label_1: IoU Scores Train\n",
      "Class00: 0.1896 Class01: 0.1965 Class02: 0.1997 Class03: 0.2013 Class04: 0.2023 Class05: 0.2051 Class06: 0.2082 \n",
      "Class07: 0.2090 Class08: 0.2061 Class09: 0.2125 Class10: 0.2130 Class11: 0.2219 Class12: 0.1830 \n",
      "Label_2: IoU Scores Train\n",
      "Class00: 0.1625 Class01: 0.1677 Class02: 0.1703 Class03: 0.1718 Class04: 0.1724 Class05: 0.1754 Class06: 0.1777 \n",
      "Class07: 0.1777 Class08: 0.1756 Class09: 0.1816 Class10: 0.1824 Class11: 0.1873 Class12: 0.1553 \n",
      "Label_3: IoU Scores Train\n",
      "Class00: 0.1475 Class01: 0.1520 Class02: 0.1541 Class03: 0.1548 Class04: 0.1561 Class05: 0.1584 Class06: 0.1607 \n",
      "Class07: 0.1609 Class08: 0.1591 Class09: 0.1640 Class10: 0.1665 Class11: 0.1671 Class12: 0.1414 \n",
      "Train seg Loss: 0.4707983797551065 Train dom Loss: 976.5620770393938\n",
      "Train Loss: 0.5684545851056126\n",
      "Train mIoU: 0.2206924572617231\n"
     ]
    },
    {
     "name": "stderr",
     "output_type": "stream",
     "text": [
      "100%|██████████| 30/30 [00:09<00:00,  3.02it/s]\n"
     ]
    },
    {
     "name": "stdout",
     "output_type": "stream",
     "text": [
      "\n",
      "--IoU Scores Fish val--\n",
      "Class0: 0.3266 Class1: 0.2589 Class2: 0.3149 Class3: 0.3299 Class4: 0.2776 Class5: 0.3123 Class6: 0.3438 \n",
      "Class7: 0.2599 Class8: 0.2993 Class9: 0.3022 Class10: 0.2831 Class11: 0.2879 Class12: 0.3103 \n",
      "Epoch49\n",
      "Valid Seg Loss: 0.42407487134138744 Valid dom Loss: 19258.680240885416\n",
      "Valid Loss: 2.3499428431193032\n",
      "Valid mIoU: 0.3005150053470636\n",
      "___________________________________________________________________________________________\n",
      "\n"
     ]
    },
    {
     "name": "stderr",
     "output_type": "stream",
     "text": [
      "Epoch: 50: 100%|██████████| 138/138 [04:57<00:00,  2.16s/it]\n"
     ]
    },
    {
     "name": "stdout",
     "output_type": "stream",
     "text": [
      "\n",
      "Label_0: IoU Scores Train\n",
      "Class00: 0.2817 Class01: 0.3016 Class02: 0.3314 Class03: 0.3531 Class04: 0.3748 Class05: 0.3657 Class06: 0.3824 \n",
      "Class07: 0.3788 Class08: 0.3914 Class09: 0.3940 Class10: 0.3968 Class11: 0.3889 Class12: 0.3909 \n",
      "Label_1: IoU Scores Train\n",
      "Class00: 0.1762 Class01: 0.1920 Class02: 0.1991 Class03: 0.2062 Class04: 0.2176 Class05: 0.2117 Class06: 0.2172 \n",
      "Class07: 0.2164 Class08: 0.2255 Class09: 0.2228 Class10: 0.2278 Class11: 0.2236 Class12: 0.2210 \n",
      "Label_2: IoU Scores Train\n",
      "Class00: 0.1520 Class01: 0.1639 Class02: 0.1681 Class03: 0.1744 Class04: 0.1839 Class05: 0.1800 Class06: 0.1842 \n",
      "Class07: 0.1829 Class08: 0.1915 Class09: 0.1886 Class10: 0.1932 Class11: 0.1894 Class12: 0.1860 \n",
      "Label_3: IoU Scores Train\n",
      "Class00: 0.1361 Class01: 0.1491 Class02: 0.1513 Class03: 0.1572 Class04: 0.1658 Class05: 0.1626 Class06: 0.1666 \n",
      "Class07: 0.1650 Class08: 0.1738 Class09: 0.1702 Class10: 0.1741 Class11: 0.1712 Class12: 0.1677 \n",
      "Train seg Loss: 0.4343562608287818 Train dom Loss: 544.8755351924\n",
      "Train Loss: 0.4888438126747159\n",
      "Train mIoU: 0.22957147898082758\n"
     ]
    },
    {
     "name": "stderr",
     "output_type": "stream",
     "text": [
      "100%|██████████| 30/30 [00:09<00:00,  3.07it/s]"
     ]
    },
    {
     "name": "stdout",
     "output_type": "stream",
     "text": [
      "\n",
      "--IoU Scores Fish val--\n",
      "Class0: 0.3857 Class1: 0.3080 Class2: 0.3736 Class3: 0.4022 Class4: 0.3333 Class5: 0.3640 Class6: 0.4046 \n",
      "Class7: 0.3143 Class8: 0.3580 Class9: 0.3591 Class10: 0.3466 Class11: 0.3367 Class12: 0.3707 \n",
      "Epoch50\n",
      "Valid Seg Loss: 0.3160661106308301 Valid dom Loss: 611.8868916829427\n",
      "Valid Loss: 0.37725479900836945\n",
      "Valid mIoU: 0.3582324483232593\n",
      "___________________________________________________________________________________________\n",
      "\n",
      "Hyperparamerters\n",
      "LR = 0.001 | EP = 50, BATCH_SIZE = 16, N_CLASSES = 13, init_alpha = 0.0001, N_LABELS = 4\n"
     ]
    },
    {
     "name": "stderr",
     "output_type": "stream",
     "text": [
      "\n"
     ]
    },
    {
     "data": {
      "text/html": [
       "Waiting for W&B process to finish... <strong style=\"color:green\">(success).</strong>"
      ],
      "text/plain": [
       "<IPython.core.display.HTML object>"
      ]
     },
     "metadata": {},
     "output_type": "display_data"
    },
    {
     "name": "stderr",
     "output_type": "stream",
     "text": [
      "wandb: WARNING Source type is set to 'repo' but some required information is missing from the environment. A job will not be created from this run. See https://docs.wandb.ai/guides/launch/create-job\n"
     ]
    },
    {
     "data": {
      "text/html": [
       "<style>\n",
       "    table.wandb td:nth-child(1) { padding: 0 10px; text-align: left ; width: auto;} td:nth-child(2) {text-align: left ; width: 100%}\n",
       "    .wandb-row { display: flex; flex-direction: row; flex-wrap: wrap; justify-content: flex-start; width: 100% }\n",
       "    .wandb-col { display: flex; flex-direction: column; flex-basis: 100%; flex: 1; padding: 10px; }\n",
       "    </style>\n",
       "<div class=\"wandb-row\"><div class=\"wandb-col\"><h3>Run history:</h3><br/><table class=\"wandb\"><tr><td>train loss</td><td>▁▁▁▁▁▁▁▁█▂▂▂▁▁▁▁▁▁▁▁▁▁▁▁▁▁▁▁▁▁▁▁▁▁▁▁▁▁▁▁</td></tr><tr><td>train score</td><td>▅▆▇▇▇███▃▁▂▁▂▂▃▃▄▅▅▅▅▆▆▆▆▆▆▇▇▇▇▇███▇▇█▄▅</td></tr><tr><td>val loss</td><td>▁▁▁▁▁▁▁▁██▇▇▅▃▂▂▁▁▁▁▁▁▁▁▁▁▁▁▂▁▁▁▁▁▁▁▁▁▁▁</td></tr><tr><td>val score</td><td>▅▅▇▇█▇██▁▁▃▃▃▃▄▅▅▆▆▆▆▇▅▇▇▇▇▇▄▆██▇████▇▆▇</td></tr></table><br/></div><div class=\"wandb-col\"><h3>Run summary:</h3><br/><table class=\"wandb\"><tr><td>train loss</td><td>0.48884</td></tr><tr><td>train score</td><td>0.22957</td></tr><tr><td>val loss</td><td>0.37725</td></tr><tr><td>val score</td><td>0.35823</td></tr></table><br/></div></div>"
      ],
      "text/plain": [
       "<IPython.core.display.HTML object>"
      ]
     },
     "metadata": {},
     "output_type": "display_data"
    },
    {
     "data": {
      "text/html": [
       " View run <strong style=\"color:#cdcd00\">autumn-voice-5</strong> at: <a href='https://wandb.ai/limbw/practice_11_07_4d_res34/runs/eb1x28bl' target=\"_blank\">https://wandb.ai/limbw/practice_11_07_4d_res34/runs/eb1x28bl</a><br/>Synced 6 W&B file(s), 0 media file(s), 0 artifact file(s) and 0 other file(s)"
      ],
      "text/plain": [
       "<IPython.core.display.HTML object>"
      ]
     },
     "metadata": {},
     "output_type": "display_data"
    },
    {
     "data": {
      "text/html": [
       "Find logs at: <code>./wandb/run-20231107_180920-eb1x28bl/logs</code>"
      ],
      "text/plain": [
       "<IPython.core.display.HTML object>"
      ]
     },
     "metadata": {},
     "output_type": "display_data"
    }
   ],
   "source": [
    "import random\n",
    "#torch.cuda.empty_cache()\n",
    "import wandb\n",
    "\n",
    "\n",
    "wandb.init(\n",
    "    # set the wandb project where this run will be logged\n",
    "    project=\"practice_11_07_4d_res34\",\n",
    "    \n",
    "    # track hyperparameters and run metadata\n",
    "    config={\n",
    "    \"learning_rate\": LR,\n",
    "    \"architecture\": \"CNN\",\n",
    "    \"dataset\": \"Samsung\",\n",
    "    \"epochs\": EP,\n",
    "    }\n",
    ")\n",
    "\n",
    "for epoch in range(EP):\n",
    "    model.train()\n",
    "    epoch_loss = 0\n",
    "    seg_losses = 0\n",
    "    domain_losses = 0\n",
    "    if epoch < 10:  # 전체 EP 40%\n",
    "        alpha = 0.0001\n",
    "    elif epoch <25: # 전체 EP 30%\n",
    "        alpha = 0.001\n",
    "    else:          # 전체 EP 30%\n",
    "        alpha = 0.0001\n",
    "    train_class_ious = [[],[],[],[]]\n",
    "    for source_images, source_masks in tqdm(source_dataloader,desc=f\"Epoch: {epoch+1}\"):\n",
    "        for label in range(N_LABELS): \n",
    "            source_image, source_mask = apply_fisheye_distortion(source_images, source_masks, label)\n",
    "            source_image = source_image.float().to(device)\n",
    "            source_mask = source_mask.long().to(device)\n",
    "            source_outputs = model(source_image)\n",
    "            \n",
    "            optimizer.zero_grad()\n",
    "            target_loss, seg_loss, domain_loss = loss_fn(source_outputs, source_mask, label, alpha = alpha)\n",
    "            epoch_loss += target_loss.item()\n",
    "            seg_losses +=  seg_loss.item()\n",
    "            domain_losses += domain_loss.item()\n",
    "            target_loss.backward()\n",
    "            optimizer.step()\n",
    "            # miou측정\n",
    "            source_outputs = torch.softmax(source_outputs[0], dim=1).cpu()\n",
    "            source_outputs = torch.argmax(source_outputs, dim=1).numpy()\n",
    "            for class_id in range(N_CLASSES):\n",
    "                iou = calculate_iou_per_class(np.array(source_masks.cpu()), np.array(source_outputs), class_id)\n",
    "                train_class_ious[label].append(iou)\n",
    "    \n",
    "    for i in range(N_LABELS):\n",
    "        buff = np.array(train_class_ious[i]).reshape(N_CLASSES, -1)\n",
    "        buff =np.mean(buff, axis=1)\n",
    "        print(f\"\\nLabel_{i}: IoU Scores Train\") \n",
    "        for class_id, iou in enumerate(buff):\n",
    "            print(f'Class{class_id:02d}: {iou:.4f}', end=\" \")\n",
    "            if (class_id+1) % 7 == 0:\n",
    "                print()   \n",
    "    print()    \n",
    "    print(f\"Train seg Loss: {(seg_losses/(N_LABELS*len(source_dataloader)))}\", f\"Train dom Loss: {(domain_losses/(N_LABELS*len(source_dataloader)))}\")\n",
    "    print(f\"Train Loss: {(epoch_loss/(N_LABELS*len(source_dataloader)))}\")\n",
    "    print(f\"Train mIoU: {np.mean(train_class_ious)}\" )\n",
    "    ################################################################\n",
    "    # 클래스별 IoU를 누적할 리스트 초기화\n",
    "    val_class_ious = []\n",
    "    fish_val_class_ious = []\n",
    "    val_epoch_loss = 0\n",
    "    val_seg_loss = 0\n",
    "    val_domain_loss = 0\n",
    "    # valid\n",
    "    with torch.no_grad():\n",
    "        model.eval()\n",
    "\n",
    "        for target_images, target_masks in tqdm(val_target_dataloader):\n",
    "            label = 2.5\n",
    "            target_images, target_masks = apply_fisheye_distortion(target_images, target_masks, label)\n",
    "            target_images = target_images.float().to(device)\n",
    "            target_masks = target_masks.long().to(device)\n",
    "\n",
    "            target_outputs = model(target_images)\n",
    "\n",
    "            target_loss, target_seg_loss, target_domain_loss = loss_fn(target_outputs, target_masks, 0, alpha = alpha)\n",
    "\n",
    "            val_seg_loss +=  target_seg_loss.item()\n",
    "            val_domain_loss += target_domain_loss.item()\n",
    "            \n",
    "            loss = target_loss\n",
    "\n",
    "            val_epoch_loss += loss.item()\n",
    "\n",
    "            # train 클래스별 IoU 계산\n",
    "            target_outputs = torch.softmax(target_outputs[0], dim=1).cpu()\n",
    "            target_outputs = torch.argmax(target_outputs, dim=1).numpy()\n",
    "\n",
    "            for class_id in range(N_CLASSES):\n",
    "                iou = calculate_iou_per_class(np.array(target_masks.cpu()), np.array(target_outputs), class_id)\n",
    "                fish_val_class_ious.append(iou)\n",
    "\n",
    "    fish_val_class_ious = np.array(fish_val_class_ious).reshape(N_CLASSES, -1)\n",
    "    fish_val_class_ious = np.mean(fish_val_class_ious, axis=1)\n",
    "    print()\n",
    "    print(\"--IoU Scores Fish val--\")\n",
    "    for class_id, iou in enumerate(fish_val_class_ious):\n",
    "        print(f'Class{class_id}: {iou:.4f}', end=\" \")\n",
    "        if (class_id+1) % 7 == 0:\n",
    "            print()\n",
    "\n",
    "    # mIoU 계산\n",
    "    fish_val_mIoU = np.mean(fish_val_class_ious)\n",
    "\n",
    "    # 에폭마다 결과 출력 \n",
    "    print(f\"\\nEpoch{epoch+1}\")\n",
    "    print(f\"Valid Seg Loss: {(val_seg_loss/len(val_target_dataloader))}\",f\"Valid dom Loss: {(val_domain_loss/len(val_target_dataloader))}\")\n",
    "    print(f\"Valid Loss: {(val_epoch_loss/len(val_target_dataloader))}\")\n",
    "    print(f\"Valid mIoU: {fish_val_mIoU}\" )\n",
    "    print(\"___________________________________________________________________________________________\\n\")\n",
    "\n",
    "\n",
    "    # log metrics to wandb\n",
    "    wandb.log({\"train score\": np.mean(train_class_ious)})\n",
    "    wandb.log({\"val score\": fish_val_mIoU})\n",
    "    wandb.log({\"train loss\": (epoch_loss/(N_LABELS*len(source_dataloader)))})\n",
    "    wandb.log({\"val loss\": (val_epoch_loss/len(val_target_dataloader))})\n",
    "    \n",
    "    \n",
    "# [optional] finish the wandb run, necessary in notebooks\n",
    "print(\"Hyperparamerters\")\n",
    "print(f\"LR = {LR} | EP = {EP}, BATCH_SIZE = {BATCH_SIZE}, N_CLASSES = {N_CLASSES}, init_alpha = {ALPHA}, N_LABELS = {N_LABELS}\")\n",
    "wandb.finish()\n"
   ]
  },
  {
   "cell_type": "code",
   "execution_count": 18,
   "metadata": {},
   "outputs": [],
   "source": [
    "torch.save(model.state_dict(), './data/resnet34_1107_d003_50ep.pth')"
   ]
  }
 ],
 "metadata": {
  "kernelspec": {
   "display_name": "byungwan_resn",
   "language": "python",
   "name": "python3"
  },
  "language_info": {
   "codemirror_mode": {
    "name": "ipython",
    "version": 3
   },
   "file_extension": ".py",
   "mimetype": "text/x-python",
   "name": "python",
   "nbconvert_exporter": "python",
   "pygments_lexer": "ipython3",
   "version": "3.8.17"
  }
 },
 "nbformat": 4,
 "nbformat_minor": 2
}
