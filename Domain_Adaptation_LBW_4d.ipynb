{
 "cells": [
  {
   "cell_type": "code",
   "execution_count": null,
   "metadata": {},
   "outputs": [
    {
     "name": "stderr",
     "output_type": "stream",
     "text": [
      "/home/MMI24limbyungwan/.conda/envs/byungwan_resn/lib/python3.8/site-packages/tqdm/auto.py:21: TqdmWarning: IProgress not found. Please update jupyter and ipywidgets. See https://ipywidgets.readthedocs.io/en/stable/user_install.html\n",
      "  from .autonotebook import tqdm as notebook_tqdm\n"
     ]
    }
   ],
   "source": [
    "import os\n",
    "import cv2\n",
    "from PIL import Image\n",
    "import pandas as pd\n",
    "import numpy as np\n",
    "\n",
    "import torch\n",
    "import torch.nn as nn\n",
    "import torch.nn.functional as F\n",
    "from torch.utils.data import Dataset, DataLoader\n",
    "from torchvision import transforms\n",
    "#from torch.optim.lr_scheduler import _LRScheduler\n",
    "\n",
    "from tqdm import tqdm\n",
    "import albumentations as A\n",
    "from albumentations.pytorch import ToTensorV2\n",
    "\n",
    "from torchvision import models\n",
    "from torchsummary import summary\n",
    "import torch.nn.functional as F\n"
   ]
  },
  {
   "cell_type": "code",
   "execution_count": null,
   "metadata": {},
   "outputs": [
    {
     "name": "stdout",
     "output_type": "stream",
     "text": [
      "cuda\n",
      "3\n"
     ]
    }
   ],
   "source": [
    "\n",
    "# GPU 사용이 가능할 경우, GPU를 사용할 수 있게 함.'\n",
    "os.environ['CUDA_VISIBLE_DEVICES'] = '3'\n",
    "device = \"cuda\" if torch.cuda.is_available() else \"cpu\"\n",
    "device = torch.device(device)\n",
    "print(device)\n",
    "\n",
    "print(os.environ.get('CUDA_VISIBLE_DEVICES'))"
   ]
  },
  {
   "cell_type": "code",
   "execution_count": null,
   "metadata": {},
   "outputs": [],
   "source": [
    "# RLE 인코딩 함수\n",
    "def rle_encode(mask):\n",
    "    pixels = mask.flatten()\n",
    "    pixels = np.concatenate([[0], pixels, [0]])\n",
    "    runs = np.where(pixels[1:] != pixels[:-1])[0] + 1\n",
    "    runs[1::2] -= runs[::2]\n",
    "    return ' '.join(str(x) for x in runs)\n",
    "\n",
    "# 클래스별 IoU를 계산하기 위한 함수\n",
    "def calculate_iou_per_class(y_true, y_pred, class_id):\n",
    "    intersection = np.sum((y_true == class_id) & (y_pred == class_id))\n",
    "    union = np.sum((y_true == class_id) | (y_pred == class_id))\n",
    "    iou = intersection / union if union > 0 else 0\n",
    "    return iou"
   ]
  },
  {
   "cell_type": "code",
   "execution_count": null,
   "metadata": {},
   "outputs": [],
   "source": [
    "import numpy as np\n",
    "import cv2\n",
    "import torch\n",
    "\n",
    "def apply_fisheye_distortion(images, masks, label):\n",
    "    # 이미지 크기 가져오기\n",
    "    batch, channel, height, width = images.shape\n",
    "\n",
    "    # 카메라 매트릭스 생성\n",
    "    focal_length = width / 4\n",
    "    center_x = width / 2\n",
    "    center_y = height / 2\n",
    "    camera_matrix = np.array([[focal_length, 0, center_x],\n",
    "                              [0, focal_length, center_y],\n",
    "                              [0, 0, 1]], dtype=np.float32)\n",
    "\n",
    "    # 왜곡 계수 생성\n",
    "    # dist_num = 0\n",
    "    # if label == 1:\n",
    "    #     dist_num = random.randint(1,3)\n",
    "    # elif label == 2.5:\n",
    "    #     dist_num = 2.5\n",
    "    dist_num = label+1\n",
    "    dist_coeffs = np.array([0, 0.03 * dist_num, 0, 0], dtype=np.float32)\n",
    "\n",
    "    # 왜곡 보정\n",
    "    undistorted_images = []\n",
    "    undistorted_masks = []\n",
    "\n",
    "    for i in range(batch):\n",
    "        image = images[i].permute(1, 2, 0).cpu().numpy()  # 텐서를 NumPy 배열로 변환\n",
    "        mask = masks[i].cpu().numpy()\n",
    "        undistorted_image = cv2.undistort(image, camera_matrix, dist_coeffs)\n",
    "        undistorted_mask = cv2.undistort(mask, camera_matrix, dist_coeffs)\n",
    "        undistorted_mask = np.round(undistorted_mask).astype(np.uint8)\n",
    "        undistorted_mask[undistorted_mask > 12] = 12\n",
    "\n",
    "        # 다시 텐서로 변환\n",
    "        undistorted_image = torch.from_numpy(undistorted_image).permute(2, 0, 1).float().to(device)\n",
    "        undistorted_mask = torch.from_numpy(undistorted_mask).long().to(device)\n",
    "\n",
    "        undistorted_images.append(undistorted_image)\n",
    "        undistorted_masks.append(undistorted_mask)\n",
    "\n",
    "    undistorted_images = torch.stack(undistorted_images, dim=0)\n",
    "    undistorted_masks = torch.stack(undistorted_masks, dim=0)\n",
    "\n",
    "    return undistorted_images, undistorted_masks\n"
   ]
  },
  {
   "cell_type": "code",
   "execution_count": null,
   "metadata": {},
   "outputs": [],
   "source": [
    "# import torch\n",
    "\n",
    "# # 이미지 데이터 (batch, channel, height, width)\n",
    "# image_data = torch.randn(4, 3, 256, 256)\n",
    "\n",
    "# # 이미지 차원 변경 (batch, height, width, channel)\n",
    "# image_data_permuted = image_data.permute(0, 2, 3, 1)\n",
    "\n",
    "# # 이미지 크기 확인\n",
    "# print(image_data_permuted.shape)\n",
    "\n",
    "# # 4개의 이미지로 나누기\n",
    "# images = image_data_permuted.split(1, dim=0)\n",
    "# # 또는 images = torch.split(image_data_permuted, 1, dim=0)\n",
    "# undistorted_images = []\n",
    "# # 4개 이미지의 크기 확인\n",
    "# for i, image in enumerate(images):\n",
    "#     print(f\"Image {i + 1} shape: {image.shape}\")\n",
    "#     undistorted_images.append(images[i].squeeze())\n",
    "\n",
    "# undistorted_images2 = torch.stack(undistorted_images, dim=0)\n",
    "# undistorted_images3 = undistorted_images2.permute(0,3,1,2)"
   ]
  },
  {
   "cell_type": "code",
   "execution_count": null,
   "metadata": {},
   "outputs": [],
   "source": [
    "class CustomDataset(Dataset):\n",
    "    def __init__(self, csv_file, transform=None, infer=False):\n",
    "        self.data = pd.read_csv(csv_file)\n",
    "        self.transform = transform\n",
    "        self.infer = infer\n",
    "\n",
    "    def __len__(self):\n",
    "        return len(self.data)\n",
    "\n",
    "    def __getitem__(self, idx):\n",
    "        #directory_path = \"/mnt/nas27/Dataset/Samsung_DM\"\n",
    "        directory_path = './data/224'\n",
    "        img_path = self.data.iloc[idx, 1]\n",
    "        img_path = os.path.join(directory_path, img_path)\n",
    "        image = cv2.imread(img_path)\n",
    "        image = cv2.cvtColor(image, cv2.COLOR_BGR2RGB)\n",
    "        #image = cv2.cvtColor(image, cv2.COLOR_BGR2GRAY)\n",
    "        \n",
    "        if self.infer:\n",
    "            if self.transform:\n",
    "                image = self.transform(image=image)['image']\n",
    "            return image\n",
    "        \n",
    "        mask_path = self.data.iloc[idx, 2]\n",
    "        mask_path = os.path.join(directory_path, mask_path)\n",
    "        mask = cv2.imread(mask_path)\n",
    "        #mask = cv2.cvtColor(mask, cv2.COLOR_BGR2RGB)\n",
    "        mask = cv2.cvtColor(mask, cv2.COLOR_BGR2GRAY)\n",
    "        mask = np.round(mask).astype(np.uint8)\n",
    "        mask[mask > 12] = 12 #배경을 픽셀값 12로 간주\n",
    "        mask += 1\n",
    "        mask[mask == 13] = 0\n",
    "\n",
    "        if self.transform:\n",
    "            augmented = self.transform(image=image, mask=mask)\n",
    "            image = augmented['image']\n",
    "            mask = augmented['mask']\n",
    "\n",
    "        return image, mask\n",
    "\n",
    "# class CustomDataset_target(Dataset):\n",
    "#     def __init__(self, csv_file, transform=None, infer=False):\n",
    "#         self.data = pd.read_csv(csv_file)\n",
    "#         self.transform = transform\n",
    "#         self.infer = infer\n",
    "\n",
    "#     def __len__(self):\n",
    "#         return len(self.data)\n",
    "\n",
    "#     def __getitem__(self, idx):\n",
    "#         directory_path = \"/mnt/nas27/Dataset/Samsung_DM\"\n",
    "#         img_path = self.data.iloc[idx, 1]\n",
    "#         img_path = os.path.join(directory_path, img_path[2:])\n",
    "#         image = cv2.imread(img_path)\n",
    "#         image = cv2.cvtColor(image, cv2.COLOR_BGR2RGB)\n",
    "        \n",
    "#         if self.infer:\n",
    "#             if self.transform:\n",
    "#                 image = self.transform(image=image)['image']\n",
    "#             return image\n",
    "\n",
    "\n",
    "#         if self.transform:\n",
    "#             augmented = self.transform(image=image)\n",
    "#             image = augmented['image']\n",
    "            \n",
    "\n",
    "#         return image\n",
    "     \n",
    "\n",
    "transform = A.Compose(\n",
    "    [   \n",
    "        #A.Resize(224, 224),\n",
    "        #A.Resize(128, 128),\n",
    "        A.Normalize(),\n",
    "        \n",
    "        # 변형\n",
    "        A.VerticalFlip(p=0.5),\n",
    "        # A.RandomRotate90(p=0.5),\n",
    "        A.HueSaturationValue(p=0.2),\n",
    "        \n",
    "        ToTensorV2()\n",
    "    ]\n",
    ")"
   ]
  },
  {
   "cell_type": "markdown",
   "metadata": {},
   "source": [
    "## 기본 U-Net"
   ]
  },
  {
   "cell_type": "code",
   "execution_count": null,
   "metadata": {},
   "outputs": [],
   "source": [
    "# #Unet의 기본이 되는 conv블럭\n",
    "# class ConvBlock(nn.Module):\n",
    "#     def __init__(self, in_channels, out_channels):\n",
    "#         super(ConvBlock, self).__init__()\n",
    "#         self.conv1 = nn.Conv2d(in_channels, out_channels, kernel_size=3, padding=1)\n",
    "#         self.bn1 = nn.BatchNorm2d(out_channels)\n",
    "#         self.relu1 = nn.ReLU()\n",
    "        \n",
    "#         self.conv2 = nn.Conv2d(out_channels, out_channels, kernel_size=3, padding=1)  # 여기서 in_channels는 out_channels와 동일해야 합니다.\n",
    "#         self.bn2 = nn.BatchNorm2d(out_channels)\n",
    "#         self.relu2 = nn.ReLU()\n",
    "\n",
    "#     def forward(self, x):\n",
    "#         x = self.conv1(x)\n",
    "#         x = self.bn1(x)\n",
    "#         x = self.relu1(x)\n",
    "        \n",
    "#         x = self.conv2(x)\n",
    "#         x = self.bn2(x)\n",
    "#         x = self.relu2(x)\n",
    "#         return x\n",
    "\n",
    "# #인코더 블럭\n",
    "# class EncoderBlock(nn.Module):\n",
    "#     def __init__(self, in_channels, out_channels):\n",
    "#         super(EncoderBlock,self).__init__()\n",
    "#         self.convblock1 = ConvBlock(in_channels, out_channels)  # 첫 번째 ConvBlock의 in_channels는 입력 이미지의 채널 수와 일치해야 합니다.\n",
    "#         #self.convblock2 = ConvBlock(out_channels, out_channels)  # 두 번째 ConvBlock의 in_channels는 out_channels와 일치해야 합니다.\n",
    "#         self.maxpool = nn.MaxPool2d(kernel_size=2, stride=2)\n",
    "\n",
    "#     def forward(self,x):\n",
    "#         x = self.convblock1(x)\n",
    "#         #x = self.convblock2(x)\n",
    "#         p = self.maxpool(x)\n",
    "#         return x , p\n",
    "# #디코더 블럭\n",
    "# #디코더는 업샘플링 이후 스킵연결과 붙어서 convblock을 통과해야함\n",
    "# #skip보다 작은 x x먼저 업샘플링 32 -> 64 , skip과 결합 6464 \n",
    "# class DecoderBlock(nn.Module):\n",
    "#     def __init__(self, channels):\n",
    "#         super(DecoderBlock,self).__init__()\n",
    "#         self.upsample = nn.ConvTranspose2d(channels*2, channels, kernel_size=4, stride=2, padding=1)#x 업샘플링\n",
    "#         self.convblock1 = ConvBlock(channels*2, channels)#차원감소\n",
    "#         #self.convblock2 = ConvBlock(channels, channels)\n",
    "#     def forward(self,x,skip):\n",
    "#         x = self.upsample(x)\n",
    "#         x = torch.cat([x, skip], dim=1)\n",
    "#         x = self.convblock1(x)\n",
    "#         #x = self.convblock2(x)\n",
    "#         return x\n",
    "\n",
    "# ###########################################\n",
    "# class GradReverse(torch.autograd.Function):\n",
    "#     @staticmethod\n",
    "#     def forward(self, x):\n",
    "#         return x.view_as(x)\n",
    "#     @staticmethod\n",
    "#     def backward(self, grad_output): # 역전파 시에 gradient에 음수를 취함\n",
    "#         return (grad_output * -1)\n",
    "\n",
    "# class domain_classifier(nn.Module):\n",
    "#     def __init__(self):\n",
    "#         super(domain_classifier, self).__init__()\n",
    "#         self.fc1 = nn.Linear(224*224*64, 10)\n",
    "#         self.fc2 = nn.Linear(10, 4) # source = 0, target = 1 회귀 가정\n",
    "\n",
    "#     def forward(self, x):\n",
    "#         x = x.view(-1, 224*224*64)\n",
    "#         x = GradReverse.apply(x) # gradient reverse\n",
    "#         x = F.leaky_relu(self.fc1(x))\n",
    "#         x = self.fc2(x)\n",
    "        \n",
    "#         return x\n",
    "\n",
    "# ###########################################\n",
    "\n",
    "\n",
    "# #Unet구조 middle의 xm값의 움직임에 주의\n",
    "# class Unet(nn.Module):\n",
    "#     def __init__(self,n_classes):\n",
    "#         super(Unet,self).__init__()\n",
    "#         self.encoder1 = EncoderBlock(3,64)\n",
    "#         self.encoder2 = EncoderBlock(64,128)\n",
    "#         self.encoder3 = EncoderBlock(128,256)\n",
    "#         self.encoder4 = EncoderBlock(256,512)\n",
    "        \n",
    "#         self.middleconv = ConvBlock(512,1024)\n",
    "        \n",
    "        \n",
    "#         self.decoder4 = DecoderBlock(512)\n",
    "#         self.decoder3 = DecoderBlock(256)\n",
    "#         self.decoder2 = DecoderBlock(128)\n",
    "#         self.decoder1 = DecoderBlock(64)\n",
    "#         self.segmap = nn.Conv2d(64,n_classes, kernel_size=1)\n",
    "        \n",
    "#         self.domain_classifier = domain_classifier()\n",
    "                                        \n",
    "\n",
    "#     def forward(self,x):\n",
    "#         x1,p = self.encoder1(x)#3->64   #P:256,256 x1 :512,512\n",
    "#         x2,p = self.encoder2(p)#64->128 #P:128,128 x2:256,256\n",
    "#         x3,p = self.encoder3(p)#128->256#p:64,64 x3:128,128\n",
    "#         x4,p = self.encoder4(p)#256->512#p:32,32 x4:64,64\n",
    "        \n",
    "#         xm = self.middleconv(p)#512->1024#32,32\n",
    "        \n",
    "#         x = self.decoder4(xm,x4)#뉴런:1024->512->512 #출력tensor:64,64\n",
    "#         x = self.decoder3(x,x3)#뉴런:512->256->256 #출력tensor:128,128\n",
    "#         x = self.decoder2(x,x2)#뉴런:256->128->128 #출력tensor:256,256\n",
    "#         x = self.decoder1(x,x1)#뉴런:128->64->64 #출력tensor:512,512\n",
    "\n",
    "#         x_c = self.segmap(x)\n",
    "#         x_d = self.domain_classifier(x)\n",
    "#         # print(\"x_c\", x_c.shape)\n",
    "#         # print(\"x_d\", x_d.shape)\n",
    "#         return x_c, x_d"
   ]
  },
  {
   "cell_type": "markdown",
   "metadata": {},
   "source": [
    "## Resnet50"
   ]
  },
  {
   "cell_type": "code",
   "execution_count": null,
   "metadata": {},
   "outputs": [],
   "source": [
    "# class GradReverse(torch.autograd.Function):\n",
    "#     @staticmethod\n",
    "#     def forward(self, x):\n",
    "#         return x.view_as(x)\n",
    "#     @staticmethod\n",
    "#     def backward(self, grad_output): # 역전파 시에 gradient에 음수를 취함\n",
    "#         return grad_output * (-1)\n",
    "\n",
    "# class domain_classifier(nn.Module):\n",
    "#     def __init__(self):\n",
    "#         super(domain_classifier, self).__init__()\n",
    "#         self.conv1 = nn.Conv2d(128, 1, kernel_size=1)\n",
    "#         self.fc1 = nn.Linear(224*224*1, 10)\n",
    "#         self.fc2 = nn.Linear(10, 4) # source = 0, target = 1 회귀 가정\n",
    "\n",
    "#     def forward(self, x):\n",
    "#         x = self.conv1(x)\n",
    "#         x = x.view(-1, 224*224*1)\n",
    "#         #print(x.shape)\n",
    "#         x = GradReverse.apply(x) # gradient reverse\n",
    "#         x = F.leaky_relu(self.fc1(x))\n",
    "#         x = self.fc2(x)\n",
    "#         #print(x.shape)\n",
    "#         #return torch.sigmoid(x)\n",
    "#         return x\n",
    "\n",
    "# #Unet의 기본이 되는 conv블럭\n",
    "# class ConvBlock(nn.Module):\n",
    "#     def __init__(self, in_channels, out_channels,kernel_size = 3):\n",
    "#         super(ConvBlock, self).__init__()\n",
    "#         self.kernel_size = kernel_size\n",
    "#         self.conv1 = nn.Conv2d(in_channels, out_channels, kernel_size=kernel_size, padding=1)\n",
    "#         self.bn1 = nn.BatchNorm2d(out_channels)\n",
    "#         self.relu1 = nn.ReLU()\n",
    "        \n",
    "#         self.conv2 = nn.Conv2d(out_channels, out_channels, kernel_size=kernel_size, padding=1)  # 여기서 in_channels는 out_channels와 동일해야 합니다.\n",
    "#         self.bn2 = nn.BatchNorm2d(out_channels)\n",
    "#         self.relu2 = nn.ReLU()\n",
    "\n",
    "#     def forward(self, x):\n",
    "#         x = self.conv1(x)\n",
    "#         x = self.bn1(x)\n",
    "#         x = self.relu1(x)\n",
    "        \n",
    "#         x = self.conv2(x)\n",
    "#         x = self.bn2(x)\n",
    "#         x = self.relu2(x)\n",
    "#         return x\n",
    "# class IdentityBlock(nn.Module):\n",
    "#     def __init__(self, in_channels, mid_channels, out_channels, stride=1):\n",
    "#         super(IdentityBlock, self).__init__()\n",
    "        \n",
    "#         # 1x1 convolution\n",
    "#         self.conv1 = nn.Conv2d(in_channels, mid_channels, kernel_size=1, stride=stride, bias=False)\n",
    "#         self.bn1 = nn.BatchNorm2d(mid_channels)\n",
    "#         self.relu1 = nn.ReLU()\n",
    "\n",
    "#         # 3x3 convolution\n",
    "#         self.conv2 = nn.Conv2d(mid_channels, mid_channels, kernel_size=3, padding=1, bias=False)\n",
    "#         self.bn2 = nn.BatchNorm2d(mid_channels)\n",
    "#         self.relu2 = nn.ReLU()\n",
    "\n",
    "#         # 1x1 convolution\n",
    "#         self.conv3 = nn.Conv2d(mid_channels, out_channels, kernel_size=1, bias=False)\n",
    "#         self.bn3 = nn.BatchNorm2d(out_channels)\n",
    "#         self.relu3 = nn.ReLU()\n",
    "        \n",
    "#     def forward(self, x):\n",
    "#         out = self.conv1(x)\n",
    "#         out = self.bn1(out)\n",
    "#         out = self.relu1(out)\n",
    "        \n",
    "#         out = self.conv2(out)\n",
    "#         out = self.bn2(out)\n",
    "#         out = self.relu2(out)\n",
    "         \n",
    "#         out = self.conv3(out)\n",
    "#         out = self.bn3(out)\n",
    "#         out = self.relu3(out)\n",
    "        \n",
    "#         return out\n",
    "# class HeadBlock(IdentityBlock):\n",
    "#     def __init__(self, in_channels, mid_channels, out_channels, stride=1):\n",
    "#         super(HeadBlock, self).__init__(in_channels, mid_channels, out_channels, stride)\n",
    "        \n",
    "#         self.shortcut = nn.Sequential(\n",
    "#             nn.Conv2d(in_channels, out_channels, kernel_size=1, stride=stride, bias=False),\n",
    "#             nn.BatchNorm2d(out_channels)\n",
    "#         )\n",
    "\n",
    "#     def forward(self, x):\n",
    "#         identity = x\n",
    "#         out = super().forward(x)\n",
    "        \n",
    "#         if identity.size() != out.size():\n",
    "#             identity = F.interpolate(identity, size=out.size()[2:])\n",
    "#         identity = self.shortcut(identity)\n",
    "        \n",
    "#         out += identity\n",
    "#         out = self.relu3(out)\n",
    "        \n",
    "#         return out\n",
    "# #인코더 블럭\n",
    "# class Conv2(nn.Module):\n",
    "#     def __init__(self,in_channels, mid_channels, out_channels):\n",
    "#         super(Conv2,self).__init__() \n",
    "#         self.headblock = HeadBlock(in_channels,mid_channels,out_channels)\n",
    "#         self.identityblock1 = IdentityBlock(out_channels,mid_channels,out_channels)\n",
    "#         self.identityblock2 = IdentityBlock(out_channels,mid_channels,out_channels)\n",
    "#         self.maxpool = nn.MaxPool2d(kernel_size=3, stride=2)\n",
    "#     def forward(self,x):\n",
    "#         x = self.headblock(x)\n",
    "#         x = self.identityblock1(x)\n",
    "#         x = self.identityblock2(x)\n",
    "#         p = self.maxpool(x)\n",
    "#         return x , p\n",
    "# class Conv3(nn.Module):\n",
    "#     def __init__(self,in_channels, mid_channels, out_channels):\n",
    "#         super(Conv3,self).__init__() \n",
    "#         self.headblock = HeadBlock(in_channels,mid_channels,out_channels)\n",
    "#         self.identityblock1 = IdentityBlock(out_channels,mid_channels,out_channels)\n",
    "#         self.identityblock2 = IdentityBlock(out_channels,mid_channels,out_channels)\n",
    "#         self.identityblock3 = IdentityBlock(out_channels,mid_channels,out_channels)\n",
    "#         self.maxpool = nn.MaxPool2d(kernel_size=3, stride=2)\n",
    "#     def forward(self,x):\n",
    "#         x = self.headblock(x)\n",
    "#         x = self.identityblock1(x)\n",
    "#         x = self.identityblock2(x)\n",
    "#         x = self.identityblock3(x)\n",
    "#         p = self.maxpool(x)\n",
    "#         return x , p\n",
    "# class Conv4(nn.Module):\n",
    "#     def __init__(self,in_channels, mid_channels, out_channels):\n",
    "#         super(Conv4,self).__init__() \n",
    "#         self.headblock = HeadBlock(in_channels,mid_channels,out_channels)\n",
    "#         self.identityblock1 = IdentityBlock(out_channels,mid_channels,out_channels)\n",
    "#         self.identityblock2 = IdentityBlock(out_channels,mid_channels,out_channels)\n",
    "#         self.identityblock3 = IdentityBlock(out_channels,mid_channels,out_channels)\n",
    "#         self.identityblock4 = IdentityBlock(out_channels,mid_channels,out_channels)\n",
    "#         self.identityblock5 = IdentityBlock(out_channels,mid_channels,out_channels)\n",
    "#         self.maxpool = nn.MaxPool2d(kernel_size=3, stride=2)\n",
    "#     def forward(self,x):\n",
    "#         x = self.headblock(x)\n",
    "#         x = self.identityblock1(x)\n",
    "#         x = self.identityblock2(x)\n",
    "#         x = self.identityblock3(x)\n",
    "#         x = self.identityblock4(x)\n",
    "#         x = self.identityblock5(x)\n",
    "#         p = self.maxpool(x)\n",
    "#         return x , p\n",
    "# class Conv5(nn.Module):\n",
    "#     def __init__(self,in_channels, mid_channels, out_channels):\n",
    "#         super(Conv5,self).__init__() \n",
    "#         self.headblock = HeadBlock(in_channels,mid_channels,out_channels)\n",
    "#         self.identityblock1 = IdentityBlock(out_channels,mid_channels,out_channels)\n",
    "#         self.identityblock2 = IdentityBlock(out_channels,mid_channels,out_channels)\n",
    "#         self.maxpool = nn.MaxPool2d(kernel_size=3, stride=2)\n",
    "#     def forward(self,x):\n",
    "#         x = self.headblock(x)\n",
    "#         x = self.identityblock1(x)\n",
    "#         x = self.identityblock2(x)\n",
    "#         p = self.maxpool(x)\n",
    "#         return x , p\n",
    "# #디코더 블럭\n",
    "# class DecoderBlock(nn.Module):\n",
    "#     def __init__(self, channels):\n",
    "#         super(DecoderBlock, self).__init__()\n",
    "#         self.upsample = nn.ConvTranspose2d(channels*2, channels, kernel_size=4, stride=2, padding=1, output_padding=1) # output_padding 추가\n",
    "#         self.convblock1 = ConvBlock(channels*2, channels)\n",
    "\n",
    "#     def forward(self, x, skip):\n",
    "#         x = self.upsample(x)\n",
    "#         if x.size(2) != skip.size(2) or x.size(3) != skip.size(3):\n",
    "#             x = F.interpolate(x, size=(skip.size(2), skip.size(3)))\n",
    "#         x = torch.cat([x, skip], dim=1)\n",
    "#         x = self.convblock1(x)\n",
    "#         return x\n",
    "\n",
    "# #Unet구조 middle의 xm값의 움직임에 주의\n",
    "# class Resnet50_Unet(nn.Module):\n",
    "#     def __init__(self,n_classes):\n",
    "#         super(Resnet50_Unet,self).__init__()\n",
    "#         self.fconv1 = nn.Conv2d(3, 64, kernel_size=7, stride=2)\n",
    "#         self.fbn1 = nn.BatchNorm2d(64)\n",
    "#         self.frelu1 = nn.ReLU()\n",
    "#         self.fconv2 = nn.Conv2d(64, 128, kernel_size=1, stride=1)\n",
    "#         self.fbn2 = nn.BatchNorm2d(128)\n",
    "#         self.frelu2 = nn.ReLU()\n",
    "#         self.fmaxpooling = nn.MaxPool2d(kernel_size=3,stride=2)\n",
    "        \n",
    "#         self.conv2 = Conv2(128,64,256)\n",
    "#         self.conv3 = Conv3(256,128,512)\n",
    "#         self.conv4 = Conv4(512,256,1024)\n",
    "#         self.conv5 = Conv5(1024,512,2048)\n",
    "        \n",
    "#         self.middleconv = ConvBlock(2048,4096)\n",
    "#         self.dropout = nn.Dropout2d(0.4) #\n",
    "           \n",
    "#         self.decoder5 = DecoderBlock(2048)\n",
    "#         self.decoder4 = DecoderBlock(1024)\n",
    "#         self.decoder3 = DecoderBlock(512)\n",
    "#         self.decoder2 = DecoderBlock(256)\n",
    "#         self.decoder1 = DecoderBlock(128)\n",
    "        \n",
    "#         self.segmap = nn.Conv2d(128,n_classes, kernel_size=1)\n",
    "#         self.domain_classifier = domain_classifier()\n",
    "        \n",
    "#     def forward(self,x):\n",
    "#         x = self.fconv1(x)#3->64\n",
    "#         x = self.fbn1(x)\n",
    "#         x = self.frelu1(x)\n",
    "#         x = self.fconv2(x)\n",
    "#         x = self.fbn2(x)\n",
    "#         x1 = self.frelu2(x)\n",
    "#         p = self.fmaxpooling(x)#첫 conv: x0([8, 64, 109, 109]) p([8, 64, 54, 54])\n",
    "#         x2,p = self.conv2(p)#conv2:  x1:([8, 256, 54, 54]) p([8, 256, 26, 26])\n",
    "#         x3,p = self.conv3(p)#conv3:  x2([8, 512, 26, 26]) p([8, 512, 12, 12])\n",
    "#         x4,p = self.conv4(p)#conv4:  x3([8, 1024, 12, 12]) p([8, 1024, 5, 5])\n",
    "#         x5,p = self.conv5(p)#conv5:  x4([8, 2048, 5, 5]) p([8, 2048, 2, 2])\n",
    "        \n",
    "#         xm = self.middleconv(p)#xm([8, 4096, 2, 2])\n",
    "#         xm = self.dropout(xm)\n",
    "        \n",
    "#         x = self.decoder5(xm,x5)#뉴런:2048*2->2048 1\n",
    "#         x = self.decoder4(x,x4)#뉴런:1024*2->1024 \n",
    "#         x = self.decoder3(x,x3) #14\n",
    "#         x = self.decoder2(x,x2)#28\n",
    "#         x = self.decoder1(x,x1)#55\n",
    "        \n",
    "#         x = F.interpolate(x, size=(224, 224))\n",
    "#         x_c = self.segmap(x)\n",
    "#         x_d = self.domain_classifier(x)\n",
    "#         #print(x.shape)\n",
    "#         return x_c,x_d"
   ]
  },
  {
   "cell_type": "markdown",
   "metadata": {},
   "source": [
    "## Resnet34"
   ]
  },
  {
   "cell_type": "code",
   "execution_count": null,
   "metadata": {},
   "outputs": [],
   "source": [
    "class GradReverse(torch.autograd.Function):\n",
    "    @staticmethod\n",
    "    def forward(self, x):\n",
    "        return x.view_as(x)\n",
    "    @staticmethod\n",
    "    def backward(self, grad_output): # 역전파 시에 gradient에 음수를 취함\n",
    "        return grad_output * (-1)\n",
    "\n",
    "class domain_classifier(nn.Module):\n",
    "    def __init__(self):\n",
    "        super(domain_classifier, self).__init__()\n",
    "        self.fc1 = nn.Linear(224*224*64, 50)\n",
    "        self.fc2 = nn.Linear(50, 3) # source = 0, target = 1 회귀 가정\n",
    "        ##\n",
    "        self.dropout = nn.Dropout(0.5)\n",
    "\n",
    "    def forward(self, x):\n",
    "        x = x.view(-1, 224*224*64)\n",
    "        x = GradReverse.apply(x) # gradient reverse\n",
    "        x = F.leaky_relu(self.fc1(x))\n",
    "        x = self.dropout(x)\n",
    "        x = self.fc2(x)\n",
    "        \n",
    "        #return torch.sigmoid(x)\n",
    "        return x\n",
    "\n",
    "class domain_linear(nn.Module):\n",
    "    def __init__(self):\n",
    "        super(domain_linear, self).__init__()\n",
    "        self.fc1 = nn.Linear(224*224*64, 10)\n",
    "        self.fc2 = nn.Linear(10, 1) # source = 0, target = 1 회귀 가정\n",
    "\n",
    "    def forward(self, x):\n",
    "        x = x.view(-1, 224*224*64)\n",
    "        x = GradReverse.apply(x) # gradient reverse\n",
    "        x = F.leaky_relu(self.fc1(x))\n",
    "        x = self.fc2(x)\n",
    "        \n",
    "        return torch.sigmoid(x)\n",
    "        #return x\n",
    "class IdentityBlock(nn.Module):\n",
    "    def __init__(self, in_channels, out_channels, stride=1):\n",
    "        super(IdentityBlock, self).__init__()\n",
    "        \n",
    "        # 3x3 convolution\n",
    "        self.conv1 = nn.Conv2d(in_channels, in_channels, kernel_size=3, padding=1, stride=stride, bias=False)\n",
    "        self.bn1 = nn.BatchNorm2d(in_channels)\n",
    "        self.relu1 = nn.ReLU()\n",
    "        \n",
    "        # 3x3 convolution\n",
    "        self.conv2 = nn.Conv2d(in_channels, out_channels, kernel_size=3, padding=1, bias=False)\n",
    "        self.bn2 = nn.BatchNorm2d(out_channels)\n",
    "        self.relu2 = nn.ReLU()\n",
    "        \n",
    "        # Skip connection\n",
    "        self.skip = nn.Sequential()\n",
    "        if stride != 1 or in_channels != out_channels:\n",
    "            self.skip = nn.Sequential(\n",
    "                nn.Conv2d(in_channels, out_channels, kernel_size=1, stride=stride, bias=False),\n",
    "                nn.BatchNorm2d(out_channels)\n",
    "            )\n",
    "        \n",
    "    def forward(self, x):\n",
    "        identity = x\n",
    "        \n",
    "        out = self.conv1(x)\n",
    "        out = self.bn1(out)\n",
    "        out = self.relu1(out)\n",
    "        \n",
    "        out = self.conv2(out)\n",
    "        out = self.bn2(out)\n",
    "        \n",
    "        # Adding the skip connection\n",
    "        out += self.skip(identity)\n",
    "        out = self.relu2(out)\n",
    "        \n",
    "        return out\n",
    "#인코더 블럭\n",
    "class Conv2(nn.Module):\n",
    "    def __init__(self,in_channels, out_channels):\n",
    "        super(Conv2,self).__init__() \n",
    "        self.identityblock1 = IdentityBlock(in_channels,in_channels)\n",
    "        self.identityblock2 = IdentityBlock(in_channels,in_channels)\n",
    "        self.identityblock3 = IdentityBlock(in_channels,out_channels)\n",
    "        self.maxpool = nn.MaxPool2d(kernel_size=3, stride=2,padding=1)\n",
    "    def forward(self,x):\n",
    "        x = self.identityblock1(x)\n",
    "        x = self.identityblock2(x)\n",
    "        x = self.identityblock3(x)\n",
    "        p = self.maxpool(x)\n",
    "        \n",
    "        return x , p\n",
    "class Conv3(nn.Module):\n",
    "    def __init__(self,in_channels, out_channels):\n",
    "        super(Conv3,self).__init__()         \n",
    "        self.identityblock1 = IdentityBlock(in_channels,in_channels)\n",
    "        self.identityblock2 = IdentityBlock(in_channels,in_channels)\n",
    "        self.identityblock3 = IdentityBlock(in_channels,in_channels)\n",
    "        self.identityblock4 = IdentityBlock(in_channels,out_channels)\n",
    "        self.maxpool = nn.MaxPool2d(kernel_size=3, stride=2,padding=1)\n",
    "    def forward(self,x):\n",
    "        x = self.identityblock1(x)\n",
    "        x = self.identityblock2(x)\n",
    "        x = self.identityblock3(x)\n",
    "        x = self.identityblock4(x)\n",
    "        p = self.maxpool(x)\n",
    "        \n",
    "        return x , p\n",
    "class Conv4(nn.Module):\n",
    "    def __init__(self,in_channels, out_channels):\n",
    "        super(Conv4,self).__init__()         \n",
    "        self.identityblock1 = IdentityBlock(in_channels,in_channels)\n",
    "        self.identityblock2 = IdentityBlock(in_channels,in_channels)\n",
    "        self.identityblock3 = IdentityBlock(in_channels,in_channels)\n",
    "        self.identityblock4 = IdentityBlock(in_channels,in_channels)\n",
    "        self.identityblock5 = IdentityBlock(in_channels,in_channels)\n",
    "        self.identityblock6 = IdentityBlock(in_channels,out_channels)\n",
    "        self.maxpool = nn.MaxPool2d(kernel_size=3, stride=2,padding=1)\n",
    "    def forward(self,x):\n",
    "        x = self.identityblock1(x)\n",
    "        x = self.identityblock2(x)\n",
    "        x = self.identityblock3(x)\n",
    "        x = self.identityblock4(x)\n",
    "        x = self.identityblock5(x)\n",
    "        x = self.identityblock6(x)\n",
    "        p = self.maxpool(x)\n",
    "        \n",
    "        return x , p\n",
    "class Conv5(nn.Module):\n",
    "    def __init__(self,in_channels, out_channels):\n",
    "        super(Conv5,self).__init__() \n",
    "        self.identityblock1 = IdentityBlock(in_channels,in_channels)\n",
    "        self.identityblock2 = IdentityBlock(in_channels,in_channels)\n",
    "        self.identityblock3 = IdentityBlock(in_channels,out_channels)\n",
    "        self.maxpool = nn.MaxPool2d(kernel_size=3, stride=2,padding=1)\n",
    "        \n",
    "    def forward(self,x):\n",
    "        x = self.identityblock1(x)\n",
    "        x = self.identityblock2(x)\n",
    "        x = self.identityblock3(x)\n",
    "        p = self.maxpool(x)\n",
    "        \n",
    "        return x , p\n",
    "#디코더 블럭\n",
    "class DecoderBlock(nn.Module):\n",
    "    def __init__(self, channels):\n",
    "        super(DecoderBlock, self).__init__()\n",
    "        self.upsample = nn.ConvTranspose2d(channels*2, channels, kernel_size=4, stride=2, padding=1) # output_padding 추가\n",
    "        self.convblock1 = IdentityBlock(channels*2, channels)\n",
    "\n",
    "    def forward(self, x, skip):\n",
    "        x = self.upsample(x)\n",
    "        if x.size(2) != skip.size(2) or x.size(3) != skip.size(3):\n",
    "            x = F.interpolate(x, size=(skip.size(2), skip.size(3)))\n",
    "        x = torch.cat([x, skip], dim=1)\n",
    "        x = self.convblock1(x)\n",
    "        #print(\"x\",x.shape,\"skip: \",skip.shape)\n",
    "        return x\n",
    "\n",
    "#Unet구조 middle의 xm값의 움직임에 주의\n",
    "class Resnet34_Unet(nn.Module):\n",
    "    def __init__(self,n_classes):\n",
    "        super(Resnet34_Unet,self).__init__()\n",
    "        self.fconv1 = nn.Conv2d(3, 64, kernel_size=7, stride=2, padding=3)\n",
    "        self.fbn1 = nn.BatchNorm2d(64)\n",
    "        self.frelu1 = nn.ReLU()\n",
    "        self.fmaxpooling = nn.MaxPool2d(kernel_size=3,stride=2,padding=1)\n",
    "        \n",
    "        self.conv2 = Conv2(64,128)\n",
    "        self.conv3 = Conv3(128,256)\n",
    "        self.conv4 = Conv4(256,512)\n",
    "        self.conv5 = Conv5(512,1024)\n",
    "        \n",
    "        self.middleconv = IdentityBlock(1024,2048)\n",
    "        self.dropout = nn.Dropout2d(0.1) #\n",
    "           \n",
    "        self.decoder5 = DecoderBlock(1024)\n",
    "        self.decoder4 = DecoderBlock(512)\n",
    "        self.decoder3 = DecoderBlock(256)\n",
    "        self.decoder2 = DecoderBlock(128)\n",
    "        self.decoder1 = DecoderBlock(64)\n",
    "        self.transpose = nn.ConvTranspose2d(64, 64, kernel_size=4, stride=2, padding=1) # output_padding 추가\n",
    "        \n",
    "        self.segmap = nn.Conv2d(64,n_classes, kernel_size=1)\n",
    "        self.domain_classifier = domain_classifier()\n",
    "        self.domain_linear = domain_linear()\n",
    "        \n",
    "    def forward(self,x):\n",
    "        x = self.fconv1(x)#3->64\n",
    "        x0 = self.fbn1(x)\n",
    "        x1 = self.frelu1(x)\n",
    "        p = self.fmaxpooling(x1)#첫 conv: x0([8, 64, 109, 109]) p([8, 64, 54, 54])\n",
    "        #print(\"conv1: \",x1.shape, \"maxpooling: \",p.shape)\n",
    "        x2,p = self.conv2(p)\n",
    "        #print(\"conv2: \",x2.shape, \"maxpooling: \",p.shape)\n",
    "        x3,p = self.conv3(p)\n",
    "        #print(\"conv3: \",x3.shape, \"maxpooling: \",p.shape)\n",
    "        x4,p = self.conv4(p)\n",
    "        #print(\"conv4: \",x4.shape, \"maxpooling: \",p.shape)\n",
    "        x5,p = self.conv5(p)\n",
    "        #print(\"conv5: \",x5.shape, \"maxpooling: \",p.shape)\n",
    "        \n",
    "        xm = self.middleconv(p)#xm([8, 4096, 2, 2])\n",
    "        #print(\"xm: \",xm.shape, \"maxpooling: \",p.shape)\n",
    "        xm = self.dropout(xm)\n",
    "        \n",
    "        x = self.decoder5(xm,x5)#뉴런:2048*2->2048 1\n",
    "        x = self.decoder4(x,x4)#뉴런:1024*2->1024 \n",
    "        x = self.decoder3(x,x3) #14\n",
    "        x = self.decoder2(x,x2)#28\n",
    "        x = self.decoder1(x,x1)#55\n",
    "        x = self.transpose(x)\n",
    "        \n",
    "        #print(x.shape)\n",
    "        #x = F.interpolate(x, size=(224, 224))\n",
    "        x_c = self.segmap(x)\n",
    "        #x_d = self.domain_linear(x)\n",
    "        x_d = self.domain_classifier(x)\n",
    "        \n",
    "        \n",
    "        return x_c,x_d"
   ]
  },
  {
   "cell_type": "markdown",
   "metadata": {},
   "source": [
    "## Resnet18"
   ]
  },
  {
   "cell_type": "code",
   "execution_count": null,
   "metadata": {},
   "outputs": [],
   "source": [
    "# class GradReverse(torch.autograd.Function):\n",
    "#     @staticmethod\n",
    "#     def forward(self, x):\n",
    "#         return x.view_as(x)\n",
    "#     @staticmethod\n",
    "#     def backward(self, grad_output): # 역전파 시에 gradient에 음수를 취함\n",
    "#         return grad_output * (-1)\n",
    "\n",
    "# class domain_classifier(nn.Module):\n",
    "#     def __init__(self):\n",
    "#         super(domain_classifier, self).__init__()\n",
    "#         self.fc1 = nn.Linear(224*224*64, 10)\n",
    "#         self.fc2 = nn.Linear(10, 4) # source = 0, target = 1 회귀 가정\n",
    "\n",
    "#     def forward(self, x):\n",
    "#         x = x.view(-1, 224*224*64)\n",
    "#         x = GradReverse.apply(x) # gradient reverse\n",
    "#         x = F.leaky_relu(self.fc1(x))\n",
    "#         x = self.fc2(x)\n",
    "        \n",
    "#         #return torch.sigmoid(x)\n",
    "#         return x\n",
    "\n",
    "# class IdentityBlock(nn.Module):\n",
    "#     def __init__(self, in_channels, out_channels, stride=1):\n",
    "#         super(IdentityBlock, self).__init__()\n",
    "        \n",
    "#         # 3x3 convolution\n",
    "#         self.conv1 = nn.Conv2d(in_channels, in_channels, kernel_size=3, padding=1, stride=stride, bias=False)\n",
    "#         self.bn1 = nn.BatchNorm2d(in_channels)\n",
    "#         self.relu1 = nn.ReLU()\n",
    "        \n",
    "#         # 3x3 convolution\n",
    "#         self.conv2 = nn.Conv2d(in_channels, out_channels, kernel_size=3, padding=1, bias=False)\n",
    "#         self.bn2 = nn.BatchNorm2d(out_channels)\n",
    "#         self.relu2 = nn.ReLU()\n",
    "        \n",
    "#         # Skip connection\n",
    "#         self.skip = nn.Sequential()\n",
    "#         if stride != 1 or in_channels != out_channels:\n",
    "#             self.skip = nn.Sequential(\n",
    "#                 nn.Conv2d(in_channels, out_channels, kernel_size=1, stride=stride, bias=False),\n",
    "#                 nn.BatchNorm2d(out_channels)\n",
    "#             )\n",
    "        \n",
    "#     def forward(self, x):\n",
    "#         identity = x\n",
    "        \n",
    "#         out = self.conv1(x)\n",
    "#         out = self.bn1(out)\n",
    "#         out = self.relu1(out)\n",
    "        \n",
    "#         out = self.conv2(out)\n",
    "#         out = self.bn2(out)\n",
    "        \n",
    "#         # Adding the skip connection\n",
    "#         out += self.skip(identity)\n",
    "#         out = self.relu2(out)\n",
    "        \n",
    "#         return out\n",
    "\n",
    "\n",
    "# #인코더 블럭\n",
    "# class Conv2(nn.Module):\n",
    "#     def __init__(self,in_channels, out_channels):\n",
    "#         super(Conv2,self).__init__() \n",
    "#         self.identityblock1 = IdentityBlock(in_channels,in_channels)\n",
    "#         self.identityblock2 = IdentityBlock(in_channels,out_channels)\n",
    "#         self.maxpool = nn.MaxPool2d(kernel_size=3, stride=2,padding=1)\n",
    "#     def forward(self,x):\n",
    "#         x = self.identityblock1(x)\n",
    "#         x = self.identityblock2(x)\n",
    "#         p = self.maxpool(x)\n",
    "        \n",
    "#         return x , p\n",
    "# class Conv3(nn.Module):\n",
    "#     def __init__(self,in_channels, out_channels):\n",
    "#         super(Conv3,self).__init__()         \n",
    "#         self.identityblock1 = IdentityBlock(in_channels,in_channels)\n",
    "#         self.identityblock2 = IdentityBlock(in_channels,out_channels)\n",
    "#         self.maxpool = nn.MaxPool2d(kernel_size=3, stride=2,padding=1)\n",
    "#     def forward(self,x):\n",
    "#         x = self.identityblock1(x)\n",
    "#         x = self.identityblock2(x)\n",
    "#         p = self.maxpool(x)\n",
    "        \n",
    "#         return x , p\n",
    "# class Conv4(nn.Module):\n",
    "#     def __init__(self,in_channels, out_channels):\n",
    "#         super(Conv4,self).__init__()         \n",
    "#         self.identityblock1 = IdentityBlock(in_channels,in_channels)\n",
    "#         self.identityblock2 = IdentityBlock(in_channels,out_channels)\n",
    "#         self.maxpool = nn.MaxPool2d(kernel_size=3, stride=2,padding=1)\n",
    "#     def forward(self,x):\n",
    "#         x = self.identityblock1(x)\n",
    "#         x = self.identityblock2(x)\n",
    "#         p = self.maxpool(x)\n",
    "        \n",
    "#         return x , p\n",
    "# class Conv5(nn.Module):\n",
    "#     def __init__(self,in_channels, out_channels):\n",
    "#         super(Conv5,self).__init__() \n",
    "#         self.identityblock1 = IdentityBlock(in_channels,in_channels)\n",
    "#         self.identityblock2 = IdentityBlock(in_channels,out_channels)\n",
    "#         self.maxpool = nn.MaxPool2d(kernel_size=3, stride=2,padding=1)\n",
    "        \n",
    "#     def forward(self,x):\n",
    "#         x = self.identityblock1(x)\n",
    "#         x = self.identityblock2(x)\n",
    "#         p = self.maxpool(x)\n",
    "        \n",
    "#         return x , p\n",
    "# #디코더 블럭\n",
    "# class DecoderBlock(nn.Module):\n",
    "#     def __init__(self, channels):\n",
    "#         super(DecoderBlock, self).__init__()\n",
    "#         self.upsample = nn.ConvTranspose2d(channels*2, channels, kernel_size=4, stride=2, padding=1) # output_padding 추가\n",
    "#         self.convblock1 = IdentityBlock(channels*2, channels)\n",
    "\n",
    "#     def forward(self, x, skip):\n",
    "#         x = self.upsample(x)\n",
    "#         if x.size(2) != skip.size(2) or x.size(3) != skip.size(3):\n",
    "#             x = F.interpolate(x, size=(skip.size(2), skip.size(3)))\n",
    "#         x = torch.cat([x, skip], dim=1)\n",
    "#         x = self.convblock1(x)\n",
    "#         #print(\"x\",x.shape,\"skip: \",skip.shape)\n",
    "#         return x\n",
    "\n",
    "# #Unet구조 middle의 xm값의 움직임에 주의\n",
    "# class Resnet18_Unet(nn.Module):\n",
    "#     def __init__(self,n_classes):\n",
    "#         super(Resnet18_Unet,self).__init__()\n",
    "#         self.fconv1 = nn.Conv2d(3, 64, kernel_size=7, stride=2, padding=3)\n",
    "#         self.fbn1 = nn.BatchNorm2d(64)\n",
    "#         self.frelu1 = nn.ReLU()\n",
    "#         self.fmaxpooling = nn.MaxPool2d(kernel_size=3,stride=2,padding=1)\n",
    "        \n",
    "#         self.conv2 = Conv2(64,128)\n",
    "#         self.conv3 = Conv3(128,256)\n",
    "#         self.conv4 = Conv4(256,512)\n",
    "#         self.conv5 = Conv5(512,1024)\n",
    "        \n",
    "#         self.middleconv = IdentityBlock(1024,2048)\n",
    "#         self.dropout = nn.Dropout2d(0.1) #\n",
    "           \n",
    "#         self.decoder5 = DecoderBlock(1024)\n",
    "#         self.decoder4 = DecoderBlock(512)\n",
    "#         self.decoder3 = DecoderBlock(256)\n",
    "#         self.decoder2 = DecoderBlock(128)\n",
    "#         self.decoder1 = DecoderBlock(64)\n",
    "#         self.transpose = nn.ConvTranspose2d(64, 64, kernel_size=4, stride=2, padding=1) # output_padding 추가\n",
    "        \n",
    "#         self.segmap = nn.Conv2d(64,n_classes, kernel_size=1)\n",
    "#         self.domain_classifier = domain_classifier()\n",
    "        \n",
    "#     def forward(self,x):\n",
    "#         x = self.fconv1(x)#3->64\n",
    "#         x0 = self.fbn1(x)\n",
    "#         x1 = self.frelu1(x)\n",
    "#         p = self.fmaxpooling(x1)#첫 conv: x0([8, 64, 109, 109]) p([8, 64, 54, 54])\n",
    "#         #print(\"conv1: \",x1.shape, \"maxpooling: \",p.shape)\n",
    "#         x2,p = self.conv2(p)\n",
    "#         #print(\"conv2: \",x2.shape, \"maxpooling: \",p.shape)\n",
    "#         x3,p = self.conv3(p)\n",
    "#         #print(\"conv3: \",x3.shape, \"maxpooling: \",p.shape)\n",
    "#         x4,p = self.conv4(p)\n",
    "#         #print(\"conv4: \",x4.shape, \"maxpooling: \",p.shape)\n",
    "#         x5,p = self.conv5(p)\n",
    "#         #print(\"conv5: \",x5.shape, \"maxpooling: \",p.shape)\n",
    "        \n",
    "#         xm = self.middleconv(p)#xm([8, 4096, 2, 2])\n",
    "#         #print(\"xm: \",xm.shape, \"maxpooling: \",p.shape)\n",
    "#         xm = self.dropout(xm)\n",
    "        \n",
    "#         x = self.decoder5(xm,x5)#뉴런:2048*2->2048 1\n",
    "#         x = self.decoder4(x,x4)#뉴런:1024*2->1024 \n",
    "#         x = self.decoder3(x,x3) #14\n",
    "#         x = self.decoder2(x,x2)#28\n",
    "#         x = self.decoder1(x,x1)#55\n",
    "#         x = self.transpose(x)\n",
    "        \n",
    "#         #print(x.shape)\n",
    "#         #x = F.interpolate(x, size=(224, 224))\n",
    "#         x_c = self.segmap(x)\n",
    "#         x_d = self.domain_classifier(x)\n",
    "        \n",
    "#         return x_c,x_d"
   ]
  },
  {
   "cell_type": "code",
   "execution_count": null,
   "metadata": {},
   "outputs": [],
   "source": [
    "# import pickle\n",
    "\n",
    "# # 저장된 class_weights를 불러옵니다.\n",
    "# class_weights_path = 'CLASS_WEIGHTS.pkl'\n",
    "\n",
    "# with open(class_weights_path, 'rb') as file:\n",
    "#     CLASS_WEIGHTS = pickle.load(file)\n",
    "\n",
    "# print(CLASS_WEIGHTS)"
   ]
  },
  {
   "cell_type": "markdown",
   "metadata": {},
   "source": [
    "## Loss Function"
   ]
  },
  {
   "cell_type": "code",
   "execution_count": null,
   "metadata": {},
   "outputs": [],
   "source": [
    "# loss function과 optimizer 정의\n",
    "\n",
    "class DANN_Loss(nn.Module):\n",
    "    def __init__(self):\n",
    "        super(DANN_Loss, self).__init__()\n",
    "\n",
    "        #self.CE = nn.CrossEntropyLoss(weight=CLASS_WEIGHTS) # 0~9 class 분류용\n",
    "        self.CE = nn.CrossEntropyLoss()\n",
    "        #self.BCE = nn.BCELoss() # 도메인 분류용\n",
    "        \n",
    "    # result : DANN_CNN에서 반환된 값\n",
    "    # label : 숫자 0 ~ 9에 대한 라벨\n",
    "    # domain_num : 0(source) or 1(target)\n",
    "    def forward(self, result, label, domain_num, alpha = 1):\n",
    "        label_logits, domain_logits = result # DANN_CNN의 결과\n",
    "\n",
    "        batch_size = domain_logits.shape[0]\n",
    "\n",
    "        # print(\"segment_mask : \", label.shape)\n",
    "        # print(\"domain_answer : \", domain_target.shape)\n",
    "        segment_loss = self.CE(label_logits, label) # class 분류 loss\n",
    "\n",
    "        # domain_target = torch.FloatTensor([domain_num] * batch_size).unsqueeze(1).to(device)\n",
    "        # domain_loss = self.BCE(domain_logits, domain_target)\n",
    "\n",
    "        domain_target = torch.LongTensor([domain_num] * batch_size).to(device)\n",
    "        domain_loss = self.CE(domain_logits, domain_target) # domain 분류 loss\n",
    "        \n",
    "        loss = segment_loss + alpha * domain_loss\n",
    "\n",
    "        return loss, segment_loss, domain_loss\n",
    "    \n",
    "\n",
    "loss_fn = DANN_Loss().to(device)\n",
    "\n",
    "#criterion =nn.CrossEntropyLoss()\n",
    "#domain_criterion = nn.BCELoss()\n",
    "#criterion = nn.CrossEntropyLoss(weight=class_weights)"
   ]
  },
  {
   "cell_type": "code",
   "execution_count": null,
   "metadata": {},
   "outputs": [],
   "source": [
    "import os\n",
    "os.environ['CUDA_LAUNCH_BLOCKING'] = '1'"
   ]
  },
  {
   "cell_type": "code",
   "execution_count": null,
   "metadata": {},
   "outputs": [],
   "source": [
    "LR = 0.0001\n",
    "EP = 50\n",
    "BATCH_SIZE = 16\n",
    "ACCMULATION_STEP = 1 \n",
    "N_CLASSES = 13 #IoU 점수측정하기 위한 클래스의 개수\n",
    "ALPHA = 0.00045\n",
    "Label = [0,1,2]\n",
    "N_LABELS = len(Label)\n",
    "# model 초기화\n",
    "#model = Resnet18_Unet(n_classes = N_CLASSES).to(device)\n",
    "model = Resnet34_Unet(n_classes = N_CLASSES).to(device)\n",
    "model.load_state_dict(torch.load('./data/resnet34_1112_dropout_lr00045.pth'), strict=False)\n",
    "#model = Resnet50_Unet(n_classes = N_CLASSES).to(device)\n",
    "#model = Unet(n_classes = N_CLASSES).to(device)\n",
    "\n",
    "optimizer = torch.optim.Adam(model.parameters(), lr=LR)\n",
    "\n",
    "optimizer.zero_grad() \n",
    "\n",
    "source_dataset = CustomDataset(csv_file='./data/896_csv/train_source.csv', transform=transform)\n",
    "source_dataloader = DataLoader(source_dataset, batch_size=BATCH_SIZE, shuffle=True)\n",
    "val_target_dataset = CustomDataset(csv_file='./data/896_csv/val_source.csv', transform=transform)\n",
    "#val_target_dataset = CustomDataset(csv_file='./data/896_csv/val_source_CL.csv', transform=transform)\n",
    "val_target_dataloader = DataLoader(val_target_dataset, batch_size=BATCH_SIZE, shuffle=False)\n"
   ]
  },
  {
   "cell_type": "code",
   "execution_count": null,
   "metadata": {},
   "outputs": [],
   "source": [
    "# import pandas as pd\n",
    "# import os\n",
    "# import cv2\n",
    "# import matplotlib.pyplot as plt\n",
    "# a1 = pd.read_csv(\"./data/6_fish_source.csv\")\n",
    "# p = \"./data/224/\"\n",
    "# a2 = os.path.join(p, a1.iloc[3,2])\n",
    "# a3 = cv2.imread(a2)\n",
    "# a4 = cv2.cvtColor(a3, cv2.COLOR_BGR2GRAY)\n",
    "# a4 = np.round(a4).astype(np.uint8)\n",
    "# a5 = a4*20\n",
    "\n",
    "# plt.imshow(a5, cmap='gray')\n",
    "# plt.axis('off')\n",
    "# plt.show()"
   ]
  },
  {
   "cell_type": "code",
   "execution_count": null,
   "metadata": {},
   "outputs": [],
   "source": [
    "# import random\n",
    "# #torch.cuda.empty_cache()\n",
    "# # import wandb\n",
    "\n",
    "\n",
    "# # wandb.init(\n",
    "# #     # set the wandb project where this run will be logged\n",
    "# #     project=\"practice_10_27_4d_res18\",\n",
    "    \n",
    "# #     # track hyperparameters and run metadata\n",
    "# #     config={\n",
    "# #     \"learning_rate\": LR,\n",
    "# #     \"architecture\": \"CNN\",\n",
    "# #     \"dataset\": \"Samsung\",\n",
    "# #     \"epochs\": EP,\n",
    "# #     }\n",
    "# # )\n",
    "\n",
    "# for epoch in range(EP):\n",
    "#     # 클래스별 IoU를 누적할 리스트 초기화\n",
    "#     train_class_ious = []\n",
    "#     fish_train_class_ious = []\n",
    "#     # 학습\n",
    "#     model.train()\n",
    "#     epoch_loss = 0\n",
    "#     seg_loss = 0\n",
    "#     dom_loss = 0\n",
    "\n",
    "#     for source_images, source_masks in tqdm(source_dataloader):\n",
    "#         label = random.randint(0,3)\n",
    "#         source_images, source_masks = apply_fisheye_distortion(source_images, source_masks, label)\n",
    "#         source_images = source_images.float().to(device)\n",
    "#         source_masks = source_masks.long().to(device)\n",
    "\n",
    "#         optimizer.zero_grad()\n",
    "#         source_outputs = model(source_images)\n",
    "\n",
    "#         source_loss, segment_loss, domain_loss = loss_fn(source_outputs, source_masks, label, alpha = ALPHA)\n",
    "\n",
    "#         loss = source_loss\n",
    "#         epoch_loss += loss.item()\n",
    "#         seg_loss += segment_loss.item()\n",
    "#         dom_loss += domain_loss.item()\n",
    "\n",
    "#         loss.backward()\n",
    "#         optimizer.step()\n",
    "#         #scheduler.step()\n",
    "#                 # train 클래스별 IoU 계산\n",
    "#         source_outputs = torch.softmax(source_outputs[0], dim=1).cpu()\n",
    "#         source_outputs = torch.argmax(source_outputs, dim=1).numpy()\n",
    "\n",
    "#         for class_id in range(N_CLASSES):\n",
    "#             iou = calculate_iou_per_class(np.array(source_masks.cpu()), np.array(source_outputs), class_id)\n",
    "#             train_class_ious.append(iou)\n",
    "\n",
    "#     train_class_ious = np.array(train_class_ious).reshape(N_CLASSES, -1)\n",
    "#     train_class_ious = np.mean(train_class_ious, axis=1)\n",
    "#     print(\"--IoU Scores Train--\")\n",
    "#     for class_id, iou in enumerate(train_class_ious):\n",
    "#         print(f'Class{class_id}: {iou:.4f}', end=\" \")\n",
    "#         if (class_id+1) % 7 == 0:\n",
    "#             print()\n",
    "\n",
    "#     # mIoU 계산\n",
    "#     train_mIoU = np.mean(train_class_ious)\n",
    "\n",
    "#     # 에폭마다 결과 출력 \n",
    "#     print(f\"\\nEpoch{epoch+1}\")\n",
    "#     print(f\"Train seg Loss: {(seg_loss/len(source_dataloader))}\")\n",
    "#     print(f\"Train dom Loss: {(dom_loss/len(source_dataloader))}\")\n",
    "#     print(f\"Train Loss: {(epoch_loss/len(source_dataloader))}\")\n",
    "#     print(f\"Train mIoU: {train_mIoU}\" )\n",
    "#     print(\"___________________________________________________________________________________________\\n\")\n",
    "\n",
    "\n",
    "#     ################################################################\n",
    "#     # 클래스별 IoU를 누적할 리스트 초기화\n",
    "#     val_class_ious = []\n",
    "#     fish_val_class_ious = []\n",
    "#     val_epoch_loss = 0\n",
    "#     val_seg_loss = 0\n",
    "#     val_dom_loss = 0\n",
    "#     # 학습\n",
    "#     with torch.no_grad():\n",
    "#         model.eval()\n",
    "\n",
    "#         for target_images, target_masks in tqdm(val_target_dataloader):\n",
    "#             label = 2.5\n",
    "#             target_images, target_masks = apply_fisheye_distortion(target_images, target_masks, label)\n",
    "#             target_images = target_images.float().to(device)\n",
    "#             target_masks = target_masks.long().to(device)\n",
    "\n",
    "#             target_outputs = model(target_images)\n",
    "\n",
    "#             target_loss, val_segment_loss, val_domain_loss = loss_fn(target_outputs, target_masks, 0, alpha = ALPHA)\n",
    "\n",
    "#             loss = target_loss\n",
    "\n",
    "#             val_epoch_loss += loss.item()\n",
    "#             val_seg_loss += val_segment_loss.item()\n",
    "#             val_dom_loss += val_domain_loss.item()\n",
    "\n",
    "#             # train 클래스별 IoU 계산\n",
    "#             target_outputs = torch.softmax(target_outputs[0], dim=1).cpu()\n",
    "#             target_outputs = torch.argmax(target_outputs, dim=1).numpy()\n",
    "\n",
    "#             for class_id in range(N_CLASSES):\n",
    "#                 iou = calculate_iou_per_class(np.array(target_masks.cpu()), np.array(target_outputs), class_id)\n",
    "#                 fish_val_class_ious.append(iou)\n",
    "\n",
    "#     fish_val_class_ious = np.array(fish_val_class_ious).reshape(N_CLASSES, -1)\n",
    "#     fish_val_class_ious = np.mean(fish_val_class_ious, axis=1)\n",
    "#     print()\n",
    "#     print(\"--IoU Scores Fish val--\")\n",
    "#     for class_id, iou in enumerate(fish_val_class_ious):\n",
    "#         print(f'Class{class_id}: {iou:.4f}', end=\" \")\n",
    "#         if (class_id+1) % 7 == 0:\n",
    "#             print()\n",
    "\n",
    "#     # mIoU 계산\n",
    "#     fish_val_mIoU = np.mean(fish_val_class_ious)\n",
    "\n",
    "#     # 에폭마다 결과 출력 \n",
    "#     print(f\"\\nEpoch{epoch+1}\")\n",
    "#     print(f\"Valid seg Loss: {(val_seg_loss/len(val_target_dataloader))}\")\n",
    "#     print(f\"Valid dom Loss: {(val_dom_loss/len(val_target_dataloader))}\")\n",
    "#     print(f\"Valid Loss: {(val_epoch_loss/len(val_target_dataloader))}\")\n",
    "#     print(f\"Valid mIoU: {fish_val_mIoU}\" )\n",
    "#     print(\"___________________________________________________________________________________________\\n\")\n",
    "\n",
    "# #     # log metrics to wandb\n",
    "# #     wandb.log({\"train score\": train_mIoU})\n",
    "# #     wandb.log({\"val score\": fish_val_mIoU})\n",
    "# #     wandb.log({\"train loss\": (epoch_loss/len(source_dataloader))})\n",
    "# #     wandb.log({\"val loss\": (val_epoch_loss/len(val_target_dataloader))})\n",
    "    \n",
    "    \n",
    "# # # [optional] finish the wandb run, necessary in notebooks\n",
    "# # wandb.finish()\n"
   ]
  },
  {
   "cell_type": "code",
   "execution_count": null,
   "metadata": {},
   "outputs": [
    {
     "name": "stderr",
     "output_type": "stream",
     "text": [
      "Failed to detect the name of this notebook, you can set it manually with the WANDB_NOTEBOOK_NAME environment variable to enable code saving.\n",
      "\u001b[34m\u001b[1mwandb\u001b[0m: Currently logged in as: \u001b[33mpook0612\u001b[0m (\u001b[33mlimbw\u001b[0m). Use \u001b[1m`wandb login --relogin`\u001b[0m to force relogin\n"
     ]
    },
    {
     "data": {
      "text/html": [
       "wandb version 0.16.0 is available!  To upgrade, please run:\n",
       " $ pip install wandb --upgrade"
      ],
      "text/plain": [
       "<IPython.core.display.HTML object>"
      ]
     },
     "metadata": {},
     "output_type": "display_data"
    },
    {
     "data": {
      "text/html": [
       "Tracking run with wandb version 0.15.10"
      ],
      "text/plain": [
       "<IPython.core.display.HTML object>"
      ]
     },
     "metadata": {},
     "output_type": "display_data"
    },
    {
     "data": {
      "text/html": [
       "Run data is saved locally in <code>/home/MMI24limbyungwan/Design_Project/Design_project/wandb/run-20231112_153150-1utervlg</code>"
      ],
      "text/plain": [
       "<IPython.core.display.HTML object>"
      ]
     },
     "metadata": {},
     "output_type": "display_data"
    },
    {
     "data": {
      "text/html": [
       "Syncing run <strong><a href='https://wandb.ai/limbw/11_12_3d_res34_dropout/runs/1utervlg' target=\"_blank\">likely-firefly-1</a></strong> to <a href='https://wandb.ai/limbw/11_12_3d_res34_dropout' target=\"_blank\">Weights & Biases</a> (<a href='https://wandb.me/run' target=\"_blank\">docs</a>)<br/>"
      ],
      "text/plain": [
       "<IPython.core.display.HTML object>"
      ]
     },
     "metadata": {},
     "output_type": "display_data"
    },
    {
     "data": {
      "text/html": [
       " View project at <a href='https://wandb.ai/limbw/11_12_3d_res34_dropout' target=\"_blank\">https://wandb.ai/limbw/11_12_3d_res34_dropout</a>"
      ],
      "text/plain": [
       "<IPython.core.display.HTML object>"
      ]
     },
     "metadata": {},
     "output_type": "display_data"
    },
    {
     "data": {
      "text/html": [
       " View run at <a href='https://wandb.ai/limbw/11_12_3d_res34_dropout/runs/1utervlg' target=\"_blank\">https://wandb.ai/limbw/11_12_3d_res34_dropout/runs/1utervlg</a>"
      ],
      "text/plain": [
       "<IPython.core.display.HTML object>"
      ]
     },
     "metadata": {},
     "output_type": "display_data"
    },
    {
     "name": "stderr",
     "output_type": "stream",
     "text": [
      "Epoch: 1: 100%|██████████| 138/138 [04:43<00:00,  2.06s/it]\n"
     ]
    },
    {
     "name": "stdout",
     "output_type": "stream",
     "text": [
      "\n",
      "Label_0: IoU Scores Train\n",
      "Class00: 0.2674 Class01: 0.3732 Class02: 0.0001 Class03: 0.2621 Class04: 0.0001 Class05: 0.0001 Class06: 0.0001 \n",
      "Class07: 0.0004 Class08: 0.3150 Class09: 0.4191 Class10: 0.0001 Class11: 0.0001 Class12: 0.1749 \n",
      "Label_1: IoU Scores Train\n",
      "Class00: 0.2366 Class01: 0.3267 Class02: 0.0001 Class03: 0.2327 Class04: 0.0001 Class05: 0.0001 Class06: 0.0000 \n",
      "Class07: 0.0004 Class08: 0.2785 Class09: 0.3560 Class10: 0.0001 Class11: 0.0000 Class12: 0.1613 \n",
      "Label_2: IoU Scores Train\n",
      "Class00: 0.2226 Class01: 0.2972 Class02: 0.0001 Class03: 0.2141 Class04: 0.0001 Class05: 0.0001 Class06: 0.0000 \n",
      "Class07: 0.0004 Class08: 0.2569 Class09: 0.3200 Class10: 0.0000 Class11: 0.0000 Class12: 0.1484 \n",
      "Train seg Loss: 0.6831336613870473 Train dom Loss: 8.836694796706997\n",
      "Train Loss: 0.6871101742493357\n",
      "Train mIoU: 0.12474631828735472\n"
     ]
    },
    {
     "name": "stderr",
     "output_type": "stream",
     "text": [
      "  0%|          | 0/30 [00:00<?, ?it/s]/tmp/ipykernel_26569/288732703.py:26: DeprecationWarning: an integer is required (got type float).  Implicit conversion to integers using __int__ is deprecated, and may be removed in a future version of Python.\n",
      "  domain_target = torch.LongTensor([domain_num] * batch_size).to(device)\n",
      "100%|██████████| 30/30 [00:08<00:00,  3.37it/s]\n"
     ]
    },
    {
     "name": "stdout",
     "output_type": "stream",
     "text": [
      "\n",
      "--IoU Scores Fish val--\n",
      "Class00: 0.9604 Class01: 0.6205 Class02: 0.0000 Class03: 0.4149 Class04: 0.0000 Class05: 0.0000 Class06: 0.0000 \n",
      "Class07: 0.0000 Class08: 0.4968 Class09: 0.6945 Class10: 0.0000 Class11: 0.0000 Class12: 0.3463 \n",
      "Epoch1\n",
      "Valid Seg Loss: 0.471101106206576 Valid dom Loss: 15.374150625864665\n",
      "Valid Loss: 0.47801947395006816\n",
      "Valid mIoU: 0.2717960706946491\n",
      "___________________________________________________________________________________________\n",
      "\n"
     ]
    },
    {
     "name": "stderr",
     "output_type": "stream",
     "text": [
      "Epoch: 2: 100%|██████████| 138/138 [04:44<00:00,  2.06s/it]\n"
     ]
    },
    {
     "name": "stdout",
     "output_type": "stream",
     "text": [
      "\n",
      "Label_0: IoU Scores Train\n",
      "Class00: 0.2791 Class01: 0.4579 Class02: 0.0006 Class03: 0.3583 Class04: 0.0071 Class05: 0.0000 Class06: 0.0000 \n",
      "Class07: 0.0000 Class08: 0.3779 Class09: 0.4665 Class10: 0.0000 Class11: 0.0000 Class12: 0.3608 \n",
      "Label_1: IoU Scores Train\n",
      "Class00: 0.2409 Class01: 0.3913 Class02: 0.0005 Class03: 0.3132 Class04: 0.0070 Class05: 0.0000 Class06: 0.0000 \n",
      "Class07: 0.0000 Class08: 0.3281 Class09: 0.3908 Class10: 0.0000 Class11: 0.0000 Class12: 0.3192 \n",
      "Label_2: IoU Scores Train\n",
      "Class00: 0.2239 Class01: 0.3520 Class02: 0.0004 Class03: 0.2858 Class04: 0.0066 Class05: 0.0000 Class06: 0.0000 \n",
      "Class07: 0.0000 Class08: 0.2996 Class09: 0.3489 Class10: 0.0000 Class11: 0.0000 Class12: 0.2960 \n",
      "Train seg Loss: 0.4247102404130254 Train dom Loss: 2.9296634367367256\n",
      "Train Loss: 0.4260285896235618\n",
      "Train mIoU: 0.15672730585570824\n"
     ]
    },
    {
     "name": "stderr",
     "output_type": "stream",
     "text": [
      "100%|██████████| 30/30 [00:09<00:00,  3.27it/s]\n"
     ]
    },
    {
     "name": "stdout",
     "output_type": "stream",
     "text": [
      "\n",
      "--IoU Scores Fish val--\n",
      "Class00: 0.9692 Class01: 0.6424 Class02: 0.0021 Class03: 0.3852 Class04: 0.0282 Class05: 0.0000 Class06: 0.0000 \n",
      "Class07: 0.0000 Class08: 0.5352 Class09: 0.7422 Class10: 0.0000 Class11: 0.0000 Class12: 0.3573 \n",
      "Epoch2\n",
      "Valid Seg Loss: 0.4451309750477473 Valid dom Loss: 11.0682053565979\n",
      "Valid Loss: 0.45011166830857596\n",
      "Valid mIoU: 0.2816757998086372\n",
      "___________________________________________________________________________________________\n",
      "\n"
     ]
    },
    {
     "name": "stderr",
     "output_type": "stream",
     "text": [
      "Epoch: 3: 100%|██████████| 138/138 [04:46<00:00,  2.07s/it]\n"
     ]
    },
    {
     "name": "stdout",
     "output_type": "stream",
     "text": [
      "\n",
      "Label_0: IoU Scores Train\n",
      "Class00: 0.2809 Class01: 0.4687 Class02: 0.0002 Class03: 0.3733 Class04: 0.1211 Class05: 0.0000 Class06: 0.0000 \n",
      "Class07: 0.0091 Class08: 0.3878 Class09: 0.4671 Class10: 0.0000 Class11: 0.0000 Class12: 0.3936 \n",
      "Label_1: IoU Scores Train\n",
      "Class00: 0.2412 Class01: 0.3972 Class02: 0.0002 Class03: 0.3267 Class04: 0.1061 Class05: 0.0000 Class06: 0.0000 \n",
      "Class07: 0.0066 Class08: 0.3369 Class09: 0.3910 Class10: 0.0000 Class11: 0.0000 Class12: 0.3459 \n",
      "Label_2: IoU Scores Train\n",
      "Class00: 0.2239 Class01: 0.3545 Class02: 0.0002 Class03: 0.2956 Class04: 0.0945 Class05: 0.0000 Class06: 0.0000 \n",
      "Class07: 0.0056 Class08: 0.3067 Class09: 0.3486 Class10: 0.0000 Class11: 0.0000 Class12: 0.3160 \n",
      "Train seg Loss: 0.3908554585515589 Train dom Loss: 4.342178464979512\n",
      "Train Loss: 0.39280943918055383\n",
      "Train mIoU: 0.1692081322015909\n"
     ]
    },
    {
     "name": "stderr",
     "output_type": "stream",
     "text": [
      "100%|██████████| 30/30 [00:09<00:00,  3.20it/s]\n"
     ]
    },
    {
     "name": "stdout",
     "output_type": "stream",
     "text": [
      "\n",
      "--IoU Scores Fish val--\n",
      "Class00: 0.9724 Class01: 0.6497 Class02: 0.0087 Class03: 0.4199 Class04: 0.1343 Class05: 0.0000 Class06: 0.0000 \n",
      "Class07: 0.0715 Class08: 0.4963 Class09: 0.7202 Class10: 0.0000 Class11: 0.0000 Class12: 0.3593 \n",
      "Epoch3\n",
      "Valid Seg Loss: 0.45134926835695904 Valid dom Loss: 7.213624109682859\n",
      "Valid Loss: 0.45459540287653605\n",
      "Valid mIoU: 0.2947992392417756\n",
      "___________________________________________________________________________________________\n",
      "\n"
     ]
    },
    {
     "name": "stderr",
     "output_type": "stream",
     "text": [
      "Epoch: 4: 100%|██████████| 138/138 [04:43<00:00,  2.05s/it]\n"
     ]
    },
    {
     "name": "stdout",
     "output_type": "stream",
     "text": [
      "\n",
      "Label_0: IoU Scores Train\n",
      "Class00: 0.2820 Class01: 0.4780 Class02: 0.0049 Class03: 0.3877 Class04: 0.1975 Class05: 0.0000 Class06: 0.0000 \n",
      "Class07: 0.0673 Class08: 0.4063 Class09: 0.4767 Class10: 0.0000 Class11: 0.0000 Class12: 0.4097 \n",
      "Label_1: IoU Scores Train\n",
      "Class00: 0.2414 Class01: 0.4018 Class02: 0.0035 Class03: 0.3364 Class04: 0.1661 Class05: 0.0000 Class06: 0.0000 \n",
      "Class07: 0.0506 Class08: 0.3508 Class09: 0.3983 Class10: 0.0000 Class11: 0.0000 Class12: 0.3576 \n",
      "Label_2: IoU Scores Train\n",
      "Class00: 0.2238 Class01: 0.3582 Class02: 0.0029 Class03: 0.3046 Class04: 0.1444 Class05: 0.0000 Class06: 0.0000 \n",
      "Class07: 0.0431 Class08: 0.3201 Class09: 0.3544 Class10: 0.0000 Class11: 0.0000 Class12: 0.3269 \n",
      "Train seg Loss: 0.35890799152534364 Train dom Loss: 5.547413732286189\n",
      "Train Loss: 0.3614043275587225\n",
      "Train mIoU: 0.18192407466149968\n"
     ]
    },
    {
     "name": "stderr",
     "output_type": "stream",
     "text": [
      "100%|██████████| 30/30 [00:08<00:00,  3.42it/s]\n"
     ]
    },
    {
     "name": "stdout",
     "output_type": "stream",
     "text": [
      "\n",
      "--IoU Scores Fish val--\n",
      "Class00: 0.9729 Class01: 0.6683 Class02: 0.0407 Class03: 0.4206 Class04: 0.0867 Class05: 0.0000 Class06: 0.0000 \n",
      "Class07: 0.0820 Class08: 0.5682 Class09: 0.8007 Class10: 0.0000 Class11: 0.0000 Class12: 0.4139 \n",
      "Epoch4\n",
      "Valid Seg Loss: 0.3964074065287908 Valid dom Loss: 14.138482062021891\n",
      "Valid Loss: 0.4027697225411733\n",
      "Valid mIoU: 0.31184792480510953\n",
      "___________________________________________________________________________________________\n",
      "\n"
     ]
    },
    {
     "name": "stderr",
     "output_type": "stream",
     "text": [
      "Epoch: 5: 100%|██████████| 138/138 [04:46<00:00,  2.08s/it]\n"
     ]
    },
    {
     "name": "stdout",
     "output_type": "stream",
     "text": [
      "\n",
      "Label_0: IoU Scores Train\n",
      "Class00: 0.2823 Class01: 0.4866 Class02: 0.0673 Class03: 0.3908 Class04: 0.2251 Class05: 0.0000 Class06: 0.0000 \n",
      "Class07: 0.0796 Class08: 0.4066 Class09: 0.4781 Class10: 0.0000 Class11: 0.0000 Class12: 0.4177 \n",
      "Label_1: IoU Scores Train\n",
      "Class00: 0.2415 Class01: 0.4091 Class02: 0.0565 Class03: 0.3377 Class04: 0.1849 Class05: 0.0000 Class06: 0.0000 \n",
      "Class07: 0.0625 Class08: 0.3509 Class09: 0.3995 Class10: 0.0000 Class11: 0.0000 Class12: 0.3637 \n",
      "Label_2: IoU Scores Train\n",
      "Class00: 0.2240 Class01: 0.3645 Class02: 0.0467 Class03: 0.3070 Class04: 0.1577 Class05: 0.0000 Class06: 0.0000 \n",
      "Class07: 0.0537 Class08: 0.3190 Class09: 0.3567 Class10: 0.0000 Class11: 0.0000 Class12: 0.3314 \n",
      "Train seg Loss: 0.3458209629508032 Train dom Loss: 9.180035772597837\n",
      "Train Loss: 0.3499519796187175\n",
      "Train mIoU: 0.18977288667404468\n"
     ]
    },
    {
     "name": "stderr",
     "output_type": "stream",
     "text": [
      "100%|██████████| 30/30 [00:09<00:00,  3.23it/s]\n"
     ]
    },
    {
     "name": "stdout",
     "output_type": "stream",
     "text": [
      "\n",
      "--IoU Scores Fish val--\n",
      "Class00: 0.9816 Class01: 0.6905 Class02: 0.0984 Class03: 0.4604 Class04: 0.1271 Class05: 0.0000 Class06: 0.0000 \n",
      "Class07: 0.0960 Class08: 0.5911 Class09: 0.8069 Class10: 0.0000 Class11: 0.0000 Class12: 0.4200 \n",
      "Epoch5\n",
      "Valid Seg Loss: 0.37561690211296084 Valid dom Loss: 73.37661145528158\n",
      "Valid Loss: 0.4086363762617111\n",
      "Valid mIoU: 0.3286247135087491\n",
      "___________________________________________________________________________________________\n",
      "\n"
     ]
    },
    {
     "name": "stderr",
     "output_type": "stream",
     "text": [
      "Epoch: 6: 100%|██████████| 138/138 [04:45<00:00,  2.07s/it]\n"
     ]
    },
    {
     "name": "stdout",
     "output_type": "stream",
     "text": [
      "\n",
      "Label_0: IoU Scores Train\n",
      "Class00: 0.2827 Class01: 0.4860 Class02: 0.1143 Class03: 0.3953 Class04: 0.2305 Class05: 0.0000 Class06: 0.0000 \n",
      "Class07: 0.0909 Class08: 0.4113 Class09: 0.4737 Class10: 0.0000 Class11: 0.0000 Class12: 0.4233 \n",
      "Label_1: IoU Scores Train\n",
      "Class00: 0.2414 Class01: 0.4074 Class02: 0.0914 Class03: 0.3417 Class04: 0.1873 Class05: 0.0000 Class06: 0.0000 \n",
      "Class07: 0.0735 Class08: 0.3559 Class09: 0.3949 Class10: 0.0000 Class11: 0.0000 Class12: 0.3668 \n",
      "Label_2: IoU Scores Train\n",
      "Class00: 0.2238 Class01: 0.3619 Class02: 0.0781 Class03: 0.3100 Class04: 0.1608 Class05: 0.0000 Class06: 0.0000 \n",
      "Class07: 0.0647 Class08: 0.3232 Class09: 0.3517 Class10: 0.0000 Class11: 0.0000 Class12: 0.3339 \n",
      "Train seg Loss: 0.33671756610634246 Train dom Loss: 7.706945968343448\n",
      "Train Loss: 0.34018569191296893\n",
      "Train mIoU: 0.19426456498006675\n"
     ]
    },
    {
     "name": "stderr",
     "output_type": "stream",
     "text": [
      "100%|██████████| 30/30 [00:08<00:00,  3.39it/s]\n"
     ]
    },
    {
     "name": "stdout",
     "output_type": "stream",
     "text": [
      "\n",
      "--IoU Scores Fish val--\n",
      "Class00: 0.9785 Class01: 0.6927 Class02: 0.0886 Class03: 0.4612 Class04: 0.1004 Class05: 0.0000 Class06: 0.0000 \n",
      "Class07: 0.1182 Class08: 0.5866 Class09: 0.8046 Class10: 0.0000 Class11: 0.0000 Class12: 0.4955 \n",
      "Epoch6\n",
      "Valid Seg Loss: 0.36075748105843863 Valid dom Loss: 3.658213324348132\n",
      "Valid Loss: 0.3624036769072215\n",
      "Valid mIoU: 0.33278469013245265\n",
      "___________________________________________________________________________________________\n",
      "\n"
     ]
    },
    {
     "name": "stderr",
     "output_type": "stream",
     "text": [
      "Epoch: 7: 100%|██████████| 138/138 [04:44<00:00,  2.06s/it]\n"
     ]
    },
    {
     "name": "stdout",
     "output_type": "stream",
     "text": [
      "\n",
      "Label_0: IoU Scores Train\n",
      "Class00: 0.2832 Class01: 0.4923 Class02: 0.1287 Class03: 0.4003 Class04: 0.2454 Class05: 0.0000 Class06: 0.0066 \n",
      "Class07: 0.1042 Class08: 0.4171 Class09: 0.4795 Class10: 0.0000 Class11: 0.0000 Class12: 0.4315 \n",
      "Label_1: IoU Scores Train\n",
      "Class00: 0.2416 Class01: 0.4121 Class02: 0.1053 Class03: 0.3465 Class04: 0.2010 Class05: 0.0000 Class06: 0.0030 \n",
      "Class07: 0.0835 Class08: 0.3593 Class09: 0.4006 Class10: 0.0000 Class11: 0.0000 Class12: 0.3744 \n",
      "Label_2: IoU Scores Train\n",
      "Class00: 0.2237 Class01: 0.3654 Class02: 0.0907 Class03: 0.3149 Class04: 0.1726 Class05: 0.0000 Class06: 0.0018 \n",
      "Class07: 0.0744 Class08: 0.3268 Class09: 0.3568 Class10: 0.0000 Class11: 0.0000 Class12: 0.3393 \n",
      "Train seg Loss: 0.3226206197902776 Train dom Loss: 5.165822975338132\n",
      "Train Loss: 0.3249452398810986\n",
      "Train mIoU: 0.19955652306871255\n"
     ]
    },
    {
     "name": "stderr",
     "output_type": "stream",
     "text": [
      "100%|██████████| 30/30 [00:09<00:00,  3.20it/s]\n"
     ]
    },
    {
     "name": "stdout",
     "output_type": "stream",
     "text": [
      "\n",
      "--IoU Scores Fish val--\n",
      "Class00: 0.9705 Class01: 0.6500 Class02: 0.0920 Class03: 0.4631 Class04: 0.0845 Class05: 0.0000 Class06: 0.0021 \n",
      "Class07: 0.0856 Class08: 0.5432 Class09: 0.7671 Class10: 0.0000 Class11: 0.0000 Class12: 0.4481 \n",
      "Epoch7\n",
      "Valid Seg Loss: 0.40690622429052986 Valid dom Loss: 11.405676096804866\n",
      "Valid Loss: 0.41203877826531726\n",
      "Valid mIoU: 0.3158715830718343\n",
      "___________________________________________________________________________________________\n",
      "\n"
     ]
    },
    {
     "name": "stderr",
     "output_type": "stream",
     "text": [
      "Epoch: 8: 100%|██████████| 138/138 [04:42<00:00,  2.04s/it]\n"
     ]
    },
    {
     "name": "stdout",
     "output_type": "stream",
     "text": [
      "\n",
      "Label_0: IoU Scores Train\n",
      "Class00: 0.2829 Class01: 0.4974 Class02: 0.1554 Class03: 0.4087 Class04: 0.2485 Class05: 0.0000 Class06: 0.0263 \n",
      "Class07: 0.1230 Class08: 0.4186 Class09: 0.4823 Class10: 0.0000 Class11: 0.0000 Class12: 0.4503 \n",
      "Label_1: IoU Scores Train\n",
      "Class00: 0.2416 Class01: 0.4164 Class02: 0.1225 Class03: 0.3530 Class04: 0.2030 Class05: 0.0000 Class06: 0.0138 \n",
      "Class07: 0.0990 Class08: 0.3617 Class09: 0.4022 Class10: 0.0000 Class11: 0.0000 Class12: 0.3882 \n",
      "Label_2: IoU Scores Train\n",
      "Class00: 0.2239 Class01: 0.3690 Class02: 0.1028 Class03: 0.3188 Class04: 0.1734 Class05: 0.0000 Class06: 0.0089 \n",
      "Class07: 0.0876 Class08: 0.3293 Class09: 0.3580 Class10: 0.0000 Class11: 0.0000 Class12: 0.3516 \n",
      "Train seg Loss: 0.3088312938377477 Train dom Loss: 15.03733946645366\n",
      "Train Loss: 0.3155980965365534\n",
      "Train mIoU: 0.2055869332674348\n"
     ]
    },
    {
     "name": "stderr",
     "output_type": "stream",
     "text": [
      "100%|██████████| 30/30 [00:08<00:00,  3.42it/s]\n"
     ]
    },
    {
     "name": "stdout",
     "output_type": "stream",
     "text": [
      "\n",
      "--IoU Scores Fish val--\n",
      "Class00: 0.9694 Class01: 0.6971 Class02: 0.1325 Class03: 0.4649 Class04: 0.0924 Class05: 0.0000 Class06: 0.0072 \n",
      "Class07: 0.1230 Class08: 0.5829 Class09: 0.7549 Class10: 0.0000 Class11: 0.0000 Class12: 0.5271 \n",
      "Epoch8\n",
      "Valid Seg Loss: 0.370589346686999 Valid dom Loss: 27.176776313781737\n",
      "Valid Loss: 0.3828188975652059\n",
      "Valid mIoU: 0.3347243920072681\n",
      "___________________________________________________________________________________________\n",
      "\n"
     ]
    },
    {
     "name": "stderr",
     "output_type": "stream",
     "text": [
      "Epoch: 9: 100%|██████████| 138/138 [04:45<00:00,  2.07s/it]\n"
     ]
    },
    {
     "name": "stdout",
     "output_type": "stream",
     "text": [
      "\n",
      "Label_0: IoU Scores Train\n",
      "Class00: 0.2825 Class01: 0.4982 Class02: 0.1595 Class03: 0.4136 Class04: 0.2681 Class05: 0.0000 Class06: 0.0367 \n",
      "Class07: 0.1236 Class08: 0.4203 Class09: 0.4830 Class10: 0.0000 Class11: 0.0000 Class12: 0.4513 \n",
      "Label_1: IoU Scores Train\n",
      "Class00: 0.2416 Class01: 0.4175 Class02: 0.1273 Class03: 0.3573 Class04: 0.2167 Class05: 0.0000 Class06: 0.0218 \n",
      "Class07: 0.0996 Class08: 0.3627 Class09: 0.4026 Class10: 0.0000 Class11: 0.0000 Class12: 0.3902 \n",
      "Label_2: IoU Scores Train\n",
      "Class00: 0.2240 Class01: 0.3704 Class02: 0.1070 Class03: 0.3237 Class04: 0.1860 Class05: 0.0000 Class06: 0.0148 \n",
      "Class07: 0.0866 Class08: 0.3324 Class09: 0.3583 Class10: 0.0000 Class11: 0.0000 Class12: 0.3551 \n",
      "Train seg Loss: 0.30566154873889423 Train dom Loss: 26.46391308118487\n",
      "Train Loss: 0.3175703085563033\n",
      "Train mIoU: 0.20852471211457574\n"
     ]
    },
    {
     "name": "stderr",
     "output_type": "stream",
     "text": [
      "100%|██████████| 30/30 [00:09<00:00,  3.24it/s]\n"
     ]
    },
    {
     "name": "stdout",
     "output_type": "stream",
     "text": [
      "\n",
      "--IoU Scores Fish val--\n",
      "Class00: 0.9716 Class01: 0.6859 Class02: 0.1238 Class03: 0.4872 Class04: 0.1159 Class05: 0.0000 Class06: 0.0098 \n",
      "Class07: 0.0965 Class08: 0.5845 Class09: 0.7922 Class10: 0.0000 Class11: 0.0000 Class12: 0.5404 \n",
      "Epoch9\n",
      "Valid Seg Loss: 0.3626207460959752 Valid dom Loss: 7.620739150047302\n",
      "Valid Loss: 0.3660500794649124\n",
      "Valid mIoU: 0.33905835386126665\n",
      "___________________________________________________________________________________________\n",
      "\n"
     ]
    },
    {
     "name": "stderr",
     "output_type": "stream",
     "text": [
      "Epoch: 10: 100%|██████████| 138/138 [04:44<00:00,  2.06s/it]\n"
     ]
    },
    {
     "name": "stdout",
     "output_type": "stream",
     "text": [
      "\n",
      "Label_0: IoU Scores Train\n",
      "Class00: 0.2822 Class01: 0.4959 Class02: 0.1615 Class03: 0.4141 Class04: 0.2624 Class05: 0.0000 Class06: 0.0330 \n",
      "Class07: 0.1252 Class08: 0.4225 Class09: 0.4832 Class10: 0.0000 Class11: 0.0000 Class12: 0.4551 \n",
      "Label_1: IoU Scores Train\n",
      "Class00: 0.2416 Class01: 0.4163 Class02: 0.1294 Class03: 0.3572 Class04: 0.2111 Class05: 0.0000 Class06: 0.0217 \n",
      "Class07: 0.1008 Class08: 0.3627 Class09: 0.4028 Class10: 0.0000 Class11: 0.0000 Class12: 0.3928 \n",
      "Label_2: IoU Scores Train\n",
      "Class00: 0.2242 Class01: 0.3708 Class02: 0.1087 Class03: 0.3235 Class04: 0.1794 Class05: 0.0000 Class06: 0.0165 \n",
      "Class07: 0.0887 Class08: 0.3304 Class09: 0.3584 Class10: 0.0000 Class11: 0.0000 Class12: 0.3561 \n",
      "Train seg Loss: 0.31077163626894283 Train dom Loss: 38.60672856971693\n",
      "Train Loss: 0.32814466312599644\n",
      "Train mIoU: 0.20841607464284062\n"
     ]
    },
    {
     "name": "stderr",
     "output_type": "stream",
     "text": [
      "100%|██████████| 30/30 [00:08<00:00,  3.41it/s]\n"
     ]
    },
    {
     "name": "stdout",
     "output_type": "stream",
     "text": [
      "\n",
      "--IoU Scores Fish val--\n",
      "Class00: 0.9687 Class01: 0.7331 Class02: 0.1407 Class03: 0.4887 Class04: 0.0639 Class05: 0.0000 Class06: 0.0158 \n",
      "Class07: 0.1200 Class08: 0.5911 Class09: 0.7561 Class10: 0.0000 Class11: 0.0000 Class12: 0.5789 \n",
      "Epoch10\n",
      "Valid Seg Loss: 0.376427952448527 Valid dom Loss: 42.29718707402547\n",
      "Valid Loss: 0.39546168645222984\n",
      "Valid mIoU: 0.3428472879766492\n",
      "___________________________________________________________________________________________\n",
      "\n"
     ]
    },
    {
     "name": "stderr",
     "output_type": "stream",
     "text": [
      "Epoch: 11: 100%|██████████| 138/138 [04:45<00:00,  2.07s/it]\n"
     ]
    },
    {
     "name": "stdout",
     "output_type": "stream",
     "text": [
      "\n",
      "Label_0: IoU Scores Train\n",
      "Class00: 0.2832 Class01: 0.5010 Class02: 0.1743 Class03: 0.4201 Class04: 0.2747 Class05: 0.0002 Class06: 0.0455 \n",
      "Class07: 0.1370 Class08: 0.4322 Class09: 0.4842 Class10: 0.0000 Class11: 0.0000 Class12: 0.4724 \n",
      "Label_1: IoU Scores Train\n",
      "Class00: 0.2416 Class01: 0.4181 Class02: 0.1376 Class03: 0.3621 Class04: 0.2219 Class05: 0.0001 Class06: 0.0292 \n",
      "Class07: 0.1109 Class08: 0.3715 Class09: 0.4030 Class10: 0.0000 Class11: 0.0000 Class12: 0.4055 \n",
      "Label_2: IoU Scores Train\n",
      "Class00: 0.2241 Class01: 0.3710 Class02: 0.1148 Class03: 0.3286 Class04: 0.1898 Class05: 0.0000 Class06: 0.0218 \n",
      "Class07: 0.0964 Class08: 0.3372 Class09: 0.3588 Class10: 0.0000 Class11: 0.0000 Class12: 0.3663 \n",
      "Train seg Loss: 0.2929459793700112 Train dom Loss: 29.188931748166244\n",
      "Train Loss: 0.306080998789861\n",
      "Train mIoU: 0.2137183954984597\n"
     ]
    },
    {
     "name": "stderr",
     "output_type": "stream",
     "text": [
      "100%|██████████| 30/30 [00:08<00:00,  3.34it/s]\n"
     ]
    },
    {
     "name": "stdout",
     "output_type": "stream",
     "text": [
      "\n",
      "--IoU Scores Fish val--\n",
      "Class00: 0.9831 Class01: 0.7264 Class02: 0.1002 Class03: 0.5042 Class04: 0.1064 Class05: 0.0000 Class06: 0.0197 \n",
      "Class07: 0.1481 Class08: 0.6159 Class09: 0.8147 Class10: 0.0000 Class11: 0.0000 Class12: 0.5886 \n",
      "Epoch11\n",
      "Valid Seg Loss: 0.3261389081676801 Valid dom Loss: 5.937925429577717e-07\n",
      "Valid Loss: 0.3261389081676801\n",
      "Valid mIoU: 0.35441897161590263\n",
      "___________________________________________________________________________________________\n",
      "\n"
     ]
    },
    {
     "name": "stderr",
     "output_type": "stream",
     "text": [
      "Epoch: 12: 100%|██████████| 138/138 [04:43<00:00,  2.06s/it]\n"
     ]
    },
    {
     "name": "stdout",
     "output_type": "stream",
     "text": [
      "\n",
      "Label_0: IoU Scores Train\n",
      "Class00: 0.2826 Class01: 0.5025 Class02: 0.1794 Class03: 0.4214 Class04: 0.2666 Class05: 0.0005 Class06: 0.0438 \n",
      "Class07: 0.1323 Class08: 0.4308 Class09: 0.4856 Class10: 0.0000 Class11: 0.0000 Class12: 0.4630 \n",
      "Label_1: IoU Scores Train\n",
      "Class00: 0.2416 Class01: 0.4192 Class02: 0.1429 Class03: 0.3609 Class04: 0.2108 Class05: 0.0003 Class06: 0.0283 \n",
      "Class07: 0.1049 Class08: 0.3689 Class09: 0.4044 Class10: 0.0000 Class11: 0.0000 Class12: 0.3986 \n",
      "Label_2: IoU Scores Train\n",
      "Class00: 0.2242 Class01: 0.3727 Class02: 0.1181 Class03: 0.3271 Class04: 0.1803 Class05: 0.0004 Class06: 0.0207 \n",
      "Class07: 0.0919 Class08: 0.3360 Class09: 0.3603 Class10: 0.0000 Class11: 0.0000 Class12: 0.3614 \n",
      "Train seg Loss: 0.2963463080606023 Train dom Loss: 39.53837924101502\n",
      "Train Loss: 0.31413857833198877\n",
      "Train mIoU: 0.21237243909750522\n"
     ]
    },
    {
     "name": "stderr",
     "output_type": "stream",
     "text": [
      "100%|██████████| 30/30 [00:11<00:00,  2.50it/s]\n"
     ]
    },
    {
     "name": "stdout",
     "output_type": "stream",
     "text": [
      "\n",
      "--IoU Scores Fish val--\n",
      "Class00: 0.9805 Class01: 0.7130 Class02: 0.0815 Class03: 0.4882 Class04: 0.1337 Class05: 0.0000 Class06: 0.0154 \n",
      "Class07: 0.1158 Class08: 0.5924 Class09: 0.8105 Class10: 0.0000 Class11: 0.0000 Class12: 0.5468 \n",
      "Epoch12\n",
      "Valid Seg Loss: 0.34206690539916357 Valid dom Loss: 10.050972986221314\n",
      "Valid Loss: 0.34658984243869784\n",
      "Valid mIoU: 0.34445065668542907\n",
      "___________________________________________________________________________________________\n",
      "\n"
     ]
    },
    {
     "name": "stderr",
     "output_type": "stream",
     "text": [
      "Epoch: 13: 100%|██████████| 138/138 [05:02<00:00,  2.19s/it]\n"
     ]
    },
    {
     "name": "stdout",
     "output_type": "stream",
     "text": [
      "\n",
      "Label_0: IoU Scores Train\n",
      "Class00: 0.2833 Class01: 0.5039 Class02: 0.1931 Class03: 0.4230 Class04: 0.2735 Class05: 0.0012 Class06: 0.0476 \n",
      "Class07: 0.1461 Class08: 0.4379 Class09: 0.4846 Class10: 0.0000 Class11: 0.0000 Class12: 0.4634 \n",
      "Label_1: IoU Scores Train\n",
      "Class00: 0.2419 Class01: 0.4209 Class02: 0.1557 Class03: 0.3638 Class04: 0.2196 Class05: 0.0010 Class06: 0.0328 \n",
      "Class07: 0.1171 Class08: 0.3753 Class09: 0.4038 Class10: 0.0000 Class11: 0.0000 Class12: 0.4009 \n",
      "Label_2: IoU Scores Train\n",
      "Class00: 0.2241 Class01: 0.3741 Class02: 0.1312 Class03: 0.3302 Class04: 0.1873 Class05: 0.0009 Class06: 0.0263 \n",
      "Class07: 0.1018 Class08: 0.3414 Class09: 0.3601 Class10: 0.0000 Class11: 0.0000 Class12: 0.3632 \n",
      "Train seg Loss: 0.28774111807922237 Train dom Loss: 33.99687084408054\n",
      "Train Loss: 0.30303971001491453\n",
      "Train mIoU: 0.21617974540477525\n"
     ]
    },
    {
     "name": "stderr",
     "output_type": "stream",
     "text": [
      "100%|██████████| 30/30 [00:26<00:00,  1.12it/s]\n"
     ]
    },
    {
     "name": "stdout",
     "output_type": "stream",
     "text": [
      "\n",
      "--IoU Scores Fish val--\n",
      "Class00: 0.9773 Class01: 0.7203 Class02: 0.1098 Class03: 0.4263 Class04: 0.1003 Class05: 0.0018 Class06: 0.0243 \n",
      "Class07: 0.1190 Class08: 0.5878 Class09: 0.7274 Class10: 0.0000 Class11: 0.0000 Class12: 0.5504 \n",
      "Epoch13\n",
      "Valid Seg Loss: 0.3687645897269249 Valid dom Loss: 15.730254141489665\n",
      "Valid Loss: 0.37584320406119026\n",
      "Valid mIoU: 0.33421428899975913\n",
      "___________________________________________________________________________________________\n",
      "\n"
     ]
    },
    {
     "name": "stderr",
     "output_type": "stream",
     "text": [
      "Epoch: 14: 100%|██████████| 138/138 [05:47<00:00,  2.52s/it]\n"
     ]
    },
    {
     "name": "stdout",
     "output_type": "stream",
     "text": [
      "\n",
      "Label_0: IoU Scores Train\n",
      "Class00: 0.2687 Class01: 0.4454 Class02: 0.0452 Class03: 0.3461 Class04: 0.1177 Class05: 0.0001 Class06: 0.0118 \n",
      "Class07: 0.0630 Class08: 0.3823 Class09: 0.4519 Class10: 0.0000 Class11: 0.0000 Class12: 0.3618 \n",
      "Label_1: IoU Scores Train\n",
      "Class00: 0.2377 Class01: 0.3863 Class02: 0.0372 Class03: 0.3081 Class04: 0.0992 Class05: 0.0001 Class06: 0.0076 \n",
      "Class07: 0.0487 Class08: 0.3357 Class09: 0.3797 Class10: 0.0000 Class11: 0.0000 Class12: 0.3281 \n",
      "Label_2: IoU Scores Train\n",
      "Class00: 0.2232 Class01: 0.3473 Class02: 0.0317 Class03: 0.2821 Class04: 0.0870 Class05: 0.0002 Class06: 0.0058 \n",
      "Class07: 0.0421 Class08: 0.3060 Class09: 0.3393 Class10: 0.0000 Class11: 0.0000 Class12: 0.3018 \n",
      "Train seg Loss: 1.0741993570025417 Train dom Loss: 1633.7825329033947\n",
      "Train Loss: 1.809401478672373\n",
      "Train mIoU: 0.16997106348837562\n"
     ]
    },
    {
     "name": "stderr",
     "output_type": "stream",
     "text": [
      "100%|██████████| 30/30 [00:27<00:00,  1.10it/s]\n"
     ]
    },
    {
     "name": "stdout",
     "output_type": "stream",
     "text": [
      "\n",
      "--IoU Scores Fish val--\n",
      "Class00: 0.9753 Class01: 0.7216 Class02: 0.1094 Class03: 0.4972 Class04: 0.1405 Class05: 0.0000 Class06: 0.0041 \n",
      "Class07: 0.1234 Class08: 0.6083 Class09: 0.8150 Class10: 0.0000 Class11: 0.0000 Class12: 0.5345 \n",
      "Epoch14\n",
      "Valid Seg Loss: 0.35153641949097314 Valid dom Loss: 37.78973395029704\n",
      "Valid Loss: 0.3685418004790942\n",
      "Valid mIoU: 0.34840852262098976\n",
      "___________________________________________________________________________________________\n",
      "\n"
     ]
    },
    {
     "name": "stderr",
     "output_type": "stream",
     "text": [
      "Epoch: 15: 100%|██████████| 138/138 [05:54<00:00,  2.57s/it]\n"
     ]
    },
    {
     "name": "stdout",
     "output_type": "stream",
     "text": [
      "\n",
      "Label_0: IoU Scores Train\n",
      "Class00: 0.2802 Class01: 0.4927 Class02: 0.1440 Class03: 0.4067 Class04: 0.2504 Class05: 0.0001 Class06: 0.0375 \n",
      "Class07: 0.1073 Class08: 0.4213 Class09: 0.4809 Class10: 0.0000 Class11: 0.0000 Class12: 0.4421 \n",
      "Label_1: IoU Scores Train\n",
      "Class00: 0.2418 Class01: 0.4166 Class02: 0.1186 Class03: 0.3532 Class04: 0.2052 Class05: 0.0000 Class06: 0.0227 \n",
      "Class07: 0.0859 Class08: 0.3643 Class09: 0.4025 Class10: 0.0000 Class11: 0.0000 Class12: 0.3869 \n",
      "Label_2: IoU Scores Train\n",
      "Class00: 0.2246 Class01: 0.3707 Class02: 0.1000 Class03: 0.3204 Class04: 0.1767 Class05: 0.0000 Class06: 0.0164 \n",
      "Class07: 0.0763 Class08: 0.3324 Class09: 0.3593 Class10: 0.0000 Class11: 0.0000 Class12: 0.3519 \n",
      "Train seg Loss: 0.31589039040792394 Train dom Loss: 52.60040782787949\n",
      "Train Loss: 0.3395605737676367\n",
      "Train mIoU: 0.20486547351942447\n"
     ]
    },
    {
     "name": "stderr",
     "output_type": "stream",
     "text": [
      "100%|██████████| 30/30 [00:27<00:00,  1.09it/s]\n"
     ]
    },
    {
     "name": "stdout",
     "output_type": "stream",
     "text": [
      "\n",
      "--IoU Scores Fish val--\n",
      "Class00: 0.9780 Class01: 0.7087 Class02: 0.1265 Class03: 0.5147 Class04: 0.1291 Class05: 0.0008 Class06: 0.0162 \n",
      "Class07: 0.1356 Class08: 0.6151 Class09: 0.8076 Class10: 0.0000 Class11: 0.0000 Class12: 0.5545 \n",
      "Epoch15\n",
      "Valid Seg Loss: 0.3390263423323631 Valid dom Loss: 6.1522473653157554\n",
      "Valid Loss: 0.341794852912426\n",
      "Valid mIoU: 0.3528323353717767\n",
      "___________________________________________________________________________________________\n",
      "\n"
     ]
    },
    {
     "name": "stderr",
     "output_type": "stream",
     "text": [
      "Epoch: 16: 100%|██████████| 138/138 [05:27<00:00,  2.38s/it]\n"
     ]
    },
    {
     "name": "stdout",
     "output_type": "stream",
     "text": [
      "\n",
      "Label_0: IoU Scores Train\n",
      "Class00: 0.2808 Class01: 0.4931 Class02: 0.1583 Class03: 0.4082 Class04: 0.2581 Class05: 0.0002 Class06: 0.0472 \n",
      "Class07: 0.1230 Class08: 0.4273 Class09: 0.4819 Class10: 0.0001 Class11: 0.0002 Class12: 0.4479 \n",
      "Label_1: IoU Scores Train\n",
      "Class00: 0.2417 Class01: 0.4166 Class02: 0.1280 Class03: 0.3531 Class04: 0.2083 Class05: 0.0002 Class06: 0.0326 \n",
      "Class07: 0.0976 Class08: 0.3686 Class09: 0.4025 Class10: 0.0002 Class11: 0.0001 Class12: 0.3881 \n",
      "Label_2: IoU Scores Train\n",
      "Class00: 0.2243 Class01: 0.3712 Class02: 0.1086 Class03: 0.3202 Class04: 0.1774 Class05: 0.0002 Class06: 0.0254 \n",
      "Class07: 0.0859 Class08: 0.3347 Class09: 0.3583 Class10: 0.0003 Class11: 0.0003 Class12: 0.3507 \n",
      "Train seg Loss: 0.33272432762643567 Train dom Loss: 109.44992826055795\n",
      "Train Loss: 0.3819767936056363\n",
      "Train mIoU: 0.2082433092352077\n"
     ]
    },
    {
     "name": "stderr",
     "output_type": "stream",
     "text": [
      "100%|██████████| 30/30 [00:37<00:00,  1.26s/it]\n"
     ]
    },
    {
     "name": "stdout",
     "output_type": "stream",
     "text": [
      "\n",
      "--IoU Scores Fish val--\n",
      "Class00: 0.9666 Class01: 0.7040 Class02: 0.1024 Class03: 0.4576 Class04: 0.1006 Class05: 0.0005 Class06: 0.0170 \n",
      "Class07: 0.1298 Class08: 0.5774 Class09: 0.7964 Class10: 0.0000 Class11: 0.0000 Class12: 0.5514 \n",
      "Epoch16\n",
      "Valid Seg Loss: 0.37646006842454277 Valid dom Loss: 79.47457326253256\n",
      "Valid Loss: 0.41222362518310546\n",
      "Valid mIoU: 0.33873197447519643\n",
      "___________________________________________________________________________________________\n",
      "\n"
     ]
    },
    {
     "name": "stderr",
     "output_type": "stream",
     "text": [
      "Epoch: 17: 100%|██████████| 138/138 [05:38<00:00,  2.45s/it]\n"
     ]
    },
    {
     "name": "stdout",
     "output_type": "stream",
     "text": [
      "\n",
      "Label_0: IoU Scores Train\n",
      "Class00: 0.2800 Class01: 0.4953 Class02: 0.1665 Class03: 0.4128 Class04: 0.2494 Class05: 0.0001 Class06: 0.0456 \n",
      "Class07: 0.1230 Class08: 0.4317 Class09: 0.4826 Class10: 0.0002 Class11: 0.0001 Class12: 0.4552 \n",
      "Label_1: IoU Scores Train\n",
      "Class00: 0.2424 Class01: 0.4188 Class02: 0.1343 Class03: 0.3576 Class04: 0.2043 Class05: 0.0002 Class06: 0.0317 \n",
      "Class07: 0.0995 Class08: 0.3735 Class09: 0.4025 Class10: 0.0002 Class11: 0.0001 Class12: 0.3940 \n",
      "Label_2: IoU Scores Train\n",
      "Class00: 0.2252 Class01: 0.3721 Class02: 0.1142 Class03: 0.3252 Class04: 0.1744 Class05: 0.0002 Class06: 0.0256 \n",
      "Class07: 0.0892 Class08: 0.3411 Class09: 0.3591 Class10: 0.0002 Class11: 0.0002 Class12: 0.3592 \n",
      "Train seg Loss: 0.3166296173984878 Train dom Loss: 56.35099719520456\n",
      "Train Loss: 0.3419875662755851\n",
      "Train mIoU: 0.20993508990705773\n"
     ]
    },
    {
     "name": "stderr",
     "output_type": "stream",
     "text": [
      "100%|██████████| 30/30 [00:28<00:00,  1.06it/s]\n"
     ]
    },
    {
     "name": "stdout",
     "output_type": "stream",
     "text": [
      "\n",
      "--IoU Scores Fish val--\n",
      "Class00: 0.9810 Class01: 0.7019 Class02: 0.1371 Class03: 0.4858 Class04: 0.1047 Class05: 0.0002 Class06: 0.0133 \n",
      "Class07: 0.1090 Class08: 0.5914 Class09: 0.8142 Class10: 0.0000 Class11: 0.0000 Class12: 0.5631 \n",
      "Epoch17\n",
      "Valid Seg Loss: 0.34195567270119986 Valid dom Loss: 15.642582511901855\n",
      "Valid Loss: 0.34899483223756156\n",
      "Valid mIoU: 0.3462796496230602\n",
      "___________________________________________________________________________________________\n",
      "\n"
     ]
    },
    {
     "name": "stderr",
     "output_type": "stream",
     "text": [
      "Epoch: 18: 100%|██████████| 138/138 [06:00<00:00,  2.61s/it]\n"
     ]
    },
    {
     "name": "stdout",
     "output_type": "stream",
     "text": [
      "\n",
      "Label_0: IoU Scores Train\n",
      "Class00: 0.2801 Class01: 0.4970 Class02: 0.1857 Class03: 0.4169 Class04: 0.2735 Class05: 0.0009 Class06: 0.0513 \n",
      "Class07: 0.1299 Class08: 0.4314 Class09: 0.4825 Class10: 0.0003 Class11: 0.0004 Class12: 0.4637 \n",
      "Label_1: IoU Scores Train\n",
      "Class00: 0.2416 Class01: 0.4170 Class02: 0.1436 Class03: 0.3609 Class04: 0.2200 Class05: 0.0013 Class06: 0.0354 \n",
      "Class07: 0.1022 Class08: 0.3709 Class09: 0.4028 Class10: 0.0005 Class11: 0.0006 Class12: 0.3981 \n",
      "Label_2: IoU Scores Train\n",
      "Class00: 0.2247 Class01: 0.3705 Class02: 0.1197 Class03: 0.3273 Class04: 0.1879 Class05: 0.0019 Class06: 0.0278 \n",
      "Class07: 0.0900 Class08: 0.3379 Class09: 0.3585 Class10: 0.0005 Class11: 0.0012 Class12: 0.3601 \n",
      "Train seg Loss: 0.3039520140647312 Train dom Loss: 47.793743331165274\n",
      "Train Loss: 0.3254591978474516\n",
      "Train mIoU: 0.2132477209689296\n"
     ]
    },
    {
     "name": "stderr",
     "output_type": "stream",
     "text": [
      "100%|██████████| 30/30 [00:24<00:00,  1.22it/s]\n"
     ]
    },
    {
     "name": "stdout",
     "output_type": "stream",
     "text": [
      "\n",
      "--IoU Scores Fish val--\n",
      "Class00: 0.9821 Class01: 0.7572 Class02: 0.1203 Class03: 0.5186 Class04: 0.1124 Class05: 0.0000 Class06: 0.0137 \n",
      "Class07: 0.1042 Class08: 0.6074 Class09: 0.8416 Class10: 0.0000 Class11: 0.0000 Class12: 0.5744 \n",
      "Epoch18\n",
      "Valid Seg Loss: 0.3161900674303373 Valid dom Loss: 56.870489311218265\n",
      "Valid Loss: 0.3417817865808805\n",
      "Valid mIoU: 0.35629851833660287\n",
      "___________________________________________________________________________________________\n",
      "\n"
     ]
    },
    {
     "name": "stderr",
     "output_type": "stream",
     "text": [
      "Epoch: 19: 100%|██████████| 138/138 [05:58<00:00,  2.60s/it]\n"
     ]
    },
    {
     "name": "stdout",
     "output_type": "stream",
     "text": [
      "\n",
      "Label_0: IoU Scores Train\n",
      "Class00: 0.2804 Class01: 0.5001 Class02: 0.2027 Class03: 0.4239 Class04: 0.2646 Class05: 0.0013 Class06: 0.0516 \n",
      "Class07: 0.1397 Class08: 0.4307 Class09: 0.4865 Class10: 0.0002 Class11: 0.0013 Class12: 0.4721 \n",
      "Label_1: IoU Scores Train\n",
      "Class00: 0.2419 Class01: 0.4220 Class02: 0.1574 Class03: 0.3662 Class04: 0.2128 Class05: 0.0016 Class06: 0.0351 \n",
      "Class07: 0.1080 Class08: 0.3713 Class09: 0.4060 Class10: 0.0004 Class11: 0.0013 Class12: 0.4064 \n",
      "Label_2: IoU Scores Train\n",
      "Class00: 0.2248 Class01: 0.3767 Class02: 0.1298 Class03: 0.3316 Class04: 0.1833 Class05: 0.0018 Class06: 0.0278 \n",
      "Class07: 0.0929 Class08: 0.3385 Class09: 0.3623 Class10: 0.0005 Class11: 0.0016 Class12: 0.3696 \n",
      "Train seg Loss: 0.2905318876683424 Train dom Loss: 40.85309662594312\n",
      "Train Loss: 0.30891578083021054\n",
      "Train mIoU: 0.2160719825938349\n"
     ]
    },
    {
     "name": "stderr",
     "output_type": "stream",
     "text": [
      "100%|██████████| 30/30 [00:25<00:00,  1.19it/s]\n"
     ]
    },
    {
     "name": "stdout",
     "output_type": "stream",
     "text": [
      "\n",
      "--IoU Scores Fish val--\n",
      "Class00: 0.9813 Class01: 0.7434 Class02: 0.1401 Class03: 0.4738 Class04: 0.1071 Class05: 0.0032 Class06: 0.0180 \n",
      "Class07: 0.1353 Class08: 0.5786 Class09: 0.8030 Class10: 0.0000 Class11: 0.0000 Class12: 0.5675 \n",
      "Epoch19\n",
      "Valid Seg Loss: 0.3468039184808731 Valid dom Loss: 19.55254069964091\n",
      "Valid Loss: 0.3556025609374046\n",
      "Valid mIoU: 0.35011532076785196\n",
      "___________________________________________________________________________________________\n",
      "\n"
     ]
    },
    {
     "name": "stderr",
     "output_type": "stream",
     "text": [
      "Epoch: 20: 100%|██████████| 138/138 [05:24<00:00,  2.35s/it]\n"
     ]
    },
    {
     "name": "stdout",
     "output_type": "stream",
     "text": [
      "\n",
      "Label_0: IoU Scores Train\n",
      "Class00: 0.2812 Class01: 0.4983 Class02: 0.1908 Class03: 0.4225 Class04: 0.2764 Class05: 0.0023 Class06: 0.0465 \n",
      "Class07: 0.1423 Class08: 0.4292 Class09: 0.4860 Class10: 0.0003 Class11: 0.0017 Class12: 0.4751 \n",
      "Label_1: IoU Scores Train\n",
      "Class00: 0.2419 Class01: 0.4199 Class02: 0.1486 Class03: 0.3647 Class04: 0.2205 Class05: 0.0031 Class06: 0.0332 \n",
      "Class07: 0.1108 Class08: 0.3683 Class09: 0.4052 Class10: 0.0004 Class11: 0.0022 Class12: 0.4078 \n",
      "Label_2: IoU Scores Train\n",
      "Class00: 0.2247 Class01: 0.3740 Class02: 0.1228 Class03: 0.3314 Class04: 0.1884 Class05: 0.0031 Class06: 0.0270 \n",
      "Class07: 0.0961 Class08: 0.3346 Class09: 0.3607 Class10: 0.0004 Class11: 0.0025 Class12: 0.3696 \n",
      "Train seg Loss: 0.29881882638746987 Train dom Loss: 72.39841471019336\n",
      "Train Loss: 0.3313981121145009\n",
      "Train mIoU: 0.21575563977204854\n"
     ]
    },
    {
     "name": "stderr",
     "output_type": "stream",
     "text": [
      "100%|██████████| 30/30 [00:26<00:00,  1.14it/s]\n"
     ]
    },
    {
     "name": "stdout",
     "output_type": "stream",
     "text": [
      "\n",
      "--IoU Scores Fish val--\n",
      "Class00: 0.9510 Class01: 0.6097 Class02: 0.0930 Class03: 0.2833 Class04: 0.0192 Class05: 0.0002 Class06: 0.0089 \n",
      "Class07: 0.0455 Class08: 0.3566 Class09: 0.6435 Class10: 0.0000 Class11: 0.0000 Class12: 0.3388 \n",
      "Epoch20\n",
      "Valid Seg Loss: 0.6113785336414973 Valid dom Loss: 18.19051549434662\n",
      "Valid Loss: 0.6195642630259196\n",
      "Valid mIoU: 0.2576730897975408\n",
      "___________________________________________________________________________________________\n",
      "\n"
     ]
    },
    {
     "name": "stderr",
     "output_type": "stream",
     "text": [
      "Epoch: 21: 100%|██████████| 138/138 [05:55<00:00,  2.57s/it]\n"
     ]
    },
    {
     "name": "stdout",
     "output_type": "stream",
     "text": [
      "\n",
      "Label_0: IoU Scores Train\n",
      "Class00: 0.2824 Class01: 0.4997 Class02: 0.1960 Class03: 0.4250 Class04: 0.2767 Class05: 0.0043 Class06: 0.0520 \n",
      "Class07: 0.1443 Class08: 0.4336 Class09: 0.4840 Class10: 0.0002 Class11: 0.0019 Class12: 0.4648 \n",
      "Label_1: IoU Scores Train\n",
      "Class00: 0.2416 Class01: 0.4184 Class02: 0.1511 Class03: 0.3661 Class04: 0.2213 Class05: 0.0050 Class06: 0.0374 \n",
      "Class07: 0.1136 Class08: 0.3715 Class09: 0.4036 Class10: 0.0003 Class11: 0.0018 Class12: 0.4011 \n",
      "Label_2: IoU Scores Train\n",
      "Class00: 0.2240 Class01: 0.3714 Class02: 0.1242 Class03: 0.3321 Class04: 0.1887 Class05: 0.0048 Class06: 0.0295 \n",
      "Class07: 0.0977 Class08: 0.3371 Class09: 0.3595 Class10: 0.0003 Class11: 0.0027 Class12: 0.3627 \n",
      "Train seg Loss: 0.2862039255563188 Train dom Loss: 31.08863179464847\n",
      "Train Loss: 0.30019381016060925\n",
      "Train mIoU: 0.21621644520112696\n"
     ]
    },
    {
     "name": "stderr",
     "output_type": "stream",
     "text": [
      "100%|██████████| 30/30 [00:23<00:00,  1.25it/s]\n"
     ]
    },
    {
     "name": "stdout",
     "output_type": "stream",
     "text": [
      "\n",
      "--IoU Scores Fish val--\n",
      "Class00: 0.9831 Class01: 0.7311 Class02: 0.1185 Class03: 0.5062 Class04: 0.1490 Class05: 0.0004 Class06: 0.0191 \n",
      "Class07: 0.1180 Class08: 0.6131 Class09: 0.8093 Class10: 0.0000 Class11: 0.0000 Class12: 0.5862 \n",
      "Epoch21\n",
      "Valid Seg Loss: 0.32824871093034746 Valid dom Loss: 14.655799992879231\n",
      "Valid Loss: 0.3348438208301862\n",
      "Valid mIoU: 0.3564472316245365\n",
      "___________________________________________________________________________________________\n",
      "\n"
     ]
    },
    {
     "name": "stderr",
     "output_type": "stream",
     "text": [
      "Epoch: 22: 100%|██████████| 138/138 [05:49<00:00,  2.53s/it]\n"
     ]
    },
    {
     "name": "stdout",
     "output_type": "stream",
     "text": [
      "\n",
      "Label_0: IoU Scores Train\n",
      "Class00: 0.2817 Class01: 0.5015 Class02: 0.1971 Class03: 0.4290 Class04: 0.2762 Class05: 0.0026 Class06: 0.0508 \n",
      "Class07: 0.1368 Class08: 0.4369 Class09: 0.4859 Class10: 0.0001 Class11: 0.0018 Class12: 0.4743 \n",
      "Label_1: IoU Scores Train\n",
      "Class00: 0.2417 Class01: 0.4202 Class02: 0.1518 Class03: 0.3702 Class04: 0.2224 Class05: 0.0031 Class06: 0.0360 \n",
      "Class07: 0.1080 Class08: 0.3752 Class09: 0.4044 Class10: 0.0001 Class11: 0.0020 Class12: 0.4083 \n",
      "Label_2: IoU Scores Train\n",
      "Class00: 0.2244 Class01: 0.3734 Class02: 0.1247 Class03: 0.3358 Class04: 0.1907 Class05: 0.0031 Class06: 0.0291 \n",
      "Class07: 0.0928 Class08: 0.3411 Class09: 0.3600 Class10: 0.0002 Class11: 0.0026 Class12: 0.3691 \n",
      "Train seg Loss: 0.2857402544378658 Train dom Loss: 44.3801078835731\n",
      "Train Loss: 0.30571130234838106\n",
      "Train mIoU: 0.21705929203678062\n"
     ]
    },
    {
     "name": "stderr",
     "output_type": "stream",
     "text": [
      "100%|██████████| 30/30 [00:28<00:00,  1.04it/s]\n"
     ]
    },
    {
     "name": "stdout",
     "output_type": "stream",
     "text": [
      "\n",
      "--IoU Scores Fish val--\n",
      "Class00: 0.9817 Class01: 0.7311 Class02: 0.1294 Class03: 0.4764 Class04: 0.1069 Class05: 0.0039 Class06: 0.0239 \n",
      "Class07: 0.1230 Class08: 0.6226 Class09: 0.7627 Class10: 0.0000 Class11: 0.0000 Class12: 0.5669 \n",
      "Epoch22\n",
      "Valid Seg Loss: 0.3581366042296092 Valid dom Loss: 6.301172860463461\n",
      "Valid Loss: 0.36097213129202527\n",
      "Valid mIoU: 0.348347104453724\n",
      "___________________________________________________________________________________________\n",
      "\n"
     ]
    },
    {
     "name": "stderr",
     "output_type": "stream",
     "text": [
      "Epoch: 23: 100%|██████████| 138/138 [05:46<00:00,  2.51s/it]\n"
     ]
    },
    {
     "name": "stdout",
     "output_type": "stream",
     "text": [
      "\n",
      "Label_0: IoU Scores Train\n",
      "Class00: 0.2832 Class01: 0.5040 Class02: 0.2061 Class03: 0.4301 Class04: 0.2880 Class05: 0.0055 Class06: 0.0545 \n",
      "Class07: 0.1435 Class08: 0.4429 Class09: 0.4872 Class10: 0.0001 Class11: 0.0056 Class12: 0.4727 \n",
      "Label_1: IoU Scores Train\n",
      "Class00: 0.2419 Class01: 0.4208 Class02: 0.1578 Class03: 0.3710 Class04: 0.2289 Class05: 0.0067 Class06: 0.0389 \n",
      "Class07: 0.1127 Class08: 0.3792 Class09: 0.4063 Class10: 0.0001 Class11: 0.0055 Class12: 0.4061 \n",
      "Label_2: IoU Scores Train\n",
      "Class00: 0.2242 Class01: 0.3731 Class02: 0.1286 Class03: 0.3349 Class04: 0.1949 Class05: 0.0055 Class06: 0.0319 \n",
      "Class07: 0.0968 Class08: 0.3434 Class09: 0.3617 Class10: 0.0003 Class11: 0.0065 Class12: 0.3669 \n",
      "Train seg Loss: 0.27777283095219285 Train dom Loss: 46.550073117582386\n",
      "Train Loss: 0.2987203641934095\n",
      "Train mIoU: 0.2196942307871323\n"
     ]
    },
    {
     "name": "stderr",
     "output_type": "stream",
     "text": [
      "100%|██████████| 30/30 [00:29<00:00,  1.02it/s]\n"
     ]
    },
    {
     "name": "stdout",
     "output_type": "stream",
     "text": [
      "\n",
      "--IoU Scores Fish val--\n",
      "Class00: 0.9801 Class01: 0.7142 Class02: 0.0813 Class03: 0.4724 Class04: 0.0973 Class05: 0.0003 Class06: 0.0209 \n",
      "Class07: 0.1001 Class08: 0.5739 Class09: 0.7951 Class10: 0.0000 Class11: 0.0000 Class12: 0.4754 \n",
      "Epoch23\n",
      "Valid Seg Loss: 0.36422044336795806 Valid dom Loss: 31.816746139526366\n",
      "Valid Loss: 0.3785379787286123\n",
      "Valid mIoU: 0.33160905480113634\n",
      "___________________________________________________________________________________________\n",
      "\n"
     ]
    },
    {
     "name": "stderr",
     "output_type": "stream",
     "text": [
      "Epoch: 24: 100%|██████████| 138/138 [05:11<00:00,  2.26s/it]\n"
     ]
    },
    {
     "name": "stdout",
     "output_type": "stream",
     "text": [
      "\n",
      "Label_0: IoU Scores Train\n",
      "Class00: 0.2833 Class01: 0.5061 Class02: 0.2064 Class03: 0.4291 Class04: 0.2880 Class05: 0.0074 Class06: 0.0536 \n",
      "Class07: 0.1489 Class08: 0.4414 Class09: 0.4881 Class10: 0.0006 Class11: 0.0039 Class12: 0.4799 \n",
      "Label_1: IoU Scores Train\n",
      "Class00: 0.2419 Class01: 0.4226 Class02: 0.1580 Class03: 0.3697 Class04: 0.2324 Class05: 0.0086 Class06: 0.0384 \n",
      "Class07: 0.1192 Class08: 0.3784 Class09: 0.4062 Class10: 0.0007 Class11: 0.0060 Class12: 0.4120 \n",
      "Label_2: IoU Scores Train\n",
      "Class00: 0.2240 Class01: 0.3745 Class02: 0.1281 Class03: 0.3344 Class04: 0.1971 Class05: 0.0077 Class06: 0.0314 \n",
      "Class07: 0.1044 Class08: 0.3435 Class09: 0.3622 Class10: 0.0007 Class11: 0.0068 Class12: 0.3733 \n",
      "Train seg Loss: 0.2724249940995433 Train dom Loss: 42.222389697391655\n",
      "Train Loss: 0.29142506974906734\n",
      "Train mIoU: 0.2209961642601246\n"
     ]
    },
    {
     "name": "stderr",
     "output_type": "stream",
     "text": [
      "100%|██████████| 30/30 [00:26<00:00,  1.13it/s]\n"
     ]
    },
    {
     "name": "stdout",
     "output_type": "stream",
     "text": [
      "\n",
      "--IoU Scores Fish val--\n",
      "Class00: 0.9764 Class01: 0.6942 Class02: 0.1291 Class03: 0.4368 Class04: 0.0841 Class05: 0.0005 Class06: 0.0172 \n",
      "Class07: 0.1202 Class08: 0.6266 Class09: 0.6923 Class10: 0.0000 Class11: 0.0001 Class12: 0.5623 \n",
      "Epoch24\n",
      "Valid Seg Loss: 0.390431276957194 Valid dom Loss: 0.4149872593892117\n",
      "Valid Loss: 0.3906180193026861\n",
      "Valid mIoU: 0.33382766156648713\n",
      "___________________________________________________________________________________________\n",
      "\n"
     ]
    },
    {
     "name": "stderr",
     "output_type": "stream",
     "text": [
      "Epoch: 25: 100%|██████████| 138/138 [05:59<00:00,  2.61s/it]\n"
     ]
    },
    {
     "name": "stdout",
     "output_type": "stream",
     "text": [
      "\n",
      "Label_0: IoU Scores Train\n",
      "Class00: 0.2810 Class01: 0.4918 Class02: 0.1800 Class03: 0.4195 Class04: 0.2544 Class05: 0.0049 Class06: 0.0445 \n",
      "Class07: 0.1266 Class08: 0.4290 Class09: 0.4803 Class10: 0.0007 Class11: 0.0027 Class12: 0.4555 \n",
      "Label_1: IoU Scores Train\n",
      "Class00: 0.2416 Class01: 0.4140 Class02: 0.1411 Class03: 0.3615 Class04: 0.2047 Class05: 0.0052 Class06: 0.0317 \n",
      "Class07: 0.0997 Class08: 0.3693 Class09: 0.4004 Class10: 0.0009 Class11: 0.0044 Class12: 0.3942 \n",
      "Label_2: IoU Scores Train\n",
      "Class00: 0.2242 Class01: 0.3690 Class02: 0.1161 Class03: 0.3272 Class04: 0.1765 Class05: 0.0043 Class06: 0.0259 \n",
      "Class07: 0.0869 Class08: 0.3359 Class09: 0.3571 Class10: 0.0010 Class11: 0.0062 Class12: 0.3570 \n",
      "Train seg Loss: 0.3133072607615144 Train dom Loss: 46.30404338527141\n",
      "Train Loss: 0.33414407895095105\n",
      "Train mIoU: 0.21094075296577056\n"
     ]
    },
    {
     "name": "stderr",
     "output_type": "stream",
     "text": [
      "100%|██████████| 30/30 [00:26<00:00,  1.12it/s]\n"
     ]
    },
    {
     "name": "stdout",
     "output_type": "stream",
     "text": [
      "\n",
      "--IoU Scores Fish val--\n",
      "Class00: 0.9832 Class01: 0.7364 Class02: 0.1323 Class03: 0.5140 Class04: 0.1205 Class05: 0.0078 Class06: 0.0191 \n",
      "Class07: 0.1301 Class08: 0.6139 Class09: 0.8410 Class10: 0.0000 Class11: 0.0001 Class12: 0.4634 \n",
      "Epoch25\n",
      "Valid Seg Loss: 0.32124315152565636 Valid dom Loss: 24.726239748795813\n",
      "Valid Loss: 0.332369959851106\n",
      "Valid mIoU: 0.35090025307526734\n",
      "___________________________________________________________________________________________\n",
      "\n"
     ]
    },
    {
     "name": "stderr",
     "output_type": "stream",
     "text": [
      "Epoch: 26: 100%|██████████| 138/138 [06:01<00:00,  2.62s/it]\n"
     ]
    },
    {
     "name": "stdout",
     "output_type": "stream",
     "text": [
      "\n",
      "Label_0: IoU Scores Train\n",
      "Class00: 0.2832 Class01: 0.5024 Class02: 0.2106 Class03: 0.4280 Class04: 0.2796 Class05: 0.0097 Class06: 0.0529 \n",
      "Class07: 0.1449 Class08: 0.4390 Class09: 0.4854 Class10: 0.0009 Class11: 0.0087 Class12: 0.4803 \n",
      "Label_1: IoU Scores Train\n",
      "Class00: 0.2418 Class01: 0.4186 Class02: 0.1617 Class03: 0.3679 Class04: 0.2236 Class05: 0.0098 Class06: 0.0380 \n",
      "Class07: 0.1138 Class08: 0.3778 Class09: 0.4038 Class10: 0.0009 Class11: 0.0112 Class12: 0.4121 \n",
      "Label_2: IoU Scores Train\n",
      "Class00: 0.2239 Class01: 0.3711 Class02: 0.1327 Class03: 0.3324 Class04: 0.1892 Class05: 0.0081 Class06: 0.0306 \n",
      "Class07: 0.0986 Class08: 0.3437 Class09: 0.3593 Class10: 0.0007 Class11: 0.0134 Class12: 0.3712 \n",
      "Train seg Loss: 0.27441758421308177 Train dom Loss: 18.520457592095443\n",
      "Train Loss: 0.28275179024335845\n",
      "Train mIoU: 0.22003926452704542\n"
     ]
    },
    {
     "name": "stderr",
     "output_type": "stream",
     "text": [
      "100%|██████████| 30/30 [00:26<00:00,  1.14it/s]\n"
     ]
    },
    {
     "name": "stdout",
     "output_type": "stream",
     "text": [
      "\n",
      "--IoU Scores Fish val--\n",
      "Class00: 0.9738 Class01: 0.7193 Class02: 0.1575 Class03: 0.5132 Class04: 0.0731 Class05: 0.0059 Class06: 0.0180 \n",
      "Class07: 0.1073 Class08: 0.5913 Class09: 0.8370 Class10: 0.0001 Class11: 0.0005 Class12: 0.6223 \n",
      "Epoch26\n",
      "Valid Seg Loss: 0.36220274517933526 Valid dom Loss: 10.241287970542908\n",
      "Valid Loss: 0.3668113206823667\n",
      "Valid mIoU: 0.3553435029064619\n",
      "___________________________________________________________________________________________\n",
      "\n"
     ]
    },
    {
     "name": "stderr",
     "output_type": "stream",
     "text": [
      "Epoch: 27: 100%|██████████| 138/138 [06:02<00:00,  2.63s/it]\n"
     ]
    },
    {
     "name": "stdout",
     "output_type": "stream",
     "text": [
      "\n",
      "Label_0: IoU Scores Train\n",
      "Class00: 0.2837 Class01: 0.5050 Class02: 0.2122 Class03: 0.4332 Class04: 0.2876 Class05: 0.0106 Class06: 0.0576 \n",
      "Class07: 0.1524 Class08: 0.4399 Class09: 0.4846 Class10: 0.0013 Class11: 0.0151 Class12: 0.4829 \n",
      "Label_1: IoU Scores Train\n",
      "Class00: 0.2419 Class01: 0.4207 Class02: 0.1671 Class03: 0.3708 Class04: 0.2288 Class05: 0.0115 Class06: 0.0423 \n",
      "Class07: 0.1196 Class08: 0.3771 Class09: 0.4031 Class10: 0.0013 Class11: 0.0192 Class12: 0.4140 \n",
      "Label_2: IoU Scores Train\n",
      "Class00: 0.2239 Class01: 0.3723 Class02: 0.1377 Class03: 0.3349 Class04: 0.1937 Class05: 0.0094 Class06: 0.0341 \n",
      "Class07: 0.1035 Class08: 0.3428 Class09: 0.3585 Class10: 0.0013 Class11: 0.0217 Class12: 0.3736 \n",
      "Train seg Loss: 0.26952020870746624 Train dom Loss: 13.826959444704839\n",
      "Train Loss: 0.2757423403830344\n",
      "Train mIoU: 0.2228536109125461\n"
     ]
    },
    {
     "name": "stderr",
     "output_type": "stream",
     "text": [
      "100%|██████████| 30/30 [00:26<00:00,  1.11it/s]\n"
     ]
    },
    {
     "name": "stdout",
     "output_type": "stream",
     "text": [
      "\n",
      "--IoU Scores Fish val--\n",
      "Class00: 0.9812 Class01: 0.7159 Class02: 0.1725 Class03: 0.4939 Class04: 0.1464 Class05: 0.0187 Class06: 0.0282 \n",
      "Class07: 0.1550 Class08: 0.5954 Class09: 0.7933 Class10: 0.0009 Class11: 0.0007 Class12: 0.5564 \n",
      "Epoch27\n",
      "Valid Seg Loss: 0.32525514463583627 Valid dom Loss: 0.9987746387720108\n",
      "Valid Loss: 0.3257045934597651\n",
      "Valid mIoU: 0.35836331043524344\n",
      "___________________________________________________________________________________________\n",
      "\n"
     ]
    },
    {
     "name": "stderr",
     "output_type": "stream",
     "text": [
      "Epoch: 28: 100%|██████████| 138/138 [05:17<00:00,  2.30s/it]\n"
     ]
    },
    {
     "name": "stdout",
     "output_type": "stream",
     "text": [
      "\n",
      "Label_0: IoU Scores Train\n",
      "Class00: 0.2841 Class01: 0.5095 Class02: 0.2180 Class03: 0.4364 Class04: 0.2889 Class05: 0.0151 Class06: 0.0612 \n",
      "Class07: 0.1538 Class08: 0.4463 Class09: 0.4890 Class10: 0.0036 Class11: 0.0232 Class12: 0.4858 \n",
      "Label_1: IoU Scores Train\n",
      "Class00: 0.2421 Class01: 0.4232 Class02: 0.1683 Class03: 0.3744 Class04: 0.2297 Class05: 0.0148 Class06: 0.0447 \n",
      "Class07: 0.1208 Class08: 0.3816 Class09: 0.4064 Class10: 0.0027 Class11: 0.0265 Class12: 0.4148 \n",
      "Label_2: IoU Scores Train\n",
      "Class00: 0.2237 Class01: 0.3738 Class02: 0.1386 Class03: 0.3386 Class04: 0.1933 Class05: 0.0134 Class06: 0.0371 \n",
      "Class07: 0.1054 Class08: 0.3466 Class09: 0.3617 Class10: 0.0023 Class11: 0.0286 Class12: 0.3748 \n",
      "Train seg Loss: 0.25814521658247797 Train dom Loss: 9.866659449062485\n",
      "Train Loss: 0.26258521325490325\n",
      "Train mIoU: 0.2257123461550891\n"
     ]
    },
    {
     "name": "stderr",
     "output_type": "stream",
     "text": [
      "100%|██████████| 30/30 [00:25<00:00,  1.18it/s]\n"
     ]
    },
    {
     "name": "stdout",
     "output_type": "stream",
     "text": [
      "\n",
      "--IoU Scores Fish val--\n",
      "Class00: 0.9794 Class01: 0.7123 Class02: 0.1521 Class03: 0.5074 Class04: 0.1573 Class05: 0.0064 Class06: 0.0230 \n",
      "Class07: 0.1447 Class08: 0.6051 Class09: 0.7976 Class10: 0.0006 Class11: 0.0016 Class12: 0.5936 \n",
      "Epoch28\n",
      "Valid Seg Loss: 0.33834415127833684 Valid dom Loss: 1.6571370447675386\n",
      "Valid Loss: 0.3390898644924164\n",
      "Valid mIoU: 0.36008309906796476\n",
      "___________________________________________________________________________________________\n",
      "\n"
     ]
    },
    {
     "name": "stderr",
     "output_type": "stream",
     "text": [
      "Epoch: 29: 100%|██████████| 138/138 [05:56<00:00,  2.58s/it]\n"
     ]
    },
    {
     "name": "stdout",
     "output_type": "stream",
     "text": [
      "\n",
      "Label_0: IoU Scores Train\n",
      "Class00: 0.2830 Class01: 0.5025 Class02: 0.2109 Class03: 0.4293 Class04: 0.2838 Class05: 0.0158 Class06: 0.0600 \n",
      "Class07: 0.1494 Class08: 0.4401 Class09: 0.4818 Class10: 0.0025 Class11: 0.0291 Class12: 0.4728 \n",
      "Label_1: IoU Scores Train\n",
      "Class00: 0.2418 Class01: 0.4193 Class02: 0.1662 Class03: 0.3693 Class04: 0.2261 Class05: 0.0156 Class06: 0.0455 \n",
      "Class07: 0.1177 Class08: 0.3778 Class09: 0.4015 Class10: 0.0016 Class11: 0.0310 Class12: 0.4055 \n",
      "Label_2: IoU Scores Train\n",
      "Class00: 0.2238 Class01: 0.3701 Class02: 0.1345 Class03: 0.3323 Class04: 0.1906 Class05: 0.0137 Class06: 0.0374 \n",
      "Class07: 0.1017 Class08: 0.3424 Class09: 0.3575 Class10: 0.0013 Class11: 0.0325 Class12: 0.3666 \n",
      "Train seg Loss: 0.2721226864318917 Train dom Loss: 13.812257912603842\n",
      "Train Loss: 0.2783382029996978\n",
      "Train mIoU: 0.2226827620192521\n"
     ]
    },
    {
     "name": "stderr",
     "output_type": "stream",
     "text": [
      "100%|██████████| 30/30 [00:24<00:00,  1.21it/s]\n"
     ]
    },
    {
     "name": "stdout",
     "output_type": "stream",
     "text": [
      "\n",
      "--IoU Scores Fish val--\n",
      "Class00: 0.9745 Class01: 0.6761 Class02: 0.1487 Class03: 0.4900 Class04: 0.0487 Class05: 0.0348 Class06: 0.0403 \n",
      "Class07: 0.1395 Class08: 0.6259 Class09: 0.8251 Class10: 0.0014 Class11: 0.0012 Class12: 0.4741 \n",
      "Epoch29\n",
      "Valid Seg Loss: 0.43328919957081474 Valid dom Loss: 3.432679857810338\n",
      "Valid Loss: 0.4348339051008224\n",
      "Valid mIoU: 0.34463012355816225\n",
      "___________________________________________________________________________________________\n",
      "\n"
     ]
    },
    {
     "name": "stderr",
     "output_type": "stream",
     "text": [
      "Epoch: 30: 100%|██████████| 138/138 [05:49<00:00,  2.53s/it]\n"
     ]
    },
    {
     "name": "stdout",
     "output_type": "stream",
     "text": [
      "\n",
      "Label_0: IoU Scores Train\n",
      "Class00: 0.2840 Class01: 0.5107 Class02: 0.2215 Class03: 0.4368 Class04: 0.3014 Class05: 0.0161 Class06: 0.0680 \n",
      "Class07: 0.1596 Class08: 0.4442 Class09: 0.4905 Class10: 0.0065 Class11: 0.0383 Class12: 0.4943 \n",
      "Label_1: IoU Scores Train\n",
      "Class00: 0.2421 Class01: 0.4243 Class02: 0.1739 Class03: 0.3747 Class04: 0.2369 Class05: 0.0165 Class06: 0.0537 \n",
      "Class07: 0.1242 Class08: 0.3810 Class09: 0.4077 Class10: 0.0036 Class11: 0.0432 Class12: 0.4213 \n",
      "Label_2: IoU Scores Train\n",
      "Class00: 0.2237 Class01: 0.3745 Class02: 0.1447 Class03: 0.3379 Class04: 0.2015 Class05: 0.0152 Class06: 0.0452 \n",
      "Class07: 0.1087 Class08: 0.3458 Class09: 0.3631 Class10: 0.0029 Class11: 0.0437 Class12: 0.3801 \n",
      "Train seg Loss: 0.2552053779723564 Train dom Loss: 4.078073488145865\n",
      "Train Loss: 0.2570405108989149\n",
      "Train mIoU: 0.22979803433951315\n"
     ]
    },
    {
     "name": "stderr",
     "output_type": "stream",
     "text": [
      "100%|██████████| 30/30 [00:26<00:00,  1.14it/s]\n"
     ]
    },
    {
     "name": "stdout",
     "output_type": "stream",
     "text": [
      "\n",
      "--IoU Scores Fish val--\n",
      "Class00: 0.9827 Class01: 0.7210 Class02: 0.1880 Class03: 0.5188 Class04: 0.0888 Class05: 0.0133 Class06: 0.0262 \n",
      "Class07: 0.1410 Class08: 0.6238 Class09: 0.7942 Class10: 0.0013 Class11: 0.0016 Class12: 0.6221 \n",
      "Epoch30\n",
      "Valid Seg Loss: 0.3208456993103027 Valid dom Loss: 10.253371421496073\n",
      "Valid Loss: 0.3254597177108129\n",
      "Valid mIoU: 0.3632911203329493\n",
      "___________________________________________________________________________________________\n",
      "\n"
     ]
    },
    {
     "name": "stderr",
     "output_type": "stream",
     "text": [
      "Epoch: 31: 100%|██████████| 138/138 [05:54<00:00,  2.57s/it]\n"
     ]
    },
    {
     "name": "stdout",
     "output_type": "stream",
     "text": [
      "\n",
      "Label_0: IoU Scores Train\n",
      "Class00: 0.2835 Class01: 0.5099 Class02: 0.2177 Class03: 0.4349 Class04: 0.3106 Class05: 0.0169 Class06: 0.0679 \n",
      "Class07: 0.1539 Class08: 0.4449 Class09: 0.4889 Class10: 0.0068 Class11: 0.0390 Class12: 0.4869 \n",
      "Label_1: IoU Scores Train\n",
      "Class00: 0.2423 Class01: 0.4245 Class02: 0.1692 Class03: 0.3733 Class04: 0.2450 Class05: 0.0166 Class06: 0.0521 \n",
      "Class07: 0.1184 Class08: 0.3806 Class09: 0.4065 Class10: 0.0040 Class11: 0.0431 Class12: 0.4150 \n",
      "Label_2: IoU Scores Train\n",
      "Class00: 0.2241 Class01: 0.3748 Class02: 0.1382 Class03: 0.3373 Class04: 0.2089 Class05: 0.0155 Class06: 0.0425 \n",
      "Class07: 0.1045 Class08: 0.3454 Class09: 0.3626 Class10: 0.0027 Class11: 0.0442 Class12: 0.3741 \n",
      "Train seg Loss: 0.26103843291456574 Train dom Loss: 26.325915786451187\n",
      "Train Loss: 0.27288509495016455\n",
      "Train mIoU: 0.22889743336414053\n"
     ]
    },
    {
     "name": "stderr",
     "output_type": "stream",
     "text": [
      "100%|██████████| 30/30 [00:25<00:00,  1.19it/s]\n"
     ]
    },
    {
     "name": "stdout",
     "output_type": "stream",
     "text": [
      "\n",
      "--IoU Scores Fish val--\n",
      "Class00: 0.9816 Class01: 0.7120 Class02: 0.1646 Class03: 0.4997 Class04: 0.1329 Class05: 0.0100 Class06: 0.0261 \n",
      "Class07: 0.1282 Class08: 0.5868 Class09: 0.8032 Class10: 0.0001 Class11: 0.0003 Class12: 0.6061 \n",
      "Epoch31\n",
      "Valid Seg Loss: 0.3346417352557182 Valid dom Loss: 0.6277812778949737\n",
      "Valid Loss: 0.33492423842350644\n",
      "Valid mIoU: 0.3578266578367122\n",
      "___________________________________________________________________________________________\n",
      "\n"
     ]
    },
    {
     "name": "stderr",
     "output_type": "stream",
     "text": [
      "Epoch: 32: 100%|██████████| 138/138 [05:17<00:00,  2.30s/it]\n"
     ]
    },
    {
     "name": "stdout",
     "output_type": "stream",
     "text": [
      "\n",
      "Label_0: IoU Scores Train\n",
      "Class00: 0.2840 Class01: 0.5126 Class02: 0.2170 Class03: 0.4395 Class04: 0.3039 Class05: 0.0185 Class06: 0.0704 \n",
      "Class07: 0.1642 Class08: 0.4495 Class09: 0.4930 Class10: 0.0083 Class11: 0.0481 Class12: 0.4833 \n",
      "Label_1: IoU Scores Train\n",
      "Class00: 0.2421 Class01: 0.4248 Class02: 0.1678 Class03: 0.3754 Class04: 0.2394 Class05: 0.0179 Class06: 0.0547 \n",
      "Class07: 0.1280 Class08: 0.3824 Class09: 0.4094 Class10: 0.0053 Class11: 0.0549 Class12: 0.4112 \n",
      "Label_2: IoU Scores Train\n",
      "Class00: 0.2238 Class01: 0.3746 Class02: 0.1384 Class03: 0.3396 Class04: 0.2027 Class05: 0.0167 Class06: 0.0451 \n",
      "Class07: 0.1124 Class08: 0.3469 Class09: 0.3645 Class10: 0.0037 Class11: 0.0581 Class12: 0.3703 \n",
      "Train seg Loss: 0.25396995401180883 Train dom Loss: 3.8742130930728957\n",
      "Train Loss: 0.25571334970314147\n",
      "Train mIoU: 0.2308447608046422\n"
     ]
    },
    {
     "name": "stderr",
     "output_type": "stream",
     "text": [
      "100%|██████████| 30/30 [00:24<00:00,  1.21it/s]\n"
     ]
    },
    {
     "name": "stdout",
     "output_type": "stream",
     "text": [
      "\n",
      "--IoU Scores Fish val--\n",
      "Class00: 0.9814 Class01: 0.7341 Class02: 0.1802 Class03: 0.4833 Class04: 0.1207 Class05: 0.0188 Class06: 0.0288 \n",
      "Class07: 0.1458 Class08: 0.5997 Class09: 0.8363 Class10: 0.0008 Class11: 0.0015 Class12: 0.5344 \n",
      "Epoch32\n",
      "Valid Seg Loss: 0.3413773626089096 Valid dom Loss: 1.6986578543980917\n",
      "Valid Loss: 0.3421417603890101\n",
      "Valid mIoU: 0.35891057320371444\n",
      "___________________________________________________________________________________________\n",
      "\n"
     ]
    },
    {
     "name": "stderr",
     "output_type": "stream",
     "text": [
      "Epoch: 33: 100%|██████████| 138/138 [05:48<00:00,  2.53s/it]\n"
     ]
    },
    {
     "name": "stdout",
     "output_type": "stream",
     "text": [
      "\n",
      "Label_0: IoU Scores Train\n",
      "Class00: 0.2836 Class01: 0.5092 Class02: 0.2274 Class03: 0.4376 Class04: 0.2987 Class05: 0.0183 Class06: 0.0679 \n",
      "Class07: 0.1597 Class08: 0.4467 Class09: 0.4890 Class10: 0.0080 Class11: 0.0566 Class12: 0.4799 \n",
      "Label_1: IoU Scores Train\n",
      "Class00: 0.2422 Class01: 0.4235 Class02: 0.1786 Class03: 0.3744 Class04: 0.2366 Class05: 0.0170 Class06: 0.0540 \n",
      "Class07: 0.1235 Class08: 0.3816 Class09: 0.4068 Class10: 0.0061 Class11: 0.0604 Class12: 0.4084 \n",
      "Label_2: IoU Scores Train\n",
      "Class00: 0.2239 Class01: 0.3738 Class02: 0.1473 Class03: 0.3376 Class04: 0.2016 Class05: 0.0161 Class06: 0.0440 \n",
      "Class07: 0.1075 Class08: 0.3467 Class09: 0.3625 Class10: 0.0042 Class11: 0.0624 Class12: 0.3680 \n",
      "Train seg Loss: 0.25644607213888193 Train dom Loss: 3.6596554593809607\n",
      "Train Loss: 0.2580929175379196\n",
      "Train mIoU: 0.23055270330717273\n"
     ]
    },
    {
     "name": "stderr",
     "output_type": "stream",
     "text": [
      "100%|██████████| 30/30 [00:23<00:00,  1.27it/s]\n"
     ]
    },
    {
     "name": "stdout",
     "output_type": "stream",
     "text": [
      "\n",
      "--IoU Scores Fish val--\n",
      "Class00: 0.9833 Class01: 0.7256 Class02: 0.1504 Class03: 0.5283 Class04: 0.1776 Class05: 0.0183 Class06: 0.0358 \n",
      "Class07: 0.1304 Class08: 0.6216 Class09: 0.8130 Class10: 0.0002 Class11: 0.0021 Class12: 0.5803 \n",
      "Epoch33\n",
      "Valid Seg Loss: 0.3292545850078265 Valid dom Loss: 9.176788234710694\n",
      "Valid Loss: 0.3333841398358345\n",
      "Valid mIoU: 0.3666893514006828\n",
      "___________________________________________________________________________________________\n",
      "\n"
     ]
    },
    {
     "name": "stderr",
     "output_type": "stream",
     "text": [
      "Epoch: 34: 100%|██████████| 138/138 [05:59<00:00,  2.60s/it]\n"
     ]
    },
    {
     "name": "stdout",
     "output_type": "stream",
     "text": [
      "\n",
      "Label_0: IoU Scores Train\n",
      "Class00: 0.2845 Class01: 0.5113 Class02: 0.2300 Class03: 0.4408 Class04: 0.3064 Class05: 0.0228 Class06: 0.0739 \n",
      "Class07: 0.1638 Class08: 0.4461 Class09: 0.4885 Class10: 0.0178 Class11: 0.0735 Class12: 0.4918 \n",
      "Label_1: IoU Scores Train\n",
      "Class00: 0.2424 Class01: 0.4247 Class02: 0.1807 Class03: 0.3771 Class04: 0.2437 Class05: 0.0214 Class06: 0.0576 \n",
      "Class07: 0.1267 Class08: 0.3823 Class09: 0.4067 Class10: 0.0121 Class11: 0.0739 Class12: 0.4213 \n",
      "Label_2: IoU Scores Train\n",
      "Class00: 0.2239 Class01: 0.3741 Class02: 0.1486 Class03: 0.3402 Class04: 0.2077 Class05: 0.0198 Class06: 0.0476 \n",
      "Class07: 0.1106 Class08: 0.3475 Class09: 0.3629 Class10: 0.0086 Class11: 0.0743 Class12: 0.3814 \n",
      "Train seg Loss: 0.24848174832869266 Train dom Loss: 2.5243720822936093\n",
      "Train Loss: 0.24961771567662558\n",
      "Train mIoU: 0.2350935928676947\n"
     ]
    },
    {
     "name": "stderr",
     "output_type": "stream",
     "text": [
      "100%|██████████| 30/30 [00:28<00:00,  1.07it/s]\n"
     ]
    },
    {
     "name": "stdout",
     "output_type": "stream",
     "text": [
      "\n",
      "--IoU Scores Fish val--\n",
      "Class00: 0.9836 Class01: 0.7533 Class02: 0.1317 Class03: 0.5171 Class04: 0.1461 Class05: 0.0197 Class06: 0.0287 \n",
      "Class07: 0.1467 Class08: 0.6320 Class09: 0.8376 Class10: 0.0001 Class11: 0.0002 Class12: 0.5745 \n",
      "Epoch34\n",
      "Valid Seg Loss: 0.30541908542315166 Valid dom Loss: 0.8449548761049906\n",
      "Valid Loss: 0.3057993113994598\n",
      "Valid mIoU: 0.3670321237608094\n",
      "___________________________________________________________________________________________\n",
      "\n"
     ]
    },
    {
     "name": "stderr",
     "output_type": "stream",
     "text": [
      "Epoch: 35: 100%|██████████| 138/138 [06:00<00:00,  2.61s/it]\n"
     ]
    },
    {
     "name": "stdout",
     "output_type": "stream",
     "text": [
      "\n",
      "Label_0: IoU Scores Train\n",
      "Class00: 0.2841 Class01: 0.5084 Class02: 0.2266 Class03: 0.4358 Class04: 0.3004 Class05: 0.0242 Class06: 0.0741 \n",
      "Class07: 0.1652 Class08: 0.4501 Class09: 0.4840 Class10: 0.0165 Class11: 0.0863 Class12: 0.4812 \n",
      "Label_1: IoU Scores Train\n",
      "Class00: 0.2422 Class01: 0.4215 Class02: 0.1753 Class03: 0.3756 Class04: 0.2353 Class05: 0.0231 Class06: 0.0597 \n",
      "Class07: 0.1292 Class08: 0.3839 Class09: 0.4034 Class10: 0.0095 Class11: 0.0883 Class12: 0.4104 \n",
      "Label_2: IoU Scores Train\n",
      "Class00: 0.2237 Class01: 0.3709 Class02: 0.1457 Class03: 0.3385 Class04: 0.2000 Class05: 0.0217 Class06: 0.0487 \n",
      "Class07: 0.1138 Class08: 0.3476 Class09: 0.3597 Class10: 0.0062 Class11: 0.0892 Class12: 0.3708 \n",
      "Train seg Loss: 0.25107959337568514 Train dom Loss: 1.5647156400941749\n",
      "Train Loss: 0.25178371634388313\n",
      "Train mIoU: 0.234118159443036\n"
     ]
    },
    {
     "name": "stderr",
     "output_type": "stream",
     "text": [
      "100%|██████████| 30/30 [00:26<00:00,  1.12it/s]\n"
     ]
    },
    {
     "name": "stdout",
     "output_type": "stream",
     "text": [
      "\n",
      "--IoU Scores Fish val--\n",
      "Class00: 0.9846 Class01: 0.7489 Class02: 0.1528 Class03: 0.5212 Class04: 0.1356 Class05: 0.0197 Class06: 0.0357 \n",
      "Class07: 0.1301 Class08: 0.5961 Class09: 0.8338 Class10: 0.0003 Class11: 0.0007 Class12: 0.5237 \n",
      "Epoch35\n",
      "Valid Seg Loss: 0.3227719500660896 Valid dom Loss: 4.055768301089604\n",
      "Valid Loss: 0.32459704428911207\n",
      "Valid mIoU: 0.3602402714234909\n",
      "___________________________________________________________________________________________\n",
      "\n"
     ]
    },
    {
     "name": "stderr",
     "output_type": "stream",
     "text": [
      "Epoch: 36: 100%|██████████| 138/138 [05:18<00:00,  2.31s/it]\n"
     ]
    },
    {
     "name": "stdout",
     "output_type": "stream",
     "text": [
      "\n",
      "Label_0: IoU Scores Train\n",
      "Class00: 0.2844 Class01: 0.5082 Class02: 0.2234 Class03: 0.4351 Class04: 0.3014 Class05: 0.0260 Class06: 0.0793 \n",
      "Class07: 0.1599 Class08: 0.4420 Class09: 0.4852 Class10: 0.0128 Class11: 0.0869 Class12: 0.4831 \n",
      "Label_1: IoU Scores Train\n",
      "Class00: 0.2423 Class01: 0.4230 Class02: 0.1758 Class03: 0.3735 Class04: 0.2388 Class05: 0.0241 Class06: 0.0638 \n",
      "Class07: 0.1236 Class08: 0.3780 Class09: 0.4039 Class10: 0.0081 Class11: 0.0901 Class12: 0.4122 \n",
      "Label_2: IoU Scores Train\n",
      "Class00: 0.2238 Class01: 0.3731 Class02: 0.1461 Class03: 0.3377 Class04: 0.2016 Class05: 0.0219 Class06: 0.0526 \n",
      "Class07: 0.1089 Class08: 0.3419 Class09: 0.3595 Class10: 0.0055 Class11: 0.0864 Class12: 0.3718 \n",
      "Train seg Loss: 0.2529349857986261 Train dom Loss: 1.121974405243201\n",
      "Train Loss: 0.25343987392486583\n",
      "Train mIoU: 0.23373498902106113\n"
     ]
    },
    {
     "name": "stderr",
     "output_type": "stream",
     "text": [
      "100%|██████████| 30/30 [00:27<00:00,  1.07it/s]\n"
     ]
    },
    {
     "name": "stdout",
     "output_type": "stream",
     "text": [
      "\n",
      "--IoU Scores Fish val--\n",
      "Class00: 0.9679 Class01: 0.6858 Class02: 0.1626 Class03: 0.5238 Class04: 0.1047 Class05: 0.0195 Class06: 0.0287 \n",
      "Class07: 0.1228 Class08: 0.6096 Class09: 0.7898 Class10: 0.0001 Class11: 0.0040 Class12: 0.5828 \n",
      "Epoch36\n",
      "Valid Seg Loss: 0.34864390244086585 Valid dom Loss: 0.7765245854854583\n",
      "Valid Loss: 0.3489933376510938\n",
      "Valid mIoU: 0.3540120640450007\n",
      "___________________________________________________________________________________________\n",
      "\n"
     ]
    },
    {
     "name": "stderr",
     "output_type": "stream",
     "text": [
      "Epoch: 37: 100%|██████████| 138/138 [05:59<00:00,  2.60s/it]\n"
     ]
    },
    {
     "name": "stdout",
     "output_type": "stream",
     "text": [
      "\n",
      "Label_0: IoU Scores Train\n",
      "Class00: 0.2848 Class01: 0.5144 Class02: 0.2287 Class03: 0.4466 Class04: 0.3138 Class05: 0.0286 Class06: 0.0853 \n",
      "Class07: 0.1635 Class08: 0.4531 Class09: 0.4918 Class10: 0.0218 Class11: 0.1110 Class12: 0.5044 \n",
      "Label_1: IoU Scores Train\n",
      "Class00: 0.2426 Class01: 0.4266 Class02: 0.1771 Class03: 0.3821 Class04: 0.2472 Class05: 0.0251 Class06: 0.0688 \n",
      "Class07: 0.1256 Class08: 0.3864 Class09: 0.4087 Class10: 0.0138 Class11: 0.1102 Class12: 0.4292 \n",
      "Label_2: IoU Scores Train\n",
      "Class00: 0.2239 Class01: 0.3760 Class02: 0.1479 Class03: 0.3453 Class04: 0.2078 Class05: 0.0237 Class06: 0.0569 \n",
      "Class07: 0.1112 Class08: 0.3501 Class09: 0.3641 Class10: 0.0094 Class11: 0.1080 Class12: 0.3864 \n",
      "Train seg Loss: 0.23530128731387825 Train dom Loss: 0.8839188190532796\n",
      "Train Loss: 0.23569905061436736\n",
      "Train mIoU: 0.2410771523786542\n"
     ]
    },
    {
     "name": "stderr",
     "output_type": "stream",
     "text": [
      "100%|██████████| 30/30 [00:25<00:00,  1.19it/s]\n"
     ]
    },
    {
     "name": "stdout",
     "output_type": "stream",
     "text": [
      "\n",
      "--IoU Scores Fish val--\n",
      "Class00: 0.9856 Class01: 0.7594 Class02: 0.1678 Class03: 0.5375 Class04: 0.1002 Class05: 0.0238 Class06: 0.0398 \n",
      "Class07: 0.1560 Class08: 0.6217 Class09: 0.8180 Class10: 0.0009 Class11: 0.0019 Class12: 0.5852 \n",
      "Epoch37\n",
      "Valid Seg Loss: 0.3193207010626793 Valid dom Loss: 1.715697205066681\n",
      "Valid Loss: 0.3200927640000979\n",
      "Valid mIoU: 0.369056792366878\n",
      "___________________________________________________________________________________________\n",
      "\n"
     ]
    },
    {
     "name": "stderr",
     "output_type": "stream",
     "text": [
      "Epoch: 38: 100%|██████████| 138/138 [05:59<00:00,  2.61s/it]\n"
     ]
    },
    {
     "name": "stdout",
     "output_type": "stream",
     "text": [
      "\n",
      "Label_0: IoU Scores Train\n",
      "Class00: 0.2840 Class01: 0.5077 Class02: 0.2319 Class03: 0.4400 Class04: 0.3175 Class05: 0.0296 Class06: 0.0818 \n",
      "Class07: 0.1667 Class08: 0.4483 Class09: 0.4859 Class10: 0.0250 Class11: 0.1157 Class12: 0.4837 \n",
      "Label_1: IoU Scores Train\n",
      "Class00: 0.2422 Class01: 0.4217 Class02: 0.1791 Class03: 0.3759 Class04: 0.2500 Class05: 0.0266 Class06: 0.0657 \n",
      "Class07: 0.1300 Class08: 0.3838 Class09: 0.4042 Class10: 0.0175 Class11: 0.1158 Class12: 0.4125 \n",
      "Label_2: IoU Scores Train\n",
      "Class00: 0.2236 Class01: 0.3717 Class02: 0.1484 Class03: 0.3392 Class04: 0.2131 Class05: 0.0250 Class06: 0.0553 \n",
      "Class07: 0.1148 Class08: 0.3477 Class09: 0.3595 Class10: 0.0119 Class11: 0.1156 Class12: 0.3719 \n",
      "Train seg Loss: 0.24525013139498406 Train dom Loss: 0.6161478880149286\n",
      "Train Loss: 0.24552739731931456\n",
      "Train mIoU: 0.23950522435133373\n"
     ]
    },
    {
     "name": "stderr",
     "output_type": "stream",
     "text": [
      "100%|██████████| 30/30 [00:22<00:00,  1.32it/s]\n"
     ]
    },
    {
     "name": "stdout",
     "output_type": "stream",
     "text": [
      "\n",
      "--IoU Scores Fish val--\n",
      "Class00: 0.9831 Class01: 0.7503 Class02: 0.1443 Class03: 0.4760 Class04: 0.0838 Class05: 0.0203 Class06: 0.0394 \n",
      "Class07: 0.1395 Class08: 0.5862 Class09: 0.7634 Class10: 0.0001 Class11: 0.0007 Class12: 0.6068 \n",
      "Epoch38\n",
      "Valid Seg Loss: 0.3592484757304192 Valid dom Loss: 2.6031128764152527\n",
      "Valid Loss: 0.36041987786690394\n",
      "Valid mIoU: 0.3533743544232121\n",
      "___________________________________________________________________________________________\n",
      "\n"
     ]
    },
    {
     "name": "stderr",
     "output_type": "stream",
     "text": [
      "Epoch: 39: 100%|██████████| 138/138 [05:49<00:00,  2.53s/it]\n"
     ]
    },
    {
     "name": "stdout",
     "output_type": "stream",
     "text": [
      "\n",
      "Label_0: IoU Scores Train\n",
      "Class00: 0.2842 Class01: 0.5117 Class02: 0.2397 Class03: 0.4434 Class04: 0.3006 Class05: 0.0293 Class06: 0.0831 \n",
      "Class07: 0.1671 Class08: 0.4512 Class09: 0.4868 Class10: 0.0206 Class11: 0.1055 Class12: 0.4872 \n",
      "Label_1: IoU Scores Train\n",
      "Class00: 0.2425 Class01: 0.4252 Class02: 0.1833 Class03: 0.3792 Class04: 0.2355 Class05: 0.0264 Class06: 0.0681 \n",
      "Class07: 0.1289 Class08: 0.3853 Class09: 0.4051 Class10: 0.0156 Class11: 0.1065 Class12: 0.4141 \n",
      "Label_2: IoU Scores Train\n",
      "Class00: 0.2240 Class01: 0.3749 Class02: 0.1518 Class03: 0.3434 Class04: 0.1990 Class05: 0.0256 Class06: 0.0568 \n",
      "Class07: 0.1136 Class08: 0.3512 Class09: 0.3617 Class10: 0.0102 Class11: 0.1057 Class12: 0.3746 \n",
      "Train seg Loss: 0.2445401656958792 Train dom Loss: 0.6845364574346341\n",
      "Train Loss: 0.2448482067292727\n",
      "Train mIoU: 0.2389387172019508\n"
     ]
    },
    {
     "name": "stderr",
     "output_type": "stream",
     "text": [
      "100%|██████████| 30/30 [00:34<00:00,  1.16s/it]\n"
     ]
    },
    {
     "name": "stdout",
     "output_type": "stream",
     "text": [
      "\n",
      "--IoU Scores Fish val--\n",
      "Class00: 0.9819 Class01: 0.7651 Class02: 0.1810 Class03: 0.5364 Class04: 0.0694 Class05: 0.0135 Class06: 0.0335 \n",
      "Class07: 0.1535 Class08: 0.6489 Class09: 0.8126 Class10: 0.0008 Class11: 0.0066 Class12: 0.6553 \n",
      "Epoch39\n",
      "Valid Seg Loss: 0.33433872163295747 Valid dom Loss: 0.19805764605601628\n",
      "Valid Loss: 0.3344278449813525\n",
      "Valid mIoU: 0.37371859115129874\n",
      "___________________________________________________________________________________________\n",
      "\n"
     ]
    },
    {
     "name": "stderr",
     "output_type": "stream",
     "text": [
      "Epoch: 40: 100%|██████████| 138/138 [05:24<00:00,  2.35s/it]\n"
     ]
    },
    {
     "name": "stdout",
     "output_type": "stream",
     "text": [
      "\n",
      "Label_0: IoU Scores Train\n",
      "Class00: 0.2851 Class01: 0.5127 Class02: 0.2397 Class03: 0.4419 Class04: 0.3093 Class05: 0.0325 Class06: 0.0791 \n",
      "Class07: 0.1705 Class08: 0.4529 Class09: 0.4891 Class10: 0.0254 Class11: 0.1131 Class12: 0.4949 \n",
      "Label_1: IoU Scores Train\n",
      "Class00: 0.2427 Class01: 0.4258 Class02: 0.1850 Class03: 0.3784 Class04: 0.2442 Class05: 0.0282 Class06: 0.0645 \n",
      "Class07: 0.1331 Class08: 0.3870 Class09: 0.4071 Class10: 0.0162 Class11: 0.1141 Class12: 0.4214 \n",
      "Label_2: IoU Scores Train\n",
      "Class00: 0.2239 Class01: 0.3748 Class02: 0.1538 Class03: 0.3418 Class04: 0.2063 Class05: 0.0271 Class06: 0.0536 \n",
      "Class07: 0.1188 Class08: 0.3509 Class09: 0.3630 Class10: 0.0128 Class11: 0.1109 Class12: 0.3810 \n",
      "Train seg Loss: 0.23833325771605912 Train dom Loss: 0.8488775660083652\n",
      "Train Loss: 0.23871525287052284\n",
      "Train mIoU: 0.2413467440513168\n"
     ]
    },
    {
     "name": "stderr",
     "output_type": "stream",
     "text": [
      "100%|██████████| 30/30 [00:27<00:00,  1.08it/s]\n"
     ]
    },
    {
     "name": "stdout",
     "output_type": "stream",
     "text": [
      "\n",
      "--IoU Scores Fish val--\n",
      "Class00: 0.9849 Class01: 0.7484 Class02: 0.1592 Class03: 0.5166 Class04: 0.1030 Class05: 0.0149 Class06: 0.0429 \n",
      "Class07: 0.1528 Class08: 0.6218 Class09: 0.7946 Class10: 0.0004 Class11: 0.0011 Class12: 0.5758 \n",
      "Epoch40\n",
      "Valid Seg Loss: 0.3345272401968638 Valid dom Loss: 0.6608887275060018\n",
      "Valid Loss: 0.33482464253902433\n",
      "Valid mIoU: 0.3627958271530409\n",
      "___________________________________________________________________________________________\n",
      "\n"
     ]
    },
    {
     "name": "stderr",
     "output_type": "stream",
     "text": [
      "Epoch: 41: 100%|██████████| 138/138 [06:05<00:00,  2.65s/it]\n"
     ]
    },
    {
     "name": "stdout",
     "output_type": "stream",
     "text": [
      "\n",
      "Label_0: IoU Scores Train\n",
      "Class00: 0.2850 Class01: 0.5138 Class02: 0.2440 Class03: 0.4490 Class04: 0.3139 Class05: 0.0341 Class06: 0.0828 \n",
      "Class07: 0.1715 Class08: 0.4553 Class09: 0.4901 Class10: 0.0289 Class11: 0.1326 Class12: 0.4991 \n",
      "Label_1: IoU Scores Train\n",
      "Class00: 0.2426 Class01: 0.4263 Class02: 0.1854 Class03: 0.3839 Class04: 0.2474 Class05: 0.0300 Class06: 0.0672 \n",
      "Class07: 0.1330 Class08: 0.3881 Class09: 0.4077 Class10: 0.0191 Class11: 0.1312 Class12: 0.4256 \n",
      "Label_2: IoU Scores Train\n",
      "Class00: 0.2239 Class01: 0.3751 Class02: 0.1521 Class03: 0.3464 Class04: 0.2097 Class05: 0.0280 Class06: 0.0556 \n",
      "Class07: 0.1166 Class08: 0.3509 Class09: 0.3630 Class10: 0.0145 Class11: 0.1255 Class12: 0.3831 \n",
      "Train seg Loss: 0.23102416177302743 Train dom Loss: 0.8181942405402975\n",
      "Train Loss: 0.23139234916599477\n",
      "Train mIoU: 0.24440975086636194\n"
     ]
    },
    {
     "name": "stderr",
     "output_type": "stream",
     "text": [
      "100%|██████████| 30/30 [00:24<00:00,  1.23it/s]\n"
     ]
    },
    {
     "name": "stdout",
     "output_type": "stream",
     "text": [
      "\n",
      "--IoU Scores Fish val--\n",
      "Class00: 0.9833 Class01: 0.7462 Class02: 0.1454 Class03: 0.5316 Class04: 0.1502 Class05: 0.0250 Class06: 0.0344 \n",
      "Class07: 0.1361 Class08: 0.6147 Class09: 0.8032 Class10: 0.0007 Class11: 0.0067 Class12: 0.6196 \n",
      "Epoch41\n",
      "Valid Seg Loss: 0.32389172712961833 Valid dom Loss: 1.429623818397522\n",
      "Valid Loss: 0.3245350589354833\n",
      "Valid mIoU: 0.36901254022579405\n",
      "___________________________________________________________________________________________\n",
      "\n"
     ]
    },
    {
     "name": "stderr",
     "output_type": "stream",
     "text": [
      "Epoch: 42: 100%|██████████| 138/138 [06:02<00:00,  2.63s/it]\n"
     ]
    },
    {
     "name": "stdout",
     "output_type": "stream",
     "text": [
      "\n",
      "Label_0: IoU Scores Train\n",
      "Class00: 0.2845 Class01: 0.5110 Class02: 0.2434 Class03: 0.4469 Class04: 0.3107 Class05: 0.0374 Class06: 0.0845 \n",
      "Class07: 0.1690 Class08: 0.4519 Class09: 0.4880 Class10: 0.0332 Class11: 0.1155 Class12: 0.4951 \n",
      "Label_1: IoU Scores Train\n",
      "Class00: 0.2425 Class01: 0.4247 Class02: 0.1875 Class03: 0.3817 Class04: 0.2449 Class05: 0.0316 Class06: 0.0698 \n",
      "Class07: 0.1291 Class08: 0.3844 Class09: 0.4058 Class10: 0.0228 Class11: 0.1112 Class12: 0.4214 \n",
      "Label_2: IoU Scores Train\n",
      "Class00: 0.2238 Class01: 0.3745 Class02: 0.1563 Class03: 0.3442 Class04: 0.2083 Class05: 0.0301 Class06: 0.0593 \n",
      "Class07: 0.1137 Class08: 0.3493 Class09: 0.3620 Class10: 0.0175 Class11: 0.1063 Class12: 0.3803 \n",
      "Train seg Loss: 0.23657694012646513 Train dom Loss: 1.6155301968950142\n",
      "Train Loss: 0.23730392890851854\n",
      "Train mIoU: 0.2424096579099444\n"
     ]
    },
    {
     "name": "stderr",
     "output_type": "stream",
     "text": [
      "100%|██████████| 30/30 [00:25<00:00,  1.17it/s]\n"
     ]
    },
    {
     "name": "stdout",
     "output_type": "stream",
     "text": [
      "\n",
      "--IoU Scores Fish val--\n",
      "Class00: 0.9794 Class01: 0.7179 Class02: 0.1491 Class03: 0.5412 Class04: 0.1135 Class05: 0.0175 Class06: 0.0373 \n",
      "Class07: 0.1372 Class08: 0.6158 Class09: 0.8096 Class10: 0.0001 Class11: 0.0029 Class12: 0.6172 \n",
      "Epoch42\n",
      "Valid Seg Loss: 0.3220867325862249 Valid dom Loss: 0.9682016690572103\n",
      "Valid Loss: 0.3225224216779073\n",
      "Valid mIoU: 0.364509700022329\n",
      "___________________________________________________________________________________________\n",
      "\n"
     ]
    },
    {
     "name": "stderr",
     "output_type": "stream",
     "text": [
      "Epoch: 43: 100%|██████████| 138/138 [05:22<00:00,  2.33s/it]\n"
     ]
    },
    {
     "name": "stdout",
     "output_type": "stream",
     "text": [
      "\n",
      "Label_0: IoU Scores Train\n",
      "Class00: 0.2845 Class01: 0.5092 Class02: 0.2456 Class03: 0.4463 Class04: 0.3036 Class05: 0.0389 Class06: 0.0866 \n",
      "Class07: 0.1763 Class08: 0.4515 Class09: 0.4889 Class10: 0.0297 Class11: 0.1332 Class12: 0.5012 \n",
      "Label_1: IoU Scores Train\n",
      "Class00: 0.2425 Class01: 0.4236 Class02: 0.1890 Class03: 0.3810 Class04: 0.2407 Class05: 0.0332 Class06: 0.0704 \n",
      "Class07: 0.1362 Class08: 0.3849 Class09: 0.4059 Class10: 0.0208 Class11: 0.1312 Class12: 0.4259 \n",
      "Label_2: IoU Scores Train\n",
      "Class00: 0.2238 Class01: 0.3736 Class02: 0.1557 Class03: 0.3434 Class04: 0.2025 Class05: 0.0326 Class06: 0.0583 \n",
      "Class07: 0.1209 Class08: 0.3483 Class09: 0.3612 Class10: 0.0154 Class11: 0.1257 Class12: 0.3838 \n",
      "Train seg Loss: 0.23422454293943257 Train dom Loss: 6.830641976982841\n",
      "Train Loss: 0.23729833150687424\n",
      "Train mIoU: 0.24425889874939516\n"
     ]
    },
    {
     "name": "stderr",
     "output_type": "stream",
     "text": [
      "100%|██████████| 30/30 [00:42<00:00,  1.40s/it]\n"
     ]
    },
    {
     "name": "stdout",
     "output_type": "stream",
     "text": [
      "\n",
      "--IoU Scores Fish val--\n",
      "Class00: 0.9837 Class01: 0.7439 Class02: 0.1594 Class03: 0.5329 Class04: 0.1318 Class05: 0.0179 Class06: 0.0323 \n",
      "Class07: 0.1569 Class08: 0.6157 Class09: 0.8290 Class10: 0.0006 Class11: 0.0073 Class12: 0.6123 \n",
      "Epoch43\n",
      "Valid Seg Loss: 0.31646250387032826 Valid dom Loss: 1.949976631005605\n",
      "Valid Loss: 0.3173399935166041\n",
      "Valid mIoU: 0.3710617884742972\n",
      "___________________________________________________________________________________________\n",
      "\n"
     ]
    },
    {
     "name": "stderr",
     "output_type": "stream",
     "text": [
      "Epoch: 44: 100%|██████████| 138/138 [05:34<00:00,  2.43s/it]\n"
     ]
    },
    {
     "name": "stdout",
     "output_type": "stream",
     "text": [
      "\n",
      "Label_0: IoU Scores Train\n",
      "Class00: 0.2848 Class01: 0.5114 Class02: 0.2311 Class03: 0.4410 Class04: 0.3041 Class05: 0.0364 Class06: 0.0848 \n",
      "Class07: 0.1663 Class08: 0.4473 Class09: 0.4871 Class10: 0.0328 Class11: 0.1305 Class12: 0.4878 \n",
      "Label_1: IoU Scores Train\n",
      "Class00: 0.2426 Class01: 0.4249 Class02: 0.1785 Class03: 0.3773 Class04: 0.2363 Class05: 0.0312 Class06: 0.0680 \n",
      "Class07: 0.1281 Class08: 0.3818 Class09: 0.4051 Class10: 0.0235 Class11: 0.1262 Class12: 0.4143 \n",
      "Label_2: IoU Scores Train\n",
      "Class00: 0.2239 Class01: 0.3738 Class02: 0.1457 Class03: 0.3402 Class04: 0.1981 Class05: 0.0309 Class06: 0.0566 \n",
      "Class07: 0.1135 Class08: 0.3460 Class09: 0.3607 Class10: 0.0185 Class11: 0.1195 Class12: 0.3732 \n",
      "Train seg Loss: 0.24397987487235506 Train dom Loss: 2.4557917047278495\n",
      "Train Loss: 0.24508498112360635\n",
      "Train mIoU: 0.2406108850660607\n"
     ]
    },
    {
     "name": "stderr",
     "output_type": "stream",
     "text": [
      "100%|██████████| 30/30 [00:26<00:00,  1.15it/s]\n"
     ]
    },
    {
     "name": "stdout",
     "output_type": "stream",
     "text": [
      "\n",
      "--IoU Scores Fish val--\n",
      "Class00: 0.9820 Class01: 0.7438 Class02: 0.1704 Class03: 0.5523 Class04: 0.1158 Class05: 0.0236 Class06: 0.0480 \n",
      "Class07: 0.1522 Class08: 0.6364 Class09: 0.8396 Class10: 0.0014 Class11: 0.0043 Class12: 0.6607 \n",
      "Epoch44\n",
      "Valid Seg Loss: 0.3027743349472682 Valid dom Loss: 0.6740552475055058\n",
      "Valid Loss: 0.3030776590108871\n",
      "Valid mIoU: 0.3792748094316781\n",
      "___________________________________________________________________________________________\n",
      "\n"
     ]
    },
    {
     "name": "stderr",
     "output_type": "stream",
     "text": [
      "Epoch: 45: 100%|██████████| 138/138 [05:55<00:00,  2.58s/it]\n"
     ]
    },
    {
     "name": "stdout",
     "output_type": "stream",
     "text": [
      "\n",
      "Label_0: IoU Scores Train\n",
      "Class00: 0.2850 Class01: 0.5170 Class02: 0.2468 Class03: 0.4490 Class04: 0.3116 Class05: 0.0427 Class06: 0.0892 \n",
      "Class07: 0.1768 Class08: 0.4593 Class09: 0.4937 Class10: 0.0286 Class11: 0.1537 Class12: 0.5038 \n",
      "Label_1: IoU Scores Train\n",
      "Class00: 0.2427 Class01: 0.4289 Class02: 0.1896 Class03: 0.3846 Class04: 0.2442 Class05: 0.0353 Class06: 0.0723 \n",
      "Class07: 0.1360 Class08: 0.3921 Class09: 0.4104 Class10: 0.0218 Class11: 0.1474 Class12: 0.4282 \n",
      "Label_2: IoU Scores Train\n",
      "Class00: 0.2239 Class01: 0.3778 Class02: 0.1580 Class03: 0.3467 Class04: 0.2061 Class05: 0.0349 Class06: 0.0606 \n",
      "Class07: 0.1201 Class08: 0.3552 Class09: 0.3660 Class10: 0.0159 Class11: 0.1431 Class12: 0.3862 \n",
      "Train seg Loss: 0.2243423723584212 Train dom Loss: 1.654835471244538\n",
      "Train Loss: 0.22508704845888028\n",
      "Train mIoU: 0.2483437436807001\n"
     ]
    },
    {
     "name": "stderr",
     "output_type": "stream",
     "text": [
      "100%|██████████| 30/30 [00:29<00:00,  1.02it/s]\n"
     ]
    },
    {
     "name": "stdout",
     "output_type": "stream",
     "text": [
      "\n",
      "--IoU Scores Fish val--\n",
      "Class00: 0.9802 Class01: 0.7208 Class02: 0.1940 Class03: 0.5295 Class04: 0.1681 Class05: 0.0277 Class06: 0.0471 \n",
      "Class07: 0.1441 Class08: 0.6173 Class09: 0.7986 Class10: 0.0006 Class11: 0.0039 Class12: 0.5925 \n",
      "Epoch45\n",
      "Valid Seg Loss: 0.31827551970879236 Valid dom Loss: 11.363040645917257\n",
      "Valid Loss: 0.3233888864517212\n",
      "Valid mIoU: 0.3710969542988568\n",
      "___________________________________________________________________________________________\n",
      "\n"
     ]
    },
    {
     "name": "stderr",
     "output_type": "stream",
     "text": [
      "Epoch: 46: 100%|██████████| 138/138 [05:58<00:00,  2.60s/it]\n"
     ]
    },
    {
     "name": "stdout",
     "output_type": "stream",
     "text": [
      "\n",
      "Label_0: IoU Scores Train\n",
      "Class00: 0.2848 Class01: 0.5122 Class02: 0.2420 Class03: 0.4496 Class04: 0.3078 Class05: 0.0399 Class06: 0.0893 \n",
      "Class07: 0.1709 Class08: 0.4583 Class09: 0.4883 Class10: 0.0331 Class11: 0.1415 Class12: 0.4994 \n",
      "Label_1: IoU Scores Train\n",
      "Class00: 0.2426 Class01: 0.4252 Class02: 0.1840 Class03: 0.3847 Class04: 0.2420 Class05: 0.0336 Class06: 0.0722 \n",
      "Class07: 0.1304 Class08: 0.3902 Class09: 0.4062 Class10: 0.0235 Class11: 0.1348 Class12: 0.4241 \n",
      "Label_2: IoU Scores Train\n",
      "Class00: 0.2239 Class01: 0.3749 Class02: 0.1525 Class03: 0.3474 Class04: 0.2050 Class05: 0.0332 Class06: 0.0599 \n",
      "Class07: 0.1155 Class08: 0.3534 Class09: 0.3618 Class10: 0.0183 Class11: 0.1338 Class12: 0.3822 \n",
      "Train seg Loss: 0.2286505028065564 Train dom Loss: 0.9236018354723293\n",
      "Train Loss: 0.22906612354704148\n",
      "Train mIoU: 0.24544128576097024\n"
     ]
    },
    {
     "name": "stderr",
     "output_type": "stream",
     "text": [
      "100%|██████████| 30/30 [00:26<00:00,  1.14it/s]\n"
     ]
    },
    {
     "name": "stdout",
     "output_type": "stream",
     "text": [
      "\n",
      "--IoU Scores Fish val--\n",
      "Class00: 0.9767 Class01: 0.7442 Class02: 0.1758 Class03: 0.5438 Class04: 0.1607 Class05: 0.0241 Class06: 0.0451 \n",
      "Class07: 0.1610 Class08: 0.6427 Class09: 0.8059 Class10: 0.0005 Class11: 0.0066 Class12: 0.6568 \n",
      "Epoch46\n",
      "Valid Seg Loss: 0.3206430161992709 Valid dom Loss: 5.2844825983047485\n",
      "Valid Loss: 0.323021033902963\n",
      "Valid mIoU: 0.3802948719147988\n",
      "___________________________________________________________________________________________\n",
      "\n"
     ]
    },
    {
     "name": "stderr",
     "output_type": "stream",
     "text": [
      "Epoch: 47: 100%|██████████| 138/138 [05:21<00:00,  2.33s/it]\n"
     ]
    },
    {
     "name": "stdout",
     "output_type": "stream",
     "text": [
      "\n",
      "Label_0: IoU Scores Train\n",
      "Class00: 0.2851 Class01: 0.5159 Class02: 0.2517 Class03: 0.4533 Class04: 0.3209 Class05: 0.0454 Class06: 0.0920 \n",
      "Class07: 0.1774 Class08: 0.4580 Class09: 0.4904 Class10: 0.0389 Class11: 0.1538 Class12: 0.5076 \n",
      "Label_1: IoU Scores Train\n",
      "Class00: 0.2427 Class01: 0.4281 Class02: 0.1921 Class03: 0.3878 Class04: 0.2531 Class05: 0.0385 Class06: 0.0758 \n",
      "Class07: 0.1361 Class08: 0.3914 Class09: 0.4080 Class10: 0.0286 Class11: 0.1502 Class12: 0.4321 \n",
      "Label_2: IoU Scores Train\n",
      "Class00: 0.2239 Class01: 0.3769 Class02: 0.1604 Class03: 0.3497 Class04: 0.2145 Class05: 0.0384 Class06: 0.0640 \n",
      "Class07: 0.1209 Class08: 0.3549 Class09: 0.3633 Class10: 0.0227 Class11: 0.1445 Class12: 0.3885 \n",
      "Train seg Loss: 0.21830431388124175 Train dom Loss: 0.9182456390023798\n",
      "Train Loss: 0.21871752408895515\n",
      "Train mIoU: 0.2507072417541895\n"
     ]
    },
    {
     "name": "stderr",
     "output_type": "stream",
     "text": [
      "100%|██████████| 30/30 [00:25<00:00,  1.19it/s]\n"
     ]
    },
    {
     "name": "stdout",
     "output_type": "stream",
     "text": [
      "\n",
      "--IoU Scores Fish val--\n",
      "Class00: 0.9809 Class01: 0.7172 Class02: 0.1612 Class03: 0.4703 Class04: 0.1091 Class05: 0.0262 Class06: 0.0427 \n",
      "Class07: 0.1550 Class08: 0.5982 Class09: 0.7034 Class10: 0.0006 Class11: 0.0060 Class12: 0.5655 \n",
      "Epoch47\n",
      "Valid Seg Loss: 0.38999612629413605 Valid dom Loss: 1.0419136027495066\n",
      "Valid Loss: 0.39046498338381447\n",
      "Valid mIoU: 0.3489327508703643\n",
      "___________________________________________________________________________________________\n",
      "\n"
     ]
    },
    {
     "name": "stderr",
     "output_type": "stream",
     "text": [
      "Epoch: 48: 100%|██████████| 138/138 [06:05<00:00,  2.65s/it]\n"
     ]
    },
    {
     "name": "stdout",
     "output_type": "stream",
     "text": [
      "\n",
      "Label_0: IoU Scores Train\n",
      "Class00: 0.2845 Class01: 0.5096 Class02: 0.2418 Class03: 0.4455 Class04: 0.3055 Class05: 0.0438 Class06: 0.0901 \n",
      "Class07: 0.1698 Class08: 0.4513 Class09: 0.4849 Class10: 0.0367 Class11: 0.1423 Class12: 0.4877 \n",
      "Label_1: IoU Scores Train\n",
      "Class00: 0.2426 Class01: 0.4234 Class02: 0.1842 Class03: 0.3807 Class04: 0.2398 Class05: 0.0369 Class06: 0.0745 \n",
      "Class07: 0.1295 Class08: 0.3854 Class09: 0.4033 Class10: 0.0245 Class11: 0.1401 Class12: 0.4162 \n",
      "Label_2: IoU Scores Train\n",
      "Class00: 0.2237 Class01: 0.3721 Class02: 0.1527 Class03: 0.3432 Class04: 0.2037 Class05: 0.0362 Class06: 0.0631 \n",
      "Class07: 0.1144 Class08: 0.3500 Class09: 0.3586 Class10: 0.0180 Class11: 0.1322 Class12: 0.3754 \n",
      "Train seg Loss: 0.23365266110010194 Train dom Loss: 1.1039938376529812\n",
      "Train Loss: 0.23414945841771392\n",
      "Train mIoU: 0.24405163594145218\n"
     ]
    },
    {
     "name": "stderr",
     "output_type": "stream",
     "text": [
      "100%|██████████| 30/30 [00:25<00:00,  1.18it/s]\n"
     ]
    },
    {
     "name": "stdout",
     "output_type": "stream",
     "text": [
      "\n",
      "--IoU Scores Fish val--\n",
      "Class00: 0.9796 Class01: 0.7587 Class02: 0.1638 Class03: 0.5382 Class04: 0.1449 Class05: 0.0333 Class06: 0.0524 \n",
      "Class07: 0.1707 Class08: 0.6011 Class09: 0.8275 Class10: 0.0027 Class11: 0.0048 Class12: 0.6348 \n",
      "Epoch48\n",
      "Valid Seg Loss: 0.34193122684955596 Valid dom Loss: 0.18076128289103507\n",
      "Valid Loss: 0.34201256980498634\n",
      "Valid mIoU: 0.37788672702351983\n",
      "___________________________________________________________________________________________\n",
      "\n"
     ]
    },
    {
     "name": "stderr",
     "output_type": "stream",
     "text": [
      "Epoch: 49: 100%|██████████| 138/138 [06:06<00:00,  2.66s/it]\n"
     ]
    },
    {
     "name": "stdout",
     "output_type": "stream",
     "text": [
      "\n",
      "Label_0: IoU Scores Train\n",
      "Class00: 0.2843 Class01: 0.5096 Class02: 0.2429 Class03: 0.4486 Class04: 0.3158 Class05: 0.0463 Class06: 0.0891 \n",
      "Class07: 0.1781 Class08: 0.4543 Class09: 0.4858 Class10: 0.0409 Class11: 0.1549 Class12: 0.4998 \n",
      "Label_1: IoU Scores Train\n",
      "Class00: 0.2423 Class01: 0.4230 Class02: 0.1854 Class03: 0.3832 Class04: 0.2466 Class05: 0.0386 Class06: 0.0746 \n",
      "Class07: 0.1365 Class08: 0.3877 Class09: 0.4043 Class10: 0.0310 Class11: 0.1459 Class12: 0.4242 \n",
      "Label_2: IoU Scores Train\n",
      "Class00: 0.2237 Class01: 0.3724 Class02: 0.1535 Class03: 0.3454 Class04: 0.2102 Class05: 0.0380 Class06: 0.0639 \n",
      "Class07: 0.1211 Class08: 0.3521 Class09: 0.3603 Class10: 0.0229 Class11: 0.1401 Class12: 0.3820 \n",
      "Train seg Loss: 0.22689652572507443 Train dom Loss: 0.9595993339862441\n",
      "Train Loss: 0.22732834521555095\n",
      "Train mIoU: 0.24766882432471485\n"
     ]
    },
    {
     "name": "stderr",
     "output_type": "stream",
     "text": [
      "100%|██████████| 30/30 [00:26<00:00,  1.12it/s]\n"
     ]
    },
    {
     "name": "stdout",
     "output_type": "stream",
     "text": [
      "\n",
      "--IoU Scores Fish val--\n",
      "Class00: 0.9823 Class01: 0.7448 Class02: 0.1618 Class03: 0.5122 Class04: 0.1314 Class05: 0.0242 Class06: 0.0382 \n",
      "Class07: 0.1502 Class08: 0.6228 Class09: 0.8063 Class10: 0.0005 Class11: 0.0040 Class12: 0.5533 \n",
      "Epoch49\n",
      "Valid Seg Loss: 0.3157619188229243 Valid dom Loss: 0.7391177214682102\n",
      "Valid Loss: 0.3160945226748784\n",
      "Valid mIoU: 0.36400749548355016\n",
      "___________________________________________________________________________________________\n",
      "\n"
     ]
    },
    {
     "name": "stderr",
     "output_type": "stream",
     "text": [
      "Epoch: 50: 100%|██████████| 138/138 [06:03<00:00,  2.63s/it]\n"
     ]
    },
    {
     "name": "stdout",
     "output_type": "stream",
     "text": [
      "\n",
      "Label_0: IoU Scores Train\n",
      "Class00: 0.2852 Class01: 0.5172 Class02: 0.2468 Class03: 0.4509 Class04: 0.3282 Class05: 0.0460 Class06: 0.0918 \n",
      "Class07: 0.1774 Class08: 0.4624 Class09: 0.4935 Class10: 0.0411 Class11: 0.1553 Class12: 0.5080 \n",
      "Label_1: IoU Scores Train\n",
      "Class00: 0.2426 Class01: 0.4297 Class02: 0.1882 Class03: 0.3852 Class04: 0.2603 Class05: 0.0384 Class06: 0.0776 \n",
      "Class07: 0.1362 Class08: 0.3949 Class09: 0.4100 Class10: 0.0292 Class11: 0.1490 Class12: 0.4323 \n",
      "Label_2: IoU Scores Train\n",
      "Class00: 0.2238 Class01: 0.3783 Class02: 0.1562 Class03: 0.3472 Class04: 0.2213 Class05: 0.0383 Class06: 0.0662 \n",
      "Class07: 0.1220 Class08: 0.3579 Class09: 0.3652 Class10: 0.0224 Class11: 0.1442 Class12: 0.3900 \n",
      "Train seg Loss: 0.217681553988641 Train dom Loss: 0.886210350136403\n",
      "Train Loss: 0.21808034834870393\n",
      "Train mIoU: 0.2515427233825037\n"
     ]
    },
    {
     "name": "stderr",
     "output_type": "stream",
     "text": [
      "100%|██████████| 30/30 [00:23<00:00,  1.28it/s]"
     ]
    },
    {
     "name": "stdout",
     "output_type": "stream",
     "text": [
      "\n",
      "--IoU Scores Fish val--\n",
      "Class00: 0.9796 Class01: 0.7459 Class02: 0.1759 Class03: 0.5348 Class04: 0.1232 Class05: 0.0320 Class06: 0.0455 \n",
      "Class07: 0.1521 Class08: 0.6240 Class09: 0.8227 Class10: 0.0034 Class11: 0.0135 Class12: 0.6442 \n",
      "Epoch50\n",
      "Valid Seg Loss: 0.3141383931040764 Valid dom Loss: 6.040879662831625\n",
      "Valid Loss: 0.31685678859551747\n",
      "Valid mIoU: 0.3766752814061596\n",
      "___________________________________________________________________________________________\n",
      "\n"
     ]
    },
    {
     "name": "stderr",
     "output_type": "stream",
     "text": [
      "\n"
     ]
    },
    {
     "data": {
      "text/html": [
       "Waiting for W&B process to finish... <strong style=\"color:green\">(success).</strong>"
      ],
      "text/plain": [
       "<IPython.core.display.HTML object>"
      ]
     },
     "metadata": {},
     "output_type": "display_data"
    },
    {
     "name": "stderr",
     "output_type": "stream",
     "text": [
      "wandb: WARNING Source type is set to 'repo' but some required information is missing from the environment. A job will not be created from this run. See https://docs.wandb.ai/guides/launch/create-job\n"
     ]
    },
    {
     "data": {
      "text/html": [
       "<style>\n",
       "    table.wandb td:nth-child(1) { padding: 0 10px; text-align: left ; width: auto;} td:nth-child(2) {text-align: left ; width: 100%}\n",
       "    .wandb-row { display: flex; flex-direction: row; flex-wrap: wrap; justify-content: flex-start; width: 100% }\n",
       "    .wandb-col { display: flex; flex-direction: column; flex-basis: 100%; flex: 1; padding: 10px; }\n",
       "    </style>\n",
       "<div class=\"wandb-row\"><div class=\"wandb-col\"><h3>Run history:</h3><br/><table class=\"wandb\"><tr><td>train loss</td><td>▃▂▂▂▂▁▁▁▁▁▁█▂▂▁▁▁▁▁▁▁▁▁▁▁▁▁▁▁▁▁▁▁▁▁▁▁▁▁▁</td></tr><tr><td>train score</td><td>▁▃▃▄▅▅▅▆▆▆▆▃▆▆▆▆▆▆▆▆▆▆▇▆▇▇▇▇▇▇▇▇█▇█▇████</td></tr><tr><td>val loss</td><td>█▇▇▅▃▅▄▄▂▃▄▄▅▃▃▃▂▃▄▅▄▂▂▆▂▃▂▁▃▂▃▂▂▂▂▁▂▄▃▂</td></tr><tr><td>val score</td><td>▁▂▂▄▅▄▅▅▆▆▅▆▅▆▆▆▆▆▅▅▆▇▇▆▇▇▇▇▆▇▆█▇▇▇██▆██</td></tr></table><br/></div><div class=\"wandb-col\"><h3>Run summary:</h3><br/><table class=\"wandb\"><tr><td>train loss</td><td>0.21808</td></tr><tr><td>train score</td><td>0.25154</td></tr><tr><td>val loss</td><td>0.31686</td></tr><tr><td>val score</td><td>0.37668</td></tr></table><br/></div></div>"
      ],
      "text/plain": [
       "<IPython.core.display.HTML object>"
      ]
     },
     "metadata": {},
     "output_type": "display_data"
    },
    {
     "data": {
      "text/html": [
       " View run <strong style=\"color:#cdcd00\">likely-firefly-1</strong> at: <a href='https://wandb.ai/limbw/11_12_3d_res34_dropout/runs/1utervlg' target=\"_blank\">https://wandb.ai/limbw/11_12_3d_res34_dropout/runs/1utervlg</a><br/>Synced 6 W&B file(s), 0 media file(s), 0 artifact file(s) and 0 other file(s)"
      ],
      "text/plain": [
       "<IPython.core.display.HTML object>"
      ]
     },
     "metadata": {},
     "output_type": "display_data"
    },
    {
     "data": {
      "text/html": [
       "Find logs at: <code>./wandb/run-20231112_153150-1utervlg/logs</code>"
      ],
      "text/plain": [
       "<IPython.core.display.HTML object>"
      ]
     },
     "metadata": {},
     "output_type": "display_data"
    },
    {
     "name": "stdout",
     "output_type": "stream",
     "text": [
      "Hyperparamerters\n",
      "LR = 0.0001 | EP = 50, BATCH_SIZE = 16, N_CLASSES = 13, init_alpha = 0.00045, N_LABELS = 3\n"
     ]
    }
   ],
   "source": [
    "import random\n",
    "#torch.cuda.empty_cache()\n",
    "import wandb\n",
    "\n",
    "\n",
    "wandb.init(\n",
    "    # set the wandb project where this run will be logged\n",
    "    project=\"11_12_3d_res34_dropout\",\n",
    "    \n",
    "    # track hyperparameters and run metadata\n",
    "    config={\n",
    "    \"learning_rate\": LR,\n",
    "    \"architecture\": \"CNN\",\n",
    "    \"dataset\": \"Samsung\",\n",
    "    \"epochs\": EP,\n",
    "    }\n",
    ")\n",
    "\n",
    "for epoch in range(EP):\n",
    "    model.train()\n",
    "    epoch_loss = 0\n",
    "    seg_losses = 0\n",
    "    domain_losses = 0\n",
    "    # if epoch < 10:  # 전체 EP 40%\n",
    "    #     alpha = 0.00045\n",
    "    # elif epoch <25: # 전체 EP 30%\n",
    "    #     alpha = 0.00045\n",
    "    # else:          # 전체 EP 30%\n",
    "    #     alpha = 0.00045\n",
    "    train_class_ious = [[],[],[]]\n",
    "    for source_images, source_masks in tqdm(source_dataloader,desc=f\"Epoch: {epoch+1}\"):\n",
    "        random.shuffle(Label)\n",
    "        for l in range(N_LABELS):\n",
    "            label = Label[l]\n",
    "            source_image, source_mask = apply_fisheye_distortion(source_images, source_masks, label)\n",
    "            source_image = source_image.float().to(device)\n",
    "            source_mask = source_mask.long().to(device)\n",
    "            source_outputs = model(source_image)\n",
    "            \n",
    "            optimizer.zero_grad()\n",
    "            target_loss, seg_loss, domain_loss = loss_fn(source_outputs, source_mask, label, alpha = ALPHA)\n",
    "            epoch_loss += target_loss.item()\n",
    "            seg_losses +=  seg_loss.item()\n",
    "            domain_losses += domain_loss.item()\n",
    "            target_loss.backward()\n",
    "            optimizer.step()\n",
    "            # miou측정\n",
    "            source_outputs = model(source_image)\n",
    "            source_outputs = torch.softmax(source_outputs[0], dim=1).cpu()\n",
    "            source_outputs = torch.argmax(source_outputs, dim=1).numpy()\n",
    "            for class_id in range(N_CLASSES):\n",
    "                iou = calculate_iou_per_class(np.array(source_masks.cpu()), np.array(source_outputs), class_id)\n",
    "                train_class_ious[label].append(iou)\n",
    "            #print(train_class_ious[0])\n",
    "    \n",
    "    for i in range(N_LABELS):\n",
    "        buff = np.array(train_class_ious[i]).reshape(-1, N_CLASSES)\n",
    "        buff = np.mean(buff, axis=0)\n",
    "        print(f\"\\nLabel_{i}: IoU Scores Train\") \n",
    "        for class_id, iou in enumerate(buff):\n",
    "            print(f'Class{class_id:02d}: {iou:.4f}', end=\" \")\n",
    "            if (class_id+1) % 7 == 0:\n",
    "                print()   \n",
    "    print()    \n",
    "    print(f\"Train seg Loss: {(seg_losses/(N_LABELS*len(source_dataloader)))}\", f\"Train dom Loss: {(domain_losses/(N_LABELS*len(source_dataloader)))}\")\n",
    "    print(f\"Train Loss: {(epoch_loss/(N_LABELS*len(source_dataloader)))}\")\n",
    "    print(f\"Train mIoU: {np.mean(train_class_ious)}\" )\n",
    "    ################################################################\n",
    "    # 클래스별 IoU를 누적할 리스트 초기화\n",
    "    val_class_ious = []\n",
    "    fish_val_class_ious = []\n",
    "    val_epoch_loss = 0\n",
    "    val_seg_loss = 0\n",
    "    val_domain_loss = 0\n",
    "    # valid\n",
    "    with torch.no_grad():\n",
    "        model.eval()\n",
    "\n",
    "        for target_images, target_masks in tqdm(val_target_dataloader):\n",
    "            label = 1.5\n",
    "            target_images, target_masks = apply_fisheye_distortion(target_images, target_masks, label)\n",
    "            target_images = target_images.float().to(device)\n",
    "            target_masks = target_masks.long().to(device)\n",
    "\n",
    "            target_outputs = model(target_images)\n",
    "\n",
    "            target_loss, target_seg_loss, target_domain_loss = loss_fn(target_outputs, target_masks, label, alpha = ALPHA)\n",
    "\n",
    "            val_seg_loss +=  target_seg_loss.item()\n",
    "            val_domain_loss += target_domain_loss.item()\n",
    "            \n",
    "            loss = target_loss\n",
    "\n",
    "            val_epoch_loss += loss.item()\n",
    "\n",
    "            # train 클래스별 IoU 계산\n",
    "            target_outputs = torch.softmax(target_outputs[0], dim=1).cpu()\n",
    "            target_outputs = torch.argmax(target_outputs, dim=1).numpy()\n",
    "\n",
    "            for class_id in range(N_CLASSES):\n",
    "                iou = calculate_iou_per_class(np.array(target_masks.cpu()), np.array(target_outputs), class_id)\n",
    "                fish_val_class_ious.append(iou)\n",
    "\n",
    "    fish_val_class_ious = np.array(fish_val_class_ious).reshape(-1, N_CLASSES)\n",
    "    fish_val_class_ious = np.mean(fish_val_class_ious, axis=0)\n",
    "    print()\n",
    "    print(\"--IoU Scores Fish val--\")\n",
    "    for class_id, iou in enumerate(fish_val_class_ious):\n",
    "        print(f'Class{class_id:02d}: {iou:.4f}', end=\" \")\n",
    "        if (class_id+1) % 7 == 0:\n",
    "            print()\n",
    "\n",
    "    # mIoU 계산\n",
    "    fish_val_mIoU = np.mean(fish_val_class_ious)\n",
    "\n",
    "    # 에폭마다 결과 출력 \n",
    "    print(f\"\\nEpoch{epoch+1}\")\n",
    "    print(f\"Valid Seg Loss: {(val_seg_loss/len(val_target_dataloader))}\",f\"Valid dom Loss: {(val_domain_loss/len(val_target_dataloader))}\")\n",
    "    print(f\"Valid Loss: {(val_epoch_loss/len(val_target_dataloader))}\")\n",
    "    print(f\"Valid mIoU: {fish_val_mIoU}\" )\n",
    "    print(\"___________________________________________________________________________________________\\n\")\n",
    "\n",
    "\n",
    "    # log metrics to wandb\n",
    "    wandb.log({\"train score\": np.mean(train_class_ious)})\n",
    "    wandb.log({\"val score\": fish_val_mIoU})\n",
    "    wandb.log({\"train loss\": (epoch_loss/(N_LABELS*len(source_dataloader)))})\n",
    "    wandb.log({\"val loss\": (val_epoch_loss/len(val_target_dataloader))})\n",
    "    \n",
    "    \n",
    "# [optional] finish the wandb run, necessary in notebooks\n",
    "wandb.finish()\n",
    "\n",
    "print(\"Hyperparamerters\")\n",
    "print(f\"LR = {LR} | EP = {EP}, BATCH_SIZE = {BATCH_SIZE}, N_CLASSES = {N_CLASSES}, init_alpha = {ALPHA}, N_LABELS = {N_LABELS}\")"
   ]
  },
  {
   "cell_type": "code",
   "execution_count": null,
   "metadata": {},
   "outputs": [],
   "source": [
    "torch.save(model.state_dict(), './data/resnet34_1112_dropout_lr00045_2.pth')"
   ]
  }
 ],
 "metadata": {
  "kernelspec": {
   "display_name": "byungwan_resn",
   "language": "python",
   "name": "python3"
  },
  "language_info": {
   "codemirror_mode": {
    "name": "ipython",
    "version": 3
   },
   "file_extension": ".py",
   "mimetype": "text/x-python",
   "name": "python",
   "nbconvert_exporter": "python",
   "pygments_lexer": "ipython3",
   "version": "3.8.17"
  }
 },
 "nbformat": 4,
 "nbformat_minor": 2
}
