{
 "cells": [
  {
   "attachments": {},
   "cell_type": "markdown",
   "id": "d73d24e3-5c9e-4ade-9e6e-ca6f46a2d914",
   "metadata": {},
   "source": [
    "## Import"
   ]
  },
  {
   "cell_type": "code",
   "execution_count": 1,
   "id": "ad9b681e-370a-4cfa-a452-dd2d7f0cd77f",
   "metadata": {},
   "outputs": [
    {
     "name": "stderr",
     "output_type": "stream",
     "text": [
      "/home/MMI24limbyungwan/.conda/envs/byungwan_resn/lib/python3.8/site-packages/tqdm/auto.py:21: TqdmWarning: IProgress not found. Please update jupyter and ipywidgets. See https://ipywidgets.readthedocs.io/en/stable/user_install.html\n",
      "  from .autonotebook import tqdm as notebook_tqdm\n"
     ]
    },
    {
     "name": "stdout",
     "output_type": "stream",
     "text": [
      "cuda\n",
      "2\n"
     ]
    }
   ],
   "source": [
    "import os\n",
    "import cv2\n",
    "from PIL import Image\n",
    "import pandas as pd\n",
    "import numpy as np\n",
    "\n",
    "import torch\n",
    "import torch.nn as nn\n",
    "import torch.nn.functional as F\n",
    "from torch.utils.data import Dataset, DataLoader\n",
    "from torchvision import transforms\n",
    "from torch.optim.lr_scheduler import _LRScheduler\n",
    "\n",
    "from tqdm import tqdm\n",
    "import albumentations as A\n",
    "from albumentations.pytorch import ToTensorV2\n",
    "\n",
    "from torchvision import models\n",
    "from torchsummary import summary\n",
    "import torch.nn.functional as F\n",
    "\n",
    "# GPU 사용이 가능할 경우, GPU를 사용할 수 있게 함.'\n",
    "os.environ['CUDA_VISIBLE_DEVICES'] = '2'\n",
    "device = \"cuda\" if torch.cuda.is_available() else \"cpu\"\n",
    "device = torch.device(device)\n",
    "print(device)\n",
    "\n",
    "print(os.environ.get('CUDA_VISIBLE_DEVICES'))"
   ]
  },
  {
   "attachments": {},
   "cell_type": "markdown",
   "id": "20ff3de5-0d0e-497b-ac75-d5179a3f65d3",
   "metadata": {},
   "source": [
    "## Utils"
   ]
  },
  {
   "cell_type": "code",
   "execution_count": 2,
   "id": "838e1d83-8670-407b-82f6-bf9652f58639",
   "metadata": {},
   "outputs": [],
   "source": [
    "# RLE 인코딩 함수\n",
    "def rle_encode(mask):\n",
    "    pixels = mask.flatten()\n",
    "    pixels = np.concatenate([[0], pixels, [0]])\n",
    "    runs = np.where(pixels[1:] != pixels[:-1])[0] + 1\n",
    "    runs[1::2] -= runs[::2]\n",
    "    return ' '.join(str(x) for x in runs)\n",
    "\n",
    "# 클래스별 IoU를 계산하기 위한 함수\n",
    "def calculate_iou_per_class(y_true, y_pred, class_id):\n",
    "    intersection = np.sum((y_true == class_id) & (y_pred == class_id))\n",
    "    union = np.sum((y_true == class_id) | (y_pred == class_id))\n",
    "    iou = intersection / union if union > 0 else 0\n",
    "    return iou"
   ]
  },
  {
   "cell_type": "code",
   "execution_count": 3,
   "id": "e5c64ba2",
   "metadata": {},
   "outputs": [],
   "source": [
    "import torch\n",
    "import torch.nn as nn\n",
    "import torch.autograd as autograd\n",
    "\n",
    "class GradReverseFunction(autograd.Function):\n",
    "    @staticmethod\n",
    "    def forward(ctx, x, l):\n",
    "        ctx.l = l\n",
    "        return x.view_as(x)\n",
    "\n",
    "    @staticmethod\n",
    "    def backward(ctx, grad_output):\n",
    "        return grad_output.neg() * ctx.l, None\n",
    "\n",
    "def grad_reverse(x, l):\n",
    "    return GradReverseFunction.apply(x, l)\n",
    "\n",
    "class GradReverse(nn.Module):\n",
    "    def __init__(self, l):\n",
    "        super(GradReverse, self).__init__()\n",
    "        self.l = nn.Parameter(torch.tensor(l), requires_grad=False)\n",
    "\n",
    "    def forward(self, x):\n",
    "        return grad_reverse(x, self.l)\n"
   ]
  },
  {
   "attachments": {},
   "cell_type": "markdown",
   "id": "be76a29e-e9c2-411a-a569-04166f074184",
   "metadata": {},
   "source": [
    "## Dataset, Data Loader"
   ]
  },
  {
   "cell_type": "markdown",
   "id": "e5acf65a",
   "metadata": {},
   "source": [
    "출력이미지 크기 키우기->ex) resnet 2048->1024->512->256 conv 256->512->1024->2048"
   ]
  },
  {
   "cell_type": "code",
   "execution_count": 4,
   "id": "a8496767-2f64-4285-bec4-c6f53a1fd9d2",
   "metadata": {},
   "outputs": [],
   "source": [
    "class CustomDataset(Dataset):\n",
    "    def __init__(self, csv_file, transform=None, infer=False):\n",
    "        self.data = pd.read_csv(csv_file)\n",
    "        self.transform = transform\n",
    "        self.infer = infer\n",
    "\n",
    "    def __len__(self):\n",
    "        return len(self.data)\n",
    "\n",
    "    def __getitem__(self, idx):\n",
    "        directory_path = \"/mnt/nas27/Dataset/Samsung_DM\"\n",
    "        img_path = self.data.iloc[idx, 1]\n",
    "        img_path = os.path.join(directory_path, img_path[2:])\n",
    "        image = cv2.imread(img_path)\n",
    "        image = cv2.cvtColor(image, cv2.COLOR_BGR2RGB)\n",
    "        #image = cv2.cvtColor(image, cv2.COLOR_BGR2GRAY)\n",
    "        \n",
    "        if self.infer:\n",
    "            if self.transform:\n",
    "                image = self.transform(image=image)['image']\n",
    "            return image\n",
    "        \n",
    "        mask_path = self.data.iloc[idx, 2]\n",
    "        mask_path = os.path.join(directory_path, mask_path[2:])\n",
    "        mask = cv2.imread(mask_path)\n",
    "        #mask = cv2.cvtColor(mask, cv2.COLOR_BGR2RGB)\n",
    "        mask = cv2.cvtColor(mask, cv2.COLOR_BGR2GRAY)\n",
    "        mask[mask == 255] = 12 #배경을 픽셀값 12로 간주\n",
    "\n",
    "        if self.transform:\n",
    "            augmented = self.transform(image=image, mask=mask)\n",
    "            image = augmented['image']\n",
    "            mask = augmented['mask']\n",
    "\n",
    "        return image, mask\n",
    "\n",
    "class CustomDataset_target(Dataset):\n",
    "    def __init__(self, csv_file, transform=None, infer=False):\n",
    "        self.data = pd.read_csv(csv_file)\n",
    "        self.transform = transform\n",
    "        self.infer = infer\n",
    "\n",
    "    def __len__(self):\n",
    "        return len(self.data)\n",
    "\n",
    "    def __getitem__(self, idx):\n",
    "        directory_path = \"/mnt/nas27/Dataset/Samsung_DM\"\n",
    "        img_path = self.data.iloc[idx, 1]\n",
    "        img_path = os.path.join(directory_path, img_path[2:])\n",
    "        image = cv2.imread(img_path)\n",
    "        image = cv2.cvtColor(image, cv2.COLOR_BGR2RGB)\n",
    "        \n",
    "        if self.infer:\n",
    "            if self.transform:\n",
    "                image = self.transform(image=image)['image']\n",
    "            return image\n",
    "\n",
    "\n",
    "        if self.transform:\n",
    "            augmented = self.transform(image=image)\n",
    "            image = augmented['image']\n",
    "            \n",
    "\n",
    "        return image\n",
    "     \n",
    "\n",
    "transform = A.Compose(\n",
    "    [   \n",
    "        #A.Resize(224, 224),\n",
    "        A.Resize(128, 128),\n",
    "        A.Normalize(),\n",
    "        \n",
    "        # 변형\n",
    "        # A.VerticalFlip(p=0.5),\n",
    "        # A.RandomRotate90(p=0.5),\n",
    "        # A.HueSaturationValue(p=0.2),\n",
    "        \n",
    "        ToTensorV2()\n",
    "    ]\n",
    ")"
   ]
  },
  {
   "cell_type": "markdown",
   "id": "3a91d6b1",
   "metadata": {},
   "source": [
    "Warmup"
   ]
  },
  {
   "cell_type": "code",
   "execution_count": 5,
   "id": "d9e62c6d",
   "metadata": {},
   "outputs": [],
   "source": [
    "# class WarmUpLR(_LRScheduler):\n",
    "#     def __init__(self, optimizer, total_iters, last_epoch=-1):\n",
    "#         self.total_iters = total_iters\n",
    "#         super(WarmUpLR, self).__init__(optimizer, last_epoch)\n",
    "\n",
    "#     def get_lr(self):\n",
    "#         return [base_lr * self.last_epoch / self.total_iters for base_lr in self.base_lrs]\n"
   ]
  },
  {
   "attachments": {},
   "cell_type": "markdown",
   "id": "f42501fc-b573-4893-a7c4-5e280dfdaf09",
   "metadata": {},
   "source": [
    "## Define Model"
   ]
  },
  {
   "cell_type": "code",
   "execution_count": 6,
   "id": "3574888b",
   "metadata": {},
   "outputs": [],
   "source": [
    "#Unet의 기본이 되는 conv블럭\n",
    "class ConvBlock(nn.Module):\n",
    "    def __init__(self, in_channels, out_channels):\n",
    "        super(ConvBlock, self).__init__()\n",
    "        self.conv1 = nn.Conv2d(in_channels, out_channels, kernel_size=3, padding=1)\n",
    "        self.bn1 = nn.BatchNorm2d(out_channels)\n",
    "        self.relu1 = nn.ReLU()\n",
    "        \n",
    "        self.conv2 = nn.Conv2d(out_channels, out_channels, kernel_size=3, padding=1)  # 여기서 in_channels는 out_channels와 동일해야 합니다.\n",
    "        self.bn2 = nn.BatchNorm2d(out_channels)\n",
    "        self.relu2 = nn.ReLU()\n",
    "\n",
    "    def forward(self, x):\n",
    "        x = self.conv1(x)\n",
    "        x = self.bn1(x)\n",
    "        x = self.relu1(x)\n",
    "        \n",
    "        x = self.conv2(x)\n",
    "        x = self.bn2(x)\n",
    "        x = self.relu2(x)\n",
    "        return x\n",
    "\n",
    "#인코더 블럭\n",
    "class EncoderBlock(nn.Module):\n",
    "    def __init__(self, in_channels, out_channels):\n",
    "        super(EncoderBlock,self).__init__()\n",
    "        self.convblock1 = ConvBlock(in_channels, out_channels)  # 첫 번째 ConvBlock의 in_channels는 입력 이미지의 채널 수와 일치해야 합니다.\n",
    "        #self.convblock2 = ConvBlock(out_channels, out_channels)  # 두 번째 ConvBlock의 in_channels는 out_channels와 일치해야 합니다.\n",
    "        self.maxpool = nn.MaxPool2d(kernel_size=2, stride=2)\n",
    "\n",
    "    def forward(self,x):\n",
    "        x = self.convblock1(x)\n",
    "        #x = self.convblock2(x)\n",
    "        p = self.maxpool(x)\n",
    "        return x , p\n",
    "#디코더 블럭\n",
    "#디코더는 업샘플링 이후 스킵연결과 붙어서 convblock을 통과해야함\n",
    "#skip보다 작은 x x먼저 업샘플링 32 -> 64 , skip과 결합 6464 \n",
    "class DecoderBlock(nn.Module):\n",
    "    def __init__(self, channels):\n",
    "        super(DecoderBlock,self).__init__()\n",
    "        self.upsample = nn.ConvTranspose2d(channels*2, channels, kernel_size=4, stride=2, padding=1)#x 업샘플링\n",
    "        self.convblock1 = ConvBlock(channels*2, channels)#차원감소\n",
    "        #self.convblock2 = ConvBlock(channels, channels)\n",
    "    def forward(self,x,skip):\n",
    "        x = self.upsample(x)\n",
    "        x = torch.cat([x, skip], dim=1)\n",
    "        x = self.convblock1(x)\n",
    "        #x = self.convblock2(x)\n",
    "        return x\n",
    "        \n",
    "#Unet구조 middle의 xm값의 움직임에 주의\n",
    "class Unet(nn.Module):\n",
    "    def __init__(self,n_classes):\n",
    "        super(Unet,self).__init__()\n",
    "        self.encoder1 = EncoderBlock(3,64)\n",
    "        self.encoder2 = EncoderBlock(64,128)\n",
    "        self.encoder3 = EncoderBlock(128,256)\n",
    "        self.encoder4 = EncoderBlock(256,512)\n",
    "        \n",
    "        self.middleconv = ConvBlock(512,1024)\n",
    "        \n",
    "        \n",
    "        self.decoder4 = DecoderBlock(512)\n",
    "        self.decoder3 = DecoderBlock(256)\n",
    "        self.decoder2 = DecoderBlock(128)\n",
    "        self.decoder1 = DecoderBlock(64)\n",
    "        self.segmap = nn.Conv2d(64,n_classes, kernel_size=1)\n",
    "        \n",
    "        ##\n",
    "        # self.domain_classifier = nn.Sequential(\n",
    "        #     nn.Conv3d(1024, 64, kernel_size=3, padding=1),\n",
    "        #     nn.ReLU(),\n",
    "        #     nn.Conv3d(64, 32, kernel_size=3, padding=1),\n",
    "        #     nn.ReLU(),\n",
    "        #     nn.Flatten(),\n",
    "        #     nn.Linear(32 * 16 * 16 * 16, 1),\n",
    "        #     nn.Sigmoid()\n",
    "        # )\n",
    "\n",
    "        # self.grad_reverse = GradReverse(0.0)\n",
    "        ##\n",
    "\n",
    "    def forward(self,x):\n",
    "        x1,p = self.encoder1(x)#3->64   #P:256,256 x1 :512,512\n",
    "        x2,p = self.encoder2(p)#64->128 #P:128,128 x2:256,256\n",
    "        x3,p = self.encoder3(p)#128->256#p:64,64 x3:128,128\n",
    "        x4,p = self.encoder4(p)#256->512#p:32,32 x4:64,64\n",
    "        \n",
    "        xm = self.middleconv(p)#512->1024#32,32\n",
    "        \n",
    "        x = self.decoder4(xm,x4)#뉴런:1024->512->512 #출력tensor:64,64\n",
    "        x = self.decoder3(x,x3)#뉴런:512->256->256 #출력tensor:128,128\n",
    "        x = self.decoder2(x,x2)#뉴런:256->128->128 #출력tensor:256,256\n",
    "        x = self.decoder1(x,x1)#뉴런:128->64->64 #출력tensor:512,512\n",
    "        x = self.segmap(x)\n",
    "\n",
    "        # 도메인 분류기에 GradReverse 적용\n",
    "        #feat = self.grad_reverse(x)\n",
    "        #domain_output = self.domain_classifier(x)\n",
    "\n",
    "        return x"
   ]
  },
  {
   "cell_type": "markdown",
   "id": "afdb7c3b",
   "metadata": {},
   "source": [
    "## ResNet50"
   ]
  },
  {
   "cell_type": "code",
   "execution_count": 7,
   "id": "baf22f4a",
   "metadata": {},
   "outputs": [],
   "source": [
    "# import torch.nn as nn\n",
    "# import torchvision.models as models\n",
    "\n",
    "# class UNetWithResnet50Encoder(nn.Module):\n",
    "#     def __init__(self, n_classes):\n",
    "#         super().__init__()\n",
    "        \n",
    "#         # ResNet50 백본을 불러옵니다.\n",
    "#         self.resnet = models.resnet50(pretrained=True)\n",
    "        \n",
    "#         # 인코더 부분\n",
    "#         self.encoder0 = nn.Sequential(\n",
    "#             self.resnet.conv1,\n",
    "#             self.resnet.bn1,\n",
    "#             self.resnet.relu,\n",
    "#             self.resnet.maxpool\n",
    "#         )\n",
    "#         self.encoder1 = self.resnet.layer1\n",
    "#         self.encoder2 = self.resnet.layer2\n",
    "#         self.encoder3 = self.resnet.layer3\n",
    "#         self.encoder4 = self.resnet.layer4\n",
    "        \n",
    "#         # 중간 컨볼루션\n",
    "#         self.middle_conv = nn.Sequential(\n",
    "#             nn.Conv2d(2048, 1024, kernel_size=3, padding=1),\n",
    "#             nn.ReLU()\n",
    "#         )\n",
    "        \n",
    "#         # 디코더 부분\n",
    "#         self.decoder3 = nn.Sequential(\n",
    "#             nn.ConvTranspose2d(1024+1024, 512, kernel_size=2, stride=2),\n",
    "#             nn.ReLU()\n",
    "#         )\n",
    "#         self.decoder2 = nn.Sequential(\n",
    "#             nn.ConvTranspose2d(512+512, 256, kernel_size=2, stride=2),\n",
    "#             nn.ReLU()\n",
    "#         )\n",
    "#         # 디코더 부분\n",
    "#         self.decoder1 = nn.Sequential(\n",
    "#             nn.ConvTranspose2d(256+256, 128, kernel_size=2, stride=2),  # 출력 채널 수를 128로 변경\n",
    "#             nn.ReLU()\n",
    "#         )\n",
    "#         self.decoder0 = nn.Sequential(\n",
    "#             nn.ConvTranspose2d(128+64, n_classes, kernel_size=2, stride=2),  # 입력 채널 수를 192로 변경\n",
    "#             nn.ReLU()\n",
    "#         )\n",
    "        \n",
    "#     def forward(self, x):\n",
    "#         # 인코더 부분\n",
    "#         x0 = self.encoder0(x)\n",
    "#         x1 = self.encoder1(x0)\n",
    "#         x2 = self.encoder2(x1)\n",
    "#         x3 = self.encoder3(x2)\n",
    "#         x4 = self.encoder4(x3)\n",
    "        \n",
    "#         # 중간 컨볼루션 후 업샘플링\n",
    "#         middle = self.middle_conv(x4)\n",
    "#         middle_upsampled = nn.functional.interpolate(middle, scale_factor=2, mode='bilinear', align_corners=True)\n",
    "\n",
    "#         # 디코더 부분 (skip connection 추가)\n",
    "#         d3 = self.decoder3(torch.cat([middle_upsampled, x3], dim=1))\n",
    "#         d2 = self.decoder2(torch.cat([d3, x2], dim=1))\n",
    "#         d1 = self.decoder1(torch.cat([d2, x1], dim=1))\n",
    "#         out = self.decoder0(torch.cat([d1, x0], dim=1))\n",
    "        \n",
    "#         return out\n"
   ]
  },
  {
   "cell_type": "code",
   "execution_count": 8,
   "id": "43f0ffa3",
   "metadata": {},
   "outputs": [],
   "source": [
    "import pandas as pd\n",
    "import os\n",
    "N_CLASSES = 13\n",
    "# 데이터셋을 불러옵니다.\n",
    "csv_file = os.path.join(\"/mnt/nas27/Dataset/Samsung_DM\", './train_source.csv')\n",
    "data = pd.read_csv(csv_file)\n",
    "\n",
    "# 클래스별 샘플 수를 저장할 리스트를 초기화합니다.\n",
    "class_sample_counts = [0] * N_CLASSES  # num_classes는 클래스의 총 개수입니다.\n",
    "\n",
    "# 데이터셋을 순회하면서 클래스별 샘플 수를 세고 저장합니다.\n",
    "for idx in range(len(data)):\n",
    "    mask_path = os.path.join(\"/mnt/nas27/Dataset/Samsung_DM\", data.iloc[idx, 2][2:])  # 마스크 이미지 경로\n",
    "    mask = cv2.imread(mask_path, cv2.IMREAD_GRAYSCALE)\n",
    "    mask[mask == 255] = 12  # 배경 클래스로 처리\n",
    "\n",
    "    # 각 클래스의 샘플 수를 카운트합니다.\n",
    "    for class_id in range(N_CLASSES):\n",
    "        class_sample_counts[class_id] += (mask == class_id).sum()\n",
    "\n",
    "# 클래스별 가중치를 계산합니다.\n",
    "total_samples = sum(class_sample_counts)\n",
    "class_weights = [total_samples / count for count in class_sample_counts]\n",
    "\n",
    "# 클래스별 가중치를 텐서로 변환합니다.\n",
    "class_weights = torch.tensor(class_weights).to(device)\n",
    "class_weights = class_weights.float()"
   ]
  },
  {
   "cell_type": "code",
   "execution_count": 9,
   "id": "12229a75",
   "metadata": {},
   "outputs": [
    {
     "name": "stdout",
     "output_type": "stream",
     "text": [
      "[739351233, 56771156, 901883337, 69484874, 27027133, 9088387, 28767055, 660576317, 1049773711, 5071862, 2069341, 448558171, 602728911]\n",
      "tensor([   6.2232,   81.0473,    5.1017,   66.2180,  170.2419,  506.2671,\n",
      "         159.9452,    6.9654,    4.3830,  907.1918, 2223.4863,   10.2576,\n",
      "           7.6339], device='cuda:0')\n"
     ]
    }
   ],
   "source": [
    "print(class_sample_counts)\n",
    "print(class_weights)"
   ]
  },
  {
   "cell_type": "code",
   "execution_count": 10,
   "id": "dd34483e",
   "metadata": {},
   "outputs": [],
   "source": [
    "LR = 0.001\n",
    "EP = 30\n",
    "BATCH_SIZE = 64\n",
    "ACCMULATION_STEP = 1 \n",
    "N_CLASSES = 13 #IoU 점수측정하기 위한 클래스의 개수\n",
    "# WUP_ITERS = 10  # 웜업을 위한 반복 횟수\n",
    "# model 초기화\n",
    "#model = Unet_resnet18(n_classes = N_CLASSES).to(device)\n",
    "#model = ResNet50(num_classes=N_CLASSES).to(device)\n",
    "model = Unet(n_classes = N_CLASSES).to(device)\n",
    "\n",
    "# loss function과 optimizer 정의\n",
    "\n",
    "#criterion =nn.CrossEntropyLoss()\n",
    "#domain_criterion = nn.BCELoss()\n",
    "criterion = nn.CrossEntropyLoss(weight=class_weights)\n",
    "optimizer = torch.optim.Adam(model.parameters(), lr=LR)\n",
    "optimizer.zero_grad() \n",
    "#optimizer = torch.optim.SGD(model.parameters(), lr=LR, momentum=0.9, nesterov=True)\n",
    "# Warmup을 위한 스케줄러 설정\n",
    "# scheduler_warmup = WarmUpLR(optimizer, WUP_ITERS)\n",
    "\n",
    "dataset = CustomDataset(csv_file=os.path.join(\"/mnt/nas27/Dataset/Samsung_DM\",'./train_source.csv'), transform=transform)\n",
    "dataloader = DataLoader(dataset, batch_size=BATCH_SIZE, shuffle=True, num_workers=8)\n",
    "valid_dataset = CustomDataset(csv_file=os.path.join(\"/mnt/nas27/Dataset/Samsung_DM\",'./val_source.csv'), transform=transform)\n",
    "valid_dataloader = DataLoader(valid_dataset, batch_size=BATCH_SIZE, shuffle=False, num_workers=8)\n",
    "target_dataset = CustomDataset_target(csv_file=os.path.join(\"/mnt/nas27/Dataset/Samsung_DM\",'./train_target.csv'), transform=transform)\n",
    "target_dataloader = DataLoader(target_dataset, batch_size=BATCH_SIZE, shuffle=False, num_workers=8)\n",
    "test_dataset = CustomDataset(csv_file=os.path.join(\"/mnt/nas27/Dataset/Samsung_DM\",'./test.csv'), transform=transform, infer=True)\n",
    "test_dataloader = DataLoader(test_dataset, batch_size=BATCH_SIZE, shuffle=False, num_workers=8)"
   ]
  },
  {
   "cell_type": "code",
   "execution_count": 11,
   "id": "b8216c31",
   "metadata": {},
   "outputs": [],
   "source": [
    "# import matplotlib.pyplot as plt\n",
    "\n",
    "# # 데이터로더에서 배치 하나를 가져옵니다.\n",
    "# dataiter = iter(dataloader)\n",
    "# images, masks = next(dataiter)\n",
    "\n",
    "# # 이미지를 시각화합니다.\n",
    "# for i in range(images.size(0)):\n",
    "#     image = images[i].permute(1, 2, 0).numpy()  # 이미지를 CHW에서 HWC로 변환\n",
    "#     mask = masks[i].numpy()\n",
    "\n",
    "#     plt.figure(figsize=(8, 8))\n",
    "#     plt.subplot(1, 2, 1)\n",
    "#     plt.imshow(image)\n",
    "#     plt.title(\"Image\")\n",
    "\n",
    "#     plt.subplot(1, 2, 2)\n",
    "#     plt.imshow(mask, cmap='gray')\n",
    "#     plt.title(\"Mask\")\n",
    "\n",
    "#     plt.show()\n"
   ]
  },
  {
   "cell_type": "code",
   "execution_count": 12,
   "id": "697a9e3a",
   "metadata": {},
   "outputs": [],
   "source": [
    "# for images, masks in tqdm(dataloader):\n",
    "#     a = images.float().to(device)\n",
    "#     b = masks.long().to(device)\n",
    "#     break\n",
    "\n",
    "# # PyTorch Tensor를 NumPy 배열로 변환\n",
    "# a_numpy = a[3].cpu().numpy()  # 첫 번째 이미지만 선택하거나 필요한 이미지를 선택하세요.\n",
    "# a_numpy = np.transpose(a_numpy, (1, 2, 0))\n",
    "# b_numpy = b[3].cpu().numpy()\n",
    "# b_numpy = b_numpy*12\n",
    "\n",
    "# # 이미지를 저장\n",
    "# cv2.imwrite('image_source.png', a_numpy)  # 이미지 저장\n",
    "# cv2.imwrite('image_mask.png', b_numpy)   # 마스크 저장"
   ]
  },
  {
   "cell_type": "code",
   "execution_count": 13,
   "id": "313afd5c",
   "metadata": {},
   "outputs": [],
   "source": [
    "\n",
    "# for epoch in range(2):  # 5 에폭 동안 학습합니다.\n",
    "          \n",
    "#     # 클래스별 IoU를 누적할 리스트 초기화\n",
    "#     train_class_ious = []\n",
    "    \n",
    "#     # 학습\n",
    "#     model.train()\n",
    "#     epoch_loss = 0\n",
    "    \n",
    "#     for images, masks in tqdm(dataloader):\n",
    "#         images = images.float().to(device)\n",
    "#         masks = masks.long().to(device)\n",
    "\n",
    "#         optimizer.zero_grad()\n",
    "#         outputs = model(images)\n",
    "#         mask_spueeze = masks.squeeze(1)\n",
    "#         loss = criterion(outputs, masks.squeeze(1))\n",
    "#         loss.backward()\n",
    "#         optimizer.step()\n",
    "\n",
    "#         epoch_loss += loss.item()"
   ]
  },
  {
   "attachments": {},
   "cell_type": "markdown",
   "id": "a0895765-fba0-4fd9-b955-a6c0e43012e9",
   "metadata": {},
   "source": [
    "## Model Train"
   ]
  },
  {
   "cell_type": "code",
   "execution_count": 14,
   "id": "dec3e516",
   "metadata": {},
   "outputs": [
    {
     "name": "stderr",
     "output_type": "stream",
     "text": [
      "Failed to detect the name of this notebook, you can set it manually with the WANDB_NOTEBOOK_NAME environment variable to enable code saving.\n"
     ]
    },
    {
     "name": "stderr",
     "output_type": "stream",
     "text": [
      "\u001b[34m\u001b[1mwandb\u001b[0m: Currently logged in as: \u001b[33mpook0612\u001b[0m (\u001b[33mlimbw\u001b[0m). Use \u001b[1m`wandb login --relogin`\u001b[0m to force relogin\n"
     ]
    },
    {
     "data": {
      "text/html": [
       "wandb version 0.15.12 is available!  To upgrade, please run:\n",
       " $ pip install wandb --upgrade"
      ],
      "text/plain": [
       "<IPython.core.display.HTML object>"
      ]
     },
     "metadata": {},
     "output_type": "display_data"
    },
    {
     "data": {
      "text/html": [
       "Tracking run with wandb version 0.15.10"
      ],
      "text/plain": [
       "<IPython.core.display.HTML object>"
      ]
     },
     "metadata": {},
     "output_type": "display_data"
    },
    {
     "data": {
      "text/html": [
       "Run data is saved locally in <code>/home/MMI24limbyungwan/Design_Project/Design_project/wandb/run-20231005_204840-182zytm2</code>"
      ],
      "text/plain": [
       "<IPython.core.display.HTML object>"
      ]
     },
     "metadata": {},
     "output_type": "display_data"
    },
    {
     "data": {
      "text/html": [
       "Syncing run <strong><a href='https://wandb.ai/limbw/practice_10_05/runs/182zytm2' target=\"_blank\">rich-microwave-2</a></strong> to <a href='https://wandb.ai/limbw/practice_10_05' target=\"_blank\">Weights & Biases</a> (<a href='https://wandb.me/run' target=\"_blank\">docs</a>)<br/>"
      ],
      "text/plain": [
       "<IPython.core.display.HTML object>"
      ]
     },
     "metadata": {},
     "output_type": "display_data"
    },
    {
     "data": {
      "text/html": [
       " View project at <a href='https://wandb.ai/limbw/practice_10_05' target=\"_blank\">https://wandb.ai/limbw/practice_10_05</a>"
      ],
      "text/plain": [
       "<IPython.core.display.HTML object>"
      ]
     },
     "metadata": {},
     "output_type": "display_data"
    },
    {
     "data": {
      "text/html": [
       " View run at <a href='https://wandb.ai/limbw/practice_10_05/runs/182zytm2' target=\"_blank\">https://wandb.ai/limbw/practice_10_05/runs/182zytm2</a>"
      ],
      "text/plain": [
       "<IPython.core.display.HTML object>"
      ]
     },
     "metadata": {},
     "output_type": "display_data"
    },
    {
     "name": "stderr",
     "output_type": "stream",
     "text": [
      "100%|██████████| 35/35 [01:13<00:00,  2.09s/it]\n"
     ]
    },
    {
     "name": "stdout",
     "output_type": "stream",
     "text": [
      "--IoU Scores Train--\n",
      "Class0: 0.0767 Class1: 0.1805 Class2: 0.2688 Class3: 0.2570 Class4: 0.2669 Class5: 0.3137 Class6: 0.2920 \n",
      "Class7: 0.3040 Class8: 0.3442 Class9: 0.3014 Class10: 0.3421 Class11: 0.3708 Class12: 0.3556 "
     ]
    },
    {
     "name": "stderr",
     "output_type": "stream",
     "text": [
      "100%|██████████| 8/8 [00:17<00:00,  2.25s/it]\n"
     ]
    },
    {
     "name": "stdout",
     "output_type": "stream",
     "text": [
      "--IoU Scores Valid--\n",
      "Class0: 0.2367 Class1: 0.3854 Class2: 0.2249 Class3: 0.2749 Class4: 0.4119 Class5: 0.2780 Class6: 0.2738 \n",
      "Class7: 0.2119 Class8: 0.2849 Class9: 0.4185 Class10: 0.2447 Class11: 0.2679 Class12: 0.3282 \n",
      "Epoch1\n",
      "Train Loss: 1.5421057735170638, Train mIoU Score: 0.2826\n",
      "Validation Loss: 1.4050215929746628, Validation mIoU Score: 0.2955\n",
      "___________________________________________________________________________________________\n",
      "\n"
     ]
    },
    {
     "name": "stderr",
     "output_type": "stream",
     "text": [
      "100%|██████████| 35/35 [01:14<00:00,  2.12s/it]\n"
     ]
    },
    {
     "name": "stdout",
     "output_type": "stream",
     "text": [
      "--IoU Scores Train--\n",
      "Class0: 0.3520 Class1: 0.3481 Class2: 0.3922 Class3: 0.3686 Class4: 0.3729 Class5: 0.4086 Class6: 0.3761 \n",
      "Class7: 0.3891 Class8: 0.4165 Class9: 0.3884 Class10: 0.4088 Class11: 0.4216 Class12: 0.4155 "
     ]
    },
    {
     "name": "stderr",
     "output_type": "stream",
     "text": [
      "100%|██████████| 8/8 [00:18<00:00,  2.26s/it]\n"
     ]
    },
    {
     "name": "stdout",
     "output_type": "stream",
     "text": [
      "--IoU Scores Valid--\n",
      "Class0: 0.2923 Class1: 0.4331 Class2: 0.2436 Class3: 0.3463 Class4: 0.4626 Class5: 0.3155 Class6: 0.3242 \n",
      "Class7: 0.2472 Class8: 0.3336 Class9: 0.4478 Class10: 0.2735 Class11: 0.3289 Class12: 0.3601 \n",
      "Epoch2\n",
      "Train Loss: 0.9220288174492972, Train mIoU Score: 0.3891\n",
      "Validation Loss: 1.4230664521455765, Validation mIoU Score: 0.3391\n",
      "___________________________________________________________________________________________\n",
      "\n"
     ]
    },
    {
     "name": "stderr",
     "output_type": "stream",
     "text": [
      "100%|██████████| 35/35 [01:13<00:00,  2.11s/it]\n"
     ]
    },
    {
     "name": "stdout",
     "output_type": "stream",
     "text": [
      "--IoU Scores Train--\n",
      "Class0: 0.4179 Class1: 0.4136 Class2: 0.4358 Class3: 0.4081 Class4: 0.4403 Class5: 0.4501 Class6: 0.4260 \n",
      "Class7: 0.4306 Class8: 0.4763 Class9: 0.4302 Class10: 0.4551 Class11: 0.4515 Class12: 0.4191 "
     ]
    },
    {
     "name": "stderr",
     "output_type": "stream",
     "text": [
      "100%|██████████| 8/8 [00:17<00:00,  2.20s/it]\n"
     ]
    },
    {
     "name": "stdout",
     "output_type": "stream",
     "text": [
      "--IoU Scores Valid--\n",
      "Class0: 0.2850 Class1: 0.3956 Class2: 0.2525 Class3: 0.3334 Class4: 0.4448 Class5: 0.3108 Class6: 0.3165 \n",
      "Class7: 0.2380 Class8: 0.3268 Class9: 0.4316 Class10: 0.2737 Class11: 0.3228 Class12: 0.3585 \n",
      "Epoch3\n",
      "Train Loss: 0.7009752631187439, Train mIoU Score: 0.4350\n",
      "Validation Loss: 1.368522122502327, Validation mIoU Score: 0.3300\n",
      "___________________________________________________________________________________________\n",
      "\n"
     ]
    },
    {
     "name": "stderr",
     "output_type": "stream",
     "text": [
      "100%|██████████| 35/35 [01:14<00:00,  2.12s/it]\n"
     ]
    },
    {
     "name": "stdout",
     "output_type": "stream",
     "text": [
      "--IoU Scores Train--\n",
      "Class0: 0.4486 Class1: 0.4438 Class2: 0.4580 Class3: 0.4532 Class4: 0.4244 Class5: 0.4417 Class6: 0.4341 \n",
      "Class7: 0.4407 Class8: 0.4627 Class9: 0.4047 Class10: 0.4401 Class11: 0.4597 Class12: 0.4400 "
     ]
    },
    {
     "name": "stderr",
     "output_type": "stream",
     "text": [
      "100%|██████████| 8/8 [00:17<00:00,  2.21s/it]\n"
     ]
    },
    {
     "name": "stdout",
     "output_type": "stream",
     "text": [
      "--IoU Scores Valid--\n",
      "Class0: 0.3075 Class1: 0.4384 Class2: 0.2609 Class3: 0.3667 Class4: 0.4721 Class5: 0.3291 Class6: 0.3500 \n",
      "Class7: 0.2575 Class8: 0.3495 Class9: 0.4655 Class10: 0.2777 Class11: 0.3747 Class12: 0.3714 \n",
      "Epoch4\n",
      "Train Loss: 0.6578422461237227, Train mIoU Score: 0.4424\n",
      "Validation Loss: 1.159624844789505, Validation mIoU Score: 0.3555\n",
      "___________________________________________________________________________________________\n",
      "\n"
     ]
    },
    {
     "name": "stderr",
     "output_type": "stream",
     "text": [
      "100%|██████████| 35/35 [01:14<00:00,  2.12s/it]\n"
     ]
    },
    {
     "name": "stdout",
     "output_type": "stream",
     "text": [
      "--IoU Scores Train--\n",
      "Class0: 0.4554 Class1: 0.4595 Class2: 0.4672 Class3: 0.4359 Class4: 0.4548 Class5: 0.4880 Class6: 0.4516 \n",
      "Class7: 0.4547 Class8: 0.4769 Class9: 0.4583 Class10: 0.4726 Class11: 0.5081 Class12: 0.4609 "
     ]
    },
    {
     "name": "stderr",
     "output_type": "stream",
     "text": [
      "100%|██████████| 8/8 [00:17<00:00,  2.24s/it]\n"
     ]
    },
    {
     "name": "stdout",
     "output_type": "stream",
     "text": [
      "--IoU Scores Valid--\n",
      "Class0: 0.3317 Class1: 0.4414 Class2: 0.2851 Class3: 0.3689 Class4: 0.4758 Class5: 0.3573 Class6: 0.3398 \n",
      "Class7: 0.2752 Class8: 0.3545 Class9: 0.4620 Class10: 0.3122 Class11: 0.3451 Class12: 0.3935 \n",
      "Epoch5\n",
      "Train Loss: 0.5693419694900512, Train mIoU Score: 0.4649\n",
      "Validation Loss: 1.2668971866369247, Validation mIoU Score: 0.3648\n",
      "___________________________________________________________________________________________\n",
      "\n"
     ]
    },
    {
     "name": "stderr",
     "output_type": "stream",
     "text": [
      "100%|██████████| 35/35 [01:13<00:00,  2.11s/it]\n"
     ]
    },
    {
     "name": "stdout",
     "output_type": "stream",
     "text": [
      "--IoU Scores Train--\n",
      "Class0: 0.4664 Class1: 0.4795 Class2: 0.4967 Class3: 0.4688 Class4: 0.4847 Class5: 0.4987 Class6: 0.4684 \n",
      "Class7: 0.4860 Class8: 0.4887 Class9: 0.4345 Class10: 0.4816 Class11: 0.4838 Class12: 0.4780 "
     ]
    },
    {
     "name": "stderr",
     "output_type": "stream",
     "text": [
      "100%|██████████| 8/8 [00:17<00:00,  2.21s/it]\n"
     ]
    },
    {
     "name": "stdout",
     "output_type": "stream",
     "text": [
      "--IoU Scores Valid--\n",
      "Class0: 0.3120 Class1: 0.4431 Class2: 0.2528 Class3: 0.3705 Class4: 0.4691 Class5: 0.3203 Class6: 0.3632 \n",
      "Class7: 0.2585 Class8: 0.3270 Class9: 0.4703 Class10: 0.2806 Class11: 0.3727 Class12: 0.3699 \n",
      "Epoch6\n",
      "Train Loss: 0.5117513716220856, Train mIoU Score: 0.4781\n",
      "Validation Loss: 1.0666602849960327, Validation mIoU Score: 0.3546\n",
      "___________________________________________________________________________________________\n",
      "\n"
     ]
    },
    {
     "name": "stderr",
     "output_type": "stream",
     "text": [
      "100%|██████████| 35/35 [01:13<00:00,  2.10s/it]\n"
     ]
    },
    {
     "name": "stdout",
     "output_type": "stream",
     "text": [
      "--IoU Scores Train--\n",
      "Class0: 0.4774 Class1: 0.5023 Class2: 0.5043 Class3: 0.4629 Class4: 0.4764 Class5: 0.5105 Class6: 0.4757 \n",
      "Class7: 0.4924 Class8: 0.5331 Class9: 0.4680 Class10: 0.5099 Class11: 0.5207 Class12: 0.4740 "
     ]
    },
    {
     "name": "stderr",
     "output_type": "stream",
     "text": [
      "100%|██████████| 8/8 [00:17<00:00,  2.21s/it]\n"
     ]
    },
    {
     "name": "stdout",
     "output_type": "stream",
     "text": [
      "--IoU Scores Valid--\n",
      "Class0: 0.3704 Class1: 0.4601 Class2: 0.2833 Class3: 0.4159 Class4: 0.5002 Class5: 0.3475 Class6: 0.3872 \n",
      "Class7: 0.2954 Class8: 0.3887 Class9: 0.4862 Class10: 0.3142 Class11: 0.3959 Class12: 0.3984 \n",
      "Epoch7\n",
      "Train Loss: 0.4725946656295231, Train mIoU Score: 0.4929\n",
      "Validation Loss: 1.168860599398613, Validation mIoU Score: 0.3880\n",
      "___________________________________________________________________________________________\n",
      "\n"
     ]
    },
    {
     "name": "stderr",
     "output_type": "stream",
     "text": [
      "100%|██████████| 35/35 [01:14<00:00,  2.12s/it]\n"
     ]
    },
    {
     "name": "stdout",
     "output_type": "stream",
     "text": [
      "--IoU Scores Train--\n",
      "Class0: 0.5186 Class1: 0.5109 Class2: 0.5151 Class3: 0.4948 Class4: 0.4976 Class5: 0.5185 Class6: 0.4909 \n",
      "Class7: 0.4977 Class8: 0.5422 Class9: 0.4941 Class10: 0.5134 Class11: 0.5360 Class12: 0.5142 "
     ]
    },
    {
     "name": "stderr",
     "output_type": "stream",
     "text": [
      "100%|██████████| 8/8 [00:18<00:00,  2.25s/it]\n"
     ]
    },
    {
     "name": "stdout",
     "output_type": "stream",
     "text": [
      "--IoU Scores Valid--\n",
      "Class0: 0.3491 Class1: 0.4289 Class2: 0.2827 Class3: 0.3955 Class4: 0.4790 Class5: 0.3374 Class6: 0.3555 \n",
      "Class7: 0.2799 Class8: 0.3798 Class9: 0.4625 Class10: 0.3104 Class11: 0.3605 Class12: 0.3902 \n",
      "Epoch8\n",
      "Train Loss: 0.4210222014359066, Train mIoU Score: 0.5111\n",
      "Validation Loss: 1.3240166008472443, Validation mIoU Score: 0.3701\n",
      "___________________________________________________________________________________________\n",
      "\n"
     ]
    },
    {
     "name": "stderr",
     "output_type": "stream",
     "text": [
      "100%|██████████| 35/35 [01:14<00:00,  2.14s/it]\n"
     ]
    },
    {
     "name": "stdout",
     "output_type": "stream",
     "text": [
      "--IoU Scores Train--\n",
      "Class0: 0.5316 Class1: 0.5131 Class2: 0.5288 Class3: 0.5112 Class4: 0.5176 Class5: 0.5337 Class6: 0.5067 \n",
      "Class7: 0.5319 Class8: 0.5581 Class9: 0.5084 Class10: 0.5073 Class11: 0.5415 Class12: 0.5144 "
     ]
    },
    {
     "name": "stderr",
     "output_type": "stream",
     "text": [
      "100%|██████████| 8/8 [00:17<00:00,  2.24s/it]\n"
     ]
    },
    {
     "name": "stdout",
     "output_type": "stream",
     "text": [
      "--IoU Scores Valid--\n",
      "Class0: 0.3899 Class1: 0.4913 Class2: 0.3257 Class3: 0.4379 Class4: 0.5226 Class5: 0.3886 Class6: 0.4076 \n",
      "Class7: 0.3278 Class8: 0.4096 Class9: 0.5173 Class10: 0.3514 Class11: 0.4189 Class12: 0.4535 \n",
      "Epoch9\n",
      "Train Loss: 0.37691498824528286, Train mIoU Score: 0.5234\n",
      "Validation Loss: 1.0938908830285072, Validation mIoU Score: 0.4186\n",
      "___________________________________________________________________________________________\n",
      "\n"
     ]
    },
    {
     "name": "stderr",
     "output_type": "stream",
     "text": [
      "100%|██████████| 35/35 [01:14<00:00,  2.12s/it]\n"
     ]
    },
    {
     "name": "stdout",
     "output_type": "stream",
     "text": [
      "--IoU Scores Train--\n",
      "Class0: 0.5475 Class1: 0.5332 Class2: 0.5450 Class3: 0.5058 Class4: 0.5451 Class5: 0.5725 Class6: 0.5151 \n",
      "Class7: 0.5087 Class8: 0.5602 Class9: 0.5309 Class10: 0.5291 Class11: 0.5453 Class12: 0.5019 "
     ]
    },
    {
     "name": "stderr",
     "output_type": "stream",
     "text": [
      "100%|██████████| 8/8 [00:17<00:00,  2.25s/it]\n"
     ]
    },
    {
     "name": "stdout",
     "output_type": "stream",
     "text": [
      "--IoU Scores Valid--\n",
      "Class0: 0.3835 Class1: 0.4778 Class2: 0.3024 Class3: 0.4443 Class4: 0.5204 Class5: 0.3700 Class6: 0.4084 \n",
      "Class7: 0.3105 Class8: 0.4057 Class9: 0.4967 Class10: 0.3362 Class11: 0.4082 Class12: 0.4188 \n",
      "Epoch10\n",
      "Train Loss: 0.3519401184150151, Train mIoU Score: 0.5339\n",
      "Validation Loss: 1.1351526975631714, Validation mIoU Score: 0.4064\n",
      "___________________________________________________________________________________________\n",
      "\n"
     ]
    },
    {
     "name": "stderr",
     "output_type": "stream",
     "text": [
      "100%|██████████| 35/35 [01:14<00:00,  2.13s/it]\n"
     ]
    },
    {
     "name": "stdout",
     "output_type": "stream",
     "text": [
      "--IoU Scores Train--\n",
      "Class0: 0.5280 Class1: 0.5297 Class2: 0.5584 Class3: 0.5478 Class4: 0.5432 Class5: 0.5474 Class6: 0.5186 \n",
      "Class7: 0.5561 Class8: 0.5680 Class9: 0.5296 Class10: 0.5555 Class11: 0.5730 Class12: 0.5026 "
     ]
    },
    {
     "name": "stderr",
     "output_type": "stream",
     "text": [
      "100%|██████████| 8/8 [00:17<00:00,  2.25s/it]\n"
     ]
    },
    {
     "name": "stdout",
     "output_type": "stream",
     "text": [
      "--IoU Scores Valid--\n",
      "Class0: 0.3672 Class1: 0.5043 Class2: 0.2919 Class3: 0.4454 Class4: 0.5150 Class5: 0.3759 Class6: 0.4453 \n",
      "Class7: 0.3024 Class8: 0.4080 Class9: 0.5160 Class10: 0.3418 Class11: 0.4574 Class12: 0.4127 \n",
      "Epoch11\n",
      "Train Loss: 0.3316648704665048, Train mIoU Score: 0.5429\n",
      "Validation Loss: 1.055231660604477, Validation mIoU Score: 0.4141\n",
      "___________________________________________________________________________________________\n",
      "\n"
     ]
    },
    {
     "name": "stderr",
     "output_type": "stream",
     "text": [
      "100%|██████████| 35/35 [01:14<00:00,  2.14s/it]\n"
     ]
    },
    {
     "name": "stdout",
     "output_type": "stream",
     "text": [
      "--IoU Scores Train--\n",
      "Class0: 0.5465 Class1: 0.5365 Class2: 0.5453 Class3: 0.5137 Class4: 0.5542 Class5: 0.5419 Class6: 0.5083 \n",
      "Class7: 0.5538 Class8: 0.5768 Class9: 0.5082 Class10: 0.5494 Class11: 0.5625 Class12: 0.5165 "
     ]
    },
    {
     "name": "stderr",
     "output_type": "stream",
     "text": [
      "100%|██████████| 8/8 [00:17<00:00,  2.20s/it]\n"
     ]
    },
    {
     "name": "stdout",
     "output_type": "stream",
     "text": [
      "--IoU Scores Valid--\n",
      "Class0: 0.3704 Class1: 0.4996 Class2: 0.2854 Class3: 0.4189 Class4: 0.4905 Class5: 0.3709 Class6: 0.3930 \n",
      "Class7: 0.2975 Class8: 0.3949 Class9: 0.4969 Class10: 0.3300 Class11: 0.3913 Class12: 0.3907 \n",
      "Epoch12\n",
      "Train Loss: 0.33868533543178014, Train mIoU Score: 0.5395\n",
      "Validation Loss: 1.094817966222763, Validation mIoU Score: 0.3946\n",
      "___________________________________________________________________________________________\n",
      "\n"
     ]
    },
    {
     "name": "stderr",
     "output_type": "stream",
     "text": [
      "100%|██████████| 35/35 [01:14<00:00,  2.13s/it]\n"
     ]
    },
    {
     "name": "stdout",
     "output_type": "stream",
     "text": [
      "--IoU Scores Train--\n",
      "Class0: 0.5413 Class1: 0.5047 Class2: 0.5327 Class3: 0.5083 Class4: 0.5454 Class5: 0.5440 Class6: 0.5400 \n",
      "Class7: 0.5578 Class8: 0.5519 Class9: 0.5316 Class10: 0.5655 Class11: 0.5670 Class12: 0.5296 "
     ]
    },
    {
     "name": "stderr",
     "output_type": "stream",
     "text": [
      "100%|██████████| 8/8 [00:17<00:00,  2.24s/it]\n"
     ]
    },
    {
     "name": "stdout",
     "output_type": "stream",
     "text": [
      "--IoU Scores Valid--\n",
      "Class0: 0.3737 Class1: 0.4590 Class2: 0.2794 Class3: 0.4377 Class4: 0.4986 Class5: 0.3392 Class6: 0.3982 \n",
      "Class7: 0.2989 Class8: 0.3885 Class9: 0.4910 Class10: 0.3132 Class11: 0.4106 Class12: 0.3832 \n",
      "Epoch13\n",
      "Train Loss: 0.3375617691448757, Train mIoU Score: 0.5400\n",
      "Validation Loss: 1.205429658293724, Validation mIoU Score: 0.3901\n",
      "___________________________________________________________________________________________\n",
      "\n"
     ]
    },
    {
     "name": "stderr",
     "output_type": "stream",
     "text": [
      "100%|██████████| 35/35 [01:13<00:00,  2.11s/it]\n"
     ]
    },
    {
     "name": "stdout",
     "output_type": "stream",
     "text": [
      "--IoU Scores Train--\n",
      "Class0: 0.5618 Class1: 0.5476 Class2: 0.5560 Class3: 0.5422 Class4: 0.5551 Class5: 0.5857 Class6: 0.5343 \n",
      "Class7: 0.5657 Class8: 0.6206 Class9: 0.5430 Class10: 0.5550 Class11: 0.5776 Class12: 0.5671 "
     ]
    },
    {
     "name": "stderr",
     "output_type": "stream",
     "text": [
      "100%|██████████| 8/8 [00:17<00:00,  2.25s/it]\n"
     ]
    },
    {
     "name": "stdout",
     "output_type": "stream",
     "text": [
      "--IoU Scores Valid--\n",
      "Class0: 0.3643 Class1: 0.4246 Class2: 0.2962 Class3: 0.3939 Class4: 0.4762 Class5: 0.3411 Class6: 0.3752 \n",
      "Class7: 0.2837 Class8: 0.3789 Class9: 0.4572 Class10: 0.3214 Class11: 0.3791 Class12: 0.3806 \n",
      "Epoch14\n",
      "Train Loss: 0.28800368436745233, Train mIoU Score: 0.5624\n",
      "Validation Loss: 1.2875108569860458, Validation mIoU Score: 0.3748\n",
      "___________________________________________________________________________________________\n",
      "\n"
     ]
    },
    {
     "name": "stderr",
     "output_type": "stream",
     "text": [
      "100%|██████████| 35/35 [01:13<00:00,  2.11s/it]\n"
     ]
    },
    {
     "name": "stdout",
     "output_type": "stream",
     "text": [
      "--IoU Scores Train--\n",
      "Class0: 0.5586 Class1: 0.5687 Class2: 0.5809 Class3: 0.5469 Class4: 0.5880 Class5: 0.6057 Class6: 0.5599 \n",
      "Class7: 0.5683 Class8: 0.5933 Class9: 0.5606 Class10: 0.5852 Class11: 0.5839 Class12: 0.5598 "
     ]
    },
    {
     "name": "stderr",
     "output_type": "stream",
     "text": [
      "100%|██████████| 8/8 [00:18<00:00,  2.25s/it]\n"
     ]
    },
    {
     "name": "stdout",
     "output_type": "stream",
     "text": [
      "--IoU Scores Valid--\n",
      "Class0: 0.4213 Class1: 0.5286 Class2: 0.3205 Class3: 0.4895 Class4: 0.5317 Class5: 0.3996 Class6: 0.4503 \n",
      "Class7: 0.3433 Class8: 0.4395 Class9: 0.5311 Class10: 0.3559 Class11: 0.4427 Class12: 0.4538 \n",
      "Epoch15\n",
      "Train Loss: 0.2659346750804356, Train mIoU Score: 0.5738\n",
      "Validation Loss: 1.0765967145562172, Validation mIoU Score: 0.4391\n",
      "___________________________________________________________________________________________\n",
      "\n"
     ]
    },
    {
     "name": "stderr",
     "output_type": "stream",
     "text": [
      "100%|██████████| 35/35 [01:13<00:00,  2.11s/it]\n"
     ]
    },
    {
     "name": "stdout",
     "output_type": "stream",
     "text": [
      "--IoU Scores Train--\n",
      "Class0: 0.5915 Class1: 0.5421 Class2: 0.5879 Class3: 0.5724 Class4: 0.5795 Class5: 0.5961 Class6: 0.5663 \n",
      "Class7: 0.5827 Class8: 0.5968 Class9: 0.5791 Class10: 0.5725 Class11: 0.6012 Class12: 0.5774 "
     ]
    },
    {
     "name": "stderr",
     "output_type": "stream",
     "text": [
      "100%|██████████| 8/8 [00:17<00:00,  2.23s/it]\n"
     ]
    },
    {
     "name": "stdout",
     "output_type": "stream",
     "text": [
      "--IoU Scores Valid--\n",
      "Class0: 0.3650 Class1: 0.4994 Class2: 0.3006 Class3: 0.4224 Class4: 0.5162 Class5: 0.3608 Class6: 0.4312 \n",
      "Class7: 0.3302 Class8: 0.3717 Class9: 0.5145 Class10: 0.3349 Class11: 0.4204 Class12: 0.4291 \n",
      "Epoch16\n",
      "Train Loss: 0.25315239557198116, Train mIoU Score: 0.5804\n",
      "Validation Loss: 1.0252198576927185, Validation mIoU Score: 0.4074\n",
      "___________________________________________________________________________________________\n",
      "\n"
     ]
    },
    {
     "name": "stderr",
     "output_type": "stream",
     "text": [
      "100%|██████████| 35/35 [01:13<00:00,  2.11s/it]\n"
     ]
    },
    {
     "name": "stdout",
     "output_type": "stream",
     "text": [
      "--IoU Scores Train--\n",
      "Class0: 0.5913 Class1: 0.6004 Class2: 0.6014 Class3: 0.5692 Class4: 0.5754 Class5: 0.5906 Class6: 0.5789 \n",
      "Class7: 0.5997 Class8: 0.6145 Class9: 0.5625 Class10: 0.5931 Class11: 0.6223 Class12: 0.5837 "
     ]
    },
    {
     "name": "stderr",
     "output_type": "stream",
     "text": [
      "100%|██████████| 8/8 [00:18<00:00,  2.26s/it]\n"
     ]
    },
    {
     "name": "stdout",
     "output_type": "stream",
     "text": [
      "--IoU Scores Valid--\n",
      "Class0: 0.4056 Class1: 0.5041 Class2: 0.3077 Class3: 0.4708 Class4: 0.5264 Class5: 0.3760 Class6: 0.4369 \n",
      "Class7: 0.3206 Class8: 0.4254 Class9: 0.5097 Class10: 0.3441 Class11: 0.4513 Class12: 0.4510 \n",
      "Epoch17\n",
      "Train Loss: 0.23594358605997903, Train mIoU Score: 0.5910\n",
      "Validation Loss: 1.1514552980661392, Validation mIoU Score: 0.4253\n",
      "___________________________________________________________________________________________\n",
      "\n"
     ]
    },
    {
     "name": "stderr",
     "output_type": "stream",
     "text": [
      "100%|██████████| 35/35 [01:14<00:00,  2.12s/it]\n"
     ]
    },
    {
     "name": "stdout",
     "output_type": "stream",
     "text": [
      "--IoU Scores Train--\n",
      "Class0: 0.5918 Class1: 0.5802 Class2: 0.6143 Class3: 0.5846 Class4: 0.5865 Class5: 0.6058 Class6: 0.5844 \n",
      "Class7: 0.6010 Class8: 0.6287 Class9: 0.5907 Class10: 0.6044 Class11: 0.6135 Class12: 0.5780 "
     ]
    },
    {
     "name": "stderr",
     "output_type": "stream",
     "text": [
      "100%|██████████| 8/8 [00:17<00:00,  2.24s/it]\n"
     ]
    },
    {
     "name": "stdout",
     "output_type": "stream",
     "text": [
      "--IoU Scores Valid--\n",
      "Class0: 0.4048 Class1: 0.5128 Class2: 0.3265 Class3: 0.4729 Class4: 0.5225 Class5: 0.4052 Class6: 0.4678 \n",
      "Class7: 0.3257 Class8: 0.4352 Class9: 0.5154 Class10: 0.3599 Class11: 0.4525 Class12: 0.4445 \n",
      "Epoch18\n",
      "Train Loss: 0.2240995032446725, Train mIoU Score: 0.5972\n",
      "Validation Loss: 1.163162998855114, Validation mIoU Score: 0.4343\n",
      "___________________________________________________________________________________________\n",
      "\n"
     ]
    },
    {
     "name": "stderr",
     "output_type": "stream",
     "text": [
      "100%|██████████| 35/35 [01:14<00:00,  2.12s/it]\n"
     ]
    },
    {
     "name": "stdout",
     "output_type": "stream",
     "text": [
      "--IoU Scores Train--\n",
      "Class0: 0.6071 Class1: 0.6032 Class2: 0.5912 Class3: 0.5912 Class4: 0.5914 Class5: 0.5846 Class6: 0.5767 \n",
      "Class7: 0.5821 Class8: 0.6017 Class9: 0.5718 Class10: 0.5790 Class11: 0.6048 Class12: 0.5765 "
     ]
    },
    {
     "name": "stderr",
     "output_type": "stream",
     "text": [
      "100%|██████████| 8/8 [00:17<00:00,  2.24s/it]\n"
     ]
    },
    {
     "name": "stdout",
     "output_type": "stream",
     "text": [
      "--IoU Scores Valid--\n",
      "Class0: 0.4009 Class1: 0.5168 Class2: 0.3260 Class3: 0.4702 Class4: 0.5356 Class5: 0.4086 Class6: 0.4504 \n",
      "Class7: 0.3236 Class8: 0.4237 Class9: 0.5187 Class10: 0.3591 Class11: 0.4678 Class12: 0.4494 \n",
      "Epoch19\n",
      "Train Loss: 0.23184635383742197, Train mIoU Score: 0.5893\n",
      "Validation Loss: 1.0032611563801765, Validation mIoU Score: 0.4347\n",
      "___________________________________________________________________________________________\n",
      "\n"
     ]
    },
    {
     "name": "stderr",
     "output_type": "stream",
     "text": [
      "100%|██████████| 35/35 [01:13<00:00,  2.10s/it]\n"
     ]
    },
    {
     "name": "stdout",
     "output_type": "stream",
     "text": [
      "--IoU Scores Train--\n",
      "Class0: 0.5955 Class1: 0.5972 Class2: 0.6045 Class3: 0.5682 Class4: 0.6080 Class5: 0.5830 Class6: 0.5725 \n",
      "Class7: 0.6105 Class8: 0.6281 Class9: 0.6021 Class10: 0.6233 Class11: 0.6015 Class12: 0.5863 "
     ]
    },
    {
     "name": "stderr",
     "output_type": "stream",
     "text": [
      "100%|██████████| 8/8 [00:18<00:00,  2.27s/it]\n"
     ]
    },
    {
     "name": "stdout",
     "output_type": "stream",
     "text": [
      "--IoU Scores Valid--\n",
      "Class0: 0.3937 Class1: 0.4988 Class2: 0.3231 Class3: 0.4616 Class4: 0.5313 Class5: 0.3926 Class6: 0.4445 \n",
      "Class7: 0.3327 Class8: 0.4252 Class9: 0.5132 Class10: 0.3634 Class11: 0.4581 Class12: 0.4504 \n",
      "Epoch20\n",
      "Train Loss: 0.22064645843846456, Train mIoU Score: 0.5985\n",
      "Validation Loss: 1.1482973471283913, Validation mIoU Score: 0.4299\n",
      "___________________________________________________________________________________________\n",
      "\n"
     ]
    },
    {
     "name": "stderr",
     "output_type": "stream",
     "text": [
      "100%|██████████| 35/35 [01:14<00:00,  2.12s/it]\n"
     ]
    },
    {
     "name": "stdout",
     "output_type": "stream",
     "text": [
      "--IoU Scores Train--\n",
      "Class0: 0.6121 Class1: 0.6100 Class2: 0.6108 Class3: 0.6057 Class4: 0.6179 Class5: 0.6113 Class6: 0.5977 \n",
      "Class7: 0.6399 Class8: 0.6418 Class9: 0.6075 Class10: 0.6149 Class11: 0.6355 Class12: 0.6153 "
     ]
    },
    {
     "name": "stderr",
     "output_type": "stream",
     "text": [
      "100%|██████████| 8/8 [00:17<00:00,  2.24s/it]\n"
     ]
    },
    {
     "name": "stdout",
     "output_type": "stream",
     "text": [
      "--IoU Scores Valid--\n",
      "Class0: 0.4045 Class1: 0.5062 Class2: 0.3084 Class3: 0.4579 Class4: 0.5269 Class5: 0.3785 Class6: 0.4352 \n",
      "Class7: 0.3253 Class8: 0.4166 Class9: 0.5107 Class10: 0.3491 Class11: 0.4474 Class12: 0.4348 \n",
      "Epoch21\n",
      "Train Loss: 0.1957866128001894, Train mIoU Score: 0.6170\n",
      "Validation Loss: 1.29526187479496, Validation mIoU Score: 0.4232\n",
      "___________________________________________________________________________________________\n",
      "\n"
     ]
    },
    {
     "name": "stderr",
     "output_type": "stream",
     "text": [
      "100%|██████████| 35/35 [01:14<00:00,  2.13s/it]\n"
     ]
    },
    {
     "name": "stdout",
     "output_type": "stream",
     "text": [
      "--IoU Scores Train--\n",
      "Class0: 0.6233 Class1: 0.6035 Class2: 0.6380 Class3: 0.6025 Class4: 0.6357 Class5: 0.6477 Class6: 0.6131 \n",
      "Class7: 0.6279 Class8: 0.6404 Class9: 0.6246 Class10: 0.6299 Class11: 0.6498 Class12: 0.6128 "
     ]
    },
    {
     "name": "stderr",
     "output_type": "stream",
     "text": [
      "100%|██████████| 8/8 [00:17<00:00,  2.23s/it]\n"
     ]
    },
    {
     "name": "stdout",
     "output_type": "stream",
     "text": [
      "--IoU Scores Valid--\n",
      "Class0: 0.3914 Class1: 0.5198 Class2: 0.3018 Class3: 0.4818 Class4: 0.5400 Class5: 0.3863 Class6: 0.4687 \n",
      "Class7: 0.3314 Class8: 0.4322 Class9: 0.5309 Class10: 0.3644 Class11: 0.4891 Class12: 0.4669 \n",
      "Epoch22\n",
      "Train Loss: 0.18034629779202596, Train mIoU Score: 0.6269\n",
      "Validation Loss: 1.3685240596532822, Validation mIoU Score: 0.4388\n",
      "___________________________________________________________________________________________\n",
      "\n"
     ]
    },
    {
     "name": "stderr",
     "output_type": "stream",
     "text": [
      "100%|██████████| 35/35 [01:13<00:00,  2.10s/it]\n"
     ]
    },
    {
     "name": "stdout",
     "output_type": "stream",
     "text": [
      "--IoU Scores Train--\n",
      "Class0: 0.6347 Class1: 0.6399 Class2: 0.6332 Class3: 0.6383 Class4: 0.6279 Class5: 0.6559 Class6: 0.6241 \n",
      "Class7: 0.6442 Class8: 0.6563 Class9: 0.6370 Class10: 0.6325 Class11: 0.6462 Class12: 0.6172 "
     ]
    },
    {
     "name": "stderr",
     "output_type": "stream",
     "text": [
      "100%|██████████| 8/8 [00:18<00:00,  2.27s/it]\n"
     ]
    },
    {
     "name": "stdout",
     "output_type": "stream",
     "text": [
      "--IoU Scores Valid--\n",
      "Class0: 0.3978 Class1: 0.5242 Class2: 0.3024 Class3: 0.4766 Class4: 0.5321 Class5: 0.3795 Class6: 0.4549 \n",
      "Class7: 0.3189 Class8: 0.4214 Class9: 0.5226 Class10: 0.3408 Class11: 0.4637 Class12: 0.4391 \n",
      "Epoch23\n",
      "Train Loss: 0.17087055146694183, Train mIoU Score: 0.6375\n",
      "Validation Loss: 1.1620635464787483, Validation mIoU Score: 0.4288\n",
      "___________________________________________________________________________________________\n",
      "\n"
     ]
    },
    {
     "name": "stderr",
     "output_type": "stream",
     "text": [
      "100%|██████████| 35/35 [01:53<00:00,  3.25s/it]\n"
     ]
    },
    {
     "name": "stdout",
     "output_type": "stream",
     "text": [
      "--IoU Scores Train--\n",
      "Class0: 0.6434 Class1: 0.6257 Class2: 0.6736 Class3: 0.6205 Class4: 0.6450 Class5: 0.6314 Class6: 0.6279 \n",
      "Class7: 0.6588 Class8: 0.6517 Class9: 0.6154 Class10: 0.6495 Class11: 0.6418 Class12: 0.6273 "
     ]
    },
    {
     "name": "stderr",
     "output_type": "stream",
     "text": [
      "100%|██████████| 8/8 [00:17<00:00,  2.24s/it]\n"
     ]
    },
    {
     "name": "stdout",
     "output_type": "stream",
     "text": [
      "--IoU Scores Valid--\n",
      "Class0: 0.3945 Class1: 0.5096 Class2: 0.3188 Class3: 0.4672 Class4: 0.5415 Class5: 0.3977 Class6: 0.4475 \n",
      "Class7: 0.3522 Class8: 0.4300 Class9: 0.5158 Class10: 0.3791 Class11: 0.4513 Class12: 0.4617 \n",
      "Epoch24\n",
      "Train Loss: 0.1670041343995503, Train mIoU Score: 0.6394\n",
      "Validation Loss: 1.5047940015792847, Validation mIoU Score: 0.4359\n",
      "___________________________________________________________________________________________\n",
      "\n"
     ]
    },
    {
     "name": "stderr",
     "output_type": "stream",
     "text": [
      "100%|██████████| 35/35 [01:21<00:00,  2.33s/it]\n"
     ]
    },
    {
     "name": "stdout",
     "output_type": "stream",
     "text": [
      "--IoU Scores Train--\n",
      "Class0: 0.6422 Class1: 0.6476 Class2: 0.6586 Class3: 0.6298 Class4: 0.6405 Class5: 0.6522 Class6: 0.6145 \n",
      "Class7: 0.6363 Class8: 0.6633 Class9: 0.6199 Class10: 0.6371 Class11: 0.6399 Class12: 0.6562 "
     ]
    },
    {
     "name": "stderr",
     "output_type": "stream",
     "text": [
      "100%|██████████| 8/8 [00:17<00:00,  2.24s/it]\n"
     ]
    },
    {
     "name": "stdout",
     "output_type": "stream",
     "text": [
      "--IoU Scores Valid--\n",
      "Class0: 0.4011 Class1: 0.4971 Class2: 0.3205 Class3: 0.4607 Class4: 0.5277 Class5: 0.3803 Class6: 0.4237 \n",
      "Class7: 0.3411 Class8: 0.4042 Class9: 0.5064 Class10: 0.3587 Class11: 0.4320 Class12: 0.4442 \n",
      "Epoch25\n",
      "Train Loss: 0.1656531274318695, Train mIoU Score: 0.6414\n",
      "Validation Loss: 1.298026755452156, Validation mIoU Score: 0.4229\n",
      "___________________________________________________________________________________________\n",
      "\n"
     ]
    },
    {
     "name": "stderr",
     "output_type": "stream",
     "text": [
      "100%|██████████| 35/35 [01:14<00:00,  2.12s/it]\n"
     ]
    },
    {
     "name": "stdout",
     "output_type": "stream",
     "text": [
      "--IoU Scores Train--\n",
      "Class0: 0.6142 Class1: 0.6321 Class2: 0.6253 Class3: 0.6109 Class4: 0.6126 Class5: 0.6222 Class6: 0.6042 \n",
      "Class7: 0.6445 Class8: 0.6252 Class9: 0.5889 Class10: 0.5751 Class11: 0.6034 Class12: 0.5748 "
     ]
    },
    {
     "name": "stderr",
     "output_type": "stream",
     "text": [
      "100%|██████████| 8/8 [00:17<00:00,  2.21s/it]\n"
     ]
    },
    {
     "name": "stdout",
     "output_type": "stream",
     "text": [
      "--IoU Scores Valid--\n",
      "Class0: 0.3804 Class1: 0.4518 Class2: 0.3091 Class3: 0.4322 Class4: 0.4590 Class5: 0.3874 Class6: 0.3773 \n",
      "Class7: 0.2989 Class8: 0.4162 Class9: 0.4449 Class10: 0.3602 Class11: 0.3969 Class12: 0.4364 \n",
      "Epoch26\n",
      "Train Loss: 0.19932211339473724, Train mIoU Score: 0.6103\n",
      "Validation Loss: 1.462230607867241, Validation mIoU Score: 0.3962\n",
      "___________________________________________________________________________________________\n",
      "\n"
     ]
    },
    {
     "name": "stderr",
     "output_type": "stream",
     "text": [
      "100%|██████████| 35/35 [01:14<00:00,  2.13s/it]\n"
     ]
    },
    {
     "name": "stdout",
     "output_type": "stream",
     "text": [
      "--IoU Scores Train--\n",
      "Class0: 0.6044 Class1: 0.5672 Class2: 0.5556 Class3: 0.5430 Class4: 0.5016 Class5: 0.5129 Class6: 0.4748 \n",
      "Class7: 0.5208 Class8: 0.5358 Class9: 0.4745 Class10: 0.5015 Class11: 0.5609 Class12: 0.5400 "
     ]
    },
    {
     "name": "stderr",
     "output_type": "stream",
     "text": [
      "100%|██████████| 8/8 [00:18<00:00,  2.27s/it]\n"
     ]
    },
    {
     "name": "stdout",
     "output_type": "stream",
     "text": [
      "--IoU Scores Valid--\n",
      "Class0: 0.3819 Class1: 0.4986 Class2: 0.3003 Class3: 0.4240 Class4: 0.4946 Class5: 0.3723 Class6: 0.4015 \n",
      "Class7: 0.2941 Class8: 0.4047 Class9: 0.5126 Class10: 0.3285 Class11: 0.4193 Class12: 0.4135 \n",
      "Epoch27\n",
      "Train Loss: 0.35850820881979806, Train mIoU Score: 0.5302\n",
      "Validation Loss: 1.11443080753088, Validation mIoU Score: 0.4035\n",
      "___________________________________________________________________________________________\n",
      "\n"
     ]
    },
    {
     "name": "stderr",
     "output_type": "stream",
     "text": [
      "100%|██████████| 35/35 [01:14<00:00,  2.12s/it]\n"
     ]
    },
    {
     "name": "stdout",
     "output_type": "stream",
     "text": [
      "--IoU Scores Train--\n",
      "Class0: 0.5387 Class1: 0.5485 Class2: 0.5641 Class3: 0.5422 Class4: 0.5675 Class5: 0.5888 Class6: 0.5716 \n",
      "Class7: 0.5662 Class8: 0.5725 Class9: 0.5542 Class10: 0.5653 Class11: 0.5979 Class12: 0.5820 "
     ]
    },
    {
     "name": "stderr",
     "output_type": "stream",
     "text": [
      "100%|██████████| 8/8 [00:17<00:00,  2.25s/it]\n"
     ]
    },
    {
     "name": "stdout",
     "output_type": "stream",
     "text": [
      "--IoU Scores Valid--\n",
      "Class0: 0.4134 Class1: 0.5012 Class2: 0.3260 Class3: 0.4522 Class4: 0.5210 Class5: 0.4170 Class6: 0.4182 \n",
      "Class7: 0.3387 Class8: 0.4355 Class9: 0.5078 Class10: 0.3755 Class11: 0.4279 Class12: 0.4491 \n",
      "Epoch28\n",
      "Train Loss: 0.26556763010365625, Train mIoU Score: 0.5661\n",
      "Validation Loss: 1.3649104535579681, Validation mIoU Score: 0.4295\n",
      "___________________________________________________________________________________________\n",
      "\n"
     ]
    },
    {
     "name": "stderr",
     "output_type": "stream",
     "text": [
      "100%|██████████| 35/35 [01:14<00:00,  2.13s/it]\n"
     ]
    },
    {
     "name": "stdout",
     "output_type": "stream",
     "text": [
      "--IoU Scores Train--\n",
      "Class0: 0.5891 Class1: 0.5789 Class2: 0.6016 Class3: 0.5827 Class4: 0.6093 Class5: 0.6343 Class6: 0.5661 \n",
      "Class7: 0.6166 Class8: 0.6561 Class9: 0.5905 Class10: 0.6158 Class11: 0.6378 Class12: 0.6243 "
     ]
    },
    {
     "name": "stderr",
     "output_type": "stream",
     "text": [
      "100%|██████████| 8/8 [00:17<00:00,  2.20s/it]\n"
     ]
    },
    {
     "name": "stdout",
     "output_type": "stream",
     "text": [
      "--IoU Scores Valid--\n",
      "Class0: 0.4127 Class1: 0.5158 Class2: 0.3234 Class3: 0.4690 Class4: 0.5357 Class5: 0.3978 Class6: 0.4226 \n",
      "Class7: 0.3478 Class8: 0.4231 Class9: 0.5190 Class10: 0.3689 Class11: 0.4379 Class12: 0.4532 \n",
      "Epoch29\n",
      "Train Loss: 0.19901885049683707, Train mIoU Score: 0.6079\n",
      "Validation Loss: 1.301626279950142, Validation mIoU Score: 0.4328\n",
      "___________________________________________________________________________________________\n",
      "\n"
     ]
    },
    {
     "name": "stderr",
     "output_type": "stream",
     "text": [
      "100%|██████████| 35/35 [01:14<00:00,  2.12s/it]\n"
     ]
    },
    {
     "name": "stdout",
     "output_type": "stream",
     "text": [
      "--IoU Scores Train--\n",
      "Class0: 0.6336 Class1: 0.6302 Class2: 0.6352 Class3: 0.6183 Class4: 0.6634 Class5: 0.6439 Class6: 0.6278 \n",
      "Class7: 0.6551 Class8: 0.6487 Class9: 0.6185 Class10: 0.6682 Class11: 0.6474 Class12: 0.6333 "
     ]
    },
    {
     "name": "stderr",
     "output_type": "stream",
     "text": [
      "100%|██████████| 8/8 [00:17<00:00,  2.23s/it]"
     ]
    },
    {
     "name": "stdout",
     "output_type": "stream",
     "text": [
      "--IoU Scores Valid--\n",
      "Class0: 0.4188 Class1: 0.5225 Class2: 0.3171 Class3: 0.4850 Class4: 0.5453 Class5: 0.3941 Class6: 0.4544 \n",
      "Class7: 0.3445 Class8: 0.4283 Class9: 0.5360 Class10: 0.3605 Class11: 0.4694 Class12: 0.4570 \n",
      "Epoch30\n",
      "Train Loss: 0.16251556873321532, Train mIoU Score: 0.6403\n",
      "Validation Loss: 1.2869836241006851, Validation mIoU Score: 0.4410\n",
      "___________________________________________________________________________________________\n",
      "\n"
     ]
    },
    {
     "name": "stderr",
     "output_type": "stream",
     "text": [
      "\n"
     ]
    },
    {
     "data": {
      "text/html": [
       "Waiting for W&B process to finish... <strong style=\"color:green\">(success).</strong>"
      ],
      "text/plain": [
       "<IPython.core.display.HTML object>"
      ]
     },
     "metadata": {},
     "output_type": "display_data"
    },
    {
     "name": "stderr",
     "output_type": "stream",
     "text": [
      "wandb: WARNING Source type is set to 'repo' but some required information is missing from the environment. A job will not be created from this run. See https://docs.wandb.ai/guides/launch/create-job\n"
     ]
    },
    {
     "data": {
      "text/html": [
       "<style>\n",
       "    table.wandb td:nth-child(1) { padding: 0 10px; text-align: left ; width: auto;} td:nth-child(2) {text-align: left ; width: 100%}\n",
       "    .wandb-row { display: flex; flex-direction: row; flex-wrap: wrap; justify-content: flex-start; width: 100% }\n",
       "    .wandb-col { display: flex; flex-direction: column; flex-basis: 100%; flex: 1; padding: 10px; }\n",
       "    </style>\n",
       "<div class=\"wandb-row\"><div class=\"wandb-col\"><h3>Run history:</h3><br/><table class=\"wandb\"><tr><td>train loss</td><td>█▅▄▄▃▃▃▂▂▂▂▂▂▂▂▁▁▁▁▁▁▁▁▁▁▁▂▂▁▁</td></tr><tr><td>train score</td><td>▁▃▄▄▅▅▅▅▆▆▆▆▆▆▇▇▇▇▇▇█████▇▆▇▇█</td></tr><tr><td>val loss</td><td>▇▇▆▃▅▂▃▅▂▃▂▂▄▅▂▁▃▃▁▃▅▆▃█▅▇▃▆▅▅</td></tr><tr><td>val score</td><td>▁▃▃▄▄▄▅▅▇▆▇▆▆▅█▆▇██▇▇█▇█▇▆▆▇██</td></tr></table><br/></div><div class=\"wandb-col\"><h3>Run summary:</h3><br/><table class=\"wandb\"><tr><td>train loss</td><td>5.68804</td></tr><tr><td>train score</td><td>0.64028</td></tr><tr><td>val loss</td><td>10.29587</td></tr><tr><td>val score</td><td>0.441</td></tr></table><br/></div></div>"
      ],
      "text/plain": [
       "<IPython.core.display.HTML object>"
      ]
     },
     "metadata": {},
     "output_type": "display_data"
    },
    {
     "data": {
      "text/html": [
       " View run <strong style=\"color:#cdcd00\">rich-microwave-2</strong> at: <a href='https://wandb.ai/limbw/practice_10_05/runs/182zytm2' target=\"_blank\">https://wandb.ai/limbw/practice_10_05/runs/182zytm2</a><br/>Synced 6 W&B file(s), 0 media file(s), 0 artifact file(s) and 0 other file(s)"
      ],
      "text/plain": [
       "<IPython.core.display.HTML object>"
      ]
     },
     "metadata": {},
     "output_type": "display_data"
    },
    {
     "data": {
      "text/html": [
       "Find logs at: <code>./wandb/run-20231005_204840-182zytm2/logs</code>"
      ],
      "text/plain": [
       "<IPython.core.display.HTML object>"
      ]
     },
     "metadata": {},
     "output_type": "display_data"
    }
   ],
   "source": [
    "import random\n",
    "torch.cuda.empty_cache()\n",
    "import wandb\n",
    "\n",
    "\n",
    "wandb.init(\n",
    "    # set the wandb project where this run will be logged\n",
    "    project=\"practice_10_05\",\n",
    "    \n",
    "    # track hyperparameters and run metadata\n",
    "    config={\n",
    "    \"learning_rate\": LR,\n",
    "    \"architecture\": \"CNN\",\n",
    "    \"dataset\": \"Samsung\",\n",
    "    \"epochs\": EP,\n",
    "    }\n",
    ")\n",
    "\n",
    "for epoch in range(EP):\n",
    "    # 클래스별 IoU를 누적할 리스트 초기화\n",
    "    train_class_ious = []\n",
    "    # 학습\n",
    "    model.train()\n",
    "    epoch_loss = 0\n",
    "    for images, masks in tqdm(dataloader):\n",
    "        images = images.float().to(device)\n",
    "        masks = masks.long().to(device)\n",
    "\n",
    "        optimizer.zero_grad()\n",
    "        outputs = model(images)\n",
    "        loss = criterion(outputs, masks.squeeze(1))\n",
    "        loss.backward()\n",
    "        optimizer.step()\n",
    "        # if (epoch+1) % ACCMULATION_STEP == 0:\n",
    "        #     optimizer.step()\n",
    "        #     optimizer.zero_grad()\n",
    "            # # Warmup 스케줄러 업데이트\n",
    "            # if epoch < WUP_ITERS:\n",
    "            #     scheduler_warmup.step()\n",
    "        \n",
    "        epoch_loss += loss.item()\n",
    "\n",
    "        # train 클래스별 IoU 계산\n",
    "        outputs = torch.softmax(outputs, dim=1).cpu()\n",
    "        outputs = torch.argmax(outputs, dim=1).numpy()\n",
    "\n",
    "        for class_id in range(N_CLASSES):\n",
    "            iou = calculate_iou_per_class(np.array(masks.cpu()), np.array(outputs), class_id)\n",
    "            train_class_ious.append(iou)\n",
    "\n",
    "    train_class_ious = np.array(train_class_ious).reshape(N_CLASSES, -1)\n",
    "    train_class_ious = np.mean(train_class_ious, axis=1)\n",
    "    print(\"--IoU Scores Train--\")\n",
    "    for class_id, iou in enumerate(train_class_ious):\n",
    "        print(f'Class{class_id}: {iou:.4f}', end=\" \")\n",
    "        if (class_id+1) % 7 == 0:\n",
    "            print()\n",
    "\n",
    "    # mIoU 계산\n",
    "    train_mIoU = np.mean(train_class_ious)\n",
    "\n",
    "    # validation\n",
    "    val_loss = 0\n",
    "    val_class_ious = []  # 클래스별 IoU를 누적할 리스트 초기화\n",
    "    with torch.no_grad():\n",
    "        model.eval()\n",
    "        for images, masks in tqdm(valid_dataloader):\n",
    "            images = images.float().to(device)\n",
    "            masks = masks.long().to(device)\n",
    "            outputs = model(images)\n",
    "\n",
    "            # validation loss 계산\n",
    "            val_loss += criterion(outputs, masks.squeeze(1)).item()\n",
    "\n",
    "            # validation 클래스별 IoU 계산\n",
    "            outputs = torch.softmax(outputs, dim=1).cpu()\n",
    "            outputs = torch.argmax(outputs, dim=1).numpy()\n",
    "\n",
    "            for class_id in range(N_CLASSES):\n",
    "                iou = calculate_iou_per_class(np.array(masks.cpu()), np.array(outputs), class_id)\n",
    "                val_class_ious.append(iou)\n",
    "\n",
    "    val_class_ious = np.array(val_class_ious).reshape(N_CLASSES, -1)\n",
    "    val_class_ious = np.mean(val_class_ious, axis=1)\n",
    "    print(\"--IoU Scores Valid--\")\n",
    "    for class_id, iou in enumerate(val_class_ious):\n",
    "        print(f'Class{class_id}: {iou:.4f}', end=\" \")\n",
    "        if (class_id+1) % 7 == 0:\n",
    "            print(\"\")\n",
    "\n",
    "    # mIoU 계산\n",
    "    val_mIoU = np.mean(val_class_ious)\n",
    "\n",
    "    # 에폭마다 결과 출력 \n",
    "    print(f\"\\nEpoch{epoch+1}\")\n",
    "    print(f\"Train Loss: {(epoch_loss/len(dataloader))}, Train mIoU Score: {train_mIoU:.4f}\")\n",
    "    print(f\"Validation Loss: {val_loss/len(valid_dataloader)}, Validation mIoU Score: {val_mIoU:.4f}\")\n",
    "    print(\"___________________________________________________________________________________________\\n\")\n",
    "\n",
    "    # log metrics to wandb\n",
    "    wandb.log({\"train score\": train_mIoU, \"train loss\": epoch_loss})\n",
    "    wandb.log({\"val score\": val_mIoU, \"val loss\": val_loss})\n",
    "    \n",
    "    \n",
    "# [optional] finish the wandb run, necessary in notebooks\n",
    "wandb.finish()\n"
   ]
  },
  {
   "cell_type": "code",
   "execution_count": 15,
   "id": "6c2ce089",
   "metadata": {},
   "outputs": [],
   "source": [
    "# with torch.no_grad():\n",
    "#     model.eval()\n",
    "#     result = []\n",
    "#     for images in tqdm(valid_dataloader):\n",
    "#         images = images.float().to(device)\n",
    "#         outputs = model(images)\n",
    "#         outputs = torch.softmax(outputs, dim=1).cpu()\n",
    "#         outputs = torch.argmax(outputs, dim=1).numpy()\n",
    "#         for class_id in range(N_CLASSES):\n",
    "#             iou = calculate_iou_per_class(np.array(masks.cpu()), np.array(outputs), class_id)\n",
    "#             result.append(iou)\n",
    "\n",
    "#     result = np.array(result).reshape(N_CLASSES, -1)\n",
    "#     result = np.mean(result, axis=1)"
   ]
  },
  {
   "cell_type": "code",
   "execution_count": 16,
   "id": "9c03f04e",
   "metadata": {},
   "outputs": [],
   "source": [
    "# import random\n",
    "# torch.cuda.empty_cache()\n",
    "\n",
    "# for epoch in range(EP):\n",
    "#     # 클래스별 IoU를 누적할 리스트 초기화\n",
    "#     train_class_ious = []\n",
    "#     # 학습\n",
    "#     model.train()\n",
    "#     epoch_loss = 0\n",
    "#     for images in tqdm(target_dataloader):\n",
    "#         images = images.float().to(device)\n",
    "\n",
    "#         optimizer.zero_grad()\n",
    "#         _, outputs = model(images)\n",
    "#         target_domain = torch.zeros_like(outputs).to(device)\n",
    "#         loss = domain_criterion(outputs, target_domain)\n",
    "#         loss.backward()\n",
    "#         optimizer.step()\n",
    "        \n",
    "#         epoch_loss += loss.item()\n",
    "\n",
    "#         avg_domain_loss = epoch_loss / len(target_dataloader)\n",
    "#     print(f\"Epoch [{epoch + 1}/{EP}] - Domain Loss: {avg_domain_loss:.4f}\")\n"
   ]
  },
  {
   "cell_type": "code",
   "execution_count": 17,
   "id": "9c8aa1c9",
   "metadata": {},
   "outputs": [],
   "source": [
    "# with torch.no_grad():\n",
    "#     model.eval()\n",
    "#     result = []\n",
    "#     for images in tqdm(valid_dataloader):\n",
    "#         images = images.float().to(device)\n",
    "#         outputs = model(images)\n",
    "#         outputs = torch.softmax(outputs, dim=1).cpu()\n",
    "#         outputs = torch.argmax(outputs, dim=1).numpy()\n",
    "#         for class_id in range(N_CLASSES):\n",
    "#             iou = calculate_iou_per_class(np.array(masks.cpu()), np.array(outputs), class_id)\n",
    "#             result.append(iou)\n",
    "\n",
    "#     result = np.array(result).reshape(N_CLASSES, -1)\n",
    "#     result = np.mean(result, axis=1)"
   ]
  },
  {
   "attachments": {},
   "cell_type": "markdown",
   "id": "c32eb51c-a3fe-4e11-a616-3a717ba16f7e",
   "metadata": {},
   "source": [
    "## Inference"
   ]
  },
  {
   "cell_type": "code",
   "execution_count": 18,
   "id": "12371c8b-0c78-47df-89ec-2d8b55c8ea94",
   "metadata": {},
   "outputs": [],
   "source": [
    "# test_dataset = CustomDataset(csv_file='./test.csv', transform=transform, infer=True)\n",
    "# test_dataloader = DataLoader(test_dataset, batch_size=16, shuffle=False, num_workers=4)"
   ]
  },
  {
   "cell_type": "code",
   "execution_count": 19,
   "id": "355b431c-ac8e-4c40-9046-4d53e4bab14a",
   "metadata": {},
   "outputs": [],
   "source": [
    "# with torch.no_grad():\n",
    "#     model.eval()\n",
    "#     result = []\n",
    "#     for images in tqdm(test_dataloader):\n",
    "#         images = images.float().to(device)\n",
    "#         outputs = model(images)\n",
    "#         outputs = torch.softmax(outputs, dim=1).cpu()\n",
    "#         outputs = torch.argmax(outputs, dim=1).numpy()\n",
    "#         # batch에 존재하는 각 이미지에 대해서 반복\n",
    "#         for pred in outputs:\n",
    "#             pred = pred.astype(np.uint8)\n",
    "#             pred = Image.fromarray(pred) # 이미지로 변환\n",
    "#             pred = pred.resize((960, 540), Image.NEAREST) # 960 x 540 사이즈로 변환\n",
    "#             pred = np.array(pred) # 다시 수치로 변환\n",
    "#             # class 0 ~ 11에 해당하는 경우에 마스크 형성 / 12(배경)는 제외하고 진행\n",
    "#             for class_id in range(12):\n",
    "#                 class_mask = (pred == class_id).astype(np.uint8)\n",
    "#                 if np.sum(class_mask) > 0: # 마스크가 존재하는 경우 encode\n",
    "#                     mask_rle = rle_encode(class_mask)\n",
    "#                     result.append(mask_rle)\n",
    "#                 else: # 마스크가 존재하지 않는 경우 -1\n",
    "#                     result.append(-1)\n",
    "        "
   ]
  },
  {
   "attachments": {},
   "cell_type": "markdown",
   "id": "36c2cbbb-04f1-4f9c-b4df-4b744dfce046",
   "metadata": {},
   "source": [
    "## Submission"
   ]
  },
  {
   "cell_type": "code",
   "execution_count": 20,
   "id": "35ac2a0b",
   "metadata": {},
   "outputs": [],
   "source": [
    "# submit = pd.read_csv('./sample_submission.csv')\n",
    "# submit['mask_rle'] = result\n",
    "# submit"
   ]
  },
  {
   "cell_type": "code",
   "execution_count": 21,
   "id": "da10cb6f-0826-4755-a376-97b695ae8f86",
   "metadata": {},
   "outputs": [],
   "source": [
    "# submit.to_csv('./baseline_submit.csv', index=False)"
   ]
  }
 ],
 "metadata": {
  "kernelspec": {
   "display_name": "seungyoon2",
   "language": "python",
   "name": "python3"
  },
  "language_info": {
   "codemirror_mode": {
    "name": "ipython",
    "version": 3
   },
   "file_extension": ".py",
   "mimetype": "text/x-python",
   "name": "python",
   "nbconvert_exporter": "python",
   "pygments_lexer": "ipython3",
   "version": "3.8.17"
  }
 },
 "nbformat": 4,
 "nbformat_minor": 5
}
