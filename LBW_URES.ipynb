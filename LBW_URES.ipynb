{
 "cells": [
  {
   "attachments": {},
   "cell_type": "markdown",
   "id": "d73d24e3-5c9e-4ade-9e6e-ca6f46a2d914",
   "metadata": {},
   "source": [
    "## Import"
   ]
  },
  {
   "cell_type": "code",
   "execution_count": 1,
   "id": "ad9b681e-370a-4cfa-a452-dd2d7f0cd77f",
   "metadata": {},
   "outputs": [
    {
     "name": "stderr",
     "output_type": "stream",
     "text": [
      "/home/MMI24limbyungwan/.conda/envs/byungwan_resn/lib/python3.8/site-packages/tqdm/auto.py:21: TqdmWarning: IProgress not found. Please update jupyter and ipywidgets. See https://ipywidgets.readthedocs.io/en/stable/user_install.html\n",
      "  from .autonotebook import tqdm as notebook_tqdm\n"
     ]
    }
   ],
   "source": [
    "import os\n",
    "import cv2\n",
    "from PIL import Image\n",
    "import pandas as pd\n",
    "import numpy as np\n",
    "\n",
    "import torch\n",
    "import torch.nn as nn\n",
    "import torch.nn.functional as F\n",
    "from torch.utils.data import Dataset, DataLoader\n",
    "from torchvision import transforms\n",
    "\n",
    "from tqdm import tqdm\n",
    "import albumentations as A\n",
    "from albumentations.pytorch import ToTensorV2\n",
    "\n",
    "from torchvision import models\n",
    "from torchsummary import summary"
   ]
  },
  {
   "cell_type": "code",
   "execution_count": 2,
   "id": "51fb2d6f",
   "metadata": {},
   "outputs": [
    {
     "name": "stdout",
     "output_type": "stream",
     "text": [
      "cuda\n",
      "2\n"
     ]
    }
   ],
   "source": [
    "# GPU 사용이 가능할 경우, GPU를 사용할 수 있게 함.'\n",
    "os.environ['CUDA_VISIBLE_DEVICES'] = '2'\n",
    "device = \"cuda\" if torch.cuda.is_available() else \"cpu\"\n",
    "device = torch.device(device)\n",
    "print(device)\n",
    "\n",
    "print(os.environ.get('CUDA_VISIBLE_DEVICES'))"
   ]
  },
  {
   "attachments": {},
   "cell_type": "markdown",
   "id": "20ff3de5-0d0e-497b-ac75-d5179a3f65d3",
   "metadata": {},
   "source": [
    "## Utils"
   ]
  },
  {
   "cell_type": "code",
   "execution_count": 3,
   "id": "838e1d83-8670-407b-82f6-bf9652f58639",
   "metadata": {},
   "outputs": [],
   "source": [
    "# RLE 인코딩 함수\n",
    "def rle_encode(mask):\n",
    "    pixels = mask.flatten()\n",
    "    pixels = np.concatenate([[0], pixels, [0]])\n",
    "    runs = np.where(pixels[1:] != pixels[:-1])[0] + 1\n",
    "    runs[1::2] -= runs[::2]\n",
    "    return ' '.join(str(x) for x in runs)"
   ]
  },
  {
   "attachments": {},
   "cell_type": "markdown",
   "id": "be76a29e-e9c2-411a-a569-04166f074184",
   "metadata": {},
   "source": [
    "## Custom Dataset"
   ]
  },
  {
   "cell_type": "code",
   "execution_count": 4,
   "id": "a8496767-2f64-4285-bec4-c6f53a1fd9d2",
   "metadata": {},
   "outputs": [],
   "source": [
    "class CustomDataset(Dataset):\n",
    "    def __init__(self, csv_file, transform=None, infer=False):\n",
    "        self.data = pd.read_csv(csv_file)\n",
    "        self.transform = transform\n",
    "        self.infer = infer\n",
    "\n",
    "    def __len__(self):\n",
    "        return len(self.data)\n",
    "\n",
    "    def __getitem__(self, idx):\n",
    "        directory_path = \"/mnt/nas27/Dataset/Samsung_DM\"\n",
    "        img_path = self.data.iloc[idx, 1]\n",
    "        img_path = os.path.join(directory_path, img_path[2:])\n",
    "        image = cv2.imread(img_path)\n",
    "        image = cv2.cvtColor(image, cv2.COLOR_BGR2RGB)\n",
    "        #image = cv2.cvtColor(image, cv2.COLOR_BGR2GRAY)\n",
    "        \n",
    "        if self.infer:\n",
    "            if self.transform:\n",
    "                image = self.transform(image=image)['image']\n",
    "            return image\n",
    "        \n",
    "        mask_path = self.data.iloc[idx, 2]\n",
    "        mask_path = os.path.join(directory_path, mask_path[2:])\n",
    "        mask = cv2.imread(mask_path)\n",
    "        #mask = cv2.cvtColor(mask, cv2.COLOR_BGR2RGB)\n",
    "        mask = cv2.cvtColor(mask, cv2.COLOR_BGR2GRAY)\n",
    "        mask[mask == 255] = 12 #배경을 픽셀값 12로 간주\n",
    "\n",
    "        if self.transform:\n",
    "            augmented = self.transform(image=image, mask=mask)\n",
    "            image = augmented['image']\n",
    "            mask = augmented['mask']\n",
    "\n",
    "        return image, mask"
   ]
  },
  {
   "attachments": {},
   "cell_type": "markdown",
   "id": "dc955893-22fd-4320-88be-7aa0d790cbd9",
   "metadata": {},
   "source": [
    "## Data Loader"
   ]
  },
  {
   "cell_type": "code",
   "execution_count": 5,
   "id": "65dabc3a",
   "metadata": {},
   "outputs": [],
   "source": [
    "# 이미지 전처리 클래스\n",
    "class ImageTransform():\n",
    "  \"\"\"\n",
    "  훈련, 검증 동작 다르게 설정\n",
    "  이미지 크기 resize, 색상 표준화\n",
    "  훈련시 RandomResizedCrop, RandomHorizontalFilp으로 데이터 확장\n",
    "  \"\"\"\n",
    "  def __init__(self, resize, mean, std):\n",
    "    self.data_transform = {\n",
    "        'train' : transforms.Compose([\n",
    "            #transforms.RandomResizedCrop(\n",
    "            #    resize, scale = (0.5, 1.0)), # 데이터 확장\n",
    "            transforms.RandomHorizontalFlip(), # 데이터 확장\n",
    "            transforms.ToTensor(), # Tensor로 변환\n",
    "            transforms.Normalize(mean = mean, std = std) #표준화\n",
    "        ]),\n",
    "        'test': transforms.Compose([\n",
    "            #transforms.Resize(resize), # Resize\n",
    "            #transforms.CenterCrop(resize), # 중앙을 resize*resize로 crop\n",
    "            transforms.ToTensor(), # Tensor로 변환\n",
    "            transforms.Normalize(mean = mean, std = std) # 표준화\n",
    "        ])\n",
    "\n",
    "    }\n",
    "  def __call__(self, img, phase = 'train'):\n",
    "    \"\"\"\n",
    "    phase : 'train' or 'test'\n",
    "    전처리 모드 지정\n",
    "    \"\"\"\n",
    "    return self.data_transform[phase](img)"
   ]
  },
  {
   "cell_type": "code",
   "execution_count": 6,
   "id": "1096fe5e",
   "metadata": {},
   "outputs": [],
   "source": [
    "# 클래스별 IoU를 계산하기 위한 함수\n",
    "def calculate_iou_per_class(y_true, y_pred, class_id):\n",
    "    intersection = np.sum((y_true == class_id) & (y_pred == class_id))\n",
    "    union = np.sum((y_true == class_id) | (y_pred == class_id))\n",
    "    iou = intersection / union if union > 0 else 0\n",
    "    return iou"
   ]
  },
  {
   "attachments": {},
   "cell_type": "markdown",
   "id": "f42501fc-b573-4893-a7c4-5e280dfdaf09",
   "metadata": {},
   "source": [
    "## Define Model"
   ]
  },
  {
   "cell_type": "code",
   "execution_count": 7,
   "id": "65960bfb-803a-4c40-b713-6f647779e4ea",
   "metadata": {},
   "outputs": [],
   "source": [
    "class Decoder(nn.Module):\n",
    "    def __init__(self, in_channel, mid_channel, out_channel):\n",
    "        super(Decoder, self).__init__()\n",
    "        \n",
    "        self.conv = nn.Conv2d(in_channel, mid_channel, kernel_size=3, stride=1, padding=1) #keep ratio\n",
    "        self.conv_trans = nn.ConvTranspose2d(mid_channel, out_channel, kernel_size=4, stride=2, padding=1)\n",
    "        \n",
    "    def forward(self, x):\n",
    "        x = F.relu(self.conv(x), inplace=True)\n",
    "        x = F.relu(self.conv_trans(x), inplace=True)\n",
    "        return x\n",
    "    \n",
    "class Unet_resnet18(nn.Module):\n",
    "    def __init__(self, n_classes):\n",
    "        super(Unet_resnet18, self).__init__()\n",
    "        \n",
    "        #encoder\n",
    "        self.encoder = models.resnet18(pretrained=False)\n",
    "        \n",
    "        self.pool = nn.MaxPool2d(2, 2)\n",
    "        self.conv1 = nn.Sequential(self.encoder.conv1, self.encoder.bn1,\n",
    "                                  self.encoder.relu, self.pool) #64\n",
    "        self.conv2 = self.encoder.layer1 #64\n",
    "        self.conv3 = self.encoder.layer2 #128\n",
    "        self.conv4 = self.encoder.layer3 #256\n",
    "        self.conv5 = self.encoder.layer4 #depth 512\n",
    "        \n",
    "        #center\n",
    "        self.center = Decoder(512, 312, 256)\n",
    "        \n",
    "        #decoder\n",
    "        self.decoder5 = Decoder(256+512, 256, 256)\n",
    "        self.decoder4 = Decoder(256+256, 128, 128)\n",
    "        self.decoder3 = Decoder(128+128, 64, 64)\n",
    "        self.decoder2 = Decoder(64+64, 32, 32)\n",
    "        self.decoder1 = Decoder(32, 16, 16)\n",
    "        self.decoder0 = nn.Conv2d(in_channels=16, out_channels=8, kernel_size=3, stride=1, padding=1)\n",
    "    \n",
    "        self.final = nn.Conv2d(8, n_classes, kernel_size=1)\n",
    "        \n",
    "    def forward(self, x):\n",
    "        \n",
    "        #encoder\n",
    "        conv1 = self.conv1(x) #64x64\n",
    "        conv2 = self.conv2(conv1) #32x32\n",
    "        conv3 = self.conv3(conv2) #16x16\n",
    "        conv4 = self.conv4(conv3) #8x8\n",
    "        conv5 = self.conv5(conv4) #4x4\n",
    "        \n",
    "        center = self.center(self.pool(conv5)) #4x4\n",
    "        #decoder\n",
    "        dec5 = self.decoder5(torch.cat([center, conv5], 1)) #8x8\n",
    "        dec4 = self.decoder4(torch.cat([dec5, conv4], 1)) #16x16\n",
    "        dec3 = self.decoder3(torch.cat([dec4, conv3], 1)) #32x32\n",
    "        dec2 = self.decoder2(torch.cat([dec3, conv2], 1)) #64x64\n",
    "        dec1 = self.decoder1(dec2) #128x128\n",
    "        dec0 = F.relu(self.decoder0(dec1))\n",
    "        \n",
    "        #final = torch.sigmoid(self.final(dec0))\n",
    "        final = self.final(dec0)\n",
    "        \n",
    "        return final"
   ]
  },
  {
   "cell_type": "code",
   "execution_count": 8,
   "id": "baf22f4a",
   "metadata": {},
   "outputs": [],
   "source": [
    "import torch\n",
    "import torch.nn as nn\n",
    "import torch.nn.functional as F\n",
    "from torchvision import models\n",
    "\n",
    "class Decoder(nn.Module):\n",
    "    def __init__(self, in_channel, mid_channel, out_channel):\n",
    "        super(Decoder, self).__init__()\n",
    "        self.conv = nn.Conv2d(in_channel, mid_channel, kernel_size=3, stride=1, padding=1)\n",
    "        self.conv_trans = nn.ConvTranspose2d(mid_channel, out_channel, kernel_size=4, stride=2, padding=1)\n",
    "\n",
    "    def forward(self, x):\n",
    "        x = F.relu(self.conv(x), inplace=True)\n",
    "        x = F.relu(self.conv_trans(x), inplace=True)\n",
    "        return x\n",
    "\n",
    "class Unet_resnet50(nn.Module):\n",
    "    def __init__(self, n_classes):\n",
    "        super(Unet_resnet50, self).__init__()\n",
    "\n",
    "        # Encoder (ResNet-50)\n",
    "        self.encoder = models.resnet50(pretrained=True)\n",
    "\n",
    "        self.pool = nn.MaxPool2d(2, 2)\n",
    "        self.conv1 = nn.Sequential(self.encoder.conv1, self.encoder.bn1, self.encoder.relu, self.pool)\n",
    "        self.conv2 = self.encoder.layer1\n",
    "        self.conv3 = self.encoder.layer2\n",
    "        self.conv4 = self.encoder.layer3\n",
    "        self.conv5 = self.encoder.layer4\n",
    "\n",
    "        # Center\n",
    "        self.center = Decoder(2048, 1024, 512)  # Adjusted for ResNet-50\n",
    "\n",
    "        # Decoder\n",
    "        self.decoder5 = Decoder(512 + 2048, 1024, 512)  # Adjusted for ResNet-50\n",
    "        self.decoder4 = Decoder(512 + 1024, 512, 256)  # Adjusted for ResNet-50\n",
    "        self.decoder3 = Decoder(256 + 512, 256, 128)   # Adjusted for ResNet-50\n",
    "        self.decoder2 = Decoder(128 + 256, 128, 64)    # Adjusted for ResNet-50\n",
    "        self.decoder1 = Decoder(64, 32, 32)\n",
    "        self.decoder0 = nn.Conv2d(in_channels=32, out_channels=16, kernel_size=3, stride=1, padding=1)\n",
    "\n",
    "        self.final = nn.Conv2d(16, n_classes, kernel_size=1)\n",
    "\n",
    "    def forward(self, x):\n",
    "        # Encoder\n",
    "        conv1 = self.conv1(x)\n",
    "        conv2 = self.conv2(conv1)\n",
    "        conv3 = self.conv3(conv2)\n",
    "        conv4 = self.conv4(conv3)\n",
    "        conv5 = self.conv5(conv4)\n",
    "\n",
    "        center = self.center(self.pool(conv5))\n",
    "\n",
    "        # Decoder\n",
    "        dec5 = self.decoder5(torch.cat([center, conv5], 1))\n",
    "        dec4 = self.decoder4(torch.cat([dec5, conv4], 1))\n",
    "        dec3 = self.decoder3(torch.cat([dec4, conv3], 1))\n",
    "        dec2 = self.decoder2(torch.cat([dec3, conv2], 1))\n",
    "        dec1 = self.decoder1(dec2)\n",
    "        dec0 = F.relu(self.decoder0(dec1))\n",
    "\n",
    "        final = torch.sigmoid(self.final(dec0))\n",
    "\n",
    "        return final\n",
    "\n"
   ]
  },
  {
   "cell_type": "code",
   "execution_count": 9,
   "id": "dd34483e",
   "metadata": {},
   "outputs": [],
   "source": [
    "LR = 0.001\n",
    "EP = 30\n",
    "BATCH_SIZE = 128\n",
    "N_CLASSES = 13\n",
    "\n",
    "transform = A.Compose(\n",
    "    [   \n",
    "        #A.Resize(224, 224),\n",
    "        A.Resize(256, 256),\n",
    "        A.Normalize(),\n",
    "        \n",
    "        # 변형\n",
    "        A.VerticalFlip(p=0.5),\n",
    "        # A.RandomRotate90(p=0.5),\n",
    "        A.HueSaturationValue(p=0.2),\n",
    "        \n",
    "        ToTensorV2()\n",
    "    ]\n",
    ")\n",
    "\n",
    "dataset = CustomDataset(csv_file=os.path.join(\"/mnt/nas27/Dataset/Samsung_DM\",'./train_source.csv'), transform=transform)\n",
    "dataloader = DataLoader(dataset, batch_size=BATCH_SIZE, shuffle=True, num_workers=4)\n",
    "valid_dataset = CustomDataset(csv_file=os.path.join(\"/mnt/nas27/Dataset/Samsung_DM\",'./val_source.csv'), transform=transform)\n",
    "valid_dataloader = DataLoader(valid_dataset, batch_size=BATCH_SIZE, shuffle=False, num_workers=4)\n",
    "\n",
    "# model 초기화\n",
    "model = Unet_resnet18(n_classes = N_CLASSES).to(device)\n",
    "#model = Unet_resnet50(n_classes = N_CLASSES).to(device)\n",
    "\n",
    "# loss function과 optimizer 정의\n",
    "criterion = torch.nn.CrossEntropyLoss()\n",
    "optimizer = torch.optim.Adam(model.parameters(), lr=LR)\n",
    "lr = 0.005\n"
   ]
  },
  {
   "cell_type": "code",
   "execution_count": 10,
   "id": "eb8ce158",
   "metadata": {},
   "outputs": [],
   "source": [
    "# for epoch in range(1):  # 5 에폭 동안 학습합니다.\n",
    "          \n",
    "#     # 클래스별 IoU를 누적할 리스트 초기화\n",
    "#     train_class_ious = []\n",
    "    \n",
    "#     # 학습\n",
    "#     model.train()\n",
    "#     epoch_loss = 0\n",
    "    \n",
    "#     for images, masks in tqdm(dataloader):\n",
    "#         images = images.float().to(device)\n",
    "#         masks = masks.long().to(device)\n",
    "\n",
    "#         optimizer.zero_grad()\n",
    "#         outputs = model(images)\n",
    "#         loss = criterion(outputs, masks.squeeze(1))\n",
    "#         loss.backward()\n",
    "#         optimizer.step()\n",
    "\n",
    "#         epoch_loss += loss.item()"
   ]
  },
  {
   "attachments": {},
   "cell_type": "markdown",
   "id": "a0895765-fba0-4fd9-b955-a6c0e43012e9",
   "metadata": {},
   "source": [
    "## Model Train"
   ]
  },
  {
   "cell_type": "code",
   "execution_count": 11,
   "id": "dec3e516",
   "metadata": {},
   "outputs": [
    {
     "name": "stderr",
     "output_type": "stream",
     "text": [
      "Failed to detect the name of this notebook, you can set it manually with the WANDB_NOTEBOOK_NAME environment variable to enable code saving.\n",
      "\u001b[34m\u001b[1mwandb\u001b[0m: Currently logged in as: \u001b[33mpook0612\u001b[0m (\u001b[33mlimbw\u001b[0m). Use \u001b[1m`wandb login --relogin`\u001b[0m to force relogin\n"
     ]
    },
    {
     "data": {
      "text/html": [
       "wandb version 0.15.11 is available!  To upgrade, please run:\n",
       " $ pip install wandb --upgrade"
      ],
      "text/plain": [
       "<IPython.core.display.HTML object>"
      ]
     },
     "metadata": {},
     "output_type": "display_data"
    },
    {
     "data": {
      "text/html": [
       "Tracking run with wandb version 0.15.10"
      ],
      "text/plain": [
       "<IPython.core.display.HTML object>"
      ]
     },
     "metadata": {},
     "output_type": "display_data"
    },
    {
     "data": {
      "text/html": [
       "Run data is saved locally in <code>/home/MMI24limbyungwan/Design_project/wandb/run-20230929_204827-ovikct6x</code>"
      ],
      "text/plain": [
       "<IPython.core.display.HTML object>"
      ]
     },
     "metadata": {},
     "output_type": "display_data"
    },
    {
     "data": {
      "text/html": [
       "Syncing run <strong><a href='https://wandb.ai/limbw/practice_09_29/runs/ovikct6x' target=\"_blank\">sunny-wood-2</a></strong> to <a href='https://wandb.ai/limbw/practice_09_29' target=\"_blank\">Weights & Biases</a> (<a href='https://wandb.me/run' target=\"_blank\">docs</a>)<br/>"
      ],
      "text/plain": [
       "<IPython.core.display.HTML object>"
      ]
     },
     "metadata": {},
     "output_type": "display_data"
    },
    {
     "data": {
      "text/html": [
       " View project at <a href='https://wandb.ai/limbw/practice_09_29' target=\"_blank\">https://wandb.ai/limbw/practice_09_29</a>"
      ],
      "text/plain": [
       "<IPython.core.display.HTML object>"
      ]
     },
     "metadata": {},
     "output_type": "display_data"
    },
    {
     "data": {
      "text/html": [
       " View run at <a href='https://wandb.ai/limbw/practice_09_29/runs/ovikct6x' target=\"_blank\">https://wandb.ai/limbw/practice_09_29/runs/ovikct6x</a>"
      ],
      "text/plain": [
       "<IPython.core.display.HTML object>"
      ]
     },
     "metadata": {},
     "output_type": "display_data"
    },
    {
     "name": "stderr",
     "output_type": "stream",
     "text": [
      "100%|██████████| 18/18 [01:21<00:00,  4.54s/it]\n"
     ]
    },
    {
     "name": "stdout",
     "output_type": "stream",
     "text": [
      "Class 0 IoU: 0.0225\n",
      "Class 1 IoU: 0.0120\n",
      "Class 2 IoU: 0.0097\n",
      "Class 3 IoU: 0.0215\n",
      "Class 4 IoU: 0.0138\n",
      "Class 5 IoU: 0.0217\n",
      "Class 6 IoU: 0.0108\n",
      "Class 7 IoU: 0.0105\n",
      "Class 8 IoU: 0.0229\n",
      "Class 9 IoU: 0.0115\n",
      "Class 10 IoU: 0.0276\n",
      "Class 11 IoU: 0.0207\n",
      "Class 12 IoU: 0.0244\n"
     ]
    },
    {
     "name": "stderr",
     "output_type": "stream",
     "text": [
      "100%|██████████| 4/4 [00:22<00:00,  5.64s/it]\n"
     ]
    },
    {
     "name": "stdout",
     "output_type": "stream",
     "text": [
      "Class 0 IoU: 0.0577\n",
      "Class 1 IoU: 0.0003\n",
      "Class 2 IoU: 0.0000\n",
      "Class 3 IoU: 0.0646\n",
      "Class 4 IoU: 0.0003\n",
      "Class 5 IoU: 0.0000\n",
      "Class 6 IoU: 0.0295\n",
      "Class 7 IoU: 0.0432\n",
      "Class 8 IoU: 0.0000\n",
      "Class 9 IoU: 0.0282\n",
      "Class 10 IoU: 0.0514\n",
      "Class 11 IoU: 0.0000\n",
      "Class 12 IoU: 0.0000\n",
      "\n",
      "Epoch1\n",
      "Train Loss: 2.5377836094962225, Train mIoU Score: 0.0177\n",
      "Validation Loss: 2.5434224009513855, Validation mIoU Score: 0.0212\n",
      "___________________________________________________________________________________________\n",
      "\n"
     ]
    },
    {
     "name": "stderr",
     "output_type": "stream",
     "text": [
      "100%|██████████| 18/18 [01:21<00:00,  4.55s/it]\n"
     ]
    },
    {
     "name": "stdout",
     "output_type": "stream",
     "text": [
      "Class 0 IoU: 0.0446\n",
      "Class 1 IoU: 0.0174\n",
      "Class 2 IoU: 0.0308\n",
      "Class 3 IoU: 0.0349\n",
      "Class 4 IoU: 0.0228\n",
      "Class 5 IoU: 0.0442\n",
      "Class 6 IoU: 0.0231\n",
      "Class 7 IoU: 0.0327\n",
      "Class 8 IoU: 0.0336\n",
      "Class 9 IoU: 0.0223\n",
      "Class 10 IoU: 0.0472\n",
      "Class 11 IoU: 0.0259\n",
      "Class 12 IoU: 0.0242\n"
     ]
    },
    {
     "name": "stderr",
     "output_type": "stream",
     "text": [
      "100%|██████████| 4/4 [00:22<00:00,  5.65s/it]\n"
     ]
    },
    {
     "name": "stdout",
     "output_type": "stream",
     "text": [
      "Class 0 IoU: 0.0911\n",
      "Class 1 IoU: 0.0000\n",
      "Class 2 IoU: 0.0000\n",
      "Class 3 IoU: 0.1061\n",
      "Class 4 IoU: 0.0000\n",
      "Class 5 IoU: 0.0000\n",
      "Class 6 IoU: 0.0506\n",
      "Class 7 IoU: 0.0493\n",
      "Class 8 IoU: 0.0000\n",
      "Class 9 IoU: 0.0536\n",
      "Class 10 IoU: 0.0632\n",
      "Class 11 IoU: 0.0000\n",
      "Class 12 IoU: 0.0000\n",
      "\n",
      "Epoch2\n",
      "Train Loss: 2.370277908113268, Train mIoU Score: 0.0311\n",
      "Validation Loss: 2.3098589181900024, Validation mIoU Score: 0.0318\n",
      "___________________________________________________________________________________________\n",
      "\n"
     ]
    },
    {
     "name": "stderr",
     "output_type": "stream",
     "text": [
      "100%|██████████| 18/18 [01:21<00:00,  4.54s/it]\n"
     ]
    },
    {
     "name": "stdout",
     "output_type": "stream",
     "text": [
      "Class 0 IoU: 0.0499\n",
      "Class 1 IoU: 0.0242\n",
      "Class 2 IoU: 0.0337\n",
      "Class 3 IoU: 0.0390\n",
      "Class 4 IoU: 0.0267\n",
      "Class 5 IoU: 0.0512\n",
      "Class 6 IoU: 0.0275\n",
      "Class 7 IoU: 0.0351\n",
      "Class 8 IoU: 0.0382\n",
      "Class 9 IoU: 0.0224\n",
      "Class 10 IoU: 0.0462\n",
      "Class 11 IoU: 0.0244\n",
      "Class 12 IoU: 0.0243\n"
     ]
    },
    {
     "name": "stderr",
     "output_type": "stream",
     "text": [
      "100%|██████████| 4/4 [00:22<00:00,  5.63s/it]\n"
     ]
    },
    {
     "name": "stdout",
     "output_type": "stream",
     "text": [
      "Class 0 IoU: 0.0946\n",
      "Class 1 IoU: 0.0000\n",
      "Class 2 IoU: 0.0000\n",
      "Class 3 IoU: 0.1026\n",
      "Class 4 IoU: 0.0000\n",
      "Class 5 IoU: 0.0000\n",
      "Class 6 IoU: 0.0422\n",
      "Class 7 IoU: 0.0561\n",
      "Class 8 IoU: 0.0000\n",
      "Class 9 IoU: 0.0455\n",
      "Class 10 IoU: 0.0587\n",
      "Class 11 IoU: 0.0000\n",
      "Class 12 IoU: 0.0000\n",
      "\n",
      "Epoch3\n",
      "Train Loss: 2.2589551475312977, Train mIoU Score: 0.0341\n",
      "Validation Loss: 2.2786110639572144, Validation mIoU Score: 0.0308\n",
      "___________________________________________________________________________________________\n",
      "\n"
     ]
    },
    {
     "name": "stderr",
     "output_type": "stream",
     "text": [
      "100%|██████████| 18/18 [01:21<00:00,  4.51s/it]\n"
     ]
    },
    {
     "name": "stdout",
     "output_type": "stream",
     "text": [
      "Class 0 IoU: 0.0455\n",
      "Class 1 IoU: 0.0259\n",
      "Class 2 IoU: 0.0350\n",
      "Class 3 IoU: 0.0381\n",
      "Class 4 IoU: 0.0240\n",
      "Class 5 IoU: 0.0491\n",
      "Class 6 IoU: 0.0229\n",
      "Class 7 IoU: 0.0350\n",
      "Class 8 IoU: 0.0362\n",
      "Class 9 IoU: 0.0224\n",
      "Class 10 IoU: 0.0465\n",
      "Class 11 IoU: 0.0261\n",
      "Class 12 IoU: 0.0248\n"
     ]
    },
    {
     "name": "stderr",
     "output_type": "stream",
     "text": [
      "100%|██████████| 4/4 [00:22<00:00,  5.66s/it]\n"
     ]
    },
    {
     "name": "stdout",
     "output_type": "stream",
     "text": [
      "Class 0 IoU: 0.0787\n",
      "Class 1 IoU: 0.0000\n",
      "Class 2 IoU: 0.0000\n",
      "Class 3 IoU: 0.0930\n",
      "Class 4 IoU: 0.0000\n",
      "Class 5 IoU: 0.0000\n",
      "Class 6 IoU: 0.0383\n",
      "Class 7 IoU: 0.0524\n",
      "Class 8 IoU: 0.0000\n",
      "Class 9 IoU: 0.0399\n",
      "Class 10 IoU: 0.0600\n",
      "Class 11 IoU: 0.0000\n",
      "Class 12 IoU: 0.0000\n",
      "\n",
      "Epoch4\n",
      "Train Loss: 2.1803100638919406, Train mIoU Score: 0.0332\n",
      "Validation Loss: 2.2318851351737976, Validation mIoU Score: 0.0279\n",
      "___________________________________________________________________________________________\n",
      "\n"
     ]
    },
    {
     "name": "stderr",
     "output_type": "stream",
     "text": [
      "100%|██████████| 18/18 [01:21<00:00,  4.55s/it]\n"
     ]
    },
    {
     "name": "stdout",
     "output_type": "stream",
     "text": [
      "Class 0 IoU: 0.0517\n",
      "Class 1 IoU: 0.0250\n",
      "Class 2 IoU: 0.0364\n",
      "Class 3 IoU: 0.0364\n",
      "Class 4 IoU: 0.0212\n",
      "Class 5 IoU: 0.0456\n",
      "Class 6 IoU: 0.0234\n",
      "Class 7 IoU: 0.0318\n",
      "Class 8 IoU: 0.0352\n",
      "Class 9 IoU: 0.0559\n",
      "Class 10 IoU: 0.0804\n",
      "Class 11 IoU: 0.0605\n",
      "Class 12 IoU: 0.0957\n"
     ]
    },
    {
     "name": "stderr",
     "output_type": "stream",
     "text": [
      "100%|██████████| 4/4 [00:22<00:00,  5.64s/it]\n"
     ]
    },
    {
     "name": "stdout",
     "output_type": "stream",
     "text": [
      "Class 0 IoU: 0.1148\n",
      "Class 1 IoU: 0.0000\n",
      "Class 2 IoU: 0.1355\n",
      "Class 3 IoU: 0.1296\n",
      "Class 4 IoU: 0.0000\n",
      "Class 5 IoU: 0.1392\n",
      "Class 6 IoU: 0.0881\n",
      "Class 7 IoU: 0.0377\n",
      "Class 8 IoU: 0.1334\n",
      "Class 9 IoU: 0.0808\n",
      "Class 10 IoU: 0.0403\n",
      "Class 11 IoU: 0.1193\n",
      "Class 12 IoU: 0.0000\n",
      "\n",
      "Epoch5\n",
      "Train Loss: 2.0681436326768665, Train mIoU Score: 0.0461\n",
      "Validation Loss: 1.9690622091293335, Validation mIoU Score: 0.0784\n",
      "___________________________________________________________________________________________\n",
      "\n"
     ]
    },
    {
     "name": "stderr",
     "output_type": "stream",
     "text": [
      "100%|██████████| 18/18 [01:21<00:00,  4.53s/it]\n"
     ]
    },
    {
     "name": "stdout",
     "output_type": "stream",
     "text": [
      "Class 0 IoU: 0.0880\n",
      "Class 1 IoU: 0.0913\n",
      "Class 2 IoU: 0.0802\n",
      "Class 3 IoU: 0.0769\n",
      "Class 4 IoU: 0.1100\n",
      "Class 5 IoU: 0.0966\n",
      "Class 6 IoU: 0.1001\n",
      "Class 7 IoU: 0.0773\n",
      "Class 8 IoU: 0.0722\n",
      "Class 9 IoU: 0.0898\n",
      "Class 10 IoU: 0.0782\n",
      "Class 11 IoU: 0.0544\n",
      "Class 12 IoU: 0.0827\n"
     ]
    },
    {
     "name": "stderr",
     "output_type": "stream",
     "text": [
      "100%|██████████| 4/4 [00:22<00:00,  5.63s/it]\n"
     ]
    },
    {
     "name": "stdout",
     "output_type": "stream",
     "text": [
      "Class 0 IoU: 0.1010\n",
      "Class 1 IoU: 0.0005\n",
      "Class 2 IoU: 0.1397\n",
      "Class 3 IoU: 0.1031\n",
      "Class 4 IoU: 0.0000\n",
      "Class 5 IoU: 0.1352\n",
      "Class 6 IoU: 0.0675\n",
      "Class 7 IoU: 0.0309\n",
      "Class 8 IoU: 0.1316\n",
      "Class 9 IoU: 0.0705\n",
      "Class 10 IoU: 0.0360\n",
      "Class 11 IoU: 0.1253\n",
      "Class 12 IoU: 0.0000\n",
      "\n",
      "Epoch6\n",
      "Train Loss: 1.7344932754834492, Train mIoU Score: 0.0844\n",
      "Validation Loss: 1.7842725217342377, Validation mIoU Score: 0.0724\n",
      "___________________________________________________________________________________________\n",
      "\n"
     ]
    },
    {
     "name": "stderr",
     "output_type": "stream",
     "text": [
      "100%|██████████| 18/18 [01:21<00:00,  4.53s/it]\n"
     ]
    },
    {
     "name": "stdout",
     "output_type": "stream",
     "text": [
      "Class 0 IoU: 0.0753\n",
      "Class 1 IoU: 0.0912\n",
      "Class 2 IoU: 0.0744\n",
      "Class 3 IoU: 0.0657\n",
      "Class 4 IoU: 0.0874\n",
      "Class 5 IoU: 0.0807\n",
      "Class 6 IoU: 0.0916\n",
      "Class 7 IoU: 0.0713\n",
      "Class 8 IoU: 0.0611\n",
      "Class 9 IoU: 0.0930\n",
      "Class 10 IoU: 0.0833\n",
      "Class 11 IoU: 0.0626\n",
      "Class 12 IoU: 0.0893\n"
     ]
    },
    {
     "name": "stderr",
     "output_type": "stream",
     "text": [
      "100%|██████████| 4/4 [00:22<00:00,  5.64s/it]\n"
     ]
    },
    {
     "name": "stdout",
     "output_type": "stream",
     "text": [
      "Class 0 IoU: 0.0991\n",
      "Class 1 IoU: 0.0070\n",
      "Class 2 IoU: 0.1479\n",
      "Class 3 IoU: 0.1085\n",
      "Class 4 IoU: 0.0000\n",
      "Class 5 IoU: 0.1603\n",
      "Class 6 IoU: 0.0718\n",
      "Class 7 IoU: 0.0319\n",
      "Class 8 IoU: 0.1506\n",
      "Class 9 IoU: 0.0761\n",
      "Class 10 IoU: 0.0360\n",
      "Class 11 IoU: 0.1583\n",
      "Class 12 IoU: 0.0000\n",
      "\n",
      "Epoch7\n",
      "Train Loss: 1.6177203986379836, Train mIoU Score: 0.0790\n",
      "Validation Loss: 1.671356052160263, Validation mIoU Score: 0.0806\n",
      "___________________________________________________________________________________________\n",
      "\n"
     ]
    },
    {
     "name": "stderr",
     "output_type": "stream",
     "text": [
      "100%|██████████| 18/18 [01:21<00:00,  4.51s/it]\n"
     ]
    },
    {
     "name": "stdout",
     "output_type": "stream",
     "text": [
      "Class 0 IoU: 0.0827\n",
      "Class 1 IoU: 0.0963\n",
      "Class 2 IoU: 0.0957\n",
      "Class 3 IoU: 0.0954\n",
      "Class 4 IoU: 0.1536\n",
      "Class 5 IoU: 0.1358\n",
      "Class 6 IoU: 0.1523\n",
      "Class 7 IoU: 0.1232\n",
      "Class 8 IoU: 0.1138\n",
      "Class 9 IoU: 0.1613\n",
      "Class 10 IoU: 0.1431\n",
      "Class 11 IoU: 0.1352\n",
      "Class 12 IoU: 0.1464\n"
     ]
    },
    {
     "name": "stderr",
     "output_type": "stream",
     "text": [
      "100%|██████████| 4/4 [00:22<00:00,  5.67s/it]\n"
     ]
    },
    {
     "name": "stdout",
     "output_type": "stream",
     "text": [
      "Class 0 IoU: 0.1624\n",
      "Class 1 IoU: 0.1290\n",
      "Class 2 IoU: 0.1608\n",
      "Class 3 IoU: 0.1761\n",
      "Class 4 IoU: 0.0000\n",
      "Class 5 IoU: 0.2686\n",
      "Class 6 IoU: 0.1241\n",
      "Class 7 IoU: 0.0486\n",
      "Class 8 IoU: 0.2705\n",
      "Class 9 IoU: 0.1177\n",
      "Class 10 IoU: 0.0478\n",
      "Class 11 IoU: 0.2450\n",
      "Class 12 IoU: 0.0021\n",
      "\n",
      "Epoch8\n",
      "Train Loss: 1.4869109524620905, Train mIoU Score: 0.1258\n",
      "Validation Loss: 1.4409961104393005, Validation mIoU Score: 0.1348\n",
      "___________________________________________________________________________________________\n",
      "\n"
     ]
    },
    {
     "name": "stderr",
     "output_type": "stream",
     "text": [
      "100%|██████████| 18/18 [01:21<00:00,  4.53s/it]\n"
     ]
    },
    {
     "name": "stdout",
     "output_type": "stream",
     "text": [
      "Class 0 IoU: 0.1256\n",
      "Class 1 IoU: 0.1860\n",
      "Class 2 IoU: 0.2044\n",
      "Class 3 IoU: 0.1650\n",
      "Class 4 IoU: 0.2092\n",
      "Class 5 IoU: 0.2226\n",
      "Class 6 IoU: 0.2186\n",
      "Class 7 IoU: 0.2284\n",
      "Class 8 IoU: 0.1725\n",
      "Class 9 IoU: 0.2374\n",
      "Class 10 IoU: 0.2497\n",
      "Class 11 IoU: 0.1873\n",
      "Class 12 IoU: 0.2185\n"
     ]
    },
    {
     "name": "stderr",
     "output_type": "stream",
     "text": [
      "100%|██████████| 4/4 [00:22<00:00,  5.68s/it]\n"
     ]
    },
    {
     "name": "stdout",
     "output_type": "stream",
     "text": [
      "Class 0 IoU: 0.1879\n",
      "Class 1 IoU: 0.0610\n",
      "Class 2 IoU: 0.1756\n",
      "Class 3 IoU: 0.4015\n",
      "Class 4 IoU: 0.0000\n",
      "Class 5 IoU: 0.2441\n",
      "Class 6 IoU: 0.3141\n",
      "Class 7 IoU: 0.0800\n",
      "Class 8 IoU: 0.2148\n",
      "Class 9 IoU: 0.3083\n",
      "Class 10 IoU: 0.0900\n",
      "Class 11 IoU: 0.2306\n",
      "Class 12 IoU: 0.1900\n",
      "\n",
      "Epoch9\n",
      "Train Loss: 1.236539555920495, Train mIoU Score: 0.2019\n",
      "Validation Loss: 1.2562722861766815, Validation mIoU Score: 0.1922\n",
      "___________________________________________________________________________________________\n",
      "\n"
     ]
    },
    {
     "name": "stderr",
     "output_type": "stream",
     "text": [
      "100%|██████████| 18/18 [01:21<00:00,  4.53s/it]\n"
     ]
    },
    {
     "name": "stdout",
     "output_type": "stream",
     "text": [
      "Class 0 IoU: 0.1896\n",
      "Class 1 IoU: 0.2229\n",
      "Class 2 IoU: 0.2370\n",
      "Class 3 IoU: 0.1897\n",
      "Class 4 IoU: 0.2394\n",
      "Class 5 IoU: 0.2555\n",
      "Class 6 IoU: 0.2214\n",
      "Class 7 IoU: 0.2281\n",
      "Class 8 IoU: 0.1772\n",
      "Class 9 IoU: 0.2270\n",
      "Class 10 IoU: 0.2488\n",
      "Class 11 IoU: 0.1970\n",
      "Class 12 IoU: 0.2312\n"
     ]
    },
    {
     "name": "stderr",
     "output_type": "stream",
     "text": [
      "100%|██████████| 4/4 [00:22<00:00,  5.56s/it]\n"
     ]
    },
    {
     "name": "stdout",
     "output_type": "stream",
     "text": [
      "Class 0 IoU: 0.1992\n",
      "Class 1 IoU: 0.1326\n",
      "Class 2 IoU: 0.1864\n",
      "Class 3 IoU: 0.4118\n",
      "Class 4 IoU: 0.0000\n",
      "Class 5 IoU: 0.3354\n",
      "Class 6 IoU: 0.3183\n",
      "Class 7 IoU: 0.0854\n",
      "Class 8 IoU: 0.3029\n",
      "Class 9 IoU: 0.3179\n",
      "Class 10 IoU: 0.0979\n",
      "Class 11 IoU: 0.2976\n",
      "Class 12 IoU: 0.1977\n",
      "\n",
      "Epoch10\n",
      "Train Loss: 1.109818975130717, Train mIoU Score: 0.2204\n",
      "Validation Loss: 1.023236870765686, Validation mIoU Score: 0.2218\n",
      "___________________________________________________________________________________________\n",
      "\n"
     ]
    },
    {
     "name": "stderr",
     "output_type": "stream",
     "text": [
      "100%|██████████| 18/18 [01:22<00:00,  4.57s/it]\n"
     ]
    },
    {
     "name": "stdout",
     "output_type": "stream",
     "text": [
      "Class 0 IoU: 0.2169\n",
      "Class 1 IoU: 0.2334\n",
      "Class 2 IoU: 0.2334\n",
      "Class 3 IoU: 0.1835\n",
      "Class 4 IoU: 0.2340\n",
      "Class 5 IoU: 0.2625\n",
      "Class 6 IoU: 0.2268\n",
      "Class 7 IoU: 0.2356\n",
      "Class 8 IoU: 0.1866\n",
      "Class 9 IoU: 0.2318\n",
      "Class 10 IoU: 0.2564\n",
      "Class 11 IoU: 0.2000\n",
      "Class 12 IoU: 0.2343\n"
     ]
    },
    {
     "name": "stderr",
     "output_type": "stream",
     "text": [
      "100%|██████████| 4/4 [00:22<00:00,  5.63s/it]\n"
     ]
    },
    {
     "name": "stdout",
     "output_type": "stream",
     "text": [
      "Class 0 IoU: 0.1959\n",
      "Class 1 IoU: 0.1400\n",
      "Class 2 IoU: 0.1824\n",
      "Class 3 IoU: 0.4217\n",
      "Class 4 IoU: 0.0000\n",
      "Class 5 IoU: 0.3190\n",
      "Class 6 IoU: 0.3365\n",
      "Class 7 IoU: 0.0963\n",
      "Class 8 IoU: 0.3082\n",
      "Class 9 IoU: 0.3381\n",
      "Class 10 IoU: 0.0956\n",
      "Class 11 IoU: 0.3194\n",
      "Class 12 IoU: 0.2141\n",
      "\n",
      "Epoch11\n",
      "Train Loss: 1.0081854495737288, Train mIoU Score: 0.2258\n",
      "Validation Loss: 0.986452043056488, Validation mIoU Score: 0.2282\n",
      "___________________________________________________________________________________________\n",
      "\n"
     ]
    },
    {
     "name": "stderr",
     "output_type": "stream",
     "text": [
      "100%|██████████| 18/18 [01:21<00:00,  4.53s/it]\n"
     ]
    },
    {
     "name": "stdout",
     "output_type": "stream",
     "text": [
      "Class 0 IoU: 0.2166\n",
      "Class 1 IoU: 0.2361\n",
      "Class 2 IoU: 0.2470\n",
      "Class 3 IoU: 0.1879\n",
      "Class 4 IoU: 0.2436\n",
      "Class 5 IoU: 0.2661\n",
      "Class 6 IoU: 0.2342\n",
      "Class 7 IoU: 0.2505\n",
      "Class 8 IoU: 0.1881\n",
      "Class 9 IoU: 0.2534\n",
      "Class 10 IoU: 0.2914\n",
      "Class 11 IoU: 0.2136\n",
      "Class 12 IoU: 0.2657\n"
     ]
    },
    {
     "name": "stderr",
     "output_type": "stream",
     "text": [
      "100%|██████████| 4/4 [00:22<00:00,  5.64s/it]\n"
     ]
    },
    {
     "name": "stdout",
     "output_type": "stream",
     "text": [
      "Class 0 IoU: 0.2273\n",
      "Class 1 IoU: 0.1356\n",
      "Class 2 IoU: 0.2238\n",
      "Class 3 IoU: 0.4444\n",
      "Class 4 IoU: 0.0000\n",
      "Class 5 IoU: 0.3098\n",
      "Class 6 IoU: 0.3650\n",
      "Class 7 IoU: 0.0905\n",
      "Class 8 IoU: 0.2724\n",
      "Class 9 IoU: 0.3645\n",
      "Class 10 IoU: 0.1161\n",
      "Class 11 IoU: 0.3077\n",
      "Class 12 IoU: 0.2501\n",
      "\n",
      "Epoch12\n",
      "Train Loss: 0.9310824440585243, Train mIoU Score: 0.2380\n",
      "Validation Loss: 0.9251910895109177, Validation mIoU Score: 0.2390\n",
      "___________________________________________________________________________________________\n",
      "\n"
     ]
    },
    {
     "name": "stderr",
     "output_type": "stream",
     "text": [
      "100%|██████████| 18/18 [01:21<00:00,  4.51s/it]\n"
     ]
    },
    {
     "name": "stdout",
     "output_type": "stream",
     "text": [
      "Class 0 IoU: 0.2364\n",
      "Class 1 IoU: 0.2623\n",
      "Class 2 IoU: 0.2757\n",
      "Class 3 IoU: 0.2215\n",
      "Class 4 IoU: 0.2847\n",
      "Class 5 IoU: 0.2986\n",
      "Class 6 IoU: 0.2664\n",
      "Class 7 IoU: 0.2779\n",
      "Class 8 IoU: 0.2231\n",
      "Class 9 IoU: 0.2635\n",
      "Class 10 IoU: 0.3029\n",
      "Class 11 IoU: 0.2291\n",
      "Class 12 IoU: 0.2607\n"
     ]
    },
    {
     "name": "stderr",
     "output_type": "stream",
     "text": [
      "100%|██████████| 4/4 [00:22<00:00,  5.64s/it]\n"
     ]
    },
    {
     "name": "stdout",
     "output_type": "stream",
     "text": [
      "Class 0 IoU: 0.2072\n",
      "Class 1 IoU: 0.1428\n",
      "Class 2 IoU: 0.1477\n",
      "Class 3 IoU: 0.4228\n",
      "Class 4 IoU: 0.0000\n",
      "Class 5 IoU: 0.2355\n",
      "Class 6 IoU: 0.3805\n",
      "Class 7 IoU: 0.0799\n",
      "Class 8 IoU: 0.2362\n",
      "Class 9 IoU: 0.3940\n",
      "Class 10 IoU: 0.0760\n",
      "Class 11 IoU: 0.2186\n",
      "Class 12 IoU: 0.2433\n",
      "\n",
      "Epoch13\n",
      "Train Loss: 0.8492598003811307, Train mIoU Score: 0.2617\n",
      "Validation Loss: 1.0804225206375122, Validation mIoU Score: 0.2142\n",
      "___________________________________________________________________________________________\n",
      "\n"
     ]
    },
    {
     "name": "stderr",
     "output_type": "stream",
     "text": [
      "100%|██████████| 18/18 [01:22<00:00,  4.56s/it]\n"
     ]
    },
    {
     "name": "stdout",
     "output_type": "stream",
     "text": [
      "Class 0 IoU: 0.2607\n",
      "Class 1 IoU: 0.2749\n",
      "Class 2 IoU: 0.2951\n",
      "Class 3 IoU: 0.2278\n",
      "Class 4 IoU: 0.2926\n",
      "Class 5 IoU: 0.3210\n",
      "Class 6 IoU: 0.2849\n",
      "Class 7 IoU: 0.2981\n",
      "Class 8 IoU: 0.2355\n",
      "Class 9 IoU: 0.2894\n",
      "Class 10 IoU: 0.3427\n",
      "Class 11 IoU: 0.2426\n",
      "Class 12 IoU: 0.3090\n"
     ]
    },
    {
     "name": "stderr",
     "output_type": "stream",
     "text": [
      "100%|██████████| 4/4 [00:22<00:00,  5.66s/it]\n"
     ]
    },
    {
     "name": "stdout",
     "output_type": "stream",
     "text": [
      "Class 0 IoU: 0.2600\n",
      "Class 1 IoU: 0.1288\n",
      "Class 2 IoU: 0.2644\n",
      "Class 3 IoU: 0.4989\n",
      "Class 4 IoU: 0.0000\n",
      "Class 5 IoU: 0.3389\n",
      "Class 6 IoU: 0.4458\n",
      "Class 7 IoU: 0.1067\n",
      "Class 8 IoU: 0.3164\n",
      "Class 9 IoU: 0.4312\n",
      "Class 10 IoU: 0.1105\n",
      "Class 11 IoU: 0.3160\n",
      "Class 12 IoU: 0.2642\n",
      "\n",
      "Epoch14\n",
      "Train Loss: 0.7732583913538191, Train mIoU Score: 0.2826\n",
      "Validation Loss: 0.8060612678527832, Validation mIoU Score: 0.2678\n",
      "___________________________________________________________________________________________\n",
      "\n"
     ]
    },
    {
     "name": "stderr",
     "output_type": "stream",
     "text": [
      "100%|██████████| 18/18 [01:22<00:00,  4.57s/it]\n"
     ]
    },
    {
     "name": "stdout",
     "output_type": "stream",
     "text": [
      "Class 0 IoU: 0.2820\n",
      "Class 1 IoU: 0.2777\n",
      "Class 2 IoU: 0.3163\n",
      "Class 3 IoU: 0.2463\n",
      "Class 4 IoU: 0.3012\n",
      "Class 5 IoU: 0.3345\n",
      "Class 6 IoU: 0.2948\n",
      "Class 7 IoU: 0.3183\n",
      "Class 8 IoU: 0.2415\n",
      "Class 9 IoU: 0.2967\n",
      "Class 10 IoU: 0.3532\n",
      "Class 11 IoU: 0.2438\n",
      "Class 12 IoU: 0.3298\n"
     ]
    },
    {
     "name": "stderr",
     "output_type": "stream",
     "text": [
      "100%|██████████| 4/4 [00:22<00:00,  5.67s/it]\n"
     ]
    },
    {
     "name": "stdout",
     "output_type": "stream",
     "text": [
      "Class 0 IoU: 0.2655\n",
      "Class 1 IoU: 0.1417\n",
      "Class 2 IoU: 0.2581\n",
      "Class 3 IoU: 0.4998\n",
      "Class 4 IoU: 0.0000\n",
      "Class 5 IoU: 0.3295\n",
      "Class 6 IoU: 0.4398\n",
      "Class 7 IoU: 0.1064\n",
      "Class 8 IoU: 0.3062\n",
      "Class 9 IoU: 0.4547\n",
      "Class 10 IoU: 0.1275\n",
      "Class 11 IoU: 0.3461\n",
      "Class 12 IoU: 0.2971\n",
      "\n",
      "Epoch15\n",
      "Train Loss: 0.7235250837273068, Train mIoU Score: 0.2951\n",
      "Validation Loss: 0.7685341536998749, Validation mIoU Score: 0.2748\n",
      "___________________________________________________________________________________________\n",
      "\n"
     ]
    },
    {
     "name": "stderr",
     "output_type": "stream",
     "text": [
      "100%|██████████| 18/18 [01:21<00:00,  4.53s/it]\n"
     ]
    },
    {
     "name": "stdout",
     "output_type": "stream",
     "text": [
      "Class 0 IoU: 0.2780\n",
      "Class 1 IoU: 0.2981\n",
      "Class 2 IoU: 0.3036\n",
      "Class 3 IoU: 0.2393\n",
      "Class 4 IoU: 0.3075\n",
      "Class 5 IoU: 0.3444\n",
      "Class 6 IoU: 0.3039\n",
      "Class 7 IoU: 0.3187\n",
      "Class 8 IoU: 0.2490\n",
      "Class 9 IoU: 0.2954\n",
      "Class 10 IoU: 0.3522\n",
      "Class 11 IoU: 0.2534\n",
      "Class 12 IoU: 0.3229\n"
     ]
    },
    {
     "name": "stderr",
     "output_type": "stream",
     "text": [
      "100%|██████████| 4/4 [00:22<00:00,  5.65s/it]\n"
     ]
    },
    {
     "name": "stdout",
     "output_type": "stream",
     "text": [
      "Class 0 IoU: 0.2511\n",
      "Class 1 IoU: 0.1557\n",
      "Class 2 IoU: 0.2530\n",
      "Class 3 IoU: 0.4948\n",
      "Class 4 IoU: 0.0000\n",
      "Class 5 IoU: 0.3440\n",
      "Class 6 IoU: 0.4629\n",
      "Class 7 IoU: 0.0985\n",
      "Class 8 IoU: 0.3025\n",
      "Class 9 IoU: 0.4476\n",
      "Class 10 IoU: 0.1177\n",
      "Class 11 IoU: 0.3310\n",
      "Class 12 IoU: 0.2930\n",
      "\n",
      "Epoch16\n",
      "Train Loss: 0.6935869985156589, Train mIoU Score: 0.2974\n",
      "Validation Loss: 0.8194114118814468, Validation mIoU Score: 0.2732\n",
      "___________________________________________________________________________________________\n",
      "\n"
     ]
    },
    {
     "name": "stderr",
     "output_type": "stream",
     "text": [
      "100%|██████████| 18/18 [01:22<00:00,  4.58s/it]\n"
     ]
    },
    {
     "name": "stdout",
     "output_type": "stream",
     "text": [
      "Class 0 IoU: 0.2879\n",
      "Class 1 IoU: 0.2987\n",
      "Class 2 IoU: 0.3255\n",
      "Class 3 IoU: 0.2379\n",
      "Class 4 IoU: 0.3091\n",
      "Class 5 IoU: 0.3371\n",
      "Class 6 IoU: 0.3064\n",
      "Class 7 IoU: 0.3292\n",
      "Class 8 IoU: 0.2524\n",
      "Class 9 IoU: 0.3071\n",
      "Class 10 IoU: 0.3541\n",
      "Class 11 IoU: 0.2555\n",
      "Class 12 IoU: 0.3496\n"
     ]
    },
    {
     "name": "stderr",
     "output_type": "stream",
     "text": [
      "100%|██████████| 4/4 [00:22<00:00,  5.72s/it]\n"
     ]
    },
    {
     "name": "stdout",
     "output_type": "stream",
     "text": [
      "Class 0 IoU: 0.2571\n",
      "Class 1 IoU: 0.1279\n",
      "Class 2 IoU: 0.2635\n",
      "Class 3 IoU: 0.5076\n",
      "Class 4 IoU: 0.0000\n",
      "Class 5 IoU: 0.3431\n",
      "Class 6 IoU: 0.4673\n",
      "Class 7 IoU: 0.1083\n",
      "Class 8 IoU: 0.3118\n",
      "Class 9 IoU: 0.4514\n",
      "Class 10 IoU: 0.1226\n",
      "Class 11 IoU: 0.3223\n",
      "Class 12 IoU: 0.2908\n",
      "\n",
      "Epoch17\n",
      "Train Loss: 0.6578819155693054, Train mIoU Score: 0.3039\n",
      "Validation Loss: 0.7517202645540237, Validation mIoU Score: 0.2749\n",
      "___________________________________________________________________________________________\n",
      "\n"
     ]
    },
    {
     "name": "stderr",
     "output_type": "stream",
     "text": [
      "100%|██████████| 18/18 [01:21<00:00,  4.54s/it]\n"
     ]
    },
    {
     "name": "stdout",
     "output_type": "stream",
     "text": [
      "Class 0 IoU: 0.2691\n",
      "Class 1 IoU: 0.2924\n",
      "Class 2 IoU: 0.3332\n",
      "Class 3 IoU: 0.2500\n",
      "Class 4 IoU: 0.3220\n",
      "Class 5 IoU: 0.3170\n",
      "Class 6 IoU: 0.2975\n",
      "Class 7 IoU: 0.3398\n",
      "Class 8 IoU: 0.2423\n",
      "Class 9 IoU: 0.3062\n",
      "Class 10 IoU: 0.3615\n",
      "Class 11 IoU: 0.2536\n",
      "Class 12 IoU: 0.3423\n"
     ]
    },
    {
     "name": "stderr",
     "output_type": "stream",
     "text": [
      "100%|██████████| 4/4 [00:22<00:00,  5.72s/it]\n"
     ]
    },
    {
     "name": "stdout",
     "output_type": "stream",
     "text": [
      "Class 0 IoU: 0.2872\n",
      "Class 1 IoU: 0.1558\n",
      "Class 2 IoU: 0.3007\n",
      "Class 3 IoU: 0.5263\n",
      "Class 4 IoU: 0.0000\n",
      "Class 5 IoU: 0.3651\n",
      "Class 6 IoU: 0.4899\n",
      "Class 7 IoU: 0.1128\n",
      "Class 8 IoU: 0.3346\n",
      "Class 9 IoU: 0.4839\n",
      "Class 10 IoU: 0.1165\n",
      "Class 11 IoU: 0.3397\n",
      "Class 12 IoU: 0.3075\n",
      "\n",
      "Epoch18\n",
      "Train Loss: 0.6555799808767107, Train mIoU Score: 0.3021\n",
      "Validation Loss: 0.7298815846443176, Validation mIoU Score: 0.2938\n",
      "___________________________________________________________________________________________\n",
      "\n"
     ]
    },
    {
     "name": "stderr",
     "output_type": "stream",
     "text": [
      "100%|██████████| 18/18 [01:21<00:00,  4.55s/it]\n"
     ]
    },
    {
     "name": "stdout",
     "output_type": "stream",
     "text": [
      "Class 0 IoU: 0.2868\n",
      "Class 1 IoU: 0.2946\n",
      "Class 2 IoU: 0.3385\n",
      "Class 3 IoU: 0.2552\n",
      "Class 4 IoU: 0.3317\n",
      "Class 5 IoU: 0.3462\n",
      "Class 6 IoU: 0.3050\n",
      "Class 7 IoU: 0.3305\n",
      "Class 8 IoU: 0.2594\n",
      "Class 9 IoU: 0.3094\n",
      "Class 10 IoU: 0.3647\n",
      "Class 11 IoU: 0.2626\n",
      "Class 12 IoU: 0.3366\n"
     ]
    },
    {
     "name": "stderr",
     "output_type": "stream",
     "text": [
      "100%|██████████| 4/4 [00:22<00:00,  5.61s/it]\n"
     ]
    },
    {
     "name": "stdout",
     "output_type": "stream",
     "text": [
      "Class 0 IoU: 0.2736\n",
      "Class 1 IoU: 0.1533\n",
      "Class 2 IoU: 0.2879\n",
      "Class 3 IoU: 0.5081\n",
      "Class 4 IoU: 0.0000\n",
      "Class 5 IoU: 0.3429\n",
      "Class 6 IoU: 0.4668\n",
      "Class 7 IoU: 0.1166\n",
      "Class 8 IoU: 0.3425\n",
      "Class 9 IoU: 0.4657\n",
      "Class 10 IoU: 0.1261\n",
      "Class 11 IoU: 0.3147\n",
      "Class 12 IoU: 0.2936\n",
      "\n",
      "Epoch19\n",
      "Train Loss: 0.6216435531775156, Train mIoU Score: 0.3093\n",
      "Validation Loss: 0.7362044751644135, Validation mIoU Score: 0.2840\n",
      "___________________________________________________________________________________________\n",
      "\n"
     ]
    },
    {
     "name": "stderr",
     "output_type": "stream",
     "text": [
      "100%|██████████| 18/18 [01:22<00:00,  4.56s/it]\n"
     ]
    },
    {
     "name": "stdout",
     "output_type": "stream",
     "text": [
      "Class 0 IoU: 0.2896\n",
      "Class 1 IoU: 0.2917\n",
      "Class 2 IoU: 0.3336\n",
      "Class 3 IoU: 0.2632\n",
      "Class 4 IoU: 0.3284\n",
      "Class 5 IoU: 0.3428\n",
      "Class 6 IoU: 0.3087\n",
      "Class 7 IoU: 0.3454\n",
      "Class 8 IoU: 0.2722\n",
      "Class 9 IoU: 0.3009\n",
      "Class 10 IoU: 0.3670\n",
      "Class 11 IoU: 0.2576\n",
      "Class 12 IoU: 0.3348\n"
     ]
    },
    {
     "name": "stderr",
     "output_type": "stream",
     "text": [
      "100%|██████████| 4/4 [00:22<00:00,  5.68s/it]\n"
     ]
    },
    {
     "name": "stdout",
     "output_type": "stream",
     "text": [
      "Class 0 IoU: 0.2255\n",
      "Class 1 IoU: 0.1355\n",
      "Class 2 IoU: 0.1100\n",
      "Class 3 IoU: 0.4457\n",
      "Class 4 IoU: 0.0001\n",
      "Class 5 IoU: 0.1626\n",
      "Class 6 IoU: 0.4658\n",
      "Class 7 IoU: 0.0695\n",
      "Class 8 IoU: 0.1549\n",
      "Class 9 IoU: 0.4758\n",
      "Class 10 IoU: 0.0801\n",
      "Class 11 IoU: 0.1691\n",
      "Class 12 IoU: 0.3124\n",
      "\n",
      "Epoch20\n",
      "Train Loss: 0.6091500785615709, Train mIoU Score: 0.3105\n",
      "Validation Loss: 1.5922144651412964, Validation mIoU Score: 0.2159\n",
      "___________________________________________________________________________________________\n",
      "\n"
     ]
    },
    {
     "name": "stderr",
     "output_type": "stream",
     "text": [
      "100%|██████████| 18/18 [01:21<00:00,  4.55s/it]\n"
     ]
    },
    {
     "name": "stdout",
     "output_type": "stream",
     "text": [
      "Class 0 IoU: 0.2893\n",
      "Class 1 IoU: 0.3004\n",
      "Class 2 IoU: 0.3425\n",
      "Class 3 IoU: 0.2578\n",
      "Class 4 IoU: 0.3220\n",
      "Class 5 IoU: 0.3388\n",
      "Class 6 IoU: 0.3103\n",
      "Class 7 IoU: 0.3402\n",
      "Class 8 IoU: 0.2474\n",
      "Class 9 IoU: 0.3015\n",
      "Class 10 IoU: 0.3686\n",
      "Class 11 IoU: 0.2525\n",
      "Class 12 IoU: 0.3373\n"
     ]
    },
    {
     "name": "stderr",
     "output_type": "stream",
     "text": [
      "100%|██████████| 4/4 [00:22<00:00,  5.65s/it]\n"
     ]
    },
    {
     "name": "stdout",
     "output_type": "stream",
     "text": [
      "Class 0 IoU: 0.2068\n",
      "Class 1 IoU: 0.1469\n",
      "Class 2 IoU: 0.1157\n",
      "Class 3 IoU: 0.4365\n",
      "Class 4 IoU: 0.0002\n",
      "Class 5 IoU: 0.1832\n",
      "Class 6 IoU: 0.4515\n",
      "Class 7 IoU: 0.0696\n",
      "Class 8 IoU: 0.1713\n",
      "Class 9 IoU: 0.4314\n",
      "Class 10 IoU: 0.0791\n",
      "Class 11 IoU: 0.1707\n",
      "Class 12 IoU: 0.2954\n",
      "\n",
      "Epoch21\n",
      "Train Loss: 0.6128075586424934, Train mIoU Score: 0.3083\n",
      "Validation Loss: 1.5646776258945465, Validation mIoU Score: 0.2122\n",
      "___________________________________________________________________________________________\n",
      "\n"
     ]
    },
    {
     "name": "stderr",
     "output_type": "stream",
     "text": [
      "100%|██████████| 18/18 [01:21<00:00,  4.53s/it]\n"
     ]
    },
    {
     "name": "stdout",
     "output_type": "stream",
     "text": [
      "Class 0 IoU: 0.3046\n",
      "Class 1 IoU: 0.3167\n",
      "Class 2 IoU: 0.3406\n",
      "Class 3 IoU: 0.2649\n",
      "Class 4 IoU: 0.3379\n",
      "Class 5 IoU: 0.3512\n",
      "Class 6 IoU: 0.3194\n",
      "Class 7 IoU: 0.3521\n",
      "Class 8 IoU: 0.2693\n",
      "Class 9 IoU: 0.3091\n",
      "Class 10 IoU: 0.3831\n",
      "Class 11 IoU: 0.2804\n",
      "Class 12 IoU: 0.3283\n"
     ]
    },
    {
     "name": "stderr",
     "output_type": "stream",
     "text": [
      "100%|██████████| 4/4 [00:22<00:00,  5.66s/it]\n"
     ]
    },
    {
     "name": "stdout",
     "output_type": "stream",
     "text": [
      "Class 0 IoU: 0.2320\n",
      "Class 1 IoU: 0.1385\n",
      "Class 2 IoU: 0.1721\n",
      "Class 3 IoU: 0.4667\n",
      "Class 4 IoU: 0.0012\n",
      "Class 5 IoU: 0.2411\n",
      "Class 6 IoU: 0.4714\n",
      "Class 7 IoU: 0.0844\n",
      "Class 8 IoU: 0.2396\n",
      "Class 9 IoU: 0.4683\n",
      "Class 10 IoU: 0.1031\n",
      "Class 11 IoU: 0.2523\n",
      "Class 12 IoU: 0.3333\n",
      "\n",
      "Epoch22\n",
      "Train Loss: 0.5769284963607788, Train mIoU Score: 0.3198\n",
      "Validation Loss: 0.9994184523820877, Validation mIoU Score: 0.2465\n",
      "___________________________________________________________________________________________\n",
      "\n"
     ]
    },
    {
     "name": "stderr",
     "output_type": "stream",
     "text": [
      "100%|██████████| 18/18 [01:21<00:00,  4.53s/it]\n"
     ]
    },
    {
     "name": "stdout",
     "output_type": "stream",
     "text": [
      "Class 0 IoU: 0.2997\n",
      "Class 1 IoU: 0.3129\n",
      "Class 2 IoU: 0.3501\n",
      "Class 3 IoU: 0.2762\n",
      "Class 4 IoU: 0.3479\n",
      "Class 5 IoU: 0.3566\n",
      "Class 6 IoU: 0.3223\n",
      "Class 7 IoU: 0.3445\n",
      "Class 8 IoU: 0.2784\n",
      "Class 9 IoU: 0.3104\n",
      "Class 10 IoU: 0.3978\n",
      "Class 11 IoU: 0.2816\n",
      "Class 12 IoU: 0.3921\n"
     ]
    },
    {
     "name": "stderr",
     "output_type": "stream",
     "text": [
      "100%|██████████| 4/4 [00:22<00:00,  5.66s/it]\n"
     ]
    },
    {
     "name": "stdout",
     "output_type": "stream",
     "text": [
      "Class 0 IoU: 0.2574\n",
      "Class 1 IoU: 0.1485\n",
      "Class 2 IoU: 0.2030\n",
      "Class 3 IoU: 0.4853\n",
      "Class 4 IoU: 0.0129\n",
      "Class 5 IoU: 0.2868\n",
      "Class 6 IoU: 0.4690\n",
      "Class 7 IoU: 0.1230\n",
      "Class 8 IoU: 0.2642\n",
      "Class 9 IoU: 0.4442\n",
      "Class 10 IoU: 0.1214\n",
      "Class 11 IoU: 0.2558\n",
      "Class 12 IoU: 0.2765\n",
      "\n",
      "Epoch23\n",
      "Train Loss: 0.5695077180862427, Train mIoU Score: 0.3285\n",
      "Validation Loss: 1.0374133884906769, Validation mIoU Score: 0.2575\n",
      "___________________________________________________________________________________________\n",
      "\n"
     ]
    },
    {
     "name": "stderr",
     "output_type": "stream",
     "text": [
      "100%|██████████| 18/18 [01:22<00:00,  4.56s/it]\n"
     ]
    },
    {
     "name": "stdout",
     "output_type": "stream",
     "text": [
      "Class 0 IoU: 0.3152\n",
      "Class 1 IoU: 0.3061\n",
      "Class 2 IoU: 0.3510\n",
      "Class 3 IoU: 0.2924\n",
      "Class 4 IoU: 0.3365\n",
      "Class 5 IoU: 0.3516\n",
      "Class 6 IoU: 0.3032\n",
      "Class 7 IoU: 0.3579\n",
      "Class 8 IoU: 0.3032\n",
      "Class 9 IoU: 0.3291\n",
      "Class 10 IoU: 0.3937\n",
      "Class 11 IoU: 0.2791\n",
      "Class 12 IoU: 0.3536\n"
     ]
    },
    {
     "name": "stderr",
     "output_type": "stream",
     "text": [
      "100%|██████████| 4/4 [00:22<00:00,  5.66s/it]\n"
     ]
    },
    {
     "name": "stdout",
     "output_type": "stream",
     "text": [
      "Class 0 IoU: 0.2711\n",
      "Class 1 IoU: 0.1625\n",
      "Class 2 IoU: 0.2546\n",
      "Class 3 IoU: 0.4968\n",
      "Class 4 IoU: 0.0050\n",
      "Class 5 IoU: 0.3052\n",
      "Class 6 IoU: 0.4925\n",
      "Class 7 IoU: 0.1089\n",
      "Class 8 IoU: 0.2913\n",
      "Class 9 IoU: 0.4673\n",
      "Class 10 IoU: 0.1211\n",
      "Class 11 IoU: 0.2880\n",
      "Class 12 IoU: 0.2991\n",
      "\n",
      "Epoch24\n",
      "Train Loss: 0.5819669034745958, Train mIoU Score: 0.3287\n",
      "Validation Loss: 0.8874920457601547, Validation mIoU Score: 0.2741\n",
      "___________________________________________________________________________________________\n",
      "\n"
     ]
    },
    {
     "name": "stderr",
     "output_type": "stream",
     "text": [
      "100%|██████████| 18/18 [01:21<00:00,  4.54s/it]\n"
     ]
    },
    {
     "name": "stdout",
     "output_type": "stream",
     "text": [
      "Class 0 IoU: 0.3220\n",
      "Class 1 IoU: 0.3113\n",
      "Class 2 IoU: 0.3498\n",
      "Class 3 IoU: 0.2861\n",
      "Class 4 IoU: 0.3528\n",
      "Class 5 IoU: 0.3787\n",
      "Class 6 IoU: 0.3241\n",
      "Class 7 IoU: 0.3631\n",
      "Class 8 IoU: 0.3043\n",
      "Class 9 IoU: 0.3418\n",
      "Class 10 IoU: 0.3912\n",
      "Class 11 IoU: 0.2825\n",
      "Class 12 IoU: 0.3618\n"
     ]
    },
    {
     "name": "stderr",
     "output_type": "stream",
     "text": [
      "100%|██████████| 4/4 [00:22<00:00,  5.65s/it]\n"
     ]
    },
    {
     "name": "stdout",
     "output_type": "stream",
     "text": [
      "Class 0 IoU: 0.3091\n",
      "Class 1 IoU: 0.1513\n",
      "Class 2 IoU: 0.2501\n",
      "Class 3 IoU: 0.5030\n",
      "Class 4 IoU: 0.0170\n",
      "Class 5 IoU: 0.2963\n",
      "Class 6 IoU: 0.4962\n",
      "Class 7 IoU: 0.1431\n",
      "Class 8 IoU: 0.2997\n",
      "Class 9 IoU: 0.4928\n",
      "Class 10 IoU: 0.1256\n",
      "Class 11 IoU: 0.2968\n",
      "Class 12 IoU: 0.3160\n",
      "\n",
      "Epoch25\n",
      "Train Loss: 0.5722774730788337, Train mIoU Score: 0.3361\n",
      "Validation Loss: 0.8493296056985855, Validation mIoU Score: 0.2844\n",
      "___________________________________________________________________________________________\n",
      "\n"
     ]
    },
    {
     "name": "stderr",
     "output_type": "stream",
     "text": [
      "100%|██████████| 18/18 [01:21<00:00,  4.54s/it]\n"
     ]
    },
    {
     "name": "stdout",
     "output_type": "stream",
     "text": [
      "Class 0 IoU: 0.3435\n",
      "Class 1 IoU: 0.3179\n",
      "Class 2 IoU: 0.3671\n",
      "Class 3 IoU: 0.3037\n",
      "Class 4 IoU: 0.3720\n",
      "Class 5 IoU: 0.4037\n",
      "Class 6 IoU: 0.3408\n",
      "Class 7 IoU: 0.3779\n",
      "Class 8 IoU: 0.2947\n",
      "Class 9 IoU: 0.3497\n",
      "Class 10 IoU: 0.4101\n",
      "Class 11 IoU: 0.3159\n",
      "Class 12 IoU: 0.3722\n"
     ]
    },
    {
     "name": "stderr",
     "output_type": "stream",
     "text": [
      "100%|██████████| 4/4 [00:23<00:00,  5.79s/it]\n"
     ]
    },
    {
     "name": "stdout",
     "output_type": "stream",
     "text": [
      "Class 0 IoU: 0.2689\n",
      "Class 1 IoU: 0.1248\n",
      "Class 2 IoU: 0.2292\n",
      "Class 3 IoU: 0.5066\n",
      "Class 4 IoU: 0.0134\n",
      "Class 5 IoU: 0.3083\n",
      "Class 6 IoU: 0.4955\n",
      "Class 7 IoU: 0.1353\n",
      "Class 8 IoU: 0.2850\n",
      "Class 9 IoU: 0.4814\n",
      "Class 10 IoU: 0.1167\n",
      "Class 11 IoU: 0.2752\n",
      "Class 12 IoU: 0.3132\n",
      "\n",
      "Epoch26\n",
      "Train Loss: 0.5473621057139503, Train mIoU Score: 0.3515\n",
      "Validation Loss: 0.8952349871397018, Validation mIoU Score: 0.2733\n",
      "___________________________________________________________________________________________\n",
      "\n"
     ]
    },
    {
     "name": "stderr",
     "output_type": "stream",
     "text": [
      "100%|██████████| 18/18 [01:22<00:00,  4.58s/it]\n"
     ]
    },
    {
     "name": "stdout",
     "output_type": "stream",
     "text": [
      "Class 0 IoU: 0.3392\n",
      "Class 1 IoU: 0.3333\n",
      "Class 2 IoU: 0.3851\n",
      "Class 3 IoU: 0.2960\n",
      "Class 4 IoU: 0.3470\n",
      "Class 5 IoU: 0.3760\n",
      "Class 6 IoU: 0.3099\n",
      "Class 7 IoU: 0.3449\n",
      "Class 8 IoU: 0.2929\n",
      "Class 9 IoU: 0.3207\n",
      "Class 10 IoU: 0.3888\n",
      "Class 11 IoU: 0.2906\n",
      "Class 12 IoU: 0.3754\n"
     ]
    },
    {
     "name": "stderr",
     "output_type": "stream",
     "text": [
      "100%|██████████| 4/4 [00:22<00:00,  5.61s/it]\n"
     ]
    },
    {
     "name": "stdout",
     "output_type": "stream",
     "text": [
      "Class 0 IoU: 0.2726\n",
      "Class 1 IoU: 0.1507\n",
      "Class 2 IoU: 0.2923\n",
      "Class 3 IoU: 0.5067\n",
      "Class 4 IoU: 0.0015\n",
      "Class 5 IoU: 0.3590\n",
      "Class 6 IoU: 0.4909\n",
      "Class 7 IoU: 0.1105\n",
      "Class 8 IoU: 0.3536\n",
      "Class 9 IoU: 0.4896\n",
      "Class 10 IoU: 0.1249\n",
      "Class 11 IoU: 0.3504\n",
      "Class 12 IoU: 0.3132\n",
      "\n",
      "Epoch27\n",
      "Train Loss: 0.592484047015508, Train mIoU Score: 0.3385\n",
      "Validation Loss: 0.6998623609542847, Validation mIoU Score: 0.2935\n",
      "___________________________________________________________________________________________\n",
      "\n"
     ]
    },
    {
     "name": "stderr",
     "output_type": "stream",
     "text": [
      "100%|██████████| 18/18 [01:24<00:00,  4.69s/it]\n"
     ]
    },
    {
     "name": "stdout",
     "output_type": "stream",
     "text": [
      "Class 0 IoU: 0.3148\n",
      "Class 1 IoU: 0.3135\n",
      "Class 2 IoU: 0.3498\n",
      "Class 3 IoU: 0.3025\n",
      "Class 4 IoU: 0.3591\n",
      "Class 5 IoU: 0.3923\n",
      "Class 6 IoU: 0.3299\n",
      "Class 7 IoU: 0.3654\n",
      "Class 8 IoU: 0.2981\n",
      "Class 9 IoU: 0.3294\n",
      "Class 10 IoU: 0.4014\n",
      "Class 11 IoU: 0.3194\n",
      "Class 12 IoU: 0.3666\n"
     ]
    },
    {
     "name": "stderr",
     "output_type": "stream",
     "text": [
      "100%|██████████| 4/4 [00:23<00:00,  5.94s/it]\n"
     ]
    },
    {
     "name": "stdout",
     "output_type": "stream",
     "text": [
      "Class 0 IoU: 0.2829\n",
      "Class 1 IoU: 0.1537\n",
      "Class 2 IoU: 0.2795\n",
      "Class 3 IoU: 0.5109\n",
      "Class 4 IoU: 0.0172\n",
      "Class 5 IoU: 0.3588\n",
      "Class 6 IoU: 0.4940\n",
      "Class 7 IoU: 0.1433\n",
      "Class 8 IoU: 0.3213\n",
      "Class 9 IoU: 0.4666\n",
      "Class 10 IoU: 0.1344\n",
      "Class 11 IoU: 0.3122\n",
      "Class 12 IoU: 0.3044\n",
      "\n",
      "Epoch28\n",
      "Train Loss: 0.5761889417966207, Train mIoU Score: 0.3417\n",
      "Validation Loss: 0.7283812463283539, Validation mIoU Score: 0.2907\n",
      "___________________________________________________________________________________________\n",
      "\n"
     ]
    },
    {
     "name": "stderr",
     "output_type": "stream",
     "text": [
      "100%|██████████| 18/18 [01:24<00:00,  4.69s/it]\n"
     ]
    },
    {
     "name": "stdout",
     "output_type": "stream",
     "text": [
      "Class 0 IoU: 0.3495\n",
      "Class 1 IoU: 0.3345\n",
      "Class 2 IoU: 0.3591\n",
      "Class 3 IoU: 0.2916\n",
      "Class 4 IoU: 0.3674\n",
      "Class 5 IoU: 0.3934\n",
      "Class 6 IoU: 0.3440\n",
      "Class 7 IoU: 0.3776\n",
      "Class 8 IoU: 0.3035\n",
      "Class 9 IoU: 0.3283\n",
      "Class 10 IoU: 0.4108\n",
      "Class 11 IoU: 0.2933\n",
      "Class 12 IoU: 0.3858\n"
     ]
    },
    {
     "name": "stderr",
     "output_type": "stream",
     "text": [
      "100%|██████████| 4/4 [00:23<00:00,  5.90s/it]\n"
     ]
    },
    {
     "name": "stdout",
     "output_type": "stream",
     "text": [
      "Class 0 IoU: 0.3251\n",
      "Class 1 IoU: 0.1540\n",
      "Class 2 IoU: 0.3239\n",
      "Class 3 IoU: 0.5307\n",
      "Class 4 IoU: 0.0103\n",
      "Class 5 IoU: 0.3608\n",
      "Class 6 IoU: 0.5045\n",
      "Class 7 IoU: 0.1602\n",
      "Class 8 IoU: 0.3279\n",
      "Class 9 IoU: 0.4831\n",
      "Class 10 IoU: 0.1572\n",
      "Class 11 IoU: 0.3358\n",
      "Class 12 IoU: 0.3202\n",
      "\n",
      "Epoch29\n",
      "Train Loss: 0.550187369187673, Train mIoU Score: 0.3491\n",
      "Validation Loss: 0.6483046114444733, Validation mIoU Score: 0.3072\n",
      "___________________________________________________________________________________________\n",
      "\n"
     ]
    },
    {
     "name": "stderr",
     "output_type": "stream",
     "text": [
      "100%|██████████| 18/18 [01:23<00:00,  4.65s/it]\n"
     ]
    },
    {
     "name": "stdout",
     "output_type": "stream",
     "text": [
      "Class 0 IoU: 0.3506\n",
      "Class 1 IoU: 0.3298\n",
      "Class 2 IoU: 0.3734\n",
      "Class 3 IoU: 0.3218\n",
      "Class 4 IoU: 0.3673\n",
      "Class 5 IoU: 0.4116\n",
      "Class 6 IoU: 0.3321\n",
      "Class 7 IoU: 0.3855\n",
      "Class 8 IoU: 0.3121\n",
      "Class 9 IoU: 0.3465\n",
      "Class 10 IoU: 0.4122\n",
      "Class 11 IoU: 0.3264\n",
      "Class 12 IoU: 0.4392\n"
     ]
    },
    {
     "name": "stderr",
     "output_type": "stream",
     "text": [
      "100%|██████████| 4/4 [00:23<00:00,  5.91s/it]"
     ]
    },
    {
     "name": "stdout",
     "output_type": "stream",
     "text": [
      "Class 0 IoU: 0.2998\n",
      "Class 1 IoU: 0.1428\n",
      "Class 2 IoU: 0.2780\n",
      "Class 3 IoU: 0.5041\n",
      "Class 4 IoU: 0.0193\n",
      "Class 5 IoU: 0.3000\n",
      "Class 6 IoU: 0.5066\n",
      "Class 7 IoU: 0.1549\n",
      "Class 8 IoU: 0.3082\n",
      "Class 9 IoU: 0.4870\n",
      "Class 10 IoU: 0.1448\n",
      "Class 11 IoU: 0.3060\n",
      "Class 12 IoU: 0.3055\n",
      "\n",
      "Epoch30\n",
      "Train Loss: 0.5245446115732193, Train mIoU Score: 0.3622\n",
      "Validation Loss: 0.7703502774238586, Validation mIoU Score: 0.2890\n",
      "___________________________________________________________________________________________\n",
      "\n"
     ]
    },
    {
     "name": "stderr",
     "output_type": "stream",
     "text": [
      "\n"
     ]
    },
    {
     "data": {
      "text/html": [
       "Waiting for W&B process to finish... <strong style=\"color:green\">(success).</strong>"
      ],
      "text/plain": [
       "<IPython.core.display.HTML object>"
      ]
     },
     "metadata": {},
     "output_type": "display_data"
    },
    {
     "name": "stderr",
     "output_type": "stream",
     "text": [
      "wandb: WARNING Source type is set to 'repo' but some required information is missing from the environment. A job will not be created from this run. See https://docs.wandb.ai/guides/launch/create-job\n"
     ]
    },
    {
     "data": {
      "text/html": [
       "<style>\n",
       "    table.wandb td:nth-child(1) { padding: 0 10px; text-align: left ; width: auto;} td:nth-child(2) {text-align: left ; width: 100%}\n",
       "    .wandb-row { display: flex; flex-direction: row; flex-wrap: wrap; justify-content: flex-start; width: 100% }\n",
       "    .wandb-col { display: flex; flex-direction: column; flex-basis: 100%; flex: 1; padding: 10px; }\n",
       "    </style>\n",
       "<div class=\"wandb-row\"><div class=\"wandb-col\"><h3>Run history:</h3><br/><table class=\"wandb\"><tr><td>train loss</td><td>█▇▇▇▆▅▅▄▃▃▃▂▂▂▂▂▁▁▁▁▁▁▁▁▁▁▁▁▁▁</td></tr><tr><td>train score</td><td>▁▁▁▁▂▂▂▃▅▅▅▅▆▆▇▇▇▇▇▇▇▇▇▇▇█████</td></tr><tr><td>val loss</td><td>█▇▇▇▆▅▅▄▃▂▂▂▃▂▁▂▁▁▁▄▄▂▂▂▂▂▁▁▁▁</td></tr><tr><td>val score</td><td>▁▁▁▁▂▂▂▄▅▆▆▆▆▇▇▇▇█▇▆▆▇▇▇▇▇████</td></tr></table><br/></div><div class=\"wandb-col\"><h3>Run summary:</h3><br/><table class=\"wandb\"><tr><td>train loss</td><td>9.4418</td></tr><tr><td>train score</td><td>0.36221</td></tr><tr><td>val loss</td><td>3.0814</td></tr><tr><td>val score</td><td>0.289</td></tr></table><br/></div></div>"
      ],
      "text/plain": [
       "<IPython.core.display.HTML object>"
      ]
     },
     "metadata": {},
     "output_type": "display_data"
    },
    {
     "data": {
      "text/html": [
       " View run <strong style=\"color:#cdcd00\">sunny-wood-2</strong> at: <a href='https://wandb.ai/limbw/practice_09_29/runs/ovikct6x' target=\"_blank\">https://wandb.ai/limbw/practice_09_29/runs/ovikct6x</a><br/>Synced 6 W&B file(s), 0 media file(s), 0 artifact file(s) and 0 other file(s)"
      ],
      "text/plain": [
       "<IPython.core.display.HTML object>"
      ]
     },
     "metadata": {},
     "output_type": "display_data"
    },
    {
     "data": {
      "text/html": [
       "Find logs at: <code>./wandb/run-20230929_204827-ovikct6x/logs</code>"
      ],
      "text/plain": [
       "<IPython.core.display.HTML object>"
      ]
     },
     "metadata": {},
     "output_type": "display_data"
    }
   ],
   "source": [
    "import wandb\n",
    "import random\n",
    "\n",
    "\n",
    "wandb.init(\n",
    "    # set the wandb project where this run will be logged\n",
    "    project=\"practice_09_29\",\n",
    "    \n",
    "    # track hyperparameters and run metadata\n",
    "    config={\n",
    "    \"learning_rate\": lr,\n",
    "    \"architecture\": \"CNN\",\n",
    "    \"dataset\": \"Samsung\",\n",
    "    \"epochs\": EP,\n",
    "    }\n",
    ")\n",
    "\n",
    "for epoch in range(EP):  # 5 에폭 동안 학습합니다.\n",
    "          \n",
    "    # 클래스별 IoU를 누적할 리스트 초기화\n",
    "    train_class_ious = []\n",
    "    \n",
    "    # 학습\n",
    "    model.train()\n",
    "    epoch_loss = 0\n",
    "    \n",
    "    for images, masks in tqdm(dataloader):\n",
    "        images = images.float().to(device)\n",
    "        masks = masks.long().to(device)\n",
    "\n",
    "        optimizer.zero_grad()\n",
    "        outputs = model(images)\n",
    "        loss = criterion(outputs, masks.squeeze(1))\n",
    "        loss.backward()\n",
    "        optimizer.step()\n",
    "\n",
    "        epoch_loss += loss.item()\n",
    "\n",
    "        # train 클래스별 IoU 계산\n",
    "        outputs = torch.softmax(outputs, dim=1).cpu()\n",
    "        outputs = torch.argmax(outputs, dim=1).numpy()\n",
    "\n",
    "        for class_id in range(N_CLASSES):\n",
    "            iou = calculate_iou_per_class(np.array(masks.cpu()), np.array(outputs), class_id)\n",
    "            train_class_ious.append(iou)\n",
    "            \n",
    "    train_class_ious = np.array(train_class_ious).reshape(N_CLASSES, -1)\n",
    "    #print(np.shape(train_class_ious))\n",
    "    train_class_ious = np.mean(train_class_ious, axis=1)\n",
    "    #print(train_class_ious)\n",
    "    \n",
    "    for class_id, iou in enumerate(train_class_ious):\n",
    "        print(f'Class {class_id} IoU: {iou:.4f}')\n",
    "     \n",
    "        \n",
    "    # mIoU 계산\n",
    "    train_mIoU = np.mean(train_class_ious)\n",
    "    \n",
    "\n",
    "    # validation\n",
    "    val_loss = 0\n",
    "    val_class_ious = []  # 클래스별 IoU를 누적할 리스트 초기화\n",
    "    with torch.no_grad():\n",
    "        model.eval()\n",
    "        for images, masks in tqdm(valid_dataloader):\n",
    "            images = images.float().to(device)\n",
    "            masks = masks.long().to(device)\n",
    "            outputs = model(images)\n",
    "\n",
    "            # validation loss 계산\n",
    "            val_loss += criterion(outputs, masks.squeeze(1)).item()\n",
    "\n",
    "            # validation 클래스별 IoU 계산\n",
    "            outputs = torch.softmax(outputs, dim=1).cpu()\n",
    "            outputs = torch.argmax(outputs, dim=1).numpy()\n",
    "\n",
    "            for class_id in range(N_CLASSES):\n",
    "                iou = calculate_iou_per_class(np.array(masks.cpu()), np.array(outputs), class_id)\n",
    "                val_class_ious.append(iou)\n",
    "                \n",
    "    val_class_ious = np.array(val_class_ious).reshape(N_CLASSES, -1)\n",
    "    val_class_ious = np.mean(val_class_ious, axis=1)\n",
    "    \n",
    "    for class_id, iou in enumerate(val_class_ious):\n",
    "        print(f'Class {class_id} IoU: {iou:.4f}')       \n",
    "   \n",
    "    # mIoU 계산\n",
    "    val_mIoU = np.mean(val_class_ious)\n",
    "    \n",
    "    # 에폭마다 결과 출력\n",
    "    print(f\"\\nEpoch{epoch+1}\")\n",
    "    print(f\"Train Loss: {epoch_loss/len(dataloader)}, Train mIoU Score: {train_mIoU:.4f}\")\n",
    "    print(f\"Validation Loss: {val_loss/len(valid_dataloader)}, Validation mIoU Score: {val_mIoU:.4f}\")\n",
    "    print(\"___________________________________________________________________________________________\\n\")\n",
    "    \n",
    "    # log metrics to wandb\n",
    "    wandb.log({\"train score\": train_mIoU, \"train loss\": epoch_loss})\n",
    "    wandb.log({\"val score\": val_mIoU, \"val loss\": val_loss})\n",
    "    \n",
    "    \n",
    "# [optional] finish the wandb run, necessary in notebooks\n",
    "wandb.finish()\n"
   ]
  },
  {
   "attachments": {},
   "cell_type": "markdown",
   "id": "c32eb51c-a3fe-4e11-a616-3a717ba16f7e",
   "metadata": {},
   "source": [
    "## Inference"
   ]
  },
  {
   "cell_type": "code",
   "execution_count": 12,
   "id": "12371c8b-0c78-47df-89ec-2d8b55c8ea94",
   "metadata": {},
   "outputs": [],
   "source": [
    "# test_dataset = CustomDataset(csv_file='./test.csv', transform=transform, infer=True)\n",
    "# test_dataloader = DataLoader(test_dataset, batch_size=16, shuffle=False, num_workers=4)"
   ]
  },
  {
   "cell_type": "code",
   "execution_count": 13,
   "id": "355b431c-ac8e-4c40-9046-4d53e4bab14a",
   "metadata": {},
   "outputs": [],
   "source": [
    "# with torch.no_grad():\n",
    "#     model.eval()\n",
    "#     result = []\n",
    "#     for images in tqdm(test_dataloader):\n",
    "#         images = images.float().to(device)\n",
    "#         outputs = model(images)\n",
    "#         outputs = torch.softmax(outputs, dim=1).cpu()\n",
    "#         outputs = torch.argmax(outputs, dim=1).numpy()\n",
    "#         # batch에 존재하는 각 이미지에 대해서 반복\n",
    "#         for pred in outputs:\n",
    "#             pred = pred.astype(np.uint8)\n",
    "#             pred = Image.fromarray(pred) # 이미지로 변환\n",
    "#             pred = pred.resize((960, 540), Image.NEAREST) # 960 x 540 사이즈로 변환\n",
    "#             pred = np.array(pred) # 다시 수치로 변환\n",
    "#             # class 0 ~ 11에 해당하는 경우에 마스크 형성 / 12(배경)는 제외하고 진행\n",
    "#             for class_id in range(12):\n",
    "#                 class_mask = (pred == class_id).astype(np.uint8)\n",
    "#                 if np.sum(class_mask) > 0: # 마스크가 존재하는 경우 encode\n",
    "#                     mask_rle = rle_encode(class_mask)\n",
    "#                     result.append(mask_rle)\n",
    "#                 else: # 마스크가 존재하지 않는 경우 -1\n",
    "#                     result.append(-1)\n",
    "        "
   ]
  },
  {
   "attachments": {},
   "cell_type": "markdown",
   "id": "36c2cbbb-04f1-4f9c-b4df-4b744dfce046",
   "metadata": {},
   "source": [
    "## Submission"
   ]
  },
  {
   "cell_type": "code",
   "execution_count": 14,
   "id": "35ac2a0b",
   "metadata": {},
   "outputs": [],
   "source": [
    "# submit = pd.read_csv('./sample_submission.csv')\n",
    "# submit['mask_rle'] = result\n",
    "# submit"
   ]
  },
  {
   "cell_type": "code",
   "execution_count": 15,
   "id": "da10cb6f-0826-4755-a376-97b695ae8f86",
   "metadata": {},
   "outputs": [],
   "source": [
    "# submit.to_csv('./baseline_submit.csv', index=False)"
   ]
  }
 ],
 "metadata": {
  "kernelspec": {
   "display_name": "seungyoon2",
   "language": "python",
   "name": "python3"
  },
  "language_info": {
   "codemirror_mode": {
    "name": "ipython",
    "version": 3
   },
   "file_extension": ".py",
   "mimetype": "text/x-python",
   "name": "python",
   "nbconvert_exporter": "python",
   "pygments_lexer": "ipython3",
   "version": "3.8.17"
  }
 },
 "nbformat": 4,
 "nbformat_minor": 5
}
