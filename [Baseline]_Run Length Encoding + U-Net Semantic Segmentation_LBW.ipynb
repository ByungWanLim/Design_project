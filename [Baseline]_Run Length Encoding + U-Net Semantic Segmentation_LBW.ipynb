{
 "cells": [
  {
   "attachments": {},
   "cell_type": "markdown",
   "id": "d73d24e3-5c9e-4ade-9e6e-ca6f46a2d914",
   "metadata": {},
   "source": [
    "## Import"
   ]
  },
  {
   "cell_type": "code",
   "execution_count": 10,
   "id": "3db653c7",
   "metadata": {},
   "outputs": [
    {
     "name": "stdout",
     "output_type": "stream",
     "text": [
      "2\n"
     ]
    }
   ],
   "source": [
    "import os\n",
    "os.environ['CUDA_VISIBLE_DEVICES'] = '2'\n",
    "print(os.environ.get('CUDA_VISIBLE_DEVICES'))"
   ]
  },
  {
   "cell_type": "code",
   "execution_count": 11,
   "id": "ad9b681e-370a-4cfa-a452-dd2d7f0cd77f",
   "metadata": {},
   "outputs": [
    {
     "name": "stdout",
     "output_type": "stream",
     "text": [
      "cuda\n"
     ]
    }
   ],
   "source": [
    "import os\n",
    "import cv2\n",
    "from PIL import Image\n",
    "import pandas as pd\n",
    "import numpy as np\n",
    "\n",
    "import torch\n",
    "import torch.nn as nn\n",
    "from torch.utils.data import Dataset, DataLoader\n",
    "from torchvision import transforms\n",
    "\n",
    "from tqdm import tqdm\n",
    "import albumentations as A\n",
    "from albumentations.pytorch import ToTensorV2\n",
    "\n",
    "device = torch.device('cuda' if torch.cuda.is_available() else 'cpu')\n",
    "print(device)\n",
    "\n",
    "\n",
    "# CUDA 장치 사용 가능 여부 확인\n",
    "if torch.cuda.is_available():\n",
    "    torch.backends.cudnn.enabled = True\n",
    "    torch.backends.cudnn.benchmark = True"
   ]
  },
  {
   "attachments": {},
   "cell_type": "markdown",
   "id": "20ff3de5-0d0e-497b-ac75-d5179a3f65d3",
   "metadata": {},
   "source": [
    "## Utils"
   ]
  },
  {
   "cell_type": "code",
   "execution_count": 12,
   "id": "838e1d83-8670-407b-82f6-bf9652f58639",
   "metadata": {},
   "outputs": [],
   "source": [
    "# RLE 인코딩 함수\n",
    "def rle_encode(mask):\n",
    "    pixels = mask.flatten()\n",
    "    pixels = np.concatenate([[0], pixels, [0]])\n",
    "    runs = np.where(pixels[1:] != pixels[:-1])[0] + 1\n",
    "    runs[1::2] -= runs[::2]\n",
    "    return ' '.join(str(x) for x in runs)"
   ]
  },
  {
   "attachments": {},
   "cell_type": "markdown",
   "id": "be76a29e-e9c2-411a-a569-04166f074184",
   "metadata": {},
   "source": [
    "## Custom Dataset"
   ]
  },
  {
   "cell_type": "code",
   "execution_count": 13,
   "id": "a8496767-2f64-4285-bec4-c6f53a1fd9d2",
   "metadata": {},
   "outputs": [],
   "source": [
    "class CustomDataset(Dataset):\n",
    "    def __init__(self, csv_file, transform=None, infer=False):\n",
    "        self.data = pd.read_csv(csv_file)\n",
    "        self.transform = transform\n",
    "        self.infer = infer\n",
    "\n",
    "    def __len__(self):\n",
    "        return len(self.data)\n",
    "\n",
    "    def __getitem__(self, idx):\n",
    "        directory_path = \"/mnt/nas27/Dataset/Samsung_DM\"\n",
    "        img_path = self.data.iloc[idx, 1]\n",
    "        img_path = os.path.join(directory_path, img_path[2:])\n",
    "        image = cv2.imread(img_path)\n",
    "        image = cv2.cvtColor(image, cv2.COLOR_BGR2RGB)\n",
    "        #image = cv2.cvtColor(image, cv2.COLOR_BGR2GRAY)\n",
    "        \n",
    "        if self.infer:\n",
    "            if self.transform:\n",
    "                image = self.transform(image=image)['image']\n",
    "            return image\n",
    "        \n",
    "        mask_path = self.data.iloc[idx, 2]\n",
    "        mask_path = os.path.join(directory_path, mask_path[2:])\n",
    "        mask = cv2.imread(mask_path)\n",
    "        #mask = cv2.cvtColor(mask, cv2.COLOR_BGR2RGB)\n",
    "        mask = cv2.cvtColor(mask, cv2.COLOR_BGR2GRAY)\n",
    "        mask[mask == 255] = 12 #배경을 픽셀값 12로 간주\n",
    "\n",
    "        if self.transform:\n",
    "            augmented = self.transform(image=image, mask=mask)\n",
    "            image = augmented['image']\n",
    "            mask = augmented['mask']\n",
    "\n",
    "        return image, mask"
   ]
  },
  {
   "attachments": {},
   "cell_type": "markdown",
   "id": "dc955893-22fd-4320-88be-7aa0d790cbd9",
   "metadata": {},
   "source": [
    "## Data Loader"
   ]
  },
  {
   "cell_type": "code",
   "execution_count": 14,
   "id": "1b708503-2ff9-4584-9d73-40990b3572f8",
   "metadata": {},
   "outputs": [],
   "source": [
    "transform = A.Compose(\n",
    "    [   \n",
    "        #A.Resize(224, 224),\n",
    "        A.Resize(256, 256),\n",
    "        A.Normalize(),\n",
    "        ToTensorV2()\n",
    "    ]\n",
    ")\n",
    "\n",
    "dataset = CustomDataset(csv_file=os.path.join(\"/mnt/nas27/Dataset/Samsung_DM\",'./train_source.csv'), transform=transform)\n",
    "dataloader = DataLoader(dataset, batch_size=32, shuffle=True, num_workers=4)\n",
    "valid_dataset = CustomDataset(csv_file=os.path.join(\"/mnt/nas27/Dataset/Samsung_DM\",'./val_source.csv'), transform=transform)\n",
    "valid_dataloader = DataLoader(valid_dataset, batch_size=32, shuffle=False, num_workers=4)"
   ]
  },
  {
   "attachments": {},
   "cell_type": "markdown",
   "id": "f42501fc-b573-4893-a7c4-5e280dfdaf09",
   "metadata": {},
   "source": [
    "## Define Model"
   ]
  },
  {
   "cell_type": "code",
   "execution_count": 15,
   "id": "65960bfb-803a-4c40-b713-6f647779e4ea",
   "metadata": {},
   "outputs": [],
   "source": [
    "# U-Net의 기본 구성 요소인 Double Convolution Block을 정의합니다.\n",
    "def double_conv(in_channels, out_channels):\n",
    "    return nn.Sequential(\n",
    "        nn.Conv2d(in_channels, out_channels, 3, padding=1),\n",
    "        nn.ReLU(inplace=True),\n",
    "        nn.Conv2d(out_channels, out_channels, 3, padding=1),\n",
    "        nn.ReLU(inplace=True)\n",
    "    )\n",
    "\n",
    "# 간단한 U-Net 모델 정의\n",
    "class UNet(nn.Module):\n",
    "    def __init__(self):\n",
    "        super(UNet, self).__init__()\n",
    "        self.dconv_down1 = double_conv(3, 64)\n",
    "        self.dconv_down2 = double_conv(64, 128)\n",
    "        self.dconv_down3 = double_conv(128, 256)\n",
    "        self.dconv_down4 = double_conv(256, 512)\n",
    "\n",
    "        self.maxpool = nn.MaxPool2d(2)\n",
    "        self.upsample = nn.Upsample(scale_factor=2, mode='bilinear', align_corners=True)\n",
    "\n",
    "        self.dconv_up3 = double_conv(256 + 512, 256)\n",
    "        self.dconv_up2 = double_conv(128 + 256, 128)\n",
    "        self.dconv_up1 = double_conv(128 + 64, 64)\n",
    "\n",
    "        self.conv_last = nn.Conv2d(64, 13, 1) # 12개 class + 1 background\n",
    "\n",
    "    def forward(self, x):\n",
    "        conv1 = self.dconv_down1(x)\n",
    "        x = self.maxpool(conv1)\n",
    "\n",
    "        conv2 = self.dconv_down2(x)\n",
    "        x = self.maxpool(conv2)\n",
    "\n",
    "        conv3 = self.dconv_down3(x)\n",
    "        x = self.maxpool(conv3)   \n",
    "\n",
    "        x = self.dconv_down4(x)\n",
    "\n",
    "        x = self.upsample(x)        \n",
    "        x = torch.cat([x, conv3], dim=1)\n",
    "\n",
    "        x = self.dconv_up3(x)\n",
    "        x = self.upsample(x)        \n",
    "        x = torch.cat([x, conv2], dim=1)\n",
    "\n",
    "        x = self.dconv_up2(x)\n",
    "        x = self.upsample(x)        \n",
    "        x = torch.cat([x, conv1], dim=1)\n",
    "\n",
    "        x = self.dconv_up1(x)\n",
    "\n",
    "        out = self.conv_last(x)\n",
    "\n",
    "        return out"
   ]
  },
  {
   "attachments": {},
   "cell_type": "markdown",
   "id": "a0895765-fba0-4fd9-b955-a6c0e43012e9",
   "metadata": {},
   "source": [
    "## Model Train"
   ]
  },
  {
   "cell_type": "code",
   "execution_count": 16,
   "id": "63efb381-98c6-4d9b-a3b6-bd11c7fa8c41",
   "metadata": {},
   "outputs": [],
   "source": [
    "# # model 초기화\n",
    "# model = UNet().to(device)\n",
    "\n",
    "# # loss function과 optimizer 정의\n",
    "# criterion = torch.nn.CrossEntropyLoss()\n",
    "# optimizer = torch.optim.Adam(model.parameters(), lr=0.001)\n",
    "\n",
    "# # training loop\n",
    "# for epoch in tqdm(range(20)):  # 20 에폭 동안 학습합니다.\n",
    "#     model.train()\n",
    "#     epoch_loss = 0\n",
    "#     for images, masks in tqdm(dataloader):\n",
    "#         images = images.float().to(device)\n",
    "#         masks = masks.long().to(device)\n",
    "\n",
    "#         optimizer.zero_grad()\n",
    "#         outputs = model(images)\n",
    "#         loss = criterion(outputs, masks.squeeze(1))\n",
    "#         loss.backward()\n",
    "#         optimizer.step()\n",
    "\n",
    "#         epoch_loss += loss.item()\n",
    "\n",
    "#     print(f'Epoch {epoch+1}, Loss: {epoch_loss/len(dataloader)}')"
   ]
  },
  {
   "cell_type": "markdown",
   "id": "da4c8bbb",
   "metadata": {},
   "source": [
    "# Validation"
   ]
  },
  {
   "cell_type": "code",
   "execution_count": 17,
   "id": "574ecd19",
   "metadata": {},
   "outputs": [],
   "source": [
    "# valid_dataset = CustomDataset(csv_file='./val_source.csv', transform=transform, infer=True)\n",
    "# valid_dataloader = DataLoader(valid_dataset, batch_size=16, shuffle=False, num_workers=4)\n",
    "\n",
    "# # 클래스(레이블) 수\n",
    "# num_classes = 12\n",
    "\n",
    "# # 클래스별 IoU를 계산하기 위한 함수\n",
    "# def calculate_iou_per_class(y_true, y_pred, class_id):\n",
    "#     intersection = np.sum((y_true == class_id) & (y_pred == class_id))\n",
    "#     union = np.sum((y_true == class_id) | (y_pred == class_id))\n",
    "#     iou = intersection / union if union > 0 else 0\n",
    "#     return iou\n",
    "\n",
    "# with torch.no_grad():\n",
    "#     model.eval()\n",
    "#     result = []\n",
    "#     valid_true = []\n",
    "#     for images, masks in tqdm(valid_dataloader):\n",
    "#         images = images.float().to(device)\n",
    "#         outputs = model(images)\n",
    "#         outputs = torch.softmax(outputs, dim=1).cpu()\n",
    "#         outputs = torch.argmax(outputs, dim=1).numpy()\n",
    "#         # 클래스별 IoU를 계산하고 기록\n",
    "#         class_ious = []\n",
    "#         for class_id in range(num_classes):\n",
    "#             iou = calculate_iou_per_class(masks, np.array(outputs), class_id)\n",
    "#             class_ious.append(iou)\n",
    "#         # batch에 존재하는 각 이미지에 대해서 반복\n",
    "#         for pred in outputs:\n",
    "#             pred = pred.astype(np.uint8)\n",
    "#             pred = Image.fromarray(pred) # 이미지로 변환\n",
    "#             pred = pred.resize((960, 540), Image.NEAREST) # 960 x 540 사이즈로 변환\n",
    "#             pred = np.array(pred) # 다시 수치로 변환\n",
    "#             # class 0 ~ 11에 해당하는 경우에 마스크 형성 / 12(배경)는 제외하고 진행\n",
    "#             for class_id in range(12):\n",
    "#                 class_mask = (pred == class_id).astype(np.uint8)\n",
    "#                 if np.sum(class_mask) > 0: # 마스크가 존재하는 경우 encode\n",
    "#                     mask_rle = rle_encode(class_mask)\n",
    "#                     result.append(mask_rle)\n",
    "#                 else: # 마스크가 존재하지 않는 경우 -1\n",
    "#                     result.append(-1)\n",
    "#         # Validation 데이터셋의 정답 이미지를 로드하여 mIoU 계산\n",
    "\n",
    "\n",
    "# # 클래스별 IoU 출력\n",
    "# for class_id, iou in enumerate(class_ious):\n",
    "#     print(f'Class {class_id} IoU: {iou:.4f}')\n",
    "\n",
    "# # mIoU 계산\n",
    "# mIoU = np.mean(class_ious)\n",
    "# print(f\"mIoU Score: {mIoU:.4f}\")"
   ]
  },
  {
   "cell_type": "code",
   "execution_count": 18,
   "id": "75d5112b",
   "metadata": {},
   "outputs": [
    {
     "data": {
      "text/html": [
       "Finishing last run (ID:sscnrb99) before initializing another..."
      ],
      "text/plain": [
       "<IPython.core.display.HTML object>"
      ]
     },
     "metadata": {},
     "output_type": "display_data"
    },
    {
     "data": {
      "text/html": [
       "Waiting for W&B process to finish... <strong style=\"color:green\">(success).</strong>"
      ],
      "text/plain": [
       "<IPython.core.display.HTML object>"
      ]
     },
     "metadata": {},
     "output_type": "display_data"
    },
    {
     "name": "stderr",
     "output_type": "stream",
     "text": [
      "wandb: WARNING Source type is set to 'repo' but some required information is missing from the environment. A job will not be created from this run. See https://docs.wandb.ai/guides/launch/create-job\n"
     ]
    },
    {
     "data": {
      "text/html": [
       "<style>\n",
       "    table.wandb td:nth-child(1) { padding: 0 10px; text-align: left ; width: auto;} td:nth-child(2) {text-align: left ; width: 100%}\n",
       "    .wandb-row { display: flex; flex-direction: row; flex-wrap: wrap; justify-content: flex-start; width: 100% }\n",
       "    .wandb-col { display: flex; flex-direction: column; flex-basis: 100%; flex: 1; padding: 10px; }\n",
       "    </style>\n",
       "<div class=\"wandb-row\"><div class=\"wandb-col\"><h3>Run history:</h3><br/><table class=\"wandb\"><tr><td>Loss1</td><td>█▄▃▂▂▁▁</td></tr><tr><td>Loss2</td><td>█▆▂▂▃▃▁</td></tr><tr><td>Train Score</td><td>▁▃▄▅▆▇█</td></tr><tr><td>Validation Score</td><td>▁▂▆▆▇▇█</td></tr></table><br/></div><div class=\"wandb-col\"><h3>Run summary:</h3><br/><table class=\"wandb\"><tr><td>Loss1</td><td>0.35027</td></tr><tr><td>Loss2</td><td>0.63945</td></tr><tr><td>Train Score</td><td>0.44631</td></tr><tr><td>Validation Score</td><td>0.31592</td></tr></table><br/></div></div>"
      ],
      "text/plain": [
       "<IPython.core.display.HTML object>"
      ]
     },
     "metadata": {},
     "output_type": "display_data"
    },
    {
     "data": {
      "text/html": [
       " View run <strong style=\"color:#cdcd00\">magic-water-31</strong> at: <a href='https://wandb.ai/limbw/Design_PJ/runs/sscnrb99' target=\"_blank\">https://wandb.ai/limbw/Design_PJ/runs/sscnrb99</a><br/>Synced 6 W&B file(s), 0 media file(s), 0 artifact file(s) and 0 other file(s)"
      ],
      "text/plain": [
       "<IPython.core.display.HTML object>"
      ]
     },
     "metadata": {},
     "output_type": "display_data"
    },
    {
     "data": {
      "text/html": [
       "Find logs at: <code>./wandb/run-20230927_192104-sscnrb99/logs</code>"
      ],
      "text/plain": [
       "<IPython.core.display.HTML object>"
      ]
     },
     "metadata": {},
     "output_type": "display_data"
    },
    {
     "data": {
      "text/html": [
       "Successfully finished last run (ID:sscnrb99). Initializing new run:<br/>"
      ],
      "text/plain": [
       "<IPython.core.display.HTML object>"
      ]
     },
     "metadata": {},
     "output_type": "display_data"
    },
    {
     "data": {
      "text/html": [
       "wandb version 0.15.11 is available!  To upgrade, please run:\n",
       " $ pip install wandb --upgrade"
      ],
      "text/plain": [
       "<IPython.core.display.HTML object>"
      ]
     },
     "metadata": {},
     "output_type": "display_data"
    },
    {
     "data": {
      "text/html": [
       "Tracking run with wandb version 0.15.10"
      ],
      "text/plain": [
       "<IPython.core.display.HTML object>"
      ]
     },
     "metadata": {},
     "output_type": "display_data"
    },
    {
     "data": {
      "text/html": [
       "Run data is saved locally in <code>/home/MMI24limbyungwan/Design_Project/Design_project/wandb/run-20230927_193428-io52y4n0</code>"
      ],
      "text/plain": [
       "<IPython.core.display.HTML object>"
      ]
     },
     "metadata": {},
     "output_type": "display_data"
    },
    {
     "data": {
      "text/html": [
       "Syncing run <strong><a href='https://wandb.ai/limbw/Design_PJ/runs/io52y4n0' target=\"_blank\">rural-water-32</a></strong> to <a href='https://wandb.ai/limbw/Design_PJ' target=\"_blank\">Weights & Biases</a> (<a href='https://wandb.me/run' target=\"_blank\">docs</a>)<br/>"
      ],
      "text/plain": [
       "<IPython.core.display.HTML object>"
      ]
     },
     "metadata": {},
     "output_type": "display_data"
    },
    {
     "data": {
      "text/html": [
       " View project at <a href='https://wandb.ai/limbw/Design_PJ' target=\"_blank\">https://wandb.ai/limbw/Design_PJ</a>"
      ],
      "text/plain": [
       "<IPython.core.display.HTML object>"
      ]
     },
     "metadata": {},
     "output_type": "display_data"
    },
    {
     "data": {
      "text/html": [
       " View run at <a href='https://wandb.ai/limbw/Design_PJ/runs/io52y4n0' target=\"_blank\">https://wandb.ai/limbw/Design_PJ/runs/io52y4n0</a>"
      ],
      "text/plain": [
       "<IPython.core.display.HTML object>"
      ]
     },
     "metadata": {},
     "output_type": "display_data"
    },
    {
     "name": "stderr",
     "output_type": "stream",
     "text": [
      "100%|██████████| 69/69 [01:28<00:00,  1.28s/it]\n"
     ]
    },
    {
     "name": "stdout",
     "output_type": "stream",
     "text": [
      "Class 0 IoU: 0.0186\n",
      "Class 1 IoU: 0.0192\n",
      "Class 2 IoU: 0.0198\n",
      "Class 3 IoU: 0.0617\n",
      "Class 4 IoU: 0.0760\n",
      "Class 5 IoU: 0.0955\n",
      "Class 6 IoU: 0.0918\n",
      "Class 7 IoU: 0.1207\n",
      "Class 8 IoU: 0.1556\n",
      "Class 9 IoU: 0.1081\n",
      "Class 10 IoU: 0.1416\n",
      "Class 11 IoU: 0.1541\n"
     ]
    },
    {
     "name": "stderr",
     "output_type": "stream",
     "text": [
      "100%|██████████| 15/15 [00:18<00:00,  1.23s/it]\n"
     ]
    },
    {
     "name": "stdout",
     "output_type": "stream",
     "text": [
      "Class 0 IoU: 0.1391\n",
      "Class 1 IoU: 0.1153\n",
      "Class 2 IoU: 0.2109\n",
      "Class 3 IoU: 0.1218\n",
      "Class 4 IoU: 0.1450\n",
      "Class 5 IoU: 0.1273\n",
      "Class 6 IoU: 0.2174\n",
      "Class 7 IoU: 0.1079\n",
      "Class 8 IoU: 0.1503\n",
      "Class 9 IoU: 0.1281\n",
      "Class 10 IoU: 0.2122\n",
      "Class 11 IoU: 0.1131\n"
     ]
    },
    {
     "name": "stderr",
     "output_type": "stream",
     "text": [
      "100%|██████████| 69/69 [01:28<00:00,  1.28s/it]\n"
     ]
    },
    {
     "name": "stdout",
     "output_type": "stream",
     "text": [
      "Class 0 IoU: 0.1695\n",
      "Class 1 IoU: 0.1641\n",
      "Class 2 IoU: 0.1949\n",
      "Class 3 IoU: 0.1724\n",
      "Class 4 IoU: 0.1718\n",
      "Class 5 IoU: 0.1769\n",
      "Class 6 IoU: 0.2130\n",
      "Class 7 IoU: 0.2039\n",
      "Class 8 IoU: 0.2230\n",
      "Class 9 IoU: 0.2076\n",
      "Class 10 IoU: 0.2377\n",
      "Class 11 IoU: 0.2263\n"
     ]
    },
    {
     "name": "stderr",
     "output_type": "stream",
     "text": [
      "100%|██████████| 15/15 [00:17<00:00,  1.19s/it]\n"
     ]
    },
    {
     "name": "stdout",
     "output_type": "stream",
     "text": [
      "Class 0 IoU: 0.2454\n",
      "Class 1 IoU: 0.1815\n",
      "Class 2 IoU: 0.2904\n",
      "Class 3 IoU: 0.2051\n",
      "Class 4 IoU: 0.2650\n",
      "Class 5 IoU: 0.1979\n",
      "Class 6 IoU: 0.2871\n",
      "Class 7 IoU: 0.1807\n",
      "Class 8 IoU: 0.2655\n",
      "Class 9 IoU: 0.1907\n",
      "Class 10 IoU: 0.2942\n",
      "Class 11 IoU: 0.1894\n"
     ]
    },
    {
     "name": "stderr",
     "output_type": "stream",
     "text": [
      "100%|██████████| 69/69 [01:29<00:00,  1.29s/it]\n"
     ]
    },
    {
     "name": "stdout",
     "output_type": "stream",
     "text": [
      "Class 0 IoU: 0.2499\n",
      "Class 1 IoU: 0.2336\n",
      "Class 2 IoU: 0.2642\n",
      "Class 3 IoU: 0.2537\n",
      "Class 4 IoU: 0.2570\n",
      "Class 5 IoU: 0.2449\n",
      "Class 6 IoU: 0.2754\n",
      "Class 7 IoU: 0.2531\n",
      "Class 8 IoU: 0.2730\n",
      "Class 9 IoU: 0.2582\n",
      "Class 10 IoU: 0.2810\n",
      "Class 11 IoU: 0.2804\n"
     ]
    },
    {
     "name": "stderr",
     "output_type": "stream",
     "text": [
      "100%|██████████| 15/15 [00:17<00:00,  1.20s/it]\n"
     ]
    },
    {
     "name": "stdout",
     "output_type": "stream",
     "text": [
      "Class 0 IoU: 0.2752\n",
      "Class 1 IoU: 0.2065\n",
      "Class 2 IoU: 0.3214\n",
      "Class 3 IoU: 0.2401\n",
      "Class 4 IoU: 0.2901\n",
      "Class 5 IoU: 0.2234\n",
      "Class 6 IoU: 0.3145\n",
      "Class 7 IoU: 0.2039\n",
      "Class 8 IoU: 0.2996\n",
      "Class 9 IoU: 0.2125\n",
      "Class 10 IoU: 0.3183\n",
      "Class 11 IoU: 0.2200\n"
     ]
    },
    {
     "name": "stderr",
     "output_type": "stream",
     "text": [
      "100%|██████████| 69/69 [01:28<00:00,  1.28s/it]\n"
     ]
    },
    {
     "name": "stdout",
     "output_type": "stream",
     "text": [
      "Class 0 IoU: 0.2929\n",
      "Class 1 IoU: 0.2745\n",
      "Class 2 IoU: 0.2974\n",
      "Class 3 IoU: 0.2817\n",
      "Class 4 IoU: 0.3072\n",
      "Class 5 IoU: 0.2928\n",
      "Class 6 IoU: 0.3202\n",
      "Class 7 IoU: 0.3049\n",
      "Class 8 IoU: 0.3254\n",
      "Class 9 IoU: 0.3116\n",
      "Class 10 IoU: 0.3414\n",
      "Class 11 IoU: 0.3160\n"
     ]
    },
    {
     "name": "stderr",
     "output_type": "stream",
     "text": [
      "100%|██████████| 15/15 [00:17<00:00,  1.19s/it]\n"
     ]
    },
    {
     "name": "stdout",
     "output_type": "stream",
     "text": [
      "Class 0 IoU: 0.3061\n",
      "Class 1 IoU: 0.2312\n",
      "Class 2 IoU: 0.3734\n",
      "Class 3 IoU: 0.2749\n",
      "Class 4 IoU: 0.3158\n",
      "Class 5 IoU: 0.2561\n",
      "Class 6 IoU: 0.3578\n",
      "Class 7 IoU: 0.2283\n",
      "Class 8 IoU: 0.3269\n",
      "Class 9 IoU: 0.2342\n",
      "Class 10 IoU: 0.3561\n",
      "Class 11 IoU: 0.2566\n"
     ]
    },
    {
     "name": "stderr",
     "output_type": "stream",
     "text": [
      "100%|██████████| 69/69 [01:29<00:00,  1.29s/it]\n"
     ]
    },
    {
     "name": "stdout",
     "output_type": "stream",
     "text": [
      "Class 0 IoU: 0.3412\n",
      "Class 1 IoU: 0.3247\n",
      "Class 2 IoU: 0.3579\n",
      "Class 3 IoU: 0.3360\n",
      "Class 4 IoU: 0.3527\n",
      "Class 5 IoU: 0.3361\n",
      "Class 6 IoU: 0.3634\n",
      "Class 7 IoU: 0.3499\n",
      "Class 8 IoU: 0.3675\n",
      "Class 9 IoU: 0.3468\n",
      "Class 10 IoU: 0.3789\n",
      "Class 11 IoU: 0.3617\n"
     ]
    },
    {
     "name": "stderr",
     "output_type": "stream",
     "text": [
      "100%|██████████| 15/15 [00:17<00:00,  1.20s/it]\n"
     ]
    },
    {
     "name": "stdout",
     "output_type": "stream",
     "text": [
      "Class 0 IoU: 0.3224\n",
      "Class 1 IoU: 0.2371\n",
      "Class 2 IoU: 0.3774\n",
      "Class 3 IoU: 0.2875\n",
      "Class 4 IoU: 0.3235\n",
      "Class 5 IoU: 0.2570\n",
      "Class 6 IoU: 0.3647\n",
      "Class 7 IoU: 0.2363\n",
      "Class 8 IoU: 0.3464\n",
      "Class 9 IoU: 0.2475\n",
      "Class 10 IoU: 0.3677\n",
      "Class 11 IoU: 0.2633\n"
     ]
    },
    {
     "name": "stderr",
     "output_type": "stream",
     "text": [
      "100%|██████████| 69/69 [01:28<00:00,  1.29s/it]\n"
     ]
    },
    {
     "name": "stdout",
     "output_type": "stream",
     "text": [
      "Class 0 IoU: 0.3907\n",
      "Class 1 IoU: 0.3678\n",
      "Class 2 IoU: 0.3976\n",
      "Class 3 IoU: 0.3840\n",
      "Class 4 IoU: 0.4057\n",
      "Class 5 IoU: 0.3721\n",
      "Class 6 IoU: 0.4122\n",
      "Class 7 IoU: 0.3831\n",
      "Class 8 IoU: 0.4023\n",
      "Class 9 IoU: 0.4098\n",
      "Class 10 IoU: 0.4292\n",
      "Class 11 IoU: 0.4179\n"
     ]
    },
    {
     "name": "stderr",
     "output_type": "stream",
     "text": [
      "100%|██████████| 15/15 [00:17<00:00,  1.19s/it]\n"
     ]
    },
    {
     "name": "stdout",
     "output_type": "stream",
     "text": [
      "Class 0 IoU: 0.3312\n",
      "Class 1 IoU: 0.2542\n",
      "Class 2 IoU: 0.3889\n",
      "Class 3 IoU: 0.2982\n",
      "Class 4 IoU: 0.3346\n",
      "Class 5 IoU: 0.2790\n",
      "Class 6 IoU: 0.3759\n",
      "Class 7 IoU: 0.2454\n",
      "Class 8 IoU: 0.3492\n",
      "Class 9 IoU: 0.2625\n",
      "Class 10 IoU: 0.3850\n",
      "Class 11 IoU: 0.2831\n"
     ]
    },
    {
     "name": "stderr",
     "output_type": "stream",
     "text": [
      "100%|██████████| 69/69 [01:29<00:00,  1.29s/it]\n"
     ]
    },
    {
     "name": "stdout",
     "output_type": "stream",
     "text": [
      "Class 0 IoU: 0.4349\n",
      "Class 1 IoU: 0.3996\n",
      "Class 2 IoU: 0.4386\n",
      "Class 3 IoU: 0.4115\n",
      "Class 4 IoU: 0.4556\n",
      "Class 5 IoU: 0.4373\n",
      "Class 6 IoU: 0.4408\n",
      "Class 7 IoU: 0.4471\n",
      "Class 8 IoU: 0.4568\n",
      "Class 9 IoU: 0.4390\n",
      "Class 10 IoU: 0.4583\n",
      "Class 11 IoU: 0.4525\n"
     ]
    },
    {
     "name": "stderr",
     "output_type": "stream",
     "text": [
      "100%|██████████| 15/15 [00:17<00:00,  1.19s/it]\n"
     ]
    },
    {
     "name": "stdout",
     "output_type": "stream",
     "text": [
      "Class 0 IoU: 0.3480\n",
      "Class 1 IoU: 0.2780\n",
      "Class 2 IoU: 0.4084\n",
      "Class 3 IoU: 0.3140\n",
      "Class 4 IoU: 0.3614\n",
      "Class 5 IoU: 0.2925\n",
      "Class 6 IoU: 0.4028\n",
      "Class 7 IoU: 0.2662\n",
      "Class 8 IoU: 0.3686\n",
      "Class 9 IoU: 0.2782\n",
      "Class 10 IoU: 0.4006\n",
      "Class 11 IoU: 0.2989\n"
     ]
    },
    {
     "name": "stderr",
     "output_type": "stream",
     "text": [
      "100%|██████████| 69/69 [01:28<00:00,  1.28s/it]\n"
     ]
    },
    {
     "name": "stdout",
     "output_type": "stream",
     "text": [
      "Class 0 IoU: 0.4806\n",
      "Class 1 IoU: 0.4517\n",
      "Class 2 IoU: 0.4649\n",
      "Class 3 IoU: 0.4649\n",
      "Class 4 IoU: 0.4635\n",
      "Class 5 IoU: 0.4486\n",
      "Class 6 IoU: 0.4904\n",
      "Class 7 IoU: 0.4738\n",
      "Class 8 IoU: 0.4922\n",
      "Class 9 IoU: 0.4706\n",
      "Class 10 IoU: 0.4895\n",
      "Class 11 IoU: 0.4842\n"
     ]
    },
    {
     "name": "stderr",
     "output_type": "stream",
     "text": [
      "100%|██████████| 15/15 [00:17<00:00,  1.20s/it]\n"
     ]
    },
    {
     "name": "stdout",
     "output_type": "stream",
     "text": [
      "Class 0 IoU: 0.3558\n",
      "Class 1 IoU: 0.2784\n",
      "Class 2 IoU: 0.4136\n",
      "Class 3 IoU: 0.3180\n",
      "Class 4 IoU: 0.3586\n",
      "Class 5 IoU: 0.3020\n",
      "Class 6 IoU: 0.4066\n",
      "Class 7 IoU: 0.2682\n",
      "Class 8 IoU: 0.3801\n",
      "Class 9 IoU: 0.2817\n",
      "Class 10 IoU: 0.4079\n",
      "Class 11 IoU: 0.3142\n"
     ]
    },
    {
     "name": "stderr",
     "output_type": "stream",
     "text": [
      "100%|██████████| 69/69 [01:29<00:00,  1.29s/it]\n"
     ]
    },
    {
     "name": "stdout",
     "output_type": "stream",
     "text": [
      "Class 0 IoU: 0.5006\n",
      "Class 1 IoU: 0.4943\n",
      "Class 2 IoU: 0.4922\n",
      "Class 3 IoU: 0.4768\n",
      "Class 4 IoU: 0.5091\n",
      "Class 5 IoU: 0.4843\n",
      "Class 6 IoU: 0.4934\n",
      "Class 7 IoU: 0.4991\n",
      "Class 8 IoU: 0.5173\n",
      "Class 9 IoU: 0.4932\n",
      "Class 10 IoU: 0.5266\n",
      "Class 11 IoU: 0.5080\n"
     ]
    },
    {
     "name": "stderr",
     "output_type": "stream",
     "text": [
      "100%|██████████| 15/15 [00:17<00:00,  1.18s/it]\n"
     ]
    },
    {
     "name": "stdout",
     "output_type": "stream",
     "text": [
      "Class 0 IoU: 0.3586\n",
      "Class 1 IoU: 0.2782\n",
      "Class 2 IoU: 0.4085\n",
      "Class 3 IoU: 0.3091\n",
      "Class 4 IoU: 0.3593\n",
      "Class 5 IoU: 0.3001\n",
      "Class 6 IoU: 0.3940\n",
      "Class 7 IoU: 0.2699\n",
      "Class 8 IoU: 0.3775\n",
      "Class 9 IoU: 0.2867\n",
      "Class 10 IoU: 0.4038\n",
      "Class 11 IoU: 0.3205\n"
     ]
    },
    {
     "name": "stderr",
     "output_type": "stream",
     "text": [
      "100%|██████████| 69/69 [01:28<00:00,  1.28s/it]\n"
     ]
    },
    {
     "name": "stdout",
     "output_type": "stream",
     "text": [
      "Class 0 IoU: 0.5182\n",
      "Class 1 IoU: 0.5043\n",
      "Class 2 IoU: 0.5263\n",
      "Class 3 IoU: 0.5011\n",
      "Class 4 IoU: 0.5289\n",
      "Class 5 IoU: 0.5162\n",
      "Class 6 IoU: 0.5278\n",
      "Class 7 IoU: 0.5247\n",
      "Class 8 IoU: 0.5521\n",
      "Class 9 IoU: 0.5064\n",
      "Class 10 IoU: 0.5291\n",
      "Class 11 IoU: 0.5059\n"
     ]
    },
    {
     "name": "stderr",
     "output_type": "stream",
     "text": [
      "100%|██████████| 15/15 [00:22<00:00,  1.52s/it]\n"
     ]
    },
    {
     "name": "stdout",
     "output_type": "stream",
     "text": [
      "Class 0 IoU: 0.3632\n",
      "Class 1 IoU: 0.2935\n",
      "Class 2 IoU: 0.4239\n",
      "Class 3 IoU: 0.3146\n",
      "Class 4 IoU: 0.3749\n",
      "Class 5 IoU: 0.3106\n",
      "Class 6 IoU: 0.4107\n",
      "Class 7 IoU: 0.2782\n",
      "Class 8 IoU: 0.3978\n",
      "Class 9 IoU: 0.3098\n",
      "Class 10 IoU: 0.4154\n",
      "Class 11 IoU: 0.3402\n"
     ]
    },
    {
     "name": "stderr",
     "output_type": "stream",
     "text": [
      "100%|██████████| 69/69 [01:28<00:00,  1.28s/it]\n"
     ]
    },
    {
     "name": "stdout",
     "output_type": "stream",
     "text": [
      "Class 0 IoU: 0.5563\n",
      "Class 1 IoU: 0.5245\n",
      "Class 2 IoU: 0.5430\n",
      "Class 3 IoU: 0.5200\n",
      "Class 4 IoU: 0.5585\n",
      "Class 5 IoU: 0.5526\n",
      "Class 6 IoU: 0.5488\n",
      "Class 7 IoU: 0.5383\n",
      "Class 8 IoU: 0.5486\n",
      "Class 9 IoU: 0.5331\n",
      "Class 10 IoU: 0.5518\n",
      "Class 11 IoU: 0.5250\n"
     ]
    },
    {
     "name": "stderr",
     "output_type": "stream",
     "text": [
      "100%|██████████| 15/15 [00:17<00:00,  1.18s/it]\n"
     ]
    },
    {
     "name": "stdout",
     "output_type": "stream",
     "text": [
      "Class 0 IoU: 0.3643\n",
      "Class 1 IoU: 0.2931\n",
      "Class 2 IoU: 0.4180\n",
      "Class 3 IoU: 0.3234\n",
      "Class 4 IoU: 0.3783\n",
      "Class 5 IoU: 0.3149\n",
      "Class 6 IoU: 0.4033\n",
      "Class 7 IoU: 0.2767\n",
      "Class 8 IoU: 0.3873\n",
      "Class 9 IoU: 0.3023\n",
      "Class 10 IoU: 0.4216\n",
      "Class 11 IoU: 0.3359\n"
     ]
    },
    {
     "name": "stderr",
     "output_type": "stream",
     "text": [
      "100%|██████████| 69/69 [01:28<00:00,  1.29s/it]\n"
     ]
    },
    {
     "name": "stdout",
     "output_type": "stream",
     "text": [
      "Class 0 IoU: 0.5725\n",
      "Class 1 IoU: 0.5571\n",
      "Class 2 IoU: 0.5493\n",
      "Class 3 IoU: 0.5381\n",
      "Class 4 IoU: 0.5727\n",
      "Class 5 IoU: 0.5326\n",
      "Class 6 IoU: 0.5502\n",
      "Class 7 IoU: 0.5424\n",
      "Class 8 IoU: 0.5727\n",
      "Class 9 IoU: 0.5443\n",
      "Class 10 IoU: 0.5775\n",
      "Class 11 IoU: 0.5338\n"
     ]
    },
    {
     "name": "stderr",
     "output_type": "stream",
     "text": [
      "100%|██████████| 15/15 [00:17<00:00,  1.19s/it]\n"
     ]
    },
    {
     "name": "stdout",
     "output_type": "stream",
     "text": [
      "Class 0 IoU: 0.3771\n",
      "Class 1 IoU: 0.2962\n",
      "Class 2 IoU: 0.4338\n",
      "Class 3 IoU: 0.3305\n",
      "Class 4 IoU: 0.3709\n",
      "Class 5 IoU: 0.3244\n",
      "Class 6 IoU: 0.4180\n",
      "Class 7 IoU: 0.2961\n",
      "Class 8 IoU: 0.3998\n",
      "Class 9 IoU: 0.3164\n",
      "Class 10 IoU: 0.4262\n",
      "Class 11 IoU: 0.3254\n"
     ]
    },
    {
     "name": "stderr",
     "output_type": "stream",
     "text": [
      "100%|██████████| 69/69 [01:29<00:00,  1.29s/it]\n"
     ]
    },
    {
     "name": "stdout",
     "output_type": "stream",
     "text": [
      "Class 0 IoU: 0.5818\n",
      "Class 1 IoU: 0.5753\n",
      "Class 2 IoU: 0.5626\n",
      "Class 3 IoU: 0.5637\n",
      "Class 4 IoU: 0.5944\n",
      "Class 5 IoU: 0.5680\n",
      "Class 6 IoU: 0.5767\n",
      "Class 7 IoU: 0.5527\n",
      "Class 8 IoU: 0.5878\n",
      "Class 9 IoU: 0.5644\n",
      "Class 10 IoU: 0.5595\n",
      "Class 11 IoU: 0.5655\n"
     ]
    },
    {
     "name": "stderr",
     "output_type": "stream",
     "text": [
      "100%|██████████| 15/15 [00:17<00:00,  1.19s/it]\n"
     ]
    },
    {
     "name": "stdout",
     "output_type": "stream",
     "text": [
      "Class 0 IoU: 0.3852\n",
      "Class 1 IoU: 0.3007\n",
      "Class 2 IoU: 0.4372\n",
      "Class 3 IoU: 0.3312\n",
      "Class 4 IoU: 0.3761\n",
      "Class 5 IoU: 0.3246\n",
      "Class 6 IoU: 0.4138\n",
      "Class 7 IoU: 0.2918\n",
      "Class 8 IoU: 0.4074\n",
      "Class 9 IoU: 0.3170\n",
      "Class 10 IoU: 0.4204\n",
      "Class 11 IoU: 0.3423\n"
     ]
    },
    {
     "name": "stderr",
     "output_type": "stream",
     "text": [
      "100%|██████████| 69/69 [01:28<00:00,  1.28s/it]\n"
     ]
    },
    {
     "name": "stdout",
     "output_type": "stream",
     "text": [
      "Class 0 IoU: 0.5743\n",
      "Class 1 IoU: 0.5732\n",
      "Class 2 IoU: 0.5618\n",
      "Class 3 IoU: 0.5546\n",
      "Class 4 IoU: 0.5882\n",
      "Class 5 IoU: 0.5663\n",
      "Class 6 IoU: 0.5465\n",
      "Class 7 IoU: 0.5401\n",
      "Class 8 IoU: 0.5418\n",
      "Class 9 IoU: 0.5411\n",
      "Class 10 IoU: 0.5773\n",
      "Class 11 IoU: 0.5543\n"
     ]
    },
    {
     "name": "stderr",
     "output_type": "stream",
     "text": [
      "100%|██████████| 15/15 [00:18<00:00,  1.20s/it]\n"
     ]
    },
    {
     "name": "stdout",
     "output_type": "stream",
     "text": [
      "Class 0 IoU: 0.3610\n",
      "Class 1 IoU: 0.2880\n",
      "Class 2 IoU: 0.4251\n",
      "Class 3 IoU: 0.3162\n",
      "Class 4 IoU: 0.3502\n",
      "Class 5 IoU: 0.3204\n",
      "Class 6 IoU: 0.4055\n",
      "Class 7 IoU: 0.2697\n",
      "Class 8 IoU: 0.3837\n",
      "Class 9 IoU: 0.3055\n",
      "Class 10 IoU: 0.4092\n",
      "Class 11 IoU: 0.3139\n"
     ]
    },
    {
     "name": "stderr",
     "output_type": "stream",
     "text": [
      "100%|██████████| 69/69 [01:29<00:00,  1.29s/it]\n"
     ]
    },
    {
     "name": "stdout",
     "output_type": "stream",
     "text": [
      "Class 0 IoU: 0.5905\n",
      "Class 1 IoU: 0.5552\n",
      "Class 2 IoU: 0.5713\n",
      "Class 3 IoU: 0.5594\n",
      "Class 4 IoU: 0.5937\n",
      "Class 5 IoU: 0.5815\n",
      "Class 6 IoU: 0.5898\n",
      "Class 7 IoU: 0.5880\n",
      "Class 8 IoU: 0.6022\n",
      "Class 9 IoU: 0.5913\n",
      "Class 10 IoU: 0.5747\n",
      "Class 11 IoU: 0.5859\n"
     ]
    },
    {
     "name": "stderr",
     "output_type": "stream",
     "text": [
      "100%|██████████| 15/15 [00:17<00:00,  1.19s/it]\n"
     ]
    },
    {
     "name": "stdout",
     "output_type": "stream",
     "text": [
      "Class 0 IoU: 0.3852\n",
      "Class 1 IoU: 0.3142\n",
      "Class 2 IoU: 0.4476\n",
      "Class 3 IoU: 0.3276\n",
      "Class 4 IoU: 0.3815\n",
      "Class 5 IoU: 0.3351\n",
      "Class 6 IoU: 0.4279\n",
      "Class 7 IoU: 0.3045\n",
      "Class 8 IoU: 0.4136\n",
      "Class 9 IoU: 0.3315\n",
      "Class 10 IoU: 0.4312\n",
      "Class 11 IoU: 0.3505\n"
     ]
    },
    {
     "name": "stderr",
     "output_type": "stream",
     "text": [
      "100%|██████████| 69/69 [01:29<00:00,  1.30s/it]\n"
     ]
    },
    {
     "name": "stdout",
     "output_type": "stream",
     "text": [
      "Class 0 IoU: 0.6082\n",
      "Class 1 IoU: 0.5956\n",
      "Class 2 IoU: 0.5998\n",
      "Class 3 IoU: 0.5929\n",
      "Class 4 IoU: 0.6268\n",
      "Class 5 IoU: 0.6021\n",
      "Class 6 IoU: 0.6159\n",
      "Class 7 IoU: 0.6194\n",
      "Class 8 IoU: 0.6188\n",
      "Class 9 IoU: 0.5937\n",
      "Class 10 IoU: 0.6092\n",
      "Class 11 IoU: 0.6086\n"
     ]
    },
    {
     "name": "stderr",
     "output_type": "stream",
     "text": [
      "100%|██████████| 15/15 [00:18<00:00,  1.20s/it]\n"
     ]
    },
    {
     "name": "stdout",
     "output_type": "stream",
     "text": [
      "Class 0 IoU: 0.3901\n",
      "Class 1 IoU: 0.3173\n",
      "Class 2 IoU: 0.4446\n",
      "Class 3 IoU: 0.3270\n",
      "Class 4 IoU: 0.3886\n",
      "Class 5 IoU: 0.3346\n",
      "Class 6 IoU: 0.4267\n",
      "Class 7 IoU: 0.3019\n",
      "Class 8 IoU: 0.4170\n",
      "Class 9 IoU: 0.3259\n",
      "Class 10 IoU: 0.4328\n",
      "Class 11 IoU: 0.3563\n"
     ]
    },
    {
     "name": "stderr",
     "output_type": "stream",
     "text": [
      "100%|██████████| 69/69 [01:31<00:00,  1.32s/it]\n"
     ]
    },
    {
     "name": "stdout",
     "output_type": "stream",
     "text": [
      "Class 0 IoU: 0.6376\n",
      "Class 1 IoU: 0.6075\n",
      "Class 2 IoU: 0.6216\n",
      "Class 3 IoU: 0.6116\n",
      "Class 4 IoU: 0.6544\n",
      "Class 5 IoU: 0.6012\n",
      "Class 6 IoU: 0.6221\n",
      "Class 7 IoU: 0.6252\n",
      "Class 8 IoU: 0.6501\n",
      "Class 9 IoU: 0.5976\n",
      "Class 10 IoU: 0.6177\n",
      "Class 11 IoU: 0.6193\n"
     ]
    },
    {
     "name": "stderr",
     "output_type": "stream",
     "text": [
      "100%|██████████| 15/15 [00:18<00:00,  1.26s/it]\n"
     ]
    },
    {
     "name": "stdout",
     "output_type": "stream",
     "text": [
      "Class 0 IoU: 0.3933\n",
      "Class 1 IoU: 0.3238\n",
      "Class 2 IoU: 0.4564\n",
      "Class 3 IoU: 0.3392\n",
      "Class 4 IoU: 0.3910\n",
      "Class 5 IoU: 0.3428\n",
      "Class 6 IoU: 0.4336\n",
      "Class 7 IoU: 0.3040\n",
      "Class 8 IoU: 0.4182\n",
      "Class 9 IoU: 0.3347\n",
      "Class 10 IoU: 0.4365\n",
      "Class 11 IoU: 0.3557\n"
     ]
    },
    {
     "name": "stderr",
     "output_type": "stream",
     "text": [
      "100%|██████████| 69/69 [01:30<00:00,  1.30s/it]\n"
     ]
    },
    {
     "name": "stdout",
     "output_type": "stream",
     "text": [
      "Class 0 IoU: 0.6772\n",
      "Class 1 IoU: 0.6347\n",
      "Class 2 IoU: 0.6463\n",
      "Class 3 IoU: 0.6064\n",
      "Class 4 IoU: 0.6258\n",
      "Class 5 IoU: 0.6014\n",
      "Class 6 IoU: 0.5969\n",
      "Class 7 IoU: 0.5852\n",
      "Class 8 IoU: 0.5833\n",
      "Class 9 IoU: 0.5586\n",
      "Class 10 IoU: 0.5824\n",
      "Class 11 IoU: 0.5774\n"
     ]
    },
    {
     "name": "stderr",
     "output_type": "stream",
     "text": [
      "100%|██████████| 15/15 [00:17<00:00,  1.20s/it]\n"
     ]
    },
    {
     "name": "stdout",
     "output_type": "stream",
     "text": [
      "Class 0 IoU: 0.3808\n",
      "Class 1 IoU: 0.3205\n",
      "Class 2 IoU: 0.4404\n",
      "Class 3 IoU: 0.3271\n",
      "Class 4 IoU: 0.3998\n",
      "Class 5 IoU: 0.3364\n",
      "Class 6 IoU: 0.4265\n",
      "Class 7 IoU: 0.2967\n",
      "Class 8 IoU: 0.4121\n",
      "Class 9 IoU: 0.3451\n",
      "Class 10 IoU: 0.4339\n",
      "Class 11 IoU: 0.3581\n"
     ]
    },
    {
     "name": "stderr",
     "output_type": "stream",
     "text": [
      "100%|██████████| 69/69 [01:30<00:00,  1.31s/it]\n"
     ]
    },
    {
     "name": "stdout",
     "output_type": "stream",
     "text": [
      "Class 0 IoU: 0.6006\n",
      "Class 1 IoU: 0.5893\n",
      "Class 2 IoU: 0.6357\n",
      "Class 3 IoU: 0.6214\n",
      "Class 4 IoU: 0.6320\n",
      "Class 5 IoU: 0.6294\n",
      "Class 6 IoU: 0.6255\n",
      "Class 7 IoU: 0.6302\n",
      "Class 8 IoU: 0.6464\n",
      "Class 9 IoU: 0.6324\n",
      "Class 10 IoU: 0.6629\n",
      "Class 11 IoU: 0.6272\n"
     ]
    },
    {
     "name": "stderr",
     "output_type": "stream",
     "text": [
      "100%|██████████| 15/15 [00:17<00:00,  1.20s/it]\n"
     ]
    },
    {
     "name": "stdout",
     "output_type": "stream",
     "text": [
      "Class 0 IoU: 0.3918\n",
      "Class 1 IoU: 0.3222\n",
      "Class 2 IoU: 0.4484\n",
      "Class 3 IoU: 0.3387\n",
      "Class 4 IoU: 0.3914\n",
      "Class 5 IoU: 0.3386\n",
      "Class 6 IoU: 0.4278\n",
      "Class 7 IoU: 0.2969\n",
      "Class 8 IoU: 0.4163\n",
      "Class 9 IoU: 0.3330\n",
      "Class 10 IoU: 0.4271\n",
      "Class 11 IoU: 0.3509\n"
     ]
    },
    {
     "name": "stderr",
     "output_type": "stream",
     "text": [
      "100%|██████████| 69/69 [01:30<00:00,  1.31s/it]\n"
     ]
    },
    {
     "name": "stdout",
     "output_type": "stream",
     "text": [
      "Class 0 IoU: 0.6740\n",
      "Class 1 IoU: 0.6519\n",
      "Class 2 IoU: 0.6615\n",
      "Class 3 IoU: 0.6517\n",
      "Class 4 IoU: 0.6642\n",
      "Class 5 IoU: 0.6516\n",
      "Class 6 IoU: 0.6756\n",
      "Class 7 IoU: 0.6425\n",
      "Class 8 IoU: 0.6801\n",
      "Class 9 IoU: 0.6471\n",
      "Class 10 IoU: 0.6591\n",
      "Class 11 IoU: 0.6406\n"
     ]
    },
    {
     "name": "stderr",
     "output_type": "stream",
     "text": [
      "100%|██████████| 15/15 [00:18<00:00,  1.22s/it]\n"
     ]
    },
    {
     "name": "stdout",
     "output_type": "stream",
     "text": [
      "Class 0 IoU: 0.3978\n",
      "Class 1 IoU: 0.3294\n",
      "Class 2 IoU: 0.4428\n",
      "Class 3 IoU: 0.3293\n",
      "Class 4 IoU: 0.3994\n",
      "Class 5 IoU: 0.3413\n",
      "Class 6 IoU: 0.4398\n",
      "Class 7 IoU: 0.3172\n",
      "Class 8 IoU: 0.4191\n",
      "Class 9 IoU: 0.3321\n",
      "Class 10 IoU: 0.4385\n",
      "Class 11 IoU: 0.3606\n"
     ]
    },
    {
     "name": "stderr",
     "output_type": "stream",
     "text": [
      "100%|██████████| 69/69 [01:30<00:00,  1.31s/it]\n"
     ]
    },
    {
     "name": "stdout",
     "output_type": "stream",
     "text": [
      "Class 0 IoU: 0.6863\n",
      "Class 1 IoU: 0.6746\n",
      "Class 2 IoU: 0.6745\n",
      "Class 3 IoU: 0.6785\n",
      "Class 4 IoU: 0.6768\n",
      "Class 5 IoU: 0.6794\n",
      "Class 6 IoU: 0.6999\n",
      "Class 7 IoU: 0.6828\n",
      "Class 8 IoU: 0.6932\n",
      "Class 9 IoU: 0.6645\n",
      "Class 10 IoU: 0.6569\n",
      "Class 11 IoU: 0.6595\n"
     ]
    },
    {
     "name": "stderr",
     "output_type": "stream",
     "text": [
      "100%|██████████| 15/15 [00:18<00:00,  1.20s/it]\n"
     ]
    },
    {
     "name": "stdout",
     "output_type": "stream",
     "text": [
      "Class 0 IoU: 0.4017\n",
      "Class 1 IoU: 0.3391\n",
      "Class 2 IoU: 0.4582\n",
      "Class 3 IoU: 0.3483\n",
      "Class 4 IoU: 0.4073\n",
      "Class 5 IoU: 0.3505\n",
      "Class 6 IoU: 0.4413\n",
      "Class 7 IoU: 0.3198\n",
      "Class 8 IoU: 0.4361\n",
      "Class 9 IoU: 0.3485\n",
      "Class 10 IoU: 0.4413\n",
      "Class 11 IoU: 0.3696\n"
     ]
    },
    {
     "name": "stderr",
     "output_type": "stream",
     "text": [
      "100%|██████████| 69/69 [01:29<00:00,  1.30s/it]\n"
     ]
    },
    {
     "name": "stdout",
     "output_type": "stream",
     "text": [
      "Class 0 IoU: 0.6941\n",
      "Class 1 IoU: 0.6858\n",
      "Class 2 IoU: 0.6942\n",
      "Class 3 IoU: 0.6866\n",
      "Class 4 IoU: 0.7035\n",
      "Class 5 IoU: 0.6890\n",
      "Class 6 IoU: 0.7057\n",
      "Class 7 IoU: 0.6869\n",
      "Class 8 IoU: 0.7042\n",
      "Class 9 IoU: 0.6701\n",
      "Class 10 IoU: 0.6998\n",
      "Class 11 IoU: 0.7047\n"
     ]
    },
    {
     "name": "stderr",
     "output_type": "stream",
     "text": [
      "100%|██████████| 15/15 [00:18<00:00,  1.22s/it]\n"
     ]
    },
    {
     "name": "stdout",
     "output_type": "stream",
     "text": [
      "Class 0 IoU: 0.4094\n",
      "Class 1 IoU: 0.3390\n",
      "Class 2 IoU: 0.4567\n",
      "Class 3 IoU: 0.3539\n",
      "Class 4 IoU: 0.4113\n",
      "Class 5 IoU: 0.3519\n",
      "Class 6 IoU: 0.4448\n",
      "Class 7 IoU: 0.3285\n",
      "Class 8 IoU: 0.4336\n",
      "Class 9 IoU: 0.3390\n",
      "Class 10 IoU: 0.4427\n",
      "Class 11 IoU: 0.3644\n"
     ]
    },
    {
     "name": "stderr",
     "output_type": "stream",
     "text": [
      "100%|██████████| 69/69 [01:29<00:00,  1.30s/it]\n"
     ]
    },
    {
     "name": "stdout",
     "output_type": "stream",
     "text": [
      "Class 0 IoU: 0.7133\n",
      "Class 1 IoU: 0.6807\n",
      "Class 2 IoU: 0.7094\n",
      "Class 3 IoU: 0.7050\n",
      "Class 4 IoU: 0.7304\n",
      "Class 5 IoU: 0.7003\n",
      "Class 6 IoU: 0.7261\n",
      "Class 7 IoU: 0.7281\n",
      "Class 8 IoU: 0.7146\n",
      "Class 9 IoU: 0.6912\n",
      "Class 10 IoU: 0.6769\n",
      "Class 11 IoU: 0.6890\n"
     ]
    },
    {
     "name": "stderr",
     "output_type": "stream",
     "text": [
      "100%|██████████| 15/15 [00:18<00:00,  1.21s/it]\n"
     ]
    },
    {
     "name": "stdout",
     "output_type": "stream",
     "text": [
      "Class 0 IoU: 0.3987\n",
      "Class 1 IoU: 0.3352\n",
      "Class 2 IoU: 0.4490\n",
      "Class 3 IoU: 0.3479\n",
      "Class 4 IoU: 0.3992\n",
      "Class 5 IoU: 0.3429\n",
      "Class 6 IoU: 0.4393\n",
      "Class 7 IoU: 0.3170\n",
      "Class 8 IoU: 0.4285\n",
      "Class 9 IoU: 0.3329\n",
      "Class 10 IoU: 0.4371\n",
      "Class 11 IoU: 0.3575\n"
     ]
    },
    {
     "name": "stderr",
     "output_type": "stream",
     "text": [
      "100%|██████████| 69/69 [01:29<00:00,  1.30s/it]\n"
     ]
    },
    {
     "name": "stdout",
     "output_type": "stream",
     "text": [
      "Class 0 IoU: 0.7384\n",
      "Class 1 IoU: 0.7065\n",
      "Class 2 IoU: 0.7145\n",
      "Class 3 IoU: 0.7082\n",
      "Class 4 IoU: 0.7231\n",
      "Class 5 IoU: 0.6991\n",
      "Class 6 IoU: 0.7225\n",
      "Class 7 IoU: 0.7079\n",
      "Class 8 IoU: 0.7419\n",
      "Class 9 IoU: 0.6989\n",
      "Class 10 IoU: 0.7262\n",
      "Class 11 IoU: 0.7078\n"
     ]
    },
    {
     "name": "stderr",
     "output_type": "stream",
     "text": [
      "100%|██████████| 15/15 [00:18<00:00,  1.25s/it]\n"
     ]
    },
    {
     "name": "stdout",
     "output_type": "stream",
     "text": [
      "Class 0 IoU: 0.4079\n",
      "Class 1 IoU: 0.3453\n",
      "Class 2 IoU: 0.4572\n",
      "Class 3 IoU: 0.3493\n",
      "Class 4 IoU: 0.4065\n",
      "Class 5 IoU: 0.3475\n",
      "Class 6 IoU: 0.4441\n",
      "Class 7 IoU: 0.3151\n",
      "Class 8 IoU: 0.4384\n",
      "Class 9 IoU: 0.3413\n",
      "Class 10 IoU: 0.4413\n",
      "Class 11 IoU: 0.3579\n"
     ]
    },
    {
     "name": "stderr",
     "output_type": "stream",
     "text": [
      " 88%|████████▊ | 61/69 [01:20<00:10,  1.32s/it]\n"
     ]
    },
    {
     "ename": "KeyboardInterrupt",
     "evalue": "",
     "output_type": "error",
     "traceback": [
      "\u001b[0;31m---------------------------------------------------------------------------\u001b[0m",
      "\u001b[0;31mKeyboardInterrupt\u001b[0m                         Traceback (most recent call last)",
      "\u001b[1;32m/home/MMI24limbyungwan/Design_Project/Design_project/[Baseline]_Run Length Encoding + U-Net Semantic Segmentation_LBW.ipynb 셀 16\u001b[0m line \u001b[0;36m5\n\u001b[1;32m     <a href='vscode-notebook-cell://ssh-remote%2B163.239.13.23/home/MMI24limbyungwan/Design_Project/Design_project/%5BBaseline%5D_Run%20Length%20Encoding%20%2B%20U-Net%20Semantic%20Segmentation_LBW.ipynb#X21sdnNjb2RlLXJlbW90ZQ%3D%3D?line=51'>52</a>\u001b[0m loss\u001b[39m.\u001b[39mbackward()\n\u001b[1;32m     <a href='vscode-notebook-cell://ssh-remote%2B163.239.13.23/home/MMI24limbyungwan/Design_Project/Design_project/%5BBaseline%5D_Run%20Length%20Encoding%20%2B%20U-Net%20Semantic%20Segmentation_LBW.ipynb#X21sdnNjb2RlLXJlbW90ZQ%3D%3D?line=52'>53</a>\u001b[0m optimizer\u001b[39m.\u001b[39mstep()\n\u001b[0;32m---> <a href='vscode-notebook-cell://ssh-remote%2B163.239.13.23/home/MMI24limbyungwan/Design_Project/Design_project/%5BBaseline%5D_Run%20Length%20Encoding%20%2B%20U-Net%20Semantic%20Segmentation_LBW.ipynb#X21sdnNjb2RlLXJlbW90ZQ%3D%3D?line=54'>55</a>\u001b[0m epoch_loss \u001b[39m+\u001b[39m\u001b[39m=\u001b[39m loss\u001b[39m.\u001b[39;49mitem()\n\u001b[1;32m     <a href='vscode-notebook-cell://ssh-remote%2B163.239.13.23/home/MMI24limbyungwan/Design_Project/Design_project/%5BBaseline%5D_Run%20Length%20Encoding%20%2B%20U-Net%20Semantic%20Segmentation_LBW.ipynb#X21sdnNjb2RlLXJlbW90ZQ%3D%3D?line=56'>57</a>\u001b[0m \u001b[39m# validation 클래스별 IoU 계산\u001b[39;00m\n\u001b[1;32m     <a href='vscode-notebook-cell://ssh-remote%2B163.239.13.23/home/MMI24limbyungwan/Design_Project/Design_project/%5BBaseline%5D_Run%20Length%20Encoding%20%2B%20U-Net%20Semantic%20Segmentation_LBW.ipynb#X21sdnNjb2RlLXJlbW90ZQ%3D%3D?line=57'>58</a>\u001b[0m outputs \u001b[39m=\u001b[39m torch\u001b[39m.\u001b[39msoftmax(outputs, dim\u001b[39m=\u001b[39m\u001b[39m1\u001b[39m)\u001b[39m.\u001b[39mcpu()\n",
      "\u001b[0;31mKeyboardInterrupt\u001b[0m: "
     ]
    }
   ],
   "source": [
    "import wandb\n",
    "import random\n",
    "\n",
    "# start a new wandb run to track this script\n",
    "wandb.init(\n",
    "    # set the wandb project where this run will be logged\n",
    "    project=\"Design_PJ\",\n",
    "    \n",
    "    # track hyperparameters and run metadata\n",
    "    config={\n",
    "    \"learning_rate\": 0.005,\n",
    "    \"architecture\": \"CNN\",\n",
    "    \"dataset\": \"CIFAR-100\",\n",
    "    \"epochs\": 15,\n",
    "    }\n",
    ")\n",
    "# model 초기화\n",
    "model = UNet().to(device)\n",
    "\n",
    "# loss function과 optimizer 정의\n",
    "criterion = torch.nn.CrossEntropyLoss()\n",
    "optimizer = torch.optim.Adam(model.parameters(), lr=0.001)\n",
    "\n",
    "# 클래스(레이블) 수\n",
    "num_classes = 12\n",
    "\n",
    "# 클래스별 IoU를 계산하기 위한 함수\n",
    "def calculate_iou_per_class(y_true, y_pred, class_id):\n",
    "    intersection = np.sum((y_true == class_id) & (y_pred == class_id))\n",
    "    union = np.sum((y_true == class_id) | (y_pred == class_id))\n",
    "    iou = intersection / union if union > 0 else 0\n",
    "    return iou\n",
    "\n",
    "\n",
    "# training loop\n",
    "for epoch in range(30):  # 5 에폭 동안 학습합니다.\n",
    "          \n",
    "    # 클래스별 IoU를 누적할 리스트 초기화\n",
    "    class_ious = []\n",
    "    train_class_ious = []\n",
    "    # 학습\n",
    "    model.train()\n",
    "    epoch_loss = 0\n",
    "    \n",
    "    for images, masks in tqdm(dataloader):\n",
    "        images = images.float().to(device)\n",
    "        masks = masks.long().to(device)\n",
    "\n",
    "        optimizer.zero_grad()\n",
    "        outputs = model(images)\n",
    "        loss = criterion(outputs, masks.squeeze(1))\n",
    "        loss.backward()\n",
    "        optimizer.step()\n",
    "\n",
    "        epoch_loss += loss.item()\n",
    "\n",
    "        # validation 클래스별 IoU 계산\n",
    "        outputs = torch.softmax(outputs, dim=1).cpu()\n",
    "        outputs = torch.argmax(outputs, dim=1).numpy()\n",
    "\n",
    "        for class_id in range(num_classes):\n",
    "            iou = calculate_iou_per_class(np.array(masks.cpu()), np.array(outputs), class_id)\n",
    "            class_ious.append(iou)\n",
    "            train_class_ious.append(iou)\n",
    "\n",
    "    # mIoU 계산\n",
    "    train_mIoU = np.mean(class_ious)\n",
    "    train_class_ious = np.array(train_class_ious).reshape(num_classes, -1)\n",
    "    train_class_ious = np.mean(train_class_ious, axis=1)\n",
    "    #mIoU = np.mean(class_ious)\n",
    "    #print(f\"Epoch {epoch+1}, Train Loss: {epoch_loss/len(dataloader)}, train mIoU Score: {mIoU:.4f}\")\n",
    "    for class_id, iou in enumerate(train_class_ious):\n",
    "        print(f'Class {class_id} IoU: {iou:.4f}')\n",
    "\n",
    "    # validation\n",
    "    val_loss = 0\n",
    "    class_ious = []  # 클래스별 IoU를 누적할 리스트 초기화\n",
    "    val_class_ious = []\n",
    "    with torch.no_grad():\n",
    "        model.eval()\n",
    "        for images, masks in tqdm(valid_dataloader):\n",
    "            images = images.float().to(device)\n",
    "            masks = masks.long().to(device)\n",
    "            outputs = model(images)\n",
    "            # validation loss 계산\n",
    "            val_loss += criterion(outputs, masks.squeeze(1)).item()\n",
    "\n",
    "            # validation 클래스별 IoU 계산\n",
    "            outputs = torch.softmax(outputs, dim=1).cpu()\n",
    "            outputs = torch.argmax(outputs, dim=1).numpy()\n",
    "\n",
    "            for class_id in range(num_classes):\n",
    "                iou = calculate_iou_per_class(np.array(masks.cpu()), np.array(outputs), class_id)\n",
    "                class_ious.append(iou)\n",
    "                val_class_ious.append(iou)\n",
    "\n",
    "    val_class_ious = np.array(val_class_ious).reshape(num_classes, -1)\n",
    "    val_class_ious = np.mean(val_class_ious, axis=1)\n",
    "    for class_id, iou in enumerate(val_class_ious):\n",
    "        print(f'Class {class_id} IoU: {iou:.4f}')\n",
    "\n",
    "                \n",
    "    # for class_id, iou in enumerate(class_ious):\n",
    "    # print(f'Class {class_id} IoU: {iou:.4f}')           \n",
    "   \n",
    "    # mIoU 계산\n",
    "    val_mIoU = np.mean(class_ious)\n",
    "\n",
    "    # log metrics to wandb\n",
    "    wandb.log({\"Loss1\": (epoch_loss/len(dataloader))})\n",
    "    wandb.log({\"Train Score\": train_mIoU})\n",
    "    wandb.log({\"Loss2\": (val_loss/len(valid_dataloader))})\n",
    "    wandb.log({\"Validation Score\": val_mIoU})\n",
    "    \n",
    "# [optional] finish the wandb run, necessary in notebooks\n",
    "wandb.finish()"
   ]
  },
  {
   "attachments": {},
   "cell_type": "markdown",
   "id": "c32eb51c-a3fe-4e11-a616-3a717ba16f7e",
   "metadata": {},
   "source": [
    "## Inference"
   ]
  },
  {
   "cell_type": "code",
   "execution_count": null,
   "id": "12371c8b-0c78-47df-89ec-2d8b55c8ea94",
   "metadata": {},
   "outputs": [],
   "source": [
    "# #test_dataset = CustomDataset(csv_file='./test.csv', transform=transform, infer=True)\n",
    "# test_dataset = CustomDataset(csv_file=os.path.join(\"/mnt/nas27/Dataset/Samsung_DM\",'./val_source.csv'), transform=transform, infer=True)\n",
    "# test_dataloader = DataLoader(test_dataset, batch_size=16, shuffle=False, num_workers=4)"
   ]
  },
  {
   "cell_type": "code",
   "execution_count": null,
   "id": "26cc3501",
   "metadata": {},
   "outputs": [
    {
     "name": "stderr",
     "output_type": "stream",
     "text": [
      "100%|██████████| 30/30 [00:17<00:00,  1.76it/s]"
     ]
    },
    {
     "name": "stdout",
     "output_type": "stream",
     "text": [
      "Class 0 IoU: 0.5627\n",
      "Class 1 IoU: 0.2968\n",
      "Class 2 IoU: 0.3439\n",
      "Class 3 IoU: 0.0222\n",
      "Class 4 IoU: 0.0591\n",
      "Class 5 IoU: 0.1001\n",
      "Class 6 IoU: 0.1081\n",
      "Class 7 IoU: 0.5658\n",
      "Class 8 IoU: 0.5288\n",
      "Class 9 IoU: 0.0046\n",
      "Class 10 IoU: 0.0000\n",
      "Class 11 IoU: 0.4843\n",
      "Class 12 IoU: 0.5184\n",
      "Class 13 IoU: 0.1730\n",
      "Class 14 IoU: 0.3405\n",
      "Class 15 IoU: 0.0980\n",
      "Class 16 IoU: 0.0629\n",
      "Class 17 IoU: 0.1000\n",
      "Class 18 IoU: 0.3161\n",
      "Class 19 IoU: 0.5353\n",
      "Class 20 IoU: 0.6153\n",
      "Class 21 IoU: 0.0000\n",
      "Class 22 IoU: 0.0000\n",
      "Class 23 IoU: 0.5852\n",
      "Class 24 IoU: 0.5033\n",
      "Class 25 IoU: 0.0919\n",
      "Class 26 IoU: 0.2842\n",
      "Class 27 IoU: 0.2456\n",
      "Class 28 IoU: 0.0666\n",
      "Class 29 IoU: 0.2117\n",
      "Class 30 IoU: 0.2798\n",
      "Class 31 IoU: 0.5545\n",
      "Class 32 IoU: 0.4554\n",
      "Class 33 IoU: 0.0000\n",
      "Class 34 IoU: 0.0000\n",
      "Class 35 IoU: 0.5953\n",
      "Class 36 IoU: 0.5745\n",
      "Class 37 IoU: 0.1012\n",
      "Class 38 IoU: 0.1893\n",
      "Class 39 IoU: 0.1849\n",
      "Class 40 IoU: 0.0381\n",
      "Class 41 IoU: 0.1408\n",
      "Class 42 IoU: 0.1441\n",
      "Class 43 IoU: 0.5200\n",
      "Class 44 IoU: 0.4901\n",
      "Class 45 IoU: 0.0000\n",
      "Class 46 IoU: 0.0000\n",
      "Class 47 IoU: 0.5690\n",
      "Class 48 IoU: 0.5279\n",
      "Class 49 IoU: 0.0900\n",
      "Class 50 IoU: 0.3001\n",
      "Class 51 IoU: 0.0461\n",
      "Class 52 IoU: 0.0294\n",
      "Class 53 IoU: 0.1440\n",
      "Class 54 IoU: 0.2048\n",
      "Class 55 IoU: 0.5347\n",
      "Class 56 IoU: 0.4695\n",
      "Class 57 IoU: 0.0000\n",
      "Class 58 IoU: 0.0000\n",
      "Class 59 IoU: 0.5537\n",
      "Class 60 IoU: 0.6174\n",
      "Class 61 IoU: 0.2384\n",
      "Class 62 IoU: 0.2873\n",
      "Class 63 IoU: 0.1437\n",
      "Class 64 IoU: 0.0310\n",
      "Class 65 IoU: 0.1286\n",
      "Class 66 IoU: 0.3551\n",
      "Class 67 IoU: 0.6271\n",
      "Class 68 IoU: 0.5251\n",
      "Class 69 IoU: 0.0000\n",
      "Class 70 IoU: 0.0000\n",
      "Class 71 IoU: 0.5570\n",
      "Class 72 IoU: 0.4744\n",
      "Class 73 IoU: 0.2551\n",
      "Class 74 IoU: 0.3205\n",
      "Class 75 IoU: 0.0984\n",
      "Class 76 IoU: 0.1440\n",
      "Class 77 IoU: 0.0974\n",
      "Class 78 IoU: 0.3639\n",
      "Class 79 IoU: 0.4938\n",
      "Class 80 IoU: 0.3991\n",
      "Class 81 IoU: 0.0000\n",
      "Class 82 IoU: 0.0000\n",
      "Class 83 IoU: 0.4512\n",
      "Class 84 IoU: 0.6778\n",
      "Class 85 IoU: 0.1207\n",
      "Class 86 IoU: 0.3247\n",
      "Class 87 IoU: 0.0328\n",
      "Class 88 IoU: 0.0321\n",
      "Class 89 IoU: 0.0628\n",
      "Class 90 IoU: 0.2019\n",
      "Class 91 IoU: 0.5542\n",
      "Class 92 IoU: 0.5144\n",
      "Class 93 IoU: 0.0000\n",
      "Class 94 IoU: 0.0000\n",
      "Class 95 IoU: 0.5271\n",
      "Class 96 IoU: 0.5834\n",
      "Class 97 IoU: 0.1814\n",
      "Class 98 IoU: 0.3945\n",
      "Class 99 IoU: 0.0096\n",
      "Class 100 IoU: 0.0331\n",
      "Class 101 IoU: 0.1673\n",
      "Class 102 IoU: 0.1787\n",
      "Class 103 IoU: 0.5308\n",
      "Class 104 IoU: 0.5444\n",
      "Class 105 IoU: 0.0573\n",
      "Class 106 IoU: 0.0000\n",
      "Class 107 IoU: 0.5686\n",
      "Class 108 IoU: 0.6017\n",
      "Class 109 IoU: 0.1645\n",
      "Class 110 IoU: 0.3699\n",
      "Class 111 IoU: 0.0417\n",
      "Class 112 IoU: 0.1140\n",
      "Class 113 IoU: 0.1358\n",
      "Class 114 IoU: 0.3039\n",
      "Class 115 IoU: 0.5907\n",
      "Class 116 IoU: 0.6116\n",
      "Class 117 IoU: 0.0000\n",
      "Class 118 IoU: 0.0000\n",
      "Class 119 IoU: 0.5485\n",
      "Class 120 IoU: 0.5111\n",
      "Class 121 IoU: 0.1093\n",
      "Class 122 IoU: 0.3000\n",
      "Class 123 IoU: 0.0208\n",
      "Class 124 IoU: 0.0367\n",
      "Class 125 IoU: 0.2245\n",
      "Class 126 IoU: 0.3018\n",
      "Class 127 IoU: 0.5154\n",
      "Class 128 IoU: 0.4473\n",
      "Class 129 IoU: 0.0000\n",
      "Class 130 IoU: 0.0000\n",
      "Class 131 IoU: 0.6349\n",
      "Class 132 IoU: 0.4574\n",
      "Class 133 IoU: 0.0263\n",
      "Class 134 IoU: 0.3943\n",
      "Class 135 IoU: 0.0427\n",
      "Class 136 IoU: 0.0400\n",
      "Class 137 IoU: 0.1122\n",
      "Class 138 IoU: 0.1622\n",
      "Class 139 IoU: 0.2827\n",
      "Class 140 IoU: 0.5414\n",
      "Class 141 IoU: 0.0000\n",
      "Class 142 IoU: 0.0000\n",
      "Class 143 IoU: 0.3962\n",
      "Class 144 IoU: 0.6447\n",
      "Class 145 IoU: 0.0306\n",
      "Class 146 IoU: 0.4364\n",
      "Class 147 IoU: 0.0009\n",
      "Class 148 IoU: 0.0388\n",
      "Class 149 IoU: 0.2125\n",
      "Class 150 IoU: 0.4945\n",
      "Class 151 IoU: 0.5670\n",
      "Class 152 IoU: 0.6175\n",
      "Class 153 IoU: 0.0000\n",
      "Class 154 IoU: 0.0000\n",
      "Class 155 IoU: 0.5658\n",
      "Class 156 IoU: 0.5554\n",
      "Class 157 IoU: 0.0892\n",
      "Class 158 IoU: 0.3853\n",
      "Class 159 IoU: 0.0201\n",
      "Class 160 IoU: 0.0359\n",
      "Class 161 IoU: 0.1540\n",
      "Class 162 IoU: 0.2000\n",
      "Class 163 IoU: 0.5906\n",
      "Class 164 IoU: 0.6909\n",
      "Class 165 IoU: 0.0000\n",
      "Class 166 IoU: 0.0000\n",
      "Class 167 IoU: 0.5946\n",
      "Class 168 IoU: 0.6428\n",
      "Class 169 IoU: 0.2413\n",
      "Class 170 IoU: 0.3143\n",
      "Class 171 IoU: 0.0157\n",
      "Class 172 IoU: 0.0734\n",
      "Class 173 IoU: 0.1470\n",
      "Class 174 IoU: 0.3857\n",
      "Class 175 IoU: 0.6523\n",
      "Class 176 IoU: 0.6513\n",
      "Class 177 IoU: 0.0000\n",
      "Class 178 IoU: 0.0000\n",
      "Class 179 IoU: 0.5143\n",
      "Class 180 IoU: 0.6149\n",
      "Class 181 IoU: 0.0075\n",
      "Class 182 IoU: 0.2538\n",
      "Class 183 IoU: 0.0058\n",
      "Class 184 IoU: 0.0188\n",
      "Class 185 IoU: 0.1186\n",
      "Class 186 IoU: 0.3412\n",
      "Class 187 IoU: 0.5535\n",
      "Class 188 IoU: 0.4793\n",
      "Class 189 IoU: 0.0000\n",
      "Class 190 IoU: 0.0000\n",
      "Class 191 IoU: 0.5918\n",
      "Class 192 IoU: 0.6053\n",
      "Class 193 IoU: 0.0175\n",
      "Class 194 IoU: 0.3232\n",
      "Class 195 IoU: 0.1519\n",
      "Class 196 IoU: 0.0475\n",
      "Class 197 IoU: 0.1024\n",
      "Class 198 IoU: 0.2601\n",
      "Class 199 IoU: 0.5733\n",
      "Class 200 IoU: 0.6728\n",
      "Class 201 IoU: 0.0000\n",
      "Class 202 IoU: 0.0000\n",
      "Class 203 IoU: 0.4894\n",
      "Class 204 IoU: 0.5083\n",
      "Class 205 IoU: 0.0504\n",
      "Class 206 IoU: 0.2944\n",
      "Class 207 IoU: 0.1334\n",
      "Class 208 IoU: 0.2025\n",
      "Class 209 IoU: 0.0670\n",
      "Class 210 IoU: 0.2787\n",
      "Class 211 IoU: 0.4251\n",
      "Class 212 IoU: 0.6313\n",
      "Class 213 IoU: 0.0000\n",
      "Class 214 IoU: 0.0000\n",
      "Class 215 IoU: 0.3907\n",
      "Class 216 IoU: 0.4783\n",
      "Class 217 IoU: 0.2117\n",
      "Class 218 IoU: 0.2381\n",
      "Class 219 IoU: 0.1230\n",
      "Class 220 IoU: 0.0389\n",
      "Class 221 IoU: 0.0868\n",
      "Class 222 IoU: 0.1534\n",
      "Class 223 IoU: 0.2226\n",
      "Class 224 IoU: 0.5988\n",
      "Class 225 IoU: 0.0000\n",
      "Class 226 IoU: 0.0000\n",
      "Class 227 IoU: 0.4773\n",
      "Class 228 IoU: 0.5204\n",
      "Class 229 IoU: 0.0961\n",
      "Class 230 IoU: 0.4347\n",
      "Class 231 IoU: 0.0312\n",
      "Class 232 IoU: 0.0159\n",
      "Class 233 IoU: 0.0738\n",
      "Class 234 IoU: 0.1616\n",
      "Class 235 IoU: 0.5190\n",
      "Class 236 IoU: 0.6272\n",
      "Class 237 IoU: 0.0000\n",
      "Class 238 IoU: 0.0000\n",
      "Class 239 IoU: 0.4946\n",
      "Class 240 IoU: 0.5519\n",
      "Class 241 IoU: 0.2232\n",
      "Class 242 IoU: 0.3494\n",
      "Class 243 IoU: 0.0355\n",
      "Class 244 IoU: 0.0801\n",
      "Class 245 IoU: 0.0926\n",
      "Class 246 IoU: 0.1862\n",
      "Class 247 IoU: 0.5257\n",
      "Class 248 IoU: 0.4432\n",
      "Class 249 IoU: 0.0000\n",
      "Class 250 IoU: 0.0000\n",
      "Class 251 IoU: 0.3737\n",
      "Class 252 IoU: 0.5771\n",
      "Class 253 IoU: 0.0527\n",
      "Class 254 IoU: 0.3991\n",
      "Class 255 IoU: 0.0601\n",
      "Class 256 IoU: 0.0241\n",
      "Class 257 IoU: 0.1785\n",
      "Class 258 IoU: 0.2579\n",
      "Class 259 IoU: 0.5186\n",
      "Class 260 IoU: 0.6507\n",
      "Class 261 IoU: 0.0000\n",
      "Class 262 IoU: 0.0000\n",
      "Class 263 IoU: 0.6238\n",
      "Class 264 IoU: 0.5792\n",
      "Class 265 IoU: 0.0138\n",
      "Class 266 IoU: 0.2793\n",
      "Class 267 IoU: 0.1005\n",
      "Class 268 IoU: 0.0483\n",
      "Class 269 IoU: 0.1551\n",
      "Class 270 IoU: 0.1951\n",
      "Class 271 IoU: 0.5800\n",
      "Class 272 IoU: 0.5624\n",
      "Class 273 IoU: 0.0000\n",
      "Class 274 IoU: 0.0000\n",
      "Class 275 IoU: 0.4843\n",
      "Class 276 IoU: 0.5248\n",
      "Class 277 IoU: 0.0432\n",
      "Class 278 IoU: 0.3040\n",
      "Class 279 IoU: 0.0574\n",
      "Class 280 IoU: 0.1789\n",
      "Class 281 IoU: 0.0930\n",
      "Class 282 IoU: 0.2739\n",
      "Class 283 IoU: 0.4628\n",
      "Class 284 IoU: 0.4860\n",
      "Class 285 IoU: 0.0000\n",
      "Class 286 IoU: 0.0000\n",
      "Class 287 IoU: 0.4954\n",
      "Class 288 IoU: 0.5367\n",
      "Class 289 IoU: 0.0827\n",
      "Class 290 IoU: 0.2563\n",
      "Class 291 IoU: 0.0675\n",
      "Class 292 IoU: 0.2343\n",
      "Class 293 IoU: 0.1362\n",
      "Class 294 IoU: 0.2412\n",
      "Class 295 IoU: 0.4061\n",
      "Class 296 IoU: 0.5920\n",
      "Class 297 IoU: 0.0000\n",
      "Class 298 IoU: 0.0000\n",
      "Class 299 IoU: 0.5932\n",
      "Class 300 IoU: 0.6206\n",
      "Class 301 IoU: 0.0568\n",
      "Class 302 IoU: 0.3338\n",
      "Class 303 IoU: 0.0079\n",
      "Class 304 IoU: 0.0631\n",
      "Class 305 IoU: 0.1491\n",
      "Class 306 IoU: 0.1530\n",
      "Class 307 IoU: 0.5725\n",
      "Class 308 IoU: 0.6525\n",
      "Class 309 IoU: 0.0000\n",
      "Class 310 IoU: 0.0000\n",
      "Class 311 IoU: 0.4666\n",
      "Class 312 IoU: 0.5717\n",
      "Class 313 IoU: 0.1146\n",
      "Class 314 IoU: 0.3847\n",
      "Class 315 IoU: 0.0760\n",
      "Class 316 IoU: 0.0414\n",
      "Class 317 IoU: 0.2564\n",
      "Class 318 IoU: 0.2071\n",
      "Class 319 IoU: 0.5378\n",
      "Class 320 IoU: 0.6117\n",
      "Class 321 IoU: 0.0000\n",
      "Class 322 IoU: 0.0000\n",
      "Class 323 IoU: 0.4886\n",
      "Class 324 IoU: 0.6104\n",
      "Class 325 IoU: 0.0036\n",
      "Class 326 IoU: 0.4144\n",
      "Class 327 IoU: 0.0217\n",
      "Class 328 IoU: 0.0081\n",
      "Class 329 IoU: 0.1631\n",
      "Class 330 IoU: 0.2332\n",
      "Class 331 IoU: 0.5106\n",
      "Class 332 IoU: 0.6195\n",
      "Class 333 IoU: 0.0000\n",
      "Class 334 IoU: 0.0000\n",
      "Class 335 IoU: 0.5269\n",
      "Class 336 IoU: 0.4808\n",
      "Class 337 IoU: 0.0644\n",
      "Class 338 IoU: 0.3360\n",
      "Class 339 IoU: 0.0408\n",
      "Class 340 IoU: 0.0094\n",
      "Class 341 IoU: 0.0814\n",
      "Class 342 IoU: 0.3338\n",
      "Class 343 IoU: 0.3832\n",
      "Class 344 IoU: 0.3712\n",
      "Class 345 IoU: 0.0000\n",
      "Class 346 IoU: 0.0000\n",
      "Class 347 IoU: 0.4767\n",
      "Class 348 IoU: 0.8416\n",
      "Class 349 IoU: 0.0185\n",
      "Class 350 IoU: 0.2103\n",
      "Class 351 IoU: 0.0000\n",
      "Class 352 IoU: 0.3577\n",
      "Class 353 IoU: 0.0000\n",
      "Class 354 IoU: 0.6622\n",
      "Class 355 IoU: 0.7155\n",
      "Class 356 IoU: 0.4095\n",
      "Class 357 IoU: 0.0000\n",
      "Class 358 IoU: 0.0000\n",
      "Class 359 IoU: 0.6793\n"
     ]
    },
    {
     "name": "stderr",
     "output_type": "stream",
     "text": [
      "\n"
     ]
    }
   ],
   "source": [
    "\n",
    "# # 클래스(레이블) 수\n",
    "# num_classes = 12\n",
    "\n",
    "# # training loop\n",
    "# for epoch in range(1):  # 5 에폭 동안 학습합니다.\n",
    "          \n",
    "#     # 클래스별 IoU를 누적할 리스트 초기화\n",
    "#     class_ious = []\n",
    "    \n",
    "#     # validation\n",
    "#     val_loss = 0\n",
    "#     class_ious = []  # 클래스별 IoU를 누적할 리스트 초기화\n",
    "#     with torch.no_grad():\n",
    "#         model.eval()\n",
    "#         for images, masks in tqdm(valid_dataloader):\n",
    "#             images = images.float().to(device)\n",
    "#             masks = masks.long().to(device)\n",
    "#             outputs = model(images)\n",
    "\n",
    "#             # validation loss 계산\n",
    "#             val_loss += criterion(outputs, masks.squeeze(1)).item()\n",
    "\n",
    "#             # validation 클래스별 IoU 계산\n",
    "#             outputs = torch.softmax(outputs, dim=1).cpu()\n",
    "#             outputs = torch.argmax(outputs, dim=1).numpy()\n",
    "\n",
    "#             for class_id in range(num_classes):\n",
    "#                 iou = calculate_iou_per_class(np.array(masks.cpu()), np.array(outputs), class_id)\n",
    "#                 class_ious.append(iou)\n",
    "                \n",
    "#     for class_id, iou in enumerate(class_ious):\n",
    "#         print(f'Class {class_id} IoU: {iou:.4f}')           \n",
    "   \n",
    "#     # mIoU 계산\n",
    "#     val_mIoU = np.mean(class_ious)\n",
    "\n"
   ]
  },
  {
   "cell_type": "code",
   "execution_count": null,
   "id": "355b431c-ac8e-4c40-9046-4d53e4bab14a",
   "metadata": {},
   "outputs": [
    {
     "name": "stderr",
     "output_type": "stream",
     "text": [
      "  0%|          | 0/30 [00:03<?, ?it/s]\n"
     ]
    },
    {
     "ename": "ValueError",
     "evalue": "operands could not be broadcast together with shapes (2,224,224) (16,224,224) ",
     "output_type": "error",
     "traceback": [
      "\u001b[0;31m---------------------------------------------------------------------------\u001b[0m",
      "\u001b[0;31mValueError\u001b[0m                                Traceback (most recent call last)",
      "\u001b[1;32m/home/MMI24limbyungwan/Design_Project/Design_project/[Baseline]_Run Length Encoding + U-Net Semantic Segmentation_LBW.ipynb 셀 19\u001b[0m line \u001b[0;36m1\n\u001b[1;32m      <a href='vscode-notebook-cell://ssh-remote%2B163.239.13.23/home/MMI24limbyungwan/Design_Project/Design_project/%5BBaseline%5D_Run%20Length%20Encoding%20%2B%20U-Net%20Semantic%20Segmentation_LBW.ipynb#X22sdnNjb2RlLXJlbW90ZQ%3D%3D?line=8'>9</a>\u001b[0m \u001b[39m# batch에 존재하는 각 이미지에 대해서 반복\u001b[39;00m\n\u001b[1;32m     <a href='vscode-notebook-cell://ssh-remote%2B163.239.13.23/home/MMI24limbyungwan/Design_Project/Design_project/%5BBaseline%5D_Run%20Length%20Encoding%20%2B%20U-Net%20Semantic%20Segmentation_LBW.ipynb#X22sdnNjb2RlLXJlbW90ZQ%3D%3D?line=9'>10</a>\u001b[0m \u001b[39mfor\u001b[39;00m class_id \u001b[39min\u001b[39;00m \u001b[39mrange\u001b[39m(num_classes):\n\u001b[0;32m---> <a href='vscode-notebook-cell://ssh-remote%2B163.239.13.23/home/MMI24limbyungwan/Design_Project/Design_project/%5BBaseline%5D_Run%20Length%20Encoding%20%2B%20U-Net%20Semantic%20Segmentation_LBW.ipynb#X22sdnNjb2RlLXJlbW90ZQ%3D%3D?line=10'>11</a>\u001b[0m     iou \u001b[39m=\u001b[39m calculate_iou_per_class(np\u001b[39m.\u001b[39;49marray(masks\u001b[39m.\u001b[39;49mcpu()), np\u001b[39m.\u001b[39;49marray(outputs), class_id)\n\u001b[1;32m     <a href='vscode-notebook-cell://ssh-remote%2B163.239.13.23/home/MMI24limbyungwan/Design_Project/Design_project/%5BBaseline%5D_Run%20Length%20Encoding%20%2B%20U-Net%20Semantic%20Segmentation_LBW.ipynb#X22sdnNjb2RlLXJlbW90ZQ%3D%3D?line=11'>12</a>\u001b[0m     class_ious\u001b[39m.\u001b[39mappend(iou)\n\u001b[1;32m     <a href='vscode-notebook-cell://ssh-remote%2B163.239.13.23/home/MMI24limbyungwan/Design_Project/Design_project/%5BBaseline%5D_Run%20Length%20Encoding%20%2B%20U-Net%20Semantic%20Segmentation_LBW.ipynb#X22sdnNjb2RlLXJlbW90ZQ%3D%3D?line=12'>13</a>\u001b[0m \u001b[39mfor\u001b[39;00m class_id, iou \u001b[39min\u001b[39;00m \u001b[39menumerate\u001b[39m(class_ious):\n",
      "\u001b[1;32m/home/MMI24limbyungwan/Design_Project/Design_project/[Baseline]_Run Length Encoding + U-Net Semantic Segmentation_LBW.ipynb 셀 19\u001b[0m line \u001b[0;36m2\n\u001b[1;32m     <a href='vscode-notebook-cell://ssh-remote%2B163.239.13.23/home/MMI24limbyungwan/Design_Project/Design_project/%5BBaseline%5D_Run%20Length%20Encoding%20%2B%20U-Net%20Semantic%20Segmentation_LBW.ipynb#X22sdnNjb2RlLXJlbW90ZQ%3D%3D?line=27'>28</a>\u001b[0m \u001b[39mdef\u001b[39;00m \u001b[39mcalculate_iou_per_class\u001b[39m(y_true, y_pred, class_id):\n\u001b[0;32m---> <a href='vscode-notebook-cell://ssh-remote%2B163.239.13.23/home/MMI24limbyungwan/Design_Project/Design_project/%5BBaseline%5D_Run%20Length%20Encoding%20%2B%20U-Net%20Semantic%20Segmentation_LBW.ipynb#X22sdnNjb2RlLXJlbW90ZQ%3D%3D?line=28'>29</a>\u001b[0m     intersection \u001b[39m=\u001b[39m np\u001b[39m.\u001b[39msum((y_true \u001b[39m==\u001b[39;49m class_id) \u001b[39m&\u001b[39;49m (y_pred \u001b[39m==\u001b[39;49m class_id))\n\u001b[1;32m     <a href='vscode-notebook-cell://ssh-remote%2B163.239.13.23/home/MMI24limbyungwan/Design_Project/Design_project/%5BBaseline%5D_Run%20Length%20Encoding%20%2B%20U-Net%20Semantic%20Segmentation_LBW.ipynb#X22sdnNjb2RlLXJlbW90ZQ%3D%3D?line=29'>30</a>\u001b[0m     union \u001b[39m=\u001b[39m np\u001b[39m.\u001b[39msum((y_true \u001b[39m==\u001b[39m class_id) \u001b[39m|\u001b[39m (y_pred \u001b[39m==\u001b[39m class_id))\n\u001b[1;32m     <a href='vscode-notebook-cell://ssh-remote%2B163.239.13.23/home/MMI24limbyungwan/Design_Project/Design_project/%5BBaseline%5D_Run%20Length%20Encoding%20%2B%20U-Net%20Semantic%20Segmentation_LBW.ipynb#X22sdnNjb2RlLXJlbW90ZQ%3D%3D?line=30'>31</a>\u001b[0m     iou \u001b[39m=\u001b[39m intersection \u001b[39m/\u001b[39m union \u001b[39mif\u001b[39;00m union \u001b[39m>\u001b[39m \u001b[39m0\u001b[39m \u001b[39melse\u001b[39;00m \u001b[39m0\u001b[39m\n",
      "\u001b[0;31mValueError\u001b[0m: operands could not be broadcast together with shapes (2,224,224) (16,224,224) "
     ]
    }
   ],
   "source": [
    "# with torch.no_grad():\n",
    "#     model.eval()\n",
    "#     result = []\n",
    "#     for images in tqdm(test_dataloader):\n",
    "#         images = images.float().to(device)\n",
    "#         outputs = model(images)\n",
    "#         outputs = torch.softmax(outputs, dim=1).cpu()\n",
    "#         outputs = torch.argmax(outputs, dim=1).numpy()\n",
    "#         # batch에 존재하는 각 이미지에 대해서 반복\n",
    "#         for pred in outputs:\n",
    "#             pred = pred.astype(np.uint8)\n",
    "#             pred = Image.fromarray(pred) # 이미지로 변환\n",
    "#             pred = pred.resize((960, 540), Image.NEAREST) # 960 x 540 사이즈로 변환\n",
    "#             pred = np.array(pred) # 다시 수치로 변환\n",
    "#             # class 0 ~ 11에 해당하는 경우에 마스크 형성 / 12(배경)는 제외하고 진행\n",
    "#             for class_id in range(12):\n",
    "#                 class_mask = (pred == class_id).astype(np.uint8)\n",
    "#                 if np.sum(class_mask) > 0: # 마스크가 존재하는 경우 encode\n",
    "#                     mask_rle = rle_encode(class_mask)\n",
    "#                     result.append(mask_rle)\n",
    "#                 else: # 마스크가 존재하지 않는 경우 -1\n",
    "#                     result.append(-1)\n",
    "    \n"
   ]
  },
  {
   "attachments": {},
   "cell_type": "markdown",
   "id": "36c2cbbb-04f1-4f9c-b4df-4b744dfce046",
   "metadata": {},
   "source": [
    "## Submission"
   ]
  },
  {
   "cell_type": "code",
   "execution_count": null,
   "id": "35ac2a0b",
   "metadata": {},
   "outputs": [
    {
     "data": {
      "text/html": [
       "<div>\n",
       "<style scoped>\n",
       "    .dataframe tbody tr th:only-of-type {\n",
       "        vertical-align: middle;\n",
       "    }\n",
       "\n",
       "    .dataframe tbody tr th {\n",
       "        vertical-align: top;\n",
       "    }\n",
       "\n",
       "    .dataframe thead th {\n",
       "        text-align: right;\n",
       "    }\n",
       "</style>\n",
       "<table border=\"1\" class=\"dataframe\">\n",
       "  <thead>\n",
       "    <tr style=\"text-align: right;\">\n",
       "      <th></th>\n",
       "      <th>id</th>\n",
       "      <th>mask_rle</th>\n",
       "    </tr>\n",
       "  </thead>\n",
       "  <tbody>\n",
       "    <tr>\n",
       "      <th>0</th>\n",
       "      <td>TEST_0000_class_0</td>\n",
       "      <td>477314 4 478274 4 479242 5 479255 9 480202 5 4...</td>\n",
       "    </tr>\n",
       "    <tr>\n",
       "      <th>1</th>\n",
       "      <td>TEST_0000_class_1</td>\n",
       "      <td>-1</td>\n",
       "    </tr>\n",
       "    <tr>\n",
       "      <th>2</th>\n",
       "      <td>TEST_0000_class_2</td>\n",
       "      <td>1 167 601 527 1561 531 2521 531 3481 531 4441 ...</td>\n",
       "    </tr>\n",
       "    <tr>\n",
       "      <th>3</th>\n",
       "      <td>TEST_0000_class_3</td>\n",
       "      <td>462824 13 463784 13 464744 13 465704 17 466664...</td>\n",
       "    </tr>\n",
       "    <tr>\n",
       "      <th>4</th>\n",
       "      <td>TEST_0000_class_4</td>\n",
       "      <td>-1</td>\n",
       "    </tr>\n",
       "    <tr>\n",
       "      <th>...</th>\n",
       "      <td>...</td>\n",
       "      <td>...</td>\n",
       "    </tr>\n",
       "    <tr>\n",
       "      <th>22771</th>\n",
       "      <td>TEST_1897_class_7</td>\n",
       "      <td>944 17 1904 17 2860 4 3820 4 4780 4 5757 4 671...</td>\n",
       "    </tr>\n",
       "    <tr>\n",
       "      <th>22772</th>\n",
       "      <td>TEST_1897_class_8</td>\n",
       "      <td>112 528 682 120 1072 528 1642 120 2037 518 260...</td>\n",
       "    </tr>\n",
       "    <tr>\n",
       "      <th>22773</th>\n",
       "      <td>TEST_1897_class_9</td>\n",
       "      <td>209002 9 209962 9 220021 4 220981 4 221937 4 2...</td>\n",
       "    </tr>\n",
       "    <tr>\n",
       "      <th>22774</th>\n",
       "      <td>TEST_1897_class_10</td>\n",
       "      <td>-1</td>\n",
       "    </tr>\n",
       "    <tr>\n",
       "      <th>22775</th>\n",
       "      <td>TEST_1897_class_11</td>\n",
       "      <td>194110 25 194140 8 194478 13 195070 25 195100 ...</td>\n",
       "    </tr>\n",
       "  </tbody>\n",
       "</table>\n",
       "<p>22776 rows × 2 columns</p>\n",
       "</div>"
      ],
      "text/plain": [
       "                       id                                           mask_rle\n",
       "0       TEST_0000_class_0  477314 4 478274 4 479242 5 479255 9 480202 5 4...\n",
       "1       TEST_0000_class_1                                                 -1\n",
       "2       TEST_0000_class_2  1 167 601 527 1561 531 2521 531 3481 531 4441 ...\n",
       "3       TEST_0000_class_3  462824 13 463784 13 464744 13 465704 17 466664...\n",
       "4       TEST_0000_class_4                                                 -1\n",
       "...                   ...                                                ...\n",
       "22771   TEST_1897_class_7  944 17 1904 17 2860 4 3820 4 4780 4 5757 4 671...\n",
       "22772   TEST_1897_class_8  112 528 682 120 1072 528 1642 120 2037 518 260...\n",
       "22773   TEST_1897_class_9  209002 9 209962 9 220021 4 220981 4 221937 4 2...\n",
       "22774  TEST_1897_class_10                                                 -1\n",
       "22775  TEST_1897_class_11  194110 25 194140 8 194478 13 195070 25 195100 ...\n",
       "\n",
       "[22776 rows x 2 columns]"
      ]
     },
     "execution_count": 10,
     "metadata": {},
     "output_type": "execute_result"
    }
   ],
   "source": [
    "# submit = pd.read_csv('./sample_submission.csv')\n",
    "# submit['mask_rle'] = result\n",
    "# submit"
   ]
  },
  {
   "cell_type": "code",
   "execution_count": null,
   "id": "da10cb6f-0826-4755-a376-97b695ae8f86",
   "metadata": {},
   "outputs": [],
   "source": [
    "# submit.to_csv('C:\\Workspace\\Design_project\\submission/baseline_submit.csv', index=False)"
   ]
  }
 ],
 "metadata": {
  "kernelspec": {
   "display_name": "seungyoon2",
   "language": "python",
   "name": "python3"
  },
  "language_info": {
   "codemirror_mode": {
    "name": "ipython",
    "version": 3
   },
   "file_extension": ".py",
   "mimetype": "text/x-python",
   "name": "python",
   "nbconvert_exporter": "python",
   "pygments_lexer": "ipython3",
   "version": "3.8.17"
  }
 },
 "nbformat": 4,
 "nbformat_minor": 5
}
