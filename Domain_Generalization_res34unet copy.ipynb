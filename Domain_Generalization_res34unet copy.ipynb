{
 "cells": [
  {
   "cell_type": "code",
   "execution_count": 1,
   "metadata": {},
   "outputs": [
    {
     "name": "stderr",
     "output_type": "stream",
     "text": [
      "/home/MMI24limbyungwan/.conda/envs/byungwan_resn/lib/python3.8/site-packages/tqdm/auto.py:21: TqdmWarning: IProgress not found. Please update jupyter and ipywidgets. See https://ipywidgets.readthedocs.io/en/stable/user_install.html\n",
      "  from .autonotebook import tqdm as notebook_tqdm\n"
     ]
    }
   ],
   "source": [
    "import os\n",
    "import cv2\n",
    "from PIL import Image\n",
    "import pandas as pd\n",
    "import numpy as np\n",
    "\n",
    "import torch\n",
    "import torch.nn as nn\n",
    "import torch.nn.functional as F\n",
    "from torch.utils.data import Dataset, DataLoader\n",
    "from torchvision import transforms\n",
    "#from torch.optim.lr_scheduler import _LRScheduler\n",
    "\n",
    "from tqdm import tqdm\n",
    "import albumentations as A\n",
    "from albumentations.pytorch import ToTensorV2\n",
    "\n",
    "from torchvision import models\n",
    "from torchsummary import summary\n",
    "import torch.nn.functional as F\n"
   ]
  },
  {
   "cell_type": "code",
   "execution_count": 2,
   "metadata": {},
   "outputs": [
    {
     "name": "stdout",
     "output_type": "stream",
     "text": [
      "cuda\n",
      "2\n"
     ]
    }
   ],
   "source": [
    "\n",
    "# GPU 사용이 가능할 경우, GPU를 사용할 수 있게 함.'\n",
    "os.environ['CUDA_VISIBLE_DEVICES'] = '2'\n",
    "device = \"cuda\" if torch.cuda.is_available() else \"cpu\"\n",
    "device = torch.device(device)\n",
    "print(device)\n",
    "\n",
    "print(os.environ.get('CUDA_VISIBLE_DEVICES'))"
   ]
  },
  {
   "cell_type": "code",
   "execution_count": 3,
   "metadata": {},
   "outputs": [],
   "source": [
    "# RLE 인코딩 함수\n",
    "def rle_encode(mask):\n",
    "    pixels = mask.flatten()\n",
    "    pixels = np.concatenate([[0], pixels, [0]])\n",
    "    runs = np.where(pixels[1:] != pixels[:-1])[0] + 1\n",
    "    runs[1::2] -= runs[::2]\n",
    "    return ' '.join(str(x) for x in runs)\n",
    "\n",
    "# 클래스별 IoU를 계산하기 위한 함수\n",
    "def calculate_iou_per_class(y_true, y_pred, class_id):\n",
    "    intersection = np.sum((y_true == class_id) & (y_pred == class_id))\n",
    "    union = np.sum((y_true == class_id) | (y_pred == class_id))\n",
    "    iou = intersection / union if union > 0 else 0\n",
    "    return iou\n",
    "\n",
    "def calculate_ious(y_true, y_pred, class_num):\n",
    "    ious = []\n",
    "    for class_id in range(class_num):\n",
    "        intersection = np.sum((y_true == class_id) & (y_pred == class_id))\n",
    "        union = np.sum((y_true == class_id) | (y_pred == class_id))\n",
    "        iou = intersection / union if union > 0 else 0\n",
    "        ious.append(iou)\n",
    "    return ious\n",
    "\n",
    "def apply_fisheye_distortion(images, masks, label):\n",
    "    # 이미지 크기 가져오기\n",
    "    batch, channel, height, width = images.shape\n",
    "\n",
    "    # 카메라 매트릭스 생성\n",
    "    focal_length = width / 4\n",
    "    center_x = width / 2\n",
    "    center_y = height / 2\n",
    "    camera_matrix = np.array([[focal_length, 0, center_x],\n",
    "                              [0, focal_length, center_y],\n",
    "                              [0, 0, 1]], dtype=np.float32)\n",
    "\n",
    "    # 왜곡 계수 생성\n",
    "    dist_coeffs = np.array([0, 0.02 * label, 0, 0], dtype=np.float32)\n",
    "\n",
    "    # 왜곡 보정\n",
    "    undistorted_images = []\n",
    "    undistorted_masks = []\n",
    "\n",
    "    for i in range(batch):\n",
    "        image = images[i].permute(1, 2, 0).cpu().numpy()  # 텐서를 NumPy 배열로 변환\n",
    "        mask = masks[i].cpu().numpy()\n",
    "        undistorted_image = cv2.undistort(image, camera_matrix, dist_coeffs)\n",
    "        undistorted_mask = cv2.undistort(mask, camera_matrix, dist_coeffs)\n",
    "        undistorted_mask = np.round(undistorted_mask).astype(np.uint8)\n",
    "        undistorted_mask[undistorted_mask > 12] = 12\n",
    "\n",
    "        # 다시 텐서로 변환\n",
    "        undistorted_image = torch.from_numpy(undistorted_image).permute(2, 0, 1).float().to(device)\n",
    "        undistorted_mask = torch.from_numpy(undistorted_mask).long().to(device)\n",
    "\n",
    "        undistorted_images.append(undistorted_image)\n",
    "        undistorted_masks.append(undistorted_mask)\n",
    "\n",
    "    undistorted_images = torch.stack(undistorted_images, dim=0)\n",
    "    undistorted_masks = torch.stack(undistorted_masks, dim=0)\n",
    "\n",
    "    return undistorted_images, undistorted_masks"
   ]
  },
  {
   "cell_type": "markdown",
   "metadata": {},
   "source": [
    "## 데이터셋"
   ]
  },
  {
   "cell_type": "code",
   "execution_count": 4,
   "metadata": {},
   "outputs": [],
   "source": [
    "class CustomDataset(Dataset):\n",
    "    def __init__(self, csv_file, transform=None, infer=False):\n",
    "        self.data = pd.read_csv(csv_file)\n",
    "        self.transform = transform\n",
    "        self.infer = infer\n",
    "\n",
    "    def __len__(self):\n",
    "        return len(self.data)\n",
    "\n",
    "    def __getitem__(self, idx):\n",
    "        #directory_path = \"/mnt/nas27/Dataset/Samsung_DM\"\n",
    "        directory_path = './data/224'\n",
    "        img_path = self.data.iloc[idx, 1]\n",
    "        img_path = os.path.join(directory_path, img_path)\n",
    "        image = cv2.imread(img_path)\n",
    "        image = cv2.cvtColor(image, cv2.COLOR_BGR2RGB)\n",
    "        #image = cv2.cvtColor(image, cv2.COLOR_BGR2GRAY)\n",
    "        \n",
    "        if self.infer:\n",
    "            if self.transform:\n",
    "                image = self.transform(image=image)['image']\n",
    "            return image\n",
    "        \n",
    "        mask_path = self.data.iloc[idx, 2]\n",
    "        mask_path = os.path.join(directory_path, mask_path)\n",
    "        mask = cv2.imread(mask_path)\n",
    "        #mask = cv2.cvtColor(mask, cv2.COLOR_BGR2RGB)\n",
    "        mask = cv2.cvtColor(mask, cv2.COLOR_BGR2GRAY)\n",
    "        mask = np.round(mask).astype(np.uint8)\n",
    "        mask[mask > 12] = 12 #배경을 픽셀값 12로 간주\n",
    "        mask += 1\n",
    "        mask[mask == 13] = 0\n",
    "\n",
    "        if self.transform:\n",
    "            augmented = self.transform(image=image, mask=mask)\n",
    "            image = augmented['image']\n",
    "            mask = augmented['mask']\n",
    "\n",
    "        return image, mask\n",
    "\n",
    "transform = A.Compose(\n",
    "    [   \n",
    "        A.GaussNoise(var_limit=(10.0, 30.0), p=0.3),\n",
    "        A.Normalize(),\n",
    "        \n",
    "        # 변형\n",
    "        # A.VerticalFlip(p=0.5),\n",
    "        # A.RandomRotate90(p=0.5),\n",
    "        # A.HueSaturationValue(p=0.2),\n",
    "        \n",
    "        ToTensorV2()\n",
    "    ]\n",
    ")"
   ]
  },
  {
   "cell_type": "markdown",
   "metadata": {},
   "source": [
    "## 모델 선언"
   ]
  },
  {
   "cell_type": "code",
   "execution_count": 5,
   "metadata": {},
   "outputs": [],
   "source": [
    "class GradReverse(torch.autograd.Function):\n",
    "    @staticmethod\n",
    "    def forward(self, x):\n",
    "        return x.view_as(x)\n",
    "    @staticmethod\n",
    "    def backward(self, grad_output): # 역전파 시에 gradient에 음수를 취함\n",
    "        return grad_output * (-1)\n",
    "\n",
    "class domain_classifier(nn.Module):\n",
    "    def __init__(self):\n",
    "        super(domain_classifier, self).__init__()\n",
    "        self.fc1 = nn.Linear(224*224*64, 10)\n",
    "        self.fc2 = nn.Linear(10, 4) # source = 0, target = 1 회귀 가정\n",
    "\n",
    "    def forward(self, x):\n",
    "        x = x.view(-1, 224*224*64)\n",
    "        x = GradReverse.apply(x) # gradient reverse\n",
    "        x = F.leaky_relu(self.fc1(x))\n",
    "        x = self.fc2(x)\n",
    "        \n",
    "        #return torch.sigmoid(x)\n",
    "        return x\n",
    "\n",
    "class domain_linear(nn.Module):\n",
    "    def __init__(self):\n",
    "        super(domain_linear, self).__init__()\n",
    "        self.fc1 = nn.Linear(224*224*64, 10)\n",
    "        self.fc2 = nn.Linear(10, 1) # source = 0, target = 1 회귀 가정\n",
    "\n",
    "    def forward(self, x):\n",
    "        x = x.view(-1, 224*224*64)\n",
    "        x = GradReverse.apply(x) # gradient reverse\n",
    "        x = F.leaky_relu(self.fc1(x))\n",
    "        x = self.fc2(x)\n",
    "        \n",
    "        #return torch.sigmoid(x)\n",
    "        return x\n",
    "class IdentityBlock(nn.Module):\n",
    "    def __init__(self, in_channels, out_channels, stride=1):\n",
    "        super(IdentityBlock, self).__init__()\n",
    "        \n",
    "        # 3x3 convolution\n",
    "        self.conv1 = nn.Conv2d(in_channels, in_channels, kernel_size=3, padding=1, stride=stride, bias=False)\n",
    "        self.bn1 = nn.BatchNorm2d(in_channels)\n",
    "        self.relu1 = nn.ReLU()\n",
    "        \n",
    "        # 3x3 convolution\n",
    "        self.conv2 = nn.Conv2d(in_channels, out_channels, kernel_size=3, padding=1, bias=False)\n",
    "        self.bn2 = nn.BatchNorm2d(out_channels)\n",
    "        self.relu2 = nn.ReLU()\n",
    "        \n",
    "        # Skip connection\n",
    "        self.skip = nn.Sequential()\n",
    "        if stride != 1 or in_channels != out_channels:\n",
    "            self.skip = nn.Sequential(\n",
    "                nn.Conv2d(in_channels, out_channels, kernel_size=1, stride=stride, bias=False),\n",
    "                nn.BatchNorm2d(out_channels)\n",
    "            )\n",
    "        \n",
    "    def forward(self, x):\n",
    "        identity = x\n",
    "        \n",
    "        out = self.conv1(x)\n",
    "        out = self.bn1(out)\n",
    "        out = self.relu1(out)\n",
    "        \n",
    "        out = self.conv2(out)\n",
    "        out = self.bn2(out)\n",
    "        \n",
    "        # Adding the skip connection\n",
    "        out += self.skip(identity)\n",
    "        out = self.relu2(out)\n",
    "        \n",
    "        return out\n",
    "#인코더 블럭\n",
    "class Conv2(nn.Module):\n",
    "    def __init__(self,in_channels, out_channels):\n",
    "        super(Conv2,self).__init__() \n",
    "        self.identityblock1 = IdentityBlock(in_channels,in_channels)\n",
    "        self.identityblock2 = IdentityBlock(in_channels,in_channels)\n",
    "        self.identityblock3 = IdentityBlock(in_channels,out_channels)\n",
    "        self.maxpool = nn.MaxPool2d(kernel_size=3, stride=2,padding=1)\n",
    "    def forward(self,x):\n",
    "        x = self.identityblock1(x)\n",
    "        x = self.identityblock2(x)\n",
    "        x = self.identityblock3(x)\n",
    "        p = self.maxpool(x)\n",
    "        \n",
    "        return x , p\n",
    "class Conv3(nn.Module):\n",
    "    def __init__(self,in_channels, out_channels):\n",
    "        super(Conv3,self).__init__()         \n",
    "        self.identityblock1 = IdentityBlock(in_channels,in_channels)\n",
    "        self.identityblock2 = IdentityBlock(in_channels,in_channels)\n",
    "        self.identityblock3 = IdentityBlock(in_channels,in_channels)\n",
    "        self.identityblock4 = IdentityBlock(in_channels,out_channels)\n",
    "        self.maxpool = nn.MaxPool2d(kernel_size=3, stride=2,padding=1)\n",
    "    def forward(self,x):\n",
    "        x = self.identityblock1(x)\n",
    "        x = self.identityblock2(x)\n",
    "        x = self.identityblock3(x)\n",
    "        x = self.identityblock4(x)\n",
    "        p = self.maxpool(x)\n",
    "        \n",
    "        return x , p\n",
    "class Conv4(nn.Module):\n",
    "    def __init__(self,in_channels, out_channels):\n",
    "        super(Conv4,self).__init__()         \n",
    "        self.identityblock1 = IdentityBlock(in_channels,in_channels)\n",
    "        self.identityblock2 = IdentityBlock(in_channels,in_channels)\n",
    "        self.identityblock3 = IdentityBlock(in_channels,in_channels)\n",
    "        self.identityblock4 = IdentityBlock(in_channels,in_channels)\n",
    "        self.identityblock5 = IdentityBlock(in_channels,in_channels)\n",
    "        self.identityblock6 = IdentityBlock(in_channels,out_channels)\n",
    "        self.maxpool = nn.MaxPool2d(kernel_size=3, stride=2,padding=1)\n",
    "    def forward(self,x):\n",
    "        x = self.identityblock1(x)\n",
    "        x = self.identityblock2(x)\n",
    "        x = self.identityblock3(x)\n",
    "        x = self.identityblock4(x)\n",
    "        x = self.identityblock5(x)\n",
    "        x = self.identityblock6(x)\n",
    "        p = self.maxpool(x)\n",
    "        \n",
    "        return x , p\n",
    "class Conv5(nn.Module):\n",
    "    def __init__(self,in_channels, out_channels):\n",
    "        super(Conv5,self).__init__() \n",
    "        self.identityblock1 = IdentityBlock(in_channels,in_channels)\n",
    "        self.identityblock2 = IdentityBlock(in_channels,in_channels)\n",
    "        self.identityblock3 = IdentityBlock(in_channels,out_channels)\n",
    "        self.maxpool = nn.MaxPool2d(kernel_size=3, stride=2,padding=1)\n",
    "        \n",
    "    def forward(self,x):\n",
    "        x = self.identityblock1(x)\n",
    "        x = self.identityblock2(x)\n",
    "        x = self.identityblock3(x)\n",
    "        p = self.maxpool(x)\n",
    "        \n",
    "        return x , p\n",
    "#디코더 블럭\n",
    "class DecoderBlock(nn.Module):\n",
    "    def __init__(self, channels):\n",
    "        super(DecoderBlock, self).__init__()\n",
    "        self.upsample = nn.ConvTranspose2d(channels*2, channels, kernel_size=4, stride=2, padding=1) # output_padding 추가\n",
    "        self.convblock1 = IdentityBlock(channels*2, channels)\n",
    "\n",
    "    def forward(self, x, skip):\n",
    "        x = self.upsample(x)\n",
    "        if x.size(2) != skip.size(2) or x.size(3) != skip.size(3):\n",
    "            x = F.interpolate(x, size=(skip.size(2), skip.size(3)))\n",
    "        x = torch.cat([x, skip], dim=1)\n",
    "        x = self.convblock1(x)\n",
    "        #print(\"x\",x.shape,\"skip: \",skip.shape)\n",
    "        return x\n",
    "\n",
    "#Unet구조 middle의 xm값의 움직임에 주의\n",
    "class Resnet34_Unet(nn.Module):\n",
    "    def __init__(self,n_classes):\n",
    "        super(Resnet34_Unet,self).__init__()\n",
    "        self.fconv1 = nn.Conv2d(3, 64, kernel_size=7, stride=2, padding=3)\n",
    "        self.fbn1 = nn.BatchNorm2d(64)\n",
    "        self.frelu1 = nn.ReLU()\n",
    "        self.fmaxpooling = nn.MaxPool2d(kernel_size=3,stride=2,padding=1)\n",
    "        \n",
    "        self.conv2 = Conv2(64,128)\n",
    "        self.conv3 = Conv3(128,256)\n",
    "        self.conv4 = Conv4(256,512)\n",
    "        self.conv5 = Conv5(512,1024)\n",
    "        \n",
    "        self.middleconv = IdentityBlock(1024,2048)\n",
    "        self.dropout = nn.Dropout2d(0.1) #\n",
    "           \n",
    "        self.decoder5 = DecoderBlock(1024)\n",
    "        self.decoder4 = DecoderBlock(512)\n",
    "        self.decoder3 = DecoderBlock(256)\n",
    "        self.decoder2 = DecoderBlock(128)\n",
    "        self.decoder1 = DecoderBlock(64)\n",
    "        self.transpose = nn.ConvTranspose2d(64, 64, kernel_size=4, stride=2, padding=1) # output_padding 추가\n",
    "        \n",
    "        self.segmap = nn.Conv2d(64,n_classes, kernel_size=1)\n",
    "        self.domain_classifier = domain_classifier()\n",
    "        self.domain_linear = domain_linear()\n",
    "        \n",
    "    def forward(self,x):\n",
    "        x = self.fconv1(x)#3->64\n",
    "        x0 = self.fbn1(x)\n",
    "        x1 = self.frelu1(x)\n",
    "        p = self.fmaxpooling(x1)#첫 conv: x0([8, 64, 109, 109]) p([8, 64, 54, 54])\n",
    "        #print(\"conv1: \",x1.shape, \"maxpooling: \",p.shape)\n",
    "        x2,p = self.conv2(p)\n",
    "        #print(\"conv2: \",x2.shape, \"maxpooling: \",p.shape)\n",
    "        x3,p = self.conv3(p)\n",
    "        #print(\"conv3: \",x3.shape, \"maxpooling: \",p.shape)\n",
    "        x4,p = self.conv4(p)\n",
    "        #print(\"conv4: \",x4.shape, \"maxpooling: \",p.shape)\n",
    "        x5,p = self.conv5(p)\n",
    "        #print(\"conv5: \",x5.shape, \"maxpooling: \",p.shape)\n",
    "        \n",
    "        xm = self.middleconv(p)#xm([8, 4096, 2, 2])\n",
    "        #print(\"xm: \",xm.shape, \"maxpooling: \",p.shape)\n",
    "        xm = self.dropout(xm)\n",
    "        \n",
    "        x = self.decoder5(xm,x5)#뉴런:2048*2->2048 1\n",
    "        x = self.decoder4(x,x4)#뉴런:1024*2->1024 \n",
    "        x = self.decoder3(x,x3) #14\n",
    "        x = self.decoder2(x,x2)#28\n",
    "        x = self.decoder1(x,x1)#55\n",
    "        x = self.transpose(x)\n",
    "        \n",
    "        #print(x.shape)\n",
    "        #x = F.interpolate(x, size=(224, 224))\n",
    "        x_c = self.segmap(x)\n",
    "        x_d = self.domain_classifier(x)\n",
    "        \n",
    "        return x_c,x_d"
   ]
  },
  {
   "cell_type": "code",
   "execution_count": 6,
   "metadata": {},
   "outputs": [],
   "source": [
    "# import pickle\n",
    "\n",
    "# # 저장된 class_weights를 불러옵니다.\n",
    "# class_weights_path = 'CLASS_WEIGHTS.pkl'\n",
    "\n",
    "# with open(class_weights_path, 'rb') as file:\n",
    "#     CLASS_WEIGHTS = pickle.load(file)\n",
    "\n",
    "# print(CLASS_WEIGHTS)"
   ]
  },
  {
   "cell_type": "markdown",
   "metadata": {},
   "source": [
    "## Loss Function"
   ]
  },
  {
   "cell_type": "code",
   "execution_count": 7,
   "metadata": {},
   "outputs": [],
   "source": [
    "# loss function과 optimizer 정의\n",
    "\n",
    "class DANN_Loss(nn.Module):\n",
    "    def __init__(self):\n",
    "        super(DANN_Loss, self).__init__()\n",
    "\n",
    "        #self.CE = nn.CrossEntropyLoss(weight=CLASS_WEIGHTS) # 0~9 class 분류용\n",
    "        self.CE = nn.CrossEntropyLoss()\n",
    "        \n",
    "        \n",
    "    # result : DANN_CNN에서 반환된 값\n",
    "    # label : 숫자 0 ~ 9에 대한 라벨\n",
    "    # domain_num : 0(source) or 1(target)\n",
    "    def forward(self, result, label, domain_num, alpha = 1):\n",
    "        label_logits, domain_logits = result # DANN_CNN의 결과\n",
    "\n",
    "        batch_size = domain_logits.shape[0]\n",
    "\n",
    "        segment_loss = self.CE(label_logits, label) # class 분류 loss\n",
    "        \n",
    "        domain_target = torch.LongTensor([domain_num] * batch_size).to(device)\n",
    "\n",
    "        domain_loss = self.CE(domain_logits, domain_target) # domain 분류 loss\n",
    "        \n",
    "        #domain_target = torch.FloatTensor([domain_num] * batch_size).unsqueeze(1).to(device)\n",
    "        #domain_loss = self.BCE(domain_logits, domain_target) # domain 분류 loss\n",
    "        \n",
    "        loss = segment_loss + alpha * domain_loss\n",
    "        # print(\"segment_mask : \", label.shape)\n",
    "        # print(\"domain_answer : \", domain_target.shape)\n",
    "        return (loss) ,segment_loss, domain_loss\n",
    "    \n",
    "class DANN_Loss_mse(nn.Module):\n",
    "    def __init__(self):\n",
    "        super(DANN_Loss_mse, self).__init__()\n",
    "        self.CE = nn.CrossEntropyLoss()\n",
    "        self.MSE = nn.MSELoss()\n",
    "\n",
    "    def forward(self, result, label, domain_num, alpha = 1):\n",
    "        label_logits, domain_logits = result # DANN_CNN의 결과\n",
    "\n",
    "        batch_size = domain_logits.shape[0]\n",
    "\n",
    "        segment_loss = self.CE(label_logits, label) # class 분류 loss\n",
    "        \n",
    "        domain_target = torch.LongTensor([domain_num] * batch_size).unsqueeze(1).to(device).float()      \n",
    "        domain_loss = self.MSE(domain_logits, domain_target) # domain 분류 loss\n",
    "        domain_loss = torch.sqrt(domain_loss)\n",
    "        loss = segment_loss + alpha * domain_loss\n",
    "        # print(\"segment_mask : \", label.shape)\n",
    "        # print(\"domain_answer : \", domain_target.shape)\n",
    "        return loss ,segment_loss, domain_loss\n",
    "\n",
    "\n",
    "loss_fn = DANN_Loss().to(device)\n",
    "#loss_fn = DANN_Loss_mse().to(device)\n",
    "\n",
    "#criterion =nn.CrossEntropyLoss()\n",
    "#domain_criterion = nn.BCELoss()\n",
    "#criterion = nn.CrossEntropyLoss(weight=class_weights)"
   ]
  },
  {
   "cell_type": "code",
   "execution_count": null,
   "metadata": {},
   "outputs": [],
   "source": []
  },
  {
   "cell_type": "code",
   "execution_count": 8,
   "metadata": {},
   "outputs": [],
   "source": [
    "import os\n",
    "os.environ['CUDA_LAUNCH_BLOCKING'] = '1'"
   ]
  },
  {
   "cell_type": "code",
   "execution_count": 9,
   "metadata": {},
   "outputs": [],
   "source": [
    "LR = 0.0005\n",
    "EP = 50\n",
    "BATCH_SIZE = 16\n",
    "ACCMULATION_STEP = 1 \n",
    "N_CLASSES = 13\n",
    "alpha = 0.00045\n",
    "N_LABELS = 4\n",
    "# model 초기화\n",
    "\n",
    "model = Resnet34_Unet(n_classes = N_CLASSES).to(device)\n",
    "model.load_state_dict(torch.load('./data/Res34Unet_SEG_11-09.pth'), strict=False)\n",
    "optimizer = torch.optim.Adam(model.parameters(), lr=LR)\n",
    "\n",
    "optimizer.zero_grad() \n",
    "\n",
    "source_dataset = CustomDataset(csv_file='./data/896_csv/train_source.csv', transform=transform)\n",
    "source_dataloader = DataLoader(source_dataset, batch_size=BATCH_SIZE, shuffle=True)\n",
    "val_target_dataset = CustomDataset(csv_file='./data/896_csv/val_source_CL.csv', transform=transform)\n",
    "val_target_dataloader = DataLoader(val_target_dataset, batch_size=BATCH_SIZE, shuffle=False)\n"
   ]
  },
  {
   "cell_type": "markdown",
   "metadata": {},
   "source": [
    "miou test"
   ]
  },
  {
   "cell_type": "code",
   "execution_count": 10,
   "metadata": {},
   "outputs": [
    {
     "name": "stdout",
     "output_type": "stream",
     "text": [
      "0.0045\n"
     ]
    },
    {
     "name": "stderr",
     "output_type": "stream",
     "text": [
      "Epoch: 1: 100%|██████████| 138/138 [07:01<00:00,  3.05s/it]\n"
     ]
    },
    {
     "name": "stdout",
     "output_type": "stream",
     "text": [
      "\n",
      "Label_0: IoU Scores Train\n",
      "Class00: 0.4826 Class01: 0.4782 Class02: 0.2303 Class03: 0.4269 Class04: 0.2768 Class05: 0.1047 Class06: 0.1102 \n",
      "Class07: 0.1833 Class08: 0.4309 Class09: 0.6136 Class10: 0.0196 Class11: 0.0396 Class12: 0.4429 \n",
      "Label_1: IoU Scores Train\n",
      "Class00: 0.2504 Class01: 0.3753 Class02: 0.1398 Class03: 0.3080 Class04: 0.1630 Class05: 0.0239 Class06: 0.0386 \n",
      "Class07: 0.0880 Class08: 0.2996 Class09: 0.4120 Class10: 0.0040 Class11: 0.0240 Class12: 0.3204 \n",
      "Label_2: IoU Scores Train\n",
      "Class00: 0.2215 Class01: 0.3307 Class02: 0.1077 Class03: 0.2687 Class04: 0.1300 Class05: 0.0125 Class06: 0.0269 \n",
      "Class07: 0.0692 Class08: 0.2608 Class09: 0.3620 Class10: 0.0020 Class11: 0.0186 Class12: 0.2790 \n",
      "Label_3: IoU Scores Train\n",
      "Class00: 0.2109 Class01: 0.3059 Class02: 0.0876 Class03: 0.2477 Class04: 0.1103 Class05: 0.0098 Class06: 0.0201 \n",
      "Class07: 0.0584 Class08: 0.2417 Class09: 0.3346 Class10: 0.0013 Class11: 0.0171 Class12: 0.2560 \n",
      "Train seg Loss: 2.0078041053822506 Train dom Loss: 18379.90892309715\n",
      "Train Loss: 84.71739070676267\n",
      "Train mIoU: 0.19764223541300444\n"
     ]
    },
    {
     "name": "stderr",
     "output_type": "stream",
     "text": [
      "  0%|          | 0/61 [00:00<?, ?it/s]/tmp/ipykernel_38365/1022696992.py:21: DeprecationWarning: an integer is required (got type float).  Implicit conversion to integers using __int__ is deprecated, and may be removed in a future version of Python.\n",
      "  domain_target = torch.LongTensor([domain_num] * batch_size).to(device)\n",
      "100%|██████████| 61/61 [01:02<00:00,  1.02s/it]\n"
     ]
    },
    {
     "name": "stdout",
     "output_type": "stream",
     "text": [
      "\n",
      "--IoU Scores Fish val--\n",
      "Class0: 0.0259 Class1: 0.0485 Class2: 0.0030 Class3: 0.0012 Class4: 0.0000 Class5: 0.0000 Class6: 0.0000 \n",
      "Class7: 0.0000 Class8: 0.0019 Class9: 0.0882 Class10: 0.0000 Class11: 0.0000 Class12: 0.0001 \n",
      "Epoch1\n",
      "Valid_Seg Loss: 3.5037213348951495 Valid_dom Loss: 18024.00659579918\n",
      "Valid Loss: 84.61174756972517\n",
      "Valid mIoU: 0.01299572612130032\n",
      "___________________________________________________________________________________________\n",
      "\n",
      "0.0045\n"
     ]
    },
    {
     "name": "stderr",
     "output_type": "stream",
     "text": [
      "Epoch: 2: 100%|██████████| 138/138 [07:07<00:00,  3.10s/it]\n"
     ]
    },
    {
     "name": "stdout",
     "output_type": "stream",
     "text": [
      "\n",
      "Label_0: IoU Scores Train\n",
      "Class00: 0.1096 Class01: 0.0911 Class02: 0.0008 Class03: 0.0391 Class04: 0.0003 Class05: 0.0008 Class06: 0.0001 \n",
      "Class07: 0.0003 Class08: 0.0450 Class09: 0.2239 Class10: 0.0005 Class11: 0.0002 Class12: 0.0310 \n",
      "Label_1: IoU Scores Train\n",
      "Class00: 0.1316 Class01: 0.0963 Class02: 0.0004 Class03: 0.0466 Class04: 0.0007 Class05: 0.0005 Class06: 0.0001 \n",
      "Class07: 0.0001 Class08: 0.0454 Class09: 0.2278 Class10: 0.0002 Class11: 0.0001 Class12: 0.0305 \n",
      "Label_2: IoU Scores Train\n",
      "Class00: 0.1267 Class01: 0.0859 Class02: 0.0005 Class03: 0.0510 Class04: 0.0033 Class05: 0.0006 Class06: 0.0001 \n",
      "Class07: 0.0002 Class08: 0.0414 Class09: 0.2274 Class10: 0.0002 Class11: 0.0001 Class12: 0.0334 \n",
      "Label_3: IoU Scores Train\n",
      "Class00: 0.1253 Class01: 0.0769 Class02: 0.0005 Class03: 0.0527 Class04: 0.0011 Class05: 0.0007 Class06: 0.0001 \n",
      "Class07: 0.0003 Class08: 0.0482 Class09: 0.2250 Class10: 0.0001 Class11: 0.0004 Class12: 0.0340 \n",
      "Train seg Loss: 2.2413749262906504 Train dom Loss: 43028.746269226074\n",
      "Train Loss: 195.8707256399203\n",
      "Train mIoU: 0.04344279107525013\n"
     ]
    },
    {
     "name": "stderr",
     "output_type": "stream",
     "text": [
      "100%|██████████| 61/61 [01:02<00:00,  1.02s/it]\n"
     ]
    },
    {
     "name": "stdout",
     "output_type": "stream",
     "text": [
      "\n",
      "--IoU Scores Fish val--\n",
      "Class0: 0.3873 Class1: 0.0097 Class2: 0.0000 Class3: 0.0000 Class4: 0.0175 Class5: 0.0017 Class6: 0.0001 \n",
      "Class7: 0.0001 Class8: 0.0048 Class9: 0.0277 Class10: 0.0000 Class11: 0.0002 Class12: 0.0000 \n",
      "Epoch2\n",
      "Valid_Seg Loss: 2.249418821491179 Valid_dom Loss: 162732.27241290984\n",
      "Valid Loss: 734.5446116963371\n",
      "Valid mIoU: 0.03453648773333902\n",
      "___________________________________________________________________________________________\n",
      "\n",
      "0.0045\n"
     ]
    },
    {
     "name": "stderr",
     "output_type": "stream",
     "text": [
      "Epoch: 3: 100%|██████████| 138/138 [07:19<00:00,  3.19s/it]\n"
     ]
    },
    {
     "name": "stdout",
     "output_type": "stream",
     "text": [
      "\n",
      "Label_0: IoU Scores Train\n",
      "Class00: 0.1416 Class01: 0.1016 Class02: 0.0001 Class03: 0.0323 Class04: 0.0014 Class05: 0.0001 Class06: 0.0002 \n",
      "Class07: 0.0002 Class08: 0.0168 Class09: 0.1945 Class10: 0.0000 Class11: 0.0002 Class12: 0.0279 \n",
      "Label_1: IoU Scores Train\n",
      "Class00: 0.1533 Class01: 0.0931 Class02: 0.0014 Class03: 0.0325 Class04: 0.0023 Class05: 0.0001 Class06: 0.0001 \n",
      "Class07: 0.0001 Class08: 0.0159 Class09: 0.1975 Class10: 0.0000 Class11: 0.0002 Class12: 0.0315 \n",
      "Label_2: IoU Scores Train\n",
      "Class00: 0.1487 Class01: 0.1150 Class02: 0.0004 Class03: 0.0250 Class04: 0.0033 Class05: 0.0001 Class06: 0.0002 \n",
      "Class07: 0.0000 Class08: 0.0143 Class09: 0.1951 Class10: 0.0001 Class11: 0.0002 Class12: 0.0214 \n",
      "Label_3: IoU Scores Train\n",
      "Class00: 0.1423 Class01: 0.1239 Class02: 0.0000 Class03: 0.0284 Class04: 0.0021 Class05: 0.0000 Class06: 0.0001 \n",
      "Class07: 0.0002 Class08: 0.0164 Class09: 0.1801 Class10: 0.0000 Class11: 0.0002 Class12: 0.0216 \n",
      "Train seg Loss: 2.0985232025816822 Train dom Loss: 83225.90490877455\n",
      "Train Loss: 376.61508026351964\n",
      "Train mIoU: 0.04007739280363417\n"
     ]
    },
    {
     "name": "stderr",
     "output_type": "stream",
     "text": [
      "100%|██████████| 61/61 [01:14<00:00,  1.23s/it]\n"
     ]
    },
    {
     "name": "stdout",
     "output_type": "stream",
     "text": [
      "\n",
      "--IoU Scores Fish val--\n",
      "Class0: 0.5303 Class1: 0.0949 Class2: 0.0000 Class3: 0.0001 Class4: 0.0000 Class5: 0.0000 Class6: 0.0000 \n",
      "Class7: 0.0000 Class8: 0.0000 Class9: 0.0570 Class10: 0.0000 Class11: 0.0000 Class12: 0.0000 \n",
      "Epoch3\n",
      "Valid_Seg Loss: 3.172058042932729 Valid_dom Loss: 8850.285452420594\n",
      "Valid Loss: 42.998340591055445\n",
      "Valid mIoU: 0.052485686600376814\n",
      "___________________________________________________________________________________________\n",
      "\n",
      "0.0045\n"
     ]
    },
    {
     "name": "stderr",
     "output_type": "stream",
     "text": [
      "Epoch: 4: 100%|██████████| 138/138 [07:18<00:00,  3.18s/it]\n"
     ]
    },
    {
     "name": "stdout",
     "output_type": "stream",
     "text": [
      "\n",
      "Label_0: IoU Scores Train\n",
      "Class00: 0.1622 Class01: 0.0796 Class02: 0.0008 Class03: 0.0644 Class04: 0.0004 Class05: 0.0001 Class06: 0.0002 \n",
      "Class07: 0.0000 Class08: 0.0382 Class09: 0.0557 Class10: 0.0001 Class11: 0.0001 Class12: 0.0492 \n",
      "Label_1: IoU Scores Train\n",
      "Class00: 0.1664 Class01: 0.1111 Class02: 0.0008 Class03: 0.0778 Class04: 0.0022 Class05: 0.0003 Class06: 0.0002 \n",
      "Class07: 0.0000 Class08: 0.0345 Class09: 0.0533 Class10: 0.0000 Class11: 0.0000 Class12: 0.0553 \n",
      "Label_2: IoU Scores Train\n",
      "Class00: 0.1664 Class01: 0.1214 Class02: 0.0012 Class03: 0.0649 Class04: 0.0013 Class05: 0.0003 Class06: 0.0003 \n",
      "Class07: 0.0000 Class08: 0.0348 Class09: 0.0520 Class10: 0.0001 Class11: 0.0000 Class12: 0.0380 \n",
      "Label_3: IoU Scores Train\n",
      "Class00: 0.1625 Class01: 0.1092 Class02: 0.0010 Class03: 0.0505 Class04: 0.0005 Class05: 0.0001 Class06: 0.0003 \n",
      "Class07: 0.0000 Class08: 0.0302 Class09: 0.0398 Class10: 0.0001 Class11: 0.0001 Class12: 0.0245 \n",
      "Train seg Loss: 1.967376354595889 Train dom Loss: 27275.395500155464\n",
      "Train Loss: 124.70665087172951\n",
      "Train mIoU: 0.03562567604186202\n"
     ]
    },
    {
     "name": "stderr",
     "output_type": "stream",
     "text": [
      "100%|██████████| 61/61 [01:04<00:00,  1.06s/it]\n"
     ]
    },
    {
     "name": "stdout",
     "output_type": "stream",
     "text": [
      "\n",
      "--IoU Scores Fish val--\n",
      "Class0: 0.4998 Class1: 0.1065 Class2: 0.0000 Class3: 0.0039 Class4: 0.0000 Class5: 0.0000 Class6: 0.0000 \n",
      "Class7: 0.0000 Class8: 0.0000 Class9: 0.0819 Class10: 0.0000 Class11: 0.0000 Class12: 0.0000 \n",
      "Epoch4\n",
      "Valid_Seg Loss: 3.1038016921184104 Valid_dom Loss: 2360.323836529841\n",
      "Valid Loss: 13.725258620058904\n",
      "Valid mIoU: 0.053242711506609315\n",
      "___________________________________________________________________________________________\n",
      "\n",
      "0.0045\n"
     ]
    },
    {
     "name": "stderr",
     "output_type": "stream",
     "text": [
      "Epoch: 5: 100%|██████████| 138/138 [07:17<00:00,  3.17s/it]\n"
     ]
    },
    {
     "name": "stdout",
     "output_type": "stream",
     "text": [
      "\n",
      "Label_0: IoU Scores Train\n",
      "Class00: 0.1544 Class01: 0.0584 Class02: 0.0001 Class03: 0.0312 Class04: 0.0000 Class05: 0.0000 Class06: 0.0000 \n",
      "Class07: 0.0000 Class08: 0.0358 Class09: 0.1429 Class10: 0.0000 Class11: 0.0000 Class12: 0.0073 \n",
      "Label_1: IoU Scores Train\n",
      "Class00: 0.1635 Class01: 0.0756 Class02: 0.0000 Class03: 0.0427 Class04: 0.0000 Class05: 0.0000 Class06: 0.0000 \n",
      "Class07: 0.0000 Class08: 0.0427 Class09: 0.1424 Class10: 0.0000 Class11: 0.0000 Class12: 0.0101 \n",
      "Label_2: IoU Scores Train\n",
      "Class00: 0.1643 Class01: 0.0733 Class02: 0.0002 Class03: 0.0347 Class04: 0.0000 Class05: 0.0000 Class06: 0.0000 \n",
      "Class07: 0.0001 Class08: 0.0339 Class09: 0.1636 Class10: 0.0000 Class11: 0.0000 Class12: 0.0070 \n",
      "Label_3: IoU Scores Train\n",
      "Class00: 0.1588 Class01: 0.0415 Class02: 0.0000 Class03: 0.0310 Class04: 0.0000 Class05: 0.0000 Class06: 0.0000 \n",
      "Class07: 0.0000 Class08: 0.0292 Class09: 0.1554 Class10: 0.0000 Class11: 0.0000 Class12: 0.0030 \n",
      "Train seg Loss: 1.8808921534514083 Train dom Loss: 2776.4532749480095\n",
      "Train Loss: 14.374931327890659\n",
      "Train mIoU: 0.03468108820209153\n"
     ]
    },
    {
     "name": "stderr",
     "output_type": "stream",
     "text": [
      "100%|██████████| 61/61 [01:00<00:00,  1.00it/s]\n"
     ]
    },
    {
     "name": "stdout",
     "output_type": "stream",
     "text": [
      "\n",
      "--IoU Scores Fish val--\n",
      "Class0: 0.5052 Class1: 0.0000 Class2: 0.0000 Class3: 0.0037 Class4: 0.0000 Class5: 0.0000 Class6: 0.0000 \n",
      "Class7: 0.0000 Class8: 0.0000 Class9: 0.0007 Class10: 0.0000 Class11: 0.0000 Class12: 0.0000 \n",
      "Epoch5\n",
      "Valid_Seg Loss: 3.2603892732839115 Valid_dom Loss: 894.7957813700691\n",
      "Valid Loss: 7.286970083830787\n",
      "Valid mIoU: 0.03919772603881336\n",
      "___________________________________________________________________________________________\n",
      "\n",
      "0.0045\n"
     ]
    },
    {
     "name": "stderr",
     "output_type": "stream",
     "text": [
      "Epoch: 6: 100%|██████████| 138/138 [07:31<00:00,  3.28s/it]\n"
     ]
    },
    {
     "name": "stdout",
     "output_type": "stream",
     "text": [
      "\n",
      "Label_0: IoU Scores Train\n",
      "Class00: 0.1583 Class01: 0.0000 Class02: 0.0000 Class03: 0.0592 Class04: 0.0000 Class05: 0.0000 Class06: 0.0000 \n",
      "Class07: 0.0000 Class08: 0.0519 Class09: 0.1929 Class10: 0.0000 Class11: 0.0000 Class12: 0.0034 \n",
      "Label_1: IoU Scores Train\n",
      "Class00: 0.1603 Class01: 0.0000 Class02: 0.0000 Class03: 0.0847 Class04: 0.0000 Class05: 0.0000 Class06: 0.0000 \n",
      "Class07: 0.0000 Class08: 0.0563 Class09: 0.2130 Class10: 0.0000 Class11: 0.0000 Class12: 0.0021 \n",
      "Label_2: IoU Scores Train\n",
      "Class00: 0.1610 Class01: 0.0002 Class02: 0.0000 Class03: 0.0941 Class04: 0.0000 Class05: 0.0000 Class06: 0.0000 \n",
      "Class07: 0.0000 Class08: 0.0494 Class09: 0.1719 Class10: 0.0000 Class11: 0.0000 Class12: 0.0021 \n",
      "Label_3: IoU Scores Train\n",
      "Class00: 0.1636 Class01: 0.0000 Class02: 0.0000 Class03: 0.0607 Class04: 0.0000 Class05: 0.0000 Class06: 0.0000 \n",
      "Class07: 0.0000 Class08: 0.0525 Class09: 0.1614 Class10: 0.0000 Class11: 0.0000 Class12: 0.0010 \n",
      "Train seg Loss: 1.7860886743967084 Train dom Loss: 1133.6384902795155\n",
      "Train Loss: 6.887461657325427\n",
      "Train mIoU: 0.036539494987562836\n"
     ]
    },
    {
     "name": "stderr",
     "output_type": "stream",
     "text": [
      "100%|██████████| 61/61 [01:05<00:00,  1.07s/it]\n"
     ]
    },
    {
     "name": "stdout",
     "output_type": "stream",
     "text": [
      "\n",
      "--IoU Scores Fish val--\n",
      "Class0: 0.5549 Class1: 0.0000 Class2: 0.0000 Class3: 0.0099 Class4: 0.0000 Class5: 0.0000 Class6: 0.0000 \n",
      "Class7: 0.0000 Class8: 0.0000 Class9: 0.0063 Class10: 0.0000 Class11: 0.0000 Class12: 0.0000 \n",
      "Epoch6\n",
      "Valid_Seg Loss: 2.737621827203719 Valid_dom Loss: 218.19335886689484\n",
      "Valid Loss: 3.719491903899146\n",
      "Valid mIoU: 0.04392854662802815\n",
      "___________________________________________________________________________________________\n",
      "\n",
      "0.0045\n"
     ]
    },
    {
     "name": "stderr",
     "output_type": "stream",
     "text": [
      "Epoch: 7: 100%|██████████| 138/138 [07:14<00:00,  3.15s/it]\n"
     ]
    },
    {
     "name": "stdout",
     "output_type": "stream",
     "text": [
      "\n",
      "Label_0: IoU Scores Train\n",
      "Class00: 0.1492 Class01: 0.0045 Class02: 0.0000 Class03: 0.0321 Class04: 0.0000 Class05: 0.0001 Class06: 0.0000 \n",
      "Class07: 0.0000 Class08: 0.0253 Class09: 0.2478 Class10: 0.0000 Class11: 0.0000 Class12: 0.0043 \n",
      "Label_1: IoU Scores Train\n",
      "Class00: 0.1592 Class01: 0.0004 Class02: 0.0009 Class03: 0.0718 Class04: 0.0000 Class05: 0.0001 Class06: 0.0001 \n",
      "Class07: 0.0001 Class08: 0.0427 Class09: 0.2564 Class10: 0.0000 Class11: 0.0000 Class12: 0.0087 \n",
      "Label_2: IoU Scores Train\n",
      "Class00: 0.1641 Class01: 0.0004 Class02: 0.0000 Class03: 0.1156 Class04: 0.0000 Class05: 0.0003 Class06: 0.0000 \n",
      "Class07: 0.0000 Class08: 0.0400 Class09: 0.2235 Class10: 0.0000 Class11: 0.0000 Class12: 0.0057 \n",
      "Label_3: IoU Scores Train\n",
      "Class00: 0.1570 Class01: 0.0007 Class02: 0.0000 Class03: 0.0676 Class04: 0.0000 Class05: 0.0001 Class06: 0.0001 \n",
      "Class07: 0.0000 Class08: 0.0261 Class09: 0.1990 Class10: 0.0000 Class11: 0.0000 Class12: 0.0058 \n",
      "Train seg Loss: 1.7323084225257237 Train dom Loss: 534.5726550731106\n",
      "Train Loss: 4.137885263864545\n",
      "Train mIoU: 0.038641308323952905\n"
     ]
    },
    {
     "name": "stderr",
     "output_type": "stream",
     "text": [
      "100%|██████████| 61/61 [00:59<00:00,  1.02it/s]\n"
     ]
    },
    {
     "name": "stdout",
     "output_type": "stream",
     "text": [
      "\n",
      "--IoU Scores Fish val--\n",
      "Class0: 0.5429 Class1: 0.0116 Class2: 0.0000 Class3: 0.0064 Class4: 0.0000 Class5: 0.0000 Class6: 0.0049 \n",
      "Class7: 0.0000 Class8: 0.0000 Class9: 0.0134 Class10: 0.0000 Class11: 0.0000 Class12: 0.0000 \n",
      "Epoch7\n",
      "Valid_Seg Loss: 2.9508017242931928 Valid_dom Loss: 151.9284342047368\n",
      "Valid Loss: 3.634479643868618\n",
      "Valid mIoU: 0.04456094768906755\n",
      "___________________________________________________________________________________________\n",
      "\n",
      "0.0045\n"
     ]
    },
    {
     "name": "stderr",
     "output_type": "stream",
     "text": [
      "Epoch: 8: 100%|██████████| 138/138 [07:09<00:00,  3.11s/it]\n"
     ]
    },
    {
     "name": "stdout",
     "output_type": "stream",
     "text": [
      "\n",
      "Label_0: IoU Scores Train\n",
      "Class00: 0.1637 Class01: 0.0268 Class02: 0.0005 Class03: 0.0462 Class04: 0.0003 Class05: 0.0000 Class06: 0.0000 \n",
      "Class07: 0.0000 Class08: 0.0191 Class09: 0.3263 Class10: 0.0000 Class11: 0.0000 Class12: 0.0142 \n",
      "Label_1: IoU Scores Train\n",
      "Class00: 0.1781 Class01: 0.0508 Class02: 0.0013 Class03: 0.0449 Class04: 0.0003 Class05: 0.0000 Class06: 0.0000 \n",
      "Class07: 0.0000 Class08: 0.0177 Class09: 0.3125 Class10: 0.0000 Class11: 0.0000 Class12: 0.0164 \n",
      "Label_2: IoU Scores Train\n",
      "Class00: 0.1719 Class01: 0.0371 Class02: 0.0025 Class03: 0.0404 Class04: 0.0004 Class05: 0.0000 Class06: 0.0000 \n",
      "Class07: 0.0000 Class08: 0.0116 Class09: 0.2874 Class10: 0.0000 Class11: 0.0000 Class12: 0.0097 \n",
      "Label_3: IoU Scores Train\n",
      "Class00: 0.1634 Class01: 0.0337 Class02: 0.0004 Class03: 0.0302 Class04: 0.0000 Class05: 0.0000 Class06: 0.0000 \n",
      "Class07: 0.0000 Class08: 0.0073 Class09: 0.2505 Class10: 0.0000 Class11: 0.0000 Class12: 0.0054 \n",
      "Train seg Loss: 1.7609359047551085 Train dom Loss: 358.05550773938495\n",
      "Train Loss: 3.372185620924701\n",
      "Train mIoU: 0.04367198227178303\n"
     ]
    },
    {
     "name": "stderr",
     "output_type": "stream",
     "text": [
      "100%|██████████| 61/61 [01:00<00:00,  1.01it/s]\n"
     ]
    },
    {
     "name": "stdout",
     "output_type": "stream",
     "text": [
      "\n",
      "--IoU Scores Fish val--\n",
      "Class0: 0.5506 Class1: 0.0000 Class2: 0.0000 Class3: 0.0050 Class4: 0.0000 Class5: 0.0000 Class6: 0.0000 \n",
      "Class7: 0.0000 Class8: 0.0032 Class9: 0.0094 Class10: 0.0000 Class11: 0.0000 Class12: 0.0000 \n",
      "Epoch8\n",
      "Valid_Seg Loss: 2.6949526677366165 Valid_dom Loss: 111.85729778790083\n",
      "Valid Loss: 3.198310480743158\n",
      "Valid mIoU: 0.04370791406467794\n",
      "___________________________________________________________________________________________\n",
      "\n",
      "0.0045\n"
     ]
    },
    {
     "name": "stderr",
     "output_type": "stream",
     "text": [
      "Epoch: 9: 100%|██████████| 138/138 [07:31<00:00,  3.27s/it]\n"
     ]
    },
    {
     "name": "stdout",
     "output_type": "stream",
     "text": [
      "\n",
      "Label_0: IoU Scores Train\n",
      "Class00: 0.1818 Class01: 0.0603 Class02: 0.0003 Class03: 0.0403 Class04: 0.0003 Class05: 0.0000 Class06: 0.0000 \n",
      "Class07: 0.0000 Class08: 0.0188 Class09: 0.4357 Class10: 0.0000 Class11: 0.0000 Class12: 0.0192 \n",
      "Label_1: IoU Scores Train\n",
      "Class00: 0.1832 Class01: 0.0839 Class02: 0.0013 Class03: 0.0426 Class04: 0.0003 Class05: 0.0000 Class06: 0.0000 \n",
      "Class07: 0.0000 Class08: 0.0128 Class09: 0.3316 Class10: 0.0000 Class11: 0.0000 Class12: 0.0163 \n",
      "Label_2: IoU Scores Train\n",
      "Class00: 0.1773 Class01: 0.0886 Class02: 0.0005 Class03: 0.0358 Class04: 0.0010 Class05: 0.0000 Class06: 0.0000 \n",
      "Class07: 0.0000 Class08: 0.0088 Class09: 0.2961 Class10: 0.0001 Class11: 0.0000 Class12: 0.0110 \n",
      "Label_3: IoU Scores Train\n",
      "Class00: 0.1741 Class01: 0.0752 Class02: 0.0001 Class03: 0.0463 Class04: 0.0006 Class05: 0.0000 Class06: 0.0000 \n",
      "Class07: 0.0001 Class08: 0.0091 Class09: 0.2727 Class10: 0.0000 Class11: 0.0000 Class12: 0.0059 \n",
      "Train seg Loss: 1.5519652353680653 Train dom Loss: 373.0984404208004\n",
      "Train Loss: 3.2309081349251927\n",
      "Train mIoU: 0.05061873139889671\n"
     ]
    },
    {
     "name": "stderr",
     "output_type": "stream",
     "text": [
      "100%|██████████| 61/61 [01:00<00:00,  1.01it/s]\n"
     ]
    },
    {
     "name": "stdout",
     "output_type": "stream",
     "text": [
      "\n",
      "--IoU Scores Fish val--\n",
      "Class0: 0.6070 Class1: 0.0002 Class2: 0.0000 Class3: 0.0068 Class4: 0.0000 Class5: 0.0000 Class6: 0.0000 \n",
      "Class7: 0.0000 Class8: 0.0000 Class9: 0.0155 Class10: 0.0000 Class11: 0.0000 Class12: 0.0000 \n",
      "Epoch9\n",
      "Valid_Seg Loss: 2.738429831676796 Valid_dom Loss: 12.767367066418538\n",
      "Valid Loss: 2.7958829793773714\n",
      "Valid mIoU: 0.04843158133662635\n",
      "___________________________________________________________________________________________\n",
      "\n",
      "0.0045\n"
     ]
    },
    {
     "name": "stderr",
     "output_type": "stream",
     "text": [
      "Epoch: 10: 100%|██████████| 138/138 [07:19<00:00,  3.18s/it]\n"
     ]
    },
    {
     "name": "stdout",
     "output_type": "stream",
     "text": [
      "\n",
      "Label_0: IoU Scores Train\n",
      "Class00: 0.2109 Class01: 0.1375 Class02: 0.0000 Class03: 0.0494 Class04: 0.0000 Class05: 0.0000 Class06: 0.0000 \n",
      "Class07: 0.0000 Class08: 0.0577 Class09: 0.6128 Class10: 0.0000 Class11: 0.0000 Class12: 0.0149 \n",
      "Label_1: IoU Scores Train\n",
      "Class00: 0.2027 Class01: 0.1211 Class02: 0.0001 Class03: 0.0578 Class04: 0.0006 Class05: 0.0000 Class06: 0.0000 \n",
      "Class07: 0.0000 Class08: 0.0584 Class09: 0.3677 Class10: 0.0003 Class11: 0.0000 Class12: 0.0180 \n",
      "Label_2: IoU Scores Train\n",
      "Class00: 0.1948 Class01: 0.1092 Class02: 0.0001 Class03: 0.0583 Class04: 0.0001 Class05: 0.0000 Class06: 0.0001 \n",
      "Class07: 0.0004 Class08: 0.0560 Class09: 0.3158 Class10: 0.0000 Class11: 0.0000 Class12: 0.0154 \n",
      "Label_3: IoU Scores Train\n",
      "Class00: 0.1906 Class01: 0.0932 Class02: 0.0001 Class03: 0.0634 Class04: 0.0000 Class05: 0.0000 Class06: 0.0000 \n",
      "Class07: 0.0000 Class08: 0.0550 Class09: 0.2889 Class10: 0.0000 Class11: 0.0000 Class12: 0.0097 \n",
      "Train seg Loss: 1.3495500225951707 Train dom Loss: 515.5812557400137\n",
      "Train Loss: 3.669665578266849\n",
      "Train mIoU: 0.06463320778397398\n"
     ]
    },
    {
     "name": "stderr",
     "output_type": "stream",
     "text": [
      "100%|██████████| 61/61 [01:03<00:00,  1.05s/it]\n"
     ]
    },
    {
     "name": "stdout",
     "output_type": "stream",
     "text": [
      "\n",
      "--IoU Scores Fish val--\n",
      "Class0: 0.4942 Class1: 0.0012 Class2: 0.0000 Class3: 0.0080 Class4: 0.0000 Class5: 0.0000 Class6: 0.0000 \n",
      "Class7: 0.0000 Class8: 0.0098 Class9: 0.0187 Class10: 0.0000 Class11: 0.0000 Class12: 0.0000 \n",
      "Epoch10\n",
      "Valid_Seg Loss: 3.3569719986837416 Valid_dom Loss: 712.6708794265497\n",
      "Valid Loss: 6.563990843100626\n",
      "Valid mIoU: 0.040918770550079704\n",
      "___________________________________________________________________________________________\n",
      "\n",
      "0.0045\n"
     ]
    },
    {
     "name": "stderr",
     "output_type": "stream",
     "text": [
      "Epoch: 11: 100%|██████████| 138/138 [07:17<00:00,  3.17s/it]\n"
     ]
    },
    {
     "name": "stdout",
     "output_type": "stream",
     "text": [
      "\n",
      "Label_0: IoU Scores Train\n",
      "Class00: 0.2966 Class01: 0.3416 Class02: 0.0003 Class03: 0.1469 Class04: 0.0014 Class05: 0.0000 Class06: 0.0000 \n",
      "Class07: 0.0005 Class08: 0.3408 Class09: 0.6902 Class10: 0.0000 Class11: 0.0000 Class12: 0.0351 \n",
      "Label_1: IoU Scores Train\n",
      "Class00: 0.2587 Class01: 0.2971 Class02: 0.0017 Class03: 0.1656 Class04: 0.0040 Class05: 0.0000 Class06: 0.0000 \n",
      "Class07: 0.0002 Class08: 0.2898 Class09: 0.4264 Class10: 0.0001 Class11: 0.0000 Class12: 0.0492 \n",
      "Label_2: IoU Scores Train\n",
      "Class00: 0.2387 Class01: 0.2620 Class02: 0.0016 Class03: 0.1578 Class04: 0.0029 Class05: 0.0000 Class06: 0.0000 \n",
      "Class07: 0.0000 Class08: 0.2580 Class09: 0.3595 Class10: 0.0001 Class11: 0.0000 Class12: 0.0368 \n",
      "Label_3: IoU Scores Train\n",
      "Class00: 0.2285 Class01: 0.2352 Class02: 0.0008 Class03: 0.1482 Class04: 0.0008 Class05: 0.0000 Class06: 0.0000 \n",
      "Class07: 0.0001 Class08: 0.2358 Class09: 0.3236 Class10: 0.0002 Class11: 0.0000 Class12: 0.0217 \n",
      "Train seg Loss: 1.1587555935417397 Train dom Loss: 200.9783262119129\n",
      "Train Loss: 2.0631580252362336\n",
      "Train mIoU: 0.11266382201807992\n"
     ]
    },
    {
     "name": "stderr",
     "output_type": "stream",
     "text": [
      "100%|██████████| 61/61 [01:04<00:00,  1.06s/it]\n"
     ]
    },
    {
     "name": "stdout",
     "output_type": "stream",
     "text": [
      "\n",
      "--IoU Scores Fish val--\n",
      "Class0: 0.5431 Class1: 0.0041 Class2: 0.0000 Class3: 0.0080 Class4: 0.0000 Class5: 0.0000 Class6: 0.0000 \n",
      "Class7: 0.0002 Class8: 0.0017 Class9: 0.0153 Class10: 0.0000 Class11: 0.0000 Class12: 0.0000 \n",
      "Epoch11\n",
      "Valid_Seg Loss: 3.7374095135047787 Valid_dom Loss: 5.714150496560042\n",
      "Valid Loss: 3.76312319177096\n",
      "Valid mIoU: 0.044026061262475207\n",
      "___________________________________________________________________________________________\n",
      "\n",
      "0.0045\n"
     ]
    },
    {
     "name": "stderr",
     "output_type": "stream",
     "text": [
      "Epoch: 12: 100%|██████████| 138/138 [07:31<00:00,  3.27s/it]\n"
     ]
    },
    {
     "name": "stdout",
     "output_type": "stream",
     "text": [
      "\n",
      "Label_0: IoU Scores Train\n",
      "Class00: 0.3397 Class01: 0.3956 Class02: 0.0000 Class03: 0.1997 Class04: 0.0011 Class05: 0.0000 Class06: 0.0000 \n",
      "Class07: 0.0003 Class08: 0.4363 Class09: 0.7122 Class10: 0.0000 Class11: 0.0000 Class12: 0.0268 \n",
      "Label_1: IoU Scores Train\n",
      "Class00: 0.2797 Class01: 0.3534 Class02: 0.0008 Class03: 0.2149 Class04: 0.0041 Class05: 0.0000 Class06: 0.0000 \n",
      "Class07: 0.0003 Class08: 0.3462 Class09: 0.4437 Class10: 0.0000 Class11: 0.0000 Class12: 0.0373 \n",
      "Label_2: IoU Scores Train\n",
      "Class00: 0.2518 Class01: 0.3083 Class02: 0.0006 Class03: 0.1992 Class04: 0.0054 Class05: 0.0000 Class06: 0.0000 \n",
      "Class07: 0.0003 Class08: 0.2980 Class09: 0.3763 Class10: 0.0000 Class11: 0.0000 Class12: 0.0440 \n",
      "Label_3: IoU Scores Train\n",
      "Class00: 0.2377 Class01: 0.2859 Class02: 0.0000 Class03: 0.1854 Class04: 0.0014 Class05: 0.0000 Class06: 0.0000 \n",
      "Class07: 0.0000 Class08: 0.2672 Class09: 0.3411 Class10: 0.0000 Class11: 0.0000 Class12: 0.0396 \n",
      "Train seg Loss: 1.0340129870219508 Train dom Loss: 116.73144756493738\n",
      "Train Loss: 1.5593044770800548\n",
      "Train mIoU: 0.12758565726514898\n"
     ]
    },
    {
     "name": "stderr",
     "output_type": "stream",
     "text": [
      "100%|██████████| 61/61 [01:01<00:00,  1.01s/it]\n"
     ]
    },
    {
     "name": "stdout",
     "output_type": "stream",
     "text": [
      "\n",
      "--IoU Scores Fish val--\n",
      "Class0: 0.7020 Class1: 0.0034 Class2: 0.0000 Class3: 0.0095 Class4: 0.0000 Class5: 0.0000 Class6: 0.0000 \n",
      "Class7: 0.0000 Class8: 0.0054 Class9: 0.0148 Class10: 0.0000 Class11: 0.0000 Class12: 0.0000 \n",
      "Epoch12\n",
      "Valid_Seg Loss: 3.366264097026137 Valid_dom Loss: 12.206301537708791\n",
      "Valid Loss: 3.4211924623270504\n",
      "Valid mIoU: 0.05654457013247294\n",
      "___________________________________________________________________________________________\n",
      "\n",
      "0.0045\n"
     ]
    },
    {
     "name": "stderr",
     "output_type": "stream",
     "text": [
      "Epoch: 13: 100%|██████████| 138/138 [07:13<00:00,  3.14s/it]\n"
     ]
    },
    {
     "name": "stdout",
     "output_type": "stream",
     "text": [
      "\n",
      "Label_0: IoU Scores Train\n",
      "Class00: 0.4011 Class01: 0.4633 Class02: 0.0004 Class03: 0.2729 Class04: 0.0016 Class05: 0.0004 Class06: 0.0001 \n",
      "Class07: 0.0029 Class08: 0.5027 Class09: 0.7174 Class10: 0.0000 Class11: 0.0000 Class12: 0.0146 \n",
      "Label_1: IoU Scores Train\n",
      "Class00: 0.2915 Class01: 0.4421 Class02: 0.0007 Class03: 0.2520 Class04: 0.0020 Class05: 0.0001 Class06: 0.0001 \n",
      "Class07: 0.0019 Class08: 0.3643 Class09: 0.4721 Class10: 0.0000 Class11: 0.0000 Class12: 0.0188 \n",
      "Label_2: IoU Scores Train\n",
      "Class00: 0.2585 Class01: 0.3887 Class02: 0.0008 Class03: 0.2246 Class04: 0.0004 Class05: 0.0001 Class06: 0.0000 \n",
      "Class07: 0.0015 Class08: 0.3105 Class09: 0.3966 Class10: 0.0000 Class11: 0.0000 Class12: 0.0193 \n",
      "Label_3: IoU Scores Train\n",
      "Class00: 0.2412 Class01: 0.3498 Class02: 0.0003 Class03: 0.2084 Class04: 0.0002 Class05: 0.0000 Class06: 0.0001 \n",
      "Class07: 0.0007 Class08: 0.2777 Class09: 0.3569 Class10: 0.0000 Class11: 0.0000 Class12: 0.0217 \n",
      "Train seg Loss: 0.9182293006907338 Train dom Loss: 107.96882730193329\n",
      "Train Loss: 1.404089002829531\n",
      "Train mIoU: 0.14000823338378113\n"
     ]
    },
    {
     "name": "stderr",
     "output_type": "stream",
     "text": [
      "100%|██████████| 61/61 [00:57<00:00,  1.06it/s]\n"
     ]
    },
    {
     "name": "stdout",
     "output_type": "stream",
     "text": [
      "\n",
      "--IoU Scores Fish val--\n",
      "Class0: 0.7297 Class1: 0.0049 Class2: 0.0000 Class3: 0.0087 Class4: 0.0001 Class5: 0.0000 Class6: 0.0000 \n",
      "Class7: 0.0001 Class8: 0.0099 Class9: 0.0142 Class10: 0.0000 Class11: 0.0000 Class12: 0.0003 \n",
      "Epoch13\n",
      "Valid_Seg Loss: 3.2555458272089726 Valid_dom Loss: 15.696969227712662\n",
      "Valid Loss: 3.3261821699924154\n",
      "Valid mIoU: 0.05906577794224267\n",
      "___________________________________________________________________________________________\n",
      "\n",
      "0.0045\n"
     ]
    },
    {
     "name": "stderr",
     "output_type": "stream",
     "text": [
      "Epoch: 14: 100%|██████████| 138/138 [07:12<00:00,  3.13s/it]\n"
     ]
    },
    {
     "name": "stdout",
     "output_type": "stream",
     "text": [
      "\n",
      "Label_0: IoU Scores Train\n",
      "Class00: 0.5470 Class01: 0.5126 Class02: 0.0000 Class03: 0.3370 Class04: 0.0003 Class05: 0.0000 Class06: 0.0003 \n",
      "Class07: 0.0079 Class08: 0.5513 Class09: 0.7636 Class10: 0.0000 Class11: 0.0000 Class12: 0.0215 \n",
      "Label_1: IoU Scores Train\n",
      "Class00: 0.3082 Class01: 0.4878 Class02: 0.0000 Class03: 0.2900 Class04: 0.0001 Class05: 0.0000 Class06: 0.0002 \n",
      "Class07: 0.0050 Class08: 0.3945 Class09: 0.5072 Class10: 0.0000 Class11: 0.0000 Class12: 0.0340 \n",
      "Label_2: IoU Scores Train\n",
      "Class00: 0.2654 Class01: 0.4393 Class02: 0.0000 Class03: 0.2614 Class04: 0.0001 Class05: 0.0000 Class06: 0.0005 \n",
      "Class07: 0.0047 Class08: 0.3349 Class09: 0.4294 Class10: 0.0000 Class11: 0.0000 Class12: 0.0356 \n",
      "Label_3: IoU Scores Train\n",
      "Class00: 0.2458 Class01: 0.3995 Class02: 0.0000 Class03: 0.2453 Class04: 0.0001 Class05: 0.0000 Class06: 0.0003 \n",
      "Class07: 0.0045 Class08: 0.3036 Class09: 0.3836 Class10: 0.0000 Class11: 0.0000 Class12: 0.0358 \n",
      "Train seg Loss: 0.7666940047689106 Train dom Loss: 3.501728995176761\n",
      "Train Loss: 0.7824517832933993\n",
      "Train mIoU: 0.1568882954429297\n"
     ]
    },
    {
     "name": "stderr",
     "output_type": "stream",
     "text": [
      "100%|██████████| 61/61 [01:00<00:00,  1.01it/s]\n"
     ]
    },
    {
     "name": "stdout",
     "output_type": "stream",
     "text": [
      "\n",
      "--IoU Scores Fish val--\n",
      "Class0: 0.8056 Class1: 0.0045 Class2: 0.0000 Class3: 0.0093 Class4: 0.0048 Class5: 0.0000 Class6: 0.0000 \n",
      "Class7: 0.0001 Class8: 0.0069 Class9: 0.0115 Class10: 0.0000 Class11: 0.0000 Class12: 0.0004 \n",
      "Epoch14\n",
      "Valid_Seg Loss: 3.2798857141713627 Valid_dom Loss: 0.017052569439676993\n",
      "Valid Loss: 3.279962449777322\n",
      "Valid mIoU: 0.0648593776918967\n",
      "___________________________________________________________________________________________\n",
      "\n",
      "0.0045\n"
     ]
    },
    {
     "name": "stderr",
     "output_type": "stream",
     "text": [
      "Epoch: 15: 100%|██████████| 138/138 [07:27<00:00,  3.24s/it]\n"
     ]
    },
    {
     "name": "stdout",
     "output_type": "stream",
     "text": [
      "\n",
      "Label_0: IoU Scores Train\n",
      "Class00: 0.6608 Class01: 0.5599 Class02: 0.0000 Class03: 0.3865 Class04: 0.0002 Class05: 0.0000 Class06: 0.0007 \n",
      "Class07: 0.0111 Class08: 0.5724 Class09: 0.8135 Class10: 0.0000 Class11: 0.0000 Class12: 0.0577 \n",
      "Label_1: IoU Scores Train\n",
      "Class00: 0.3141 Class01: 0.5066 Class02: 0.0000 Class03: 0.3163 Class04: 0.0002 Class05: 0.0000 Class06: 0.0005 \n",
      "Class07: 0.0076 Class08: 0.4054 Class09: 0.5234 Class10: 0.0000 Class11: 0.0000 Class12: 0.1045 \n",
      "Label_2: IoU Scores Train\n",
      "Class00: 0.2672 Class01: 0.4575 Class02: 0.0000 Class03: 0.2844 Class04: 0.0002 Class05: 0.0000 Class06: 0.0007 \n",
      "Class07: 0.0070 Class08: 0.3457 Class09: 0.4453 Class10: 0.0000 Class11: 0.0000 Class12: 0.1113 \n",
      "Label_3: IoU Scores Train\n",
      "Class00: 0.2464 Class01: 0.4207 Class02: 0.0000 Class03: 0.2648 Class04: 0.0001 Class05: 0.0000 Class06: 0.0004 \n",
      "Class07: 0.0065 Class08: 0.3129 Class09: 0.4017 Class10: 0.0000 Class11: 0.0000 Class12: 0.1126 \n",
      "Train seg Loss: 0.6868451619925706 Train dom Loss: 2.671861156767261\n",
      "Train Loss: 0.6988685363768667\n",
      "Train mIoU: 0.1716657043773741\n"
     ]
    },
    {
     "name": "stderr",
     "output_type": "stream",
     "text": [
      "100%|██████████| 61/61 [01:01<00:00,  1.01s/it]\n"
     ]
    },
    {
     "name": "stdout",
     "output_type": "stream",
     "text": [
      "\n",
      "--IoU Scores Fish val--\n",
      "Class0: 0.8211 Class1: 0.0164 Class2: 0.0000 Class3: 0.0121 Class4: 0.0000 Class5: 0.0000 Class6: 0.0000 \n",
      "Class7: 0.0001 Class8: 0.0084 Class9: 0.0134 Class10: 0.0000 Class11: 0.0000 Class12: 0.0003 \n",
      "Epoch15\n",
      "Valid_Seg Loss: 3.410123770354224 Valid_dom Loss: 4.596293735699575\n",
      "Valid Loss: 3.4308070941049547\n",
      "Valid mIoU: 0.06705235999813536\n",
      "___________________________________________________________________________________________\n",
      "\n",
      "0.0045\n"
     ]
    },
    {
     "name": "stderr",
     "output_type": "stream",
     "text": [
      "Epoch: 16: 100%|██████████| 138/138 [07:06<00:00,  3.09s/it]\n"
     ]
    },
    {
     "name": "stdout",
     "output_type": "stream",
     "text": [
      "\n",
      "Label_0: IoU Scores Train\n",
      "Class00: 0.7283 Class01: 0.6087 Class02: 0.0000 Class03: 0.4257 Class04: 0.0004 Class05: 0.0000 Class06: 0.0016 \n",
      "Class07: 0.0247 Class08: 0.5820 Class09: 0.8535 Class10: 0.0000 Class11: 0.0000 Class12: 0.1220 \n",
      "Label_1: IoU Scores Train\n",
      "Class00: 0.3160 Class01: 0.5179 Class02: 0.0000 Class03: 0.3439 Class04: 0.0001 Class05: 0.0000 Class06: 0.0009 \n",
      "Class07: 0.0144 Class08: 0.4084 Class09: 0.5408 Class10: 0.0000 Class11: 0.0000 Class12: 0.1957 \n",
      "Label_2: IoU Scores Train\n",
      "Class00: 0.2686 Class01: 0.4620 Class02: 0.0000 Class03: 0.3050 Class04: 0.0000 Class05: 0.0000 Class06: 0.0009 \n",
      "Class07: 0.0106 Class08: 0.3497 Class09: 0.4523 Class10: 0.0000 Class11: 0.0000 Class12: 0.2033 \n",
      "Label_3: IoU Scores Train\n",
      "Class00: 0.2470 Class01: 0.4268 Class02: 0.0000 Class03: 0.2847 Class04: 0.0000 Class05: 0.0000 Class06: 0.0013 \n",
      "Class07: 0.0082 Class08: 0.3164 Class09: 0.4132 Class10: 0.0000 Class11: 0.0000 Class12: 0.2031 \n",
      "Train seg Loss: 0.6229557566668676 Train dom Loss: 2.847981621929701\n",
      "Train Loss: 0.6357716739285684\n",
      "Train mIoU: 0.18534383002154192\n"
     ]
    },
    {
     "name": "stderr",
     "output_type": "stream",
     "text": [
      "100%|██████████| 61/61 [01:08<00:00,  1.12s/it]\n"
     ]
    },
    {
     "name": "stdout",
     "output_type": "stream",
     "text": [
      "\n",
      "--IoU Scores Fish val--\n",
      "Class0: 0.8115 Class1: 0.0229 Class2: 0.0000 Class3: 0.0112 Class4: 0.0000 Class5: 0.0000 Class6: 0.0000 \n",
      "Class7: 0.0019 Class8: 0.0109 Class9: 0.0103 Class10: 0.0000 Class11: 0.0000 Class12: 0.0001 \n",
      "Epoch16\n",
      "Valid_Seg Loss: 3.3622843945612675 Valid_dom Loss: 21.650563959215507\n",
      "Valid Loss: 3.4597119151568805\n",
      "Valid mIoU: 0.06683204066183833\n",
      "___________________________________________________________________________________________\n",
      "\n",
      "0.0045\n"
     ]
    },
    {
     "name": "stderr",
     "output_type": "stream",
     "text": [
      "Epoch: 17: 100%|██████████| 138/138 [07:17<00:00,  3.17s/it]\n"
     ]
    },
    {
     "name": "stdout",
     "output_type": "stream",
     "text": [
      "\n",
      "Label_0: IoU Scores Train\n",
      "Class00: 0.8004 Class01: 0.6468 Class02: 0.0000 Class03: 0.4717 Class04: 0.0007 Class05: 0.0000 Class06: 0.0051 \n",
      "Class07: 0.0325 Class08: 0.5892 Class09: 0.8724 Class10: 0.0000 Class11: 0.0000 Class12: 0.2340 \n",
      "Label_1: IoU Scores Train\n",
      "Class00: 0.3169 Class01: 0.5261 Class02: 0.0000 Class03: 0.3674 Class04: 0.0003 Class05: 0.0000 Class06: 0.0050 \n",
      "Class07: 0.0167 Class08: 0.4126 Class09: 0.5528 Class10: 0.0000 Class11: 0.0000 Class12: 0.2656 \n",
      "Label_2: IoU Scores Train\n",
      "Class00: 0.2676 Class01: 0.4659 Class02: 0.0000 Class03: 0.3253 Class04: 0.0001 Class05: 0.0000 Class06: 0.0041 \n",
      "Class07: 0.0134 Class08: 0.3545 Class09: 0.4674 Class10: 0.0000 Class11: 0.0000 Class12: 0.2587 \n",
      "Label_3: IoU Scores Train\n",
      "Class00: 0.2464 Class01: 0.4284 Class02: 0.0000 Class03: 0.2986 Class04: 0.0000 Class05: 0.0000 Class06: 0.0026 \n",
      "Class07: 0.0105 Class08: 0.3213 Class09: 0.4158 Class10: 0.0000 Class11: 0.0000 Class12: 0.2514 \n",
      "Train seg Loss: 0.5726601177475591 Train dom Loss: 1.6825828175397888\n",
      "Train Loss: 0.5802317390191383\n",
      "Train mIoU: 0.19708445751079434\n"
     ]
    },
    {
     "name": "stderr",
     "output_type": "stream",
     "text": [
      "100%|██████████| 61/61 [01:05<00:00,  1.08s/it]\n"
     ]
    },
    {
     "name": "stdout",
     "output_type": "stream",
     "text": [
      "\n",
      "--IoU Scores Fish val--\n",
      "Class0: 0.8626 Class1: 0.0220 Class2: 0.0000 Class3: 0.0127 Class4: 0.0000 Class5: 0.0000 Class6: 0.0000 \n",
      "Class7: 0.0002 Class8: 0.0115 Class9: 0.0141 Class10: 0.0000 Class11: 0.0000 Class12: 0.0001 \n",
      "Epoch17\n",
      "Valid_Seg Loss: 3.0078912328501217 Valid_dom Loss: 11.863223438380194\n",
      "Valid Loss: 3.0612757479558224\n",
      "Valid mIoU: 0.07103357140633772\n",
      "___________________________________________________________________________________________\n",
      "\n",
      "0.0045\n"
     ]
    },
    {
     "name": "stderr",
     "output_type": "stream",
     "text": [
      "Epoch: 18: 100%|██████████| 138/138 [07:35<00:00,  3.30s/it]\n"
     ]
    },
    {
     "name": "stdout",
     "output_type": "stream",
     "text": [
      "\n",
      "Label_0: IoU Scores Train\n",
      "Class00: 0.8506 Class01: 0.6746 Class02: 0.0000 Class03: 0.5116 Class04: 0.0044 Class05: 0.0000 Class06: 0.0154 \n",
      "Class07: 0.0674 Class08: 0.6043 Class09: 0.8857 Class10: 0.0000 Class11: 0.0000 Class12: 0.3114 \n",
      "Label_1: IoU Scores Train\n",
      "Class00: 0.3175 Class01: 0.5326 Class02: 0.0000 Class03: 0.3867 Class04: 0.0041 Class05: 0.0000 Class06: 0.0125 \n",
      "Class07: 0.0390 Class08: 0.4237 Class09: 0.5604 Class10: 0.0000 Class11: 0.0000 Class12: 0.3070 \n",
      "Label_2: IoU Scores Train\n",
      "Class00: 0.2679 Class01: 0.4687 Class02: 0.0000 Class03: 0.3396 Class04: 0.0028 Class05: 0.0000 Class06: 0.0086 \n",
      "Class07: 0.0278 Class08: 0.3649 Class09: 0.4732 Class10: 0.0000 Class11: 0.0000 Class12: 0.2909 \n",
      "Label_3: IoU Scores Train\n",
      "Class00: 0.2460 Class01: 0.4300 Class02: 0.0000 Class03: 0.3118 Class04: 0.0021 Class05: 0.0000 Class06: 0.0051 \n",
      "Class07: 0.0216 Class08: 0.3312 Class09: 0.4246 Class10: 0.0000 Class11: 0.0000 Class12: 0.2789 \n",
      "Train seg Loss: 0.5204005117757596 Train dom Loss: 1.4216559652400975\n",
      "Train Loss: 0.5267979625774466\n",
      "Train mIoU: 0.20778131655471072\n"
     ]
    },
    {
     "name": "stderr",
     "output_type": "stream",
     "text": [
      "100%|██████████| 61/61 [01:01<00:00,  1.00s/it]\n"
     ]
    },
    {
     "name": "stdout",
     "output_type": "stream",
     "text": [
      "\n",
      "--IoU Scores Fish val--\n",
      "Class0: 0.8664 Class1: 0.0277 Class2: 0.0000 Class3: 0.0136 Class4: 0.0000 Class5: 0.0000 Class6: 0.0001 \n",
      "Class7: 0.0017 Class8: 0.0072 Class9: 0.0247 Class10: 0.0000 Class11: 0.0000 Class12: 0.0000 \n",
      "Epoch18\n",
      "Valid_Seg Loss: 3.5556716840775286 Valid_dom Loss: 5.606150509881192\n",
      "Valid Loss: 3.5808993675669685\n",
      "Valid mIoU: 0.07241521841756403\n",
      "___________________________________________________________________________________________\n",
      "\n",
      "0.0045\n"
     ]
    },
    {
     "name": "stderr",
     "output_type": "stream",
     "text": [
      "Epoch: 19: 100%|██████████| 138/138 [07:20<00:00,  3.19s/it]\n"
     ]
    },
    {
     "name": "stdout",
     "output_type": "stream",
     "text": [
      "\n",
      "Label_0: IoU Scores Train\n",
      "Class00: 0.8794 Class01: 0.6917 Class02: 0.0001 Class03: 0.5337 Class04: 0.0262 Class05: 0.0000 Class06: 0.0215 \n",
      "Class07: 0.0965 Class08: 0.6130 Class09: 0.8916 Class10: 0.0000 Class11: 0.0000 Class12: 0.3567 \n",
      "Label_1: IoU Scores Train\n",
      "Class00: 0.3179 Class01: 0.5374 Class02: 0.0001 Class03: 0.3983 Class04: 0.0273 Class05: 0.0000 Class06: 0.0178 \n",
      "Class07: 0.0562 Class08: 0.4313 Class09: 0.5632 Class10: 0.0000 Class11: 0.0000 Class12: 0.3290 \n",
      "Label_2: IoU Scores Train\n",
      "Class00: 0.2677 Class01: 0.4716 Class02: 0.0001 Class03: 0.3499 Class04: 0.0214 Class05: 0.0000 Class06: 0.0123 \n",
      "Class07: 0.0424 Class08: 0.3723 Class09: 0.4750 Class10: 0.0000 Class11: 0.0000 Class12: 0.3083 \n",
      "Label_3: IoU Scores Train\n",
      "Class00: 0.2457 Class01: 0.4327 Class02: 0.0001 Class03: 0.3197 Class04: 0.0161 Class05: 0.0000 Class06: 0.0076 \n",
      "Class07: 0.0353 Class08: 0.3384 Class09: 0.4248 Class10: 0.0000 Class11: 0.0000 Class12: 0.2938 \n",
      "Train seg Loss: 0.4938258556244166 Train dom Loss: 1.487672618549803\n",
      "Train Loss: 0.5005203820765018\n",
      "Train mIoU: 0.21584201867309633\n"
     ]
    },
    {
     "name": "stderr",
     "output_type": "stream",
     "text": [
      "100%|██████████| 61/61 [01:02<00:00,  1.03s/it]\n"
     ]
    },
    {
     "name": "stdout",
     "output_type": "stream",
     "text": [
      "\n",
      "--IoU Scores Fish val--\n",
      "Class0: 0.8574 Class1: 0.0285 Class2: 0.0000 Class3: 0.0130 Class4: 0.0000 Class5: 0.0000 Class6: 0.0000 \n",
      "Class7: 0.0007 Class8: 0.0078 Class9: 0.0227 Class10: 0.0000 Class11: 0.0004 Class12: 0.0000 \n",
      "Epoch19\n",
      "Valid_Seg Loss: 3.1857058024797285 Valid_dom Loss: 3.3095307232903655\n",
      "Valid Loss: 3.2005986854678294\n",
      "Valid mIoU: 0.07157846561882439\n",
      "___________________________________________________________________________________________\n",
      "\n",
      "0.0045\n"
     ]
    },
    {
     "name": "stderr",
     "output_type": "stream",
     "text": [
      "Epoch: 20: 100%|██████████| 138/138 [07:12<00:00,  3.14s/it]\n"
     ]
    },
    {
     "name": "stdout",
     "output_type": "stream",
     "text": [
      "\n",
      "Label_0: IoU Scores Train\n",
      "Class00: 0.9038 Class01: 0.7111 Class02: 0.0036 Class03: 0.5561 Class04: 0.0842 Class05: 0.0000 Class06: 0.0389 \n",
      "Class07: 0.1346 Class08: 0.6188 Class09: 0.8987 Class10: 0.0000 Class11: 0.0000 Class12: 0.4002 \n",
      "Label_1: IoU Scores Train\n",
      "Class00: 0.3186 Class01: 0.5452 Class02: 0.0055 Class03: 0.4075 Class04: 0.0844 Class05: 0.0000 Class06: 0.0291 \n",
      "Class07: 0.0744 Class08: 0.4352 Class09: 0.5663 Class10: 0.0000 Class11: 0.0000 Class12: 0.3511 \n",
      "Label_2: IoU Scores Train\n",
      "Class00: 0.2676 Class01: 0.4758 Class02: 0.0058 Class03: 0.3574 Class04: 0.0740 Class05: 0.0000 Class06: 0.0201 \n",
      "Class07: 0.0528 Class08: 0.3764 Class09: 0.4772 Class10: 0.0000 Class11: 0.0000 Class12: 0.3248 \n",
      "Label_3: IoU Scores Train\n",
      "Class00: 0.2453 Class01: 0.4350 Class02: 0.0053 Class03: 0.3264 Class04: 0.0638 Class05: 0.0000 Class06: 0.0138 \n",
      "Class07: 0.0423 Class08: 0.3428 Class09: 0.4265 Class10: 0.0000 Class11: 0.0000 Class12: 0.3076 \n",
      "Train seg Loss: 0.46713219917770743 Train dom Loss: 1.4128652452558712\n",
      "Train Loss: 0.47349009225549904\n",
      "Train mIoU: 0.22707681950829942\n"
     ]
    },
    {
     "name": "stderr",
     "output_type": "stream",
     "text": [
      "100%|██████████| 61/61 [01:11<00:00,  1.17s/it]\n"
     ]
    },
    {
     "name": "stdout",
     "output_type": "stream",
     "text": [
      "\n",
      "--IoU Scores Fish val--\n",
      "Class0: 0.8712 Class1: 0.0262 Class2: 0.0034 Class3: 0.0122 Class4: 0.0000 Class5: 0.0000 Class6: 0.0000 \n",
      "Class7: 0.0009 Class8: 0.0092 Class9: 0.0218 Class10: 0.0000 Class11: 0.0002 Class12: 0.0000 \n",
      "Epoch20\n",
      "Valid_Seg Loss: 3.385178741861562 Valid_dom Loss: 2.175579149214948\n",
      "Valid Loss: 3.394968837988181\n",
      "Valid mIoU: 0.07269720479749495\n",
      "___________________________________________________________________________________________\n",
      "\n",
      "0.0045\n"
     ]
    },
    {
     "name": "stderr",
     "output_type": "stream",
     "text": [
      "Epoch: 21: 100%|██████████| 138/138 [07:33<00:00,  3.29s/it]\n"
     ]
    },
    {
     "name": "stdout",
     "output_type": "stream",
     "text": [
      "\n",
      "Label_0: IoU Scores Train\n",
      "Class00: 0.9182 Class01: 0.7264 Class02: 0.0215 Class03: 0.5770 Class04: 0.1494 Class05: 0.0000 Class06: 0.0660 \n",
      "Class07: 0.1594 Class08: 0.6366 Class09: 0.9058 Class10: 0.0000 Class11: 0.0001 Class12: 0.4314 \n",
      "Label_1: IoU Scores Train\n",
      "Class00: 0.3190 Class01: 0.5529 Class02: 0.0274 Class03: 0.4167 Class04: 0.1277 Class05: 0.0000 Class06: 0.0441 \n",
      "Class07: 0.0843 Class08: 0.4459 Class09: 0.5682 Class10: 0.0000 Class11: 0.0001 Class12: 0.3729 \n",
      "Label_2: IoU Scores Train\n",
      "Class00: 0.2675 Class01: 0.4801 Class02: 0.0244 Class03: 0.3653 Class04: 0.1134 Class05: 0.0000 Class06: 0.0308 \n",
      "Class07: 0.0616 Class08: 0.3860 Class09: 0.4789 Class10: 0.0000 Class11: 0.0001 Class12: 0.3425 \n",
      "Label_3: IoU Scores Train\n",
      "Class00: 0.2450 Class01: 0.4371 Class02: 0.0207 Class03: 0.3337 Class04: 0.0985 Class05: 0.0000 Class06: 0.0231 \n",
      "Class07: 0.0505 Class08: 0.3518 Class09: 0.4283 Class10: 0.0000 Class11: 0.0000 Class12: 0.3237 \n",
      "Train seg Loss: 0.44183301499140437 Train dom Loss: 1.4064090487317762\n",
      "Train Loss: 0.4481618558799011\n",
      "Train mIoU: 0.23872614598749656\n"
     ]
    },
    {
     "name": "stderr",
     "output_type": "stream",
     "text": [
      "100%|██████████| 61/61 [01:03<00:00,  1.04s/it]\n"
     ]
    },
    {
     "name": "stdout",
     "output_type": "stream",
     "text": [
      "\n",
      "--IoU Scores Fish val--\n",
      "Class0: 0.8608 Class1: 0.0293 Class2: 0.0004 Class3: 0.0139 Class4: 0.0000 Class5: 0.0000 Class6: 0.0001 \n",
      "Class7: 0.0018 Class8: 0.0075 Class9: 0.0221 Class10: 0.0000 Class11: 0.0004 Class12: 0.0001 \n",
      "Epoch21\n",
      "Valid_Seg Loss: 3.603274697163066 Valid_dom Loss: 1.666537980564305\n",
      "Valid Loss: 3.6107741105751914\n",
      "Valid mIoU: 0.07202291937130778\n",
      "___________________________________________________________________________________________\n",
      "\n",
      "0.0045\n"
     ]
    },
    {
     "name": "stderr",
     "output_type": "stream",
     "text": [
      "Epoch: 22: 100%|██████████| 138/138 [07:20<00:00,  3.19s/it]\n"
     ]
    },
    {
     "name": "stdout",
     "output_type": "stream",
     "text": [
      "\n",
      "Label_0: IoU Scores Train\n",
      "Class00: 0.9274 Class01: 0.7445 Class02: 0.0349 Class03: 0.5906 Class04: 0.2070 Class05: 0.0000 Class06: 0.1021 \n",
      "Class07: 0.1867 Class08: 0.6445 Class09: 0.9094 Class10: 0.0000 Class11: 0.0000 Class12: 0.4697 \n",
      "Label_1: IoU Scores Train\n",
      "Class00: 0.3191 Class01: 0.5595 Class02: 0.0383 Class03: 0.4221 Class04: 0.1624 Class05: 0.0000 Class06: 0.0602 \n",
      "Class07: 0.0938 Class08: 0.4504 Class09: 0.5715 Class10: 0.0000 Class11: 0.0000 Class12: 0.3953 \n",
      "Label_2: IoU Scores Train\n",
      "Class00: 0.2673 Class01: 0.4851 Class02: 0.0351 Class03: 0.3707 Class04: 0.1424 Class05: 0.0000 Class06: 0.0409 \n",
      "Class07: 0.0703 Class08: 0.3903 Class09: 0.4814 Class10: 0.0000 Class11: 0.0000 Class12: 0.3608 \n",
      "Label_3: IoU Scores Train\n",
      "Class00: 0.2448 Class01: 0.4411 Class02: 0.0294 Class03: 0.3391 Class04: 0.1256 Class05: 0.0000 Class06: 0.0302 \n",
      "Class07: 0.0584 Class08: 0.3560 Class09: 0.4307 Class10: 0.0000 Class11: 0.0000 Class12: 0.3409 \n",
      "Train seg Loss: 0.42188863515637925 Train dom Loss: 1.5204912513710451\n",
      "Train Loss: 0.42873084620721097\n",
      "Train mIoU: 0.24865290333502432\n"
     ]
    },
    {
     "name": "stderr",
     "output_type": "stream",
     "text": [
      "100%|██████████| 61/61 [01:05<00:00,  1.07s/it]\n"
     ]
    },
    {
     "name": "stdout",
     "output_type": "stream",
     "text": [
      "\n",
      "--IoU Scores Fish val--\n",
      "Class0: 0.8644 Class1: 0.0054 Class2: 0.0024 Class3: 0.0127 Class4: 0.0000 Class5: 0.0000 Class6: 0.0026 \n",
      "Class7: 0.0044 Class8: 0.0104 Class9: 0.0221 Class10: 0.0000 Class11: 0.0000 Class12: 0.0000 \n",
      "Epoch22\n",
      "Valid_Seg Loss: 3.76026331010412 Valid_dom Loss: 1.1337400362139842\n",
      "Valid Loss: 3.765365147199787\n",
      "Valid mIoU: 0.07110238603410074\n",
      "___________________________________________________________________________________________\n",
      "\n",
      "0.0045\n"
     ]
    },
    {
     "name": "stderr",
     "output_type": "stream",
     "text": [
      "Epoch: 23: 100%|██████████| 138/138 [07:17<00:00,  3.17s/it]\n"
     ]
    },
    {
     "name": "stdout",
     "output_type": "stream",
     "text": [
      "\n",
      "Label_0: IoU Scores Train\n",
      "Class00: 0.9356 Class01: 0.7635 Class02: 0.0489 Class03: 0.6047 Class04: 0.2761 Class05: 0.0000 Class06: 0.1085 \n",
      "Class07: 0.2031 Class08: 0.6519 Class09: 0.9139 Class10: 0.0000 Class11: 0.0000 Class12: 0.5143 \n",
      "Label_1: IoU Scores Train\n",
      "Class00: 0.3196 Class01: 0.5693 Class02: 0.0520 Class03: 0.4322 Class04: 0.2039 Class05: 0.0000 Class06: 0.0609 \n",
      "Class07: 0.0962 Class08: 0.4569 Class09: 0.5734 Class10: 0.0000 Class11: 0.0000 Class12: 0.4297 \n",
      "Label_2: IoU Scores Train\n",
      "Class00: 0.2674 Class01: 0.4916 Class02: 0.0467 Class03: 0.3804 Class04: 0.1760 Class05: 0.0000 Class06: 0.0409 \n",
      "Class07: 0.0735 Class08: 0.3971 Class09: 0.4829 Class10: 0.0000 Class11: 0.0000 Class12: 0.3899 \n",
      "Label_3: IoU Scores Train\n",
      "Class00: 0.2447 Class01: 0.4459 Class02: 0.0399 Class03: 0.3487 Class04: 0.1541 Class05: 0.0000 Class06: 0.0303 \n",
      "Class07: 0.0620 Class08: 0.3629 Class09: 0.4318 Class10: 0.0000 Class11: 0.0000 Class12: 0.3662 \n",
      "Train seg Loss: 0.39542896554305934 Train dom Loss: 1.5953518827108368\n",
      "Train Loss: 0.4026080487107021\n",
      "Train mIoU: 0.25860912065428837\n"
     ]
    },
    {
     "name": "stderr",
     "output_type": "stream",
     "text": [
      "100%|██████████| 61/61 [01:19<00:00,  1.30s/it]\n"
     ]
    },
    {
     "name": "stdout",
     "output_type": "stream",
     "text": [
      "\n",
      "--IoU Scores Fish val--\n",
      "Class0: 0.8598 Class1: 0.0284 Class2: 0.0012 Class3: 0.0112 Class4: 0.0001 Class5: 0.0000 Class6: 0.0053 \n",
      "Class7: 0.0043 Class8: 0.0090 Class9: 0.0186 Class10: 0.0000 Class11: 0.0000 Class12: 0.0000 \n",
      "Epoch23\n",
      "Valid_Seg Loss: 4.425017227892016 Valid_dom Loss: 1.1650337313042312\n",
      "Valid Loss: 4.430259876563901\n",
      "Valid mIoU: 0.07214543866695348\n",
      "___________________________________________________________________________________________\n",
      "\n",
      "0.0045\n"
     ]
    },
    {
     "name": "stderr",
     "output_type": "stream",
     "text": [
      "Epoch: 24: 100%|██████████| 138/138 [07:13<00:00,  3.14s/it]\n"
     ]
    },
    {
     "name": "stdout",
     "output_type": "stream",
     "text": [
      "\n",
      "Label_0: IoU Scores Train\n",
      "Class00: 0.9407 Class01: 0.7803 Class02: 0.0746 Class03: 0.6184 Class04: 0.3186 Class05: 0.0000 Class06: 0.1224 \n",
      "Class07: 0.2159 Class08: 0.6605 Class09: 0.9193 Class10: 0.0000 Class11: 0.0000 Class12: 0.5578 \n",
      "Label_1: IoU Scores Train\n",
      "Class00: 0.3196 Class01: 0.5758 Class02: 0.0704 Class03: 0.4407 Class04: 0.2292 Class05: 0.0000 Class06: 0.0593 \n",
      "Class07: 0.1049 Class08: 0.4652 Class09: 0.5763 Class10: 0.0000 Class11: 0.0000 Class12: 0.4597 \n",
      "Label_2: IoU Scores Train\n",
      "Class00: 0.2673 Class01: 0.4965 Class02: 0.0611 Class03: 0.3881 Class04: 0.1964 Class05: 0.0000 Class06: 0.0380 \n",
      "Class07: 0.0820 Class08: 0.4052 Class09: 0.4847 Class10: 0.0000 Class11: 0.0000 Class12: 0.4148 \n",
      "Label_3: IoU Scores Train\n",
      "Class00: 0.2446 Class01: 0.4493 Class02: 0.0511 Class03: 0.3555 Class04: 0.1687 Class05: 0.0000 Class06: 0.0279 \n",
      "Class07: 0.0694 Class08: 0.3704 Class09: 0.4333 Class10: 0.0000 Class11: 0.0000 Class12: 0.3871 \n",
      "Train seg Loss: 0.3733807960930078 Train dom Loss: 1.4607480787064717\n",
      "Train Loss: 0.37995416185130243\n",
      "Train mIoU: 0.2673255914975502\n"
     ]
    },
    {
     "name": "stderr",
     "output_type": "stream",
     "text": [
      "100%|██████████| 61/61 [01:05<00:00,  1.07s/it]\n"
     ]
    },
    {
     "name": "stdout",
     "output_type": "stream",
     "text": [
      "\n",
      "--IoU Scores Fish val--\n",
      "Class0: 0.8712 Class1: 0.0150 Class2: 0.0140 Class3: 0.0125 Class4: 0.0000 Class5: 0.0000 Class6: 0.0043 \n",
      "Class7: 0.0042 Class8: 0.0089 Class9: 0.0216 Class10: 0.0000 Class11: 0.0000 Class12: 0.0000 \n",
      "Epoch24\n",
      "Valid_Seg Loss: 3.8820335356915585 Valid_dom Loss: 1.1993039846420288\n",
      "Valid Loss: 3.8874304177331145\n",
      "Valid mIoU: 0.07320762280178074\n",
      "___________________________________________________________________________________________\n",
      "\n",
      "0.0045\n"
     ]
    },
    {
     "name": "stderr",
     "output_type": "stream",
     "text": [
      "Epoch: 25: 100%|██████████| 138/138 [07:20<00:00,  3.19s/it]\n"
     ]
    },
    {
     "name": "stdout",
     "output_type": "stream",
     "text": [
      "\n",
      "Label_0: IoU Scores Train\n",
      "Class00: 0.9433 Class01: 0.7955 Class02: 0.1206 Class03: 0.6408 Class04: 0.3781 Class05: 0.0001 Class06: 0.1392 \n",
      "Class07: 0.2402 Class08: 0.6773 Class09: 0.9222 Class10: 0.0000 Class11: 0.0000 Class12: 0.6141 \n",
      "Label_1: IoU Scores Train\n",
      "Class00: 0.3198 Class01: 0.5824 Class02: 0.1110 Class03: 0.4563 Class04: 0.2629 Class05: 0.0001 Class06: 0.0647 \n",
      "Class07: 0.1186 Class08: 0.4774 Class09: 0.5778 Class10: 0.0000 Class11: 0.0000 Class12: 0.4948 \n",
      "Label_2: IoU Scores Train\n",
      "Class00: 0.2674 Class01: 0.5009 Class02: 0.0942 Class03: 0.4018 Class04: 0.2243 Class05: 0.0001 Class06: 0.0418 \n",
      "Class07: 0.0925 Class08: 0.4155 Class09: 0.4858 Class10: 0.0000 Class11: 0.0000 Class12: 0.4431 \n",
      "Label_3: IoU Scores Train\n",
      "Class00: 0.2445 Class01: 0.4520 Class02: 0.0772 Class03: 0.3683 Class04: 0.1948 Class05: 0.0000 Class06: 0.0312 \n",
      "Class07: 0.0800 Class08: 0.3795 Class09: 0.4342 Class10: 0.0000 Class11: 0.0000 Class12: 0.4113 \n",
      "Train seg Loss: 0.34998017781670543 Train dom Loss: 1.3364379146824712\n",
      "Train Loss: 0.35599414796392986\n",
      "Train mIoU: 0.28034180216512045\n"
     ]
    },
    {
     "name": "stderr",
     "output_type": "stream",
     "text": [
      "100%|██████████| 61/61 [01:03<00:00,  1.04s/it]\n"
     ]
    },
    {
     "name": "stdout",
     "output_type": "stream",
     "text": [
      "\n",
      "--IoU Scores Fish val--\n",
      "Class0: 0.8748 Class1: 0.0288 Class2: 0.0012 Class3: 0.0119 Class4: 0.0001 Class5: 0.0000 Class6: 0.0042 \n",
      "Class7: 0.0054 Class8: 0.0082 Class9: 0.0263 Class10: 0.0000 Class11: 0.0002 Class12: 0.0000 \n",
      "Epoch25\n",
      "Valid_Seg Loss: 4.5261420734593125 Valid_dom Loss: 1.101511278113381\n",
      "Valid Loss: 4.531098858254855\n",
      "Valid mIoU: 0.07393007436007999\n",
      "___________________________________________________________________________________________\n",
      "\n",
      "0.0045\n"
     ]
    },
    {
     "name": "stderr",
     "output_type": "stream",
     "text": [
      "Epoch: 26: 100%|██████████| 138/138 [07:34<00:00,  3.29s/it]\n"
     ]
    },
    {
     "name": "stdout",
     "output_type": "stream",
     "text": [
      "\n",
      "Label_0: IoU Scores Train\n",
      "Class00: 0.9450 Class01: 0.8106 Class02: 0.1802 Class03: 0.6646 Class04: 0.4206 Class05: 0.0004 Class06: 0.1580 \n",
      "Class07: 0.2554 Class08: 0.6999 Class09: 0.9271 Class10: 0.0000 Class11: 0.0000 Class12: 0.6706 \n",
      "Label_1: IoU Scores Train\n",
      "Class00: 0.3200 Class01: 0.5895 Class02: 0.1408 Class03: 0.4689 Class04: 0.2835 Class05: 0.0001 Class06: 0.0703 \n",
      "Class07: 0.1242 Class08: 0.4891 Class09: 0.5800 Class10: 0.0000 Class11: 0.0000 Class12: 0.5245 \n",
      "Label_2: IoU Scores Train\n",
      "Class00: 0.2675 Class01: 0.5056 Class02: 0.1205 Class03: 0.4127 Class04: 0.2378 Class05: 0.0001 Class06: 0.0479 \n",
      "Class07: 0.0957 Class08: 0.4243 Class09: 0.4877 Class10: 0.0000 Class11: 0.0000 Class12: 0.4648 \n",
      "Label_3: IoU Scores Train\n",
      "Class00: 0.2445 Class01: 0.4550 Class02: 0.1000 Class03: 0.3787 Class04: 0.2067 Class05: 0.0001 Class06: 0.0367 \n",
      "Class07: 0.0834 Class08: 0.3871 Class09: 0.4358 Class10: 0.0000 Class11: 0.0000 Class12: 0.4294 \n",
      "Train seg Loss: 0.324718307973682 Train dom Loss: 1.1961958079018455\n",
      "Train Loss: 0.3301011882722378\n",
      "Train mIoU: 0.2912517966954513\n"
     ]
    },
    {
     "name": "stderr",
     "output_type": "stream",
     "text": [
      "100%|██████████| 61/61 [01:00<00:00,  1.01it/s]\n"
     ]
    },
    {
     "name": "stdout",
     "output_type": "stream",
     "text": [
      "\n",
      "--IoU Scores Fish val--\n",
      "Class0: 0.8730 Class1: 0.0288 Class2: 0.0207 Class3: 0.0111 Class4: 0.0001 Class5: 0.0000 Class6: 0.0057 \n",
      "Class7: 0.0054 Class8: 0.0082 Class9: 0.0273 Class10: 0.0000 Class11: 0.0005 Class12: 0.0000 \n",
      "Epoch26\n",
      "Valid_Seg Loss: 4.219172458179662 Valid_dom Loss: 1.010482304408902\n",
      "Valid Loss: 4.2237196359478055\n",
      "Valid mIoU: 0.07545042128455177\n",
      "___________________________________________________________________________________________\n",
      "\n",
      "0.0045\n"
     ]
    },
    {
     "name": "stderr",
     "output_type": "stream",
     "text": [
      "Epoch: 27: 100%|██████████| 138/138 [07:21<00:00,  3.20s/it]\n"
     ]
    },
    {
     "name": "stdout",
     "output_type": "stream",
     "text": [
      "\n",
      "Label_0: IoU Scores Train\n",
      "Class00: 0.9473 Class01: 0.8237 Class02: 0.2315 Class03: 0.6921 Class04: 0.4785 Class05: 0.0008 Class06: 0.1606 \n",
      "Class07: 0.2848 Class08: 0.7179 Class09: 0.9334 Class10: 0.0000 Class11: 0.0000 Class12: 0.7183 \n",
      "Label_1: IoU Scores Train\n",
      "Class00: 0.3205 Class01: 0.5964 Class02: 0.1674 Class03: 0.4808 Class04: 0.3199 Class05: 0.0003 Class06: 0.0748 \n",
      "Class07: 0.1366 Class08: 0.4972 Class09: 0.5824 Class10: 0.0000 Class11: 0.0001 Class12: 0.5485 \n",
      "Label_2: IoU Scores Train\n",
      "Class00: 0.2677 Class01: 0.5097 Class02: 0.1424 Class03: 0.4218 Class04: 0.2663 Class05: 0.0004 Class06: 0.0543 \n",
      "Class07: 0.1056 Class08: 0.4306 Class09: 0.4893 Class10: 0.0000 Class11: 0.0002 Class12: 0.4843 \n",
      "Label_3: IoU Scores Train\n",
      "Class00: 0.2446 Class01: 0.4572 Class02: 0.1189 Class03: 0.3866 Class04: 0.2305 Class05: 0.0003 Class06: 0.0439 \n",
      "Class07: 0.0923 Class08: 0.3926 Class09: 0.4371 Class10: 0.0000 Class11: 0.0002 Class12: 0.4456 \n",
      "Train seg Loss: 0.30164899099348247 Train dom Loss: 1.2423311637147614\n",
      "Train Loss: 0.30723948045161326\n",
      "Train mIoU: 0.30261901787457834\n"
     ]
    },
    {
     "name": "stderr",
     "output_type": "stream",
     "text": [
      "100%|██████████| 61/61 [01:06<00:00,  1.09s/it]\n"
     ]
    },
    {
     "name": "stdout",
     "output_type": "stream",
     "text": [
      "\n",
      "--IoU Scores Fish val--\n",
      "Class0: 0.8726 Class1: 0.0253 Class2: 0.0565 Class3: 0.0068 Class4: 0.0002 Class5: 0.0000 Class6: 0.0026 \n",
      "Class7: 0.0034 Class8: 0.0130 Class9: 0.0294 Class10: 0.0000 Class11: 0.0001 Class12: 0.0001 \n",
      "Epoch27\n",
      "Valid_Seg Loss: 3.6888781453742356 Valid_dom Loss: 1.3089731423581232\n",
      "Valid Loss: 3.6947685265150225\n",
      "Valid mIoU: 0.07768900000093254\n",
      "___________________________________________________________________________________________\n",
      "\n",
      "0.0045\n"
     ]
    },
    {
     "name": "stderr",
     "output_type": "stream",
     "text": [
      "Epoch: 28: 100%|██████████| 138/138 [07:24<00:00,  3.22s/it]\n"
     ]
    },
    {
     "name": "stdout",
     "output_type": "stream",
     "text": [
      "\n",
      "Label_0: IoU Scores Train\n",
      "Class00: 0.9488 Class01: 0.8315 Class02: 0.2446 Class03: 0.7111 Class04: 0.5191 Class05: 0.0029 Class06: 0.1857 \n",
      "Class07: 0.3140 Class08: 0.7344 Class09: 0.9373 Class10: 0.0000 Class11: 0.0000 Class12: 0.7578 \n",
      "Label_1: IoU Scores Train\n",
      "Class00: 0.3205 Class01: 0.5990 Class02: 0.1688 Class03: 0.4909 Class04: 0.3333 Class05: 0.0009 Class06: 0.0799 \n",
      "Class07: 0.1494 Class08: 0.5070 Class09: 0.5848 Class10: 0.0000 Class11: 0.0006 Class12: 0.5671 \n",
      "Label_2: IoU Scores Train\n",
      "Class00: 0.2675 Class01: 0.5114 Class02: 0.1424 Class03: 0.4299 Class04: 0.2758 Class05: 0.0010 Class06: 0.0590 \n",
      "Class07: 0.1134 Class08: 0.4386 Class09: 0.4913 Class10: 0.0000 Class11: 0.0010 Class12: 0.4975 \n",
      "Label_3: IoU Scores Train\n",
      "Class00: 0.2444 Class01: 0.4586 Class02: 0.1196 Class03: 0.3934 Class04: 0.2376 Class05: 0.0010 Class06: 0.0487 \n",
      "Class07: 0.0987 Class08: 0.3996 Class09: 0.4387 Class10: 0.0000 Class11: 0.0012 Class12: 0.4549 \n",
      "Train seg Loss: 0.283496900583091 Train dom Loss: 0.9551164498147757\n",
      "Train Loss: 0.2877949247325676\n",
      "Train mIoU: 0.30990386686968463\n"
     ]
    },
    {
     "name": "stderr",
     "output_type": "stream",
     "text": [
      "100%|██████████| 61/61 [00:59<00:00,  1.02it/s]\n"
     ]
    },
    {
     "name": "stdout",
     "output_type": "stream",
     "text": [
      "\n",
      "--IoU Scores Fish val--\n",
      "Class0: 0.8773 Class1: 0.0045 Class2: 0.0472 Class3: 0.0109 Class4: 0.0000 Class5: 0.0003 Class6: 0.0043 \n",
      "Class7: 0.0054 Class8: 0.0088 Class9: 0.0135 Class10: 0.0000 Class11: 0.0001 Class12: 0.0000 \n",
      "Epoch28\n",
      "Valid_Seg Loss: 3.94609938684057 Valid_dom Loss: 0.7847100124984491\n",
      "Valid Loss: 3.9496305809646355\n",
      "Valid mIoU: 0.07479428533780429\n",
      "___________________________________________________________________________________________\n",
      "\n",
      "0.0045\n"
     ]
    },
    {
     "name": "stderr",
     "output_type": "stream",
     "text": [
      "Epoch: 29: 100%|██████████| 138/138 [06:50<00:00,  2.98s/it]\n"
     ]
    },
    {
     "name": "stdout",
     "output_type": "stream",
     "text": [
      "\n",
      "Label_0: IoU Scores Train\n",
      "Class00: 0.8339 Class01: 0.7348 Class02: 0.2542 Class03: 0.6307 Class04: 0.4657 Class05: 0.0068 Class06: 0.1601 \n",
      "Class07: 0.2714 Class08: 0.6338 Class09: 0.8291 Class10: 0.0011 Class11: 0.0007 Class12: 0.6642 \n",
      "Label_1: IoU Scores Train\n",
      "Class00: 0.3063 Class01: 0.5330 Class02: 0.1713 Class03: 0.4392 Class04: 0.2975 Class05: 0.0015 Class06: 0.0668 \n",
      "Class07: 0.1315 Class08: 0.4438 Class09: 0.5246 Class10: 0.0009 Class11: 0.0020 Class12: 0.4908 \n",
      "Label_2: IoU Scores Train\n",
      "Class00: 0.2588 Class01: 0.4524 Class02: 0.1424 Class03: 0.3848 Class04: 0.2455 Class05: 0.0014 Class06: 0.0514 \n",
      "Class07: 0.1009 Class08: 0.3799 Class09: 0.4346 Class10: 0.0011 Class11: 0.0029 Class12: 0.4293 \n",
      "Label_3: IoU Scores Train\n",
      "Class00: 0.2395 Class01: 0.4020 Class02: 0.1196 Class03: 0.3488 Class04: 0.2130 Class05: 0.0013 Class06: 0.0429 \n",
      "Class07: 0.0889 Class08: 0.3512 Class09: 0.3861 Class10: 0.0008 Class11: 0.0033 Class12: 0.3922 \n",
      "Train seg Loss: 1.0626015616715818 Train dom Loss: 3804.570966940157\n",
      "Train Loss: 18.183170098730404\n",
      "Train mIoU: 0.2763650810677317\n"
     ]
    },
    {
     "name": "stderr",
     "output_type": "stream",
     "text": [
      "100%|██████████| 61/61 [00:21<00:00,  2.84it/s]\n"
     ]
    },
    {
     "name": "stdout",
     "output_type": "stream",
     "text": [
      "\n",
      "--IoU Scores Fish val--\n",
      "Class0: 0.3216 Class1: 0.0019 Class2: 0.0000 Class3: 0.0014 Class4: 0.0000 Class5: 0.0000 Class6: 0.0000 \n",
      "Class7: 0.0000 Class8: 0.0020 Class9: 0.0349 Class10: 0.0000 Class11: 0.0000 Class12: 0.0002 \n",
      "Epoch29\n",
      "Valid_Seg Loss: 5.414353612993584 Valid_dom Loss: 11899.31725473873\n",
      "Valid Loss: 58.961279634569514\n",
      "Valid mIoU: 0.027850811702240505\n",
      "___________________________________________________________________________________________\n",
      "\n",
      "0.0045\n"
     ]
    },
    {
     "name": "stderr",
     "output_type": "stream",
     "text": [
      "Epoch: 30: 100%|██████████| 138/138 [06:29<00:00,  2.82s/it]\n"
     ]
    },
    {
     "name": "stdout",
     "output_type": "stream",
     "text": [
      "\n",
      "Label_0: IoU Scores Train\n",
      "Class00: 0.2848 Class01: 0.2437 Class02: 0.0007 Class03: 0.1283 Class04: 0.0017 Class05: 0.0002 Class06: 0.0000 \n",
      "Class07: 0.0005 Class08: 0.1767 Class09: 0.5239 Class10: 0.0000 Class11: 0.0000 Class12: 0.0314 \n",
      "Label_1: IoU Scores Train\n",
      "Class00: 0.2617 Class01: 0.1939 Class02: 0.0001 Class03: 0.1545 Class04: 0.0013 Class05: 0.0003 Class06: 0.0000 \n",
      "Class07: 0.0003 Class08: 0.1528 Class09: 0.3802 Class10: 0.0000 Class11: 0.0000 Class12: 0.0477 \n",
      "Label_2: IoU Scores Train\n",
      "Class00: 0.2403 Class01: 0.1673 Class02: 0.0002 Class03: 0.1440 Class04: 0.0005 Class05: 0.0001 Class06: 0.0000 \n",
      "Class07: 0.0003 Class08: 0.1460 Class09: 0.3242 Class10: 0.0000 Class11: 0.0001 Class12: 0.0495 \n",
      "Label_3: IoU Scores Train\n",
      "Class00: 0.2255 Class01: 0.1463 Class02: 0.0006 Class03: 0.1360 Class04: 0.0009 Class05: 0.0004 Class06: 0.0000 \n",
      "Class07: 0.0001 Class08: 0.1307 Class09: 0.2916 Class10: 0.0000 Class11: 0.0000 Class12: 0.0457 \n",
      "Train seg Loss: 1.4876130061305088 Train dom Loss: 3075.4888981736226\n",
      "Train Loss: 15.3273124738016\n",
      "Train mIoU: 0.08913970145912559\n"
     ]
    },
    {
     "name": "stderr",
     "output_type": "stream",
     "text": [
      "100%|██████████| 61/61 [00:21<00:00,  2.86it/s]\n"
     ]
    },
    {
     "name": "stdout",
     "output_type": "stream",
     "text": [
      "\n",
      "--IoU Scores Fish val--\n",
      "Class0: 0.6955 Class1: 0.0035 Class2: 0.0000 Class3: 0.0096 Class4: 0.0000 Class5: 0.0000 Class6: 0.0000 \n",
      "Class7: 0.0000 Class8: 0.0070 Class9: 0.0105 Class10: 0.0000 Class11: 0.0000 Class12: 0.0001 \n",
      "Epoch30\n",
      "Valid_Seg Loss: 3.158375376560649 Valid_dom Loss: 200.75997837254258\n",
      "Valid Loss: 4.061795250314181\n",
      "Valid mIoU: 0.05586988388993021\n",
      "___________________________________________________________________________________________\n",
      "\n",
      "0.0045\n"
     ]
    },
    {
     "name": "stderr",
     "output_type": "stream",
     "text": [
      "Epoch: 31: 100%|██████████| 138/138 [06:30<00:00,  2.83s/it]\n"
     ]
    },
    {
     "name": "stdout",
     "output_type": "stream",
     "text": [
      "\n",
      "Label_0: IoU Scores Train\n",
      "Class00: 0.3966 Class01: 0.4070 Class02: 0.0006 Class03: 0.2552 Class04: 0.0061 Class05: 0.0001 Class06: 0.0008 \n",
      "Class07: 0.0085 Class08: 0.4502 Class09: 0.7451 Class10: 0.0000 Class11: 0.0000 Class12: 0.0684 \n",
      "Label_1: IoU Scores Train\n",
      "Class00: 0.2942 Class01: 0.3891 Class02: 0.0021 Class03: 0.2579 Class04: 0.0063 Class05: 0.0000 Class06: 0.0026 \n",
      "Class07: 0.0028 Class08: 0.3304 Class09: 0.5014 Class10: 0.0000 Class11: 0.0000 Class12: 0.1001 \n",
      "Label_2: IoU Scores Train\n",
      "Class00: 0.2613 Class01: 0.3540 Class02: 0.0020 Class03: 0.2325 Class04: 0.0032 Class05: 0.0000 Class06: 0.0025 \n",
      "Class07: 0.0024 Class08: 0.2923 Class09: 0.4203 Class10: 0.0000 Class11: 0.0000 Class12: 0.0954 \n",
      "Label_3: IoU Scores Train\n",
      "Class00: 0.2452 Class01: 0.3286 Class02: 0.0012 Class03: 0.2073 Class04: 0.0021 Class05: 0.0000 Class06: 0.0017 \n",
      "Class07: 0.0025 Class08: 0.2648 Class09: 0.3763 Class10: 0.0000 Class11: 0.0001 Class12: 0.0887 \n",
      "Train seg Loss: 0.9560327295591866 Train dom Loss: 329.40939300997263\n",
      "Train Loss: 2.438374933341275\n",
      "Train mIoU: 0.1424992280202676\n"
     ]
    },
    {
     "name": "stderr",
     "output_type": "stream",
     "text": [
      "100%|██████████| 61/61 [00:21<00:00,  2.85it/s]\n"
     ]
    },
    {
     "name": "stdout",
     "output_type": "stream",
     "text": [
      "\n",
      "--IoU Scores Fish val--\n",
      "Class0: 0.7652 Class1: 0.0477 Class2: 0.0000 Class3: 0.0085 Class4: 0.0101 Class5: 0.0006 Class6: 0.0002 \n",
      "Class7: 0.0012 Class8: 0.0122 Class9: 0.0145 Class10: 0.0000 Class11: 0.0000 Class12: 0.0000 \n",
      "Epoch31\n",
      "Valid_Seg Loss: 3.4339187418828243 Valid_dom Loss: 117.96322511033104\n",
      "Valid Loss: 3.964753213475962\n",
      "Valid mIoU: 0.06617352533602419\n",
      "___________________________________________________________________________________________\n",
      "\n",
      "0.0045\n"
     ]
    },
    {
     "name": "stderr",
     "output_type": "stream",
     "text": [
      "Epoch: 32: 100%|██████████| 138/138 [06:29<00:00,  2.82s/it]\n"
     ]
    },
    {
     "name": "stdout",
     "output_type": "stream",
     "text": [
      "\n",
      "Label_0: IoU Scores Train\n",
      "Class00: 0.5476 Class01: 0.5491 Class02: 0.0013 Class03: 0.3634 Class04: 0.0024 Class05: 0.0013 Class06: 0.0166 \n",
      "Class07: 0.0706 Class08: 0.5320 Class09: 0.8328 Class10: 0.0009 Class11: 0.0000 Class12: 0.1426 \n",
      "Label_1: IoU Scores Train\n",
      "Class00: 0.3090 Class01: 0.4808 Class02: 0.0014 Class03: 0.3038 Class04: 0.0023 Class05: 0.0005 Class06: 0.0210 \n",
      "Class07: 0.0362 Class08: 0.3756 Class09: 0.5388 Class10: 0.0001 Class11: 0.0000 Class12: 0.1764 \n",
      "Label_2: IoU Scores Train\n",
      "Class00: 0.2680 Class01: 0.4335 Class02: 0.0014 Class03: 0.2644 Class04: 0.0025 Class05: 0.0003 Class06: 0.0173 \n",
      "Class07: 0.0266 Class08: 0.3294 Class09: 0.4532 Class10: 0.0001 Class11: 0.0000 Class12: 0.1709 \n",
      "Label_3: IoU Scores Train\n",
      "Class00: 0.2482 Class01: 0.4006 Class02: 0.0015 Class03: 0.2458 Class04: 0.0019 Class05: 0.0001 Class06: 0.0141 \n",
      "Class07: 0.0236 Class08: 0.3014 Class09: 0.4080 Class10: 0.0002 Class11: 0.0000 Class12: 0.1669 \n",
      "Train seg Loss: 0.7664090373377869 Train dom Loss: 201.6594237268133\n",
      "Train Loss: 1.6738764004430908\n",
      "Train mIoU: 0.17474341179609354\n"
     ]
    },
    {
     "name": "stderr",
     "output_type": "stream",
     "text": [
      "100%|██████████| 61/61 [00:21<00:00,  2.87it/s]\n"
     ]
    },
    {
     "name": "stdout",
     "output_type": "stream",
     "text": [
      "\n",
      "--IoU Scores Fish val--\n",
      "Class0: 0.8267 Class1: 0.0181 Class2: 0.0093 Class3: 0.0099 Class4: 0.0001 Class5: 0.0006 Class6: 0.0042 \n",
      "Class7: 0.0015 Class8: 0.0109 Class9: 0.0124 Class10: 0.0000 Class11: 0.0000 Class12: 0.0000 \n",
      "Epoch32\n",
      "Valid_Seg Loss: 4.403178461262437 Valid_dom Loss: 24.169351109410407\n",
      "Valid Loss: 4.51194052618058\n",
      "Valid mIoU: 0.06874095286628137\n",
      "___________________________________________________________________________________________\n",
      "\n",
      "0.0045\n"
     ]
    },
    {
     "name": "stderr",
     "output_type": "stream",
     "text": [
      "Epoch: 33: 100%|██████████| 138/138 [06:28<00:00,  2.82s/it]\n"
     ]
    },
    {
     "name": "stdout",
     "output_type": "stream",
     "text": [
      "\n",
      "Label_0: IoU Scores Train\n",
      "Class00: 0.6194 Class01: 0.6033 Class02: 0.0030 Class03: 0.3831 Class04: 0.0397 Class05: 0.0024 Class06: 0.0508 \n",
      "Class07: 0.1009 Class08: 0.5408 Class09: 0.8317 Class10: 0.0009 Class11: 0.0000 Class12: 0.1975 \n",
      "Label_1: IoU Scores Train\n",
      "Class00: 0.3122 Class01: 0.5073 Class02: 0.0010 Class03: 0.3082 Class04: 0.0296 Class05: 0.0007 Class06: 0.0310 \n",
      "Class07: 0.0542 Class08: 0.3764 Class09: 0.5371 Class10: 0.0002 Class11: 0.0001 Class12: 0.2282 \n",
      "Label_2: IoU Scores Train\n",
      "Class00: 0.2700 Class01: 0.4458 Class02: 0.0017 Class03: 0.2694 Class04: 0.0240 Class05: 0.0006 Class06: 0.0213 \n",
      "Class07: 0.0413 Class08: 0.3247 Class09: 0.4573 Class10: 0.0001 Class11: 0.0001 Class12: 0.2235 \n",
      "Label_3: IoU Scores Train\n",
      "Class00: 0.2482 Class01: 0.4113 Class02: 0.0005 Class03: 0.2514 Class04: 0.0212 Class05: 0.0007 Class06: 0.0163 \n",
      "Class07: 0.0353 Class08: 0.2995 Class09: 0.4113 Class10: 0.0002 Class11: 0.0002 Class12: 0.2179 \n",
      "Train seg Loss: 0.7888952648618083 Train dom Loss: 106.9163750704608\n",
      "Train Loss: 1.2700189298045808\n",
      "Train mIoU: 0.1875684360069412\n"
     ]
    },
    {
     "name": "stderr",
     "output_type": "stream",
     "text": [
      "100%|██████████| 61/61 [00:21<00:00,  2.80it/s]\n"
     ]
    },
    {
     "name": "stdout",
     "output_type": "stream",
     "text": [
      "\n",
      "--IoU Scores Fish val--\n",
      "Class0: 0.8590 Class1: 0.0159 Class2: 0.0011 Class3: 0.0101 Class4: 0.0175 Class5: 0.0014 Class6: 0.0036 \n",
      "Class7: 0.0044 Class8: 0.0123 Class9: 0.0169 Class10: 0.0000 Class11: 0.0000 Class12: 0.0000 \n",
      "Epoch33\n",
      "Valid_Seg Loss: 4.388640384205052 Valid_dom Loss: 21.374667649338388\n",
      "Valid Loss: 4.484826381089257\n",
      "Valid mIoU: 0.07247063158017483\n",
      "___________________________________________________________________________________________\n",
      "\n",
      "0.0045\n"
     ]
    },
    {
     "name": "stderr",
     "output_type": "stream",
     "text": [
      "Epoch: 34: 100%|██████████| 138/138 [06:29<00:00,  2.82s/it]\n"
     ]
    },
    {
     "name": "stdout",
     "output_type": "stream",
     "text": [
      "\n",
      "Label_0: IoU Scores Train\n",
      "Class00: 0.7322 Class01: 0.6367 Class02: 0.0058 Class03: 0.4677 Class04: 0.0498 Class05: 0.0014 Class06: 0.0636 \n",
      "Class07: 0.1571 Class08: 0.5776 Class09: 0.8746 Class10: 0.0001 Class11: 0.0000 Class12: 0.2829 \n",
      "Label_1: IoU Scores Train\n",
      "Class00: 0.3127 Class01: 0.5067 Class02: 0.0031 Class03: 0.3568 Class04: 0.0357 Class05: 0.0004 Class06: 0.0464 \n",
      "Class07: 0.0758 Class08: 0.4018 Class09: 0.5541 Class10: 0.0000 Class11: 0.0002 Class12: 0.2734 \n",
      "Label_2: IoU Scores Train\n",
      "Class00: 0.2671 Class01: 0.4534 Class02: 0.0038 Class03: 0.3099 Class04: 0.0321 Class05: 0.0003 Class06: 0.0389 \n",
      "Class07: 0.0604 Class08: 0.3418 Class09: 0.4691 Class10: 0.0000 Class11: 0.0002 Class12: 0.2582 \n",
      "Label_3: IoU Scores Train\n",
      "Class00: 0.2464 Class01: 0.4128 Class02: 0.0026 Class03: 0.2841 Class04: 0.0281 Class05: 0.0002 Class06: 0.0347 \n",
      "Class07: 0.0529 Class08: 0.3076 Class09: 0.4196 Class10: 0.0000 Class11: 0.0003 Class12: 0.2438 \n",
      "Train seg Loss: 0.6422974712390831 Train dom Loss: 50.92692162548178\n",
      "Train Loss: 0.8714686093339021\n",
      "Train mIoU: 0.2054856302096888\n"
     ]
    },
    {
     "name": "stderr",
     "output_type": "stream",
     "text": [
      "100%|██████████| 61/61 [00:21<00:00,  2.84it/s]\n"
     ]
    },
    {
     "name": "stdout",
     "output_type": "stream",
     "text": [
      "\n",
      "--IoU Scores Fish val--\n",
      "Class0: 0.8887 Class1: 0.0638 Class2: 0.0000 Class3: 0.0109 Class4: 0.0005 Class5: 0.0016 Class6: 0.0057 \n",
      "Class7: 0.0016 Class8: 0.0077 Class9: 0.0184 Class10: 0.0000 Class11: 0.0000 Class12: 0.0000 \n",
      "Epoch34\n",
      "Valid_Seg Loss: 5.801392570870822 Valid_dom Loss: 19.57557038987269\n",
      "Valid Loss: 5.889482638874992\n",
      "Valid mIoU: 0.07683392453778269\n",
      "___________________________________________________________________________________________\n",
      "\n",
      "0.0045\n"
     ]
    },
    {
     "name": "stderr",
     "output_type": "stream",
     "text": [
      "Epoch: 35: 100%|██████████| 138/138 [06:30<00:00,  2.83s/it]\n"
     ]
    },
    {
     "name": "stdout",
     "output_type": "stream",
     "text": [
      "\n",
      "Label_0: IoU Scores Train\n",
      "Class00: 0.8290 Class01: 0.6841 Class02: 0.0121 Class03: 0.5220 Class04: 0.1385 Class05: 0.0020 Class06: 0.1074 \n",
      "Class07: 0.1857 Class08: 0.6090 Class09: 0.8901 Class10: 0.0000 Class11: 0.0001 Class12: 0.3670 \n",
      "Label_1: IoU Scores Train\n",
      "Class00: 0.3161 Class01: 0.5270 Class02: 0.0051 Class03: 0.3916 Class04: 0.1060 Class05: 0.0005 Class06: 0.0645 \n",
      "Class07: 0.0873 Class08: 0.4295 Class09: 0.5688 Class10: 0.0000 Class11: 0.0002 Class12: 0.3342 \n",
      "Label_2: IoU Scores Train\n",
      "Class00: 0.2677 Class01: 0.4653 Class02: 0.0035 Class03: 0.3439 Class04: 0.0929 Class05: 0.0004 Class06: 0.0519 \n",
      "Class07: 0.0669 Class08: 0.3672 Class09: 0.4802 Class10: 0.0000 Class11: 0.0003 Class12: 0.3086 \n",
      "Label_3: IoU Scores Train\n",
      "Class00: 0.2458 Class01: 0.4232 Class02: 0.0026 Class03: 0.3139 Class04: 0.0852 Class05: 0.0003 Class06: 0.0445 \n",
      "Class07: 0.0571 Class08: 0.3306 Class09: 0.4311 Class10: 0.0000 Class11: 0.0003 Class12: 0.2913 \n",
      "Train seg Loss: 0.5151226555091747 Train dom Loss: 2.3782896492630243\n",
      "Train Loss: 0.5258249584855377\n",
      "Train mIoU: 0.22793286561089546\n"
     ]
    },
    {
     "name": "stderr",
     "output_type": "stream",
     "text": [
      "100%|██████████| 61/61 [00:21<00:00,  2.84it/s]\n"
     ]
    },
    {
     "name": "stdout",
     "output_type": "stream",
     "text": [
      "\n",
      "--IoU Scores Fish val--\n",
      "Class0: 0.9034 Class1: 0.0492 Class2: 0.0003 Class3: 0.0097 Class4: 0.0007 Class5: 0.0006 Class6: 0.0041 \n",
      "Class7: 0.0032 Class8: 0.0067 Class9: 0.0184 Class10: 0.0000 Class11: 0.0000 Class12: 0.0000 \n",
      "Epoch35\n",
      "Valid_Seg Loss: 4.591157577076896 Valid_dom Loss: 4.6000477290544355\n",
      "Valid Loss: 4.611857781644727\n",
      "Valid mIoU: 0.0766449369406785\n",
      "___________________________________________________________________________________________\n",
      "\n",
      "0.0045\n"
     ]
    },
    {
     "name": "stderr",
     "output_type": "stream",
     "text": [
      "Epoch: 36: 100%|██████████| 138/138 [06:28<00:00,  2.82s/it]\n"
     ]
    },
    {
     "name": "stdout",
     "output_type": "stream",
     "text": [
      "\n",
      "Label_0: IoU Scores Train\n",
      "Class00: 0.7664 Class01: 0.6618 Class02: 0.0130 Class03: 0.4741 Class04: 0.0961 Class05: 0.0020 Class06: 0.0365 \n",
      "Class07: 0.1120 Class08: 0.5930 Class09: 0.8660 Class10: 0.0003 Class11: 0.0008 Class12: 0.3006 \n",
      "Label_1: IoU Scores Train\n",
      "Class00: 0.3138 Class01: 0.5132 Class02: 0.0089 Class03: 0.3588 Class04: 0.0757 Class05: 0.0005 Class06: 0.0235 \n",
      "Class07: 0.0471 Class08: 0.4160 Class09: 0.5567 Class10: 0.0000 Class11: 0.0012 Class12: 0.2915 \n",
      "Label_2: IoU Scores Train\n",
      "Class00: 0.2675 Class01: 0.4474 Class02: 0.0081 Class03: 0.3148 Class04: 0.0670 Class05: 0.0004 Class06: 0.0190 \n",
      "Class07: 0.0362 Class08: 0.3579 Class09: 0.4708 Class10: 0.0001 Class11: 0.0013 Class12: 0.2730 \n",
      "Label_3: IoU Scores Train\n",
      "Class00: 0.2462 Class01: 0.4132 Class02: 0.0078 Class03: 0.2922 Class04: 0.0618 Class05: 0.0005 Class06: 0.0158 \n",
      "Class07: 0.0325 Class08: 0.3234 Class09: 0.4255 Class10: 0.0001 Class11: 0.0012 Class12: 0.2592 \n",
      "Train seg Loss: 0.6455693610444448 Train dom Loss: 89.64280820117531\n",
      "Train Loss: 1.0489619775418786\n",
      "Train mIoU: 0.2090785058036434\n"
     ]
    },
    {
     "name": "stderr",
     "output_type": "stream",
     "text": [
      "100%|██████████| 61/61 [00:21<00:00,  2.89it/s]\n"
     ]
    },
    {
     "name": "stdout",
     "output_type": "stream",
     "text": [
      "\n",
      "--IoU Scores Fish val--\n",
      "Class0: 0.8673 Class1: 0.0867 Class2: 0.0000 Class3: 0.0106 Class4: 0.0001 Class5: 0.0000 Class6: 0.0005 \n",
      "Class7: 0.0020 Class8: 0.0115 Class9: 0.0263 Class10: 0.0000 Class11: 0.0013 Class12: 0.0000 \n",
      "Epoch36\n",
      "Valid_Seg Loss: 4.710158817103652 Valid_dom Loss: 1.495824123503732\n",
      "Valid Loss: 4.716890026311406\n",
      "Valid mIoU: 0.0773961258411833\n",
      "___________________________________________________________________________________________\n",
      "\n",
      "0.0045\n"
     ]
    },
    {
     "name": "stderr",
     "output_type": "stream",
     "text": [
      "Epoch: 37: 100%|██████████| 138/138 [06:29<00:00,  2.82s/it]\n"
     ]
    },
    {
     "name": "stdout",
     "output_type": "stream",
     "text": [
      "\n",
      "Label_0: IoU Scores Train\n",
      "Class00: 0.3526 Class01: 0.2683 Class02: 0.0015 Class03: 0.1778 Class04: 0.0099 Class05: 0.0002 Class06: 0.0012 \n",
      "Class07: 0.0123 Class08: 0.2420 Class09: 0.5552 Class10: 0.0000 Class11: 0.0001 Class12: 0.0647 \n",
      "Label_1: IoU Scores Train\n",
      "Class00: 0.2599 Class01: 0.2246 Class02: 0.0014 Class03: 0.1653 Class04: 0.0090 Class05: 0.0001 Class06: 0.0009 \n",
      "Class07: 0.0047 Class08: 0.1882 Class09: 0.4097 Class10: 0.0000 Class11: 0.0001 Class12: 0.0658 \n",
      "Label_2: IoU Scores Train\n",
      "Class00: 0.2514 Class01: 0.1925 Class02: 0.0023 Class03: 0.1487 Class04: 0.0083 Class05: 0.0001 Class06: 0.0005 \n",
      "Class07: 0.0039 Class08: 0.1691 Class09: 0.3422 Class10: 0.0000 Class11: 0.0001 Class12: 0.0683 \n",
      "Label_3: IoU Scores Train\n",
      "Class00: 0.2352 Class01: 0.1651 Class02: 0.0016 Class03: 0.1511 Class04: 0.0059 Class05: 0.0004 Class06: 0.0003 \n",
      "Class07: 0.0035 Class08: 0.1677 Class09: 0.3091 Class10: 0.0000 Class11: 0.0001 Class12: 0.0644 \n",
      "Train seg Loss: 1.883312035459971 Train dom Loss: 8685.094165295579\n",
      "Train Loss: 40.96623407547241\n",
      "Train mIoU: 0.10206030233763183\n"
     ]
    },
    {
     "name": "stderr",
     "output_type": "stream",
     "text": [
      "100%|██████████| 61/61 [00:21<00:00,  2.87it/s]\n"
     ]
    },
    {
     "name": "stdout",
     "output_type": "stream",
     "text": [
      "\n",
      "--IoU Scores Fish val--\n",
      "Class0: 0.6007 Class1: 0.0042 Class2: 0.0000 Class3: 0.0038 Class4: 0.0000 Class5: 0.0000 Class6: 0.0000 \n",
      "Class7: 0.0000 Class8: 0.0032 Class9: 0.0069 Class10: 0.0000 Class11: 0.0000 Class12: 0.0000 \n",
      "Epoch37\n",
      "Valid_Seg Loss: 2.4842170691881025 Valid_dom Loss: 436.2874125496286\n",
      "Valid Loss: 4.447510371442701\n",
      "Valid mIoU: 0.047604368663501234\n",
      "___________________________________________________________________________________________\n",
      "\n",
      "0.0045\n"
     ]
    },
    {
     "name": "stderr",
     "output_type": "stream",
     "text": [
      "Epoch: 38: 100%|██████████| 138/138 [06:28<00:00,  2.82s/it]\n"
     ]
    },
    {
     "name": "stdout",
     "output_type": "stream",
     "text": [
      "\n",
      "Label_0: IoU Scores Train\n",
      "Class00: 0.4048 Class01: 0.3440 Class02: 0.0006 Class03: 0.2483 Class04: 0.0004 Class05: 0.0000 Class06: 0.0000 \n",
      "Class07: 0.0058 Class08: 0.4662 Class09: 0.6799 Class10: 0.0000 Class11: 0.0000 Class12: 0.0289 \n",
      "Label_1: IoU Scores Train\n",
      "Class00: 0.2978 Class01: 0.3134 Class02: 0.0035 Class03: 0.2395 Class04: 0.0031 Class05: 0.0000 Class06: 0.0000 \n",
      "Class07: 0.0043 Class08: 0.3341 Class09: 0.4538 Class10: 0.0000 Class11: 0.0000 Class12: 0.0377 \n",
      "Label_2: IoU Scores Train\n",
      "Class00: 0.2603 Class01: 0.2912 Class02: 0.0034 Class03: 0.2180 Class04: 0.0013 Class05: 0.0000 Class06: 0.0000 \n",
      "Class07: 0.0034 Class08: 0.2890 Class09: 0.3885 Class10: 0.0000 Class11: 0.0000 Class12: 0.0506 \n",
      "Label_3: IoU Scores Train\n",
      "Class00: 0.2411 Class01: 0.2790 Class02: 0.0007 Class03: 0.2045 Class04: 0.0009 Class05: 0.0000 Class06: 0.0000 \n",
      "Class07: 0.0022 Class08: 0.2558 Class09: 0.3493 Class10: 0.0000 Class11: 0.0000 Class12: 0.0486 \n",
      "Train seg Loss: 1.0372386624955612 Train dom Loss: 489.4611731764748\n",
      "Train Loss: 3.239813856780529\n",
      "Train mIoU: 0.12988882802948934\n"
     ]
    },
    {
     "name": "stderr",
     "output_type": "stream",
     "text": [
      "100%|██████████| 61/61 [00:21<00:00,  2.87it/s]\n"
     ]
    },
    {
     "name": "stdout",
     "output_type": "stream",
     "text": [
      "\n",
      "--IoU Scores Fish val--\n",
      "Class0: 0.7337 Class1: 0.0132 Class2: 0.0000 Class3: 0.0094 Class4: 0.0000 Class5: 0.0000 Class6: 0.0000 \n",
      "Class7: 0.0002 Class8: 0.0090 Class9: 0.0148 Class10: 0.0000 Class11: 0.0000 Class12: 0.0001 \n",
      "Epoch38\n",
      "Valid_Seg Loss: 3.724639888669624 Valid_dom Loss: 70.0389904780466\n",
      "Valid Loss: 4.03981535551978\n",
      "Valid mIoU: 0.06003164850311534\n",
      "___________________________________________________________________________________________\n",
      "\n",
      "0.0045\n"
     ]
    },
    {
     "name": "stderr",
     "output_type": "stream",
     "text": [
      "Epoch: 39: 100%|██████████| 138/138 [06:28<00:00,  2.82s/it]\n"
     ]
    },
    {
     "name": "stdout",
     "output_type": "stream",
     "text": [
      "\n",
      "Label_0: IoU Scores Train\n",
      "Class00: 0.4965 Class01: 0.4775 Class02: 0.0026 Class03: 0.3499 Class04: 0.0056 Class05: 0.0008 Class06: 0.0001 \n",
      "Class07: 0.0365 Class08: 0.5250 Class09: 0.8315 Class10: 0.0001 Class11: 0.0000 Class12: 0.1208 \n",
      "Label_1: IoU Scores Train\n",
      "Class00: 0.3093 Class01: 0.4549 Class02: 0.0030 Class03: 0.2957 Class04: 0.0102 Class05: 0.0002 Class06: 0.0001 \n",
      "Class07: 0.0235 Class08: 0.3760 Class09: 0.5295 Class10: 0.0001 Class11: 0.0000 Class12: 0.1281 \n",
      "Label_2: IoU Scores Train\n",
      "Class00: 0.2696 Class01: 0.4233 Class02: 0.0038 Class03: 0.2641 Class04: 0.0065 Class05: 0.0005 Class06: 0.0000 \n",
      "Class07: 0.0181 Class08: 0.3255 Class09: 0.4496 Class10: 0.0002 Class11: 0.0000 Class12: 0.1182 \n",
      "Label_3: IoU Scores Train\n",
      "Class00: 0.2487 Class01: 0.3952 Class02: 0.0073 Class03: 0.2505 Class04: 0.0053 Class05: 0.0003 Class06: 0.0001 \n",
      "Class07: 0.0174 Class08: 0.2968 Class09: 0.4075 Class10: 0.0001 Class11: 0.0000 Class12: 0.1165 \n",
      "Train seg Loss: 0.8925229470798934 Train dom Loss: 184.94718060408977\n",
      "Train Loss: 1.724785227490508\n",
      "Train mIoU: 0.16543750945317998\n"
     ]
    },
    {
     "name": "stderr",
     "output_type": "stream",
     "text": [
      "100%|██████████| 61/61 [00:21<00:00,  2.86it/s]\n"
     ]
    },
    {
     "name": "stdout",
     "output_type": "stream",
     "text": [
      "\n",
      "--IoU Scores Fish val--\n",
      "Class0: 0.7274 Class1: 0.0579 Class2: 0.0000 Class3: 0.0062 Class4: 0.0000 Class5: 0.0000 Class6: 0.0000 \n",
      "Class7: 0.0032 Class8: 0.0038 Class9: 0.0109 Class10: 0.0000 Class11: 0.0000 Class12: 0.0001 \n",
      "Epoch39\n",
      "Valid_Seg Loss: 8.620927904472977 Valid_dom Loss: 6.596285212235372\n",
      "Valid Loss: 8.650611197362181\n",
      "Valid mIoU: 0.06227344397385393\n",
      "___________________________________________________________________________________________\n",
      "\n",
      "0.0045\n"
     ]
    },
    {
     "name": "stderr",
     "output_type": "stream",
     "text": [
      "Epoch: 40: 100%|██████████| 138/138 [06:29<00:00,  2.82s/it]\n"
     ]
    },
    {
     "name": "stdout",
     "output_type": "stream",
     "text": [
      "\n",
      "Label_0: IoU Scores Train\n",
      "Class00: 0.6546 Class01: 0.5588 Class02: 0.0164 Class03: 0.4168 Class04: 0.0014 Class05: 0.0005 Class06: 0.0003 \n",
      "Class07: 0.0625 Class08: 0.5356 Class09: 0.8675 Class10: 0.0004 Class11: 0.0000 Class12: 0.1901 \n",
      "Label_1: IoU Scores Train\n",
      "Class00: 0.3184 Class01: 0.4983 Class02: 0.0110 Class03: 0.3154 Class04: 0.0017 Class05: 0.0014 Class06: 0.0001 \n",
      "Class07: 0.0363 Class08: 0.3811 Class09: 0.5503 Class10: 0.0001 Class11: 0.0000 Class12: 0.2043 \n",
      "Label_2: IoU Scores Train\n",
      "Class00: 0.2733 Class01: 0.4509 Class02: 0.0110 Class03: 0.2885 Class04: 0.0022 Class05: 0.0009 Class06: 0.0002 \n",
      "Class07: 0.0315 Class08: 0.3382 Class09: 0.4637 Class10: 0.0000 Class11: 0.0001 Class12: 0.2025 \n",
      "Label_3: IoU Scores Train\n",
      "Class00: 0.2510 Class01: 0.4191 Class02: 0.0116 Class03: 0.2766 Class04: 0.0020 Class05: 0.0004 Class06: 0.0001 \n",
      "Class07: 0.0292 Class08: 0.3062 Class09: 0.4177 Class10: 0.0000 Class11: 0.0000 Class12: 0.1948 \n",
      "Train seg Loss: 0.7886492402657218 Train dom Loss: 2.027186430018881\n",
      "Train Loss: 0.797771579761436\n",
      "Train mIoU: 0.18451631047514486\n"
     ]
    },
    {
     "name": "stderr",
     "output_type": "stream",
     "text": [
      "100%|██████████| 61/61 [00:21<00:00,  2.86it/s]\n"
     ]
    },
    {
     "name": "stdout",
     "output_type": "stream",
     "text": [
      "\n",
      "--IoU Scores Fish val--\n",
      "Class0: 0.8400 Class1: 0.0052 Class2: 0.0389 Class3: 0.0133 Class4: 0.0000 Class5: 0.0000 Class6: 0.0001 \n",
      "Class7: 0.0023 Class8: 0.0086 Class9: 0.0198 Class10: 0.0000 Class11: 0.0000 Class12: 0.0001 \n",
      "Epoch40\n",
      "Valid_Seg Loss: 7.364655307081879 Valid_dom Loss: 9.058254671878503\n",
      "Valid Loss: 7.4054174501387795\n",
      "Valid mIoU: 0.07140269159137229\n",
      "___________________________________________________________________________________________\n",
      "\n",
      "0.0045\n"
     ]
    },
    {
     "name": "stderr",
     "output_type": "stream",
     "text": [
      "Epoch: 41: 100%|██████████| 138/138 [06:29<00:00,  2.83s/it]\n"
     ]
    },
    {
     "name": "stdout",
     "output_type": "stream",
     "text": [
      "\n",
      "Label_0: IoU Scores Train\n",
      "Class00: 0.7381 Class01: 0.6072 Class02: 0.0295 Class03: 0.4511 Class04: 0.0092 Class05: 0.0009 Class06: 0.0004 \n",
      "Class07: 0.0521 Class08: 0.5513 Class09: 0.8666 Class10: 0.0002 Class11: 0.0000 Class12: 0.2396 \n",
      "Label_1: IoU Scores Train\n",
      "Class00: 0.3191 Class01: 0.5153 Class02: 0.0203 Class03: 0.3252 Class04: 0.0127 Class05: 0.0005 Class06: 0.0005 \n",
      "Class07: 0.0437 Class08: 0.3833 Class09: 0.5514 Class10: 0.0000 Class11: 0.0000 Class12: 0.2532 \n",
      "Label_2: IoU Scores Train\n",
      "Class00: 0.2712 Class01: 0.4577 Class02: 0.0153 Class03: 0.2848 Class04: 0.0122 Class05: 0.0009 Class06: 0.0004 \n",
      "Class07: 0.0407 Class08: 0.3427 Class09: 0.4712 Class10: 0.0000 Class11: 0.0000 Class12: 0.2451 \n",
      "Label_3: IoU Scores Train\n",
      "Class00: 0.2490 Class01: 0.4195 Class02: 0.0117 Class03: 0.2729 Class04: 0.0115 Class05: 0.0009 Class06: 0.0005 \n",
      "Class07: 0.0385 Class08: 0.3161 Class09: 0.4223 Class10: 0.0000 Class11: 0.0000 Class12: 0.2367 \n",
      "Train seg Loss: 0.8294326089106608 Train dom Loss: 2.0925107758114305\n",
      "Train Loss: 0.8388489090662071\n",
      "Train mIoU: 0.19410370546763153\n"
     ]
    },
    {
     "name": "stderr",
     "output_type": "stream",
     "text": [
      "100%|██████████| 61/61 [00:21<00:00,  2.82it/s]\n"
     ]
    },
    {
     "name": "stdout",
     "output_type": "stream",
     "text": [
      "\n",
      "--IoU Scores Fish val--\n",
      "Class0: 0.8488 Class1: 0.0344 Class2: 0.0008 Class3: 0.0128 Class4: 0.0005 Class5: 0.0000 Class6: 0.0000 \n",
      "Class7: 0.0032 Class8: 0.0114 Class9: 0.0183 Class10: 0.0000 Class11: 0.0000 Class12: 0.0000 \n",
      "Epoch41\n",
      "Valid_Seg Loss: 6.543294734642154 Valid_dom Loss: 22.243498680777236\n",
      "Valid Loss: 6.643390475726519\n",
      "Valid mIoU: 0.07154951332407564\n",
      "___________________________________________________________________________________________\n",
      "\n",
      "0.0045\n"
     ]
    },
    {
     "name": "stderr",
     "output_type": "stream",
     "text": [
      "Epoch: 42: 100%|██████████| 138/138 [06:30<00:00,  2.83s/it]\n"
     ]
    },
    {
     "name": "stdout",
     "output_type": "stream",
     "text": [
      "\n",
      "Label_0: IoU Scores Train\n",
      "Class00: 0.8238 Class01: 0.6680 Class02: 0.0817 Class03: 0.5053 Class04: 0.0147 Class05: 0.0008 Class06: 0.0027 \n",
      "Class07: 0.0878 Class08: 0.5937 Class09: 0.8812 Class10: 0.0000 Class11: 0.0000 Class12: 0.3254 \n",
      "Label_1: IoU Scores Train\n",
      "Class00: 0.3176 Class01: 0.5281 Class02: 0.0489 Class03: 0.3857 Class04: 0.0194 Class05: 0.0000 Class06: 0.0037 \n",
      "Class07: 0.0699 Class08: 0.4232 Class09: 0.5631 Class10: 0.0000 Class11: 0.0000 Class12: 0.2998 \n",
      "Label_2: IoU Scores Train\n",
      "Class00: 0.2687 Class01: 0.4630 Class02: 0.0365 Class03: 0.3392 Class04: 0.0191 Class05: 0.0001 Class06: 0.0027 \n",
      "Class07: 0.0647 Class08: 0.3638 Class09: 0.4767 Class10: 0.0000 Class11: 0.0000 Class12: 0.2851 \n",
      "Label_3: IoU Scores Train\n",
      "Class00: 0.2471 Class01: 0.4219 Class02: 0.0268 Class03: 0.3072 Class04: 0.0182 Class05: 0.0001 Class06: 0.0025 \n",
      "Class07: 0.0597 Class08: 0.3281 Class09: 0.4266 Class10: 0.0000 Class11: 0.0000 Class12: 0.2726 \n",
      "Train seg Loss: 0.5749062518926634 Train dom Loss: 1.2417670161179875\n",
      "Train Loss: 0.580494202889394\n",
      "Train mIoU: 0.21297853436829864\n"
     ]
    },
    {
     "name": "stderr",
     "output_type": "stream",
     "text": [
      "100%|██████████| 61/61 [00:21<00:00,  2.82it/s]\n"
     ]
    },
    {
     "name": "stdout",
     "output_type": "stream",
     "text": [
      "\n",
      "--IoU Scores Fish val--\n",
      "Class0: 0.8917 Class1: 0.0777 Class2: 0.0000 Class3: 0.0121 Class4: 0.0000 Class5: 0.0000 Class6: 0.0012 \n",
      "Class7: 0.0028 Class8: 0.0074 Class9: 0.0196 Class10: 0.0000 Class11: 0.0000 Class12: 0.0000 \n",
      "Epoch42\n",
      "Valid_Seg Loss: 4.462542795744098 Valid_dom Loss: 149.99266313333982\n",
      "Valid Loss: 5.137509752492436\n",
      "Valid mIoU: 0.07788255435627137\n",
      "___________________________________________________________________________________________\n",
      "\n",
      "0.0045\n"
     ]
    },
    {
     "name": "stderr",
     "output_type": "stream",
     "text": [
      "Epoch: 43: 100%|██████████| 138/138 [06:28<00:00,  2.82s/it]\n"
     ]
    },
    {
     "name": "stdout",
     "output_type": "stream",
     "text": [
      "\n",
      "Label_0: IoU Scores Train\n",
      "Class00: 0.8776 Class01: 0.6936 Class02: 0.0740 Class03: 0.5371 Class04: 0.0294 Class05: 0.0009 Class06: 0.0071 \n",
      "Class07: 0.1221 Class08: 0.6136 Class09: 0.8982 Class10: 0.0000 Class11: 0.0000 Class12: 0.3683 \n",
      "Label_1: IoU Scores Train\n",
      "Class00: 0.3179 Class01: 0.5333 Class02: 0.0434 Class03: 0.4023 Class04: 0.0382 Class05: 0.0000 Class06: 0.0123 \n",
      "Class07: 0.0773 Class08: 0.4377 Class09: 0.5694 Class10: 0.0000 Class11: 0.0000 Class12: 0.3207 \n",
      "Label_2: IoU Scores Train\n",
      "Class00: 0.2684 Class01: 0.4679 Class02: 0.0306 Class03: 0.3558 Class04: 0.0388 Class05: 0.0000 Class06: 0.0118 \n",
      "Class07: 0.0695 Class08: 0.3784 Class09: 0.4820 Class10: 0.0000 Class11: 0.0000 Class12: 0.2998 \n",
      "Label_3: IoU Scores Train\n",
      "Class00: 0.2463 Class01: 0.4258 Class02: 0.0223 Class03: 0.3250 Class04: 0.0383 Class05: 0.0001 Class06: 0.0106 \n",
      "Class07: 0.0644 Class08: 0.3421 Class09: 0.4319 Class10: 0.0000 Class11: 0.0000 Class12: 0.2866 \n",
      "Train seg Loss: 0.49288794738443004 Train dom Loss: 0.9479009250475876\n",
      "Train Loss: 0.4971535017416961\n",
      "Train mIoU: 0.22251327438365975\n"
     ]
    },
    {
     "name": "stderr",
     "output_type": "stream",
     "text": [
      "100%|██████████| 61/61 [00:21<00:00,  2.83it/s]\n"
     ]
    },
    {
     "name": "stdout",
     "output_type": "stream",
     "text": [
      "\n",
      "--IoU Scores Fish val--\n",
      "Class0: 0.8854 Class1: 0.0666 Class2: 0.0000 Class3: 0.0128 Class4: 0.0001 Class5: 0.0000 Class6: 0.0011 \n",
      "Class7: 0.0060 Class8: 0.0050 Class9: 0.0209 Class10: 0.0000 Class11: 0.0000 Class12: 0.0000 \n",
      "Epoch43\n",
      "Valid_Seg Loss: 4.052078032102741 Valid_dom Loss: 95.41070926775697\n",
      "Valid Loss: 4.481426199928659\n",
      "Valid mIoU: 0.07676824714814869\n",
      "___________________________________________________________________________________________\n",
      "\n",
      "0.0045\n"
     ]
    },
    {
     "name": "stderr",
     "output_type": "stream",
     "text": [
      "Epoch: 44: 100%|██████████| 138/138 [06:28<00:00,  2.82s/it]\n"
     ]
    },
    {
     "name": "stdout",
     "output_type": "stream",
     "text": [
      "\n",
      "Label_0: IoU Scores Train\n",
      "Class00: 0.8993 Class01: 0.7062 Class02: 0.0625 Class03: 0.5514 Class04: 0.0718 Class05: 0.0006 Class06: 0.0249 \n",
      "Class07: 0.1535 Class08: 0.6238 Class09: 0.9063 Class10: 0.0000 Class11: 0.0000 Class12: 0.3933 \n",
      "Label_1: IoU Scores Train\n",
      "Class00: 0.3178 Class01: 0.5361 Class02: 0.0408 Class03: 0.4041 Class04: 0.0733 Class05: 0.0000 Class06: 0.0280 \n",
      "Class07: 0.0814 Class08: 0.4427 Class09: 0.5713 Class10: 0.0000 Class11: 0.0000 Class12: 0.3339 \n",
      "Label_2: IoU Scores Train\n",
      "Class00: 0.2680 Class01: 0.4690 Class02: 0.0297 Class03: 0.3582 Class04: 0.0722 Class05: 0.0000 Class06: 0.0258 \n",
      "Class07: 0.0714 Class08: 0.3822 Class09: 0.4829 Class10: 0.0000 Class11: 0.0000 Class12: 0.3100 \n",
      "Label_3: IoU Scores Train\n",
      "Class00: 0.2458 Class01: 0.4258 Class02: 0.0223 Class03: 0.3291 Class04: 0.0696 Class05: 0.0000 Class06: 0.0225 \n",
      "Class07: 0.0660 Class08: 0.3457 Class09: 0.4324 Class10: 0.0000 Class11: 0.0000 Class12: 0.2964 \n",
      "Train seg Loss: 0.46711768085757893 Train dom Loss: 0.8917133630239877\n",
      "Train Loss: 0.47113039101595466\n",
      "Train mIoU: 0.22976767853452296\n"
     ]
    },
    {
     "name": "stderr",
     "output_type": "stream",
     "text": [
      "100%|██████████| 61/61 [00:21<00:00,  2.83it/s]\n"
     ]
    },
    {
     "name": "stdout",
     "output_type": "stream",
     "text": [
      "\n",
      "--IoU Scores Fish val--\n",
      "Class0: 0.8839 Class1: 0.0833 Class2: 0.0000 Class3: 0.0122 Class4: 0.0002 Class5: 0.0000 Class6: 0.0024 \n",
      "Class7: 0.0029 Class8: 0.0093 Class9: 0.0275 Class10: 0.0000 Class11: 0.0000 Class12: 0.0000 \n",
      "Epoch44\n",
      "Valid_Seg Loss: 4.050241802559524 Valid_dom Loss: 16.201146641715628\n",
      "Valid Loss: 4.123146963901207\n",
      "Valid mIoU: 0.07859456554647312\n",
      "___________________________________________________________________________________________\n",
      "\n",
      "0.0045\n"
     ]
    },
    {
     "name": "stderr",
     "output_type": "stream",
     "text": [
      "Epoch: 45: 100%|██████████| 138/138 [06:28<00:00,  2.82s/it]\n"
     ]
    },
    {
     "name": "stdout",
     "output_type": "stream",
     "text": [
      "\n",
      "Label_0: IoU Scores Train\n",
      "Class00: 0.9145 Class01: 0.7160 Class02: 0.0605 Class03: 0.5634 Class04: 0.1136 Class05: 0.0008 Class06: 0.0494 \n",
      "Class07: 0.1774 Class08: 0.6322 Class09: 0.9098 Class10: 0.0000 Class11: 0.0000 Class12: 0.4194 \n",
      "Label_1: IoU Scores Train\n",
      "Class00: 0.3179 Class01: 0.5405 Class02: 0.0383 Class03: 0.4081 Class04: 0.1005 Class05: 0.0000 Class06: 0.0395 \n",
      "Class07: 0.0826 Class08: 0.4473 Class09: 0.5724 Class10: 0.0000 Class11: 0.0000 Class12: 0.3455 \n",
      "Label_2: IoU Scores Train\n",
      "Class00: 0.2679 Class01: 0.4718 Class02: 0.0284 Class03: 0.3619 Class04: 0.0991 Class05: 0.0000 Class06: 0.0332 \n",
      "Class07: 0.0698 Class08: 0.3861 Class09: 0.4834 Class10: 0.0000 Class11: 0.0000 Class12: 0.3183 \n",
      "Label_3: IoU Scores Train\n",
      "Class00: 0.2455 Class01: 0.4272 Class02: 0.0213 Class03: 0.3328 Class04: 0.0945 Class05: 0.0001 Class06: 0.0293 \n",
      "Class07: 0.0632 Class08: 0.3492 Class09: 0.4326 Class10: 0.0000 Class11: 0.0000 Class12: 0.3023 \n",
      "Train seg Loss: 0.4510626848517121 Train dom Loss: 0.9239805252763672\n",
      "Train Loss: 0.45522059635191725\n",
      "Train mIoU: 0.23591951448782325\n"
     ]
    },
    {
     "name": "stderr",
     "output_type": "stream",
     "text": [
      "100%|██████████| 61/61 [00:21<00:00,  2.86it/s]\n"
     ]
    },
    {
     "name": "stdout",
     "output_type": "stream",
     "text": [
      "\n",
      "--IoU Scores Fish val--\n",
      "Class0: 0.8738 Class1: 0.0225 Class2: 0.0005 Class3: 0.0115 Class4: 0.0001 Class5: 0.0012 Class6: 0.0104 \n",
      "Class7: 0.0086 Class8: 0.0110 Class9: 0.0281 Class10: 0.0000 Class11: 0.0000 Class12: 0.0000 \n",
      "Epoch45\n",
      "Valid_Seg Loss: 4.082391019727363 Valid_dom Loss: 15.83255857620083\n",
      "Valid Loss: 4.153637549916252\n",
      "Valid mIoU: 0.07444815521819172\n",
      "___________________________________________________________________________________________\n",
      "\n",
      "0.0045\n"
     ]
    },
    {
     "name": "stderr",
     "output_type": "stream",
     "text": [
      "Epoch: 46: 100%|██████████| 138/138 [06:32<00:00,  2.84s/it]\n"
     ]
    },
    {
     "name": "stdout",
     "output_type": "stream",
     "text": [
      "\n",
      "Label_0: IoU Scores Train\n",
      "Class00: 0.9221 Class01: 0.7213 Class02: 0.0643 Class03: 0.5710 Class04: 0.1573 Class05: 0.0019 Class06: 0.0759 \n",
      "Class07: 0.1912 Class08: 0.6433 Class09: 0.9110 Class10: 0.0000 Class11: 0.0000 Class12: 0.4324 \n",
      "Label_1: IoU Scores Train\n",
      "Class00: 0.3182 Class01: 0.5434 Class02: 0.0409 Class03: 0.4115 Class04: 0.1276 Class05: 0.0000 Class06: 0.0503 \n",
      "Class07: 0.0880 Class08: 0.4524 Class09: 0.5731 Class10: 0.0000 Class11: 0.0000 Class12: 0.3561 \n",
      "Label_2: IoU Scores Train\n",
      "Class00: 0.2678 Class01: 0.4738 Class02: 0.0313 Class03: 0.3651 Class04: 0.1226 Class05: 0.0001 Class06: 0.0410 \n",
      "Class07: 0.0721 Class08: 0.3906 Class09: 0.4835 Class10: 0.0000 Class11: 0.0000 Class12: 0.3276 \n",
      "Label_3: IoU Scores Train\n",
      "Class00: 0.2454 Class01: 0.4285 Class02: 0.0234 Class03: 0.3363 Class04: 0.1151 Class05: 0.0000 Class06: 0.0349 \n",
      "Class07: 0.0642 Class08: 0.3536 Class09: 0.4321 Class10: 0.0000 Class11: 0.0000 Class12: 0.3105 \n",
      "Train seg Loss: 0.43946845608129015 Train dom Loss: 1.3470179879147073\n",
      "Train Loss: 0.4455300357354724\n",
      "Train mIoU: 0.24178406260720864\n"
     ]
    },
    {
     "name": "stderr",
     "output_type": "stream",
     "text": [
      "100%|██████████| 61/61 [00:21<00:00,  2.83it/s]\n"
     ]
    },
    {
     "name": "stdout",
     "output_type": "stream",
     "text": [
      "\n",
      "--IoU Scores Fish val--\n",
      "Class0: 0.8907 Class1: 0.0339 Class2: 0.0000 Class3: 0.0108 Class4: 0.0003 Class5: 0.0000 Class6: 0.0047 \n",
      "Class7: 0.0040 Class8: 0.0091 Class9: 0.0225 Class10: 0.0000 Class11: 0.0001 Class12: 0.0000 \n",
      "Epoch46\n",
      "Valid_Seg Loss: 3.948789338596532 Valid_dom Loss: 3.705871979721257\n",
      "Valid Loss: 3.965465744987863\n",
      "Valid mIoU: 0.07507594961500208\n",
      "___________________________________________________________________________________________\n",
      "\n",
      "0.0045\n"
     ]
    },
    {
     "name": "stderr",
     "output_type": "stream",
     "text": [
      "Epoch: 47: 100%|██████████| 138/138 [06:29<00:00,  2.82s/it]\n"
     ]
    },
    {
     "name": "stdout",
     "output_type": "stream",
     "text": [
      "\n",
      "Label_0: IoU Scores Train\n",
      "Class00: 0.9284 Class01: 0.7277 Class02: 0.0640 Class03: 0.5814 Class04: 0.1923 Class05: 0.0024 Class06: 0.1048 \n",
      "Class07: 0.2042 Class08: 0.6430 Class09: 0.9159 Class10: 0.0000 Class11: 0.0000 Class12: 0.4523 \n",
      "Label_1: IoU Scores Train\n",
      "Class00: 0.3186 Class01: 0.5488 Class02: 0.0430 Class03: 0.4165 Class04: 0.1442 Class05: 0.0001 Class06: 0.0597 \n",
      "Class07: 0.0935 Class08: 0.4513 Class09: 0.5758 Class10: 0.0000 Class11: 0.0000 Class12: 0.3717 \n",
      "Label_2: IoU Scores Train\n",
      "Class00: 0.2677 Class01: 0.4772 Class02: 0.0337 Class03: 0.3683 Class04: 0.1321 Class05: 0.0001 Class06: 0.0459 \n",
      "Class07: 0.0751 Class08: 0.3917 Class09: 0.4847 Class10: 0.0000 Class11: 0.0000 Class12: 0.3400 \n",
      "Label_3: IoU Scores Train\n",
      "Class00: 0.2451 Class01: 0.4309 Class02: 0.0261 Class03: 0.3392 Class04: 0.1218 Class05: 0.0000 Class06: 0.0382 \n",
      "Class07: 0.0661 Class08: 0.3571 Class09: 0.4328 Class10: 0.0000 Class11: 0.0000 Class12: 0.3220 \n",
      "Train seg Loss: 0.42525884654858837 Train dom Loss: 1.710654973335888\n",
      "Train Loss: 0.43295679333201353\n",
      "Train mIoU: 0.2468307030646359\n"
     ]
    },
    {
     "name": "stderr",
     "output_type": "stream",
     "text": [
      "100%|██████████| 61/61 [00:21<00:00,  2.84it/s]\n"
     ]
    },
    {
     "name": "stdout",
     "output_type": "stream",
     "text": [
      "\n",
      "--IoU Scores Fish val--\n",
      "Class0: 0.8740 Class1: 0.0358 Class2: 0.0007 Class3: 0.0075 Class4: 0.0000 Class5: 0.0000 Class6: 0.0054 \n",
      "Class7: 0.0032 Class8: 0.0095 Class9: 0.0272 Class10: 0.0000 Class11: 0.0001 Class12: 0.0000 \n",
      "Epoch47\n",
      "Valid_Seg Loss: 3.912136781411093 Valid_dom Loss: 2.4497838196207264\n",
      "Valid Loss: 3.923160764037586\n",
      "Valid mIoU: 0.07410945201291597\n",
      "___________________________________________________________________________________________\n",
      "\n",
      "0.0045\n"
     ]
    },
    {
     "name": "stderr",
     "output_type": "stream",
     "text": [
      "Epoch: 48: 100%|██████████| 138/138 [06:28<00:00,  2.81s/it]\n"
     ]
    },
    {
     "name": "stdout",
     "output_type": "stream",
     "text": [
      "\n",
      "Label_0: IoU Scores Train\n",
      "Class00: 0.9329 Class01: 0.7397 Class02: 0.0759 Class03: 0.5925 Class04: 0.2133 Class05: 0.0024 Class06: 0.1101 \n",
      "Class07: 0.2188 Class08: 0.6539 Class09: 0.9199 Class10: 0.0000 Class11: 0.0000 Class12: 0.4718 \n",
      "Label_1: IoU Scores Train\n",
      "Class00: 0.3189 Class01: 0.5541 Class02: 0.0472 Class03: 0.4230 Class04: 0.1617 Class05: 0.0001 Class06: 0.0613 \n",
      "Class07: 0.0994 Class08: 0.4568 Class09: 0.5773 Class10: 0.0000 Class11: 0.0000 Class12: 0.3878 \n",
      "Label_2: IoU Scores Train\n",
      "Class00: 0.2677 Class01: 0.4812 Class02: 0.0370 Class03: 0.3733 Class04: 0.1460 Class05: 0.0002 Class06: 0.0468 \n",
      "Class07: 0.0794 Class08: 0.3969 Class09: 0.4855 Class10: 0.0000 Class11: 0.0000 Class12: 0.3540 \n",
      "Label_3: IoU Scores Train\n",
      "Class00: 0.2450 Class01: 0.4348 Class02: 0.0293 Class03: 0.3435 Class04: 0.1337 Class05: 0.0001 Class06: 0.0388 \n",
      "Class07: 0.0694 Class08: 0.3625 Class09: 0.4333 Class10: 0.0000 Class11: 0.0000 Class12: 0.3337 \n",
      "Train seg Loss: 0.4086922387174074 Train dom Loss: 1.2137498091096464\n",
      "Train Loss: 0.4141541122850301\n",
      "Train mIoU: 0.2521349503148831\n"
     ]
    },
    {
     "name": "stderr",
     "output_type": "stream",
     "text": [
      "100%|██████████| 61/61 [00:21<00:00,  2.85it/s]\n"
     ]
    },
    {
     "name": "stdout",
     "output_type": "stream",
     "text": [
      "\n",
      "--IoU Scores Fish val--\n",
      "Class0: 0.8799 Class1: 0.0319 Class2: 0.0002 Class3: 0.0110 Class4: 0.0002 Class5: 0.0000 Class6: 0.0080 \n",
      "Class7: 0.0041 Class8: 0.0086 Class9: 0.0239 Class10: 0.0000 Class11: 0.0000 Class12: 0.0000 \n",
      "Epoch48\n",
      "Valid_Seg Loss: 3.9085546047961124 Valid_dom Loss: 1.6270487894777392\n",
      "Valid Loss: 3.915876298654275\n",
      "Valid mIoU: 0.07445182993838975\n",
      "___________________________________________________________________________________________\n",
      "\n",
      "0.0045\n"
     ]
    },
    {
     "name": "stderr",
     "output_type": "stream",
     "text": [
      "Epoch: 49: 100%|██████████| 138/138 [06:28<00:00,  2.82s/it]\n"
     ]
    },
    {
     "name": "stdout",
     "output_type": "stream",
     "text": [
      "\n",
      "Label_0: IoU Scores Train\n",
      "Class00: 0.9376 Class01: 0.7527 Class02: 0.0928 Class03: 0.6036 Class04: 0.2380 Class05: 0.0028 Class06: 0.1174 \n",
      "Class07: 0.2295 Class08: 0.6653 Class09: 0.9242 Class10: 0.0000 Class11: 0.0000 Class12: 0.5017 \n",
      "Label_1: IoU Scores Train\n",
      "Class00: 0.3191 Class01: 0.5611 Class02: 0.0553 Class03: 0.4290 Class04: 0.1808 Class05: 0.0002 Class06: 0.0631 \n",
      "Class07: 0.1079 Class08: 0.4641 Class09: 0.5781 Class10: 0.0000 Class11: 0.0001 Class12: 0.4104 \n",
      "Label_2: IoU Scores Train\n",
      "Class00: 0.2676 Class01: 0.4865 Class02: 0.0435 Class03: 0.3777 Class04: 0.1602 Class05: 0.0002 Class06: 0.0483 \n",
      "Class07: 0.0864 Class08: 0.4031 Class09: 0.4862 Class10: 0.0000 Class11: 0.0000 Class12: 0.3725 \n",
      "Label_3: IoU Scores Train\n",
      "Class00: 0.2450 Class01: 0.4397 Class02: 0.0340 Class03: 0.3469 Class04: 0.1431 Class05: 0.0002 Class06: 0.0406 \n",
      "Class07: 0.0754 Class08: 0.3683 Class09: 0.4342 Class10: 0.0000 Class11: 0.0001 Class12: 0.3490 \n",
      "Train seg Loss: 0.39101839265313704 Train dom Loss: 1.1105861667597638\n",
      "Train Loss: 0.3960160295060579\n",
      "Train mIoU: 0.2585270479901913\n"
     ]
    },
    {
     "name": "stderr",
     "output_type": "stream",
     "text": [
      "100%|██████████| 61/61 [00:21<00:00,  2.85it/s]\n"
     ]
    },
    {
     "name": "stdout",
     "output_type": "stream",
     "text": [
      "\n",
      "--IoU Scores Fish val--\n",
      "Class0: 0.8827 Class1: 0.0331 Class2: 0.0008 Class3: 0.0107 Class4: 0.0001 Class5: 0.0000 Class6: 0.0081 \n",
      "Class7: 0.0066 Class8: 0.0087 Class9: 0.0262 Class10: 0.0000 Class11: 0.0000 Class12: 0.0000 \n",
      "Epoch49\n",
      "Valid_Seg Loss: 3.845351543582854 Valid_dom Loss: 1.8995545438078583\n",
      "Valid Loss: 3.853899537539873\n",
      "Valid mIoU: 0.07515933619219667\n",
      "___________________________________________________________________________________________\n",
      "\n",
      "0.0045\n"
     ]
    },
    {
     "name": "stderr",
     "output_type": "stream",
     "text": [
      "Epoch: 50: 100%|██████████| 138/138 [06:27<00:00,  2.81s/it]\n"
     ]
    },
    {
     "name": "stdout",
     "output_type": "stream",
     "text": [
      "\n",
      "Label_0: IoU Scores Train\n",
      "Class00: 0.9366 Class01: 0.7637 Class02: 0.0975 Class03: 0.6096 Class04: 0.2700 Class05: 0.0024 Class06: 0.1372 \n",
      "Class07: 0.2498 Class08: 0.6718 Class09: 0.9256 Class10: 0.0002 Class11: 0.0000 Class12: 0.5332 \n",
      "Label_1: IoU Scores Train\n",
      "Class00: 0.3186 Class01: 0.5661 Class02: 0.0668 Class03: 0.4315 Class04: 0.2015 Class05: 0.0001 Class06: 0.0685 \n",
      "Class07: 0.1166 Class08: 0.4670 Class09: 0.5787 Class10: 0.0000 Class11: 0.0001 Class12: 0.4290 \n",
      "Label_2: IoU Scores Train\n",
      "Class00: 0.2665 Class01: 0.4894 Class02: 0.0563 Class03: 0.3796 Class04: 0.1723 Class05: 0.0002 Class06: 0.0511 \n",
      "Class07: 0.0938 Class08: 0.4060 Class09: 0.4867 Class10: 0.0000 Class11: 0.0003 Class12: 0.3872 \n",
      "Label_3: IoU Scores Train\n",
      "Class00: 0.2448 Class01: 0.4428 Class02: 0.0458 Class03: 0.3486 Class04: 0.1500 Class05: 0.0002 Class06: 0.0425 \n",
      "Class07: 0.0822 Class08: 0.3715 Class09: 0.4344 Class10: 0.0001 Class11: 0.0004 Class12: 0.3612 \n",
      "Train seg Loss: 0.38011170767139696 Train dom Loss: 8.11702189018673\n",
      "Train Loss: 0.4166383047358713\n",
      "Train mIoU: 0.2645370721160285\n"
     ]
    },
    {
     "name": "stderr",
     "output_type": "stream",
     "text": [
      "100%|██████████| 61/61 [00:21<00:00,  2.83it/s]"
     ]
    },
    {
     "name": "stdout",
     "output_type": "stream",
     "text": [
      "\n",
      "--IoU Scores Fish val--\n",
      "Class0: 0.6952 Class1: 0.0033 Class2: 0.0000 Class3: 0.0087 Class4: 0.0031 Class5: 0.0002 Class6: 0.0039 \n",
      "Class7: 0.0045 Class8: 0.0105 Class9: 0.0387 Class10: 0.0000 Class11: 0.0013 Class12: 0.0001 \n",
      "Epoch50\n",
      "Valid_Seg Loss: 5.056983517818764 Valid_dom Loss: 53.89784311222248\n",
      "Valid Loss: 5.299523799145808\n",
      "Valid mIoU: 0.05919476815515123\n",
      "___________________________________________________________________________________________\n",
      "\n",
      "Hyperparamerters\n",
      "LR = 0.0005 | EP = 50, BATCH_SIZE = 16, N_CLASSES = 13, init_alpha = 0.0045, N_LABELS = 4\n"
     ]
    },
    {
     "name": "stderr",
     "output_type": "stream",
     "text": [
      "\n"
     ]
    }
   ],
   "source": [
    "for epoch in range(EP):\n",
    "    model.train()\n",
    "    epoch_loss = 0\n",
    "    seg_losses = 0\n",
    "    domain_losses = 0\n",
    "    alpha = 0.0045\n",
    "    train_class_ious = [[],[],[],[]]\n",
    "    \n",
    "    # label_dfs = {label: None for label in range(N_LABELS)}\n",
    "    print(alpha)\n",
    "    for source_images, source_masks in tqdm(source_dataloader,desc=f\"Epoch: {epoch+1}\"):\n",
    "        for label in range(N_LABELS): \n",
    "            source_image, source_mask = apply_fisheye_distortion(source_images, source_masks, label)\n",
    "            source_image = source_image.float().to(device)\n",
    "            source_mask = source_mask.long().to(device)\n",
    "            source_outputs = model(source_image)\n",
    "            \n",
    "            optimizer.zero_grad()\n",
    "            target_loss, seg_loss, domain_loss = loss_fn(source_outputs, source_mask, label, alpha = alpha)\n",
    "            epoch_loss += target_loss.item()\n",
    "            seg_losses +=  seg_loss.item()\n",
    "            domain_losses += domain_loss.item()\n",
    "            target_loss.backward()\n",
    "            optimizer.step()\n",
    "            # miou측정\n",
    "            source_outputs = model(source_image)\n",
    "            source_outputs = torch.softmax(source_outputs[0], dim=1).cpu()\n",
    "            source_outputs = torch.argmax(source_outputs, dim=1).numpy()\n",
    "            \n",
    "            for class_id in range(N_CLASSES):\n",
    "                iou = calculate_iou_per_class(np.array(source_masks.cpu()), np.array(source_outputs), class_id)\n",
    "                train_class_ious[label].append(iou)\n",
    "            \n",
    "    for i in range(N_LABELS):\n",
    "        buff = np.array(train_class_ious[i]).reshape(-1,N_CLASSES)\n",
    "        buff = np.mean(buff, axis=0)\n",
    "        print(f\"\\nLabel_{i}: IoU Scores Train\")\n",
    "        for class_id, iou in enumerate(buff):\n",
    "            print(f'Class{class_id:02d}: {iou:.4f}', end=\" \")\n",
    "            if (class_id+1) % 7 == 0:\n",
    "                print()   \n",
    "    print()    \n",
    "    print(f\"Train seg Loss: {(seg_losses/(N_LABELS*len(source_dataloader)))}\",f\"Train dom Loss: {(domain_losses/(N_LABELS*len(source_dataloader)))}\")\n",
    "    print(f\"Train Loss: {(epoch_loss/(N_LABELS*len(source_dataloader)))}\")\n",
    "    print(f\"Train mIoU: {np.mean(train_class_ious)}\" )\n",
    "    ################################################################\n",
    "    # 클래스별 IoU를 누적할 리스트 초기화\n",
    "    val_class_ious = []\n",
    "    fish_val_class_ious = []\n",
    "    val_epoch_loss = 0\n",
    "    val_seg_loss = 0\n",
    "    val_domain_loss = 0\n",
    "    # valid\n",
    "    model.eval()\n",
    "    with torch.no_grad():\n",
    "        \n",
    "        for target_images, target_masks in tqdm(val_target_dataloader):\n",
    "            label = 2.5\n",
    "            target_images, target_masks = apply_fisheye_distortion(target_images, target_masks, label)\n",
    "            target_images = target_images.float().to(device)\n",
    "            target_masks = target_masks.long().to(device)\n",
    "\n",
    "            target_outputs = model(target_images)\n",
    "\n",
    "            target_loss, target_seg_loss, target_domain_loss = loss_fn(target_outputs, target_masks, label, alpha = alpha)\n",
    "\n",
    "            val_seg_loss +=  target_seg_loss.item()\n",
    "            val_domain_loss += target_domain_loss.item()\n",
    "            \n",
    "            loss = target_loss\n",
    "\n",
    "            val_epoch_loss += loss.item()\n",
    "\n",
    "            # train 클래스별 IoU 계산\n",
    "            target_outputs = torch.softmax(target_outputs[0], dim=1).cpu()\n",
    "            target_outputs = torch.argmax(target_outputs, dim=1).numpy()\n",
    "\n",
    "            for class_id in range(N_CLASSES):\n",
    "                iou = calculate_iou_per_class(np.array(target_masks.cpu()), np.array(target_outputs), class_id)\n",
    "                fish_val_class_ious.append(iou)\n",
    "\n",
    "    fish_val_class_ious = np.array(fish_val_class_ious).reshape(-1,N_CLASSES)\n",
    "    fish_val_class_ious = np.mean(fish_val_class_ious, axis=0)\n",
    "    print()\n",
    "    print(\"--IoU Scores Fish val--\")\n",
    "    for class_id, iou in enumerate(fish_val_class_ious):\n",
    "        print(f'Class{class_id}: {iou:.4f}', end=\" \")\n",
    "        if (class_id+1) % 7 == 0:\n",
    "            print()\n",
    "\n",
    "    # mIoU 계산\n",
    "    fish_val_mIoU = np.mean(fish_val_class_ious)\n",
    "\n",
    "    # 에폭마다 결과 출력 \n",
    "    print(f\"\\nEpoch{epoch+1}\")\n",
    "    print(f\"Valid_Seg Loss: {(val_seg_loss/len(val_target_dataloader))}\",f\"Valid_dom Loss: {(val_domain_loss/len(val_target_dataloader))}\")\n",
    "    print(f\"Valid Loss: {(val_epoch_loss/len(val_target_dataloader))}\")\n",
    "    print(f\"Valid mIoU: {fish_val_mIoU}\" )\n",
    "    print(\"___________________________________________________________________________________________\\n\")\n",
    "\n",
    "print(\"Hyperparamerters\")\n",
    "print(f\"LR = {LR} | EP = {EP}, BATCH_SIZE = {BATCH_SIZE}, N_CLASSES = {N_CLASSES}, init_alpha = {alpha}, N_LABELS = {N_LABELS}\")"
   ]
  },
  {
   "cell_type": "code",
   "execution_count": null,
   "metadata": {},
   "outputs": [],
   "source": []
  },
  {
   "cell_type": "code",
   "execution_count": 11,
   "metadata": {},
   "outputs": [],
   "source": [
    "torch.save(model.state_dict(), './data/resnet34_1112_1.pth')\n"
   ]
  }
 ],
 "metadata": {
  "kernelspec": {
   "display_name": "byungwan_resn",
   "language": "python",
   "name": "python3"
  },
  "language_info": {
   "codemirror_mode": {
    "name": "ipython",
    "version": 3
   },
   "file_extension": ".py",
   "mimetype": "text/x-python",
   "name": "python",
   "nbconvert_exporter": "python",
   "pygments_lexer": "ipython3",
   "version": "3.8.17"
  }
 },
 "nbformat": 4,
 "nbformat_minor": 2
}
