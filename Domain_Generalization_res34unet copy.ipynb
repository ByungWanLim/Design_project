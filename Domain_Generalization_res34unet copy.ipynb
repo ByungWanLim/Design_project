{
 "cells": [
  {
   "cell_type": "code",
   "execution_count": 1,
   "metadata": {},
   "outputs": [
    {
     "name": "stderr",
     "output_type": "stream",
     "text": [
      "/home/MMI24limbyungwan/.conda/envs/byungwan_resn/lib/python3.8/site-packages/tqdm/auto.py:21: TqdmWarning: IProgress not found. Please update jupyter and ipywidgets. See https://ipywidgets.readthedocs.io/en/stable/user_install.html\n",
      "  from .autonotebook import tqdm as notebook_tqdm\n"
     ]
    }
   ],
   "source": [
    "import os\n",
    "import cv2\n",
    "from PIL import Image\n",
    "import pandas as pd\n",
    "import numpy as np\n",
    "\n",
    "import torch\n",
    "import torch.nn as nn\n",
    "import torch.nn.functional as F\n",
    "from torch.utils.data import Dataset, DataLoader\n",
    "from torchvision import transforms\n",
    "#from torch.optim.lr_scheduler import _LRScheduler\n",
    "\n",
    "from tqdm import tqdm\n",
    "import albumentations as A\n",
    "from albumentations.pytorch import ToTensorV2\n",
    "\n",
    "from torchvision import models\n",
    "from torchsummary import summary\n",
    "import torch.nn.functional as F\n"
   ]
  },
  {
   "cell_type": "code",
   "execution_count": 2,
   "metadata": {},
   "outputs": [
    {
     "name": "stdout",
     "output_type": "stream",
     "text": [
      "cuda\n",
      "1\n"
     ]
    }
   ],
   "source": [
    "\n",
    "# GPU 사용이 가능할 경우, GPU를 사용할 수 있게 함.'\n",
    "os.environ['CUDA_VISIBLE_DEVICES'] = '3'\n",
    "device = \"cuda\" if torch.cuda.is_available() else \"cpu\"\n",
    "device = torch.device(device)\n",
    "print(device)\n",
    "\n",
    "print(os.environ.get('CUDA_VISIBLE_DEVICES'))"
   ]
  },
  {
   "cell_type": "code",
   "execution_count": 3,
   "metadata": {},
   "outputs": [],
   "source": [
    "# RLE 인코딩 함수\n",
    "def rle_encode(mask):\n",
    "    pixels = mask.flatten()\n",
    "    pixels = np.concatenate([[0], pixels, [0]])\n",
    "    runs = np.where(pixels[1:] != pixels[:-1])[0] + 1\n",
    "    runs[1::2] -= runs[::2]\n",
    "    return ' '.join(str(x) for x in runs)\n",
    "\n",
    "# 클래스별 IoU를 계산하기 위한 함수\n",
    "def calculate_iou_per_class(y_true, y_pred, class_id):\n",
    "    intersection = np.sum((y_true == class_id) & (y_pred == class_id))\n",
    "    union = np.sum((y_true == class_id) | (y_pred == class_id))\n",
    "    iou = intersection / union if union > 0 else 0\n",
    "    return iou\n",
    "\n",
    "def calculate_ious(y_true, y_pred, class_num):\n",
    "    ious = []\n",
    "    for class_id in range(class_num):\n",
    "        intersection = np.sum((y_true == class_id) & (y_pred == class_id))\n",
    "        union = np.sum((y_true == class_id) | (y_pred == class_id))\n",
    "        iou = intersection / union if union > 0 else 0\n",
    "        ious.append(iou)\n",
    "    return ious\n",
    "\n",
    "def apply_fisheye_distortion(images, masks, label):\n",
    "    # 이미지 크기 가져오기\n",
    "    batch, channel, height, width = images.shape\n",
    "\n",
    "    # 카메라 매트릭스 생성\n",
    "    focal_length = width / 4\n",
    "    center_x = width / 2\n",
    "    center_y = height / 2\n",
    "    camera_matrix = np.array([[focal_length, 0, center_x],\n",
    "                              [0, focal_length, center_y],\n",
    "                              [0, 0, 1]], dtype=np.float32)\n",
    "\n",
    "    # 왜곡 계수 생성\n",
    "    dist_coeffs = np.array([0, 0.02 * label, 0, 0], dtype=np.float32)\n",
    "\n",
    "    # 왜곡 보정\n",
    "    undistorted_images = []\n",
    "    undistorted_masks = []\n",
    "\n",
    "    for i in range(batch):\n",
    "        image = images[i].permute(1, 2, 0).cpu().numpy()  # 텐서를 NumPy 배열로 변환\n",
    "        mask = masks[i].cpu().numpy()\n",
    "        undistorted_image = cv2.undistort(image, camera_matrix, dist_coeffs)\n",
    "        undistorted_mask = cv2.undistort(mask, camera_matrix, dist_coeffs)\n",
    "        undistorted_mask = np.round(undistorted_mask).astype(np.uint8)\n",
    "        undistorted_mask[undistorted_mask > 12] = 12\n",
    "\n",
    "        # 다시 텐서로 변환\n",
    "        undistorted_image = torch.from_numpy(undistorted_image).permute(2, 0, 1).float().to(device)\n",
    "        undistorted_mask = torch.from_numpy(undistorted_mask).long().to(device)\n",
    "\n",
    "        undistorted_images.append(undistorted_image)\n",
    "        undistorted_masks.append(undistorted_mask)\n",
    "\n",
    "    undistorted_images = torch.stack(undistorted_images, dim=0)\n",
    "    undistorted_masks = torch.stack(undistorted_masks, dim=0)\n",
    "\n",
    "    return undistorted_images, undistorted_masks"
   ]
  },
  {
   "cell_type": "markdown",
   "metadata": {},
   "source": [
    "## 데이터셋"
   ]
  },
  {
   "cell_type": "code",
   "execution_count": 4,
   "metadata": {},
   "outputs": [],
   "source": [
    "class CustomDataset(Dataset):\n",
    "    def __init__(self, csv_file, transform=None, infer=False, CL =0):\n",
    "        self.data = pd.read_csv(csv_file)\n",
    "        self.transform = transform\n",
    "        self.infer = infer\n",
    "        self.CL = CL\n",
    "\n",
    "    def __len__(self):\n",
    "        return len(self.data)\n",
    "\n",
    "    def __getitem__(self, idx):\n",
    "        directory_path = \"/mnt/nas27/Dataset/Samsung_DM\"\n",
    "        #directory_path = './data/224'\n",
    "        img_path = self.data.iloc[idx, 1]\n",
    "        img_path = os.path.join(directory_path, img_path)\n",
    "        image = cv2.imread(img_path)\n",
    "        image = cv2.cvtColor(image, cv2.COLOR_BGR2RGB)\n",
    "        #image = cv2.cvtColor(image, cv2.COLOR_BGR2GRAY)\n",
    "        \n",
    "        if self.infer:\n",
    "            if self.transform:\n",
    "                image = self.transform(image=image)['image']\n",
    "            return image\n",
    "        \n",
    "        mask_path = self.data.iloc[idx, 2]\n",
    "        mask_path = os.path.join(directory_path, mask_path)\n",
    "        mask = cv2.imread(mask_path)\n",
    "        #mask = cv2.cvtColor(mask, cv2.COLOR_BGR2RGB)\n",
    "        mask = cv2.cvtColor(mask, cv2.COLOR_BGR2GRAY)\n",
    "        if self.CL == 0:\n",
    "            mask = np.round(mask).astype(np.uint8)\n",
    "            mask[mask > 12] = 12 #배경을 픽셀값 12로 간주\n",
    "            mask += 1\n",
    "            mask[mask == 13] = 0\n",
    "\n",
    "        if self.transform:\n",
    "            augmented = self.transform(image=image, mask=mask)\n",
    "            image = augmented['image']\n",
    "            mask = augmented['mask']\n",
    "\n",
    "        return image, mask\n",
    "\n",
    "transform = A.Compose(\n",
    "    [   \n",
    "        A.Resize(224,224),\n",
    "        A.GaussNoise(var_limit=(10.0, 30.0), p=0.1),\n",
    "        A.Normalize(),\n",
    "        \n",
    "        # 변형\n",
    "        A.HorizontalFlip(p=0.5),\n",
    "        # A.RandomRotate90(p=0.5),\n",
    "        # A.HueSaturationValue(p=0.2),\n",
    "        A.ColorJitter(brightness=0.3, contrast=0.3, saturation=0.3),\n",
    "        \n",
    "        ToTensorV2()\n",
    "    ]\n",
    ")"
   ]
  },
  {
   "cell_type": "markdown",
   "metadata": {},
   "source": [
    "## 모델 선언"
   ]
  },
  {
   "cell_type": "code",
   "execution_count": 5,
   "metadata": {},
   "outputs": [],
   "source": [
    "class GradReverse(torch.autograd.Function):\n",
    "    @staticmethod\n",
    "    def forward(self, x):\n",
    "        return x.view_as(x)\n",
    "    @staticmethod\n",
    "    def backward(self, grad_output): # 역전파 시에 gradient에 음수를 취함\n",
    "        return grad_output * (-1)\n",
    "\n",
    "class domain_classifier(nn.Module):\n",
    "    def __init__(self):\n",
    "        super(domain_classifier, self).__init__()\n",
    "        self.fc1 = nn.Linear(224*224*64, 64)\n",
    "        self.dropout = nn.Dropout2d(0.2) #\n",
    "        self.fc2 = nn.Linear(64, 4) # source = 0, target = 1 회귀 가정\n",
    "\n",
    "    def forward(self, x):\n",
    "        x = x.view(-1, 224*224*64)\n",
    "        x = self.dropout(x)\n",
    "        x = GradReverse.apply(x) # gradient reverse\n",
    "        x = F.leaky_relu(self.fc1(x))\n",
    "        x = self.fc2(x)\n",
    "        \n",
    "        #return torch.sigmoid(x)\n",
    "        return x\n",
    "\n",
    "class domain_linear(nn.Module):\n",
    "    def __init__(self):\n",
    "        super(domain_linear, self).__init__()\n",
    "        self.fc1 = nn.Linear(224*224*64, 10)\n",
    "        self.fc2 = nn.Linear(10, 1) # source = 0, target = 1 회귀 가정\n",
    "\n",
    "    def forward(self, x):\n",
    "        x = x.view(-1, 224*224*64)\n",
    "        x = GradReverse.apply(x) # gradient reverse\n",
    "        x = F.leaky_relu(self.fc1(x))\n",
    "        x = self.fc2(x)\n",
    "        \n",
    "        #return torch.sigmoid(x)\n",
    "        return x\n",
    "class IdentityBlock(nn.Module):\n",
    "    def __init__(self, in_channels, out_channels, stride=1):\n",
    "        super(IdentityBlock, self).__init__()\n",
    "        \n",
    "        # 3x3 convolution\n",
    "        self.conv1 = nn.Conv2d(in_channels, in_channels, kernel_size=3, padding=1, stride=stride, bias=False)\n",
    "        self.bn1 = nn.BatchNorm2d(in_channels)\n",
    "        self.relu1 = nn.ReLU()\n",
    "        \n",
    "        # 3x3 convolution\n",
    "        self.conv2 = nn.Conv2d(in_channels, out_channels, kernel_size=3, padding=1, bias=False)\n",
    "        self.bn2 = nn.BatchNorm2d(out_channels)\n",
    "        self.relu2 = nn.ReLU()\n",
    "        \n",
    "        # Skip connection\n",
    "        self.skip = nn.Sequential()\n",
    "        if stride != 1 or in_channels != out_channels:\n",
    "            self.skip = nn.Sequential(\n",
    "                nn.Conv2d(in_channels, out_channels, kernel_size=1, stride=stride, bias=False),\n",
    "                nn.BatchNorm2d(out_channels)\n",
    "            )\n",
    "        \n",
    "    def forward(self, x):\n",
    "        identity = x\n",
    "        \n",
    "        out = self.conv1(x)\n",
    "        out = self.bn1(out)\n",
    "        out = self.relu1(out)\n",
    "        \n",
    "        out = self.conv2(out)\n",
    "        out = self.bn2(out)\n",
    "        \n",
    "        # Adding the skip connection\n",
    "        out += self.skip(identity)\n",
    "        out = self.relu2(out)\n",
    "        \n",
    "        return out\n",
    "#인코더 블럭\n",
    "class Conv2(nn.Module):\n",
    "    def __init__(self,in_channels, out_channels):\n",
    "        super(Conv2,self).__init__() \n",
    "        self.identityblock1 = IdentityBlock(in_channels,in_channels)\n",
    "        self.identityblock2 = IdentityBlock(in_channels,in_channels)\n",
    "        self.identityblock3 = IdentityBlock(in_channels,out_channels)\n",
    "        self.maxpool = nn.MaxPool2d(kernel_size=3, stride=2,padding=1)\n",
    "    def forward(self,x):\n",
    "        x = self.identityblock1(x)\n",
    "        x = self.identityblock2(x)\n",
    "        x = self.identityblock3(x)\n",
    "        p = self.maxpool(x)\n",
    "        \n",
    "        return x , p\n",
    "class Conv3(nn.Module):\n",
    "    def __init__(self,in_channels, out_channels):\n",
    "        super(Conv3,self).__init__()         \n",
    "        self.identityblock1 = IdentityBlock(in_channels,in_channels)\n",
    "        self.identityblock2 = IdentityBlock(in_channels,in_channels)\n",
    "        self.identityblock3 = IdentityBlock(in_channels,in_channels)\n",
    "        self.identityblock4 = IdentityBlock(in_channels,out_channels)\n",
    "        self.maxpool = nn.MaxPool2d(kernel_size=3, stride=2,padding=1)\n",
    "    def forward(self,x):\n",
    "        x = self.identityblock1(x)\n",
    "        x = self.identityblock2(x)\n",
    "        x = self.identityblock3(x)\n",
    "        x = self.identityblock4(x)\n",
    "        p = self.maxpool(x)\n",
    "        \n",
    "        return x , p\n",
    "class Conv4(nn.Module):\n",
    "    def __init__(self,in_channels, out_channels):\n",
    "        super(Conv4,self).__init__()         \n",
    "        self.identityblock1 = IdentityBlock(in_channels,in_channels)\n",
    "        self.identityblock2 = IdentityBlock(in_channels,in_channels)\n",
    "        self.identityblock3 = IdentityBlock(in_channels,in_channels)\n",
    "        self.identityblock4 = IdentityBlock(in_channels,in_channels)\n",
    "        self.identityblock5 = IdentityBlock(in_channels,in_channels)\n",
    "        self.identityblock6 = IdentityBlock(in_channels,out_channels)\n",
    "        self.maxpool = nn.MaxPool2d(kernel_size=3, stride=2,padding=1)\n",
    "    def forward(self,x):\n",
    "        x = self.identityblock1(x)\n",
    "        x = self.identityblock2(x)\n",
    "        x = self.identityblock3(x)\n",
    "        x = self.identityblock4(x)\n",
    "        x = self.identityblock5(x)\n",
    "        x = self.identityblock6(x)\n",
    "        p = self.maxpool(x)\n",
    "        \n",
    "        return x , p\n",
    "class Conv5(nn.Module):\n",
    "    def __init__(self,in_channels, out_channels):\n",
    "        super(Conv5,self).__init__() \n",
    "        self.identityblock1 = IdentityBlock(in_channels,in_channels)\n",
    "        self.identityblock2 = IdentityBlock(in_channels,in_channels)\n",
    "        self.identityblock3 = IdentityBlock(in_channels,out_channels)\n",
    "        self.maxpool = nn.MaxPool2d(kernel_size=3, stride=2,padding=1)\n",
    "        \n",
    "    def forward(self,x):\n",
    "        x = self.identityblock1(x)\n",
    "        x = self.identityblock2(x)\n",
    "        x = self.identityblock3(x)\n",
    "        p = self.maxpool(x)\n",
    "        \n",
    "        return x , p\n",
    "#디코더 블럭\n",
    "class DecoderBlock(nn.Module):\n",
    "    def __init__(self, channels):\n",
    "        super(DecoderBlock, self).__init__()\n",
    "        self.upsample = nn.ConvTranspose2d(channels*2, channels, kernel_size=4, stride=2, padding=1) # output_padding 추가\n",
    "        self.convblock1 = IdentityBlock(channels*2, channels)\n",
    "\n",
    "    def forward(self, x, skip):\n",
    "        x = self.upsample(x)\n",
    "        if x.size(2) != skip.size(2) or x.size(3) != skip.size(3):\n",
    "            x = F.interpolate(x, size=(skip.size(2), skip.size(3)))\n",
    "        x = torch.cat([x, skip], dim=1)\n",
    "        x = self.convblock1(x)\n",
    "        #print(\"x\",x.shape,\"skip: \",skip.shape)\n",
    "        return x\n",
    "\n",
    "#Unet구조 middle의 xm값의 움직임에 주의\n",
    "class Resnet34_Unet(nn.Module):\n",
    "    def __init__(self,n_classes):\n",
    "        super(Resnet34_Unet,self).__init__()\n",
    "        self.fconv1 = nn.Conv2d(3, 64, kernel_size=7, stride=2, padding=3)\n",
    "        self.fbn1 = nn.BatchNorm2d(64)\n",
    "        self.frelu1 = nn.ReLU()\n",
    "        self.fmaxpooling = nn.MaxPool2d(kernel_size=3,stride=2,padding=1)\n",
    "        self.conv2 = Conv2(64,128)\n",
    "        self.conv3 = Conv3(128,256)\n",
    "        self.conv4 = Conv4(256,512)\n",
    "        self.conv5 = Conv5(512,1024)\n",
    "        self.middleconv = IdentityBlock(1024,2048)\n",
    "        #self.dropout = nn.Dropout2d(0.1) #\n",
    "        self.decoder5 = DecoderBlock(1024)\n",
    "        self.decoder4 = DecoderBlock(512)\n",
    "        self.decoder3 = DecoderBlock(256)\n",
    "        self.decoder2 = DecoderBlock(128)\n",
    "        self.decoder1 = DecoderBlock(64)\n",
    "        self.transpose = nn.ConvTranspose2d(64, 64, kernel_size=4, stride=2, padding=1) # output_padding 추가\n",
    "        \n",
    "        self.segmap = nn.Conv2d(64,n_classes, kernel_size=1)\n",
    "        self.domain_classifier = domain_classifier()\n",
    "        self.domain_linear = domain_linear()\n",
    "        \n",
    "    def forward(self,x):\n",
    "        x = self.fconv1(x)#3->64\n",
    "        x0 = self.fbn1(x)\n",
    "        x1 = self.frelu1(x)\n",
    "        p = self.fmaxpooling(x1)#첫 conv: x0([8, 64, 109, 109]) p([8, 64, 54, 54])\n",
    "        #print(\"conv1: \",x1.shape, \"maxpooling: \",p.shape)\n",
    "        x2,p = self.conv2(p)\n",
    "        #print(\"conv2: \",x2.shape, \"maxpooling: \",p.shape)\n",
    "        x3,p = self.conv3(p)\n",
    "        #print(\"conv3: \",x3.shape, \"maxpooling: \",p.shape)\n",
    "        x4,p = self.conv4(p)\n",
    "        #print(\"conv4: \",x4.shape, \"maxpooling: \",p.shape)\n",
    "        x5,p = self.conv5(p)\n",
    "        #print(\"conv5: \",x5.shape, \"maxpooling: \",p.shape)\n",
    "        xm = self.middleconv(p)#xm([8, 4096, 2, 2])\n",
    "        #print(\"xm: \",xm.shape, \"maxpooling: \",p.shape)\n",
    "        #xm = self.dropout(xm)\n",
    "        x = self.decoder5(xm,x5)#뉴런:2048*2->2048 1\n",
    "        x = self.decoder4(x,x4)#뉴런:1024*2->1024 \n",
    "        x = self.decoder3(x,x3) #14\n",
    "        x = self.decoder2(x,x2)#28\n",
    "        x = self.decoder1(x,x1)#55\n",
    "        x = self.transpose(x)\n",
    "        #print(x.shape)\n",
    "        #x = F.interpolate(x, size=(224, 224))\n",
    "        x_c = self.segmap(x)\n",
    "        x_d = self.domain_classifier(x)\n",
    "        \n",
    "        return x_c,x_d"
   ]
  },
  {
   "cell_type": "code",
   "execution_count": 6,
   "metadata": {},
   "outputs": [],
   "source": [
    "# import pickle\n",
    "\n",
    "# # 저장된 class_weights를 불러옵니다.\n",
    "# class_weights_path = 'CLASS_WEIGHTS.pkl'\n",
    "\n",
    "# with open(class_weights_path, 'rb') as file:\n",
    "#     CLASS_WEIGHTS = pickle.load(file)\n",
    "\n",
    "# print(CLASS_WEIGHTS)"
   ]
  },
  {
   "cell_type": "markdown",
   "metadata": {},
   "source": [
    "## Loss Function"
   ]
  },
  {
   "cell_type": "code",
   "execution_count": 7,
   "metadata": {},
   "outputs": [],
   "source": [
    "# loss function과 optimizer 정의\n",
    "class DANN_Loss(nn.Module):\n",
    "    def __init__(self):\n",
    "        super(DANN_Loss, self).__init__()\n",
    "        self.CE = nn.CrossEntropyLoss()\n",
    "\n",
    "    def forward(self, result, label, domain_num, alpha=1):\n",
    "        label_logits, domain_logits = result\n",
    "\n",
    "        batch_size = domain_logits.shape[0]\n",
    "\n",
    "        segment_loss = self.CE(label_logits, label)\n",
    "        \n",
    "        domain_target = torch.LongTensor([domain_num] * batch_size).to(device)\n",
    "        domain_loss = self.CE(domain_logits, domain_target)\n",
    "        \n",
    "        loss = segment_loss + alpha * domain_loss\n",
    "\n",
    "        return loss, segment_loss, domain_loss\n",
    "    \n",
    "    \n",
    "\n",
    "class DANN_Loss_mse(nn.Module):\n",
    "    def __init__(self):\n",
    "        super(DANN_Loss_mse, self).__init__()\n",
    "        self.CE = nn.CrossEntropyLoss()\n",
    "        self.MSE = nn.MSELoss()\n",
    "\n",
    "    def forward(self, result, label, domain_num, alpha = 1):\n",
    "        label_logits, domain_logits = result # DANN_CNN의 결과\n",
    "\n",
    "        batch_size = domain_logits.shape[0]\n",
    "\n",
    "        segment_loss = self.CE(label_logits, label) # class 분류 loss\n",
    "        \n",
    "        domain_target = torch.LongTensor([domain_num] * batch_size).unsqueeze(1).to(device).float()      \n",
    "        domain_loss = self.MSE(domain_logits, domain_target) # domain 분류 loss\n",
    "        domain_loss = torch.sqrt(domain_loss)\n",
    "        loss = segment_loss + alpha * domain_loss\n",
    "        # print(\"segment_mask : \", label.shape)\n",
    "        # print(\"domain_answer : \", domain_target.shape)\n",
    "        return loss ,segment_loss, domain_loss\n",
    "\n",
    "\n",
    "loss_fn = DANN_Loss().to(device)\n",
    "#loss_fn = DANN_Loss_mse().to(device)\n",
    "\n",
    "#criterion =nn.CrossEntropyLoss()\n",
    "#domain_criterion = nn.BCELoss()\n",
    "#criterion = nn.CrossEntropyLoss(weight=class_weights)"
   ]
  },
  {
   "cell_type": "code",
   "execution_count": null,
   "metadata": {},
   "outputs": [],
   "source": []
  },
  {
   "cell_type": "code",
   "execution_count": 8,
   "metadata": {},
   "outputs": [],
   "source": [
    "import os\n",
    "os.environ['CUDA_LAUNCH_BLOCKING'] = '1'"
   ]
  },
  {
   "cell_type": "markdown",
   "metadata": {},
   "source": [
    "## Parameters , Train"
   ]
  },
  {
   "cell_type": "code",
   "execution_count": 9,
   "metadata": {},
   "outputs": [],
   "source": [
    "LR = 0.0001\n",
    "EP = 30\n",
    "BATCH_SIZE = 16\n",
    "ACCMULATION_STEP = 1 \n",
    "N_CLASSES = 13\n",
    "alpha = 0.01\n",
    "N_LABELS = 4\n",
    "# model 초기화\n"
   ]
  },
  {
   "cell_type": "code",
   "execution_count": 10,
   "metadata": {},
   "outputs": [
    {
     "ename": "RuntimeError",
     "evalue": "CUDA out of memory. Tried to allocate 20.00 MiB (GPU 0; 11.90 GiB total capacity; 36.98 MiB already allocated; 18.88 MiB free; 48.00 MiB reserved in total by PyTorch)",
     "output_type": "error",
     "traceback": [
      "\u001b[0;31m---------------------------------------------------------------------------\u001b[0m",
      "\u001b[0;31mRuntimeError\u001b[0m                              Traceback (most recent call last)",
      "\u001b[1;32m/home/MMI24limbyungwan/Design_Project/Design_project/Domain_Generalization_res34unet copy.ipynb 셀 15\u001b[0m line \u001b[0;36m2\n\u001b[1;32m      <a href='vscode-notebook-cell://ssh-remote%2Bhome/home/MMI24limbyungwan/Design_Project/Design_project/Domain_Generalization_res34unet%20copy.ipynb#X20sdnNjb2RlLXJlbW90ZQ%3D%3D?line=0'>1</a>\u001b[0m \u001b[39m#모델 선언\u001b[39;00m\n\u001b[0;32m----> <a href='vscode-notebook-cell://ssh-remote%2Bhome/home/MMI24limbyungwan/Design_Project/Design_project/Domain_Generalization_res34unet%20copy.ipynb#X20sdnNjb2RlLXJlbW90ZQ%3D%3D?line=1'>2</a>\u001b[0m model \u001b[39m=\u001b[39m Resnet34_Unet(n_classes \u001b[39m=\u001b[39;49m N_CLASSES)\u001b[39m.\u001b[39;49mto(device)\n\u001b[1;32m      <a href='vscode-notebook-cell://ssh-remote%2Bhome/home/MMI24limbyungwan/Design_Project/Design_project/Domain_Generalization_res34unet%20copy.ipynb#X20sdnNjb2RlLXJlbW90ZQ%3D%3D?line=2'>3</a>\u001b[0m \u001b[39m#model.load_state_dict(torch.load('./data/resnet34_1118_1.pth'), strict=False)\u001b[39;00m\n\u001b[1;32m      <a href='vscode-notebook-cell://ssh-remote%2Bhome/home/MMI24limbyungwan/Design_Project/Design_project/Domain_Generalization_res34unet%20copy.ipynb#X20sdnNjb2RlLXJlbW90ZQ%3D%3D?line=3'>4</a>\u001b[0m \u001b[39m#옵티마이저 설정\u001b[39;00m\n\u001b[1;32m      <a href='vscode-notebook-cell://ssh-remote%2Bhome/home/MMI24limbyungwan/Design_Project/Design_project/Domain_Generalization_res34unet%20copy.ipynb#X20sdnNjb2RlLXJlbW90ZQ%3D%3D?line=4'>5</a>\u001b[0m optimizer \u001b[39m=\u001b[39m torch\u001b[39m.\u001b[39moptim\u001b[39m.\u001b[39mAdam(model\u001b[39m.\u001b[39mparameters(), lr\u001b[39m=\u001b[39mLR)\n",
      "File \u001b[0;32m~/.conda/envs/byungwan_resn/lib/python3.8/site-packages/torch/nn/modules/module.py:673\u001b[0m, in \u001b[0;36mModule.to\u001b[0;34m(self, *args, **kwargs)\u001b[0m\n\u001b[1;32m    669\u001b[0m         \u001b[39mreturn\u001b[39;00m t\u001b[39m.\u001b[39mto(device, dtype \u001b[39mif\u001b[39;00m t\u001b[39m.\u001b[39mis_floating_point() \u001b[39mor\u001b[39;00m t\u001b[39m.\u001b[39mis_complex() \u001b[39melse\u001b[39;00m \u001b[39mNone\u001b[39;00m,\n\u001b[1;32m    670\u001b[0m                     non_blocking, memory_format\u001b[39m=\u001b[39mconvert_to_format)\n\u001b[1;32m    671\u001b[0m     \u001b[39mreturn\u001b[39;00m t\u001b[39m.\u001b[39mto(device, dtype \u001b[39mif\u001b[39;00m t\u001b[39m.\u001b[39mis_floating_point() \u001b[39mor\u001b[39;00m t\u001b[39m.\u001b[39mis_complex() \u001b[39melse\u001b[39;00m \u001b[39mNone\u001b[39;00m, non_blocking)\n\u001b[0;32m--> 673\u001b[0m \u001b[39mreturn\u001b[39;00m \u001b[39mself\u001b[39;49m\u001b[39m.\u001b[39;49m_apply(convert)\n",
      "File \u001b[0;32m~/.conda/envs/byungwan_resn/lib/python3.8/site-packages/torch/nn/modules/module.py:387\u001b[0m, in \u001b[0;36mModule._apply\u001b[0;34m(self, fn)\u001b[0m\n\u001b[1;32m    385\u001b[0m \u001b[39mdef\u001b[39;00m \u001b[39m_apply\u001b[39m(\u001b[39mself\u001b[39m, fn):\n\u001b[1;32m    386\u001b[0m     \u001b[39mfor\u001b[39;00m module \u001b[39min\u001b[39;00m \u001b[39mself\u001b[39m\u001b[39m.\u001b[39mchildren():\n\u001b[0;32m--> 387\u001b[0m         module\u001b[39m.\u001b[39;49m_apply(fn)\n\u001b[1;32m    389\u001b[0m     \u001b[39mdef\u001b[39;00m \u001b[39mcompute_should_use_set_data\u001b[39m(tensor, tensor_applied):\n\u001b[1;32m    390\u001b[0m         \u001b[39mif\u001b[39;00m torch\u001b[39m.\u001b[39m_has_compatible_shallow_copy_type(tensor, tensor_applied):\n\u001b[1;32m    391\u001b[0m             \u001b[39m# If the new tensor has compatible tensor type as the existing tensor,\u001b[39;00m\n\u001b[1;32m    392\u001b[0m             \u001b[39m# the current behavior is to change the tensor in-place using `.data =`,\u001b[39;00m\n\u001b[0;32m   (...)\u001b[0m\n\u001b[1;32m    397\u001b[0m             \u001b[39m# global flag to let the user control whether they want the future\u001b[39;00m\n\u001b[1;32m    398\u001b[0m             \u001b[39m# behavior of overwriting the existing tensor or not.\u001b[39;00m\n",
      "File \u001b[0;32m~/.conda/envs/byungwan_resn/lib/python3.8/site-packages/torch/nn/modules/module.py:387\u001b[0m, in \u001b[0;36mModule._apply\u001b[0;34m(self, fn)\u001b[0m\n\u001b[1;32m    385\u001b[0m \u001b[39mdef\u001b[39;00m \u001b[39m_apply\u001b[39m(\u001b[39mself\u001b[39m, fn):\n\u001b[1;32m    386\u001b[0m     \u001b[39mfor\u001b[39;00m module \u001b[39min\u001b[39;00m \u001b[39mself\u001b[39m\u001b[39m.\u001b[39mchildren():\n\u001b[0;32m--> 387\u001b[0m         module\u001b[39m.\u001b[39;49m_apply(fn)\n\u001b[1;32m    389\u001b[0m     \u001b[39mdef\u001b[39;00m \u001b[39mcompute_should_use_set_data\u001b[39m(tensor, tensor_applied):\n\u001b[1;32m    390\u001b[0m         \u001b[39mif\u001b[39;00m torch\u001b[39m.\u001b[39m_has_compatible_shallow_copy_type(tensor, tensor_applied):\n\u001b[1;32m    391\u001b[0m             \u001b[39m# If the new tensor has compatible tensor type as the existing tensor,\u001b[39;00m\n\u001b[1;32m    392\u001b[0m             \u001b[39m# the current behavior is to change the tensor in-place using `.data =`,\u001b[39;00m\n\u001b[0;32m   (...)\u001b[0m\n\u001b[1;32m    397\u001b[0m             \u001b[39m# global flag to let the user control whether they want the future\u001b[39;00m\n\u001b[1;32m    398\u001b[0m             \u001b[39m# behavior of overwriting the existing tensor or not.\u001b[39;00m\n",
      "File \u001b[0;32m~/.conda/envs/byungwan_resn/lib/python3.8/site-packages/torch/nn/modules/module.py:387\u001b[0m, in \u001b[0;36mModule._apply\u001b[0;34m(self, fn)\u001b[0m\n\u001b[1;32m    385\u001b[0m \u001b[39mdef\u001b[39;00m \u001b[39m_apply\u001b[39m(\u001b[39mself\u001b[39m, fn):\n\u001b[1;32m    386\u001b[0m     \u001b[39mfor\u001b[39;00m module \u001b[39min\u001b[39;00m \u001b[39mself\u001b[39m\u001b[39m.\u001b[39mchildren():\n\u001b[0;32m--> 387\u001b[0m         module\u001b[39m.\u001b[39;49m_apply(fn)\n\u001b[1;32m    389\u001b[0m     \u001b[39mdef\u001b[39;00m \u001b[39mcompute_should_use_set_data\u001b[39m(tensor, tensor_applied):\n\u001b[1;32m    390\u001b[0m         \u001b[39mif\u001b[39;00m torch\u001b[39m.\u001b[39m_has_compatible_shallow_copy_type(tensor, tensor_applied):\n\u001b[1;32m    391\u001b[0m             \u001b[39m# If the new tensor has compatible tensor type as the existing tensor,\u001b[39;00m\n\u001b[1;32m    392\u001b[0m             \u001b[39m# the current behavior is to change the tensor in-place using `.data =`,\u001b[39;00m\n\u001b[0;32m   (...)\u001b[0m\n\u001b[1;32m    397\u001b[0m             \u001b[39m# global flag to let the user control whether they want the future\u001b[39;00m\n\u001b[1;32m    398\u001b[0m             \u001b[39m# behavior of overwriting the existing tensor or not.\u001b[39;00m\n",
      "File \u001b[0;32m~/.conda/envs/byungwan_resn/lib/python3.8/site-packages/torch/nn/modules/module.py:409\u001b[0m, in \u001b[0;36mModule._apply\u001b[0;34m(self, fn)\u001b[0m\n\u001b[1;32m    404\u001b[0m \u001b[39mif\u001b[39;00m param \u001b[39mis\u001b[39;00m \u001b[39mnot\u001b[39;00m \u001b[39mNone\u001b[39;00m:\n\u001b[1;32m    405\u001b[0m     \u001b[39m# Tensors stored in modules are graph leaves, and we don't want to\u001b[39;00m\n\u001b[1;32m    406\u001b[0m     \u001b[39m# track autograd history of `param_applied`, so we have to use\u001b[39;00m\n\u001b[1;32m    407\u001b[0m     \u001b[39m# `with torch.no_grad():`\u001b[39;00m\n\u001b[1;32m    408\u001b[0m     \u001b[39mwith\u001b[39;00m torch\u001b[39m.\u001b[39mno_grad():\n\u001b[0;32m--> 409\u001b[0m         param_applied \u001b[39m=\u001b[39m fn(param)\n\u001b[1;32m    410\u001b[0m     should_use_set_data \u001b[39m=\u001b[39m compute_should_use_set_data(param, param_applied)\n\u001b[1;32m    411\u001b[0m     \u001b[39mif\u001b[39;00m should_use_set_data:\n",
      "File \u001b[0;32m~/.conda/envs/byungwan_resn/lib/python3.8/site-packages/torch/nn/modules/module.py:671\u001b[0m, in \u001b[0;36mModule.to.<locals>.convert\u001b[0;34m(t)\u001b[0m\n\u001b[1;32m    668\u001b[0m \u001b[39mif\u001b[39;00m convert_to_format \u001b[39mis\u001b[39;00m \u001b[39mnot\u001b[39;00m \u001b[39mNone\u001b[39;00m \u001b[39mand\u001b[39;00m t\u001b[39m.\u001b[39mdim() \u001b[39m==\u001b[39m \u001b[39m4\u001b[39m:\n\u001b[1;32m    669\u001b[0m     \u001b[39mreturn\u001b[39;00m t\u001b[39m.\u001b[39mto(device, dtype \u001b[39mif\u001b[39;00m t\u001b[39m.\u001b[39mis_floating_point() \u001b[39mor\u001b[39;00m t\u001b[39m.\u001b[39mis_complex() \u001b[39melse\u001b[39;00m \u001b[39mNone\u001b[39;00m,\n\u001b[1;32m    670\u001b[0m                 non_blocking, memory_format\u001b[39m=\u001b[39mconvert_to_format)\n\u001b[0;32m--> 671\u001b[0m \u001b[39mreturn\u001b[39;00m t\u001b[39m.\u001b[39;49mto(device, dtype \u001b[39mif\u001b[39;49;00m t\u001b[39m.\u001b[39;49mis_floating_point() \u001b[39mor\u001b[39;49;00m t\u001b[39m.\u001b[39;49mis_complex() \u001b[39melse\u001b[39;49;00m \u001b[39mNone\u001b[39;49;00m, non_blocking)\n",
      "\u001b[0;31mRuntimeError\u001b[0m: CUDA out of memory. Tried to allocate 20.00 MiB (GPU 0; 11.90 GiB total capacity; 36.98 MiB already allocated; 18.88 MiB free; 48.00 MiB reserved in total by PyTorch)"
     ]
    }
   ],
   "source": [
    "#모델 선언\n",
    "model = Resnet34_Unet(n_classes = N_CLASSES).to(device)\n",
    "#model.load_state_dict(torch.load('./data/resnet34_1118_1.pth'), strict=False)\n",
    "#옵티마이저 설정\n",
    "optimizer = torch.optim.Adam(model.parameters(), lr=LR)\n",
    "optimizer.zero_grad() \n",
    "#데이터 로더\n",
    "source_dataset = CustomDataset(csv_file='/mnt/nas27/Dataset/Samsung_DM/train_source.csv', transform=transform)\n",
    "source_dataloader = DataLoader(source_dataset, batch_size=BATCH_SIZE, shuffle=True)\n",
    "val_target_dataset = CustomDataset(csv_file=\"/mnt/nas27/Dataset/Samsung_DM/fish_val_source.csv\", transform=transform)\n",
    "val_target_dataloader = DataLoader(val_target_dataset, batch_size=BATCH_SIZE, shuffle=False)\n",
    "\n",
    "# 모델의 파라미터 수 계산\n",
    "total_params = sum(p.numel() for p in model.parameters())\n",
    "print(f\"총 파라미터 수: {total_params}\")"
   ]
  },
  {
   "cell_type": "markdown",
   "metadata": {},
   "source": [
    "miou test"
   ]
  },
  {
   "cell_type": "code",
   "execution_count": null,
   "metadata": {},
   "outputs": [
    {
     "name": "stderr",
     "output_type": "stream",
     "text": [
      "Epoch: 1: 100%|██████████| 138/138 [13:36<00:00,  5.92s/it]\n"
     ]
    },
    {
     "name": "stdout",
     "output_type": "stream",
     "text": [
      "\n",
      "Label_0: IoU Scores Train\n",
      "Class00: 0.4833 Class01: 0.5820 Class02: 0.0020 Class03: 0.4646 Class04: 0.0623 Class05: 0.0001 Class06: 0.0005 \n",
      "Class07: 0.1024 Class08: 0.6088 Class09: 0.8431 Class10: 0.0000 Class11: 0.0000 Class12: 0.2766 \n",
      "Label_1: IoU Scores Train\n",
      "Class00: 0.9239 Class01: 0.6797 Class02: 0.0009 Class03: 0.5158 Class04: 0.0413 Class05: 0.0000 Class06: 0.0000 \n",
      "Class07: 0.0655 Class08: 0.6165 Class09: 0.8605 Class10: 0.0000 Class11: 0.0000 Class12: 0.3638 \n",
      "Label_2: IoU Scores Train\n",
      "Class00: 0.9518 Class01: 0.6989 Class02: 0.0009 Class03: 0.5142 Class04: 0.0436 Class05: 0.0000 Class06: 0.0000 \n",
      "Class07: 0.0651 Class08: 0.6096 Class09: 0.8562 Class10: 0.0000 Class11: 0.0000 Class12: 0.3768 \n",
      "Label_3: IoU Scores Train\n",
      "Class00: 0.9490 Class01: 0.6872 Class02: 0.0009 Class03: 0.5033 Class04: 0.0440 Class05: 0.0000 Class06: 0.0000 \n",
      "Class07: 0.0670 Class08: 0.5994 Class09: 0.8462 Class10: 0.0000 Class11: 0.0000 Class12: 0.3798 \n",
      "Train seg Loss: 0.6726625693988972 Train dom Loss: 133.6342746789553\n",
      "Train Loss: 2.009005283801884\n",
      "Train mIoU: 0.3016770831082756\n"
     ]
    },
    {
     "name": "stderr",
     "output_type": "stream",
     "text": [
      "  0%|          | 0/30 [00:00<?, ?it/s]/tmp/ipykernel_1884559/2122178866.py:14: DeprecationWarning: an integer is required (got type float).  Implicit conversion to integers using __int__ is deprecated, and may be removed in a future version of Python.\n",
      "  domain_target = torch.LongTensor([domain_num] * batch_size).to(device)\n",
      "100%|██████████| 30/30 [00:09<00:00,  3.19it/s]\n"
     ]
    },
    {
     "name": "stdout",
     "output_type": "stream",
     "text": [
      "\n",
      "--IoU Scores Fish val--\n",
      "Class0: 0.0000 Class1: 0.0558 Class2: 0.0000 Class3: 0.0484 Class4: 0.0054 Class5: 0.0001 Class6: 0.0000 \n",
      "Class7: 0.0498 Class8: 0.4871 Class9: 0.7290 Class10: 0.0000 Class11: 0.0000 Class12: 0.2191 \n",
      "Epoch1\n",
      "Valid_Seg Loss: 5.234650611877441 Valid_dom Loss: 0.0\n",
      "Valid Loss: 5.234650611877441\n",
      "Valid mIoU: 0.12266909512597278\n",
      "___________________________________________________________________________________________\n",
      "\n"
     ]
    },
    {
     "name": "stderr",
     "output_type": "stream",
     "text": [
      "Epoch: 2: 100%|██████████| 138/138 [13:23<00:00,  5.82s/it]\n"
     ]
    },
    {
     "name": "stdout",
     "output_type": "stream",
     "text": [
      "\n",
      "Label_0: IoU Scores Train\n",
      "Class00: 0.5453 Class01: 0.5931 Class02: 0.0014 Class03: 0.4621 Class04: 0.0655 Class05: 0.0002 Class06: 0.0012 \n",
      "Class07: 0.1087 Class08: 0.6071 Class09: 0.8682 Class10: 0.0000 Class11: 0.0000 Class12: 0.2737 \n",
      "Label_1: IoU Scores Train\n",
      "Class00: 0.9248 Class01: 0.6640 Class02: 0.0013 Class03: 0.5051 Class04: 0.0559 Class05: 0.0000 Class06: 0.0004 \n",
      "Class07: 0.0694 Class08: 0.6060 Class09: 0.8476 Class10: 0.0000 Class11: 0.0000 Class12: 0.3366 \n",
      "Label_2: IoU Scores Train\n",
      "Class00: 0.9492 Class01: 0.6750 Class02: 0.0018 Class03: 0.5073 Class04: 0.0585 Class05: 0.0000 Class06: 0.0003 \n",
      "Class07: 0.0660 Class08: 0.5986 Class09: 0.8446 Class10: 0.0000 Class11: 0.0000 Class12: 0.3532 \n",
      "Label_3: IoU Scores Train\n",
      "Class00: 0.9500 Class01: 0.6708 Class02: 0.0022 Class03: 0.5004 Class04: 0.0597 Class05: 0.0000 Class06: 0.0003 \n",
      "Class07: 0.0658 Class08: 0.5898 Class09: 0.8389 Class10: 0.0000 Class11: 0.0000 Class12: 0.3597 \n",
      "Train seg Loss: 0.6629420644671157 Train dom Loss: 94.1799951575697\n",
      "Train Loss: 1.6047419922939246\n",
      "Train mIoU: 0.30057052802660394\n"
     ]
    },
    {
     "name": "stderr",
     "output_type": "stream",
     "text": [
      "100%|██████████| 30/30 [00:09<00:00,  3.18it/s]\n"
     ]
    },
    {
     "name": "stdout",
     "output_type": "stream",
     "text": [
      "\n",
      "--IoU Scores Fish val--\n",
      "Class0: 0.0003 Class1: 0.0866 Class2: 0.0000 Class3: 0.0468 Class4: 0.0000 Class5: 0.0000 Class6: 0.0000 \n",
      "Class7: 0.0202 Class8: 0.4849 Class9: 0.8034 Class10: 0.0000 Class11: 0.0000 Class12: 0.2778 \n",
      "Epoch2\n",
      "Valid_Seg Loss: 4.302002159754435 Valid_dom Loss: 11.166947778066\n",
      "Valid Loss: 4.413671652475993\n",
      "Valid mIoU: 0.13231840161165304\n",
      "___________________________________________________________________________________________\n",
      "\n"
     ]
    },
    {
     "name": "stderr",
     "output_type": "stream",
     "text": [
      "Epoch: 3: 100%|██████████| 138/138 [13:24<00:00,  5.83s/it]\n"
     ]
    },
    {
     "name": "stdout",
     "output_type": "stream",
     "text": [
      "\n",
      "Label_0: IoU Scores Train\n",
      "Class00: 0.5650 Class01: 0.6078 Class02: 0.0009 Class03: 0.4981 Class04: 0.0768 Class05: 0.0000 Class06: 0.0022 \n",
      "Class07: 0.1138 Class08: 0.6146 Class09: 0.8647 Class10: 0.0000 Class11: 0.0000 Class12: 0.3296 \n",
      "Label_1: IoU Scores Train\n",
      "Class00: 0.9403 Class01: 0.6980 Class02: 0.0003 Class03: 0.5394 Class04: 0.0682 Class05: 0.0000 Class06: 0.0003 \n",
      "Class07: 0.0841 Class08: 0.6118 Class09: 0.8714 Class10: 0.0000 Class11: 0.0000 Class12: 0.4074 \n",
      "Label_2: IoU Scores Train\n",
      "Class00: 0.9636 Class01: 0.7143 Class02: 0.0002 Class03: 0.5398 Class04: 0.0561 Class05: 0.0000 Class06: 0.0003 \n",
      "Class07: 0.0849 Class08: 0.6065 Class09: 0.8680 Class10: 0.0000 Class11: 0.0000 Class12: 0.4211 \n",
      "Label_3: IoU Scores Train\n",
      "Class00: 0.9626 Class01: 0.7037 Class02: 0.0001 Class03: 0.5340 Class04: 0.0503 Class05: 0.0000 Class06: 0.0002 \n",
      "Class07: 0.0854 Class08: 0.6002 Class09: 0.8621 Class10: 0.0000 Class11: 0.0000 Class12: 0.4262 \n",
      "Train seg Loss: 0.6096154501040777 Train dom Loss: 96.20572863169329\n",
      "Train Loss: 1.5716727127091608\n",
      "Train mIoU: 0.3148944824178292\n"
     ]
    },
    {
     "name": "stderr",
     "output_type": "stream",
     "text": [
      "100%|██████████| 30/30 [00:09<00:00,  3.07it/s]\n"
     ]
    },
    {
     "name": "stdout",
     "output_type": "stream",
     "text": [
      "\n",
      "--IoU Scores Fish val--\n",
      "Class0: 0.0244 Class1: 0.0296 Class2: 0.0094 Class3: 0.1058 Class4: 0.0025 Class5: 0.0000 Class6: 0.0000 \n",
      "Class7: 0.0658 Class8: 0.5765 Class9: 0.7368 Class10: 0.0000 Class11: 0.0000 Class12: 0.1806 \n",
      "Epoch3\n",
      "Valid_Seg Loss: 3.7491342624028525 Valid_dom Loss: 223.03187408447266\n",
      "Valid Loss: 5.979452959696451\n",
      "Valid mIoU: 0.13319354158477698\n",
      "___________________________________________________________________________________________\n",
      "\n"
     ]
    },
    {
     "name": "stderr",
     "output_type": "stream",
     "text": [
      "Epoch: 4: 100%|██████████| 138/138 [12:56<00:00,  5.62s/it]\n"
     ]
    },
    {
     "name": "stdout",
     "output_type": "stream",
     "text": [
      "\n",
      "Label_0: IoU Scores Train\n",
      "Class00: 0.6279 Class01: 0.6342 Class02: 0.0050 Class03: 0.5367 Class04: 0.1622 Class05: 0.0000 Class06: 0.0099 \n",
      "Class07: 0.1414 Class08: 0.6363 Class09: 0.8782 Class10: 0.0001 Class11: 0.0000 Class12: 0.3611 \n",
      "Label_1: IoU Scores Train\n",
      "Class00: 0.9359 Class01: 0.6903 Class02: 0.0030 Class03: 0.5453 Class04: 0.1283 Class05: 0.0000 Class06: 0.0028 \n",
      "Class07: 0.0998 Class08: 0.6204 Class09: 0.8715 Class10: 0.0000 Class11: 0.0000 Class12: 0.4176 \n",
      "Label_2: IoU Scores Train\n",
      "Class00: 0.9624 Class01: 0.7111 Class02: 0.0025 Class03: 0.5453 Class04: 0.1303 Class05: 0.0000 Class06: 0.0024 \n",
      "Class07: 0.1024 Class08: 0.6140 Class09: 0.8720 Class10: 0.0000 Class11: 0.0000 Class12: 0.4319 \n",
      "Label_3: IoU Scores Train\n",
      "Class00: 0.9633 Class01: 0.7019 Class02: 0.0019 Class03: 0.5406 Class04: 0.1325 Class05: 0.0000 Class06: 0.0023 \n",
      "Class07: 0.1026 Class08: 0.6072 Class09: 0.8656 Class10: 0.0000 Class11: 0.0000 Class12: 0.4343 \n",
      "Train seg Loss: 0.576434571619915 Train dom Loss: 66.89735753479242\n",
      "Train Loss: 1.2454081325643305\n",
      "Train mIoU: 0.327584433655453\n"
     ]
    },
    {
     "name": "stderr",
     "output_type": "stream",
     "text": [
      "100%|██████████| 30/30 [00:09<00:00,  3.14it/s]\n"
     ]
    },
    {
     "name": "stdout",
     "output_type": "stream",
     "text": [
      "\n",
      "--IoU Scores Fish val--\n",
      "Class0: 0.0751 Class1: 0.0440 Class2: 0.0000 Class3: 0.0509 Class4: 0.0008 Class5: 0.0000 Class6: 0.0000 \n",
      "Class7: 0.0614 Class8: 0.3855 Class9: 0.8253 Class10: 0.0000 Class11: 0.0000 Class12: 0.2477 \n",
      "Epoch4\n",
      "Valid_Seg Loss: 3.4685133775075276 Valid_dom Loss: 135.3611267089844\n",
      "Valid Loss: 4.822124592463175\n",
      "Valid mIoU: 0.13004908457575998\n",
      "___________________________________________________________________________________________\n",
      "\n"
     ]
    },
    {
     "name": "stderr",
     "output_type": "stream",
     "text": [
      "Epoch: 5: 100%|██████████| 138/138 [13:23<00:00,  5.83s/it]\n"
     ]
    },
    {
     "name": "stdout",
     "output_type": "stream",
     "text": [
      "\n",
      "Label_0: IoU Scores Train\n",
      "Class00: 0.7038 Class01: 0.6555 Class02: 0.0029 Class03: 0.5286 Class04: 0.1689 Class05: 0.0000 Class06: 0.0015 \n",
      "Class07: 0.1558 Class08: 0.6457 Class09: 0.9022 Class10: 0.0003 Class11: 0.0001 Class12: 0.3782 \n",
      "Label_1: IoU Scores Train\n",
      "Class00: 0.9423 Class01: 0.7068 Class02: 0.0020 Class03: 0.5446 Class04: 0.1509 Class05: 0.0000 Class06: 0.0006 \n",
      "Class07: 0.0946 Class08: 0.6370 Class09: 0.8928 Class10: 0.0001 Class11: 0.0000 Class12: 0.4346 \n",
      "Label_2: IoU Scores Train\n",
      "Class00: 0.9661 Class01: 0.7178 Class02: 0.0023 Class03: 0.5476 Class04: 0.1512 Class05: 0.0000 Class06: 0.0006 \n",
      "Class07: 0.0959 Class08: 0.6332 Class09: 0.8892 Class10: 0.0001 Class11: 0.0001 Class12: 0.4455 \n",
      "Label_3: IoU Scores Train\n",
      "Class00: 0.9710 Class01: 0.7168 Class02: 0.0029 Class03: 0.5461 Class04: 0.1462 Class05: 0.0001 Class06: 0.0008 \n",
      "Class07: 0.0977 Class08: 0.6277 Class09: 0.8798 Class10: 0.0003 Class11: 0.0001 Class12: 0.4484 \n",
      "Train seg Loss: 0.5449181816716125 Train dom Loss: 31.641877424160857\n",
      "Train Loss: 0.8613369499967582\n",
      "Train mIoU: 0.3353360670749881\n"
     ]
    },
    {
     "name": "stderr",
     "output_type": "stream",
     "text": [
      "100%|██████████| 30/30 [00:09<00:00,  3.12it/s]\n"
     ]
    },
    {
     "name": "stdout",
     "output_type": "stream",
     "text": [
      "\n",
      "--IoU Scores Fish val--\n",
      "Class0: 0.2339 Class1: 0.0406 Class2: 0.0089 Class3: 0.0516 Class4: 0.0041 Class5: 0.0000 Class6: 0.0011 \n",
      "Class7: 0.0792 Class8: 0.5160 Class9: 0.8292 Class10: 0.0001 Class11: 0.0003 Class12: 0.3600 \n",
      "Epoch5\n",
      "Valid_Seg Loss: 4.3996750990549724 Valid_dom Loss: 6.418579705556234\n",
      "Valid Loss: 4.463860909144084\n",
      "Valid mIoU: 0.1634455545063787\n",
      "___________________________________________________________________________________________\n",
      "\n"
     ]
    },
    {
     "name": "stderr",
     "output_type": "stream",
     "text": [
      "Epoch: 6: 100%|██████████| 138/138 [13:16<00:00,  5.78s/it]\n"
     ]
    },
    {
     "name": "stdout",
     "output_type": "stream",
     "text": [
      "\n",
      "Label_0: IoU Scores Train\n",
      "Class00: 0.6803 Class01: 0.6615 Class02: 0.0041 Class03: 0.5495 Class04: 0.1684 Class05: 0.0000 Class06: 0.0134 \n",
      "Class07: 0.1852 Class08: 0.6492 Class09: 0.8990 Class10: 0.0001 Class11: 0.0000 Class12: 0.4033 \n",
      "Label_1: IoU Scores Train\n",
      "Class00: 0.9337 Class01: 0.7177 Class02: 0.0055 Class03: 0.5547 Class04: 0.1692 Class05: 0.0000 Class06: 0.0100 \n",
      "Class07: 0.1108 Class08: 0.6382 Class09: 0.8841 Class10: 0.0001 Class11: 0.0000 Class12: 0.4618 \n",
      "Label_2: IoU Scores Train\n",
      "Class00: 0.9639 Class01: 0.7318 Class02: 0.0064 Class03: 0.5588 Class04: 0.1659 Class05: 0.0000 Class06: 0.0093 \n",
      "Class07: 0.1119 Class08: 0.6352 Class09: 0.8891 Class10: 0.0001 Class11: 0.0000 Class12: 0.4719 \n",
      "Label_3: IoU Scores Train\n",
      "Class00: 0.9676 Class01: 0.7307 Class02: 0.0061 Class03: 0.5551 Class04: 0.1580 Class05: 0.0000 Class06: 0.0095 \n",
      "Class07: 0.1131 Class08: 0.6289 Class09: 0.8792 Class10: 0.0001 Class11: 0.0001 Class12: 0.4719 \n",
      "Train seg Loss: 0.5418160828775254 Train dom Loss: 74.81576865862893\n",
      "Train Loss: 1.2899737526001274\n",
      "Train mIoU: 0.3416276788239498\n"
     ]
    },
    {
     "name": "stderr",
     "output_type": "stream",
     "text": [
      "100%|██████████| 30/30 [00:09<00:00,  3.19it/s]\n"
     ]
    },
    {
     "name": "stdout",
     "output_type": "stream",
     "text": [
      "\n",
      "--IoU Scores Fish val--\n",
      "Class0: 0.0352 Class1: 0.0536 Class2: 0.0009 Class3: 0.0926 Class4: 0.0217 Class5: 0.0000 Class6: 0.0000 \n",
      "Class7: 0.0784 Class8: 0.5337 Class9: 0.8417 Class10: 0.0001 Class11: 0.0002 Class12: 0.4237 \n",
      "Epoch6\n",
      "Valid_Seg Loss: 3.563491694132487 Valid_dom Loss: 105.2455073038737\n",
      "Valid Loss: 4.615946706136068\n",
      "Valid mIoU: 0.16014963932501802\n",
      "___________________________________________________________________________________________\n",
      "\n"
     ]
    },
    {
     "name": "stderr",
     "output_type": "stream",
     "text": [
      "Epoch: 7: 100%|██████████| 138/138 [13:10<00:00,  5.73s/it]\n"
     ]
    },
    {
     "name": "stdout",
     "output_type": "stream",
     "text": [
      "\n",
      "Label_0: IoU Scores Train\n",
      "Class00: 0.6435 Class01: 0.6398 Class02: 0.0045 Class03: 0.5328 Class04: 0.0928 Class05: 0.0000 Class06: 0.0046 \n",
      "Class07: 0.1651 Class08: 0.6356 Class09: 0.8821 Class10: 0.0005 Class11: 0.0003 Class12: 0.3576 \n",
      "Label_1: IoU Scores Train\n",
      "Class00: 0.9297 Class01: 0.6918 Class02: 0.0038 Class03: 0.5360 Class04: 0.0760 Class05: 0.0000 Class06: 0.0043 \n",
      "Class07: 0.1042 Class08: 0.6283 Class09: 0.8820 Class10: 0.0001 Class11: 0.0000 Class12: 0.4203 \n",
      "Label_2: IoU Scores Train\n",
      "Class00: 0.9584 Class01: 0.6994 Class02: 0.0045 Class03: 0.5401 Class04: 0.0776 Class05: 0.0000 Class06: 0.0062 \n",
      "Class07: 0.1032 Class08: 0.6274 Class09: 0.8859 Class10: 0.0003 Class11: 0.0001 Class12: 0.4268 \n",
      "Label_3: IoU Scores Train\n",
      "Class00: 0.9625 Class01: 0.6964 Class02: 0.0055 Class03: 0.5365 Class04: 0.0760 Class05: 0.0000 Class06: 0.0071 \n",
      "Class07: 0.1044 Class08: 0.6228 Class09: 0.8785 Class10: 0.0005 Class11: 0.0003 Class12: 0.4249 \n",
      "Train seg Loss: 0.5742219549914201 Train dom Loss: 91.95311527568894\n",
      "Train Loss: 1.493753088125284\n",
      "Train mIoU: 0.3246302174722188\n"
     ]
    },
    {
     "name": "stderr",
     "output_type": "stream",
     "text": [
      "100%|██████████| 30/30 [00:09<00:00,  3.25it/s]\n"
     ]
    },
    {
     "name": "stdout",
     "output_type": "stream",
     "text": [
      "\n",
      "--IoU Scores Fish val--\n",
      "Class0: 0.2083 Class1: 0.0421 Class2: 0.0242 Class3: 0.0318 Class4: 0.0006 Class5: 0.0001 Class6: 0.0000 \n",
      "Class7: 0.0862 Class8: 0.5327 Class9: 0.7935 Class10: 0.0000 Class11: 0.0000 Class12: 0.3151 \n",
      "Epoch7\n",
      "Valid_Seg Loss: 4.41143004099528 Valid_dom Loss: 61.82434552510579\n",
      "Valid Loss: 5.029673480987549\n",
      "Valid mIoU: 0.15651217481787313\n",
      "___________________________________________________________________________________________\n",
      "\n"
     ]
    },
    {
     "name": "stderr",
     "output_type": "stream",
     "text": [
      "Epoch: 8: 100%|██████████| 138/138 [13:09<00:00,  5.72s/it]\n"
     ]
    },
    {
     "name": "stdout",
     "output_type": "stream",
     "text": [
      "\n",
      "Label_0: IoU Scores Train\n",
      "Class00: 0.6883 Class01: 0.6461 Class02: 0.0015 Class03: 0.5208 Class04: 0.0714 Class05: 0.0001 Class06: 0.0071 \n",
      "Class07: 0.1996 Class08: 0.6426 Class09: 0.8901 Class10: 0.0000 Class11: 0.0000 Class12: 0.3508 \n",
      "Label_1: IoU Scores Train\n",
      "Class00: 0.9347 Class01: 0.6982 Class02: 0.0014 Class03: 0.5205 Class04: 0.0671 Class05: 0.0001 Class06: 0.0050 \n",
      "Class07: 0.1240 Class08: 0.6327 Class09: 0.8797 Class10: 0.0000 Class11: 0.0000 Class12: 0.4026 \n",
      "Label_2: IoU Scores Train\n",
      "Class00: 0.9619 Class01: 0.7122 Class02: 0.0015 Class03: 0.5250 Class04: 0.0681 Class05: 0.0001 Class06: 0.0052 \n",
      "Class07: 0.1206 Class08: 0.6294 Class09: 0.8791 Class10: 0.0000 Class11: 0.0000 Class12: 0.4116 \n",
      "Label_3: IoU Scores Train\n",
      "Class00: 0.9655 Class01: 0.7119 Class02: 0.0018 Class03: 0.5224 Class04: 0.0674 Class05: 0.0001 Class06: 0.0055 \n",
      "Class07: 0.1195 Class08: 0.6232 Class09: 0.8689 Class10: 0.0000 Class11: 0.0000 Class12: 0.4100 \n",
      "Train seg Loss: 0.5708472903116025 Train dom Loss: 66.52199254282776\n",
      "Train Loss: 1.2360672002685242\n",
      "Train mIoU: 0.3249138951064164\n"
     ]
    },
    {
     "name": "stderr",
     "output_type": "stream",
     "text": [
      "100%|██████████| 30/30 [00:09<00:00,  3.12it/s]\n"
     ]
    },
    {
     "name": "stdout",
     "output_type": "stream",
     "text": [
      "\n",
      "--IoU Scores Fish val--\n",
      "Class0: 0.3383 Class1: 0.0429 Class2: 0.0009 Class3: 0.0381 Class4: 0.0048 Class5: 0.0000 Class6: 0.0000 \n",
      "Class7: 0.0901 Class8: 0.5467 Class9: 0.7852 Class10: 0.0000 Class11: 0.0000 Class12: 0.3470 \n",
      "Epoch8\n",
      "Valid_Seg Loss: 6.087150271733602 Valid_dom Loss: 277.3551849365234\n",
      "Valid Loss: 8.86070203781128\n",
      "Valid mIoU: 0.16877321528237033\n",
      "___________________________________________________________________________________________\n",
      "\n"
     ]
    },
    {
     "name": "stderr",
     "output_type": "stream",
     "text": [
      "Epoch: 9: 100%|██████████| 138/138 [13:01<00:00,  5.66s/it]\n"
     ]
    },
    {
     "name": "stdout",
     "output_type": "stream",
     "text": [
      "\n",
      "Label_0: IoU Scores Train\n",
      "Class00: 0.7158 Class01: 0.6579 Class02: 0.0011 Class03: 0.5601 Class04: 0.1224 Class05: 0.0000 Class06: 0.0028 \n",
      "Class07: 0.1878 Class08: 0.6565 Class09: 0.8914 Class10: 0.0000 Class11: 0.0000 Class12: 0.3805 \n",
      "Label_1: IoU Scores Train\n",
      "Class00: 0.9418 Class01: 0.6982 Class02: 0.0012 Class03: 0.5556 Class04: 0.0923 Class05: 0.0000 Class06: 0.0027 \n",
      "Class07: 0.1128 Class08: 0.6469 Class09: 0.8860 Class10: 0.0000 Class11: 0.0000 Class12: 0.4261 \n",
      "Label_2: IoU Scores Train\n",
      "Class00: 0.9656 Class01: 0.7090 Class02: 0.0014 Class03: 0.5562 Class04: 0.0856 Class05: 0.0000 Class06: 0.0026 \n",
      "Class07: 0.1121 Class08: 0.6448 Class09: 0.8822 Class10: 0.0000 Class11: 0.0000 Class12: 0.4279 \n",
      "Label_3: IoU Scores Train\n",
      "Class00: 0.9694 Class01: 0.7087 Class02: 0.0013 Class03: 0.5532 Class04: 0.0811 Class05: 0.0000 Class06: 0.0032 \n",
      "Class07: 0.1114 Class08: 0.6400 Class09: 0.8734 Class10: 0.0000 Class11: 0.0000 Class12: 0.4272 \n",
      "Train seg Loss: 0.5420257780646932 Train dom Loss: 108.42930302980845\n",
      "Train Loss: 1.6263187849435254\n",
      "Train mIoU: 0.3326151891755258\n"
     ]
    },
    {
     "name": "stderr",
     "output_type": "stream",
     "text": [
      "100%|██████████| 30/30 [00:09<00:00,  3.16it/s]\n"
     ]
    },
    {
     "name": "stdout",
     "output_type": "stream",
     "text": [
      "\n",
      "--IoU Scores Fish val--\n",
      "Class0: 0.0255 Class1: 0.0708 Class2: 0.0000 Class3: 0.1677 Class4: 0.0012 Class5: 0.0000 Class6: 0.0000 \n",
      "Class7: 0.0965 Class8: 0.5326 Class9: 0.8335 Class10: 0.0000 Class11: 0.0000 Class12: 0.3263 \n",
      "Epoch9\n",
      "Valid_Seg Loss: 2.751675279935201 Valid_dom Loss: 168.5345937093099\n",
      "Valid Loss: 4.4370211919148765\n",
      "Valid mIoU: 0.15801080410326174\n",
      "___________________________________________________________________________________________\n",
      "\n"
     ]
    },
    {
     "name": "stderr",
     "output_type": "stream",
     "text": [
      "Epoch: 10: 100%|██████████| 138/138 [13:17<00:00,  5.78s/it]\n"
     ]
    },
    {
     "name": "stdout",
     "output_type": "stream",
     "text": [
      "\n",
      "Label_0: IoU Scores Train\n",
      "Class00: 0.6668 Class01: 0.6256 Class02: 0.0007 Class03: 0.5142 Class04: 0.1165 Class05: 0.0000 Class06: 0.0162 \n",
      "Class07: 0.1611 Class08: 0.6282 Class09: 0.8712 Class10: 0.0000 Class11: 0.0000 Class12: 0.3307 \n",
      "Label_1: IoU Scores Train\n",
      "Class00: 0.9318 Class01: 0.6798 Class02: 0.0006 Class03: 0.5287 Class04: 0.1179 Class05: 0.0000 Class06: 0.0113 \n",
      "Class07: 0.0980 Class08: 0.6205 Class09: 0.8637 Class10: 0.0001 Class11: 0.0000 Class12: 0.3772 \n",
      "Label_2: IoU Scores Train\n",
      "Class00: 0.9543 Class01: 0.6924 Class02: 0.0006 Class03: 0.5313 Class04: 0.1177 Class05: 0.0000 Class06: 0.0123 \n",
      "Class07: 0.0944 Class08: 0.6172 Class09: 0.8563 Class10: 0.0001 Class11: 0.0000 Class12: 0.3848 \n",
      "Label_3: IoU Scores Train\n",
      "Class00: 0.9576 Class01: 0.6917 Class02: 0.0004 Class03: 0.5262 Class04: 0.1144 Class05: 0.0000 Class06: 0.0127 \n",
      "Class07: 0.0932 Class08: 0.6121 Class09: 0.8432 Class10: 0.0001 Class11: 0.0000 Class12: 0.3845 \n",
      "Train seg Loss: 0.618713320489379 Train dom Loss: 231.93838183522945\n",
      "Train Loss: 2.938097094928009\n",
      "Train mIoU: 0.32035214310484644\n"
     ]
    },
    {
     "name": "stderr",
     "output_type": "stream",
     "text": [
      "100%|██████████| 30/30 [00:09<00:00,  3.16it/s]\n"
     ]
    },
    {
     "name": "stdout",
     "output_type": "stream",
     "text": [
      "\n",
      "--IoU Scores Fish val--\n",
      "Class0: 0.0478 Class1: 0.0507 Class2: 0.0000 Class3: 0.0350 Class4: 0.0000 Class5: 0.0000 Class6: 0.0000 \n",
      "Class7: 0.0368 Class8: 0.4566 Class9: 0.7357 Class10: 0.0000 Class11: 0.0000 Class12: 0.0121 \n",
      "Epoch10\n",
      "Valid_Seg Loss: 3.1938998301823935 Valid_dom Loss: 3.1447971170763895\n",
      "Valid Loss: 3.225347805023193\n",
      "Valid mIoU: 0.10574533965171451\n",
      "___________________________________________________________________________________________\n",
      "\n"
     ]
    },
    {
     "name": "stderr",
     "output_type": "stream",
     "text": [
      "Epoch: 11: 100%|██████████| 138/138 [08:50<00:00,  3.85s/it]\n"
     ]
    },
    {
     "name": "stdout",
     "output_type": "stream",
     "text": [
      "\n",
      "Label_0: IoU Scores Train\n",
      "Class00: 0.5983 Class01: 0.5727 Class02: 0.0001 Class03: 0.4657 Class04: 0.0113 Class05: 0.0002 Class06: 0.0019 \n",
      "Class07: 0.0617 Class08: 0.5882 Class09: 0.8390 Class10: 0.0000 Class11: 0.0000 Class12: 0.1695 \n",
      "Label_1: IoU Scores Train\n",
      "Class00: 0.9200 Class01: 0.6381 Class02: 0.0001 Class03: 0.4972 Class04: 0.0154 Class05: 0.0000 Class06: 0.0005 \n",
      "Class07: 0.0453 Class08: 0.6002 Class09: 0.8401 Class10: 0.0000 Class11: 0.0001 Class12: 0.2270 \n",
      "Label_2: IoU Scores Train\n",
      "Class00: 0.9500 Class01: 0.6553 Class02: 0.0001 Class03: 0.4977 Class04: 0.0146 Class05: 0.0000 Class06: 0.0004 \n",
      "Class07: 0.0450 Class08: 0.6010 Class09: 0.8352 Class10: 0.0000 Class11: 0.0000 Class12: 0.2449 \n",
      "Label_3: IoU Scores Train\n",
      "Class00: 0.9572 Class01: 0.6565 Class02: 0.0001 Class03: 0.4939 Class04: 0.0139 Class05: 0.0000 Class06: 0.0004 \n",
      "Class07: 0.0458 Class08: 0.5983 Class09: 0.8270 Class10: 0.0000 Class11: 0.0000 Class12: 0.2523 \n",
      "Train seg Loss: 0.7114136109425537 Train dom Loss: 102.74937623164375\n",
      "Train Loss: 1.738907342425723\n",
      "Train mIoU: 0.2842733014004039\n"
     ]
    },
    {
     "name": "stderr",
     "output_type": "stream",
     "text": [
      "100%|██████████| 30/30 [00:08<00:00,  3.46it/s]\n"
     ]
    },
    {
     "name": "stdout",
     "output_type": "stream",
     "text": [
      "\n",
      "--IoU Scores Fish val--\n",
      "Class0: 0.1847 Class1: 0.0503 Class2: 0.0002 Class3: 0.0460 Class4: 0.0115 Class5: 0.0000 Class6: 0.0000 \n",
      "Class7: 0.0354 Class8: 0.5417 Class9: 0.8390 Class10: 0.0000 Class11: 0.0000 Class12: 0.4141 \n",
      "Epoch11\n",
      "Valid_Seg Loss: 8.552612368265788 Valid_dom Loss: 1.0306584476242146e-07\n",
      "Valid Loss: 8.552612368265788\n",
      "Valid mIoU: 0.16329264447947248\n",
      "___________________________________________________________________________________________\n",
      "\n"
     ]
    },
    {
     "name": "stderr",
     "output_type": "stream",
     "text": [
      "Epoch: 12: 100%|██████████| 138/138 [07:04<00:00,  3.07s/it]\n"
     ]
    },
    {
     "name": "stdout",
     "output_type": "stream",
     "text": [
      "\n",
      "Label_0: IoU Scores Train\n",
      "Class00: 0.7794 Class01: 0.6748 Class02: 0.0058 Class03: 0.5475 Class04: 0.0981 Class05: 0.0001 Class06: 0.0017 \n",
      "Class07: 0.1579 Class08: 0.6308 Class09: 0.8928 Class10: 0.0003 Class11: 0.0014 Class12: 0.3666 \n",
      "Label_1: IoU Scores Train\n",
      "Class00: 0.9529 Class01: 0.7160 Class02: 0.0037 Class03: 0.5549 Class04: 0.1181 Class05: 0.0000 Class06: 0.0013 \n",
      "Class07: 0.1087 Class08: 0.6240 Class09: 0.8912 Class10: 0.0001 Class11: 0.0004 Class12: 0.4290 \n",
      "Label_2: IoU Scores Train\n",
      "Class00: 0.9745 Class01: 0.7330 Class02: 0.0036 Class03: 0.5577 Class04: 0.1268 Class05: 0.0000 Class06: 0.0013 \n",
      "Class07: 0.1127 Class08: 0.6234 Class09: 0.8884 Class10: 0.0001 Class11: 0.0006 Class12: 0.4413 \n",
      "Label_3: IoU Scores Train\n",
      "Class00: 0.9771 Class01: 0.7333 Class02: 0.0044 Class03: 0.5549 Class04: 0.1278 Class05: 0.0001 Class06: 0.0013 \n",
      "Class07: 0.1160 Class08: 0.6193 Class09: 0.8797 Class10: 0.0001 Class11: 0.0012 Class12: 0.4438 \n",
      "Train seg Loss: 0.5252931507817213 Train dom Loss: 55.486538285082176\n",
      "Train Loss: 1.0801585220016432\n",
      "Train mIoU: 0.3361496163994007\n"
     ]
    },
    {
     "name": "stderr",
     "output_type": "stream",
     "text": [
      "100%|██████████| 30/30 [00:08<00:00,  3.61it/s]\n"
     ]
    },
    {
     "name": "stdout",
     "output_type": "stream",
     "text": [
      "\n",
      "--IoU Scores Fish val--\n",
      "Class0: 0.1058 Class1: 0.0507 Class2: 0.0064 Class3: 0.0655 Class4: 0.0464 Class5: 0.0000 Class6: 0.0023 \n",
      "Class7: 0.0698 Class8: 0.5514 Class9: 0.2918 Class10: 0.0009 Class11: 0.0000 Class12: 0.3894 \n",
      "Epoch12\n",
      "Valid_Seg Loss: 13.688282839457194 Valid_dom Loss: 627.9900533040365\n",
      "Valid Loss: 19.968183199564617\n",
      "Valid mIoU: 0.12156752884637617\n",
      "___________________________________________________________________________________________\n",
      "\n"
     ]
    },
    {
     "name": "stderr",
     "output_type": "stream",
     "text": [
      "Epoch: 13: 100%|██████████| 138/138 [07:04<00:00,  3.08s/it]\n"
     ]
    },
    {
     "name": "stdout",
     "output_type": "stream",
     "text": [
      "\n",
      "Label_0: IoU Scores Train\n",
      "Class00: 0.7805 Class01: 0.6789 Class02: 0.0037 Class03: 0.5423 Class04: 0.1762 Class05: 0.0002 Class06: 0.0138 \n",
      "Class07: 0.1956 Class08: 0.6448 Class09: 0.9024 Class10: 0.0007 Class11: 0.0002 Class12: 0.3909 \n",
      "Label_1: IoU Scores Train\n",
      "Class00: 0.9513 Class01: 0.7237 Class02: 0.0046 Class03: 0.5553 Class04: 0.1765 Class05: 0.0000 Class06: 0.0101 \n",
      "Class07: 0.1312 Class08: 0.6364 Class09: 0.8973 Class10: 0.0002 Class11: 0.0002 Class12: 0.4587 \n",
      "Label_2: IoU Scores Train\n",
      "Class00: 0.9743 Class01: 0.7433 Class02: 0.0048 Class03: 0.5636 Class04: 0.1847 Class05: 0.0000 Class06: 0.0090 \n",
      "Class07: 0.1364 Class08: 0.6378 Class09: 0.8959 Class10: 0.0002 Class11: 0.0001 Class12: 0.4758 \n",
      "Label_3: IoU Scores Train\n",
      "Class00: 0.9783 Class01: 0.7467 Class02: 0.0052 Class03: 0.5648 Class04: 0.1845 Class05: 0.0001 Class06: 0.0084 \n",
      "Class07: 0.1382 Class08: 0.6360 Class09: 0.8861 Class10: 0.0012 Class11: 0.0003 Class12: 0.4805 \n",
      "Train seg Loss: 0.5030588943889176 Train dom Loss: 47.81384356626246\n",
      "Train Loss: 0.9811973214905331\n",
      "Train mIoU: 0.3486906593440893\n"
     ]
    },
    {
     "name": "stderr",
     "output_type": "stream",
     "text": [
      "100%|██████████| 30/30 [00:08<00:00,  3.38it/s]\n"
     ]
    },
    {
     "name": "stdout",
     "output_type": "stream",
     "text": [
      "\n",
      "--IoU Scores Fish val--\n",
      "Class0: 0.0695 Class1: 0.0521 Class2: 0.0006 Class3: 0.0586 Class4: 0.0443 Class5: 0.0000 Class6: 0.0011 \n",
      "Class7: 0.0881 Class8: 0.5212 Class9: 0.1501 Class10: 0.0000 Class11: 0.0000 Class12: 0.2821 \n",
      "Epoch13\n",
      "Valid_Seg Loss: 5.309044488271078 Valid_dom Loss: 695.4066223144531\n",
      "Valid Loss: 12.263110574086507\n",
      "Valid mIoU: 0.09752390474987838\n",
      "___________________________________________________________________________________________\n",
      "\n"
     ]
    },
    {
     "name": "stderr",
     "output_type": "stream",
     "text": [
      "Epoch: 14: 100%|██████████| 138/138 [07:04<00:00,  3.08s/it]\n"
     ]
    },
    {
     "name": "stdout",
     "output_type": "stream",
     "text": [
      "\n",
      "Label_0: IoU Scores Train\n",
      "Class00: 0.7595 Class01: 0.6652 Class02: 0.0043 Class03: 0.5336 Class04: 0.1456 Class05: 0.0000 Class06: 0.0262 \n",
      "Class07: 0.1816 Class08: 0.6479 Class09: 0.8934 Class10: 0.0001 Class11: 0.0003 Class12: 0.3482 \n",
      "Label_1: IoU Scores Train\n",
      "Class00: 0.9488 Class01: 0.7125 Class02: 0.0059 Class03: 0.5392 Class04: 0.1320 Class05: 0.0000 Class06: 0.0241 \n",
      "Class07: 0.1278 Class08: 0.6333 Class09: 0.8895 Class10: 0.0001 Class11: 0.0001 Class12: 0.4136 \n",
      "Label_2: IoU Scores Train\n",
      "Class00: 0.9716 Class01: 0.7276 Class02: 0.0068 Class03: 0.5428 Class04: 0.1323 Class05: 0.0002 Class06: 0.0244 \n",
      "Class07: 0.1291 Class08: 0.6324 Class09: 0.8861 Class10: 0.0001 Class11: 0.0002 Class12: 0.4260 \n",
      "Label_3: IoU Scores Train\n",
      "Class00: 0.9754 Class01: 0.7292 Class02: 0.0082 Class03: 0.5422 Class04: 0.1306 Class05: 0.0003 Class06: 0.0234 \n",
      "Class07: 0.1299 Class08: 0.6297 Class09: 0.8756 Class10: 0.0010 Class11: 0.0005 Class12: 0.4300 \n",
      "Train seg Loss: 0.5332413788183011 Train dom Loss: 75.79667172944677\n",
      "Train Loss: 1.2912080756024173\n",
      "Train mIoU: 0.33824258740195606\n"
     ]
    },
    {
     "name": "stderr",
     "output_type": "stream",
     "text": [
      "100%|██████████| 30/30 [00:08<00:00,  3.53it/s]\n"
     ]
    },
    {
     "name": "stdout",
     "output_type": "stream",
     "text": [
      "\n",
      "--IoU Scores Fish val--\n",
      "Class0: 0.1287 Class1: 0.0548 Class2: 0.0005 Class3: 0.0406 Class4: 0.0107 Class5: 0.0007 Class6: 0.0003 \n",
      "Class7: 0.1057 Class8: 0.5375 Class9: 0.8389 Class10: 0.0000 Class11: 0.0000 Class12: 0.4079 \n",
      "Epoch14\n",
      "Valid_Seg Loss: 4.3186504205067955 Valid_dom Loss: 26.764528846740724\n",
      "Valid Loss: 4.586295715967814\n",
      "Valid mIoU: 0.1635512607773801\n",
      "___________________________________________________________________________________________\n",
      "\n"
     ]
    },
    {
     "name": "stderr",
     "output_type": "stream",
     "text": [
      "Epoch: 15: 100%|██████████| 138/138 [07:03<00:00,  3.07s/it]\n"
     ]
    },
    {
     "name": "stdout",
     "output_type": "stream",
     "text": [
      "\n",
      "Label_0: IoU Scores Train\n",
      "Class00: 0.7911 Class01: 0.6775 Class02: 0.0046 Class03: 0.5549 Class04: 0.1876 Class05: 0.0001 Class06: 0.0583 \n",
      "Class07: 0.2106 Class08: 0.6540 Class09: 0.9018 Class10: 0.0002 Class11: 0.0001 Class12: 0.3921 \n",
      "Label_1: IoU Scores Train\n",
      "Class00: 0.9466 Class01: 0.7098 Class02: 0.0043 Class03: 0.5443 Class04: 0.1569 Class05: 0.0000 Class06: 0.0479 \n",
      "Class07: 0.1419 Class08: 0.6405 Class09: 0.8934 Class10: 0.0001 Class11: 0.0000 Class12: 0.4383 \n",
      "Label_2: IoU Scores Train\n",
      "Class00: 0.9700 Class01: 0.7223 Class02: 0.0049 Class03: 0.5468 Class04: 0.1613 Class05: 0.0000 Class06: 0.0521 \n",
      "Class07: 0.1438 Class08: 0.6412 Class09: 0.8926 Class10: 0.0001 Class11: 0.0000 Class12: 0.4483 \n",
      "Label_3: IoU Scores Train\n",
      "Class00: 0.9747 Class01: 0.7255 Class02: 0.0064 Class03: 0.5472 Class04: 0.1597 Class05: 0.0001 Class06: 0.0501 \n",
      "Class07: 0.1447 Class08: 0.6388 Class09: 0.8795 Class10: 0.0000 Class11: 0.0000 Class12: 0.4508 \n",
      "Train seg Loss: 0.5158851706571337 Train dom Loss: 40.12717475510663\n",
      "Train Loss: 0.9171569058536619\n",
      "Train mIoU: 0.34842573533741544\n"
     ]
    },
    {
     "name": "stderr",
     "output_type": "stream",
     "text": [
      "100%|██████████| 30/30 [00:08<00:00,  3.40it/s]\n"
     ]
    },
    {
     "name": "stdout",
     "output_type": "stream",
     "text": [
      "\n",
      "--IoU Scores Fish val--\n",
      "Class0: 0.0236 Class1: 0.0425 Class2: 0.0417 Class3: 0.2344 Class4: 0.0172 Class5: 0.0001 Class6: 0.0078 \n",
      "Class7: 0.1042 Class8: 0.5401 Class9: 0.6643 Class10: 0.0001 Class11: 0.0000 Class12: 0.3631 \n",
      "Epoch15\n",
      "Valid_Seg Loss: 5.200295877456665 Valid_dom Loss: 5.594765188296633\n",
      "Valid Loss: 5.256243546803792\n",
      "Valid mIoU: 0.15685767399914566\n",
      "___________________________________________________________________________________________\n",
      "\n"
     ]
    },
    {
     "name": "stderr",
     "output_type": "stream",
     "text": [
      "Epoch: 16: 100%|██████████| 138/138 [07:04<00:00,  3.07s/it]\n"
     ]
    },
    {
     "name": "stdout",
     "output_type": "stream",
     "text": [
      "\n",
      "Label_0: IoU Scores Train\n",
      "Class00: 0.8215 Class01: 0.6918 Class02: 0.0206 Class03: 0.5580 Class04: 0.2009 Class05: 0.0001 Class06: 0.0759 \n",
      "Class07: 0.2317 Class08: 0.6570 Class09: 0.9050 Class10: 0.0004 Class11: 0.0003 Class12: 0.4035 \n",
      "Label_1: IoU Scores Train\n",
      "Class00: 0.9526 Class01: 0.7244 Class02: 0.0289 Class03: 0.5554 Class04: 0.1856 Class05: 0.0001 Class06: 0.0557 \n",
      "Class07: 0.1484 Class08: 0.6428 Class09: 0.8959 Class10: 0.0000 Class11: 0.0000 Class12: 0.4501 \n",
      "Label_2: IoU Scores Train\n",
      "Class00: 0.9750 Class01: 0.7436 Class02: 0.0339 Class03: 0.5617 Class04: 0.1908 Class05: 0.0000 Class06: 0.0608 \n",
      "Class07: 0.1464 Class08: 0.6425 Class09: 0.8951 Class10: 0.0001 Class11: 0.0000 Class12: 0.4626 \n",
      "Label_3: IoU Scores Train\n",
      "Class00: 0.9789 Class01: 0.7470 Class02: 0.0381 Class03: 0.5622 Class04: 0.1880 Class05: 0.0000 Class06: 0.0613 \n",
      "Class07: 0.1468 Class08: 0.6400 Class09: 0.8852 Class10: 0.0001 Class11: 0.0001 Class12: 0.4666 \n",
      "Train seg Loss: 0.4938938591791236 Train dom Loss: 27.193999416761326\n",
      "Train Loss: 0.7658338473866815\n",
      "Train mIoU: 0.3583364918716972\n"
     ]
    },
    {
     "name": "stderr",
     "output_type": "stream",
     "text": [
      "100%|██████████| 30/30 [00:08<00:00,  3.36it/s]\n"
     ]
    },
    {
     "name": "stdout",
     "output_type": "stream",
     "text": [
      "\n",
      "--IoU Scores Fish val--\n",
      "Class0: 0.0164 Class1: 0.0420 Class2: 0.0145 Class3: 0.1674 Class4: 0.0451 Class5: 0.0000 Class6: 0.0197 \n",
      "Class7: 0.0932 Class8: 0.3785 Class9: 0.3390 Class10: 0.0002 Class11: 0.0001 Class12: 0.3097 \n",
      "Epoch16\n",
      "Valid_Seg Loss: 6.5561011791229244 Valid_dom Loss: 196.7835708618164\n",
      "Valid Loss: 8.523936812082926\n",
      "Valid mIoU: 0.10966035390130499\n",
      "___________________________________________________________________________________________\n",
      "\n"
     ]
    },
    {
     "name": "stderr",
     "output_type": "stream",
     "text": [
      "Epoch: 17: 100%|██████████| 138/138 [07:06<00:00,  3.09s/it]\n"
     ]
    },
    {
     "name": "stdout",
     "output_type": "stream",
     "text": [
      "\n",
      "Label_0: IoU Scores Train\n",
      "Class00: 0.8076 Class01: 0.6893 Class02: 0.0055 Class03: 0.5750 Class04: 0.1868 Class05: 0.0000 Class06: 0.0435 \n",
      "Class07: 0.2159 Class08: 0.6490 Class09: 0.9051 Class10: 0.0003 Class11: 0.0001 Class12: 0.4202 \n",
      "Label_1: IoU Scores Train\n",
      "Class00: 0.9517 Class01: 0.7199 Class02: 0.0094 Class03: 0.5598 Class04: 0.1525 Class05: 0.0000 Class06: 0.0344 \n",
      "Class07: 0.1359 Class08: 0.6365 Class09: 0.8970 Class10: 0.0000 Class11: 0.0000 Class12: 0.4526 \n",
      "Label_2: IoU Scores Train\n",
      "Class00: 0.9722 Class01: 0.7320 Class02: 0.0101 Class03: 0.5594 Class04: 0.1539 Class05: 0.0001 Class06: 0.0385 \n",
      "Class07: 0.1332 Class08: 0.6369 Class09: 0.8950 Class10: 0.0001 Class11: 0.0000 Class12: 0.4562 \n",
      "Label_3: IoU Scores Train\n",
      "Class00: 0.9761 Class01: 0.7318 Class02: 0.0106 Class03: 0.5576 Class04: 0.1519 Class05: 0.0000 Class06: 0.0386 \n",
      "Class07: 0.1334 Class08: 0.6335 Class09: 0.8870 Class10: 0.0003 Class11: 0.0002 Class12: 0.4566 \n",
      "Train seg Loss: 0.4992152544791284 Train dom Loss: 76.89578670171379\n",
      "Train Loss: 1.2681731056368006\n",
      "Train mIoU: 0.3502618627012413\n"
     ]
    },
    {
     "name": "stderr",
     "output_type": "stream",
     "text": [
      "100%|██████████| 30/30 [00:08<00:00,  3.46it/s]\n"
     ]
    },
    {
     "name": "stdout",
     "output_type": "stream",
     "text": [
      "\n",
      "--IoU Scores Fish val--\n",
      "Class0: 0.0599 Class1: 0.0448 Class2: 0.0000 Class3: 0.0343 Class4: 0.0000 Class5: 0.0000 Class6: 0.0000 \n",
      "Class7: 0.0092 Class8: 0.3895 Class9: 0.7119 Class10: 0.0000 Class11: 0.0000 Class12: 0.1902 \n",
      "Epoch17\n",
      "Valid_Seg Loss: 6.361723613739014 Valid_dom Loss: 113.3465794881185\n",
      "Valid Loss: 7.49518936475118\n",
      "Valid mIoU: 0.11075459761267308\n",
      "___________________________________________________________________________________________\n",
      "\n"
     ]
    },
    {
     "name": "stderr",
     "output_type": "stream",
     "text": [
      "Epoch: 18: 100%|██████████| 138/138 [07:06<00:00,  3.09s/it]\n"
     ]
    },
    {
     "name": "stdout",
     "output_type": "stream",
     "text": [
      "\n",
      "Label_0: IoU Scores Train\n",
      "Class00: 0.7821 Class01: 0.6581 Class02: 0.0035 Class03: 0.5226 Class04: 0.1379 Class05: 0.0001 Class06: 0.0475 \n",
      "Class07: 0.2060 Class08: 0.6487 Class09: 0.8938 Class10: 0.0000 Class11: 0.0001 Class12: 0.3465 \n",
      "Label_1: IoU Scores Train\n",
      "Class00: 0.9487 Class01: 0.6993 Class02: 0.0040 Class03: 0.5241 Class04: 0.0955 Class05: 0.0000 Class06: 0.0346 \n",
      "Class07: 0.1249 Class08: 0.6369 Class09: 0.8790 Class10: 0.0001 Class11: 0.0000 Class12: 0.3857 \n",
      "Label_2: IoU Scores Train\n",
      "Class00: 0.9709 Class01: 0.7174 Class02: 0.0037 Class03: 0.5316 Class04: 0.0867 Class05: 0.0000 Class06: 0.0383 \n",
      "Class07: 0.1238 Class08: 0.6371 Class09: 0.8778 Class10: 0.0001 Class11: 0.0001 Class12: 0.4016 \n",
      "Label_3: IoU Scores Train\n",
      "Class00: 0.9759 Class01: 0.7214 Class02: 0.0037 Class03: 0.5334 Class04: 0.0822 Class05: 0.0000 Class06: 0.0373 \n",
      "Class07: 0.1250 Class08: 0.6338 Class09: 0.8688 Class10: 0.0003 Class11: 0.0001 Class12: 0.4060 \n",
      "Train seg Loss: 0.5346998928141766 Train dom Loss: 66.08981776237488\n",
      "Train Loss: 1.1955980525176595\n",
      "Train mIoU: 0.33379484787070174\n"
     ]
    },
    {
     "name": "stderr",
     "output_type": "stream",
     "text": [
      "100%|██████████| 30/30 [00:08<00:00,  3.40it/s]\n"
     ]
    },
    {
     "name": "stdout",
     "output_type": "stream",
     "text": [
      "\n",
      "--IoU Scores Fish val--\n",
      "Class0: 0.1015 Class1: 0.0470 Class2: 0.0082 Class3: 0.0486 Class4: 0.0020 Class5: 0.0000 Class6: 0.0092 \n",
      "Class7: 0.0984 Class8: 0.5496 Class9: 0.6757 Class10: 0.0000 Class11: 0.0000 Class12: 0.1739 \n",
      "Epoch18\n",
      "Valid_Seg Loss: 3.033881680170695 Valid_dom Loss: 19.03880230585734\n",
      "Valid Loss: 3.22426970799764\n",
      "Valid mIoU: 0.13185300756036838\n",
      "___________________________________________________________________________________________\n",
      "\n"
     ]
    },
    {
     "name": "stderr",
     "output_type": "stream",
     "text": [
      "Epoch: 19: 100%|██████████| 138/138 [07:04<00:00,  3.08s/it]\n"
     ]
    },
    {
     "name": "stdout",
     "output_type": "stream",
     "text": [
      "\n",
      "Label_0: IoU Scores Train\n",
      "Class00: 0.8036 Class01: 0.6857 Class02: 0.0026 Class03: 0.5610 Class04: 0.1816 Class05: 0.0002 Class06: 0.0682 \n",
      "Class07: 0.2334 Class08: 0.6597 Class09: 0.9073 Class10: 0.0000 Class11: 0.0002 Class12: 0.4094 \n",
      "Label_1: IoU Scores Train\n",
      "Class00: 0.9523 Class01: 0.7228 Class02: 0.0044 Class03: 0.5537 Class04: 0.1597 Class05: 0.0001 Class06: 0.0502 \n",
      "Class07: 0.1457 Class08: 0.6482 Class09: 0.8995 Class10: 0.0000 Class11: 0.0000 Class12: 0.4665 \n",
      "Label_2: IoU Scores Train\n",
      "Class00: 0.9728 Class01: 0.7374 Class02: 0.0055 Class03: 0.5552 Class04: 0.1672 Class05: 0.0001 Class06: 0.0550 \n",
      "Class07: 0.1427 Class08: 0.6465 Class09: 0.8974 Class10: 0.0001 Class11: 0.0000 Class12: 0.4726 \n",
      "Label_3: IoU Scores Train\n",
      "Class00: 0.9765 Class01: 0.7385 Class02: 0.0071 Class03: 0.5519 Class04: 0.1680 Class05: 0.0002 Class06: 0.0541 \n",
      "Class07: 0.1415 Class08: 0.6408 Class09: 0.8888 Class10: 0.0000 Class11: 0.0000 Class12: 0.4700 \n",
      "Train seg Loss: 0.4938376500554707 Train dom Loss: 52.139343617500366\n",
      "Train Loss: 1.0152310768979182\n",
      "Train mIoU: 0.35395588782208315\n"
     ]
    },
    {
     "name": "stderr",
     "output_type": "stream",
     "text": [
      "100%|██████████| 30/30 [00:08<00:00,  3.64it/s]\n"
     ]
    },
    {
     "name": "stdout",
     "output_type": "stream",
     "text": [
      "\n",
      "--IoU Scores Fish val--\n",
      "Class0: 0.1827 Class1: 0.0507 Class2: 0.0000 Class3: 0.0477 Class4: 0.0059 Class5: 0.0000 Class6: 0.0136 \n",
      "Class7: 0.0890 Class8: 0.5500 Class9: 0.8336 Class10: 0.0000 Class11: 0.0000 Class12: 0.3281 \n",
      "Epoch19\n",
      "Valid_Seg Loss: 5.109155750274658 Valid_dom Loss: 13.312846024831137\n",
      "Valid Loss: 5.242284218470256\n",
      "Valid mIoU: 0.1616401139778916\n",
      "___________________________________________________________________________________________\n",
      "\n"
     ]
    },
    {
     "name": "stderr",
     "output_type": "stream",
     "text": [
      "Epoch: 20: 100%|██████████| 138/138 [07:03<00:00,  3.07s/it]\n"
     ]
    },
    {
     "name": "stdout",
     "output_type": "stream",
     "text": [
      "\n",
      "Label_0: IoU Scores Train\n",
      "Class00: 0.7995 Class01: 0.6868 Class02: 0.0050 Class03: 0.5633 Class04: 0.1822 Class05: 0.0004 Class06: 0.0819 \n",
      "Class07: 0.2381 Class08: 0.6630 Class09: 0.9070 Class10: 0.0000 Class11: 0.0000 Class12: 0.4061 \n",
      "Label_1: IoU Scores Train\n",
      "Class00: 0.9528 Class01: 0.7267 Class02: 0.0034 Class03: 0.5580 Class04: 0.1607 Class05: 0.0001 Class06: 0.0488 \n",
      "Class07: 0.1400 Class08: 0.6517 Class09: 0.8990 Class10: 0.0000 Class11: 0.0000 Class12: 0.4644 \n",
      "Label_2: IoU Scores Train\n",
      "Class00: 0.9712 Class01: 0.7395 Class02: 0.0037 Class03: 0.5606 Class04: 0.1646 Class05: 0.0001 Class06: 0.0516 \n",
      "Class07: 0.1353 Class08: 0.6512 Class09: 0.8959 Class10: 0.0000 Class11: 0.0001 Class12: 0.4740 \n",
      "Label_3: IoU Scores Train\n",
      "Class00: 0.9746 Class01: 0.7405 Class02: 0.0053 Class03: 0.5585 Class04: 0.1644 Class05: 0.0001 Class06: 0.0510 \n",
      "Class07: 0.1337 Class08: 0.6479 Class09: 0.8875 Class10: 0.0000 Class11: 0.0001 Class12: 0.4736 \n",
      "Train seg Loss: 0.4945286661926387 Train dom Loss: 59.87166062130798\n",
      "Train Loss: 1.0932452594996362\n",
      "Train mIoU: 0.35430300047596075\n"
     ]
    },
    {
     "name": "stderr",
     "output_type": "stream",
     "text": [
      "100%|██████████| 30/30 [00:08<00:00,  3.39it/s]\n"
     ]
    },
    {
     "name": "stdout",
     "output_type": "stream",
     "text": [
      "\n",
      "--IoU Scores Fish val--\n",
      "Class0: 0.0983 Class1: 0.0576 Class2: 0.0001 Class3: 0.0369 Class4: 0.0617 Class5: 0.0000 Class6: 0.0000 \n",
      "Class7: 0.0588 Class8: 0.5632 Class9: 0.0906 Class10: 0.0000 Class11: 0.0000 Class12: 0.3537 \n",
      "Epoch20\n",
      "Valid_Seg Loss: 4.294904820124308 Valid_dom Loss: 0.1464049843111449\n",
      "Valid Loss: 4.296368837356567\n",
      "Valid mIoU: 0.10161607425920346\n",
      "___________________________________________________________________________________________\n",
      "\n"
     ]
    },
    {
     "name": "stderr",
     "output_type": "stream",
     "text": [
      "Epoch: 21: 100%|██████████| 138/138 [07:03<00:00,  3.07s/it]\n"
     ]
    },
    {
     "name": "stdout",
     "output_type": "stream",
     "text": [
      "\n",
      "Label_0: IoU Scores Train\n",
      "Class00: 0.7732 Class01: 0.6798 Class02: 0.0041 Class03: 0.5508 Class04: 0.1782 Class05: 0.0002 Class06: 0.0739 \n",
      "Class07: 0.2286 Class08: 0.6584 Class09: 0.8997 Class10: 0.0006 Class11: 0.0000 Class12: 0.3731 \n",
      "Label_1: IoU Scores Train\n",
      "Class00: 0.9498 Class01: 0.7177 Class02: 0.0049 Class03: 0.5434 Class04: 0.1510 Class05: 0.0000 Class06: 0.0561 \n",
      "Class07: 0.1336 Class08: 0.6444 Class09: 0.8902 Class10: 0.0000 Class11: 0.0000 Class12: 0.4272 \n",
      "Label_2: IoU Scores Train\n",
      "Class00: 0.9716 Class01: 0.7285 Class02: 0.0058 Class03: 0.5467 Class04: 0.1550 Class05: 0.0000 Class06: 0.0605 \n",
      "Class07: 0.1322 Class08: 0.6440 Class09: 0.8902 Class10: 0.0002 Class11: 0.0001 Class12: 0.4414 \n",
      "Label_3: IoU Scores Train\n",
      "Class00: 0.9763 Class01: 0.7280 Class02: 0.0069 Class03: 0.5467 Class04: 0.1536 Class05: 0.0001 Class06: 0.0598 \n",
      "Class07: 0.1342 Class08: 0.6429 Class09: 0.8831 Class10: 0.0002 Class11: 0.0000 Class12: 0.4440 \n",
      "Train seg Loss: 0.5080150187123513 Train dom Loss: 79.52249541387225\n",
      "Train Loss: 1.3032399539066397\n",
      "Train mIoU: 0.34790594174149597\n"
     ]
    },
    {
     "name": "stderr",
     "output_type": "stream",
     "text": [
      "100%|██████████| 30/30 [00:08<00:00,  3.58it/s]\n"
     ]
    },
    {
     "name": "stdout",
     "output_type": "stream",
     "text": [
      "\n",
      "--IoU Scores Fish val--\n",
      "Class0: 0.0340 Class1: 0.0466 Class2: 0.0002 Class3: 0.0663 Class4: 0.0616 Class5: 0.0000 Class6: 0.0082 \n",
      "Class7: 0.0778 Class8: 0.4455 Class9: 0.3815 Class10: 0.0000 Class11: 0.0000 Class12: 0.1987 \n",
      "Epoch21\n",
      "Valid_Seg Loss: 4.443412081400553 Valid_dom Loss: 73.39102401733399\n",
      "Valid Loss: 5.177322324117025\n",
      "Valid mIoU: 0.10157345191796154\n",
      "___________________________________________________________________________________________\n",
      "\n"
     ]
    },
    {
     "name": "stderr",
     "output_type": "stream",
     "text": [
      "Epoch: 22: 100%|██████████| 138/138 [07:02<00:00,  3.06s/it]\n"
     ]
    },
    {
     "name": "stdout",
     "output_type": "stream",
     "text": [
      "\n",
      "Label_0: IoU Scores Train\n",
      "Class00: 0.8363 Class01: 0.6984 Class02: 0.0050 Class03: 0.5669 Class04: 0.2217 Class05: 0.0002 Class06: 0.1018 \n",
      "Class07: 0.2540 Class08: 0.6581 Class09: 0.9114 Class10: 0.0001 Class11: 0.0000 Class12: 0.4172 \n",
      "Label_1: IoU Scores Train\n",
      "Class00: 0.9542 Class01: 0.7366 Class02: 0.0064 Class03: 0.5602 Class04: 0.1772 Class05: 0.0000 Class06: 0.0776 \n",
      "Class07: 0.1606 Class08: 0.6491 Class09: 0.9015 Class10: 0.0001 Class11: 0.0000 Class12: 0.4680 \n",
      "Label_2: IoU Scores Train\n",
      "Class00: 0.9757 Class01: 0.7515 Class02: 0.0079 Class03: 0.5621 Class04: 0.1699 Class05: 0.0000 Class06: 0.0803 \n",
      "Class07: 0.1586 Class08: 0.6491 Class09: 0.9011 Class10: 0.0000 Class11: 0.0000 Class12: 0.4739 \n",
      "Label_3: IoU Scores Train\n",
      "Class00: 0.9806 Class01: 0.7532 Class02: 0.0093 Class03: 0.5612 Class04: 0.1599 Class05: 0.0001 Class06: 0.0808 \n",
      "Class07: 0.1601 Class08: 0.6463 Class09: 0.8948 Class10: 0.0000 Class11: 0.0000 Class12: 0.4745 \n",
      "Train seg Loss: 0.47228487219283544 Train dom Loss: 25.39484891241443\n",
      "Train Loss: 0.7262333558089491\n",
      "Train mIoU: 0.3618000287446932\n"
     ]
    },
    {
     "name": "stderr",
     "output_type": "stream",
     "text": [
      "100%|██████████| 30/30 [00:08<00:00,  3.52it/s]\n"
     ]
    },
    {
     "name": "stdout",
     "output_type": "stream",
     "text": [
      "\n",
      "--IoU Scores Fish val--\n",
      "Class0: 0.1554 Class1: 0.0499 Class2: 0.0247 Class3: 0.0489 Class4: 0.0721 Class5: 0.0000 Class6: 0.0128 \n",
      "Class7: 0.1253 Class8: 0.5534 Class9: 0.8239 Class10: 0.0000 Class11: 0.0000 Class12: 0.3976 \n",
      "Epoch22\n",
      "Valid_Seg Loss: 4.386701377232869 Valid_dom Loss: 42.71616579691569\n",
      "Valid Loss: 4.813862991333008\n",
      "Valid mIoU: 0.17414573438066247\n",
      "___________________________________________________________________________________________\n",
      "\n"
     ]
    },
    {
     "name": "stderr",
     "output_type": "stream",
     "text": [
      "Epoch: 23: 100%|██████████| 138/138 [07:03<00:00,  3.07s/it]\n"
     ]
    },
    {
     "name": "stdout",
     "output_type": "stream",
     "text": [
      "\n",
      "Label_0: IoU Scores Train\n",
      "Class00: 0.8810 Class01: 0.7379 Class02: 0.0280 Class03: 0.6108 Class04: 0.2965 Class05: 0.0005 Class06: 0.1127 \n",
      "Class07: 0.2666 Class08: 0.6702 Class09: 0.9206 Class10: 0.0001 Class11: 0.0000 Class12: 0.5017 \n",
      "Label_1: IoU Scores Train\n",
      "Class00: 0.9607 Class01: 0.7646 Class02: 0.0288 Class03: 0.5991 Class04: 0.2418 Class05: 0.0001 Class06: 0.0806 \n",
      "Class07: 0.1634 Class08: 0.6616 Class09: 0.9122 Class10: 0.0000 Class11: 0.0000 Class12: 0.5404 \n",
      "Label_2: IoU Scores Train\n",
      "Class00: 0.9798 Class01: 0.7802 Class02: 0.0351 Class03: 0.6006 Class04: 0.2290 Class05: 0.0001 Class06: 0.0830 \n",
      "Class07: 0.1622 Class08: 0.6611 Class09: 0.9107 Class10: 0.0001 Class11: 0.0000 Class12: 0.5493 \n",
      "Label_3: IoU Scores Train\n",
      "Class00: 0.9832 Class01: 0.7813 Class02: 0.0400 Class03: 0.5998 Class04: 0.2133 Class05: 0.0003 Class06: 0.0825 \n",
      "Class07: 0.1631 Class08: 0.6582 Class09: 0.9037 Class10: 0.0000 Class11: 0.0000 Class12: 0.5510 \n",
      "Train seg Loss: 0.42684882436541544 Train dom Loss: 18.57955198815983\n",
      "Train Loss: 0.6126443393312503\n",
      "Train mIoU: 0.38359583173438466\n"
     ]
    },
    {
     "name": "stderr",
     "output_type": "stream",
     "text": [
      "100%|██████████| 30/30 [00:08<00:00,  3.50it/s]\n"
     ]
    },
    {
     "name": "stdout",
     "output_type": "stream",
     "text": [
      "\n",
      "--IoU Scores Fish val--\n",
      "Class0: 0.0419 Class1: 0.0441 Class2: 0.0462 Class3: 0.0703 Class4: 0.0916 Class5: 0.0253 Class6: 0.0139 \n",
      "Class7: 0.1341 Class8: 0.4997 Class9: 0.7842 Class10: 0.0003 Class11: 0.0015 Class12: 0.3784 \n",
      "Epoch23\n",
      "Valid_Seg Loss: 4.537541500727335 Valid_dom Loss: 2.0202706178029377\n",
      "Valid Loss: 4.557744201024374\n",
      "Valid mIoU: 0.163966920261565\n",
      "___________________________________________________________________________________________\n",
      "\n"
     ]
    },
    {
     "name": "stderr",
     "output_type": "stream",
     "text": [
      "Epoch: 24: 100%|██████████| 138/138 [07:02<00:00,  3.06s/it]\n"
     ]
    },
    {
     "name": "stdout",
     "output_type": "stream",
     "text": [
      "\n",
      "Label_0: IoU Scores Train\n",
      "Class00: 0.8882 Class01: 0.7485 Class02: 0.0611 Class03: 0.6203 Class04: 0.3050 Class05: 0.0014 Class06: 0.1143 \n",
      "Class07: 0.2742 Class08: 0.6746 Class09: 0.9260 Class10: 0.0001 Class11: 0.0005 Class12: 0.5255 \n",
      "Label_1: IoU Scores Train\n",
      "Class00: 0.9617 Class01: 0.7767 Class02: 0.0721 Class03: 0.6094 Class04: 0.2543 Class05: 0.0009 Class06: 0.0732 \n",
      "Class07: 0.1726 Class08: 0.6656 Class09: 0.9129 Class10: 0.0002 Class11: 0.0002 Class12: 0.5697 \n",
      "Label_2: IoU Scores Train\n",
      "Class00: 0.9804 Class01: 0.7920 Class02: 0.0856 Class03: 0.6143 Class04: 0.2550 Class05: 0.0009 Class06: 0.0774 \n",
      "Class07: 0.1692 Class08: 0.6668 Class09: 0.9105 Class10: 0.0003 Class11: 0.0001 Class12: 0.5818 \n",
      "Label_3: IoU Scores Train\n",
      "Class00: 0.9823 Class01: 0.7896 Class02: 0.0944 Class03: 0.6129 Class04: 0.2457 Class05: 0.0011 Class06: 0.0768 \n",
      "Class07: 0.1680 Class08: 0.6630 Class09: 0.9019 Class10: 0.0004 Class11: 0.0005 Class12: 0.5828 \n",
      "Train seg Loss: 0.4191059518227543 Train dom Loss: 30.532185099735532\n",
      "Train Loss: 0.7244277957664884\n",
      "Train mIoU: 0.3935065462039291\n"
     ]
    },
    {
     "name": "stderr",
     "output_type": "stream",
     "text": [
      "100%|██████████| 30/30 [00:08<00:00,  3.40it/s]\n"
     ]
    },
    {
     "name": "stdout",
     "output_type": "stream",
     "text": [
      "\n",
      "--IoU Scores Fish val--\n",
      "Class0: 0.0070 Class1: 0.1558 Class2: 0.0049 Class3: 0.0751 Class4: 0.0885 Class5: 0.0000 Class6: 0.0137 \n",
      "Class7: 0.0965 Class8: 0.4191 Class9: 0.8476 Class10: 0.0000 Class11: 0.0001 Class12: 0.2795 \n",
      "Epoch24\n",
      "Valid_Seg Loss: 3.529505729675293 Valid_dom Loss: 5.764768850803375\n",
      "Valid Loss: 3.587153418858846\n",
      "Valid mIoU: 0.152907387832766\n",
      "___________________________________________________________________________________________\n",
      "\n"
     ]
    },
    {
     "name": "stderr",
     "output_type": "stream",
     "text": [
      "Epoch: 25: 100%|██████████| 138/138 [07:05<00:00,  3.09s/it]\n"
     ]
    },
    {
     "name": "stdout",
     "output_type": "stream",
     "text": [
      "\n",
      "Label_0: IoU Scores Train\n",
      "Class00: 0.7888 Class01: 0.6749 Class02: 0.0118 Class03: 0.5608 Class04: 0.1545 Class05: 0.0002 Class06: 0.0775 \n",
      "Class07: 0.2077 Class08: 0.6503 Class09: 0.8966 Class10: 0.0000 Class11: 0.0000 Class12: 0.3820 \n",
      "Label_1: IoU Scores Train\n",
      "Class00: 0.9486 Class01: 0.7162 Class02: 0.0192 Class03: 0.5588 Class04: 0.1281 Class05: 0.0000 Class06: 0.0460 \n",
      "Class07: 0.1294 Class08: 0.6391 Class09: 0.8837 Class10: 0.0000 Class11: 0.0000 Class12: 0.4457 \n",
      "Label_2: IoU Scores Train\n",
      "Class00: 0.9690 Class01: 0.7304 Class02: 0.0242 Class03: 0.5615 Class04: 0.1308 Class05: 0.0000 Class06: 0.0472 \n",
      "Class07: 0.1285 Class08: 0.6377 Class09: 0.8836 Class10: 0.0000 Class11: 0.0000 Class12: 0.4576 \n",
      "Label_3: IoU Scores Train\n",
      "Class00: 0.9737 Class01: 0.7292 Class02: 0.0263 Class03: 0.5600 Class04: 0.1304 Class05: 0.0001 Class06: 0.0456 \n",
      "Class07: 0.1287 Class08: 0.6341 Class09: 0.8797 Class10: 0.0001 Class11: 0.0000 Class12: 0.4601 \n",
      "Train seg Loss: 0.513368797690972 Train dom Loss: 127.1513066805015\n",
      "Train Loss: 1.7848818357763947\n",
      "Train mIoU: 0.3472781547891042\n"
     ]
    },
    {
     "name": "stderr",
     "output_type": "stream",
     "text": [
      "100%|██████████| 30/30 [00:08<00:00,  3.54it/s]\n"
     ]
    },
    {
     "name": "stdout",
     "output_type": "stream",
     "text": [
      "\n",
      "--IoU Scores Fish val--\n",
      "Class0: 0.0466 Class1: 0.1510 Class2: 0.0000 Class3: 0.0548 Class4: 0.0010 Class5: 0.0000 Class6: 0.0000 \n",
      "Class7: 0.0042 Class8: 0.5066 Class9: 0.7359 Class10: 0.0000 Class11: 0.0000 Class12: 0.2941 \n",
      "Epoch25\n",
      "Valid_Seg Loss: 3.7294695456822713 Valid_dom Loss: 29.35337708791097\n",
      "Valid Loss: 4.023003300031026\n",
      "Valid mIoU: 0.13802374776748547\n",
      "___________________________________________________________________________________________\n",
      "\n"
     ]
    },
    {
     "name": "stderr",
     "output_type": "stream",
     "text": [
      "Epoch: 26: 100%|██████████| 138/138 [09:20<00:00,  4.06s/it]\n"
     ]
    },
    {
     "name": "stdout",
     "output_type": "stream",
     "text": [
      "\n",
      "Label_0: IoU Scores Train\n",
      "Class00: 0.8149 Class01: 0.6787 Class02: 0.0011 Class03: 0.5678 Class04: 0.1590 Class05: 0.0003 Class06: 0.0743 \n",
      "Class07: 0.2089 Class08: 0.6524 Class09: 0.8932 Class10: 0.0000 Class11: 0.0000 Class12: 0.3941 \n",
      "Label_1: IoU Scores Train\n",
      "Class00: 0.9557 Class01: 0.7262 Class02: 0.0036 Class03: 0.5689 Class04: 0.1376 Class05: 0.0001 Class06: 0.0395 \n",
      "Class07: 0.1304 Class08: 0.6353 Class09: 0.8900 Class10: 0.0000 Class11: 0.0000 Class12: 0.4674 \n",
      "Label_2: IoU Scores Train\n",
      "Class00: 0.9764 Class01: 0.7491 Class02: 0.0069 Class03: 0.5719 Class04: 0.1422 Class05: 0.0001 Class06: 0.0388 \n",
      "Class07: 0.1273 Class08: 0.6319 Class09: 0.8881 Class10: 0.0000 Class11: 0.0000 Class12: 0.4840 \n",
      "Label_3: IoU Scores Train\n",
      "Class00: 0.9802 Class01: 0.7499 Class02: 0.0076 Class03: 0.5730 Class04: 0.1391 Class05: 0.0001 Class06: 0.0360 \n",
      "Class07: 0.1287 Class08: 0.6280 Class09: 0.8831 Class10: 0.0000 Class11: 0.0000 Class12: 0.4927 \n",
      "Train seg Loss: 0.49350082755520724 Train dom Loss: 62.10564956106111\n",
      "Train Loss: 1.1145573087792466\n",
      "Train mIoU: 0.3506644849512587\n"
     ]
    },
    {
     "name": "stderr",
     "output_type": "stream",
     "text": [
      "100%|██████████| 30/30 [00:09<00:00,  3.24it/s]\n"
     ]
    },
    {
     "name": "stdout",
     "output_type": "stream",
     "text": [
      "\n",
      "--IoU Scores Fish val--\n",
      "Class0: 0.0630 Class1: 0.0350 Class2: 0.0015 Class3: 0.0436 Class4: 0.0031 Class5: 0.0005 Class6: 0.0010 \n",
      "Class7: 0.1095 Class8: 0.5323 Class9: 0.6853 Class10: 0.0000 Class11: 0.0000 Class12: 0.2779 \n",
      "Epoch26\n",
      "Valid_Seg Loss: 4.235956422487894 Valid_dom Loss: 50.21338094075521\n",
      "Valid Loss: 4.738090260823568\n",
      "Valid mIoU: 0.1348260992085229\n",
      "___________________________________________________________________________________________\n",
      "\n"
     ]
    },
    {
     "name": "stderr",
     "output_type": "stream",
     "text": [
      "Epoch: 27: 100%|██████████| 138/138 [11:11<00:00,  4.86s/it]\n"
     ]
    },
    {
     "name": "stdout",
     "output_type": "stream",
     "text": [
      "\n",
      "Label_0: IoU Scores Train\n",
      "Class00: 0.8646 Class01: 0.7112 Class02: 0.0076 Class03: 0.5974 Class04: 0.2303 Class05: 0.0003 Class06: 0.1085 \n",
      "Class07: 0.2486 Class08: 0.6617 Class09: 0.9151 Class10: 0.0001 Class11: 0.0000 Class12: 0.4515 \n",
      "Label_1: IoU Scores Train\n",
      "Class00: 0.9613 Class01: 0.7434 Class02: 0.0130 Class03: 0.5895 Class04: 0.2051 Class05: 0.0000 Class06: 0.0561 \n",
      "Class07: 0.1644 Class08: 0.6536 Class09: 0.9086 Class10: 0.0000 Class11: 0.0000 Class12: 0.5004 \n",
      "Label_2: IoU Scores Train\n",
      "Class00: 0.9800 Class01: 0.7627 Class02: 0.0127 Class03: 0.5915 Class04: 0.2051 Class05: 0.0000 Class06: 0.0563 \n",
      "Class07: 0.1648 Class08: 0.6510 Class09: 0.9041 Class10: 0.0001 Class11: 0.0000 Class12: 0.5133 \n",
      "Label_3: IoU Scores Train\n",
      "Class00: 0.9832 Class01: 0.7648 Class02: 0.0121 Class03: 0.5907 Class04: 0.1995 Class05: 0.0001 Class06: 0.0538 \n",
      "Class07: 0.1650 Class08: 0.6462 Class09: 0.8972 Class10: 0.0001 Class11: 0.0000 Class12: 0.5182 \n",
      "Train seg Loss: 0.45000170597779576 Train dom Loss: 27.7777485664423\n",
      "Train Loss: 0.7277791844545931\n",
      "Train mIoU: 0.37048470521910437\n"
     ]
    },
    {
     "name": "stderr",
     "output_type": "stream",
     "text": [
      "100%|██████████| 30/30 [00:08<00:00,  3.41it/s]\n"
     ]
    },
    {
     "name": "stdout",
     "output_type": "stream",
     "text": [
      "\n",
      "--IoU Scores Fish val--\n",
      "Class0: 0.1264 Class1: 0.0481 Class2: 0.0022 Class3: 0.0515 Class4: 0.0385 Class5: 0.0000 Class6: 0.0026 \n",
      "Class7: 0.1177 Class8: 0.5248 Class9: 0.7842 Class10: 0.0000 Class11: 0.0000 Class12: 0.4377 \n",
      "Epoch27\n",
      "Valid_Seg Loss: 7.569039662679036 Valid_dom Loss: 9.914021794001261\n",
      "Valid Loss: 7.668179845809936\n",
      "Valid mIoU: 0.1641244765803138\n",
      "___________________________________________________________________________________________\n",
      "\n"
     ]
    },
    {
     "name": "stderr",
     "output_type": "stream",
     "text": [
      "Epoch: 28: 100%|██████████| 138/138 [07:06<00:00,  3.09s/it]\n"
     ]
    },
    {
     "name": "stdout",
     "output_type": "stream",
     "text": [
      "\n",
      "Label_0: IoU Scores Train\n",
      "Class00: 0.8710 Class01: 0.7219 Class02: 0.0339 Class03: 0.6032 Class04: 0.2706 Class05: 0.0008 Class06: 0.1412 \n",
      "Class07: 0.2774 Class08: 0.6738 Class09: 0.9182 Class10: 0.0000 Class11: 0.0000 Class12: 0.4712 \n",
      "Label_1: IoU Scores Train\n",
      "Class00: 0.9637 Class01: 0.7590 Class02: 0.0413 Class03: 0.5975 Class04: 0.2320 Class05: 0.0003 Class06: 0.0720 \n",
      "Class07: 0.1675 Class08: 0.6630 Class09: 0.9110 Class10: 0.0000 Class11: 0.0000 Class12: 0.5306 \n",
      "Label_2: IoU Scores Train\n",
      "Class00: 0.9811 Class01: 0.7784 Class02: 0.0428 Class03: 0.6002 Class04: 0.2348 Class05: 0.0004 Class06: 0.0717 \n",
      "Class07: 0.1663 Class08: 0.6625 Class09: 0.9065 Class10: 0.0001 Class11: 0.0000 Class12: 0.5469 \n",
      "Label_3: IoU Scores Train\n",
      "Class00: 0.9841 Class01: 0.7796 Class02: 0.0449 Class03: 0.6000 Class04: 0.2293 Class05: 0.0007 Class06: 0.0712 \n",
      "Class07: 0.1676 Class08: 0.6593 Class09: 0.8995 Class10: 0.0001 Class11: 0.0000 Class12: 0.5522 \n",
      "Train seg Loss: 0.42990075359525887 Train dom Loss: 31.858131571966517\n",
      "Train Loss: 0.7484820617929749\n",
      "Train mIoU: 0.38271754492578347\n"
     ]
    },
    {
     "name": "stderr",
     "output_type": "stream",
     "text": [
      "100%|██████████| 30/30 [00:08<00:00,  3.45it/s]\n"
     ]
    },
    {
     "name": "stdout",
     "output_type": "stream",
     "text": [
      "\n",
      "--IoU Scores Fish val--\n",
      "Class0: 0.0324 Class1: 0.0457 Class2: 0.0217 Class3: 0.0547 Class4: 0.1175 Class5: 0.0002 Class6: 0.0188 \n",
      "Class7: 0.1110 Class8: 0.5311 Class9: 0.8044 Class10: 0.0000 Class11: 0.0012 Class12: 0.3970 \n",
      "Epoch28\n",
      "Valid_Seg Loss: 7.866020679473877 Valid_dom Loss: 6.36580585638682\n",
      "Valid Loss: 7.929678726196289\n",
      "Valid mIoU: 0.16428615647845668\n",
      "___________________________________________________________________________________________\n",
      "\n"
     ]
    },
    {
     "name": "stderr",
     "output_type": "stream",
     "text": [
      "Epoch: 29: 100%|██████████| 138/138 [07:58<00:00,  3.47s/it]\n"
     ]
    },
    {
     "name": "stdout",
     "output_type": "stream",
     "text": [
      "\n",
      "Label_0: IoU Scores Train\n",
      "Class00: 0.8686 Class01: 0.7261 Class02: 0.0230 Class03: 0.5988 Class04: 0.2688 Class05: 0.0011 Class06: 0.1235 \n",
      "Class07: 0.2718 Class08: 0.6688 Class09: 0.9160 Class10: 0.0000 Class11: 0.0000 Class12: 0.4630 \n",
      "Label_1: IoU Scores Train\n",
      "Class00: 0.9658 Class01: 0.7658 Class02: 0.0530 Class03: 0.5908 Class04: 0.2585 Class05: 0.0002 Class06: 0.0608 \n",
      "Class07: 0.1612 Class08: 0.6555 Class09: 0.9090 Class10: 0.0000 Class11: 0.0000 Class12: 0.5239 \n",
      "Label_2: IoU Scores Train\n",
      "Class00: 0.9813 Class01: 0.7810 Class02: 0.0616 Class03: 0.5940 Class04: 0.2616 Class05: 0.0002 Class06: 0.0591 \n",
      "Class07: 0.1575 Class08: 0.6553 Class09: 0.9046 Class10: 0.0000 Class11: 0.0000 Class12: 0.5373 \n",
      "Label_3: IoU Scores Train\n",
      "Class00: 0.9825 Class01: 0.7764 Class02: 0.0658 Class03: 0.5947 Class04: 0.2523 Class05: 0.0003 Class06: 0.0581 \n",
      "Class07: 0.1569 Class08: 0.6532 Class09: 0.8962 Class10: 0.0000 Class11: 0.0001 Class12: 0.5430 \n",
      "Train seg Loss: 0.4356576796027197 Train dom Loss: 41.06845096863191\n",
      "Train Loss: 0.846342179654301\n",
      "Train mIoU: 0.3816808921675991\n"
     ]
    },
    {
     "name": "stderr",
     "output_type": "stream",
     "text": [
      "100%|██████████| 30/30 [00:09<00:00,  3.20it/s]\n"
     ]
    },
    {
     "name": "stdout",
     "output_type": "stream",
     "text": [
      "\n",
      "--IoU Scores Fish val--\n",
      "Class0: 0.0886 Class1: 0.0486 Class2: 0.0022 Class3: 0.0446 Class4: 0.0829 Class5: 0.0000 Class6: 0.0021 \n",
      "Class7: 0.0985 Class8: 0.4936 Class9: 0.4834 Class10: 0.0000 Class11: 0.0000 Class12: 0.2821 \n",
      "Epoch29\n",
      "Valid_Seg Loss: 2.7672383069992064 Valid_dom Loss: 82.84909235636393\n",
      "Valid Loss: 3.595729207992554\n",
      "Valid mIoU: 0.12512441296103796\n",
      "___________________________________________________________________________________________\n",
      "\n"
     ]
    },
    {
     "name": "stderr",
     "output_type": "stream",
     "text": [
      "Epoch: 30: 100%|██████████| 138/138 [07:53<00:00,  3.43s/it]\n"
     ]
    },
    {
     "name": "stdout",
     "output_type": "stream",
     "text": [
      "\n",
      "Label_0: IoU Scores Train\n",
      "Class00: 0.8543 Class01: 0.7166 Class02: 0.0152 Class03: 0.5997 Class04: 0.2900 Class05: 0.0004 Class06: 0.1188 \n",
      "Class07: 0.2652 Class08: 0.6749 Class09: 0.9231 Class10: 0.0000 Class11: 0.0003 Class12: 0.4699 \n",
      "Label_1: IoU Scores Train\n",
      "Class00: 0.9625 Class01: 0.7557 Class02: 0.0347 Class03: 0.5926 Class04: 0.2529 Class05: 0.0004 Class06: 0.0660 \n",
      "Class07: 0.1711 Class08: 0.6621 Class09: 0.9155 Class10: 0.0000 Class11: 0.0001 Class12: 0.5225 \n",
      "Label_2: IoU Scores Train\n",
      "Class00: 0.9797 Class01: 0.7714 Class02: 0.0422 Class03: 0.5959 Class04: 0.2542 Class05: 0.0003 Class06: 0.0676 \n",
      "Class07: 0.1719 Class08: 0.6625 Class09: 0.9105 Class10: 0.0002 Class11: 0.0001 Class12: 0.5366 \n",
      "Label_3: IoU Scores Train\n",
      "Class00: 0.9825 Class01: 0.7701 Class02: 0.0463 Class03: 0.5966 Class04: 0.2433 Class05: 0.0003 Class06: 0.0667 \n",
      "Class07: 0.1721 Class08: 0.6608 Class09: 0.9028 Class10: 0.0003 Class11: 0.0001 Class12: 0.5419 \n",
      "Train seg Loss: 0.43441574199908023 Train dom Loss: 31.942022709599375\n",
      "Train Loss: 0.7538359619785047\n",
      "Train mIoU: 0.3815616473178606\n"
     ]
    },
    {
     "name": "stderr",
     "output_type": "stream",
     "text": [
      "100%|██████████| 30/30 [00:08<00:00,  3.43it/s]"
     ]
    },
    {
     "name": "stdout",
     "output_type": "stream",
     "text": [
      "\n",
      "--IoU Scores Fish val--\n",
      "Class0: 0.2378 Class1: 0.0264 Class2: 0.0027 Class3: 0.0525 Class4: 0.0001 Class5: 0.0000 Class6: 0.0074 \n",
      "Class7: 0.1028 Class8: 0.5135 Class9: 0.8326 Class10: 0.0000 Class11: 0.0000 Class12: 0.2138 \n",
      "Epoch30\n",
      "Valid_Seg Loss: 7.276662572224935 Valid_dom Loss: 48.44574254353841\n",
      "Valid Loss: 7.761119985580445\n",
      "Valid mIoU: 0.15304863338913832\n",
      "___________________________________________________________________________________________\n",
      "\n",
      "Hyperparamerters\n",
      "LR = 0.0001 | EP = 30, BATCH_SIZE = 16, N_CLASSES = 13, init_alpha = 0.01, N_LABELS = 4\n"
     ]
    },
    {
     "name": "stderr",
     "output_type": "stream",
     "text": [
      "\n"
     ]
    }
   ],
   "source": [
    "for epoch in range(EP):\n",
    "    model.train()\n",
    "    epoch_loss = 0\n",
    "    seg_losses = 0\n",
    "    domain_losses = 0\n",
    "    #alpha = 0.0045\n",
    "    train_class_ious = [[],[],[],[]]\n",
    "    \n",
    "    # label_dfs = {label: None for label in range(N_LABELS)}\n",
    "    # print(alpha)\n",
    "    for source_images, source_masks in tqdm(source_dataloader,desc=f\"Epoch: {epoch+1}\"):\n",
    "        for label in range(N_LABELS): \n",
    "            source_image, source_mask = apply_fisheye_distortion(source_images, source_masks, label)\n",
    "            source_image = source_image.float().to(device)\n",
    "            source_mask = source_mask.long().to(device)\n",
    "            source_outputs = model(source_image)\n",
    "            \n",
    "            optimizer.zero_grad()\n",
    "            target_loss, seg_loss, domain_loss = loss_fn(source_outputs, source_mask, label, alpha = alpha)\n",
    "            epoch_loss += target_loss.item()\n",
    "            seg_losses +=  seg_loss.item()\n",
    "            domain_losses += domain_loss.item()\n",
    "            target_loss.backward()\n",
    "            optimizer.step()\n",
    "            # miou측정\n",
    "            source_outputs = model(source_image)\n",
    "            source_outputs = torch.softmax(source_outputs[0], dim=1).cpu()\n",
    "            source_outputs = torch.argmax(source_outputs, dim=1).numpy()\n",
    "            \n",
    "            for class_id in range(N_CLASSES):\n",
    "                iou = calculate_iou_per_class(np.array(source_mask.cpu()), np.array(source_outputs), class_id)\n",
    "                train_class_ious[label].append(iou)\n",
    "            \n",
    "    for i in range(N_LABELS):\n",
    "        buff = np.array(train_class_ious[i]).reshape(-1,N_CLASSES)\n",
    "        buff = np.mean(buff, axis=0)\n",
    "        print(f\"\\nLabel_{i}: IoU Scores Train\")\n",
    "        for class_id, iou in enumerate(buff):\n",
    "            print(f'Class{class_id:02d}: {iou:.4f}', end=\" \")\n",
    "            if (class_id+1) % 7 == 0:\n",
    "                print()   \n",
    "    print()    \n",
    "    print(f\"Train seg Loss: {(seg_losses/(N_LABELS*len(source_dataloader)))}\",f\"Train dom Loss: {(domain_losses/(N_LABELS*len(source_dataloader)))}\")\n",
    "    print(f\"Train Loss: {(epoch_loss/(N_LABELS*len(source_dataloader)))}\")\n",
    "    print(f\"Train mIoU: {np.mean(train_class_ious)}\" )\n",
    "    ################################################################\n",
    "    # 클래스별 IoU를 누적할 리스트 초기화\n",
    "    val_class_ious = []\n",
    "    fish_val_class_ious = []\n",
    "    val_epoch_loss = 0\n",
    "    val_seg_loss = 0\n",
    "    val_domain_loss = 0\n",
    "    # valid\n",
    "    model.eval()\n",
    "    with torch.no_grad():\n",
    "        \n",
    "        for target_images, target_masks in tqdm(val_target_dataloader):\n",
    "            label = 2.5\n",
    "            #target_images, target_masks = apply_fisheye_distortion(target_images, target_masks, label)\n",
    "            target_images = target_images.float().to(device)\n",
    "            target_masks = target_masks.long().to(device)\n",
    "\n",
    "            target_outputs = model(target_images)\n",
    "\n",
    "            target_loss, target_seg_loss, target_domain_loss = loss_fn(target_outputs, target_masks, label, alpha = alpha)\n",
    "\n",
    "            val_seg_loss +=  target_seg_loss.item()\n",
    "            val_domain_loss += target_domain_loss.item()\n",
    "            \n",
    "            loss = target_loss\n",
    "\n",
    "            val_epoch_loss += loss.item()\n",
    "\n",
    "            # train 클래스별 IoU 계산\n",
    "            target_outputs = torch.softmax(target_outputs[0], dim=1).cpu()\n",
    "            target_outputs = torch.argmax(target_outputs, dim=1).numpy()\n",
    "\n",
    "            for class_id in range(N_CLASSES):\n",
    "                iou = calculate_iou_per_class(np.array(target_masks.cpu()), np.array(target_outputs), class_id)\n",
    "                fish_val_class_ious.append(iou)\n",
    "\n",
    "    fish_val_class_ious = np.array(fish_val_class_ious).reshape(-1,N_CLASSES)\n",
    "    fish_val_class_ious = np.mean(fish_val_class_ious, axis=0)\n",
    "    print()\n",
    "    print(\"--IoU Scores Fish val--\")\n",
    "    for class_id, iou in enumerate(fish_val_class_ious):\n",
    "        print(f'Class{class_id}: {iou:.4f}', end=\" \")\n",
    "        if (class_id+1) % 7 == 0:\n",
    "            print()\n",
    "\n",
    "    # mIoU 계산\n",
    "    fish_val_mIoU = np.mean(fish_val_class_ious)\n",
    "\n",
    "    # 에폭마다 결과 출력 \n",
    "    print(f\"\\nEpoch{epoch+1}\")\n",
    "    print(f\"Valid_Seg Loss: {(val_seg_loss/len(val_target_dataloader))}\",f\"Valid_dom Loss: {(val_domain_loss/len(val_target_dataloader))}\")\n",
    "    print(f\"Valid Loss: {(val_epoch_loss/len(val_target_dataloader))}\")\n",
    "    print(f\"Valid mIoU: {fish_val_mIoU}\" )\n",
    "    print(\"___________________________________________________________________________________________\\n\")\n",
    "\n",
    "print(\"Hyperparamerters\")\n",
    "print(f\"LR = {LR} | EP = {EP}, BATCH_SIZE = {BATCH_SIZE}, N_CLASSES = {N_CLASSES}, init_alpha = {alpha}, N_LABELS = {N_LABELS}\")"
   ]
  },
  {
   "cell_type": "code",
   "execution_count": null,
   "metadata": {},
   "outputs": [],
   "source": [
    "torch.save(model.state_dict(), './data/resnet34_1121_1.pth')\n"
   ]
  }
 ],
 "metadata": {
  "kernelspec": {
   "display_name": "byungwan_resn",
   "language": "python",
   "name": "python3"
  },
  "language_info": {
   "codemirror_mode": {
    "name": "ipython",
    "version": 3
   },
   "file_extension": ".py",
   "mimetype": "text/x-python",
   "name": "python",
   "nbconvert_exporter": "python",
   "pygments_lexer": "ipython3",
   "version": "3.8.17"
  }
 },
 "nbformat": 4,
 "nbformat_minor": 2
}
