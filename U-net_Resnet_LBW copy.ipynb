{
 "cells": [
  {
   "attachments": {},
   "cell_type": "markdown",
   "id": "d73d24e3-5c9e-4ade-9e6e-ca6f46a2d914",
   "metadata": {},
   "source": [
    "## Import"
   ]
  },
  {
   "cell_type": "code",
   "execution_count": 2,
   "id": "ad9b681e-370a-4cfa-a452-dd2d7f0cd77f",
   "metadata": {},
   "outputs": [
    {
     "ename": "ModuleNotFoundError",
     "evalue": "No module named 'tqdm'",
     "output_type": "error",
     "traceback": [
      "\u001b[1;31m---------------------------------------------------------------------------\u001b[0m",
      "\u001b[1;31mModuleNotFoundError\u001b[0m                       Traceback (most recent call last)",
      "\u001b[1;32mc:\\Workspace\\Design_project-2\\U-net_Resnet_LBW copy.ipynb 셀 2\u001b[0m line \u001b[0;36m1\n\u001b[0;32m     <a href='vscode-notebook-cell:/c%3A/Workspace/Design_project-2/U-net_Resnet_LBW%20copy.ipynb#W1sZmlsZQ%3D%3D?line=10'>11</a>\u001b[0m \u001b[39mfrom\u001b[39;00m \u001b[39mtorchvision\u001b[39;00m \u001b[39mimport\u001b[39;00m transforms\n\u001b[0;32m     <a href='vscode-notebook-cell:/c%3A/Workspace/Design_project-2/U-net_Resnet_LBW%20copy.ipynb#W1sZmlsZQ%3D%3D?line=11'>12</a>\u001b[0m \u001b[39mfrom\u001b[39;00m \u001b[39mtorch\u001b[39;00m\u001b[39m.\u001b[39;00m\u001b[39moptim\u001b[39;00m\u001b[39m.\u001b[39;00m\u001b[39mlr_scheduler\u001b[39;00m \u001b[39mimport\u001b[39;00m _LRScheduler\n\u001b[1;32m---> <a href='vscode-notebook-cell:/c%3A/Workspace/Design_project-2/U-net_Resnet_LBW%20copy.ipynb#W1sZmlsZQ%3D%3D?line=13'>14</a>\u001b[0m \u001b[39mfrom\u001b[39;00m \u001b[39mtqdm\u001b[39;00m \u001b[39mimport\u001b[39;00m tqdm\n\u001b[0;32m     <a href='vscode-notebook-cell:/c%3A/Workspace/Design_project-2/U-net_Resnet_LBW%20copy.ipynb#W1sZmlsZQ%3D%3D?line=14'>15</a>\u001b[0m \u001b[39mimport\u001b[39;00m \u001b[39malbumentations\u001b[39;00m \u001b[39mas\u001b[39;00m \u001b[39mA\u001b[39;00m\n\u001b[0;32m     <a href='vscode-notebook-cell:/c%3A/Workspace/Design_project-2/U-net_Resnet_LBW%20copy.ipynb#W1sZmlsZQ%3D%3D?line=15'>16</a>\u001b[0m \u001b[39mfrom\u001b[39;00m \u001b[39malbumentations\u001b[39;00m\u001b[39m.\u001b[39;00m\u001b[39mpytorch\u001b[39;00m \u001b[39mimport\u001b[39;00m ToTensorV2\n",
      "\u001b[1;31mModuleNotFoundError\u001b[0m: No module named 'tqdm'"
     ]
    }
   ],
   "source": [
    "import os\n",
    "import cv2\n",
    "from PIL import Image\n",
    "import pandas as pd\n",
    "import numpy as np\n",
    "\n",
    "import torch\n",
    "import torch.nn as nn\n",
    "import torch.nn.functional as F\n",
    "from torch.utils.data import Dataset, DataLoader\n",
    "from torchvision import transforms\n",
    "from torch.optim.lr_scheduler import _LRScheduler\n",
    "\n",
    "from tqdm import tqdm\n",
    "import albumentations as A\n",
    "from albumentations.pytorch import ToTensorV2\n",
    "\n",
    "from torchvision import models\n",
    "from torchsummary import summary\n",
    "\n",
    "# GPU 사용이 가능할 경우, GPU를 사용할 수 있게 함.'\n",
    "os.environ['CUDA_VISIBLE_DEVICES'] = '0'\n",
    "device = \"cuda\" if torch.cuda.is_available() else \"cpu\"\n",
    "device = torch.device(device)\n",
    "print(device)\n",
    "\n",
    "print(os.environ.get('CUDA_VISIBLE_DEVICES'))"
   ]
  },
  {
   "attachments": {},
   "cell_type": "markdown",
   "id": "20ff3de5-0d0e-497b-ac75-d5179a3f65d3",
   "metadata": {},
   "source": [
    "## Utils"
   ]
  },
  {
   "cell_type": "code",
   "execution_count": 2,
   "id": "838e1d83-8670-407b-82f6-bf9652f58639",
   "metadata": {},
   "outputs": [],
   "source": [
    "# RLE 인코딩 함수\n",
    "def rle_encode(mask):\n",
    "    pixels = mask.flatten()\n",
    "    pixels = np.concatenate([[0], pixels, [0]])\n",
    "    runs = np.where(pixels[1:] != pixels[:-1])[0] + 1\n",
    "    runs[1::2] -= runs[::2]\n",
    "    return ' '.join(str(x) for x in runs)\n",
    "\n",
    "# 클래스별 IoU를 계산하기 위한 함수\n",
    "def calculate_iou_per_class(y_true, y_pred, class_id):\n",
    "    intersection = np.sum((y_true == class_id) & (y_pred == class_id))\n",
    "    union = np.sum((y_true == class_id) | (y_pred == class_id))\n",
    "    iou = intersection / union if union > 0 else 0\n",
    "    return iou"
   ]
  },
  {
   "attachments": {},
   "cell_type": "markdown",
   "id": "be76a29e-e9c2-411a-a569-04166f074184",
   "metadata": {},
   "source": [
    "## Dataset, Data Loader"
   ]
  },
  {
   "cell_type": "code",
   "execution_count": 3,
   "id": "a8496767-2f64-4285-bec4-c6f53a1fd9d2",
   "metadata": {},
   "outputs": [],
   "source": [
    "class CustomDataset(Dataset):\n",
    "    def __init__(self, csv_file, transform=None, infer=False):\n",
    "        self.data = pd.read_csv(csv_file)\n",
    "        self.transform = transform\n",
    "        self.infer = infer\n",
    "\n",
    "    def __len__(self):\n",
    "        return len(self.data)\n",
    "\n",
    "    def __getitem__(self, idx):\n",
    "        directory_path = \"/mnt/nas27/Dataset/Samsung_DM\"\n",
    "        img_path = self.data.iloc[idx, 1]\n",
    "        img_path = os.path.join(directory_path, img_path[2:])\n",
    "        image = cv2.imread(img_path)\n",
    "        image = cv2.cvtColor(image, cv2.COLOR_BGR2RGB)\n",
    "        #image = cv2.cvtColor(image, cv2.COLOR_BGR2GRAY)\n",
    "        \n",
    "        if self.infer:\n",
    "            if self.transform:\n",
    "                image = self.transform(image=image)['image']\n",
    "            return image\n",
    "        \n",
    "        mask_path = self.data.iloc[idx, 2]\n",
    "        mask_path = os.path.join(directory_path, mask_path[2:])\n",
    "        mask = cv2.imread(mask_path)\n",
    "        #mask = cv2.cvtColor(mask, cv2.COLOR_BGR2RGB)\n",
    "        mask = cv2.cvtColor(mask, cv2.COLOR_BGR2GRAY)\n",
    "        mask[mask == 255] = 12 #배경을 픽셀값 12로 간주\n",
    "\n",
    "        if self.transform:\n",
    "            augmented = self.transform(image=image, mask=mask)\n",
    "            image = augmented['image']\n",
    "            mask = augmented['mask']\n",
    "\n",
    "        return image, mask\n",
    "    \n",
    "    # 이미지 전처리 클래스\n",
    "class ImageTransform():\n",
    "  \"\"\"\n",
    "  훈련, 검증 동작 다르게 설정\n",
    "  이미지 크기 resize, 색상 표준화\n",
    "  훈련시 RandomResizedCrop, RandomHorizontalFilp으로 데이터 확장\n",
    "  \"\"\"\n",
    "  def __init__(self, resize, mean, std):\n",
    "    self.data_transform = {\n",
    "        'train' : transforms.Compose([\n",
    "            #transforms.RandomResizedCrop(\n",
    "            #    resize, scale = (0.5, 1.0)), # 데이터 확장\n",
    "            transforms.RandomHorizontalFlip(), # 데이터 확장\n",
    "            transforms.ToTensor(), # Tensor로 변환\n",
    "            transforms.Normalize(mean = mean, std = std) #표준화\n",
    "        ]),\n",
    "        'test': transforms.Compose([\n",
    "            #transforms.Resize(resize), # Resize\n",
    "            #transforms.CenterCrop(resize), # 중앙을 resize*resize로 crop\n",
    "            transforms.ToTensor(), # Tensor로 변환\n",
    "            transforms.Normalize(mean = mean, std = std) # 표준화\n",
    "        ])\n",
    "\n",
    "    }\n",
    "  def __call__(self, img, phase = 'train'):\n",
    "    \"\"\"\n",
    "    phase : 'train' or 'test'\n",
    "    전처리 모드 지정\n",
    "    \"\"\"\n",
    "    return self.data_transform[phase](img)\n",
    "\n",
    "\n",
    "transform = A.Compose(\n",
    "    [   \n",
    "        #A.Resize(224, 224),\n",
    "        A.Resize(256, 256),\n",
    "        A.Normalize(),\n",
    "        \n",
    "        # 변형\n",
    "        A.VerticalFlip(p=0.5),\n",
    "        # A.RandomRotate90(p=0.5),\n",
    "        A.HueSaturationValue(p=0.2),\n",
    "        \n",
    "        ToTensorV2()\n",
    "    ]\n",
    ")"
   ]
  },
  {
   "cell_type": "markdown",
   "id": "3a91d6b1",
   "metadata": {},
   "source": [
    "Warmup"
   ]
  },
  {
   "cell_type": "code",
   "execution_count": 4,
   "id": "d9e62c6d",
   "metadata": {},
   "outputs": [],
   "source": [
    "class WarmUpLR(_LRScheduler):\n",
    "    def __init__(self, optimizer, total_iters, last_epoch=-1):\n",
    "        self.total_iters = total_iters\n",
    "        super(WarmUpLR, self).__init__(optimizer, last_epoch)\n",
    "\n",
    "    def get_lr(self):\n",
    "        return [base_lr * self.last_epoch / self.total_iters for base_lr in self.base_lrs]\n"
   ]
  },
  {
   "attachments": {},
   "cell_type": "markdown",
   "id": "f42501fc-b573-4893-a7c4-5e280dfdaf09",
   "metadata": {},
   "source": [
    "## Define Model"
   ]
  },
  {
   "cell_type": "code",
   "execution_count": 5,
   "id": "65960bfb-803a-4c40-b713-6f647779e4ea",
   "metadata": {},
   "outputs": [],
   "source": [
    "class Decoder(nn.Module):\n",
    "    def __init__(self, in_channel, mid_channel, out_channel):\n",
    "        super(Decoder, self).__init__()\n",
    "        \n",
    "        self.conv = nn.Conv2d(in_channel, mid_channel, kernel_size=3, stride=1, padding=1) #keep ratio\n",
    "        self.conv_trans = nn.ConvTranspose2d(mid_channel, out_channel, kernel_size=4, stride=2, padding=1)\n",
    "        \n",
    "    def forward(self, x):\n",
    "        x = F.relu(self.conv(x), inplace=True)\n",
    "        x = F.relu(self.conv_trans(x), inplace=True)\n",
    "        return x\n",
    "    \n",
    "class Unet_resnet18(nn.Module):\n",
    "    def __init__(self, n_classes):\n",
    "        super(Unet_resnet18, self).__init__()\n",
    "        \n",
    "        #encoder\n",
    "        self.encoder = models.resnet18(pretrained=False)\n",
    "        \n",
    "        self.pool = nn.MaxPool2d(2, 2)\n",
    "        self.conv1 = nn.Sequential(self.encoder.conv1, self.encoder.bn1,\n",
    "                                  self.encoder.relu, self.pool) #64\n",
    "        self.conv2 = self.encoder.layer1 #64\n",
    "        self.conv3 = self.encoder.layer2 #128\n",
    "        self.conv4 = self.encoder.layer3 #256\n",
    "        self.conv5 = self.encoder.layer4 #depth 512\n",
    "        \n",
    "        #center\n",
    "        self.center = Decoder(512, 312, 256)\n",
    "        \n",
    "        #decoder\n",
    "        self.decoder5 = Decoder(256+512, 256, 256)\n",
    "        self.decoder4 = Decoder(256+256, 128, 128)\n",
    "        self.decoder3 = Decoder(128+128, 64, 64)\n",
    "        self.decoder2 = Decoder(64+64, 32, 32)\n",
    "        self.decoder1 = Decoder(32, 16, 16)\n",
    "        self.decoder0 = nn.Conv2d(in_channels=16, out_channels=8, kernel_size=3, stride=1, padding=1)\n",
    "        \n",
    "        self.final = nn.Conv2d(8, n_classes, kernel_size=1)\n",
    "        \n",
    "    def forward(self, x):\n",
    "        \n",
    "        #encoder\n",
    "        conv1 = self.conv1(x) #64x64\n",
    "        conv2 = self.conv2(conv1) #32x32\n",
    "        conv3 = self.conv3(conv2) #16x16\n",
    "        conv4 = self.conv4(conv3) #8x8\n",
    "        conv5 = self.conv5(conv4) #4x4\n",
    "        \n",
    "        center = self.center(self.pool(conv5)) #4x4\n",
    "        #decoder\n",
    "        dec5 = self.decoder5(torch.cat([center, conv5], 1)) #8x8\n",
    "        dec4 = self.decoder4(torch.cat([dec5, conv4], 1)) #16x16\n",
    "        dec3 = self.decoder3(torch.cat([dec4, conv3], 1)) #32x32\n",
    "        dec2 = self.decoder2(torch.cat([dec3, conv2], 1)) #64x64\n",
    "        dec1 = self.decoder1(dec2) #128x128\n",
    "        dec0 = F.relu(self.decoder0(dec1))\n",
    "        \n",
    "        final = torch.softmax(self.final(dec0), dim = 1)\n",
    "        \n",
    "        return final"
   ]
  },
  {
   "cell_type": "markdown",
   "id": "afdb7c3b",
   "metadata": {},
   "source": [
    "## ResNet50"
   ]
  },
  {
   "cell_type": "code",
   "execution_count": 6,
   "id": "3ffae43f",
   "metadata": {},
   "outputs": [],
   "source": [
    "import torch.nn as nn\n",
    "\n",
    "class Bottleneck(nn.Module):\n",
    "    # Bottleneck 모듈: ResNet50/101/152에서 사용되는 기본 블록.\n",
    "    expansion = 4\n",
    "\n",
    "    def __init__(self, in_channels, out_channels, stride=1, downsample=None):\n",
    "        super(Bottleneck, self).__init__()\n",
    "        \n",
    "        # 1x1 합성곱\n",
    "        self.conv1 = nn.Conv2d(in_channels, out_channels, kernel_size=1, stride=stride, bias=False)\n",
    "        self.bn1 = nn.BatchNorm2d(out_channels)\n",
    "        \n",
    "        # 3x3 합성곱\n",
    "        self.conv2 = nn.Conv2d(out_channels, out_channels, kernel_size=3, stride=1, padding=1, bias=False)\n",
    "        self.bn2 = nn.BatchNorm2d(out_channels)\n",
    "        \n",
    "        # 1x1 합성곱. 채널 수를 `expansion`만큼 증가시킴.\n",
    "        self.conv3 = nn.Conv2d(out_channels, out_channels * self.expansion, kernel_size=1, bias=False)\n",
    "        self.bn3 = nn.BatchNorm2d(out_channels * self.expansion)\n",
    "        \n",
    "        self.relu = nn.ReLU(inplace=True)\n",
    "        self.downsample = downsample\n",
    "        self.stride = stride\n",
    "\n",
    "    def forward(self, x):\n",
    "        identity = x\n",
    "\n",
    "        # 첫 번째 1x1 합성곱\n",
    "        out = self.conv1(x)\n",
    "        out = self.bn1(out)\n",
    "        out = self.relu(out)\n",
    "\n",
    "        # 3x3 합성곱\n",
    "        out = self.conv2(out)\n",
    "        out = self.bn2(out)\n",
    "        out = self.relu(out)\n",
    "\n",
    "        # 두 번째 1x1 합성곱\n",
    "        out = self.conv3(out)\n",
    "        out = self.bn3(out)\n",
    "\n",
    "        # downsample이 제공되면 identity(스킵 연결)를 조정\n",
    "        if self.downsample is not None:\n",
    "            identity = self.downsample(x)\n",
    "\n",
    "        # 스킵 연결 추가\n",
    "        out += identity\n",
    "        out = self.relu(out)\n",
    "\n",
    "        return out\n",
    "\n",
    "class ResNet50(nn.Module):\n",
    "    def __init__(self, num_classes=1000):\n",
    "        super(ResNet50, self).__init__()\n",
    "        self.in_channels = 64\n",
    "\n",
    "        # 초기 합성곱 및 최대 풀링\n",
    "        self.conv1 = nn.Conv2d(3, 64, kernel_size=7, stride=2, padding=3, bias=False)\n",
    "        self.bn1 = nn.BatchNorm2d(64)\n",
    "        self.relu = nn.ReLU(inplace=True)\n",
    "        self.maxpool = nn.MaxPool2d(kernel_size=3, stride=2, padding=1)\n",
    "\n",
    "        # ResNet 레이어들\n",
    "        self.layer1 = self._make_layer(64, 3)\n",
    "        self.layer2 = self._make_layer(128, 4, stride=2)\n",
    "        self.layer3 = self._make_layer(256, 6, stride=2)\n",
    "        self.layer4 = self._make_layer(512, 3, stride=2)\n",
    "\n",
    "        # 평균 풀링 및 분류를 위한 완전 연결 계층\n",
    "        self.avgpool = nn.AdaptiveAvgPool2d((1, 1))\n",
    "        self.fc = nn.Linear(512 * Bottleneck.expansion, num_classes)\n",
    "\n",
    "    def _make_layer(self, out_channels, blocks, stride=1):\n",
    "        # 여러 블록의 레이어 생성\n",
    "        downsample = None\n",
    "        if stride != 1 or self.in_channels != out_channels * Bottleneck.expansion:\n",
    "            downsample = nn.Sequential(\n",
    "                nn.Conv2d(self.in_channels, out_channels * Bottleneck.expansion, kernel_size=1, stride=stride, bias=False),\n",
    "                nn.BatchNorm2d(out_channels * Bottleneck.expansion),\n",
    "            )\n",
    "\n",
    "        layers = []\n",
    "        layers.append(Bottleneck(self.in_channels, out_channels, stride, downsample))\n",
    "        self.in_channels = out_channels * Bottleneck.expansion\n",
    "        for _ in range(1, blocks):\n",
    "            layers.append(Bottleneck(self.in_channels, out_channels))\n",
    "\n",
    "        return nn.Sequential(*layers)\n",
    "\n",
    "    def forward(self, x):\n",
    "        # 초기 계층들\n",
    "        x = self.conv1(x)\n",
    "        x = self.bn1(x)\n",
    "        x = self.relu(x)\n",
    "        x = self.maxpool(x)\n",
    "\n",
    "        # ResNet 블록들\n",
    "        x = self.layer1(x)\n",
    "        x = self.layer2(x)\n",
    "        x = self.layer3(x)\n",
    "        x = self.layer4(x)\n",
    "\n",
    "        # 평균 풀링 및 분류를 위한 완전 연결 계층\n",
    "        x = self.avgpool(x)\n",
    "        x = torch.flatten(x, 1)\n",
    "        x = self.fc(x)\n",
    "\n",
    "        return x"
   ]
  },
  {
   "cell_type": "code",
   "execution_count": 7,
   "id": "baf22f4a",
   "metadata": {},
   "outputs": [],
   "source": [
    "import torch.nn as nn\n",
    "import torchvision.models as models\n",
    "\n",
    "class UNetWithResnet50Encoder(nn.Module):\n",
    "    def __init__(self, n_classes):\n",
    "        super().__init__()\n",
    "        \n",
    "        # ResNet50 백본을 불러옵니다.\n",
    "        self.resnet = models.resnet50(pretrained=True)\n",
    "        \n",
    "        # 인코더 부분\n",
    "        self.encoder0 = nn.Sequential(\n",
    "            self.resnet.conv1,\n",
    "            self.resnet.bn1,\n",
    "            self.resnet.relu,\n",
    "            self.resnet.maxpool\n",
    "        )\n",
    "        self.encoder1 = self.resnet.layer1\n",
    "        self.encoder2 = self.resnet.layer2\n",
    "        self.encoder3 = self.resnet.layer3\n",
    "        self.encoder4 = self.resnet.layer4\n",
    "        \n",
    "        # 중간 컨볼루션\n",
    "        self.middle_conv = nn.Conv2d(2048, 1024, kernel_size=3, padding=1)\n",
    "        \n",
    "        # 디코더 부분\n",
    "        self.decoder3 = nn.ConvTranspose2d(1024, 512, kernel_size=2, stride=2)\n",
    "        self.decoder2 = nn.ConvTranspose2d(512, 256, kernel_size=2, stride=2)\n",
    "        self.decoder1 = nn.ConvTranspose2d(256, 64, kernel_size=2, stride=2)\n",
    "        self.decoder0 = nn.ConvTranspose2d(64, n_classes, kernel_size=2, stride=2)\n",
    "        self.final_upsample = nn.ConvTranspose2d(n_classes, n_classes, kernel_size=2, stride=2)  # 추가된 업샘플링 레이어\n",
    "        \n",
    "    def forward(self, x):\n",
    "        # 인코더 부분\n",
    "        x0 = self.encoder0(x)\n",
    "        x1 = self.encoder1(x0)\n",
    "        x2 = self.encoder2(x1)\n",
    "        x3 = self.encoder3(x2)\n",
    "        x4 = self.encoder4(x3)\n",
    "        \n",
    "        # 중간 컨볼루션\n",
    "        middle = self.middle_conv(x4)\n",
    "        \n",
    "        # 디코더 부분\n",
    "        d3 = self.decoder3(middle)\n",
    "        d2 = self.decoder2(d3)\n",
    "        d1 = self.decoder1(d2)\n",
    "        d0 = self.decoder0(d1)\n",
    "        out = self.final_upsample(d0)  # 최종 업샘플링\n",
    "        \n",
    "        return out\n",
    "\n",
    "# 예제로 사용\n",
    "model = UNetWithResnet50Encoder(n_classes=13)\n"
   ]
  },
  {
   "cell_type": "code",
   "execution_count": 8,
   "id": "dd34483e",
   "metadata": {},
   "outputs": [],
   "source": [
    "torch.cuda.empty_cache()\n",
    "LR = 0.0001\n",
    "EP = 20\n",
    "BATCH_SIZE = 64\n",
    "N_CLASSES = 13 #IoU 점수측정하기 위한 클래스의 개수\n",
    "WUP_ITERS = 15  # 웜업을 위한 반복 횟수\n",
    "# model 초기화\n",
    "#model = Unet_resnet18(n_classes = N_CLASSES).to(device)\n",
    "#model = ResNet50(num_classes=N_CLASSES).to(device)\n",
    "model = UNetWithResnet50Encoder(n_classes = N_CLASSES).to(device)\n",
    "\n",
    "# loss function과 optimizer 정의\n",
    "criterion = torch.nn.CrossEntropyLoss()\n",
    "optimizer = torch.optim.Adam(model.parameters(), lr=LR)\n",
    "\n",
    "# Warmup을 위한 스케줄러 설정\n",
    "\n",
    "scheduler_warmup = WarmUpLR(optimizer, WUP_ITERS)\n",
    "\n",
    "dataset = CustomDataset(csv_file=os.path.join(\"/mnt/nas27/Dataset/Samsung_DM\",'./train_source.csv'), transform=transform)\n",
    "dataloader = DataLoader(dataset, batch_size=BATCH_SIZE, shuffle=True, num_workers=8)\n",
    "valid_dataset = CustomDataset(csv_file=os.path.join(\"/mnt/nas27/Dataset/Samsung_DM\",'./val_source.csv'), transform=transform)\n",
    "valid_dataloader = DataLoader(valid_dataset, batch_size=BATCH_SIZE, shuffle=False, num_workers=8)"
   ]
  },
  {
   "attachments": {},
   "cell_type": "markdown",
   "id": "a0895765-fba0-4fd9-b955-a6c0e43012e9",
   "metadata": {},
   "source": [
    "## Model Train"
   ]
  },
  {
   "cell_type": "code",
   "execution_count": 9,
   "id": "dec3e516",
   "metadata": {},
   "outputs": [
    {
     "name": "stderr",
     "output_type": "stream",
     "text": [
      "100%|██████████| 35/35 [01:21<00:00,  2.34s/it]\n"
     ]
    },
    {
     "name": "stdout",
     "output_type": "stream",
     "text": [
      "--IoU Scores Train--\n",
      "Class0: 0.0053 \n",
      "Class1: 0.0093 Class2: 0.0128 Class3: 0.0186 Class4: 0.0235 Class5: 0.0306 Class6: 0.0313 \n",
      "Class7: 0.0308 Class8: 0.0354 Class9: 0.0310 Class10: 0.0224 Class11: 0.0303 Class12: 0.0395 \n"
     ]
    },
    {
     "name": "stderr",
     "output_type": "stream",
     "text": [
      "100%|██████████| 8/8 [00:22<00:00,  2.80s/it]\n"
     ]
    },
    {
     "name": "stdout",
     "output_type": "stream",
     "text": [
      "--IoU Scores Valid--\n",
      "Class0: 0.0252 \n",
      "Class1: 0.0720 Class2: 0.0549 Class3: 0.0264 Class4: 0.0737 Class5: 0.0601 Class6: 0.0253 \n",
      "Class7: 0.0588 Class8: 0.0149 Class9: 0.0772 Class10: 0.0577 Class11: 0.0239 Class12: 0.0623 \n",
      "\n",
      "Epoch1\n",
      "Train Loss: 2.3587774072374614, Train mIoU Score: 0.0247\n",
      "Validation Loss: 2.0656035244464874, Validation mIoU Score: 0.0486\n",
      "___________________________________________________________________________________________\n",
      "\n"
     ]
    },
    {
     "name": "stderr",
     "output_type": "stream",
     "text": [
      "100%|██████████| 35/35 [01:21<00:00,  2.34s/it]\n"
     ]
    },
    {
     "name": "stdout",
     "output_type": "stream",
     "text": [
      "--IoU Scores Train--\n",
      "Class0: 0.0597 \n",
      "Class1: 0.0607 Class2: 0.0918 Class3: 0.0940 Class4: 0.0963 Class5: 0.1369 Class6: 0.1391 \n",
      "Class7: 0.1512 Class8: 0.1967 Class9: 0.1833 Class10: 0.2163 Class11: 0.2381 Class12: 0.2323 \n"
     ]
    },
    {
     "name": "stderr",
     "output_type": "stream",
     "text": [
      "100%|██████████| 8/8 [00:22<00:00,  2.79s/it]\n"
     ]
    },
    {
     "name": "stdout",
     "output_type": "stream",
     "text": [
      "--IoU Scores Valid--\n",
      "Class0: 0.1868 \n",
      "Class1: 0.3000 Class2: 0.1431 Class3: 0.2214 Class4: 0.3151 Class5: 0.2134 Class6: 0.2211 \n",
      "Class7: 0.1576 Class8: 0.2155 Class9: 0.3183 Class10: 0.2042 Class11: 0.2462 Class12: 0.2654 \n",
      "\n",
      "Epoch2\n",
      "Train Loss: 1.4714210714612688, Train mIoU Score: 0.1459\n",
      "Validation Loss: 1.0603463724255562, Validation mIoU Score: 0.2314\n",
      "___________________________________________________________________________________________\n",
      "\n"
     ]
    },
    {
     "name": "stderr",
     "output_type": "stream",
     "text": [
      "100%|██████████| 35/35 [01:22<00:00,  2.35s/it]\n"
     ]
    },
    {
     "name": "stdout",
     "output_type": "stream",
     "text": [
      "--IoU Scores Train--\n",
      "Class0: 0.2306 \n",
      "Class1: 0.2412 Class2: 0.2711 Class3: 0.2353 Class4: 0.2652 Class5: 0.2982 Class6: 0.2492 \n",
      "Class7: 0.2835 Class8: 0.3180 Class9: 0.2638 Class10: 0.3076 Class11: 0.3031 Class12: 0.2927 \n"
     ]
    },
    {
     "name": "stderr",
     "output_type": "stream",
     "text": [
      "100%|██████████| 8/8 [00:22<00:00,  2.82s/it]\n"
     ]
    },
    {
     "name": "stdout",
     "output_type": "stream",
     "text": [
      "--IoU Scores Valid--\n",
      "Class0: 0.1672 \n",
      "Class1: 0.3486 Class2: 0.1533 Class3: 0.2634 Class4: 0.3305 Class5: 0.1957 Class6: 0.2544 \n",
      "Class7: 0.1696 Class8: 0.2151 Class9: 0.3602 Class10: 0.2063 Class11: 0.2854 Class12: 0.2898 \n",
      "\n",
      "Epoch3\n",
      "Train Loss: 0.8632301415715898, Train mIoU Score: 0.2738\n",
      "Validation Loss: 1.2692877054214478, Validation mIoU Score: 0.2492\n",
      "___________________________________________________________________________________________\n",
      "\n"
     ]
    },
    {
     "name": "stderr",
     "output_type": "stream",
     "text": [
      "100%|██████████| 35/35 [01:22<00:00,  2.35s/it]\n"
     ]
    },
    {
     "name": "stdout",
     "output_type": "stream",
     "text": [
      "--IoU Scores Train--\n",
      "Class0: 0.2969 \n",
      "Class1: 0.2955 Class2: 0.3302 Class3: 0.2836 Class4: 0.2937 Class5: 0.3334 Class6: 0.3005 \n",
      "Class7: 0.3052 Class8: 0.3458 Class9: 0.2955 Class10: 0.3219 Class11: 0.3478 Class12: 0.3077 \n"
     ]
    },
    {
     "name": "stderr",
     "output_type": "stream",
     "text": [
      "100%|██████████| 8/8 [00:22<00:00,  2.76s/it]\n"
     ]
    },
    {
     "name": "stdout",
     "output_type": "stream",
     "text": [
      "--IoU Scores Valid--\n",
      "Class0: 0.2266 \n",
      "Class1: 0.3923 Class2: 0.1712 Class3: 0.3184 Class4: 0.4394 Class5: 0.2673 Class6: 0.3428 \n",
      "Class7: 0.2447 Class8: 0.2455 Class9: 0.3762 Class10: 0.2478 Class11: 0.3254 Class12: 0.3456 \n",
      "\n",
      "Epoch4\n",
      "Train Loss: 0.6942354117121016, Train mIoU Score: 0.3121\n",
      "Validation Loss: 0.6964598819613457, Validation mIoU Score: 0.3033\n",
      "___________________________________________________________________________________________\n",
      "\n"
     ]
    },
    {
     "name": "stderr",
     "output_type": "stream",
     "text": [
      "100%|██████████| 35/35 [01:21<00:00,  2.33s/it]\n"
     ]
    },
    {
     "name": "stdout",
     "output_type": "stream",
     "text": [
      "--IoU Scores Train--\n",
      "Class0: 0.3248 \n",
      "Class1: 0.3250 Class2: 0.3441 Class3: 0.3158 Class4: 0.3459 Class5: 0.3575 Class6: 0.3366 \n",
      "Class7: 0.3682 Class8: 0.3910 Class9: 0.3455 Class10: 0.3764 Class11: 0.3879 Class12: 0.3751 \n"
     ]
    },
    {
     "name": "stderr",
     "output_type": "stream",
     "text": [
      "100%|██████████| 8/8 [00:22<00:00,  2.75s/it]\n"
     ]
    },
    {
     "name": "stdout",
     "output_type": "stream",
     "text": [
      "--IoU Scores Valid--\n",
      "Class0: 0.2760 \n",
      "Class1: 0.3901 Class2: 0.1917 Class3: 0.3458 Class4: 0.4690 Class5: 0.2953 Class6: 0.3722 \n",
      "Class7: 0.2375 Class8: 0.3092 Class9: 0.4197 Class10: 0.2783 Class11: 0.3767 Class12: 0.3944 \n",
      "\n",
      "Epoch5\n",
      "Train Loss: 0.5688344742570605, Train mIoU Score: 0.3534\n",
      "Validation Loss: 0.6348226964473724, Validation mIoU Score: 0.3351\n",
      "___________________________________________________________________________________________\n",
      "\n"
     ]
    },
    {
     "name": "stderr",
     "output_type": "stream",
     "text": [
      "100%|██████████| 35/35 [01:21<00:00,  2.33s/it]\n"
     ]
    },
    {
     "name": "stdout",
     "output_type": "stream",
     "text": [
      "--IoU Scores Train--\n",
      "Class0: 0.3843 \n",
      "Class1: 0.3619 Class2: 0.3986 Class3: 0.3683 Class4: 0.4093 Class5: 0.4101 Class6: 0.3838 \n",
      "Class7: 0.4180 Class8: 0.4320 Class9: 0.3745 Class10: 0.4043 Class11: 0.4454 Class12: 0.3834 \n"
     ]
    },
    {
     "name": "stderr",
     "output_type": "stream",
     "text": [
      "100%|██████████| 8/8 [00:22<00:00,  2.81s/it]\n"
     ]
    },
    {
     "name": "stdout",
     "output_type": "stream",
     "text": [
      "--IoU Scores Valid--\n",
      "Class0: 0.2996 \n",
      "Class1: 0.4731 Class2: 0.2328 Class3: 0.3737 Class4: 0.4473 Class5: 0.3285 Class6: 0.3833 \n",
      "Class7: 0.2478 Class8: 0.3401 Class9: 0.4576 Class10: 0.2683 Class11: 0.3574 Class12: 0.3816 \n",
      "\n",
      "Epoch6\n",
      "Train Loss: 0.5070078713553292, Train mIoU Score: 0.3980\n",
      "Validation Loss: 0.59841712936759, Validation mIoU Score: 0.3532\n",
      "___________________________________________________________________________________________\n",
      "\n"
     ]
    },
    {
     "name": "stderr",
     "output_type": "stream",
     "text": [
      "100%|██████████| 35/35 [01:22<00:00,  2.34s/it]\n"
     ]
    },
    {
     "name": "stdout",
     "output_type": "stream",
     "text": [
      "--IoU Scores Train--\n",
      "Class0: 0.4369 \n",
      "Class1: 0.4213 Class2: 0.4295 Class3: 0.3956 Class4: 0.3899 Class5: 0.4471 Class6: 0.3902 \n",
      "Class7: 0.4042 Class8: 0.4439 Class9: 0.3783 Class10: 0.4424 Class11: 0.4507 Class12: 0.4123 \n"
     ]
    },
    {
     "name": "stderr",
     "output_type": "stream",
     "text": [
      "100%|██████████| 8/8 [00:22<00:00,  2.80s/it]\n"
     ]
    },
    {
     "name": "stdout",
     "output_type": "stream",
     "text": [
      "--IoU Scores Valid--\n",
      "Class0: 0.3207 \n",
      "Class1: 0.4541 Class2: 0.2077 Class3: 0.3725 Class4: 0.4355 Class5: 0.2871 Class6: 0.3251 \n",
      "Class7: 0.2167 Class8: 0.3134 Class9: 0.4460 Class10: 0.2670 Class11: 0.3706 Class12: 0.3628 \n",
      "\n",
      "Epoch7\n",
      "Train Loss: 0.49657372406550815, Train mIoU Score: 0.4186\n",
      "Validation Loss: 0.6655154898762703, Validation mIoU Score: 0.3369\n",
      "___________________________________________________________________________________________\n",
      "\n"
     ]
    },
    {
     "name": "stderr",
     "output_type": "stream",
     "text": [
      "100%|██████████| 35/35 [01:21<00:00,  2.34s/it]\n"
     ]
    },
    {
     "name": "stdout",
     "output_type": "stream",
     "text": [
      "--IoU Scores Train--\n",
      "Class0: 0.4045 \n",
      "Class1: 0.4185 Class2: 0.4262 Class3: 0.4059 Class4: 0.4145 Class5: 0.4057 Class6: 0.3884 \n",
      "Class7: 0.4250 Class8: 0.4612 Class9: 0.3791 Class10: 0.4510 Class11: 0.4452 Class12: 0.4215 \n"
     ]
    },
    {
     "name": "stderr",
     "output_type": "stream",
     "text": [
      "100%|██████████| 8/8 [00:22<00:00,  2.84s/it]\n"
     ]
    },
    {
     "name": "stdout",
     "output_type": "stream",
     "text": [
      "--IoU Scores Valid--\n",
      "Class0: 0.3343 \n",
      "Class1: 0.4565 Class2: 0.2004 Class3: 0.3676 Class4: 0.4248 Class5: 0.2939 Class6: 0.4179 \n",
      "Class7: 0.2693 Class8: 0.3292 Class9: 0.4430 Class10: 0.2700 Class11: 0.4151 Class12: 0.3632 \n",
      "\n",
      "Epoch8\n",
      "Train Loss: 0.5041009800774711, Train mIoU Score: 0.4190\n",
      "Validation Loss: 0.6045257747173309, Validation mIoU Score: 0.3527\n",
      "___________________________________________________________________________________________\n",
      "\n"
     ]
    },
    {
     "name": "stderr",
     "output_type": "stream",
     "text": [
      "100%|██████████| 35/35 [01:22<00:00,  2.36s/it]\n"
     ]
    },
    {
     "name": "stdout",
     "output_type": "stream",
     "text": [
      "--IoU Scores Train--\n",
      "Class0: 0.4325 \n",
      "Class1: 0.4417 Class2: 0.4493 Class3: 0.4384 Class4: 0.4244 Class5: 0.4464 Class6: 0.4236 \n",
      "Class7: 0.4669 Class8: 0.4828 Class9: 0.4112 Class10: 0.4563 Class11: 0.4649 Class12: 0.4353 \n"
     ]
    },
    {
     "name": "stderr",
     "output_type": "stream",
     "text": [
      "100%|██████████| 8/8 [00:22<00:00,  2.78s/it]\n"
     ]
    },
    {
     "name": "stdout",
     "output_type": "stream",
     "text": [
      "--IoU Scores Valid--\n",
      "Class0: 0.2344 \n",
      "Class1: 0.3746 Class2: 0.1284 Class3: 0.3122 Class4: 0.3263 Class5: 0.1640 Class6: 0.2861 \n",
      "Class7: 0.1523 Class8: 0.2418 Class9: 0.3248 Class10: 0.1551 Class11: 0.3021 Class12: 0.2807 \n",
      "\n",
      "Epoch9\n",
      "Train Loss: 0.45577874779701233, Train mIoU Score: 0.4441\n",
      "Validation Loss: 59.088518142700195, Validation mIoU Score: 0.2525\n",
      "___________________________________________________________________________________________\n",
      "\n"
     ]
    },
    {
     "name": "stderr",
     "output_type": "stream",
     "text": [
      "100%|██████████| 35/35 [01:38<00:00,  2.82s/it]\n"
     ]
    },
    {
     "name": "stdout",
     "output_type": "stream",
     "text": [
      "--IoU Scores Train--\n",
      "Class0: 0.4303 \n",
      "Class1: 0.4389 Class2: 0.4315 Class3: 0.4213 Class4: 0.4313 Class5: 0.4057 Class6: 0.3813 \n",
      "Class7: 0.3583 Class8: 0.3076 Class9: 0.2288 Class10: 0.1181 Class11: 0.0505 Class12: 0.0469 \n"
     ]
    },
    {
     "name": "stderr",
     "output_type": "stream",
     "text": [
      "100%|██████████| 8/8 [00:30<00:00,  3.80s/it]\n"
     ]
    },
    {
     "name": "stdout",
     "output_type": "stream",
     "text": [
      "--IoU Scores Valid--\n",
      "Class0: 0.0105 \n",
      "Class1: 0.0238 Class2: 0.0042 Class3: 0.0265 Class4: 0.0239 Class5: 0.0041 Class6: 0.0276 \n",
      "Class7: 0.0047 Class8: 0.0241 Class9: 0.0230 Class10: 0.0035 Class11: 0.0254 Class12: 0.0180 \n",
      "\n",
      "Epoch10\n",
      "Train Loss: 1.9115128670419965, Train mIoU Score: 0.3116\n",
      "Validation Loss: 486649.125, Validation mIoU Score: 0.0169\n",
      "___________________________________________________________________________________________\n",
      "\n"
     ]
    },
    {
     "name": "stderr",
     "output_type": "stream",
     "text": [
      "100%|██████████| 35/35 [01:54<00:00,  3.28s/it]\n"
     ]
    },
    {
     "name": "stdout",
     "output_type": "stream",
     "text": [
      "--IoU Scores Train--\n",
      "Class0: 0.0328 \n",
      "Class1: 0.0285 Class2: 0.0384 Class3: 0.0344 Class4: 0.0340 Class5: 0.0398 Class6: 0.0372 \n",
      "Class7: 0.0373 Class8: 0.0520 Class9: 0.0469 Class10: 0.0557 Class11: 0.0691 Class12: 0.0770 \n"
     ]
    },
    {
     "name": "stderr",
     "output_type": "stream",
     "text": [
      "100%|██████████| 8/8 [00:22<00:00,  2.80s/it]\n"
     ]
    },
    {
     "name": "stdout",
     "output_type": "stream",
     "text": [
      "--IoU Scores Valid--\n",
      "Class0: 0.0289 \n",
      "Class1: 0.0842 Class2: 0.0287 Class3: 0.0577 Class4: 0.0674 Class5: 0.0438 Class6: 0.0543 \n",
      "Class7: 0.0316 Class8: 0.0524 Class9: 0.0699 Class10: 0.0425 Class11: 0.0544 Class12: 0.0476 \n",
      "\n",
      "Epoch11\n",
      "Train Loss: 2.572657288823809, Train mIoU Score: 0.0449\n",
      "Validation Loss: 10.806888341903687, Validation mIoU Score: 0.0510\n",
      "___________________________________________________________________________________________\n",
      "\n"
     ]
    },
    {
     "name": "stderr",
     "output_type": "stream",
     "text": [
      "100%|██████████| 35/35 [01:21<00:00,  2.34s/it]\n"
     ]
    },
    {
     "name": "stdout",
     "output_type": "stream",
     "text": [
      "--IoU Scores Train--\n",
      "Class0: 0.0812 \n",
      "Class1: 0.1069 Class2: 0.1111 Class3: 0.0936 Class4: 0.1141 Class5: 0.1277 Class6: 0.1108 \n",
      "Class7: 0.1411 Class8: 0.1685 Class9: 0.1340 Class10: 0.1625 Class11: 0.1847 Class12: 0.1511 \n"
     ]
    },
    {
     "name": "stderr",
     "output_type": "stream",
     "text": [
      "100%|██████████| 8/8 [00:22<00:00,  2.79s/it]\n"
     ]
    },
    {
     "name": "stdout",
     "output_type": "stream",
     "text": [
      "--IoU Scores Valid--\n",
      "Class0: 0.0838 \n",
      "Class1: 0.2141 Class2: 0.0537 Class3: 0.1793 Class4: 0.1996 Class5: 0.0855 Class6: 0.1885 \n",
      "Class7: 0.0754 Class8: 0.1647 Class9: 0.1842 Class10: 0.0812 Class11: 0.1783 Class12: 0.1350 \n",
      "\n",
      "Epoch12\n",
      "Train Loss: 1.4650447368621826, Train mIoU Score: 0.1298\n",
      "Validation Loss: 1.4399659186601639, Validation mIoU Score: 0.1403\n",
      "___________________________________________________________________________________________\n",
      "\n"
     ]
    },
    {
     "name": "stderr",
     "output_type": "stream",
     "text": [
      "100%|██████████| 35/35 [01:46<00:00,  3.04s/it]\n"
     ]
    },
    {
     "name": "stdout",
     "output_type": "stream",
     "text": [
      "--IoU Scores Train--\n",
      "Class0: 0.1479 \n",
      "Class1: 0.1459 Class2: 0.1757 Class3: 0.1506 Class4: 0.1712 Class5: 0.1894 Class6: 0.1746 \n",
      "Class7: 0.1864 Class8: 0.2319 Class9: 0.1828 Class10: 0.2002 Class11: 0.2323 Class12: 0.2006 \n"
     ]
    },
    {
     "name": "stderr",
     "output_type": "stream",
     "text": [
      "100%|██████████| 8/8 [00:30<00:00,  3.79s/it]\n"
     ]
    },
    {
     "name": "stdout",
     "output_type": "stream",
     "text": [
      "--IoU Scores Valid--\n",
      "Class0: 0.1244 \n",
      "Class1: 0.2605 Class2: 0.1237 Class3: 0.2196 Class4: 0.2992 Class5: 0.1585 Class6: 0.2122 \n",
      "Class7: 0.1425 Class8: 0.1978 Class9: 0.2961 Class10: 0.1433 Class11: 0.1994 Class12: 0.2026 \n",
      "\n",
      "Epoch13\n",
      "Train Loss: 1.165574187891824, Train mIoU Score: 0.1838\n",
      "Validation Loss: 1.0130878612399101, Validation mIoU Score: 0.1985\n",
      "___________________________________________________________________________________________\n",
      "\n"
     ]
    },
    {
     "name": "stderr",
     "output_type": "stream",
     "text": [
      "100%|██████████| 35/35 [01:45<00:00,  3.02s/it]\n"
     ]
    },
    {
     "name": "stdout",
     "output_type": "stream",
     "text": [
      "--IoU Scores Train--\n",
      "Class0: 0.2006 \n",
      "Class1: 0.2083 Class2: 0.2315 Class3: 0.1855 Class4: 0.2086 Class5: 0.2289 Class6: 0.2104 \n",
      "Class7: 0.2071 Class8: 0.2443 Class9: 0.2036 Class10: 0.2380 Class11: 0.2506 Class12: 0.2263 \n"
     ]
    },
    {
     "name": "stderr",
     "output_type": "stream",
     "text": [
      "100%|██████████| 8/8 [00:22<00:00,  2.80s/it]\n"
     ]
    },
    {
     "name": "stdout",
     "output_type": "stream",
     "text": [
      "--IoU Scores Valid--\n",
      "Class0: 0.1695 \n",
      "Class1: 0.3063 Class2: 0.1383 Class3: 0.2347 Class4: 0.3456 Class5: 0.1964 Class6: 0.2396 \n",
      "Class7: 0.1714 Class8: 0.2096 Class9: 0.3335 Class10: 0.1777 Class11: 0.2302 Class12: 0.2427 \n",
      "\n",
      "Epoch14\n",
      "Train Loss: 0.9950905169759477, Train mIoU Score: 0.2187\n",
      "Validation Loss: 0.9453467652201653, Validation mIoU Score: 0.2304\n",
      "___________________________________________________________________________________________\n",
      "\n"
     ]
    },
    {
     "name": "stderr",
     "output_type": "stream",
     "text": [
      "100%|██████████| 35/35 [01:21<00:00,  2.34s/it]\n"
     ]
    },
    {
     "name": "stdout",
     "output_type": "stream",
     "text": [
      "--IoU Scores Train--\n",
      "Class0: 0.2332 \n",
      "Class1: 0.2354 Class2: 0.2575 Class3: 0.2199 Class4: 0.2318 Class5: 0.2521 Class6: 0.2192 \n",
      "Class7: 0.2215 Class8: 0.2765 Class9: 0.2185 Class10: 0.2674 Class11: 0.2712 Class12: 0.2504 \n"
     ]
    },
    {
     "name": "stderr",
     "output_type": "stream",
     "text": [
      "100%|██████████| 8/8 [00:22<00:00,  2.80s/it]\n"
     ]
    },
    {
     "name": "stdout",
     "output_type": "stream",
     "text": [
      "--IoU Scores Valid--\n",
      "Class0: 0.1822 \n",
      "Class1: 0.3361 Class2: 0.1403 Class3: 0.2368 Class4: 0.3319 Class5: 0.2017 Class6: 0.2352 \n",
      "Class7: 0.1703 Class8: 0.2278 Class9: 0.3607 Class10: 0.1855 Class11: 0.2244 Class12: 0.2291 \n",
      "\n",
      "Epoch15\n",
      "Train Loss: 0.9091101442064558, Train mIoU Score: 0.2427\n",
      "Validation Loss: 0.9331066086888313, Validation mIoU Score: 0.2355\n",
      "___________________________________________________________________________________________\n",
      "\n"
     ]
    },
    {
     "name": "stderr",
     "output_type": "stream",
     "text": [
      "100%|██████████| 35/35 [01:22<00:00,  2.35s/it]\n"
     ]
    },
    {
     "name": "stdout",
     "output_type": "stream",
     "text": [
      "--IoU Scores Train--\n",
      "Class0: 0.2488 \n",
      "Class1: 0.2489 Class2: 0.2649 Class3: 0.2364 Class4: 0.2560 Class5: 0.2724 Class6: 0.2468 \n",
      "Class7: 0.2461 Class8: 0.2895 Class9: 0.2408 Class10: 0.2631 Class11: 0.2691 Class12: 0.2539 \n"
     ]
    },
    {
     "name": "stderr",
     "output_type": "stream",
     "text": [
      "100%|██████████| 8/8 [00:22<00:00,  2.78s/it]\n"
     ]
    },
    {
     "name": "stdout",
     "output_type": "stream",
     "text": [
      "--IoU Scores Valid--\n",
      "Class0: 0.1820 \n",
      "Class1: 0.3366 Class2: 0.1460 Class3: 0.2608 Class4: 0.3474 Class5: 0.1967 Class6: 0.2388 \n",
      "Class7: 0.1632 Class8: 0.2338 Class9: 0.3529 Class10: 0.1813 Class11: 0.2583 Class12: 0.2637 \n",
      "\n",
      "Epoch16\n",
      "Train Loss: 0.8558588760239737, Train mIoU Score: 0.2567\n",
      "Validation Loss: 0.8558882772922516, Validation mIoU Score: 0.2432\n",
      "___________________________________________________________________________________________\n",
      "\n"
     ]
    },
    {
     "name": "stderr",
     "output_type": "stream",
     "text": [
      "100%|██████████| 35/35 [01:22<00:00,  2.35s/it]\n"
     ]
    },
    {
     "name": "stdout",
     "output_type": "stream",
     "text": [
      "--IoU Scores Train--\n",
      "Class0: 0.2470 \n",
      "Class1: 0.2567 Class2: 0.2964 Class3: 0.2385 Class4: 0.2702 Class5: 0.2776 Class6: 0.2455 \n",
      "Class7: 0.2714 Class8: 0.3033 Class9: 0.2478 Class10: 0.2638 Class11: 0.2783 Class12: 0.2777 \n"
     ]
    },
    {
     "name": "stderr",
     "output_type": "stream",
     "text": [
      "100%|██████████| 8/8 [00:22<00:00,  2.81s/it]\n"
     ]
    },
    {
     "name": "stdout",
     "output_type": "stream",
     "text": [
      "--IoU Scores Valid--\n",
      "Class0: 0.1901 \n",
      "Class1: 0.3490 Class2: 0.1530 Class3: 0.2647 Class4: 0.3608 Class5: 0.2261 Class6: 0.2645 \n",
      "Class7: 0.1761 Class8: 0.2467 Class9: 0.3770 Class10: 0.1875 Class11: 0.2777 Class12: 0.3122 \n",
      "\n",
      "Epoch17\n",
      "Train Loss: 0.8155975273677281, Train mIoU Score: 0.2672\n",
      "Validation Loss: 0.8163573890924454, Validation mIoU Score: 0.2604\n",
      "___________________________________________________________________________________________\n",
      "\n"
     ]
    },
    {
     "name": "stderr",
     "output_type": "stream",
     "text": [
      "100%|██████████| 35/35 [01:21<00:00,  2.32s/it]\n"
     ]
    },
    {
     "name": "stdout",
     "output_type": "stream",
     "text": [
      "--IoU Scores Train--\n",
      "Class0: 0.2626 \n",
      "Class1: 0.2700 Class2: 0.2716 Class3: 0.2570 Class4: 0.2657 Class5: 0.2899 Class6: 0.2606 \n",
      "Class7: 0.2736 Class8: 0.3153 Class9: 0.2486 Class10: 0.2859 Class11: 0.2970 Class12: 0.2985 \n"
     ]
    },
    {
     "name": "stderr",
     "output_type": "stream",
     "text": [
      "100%|██████████| 8/8 [00:22<00:00,  2.76s/it]\n"
     ]
    },
    {
     "name": "stdout",
     "output_type": "stream",
     "text": [
      "--IoU Scores Valid--\n",
      "Class0: 0.1857 \n",
      "Class1: 0.3509 Class2: 0.1553 Class3: 0.2709 Class4: 0.3722 Class5: 0.2094 Class6: 0.2647 \n",
      "Class7: 0.1769 Class8: 0.2274 Class9: 0.3402 Class10: 0.1842 Class11: 0.2703 Class12: 0.2925 \n",
      "\n",
      "Epoch18\n",
      "Train Loss: 0.7840318628719875, Train mIoU Score: 0.2766\n",
      "Validation Loss: 0.8495163843035698, Validation mIoU Score: 0.2539\n",
      "___________________________________________________________________________________________\n",
      "\n"
     ]
    },
    {
     "name": "stderr",
     "output_type": "stream",
     "text": [
      "100%|██████████| 35/35 [01:21<00:00,  2.34s/it]\n"
     ]
    },
    {
     "name": "stdout",
     "output_type": "stream",
     "text": [
      "--IoU Scores Train--\n",
      "Class0: 0.2957 \n",
      "Class1: 0.2804 Class2: 0.2917 Class3: 0.2478 Class4: 0.2854 Class5: 0.3223 Class6: 0.2724 \n",
      "Class7: 0.3107 Class8: 0.3270 Class9: 0.2716 Class10: 0.2996 Class11: 0.3115 Class12: 0.2810 \n"
     ]
    },
    {
     "name": "stderr",
     "output_type": "stream",
     "text": [
      "100%|██████████| 8/8 [00:22<00:00,  2.79s/it]\n"
     ]
    },
    {
     "name": "stdout",
     "output_type": "stream",
     "text": [
      "--IoU Scores Valid--\n",
      "Class0: 0.1846 \n",
      "Class1: 0.3629 Class2: 0.1474 Class3: 0.2738 Class4: 0.3629 Class5: 0.2149 Class6: 0.2717 \n",
      "Class7: 0.1688 Class8: 0.2347 Class9: 0.3604 Class10: 0.1993 Class11: 0.2820 Class12: 0.2669 \n",
      "\n",
      "Epoch19\n",
      "Train Loss: 0.7353889448302132, Train mIoU Score: 0.2921\n",
      "Validation Loss: 0.8817769661545753, Validation mIoU Score: 0.2562\n",
      "___________________________________________________________________________________________\n",
      "\n"
     ]
    },
    {
     "name": "stderr",
     "output_type": "stream",
     "text": [
      "100%|██████████| 35/35 [01:21<00:00,  2.34s/it]\n"
     ]
    },
    {
     "name": "stdout",
     "output_type": "stream",
     "text": [
      "--IoU Scores Train--\n",
      "Class0: 0.2881 \n",
      "Class1: 0.2706 Class2: 0.2521 Class3: 0.2385 Class4: 0.2627 Class5: 0.2816 Class6: 0.2525 \n",
      "Class7: 0.2886 Class8: 0.3018 Class9: 0.2692 Class10: 0.2943 Class11: 0.3127 Class12: 0.2925 \n"
     ]
    },
    {
     "name": "stderr",
     "output_type": "stream",
     "text": [
      "100%|██████████| 8/8 [00:22<00:00,  2.81s/it]"
     ]
    },
    {
     "name": "stdout",
     "output_type": "stream",
     "text": [
      "--IoU Scores Valid--\n",
      "Class0: 0.2073 \n",
      "Class1: 0.3668 Class2: 0.1459 Class3: 0.2935 Class4: 0.3746 Class5: 0.2030 Class6: 0.2788 \n",
      "Class7: 0.1843 Class8: 0.2516 Class9: 0.3726 Class10: 0.2174 Class11: 0.3195 Class12: 0.2716 \n",
      "\n",
      "Epoch20\n",
      "Train Loss: 0.803306474004473, Train mIoU Score: 0.2773\n",
      "Validation Loss: 0.8517498075962067, Validation mIoU Score: 0.2682\n",
      "___________________________________________________________________________________________\n",
      "\n"
     ]
    },
    {
     "name": "stderr",
     "output_type": "stream",
     "text": [
      "\n"
     ]
    }
   ],
   "source": [
    "import random\n",
    "\n",
    "\n",
    "for epoch in range(EP):\n",
    "    # 클래스별 IoU를 누적할 리스트 초기화\n",
    "    train_class_ious = []\n",
    "    # 학습\n",
    "    model.train()\n",
    "    epoch_loss = 0\n",
    "    for images, masks in tqdm(dataloader):\n",
    "        images = images.float().to(device)\n",
    "        masks = masks.long().to(device)\n",
    "\n",
    "        optimizer.zero_grad()\n",
    "        outputs = model(images)\n",
    "        loss = criterion(outputs, masks)\n",
    "        loss.backward()\n",
    "        optimizer.step()\n",
    "        \n",
    "         # Warmup 스케줄러 업데이트\n",
    "        if epoch < WUP_ITERS:\n",
    "            scheduler_warmup.step()\n",
    "            \n",
    "        epoch_loss += loss.item()\n",
    "\n",
    "        # train 클래스별 IoU 계산\n",
    "        outputs = torch.softmax(outputs, dim=1).cpu()\n",
    "        outputs = torch.argmax(outputs, dim=1).numpy()\n",
    "\n",
    "        for class_id in range(N_CLASSES):\n",
    "            iou = calculate_iou_per_class(np.array(masks.cpu()), np.array(outputs), class_id)\n",
    "            train_class_ious.append(iou)\n",
    "            \n",
    "    train_class_ious = np.array(train_class_ious).reshape(N_CLASSES, -1)\n",
    "    #print(np.shape(train_class_ious))\n",
    "    train_class_ious = np.mean(train_class_ious, axis=1)\n",
    "    #print(train_class_ious)\n",
    "    print(\"--IoU Scores Train--\")\n",
    "    for class_id, iou in enumerate(train_class_ious):\n",
    "        print(f'Class{class_id}: {iou:.4f}',end=\" \")       \n",
    "        if class_id % 6==0:\n",
    "            print()       \n",
    "     \n",
    "        \n",
    "    # mIoU 계산\n",
    "    train_mIoU = np.mean(train_class_ious)\n",
    "    \n",
    "\n",
    "    # validation\n",
    "    val_loss = 0\n",
    "    val_class_ious = []  # 클래스별 IoU를 누적할 리스트 초기화\n",
    "    with torch.no_grad():\n",
    "        model.eval()\n",
    "        for images, masks in tqdm(valid_dataloader):\n",
    "            images = images.float().to(device)\n",
    "            masks = masks.long().to(device)\n",
    "            outputs = model(images)\n",
    "\n",
    "            # validation loss 계산\n",
    "            val_loss += criterion(outputs, masks).item()\n",
    "\n",
    "            # validation 클래스별 IoU 계산\n",
    "            outputs = torch.softmax(outputs, dim=1).cpu()\n",
    "            outputs = torch.argmax(outputs, dim=1).numpy()\n",
    "\n",
    "            for class_id in range(N_CLASSES):\n",
    "                iou = calculate_iou_per_class(np.array(masks.cpu()), np.array(outputs), class_id)\n",
    "                val_class_ious.append(iou)\n",
    "                \n",
    "    val_class_ious = np.array(val_class_ious).reshape(N_CLASSES, -1)\n",
    "    val_class_ious = np.mean(val_class_ious, axis=1)\n",
    "    print(\"--IoU Scores Valid--\")\n",
    "    for class_id, iou in enumerate(val_class_ious):\n",
    "        print(f'Class{class_id}: {iou:.4f}',end=\" \")\n",
    "        if class_id % 6==0:\n",
    "            print(\"\")       \n",
    "   \n",
    "    # mIoU 계산\n",
    "    val_mIoU = np.mean(val_class_ious)\n",
    "    \n",
    "    # 에폭마다 결과 출력 \n",
    "    print(f\"\\nEpoch{epoch+1}\")\n",
    "    print(f\"Train Loss: {(epoch_loss/len(dataloader))}, Train mIoU Score: {train_mIoU:.4f}\")\n",
    "    print(f\"Validation Loss: {val_loss/len(valid_dataloader)}, Validation mIoU Score: {val_mIoU:.4f}\")\n",
    "    print(\"___________________________________________________________________________________________\\n\")"
   ]
  },
  {
   "attachments": {},
   "cell_type": "markdown",
   "id": "c32eb51c-a3fe-4e11-a616-3a717ba16f7e",
   "metadata": {},
   "source": [
    "## Inference"
   ]
  },
  {
   "cell_type": "code",
   "execution_count": 10,
   "id": "12371c8b-0c78-47df-89ec-2d8b55c8ea94",
   "metadata": {},
   "outputs": [],
   "source": [
    "# test_dataset = CustomDataset(csv_file='./test.csv', transform=transform, infer=True)\n",
    "# test_dataloader = DataLoader(test_dataset, batch_size=16, shuffle=False, num_workers=4)"
   ]
  },
  {
   "cell_type": "code",
   "execution_count": 11,
   "id": "355b431c-ac8e-4c40-9046-4d53e4bab14a",
   "metadata": {},
   "outputs": [],
   "source": [
    "# with torch.no_grad():\n",
    "#     model.eval()\n",
    "#     result = []\n",
    "#     for images in tqdm(test_dataloader):\n",
    "#         images = images.float().to(device)\n",
    "#         outputs = model(images)\n",
    "#         outputs = torch.softmax(outputs, dim=1).cpu()\n",
    "#         outputs = torch.argmax(outputs, dim=1).numpy()\n",
    "#         # batch에 존재하는 각 이미지에 대해서 반복\n",
    "#         for pred in outputs:\n",
    "#             pred = pred.astype(np.uint8)\n",
    "#             pred = Image.fromarray(pred) # 이미지로 변환\n",
    "#             pred = pred.resize((960, 540), Image.NEAREST) # 960 x 540 사이즈로 변환\n",
    "#             pred = np.array(pred) # 다시 수치로 변환\n",
    "#             # class 0 ~ 11에 해당하는 경우에 마스크 형성 / 12(배경)는 제외하고 진행\n",
    "#             for class_id in range(12):\n",
    "#                 class_mask = (pred == class_id).astype(np.uint8)\n",
    "#                 if np.sum(class_mask) > 0: # 마스크가 존재하는 경우 encode\n",
    "#                     mask_rle = rle_encode(class_mask)\n",
    "#                     result.append(mask_rle)\n",
    "#                 else: # 마스크가 존재하지 않는 경우 -1\n",
    "#                     result.append(-1)\n",
    "        "
   ]
  },
  {
   "attachments": {},
   "cell_type": "markdown",
   "id": "36c2cbbb-04f1-4f9c-b4df-4b744dfce046",
   "metadata": {},
   "source": [
    "## Submission"
   ]
  },
  {
   "cell_type": "code",
   "execution_count": 12,
   "id": "35ac2a0b",
   "metadata": {},
   "outputs": [],
   "source": [
    "# submit = pd.read_csv('./sample_submission.csv')\n",
    "# submit['mask_rle'] = result\n",
    "# submit"
   ]
  },
  {
   "cell_type": "code",
   "execution_count": 13,
   "id": "da10cb6f-0826-4755-a376-97b695ae8f86",
   "metadata": {},
   "outputs": [],
   "source": [
    "# submit.to_csv('./baseline_submit.csv', index=False)"
   ]
  }
 ],
 "metadata": {
  "kernelspec": {
   "display_name": "seungyoon2",
   "language": "python",
   "name": "python3"
  },
  "language_info": {
   "codemirror_mode": {
    "name": "ipython",
    "version": 3
   },
   "file_extension": ".py",
   "mimetype": "text/x-python",
   "name": "python",
   "nbconvert_exporter": "python",
   "pygments_lexer": "ipython3",
   "version": "3.11.5"
  }
 },
 "nbformat": 4,
 "nbformat_minor": 5
}
