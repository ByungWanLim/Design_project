{
 "cells": [
  {
   "attachments": {},
   "cell_type": "markdown",
   "id": "d73d24e3-5c9e-4ade-9e6e-ca6f46a2d914",
   "metadata": {},
   "source": [
    "## Import"
   ]
  },
  {
   "cell_type": "code",
   "execution_count": 1,
   "id": "ad9b681e-370a-4cfa-a452-dd2d7f0cd77f",
   "metadata": {},
   "outputs": [
    {
     "name": "stderr",
     "output_type": "stream",
     "text": [
      "/home/MMI24leehyunwook/.conda/envs/net_bw/lib/python3.8/site-packages/tqdm/auto.py:21: TqdmWarning: IProgress not found. Please update jupyter and ipywidgets. See https://ipywidgets.readthedocs.io/en/stable/user_install.html\n",
      "  from .autonotebook import tqdm as notebook_tqdm\n"
     ]
    },
    {
     "name": "stdout",
     "output_type": "stream",
     "text": [
      "cuda\n",
      "3\n"
     ]
    }
   ],
   "source": [
    "import os\n",
    "import cv2\n",
    "from PIL import Image\n",
    "import pandas as pd\n",
    "import numpy as np\n",
    "\n",
    "import torch\n",
    "import torch.nn as nn\n",
    "import torch.nn.functional as F\n",
    "from torch.utils.data import Dataset, DataLoader\n",
    "from torchvision import transforms\n",
    "from torch.optim.lr_scheduler import _LRScheduler\n",
    "\n",
    "from tqdm import tqdm\n",
    "import albumentations as A\n",
    "from albumentations.pytorch import ToTensorV2\n",
    "\n",
    "from torchvision import models\n",
    "from torchsummary import summary\n",
    "\n",
    "# GPU 사용이 가능할 경우, GPU를 사용할 수 있게 함.'\n",
    "os.environ['CUDA_VISIBLE_DEVICES'] = '3'\n",
    "device = \"cuda\" if torch.cuda.is_available() else \"cpu\"\n",
    "device = torch.device(device)\n",
    "print(device)\n",
    "\n",
    "print(os.environ.get('CUDA_VISIBLE_DEVICES'))"
   ]
  },
  {
   "attachments": {},
   "cell_type": "markdown",
   "id": "20ff3de5-0d0e-497b-ac75-d5179a3f65d3",
   "metadata": {},
   "source": [
    "## Utils"
   ]
  },
  {
   "cell_type": "code",
   "execution_count": 2,
   "id": "838e1d83-8670-407b-82f6-bf9652f58639",
   "metadata": {},
   "outputs": [],
   "source": [
    "# RLE 인코딩 함수\n",
    "def rle_encode(mask):\n",
    "    pixels = mask.flatten()\n",
    "    pixels = np.concatenate([[0], pixels, [0]])\n",
    "    runs = np.where(pixels[1:] != pixels[:-1])[0] + 1\n",
    "    runs[1::2] -= runs[::2]\n",
    "    return ' '.join(str(x) for x in runs)\n",
    "\n",
    "# 클래스별 IoU를 계산하기 위한 함수\n",
    "def calculate_iou_per_class(y_true, y_pred, class_id):\n",
    "    intersection = np.sum((y_true == class_id) & (y_pred == class_id))\n",
    "    union = np.sum((y_true == class_id) | (y_pred == class_id))\n",
    "    iou = intersection / union if union > 0 else 0\n",
    "    return iou"
   ]
  },
  {
   "attachments": {},
   "cell_type": "markdown",
   "id": "be76a29e-e9c2-411a-a569-04166f074184",
   "metadata": {},
   "source": [
    "## Dataset, Data Loader"
   ]
  },
  {
   "cell_type": "markdown",
   "id": "e5acf65a",
   "metadata": {},
   "source": [
    "출력이미지 크기 키우기->ex) resnet 2048->1024->512->256 conv 256->512->1024->2048"
   ]
  },
  {
   "cell_type": "code",
   "execution_count": 3,
   "id": "a8496767-2f64-4285-bec4-c6f53a1fd9d2",
   "metadata": {},
   "outputs": [],
   "source": [
    "class CustomDataset(Dataset):\n",
    "    def __init__(self, csv_file, transform=None, infer=False):\n",
    "        self.data = pd.read_csv(csv_file)\n",
    "        self.transform = transform\n",
    "        self.infer = infer\n",
    "\n",
    "    def __len__(self):\n",
    "        return len(self.data)\n",
    "\n",
    "    def __getitem__(self, idx):\n",
    "        directory_path = \"/mnt/nas27/Dataset/Samsung_DM\"\n",
    "        img_path = self.data.iloc[idx, 1]\n",
    "        img_path = os.path.join(directory_path, img_path[2:])\n",
    "        image = cv2.imread(img_path)\n",
    "        image = cv2.cvtColor(image, cv2.COLOR_BGR2RGB)\n",
    "        #image = cv2.cvtColor(image, cv2.COLOR_BGR2GRAY)\n",
    "        \n",
    "        if self.infer:\n",
    "            if self.transform:\n",
    "                image = self.transform(image=image)['image']\n",
    "            return image\n",
    "        \n",
    "        mask_path = self.data.iloc[idx, 2]\n",
    "        mask_path = os.path.join(directory_path, mask_path[2:])\n",
    "        mask = cv2.imread(mask_path)\n",
    "        #mask = cv2.cvtColor(mask, cv2.COLOR_BGR2RGB)\n",
    "        mask = cv2.cvtColor(mask, cv2.COLOR_BGR2GRAY)\n",
    "        mask[mask == 255] = 12 #배경을 픽셀값 12로 간주\n",
    "\n",
    "        if self.transform:\n",
    "            augmented = self.transform(image=image, mask=mask)\n",
    "            image = augmented['image']\n",
    "            mask = augmented['mask']\n",
    "\n",
    "        return image, mask\n",
    "    \n",
    "    # 이미지 전처리 클래스\n",
    "class ImageTransform():\n",
    "  \"\"\"\n",
    "  훈련, 검증 동작 다르게 설정\n",
    "  이미지 크기 resize, 색상 표준화\n",
    "  훈련시 RandomResizedCrop, RandomHorizontalFilp으로 데이터 확장\n",
    "  \"\"\"\n",
    "  def __init__(self, resize, mean, std):\n",
    "    self.data_transform = {\n",
    "        'train' : transforms.Compose([\n",
    "            #transforms.RandomResizedCrop(\n",
    "            #    resize, scale = (0.5, 1.0)), # 데이터 확장\n",
    "            transforms.RandomHorizontalFlip(), # 데이터 확장\n",
    "            transforms.ToTensor(), # Tensor로 변환\n",
    "            transforms.Normalize(mean = mean, std = std) #표준화\n",
    "        ]),\n",
    "        'test': transforms.Compose([\n",
    "            #transforms.Resize(resize), # Resize\n",
    "            #transforms.CenterCrop(resize), # 중앙을 resize*resize로 crop\n",
    "            transforms.ToTensor(), # Tensor로 변환\n",
    "            transforms.Normalize(mean = mean, std = std) # 표준화\n",
    "        ])\n",
    "\n",
    "    }\n",
    "  def __call__(self, img, phase = 'train'):\n",
    "    \"\"\"\n",
    "    phase : 'train' or 'test'\n",
    "    전처리 모드 지정\n",
    "    \"\"\"\n",
    "    return self.data_transform[phase](img)\n",
    "\n",
    "\n",
    "transform = A.Compose(\n",
    "    [   \n",
    "        #A.Resize(224, 224),\n",
    "        A.Resize(256, 256),\n",
    "        A.Normalize(),\n",
    "        \n",
    "        # 변형\n",
    "        A.VerticalFlip(p=0.5),\n",
    "        # A.RandomRotate90(p=0.5),\n",
    "        A.HueSaturationValue(p=0.2),\n",
    "        \n",
    "        ToTensorV2()\n",
    "    ]\n",
    ")"
   ]
  },
  {
   "cell_type": "markdown",
   "id": "3a91d6b1",
   "metadata": {},
   "source": [
    "Warmup"
   ]
  },
  {
   "cell_type": "code",
   "execution_count": 4,
   "id": "d9e62c6d",
   "metadata": {},
   "outputs": [],
   "source": [
    "class WarmUpLR(_LRScheduler):\n",
    "    def __init__(self, optimizer, total_iters, last_epoch=-1):\n",
    "        self.total_iters = total_iters\n",
    "        super(WarmUpLR, self).__init__(optimizer, last_epoch)\n",
    "\n",
    "    def get_lr(self):\n",
    "        return [base_lr * self.last_epoch / self.total_iters for base_lr in self.base_lrs]\n"
   ]
  },
  {
   "attachments": {},
   "cell_type": "markdown",
   "id": "f42501fc-b573-4893-a7c4-5e280dfdaf09",
   "metadata": {},
   "source": [
    "## Define Model"
   ]
  },
  {
   "cell_type": "code",
   "execution_count": 5,
   "id": "867c4b52",
   "metadata": {},
   "outputs": [],
   "source": [
    "class Bottleneck(nn.Module):\n",
    "    expansion = 4\n",
    "\n",
    "    def __init__(self, in_channels, out_channels, stride=1):\n",
    "        super(Bottleneck, self).__init__()\n",
    "\n",
    "        # 1x1 convolution\n",
    "        self.conv1 = nn.Conv2d(in_channels, out_channels, kernel_size=1, stride=stride, bias=False)\n",
    "        self.bn1 = nn.BatchNorm2d(out_channels)\n",
    "        self.relu1 = nn.ReLU(inplace=True)\n",
    "\n",
    "        # 3x3 convolution\n",
    "        self.conv2 = nn.Conv2d(out_channels, out_channels, kernel_size=3, padding=1, bias=False)\n",
    "        self.bn2 = nn.BatchNorm2d(out_channels)\n",
    "        self.relu2 = nn.ReLU(inplace=True)\n",
    "\n",
    "        # 1x1 convolution\n",
    "        self.conv3 = nn.Conv2d(out_channels, out_channels * self.expansion, kernel_size=1, bias=False)\n",
    "        self.bn3 = nn.BatchNorm2d(out_channels * self.expansion)\n",
    "\n",
    "        self.shortcut = nn.Sequential()\n",
    "        if stride != 1 or in_channels != out_channels * self.expansion:\n",
    "            self.shortcut = nn.Sequential(\n",
    "                nn.Conv2d(in_channels, out_channels * self.expansion, kernel_size=1, stride=stride, bias=False),\n",
    "                nn.BatchNorm2d(out_channels * self.expansion)\n",
    "            )\n",
    "\n",
    "        self.relu3 = nn.ReLU(inplace=True)\n",
    "\n",
    "    def forward(self, x):\n",
    "        identity = x\n",
    "\n",
    "        out = self.conv1(x)\n",
    "        out = self.bn1(out)\n",
    "        out = self.relu1(out)\n",
    "\n",
    "        out = self.conv2(out)\n",
    "        out = self.bn2(out)\n",
    "        out = self.relu2(out)\n",
    "\n",
    "        out = self.conv3(out)\n",
    "        out = self.bn3(out)\n",
    "\n",
    "        identity = self.shortcut(identity)\n",
    "\n",
    "        out += identity\n",
    "        out = self.relu3(out)\n",
    "\n",
    "        return out\n",
    "\n",
    "# 예제 사용\n",
    "block = Bottleneck(64, 64)\n"
   ]
  },
  {
   "cell_type": "code",
   "execution_count": 6,
   "id": "3574888b",
   "metadata": {},
   "outputs": [],
   "source": [
    "#Unet의 기본이 되는 conv블럭\n",
    "class ConvBlock(nn.Module):\n",
    "    def __init__(self, in_channels, out_channels):\n",
    "        super(ConvBlock, self).__init__()\n",
    "        self.conv1 = nn.Conv2d(in_channels, out_channels, kernel_size=3, padding=1)\n",
    "        self.bn1 = nn.BatchNorm2d(out_channels)\n",
    "        self.relu1 = nn.ReLU()\n",
    "        \n",
    "        self.conv2 = nn.Conv2d(out_channels, out_channels, kernel_size=3, padding=1)  # 여기서 in_channels는 out_channels와 동일해야 합니다.\n",
    "        self.bn2 = nn.BatchNorm2d(out_channels)\n",
    "        self.relu2 = nn.ReLU()\n",
    "\n",
    "    def forward(self, x):\n",
    "        x = self.conv1(x)\n",
    "        x = self.bn1(x)\n",
    "        x = self.relu1(x)\n",
    "        \n",
    "        x = self.conv2(x)\n",
    "        x = self.bn2(x)\n",
    "        x = self.relu2(x)\n",
    "        return x\n",
    "\n",
    "#인코더 블럭\n",
    "class EncoderBlock(nn.Module):\n",
    "    def __init__(self, in_channels, out_channels):\n",
    "        super(EncoderBlock,self).__init__()\n",
    "        self.convblock1 = ConvBlock(in_channels, out_channels)  # 첫 번째 ConvBlock의 in_channels는 입력 이미지의 채널 수와 일치해야 합니다.\n",
    "        self.convblock2 = ConvBlock(out_channels, out_channels)  # 두 번째 ConvBlock의 in_channels는 out_channels와 일치해야 합니다.\n",
    "        self.maxpool = nn.MaxPool2d(kernel_size=2, stride=2)\n",
    "\n",
    "    def forward(self,x):\n",
    "        x = self.convblock1(x)\n",
    "        x = self.convblock2(x)\n",
    "        p = self.maxpool(x)\n",
    "        return x , p\n",
    "#디코더 블럭\n",
    "#디코더는 업샘플링 이후 스킵연결과 붙어서 convblock을 통과해야함\n",
    "#skip보다 작은 x x먼저 업샘플링 32 -> 64 , skip과 결합 6464 \n",
    "class DecoderBlock(nn.Module):\n",
    "    def __init__(self, channels):\n",
    "        super(DecoderBlock,self).__init__()\n",
    "        self.upsample = nn.ConvTranspose2d(channels*2, channels, kernel_size=4, stride=2, padding=1)#x 업샘플링\n",
    "        self.convblock1 = ConvBlock(channels*2, channels)#차원감소\n",
    "        self.convblock2 = ConvBlock(channels, channels)\n",
    "    def forward(self,x,skip):\n",
    "        x = self.upsample(x)\n",
    "        x = torch.cat([x, skip], dim=1)\n",
    "        x = self.convblock1(x)\n",
    "        x = self.convblock2(x)\n",
    "        return x\n",
    "        \n",
    "#Unet구조 middle의 xm값의 움직임에 주의\n",
    "class Unet(nn.Module):\n",
    "    def __init__(self,n_classes):\n",
    "        super(Unet,self).__init__()\n",
    "        self.encoder1 = EncoderBlock(3,64)\n",
    "        self.encoder2 = EncoderBlock(64,128)\n",
    "        self.encoder3 = EncoderBlock(128,256)\n",
    "        self.encoder4 = EncoderBlock(256,512)\n",
    "        \n",
    "        self.middleconv = ConvBlock(512,1024)\n",
    "        \n",
    "        \n",
    "        self.decoder4 = DecoderBlock(512)\n",
    "        self.decoder3 = DecoderBlock(256)\n",
    "        self.decoder2 = DecoderBlock(128)\n",
    "        self.decoder1 = DecoderBlock(64)\n",
    "        self.segmap = nn.Conv2d(64,n_classes, kernel_size=1)\n",
    "        \n",
    "        \n",
    "    def forward(self,x):\n",
    "        x1,p = self.encoder1(x)#3->64   #P:256,256 x1 :512,512\n",
    "        x2,p = self.encoder2(p)#64->128 #P:128,128 x2:256,256\n",
    "        x3,p = self.encoder3(p)#128->256#p:64,64 x3:128,128\n",
    "        x4,p = self.encoder4(p)#256->512#p:32,32 x4:64,64\n",
    "        \n",
    "        xm = self.middleconv(p)#512->1024#32,32\n",
    "        \n",
    "        x = self.decoder4(xm,x4)#뉴런:1024->512->512 #출력tensor:64,64\n",
    "        x = self.decoder3(x,x3)#뉴런:512->256->256 #출력tensor:128,128\n",
    "        x = self.decoder2(x,x2)#뉴런:256->128->128 #출력tensor:256,256\n",
    "        x = self.decoder1(x,x1)#뉴런:128->64->64 #출력tensor:512,512\n",
    "        x = self.segmap(x)\n",
    "        return x"
   ]
  },
  {
   "cell_type": "markdown",
   "id": "afdb7c3b",
   "metadata": {},
   "source": [
    "## ResNet50"
   ]
  },
  {
   "cell_type": "code",
   "execution_count": 7,
   "id": "baf22f4a",
   "metadata": {},
   "outputs": [],
   "source": [
    "import torch.nn as nn\n",
    "import torchvision.models as models\n",
    "\n",
    "class UNetWithResnet50Encoder(nn.Module):\n",
    "    def __init__(self, n_classes):\n",
    "        super().__init__()\n",
    "        \n",
    "        # ResNet50 백본을 불러옵니다.\n",
    "        self.resnet = models.resnet50(pretrained=True)\n",
    "        \n",
    "        # 인코더 부분\n",
    "        self.encoder0 = nn.Sequential(\n",
    "            self.resnet.conv1,\n",
    "            self.resnet.bn1,\n",
    "            self.resnet.relu,\n",
    "            self.resnet.maxpool\n",
    "        )\n",
    "        self.encoder1 = self.resnet.layer1\n",
    "        self.encoder2 = self.resnet.layer2\n",
    "        self.encoder3 = self.resnet.layer3\n",
    "        self.encoder4 = self.resnet.layer4\n",
    "        \n",
    "        # 중간 컨볼루션\n",
    "        self.middle_conv = nn.Sequential(\n",
    "            nn.Conv2d(2048, 1024, kernel_size=3, padding=1),\n",
    "            nn.ReLU()\n",
    "        )\n",
    "        \n",
    "        # 디코더 부분\n",
    "        self.decoder3 = nn.Sequential(\n",
    "            nn.ConvTranspose2d(1024+1024, 512, kernel_size=2, stride=2),\n",
    "            nn.ReLU()\n",
    "        )\n",
    "        self.decoder2 = nn.Sequential(\n",
    "            nn.ConvTranspose2d(512+512, 256, kernel_size=2, stride=2),\n",
    "            nn.ReLU()\n",
    "        )\n",
    "        # 디코더 부분\n",
    "        self.decoder1 = nn.Sequential(\n",
    "            nn.ConvTranspose2d(256+256, 128, kernel_size=2, stride=2),  # 출력 채널 수를 128로 변경\n",
    "            nn.ReLU()\n",
    "        )\n",
    "        self.decoder0 = nn.Sequential(\n",
    "            nn.ConvTranspose2d(128+64, n_classes, kernel_size=2, stride=2),  # 입력 채널 수를 192로 변경\n",
    "            nn.ReLU()\n",
    "        )\n",
    "        \n",
    "    def forward(self, x):\n",
    "        # 인코더 부분\n",
    "        x0 = self.encoder0(x)\n",
    "        x1 = self.encoder1(x0)\n",
    "        x2 = self.encoder2(x1)\n",
    "        x3 = self.encoder3(x2)\n",
    "        x4 = self.encoder4(x3)\n",
    "        \n",
    "        # 중간 컨볼루션 후 업샘플링\n",
    "        middle = self.middle_conv(x4)\n",
    "        middle_upsampled = nn.functional.interpolate(middle, scale_factor=2, mode='bilinear', align_corners=True)\n",
    "\n",
    "        # 디코더 부분 (skip connection 추가)\n",
    "        d3 = self.decoder3(torch.cat([middle_upsampled, x3], dim=1))\n",
    "        d2 = self.decoder2(torch.cat([d3, x2], dim=1))\n",
    "        d1 = self.decoder1(torch.cat([d2, x1], dim=1))\n",
    "        out = self.decoder0(torch.cat([d1, x0], dim=1))\n",
    "        \n",
    "        return out\n"
   ]
  },
  {
   "cell_type": "code",
   "execution_count": 8,
   "id": "dd34483e",
   "metadata": {},
   "outputs": [],
   "source": [
    "class PixelWeightedCrossEntropyLoss(nn.Module):\n",
    "    def __init__(self, pixel_weights=None):\n",
    "        super(PixelWeightedCrossEntropyLoss, self).__init__()\n",
    "        self.pixel_weights = pixel_weights\n",
    "\n",
    "    def forward(self, outputs, targets):\n",
    "        return F.cross_entropy(outputs, targets, reduction='none') * self.pixel_weights\n",
    "\n",
    "\n",
    "torch.cuda.empty_cache()\n",
    "LR = 0.01\n",
    "EP = 20\n",
    "BATCH_SIZE = 12\n",
    "ACCMULATION_STEP = 4 \n",
    "N_CLASSES = 13 #IoU 점수측정하기 위한 클래스의 개수\n",
    "WUP_ITERS = 15  # 웜업을 위한 반복 횟수\n",
    "# model 초기화\n",
    "#model = Unet_resnet18(n_classes = N_CLASSES).to(device)\n",
    "#model = ResNet50(num_classes=N_CLASSES).to(device)\n",
    "model = Unet(n_classes = N_CLASSES).to(device)\n",
    "\n",
    "# loss function과 optimizer 정의\n",
    "criterion = PixelWeightedCrossEntropyLoss\n",
    "optimizer = torch.optim.Adam(model.parameters(), lr=LR)\n",
    "\n",
    "# Warmup을 위한 스케줄러 설정\n",
    "\n",
    "scheduler_warmup = WarmUpLR(optimizer, WUP_ITERS)\n",
    "\n",
    "dataset = CustomDataset(csv_file=os.path.join(\"/mnt/nas27/Dataset/Samsung_DM\",'./train_source.csv'), transform=transform)\n",
    "dataloader = DataLoader(dataset, batch_size=BATCH_SIZE, shuffle=True, num_workers=8)\n",
    "valid_dataset = CustomDataset(csv_file=os.path.join(\"/mnt/nas27/Dataset/Samsung_DM\",'./val_source.csv'), transform=transform)\n",
    "valid_dataloader = DataLoader(valid_dataset, batch_size=BATCH_SIZE, shuffle=False, num_workers=8)"
   ]
  },
  {
   "attachments": {},
   "cell_type": "markdown",
   "id": "a0895765-fba0-4fd9-b955-a6c0e43012e9",
   "metadata": {},
   "source": [
    "## Model Train"
   ]
  },
  {
   "cell_type": "code",
   "execution_count": 9,
   "id": "dec3e516",
   "metadata": {},
   "outputs": [
    {
     "name": "stderr",
     "output_type": "stream",
     "text": [
      "100%|██████████| 183/183 [02:41<00:00,  1.13it/s]\n"
     ]
    },
    {
     "name": "stdout",
     "output_type": "stream",
     "text": [
      "--IoU Scores Train--\n",
      "Class0: 0.0144 Class1: 0.0151 Class2: 0.0153 Class3: 0.0153 Class4: 0.0149 Class5: 0.0152 \n",
      "Class6: 0.0155 Class7: 0.0157 Class8: 0.0153 Class9: 0.0151 Class10: 0.0151 Class11: 0.0150 \n",
      "Class12: 0.0152 "
     ]
    },
    {
     "name": "stderr",
     "output_type": "stream",
     "text": [
      "100%|██████████| 39/39 [00:20<00:00,  1.92it/s]\n"
     ]
    },
    {
     "name": "stdout",
     "output_type": "stream",
     "text": [
      "--IoU Scores Valid--\n",
      "Class0: 0.0154 Class1: 0.0131 Class2: 0.0159 Class3: 0.0141 Class4: 0.0149 Class5: 0.0143 \n",
      "Class6: 0.0146 Class7: 0.0150 Class8: 0.0154 Class9: 0.0135 Class10: 0.0153 Class11: 0.0138 \n",
      "Class12: 0.0125 \n",
      "Epoch1\n",
      "Train Loss: 2.697163007298454, Train mIoU Score: 0.0152\n",
      "Validation Loss: 2.6855971201872215, Validation mIoU Score: 0.0144\n",
      "___________________________________________________________________________________________\n",
      "\n"
     ]
    },
    {
     "name": "stderr",
     "output_type": "stream",
     "text": [
      "100%|██████████| 183/183 [02:41<00:00,  1.14it/s]\n"
     ]
    },
    {
     "name": "stdout",
     "output_type": "stream",
     "text": [
      "--IoU Scores Train--\n",
      "Class0: 0.0151 Class1: 0.0150 Class2: 0.0152 Class3: 0.0150 Class4: 0.0148 Class5: 0.0148 \n",
      "Class6: 0.0148 Class7: 0.0151 Class8: 0.0157 Class9: 0.0160 Class10: 0.0152 Class11: 0.0155 \n",
      "Class12: 0.0155 "
     ]
    },
    {
     "name": "stderr",
     "output_type": "stream",
     "text": [
      "100%|██████████| 39/39 [00:20<00:00,  1.91it/s]\n"
     ]
    },
    {
     "name": "stdout",
     "output_type": "stream",
     "text": [
      "--IoU Scores Valid--\n",
      "Class0: 0.0155 Class1: 0.0139 Class2: 0.0144 Class3: 0.0164 Class4: 0.0141 Class5: 0.0135 \n",
      "Class6: 0.0144 Class7: 0.0155 Class8: 0.0149 Class9: 0.0137 Class10: 0.0130 Class11: 0.0128 \n",
      "Class12: 0.0134 \n",
      "Epoch2\n",
      "Train Loss: 2.697104723727117, Train mIoU Score: 0.0152\n",
      "Validation Loss: 2.692787745060065, Validation mIoU Score: 0.0143\n",
      "___________________________________________________________________________________________\n",
      "\n"
     ]
    },
    {
     "name": "stderr",
     "output_type": "stream",
     "text": [
      "100%|██████████| 183/183 [02:41<00:00,  1.14it/s]\n"
     ]
    },
    {
     "name": "stdout",
     "output_type": "stream",
     "text": [
      "--IoU Scores Train--\n",
      "Class0: 0.0151 Class1: 0.0157 Class2: 0.0155 Class3: 0.0155 Class4: 0.0153 Class5: 0.0158 \n",
      "Class6: 0.0148 Class7: 0.0156 Class8: 0.0147 Class9: 0.0144 Class10: 0.0150 Class11: 0.0155 \n",
      "Class12: 0.0150 "
     ]
    },
    {
     "name": "stderr",
     "output_type": "stream",
     "text": [
      "100%|██████████| 39/39 [00:20<00:00,  1.90it/s]\n"
     ]
    },
    {
     "name": "stdout",
     "output_type": "stream",
     "text": [
      "--IoU Scores Valid--\n",
      "Class0: 0.0156 Class1: 0.0127 Class2: 0.0148 Class3: 0.0151 Class4: 0.0148 Class5: 0.0141 \n",
      "Class6: 0.0149 Class7: 0.0140 Class8: 0.0147 Class9: 0.0134 Class10: 0.0148 Class11: 0.0135 \n",
      "Class12: 0.0134 \n",
      "Epoch3\n",
      "Train Loss: 2.6971060591317264, Train mIoU Score: 0.0152\n",
      "Validation Loss: 2.6824462169255967, Validation mIoU Score: 0.0143\n",
      "___________________________________________________________________________________________\n",
      "\n"
     ]
    },
    {
     "name": "stderr",
     "output_type": "stream",
     "text": [
      "100%|██████████| 183/183 [02:43<00:00,  1.12it/s]\n"
     ]
    },
    {
     "name": "stdout",
     "output_type": "stream",
     "text": [
      "--IoU Scores Train--\n",
      "Class0: 0.0797 Class1: 0.1159 Class2: 0.1459 Class3: 0.1895 Class4: 0.1957 Class5: 0.1901 \n",
      "Class6: 0.2253 Class7: 0.2337 Class8: 0.1939 Class9: 0.2013 Class10: 0.2068 Class11: 0.2065 \n",
      "Class12: 0.2194 "
     ]
    },
    {
     "name": "stderr",
     "output_type": "stream",
     "text": [
      "100%|██████████| 39/39 [00:20<00:00,  1.93it/s]\n"
     ]
    },
    {
     "name": "stdout",
     "output_type": "stream",
     "text": [
      "--IoU Scores Valid--\n",
      "Class0: 0.0324 Class1: 0.0311 Class2: 0.0325 Class3: 0.0339 Class4: 0.0330 Class5: 0.0328 \n",
      "Class6: 0.0331 Class7: 0.0288 Class8: 0.0340 Class9: 0.0340 Class10: 0.0308 Class11: 0.0333 \n",
      "Class12: 0.0326 \n",
      "Epoch4\n",
      "Train Loss: 1.3270258359570322, Train mIoU Score: 0.1849\n",
      "Validation Loss: 3.0820031655140414, Validation mIoU Score: 0.0325\n",
      "___________________________________________________________________________________________\n",
      "\n"
     ]
    },
    {
     "name": "stderr",
     "output_type": "stream",
     "text": [
      "100%|██████████| 183/183 [02:40<00:00,  1.14it/s]\n"
     ]
    },
    {
     "name": "stdout",
     "output_type": "stream",
     "text": [
      "--IoU Scores Train--\n",
      "Class0: 0.2263 Class1: 0.2330 Class2: 0.2393 Class3: 0.2314 Class4: 0.2316 Class5: 0.2279 \n",
      "Class6: 0.2263 Class7: 0.2400 Class8: 0.2196 Class9: 0.2323 Class10: 0.2330 Class11: 0.2203 \n",
      "Class12: 0.2159 "
     ]
    },
    {
     "name": "stderr",
     "output_type": "stream",
     "text": [
      "100%|██████████| 39/39 [00:20<00:00,  1.88it/s]\n"
     ]
    },
    {
     "name": "stdout",
     "output_type": "stream",
     "text": [
      "--IoU Scores Valid--\n",
      "Class0: 0.2246 Class1: 0.2210 Class2: 0.2414 Class3: 0.2379 Class4: 0.2468 Class5: 0.2470 \n",
      "Class6: 0.2805 Class7: 0.1960 Class8: 0.2433 Class9: 0.2655 Class10: 0.2239 Class11: 0.2517 \n",
      "Class12: 0.2455 \n",
      "Epoch5\n",
      "Train Loss: 1.0341341120949208, Train mIoU Score: 0.2290\n",
      "Validation Loss: 0.9575181175500919, Validation mIoU Score: 0.2404\n",
      "___________________________________________________________________________________________\n",
      "\n"
     ]
    },
    {
     "name": "stderr",
     "output_type": "stream",
     "text": [
      "100%|██████████| 183/183 [02:41<00:00,  1.14it/s]\n"
     ]
    },
    {
     "name": "stdout",
     "output_type": "stream",
     "text": [
      "--IoU Scores Train--\n",
      "Class0: 0.2311 Class1: 0.2395 Class2: 0.2267 Class3: 0.2353 Class4: 0.2238 Class5: 0.2257 \n",
      "Class6: 0.2323 Class7: 0.2367 Class8: 0.2245 Class9: 0.2418 Class10: 0.2176 Class11: 0.2274 \n",
      "Class12: 0.2202 "
     ]
    },
    {
     "name": "stderr",
     "output_type": "stream",
     "text": [
      "100%|██████████| 39/39 [00:20<00:00,  1.91it/s]\n"
     ]
    },
    {
     "name": "stdout",
     "output_type": "stream",
     "text": [
      "--IoU Scores Valid--\n",
      "Class0: 0.2570 Class1: 0.2093 Class2: 0.1941 Class3: 0.2264 Class4: 0.2313 Class5: 0.2766 \n",
      "Class6: 0.2165 Class7: 0.2310 Class8: 0.2203 Class9: 0.2105 Class10: 0.2046 Class11: 0.2405 \n",
      "Class12: 0.2329 \n",
      "Epoch6\n",
      "Train Loss: 1.033073507371496, Train mIoU Score: 0.2294\n",
      "Validation Loss: 1.0304206823691344, Validation mIoU Score: 0.2270\n",
      "___________________________________________________________________________________________\n",
      "\n"
     ]
    },
    {
     "name": "stderr",
     "output_type": "stream",
     "text": [
      "100%|██████████| 183/183 [02:41<00:00,  1.13it/s]\n"
     ]
    },
    {
     "name": "stdout",
     "output_type": "stream",
     "text": [
      "--IoU Scores Train--\n",
      "Class0: 0.2143 Class1: 0.2123 Class2: 0.2268 Class3: 0.2282 Class4: 0.2332 Class5: 0.2321 \n",
      "Class6: 0.2276 Class7: 0.2098 Class8: 0.2325 Class9: 0.2302 Class10: 0.2331 Class11: 0.2393 \n",
      "Class12: 0.2454 "
     ]
    },
    {
     "name": "stderr",
     "output_type": "stream",
     "text": [
      "100%|██████████| 39/39 [00:20<00:00,  1.93it/s]\n"
     ]
    },
    {
     "name": "stdout",
     "output_type": "stream",
     "text": [
      "--IoU Scores Valid--\n",
      "Class0: 0.1981 Class1: 0.2175 Class2: 0.2186 Class3: 0.2288 Class4: 0.2349 Class5: 0.2524 \n",
      "Class6: 0.2288 Class7: 0.2159 Class8: 0.2299 Class9: 0.2427 Class10: 0.2242 Class11: 0.2290 \n",
      "Class12: 0.2127 \n",
      "Epoch7\n",
      "Train Loss: 1.0436917667180463, Train mIoU Score: 0.2281\n",
      "Validation Loss: 1.052212085479345, Validation mIoU Score: 0.2257\n",
      "___________________________________________________________________________________________\n",
      "\n"
     ]
    },
    {
     "name": "stderr",
     "output_type": "stream",
     "text": [
      "100%|██████████| 183/183 [02:42<00:00,  1.12it/s]\n"
     ]
    },
    {
     "name": "stdout",
     "output_type": "stream",
     "text": [
      "--IoU Scores Train--\n",
      "Class0: 0.0360 Class1: 0.0316 Class2: 0.0361 Class3: 0.0374 Class4: 0.0784 Class5: 0.0884 \n",
      "Class6: 0.0707 Class7: 0.0683 Class8: 0.0724 Class9: 0.0922 Class10: 0.1033 Class11: 0.1130 \n",
      "Class12: 0.1317 "
     ]
    },
    {
     "name": "stderr",
     "output_type": "stream",
     "text": [
      "100%|██████████| 39/39 [00:20<00:00,  1.90it/s]\n"
     ]
    },
    {
     "name": "stdout",
     "output_type": "stream",
     "text": [
      "--IoU Scores Valid--\n",
      "Class0: 0.0717 Class1: 0.0646 Class2: 0.0675 Class3: 0.0676 Class4: 0.0606 Class5: 0.0663 \n",
      "Class6: 0.0662 Class7: 0.0705 Class8: 0.0589 Class9: 0.0775 Class10: 0.0687 Class11: 0.0689 \n",
      "Class12: 0.0769 \n",
      "Epoch8\n",
      "Train Loss: 2.047994603876208, Train mIoU Score: 0.0738\n",
      "Validation Loss: 1.9937780361909132, Validation mIoU Score: 0.0681\n",
      "___________________________________________________________________________________________\n",
      "\n"
     ]
    },
    {
     "name": "stderr",
     "output_type": "stream",
     "text": [
      "100%|██████████| 183/183 [02:39<00:00,  1.15it/s]\n"
     ]
    },
    {
     "name": "stdout",
     "output_type": "stream",
     "text": [
      "--IoU Scores Train--\n",
      "Class0: 0.1302 Class1: 0.1317 Class2: 0.1308 Class3: 0.1271 Class4: 0.1317 Class5: 0.1416 \n",
      "Class6: 0.1333 Class7: 0.1286 Class8: 0.1332 Class9: 0.1332 Class10: 0.1316 Class11: 0.1360 \n",
      "Class12: 0.1294 "
     ]
    },
    {
     "name": "stderr",
     "output_type": "stream",
     "text": [
      "100%|██████████| 39/39 [00:20<00:00,  1.90it/s]\n"
     ]
    },
    {
     "name": "stdout",
     "output_type": "stream",
     "text": [
      "--IoU Scores Valid--\n",
      "Class0: 0.1383 Class1: 0.1253 Class2: 0.1239 Class3: 0.1384 Class4: 0.1348 Class5: 0.1304 \n",
      "Class6: 0.1432 Class7: 0.1318 Class8: 0.1211 Class9: 0.1448 Class10: 0.1449 Class11: 0.1302 \n",
      "Class12: 0.1266 \n",
      "Epoch9\n",
      "Train Loss: 1.4114692269778641, Train mIoU Score: 0.1322\n",
      "Validation Loss: 1.3462214500476153, Validation mIoU Score: 0.1334\n",
      "___________________________________________________________________________________________\n",
      "\n"
     ]
    },
    {
     "name": "stderr",
     "output_type": "stream",
     "text": [
      "100%|██████████| 183/183 [02:40<00:00,  1.14it/s]\n"
     ]
    },
    {
     "name": "stdout",
     "output_type": "stream",
     "text": [
      "--IoU Scores Train--\n",
      "Class0: 0.1349 Class1: 0.1348 Class2: 0.1296 Class3: 0.1254 Class4: 0.1314 Class5: 0.1373 \n",
      "Class6: 0.1299 Class7: 0.1369 Class8: 0.1309 Class9: 0.1311 Class10: 0.1323 Class11: 0.1369 \n",
      "Class12: 0.1392 "
     ]
    },
    {
     "name": "stderr",
     "output_type": "stream",
     "text": [
      "100%|██████████| 39/39 [00:20<00:00,  1.92it/s]\n"
     ]
    },
    {
     "name": "stdout",
     "output_type": "stream",
     "text": [
      "--IoU Scores Valid--\n",
      "Class0: 0.1266 Class1: 0.1345 Class2: 0.1350 Class3: 0.1248 Class4: 0.1374 Class5: 0.1245 \n",
      "Class6: 0.1332 Class7: 0.1333 Class8: 0.1288 Class9: 0.1368 Class10: 0.1288 Class11: 0.1256 \n",
      "Class12: 0.1281 \n",
      "Epoch10\n",
      "Train Loss: 1.4074838851970402, Train mIoU Score: 0.1331\n",
      "Validation Loss: 1.360542887296432, Validation mIoU Score: 0.1305\n",
      "___________________________________________________________________________________________\n",
      "\n"
     ]
    },
    {
     "name": "stderr",
     "output_type": "stream",
     "text": [
      "100%|██████████| 183/183 [02:40<00:00,  1.14it/s]\n"
     ]
    },
    {
     "name": "stdout",
     "output_type": "stream",
     "text": [
      "--IoU Scores Train--\n",
      "Class0: 0.1336 Class1: 0.1329 Class2: 0.1382 Class3: 0.1317 Class4: 0.1278 Class5: 0.1278 \n",
      "Class6: 0.1281 Class7: 0.1395 Class8: 0.1333 Class9: 0.1359 Class10: 0.1306 Class11: 0.1290 \n",
      "Class12: 0.1351 "
     ]
    },
    {
     "name": "stderr",
     "output_type": "stream",
     "text": [
      "100%|██████████| 39/39 [00:20<00:00,  1.92it/s]\n"
     ]
    },
    {
     "name": "stdout",
     "output_type": "stream",
     "text": [
      "--IoU Scores Valid--\n",
      "Class0: 0.1417 Class1: 0.1335 Class2: 0.1383 Class3: 0.1199 Class4: 0.1324 Class5: 0.1408 \n",
      "Class6: 0.1504 Class7: 0.1354 Class8: 0.1264 Class9: 0.1384 Class10: 0.1345 Class11: 0.1252 \n",
      "Class12: 0.1149 \n",
      "Epoch11\n",
      "Train Loss: 1.408909898638074, Train mIoU Score: 0.1326\n",
      "Validation Loss: 1.3591578984871888, Validation mIoU Score: 0.1332\n",
      "___________________________________________________________________________________________\n",
      "\n"
     ]
    },
    {
     "name": "stderr",
     "output_type": "stream",
     "text": [
      "100%|██████████| 183/183 [02:43<00:00,  1.12it/s]\n"
     ]
    },
    {
     "name": "stdout",
     "output_type": "stream",
     "text": [
      "--IoU Scores Train--\n",
      "Class0: 0.0276 Class1: 0.0286 Class2: 0.0375 Class3: 0.0308 Class4: 0.0551 Class5: 0.0556 \n",
      "Class6: 0.0596 Class7: 0.0568 Class8: 0.0604 Class9: 0.0703 Class10: 0.0704 Class11: 0.0663 \n",
      "Class12: 0.0656 "
     ]
    },
    {
     "name": "stderr",
     "output_type": "stream",
     "text": [
      "100%|██████████| 39/39 [00:20<00:00,  1.95it/s]\n"
     ]
    },
    {
     "name": "stdout",
     "output_type": "stream",
     "text": [
      "--IoU Scores Valid--\n",
      "Class0: 0.0473 Class1: 0.0465 Class2: 0.0479 Class3: 0.0503 Class4: 0.0487 Class5: 0.0516 \n",
      "Class6: 0.0471 Class7: 0.0495 Class8: 0.0546 Class9: 0.0487 Class10: 0.0480 Class11: 0.0504 \n",
      "Class12: 0.0535 \n",
      "Epoch12\n",
      "Train Loss: 2.296190730860976, Train mIoU Score: 0.0527\n",
      "Validation Loss: 1.7546037618930523, Validation mIoU Score: 0.0495\n",
      "___________________________________________________________________________________________\n",
      "\n"
     ]
    },
    {
     "name": "stderr",
     "output_type": "stream",
     "text": [
      "100%|██████████| 183/183 [02:39<00:00,  1.15it/s]\n"
     ]
    },
    {
     "name": "stdout",
     "output_type": "stream",
     "text": [
      "--IoU Scores Train--\n",
      "Class0: 0.0769 Class1: 0.0779 Class2: 0.0761 Class3: 0.0751 Class4: 0.0743 Class5: 0.0748 \n",
      "Class6: 0.0782 Class7: 0.0783 Class8: 0.0767 Class9: 0.0762 Class10: 0.0739 Class11: 0.0776 \n",
      "Class12: 0.0805 "
     ]
    },
    {
     "name": "stderr",
     "output_type": "stream",
     "text": [
      "100%|██████████| 39/39 [00:20<00:00,  1.91it/s]\n"
     ]
    },
    {
     "name": "stdout",
     "output_type": "stream",
     "text": [
      "--IoU Scores Valid--\n",
      "Class0: 0.0740 Class1: 0.0727 Class2: 0.0731 Class3: 0.0780 Class4: 0.0752 Class5: 0.0776 \n",
      "Class6: 0.0737 Class7: 0.0768 Class8: 0.0780 Class9: 0.0763 Class10: 0.0718 Class11: 0.0767 \n",
      "Class12: 0.0781 \n",
      "Epoch13\n",
      "Train Loss: 1.6491182312939336, Train mIoU Score: 0.0766\n",
      "Validation Loss: 1.6051267691147633, Validation mIoU Score: 0.0755\n",
      "___________________________________________________________________________________________\n",
      "\n"
     ]
    },
    {
     "name": "stderr",
     "output_type": "stream",
     "text": [
      "100%|██████████| 183/183 [02:39<00:00,  1.15it/s]\n"
     ]
    },
    {
     "name": "stdout",
     "output_type": "stream",
     "text": [
      "--IoU Scores Train--\n",
      "Class0: 0.0775 Class1: 0.0763 Class2: 0.0760 Class3: 0.0758 Class4: 0.0744 Class5: 0.0755 \n",
      "Class6: 0.0763 Class7: 0.0751 Class8: 0.0772 Class9: 0.0760 Class10: 0.0744 Class11: 0.0786 \n",
      "Class12: 0.0813 "
     ]
    },
    {
     "name": "stderr",
     "output_type": "stream",
     "text": [
      "100%|██████████| 39/39 [00:20<00:00,  1.93it/s]\n"
     ]
    },
    {
     "name": "stdout",
     "output_type": "stream",
     "text": [
      "--IoU Scores Valid--\n",
      "Class0: 0.0715 Class1: 0.0727 Class2: 0.0697 Class3: 0.0766 Class4: 0.0738 Class5: 0.0735 \n",
      "Class6: 0.0730 Class7: 0.0761 Class8: 0.0764 Class9: 0.0760 Class10: 0.0711 Class11: 0.0753 \n",
      "Class12: 0.0754 \n",
      "Epoch14\n",
      "Train Loss: 1.6495472218820957, Train mIoU Score: 0.0765\n",
      "Validation Loss: 1.672975738843282, Validation mIoU Score: 0.0739\n",
      "___________________________________________________________________________________________\n",
      "\n"
     ]
    },
    {
     "name": "stderr",
     "output_type": "stream",
     "text": [
      "100%|██████████| 183/183 [02:39<00:00,  1.14it/s]\n"
     ]
    },
    {
     "name": "stdout",
     "output_type": "stream",
     "text": [
      "--IoU Scores Train--\n",
      "Class0: 0.0782 Class1: 0.0745 Class2: 0.0772 Class3: 0.0778 Class4: 0.0772 Class5: 0.0741 \n",
      "Class6: 0.0735 Class7: 0.0771 Class8: 0.0793 Class9: 0.0749 Class10: 0.0771 Class11: 0.0762 \n",
      "Class12: 0.0786 "
     ]
    },
    {
     "name": "stderr",
     "output_type": "stream",
     "text": [
      "100%|██████████| 39/39 [00:20<00:00,  1.94it/s]\n"
     ]
    },
    {
     "name": "stdout",
     "output_type": "stream",
     "text": [
      "--IoU Scores Valid--\n",
      "Class0: 0.0719 Class1: 0.0715 Class2: 0.0670 Class3: 0.0747 Class4: 0.0725 Class5: 0.0784 \n",
      "Class6: 0.0691 Class7: 0.0741 Class8: 0.0743 Class9: 0.0727 Class10: 0.0720 Class11: 0.0745 \n",
      "Class12: 0.0769 \n",
      "Epoch15\n",
      "Train Loss: 1.6487362202399416, Train mIoU Score: 0.0766\n",
      "Validation Loss: 1.644627788127997, Validation mIoU Score: 0.0730\n",
      "___________________________________________________________________________________________\n",
      "\n"
     ]
    },
    {
     "name": "stderr",
     "output_type": "stream",
     "text": [
      "100%|██████████| 183/183 [02:43<00:00,  1.12it/s]\n"
     ]
    },
    {
     "name": "stdout",
     "output_type": "stream",
     "text": [
      "--IoU Scores Train--\n",
      "Class0: 0.0307 Class1: 0.0447 Class2: 0.0753 Class3: 0.0914 Class4: 0.0781 Class5: 0.0823 \n",
      "Class6: 0.0827 Class7: 0.0944 Class8: 0.0909 Class9: 0.0866 Class10: 0.1058 Class11: 0.1034 \n",
      "Class12: 0.1153 "
     ]
    },
    {
     "name": "stderr",
     "output_type": "stream",
     "text": [
      "100%|██████████| 39/39 [00:20<00:00,  1.93it/s]\n"
     ]
    },
    {
     "name": "stdout",
     "output_type": "stream",
     "text": [
      "--IoU Scores Valid--\n",
      "Class0: 0.1038 Class1: 0.1027 Class2: 0.1106 Class3: 0.1118 Class4: 0.1248 Class5: 0.1110 \n",
      "Class6: 0.1101 Class7: 0.1159 Class8: 0.1113 Class9: 0.1216 Class10: 0.1110 Class11: 0.1210 \n",
      "Class12: 0.1125 \n",
      "Epoch16\n",
      "Train Loss: 2.190365106681657, Train mIoU Score: 0.0832\n",
      "Validation Loss: 1.4790967825131538, Validation mIoU Score: 0.1129\n",
      "___________________________________________________________________________________________\n",
      "\n"
     ]
    },
    {
     "name": "stderr",
     "output_type": "stream",
     "text": [
      "100%|██████████| 183/183 [02:39<00:00,  1.15it/s]\n"
     ]
    },
    {
     "name": "stdout",
     "output_type": "stream",
     "text": [
      "--IoU Scores Train--\n",
      "Class0: 0.0979 Class1: 0.1036 Class2: 0.1078 Class3: 0.1020 Class4: 0.1083 Class5: 0.1062 \n",
      "Class6: 0.1075 Class7: 0.1052 Class8: 0.1119 Class9: 0.1002 Class10: 0.1021 Class11: 0.1024 \n",
      "Class12: 0.1048 "
     ]
    },
    {
     "name": "stderr",
     "output_type": "stream",
     "text": [
      "100%|██████████| 39/39 [00:20<00:00,  1.91it/s]\n"
     ]
    },
    {
     "name": "stdout",
     "output_type": "stream",
     "text": [
      "--IoU Scores Valid--\n",
      "Class0: 0.1169 Class1: 0.1106 Class2: 0.1199 Class3: 0.1140 Class4: 0.1259 Class5: 0.1200 \n",
      "Class6: 0.1165 Class7: 0.1088 Class8: 0.1121 Class9: 0.1195 Class10: 0.1231 Class11: 0.1012 \n",
      "Class12: 0.1114 \n",
      "Epoch17\n",
      "Train Loss: 1.5678918166238753, Train mIoU Score: 0.1046\n",
      "Validation Loss: 1.4435915519029667, Validation mIoU Score: 0.1154\n",
      "___________________________________________________________________________________________\n",
      "\n"
     ]
    },
    {
     "name": "stderr",
     "output_type": "stream",
     "text": [
      "100%|██████████| 183/183 [02:40<00:00,  1.14it/s]\n"
     ]
    },
    {
     "name": "stdout",
     "output_type": "stream",
     "text": [
      "--IoU Scores Train--\n",
      "Class0: 0.1074 Class1: 0.1048 Class2: 0.1093 Class3: 0.0993 Class4: 0.1035 Class5: 0.1028 \n",
      "Class6: 0.1071 Class7: 0.1040 Class8: 0.1069 Class9: 0.0981 Class10: 0.0934 Class11: 0.1010 \n",
      "Class12: 0.1047 "
     ]
    },
    {
     "name": "stderr",
     "output_type": "stream",
     "text": [
      "100%|██████████| 39/39 [00:20<00:00,  1.92it/s]\n"
     ]
    },
    {
     "name": "stdout",
     "output_type": "stream",
     "text": [
      "--IoU Scores Valid--\n",
      "Class0: 0.0956 Class1: 0.1109 Class2: 0.1099 Class3: 0.1080 Class4: 0.1088 Class5: 0.1071 \n",
      "Class6: 0.1105 Class7: 0.1204 Class8: 0.1091 Class9: 0.1187 Class10: 0.1241 Class11: 0.1207 \n",
      "Class12: 0.1065 \n",
      "Epoch18\n",
      "Train Loss: 1.57487613125577, Train mIoU Score: 0.1032\n",
      "Validation Loss: 1.4701136472897651, Validation mIoU Score: 0.1116\n",
      "___________________________________________________________________________________________\n",
      "\n"
     ]
    },
    {
     "name": "stderr",
     "output_type": "stream",
     "text": [
      " 15%|█▍        | 27/183 [00:28<02:42,  1.04s/it]\n"
     ]
    },
    {
     "ename": "KeyboardInterrupt",
     "evalue": "",
     "output_type": "error",
     "traceback": [
      "\u001b[0;31m---------------------------------------------------------------------------\u001b[0m",
      "\u001b[0;31mKeyboardInterrupt\u001b[0m                         Traceback (most recent call last)",
      "\u001b[1;32m/home/MMI24leehyunwook/Design_project/U-net_Resnet_LBW copy.ipynb 셀 17\u001b[0m line \u001b[0;36m2\n\u001b[1;32m     <a href='vscode-notebook-cell://ssh-remote%2B163.239.13.23/home/MMI24leehyunwook/Design_project/U-net_Resnet_LBW%20copy.ipynb#X21sdnNjb2RlLXJlbW90ZQ%3D%3D?line=19'>20</a>\u001b[0m     \u001b[39mif\u001b[39;00m epoch \u001b[39m<\u001b[39m WUP_ITERS:\n\u001b[1;32m     <a href='vscode-notebook-cell://ssh-remote%2B163.239.13.23/home/MMI24leehyunwook/Design_project/U-net_Resnet_LBW%20copy.ipynb#X21sdnNjb2RlLXJlbW90ZQ%3D%3D?line=20'>21</a>\u001b[0m         scheduler_warmup\u001b[39m.\u001b[39mstep()\n\u001b[0;32m---> <a href='vscode-notebook-cell://ssh-remote%2B163.239.13.23/home/MMI24leehyunwook/Design_project/U-net_Resnet_LBW%20copy.ipynb#X21sdnNjb2RlLXJlbW90ZQ%3D%3D?line=22'>23</a>\u001b[0m epoch_loss \u001b[39m+\u001b[39m\u001b[39m=\u001b[39m loss\u001b[39m.\u001b[39;49mitem()\n\u001b[1;32m     <a href='vscode-notebook-cell://ssh-remote%2B163.239.13.23/home/MMI24leehyunwook/Design_project/U-net_Resnet_LBW%20copy.ipynb#X21sdnNjb2RlLXJlbW90ZQ%3D%3D?line=24'>25</a>\u001b[0m \u001b[39m# train 클래스별 IoU 계산\u001b[39;00m\n\u001b[1;32m     <a href='vscode-notebook-cell://ssh-remote%2B163.239.13.23/home/MMI24leehyunwook/Design_project/U-net_Resnet_LBW%20copy.ipynb#X21sdnNjb2RlLXJlbW90ZQ%3D%3D?line=25'>26</a>\u001b[0m outputs \u001b[39m=\u001b[39m torch\u001b[39m.\u001b[39msoftmax(outputs, dim\u001b[39m=\u001b[39m\u001b[39m1\u001b[39m)\u001b[39m.\u001b[39mcpu()\n",
      "\u001b[0;31mKeyboardInterrupt\u001b[0m: "
     ]
    }
   ],
   "source": [
    "import random\n",
    "\n",
    "for epoch in range(EP):\n",
    "    # 클래스별 IoU를 누적할 리스트 초기화\n",
    "    train_class_ious = []\n",
    "    # 학습\n",
    "    model.train()\n",
    "    epoch_loss = 0\n",
    "    for images, masks in tqdm(dataloader):\n",
    "        images = images.float().to(device)\n",
    "        masks = masks.long().to(device)\n",
    "\n",
    "        outputs = model(images)\n",
    "        loss = criterion(outputs, masks)\n",
    "        loss.backward()\n",
    "        if (epoch+1) % ACCMULATION_STEP == 0:\n",
    "            optimizer.step()\n",
    "            optimizer.zero_grad()\n",
    "            # Warmup 스케줄러 업데이트\n",
    "            # if epoch < WUP_ITERS:\n",
    "            #     scheduler_warmup.step()\n",
    "\n",
    "        epoch_loss += loss.item()\n",
    "\n",
    "        # train 클래스별 IoU 계산\n",
    "        outputs = torch.softmax(outputs, dim=1).cpu()\n",
    "        outputs = torch.argmax(outputs, dim=1).numpy()\n",
    "\n",
    "        for class_id in range(N_CLASSES):\n",
    "            iou = calculate_iou_per_class(np.array(masks.cpu()), np.array(outputs), class_id)\n",
    "            train_class_ious.append(iou)\n",
    "\n",
    "    train_class_ious = np.array(train_class_ious).reshape(N_CLASSES, -1)\n",
    "    train_class_ious = np.mean(train_class_ious, axis=1)\n",
    "    print(\"--IoU Scores Train--\")\n",
    "    for class_id, iou in enumerate(train_class_ious):\n",
    "        print(f'Class{class_id}: {iou:.4f}', end=\" \")\n",
    "        if (class_id+1) % 6 == 0:\n",
    "            print()\n",
    "\n",
    "    # mIoU 계산\n",
    "    train_mIoU = np.mean(train_class_ious)\n",
    "\n",
    "    # validation\n",
    "    val_loss = 0\n",
    "    val_class_ious = []  # 클래스별 IoU를 누적할 리스트 초기화\n",
    "    with torch.no_grad():\n",
    "        model.eval()\n",
    "        for images, masks in tqdm(valid_dataloader):\n",
    "            images = images.float().to(device)\n",
    "            masks = masks.long().to(device)\n",
    "            outputs = model(images)\n",
    "\n",
    "            # validation loss 계산\n",
    "            val_loss += criterion(outputs, masks).item()\n",
    "\n",
    "            # validation 클래스별 IoU 계산\n",
    "            outputs = torch.softmax(outputs, dim=1).cpu()\n",
    "            outputs = torch.argmax(outputs, dim=1).numpy()\n",
    "\n",
    "            for class_id in range(N_CLASSES):\n",
    "                iou = calculate_iou_per_class(np.array(masks.cpu()), np.array(outputs), class_id)\n",
    "                val_class_ious.append(iou)\n",
    "\n",
    "    val_class_ious = np.array(val_class_ious).reshape(N_CLASSES, -1)\n",
    "    val_class_ious = np.mean(val_class_ious, axis=1)\n",
    "    print(\"--IoU Scores Valid--\")\n",
    "    for class_id, iou in enumerate(val_class_ious):\n",
    "        print(f'Class{class_id}: {iou:.4f}', end=\" \")\n",
    "        if (class_id+1) % 6 == 0:\n",
    "            print(\"\")\n",
    "\n",
    "    # mIoU 계산\n",
    "    val_mIoU = np.mean(val_class_ious)\n",
    "\n",
    "    # 에폭마다 결과 출력 \n",
    "    print(f\"\\nEpoch{epoch+1}\")\n",
    "    print(f\"Train Loss: {(epoch_loss/len(dataloader))}, Train mIoU Score: {train_mIoU:.4f}\")\n",
    "    print(f\"Validation Loss: {val_loss/len(valid_dataloader)}, Validation mIoU Score: {val_mIoU:.4f}\")\n",
    "    print(\"___________________________________________________________________________________________\\n\")\n"
   ]
  },
  {
   "attachments": {},
   "cell_type": "markdown",
   "id": "c32eb51c-a3fe-4e11-a616-3a717ba16f7e",
   "metadata": {},
   "source": [
    "## Inference"
   ]
  },
  {
   "cell_type": "code",
   "execution_count": null,
   "id": "12371c8b-0c78-47df-89ec-2d8b55c8ea94",
   "metadata": {},
   "outputs": [],
   "source": [
    "# test_dataset = CustomDataset(csv_file='./test.csv', transform=transform, infer=True)\n",
    "# test_dataloader = DataLoader(test_dataset, batch_size=16, shuffle=False, num_workers=4)"
   ]
  },
  {
   "cell_type": "code",
   "execution_count": null,
   "id": "355b431c-ac8e-4c40-9046-4d53e4bab14a",
   "metadata": {},
   "outputs": [],
   "source": [
    "# with torch.no_grad():\n",
    "#     model.eval()\n",
    "#     result = []\n",
    "#     for images in tqdm(test_dataloader):\n",
    "#         images = images.float().to(device)\n",
    "#         outputs = model(images)\n",
    "#         outputs = torch.softmax(outputs, dim=1).cpu()\n",
    "#         outputs = torch.argmax(outputs, dim=1).numpy()\n",
    "#         # batch에 존재하는 각 이미지에 대해서 반복\n",
    "#         for pred in outputs:\n",
    "#             pred = pred.astype(np.uint8)\n",
    "#             pred = Image.fromarray(pred) # 이미지로 변환\n",
    "#             pred = pred.resize((960, 540), Image.NEAREST) # 960 x 540 사이즈로 변환\n",
    "#             pred = np.array(pred) # 다시 수치로 변환\n",
    "#             # class 0 ~ 11에 해당하는 경우에 마스크 형성 / 12(배경)는 제외하고 진행\n",
    "#             for class_id in range(12):\n",
    "#                 class_mask = (pred == class_id).astype(np.uint8)\n",
    "#                 if np.sum(class_mask) > 0: # 마스크가 존재하는 경우 encode\n",
    "#                     mask_rle = rle_encode(class_mask)\n",
    "#                     result.append(mask_rle)\n",
    "#                 else: # 마스크가 존재하지 않는 경우 -1\n",
    "#                     result.append(-1)\n",
    "        "
   ]
  },
  {
   "attachments": {},
   "cell_type": "markdown",
   "id": "36c2cbbb-04f1-4f9c-b4df-4b744dfce046",
   "metadata": {},
   "source": [
    "## Submission"
   ]
  },
  {
   "cell_type": "code",
   "execution_count": null,
   "id": "35ac2a0b",
   "metadata": {},
   "outputs": [],
   "source": [
    "# submit = pd.read_csv('./sample_submission.csv')\n",
    "# submit['mask_rle'] = result\n",
    "# submit"
   ]
  },
  {
   "cell_type": "code",
   "execution_count": null,
   "id": "da10cb6f-0826-4755-a376-97b695ae8f86",
   "metadata": {},
   "outputs": [],
   "source": [
    "# submit.to_csv('./baseline_submit.csv', index=False)"
   ]
  }
 ],
 "metadata": {
  "kernelspec": {
   "display_name": "seungyoon2",
   "language": "python",
   "name": "python3"
  },
  "language_info": {
   "codemirror_mode": {
    "name": "ipython",
    "version": 3
   },
   "file_extension": ".py",
   "mimetype": "text/x-python",
   "name": "python",
   "nbconvert_exporter": "python",
   "pygments_lexer": "ipython3",
   "version": "3.8.17"
  }
 },
 "nbformat": 4,
 "nbformat_minor": 5
}
