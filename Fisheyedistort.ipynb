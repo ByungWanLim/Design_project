{
 "cells": [
  {
   "cell_type": "code",
   "execution_count": 1,
   "metadata": {},
   "outputs": [],
   "source": [
    "import os\n",
    "import cv2\n",
    "import numpy as np\n",
    "from tqdm import tqdm"
   ]
  },
  {
   "cell_type": "code",
   "execution_count": 2,
   "metadata": {},
   "outputs": [],
   "source": [
    "def apply_fisheye_distortion(image_path, output_path, mask=False):\n",
    "    # 이미지 불러오기\n",
    "    if mask:\n",
    "        image = cv2.imread(image_path, 0)\n",
    "    else:\n",
    "        image = cv2.imread(image_path)\n",
    "\n",
    "    # 이미지 크기 가져오기\n",
    "    height, width = image.shape[:2]\n",
    "\n",
    "    # 카메라 매트릭스 생성\n",
    "    focal_length = width / 4\n",
    "    center_x = width / 2\n",
    "    center_y = height / 2\n",
    "    camera_matrix = np.array([[focal_length, 0, center_x],\n",
    "                              [0, focal_length, center_y],\n",
    "                              [0, 0, 1]], dtype=np.float32)\n",
    "\n",
    "    # 왜곡 계수 생성\n",
    "    dist_coeffs = np.array([0, 0.5, 0, 0], dtype=np.float32)\n",
    "\n",
    "    # 왜곡 보정\n",
    "    undistorted_image = cv2.undistort(image, camera_matrix, dist_coeffs)\n",
    "\n",
    "    # 이미지 저장\n",
    "    cv2.imwrite(output_path, undistorted_image)\n",
    "\n"
   ]
  },
  {
   "cell_type": "code",
   "execution_count": 3,
   "metadata": {},
   "outputs": [
    {
     "name": "stderr",
     "output_type": "stream",
     "text": [
      "  0%|          | 0/2194 [00:00<?, ?it/s]"
     ]
    },
    {
     "name": "stderr",
     "output_type": "stream",
     "text": [
      "100%|██████████| 2194/2194 [00:16<00:00, 134.09it/s]"
     ]
    },
    {
     "name": "stdout",
     "output_type": "stream",
     "text": [
      "총 2194개 파일 중 2194개가 완료되었습니다.\n"
     ]
    },
    {
     "name": "stderr",
     "output_type": "stream",
     "text": [
      "\n"
     ]
    }
   ],
   "source": [
    "# 입력 이미지 파일 경로\n",
    "input_directory = \"./data/224/train_source_image\"\n",
    "output_directory = \"./data/224/fish_train_source_image\"\n",
    "\n",
    "# 입력 디렉토리 내의 모든 파일에 대해 왜곡 적용 및 저장\n",
    "total_files = len([f for f in os.listdir(input_directory) if f.endswith(\".png\")])\n",
    "completed_files = 0\n",
    "\n",
    "for filename in tqdm(os.listdir(input_directory)):\n",
    "    if filename.endswith(\".png\"):  # 이미지 파일인 경우\n",
    "        input_image_path = os.path.join(input_directory, filename)\n",
    "        output_image_path = os.path.join(output_directory, filename)\n",
    "        apply_fisheye_distortion(input_image_path, output_image_path)\n",
    "        completed_files += 1\n",
    "\n",
    "print(f\"총 {completed_files}개 파일 중 {total_files}개가 완료되었습니다.\")"
   ]
  },
  {
   "cell_type": "code",
   "execution_count": 4,
   "metadata": {},
   "outputs": [
    {
     "name": "stderr",
     "output_type": "stream",
     "text": [
      "100%|██████████| 2194/2194 [00:12<00:00, 169.87it/s]"
     ]
    },
    {
     "name": "stdout",
     "output_type": "stream",
     "text": [
      "총 2194개 파일 중 2194개가 완료되었습니다.\n"
     ]
    },
    {
     "name": "stderr",
     "output_type": "stream",
     "text": [
      "\n"
     ]
    }
   ],
   "source": [
    "# 입력 이미지 파일 경로\n",
    "input_directory = \"./data/224/train_source_gt\"\n",
    "output_directory = \"./data/224/fish_train_source_gt\"\n",
    "\n",
    "# 입력 디렉토리 내의 모든 파일에 대해 왜곡 적용 및 저장\n",
    "total_files = len([f for f in os.listdir(input_directory) if f.endswith(\".png\")])\n",
    "completed_files = 0\n",
    "\n",
    "for filename in tqdm(os.listdir(input_directory)):\n",
    "    if filename.endswith(\".png\"):  # 이미지 파일인 경우\n",
    "        input_image_path = os.path.join(input_directory, filename)\n",
    "        output_image_path = os.path.join(output_directory, filename)\n",
    "        apply_fisheye_distortion(input_image_path, output_image_path)\n",
    "        completed_files += 1\n",
    "\n",
    "print(f\"총 {completed_files}개 파일 중 {total_files}개가 완료되었습니다.\")"
   ]
  },
  {
   "cell_type": "code",
   "execution_count": 5,
   "metadata": {},
   "outputs": [
    {
     "name": "stderr",
     "output_type": "stream",
     "text": [
      "100%|██████████| 466/466 [00:03<00:00, 129.91it/s]"
     ]
    },
    {
     "name": "stdout",
     "output_type": "stream",
     "text": [
      "총 466개 파일 중 466개가 완료되었습니다.\n"
     ]
    },
    {
     "name": "stderr",
     "output_type": "stream",
     "text": [
      "\n"
     ]
    }
   ],
   "source": [
    "# 입력 이미지 파일 경로\n",
    "input_directory = \"./data/224/val_source_image\"\n",
    "output_directory = \"./data/224/fish_val_source_image\"\n",
    "\n",
    "# 입력 디렉토리 내의 모든 파일에 대해 왜곡 적용 및 저장\n",
    "total_files = len([f for f in os.listdir(input_directory) if f.endswith(\".png\")])\n",
    "completed_files = 0\n",
    "\n",
    "for filename in tqdm(os.listdir(input_directory)):\n",
    "    if filename.endswith(\".png\"):  # 이미지 파일인 경우\n",
    "        input_image_path = os.path.join(input_directory, filename)\n",
    "        output_image_path = os.path.join(output_directory, filename)\n",
    "        apply_fisheye_distortion(input_image_path, output_image_path)\n",
    "        completed_files += 1\n",
    "\n",
    "print(f\"총 {completed_files}개 파일 중 {total_files}개가 완료되었습니다.\")"
   ]
  },
  {
   "cell_type": "code",
   "execution_count": 6,
   "metadata": {},
   "outputs": [
    {
     "name": "stderr",
     "output_type": "stream",
     "text": [
      "100%|██████████| 466/466 [00:02<00:00, 188.91it/s]"
     ]
    },
    {
     "name": "stdout",
     "output_type": "stream",
     "text": [
      "총 466개 파일 중 466개가 완료되었습니다.\n"
     ]
    },
    {
     "name": "stderr",
     "output_type": "stream",
     "text": [
      "\n"
     ]
    }
   ],
   "source": [
    "# 입력 이미지 파일 경로\n",
    "input_directory = \"./data/224/val_source_gt\"\n",
    "output_directory = \"./data/224/fish_val_source_gt\"\n",
    "\n",
    "# 입력 디렉토리 내의 모든 파일에 대해 왜곡 적용 및 저장\n",
    "total_files = len([f for f in os.listdir(input_directory) if f.endswith(\".png\")])\n",
    "completed_files = 0\n",
    "\n",
    "for filename in tqdm(os.listdir(input_directory)):\n",
    "    if filename.endswith(\".png\"):  # 이미지 파일인 경우\n",
    "        input_image_path = os.path.join(input_directory, filename)\n",
    "        output_image_path = os.path.join(output_directory, filename)\n",
    "        apply_fisheye_distortion(input_image_path, output_image_path)\n",
    "        completed_files += 1\n",
    "\n",
    "print(f\"총 {completed_files}개 파일 중 {total_files}개가 완료되었습니다.\")"
   ]
  }
 ],
 "metadata": {
  "kernelspec": {
   "display_name": "hw_ilm",
   "language": "python",
   "name": "python3"
  },
  "language_info": {
   "codemirror_mode": {
    "name": "ipython",
    "version": 3
   },
   "file_extension": ".py",
   "mimetype": "text/x-python",
   "name": "python",
   "nbconvert_exporter": "python",
   "pygments_lexer": "ipython3",
   "version": "3.11.4"
  }
 },
 "nbformat": 4,
 "nbformat_minor": 2
}
