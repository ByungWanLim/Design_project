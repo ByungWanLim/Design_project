{
 "cells": [
  {
   "cell_type": "code",
   "execution_count": 5,
   "metadata": {},
   "outputs": [],
   "source": [
    "import os\n",
    "os.environ['CUDA_VISIBLE_DEVICES'] = '3'"
   ]
  },
  {
   "cell_type": "code",
   "execution_count": 12,
   "metadata": {},
   "outputs": [
    {
     "name": "stdout",
     "output_type": "stream",
     "text": [
      "No valid chessboard images found for calibration.\n"
     ]
    }
   ],
   "source": [
    "import numpy as np\n",
    "import cv2\n",
    "import pandas as pd\n",
    "import os\n",
    "\n",
    "directory_path = \"/mnt/nas27/Dataset/Samsung_DM/\"\n",
    "origin_path = \"./train_source.csv\"\n",
    "target_path = \"./train_target.csv\"\n",
    "origin_csv = pd.read_csv(os.path.join(directory_path, origin_path))\n",
    "target_csv = pd.read_csv(os.path.join(directory_path, target_path))\n",
    "\n",
    "# 체스보드의 가로, 세로 내부 코너 개수\n",
    "chessboard_size = (9, 6)\n",
    "\n",
    "# 체스보드 코너 검출을 위한 변수 설정\n",
    "criteria = (cv2.TERM_CRITERIA_EPS + cv2.TERM_CRITERIA_MAX_ITER, 30, 0.001)\n",
    "\n",
    "# 3D 체스보드 좌표 생성\n",
    "objp = np.zeros((chessboard_size[0] * chessboard_size[1], 3), np.float32)\n",
    "objp[:, :2] = np.mgrid[0:chessboard_size[0], 0:chessboard_size[1]].T.reshape(-1, 2)\n",
    "\n",
    "# 이미지와 체스보드 코너를 저장할 리스트\n",
    "images = []\n",
    "corners = []\n",
    "\n",
    "num_images = len(target_csv)  # 이미지 개수를 사용\n",
    "\n",
    "# 체스보드 이미지들을 불러와서 처리\n",
    "for idx in range(50):\n",
    "    img_path = target_csv.iloc[idx, 1]\n",
    "    img_path = os.path.join(directory_path, img_path[2:])\n",
    "\n",
    "    img = cv2.imread(img_path)\n",
    "    gray = cv2.cvtColor(img, cv2.COLOR_BGR2GRAY)\n",
    "    \n",
    "    # 체스보드 코너 검출\n",
    "    ret, corner = cv2.findChessboardCorners(gray, chessboard_size, None)\n",
    "    \n",
    "    if ret:\n",
    "        corners.append(corner)\n",
    "        images.append(gray)\n",
    "        \n",
    "        # 코너들을 더 정확하게 찾음\n",
    "        corner2 = cv2.cornerSubPix(gray, corner, (11, 11), (-1, -1), criteria)\n",
    "        \n",
    "# 카메라 캘리브레이션\n",
    "if len(corners) > 0:\n",
    "    ret, mtx, dist, rvecs, tvecs = cv2.calibrateCamera([objp]*len(corners), corners, images[0].shape[::-1], None, None)\n",
    "\n",
    "    # 내부 파라미터 (카메라 매트릭스) 출력\n",
    "    print(\"Camera matrix (Intrinsic parameters):\")\n",
    "    print(mtx)\n",
    "\n",
    "    # 왜곡 파라미터 출력\n",
    "    print(\"\\nDistortion coefficients (k1, k2, p1, p2):\")\n",
    "    print(dist)\n",
    "else:\n",
    "    print(\"No valid chessboard images found for calibration.\")\n"
   ]
  },
  {
   "cell_type": "code",
   "execution_count": null,
   "metadata": {},
   "outputs": [],
   "source": [
    "import cv2\n",
    "import numpy as np\n",
    "\n",
    "# 카메라 캘리브레이션으로 얻은 내부 파라미터 및 왜곡 파라미터\n",
    "mtx = np.array([[fx, 0, cx],\n",
    "                [0, fy, cy],\n",
    "                [0, 0, 1]], dtype=np.float64)  # 카메라 매트릭스\n",
    "dist = np.array([k1, k2, p1, p2, k3], dtype=np.float64)  # 왜곡 계수\n",
    "\n",
    "# 입력 이미지 읽기\n",
    "input_image = cv2.imread(\"input_image.jpg\")\n",
    "\n",
    "# 이미지 크기\n",
    "h, w = input_image.shape[:2]\n",
    "\n",
    "# 카메라 보정\n",
    "undistorted_image = cv2.undistort(input_image, mtx, dist)\n",
    "\n",
    "# 보정된 이미지 출력\n",
    "cv2.imshow(\"Undistorted Image\", undistorted_image)\n",
    "cv2.waitKey(0)\n",
    "cv2.destroyAllWindows()"
   ]
  }
 ],
 "metadata": {
  "kernelspec": {
   "display_name": "byungwan_resn",
   "language": "python",
   "name": "python3"
  },
  "language_info": {
   "codemirror_mode": {
    "name": "ipython",
    "version": 3
   },
   "file_extension": ".py",
   "mimetype": "text/x-python",
   "name": "python",
   "nbconvert_exporter": "python",
   "pygments_lexer": "ipython3",
   "version": "3.8.17"
  },
  "orig_nbformat": 4
 },
 "nbformat": 4,
 "nbformat_minor": 2
}
